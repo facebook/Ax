{
  "cells": [
    {
      "cell_type": "markdown",
      "metadata": {},
      "source": [
        "# BayesOpt with a synthetic function\n",
        "\n",
        "This is an example of Bayesian Optimization using `SimpleExperiment`, a subtype of `Experiment` used for experiments where parameter configurations can be evaluated synchrounously, without waiting for additional data."
      ]
    },
    {
      "cell_type": "code",
      "execution_count": 1,
      "metadata": {
        "collapsed": true
      },
      "outputs": [],
      "source": [
        "import numpy as np\n",
        "from ax import (\n",
        "    ParameterType,\n",
        "    RangeParameter,\n",
        "    SearchSpace,\n",
        "    SimpleExperiment, \n",
        "    modelbridge\n",
        ")\n",
        "from ax.plot.contour import plot_contour\n",
        "from ax.plot.trace import optimization_trace_single_method\n",
        "from ax.utils.notebook.plotting import render, init_notebook_plotting"
      ]
    },
    {
      "cell_type": "code",
      "execution_count": 2,
      "metadata": {},
      "outputs": [
        {
          "data": {
            "text/html": [
              "<script type='text/javascript'>requirejs.config({\n",
              "  paths: {\n",
              "    plotly: ['https://cdn.plot.ly/plotly-latest.min'],\n",
              "  },\n",
              "});\n",
              "if (!window.Plotly) {\n",
              "  require(['plotly'], function(plotly) {\n",
              "    window.Plotly = plotly;\n",
              "  });\n",
              "}\n",
              "// helper functions used across multiple plots\n",
              "function rgb(rgb_array) {\n",
              "  return 'rgb(' + rgb_array.join() + ')';\n",
              "}\n",
              "\n",
              "function copy_and_reverse(arr) {\n",
              "  const copy = arr.slice();\n",
              "  copy.reverse();\n",
              "  return copy;\n",
              "}\n",
              "\n",
              "function axis_range(grid, is_log) {\n",
              "  return is_log ?\n",
              "    [Math.log10(Math.min(...grid)), Math.log10(Math.max(...grid))]:\n",
              "    [Math.min(...grid), Math.max(...grid)];\n",
              "}\n",
              "\n",
              "function relativize_data(f, sd, rel, arm_data, metric) {\n",
              "  // if relative, extract status quo & compute ratio\n",
              "  const f_final = rel === true ? [] : f;\n",
              "  const sd_final = rel === true ? []: sd;\n",
              "\n",
              "  if (rel === true) {\n",
              "    const f_sq = (\n",
              "      arm_data['in_sample'][arm_data['status_quo_name']]['y'][metric]\n",
              "    );\n",
              "    const sd_sq = (\n",
              "      arm_data['in_sample'][arm_data['status_quo_name']]['se'][metric]\n",
              "    );\n",
              "\n",
              "    for (let i = 0; i < f.length; i++) {\n",
              "      res = relativize(f[i], sd[i], f_sq, sd_sq);\n",
              "      f_final.push(100 * res[0]);\n",
              "      sd_final.push(100 * res[1]);\n",
              "    }\n",
              "  }\n",
              "\n",
              "  return [f_final, sd_final];\n",
              "}\n",
              "\n",
              "function relativize(m_t, sem_t, m_c, sem_c) {\n",
              "  r_hat = (\n",
              "    (m_t - m_c) / Math.abs(m_c) -\n",
              "    Math.pow(sem_c, 2) * m_t / Math.pow(Math.abs(m_c), 3)\n",
              "  );\n",
              "  variance = (\n",
              "    (Math.pow(sem_t, 2) + Math.pow((m_t / m_c * sem_c), 2)) /\n",
              "    Math.pow(m_c, 2)\n",
              "   )\n",
              "   return [r_hat, Math.sqrt(variance)];\n",
              "}\n",
              "</script>"
            ]
          },
          "metadata": {},
          "output_type": "display_data"
        },
        {
          "name": "stderr",
          "output_type": "stream",
          "text": [
            "[INFO 03-15 19:17:58] ipy_plotting: Injecting Plotly library into cell. Do not overwrite or delete cell.\n"
          ]
        }
      ],
      "source": [
        "init_notebook_plotting()"
      ]
    },
    {
      "cell_type": "code",
      "execution_count": 3,
      "metadata": {
        "collapsed": true
      },
      "outputs": [],
      "source": [
        "def branin(x1, x2):\n",
        "    y = (x2 - 5.1 / (4 * np.pi ** 2) * x1 ** 2 + 5 * x1 / np.pi - 6) ** 2\n",
        "    y += 10 * (1 - 1 / (8 * np.pi)) * np.cos(x1) + 10\n",
        "    return y"
      ]
    },
    {
      "cell_type": "markdown",
      "metadata": {},
      "source": [
        "First, we define an evaluation function that is able to compute all the metrics needed for this experiment. This function needs to accept a set of parameter values and a weight. It should produce a dictionary of metric names to tuples of mean and standard error for those metrics."
      ]
    },
    {
      "cell_type": "code",
      "execution_count": 4,
      "metadata": {
        "collapsed": true
      },
      "outputs": [],
      "source": [
        "def branin_evaluation_function(\n",
        "    parameterization, # dict of parameter names to values of those parameters\n",
        "    weight=None, # evaluation function signature requires a weight argument\n",
        "):\n",
        "    if any(\n",
        "        param_name not in parameterization.keys() for param_name in [\"x1\", \"x2\"]\n",
        "    ):\n",
        "        raise ValueError(\"Parametrization does not contain x1 or x2\")\n",
        "    x1, x2 = parameterization[\"x1\"], parameterization[\"x2\"]\n",
        "    return {\"branin\": (branin(x1, x2), 0.0)}"
      ]
    },
    {
      "cell_type": "markdown",
      "metadata": {},
      "source": [
        "Second, we define a search space for our experiment:"
      ]
    },
    {
      "cell_type": "code",
      "execution_count": 5,
      "metadata": {
        "collapsed": true
      },
      "outputs": [],
      "source": [
        "branin_search_space = SearchSpace(\n",
        "    parameters=[\n",
        "        RangeParameter(\n",
        "            name=\"x1\", parameter_type=ParameterType.FLOAT, lower=-5, upper=10\n",
        "        ),\n",
        "        RangeParameter(\n",
        "            name=\"x2\", parameter_type=ParameterType.FLOAT, lower=0, upper=15\n",
        "        ),\n",
        "    ]\n",
        ")"
      ]
    },
    {
      "cell_type": "markdown",
      "metadata": {},
      "source": [
        "Third, we make a `SimpleExperiment` — note that the `objective_name` needs to be one of the metric names returned by the evaluation function."
      ]
    },
    {
      "cell_type": "code",
      "execution_count": 6,
      "metadata": {
        "collapsed": true
      },
      "outputs": [],
      "source": [
        "exp = SimpleExperiment(\n",
        "    name=\"test_branin\",\n",
        "    search_space=branin_search_space,\n",
        "    evaluation_function=branin_evaluation_function,\n",
        "    objective_name=\"branin\",\n",
        "    minimize=True,\n",
        ")"
      ]
    },
    {
      "cell_type": "markdown",
      "metadata": {},
      "source": [
        "By default, the objective will be maximized in optimization; to change this behavior, pass `minimize=True` to `SimpleExperiment`. It is also possible to set outcome constraints for the `SimpleExperiment` by passing a list of `OutcomeConstraint` as the `outcome_constraints` keyword argument."
      ]
    },
    {
      "cell_type": "code",
      "execution_count": 7,
      "metadata": {},
      "outputs": [
        {
          "name": "stdout",
          "output_type": "stream",
          "text": [
            "Running Sobol initialization batches...\n",
            "Running GP+EI optimization batch 1/15...\n",
            "Running GP+EI optimization batch 2/15...\n",
            "Running GP+EI optimization batch 3/15...\n",
            "Running GP+EI optimization batch 4/15...\n",
            "Running GP+EI optimization batch 5/15...\n"
          ]
        },
        {
          "name": "stderr",
          "output_type": "stream",
          "text": [
            "/data/users/kkashin/fbsource/fbcode/buck-out/dev/gen/bento/kernels/bento_kernel_ae#link-tree/gpytorch/utils/cholesky.py:41: RuntimeWarning:\n",
            "\n",
            "A not p.d., added jitter of 1e-08 to the diagonal\n",
            "\n"
          ]
        },
        {
          "name": "stdout",
          "output_type": "stream",
          "text": [
            "Running GP+EI optimization batch 6/15...\n",
            "Running GP+EI optimization batch 7/15...\n",
            "Running GP+EI optimization batch 8/15...\n",
            "Running GP+EI optimization batch 9/15...\n",
            "Running GP+EI optimization batch 10/15...\n",
            "Running GP+EI optimization batch 11/15...\n",
            "Running GP+EI optimization batch 12/15...\n",
            "Running GP+EI optimization batch 13/15...\n",
            "Running GP+EI optimization batch 14/15...\n",
            "Running GP+EI optimization batch 15/15...\n",
            "Done!\n"
          ]
        }
      ],
      "source": [
        "print(f\"Running Sobol initialization batches...\")\n",
        "# Sobol generator does not require experiment data, so we only instantiate it once.\n",
        "sobol = modelbridge.get_sobol(exp.search_space)\n",
        "for i in range(5):\n",
        "    exp.new_trial(generator_run=sobol.gen(1))\n",
        "    \n",
        "for i in range(15):\n",
        "    print(f\"Running GP+EI optimization batch {i+1}/15...\")\n",
        "    # GP+EI model requires experiment data to re-fit the GP, so we reinstantiate \n",
        "    # it with every trial, as every trial adds new data to the experiment.\n",
        "    gpei = modelbridge.get_GPEI(experiment=exp, data=exp.eval())\n",
        "    batch = exp.new_trial(generator_run=gpei.gen(1))\n",
        "    \n",
        "print(\"Done!\")"
      ]
    },
    {
      "cell_type": "markdown",
      "metadata": {},
      "source": [
        "Now we can inspect the `SimpleExperiment`'s data by calling `eval()`, which retrieves evaluation data for all batches of the experiment. Note that if using `Experiment` instead of `SimpleExperiment`, you will need to use `fetch_data()` instead of `eval()`.\n"
      ]
    },
    {
      "cell_type": "code",
      "execution_count": 8,
      "metadata": {},
      "outputs": [
        {
          "data": {
            "application/vnd.dataresource+json": {
              "data": [
                {
                  "arm_name": "0_0",
                  "index": 0,
                  "mean": 21.8819011512,
                  "metric_name": "branin",
                  "sem": 0,
                  "trial_index": 0
                },
                {
                  "arm_name": "1_0",
                  "index": 1,
                  "mean": 58.2603919621,
                  "metric_name": "branin",
                  "sem": 0,
                  "trial_index": 1
                },
                {
                  "arm_name": "2_0",
                  "index": 2,
                  "mean": 18.2916656694,
                  "metric_name": "branin",
                  "sem": 0,
                  "trial_index": 2
                },
                {
                  "arm_name": "3_0",
                  "index": 3,
                  "mean": 108.4459788039,
                  "metric_name": "branin",
                  "sem": 0,
                  "trial_index": 3
                },
                {
                  "arm_name": "4_0",
                  "index": 4,
                  "mean": 32.4569725921,
                  "metric_name": "branin",
                  "sem": 0,
                  "trial_index": 4
                },
                {
                  "arm_name": "5_0",
                  "index": 5,
                  "mean": 3.3336908724,
                  "metric_name": "branin",
                  "sem": 0,
                  "trial_index": 5
                },
                {
                  "arm_name": "6_0",
                  "index": 6,
                  "mean": 9.7527954179,
                  "metric_name": "branin",
                  "sem": 0,
                  "trial_index": 6
                },
                {
                  "arm_name": "7_0",
                  "index": 7,
                  "mean": 10.9608890357,
                  "metric_name": "branin",
                  "sem": 0,
                  "trial_index": 7
                },
                {
                  "arm_name": "8_0",
                  "index": 8,
                  "mean": 23.376577235,
                  "metric_name": "branin",
                  "sem": 0,
                  "trial_index": 8
                },
                {
                  "arm_name": "9_0",
                  "index": 9,
                  "mean": 250.7412185294,
                  "metric_name": "branin",
                  "sem": 0,
                  "trial_index": 9
                },
                {
                  "arm_name": "10_0",
                  "index": 10,
                  "mean": 21.8461191308,
                  "metric_name": "branin",
                  "sem": 0,
                  "trial_index": 10
                },
                {
                  "arm_name": "11_0",
                  "index": 11,
                  "mean": 15.8124710697,
                  "metric_name": "branin",
                  "sem": 0,
                  "trial_index": 11
                },
                {
                  "arm_name": "12_0",
                  "index": 12,
                  "mean": 10.2335141503,
                  "metric_name": "branin",
                  "sem": 0,
                  "trial_index": 12
                },
                {
                  "arm_name": "13_0",
                  "index": 13,
                  "mean": 3.6449915679,
                  "metric_name": "branin",
                  "sem": 0,
                  "trial_index": 13
                },
                {
                  "arm_name": "14_0",
                  "index": 14,
                  "mean": 17.5082995158,
                  "metric_name": "branin",
                  "sem": 0,
                  "trial_index": 14
                },
                {
                  "arm_name": "15_0",
                  "index": 15,
                  "mean": 37.1213763829,
                  "metric_name": "branin",
                  "sem": 0,
                  "trial_index": 15
                },
                {
                  "arm_name": "16_0",
                  "index": 16,
                  "mean": 0.8303975793,
                  "metric_name": "branin",
                  "sem": 0,
                  "trial_index": 16
                },
                {
                  "arm_name": "17_0",
                  "index": 17,
                  "mean": 4.7791991427,
                  "metric_name": "branin",
                  "sem": 0,
                  "trial_index": 17
                },
                {
                  "arm_name": "18_0",
                  "index": 18,
                  "mean": 20.802806871,
                  "metric_name": "branin",
                  "sem": 0,
                  "trial_index": 18
                },
                {
                  "arm_name": "19_0",
                  "index": 19,
                  "mean": 0.9683373266,
                  "metric_name": "branin",
                  "sem": 0,
                  "trial_index": 19
                }
              ],
              "schema": {
                "fields": [
                  {
                    "name": "index",
                    "type": "integer"
                  },
                  {
                    "name": "arm_name",
                    "type": "string"
                  },
                  {
                    "name": "mean",
                    "type": "number"
                  },
                  {
                    "name": "metric_name",
                    "type": "string"
                  },
                  {
                    "name": "sem",
                    "type": "number"
                  },
                  {
                    "name": "trial_index",
                    "type": "integer"
                  }
                ],
                "pandas_version": "0.20.0",
                "primaryKey": [
                  "index"
                ]
              }
            },
            "text/html": [
              "<div>\n",
              "<style scoped>\n",
              "    .dataframe tbody tr th:only-of-type {\n",
              "        vertical-align: middle;\n",
              "    }\n",
              "\n",
              "    .dataframe tbody tr th {\n",
              "        vertical-align: top;\n",
              "    }\n",
              "\n",
              "    .dataframe thead th {\n",
              "        text-align: right;\n",
              "    }\n",
              "</style>\n",
              "<table border=\"1\" class=\"dataframe\">\n",
              "  <thead>\n",
              "    <tr style=\"text-align: right;\">\n",
              "      <th></th>\n",
              "      <th>arm_name</th>\n",
              "      <th>mean</th>\n",
              "      <th>metric_name</th>\n",
              "      <th>sem</th>\n",
              "      <th>trial_index</th>\n",
              "    </tr>\n",
              "  </thead>\n",
              "  <tbody>\n",
              "    <tr>\n",
              "      <th>0</th>\n",
              "      <td>0_0</td>\n",
              "      <td>21.881901</td>\n",
              "      <td>branin</td>\n",
              "      <td>0.0</td>\n",
              "      <td>0</td>\n",
              "    </tr>\n",
              "    <tr>\n",
              "      <th>1</th>\n",
              "      <td>1_0</td>\n",
              "      <td>58.260392</td>\n",
              "      <td>branin</td>\n",
              "      <td>0.0</td>\n",
              "      <td>1</td>\n",
              "    </tr>\n",
              "    <tr>\n",
              "      <th>2</th>\n",
              "      <td>2_0</td>\n",
              "      <td>18.291666</td>\n",
              "      <td>branin</td>\n",
              "      <td>0.0</td>\n",
              "      <td>2</td>\n",
              "    </tr>\n",
              "    <tr>\n",
              "      <th>3</th>\n",
              "      <td>3_0</td>\n",
              "      <td>108.445979</td>\n",
              "      <td>branin</td>\n",
              "      <td>0.0</td>\n",
              "      <td>3</td>\n",
              "    </tr>\n",
              "    <tr>\n",
              "      <th>4</th>\n",
              "      <td>4_0</td>\n",
              "      <td>32.456973</td>\n",
              "      <td>branin</td>\n",
              "      <td>0.0</td>\n",
              "      <td>4</td>\n",
              "    </tr>\n",
              "    <tr>\n",
              "      <th>5</th>\n",
              "      <td>5_0</td>\n",
              "      <td>3.333691</td>\n",
              "      <td>branin</td>\n",
              "      <td>0.0</td>\n",
              "      <td>5</td>\n",
              "    </tr>\n",
              "    <tr>\n",
              "      <th>6</th>\n",
              "      <td>6_0</td>\n",
              "      <td>9.752795</td>\n",
              "      <td>branin</td>\n",
              "      <td>0.0</td>\n",
              "      <td>6</td>\n",
              "    </tr>\n",
              "    <tr>\n",
              "      <th>7</th>\n",
              "      <td>7_0</td>\n",
              "      <td>10.960889</td>\n",
              "      <td>branin</td>\n",
              "      <td>0.0</td>\n",
              "      <td>7</td>\n",
              "    </tr>\n",
              "    <tr>\n",
              "      <th>8</th>\n",
              "      <td>8_0</td>\n",
              "      <td>23.376577</td>\n",
              "      <td>branin</td>\n",
              "      <td>0.0</td>\n",
              "      <td>8</td>\n",
              "    </tr>\n",
              "    <tr>\n",
              "      <th>9</th>\n",
              "      <td>9_0</td>\n",
              "      <td>250.741219</td>\n",
              "      <td>branin</td>\n",
              "      <td>0.0</td>\n",
              "      <td>9</td>\n",
              "    </tr>\n",
              "    <tr>\n",
              "      <th>10</th>\n",
              "      <td>10_0</td>\n",
              "      <td>21.846119</td>\n",
              "      <td>branin</td>\n",
              "      <td>0.0</td>\n",
              "      <td>10</td>\n",
              "    </tr>\n",
              "    <tr>\n",
              "      <th>11</th>\n",
              "      <td>11_0</td>\n",
              "      <td>15.812471</td>\n",
              "      <td>branin</td>\n",
              "      <td>0.0</td>\n",
              "      <td>11</td>\n",
              "    </tr>\n",
              "    <tr>\n",
              "      <th>12</th>\n",
              "      <td>12_0</td>\n",
              "      <td>10.233514</td>\n",
              "      <td>branin</td>\n",
              "      <td>0.0</td>\n",
              "      <td>12</td>\n",
              "    </tr>\n",
              "    <tr>\n",
              "      <th>13</th>\n",
              "      <td>13_0</td>\n",
              "      <td>3.644992</td>\n",
              "      <td>branin</td>\n",
              "      <td>0.0</td>\n",
              "      <td>13</td>\n",
              "    </tr>\n",
              "    <tr>\n",
              "      <th>14</th>\n",
              "      <td>14_0</td>\n",
              "      <td>17.508300</td>\n",
              "      <td>branin</td>\n",
              "      <td>0.0</td>\n",
              "      <td>14</td>\n",
              "    </tr>\n",
              "    <tr>\n",
              "      <th>15</th>\n",
              "      <td>15_0</td>\n",
              "      <td>37.121376</td>\n",
              "      <td>branin</td>\n",
              "      <td>0.0</td>\n",
              "      <td>15</td>\n",
              "    </tr>\n",
              "    <tr>\n",
              "      <th>16</th>\n",
              "      <td>16_0</td>\n",
              "      <td>0.830398</td>\n",
              "      <td>branin</td>\n",
              "      <td>0.0</td>\n",
              "      <td>16</td>\n",
              "    </tr>\n",
              "    <tr>\n",
              "      <th>17</th>\n",
              "      <td>17_0</td>\n",
              "      <td>4.779199</td>\n",
              "      <td>branin</td>\n",
              "      <td>0.0</td>\n",
              "      <td>17</td>\n",
              "    </tr>\n",
              "    <tr>\n",
              "      <th>18</th>\n",
              "      <td>18_0</td>\n",
              "      <td>20.802807</td>\n",
              "      <td>branin</td>\n",
              "      <td>0.0</td>\n",
              "      <td>18</td>\n",
              "    </tr>\n",
              "    <tr>\n",
              "      <th>19</th>\n",
              "      <td>19_0</td>\n",
              "      <td>0.968337</td>\n",
              "      <td>branin</td>\n",
              "      <td>0.0</td>\n",
              "      <td>19</td>\n",
              "    </tr>\n",
              "  </tbody>\n",
              "</table>\n",
              "</div>"
            ],
            "text/plain": [
              "   arm_name        mean metric_name  sem  trial_index\n",
              "0       0_0   21.881901      branin  0.0            0\n",
              "1       1_0   58.260392      branin  0.0            1\n",
              "2       2_0   18.291666      branin  0.0            2\n",
              "3       3_0  108.445979      branin  0.0            3\n",
              "4       4_0   32.456973      branin  0.0            4\n",
              "5       5_0    3.333691      branin  0.0            5\n",
              "6       6_0    9.752795      branin  0.0            6\n",
              "7       7_0   10.960889      branin  0.0            7\n",
              "8       8_0   23.376577      branin  0.0            8\n",
              "9       9_0  250.741219      branin  0.0            9\n",
              "10     10_0   21.846119      branin  0.0           10\n",
              "11     11_0   15.812471      branin  0.0           11\n",
              "12     12_0   10.233514      branin  0.0           12\n",
              "13     13_0    3.644992      branin  0.0           13\n",
              "14     14_0   17.508300      branin  0.0           14\n",
              "15     15_0   37.121376      branin  0.0           15\n",
              "16     16_0    0.830398      branin  0.0           16\n",
              "17     17_0    4.779199      branin  0.0           17\n",
              "18     18_0   20.802807      branin  0.0           18\n",
              "19     19_0    0.968337      branin  0.0           19"
            ]
          },
          "execution_count": 8,
          "metadata": {
            "bento_obj_id": "140274220917760"
          },
          "output_type": "execute_result"
        }
      ],
      "source": [
        "exp.eval().df"
      ]
    },
    {
      "cell_type": "markdown",
      "metadata": {},
      "source": [
        "We can also use the `eval_trial` function to get evaluation data for a specific trial in the experiment, like so:"
      ]
    },
    {
      "cell_type": "code",
      "execution_count": 9,
      "metadata": {},
      "outputs": [
        {
          "data": {
            "application/vnd.dataresource+json": {
              "data": [
                {
                  "arm_name": "1_0",
                  "index": 0,
                  "mean": 58.2603919621,
                  "metric_name": "branin",
                  "sem": 0,
                  "trial_index": 1
                }
              ],
              "schema": {
                "fields": [
                  {
                    "name": "index",
                    "type": "integer"
                  },
                  {
                    "name": "arm_name",
                    "type": "string"
                  },
                  {
                    "name": "mean",
                    "type": "number"
                  },
                  {
                    "name": "metric_name",
                    "type": "string"
                  },
                  {
                    "name": "sem",
                    "type": "number"
                  },
                  {
                    "name": "trial_index",
                    "type": "integer"
                  }
                ],
                "pandas_version": "0.20.0",
                "primaryKey": [
                  "index"
                ]
              }
            },
            "text/html": [
              "<div>\n",
              "<style scoped>\n",
              "    .dataframe tbody tr th:only-of-type {\n",
              "        vertical-align: middle;\n",
              "    }\n",
              "\n",
              "    .dataframe tbody tr th {\n",
              "        vertical-align: top;\n",
              "    }\n",
              "\n",
              "    .dataframe thead th {\n",
              "        text-align: right;\n",
              "    }\n",
              "</style>\n",
              "<table border=\"1\" class=\"dataframe\">\n",
              "  <thead>\n",
              "    <tr style=\"text-align: right;\">\n",
              "      <th></th>\n",
              "      <th>arm_name</th>\n",
              "      <th>mean</th>\n",
              "      <th>metric_name</th>\n",
              "      <th>sem</th>\n",
              "      <th>trial_index</th>\n",
              "    </tr>\n",
              "  </thead>\n",
              "  <tbody>\n",
              "    <tr>\n",
              "      <th>0</th>\n",
              "      <td>1_0</td>\n",
              "      <td>58.260392</td>\n",
              "      <td>branin</td>\n",
              "      <td>0.0</td>\n",
              "      <td>1</td>\n",
              "    </tr>\n",
              "  </tbody>\n",
              "</table>\n",
              "</div>"
            ],
            "text/plain": [
              "  arm_name       mean metric_name  sem  trial_index\n",
              "0      1_0  58.260392      branin  0.0            1"
            ]
          },
          "execution_count": 9,
          "metadata": {
            "bento_obj_id": "140274438579984"
          },
          "output_type": "execute_result"
        }
      ],
      "source": [
        "trial_data = exp.eval_trial(exp.trials[1])\n",
        "trial_data.df"
      ]
    },
    {
      "cell_type": "markdown",
      "metadata": {},
      "source": [
        "Now we can plot the results of our optimization:"
      ]
    },
    {
      "cell_type": "code",
      "execution_count": 10,
      "metadata": {},
      "outputs": [
        {
          "data": {
            "text/html": [
              "<div id=\"f2706f66f9444e689b4ecb9aa4088004\" style=\"width: 100%;\" class=\"plotly-graph-div\"></div><script type='text/javascript'>require(['plotly'], function(Plotly) {\n",
              "  window.PLOTLYENV = window.PLOTLYENV || {};\n",
              "  window.PLOTLYENV.BASE_URL = 'https://plot.ly';\n",
              "  const arm_data = {\"metrics\": [\"branin\"], \"in_sample\": {\"0_0\": {\"name\": \"0_0\", \"parameters\": {\"x1\": 1.2366500496864319, \"x2\": 1.2742473185062408}, \"y\": {\"branin\": 21.881901151163497}, \"y_hat\": {\"branin\": 21.881880380747553}, \"se\": {\"branin\": 0.0}, \"se_hat\": {\"branin\": 0.018573213033750337}, \"context_stratum\": null}, \"10_0\": {\"name\": \"10_0\", \"parameters\": {\"x1\": -0.13012935017212257, \"x2\": 7.734152630363699}, \"y\": {\"branin\": 21.84611913081319}, \"y_hat\": {\"branin\": 21.846089586551813}, \"se\": {\"branin\": 0.0}, \"se_hat\": {\"branin\": 0.01857319989140036}, \"context_stratum\": null}, \"11_0\": {\"name\": \"11_0\", \"parameters\": {\"x1\": 0.9268010572810477, \"x2\": 4.418180418531507}, \"y\": {\"branin\": 15.81247106967374}, \"y_hat\": {\"branin\": 15.81248968460529}, \"se\": {\"branin\": 0.0}, \"se_hat\": {\"branin\": 0.018573190062955828}, \"context_stratum\": null}, \"12_0\": {\"name\": \"12_0\", \"parameters\": {\"x1\": 4.517565381212242, \"x2\": 0.0}, \"y\": {\"branin\": 10.233514150280566}, \"y_hat\": {\"branin\": 10.233561600494824}, \"se\": {\"branin\": 0.0}, \"se_hat\": {\"branin\": 0.01857320912503515}, \"context_stratum\": null}, \"13_0\": {\"name\": \"13_0\", \"parameters\": {\"x1\": -3.708636043510312, \"x2\": 15.0}, \"y\": {\"branin\": 3.644991567925246}, \"y_hat\": {\"branin\": 3.645059655718484}, \"se\": {\"branin\": 0.0}, \"se_hat\": {\"branin\": 0.018573138701931505}, \"context_stratum\": null}, \"14_0\": {\"name\": \"14_0\", \"parameters\": {\"x1\": -5.0, \"x2\": 15.0}, \"y\": {\"branin\": 17.508299515778162}, \"y_hat\": {\"branin\": 17.508260945204334}, \"se\": {\"branin\": 0.0}, \"se_hat\": {\"branin\": 0.018573208945649653}, \"context_stratum\": null}, \"15_0\": {\"name\": \"15_0\", \"parameters\": {\"x1\": -1.9040966053310031, \"x2\": 15.0}, \"y\": {\"branin\": 37.12137638287054}, \"y_hat\": {\"branin\": 37.121329545472435}, \"se\": {\"branin\": 0.0}, \"se_hat\": {\"branin\": 0.018573218103749244}, \"context_stratum\": null}, \"16_0\": {\"name\": \"16_0\", \"parameters\": {\"x1\": -3.3983693301730677, \"x2\": 12.557551460451423}, \"y\": {\"branin\": 0.8303975792983186}, \"y_hat\": {\"branin\": 0.8304161800638852}, \"se\": {\"branin\": 0.0}, \"se_hat\": {\"branin\": 0.01857315615903089}, \"context_stratum\": null}, \"17_0\": {\"name\": \"17_0\", \"parameters\": {\"x1\": -2.2453291512286886, \"x2\": 9.34391034127665}, \"y\": {\"branin\": 4.77919914269783}, \"y_hat\": {\"branin\": 4.779210834405198}, \"se\": {\"branin\": 0.0}, \"se_hat\": {\"branin\": 0.01857318497406656}, \"context_stratum\": null}, \"18_0\": {\"name\": \"18_0\", \"parameters\": {\"x1\": 6.244885570606321, \"x2\": 0.0}, \"y\": {\"branin\": 20.80280687102555}, \"y_hat\": {\"branin\": 20.802734376253603}, \"se\": {\"branin\": 0.0}, \"se_hat\": {\"branin\": 0.018573173965444185}, \"context_stratum\": null}, \"1_0\": {\"name\": \"1_0\", \"parameters\": {\"x1\": -4.394214935600758, \"x2\": 8.328144550323486}, \"y\": {\"branin\": 58.260391962077335}, \"y_hat\": {\"branin\": 58.26038105058548}, \"se\": {\"branin\": 0.0}, \"se_hat\": {\"branin\": 0.018573221965255862}, \"context_stratum\": null}, \"2_0\": {\"name\": \"2_0\", \"parameters\": {\"x1\": 9.833614528179169, \"x2\": 6.976961195468903}, \"y\": {\"branin\": 18.29166566939947}, \"y_hat\": {\"branin\": 18.29166881557916}, \"se\": {\"branin\": 0.0}, \"se_hat\": {\"branin\": 0.018573211183247597}, \"context_stratum\": null}, \"3_0\": {\"name\": \"3_0\", \"parameters\": {\"x1\": 6.421416401863098, \"x2\": 10.537428259849548}, \"y\": {\"branin\": 108.44597880394821}, \"y_hat\": {\"branin\": 108.4459577992648}, \"se\": {\"branin\": 0.0}, \"se_hat\": {\"branin\": 0.018573231519884926}, \"context_stratum\": null}, \"4_0\": {\"name\": \"4_0\", \"parameters\": {\"x1\": -1.860806941986084, \"x2\": 4.388640224933624}, \"y\": {\"branin\": 32.45697259210357}, \"y_hat\": {\"branin\": 32.45703208686497}, \"se\": {\"branin\": 0.0}, \"se_hat\": {\"branin\": 0.018573220076988667}, \"context_stratum\": null}, \"5_0\": {\"name\": \"5_0\", \"parameters\": {\"x1\": 10.0, \"x2\": 4.1821725351697685}, \"y\": {\"branin\": 3.333690872360296}, \"y_hat\": {\"branin\": 3.333704355951056}, \"se\": {\"branin\": 0.0}, \"se_hat\": {\"branin\": 0.018573189619212293}, \"context_stratum\": null}, \"6_0\": {\"name\": \"6_0\", \"parameters\": {\"x1\": 8.154926543655662, \"x2\": 0.0}, \"y\": {\"branin\": 9.752795417908507}, \"y_hat\": {\"branin\": 9.752839431648837}, \"se\": {\"branin\": 0.0}, \"se_hat\": {\"branin\": 0.01857319330133918}, \"context_stratum\": null}, \"7_0\": {\"name\": \"7_0\", \"parameters\": {\"x1\": 10.0, \"x2\": 0.0}, \"y\": {\"branin\": 10.960889035651515}, \"y_hat\": {\"branin\": 10.960865574779056}, \"se\": {\"branin\": 0.0}, \"se_hat\": {\"branin\": 0.01857321389291226}, \"context_stratum\": null}, \"8_0\": {\"name\": \"8_0\", \"parameters\": {\"x1\": 6.638596867362709, \"x2\": 3.219177289221169}, \"y\": {\"branin\": 23.376577234969716}, \"y_hat\": {\"branin\": 23.376596487928758}, \"se\": {\"branin\": 0.0}, \"se_hat\": {\"branin\": 0.01857321722570484}, \"context_stratum\": null}, \"9_0\": {\"name\": \"9_0\", \"parameters\": {\"x1\": -4.435284312114634, \"x2\": 0.0}, \"y\": {\"branin\": 250.74121852941053}, \"y_hat\": {\"branin\": 250.74116140919898}, \"se\": {\"branin\": 0.0}, \"se_hat\": {\"branin\": 0.01857323222798471}, \"context_stratum\": null}}, \"out_of_sample\": {}, \"status_quo_name\": null};\n",
              "const density = 50;\n",
              "const grid_x = [-5.0, -4.6938775510204085, -4.387755102040816, -4.081632653061225, -3.7755102040816326, -3.4693877551020407, -3.163265306122449, -2.857142857142857, -2.5510204081632653, -2.2448979591836733, -1.9387755102040813, -1.6326530612244898, -1.3265306122448979, -1.020408163265306, -0.7142857142857144, -0.408163265306122, -0.1020408163265305, 0.204081632653061, 0.5102040816326534, 0.8163265306122449, 1.1224489795918373, 1.4285714285714288, 1.7346938775510203, 2.0408163265306127, 2.3469387755102042, 2.6530612244897958, 2.959183673469388, 3.2653061224489797, 3.571428571428571, 3.8775510204081627, 4.183673469387756, 4.4897959183673475, 4.795918367346939, 5.1020408163265305, 5.408163265306122, 5.714285714285715, 6.020408163265307, 6.326530612244898, 6.63265306122449, 6.938775510204081, 7.244897959183675, 7.551020408163266, 7.857142857142858, 8.16326530612245, 8.46938775510204, 8.775510204081632, 9.081632653061225, 9.387755102040817, 9.693877551020408, 10.0];\n",
              "const grid_y = [0.0, 0.30612244897959184, 0.6122448979591837, 0.9183673469387755, 1.2244897959183674, 1.5306122448979593, 1.836734693877551, 2.142857142857143, 2.4489795918367347, 2.7551020408163267, 3.0612244897959187, 3.36734693877551, 3.673469387755102, 3.979591836734694, 4.285714285714286, 4.591836734693878, 4.8979591836734695, 5.204081632653061, 5.510204081632653, 5.816326530612245, 6.122448979591837, 6.428571428571429, 6.73469387755102, 7.040816326530613, 7.346938775510204, 7.653061224489796, 7.959183673469388, 8.26530612244898, 8.571428571428571, 8.877551020408163, 9.183673469387756, 9.489795918367347, 9.795918367346939, 10.10204081632653, 10.408163265306122, 10.714285714285715, 11.020408163265307, 11.326530612244898, 11.63265306122449, 11.938775510204081, 12.244897959183675, 12.551020408163266, 12.857142857142858, 13.16326530612245, 13.46938775510204, 13.775510204081632, 14.081632653061225, 14.387755102040817, 14.693877551020408, 15.0];\n",
              "const f = [266.83750352932987, 259.1594177645519, 249.00713109207499, 236.54326775487266, 222.0998183914761, 206.1316712063716, 189.1599017890411, 171.72424962482592, 154.3433246052106, 137.48170353628723, 121.52423887432604, 106.75876761805726, 93.36849326815707, 81.43435125977956, 70.94604426210532, 61.81906369474335, 53.914624940422236, 47.060076516902996, 41.0685450766385, 35.75782756065592, 30.969310083894715, 26.586760888116338, 22.550108525556887, 18.856258812925688, 15.548433695553001, 12.702205747817622, 10.411815040943548, 8.776571322091904, 7.886265614694413, 7.804401111398128, 8.547984847118311, 10.06248426427554, 12.190955825697522, 14.656376281751747, 17.099942464638655, 19.143371721531402, 20.450688483641663, 20.792801546454285, 20.115364720829206, 18.558295362423916, 16.396353610930486, 13.97221853839385, 11.639112062780267, 9.70770677866198, 8.393044878903975, 7.78113418459839, 7.84838213887403, 8.496769446264441, 9.585450190584488, 10.960865574779337, 262.4336643226657, 254.44573615490242, 243.997023468819, 231.25871308775356, 216.5704370826482, 200.39571358141012, 183.26533856171562, 165.72919649007474, 148.31545628232232, 131.49632158050832, 115.66083750372054, 101.09634857489864, 87.98038789028877, 76.38360243256656, 66.28223845401826, 57.57697313979651, 50.114448288608365, 43.708705102093404, 38.16118842124817, 33.279478647155145, 28.895979854025864, 24.88734814466602, 21.189769298590154, 17.799227523023482, 14.758923830625847, 12.144499180453202, 10.050246776698827, 8.57555247166426, 7.810350739735192, 7.818396684249688, 8.617107755685069, 10.152593008528964, 12.269361816117737, 14.694430954288901, 17.074415201354782, 19.037152596383734, 20.253429852367034, 20.50121594156635, 19.731254241055474, 18.084619156447783, 15.835654423823456, 13.325728872946964, 10.906474825889209, 8.88729399299033, 7.483233640390466, 6.783038391340984, 6.766985800392828, 7.341231209866759, 8.368989565249397, 9.70018455586554, 257.50456643289743, 249.20242312904224, 238.4640516408108, 225.4701951275082, 210.5658614974302, 194.22019695165284, 176.97127675133748, 159.37731160962318, 141.974764522523, 125.24261869547412, 109.5734658156019, 95.25346988050187, 82.45362195045783, 71.23328386521861, 61.55434304399805, 53.30209660271109, 46.308539640179674, 40.37486655410349, 35.29177201907215, 30.857855209447912, 26.89774072573447, 23.28169709300504, 19.942497128564895, 16.875052986181654, 14.121907040936406, 11.757962704236025, 9.876697915804911, 8.576625340744641, 7.946739839934143, 8.049773464694514, 8.902039262335887, 10.448600368384056, 12.534751101207316, 14.893895849016118, 17.18202558912294, 19.03729661645164, 20.141695799981818, 20.284628719381864, 19.42338468359641, 17.697183750023946, 15.375761556175899, 12.79514647274863, 10.301601530283822, 8.199800020834488, 6.7028729057181735, 5.903401676700671, 5.787923439839545, 6.269229490815235, 7.217035588108008, 8.487108244075188, 252.0792205815073, 243.46192031378365, 232.4433925076233, 219.21424833474788, 204.12351404843076, 187.6433973208746, 170.3168143005101, 152.70839115464332, 135.3615251390674, 118.76107032588475, 103.3024914707816, 89.27005838543342, 76.82729522208733, 66.02121303524827, 56.79839332316246, 49.028192511076554, 42.52793917649377, 37.086531746036634, 32.48497336070866, 28.51430849111869, 24.992907770291225, 21.78570550203857, 18.822382669574942, 16.096359565395844, 13.648717172989642, 11.55277650100161, 9.900338711976747, 8.788112625098531, 8.30309189365515, 8.505744540228175, 9.409870880676898, 10.958262703960006, 12.9970714456114, 15.267806468706244, 17.439149290337525, 19.163509892153073, 20.138130563158548, 20.167078459977198, 19.215036800907036, 17.417650852672708, 15.036424622518531, 12.398167666484987, 9.840169075017869, 7.659472033059281, 6.066024135539045, 5.156698600593174, 4.926208650637527, 5.296320567540132, 6.1456067410763495, 7.337767298290071, 246.1930471551088, 237.26343841573527, 225.97705184003019, 212.5342766036622, 197.28737482617026, 180.70967146198961, 163.34664767485327, 145.76738849335868, 128.52076760158604, 112.0965241010448, 96.89228565085506, 83.1896866784931, 71.14380490672983, 60.788168386858956, 52.05307417135285, 44.79140194866801, 38.8058601437692, 33.873689275007074, 29.767361036633293, 26.271921490587115, 23.201254390316382, 20.416443764866166, 17.844339201589847, 15.476118754691171, 13.350514263146525, 11.538426969431072, 10.129147775820122, 9.216684466746372, 8.885013952106974, 9.191193851182696, 10.145358032627925, 11.687401528252877, 13.664864956600297, 15.828682878932245, 17.862779830903037, 19.437190457843208, 20.26771357210491, 20.175135041358935, 19.132011723816255, 17.269597444720404, 14.838414069163981, 12.152604001151957, 9.53730274986794, 7.279711300539862, 5.585746054861428, 4.5566294733034525, 4.196562168956106, 4.438311367680665, 5.171426225427748, 6.269277329454685, 239.88659820237734, 230.65135651388562, 219.11218683073957, 205.47895826823924, 190.10668181643348, 173.46841637059322, 156.1102153651224, 138.60368979420423, 121.50164789847919, 105.29764179342034, 90.39070981744132, 77.05908563447593, 65.44837058767516, 55.57742130197647, 47.359265574682524, 40.62982578093325, 35.177323277845986, 30.768068578566037, 27.16724819202126, 24.155553292044253, 21.54426222077114, 19.19241639854487, 17.02422718743922, 15.027684241262119, 13.238287979292188, 11.72371811973661, 10.56996353910429, 9.867484396997462, 9.69630686209235, 10.109098719062171, 11.111526873629977, 12.64048516689807, 14.545658454764027, 16.588468902295165, 18.469929174520512, 19.880265061393573, 20.55616097370502, 20.336232767844947, 19.201159009188025, 17.277514110323985, 14.802974334103528, 12.076258112305645, 9.407818345044095, 7.073454825930892, 5.274465104209181, 4.116267938992301, 3.613313807629204, 3.7109347734758664, 4.311402951214223, 5.299147623734207, 233.20424587806946, 223.67375143515625, 211.89959274956703, 198.10071504452912, 182.6345318998421, 165.97286665247515, 148.6606694834012, 131.27022569954482, 114.35667084551095, 98.4162037919343, 83.84847422558424, 70.927533159001, 59.78843534698578, 50.434141552144354, 42.759458709663, 36.582969063329585, 31.67865166167925, 27.80270770773068, 24.71435902532672, 22.19165149652474, 20.04517636755, 18.13361143030853, 16.37878885212378, 14.76470321580036, 13.32278925699633, 12.116750217017586, 11.228532789147806, 10.744272177587114, 10.739227518708894, 11.260916951675608, 12.310105850022005, 13.8209531980091, 15.646117348824799, 17.55835615320306, 19.27699126480587, 20.51411186672319, 21.028617636638522, 20.677321254403545, 19.449077208080038, 17.465789837951817, 14.951192802850262, 12.186661605680722, 9.466217838488589, 7.053281992203914, 5.14413530173184, 3.848129467250299, 3.1902859321081465, 3.1295453094150147, 3.5821972263340847, 4.444793607309151, 226.1929445394577, 216.38107654305787, 204.39233933046518, 190.45430039031442, 174.92649460998302, 158.27881791185644, 141.05373046990607, 123.82244993422279, 107.14077774986313, 91.50628371071235, 77.31837099087019, 64.84611866958772, 54.21294025281118, 45.4046725415238, 38.29703951345104, 32.69105007802737, 28.34682144445093, 25.011354010015392, 22.439274320592084, 20.407715173512685, 18.728417147744185, 17.261005923843054, 15.925304568367604, 14.700871863453372, 13.61437185001651, 12.724848312082106, 12.109532405899749, 11.84954573558889, 12.014709088799385, 12.646869402894385, 13.741773455783996, 15.23133870191106, 16.972004790091287, 18.74849826131219, 20.299120010599246, 21.358639928323385, 21.70859925290952, 21.223768635782434, 19.90102297947304, 17.85776485915522, 15.303316661785011, 12.500666723002649, 9.726470006143128, 7.231303744368759, 5.206198976339749, 3.764119845790855, 2.9406376596931807, 2.708840358810214, 2.9998596598263276, 3.7231287954962546, 218.9011060799947, 208.82498336791713, 196.64454593007093, 182.59551332360053, 167.03929240648085, 150.44333934465766, 133.34647341884792, 116.31721517594976, 99.91031581211226, 84.62330143674123, 70.85438546740369, 58.86688406651115, 48.77147124971697, 40.535676284140365, 34.01544305697998, 28.994180773584763, 25.21867772022427, 22.42771057303525, 20.372680018521663, 18.831478696392317, 17.61863316127689, 16.595728685410048, 15.68101687516858, 14.849546717017471, 14.122744028588766, 13.55443321678667, 13.216548453844798, 13.184616761345218, 13.522508120901847, 14.266102773017344, 15.406254057677906, 16.873242515129924, 18.5280103315492, 20.16765814341354, 21.549652853958605, 22.431521714641725, 22.617125771466682, 21.9984534270417, 20.579991382779586, 18.474867946727453, 15.878045370332082, 13.03392817914273, 10.201638336196606, 7.618894065492, 5.471393987072453, 3.8753697236119145, 2.876661064699114, 2.4625938250669392, 2.579517463599082, 3.150212764652757, 211.37759886686445, 201.05727802764716, 188.71028779451785, 174.5800354601605, 159.02957139764754, 142.52351753498334, 125.59608595341602, 108.81157398783094, 92.72190434728009, 77.82296205364824, 64.51068960932649, 53.04184248678466, 43.513279160410136, 35.8731526625869, 29.95719012311722, 25.53143621711449, 22.330038922401258, 20.084562965447304, 18.544486126184665, 17.489984387763474, 16.739768278651027, 16.158202721071564, 15.66244741643046, 15.223258314497617, 14.856648008937889, 14.61083845367585, 14.55200701258224, 14.74962905305917, 15.261271068547558, 16.11674526774512, 17.30230041194539, 18.747209197256094, 20.317506521462654, 21.822836096599037, 23.03959970232078, 23.747559652035008, 23.77199945521248, 23.020988255757622, 21.505916948116983, 19.33582390393327, 16.6918238187614, 13.800328180979271, 10.903421354822072, 8.226322212855525, 5.949457302761562, 4.1919814423254955, 3.0095310340691555, 2.4033870046603667, 2.335084424683785, 2.7409340001847653, 203.6708701939985, 193.12900603305093, 180.64262878746797, 166.46239001201639, 150.95277531638763, 134.57526089610099, 117.85863162671714, 101.36153118895533, 85.63121148043544, 71.16008605272924, 58.340519904814414, 47.42187592938966, 38.48617527983543, 31.461343927371622, 26.162827600553506, 22.339842315654387, 19.71472501261872, 18.012832405713198, 16.982888354397307, 16.408653082173043, 16.114188852564407, 15.967342438326998, 15.884703109830454, 15.833182265396715, 15.823495166972986, 15.898085965223558, 16.117060961459035, 16.543521443562845, 17.228528523452752, 18.19587893262505, 19.427599887876042, 20.852547668927542, 22.342280741791747, 23.718918721105755, 24.777213199580977, 25.318177660605834, 25.18720536893867, 24.307032404947677, 22.694948635278514, 20.455912377218578, 17.75816821287025, 14.811402666936377, 11.841666667128433, 9.062340026075304, 6.648771968421176, 4.722720089828833, 3.3490178204207197, 2.542326257395196, 2.2789760514690727, 2.508709578753134, 195.82818900385354, 185.0896608908928, 172.49277850093716, 158.2950242504419, 142.86213349113888, 126.65218956295257, 110.18785187109934, 94.02077684129324, 78.69165610191129, 64.68733376970111, 52.39494049163737, 42.05551188344041, 33.73530791612764, 27.341545420639417, 22.669807319748088, 19.4533231665821, 17.403553922958068, 16.240603507424826, 15.713426545573263, 15.610393496259562, 15.761868072774668, 16.03980739442454, 16.360816333240876, 16.688613185587116, 17.028988012915775, 17.41863942255587, 17.911444594337905, 18.563946319015848, 19.420634082339383, 20.49945528224684, 21.77863715776581, 23.187131706686554, 24.60227812570671, 25.858378449855028, 26.767655275433356, 27.151044413927185, 26.872448029416816, 25.867688275825337, 24.15875932184077, 21.846287496677924, 19.087078006930522, 16.0758279043106, 13.023913166764054, 10.13377206493989, 7.575999344973901, 5.474680770816757, 3.9031767570933233, 2.888743681570496, 2.4218165902969844, 2.465186862349775, 187.89500498439736, 176.98651335428337, 164.30937360271747, 150.12751953556364, 134.80777495654414, 118.8046360588184, 102.6340437657121, 86.83943879570668, 71.95305820251977, 58.453825746203684, 46.721489311503944, 36.987577524906875, 29.301832331357534, 23.550860286763285, 19.511354233771005, 16.901661473497157, 15.42335797198178, 14.79217294739745, 14.758074547938733, 15.11476269770182, 15.699623824374452, 16.38930975253999, 17.101138449569405, 17.796474706329423, 18.476758234484304, 19.173156736239505, 19.933312687722392, 20.80716006372782, 21.832668240824432, 23.022179652782313, 24.3505408443332, 25.74720758502576, 27.095380901718343, 28.241043619986055, 29.01277220502126, 29.249844087775546, 28.83287205156133, 27.709080807895607, 25.90393152801213, 23.513469602502546, 20.684610920270067, 17.599021172516114, 14.455005516275413, 11.445147642619734, 8.735732272494591, 6.452962476699398, 4.678034593613408, 3.44988477511777, 2.7721291445527, 2.61993523037998, 179.91442019361432, 168.86405904943598, 156.1378843890334, 142.0059346736277, 126.83598266904964, 111.0787845493243, 95.24305849496231, 79.86291166011532, 65.46028409968, 52.50366643621055, 41.36270175384651, 32.25772880747975, 25.221506602336763, 20.12096332426242, 16.715393433254473, 14.709536168860755, 13.796078194712539, 13.687166044862899, 14.134385812212791, 14.937181376501744, 15.94040683499453, 17.02597760784959, 18.112802732152268, 19.160891983646785, 20.168046986189328, 21.160263498536075, 22.179082521409427, 23.267903764022755, 24.458327818552313, 25.75738662964899, 27.13693606213851, 28.52722870563753, 29.817240326454375, 30.86394979641457, 31.510983694562437, 31.614204469199695, 31.069011381176352, 29.832300705449818, 27.931866475339344, 25.459207418764848, 22.552686411150596, 19.382891374534857, 16.13681063612411, 12.998403392601169, 10.130197794560871, 7.660376716337378, 5.677297416776579, 4.230598539838656, 3.336005813852303, 2.980118086195432, 171.9267694244698, 160.76358246437616, 148.02014767660387, 133.97228863093846, 118.98860222593638, 103.51597786658327, 88.05547235927, 73.1308419985615, 59.25198058226701, 46.87441348834963, 36.354502343495376, 27.898858668427724, 21.52329883163641, 17.076977759060867, 14.303622338324292, 12.895707918557687, 12.537999063797386, 12.939775316731854, 13.854722726223827, 15.088204830866434, 16.492637071470874, 17.955790885000436, 19.399281417735462, 20.782851661526067, 22.10145033601251, 23.376367274412253, 24.64329680779533, 25.939291966398415, 27.289819474131654, 28.69692498458803, 30.129819380533394, 31.519730388884067, 32.76116955656447, 33.7212745471743, 34.257281549512896, 34.23977284875498, 33.57695523995417, 32.23370210675181, 30.23921972079557, 27.680706946760576, 24.689117336783987, 21.425746404774955, 18.068049069383743, 14.792673713299568, 11.759030391790773, 9.09721574397512, 6.902110089288975, 5.233063694791422, 4.116772547857895, 3.550136895431624, 163.9693053637651, 152.72283492433908, 139.9940263457473, 126.06418728062008, 111.30261746539284, 96.15221907611252, 81.10598298375845, 66.67636662878704, 53.3595589928062, 41.59566323094849, 31.724463812688498, 23.93547320895935, 18.228198905349657, 14.436606779427908, 12.290821561742717, 11.472421624384019, 11.65918584956773, 12.558187134543257, 13.925628436639364, 15.572853698317783, 17.359602192896283, 19.180139395731654, 20.960074181109977, 22.659973969851087, 24.272748973251808, 25.81552933055993, 27.318523097764636, 28.812724992425384, 30.3177727545311, 31.83106637375503, 33.31946775491471, 34.71525232856502, 35.91809948091932, 36.80435069589526, 37.24332358215505, 37.11840934589154, 36.34865995466543, 34.90534579047019, 32.81838090108579, 30.17101185384427, 27.08780320106049, 23.72233618970524, 20.24423830926602, 16.82417558317368, 13.619128479040345, 10.761099666053251, 8.350897597107142, 6.45660410806957, 5.114724465503919, 4.331271391592896, 156.07598417341384, 144.77582327679, 132.093194123321, 118.31459592264045, 103.80990048582595, 89.01788660237384, 74.42307282414934, 60.52569460222965, 47.80662948549502, 36.688175330173394, 27.49036084360474, 20.382551164077707, 15.348543049112113, 12.209668399484858, 10.68448607241153, 10.445082113579776, 11.16317720268028, 12.544267269479068, 14.347461148026984, 16.39011755590791, 18.539049760487597, 20.695595669129293, 22.79057031426716, 24.786417721164902, 26.674835903573047, 28.469405785454814, 30.19530156061224, 31.877836937774852, 33.53118444880934, 35.14844795227726, 36.6943886029875, 38.10231164415733, 39.2765948241641, 40.10174804142346, 40.457602096012685, 40.23845771277239, 39.37232686493282, 37.835451493342894, 35.6579173636775, 32.919399679098284, 29.739006670187262, 26.263995991913276, 22.65773410224745, 19.08618517234588, 15.704598659712609, 12.646913288088708, 10.019309829363351, 7.897644007879517, 6.327077474607361, 5.321605618460275, 148.27734648061397, 136.95270470997, 124.34704179517563, 110.75175514022895, 96.53713637954536, 82.13766907177879, 68.02895895988945, 54.698082061946, 42.6090199207049, 32.16397797553694, 23.660453638281787, 17.245743345260593, 12.888098881820994, 10.398126545092062, 9.484823702043766, 9.81223491343286, 11.046963822211048, 12.893553819769028, 15.114417509030659, 17.533023502551302, 20.023268180895425, 22.49398795669645, 24.882111765469148, 27.15292858464435, 29.297748432383603, 31.327264586264036, 33.262148615051196, 35.12248757650795, 36.917402205914115, 38.636055278430625, 40.24131454506794, 41.667426036095485, 42.8229247892078, 43.59941106278229, 43.88566501613734, 43.58505733423672, 42.63279368830737, 41.008823125189444, 38.742984481352266, 35.91176033261138, 32.62966169252206, 29.03885537036647, 25.297850787189542, 21.56909727469582, 18.006784658166946, 14.746833203945478, 11.900273237192195, 9.549812178839339, 7.748170233260019, 6.516350801526443, 140.6004880012382, 129.2797816287696, 116.7806982996959, 103.3992327443588, 89.50591445698623, 75.53071032268626, 61.93981743546743, 49.206182924971394, 37.77534479424397, 28.027342704670982, 20.235049920306444, 14.52268043074615, 10.842858929411403, 8.996605290457218, 8.685118994524299, 9.56585317226293, 11.301254083415117, 13.595555743166528, 16.21493431287352, 18.989219458590917, 21.79962048216391, 24.5627619752053, 27.222250094817152, 29.74702566558134, 32.12880198027197, 34.37607871757842, 36.5056192330956, 38.532802398489615, 40.46215173314925, 42.27924855598396, 43.94524341456611, 45.39518420146972, 46.541181000047104, 47.28084000751655, 47.510370565606635, 47.14047072975223, 46.111914831568015, 44.407243120818634, 42.055706727478196, 39.13095383867873, 35.74368891075266, 32.032086949659224, 28.151041810115885, 24.260555043403127, 20.51437188311614, 17.05043585632763, 13.984133526714299, 11.404154792560647, 9.369780093304378, 7.90821514884205, 133.06911325567785, 121.77958903288528, 109.41515747375864, 96.27609986531122, 82.73296947388656, 69.21093995142019, 56.16624140634802, 44.056697682206, 33.30794494821174, 24.27612338278182, 17.208093538325635, 12.204524067586622, 9.202250361849565, 7.993278267785016, 8.272414591240679, 9.691902590400112, 11.91099908067942, 14.634308155683115, 17.63233627851134, 20.74169588304998, 23.851233812720793, 26.8855315721418, 29.795157488889753, 32.55330639210051, 35.15281486059128, 37.60069036712139, 39.910426333844924, 42.093261277703604, 44.14960862709714, 46.06183247613799, 47.789521949533594, 49.268359260627264, 50.413435237075696, 51.12730429970025, 51.312161229707314, 50.884411701334535, 49.788922663603614, 48.00983909034575, 45.57553405877155, 42.55715004317845, 39.06230957084574, 35.226178702777, 31.201124438105165, 27.145636462382797, 23.213554942844915, 19.544870834334937, 16.258862576017833, 13.449401490889027, 11.181446587540083, 9.487736997446586, 125.70366518098292, 114.47106560062248, 102.26749898590745, 89.39721540393083, 76.23054982733711, 63.1875535681992, 50.71387350307209, 39.251213403031244, 29.203994222747195, 20.903116034486448, 14.568606974592154, 10.27743638860709, 7.950486406291532, 7.370990738643307, 8.228435288754063, 10.171136245039953, 12.856131945509333, 15.989119798490474, 19.345620655215768, 22.76956138754629, 26.157732536503033, 29.4427207149741, 32.58213869411487, 35.553840176716655, 38.352406807822454, 40.984036139917954, 43.45961193760744, 45.78683306054509, 47.9625131384025, 49.966167698055024, 51.755970025482306, 53.26806028524736, 54.419930033246835, 55.118079573966185, 55.269347768181255, 54.79436733706949, 53.640769446801066, 51.79342747214528, 49.27957834600262, 46.168154058155636, 42.56435602005619, 38.6012206189478, 34.429536447303605, 30.207084764618553, 26.088254356305896, 22.21508178960864, 18.710302768573804, 15.672244817331421, 13.17077207531613, 11.243583509823484, 118.52152297988472, 107.36979885511516, 95.35119050527942, 82.77360059648295, 70.00688581621736, 57.46560136124727, 45.584147176735364, 34.78713231333436, 25.45662663823783, 17.89732068305668, 12.301993149603593, 8.723925070917353, 7.0679088362282485, 7.108490890892721, 8.530675336548079, 10.980063839019806, 14.112472153150645, 17.63545865840069, 21.33032985168743, 25.048865063850883, 28.695995800450362, 32.21224013057973, 35.562195897117185, 38.72861880376801, 41.708350677833906, 44.50742029423147, 47.134761935783175, 49.59515083872165, 51.88232400631168, 53.97332033380992, 55.82504128016063, 57.37391689057917, 58.539296234800176, 59.230702166465115, 59.35839823447569, 58.8459121679623, 57.64245284783385, 55.73283926444488, 53.14293462172806, 49.93972138150929, 46.226579656097016, 42.135201173756556, 37.81561608041437, 33.425571898840886, 29.12036979137735, 25.044059409939408, 21.322428818955963, 18.057612723852507, 15.32369507337092, 13.162817358584093, 111.53726029710238, 100.488334492935, 88.67645760012289, 76.41288463556202, 64.06673010443944, 52.04664340771821, 40.77507670468567, 30.658608691416497, 22.056002082412125, 15.245074407276114, 10.39119851772779, 7.524058487773402, 6.532255231177466, 7.18168324020321, 9.153580124919376, 12.09204374737471, 15.65275135702844, 19.545939320517828, 23.559491153127606, 27.553454959733497, 31.440926396306107, 35.17016804064073, 38.71261006660389, 42.05603401242527, 45.19995619010106, 48.15082147488306, 50.91625455676857, 53.498720898443395, 55.88940593058666, 58.06324463101873, 59.97601539455723, 61.564292054121616, 62.74879281021332, 63.44123715403755, 63.55423006106423, 63.01301569708728, 61.767329232146636, 59.80123295438008, 57.138991860004126, 53.84586661187532, 50.023958296204185, 45.804311705583714, 41.33689944833158, 36.77998650290985, 32.290059582877355, 28.013115146530765, 24.077615978668334, 20.588926784662654, 17.624736402923887, 15.231133198132603, 104.76295568133483, 93.83654022514911, 82.25070827726125, 70.31980309236596, 58.41194402325238, 46.92943377775981, 36.282045793872804, 26.85743849043923, 18.990269280822183, 12.931046125896884, 8.817734316341948, 6.656543561704744, 6.31981697435992, 7.564844079847948, 10.069767449734744, 13.478456900443941, 17.447727930204863, 21.69138933963735, 26.004606284408247, 30.255853070172716, 34.36621161354132, 38.291412850766996, 42.00951174352573, 45.51335735763268, 48.80546603270845, 51.89321833963017, 54.78353182849089, 57.47715729830861, 59.96324424171871, 62.214993302628024, 64.18721701136307, 65.81651867506288, 67.02456529574349, 67.72455784135485, 67.83050538083467, 67.2683461089837, 65.987419426899, 63.97039970126795, 61.23973792511442, 57.85916964435829, 53.930005423661186, 49.58325837863386, 44.969431731699885, 40.247740144483544, 35.57603907130048, 31.102168978506185, 26.956911538919297, 23.248347811542317, 20.057218998228453, 17.43306573705345, 98.20854694625615, 87.42201526341103, 76.07900037821872, 64.49673302474966, 53.04210627829851, 42.11060063021357, 32.098555682592945, 23.373865200240758, 16.246404893009814, 10.939087012884283, 7.562548788995905, 6.09965356624738, 6.406459923525873, 8.23174870088182, 11.25123916848214, 15.109933468095498, 19.467369084914132, 24.041978460655162, 28.636662872141677, 33.1281143601179, 37.445049401788154, 41.55033648231851, 45.42842011912248, 49.07720218686878, 52.50244720086303, 55.71292045209481, 58.715383402874444, 61.509433640207604, 64.08267981432127, 66.40694955324994, 68.43625618028946, 70.1071557540482, 71.34192015849715, 72.05463591081578, 72.15993110789759, 71.58357380861196, 70.27371179984912, 68.211065750734, 65.41606326498318, 61.95108323351062, 57.91708404460705, 53.44558235666036, 48.68809007724538, 43.80508746411837, 38.95589263418756, 34.29004791403753, 29.94031220388393, 26.01702055652551, 22.603469947319553, 19.752179780131154, 91.88221963775644, 81.25053767220743, 70.16454206041865, 58.94425161847877, 47.95512339860559, 37.585294146731115, 28.216902737826214, 20.197277864965308, 13.810916306869107, 9.252930344865788, 6.606740835678675, 5.831989315191539, 6.768477242697617, 9.156655794244518, 12.670519383221993, 16.95760563460392, 21.682090300633174, 26.56838471185824, 31.42711322399028, 36.1426220829461, 40.6508072112526, 44.92131667111908, 48.94473297888951, 52.723951828247465, 56.26816344265285, 59.587892478025054, 62.69023281580732, 65.57414373951002, 68.22615715138929, 70.61707470628313, 72.70028522027582, 74.41226034512852, 75.67561295700762, 76.40484229254167, 76.51456611106676, 75.92967888431639, 74.59646755728079, 72.49319700233728, 69.6380679067518, 66.09224586449082, 61.95672809157523, 57.36398936665864, 52.466917044076325, 47.42745709074734, 42.40639566456355, 37.554793282876105, 33.007051187933996, 28.87533527479922, 25.245050825758046, 22.1712863498446, 85.7908154751953, 75.32654244750988, 64.50921807985556, 53.66170787071462, 43.147821439238555, 33.34777699024029, 24.62876231324624, 17.316784725266576, 11.67039957772625, 7.856734635063976, 5.932105322955682, 5.833056832578766, 7.383243110414696, 10.315086673873406, 14.301615362380975, 18.99430639599876, 24.06404678369709, 29.242904934487818, 34.348724906268515, 39.27276019333925, 43.957579426440475, 48.37922808337062, 52.53415348515246, 56.43014196112537, 60.0799178038965, 63.496061767096265, 66.68641740414526, 69.64976343798085, 72.37197875053161, 74.82316536239021, 76.95626690037734, 78.70767153155654, 80.00014843011996, 80.74825920437999, 80.8661382214546, 80.2772668288572, 78.92553320839883, 76.78631065103579, 73.87537635358908, 70.25280398629832, 66.01997447412796, 61.31069008779283, 56.279463877989755, 51.089790736618376, 45.90384310560546, 40.87397419723481, 36.13589500349328, 31.80321205852431, 27.96304396816383, 24.672709859384852, 79.94023637089538, 69.65361955055278, 59.11413730152353, 48.64779485516095, 38.61649282552426, 29.39193314998201, 21.32566123083502, 14.721651164519304, 9.811946302640767, 6.73546502210684, 5.521502383815324, 6.083648906271925, 8.22964323495922, 11.684342314336448, 16.120663576458828, 21.195437273664737, 26.588232956918702, 32.04025543889543, 37.37618151191075, 42.493406803247154, 47.34061522122302, 51.8998268256573, 56.17304387319509, 60.17278891891807, 63.91535735692047, 67.41560161195669, 70.6824545096396, 73.71490660609082, 76.4985592549545, 79.00311414742532, 81.18124880381912, 82.96930254746059, 84.29009049912953, 85.05800374088655, 85.18637387310594, 84.59689697126811, 83.2306652211227, 81.05979888753696, 78.09746509304264, 74.40274782767328, 70.07770897312872, 65.25775274426914, 60.099142789841224, 54.766887777384966, 49.424380742788244, 44.22500282497253, 39.305444017464964, 34.780393585182374, 30.738343188739464, 27.238560297491087, 74.33580287892715, 64.23499574197864, 53.98019752736153, 43.90108620407468, 34.357360356598775, 25.711672995676707, 18.299327824544804, 12.401595943597258, 8.223395562513307, 5.875110103219285, 5.359047193512421, 6.566027219880699, 9.288275611167279, 13.24373242462288, 18.106169746487275, 23.539163144904382, 29.232585802567634, 34.93779279604203, 40.48635358085241, 45.78121786056289, 50.776602441189624, 55.46003072486859, 59.83870116297963, 63.929659487680254, 67.7527351930832, 71.3251846970501, 74.65728812300014, 77.7485693391902, 80.58467341453373, 83.13516828607686, 85.35263861893819, 87.17343677491594, 88.52037957556914, 89.30756278610824, 89.44734282837544, 88.85942806974526, 87.48187202281284, 85.28326978299614, 82.27400761345586, 78.51226521877274, 74.10102911526464, 69.17746881040745, 63.89958676583628, 58.43375199872119, 52.9443346913298, 47.58544560399031, 42.49442763661928, 37.78672808115642, 33.55192165768105, 29.850983318549783, 68.98251465594214, 59.0738943491753, 49.108564259115454, 39.42043608227765, 30.366913737759155, 22.301219442353855, 15.541918170104132, 10.346947629323171, 6.893430255870491, 5.262734376398885, 5.430122487305837, 7.263915729575437, 10.541439655088872, 14.9745407847339, 20.238885629223294, 26.006072756480307, 31.977462494723373, 37.91525668746586, 43.658266540896925, 49.11471037442324, 54.243811394142426, 59.03809719131668, 63.509555498143925, 67.6794815147353, 71.57112757114609, 75.20420336758373, 78.59051164742372, 81.730357376189, 84.60969247891421, 87.19818044033161, 89.44847489385137, 91.29702268964759, 92.6666534856067, 93.47113775834876, 93.62181950259635, 93.03638528845062, 91.64977867568774, 89.42691070445295, 86.37524208841938, 82.55211803307637, 78.0616267598229, 73.04273165183119, 67.65501418635787, 62.065936160439946, 56.440533726264995, 50.933323921766835, 45.68198555216721, 40.80243231865326, 36.3850746727462, 32.492385515274016, 63.88517824789477, 54.173660416503154, 44.50076823162625, 35.20514013744476, 26.64209397261238, 19.155274857367562, 13.04613040408574, 8.548676572898483, 5.811523306633074, 4.886369631111389, 5.721224602432795, 8.162334622276205, 11.972956454011303, 16.85979399833223, 22.501464966071282, 28.578685729051482, 34.80512506227053, 40.95434657845914, 46.87287550951925, 52.47418947746421, 57.72211921030846, 62.61370938943817, 67.16529692066518, 71.4020980661918, 75.35060662815377, 79.03295527137632, 82.46256390605622, 85.64069279582421, 88.55380428051022, 91.17184647999755, 93.44768753323595, 95.3179619559017, 96.70556674715134, 97.52399560002016, 97.68366052000222, 97.10035204263099, 95.7060197411363, 93.46187991099012, 90.3723672293132, 86.49404591808269, 81.93219200215881, 76.82742591757884, 71.34059360616561, 65.63987869484919, 59.89061843702159, 54.247397982429746, 48.84792868712384, 43.808330528432826, 39.219637347189725, 35.145635258092554, 59.04841243586147, 49.53770193353318, 40.158587032631836, 31.254909191922295, 23.18034479227337, 16.269086667114784, 10.805233009473277, 6.9983382875230475, 4.967759405926184, 4.734751574097231, 6.219675495400939, 9.247327145962206, 13.567879494371791, 18.883916478475207, 24.878035310882225, 31.2409754240618, 37.69928663724267, 44.038301783392285, 50.11276008338487, 55.84157791510208, 61.192945633714146, 66.16798787537444, 70.78694048147757, 75.0785706673036, 79.07237115241992, 82.79279457838888, 86.2548968226539, 89.46099703217286, 92.39821292652073, 95.03692513180835, 97.33034208040624, 99.21538389639969, 100.61510095293818, 101.4428193734689, 101.60819475670549, 101.02538828628732, 99.62366589703343, 97.36073236750723, 94.23797221613592, 90.31120154765424, 85.6868374276909, 80.5068221721487, 74.93280143904258, 69.13322533994224, 63.27333068138485, 57.50742814030146, 51.97297543508726, 46.78606738564521, 42.03817713502041, 37.79423950422861, 54.476573182522586, 45.16936930374568, 36.08392277848686, 27.569776819185222, 19.979580213462718, 13.638442231065156, 8.813041284992483, 5.687983772377471, 4.352618886216472, 4.796953580730474, 6.913294389659789, 10.50565072260962, 15.312158354422806, 21.03234436381814, 27.353768239482328, 33.97794268321484, 40.644716671267076, 47.15152938160808, 53.36181170383366, 59.200200976072345, 64.63913327113713, 69.68344786195081, 74.35684207351939, 78.69123909806667, 82.71883949180992, 86.46625031185218, 89.95011433131376, 93.17384817410147, 96.12531470721885, 98.77543482887546, 101.07786172641427, 102.96989868042296, 104.37485686308757, 105.20604787802584, 105.37261661304086, 104.78747233693592, 103.37768927265033, 101.09788628289812, 97.94650706463736, 93.97861967951764, 89.30153650503175, 84.05796629981658, 78.4097621620735, 72.52512701541391, 66.5687764980496, 60.69440858250839, 55.03895998166213, 49.71829388139595, 44.8241610162036, 40.42249689280043, 50.17363801833544, 41.07182577388344, 32.27868646920227, 24.149997040697997, 17.03811345464445, 11.259624124266583, 7.0638729061661785, 4.610088658357039, 3.9568605676130346, 5.062212395296996, 7.790172174662203, 11.924497636221503, 17.19230606272318, 23.29114893831946, 29.914486776146514, 36.775246473504154, 43.626903471755156, 50.27928732411297, 56.60494894304091, 62.53456513550752, 68.04480142410047, 73.14392204294452, 77.85867816455755, 82.22374621495825, 86.2737096806479, 90.03711430621249, 93.53208300108363, 96.76311136264562, 99.71884755324716, 102.37082360605261, 104.67322115123828, 106.56382104672348, 107.96631694064212, 108.79418935901452, 108.95636530070999, 108.36495375128736, 106.94546923756164, 104.65013742907148, 101.47480006935812, 97.47371590841014, 92.75456036059435, 87.46004678826439, 81.7515575131049, 75.79650411609047, 69.75865561851556, 63.79076884305583, 58.029010217303494, 52.58882513535175, 47.56209716333823, 43.015627419830025, 46.143072384097366, 37.2479165730292, 28.744683453034753, 20.9959421302245, 14.354572292357037, 9.129347338277487, 5.552499007527118, 3.7575151760912497, 3.7715201899866457, 5.519974326859778, 8.838571190157811, 13.491270048368214, 19.19509899437105, 25.646697731706638, 32.54632558327267, 39.618892485887386, 46.63177292402285, 53.40742264620924, 59.82787503626305, 65.83015404090042, 71.39519589494228, 76.5344664175345, 81.27740196616767, 85.66103639526, 89.72199233423494, 93.49050194578004, 96.98601559302614, 100.21404187415767, 103.16401214785536, 105.80810860410571, 108.10110685370496, 109.98135650065613, 111.37306610495781, 112.19009078069391, 112.3414635584062, 111.73898711773022, 110.30732704100961, 107.99722887007246, 104.80262724193608, 100.77679295076493, 96.02688259998126, 90.69471638394562, 84.94048892808405, 78.93026706919247, 72.82645116605684, 66.78053933127563, 60.927693316527545, 55.38276943822158, 50.23765101639282, 45.55987903978831, 42.38768700052905, 33.70003432599393, 25.48349431319231, 18.107997368327496, 11.927808356759215, 7.24468679638294, 4.274089938203311, 3.1234804700003025, 3.7879124841496647, 6.159887490157239, 10.04684445831779, 15.19339182381411, 21.30731669418743, 28.08536452425414, 35.23544855264522, 42.49497940411545, 49.645462486337976, 56.52216344786058, 63.01688239068023, 69.07325471133007, 74.67655019471096, 79.84126295492531, 84.59918695647094, 88.98933562967385, 93.05002185457157, 96.81288916604271, 100.29852931246204, 103.5133611771206, 106.44756362324449, 109.07398267722792, 111.34803964557798, 113.20874293582162, 114.58095909797798, 115.37914301196408, 115.51278200745669, 114.89389237767486, 113.44703333223391, 111.12247976377279, 107.91331523687857, 103.87149246890942, 99.10250589123856, 93.74634065735626, 87.96127736169696, 81.91148391848905, 75.75757419991535, 69.64947798330691, 63.721127682235306, 58.086628152032915, 52.83773589933038, 48.04261166364722, 38.909489173697146, 30.429977463615145, 22.49634574297111, 15.486446064922355, 9.756797317781977, 5.602992742222174, 3.2241437234154304, 2.701495180251726, 3.997567812063096, 6.971707462951379, 11.403310914642272, 17.01812954205056, 23.51551684326349, 30.593289589312292, 37.967823715849484, 45.389502060745954, 52.654149658717806, 59.60996319184344, 66.15870478933164, 72.25082001475553, 77.87596773321646, 83.05152915262408, 87.81136655358685, 92.19612024819992, 96.24545112209617, 99.99212926812697, 103.45768089795125, 106.64930687743178, 109.55787363133665, 112.15688672749245, 114.40245647011531, 116.2343426141955, 117.57822547975016, 118.34940528726382, 118.45819618198647, 117.81737173014609, 116.35214641913997, 114.0133417501216, 110.79421225047443, 106.74508104390094, 101.96865811879992, 96.60214840471184, 90.80118765031784, 84.7274880988025, 78.53945951456836, 72.3851563566023, 66.39706071925127, 60.68836655801545, 55.3505786079579, 50.45235920638699, 35.70952941858351, 27.438799750514196, 19.78396712996973, 13.131337198660905, 7.840521502807402, 4.201785160885372, 2.3983824494712493, 2.4852492631388827, 4.392094275759931, 7.945134033643054, 12.896083279440425, 18.95240889863911, 25.805839077528063, 33.156187990671505, 40.72905404294198, 48.28821073230667, 55.6439342476351, 62.65739591798573, 69.24041633210123, 75.35036948305651, 80.98133018358158, 86.15344112182493, 90.90237649979497, 95.2700799746531, 99.29723423486317, 103.01745296627823, 106.45298092528827, 109.61165801779806, 112.4849634493766, 115.04704765643447, 117.25475055532804, 119.04868224851647, 120.35550776915343, 121.09163989123205, 121.1686163373152, 120.50053237433221, 119.0140221519217, 116.66138060696844, 113.43668406540569, 109.38846984420611, 104.61582342670528, 99.25226950915659, 93.45007079557385, 87.36792330230355, 81.16161143174203, 74.97700494988634, 68.944912802976, 63.177456302655486, 57.76576075897618, 52.7788705637584, 32.7877455505148, 24.726651582084934, 17.346431261620445, 11.04232897034479, 6.177824076145821, 3.038615665028992, 1.7926036325553198, 2.4684363625304258, 4.962975406595135, 9.069598000439786, 14.512864265025236, 20.982628459809234, 28.16383607925284, 35.75920466339831, 43.504263368736666, 51.17652631192196, 58.60077389724332, 65.65110095915709, 72.24937535494185, 78.35992819160822, 83.98123411084418, 89.1360740062265, 93.86170441715436, 98.20107964767627, 102.19560110923678, 105.87945481898781, 109.27538982363579, 112.3917376642477, 115.2205096163178, 117.73648313094827, 119.89727093475963, 121.6444421849728, 122.90583384161975, 123.5992585409985, 123.6378924859918, 122.93772057853725, 121.4275134583282, 119.06175900854237, 115.83568044134752, 111.79597898489237, 107.03761215987892, 101.68966241622994, 95.90032573666504, 89.82472683067105, 83.61560095484731, 77.4163191237225, 71.35578878550243, 65.54489070646306, 60.074237085774854, 55.013130649413455, 30.142808170463038, 22.2926170721628, 15.18298238796217, 9.218505625060704, 4.767223528097787, 2.1108843169876508, 1.4024760101006422, 2.644517564265314, 5.701320425842027, 10.334019677787747, 16.24073162944169, 23.094482494531892, 30.574336557291105, 38.38681814413984, 46.27803843391578, 54.03951184083543, 61.51047245776522, 68.57777558089563, 75.17321102155489, 81.26800198994624, 86.86495580252063, 91.98936132375701, 96.67984916585513, 100.98012264798784, 104.93202696545406, 108.57006884037044, 111.91729812352861, 114.9823950861817, 117.75782434548984, 120.21897559048982, 122.3242843188902, 124.01639885837304, 125.2245301672582, 125.86819218155578, 125.86261855911037, 125.12622489574235, 123.59052982719987, 121.21269479395937, 117.9892146508614, 113.96495727770859, 109.23051024871957, 103.90994933650656, 98.14679015643803, 92.09205720961928, 85.8950182164146, 79.69622854682049, 73.6224593414205, 67.7831748112142, 62.26833226306352, 57.14736287810345, 27.77197349470689, 20.13455458995741, 13.291861854317855, 7.658174508347507, 3.606680356809214, 1.4155979084400414, 1.2232705886060486, 3.0064355544614827, 6.597592182877708, 11.726564920509887, 18.06593503241131, 25.27280972063972, 33.021350000726024, 41.02279846493611, 49.03443005752234, 56.861901571401546, 64.3587206625632, 71.4242135709223, 77.99984971649917, 84.06358635583985, 89.62244272378135, 94.7040731315255, 99.34829112058615, 103.59931790902647, 107.49919895352546, 111.08253569315693, 114.37249340099527, 117.37797010503058, 120.09181357248393, 122.49001896039499, 124.53190393883973, 126.16132727492706, 127.30908664089306, 127.89670279807892, 127.84187070944142, 127.06591886835649, 125.50358627834356, 123.11498235576883, 119.89788709725183, 115.89536395679384, 111.19356195264976, 105.91118665898557, 100.1865755371385, 94.16617527381416, 87.99538626635533, 81.81163442146874, 75.73931530283207, 69.88629259352851, 64.34171820619923, 59.175014717595204, 25.670951217579777, 18.248951204798704, 11.670149012604998, 6.358667630201936, 2.693323881550647, 0.9490541878158112, 1.2495230398671922, 3.546310824185756, 7.641349189162263, 13.234428824088912, 19.9737294367304, 27.501487498951832, 35.48802687264598, 43.65022786147458, 51.7570181019053, 59.62818900485168, 67.13118809406171, 74.17738709431919, 80.71757766174909, 86.73620530195441, 92.24432890631559, 97.27181164323844, 101.85947326935039, 106.05185139734843, 109.89098147275284, 113.4113634606164, 116.63611626328107, 119.57424234254322, 122.21891593512605, 124.54674229266433, 126.51799113332555, 128.07787192244902, 129.15898593624834, 129.6851580834919, 129.57691393983677, 128.75889496810413, 127.16938887272414, 124.77157238163899, 121.56446487410248, 117.5893678822352, 112.92803134796529, 107.69359914484566, 102.01886401932568, 96.0452898874976, 89.91404365676573, 83.7591197072854, 77.70229878757053, 71.84965421747542, 66.28937409279793, 61.09072813271058, 23.83379629136158, 16.630802087581696, 10.313638910139712, 5.316192155976253, 2.0232001563038793, 0.7064479966459842, 1.4746715731462956, 4.255187139977078, 8.821047923228807, 14.843679479672858, 21.948270569216277, 29.763392423001388, 37.95669037654551, 46.251595049316414, 54.42904559464934, 62.32277481657924, 69.81366433894635, 76.82456803676267, 83.31513528294192, 89.2759759702329, 94.72197071821701, 99.68502197745813, 104.2067921018728, 108.33196213964351, 112.10238112581192, 115.55228360440148, 118.70460755239563, 121.56836814108627, 124.13702622325252, 126.38781498305922, 128.28203602890432, 129.7663951088046, 130.77551048829525, 131.23578808504197, 131.0709033258858, 130.2091177485031, 128.59246616416885, 126.18720359087035, 122.9935128610644, 119.05098356485964, 114.43707158219334, 109.25930172409419, 103.64468389471163, 97.72937986957635, 91.65000387712094, 85.53683809179282, 79.50881533584926, 73.67002650312008, 68.1075315720363, 62.890296894966454, 22.252834433111065, 15.273523591877794, 9.216772890297648, 4.525776820828437, 1.5911772326023481, 0.6816311645382527, 1.890874184625531, 5.122916163078056, 10.123949762361619, 16.539192088245073, 23.97259738228243, 32.04044888047026, 40.408957342826774, 48.808974540752814, 57.03362661430326, 64.93017389020619, 72.39224541021701, 79.35348355670286, 85.78183777631295, 91.67369376800822, 97.04749877316294, 101.93701501326785, 106.38459655501343, 110.43492223970307, 114.1295117365862, 117.50220335351412, 120.57564873473544, 123.3588078606916, 125.84540687907729, 128.01333831008395, 129.82502369192954, 131.228811405287, 132.16153885434937, 132.55243903290116, 132.32859676541108, 131.42210793277178, 129.77884522366608, 127.36808072772197, 124.19107092615131, 120.28574777832327, 115.72541695802417, 110.612025824092, 105.06667786392772, 99.22000283178897, 93.20379954439635, 87.14438754867749, 81.15763142362634, 75.34544993618117, 69.79360774875195, 64.57061282147794, 20.918632839547712, 14.168904725400832, 8.372622078325822, 3.981323938443854, 1.3910852799561724, 0.8673858743854481, 2.4891829451681247, 6.138224037735927, 11.536157447962804, 18.30469756031676, 26.02872495780276, 34.31378738675812, 42.82596624362834, 51.304301309913484, 59.55402975645299, 67.43527753319134, 74.85355888751528, 81.752498706001, 88.1077151374098, 93.92093215468248, 99.21388119480528, 104.02199883452501, 108.38819278927589, 112.35701985911571, 115.96955945197445, 119.2591554456866, 122.24809721032003, 124.94524609435985, 127.34459099312308, 129.42472784609953, 131.14929170563258, 132.46841588047906, 133.32134100474264, 133.64033509228358, 133.35608856888612, 132.40466061968235, 130.73576837761735, 128.32159366486252, 125.16437217191549, 121.30043512991406, 116.79910403846944, 111.75686073880367, 106.2888747161859, 100.52009998619279, 94.57731853035368, 88.58267404057908, 82.64876163350328, 76.87514553874958, 71.34612855257129, 66.12960303340688, 19.820031643305427, 13.307099775891523, 7.77290342804811, 3.675713789419639, 1.4159625621487635, 1.255810617504757, 3.2598597603809125, 7.288904131326191, 13.042778597043323, 20.122963099620918, 28.097870071953132, 36.56403471610038, 45.18872951997952, 53.7197470892525, 61.974033525056626, 69.82366219614367, 77.18501789650026, 84.01081690654776, 90.28366372953494, 96.010150544182, 101.21499306746054, 105.9351149358712, 110.21385226086574, 114.09554381634425, 117.6207476392491, 120.82224586249849, 123.72191802598222, 126.32850710401912, 128.6362799599653, 130.62459086930917, 132.25838438583037, 133.48971244929075, 134.26037965640458, 134.50585481351555, 134.16056803970446, 133.16459690032508, 131.47144645679145, 129.0560730050567, 125.92159765263888, 122.10280935402369, 117.6652231492399, 112.7000156720748, 107.31647171948568, 101.63380400113353, 95.77363813204786, 89.85377036037107, 83.9833494780078, 78.2594147795645, 72.76464503329511, 67.5661602890805, 18.94425968416612, 12.67667021318903, 7.407995556816648, 3.6008645882572097, 1.6582056448548173, 1.8385027132478626, 4.192571150369158, 8.562032669067893, 14.628197578803864, 21.976120125292507, 30.160832032770706, 38.77175833329348, 47.47862391681072, 56.03819594551641, 64.27834127009065, 72.08192983378922, 79.37509033899437, 86.11868705300104, 92.30160046606579, 97.93480333927462, 103.04568670943982, 107.67247523974781, 111.85882041230926, 115.64876827721808, 119.08230107725926, 122.19159996716998, 124.9981132257919, 127.51046748832918, 129.7232385747196, 131.61660233526942, 133.15690793833562, 134.29824719124136, 134.9851224979416, 135.15632598709317, 134.75010407043655, 133.7105465943108, 131.99484455680718, 129.5805780507734, 126.47166345807993, 122.70140677772427, 118.33169929541987, 113.4486048136379, 108.15563220127078, 102.56625503585971, 96.7968621677736, 90.96077437209604, 85.16354544063108, 79.49953545190121, 74.0496449758482, 68.88006835604702, 18.277170653518194, 12.264700625682448, 7.266925965708015, 3.747644703572174, 2.109486964313568, 2.60646578769191, 5.276365810608379, 9.944132969659023, 16.27643839407546, 23.846158745675332, 32.198553937941696, 40.918087950515364, 49.67802242051226, 58.24380103942084, 66.45303132143007, 74.1980581370376, 81.41356629503868, 88.06760441835348, 94.15461006097175, 99.68944296221335, 104.70185744066673, 109.23119603777786, 113.32132332027761, 117.01593595353589, 120.35440881555279, 123.36830727143236, 126.07864983106151, 128.4939677750158, 130.6091899095748, 132.40538232361175, 133.85038990475624, 134.90045009722985, 135.5028682683307, 135.5998404510981, 135.1334550470798, 134.05175928089503, 132.31549664758978, 129.90471344449492, 126.82403648665384, 123.10534852510717, 118.8071004659185, 114.01045578742783, 108.8133006767464, 103.3234283717443, 97.65196466883825, 91.90767010979948, 86.19238528457598, 80.59765611971497, 75.20246201875072, 70.07192424921313, 17.80365067121042, 12.057038687649232, 7.337324141123531, 4.105552215237932, 2.760347529530627, 3.5496809649944474, 6.499415266217657, 11.421266098231204, 17.97160412385595, 25.715610296320115, 34.19289334579251, 42.98553408016604, 51.7710453370296, 60.32257972067799, 68.48600424914746, 76.16173267076273, 83.29180408288826, 89.85049179219723, 95.83707576829616, 101.26980998359363, 106.18049981515726, 110.60942522470708, 114.60056980140313, 118.19723828319401, 121.43818503293352, 124.3543649257738, 126.96638722220682, 129.2827243080161, 131.29871185027156, 132.99637722396983, 134.34514533310528, 135.3034874920893, 135.82158819787134, 135.84508898313578, 135.3199024707023, 134.19794072905518, 132.44334572253837, 130.03847117185262, 126.98857561663999, 123.3241782811508, 119.10047091814211, 114.3939406537356, 109.29703638959926, 103.91197566962104, 98.34464274084914, 92.69919439846655, 87.07367112990894, 81.55669136043132, 76.2251842084286, 71.14305898996304, 17.50826094520424, 12.038717138152723, 7.605370651032338, 4.6621412464732295, 3.599382050310954, 4.6563022771723865, 7.848579008628846, 12.979071634493067, 19.69835769302793, 27.568409003851173, 36.127634589619795, 44.95899750650234, 53.74435091406259, 62.26297323434336, 70.36737765934228, 77.96462956130868, 85.00293500211932, 91.4618477620661, 97.34478473738176, 102.6729041353849, 107.47974986626423, 111.80635963325877, 115.69674677198965, 119.19379122133134, 122.33562725733589, 125.15261994470102, 127.66500450397511, 129.88124249319947, 131.79713672858452, 133.3957463127834, 134.64815130327452, 135.5151263946933, 135.9497832676713, 135.90121554074386, 135.3191063156347, 134.15911195499734, 132.38860651423016, 129.99209496962084, 126.97539533106752, 123.36772272304579, 119.22118697643067, 114.6078280359797, 109.61486514184162, 104.33908082377653, 98.88118023889176, 93.34071093010208, 87.81185725845322, 82.38021964445227, 77.12056364648679, 72.09545834560723];\n",
              "const lower_is_better = false;\n",
              "const metric = \"branin\";\n",
              "const rel = false;\n",
              "const sd = [5.995556106047867, 2.68417969041782, 0.47755010551735233, 3.3939024482061075, 5.987166870001546, 8.21142712463968, 10.05142368704131, 11.516485351653353, 12.632318404177054, 13.43082333161191, 13.939498895440668, 14.173043942364684, 14.12987282930338, 13.794948595004783, 13.148254190548208, 12.17679293162078, 10.88823709870743, 9.326380589407071, 7.5928698082666966, 5.888436524040765, 4.587556419800298, 4.1879830004109015, 4.7104670205383075, 5.560301609472057, 6.246616214026643, 6.535709639095331, 6.341454298976776, 5.664134780583719, 4.566591305806417, 3.163873872778066, 1.6167890020885318, 0.12626325616304765, 1.0857078827443039, 1.8215114832629045, 1.987735521600779, 1.596708745197982, 0.766498403217885, 0.2877466784953539, 1.2789347419685562, 1.956445683694849, 2.161937093513439, 1.8431039606051782, 1.0570871813356306, 0.03662280051406928, 1.1630797956782184, 2.05928414186326, 2.4992520320319773, 2.3347664718004375, 1.4971268394509687, 0.01857321389291226, 6.2419480259868, 3.174077420548947, 1.4117661879514383, 3.3372945182208262, 5.687690264688665, 7.749424745906724, 9.452088711063398, 10.79821665633237, 11.816872830656786, 12.545668716796717, 13.016408517835384, 13.244182332400129, 13.222818519654046, 12.928311568438746, 12.328952678916746, 11.398929415661645, 10.132516424293332, 8.558432707541268, 6.758937041250071, 4.912751071584753, 3.427438339894641, 3.0749323164706968, 3.920661648426332, 5.041163248744908, 5.902821471231281, 6.311738613476618, 6.209637736827187, 5.614163736319819, 4.603647078092659, 3.3197601513563133, 2.0096607716311676, 1.2661544138047531, 1.6500407904958414, 2.1687570650972137, 2.2678644015147342, 1.8840108917243408, 1.1799577696969037, 0.8188997492999492, 1.4178119436166237, 2.0192446444342242, 2.2245517097393477, 1.9596122211345661, 1.3430047159682754, 0.9549148668631645, 1.550381969254251, 2.3137970377996853, 2.7152251904569105, 2.5590736260519837, 1.7978162909325004, 0.854832090026341, 6.745005056499187, 4.065723193510922, 2.6982655763842565, 3.75307464881764, 5.647835979861011, 7.442849315189361, 8.94635879772303, 10.131895838896396, 11.024390416352482, 11.664867467508929, 12.088811229251695, 12.31100161660335, 12.319232197129649, 12.07858967169674, 11.543969990744204, 10.67589203231619, 9.455420060360504, 7.896978373500359, 6.062350403229244, 4.093186397803945, 2.374189299821045, 2.121451651069337, 3.4011963697298904, 4.775374205001302, 5.787378060213085, 6.308927179583715, 6.311933445305917, 5.8334407034701625, 4.973355200230495, 3.9091557786665483, 2.93670059949387, 2.467834206803146, 2.599677878381871, 2.84913130374385, 2.8175845777602007, 2.4111870299835245, 1.7907587826509568, 1.4403285169754227, 1.7532911243218805, 2.236731075696905, 2.455056816315822, 2.3079348190035756, 1.948338594059115, 1.8163321770159828, 2.2211093490379463, 2.7932553416701857, 3.1040817351410537, 2.937049521362442, 2.2701848598072534, 1.5688662178289223, 7.401436187620412, 5.078579033691905, 3.9162133359870936, 4.4360547987969525, 5.82279281244787, 7.278794142386168, 8.529826751770822, 9.515189270389328, 10.25230885680275, 10.785071056695486, 11.153026676185782, 11.370292076006962, 11.41686924333685, 11.244382058011691, 10.792169872114288, 10.006214059335914, 8.855155766772794, 7.3416716007710745, 5.510988517744642, 3.465117564174626, 1.474267214345457, 1.4586893238149343, 3.1987841619608433, 4.749447143952133, 5.870346010260213, 6.490059439871971, 6.6019341248089844, 6.257002913023693, 5.568853361831615, 4.724463128323273, 3.985977503120498, 3.6040804987349224, 3.5782320709047326, 3.6160974023981467, 3.4399000197710947, 2.9665514024840722, 2.334658266206162, 1.9236366677396934, 2.0629419231123522, 2.464120937699728, 2.7224741292012276, 2.7160313909090466, 2.5721315774808335, 2.5843981450349673, 2.9085634572047305, 3.331699806414766, 3.5391500675151506, 3.3363889477853093, 2.720665369653147, 2.132640879169275, 8.12425152344533, 6.085348459239236, 5.0362661739269745, 5.215017737608633, 6.144933467897656, 7.233536235974992, 8.194430350967894, 8.945212601901083, 9.498515329229956, 9.903441333335019, 10.205786415187815, 10.419335829755935, 10.514103821126254, 10.424756700058847, 10.072224948356212, 9.386931547273603, 8.3262392065749, 6.8847910124951115, 5.0994752364857625, 3.051142048138435, 0.8679727561903857, 1.315991059908463, 3.2824082117634736, 4.910530122841229, 6.100865683708571, 6.804237252760182, 7.022600272657848, 6.812411011308341, 6.288765709295972, 5.625781999265201, 5.033504704534875, 4.670826174297995, 4.516628586516077, 4.375265037960989, 4.048796339666368, 3.472849677815037, 2.7667535849909286, 2.2533012616678576, 2.260254804351071, 2.6213751191082584, 2.9515972395394767, 3.0984441983060083, 3.1393159062769196, 3.260036463096756, 3.5435530873747463, 3.8503064573695367, 3.9512354070611497, 3.68858235221321, 3.0783528908201108, 2.5405550192913107, 8.850433057495513, 7.029243074508916, 6.0465671269128825, 5.993181242796983, 6.546584588946786, 7.276862841237632, 7.929302424293507, 8.419117129015982, 8.761991008482545, 9.018157027893194, 9.244591629886488, 9.456295034349537, 9.610434885957655, 9.619798581497243, 9.38312141621718, 8.814046691564021, 7.859939439330458, 6.511358114395578, 4.806387644041142, 2.837060331660477, 0.859126234565709, 1.6372349112018891, 3.5488495613260205, 5.188354472324239, 6.423692599028299, 7.201148861607308, 7.521577779292079, 7.439460383927973, 7.0621873269227216, 6.5413983530522275, 6.040976699326277, 5.667561461208106, 5.398051885375316, 5.0945841877934575, 4.613610333237643, 3.908165449431313, 3.0828149188608447, 2.4293873833868043, 2.3136208360003856, 2.6729515287722596, 3.1103810654691504, 3.4239901169231666, 3.6340801828616027, 3.84840438462013, 4.108824469672728, 4.317718721682639, 4.309072373098234, 3.96385367745854, 3.318890383334688, 2.791286128466179, 9.53682187621674, 7.881424066105342, 6.939495497225383, 6.719644678366142, 6.972876596030841, 7.377262587118557, 7.72201699202603, 7.934722790962453, 8.04355408470089, 8.129005001844268, 8.268078256820477, 8.480635865454035, 8.707090667857805, 8.831252769686722, 8.724755431336229, 8.28320900640025, 7.445359159555811, 6.201051995210078, 4.596988067149538, 2.7621941094532994, 1.2246512774176197, 2.088097971705999, 3.8892768319465136, 5.519472279711125, 6.791832559744679, 7.639787297666226, 8.058341287139204, 8.095353805224264, 7.8455502765045955, 7.436252489436043, 6.994782718730013, 6.596035009357666, 6.219563609441803, 5.765289379882425, 5.127794290673629, 4.273786868427307, 3.2946897159391257, 2.4616324829140224, 2.212614350397034, 2.6090806421583523, 3.1936527770000764, 3.688548108198914, 4.0592389598452865, 4.358474088979004, 4.6038047935833015, 4.724848353517267, 4.602567475244493, 4.153600499463862, 3.4372702610114794, 2.8877596356930395, 10.154239088675986, 8.625413446097635, 7.709661260900565, 7.366703559513847, 7.384022104603299, 7.505979789568285, 7.559921222349809, 7.491083449735827, 7.346683830433208, 7.238094399325929, 7.27637558315162, 7.493596984916552, 7.80776357569819, 8.063240609628114, 8.098545750586608, 7.790507736061236, 7.070967575746384, 5.931501570202858, 4.430970229826278, 2.7435189619347278, 1.5764201837703078, 2.4972051968313913, 4.229324229458197, 5.85850070527286, 7.171533302897625, 8.091008353158227, 8.604928468693094, 8.752394193408897, 8.613701943659898, 8.293438361659637, 7.89066749207845, 7.459741526729796, 6.983776482630642, 6.388785216267952, 5.596565918877036, 4.58342094838162, 3.4263135904227275, 2.37156498667314, 1.9575846861353159, 2.438904262005853, 3.21527556666946, 3.9032150415634828, 4.426301530915607, 4.802390435915268, 5.035418532518426, 5.074010826378921, 4.83400079477285, 4.262123753887855, 3.4395119552123514, 2.8371311190324535, 10.682968563558601, 9.251120483366151, 8.3533335528115, 7.918588271208918, 7.752804623678899, 7.6391459938767206, 7.4312434319257585, 7.088849082338289, 6.67839321298419, 6.350790678232646, 6.271451661072208, 6.498743583512799, 6.9195455569714115, 7.323007361026202, 7.507946131250428, 7.333209337035357, 6.726238807145316, 5.681926912952004, 4.271199154731913, 2.7085373899322693, 1.8097535273765444, 2.8123340129927117, 4.529914477253116, 6.178856342649102, 7.542216748657467, 8.53667300594122, 9.14397738576365, 9.394077878710137, 9.353029523627002, 9.105507994230072, 8.728819592739104, 8.263443015077593, 7.696026357748948, 6.971415259106193, 6.03129278150525, 4.858334165594289, 3.5128335532009474, 2.1987556512283115, 1.5561053458308116, 2.1925208652310064, 3.205170951956836, 4.088665603336826, 4.751608768612977, 5.194478790716446, 5.414513595144614, 5.373805396728033, 5.013331309521553, 4.302713072308655, 3.3401501827751985, 2.6507512955705868, 11.109793064334044, 9.752297600830362, 8.868190694150893, 8.366175642379645, 8.06125064245062, 7.758280838569661, 7.325779006007094, 6.730281598747883, 6.050058877817, 5.477084317390204, 5.257455857568074, 5.502727378430461, 6.0541951576035204, 6.621608930690725, 6.95869213439292, 6.910239939395016, 6.4030019593200835, 5.436099168121232, 4.089801378912467, 2.609202717821409, 1.9035111808393712, 3.0253387021143157, 4.7776383610494175, 6.469654834274745, 7.894452968339134, 8.96764435763223, 9.666265163813486, 10.011744423883894, 10.057127036846072, 9.870285178756706, 9.511813305276517, 9.012663391647912, 8.362905029156002, 7.521705879398657, 6.446046659336873, 5.12360184128395, 3.598537939016811, 2.0123731156376263, 1.0216185093322072, 1.9322850589481946, 3.206766316881585, 4.270902525357245, 5.05363580699083, 5.549904351555317, 5.753645375373523, 5.635983740997896, 5.155026542629163, 4.295220646247734, 3.1618055378054946, 2.344103957447194, 11.426141627214408, 10.125337674721345, 9.253171899290694, 8.704399912157388, 8.29788962547806, 7.8498275819303105, 7.2351053177571645, 6.418796693444147, 5.477952467049063, 4.633837131260023, 4.241114656031336, 4.516584712559846, 5.229937058791793, 5.974322536086218, 6.458564618469885, 6.522215208832912, 6.09618026634391, 5.184048675431516, 3.87081585163155, 2.4204956443115666, 1.8620289491567363, 3.1500303770850713, 4.977054466050597, 6.732154367127738, 8.227539392131654, 9.38166837556054, 10.168514741399875, 10.602096780008509, 10.72412664961891, 10.588645268949195, 10.243494706508045, 9.713172808851, 8.991229774031591, 8.048504598816683, 6.854886724301357, 5.404047387295609, 3.7307563827361028, 1.920852728795136, 0.37356848304133117, 1.769598178025732, 3.2702347757016677, 4.476512088001981, 5.350366575336545, 5.88308799557245, 6.065212530647923, 5.872966504413517, 5.275210352184787, 4.263581071855113, 2.935544982348612, 1.93670757525748, 11.626943644100159, 10.36865278687268, 9.508373633697884, 8.930900216404696, 8.455794713320524, 7.9042884897039505, 7.152398349961052, 6.157968244359634, 4.982863995600387, 3.8487162768197987, 3.232393822468, 3.5585391300400495, 4.473949063893936, 5.400315293524719, 6.016424669497262, 6.170870085128306, 5.803730747201106, 4.9224255234626595, 3.6105270069888142, 2.135357556226189, 1.7075268958050838, 3.2164779872375333, 5.145549523234752, 6.976485764660978, 8.547135140670173, 9.781422512604049, 10.651584577101774, 11.165399530042157, 11.354983015942299, 11.263191123806884, 10.928245834759865, 10.370496031092392, 9.58722748325477, 8.5595710220227, 7.2695754062954485, 5.719957484541083, 3.9489862675095675, 2.0408760847972434, 0.371917956288923, 1.841661222556854, 3.4387522302602758, 4.727365129183575, 5.656730426988656, 6.20610143737572, 6.35979294284139, 6.095656234615795, 5.388736512888609, 4.2323517543007, 2.7008417290409725, 1.4519701683168276, 11.709921597847737, 10.482332395925647, 9.634974246774137, 9.045269972126372, 8.531254018009617, 7.9153042606308235, 7.071993176554264, 5.950074245929945, 4.587706321905256, 3.1666843333672903, 2.2463594425884064, 2.661397319785812, 3.824990188073138, 4.920738437274773, 5.640348559526479, 5.857856727779725, 5.525746111572654, 4.653642929943563, 3.316763633599067, 1.7616242922550542, 1.48794458095571, 3.268516815786907, 5.309041013147176, 7.218488613043166, 8.862974149284259, 10.172747070657993, 11.118972851744028, 11.704132500984878, 11.952298032965597, 11.897376582790924, 11.570443643747973, 10.989483533074807, 10.155901723919012, 9.060544532115381, 7.6978615232446295, 6.083555585579473, 4.273659199128273, 2.4102087500562255, 1.1760699053230446, 2.197555607318327, 3.7329967421294827, 5.036119112189743, 5.9825311565409525, 6.5273457244058335, 6.644820465873222, 6.311645066527448, 5.506372167721563, 4.222019742520073, 2.5025456803333133, 0.9169909059794991, 11.675161382071824, 10.46795138246509, 9.635182696077987, 9.048625224496247, 8.522894949132308, 7.878848934134978, 6.9888536653067055, 5.794479605055392, 4.311924611922837, 2.656408509981044, 1.3121494299580192, 1.8947909329944352, 3.332768316673739, 4.5542783707728125, 5.334980517131378, 5.583074832943468, 5.262845533892877, 4.3839609843025675, 3.007771789579669, 1.324584696852256, 1.3001610454090182, 3.3584586620926196, 5.4971222284458845, 7.476425221316522, 9.186634723860953, 10.563039403376598, 11.575564384660986, 12.221951288193177, 12.51947182114588, 12.494887283204058, 12.174055556614867, 11.573980451152874, 10.70060099919321, 9.554313651841165, 8.142542316968395, 6.497344551209056, 4.702043704845908, 2.9709771751991836, 2.0196681622400043, 2.7632419752516633, 4.145756285432776, 5.4042316281439335, 6.331356852334606, 6.850799623297035, 6.923814086901039, 6.524091397497523, 5.63267408947638, 4.243962909901139, 2.380554936272834, 0.36240131356363975, 11.52486750460208, 10.328469223486398, 9.512210946490109, 8.943361049874031, 8.431130699879155, 7.7926128629769265, 6.898107050224393, 5.686349887275733, 4.163264064876951, 2.3976640085653695, 0.5638009991798991, 1.4204182203251696, 3.0450084552743504, 4.31022210849454, 5.098750935545031, 5.342942334661343, 5.014178010682726, 4.120704456629842, 2.7103704972110387, 0.8902400609875711, 1.3010364560737624, 3.535390747898994, 5.737286974784927, 7.767641506196143, 9.529442776932862, 10.95983497408839, 12.026589976545168, 12.72287686418396, 13.060076272443089, 13.059198673794626, 12.742356249506178, 12.126618798248012, 11.222805875362235, 10.040801934897013, 8.601380564689963, 6.954691132081702, 5.21341505167666, 3.6430141065658486, 2.8766280220842937, 3.4433963712773017, 4.650023013004663, 5.823043866816303, 6.700686808044877, 7.175990079686124, 7.196297919236555, 6.7314973014478285, 5.7652084295005555, 4.297110386765536, 2.351786755265521, 0.18031477999195042, 11.263252292706191, 10.068193180391477, 9.270270308985737, 8.733033423233001, 8.257845133302894, 7.655597493608221, 6.7947649808812915, 5.616205608840747, 4.131129866913621, 2.420519855560588, 0.7529113924074669, 1.4458438190028415, 2.9766711758439066, 4.181844455154754, 4.922095339649565, 5.129186599996217, 4.775560360812862, 3.8690423866934656, 2.456126267768029, 0.6719111699940677, 1.5882792517136328, 3.8298416828226, 6.049283297849149, 8.105608103297573, 9.900697559945092, 11.369645827893484, 12.476804060446492, 13.21068221307919, 13.577404201869754, 13.593277693218154, 13.27776241540101, 12.648744551269873, 11.722132410848126, 10.51713344083903, 9.067746226113616, 7.442035304277321, 5.778096524713015, 4.363871706939016, 3.7235509079542273, 4.170660252320633, 5.21129576718987, 6.2768950731705315, 7.083008265834823, 7.498641050699708, 7.458396275621133, 6.928419288122992, 5.89541483579175, 4.3682347404031825, 2.397681899738807, 0.6724734605428447, 10.896534738457305, 9.692794236300683, 8.914591292183161, 8.42233602364343, 8.006265247631315, 7.467921360558819, 6.673699926267647, 5.570560022649854, 4.1870262750485, 2.655559170704678, 1.4470049673121201, 1.8531317923289956, 3.0871862003916655, 4.144947874721124, 4.787703596832258, 4.928672982690021, 4.538351858574269, 3.62917749651933, 2.2740060446760832, 0.9347101179163386, 2.093740807295262, 4.245403119655679, 6.441586515123839, 8.497953200651745, 10.30644753935766, 11.797141288882678, 12.929901869349129, 13.688466074536738, 14.07417284902441, 14.099412244664466, 13.781781734006751, 13.140476285925006, 12.196525490691503, 10.978090491637468, 9.531708142119797, 7.94165274757924, 6.364671407911144, 5.089315576437898, 4.538956531532239, 4.900645140896702, 5.7958620134724566, 6.7466419125748365, 7.467487104725885, 7.811794718250354, 7.703937031264188, 7.106912396421684, 6.010852870870938, 4.435960036419257, 2.472599258469577, 1.085920521887217, 10.43304356941331, 9.209374590664709, 8.45146516342642, 8.01715772377428, 7.6809909751116905, 7.2308217987210135, 6.529883787162996, 5.533456005589697, 4.2923238745692585, 2.9883559745744277, 2.1092416262944047, 2.3675040516069896, 3.300007817116994, 4.163536181858469, 4.672928711201728, 4.724442269684654, 4.289494312135456, 3.3950549033836785, 2.180459450587597, 1.4483095893552105, 2.7133508729510414, 4.763857804980112, 6.911366204840885, 8.945914318003076, 10.748972092499892, 12.244727865871575, 13.388190683186824, 14.158408253572006, 14.552368577511375, 14.579156516102472, 14.255066871552318, 13.600879012670385, 12.642597925823647, 11.416751452419318, 9.981279795880633, 8.434122806784174, 6.943799369055417, 5.786785356475092, 5.303286926169989, 5.602027106082118, 6.37417870776107, 7.212493819970275, 7.841720703483772, 8.107135631750094, 7.925815860793215, 7.25836574447673, 6.098171912357313, 4.476606460910403, 2.524637911155296, 1.3962456132395742, 9.883435658147942, 8.626595452573236, 7.888303727454203, 7.524717044675483, 7.288165290789344, 6.946825431481331, 6.358839312077521, 5.4884073678359, 4.407708273774173, 3.327625683622048, 2.6754287340455596, 2.8528956646777397, 3.540448219528233, 4.198950034615492, 4.553444073492317, 4.497686388031962, 4.012736763543689, 3.1553760709635803, 2.1733260689229783, 2.0200726200432735, 3.3827784018602456, 5.357442138627802, 7.447468412454085, 9.44516735425046, 11.226968595062743, 12.712526510877646, 13.852507597428662, 14.621694196729505, 15.013218314058166, 15.033377972970506, 14.697559107587615, 14.0282279850346, 13.056063839275579, 11.825201147608706, 10.403597177811672, 8.900141383070995, 7.489615959346462, 6.430944769622119, 5.998932210712247, 6.251033006932539, 6.9215340595237675, 7.65587005077761, 8.193259753599383, 8.3762824046093, 8.117379904178181, 7.375383025244791, 6.146126693515129, 4.469755293251103, 2.5104999776683945, 1.588143153851997, 9.261058452799746, 7.954889132222864, 7.233712093892158, 6.95378138484863, 6.835778230355156, 6.620051237077625, 6.157219167702905, 5.420230631914606, 4.499410295540061, 3.616680849173347, 3.125996448558535, 3.2556883302302175, 3.7539673652820387, 4.217351171818221, 4.406925025908741, 4.2301407193192535, 3.6906439779873037, 2.8969187858560614, 2.236753765224388, 2.5957507087395117, 4.067507937715062, 5.998842375064263, 8.034585131956668, 9.987547464348264, 11.736281945256277, 13.198680307392749, 14.322349030708873, 15.078585133210657, 15.45726804939794, 15.462387756784354, 15.108701355415196, 14.420333362091528, 13.432217587977183, 12.195231965884906, 10.785912498291092, 9.32168706422903, 7.979954316512015, 7.001287234473221, 6.61024237984136, 6.828793415511163, 7.4177291841480235, 8.060448723384061, 8.510775355606459, 8.611896710922055, 8.27365303709588, 7.453453255179388, 6.1482162195444685, 4.402638837889432, 2.4009382068444145, 1.6579581897540072, 8.58250498154996, 7.2068091213114, 6.497567630960906, 6.314998968880535, 6.334109851489311, 6.256602100016586, 5.923418174092452, 5.316456917653164, 4.5415557410542275, 3.822553648766387, 3.451027816696914, 3.552550116351081, 3.9063616705994537, 4.193643430709592, 4.216023773172705, 3.906446847787055, 3.3068081842334536, 2.6097269340221927, 2.3543188643510016, 3.1596568351419108, 4.74948833397665, 6.666022066383608, 8.65691332793101, 10.563019958118817, 12.270920265579221, 13.699879584600009, 14.796155079005633, 15.528599502491325, 15.884543324130084, 15.866132709751952, 15.487697880865847, 14.774897209890149, 13.766418992492051, 12.518986288234071, 11.116375803912476, 9.68270487704092, 8.396140256059747, 7.480878436738052, 7.1235257425166125, 7.320066620399597, 7.8465764144113, 8.412694729290873, 8.784880854352803, 8.808546924328514, 8.392303989779903, 7.492270754456064, 6.104807755485926, 4.273682425949819, 2.1827335983869047, 1.6203848860123042, 7.868427082204916, 6.397635901314022, 5.691097065259734, 5.62141391306704, 5.796329734432853, 5.864990310034341, 5.658135037953291, 5.16825404729592, 4.516198499385696, 3.9266031571765443, 3.6456764632098384, 3.733524565093756, 3.979091281008891, 4.1127861587030266, 3.9706265997063173, 3.516370378790079, 2.847794427114148, 2.294492454422763, 2.5199578358419603, 3.7104167477064913, 5.420632512657273, 7.343437489859948, 9.30054899243634, 11.161396366527132, 12.82410221154741, 14.211977642417187, 15.271681318392577, 15.97076523349599, 16.29476328363284, 16.244425509760717, 15.833797969988666, 15.089878021195723, 14.054557871301279, 12.789520183753199, 11.384630066349601, 9.96948764864621, 8.722700545528685, 7.8556733290877325, 7.527039386987395, 7.712605458811818, 8.195481333245908, 8.702106299099764, 9.008681021546227, 8.963327509983221, 8.474323242354572, 7.496643447334221, 6.024744650488827, 4.096015435420379, 1.8638998055421014, 1.5237650661258968, 7.144661327753576, 5.546503082775112, 4.826942952411759, 4.88933045179233, 5.2392756215426175, 5.456519602773412, 5.364816589194707, 4.970942750968509, 4.412505412894962, 3.9192695051579203, 3.709174275484811, 3.796709779327099, 3.9655000112822285, 3.970068723739016, 3.6699050840811434, 3.057290428272139, 2.3046123342537745, 1.9748373895203934, 2.740938869950153, 4.254445883419088, 6.079522753262646, 8.021559774907011, 9.954641328770474, 11.773547447618634, 13.389151071234643, 14.730586429612115, 15.746393001923831, 16.403902032655786, 16.68757949967173, 16.597189711427397, 16.14658258039429, 15.36384301679253, 14.29348240400443, 13.001289395135778, 11.582268557227342, 10.17089720359074, 8.947110865393674, 8.11412588663452, 7.81097803225079, 7.996846726103995, 8.455171396923218, 8.921341881643583, 9.178136571653992, 9.076270269191323, 8.524413343853835, 7.476954979935372, 5.926369002239564, 3.9014438278967005, 1.4940975777297, 1.4761905798384596, 6.443598575540732, 4.678660135025472, 3.919210803370114, 4.139915985997096, 4.684395291284959, 5.0454931615717165, 5.049924184894089, 4.724243136187262, 4.225862453250971, 3.797359892595103, 3.6446350007653447, 3.7466287013601844, 3.868810551878857, 3.7714474248130028, 3.3250157427490814, 2.5384730828339594, 1.6738139677351904, 1.71925171687412, 3.033608840685478, 4.802626702082778, 6.729238724510904, 8.695769344149626, 10.611644800772346, 12.392081418240721, 13.960141656935281, 15.251575226790912, 16.21782874811575, 16.826897544092684, 17.062813155547946, 16.92469850107694, 16.42623579316358, 15.596293443300935, 14.481384586991489, 13.150570870319406, 11.70320805712649, 10.278525515165633, 9.059622943854045, 8.246954950618012, 7.967468404106302, 8.165787674682672, 8.619577483284129, 9.066329271757377, 9.292323985961405, 9.15059472157645, 8.551109974454231, 7.449123482016891, 5.83762076402671, 3.7436841822710205, 1.2305249356047325, 1.6374755171591104, 5.805275732311706, 3.8303300224557377, 2.9834900742526846, 3.402455854976149, 4.1586441000450645, 4.649010791926391, 4.722945301990209, 4.43237682664082, 3.9571988603943056, 3.562616820415185, 3.4592074848932755, 3.594149548284739, 3.7016296757130456, 3.534530154627837, 2.9635864693520046, 1.9920882817438113, 0.9592240671345537, 1.657200708612526, 3.4152333115678437, 5.367480511233402, 7.375535671947793, 9.365071253074484, 11.267017601038203, 13.011574993510974, 14.532282408030445, 15.77143271907645, 16.68389782399705, 17.23894927187622, 17.420668571141842, 17.227789044647338, 16.67378583784314, 15.787951811781763, 14.618141081034311, 13.235837988340846, 11.74402790757864, 10.28686689178661, 9.053183884720914, 8.246999397018737, 7.990577964913607, 8.215001608218913, 8.685872291663479, 9.136423365277647, 9.353653371593259, 9.192837960738736, 8.56664148378917, 7.433947085182521, 5.794475729760847, 3.6955015240832076, 1.370112931871378, 2.097263440590667, 5.276528628563212, 3.0592934654666797, 2.036852178201326, 2.7212245971460303, 3.6945338120156577, 4.285957196368969, 4.396025614734521, 4.104110674001066, 3.6126436753150637, 3.220920204467272, 3.1646309550726324, 3.3575271563961384, 3.486685249231109, 3.290262190646506, 2.6366536374484175, 1.5073809426295943, 0.2069255579599824, 1.9035319568841187, 3.896269861552997, 5.960504998436571, 8.025173393860713, 10.030814397551067, 11.918628691798519, 13.628483855216096, 15.102063552642349, 16.287484206157952, 17.14309238064021, 17.639753446939757, 17.761906398234846, 17.5080377765778, 16.89130297450008, 15.941001916055207, 14.705608886901977, 13.258106909992948, 11.704319170448947, 10.193559053694512, 8.923461715061176, 8.109130137475958, 7.876350656016959, 8.142795101751883, 8.654685433071187, 9.134659481455088, 9.368084683960035, 9.212882178759916, 8.586508765800065, 7.4556849105690395, 5.83677450251697, 3.8308231052691344, 1.974915450925427, 2.8150192328426273, 4.904856211475989, 2.4639275881529126, 1.0979081247340436, 2.1681895522850336, 3.3272694774995073, 3.974666512269769, 4.083026238857521, 3.7527648743604978, 3.2036429989241064, 2.7818082289559976, 2.778621040784201, 3.064802300932483, 3.2583831709518742, 3.0840429885771905, 2.4233566004233693, 1.3022269527397572, 0.7276509620639481, 2.434593780231807, 4.476670311402755, 6.589996562821963, 8.684443459178183, 10.695514261458124, 12.56605156887374, 14.240854516634148, 15.66722480915616, 16.79797718983468, 17.5946104902558, 18.029630910719483, 18.087965272910235, 17.767885354405237, 17.082043269606753, 16.059272338621724, 14.74787259540383, 13.221266026412666, 11.587082308364499, 9.999752235591698, 8.66900860637824, 7.830204736352894, 7.622890776957063, 7.950552675173537, 8.530538013314345, 9.068135167980744, 9.3453525051496, 9.223862187299437, 8.628738316156275, 7.539775096785716, 6.001216196644276, 4.194101859892602, 2.8529360748145605, 3.7186857263542006, 4.7241998250230335, 2.185556069839111, 0.1903767939992925, 1.849516795433191, 3.0859411420597582, 3.7289966347216037, 3.7977713556149006, 3.3960887261239994, 2.7478632055445615, 2.258159717508637, 2.328369447627909, 2.7579355002611523, 3.0636325339476254, 2.971847885631371, 2.412540078142963, 1.5872567706503298, 1.632580413836037, 3.1520037546140798, 5.146745638193613, 7.259754589424087, 9.358027118612885, 11.361856761157396, 13.209864037954741, 14.847938471701237, 16.22660112015266, 17.30206045094663, 18.038396303310883, 18.40958756809239, 18.401025706943773, 18.01070305981061, 17.250528315385086, 16.14835217255399, 14.75143354007202, 13.132389797853513, 11.399204428895336, 9.71067995290767, 8.291629798834796, 7.409062877077263, 7.230535156201175, 7.643371705919755, 8.322565174252215, 8.948532128700784, 9.29916555992954, 9.241889990425765, 8.712755779894897, 7.7098401995419845, 6.313429744652861, 4.783639664654479, 3.885519682642397, 4.756627815346522, 4.7378091828438045, 2.301427283240138, 0.6815437935725339, 1.8433959623079204, 2.9792689872760585, 3.5535768470563056, 3.551382339395919, 3.0556573276421326, 2.2717340458997017, 1.6659533706620964, 1.859923034016233, 2.497413824004497, 2.957520646871375, 3.0046176200617003, 2.64601069592937, 2.2198431008340656, 2.57409554719788, 3.9780929290007885, 5.890483682189767, 7.9688262189249865, 10.048296531561867, 12.0319442761446, 13.85103348953576, 15.44978550098646, 16.779900118021505, 17.799686159668873, 18.47511012248634, 18.7813126637739, 18.704014305456244, 18.2407952031065, 17.402551563385217, 16.215624429098575, 14.72532122568876, 13.002020476789985, 11.152032748858831, 9.336531126696983, 7.797098467036967, 6.846575185696876, 6.7021986998775995, 7.23118531718488, 8.045614326822017, 8.792743285624843, 9.247283442153535, 9.285492241601853, 8.857881126528307, 7.9845638707088264, 6.7830102921078845, 5.565534556751029, 5.0204965346465436, 5.89508726366259, 4.913143556770185, 2.704865517114381, 1.4776632086452417, 2.0883855201963715, 2.9861899139495165, 3.440479183296903, 3.3490749003451956, 2.755007609483944, 1.8166332569386785, 1.0240582620698169, 1.4624282501369466, 2.3589047279709723, 2.987893447803887, 3.2041804882732996, 3.0869811223590338, 2.998968156593361, 3.530816206507365, 4.864133612195698, 6.689011107897592, 8.712122299272188, 10.755090041294258, 12.706817151985765, 14.490436758713306, 16.046870658691038, 17.327455733452034, 18.29146405284667, 18.90604438062533, 19.147122135068457, 19.000550046898187, 18.46333483949798, 17.545102824685326, 16.270199144773315, 14.68109466374219, 12.844373522143263, 10.8620279792184, 8.893752990608316, 7.196504804792495, 6.145786429485951, 6.044092634810265, 6.73073913333777, 7.721788865867742, 8.623471513102176, 9.211292281379846, 9.374647023636635, 9.081578029410915, 8.37536616984024, 7.404193961895159, 6.49755133571521, 6.229869738709579, 7.1102579469895035, 5.195490272302873, 3.2288001036100695, 2.1906985781595307, 2.4430838482900543, 3.0626413022877763, 3.3697514257583943, 3.187554508467673, 2.515390637758995, 1.4510109981188273, 0.35416387271468264, 1.2971645053859833, 2.404891587830466, 3.173039813649814, 3.5529241980229775, 3.662479742415116, 3.8309642913647686, 4.485931648934336, 5.777904646473592, 7.52309720916658, 9.481533507138671, 11.475898503533896, 13.38624761312427, 15.128537313633142, 16.63978965918175, 17.86999157097803, 18.778493310771196, 19.333002302361702, 19.50985688843756, 19.294837527002237, 18.684233199479927, 17.686204520685802, 16.322726303428002, 14.632687934232731, 12.67738314257461, 10.55140977089256, 8.406915200667957, 6.50883983718929, 5.312273051099176, 5.26733479763873, 6.169063838772582, 7.382366186325175, 8.469488878734408, 9.215830074676443, 9.52936649370086, 9.397757841498834, 8.88565868509318, 8.160906362732014, 7.54248957527248, 7.494989611484282, 8.383881666437382, 5.527573441150181, 3.7639974610182168, 2.8082620828920235, 2.802897210295726, 3.158854486804296, 3.313953657361703, 3.054517804992408, 2.3489455634181033, 1.2733705643950421, 0.32155877549436035, 1.4829505284243438, 2.641514032307634, 3.4932471612091405, 4.0083363698878705, 4.3078380271685095, 4.6718142586249725, 5.424397004560045, 6.696001813151964, 8.374621843422215, 10.267172908914388, 12.206336488230173, 14.068768589617227, 15.765219415889897, 17.229040186188605, 18.408416941910854, 19.26219291413698, 19.758155226057976, 19.872747377550702, 19.591514935093304, 18.909947014609006, 17.83465742104575, 16.38507081504582, 14.596045301245217, 12.522457001809178, 10.24856984379513, 7.911134226559467, 5.766058425451039, 4.355106185382534, 4.391982480805241, 5.5893824301143, 7.069570294523389, 8.365000298042688, 9.287018781977585, 9.767923009279237, 9.815532557275194, 9.511780062313711, 9.032637616639033, 8.671226854011552, 8.801664350408467, 9.701133382640746, 5.861568657453522, 4.25379737407348, 3.3227046359781642, 3.112268897219261, 3.232669340407931, 3.2442045578925507, 2.9309730078853975, 2.252462890200799, 1.3400615121271, 0.9758120157835202, 1.9138862111945447, 3.0174448694047373, 3.905254725205036, 4.523487332549331, 4.97649156122876, 5.4953863317248715, 6.332755855633153, 7.600290985680571, 9.22731793751404, 11.058494533851787, 12.940756215653197, 14.751876947079452, 16.399760578359597, 17.814892334201467, 18.94366860583297, 19.74414589794043, 20.18389277601216, 20.23925659522996, 19.895467185585954, 19.147232536196793, 17.999700634180652, 16.46984076114809, 14.588494881289064, 12.403770534006924, 9.98781555099599, 7.4545341991320555, 5.022961017522688, 3.2899943522308033, 3.458677884077926, 5.0599041736223604, 6.836694273603788, 8.347388807344426, 9.450039881482809, 10.105019400103561, 10.338725757349462, 10.244993576468543, 9.998669165195277, 9.861630478303876, 10.138325370426148, 11.049576261658787, 6.162228678288417, 4.669737800470203, 3.730815363793122, 3.344679594594154, 3.254336577740674, 3.135090475143461, 2.795529394066053, 2.2075431336946068, 1.5797480527631933, 1.5890808191729908, 2.433733380783988, 3.464739538288571, 4.361794604921274, 5.057586760725561, 5.635590276029862, 6.283240898872431, 7.199213460484884, 8.476309592557135, 10.067099597813266, 11.84517855232537, 13.672884229388956, 15.432342905048108, 17.0309117767595, 18.397340425344492, 19.47660285532835, 20.225967644498056, 20.612677728331622, 20.612913684787554, 20.21161698932445, 19.40286030050981, 18.190600617623193, 16.589778029075976, 14.627836740191908, 12.346939293941368, 9.807785184337192, 7.098888354394898, 4.374378670584746, 2.1534882037986516, 2.567571867375666, 4.681434487409476, 6.743798470842606, 8.45288850202424, 9.726179032106888, 10.550341830480848, 10.966198854444958, 11.073688023621957, 11.04022215249026, 11.096767426093441, 11.495225207895206, 12.418600443527932, 6.405553144955497, 4.998210965201985, 4.033730620878754, 3.490052694873295, 3.206471242909508, 2.967505202458767, 2.6289572904567104, 2.1886976444153623, 1.8824269576301786, 2.144606375263532, 2.9552414082018954, 3.9265874665349925, 4.82183722014602, 5.578036503607441, 6.261149981492115, 7.021235319693937, 8.013751325800712, 9.312525679538192, 10.882180538593433, 12.617771662621447, 14.39640034723934, 16.106563039688236, 17.65704992154778, 18.97612115585327, 20.007935933312456, 20.709203566712873, 21.046914789870968, 20.99714987623085, 20.54470845997529, 19.68330994148251, 18.416195913024072, 16.7570469015048, 14.731178750538307, 12.377015518987394, 9.747892075229991, 6.914551283763112, 3.971306865060252, 1.1145892114896803, 1.9992845767983696, 4.57629580992845, 6.846591660463176, 8.710781286004682, 10.130102763140341, 11.107879408629396, 11.692780267434046, 11.985174822386574, 12.14114921721044, 12.363431087839885, 12.864025549093341, 13.799086989478885, 6.576311925481281, 5.234242052823949, 4.23670583779547, 3.549050457994577, 3.0827969849787875, 2.729853203577961, 2.41782823704567, 2.1737130185671187, 2.180914154936176, 2.6304040680475493, 3.4342752549224813, 4.361842198394712, 5.252783699246515, 6.059416528532752, 6.835125449665841, 7.698317821575632, 8.76825263793583, 10.099986863904535, 11.663095172759812, 13.368118429901134, 15.105417338257714, 16.77090788336611, 18.276368102890977, 19.550779351124014, 20.53822607157153, 21.195257483736853, 21.48883980401801, 21.39514734908685, 20.89909872930646, 19.994468528334533, 18.6844357712874, 16.982486354866637, 14.913636178210872, 12.515992698626539, 9.842805172258455, 6.965825873826156, 3.9862007688989265, 1.1892998593901214, 2.221937197510345, 4.836597889136497, 7.181122996443018, 9.13815765152222, 10.668263701529323, 11.776139111479916, 12.5104527698247, 12.966873655316084, 13.2878777070257, 13.651098238695399, 14.237548112125676, 15.183181762941887, 6.665711197075239, 5.378304001798411, 4.348637806833369, 3.5304411705686967, 2.88723125271733, 2.418370178953826, 2.1571394464680584, 2.150453828852637, 2.444684403290942, 3.0386481826633704, 3.8460293981632465, 4.741574745491516, 5.629574644201864, 6.482124676190868, 7.34390148913743, 8.306119597451646, 9.456633775123015, 10.832156115187601, 12.402677460322295, 14.08963161411814, 15.794848702378202, 17.42203116612701, 18.887074187104194, 20.12076204424329, 21.06788766118332, 21.685348837126643, 21.940433261986257, 21.809709909031884, 21.278572608550267, 20.341357764874353, 19.00195836577793, 17.274916220043412, 15.187092367104858, 12.780307054567084, 10.116345325992965, 7.290326060699083, 4.488397470175367, 2.4132454826647414, 3.173605984404347, 5.467188485868245, 7.7538126914019205, 9.737691660610038, 11.338932652148715, 12.54907609662181, 13.409493335258729, 14.006953845961748, 14.469064853791934, 14.951217297844277, 15.609600446016383, 16.564126354753988, 6.669469783560494, 5.434317842395056, 4.38123198255953, 3.449471166655295, 2.633695216732285, 2.0371314731702004, 1.8527558223773934, 2.118955535492516, 2.6625777582493355, 3.365008708080925, 4.175304644358041, 5.045390175505406, 5.933303981243811, 6.831382623001559, 7.777588267808783, 8.838876908411102, 10.074980171002071, 11.504840437810424, 13.096021352189704, 14.777444562229359, 16.46066913938779, 18.05712220984378, 19.487575371091424, 20.68552332997328, 21.597227003110536, 22.18049469368319, 22.403359566217365, 22.243162094367214, 21.686193347663888, 20.727913906520126, 19.37375449236495, 17.64059446840838, 15.559255170545326, 13.179012730123317, 10.577340274741301, 7.886833979200033, 5.3917611036695225, 3.873804389577347, 4.464667289083052, 6.399005618951445, 8.544334402293046, 10.499319880878263, 12.133652178702066, 13.41737959001419, 14.379391348588298, 15.094598294870062, 15.675195715229558, 16.25672044435054, 16.974840322231916, 17.936121120196546, 6.586259971813134, 5.408088841840317, 4.347726117958559, 3.3260905030900934, 2.3465749988062763, 1.598196084948717, 1.5254502727222006, 2.0898210349134447, 2.8331026947420668, 3.6077854537100724, 4.412406899295268, 5.258876504348512, 6.15008906450491, 7.096643069231659, 8.129756698399115, 9.29350662454673, 10.62168330948568, 12.116164171427952, 13.740430258773552, 15.42847799690847, 17.10008008625009, 18.67409397343162, 20.07663356411235, 21.244625577459445, 22.12648939656719, 22.68151120060585, 22.878931382615818, 22.697280650425746, 22.124199059397416, 21.156839081594562, 19.80295372671216, 18.08290504544158, 16.033201753138357, 13.713182532827645, 11.219446090739964, 8.722081932033369, 6.5622809342332395, 5.418347181644803, 5.909027088349172, 7.546647695738072, 9.517527775993425, 11.404468332659459, 13.039405826423906, 14.369765268086947, 15.409499431928092, 16.22004822545204, 16.898218017597465, 17.561682331662237, 18.328663040265837, 19.29420835608281, 6.41643336144468, 5.3059103212302, 4.261155749836566, 3.182190667248591, 2.061107994704421, 1.1228640474786238, 1.2197528253415584, 2.0792675626618844, 2.959000813302226, 3.76690051024795, 4.551052435501567, 5.371953479471883, 6.270298344541622, 7.2713142637721235, 8.397430196812898, 9.669761223184064, 11.097572659649703, 12.66655764076743, 14.335354201007004, 16.041442657652684, 17.71159444884768, 19.271706477280254, 20.653482863165834, 21.79782629584166, 22.65590859527862, 23.18902869486547, 23.368096729282897, 23.173259468500607, 22.59394977733267, 21.62953445714873, 20.290753001818175, 18.60231477585109, 16.607486231188105, 14.376651185853376, 12.024704886915298, 9.748506116928636, 7.898451027689199, 7.009905622789289, 7.435148555289427, 8.841044496594934, 10.635005407144265, 12.43060871757864, 14.040769966371014, 15.39405484207267, 16.489449191086944, 17.374541262445234, 18.131241885044513, 18.861075554975333, 19.66710466332119, 20.63416980331207, 6.160994106345071, 5.133305827550612, 4.132311392798637, 3.037331516110978, 1.8207856712465718, 0.6499624465345338, 1.0165684542282345, 2.101029355477033, 3.043578252867601, 3.8428757167925855, 4.587074385726491, 5.377801504048386, 6.288109938355796, 7.352747822716048, 8.581248636759588, 9.97042686844027, 11.506032036192614, 13.158739109911645, 14.88230833013833, 16.616790359909103, 18.29505327337961, 19.84962944622109, 21.21790543302007, 22.345143628644248, 23.18575149585222, 23.70351486554433, 23.871445246841027, 23.67170637951117, 23.09592507213782, 22.146115876768846, 20.836486434535693, 19.19658633534024, 17.27673935701734, 15.157733135991714, 12.968706548752145, 10.918894754858197, 9.336501080668677, 8.629895414910013, 9.008774238129266, 10.23326234521463, 11.8617314995907, 13.554687223368214, 15.12161048393045, 16.477966233198302, 17.6093923556004, 18.550210440902813, 19.368304893680268, 20.15059161741593, 20.986757938293305, 21.952435607402435, 5.820826421999258, 4.894016828202556, 3.967777677728985, 2.9033522247961008, 1.6649026315442312, 0.31753731521755524, 1.0040514703201566, 2.1577667620541088, 3.088143545344757, 3.835977848395694, 4.517546713270463, 5.272194101842027, 6.201400968391733, 7.3424870128376165, 8.685768816560433, 10.20153833706848, 11.853083722210458, 13.597669696379988, 15.384763545742778, 17.15661960241674, 18.851584614691195, 20.408449962851687, 21.770265760484723, 22.886896732364654, 23.716352976101152, 24.225301043451296, 24.389229401142476, 24.1926679141892, 23.629767442399462, 22.705503191963473, 21.43781541990034, 19.861189436000885, 18.032582063679687, 16.041305852641116, 14.025175833306612, 12.193045924695115, 10.836571860294434, 10.265215472159321, 10.609282571570752, 11.68923928283564, 13.168216334215828, 14.755109835138985, 16.26621140628966, 17.609632737035756, 18.760125833887717, 19.7399794749304, 20.604193379245643, 21.426507665177585, 22.28469922912723, 23.246003253593397, 5.3962070237876105, 4.589411987363634, 3.768653157016478, 2.779821445971317, 1.6035467233792784, 0.4871991022071184, 1.1644010177630795, 2.237272087891853, 3.0907371246286397, 3.7457469568552955, 4.3402194716960345, 5.053180338831307, 6.012038010561085, 7.246816549365818, 8.719880380173388, 10.372578617307376, 12.14741542488448, 13.990460107258567, 15.847998360799858, 17.66453775929498, 19.38351247526248, 20.949631633143916, 22.3115057464635, 23.423720003949693, 24.248137818517094, 24.75460766407487, 24.921396157198178, 24.735676515111756, 24.194363023689295, 23.30556731439224, 22.091004296756477, 20.58982757795213, 18.86464307952705, 17.010725140503734, 15.168983152870299, 13.538916107827896, 12.372342078284092, 11.905310706695094, 12.222146055484554, 13.18462506054317, 14.530447591871601, 16.012610061075023, 17.459917044338606, 18.777910121953635, 19.93314554362765, 20.937469829505687, 21.834308954880488, 22.685586194061752, 23.558425399952984, 24.512365603006344, 4.886630111095116, 4.218499998062864, 3.530555012904035, 2.6531060256376846, 1.6022540437241932, 0.8114072438938862, 1.3874009711662547, 2.316319042270256, 3.046497369119067, 3.571125813087435, 4.053245181277957, 4.721167127147362, 5.726745351293165, 7.0776827263535695, 8.697299604742543, 10.496612050270777, 12.40031526583896, 14.34620677197169, 16.27890097886567, 18.145479926964526, 19.894222046176825, 21.475431944160498, 22.843104741073596, 23.95655223675039, 24.781628468339683, 25.29156605420562, 25.467624864774947, 25.299813822903428, 24.787948962834694, 23.94331512640655, 22.791241611777508, 21.374996573345964, 19.7615078701848, 18.049284319608713, 16.37764058304482, 14.931532839440777, 13.925280220648109, 13.541234055811815, 13.836132683761875, 14.701335848297822, 15.929048508993125, 17.310448161969802, 18.689430915893585, 19.972535277258352, 21.120659146897147, 22.136924306679408, 23.05457000631885, 23.924999092816627, 24.80579976628064, 25.749447385274355, 4.290945721651964, 3.778700308666272, 3.245255372420207, 2.5002369768981554, 1.600035267396887, 1.0624135437874729, 1.5847962548054708, 2.3691464629555585, 2.9497909725767704, 3.3114238673294767, 3.655186907841305, 4.279605325435367, 5.358902341166739, 6.854041191439296, 8.637047396251726, 10.59026976990751, 12.625470615185142, 14.675735098746117, 16.68571215900123, 18.605484488111106, 20.387986847419942, 21.988784605088664, 23.3670097107998, 24.486603360574904, 25.31743889567372, 25.836234796432922, 26.02736761208812, 25.883783545982322, 25.408236188707942, 24.615091956889614, 23.532969649584658, 22.208507857937356, 20.711496372498626, 19.14116296551924, 17.631772314315793, 16.351458652620607, 15.481607787610642, 15.165261680148397, 15.442106885141284, 16.225456713478394, 17.348348912745323, 18.63428262557439, 19.94290227664032, 21.18418875144451, 22.315576190001586, 23.333146577936596, 24.261339552813936, 25.1422699338682, 26.02500624447559, 26.955549553213363, 3.6077721492844534, 3.2675834106434682, 2.9040286254442833, 2.2959388959851394, 1.538316541578974, 1.195028821540802, 1.7105929757085951, 2.375961532746949, 2.7980865686964504, 2.9685397225286496, 3.1452847388206417, 3.7368754795033556, 4.931903132114704, 6.603568445807981, 8.56370931589114, 10.673471124348191, 12.838582075279612, 14.991231360707285, 17.077703386554578, 19.051427259085717, 20.869763765085704, 22.493153948400607, 23.885541470922753, 25.015302541716164, 25.856256020881734, 26.388609931612464, 26.599889021062722, 26.48598794094938, 26.052537074272703, 25.31678370877414, 24.310192905326236, 23.081934430485358, 21.703234935202943, 20.271946732270987, 18.91503376514073, 17.78344748940565, 17.03065814853496, 16.770696271304296, 17.0324448599154, 17.745977690490708, 18.775596959761703, 19.971915631454884, 21.209894860774277, 22.404498779723227, 23.51148626788609, 24.52145395210698, 25.451372544449825, 26.33523003487141, 27.214510793434787, 28.129300882298175, 2.836104174877706, 2.6863271531165225, 2.5031549672708673, 2.0206280877336833, 1.374287365405525, 1.1937630962487826, 1.7490094476361637, 2.3301122481165426, 2.597939462622147, 2.5517156553682936, 2.5239634185271194, 3.111235177691503, 4.485004919661416, 6.364285690146841, 8.507117483115925, 10.768741468440243, 13.056751209649436, 15.305754314286679, 17.464791525799356, 19.490719473502057, 21.34496326228033, 22.992368982059393, 24.401283446007426, 25.544232160266137, 26.398811020997965, 26.948629103937893, 27.184303264599986, 27.10460289350346, 26.71788922515959, 26.044004825438588, 25.11674637472623, 23.986961236674766, 22.72603464781255, 21.428842606325382, 20.21379583654673, 19.21542107775009, 18.56394723519081, 18.35174435872683, 18.600712868452405, 19.25401529190878, 20.200348054311366, 21.313013960989977, 22.481297802806665, 23.626011678916065, 24.70263099433541, 25.697640158426296, 26.621777163497534, 27.50198489046714, 28.373029213553046, 29.269616156824085, 1.9760152759578637, 2.048353685584986, 2.0544595248458095, 1.670616344623997, 1.082214737349911, 1.0650192776354657, 1.712564853940505, 2.245661604504584, 2.374505190322964, 2.0892002215727277, 1.793727473584643, 2.445331766787388, 4.081970821263406, 6.184788106294646, 8.500952926883821, 10.900006371612578, 13.297627418077282, 15.632634404462276, 17.85710036512553, 19.93097938256803, 21.81920388684722, 23.490445336656002, 24.916959773478077, 26.0750525998598, 26.94584338019434, 27.516170402687116, 27.779606887123016, 27.737647791462223, 27.401168878927745, 26.792262976797844, 25.94651428377804, 24.915639885347286, 23.770111341126395, 22.600703408331125, 21.516766341990245, 20.63772597326455, 20.0746171553816, 19.903426290566536, 20.141468612706696, 20.742315189560745, 21.614005797603944, 22.64884888796286, 23.749213429266142, 24.842144192874613, 25.883872801917246, 26.857945179063414, 27.769985953365815, 28.640888336077776, 29.49950036848479, 30.375660252647705, 1.029365398137375, 1.4116583925222326, 1.6127462373308221, 1.2827550466514899, 0.6552977120997714, 0.8637330806878918, 1.6521891423552821, 2.1670791225018267, 2.1860433794021996, 1.6609166823554948, 0.9623429576966277, 1.8532170228024167, 3.817607831390981, 6.1206343980393765, 8.579827591102365, 11.09084222230427, 13.578349576519663, 15.9847914626418, 18.26449025785242, 20.379692180534885, 22.298062166353922, 23.991403954717864, 25.435309712351966, 26.60942291119721, 27.49806080664282, 28.091047099065072, 28.384706731379723, 28.38304763427441, 28.099189733628585, 27.557095745843924, 26.793597612758656, 25.860558478077163, 24.826688179809334, 23.777946096967206, 22.814627652770973, 22.042600205554645, 21.557082752468997, 21.421502282005704, 21.650124885629374, 22.204920362876884, 23.00947859414301, 23.97206938705827, 25.00684046567739, 26.047127171106844, 27.050662123099634, 27.99902971276687, 28.893733623351576, 29.750522378331485, 30.59306392922519, 31.446817414688077, 0.018573208955090993, 1.0257691968599418, 1.3469612579045864, 1.018653113759239, 0.21427310933927624, 0.7889411384917068, 1.6702873698522958, 2.175535107138185, 2.1343927927901403, 1.4661846593974468, 0.18183117550858918, 1.6235387319415318, 3.803191115696565, 6.224641195811606, 8.774920420987577, 11.362355301764845, 13.914384862587234, 16.374026906653604, 18.69608735979649, 20.843877261269352, 22.786830537861547, 24.49909568679204, 25.9589651981421, 27.148922261979568, 28.056098143419348, 28.672999723677165, 28.99844286989643, 29.038685982507108, 28.80878513426341, 28.33417817283157, 27.652433972187143, 26.81494213710699, 25.88801775423607, 24.952419282317713, 24.099719520456368, 23.423787453785838, 23.006793264859418, 22.90240735382085, 23.12284706490718, 23.63693911242149, 24.38092017619753, 25.276509914619094, 26.24836172961222, 27.235946054341508, 28.19900376583512, 29.117952451179818, 29.991039199106247, 30.82968107723903, 31.653041803303093, 32.482665038487866];\n",
              "const xvar = \"x1\";\n",
              "const yvar = \"x2\";\n",
              "const x_is_log = false;\n",
              "const y_is_log = false;\n",
              "\n",
              "const GREEN_SCALE = [[247, 252, 253], [229, 245, 249], [204, 236, 230], [153, 216, 201], [102, 194, 164], [65, 174, 118], [35, 139, 69], [0, 109, 44], [0, 68, 27]];\n",
              "const GREEN_PINK_SCALE = [[142, 1, 82], [197, 27, 125], [222, 119, 174], [241, 182, 218], [253, 224, 239], [247, 247, 247], [230, 245, 208], [184, 225, 134], [127, 188, 65], [77, 146, 33], [39, 100, 25]];\n",
              "const BLUE_SCALE = [[255, 247, 251], [236, 231, 242], [208, 209, 230], [166, 189, 219], [116, 169, 207], [54, 144, 192], [5, 112, 176], [3, 78, 123]];\n",
              "\n",
              "// format data\n",
              "const res = relativize_data(f, sd, rel, arm_data, metric);\n",
              "const f_final = res[0];\n",
              "const sd_final = res[1];\n",
              "\n",
              "// calculate max of abs(outcome), used for colorscale\n",
              "const f_absmax = Math.max(Math.abs(Math.min(...f_final)), Math.max(...f_final));\n",
              "\n",
              "// transform to nested array\n",
              "var f_plt = [];\n",
              "while(f_final.length) f_plt.push(f_final.splice(0, density));\n",
              "var sd_plt = [];\n",
              "while(sd_final.length) sd_plt.push(sd_final.splice(0, density));\n",
              "\n",
              "// create traces\n",
              "const CONTOUR_CONFIG = {\n",
              "  autocolorscale: false,\n",
              "  autocontour: true,\n",
              "  contours: {\n",
              "    coloring: 'heatmap',\n",
              "  },\n",
              "  hoverinfo: 'x+y+z',\n",
              "  ncontours: density / 2,\n",
              "  type: 'contour',\n",
              "  x: grid_x,\n",
              "  y: grid_y,\n",
              "};\n",
              "\n",
              "let f_scale;\n",
              "if (rel === true) {\n",
              "  f_scale = lower_is_better === true\n",
              "    ? GREEN_PINK_SCALE.reverse()\n",
              "    : GREEN_PINK_SCALE;\n",
              "} else {\n",
              "  f_scale = GREEN_SCALE;\n",
              "}\n",
              "\n",
              "const f_trace = {\n",
              "  colorbar: {\n",
              "    x: 0.45,\n",
              "    y: 0.5,\n",
              "    ticksuffix: rel === true ? '%' : '',\n",
              "    tickfont: {\n",
              "      size: 8,\n",
              "    },\n",
              "  },\n",
              "  colorscale: f_scale.map(\n",
              "    (v, i) => [i / (f_scale.length - 1), rgb(v)]\n",
              "  ),\n",
              "  xaxis: 'x',\n",
              "  yaxis: 'y',\n",
              "  z: f_plt,\n",
              "  // @TODO T17556631: better handling of color scale (i.e. want to support\n",
              "  // asymmetric color scales when data skews positive or negative).\n",
              "  // zmax and zmin are ignored if zauto is true\n",
              "  zauto: !rel,\n",
              "  zmax: f_absmax,\n",
              "  zmin: -f_absmax,\n",
              "};\n",
              "\n",
              "const sd_trace = {\n",
              "  colorbar: {\n",
              "      x: 1,\n",
              "      y: 0.5,\n",
              "      ticksuffix: rel === true ? '%' : '',\n",
              "      tickfont: {\n",
              "        size: 8,\n",
              "      },\n",
              "  },\n",
              "  colorscale: BLUE_SCALE.map(\n",
              "    (v, i) => [i / (BLUE_SCALE.length - 1), rgb(v)]\n",
              "  ),\n",
              "  xaxis: 'x2',\n",
              "  yaxis: 'y2',\n",
              "  z: sd_plt,\n",
              "};\n",
              "\n",
              "Object.keys(CONTOUR_CONFIG).forEach(key => {\n",
              "  f_trace[key] = CONTOUR_CONFIG[key];\n",
              "  sd_trace[key] = CONTOUR_CONFIG[key];\n",
              "});\n",
              "\n",
              "// get in-sample arms\n",
              "const arm_x = [];\n",
              "const arm_y = [];\n",
              "const arm_text = [];\n",
              "\n",
              "Object.keys(arm_data['in_sample']).forEach(arm_name => {\n",
              "  arm_x.push(arm_data['in_sample'][arm_name]['parameters'][xvar]);\n",
              "  arm_y.push(arm_data['in_sample'][arm_name]['parameters'][yvar]);\n",
              "  arm_text.push(arm_name);\n",
              "});\n",
              "\n",
              "// configs for in-sample arms\n",
              "const base_in_sample_arm_config = {\n",
              "  hoverinfo: 'text',\n",
              "  legendgroup: 'In-sample',\n",
              "  marker: {color: 'black', symbol: 1, opacity: 0.5},\n",
              "  mode: 'markers',\n",
              "  name: 'In-sample',\n",
              "  text: arm_text,\n",
              "  type: 'scatter',\n",
              "  x: arm_x,\n",
              "  y: arm_y,\n",
              "};\n",
              "\n",
              "const f_in_sample_arm_trace = {\n",
              "  xaxis: 'x',\n",
              "  yaxis: 'y',\n",
              "};\n",
              "\n",
              "const sd_in_sample_arm_trace = {\n",
              "  showlegend: false,\n",
              "  xaxis: 'x2',\n",
              "  yaxis: 'y2',\n",
              "};\n",
              "\n",
              "Object.keys(base_in_sample_arm_config).forEach(key => {\n",
              "  f_in_sample_arm_trace[key] = base_in_sample_arm_config[key];\n",
              "  sd_in_sample_arm_trace[key] = base_in_sample_arm_config[key];\n",
              "});\n",
              "\n",
              "const traces = [\n",
              "  f_trace,\n",
              "  sd_trace,\n",
              "  f_in_sample_arm_trace,\n",
              "  sd_in_sample_arm_trace,\n",
              "];\n",
              "\n",
              "// start symbol at 2 for candidate markers\n",
              "let i = 2;\n",
              "\n",
              "// iterate over out-of-sample arms\n",
              "Object.keys(arm_data['out_of_sample']).forEach(generator_run_name => {\n",
              "  const ax = [];\n",
              "  const ay = [];\n",
              "  const atext = [];\n",
              "\n",
              "  Object.keys(arm_data['out_of_sample'][generator_run_name]).forEach(arm_name => {\n",
              "    ax.push(\n",
              "      arm_data['out_of_sample'][generator_run_name][arm_name]['parameters'][xvar]\n",
              "    );\n",
              "    ay.push(\n",
              "      arm_data['out_of_sample'][generator_run_name][arm_name]['parameters'][yvar]\n",
              "    );\n",
              "    atext.push('<em>Candidate ' + arm_name + '</em>');\n",
              "  });\n",
              "\n",
              "  traces.push({\n",
              "    hoverinfo: 'text',\n",
              "    legendgroup: generator_run_name,\n",
              "    marker: {color: 'black', symbol: i, opacity: 0.5},\n",
              "    mode: 'markers',\n",
              "    name: generator_run_name,\n",
              "    text: atext,\n",
              "    type: 'scatter',\n",
              "    xaxis: 'x',\n",
              "    x: ax,\n",
              "    yaxis: 'y',\n",
              "    y: ay,\n",
              "  });\n",
              "  traces.push({\n",
              "    hoverinfo: 'text',\n",
              "    legendgroup: generator_run_name,\n",
              "    marker: {color: 'black', symbol: i, opacity: 0.5},\n",
              "    mode: 'markers',\n",
              "    name: 'In-sample',\n",
              "    showlegend: false,\n",
              "    text: atext,\n",
              "    type: 'scatter',\n",
              "    x: ax,\n",
              "    xaxis: 'x2',\n",
              "    y: ay,\n",
              "    yaxis: 'y2',\n",
              "  });\n",
              "  i += 1;\n",
              "});\n",
              "\n",
              "// layout\n",
              "const xrange = axis_range(grid_x, x_is_log);\n",
              "const yrange = axis_range(grid_y, y_is_log);\n",
              "\n",
              "const xtype = x_is_log ? 'log' : 'linear';\n",
              "const ytype = y_is_log ? 'log' : 'linear';\n",
              "\n",
              "const layout = {\n",
              "  autosize: false,\n",
              "    margin: {\n",
              "      l: 35,\n",
              "      r: 35,\n",
              "      t: 35,\n",
              "      b: 100,\n",
              "      pad: 0,\n",
              "  },\n",
              "  annotations: [\n",
              "    {\n",
              "      font: {size: 14},\n",
              "      showarrow: false,\n",
              "      text: 'Mean',\n",
              "      x: 0.25,\n",
              "      xanchor: 'center',\n",
              "      xref: 'paper',\n",
              "      y: 1,\n",
              "      yanchor: 'bottom',\n",
              "      yref: 'paper',\n",
              "    },\n",
              "    {\n",
              "      font: {size: 14},\n",
              "      showarrow: false,\n",
              "      text: 'Standard Error',\n",
              "      x: 0.8,\n",
              "      xanchor: 'center',\n",
              "      xref: 'paper',\n",
              "      y: 1,\n",
              "      yanchor: 'bottom',\n",
              "      yref: 'paper',\n",
              "    },\n",
              "  ],\n",
              "  hovermode: 'closest',\n",
              "  legend: {orientation: 'h', x: 0, y: -0.25},\n",
              "  height: 450,\n",
              "  width: 950,\n",
              "  xaxis: {\n",
              "    anchor: 'y',\n",
              "    autorange: false,\n",
              "    domain: [0.05, 0.45],\n",
              "    exponentformat: 'e',\n",
              "    range: xrange,\n",
              "    tickfont: {size: 11},\n",
              "    tickmode: 'auto',\n",
              "    title: xvar,\n",
              "    type: xtype,\n",
              "  },\n",
              "  xaxis2: {\n",
              "    anchor: 'y2',\n",
              "    autorange: false,\n",
              "    domain: [0.60, 1],\n",
              "    exponentformat: 'e',\n",
              "    range: xrange,\n",
              "    tickfont: {size: 11},\n",
              "    tickmode: 'auto',\n",
              "    title: xvar,\n",
              "    type: xtype,\n",
              "  },\n",
              "  yaxis: {\n",
              "    anchor: 'x',\n",
              "    autorange: false,\n",
              "    domain: [0, 1],\n",
              "    exponentformat: 'e',\n",
              "    range: yrange,\n",
              "    tickfont: {size: 11},\n",
              "    tickmode: 'auto',\n",
              "    title: yvar,\n",
              "    type: ytype,\n",
              "  },\n",
              "  yaxis2: {\n",
              "    anchor: 'x2',\n",
              "    autorange: false,\n",
              "    domain: [0, 1],\n",
              "    exponentformat: 'e',\n",
              "    range: yrange,\n",
              "    tickfont: {size: 11},\n",
              "    tickmode: 'auto',\n",
              "    type: ytype,\n",
              "  },\n",
              "};\n",
              "\n",
              "Plotly.newPlot(\"f2706f66f9444e689b4ecb9aa4088004\", traces, layout, {showLink: false});\n",
              "});</script>"
            ]
          },
          "metadata": {},
          "output_type": "display_data"
        }
      ],
      "source": [
        "render(plot_contour(model=gpei, param_x='x1', param_y='x2', metric_name='branin', relative=False))"
      ]
    },
    {
      "cell_type": "code",
      "execution_count": 11,
      "metadata": {},
      "outputs": [
        {
          "data": {
            "text/html": [
              "<div id=\"b5d01f9ca29c494888fb8409246f766e\" style=\"width: 100%;\" class=\"plotly-graph-div\"></div><script type='text/javascript'>require(['plotly'], function(Plotly) {\n",
              "  window.PLOTLYENV = window.PLOTLYENV || {};\n",
              "  window.PLOTLYENV.BASE_URL = 'https://plot.ly';\n",
              "  Plotly.newPlot(\n",
              "  \"b5d01f9ca29c494888fb8409246f766e\",\n",
              "  [{\"type\": \"scatter\", \"x\": [1, 2, 3, 4, 5, 6, 7, 8, 9, 10, 11, 12, 13, 14, 15, 16, 17, 18, 19, 20], \"y\": [21.881901151163497, 21.881901151163497, 18.29166566939947, 18.29166566939947, 18.29166566939947, 3.333690872360296, 3.333690872360296, 3.333690872360296, 3.333690872360296, 3.333690872360296, 3.333690872360296, 3.333690872360296, 3.333690872360296, 3.333690872360296, 3.333690872360296, 3.333690872360296, 0.8303975792983186, 0.8303975792983186, 0.8303975792983186, 0.8303975792983186], \"legendgroup\": \"\", \"mode\": \"lines\", \"line\": {\"width\": 0}, \"showlegend\": false, \"hoverinfo\": \"none\"}, {\"type\": \"scatter\", \"name\": \"mean\", \"legendgroup\": \"mean\", \"x\": [1, 2, 3, 4, 5, 6, 7, 8, 9, 10, 11, 12, 13, 14, 15, 16, 17, 18, 19, 20], \"y\": [21.881901151163497, 21.881901151163497, 18.29166566939947, 18.29166566939947, 18.29166566939947, 3.333690872360296, 3.333690872360296, 3.333690872360296, 3.333690872360296, 3.333690872360296, 3.333690872360296, 3.333690872360296, 3.333690872360296, 3.333690872360296, 3.333690872360296, 3.333690872360296, 0.8303975792983186, 0.8303975792983186, 0.8303975792983186, 0.8303975792983186], \"mode\": \"lines\", \"line\": {\"color\": \"rgba(128,177,211,1)\"}, \"fillcolor\": \"rgba(128,177,211,0.3)\", \"fill\": \"tonexty\"}, {\"type\": \"scatter\", \"x\": [1, 2, 3, 4, 5, 6, 7, 8, 9, 10, 11, 12, 13, 14, 15, 16, 17, 18, 19, 20], \"y\": [21.881901151163497, 21.881901151163497, 18.29166566939947, 18.29166566939947, 18.29166566939947, 3.333690872360296, 3.333690872360296, 3.333690872360296, 3.333690872360296, 3.333690872360296, 3.333690872360296, 3.333690872360296, 3.333690872360296, 3.333690872360296, 3.333690872360296, 3.333690872360296, 0.8303975792983186, 0.8303975792983186, 0.8303975792983186, 0.8303975792983186], \"legendgroup\": \"\", \"mode\": \"lines\", \"line\": {\"width\": 0}, \"fillcolor\": \"rgba(128,177,211,0.3)\", \"fill\": \"tonexty\", \"showlegend\": false, \"hoverinfo\": \"none\"}, {\"type\": \"scatter\", \"x\": [1, 20], \"y\": [0.397887, 0.397887], \"mode\": \"lines\", \"line\": {\"dash\": \"dash\", \"color\": \"rgba(253,180,98,1)\"}, \"name\": \"Optimum\"}],\n",
              "  {\"title\": \"\", \"showlegend\": true, \"yaxis\": {\"title\": \"\"}, \"xaxis\": {\"title\": \"Iteration\"}},\n",
              "  {\"showLink\": false}\n",
              ");\n",
              "});</script>"
            ]
          },
          "metadata": {},
          "output_type": "display_data"
        }
      ],
      "source": [
        "# `plot_single_method` expects a 2-d array of means, because it expects to average means from multiple \n",
        "# optimization runs, so we wrap out best objectives array in another array.\n",
        "best_objectives = np.array([[trial.objective_mean for trial in exp.trials.values()]])\n",
        "best_objective_plot = optimization_trace_single_method(\n",
        "        y=np.minimum.accumulate(best_objectives, axis=1),\n",
        "        optimum=0.397887,  # Known minimum objective for Branin function.\n",
        ")\n",
        "render(best_objective_plot)"
      ]
    }
  ],
  "metadata": {
    "kernelspec": {
      "display_name": "python3",
      "language": "python",
      "name": "python3"
    }
  },
  "nbformat": 4,
  "nbformat_minor": 2
}
