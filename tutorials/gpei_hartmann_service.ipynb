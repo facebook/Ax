{
 "cells": [
  {
   "cell_type": "markdown",
   "metadata": {},
   "source": [
    "#  Service API Example on Hartmann6\n",
    "\n",
    "The Ax Service API is designed to allow the user to control scheduling of trials and data computation while having an easy to use interface with Ax.\n",
    "\n",
    "The user iteratively:\n",
    "- Queries Ax for candidates\n",
    "- Schedules / deploys them however they choose\n",
    "- Computes data and logs to Ax\n",
    "- Repeat"
   ]
  },
  {
   "cell_type": "code",
   "execution_count": 1,
   "metadata": {
    "collapsed": true
   },
   "outputs": [],
   "source": [
    "import numpy as np\n",
    "from ax.service.ax_client import AxClient"
   ]
  },
  {
   "cell_type": "markdown",
   "metadata": {},
   "source": [
    "## 1. Initialize Client\n",
    "\n",
    "Create a client object to interface with Ax APIs. By default this runs locally without storage."
   ]
  },
  {
   "cell_type": "code",
   "execution_count": 3,
   "metadata": {
    "collapsed": true
   },
   "outputs": [],
   "source": [
    "ax = AxClient()"
   ]
  },
  {
   "cell_type": "markdown",
   "metadata": {},
   "source": [
    "## 2. Set Up Experiment\n",
    "An experiment consists of a **search space** (parameters and parameter constraints) and **optimization configuration** (objective name, minimization setting, and outcome constraints). Note that:\n",
    "- Only `name`, `parameters`, and `objective_name` arguments are required.\n",
    "- Dictionaries in `parameters` have the following required keys: \"name\" - parameter name, \"type\" - parameter type (\"range\", \"choice\" or \"fixed\"), \"bounds\" for range parameters, \"values\" for choice parameters, and \"value\" for fixed parameters.\n",
    "- Dictionaries in `parameters` can optionally include \"value_type\" (\"int\", \"float\", \"bool\" or \"str\"), \"log_scale\" flag for range parameters, and \"is_ordered\" flag for choice parameters.\n",
    "- `parameter_constraints` should be a list of strings of form \"p1 >= p2\" or \"p1 + p2 <= some_bound\".\n",
    "- `outcome_constraints` should be a list of strings of form \"constrained_metric <= some_bound\"."
   ]
  },
  {
   "cell_type": "code",
   "execution_count": 4,
   "metadata": {},
   "outputs": [
    {
     "name": "stderr",
     "output_type": "stream",
     "text": [
      "[INFO 04-17 21:01:32] ax.service.utils.dispatch: Using Bayesian Optimization generation strategy. Iterations after 6 will take longer to generate due to model-fitting.\n"
     ]
    }
   ],
   "source": [
    "ax.create_experiment(\n",
    "    name=\"hartmann_test_experiment\",\n",
    "    parameters=[\n",
    "        {\n",
    "            \"name\": \"x1\",\n",
    "            \"type\": \"range\",\n",
    "            \"bounds\": [0.0, 1.0],\n",
    "            \"value_type\": \"float\",  # Optional, defaults to inference from type of \"bounds\".\n",
    "            \"log_scale\": False,  # Optional, defaults to False.\n",
    "        },\n",
    "        {\n",
    "            \"name\": \"x2\",\n",
    "            \"type\": \"range\",\n",
    "            \"bounds\": [0.0, 1.0],\n",
    "        },\n",
    "        {\n",
    "            \"name\": \"x3\",\n",
    "            \"type\": \"range\",\n",
    "            \"bounds\": [0.0, 1.0],\n",
    "        },\n",
    "        {\n",
    "            \"name\": \"x4\",\n",
    "            \"type\": \"range\",\n",
    "            \"bounds\": [0.0, 1.0],\n",
    "        },\n",
    "        {\n",
    "            \"name\": \"x5\",\n",
    "            \"type\": \"range\",\n",
    "            \"bounds\": [0.0, 1.0],\n",
    "        },\n",
    "        {\n",
    "            \"name\": \"x6\",\n",
    "            \"type\": \"range\",\n",
    "            \"bounds\": [0.0, 1.0],\n",
    "        },\n",
    "    ],\n",
    "    objective_name=\"hartmann6\",\n",
    "    minimize=True,  # Optional, defaults to False.\n",
    "    parameter_constraints=[\"x1 + x2 <= 2.0\"],  # Optional.\n",
    "    outcome_constraints=[\"l2norm <= 1.25\"],  # Optional.\n",
    ")"
   ]
  },
  {
   "cell_type": "markdown",
   "metadata": {},
   "source": [
    "## 3. Define how to evaluate trials\n",
    "When using Ax a service, evaluation of parameterizations suggested by Ax is done either locally or, more commonly, using an external scheduler. Below is a dummy evaluation function that outputs data for two metrics \"hartmann6\" and \"l2norm\". Note that all returned metrics correspond to either the `objective_name` set on experiment creation or the metric names mentioned in `outcome_constraints`."
   ]
  },
  {
   "cell_type": "code",
   "execution_count": null,
   "metadata": {
    "collapsed": true
   },
   "outputs": [],
   "source": [
    "def hartmann6(x: np.ndarray) -> float:\n",
    "        alpha = np.array([1.0, 1.2, 3.0, 3.2])\n",
    "        A = np.array(\n",
    "            [\n",
    "                [10, 3, 17, 3.5, 1.7, 8],\n",
    "                [0.05, 10, 17, 0.1, 8, 14],\n",
    "                [3, 3.5, 1.7, 10, 17, 8],\n",
    "                [17, 8, 0.05, 10, 0.1, 14],\n",
    "            ]\n",
    "        )\n",
    "        P = 10 ** (-4) * np.array(\n",
    "            [\n",
    "                [1312, 1696, 5569, 124, 8283, 5886],\n",
    "                [2329, 4135, 8307, 3736, 1004, 9991],\n",
    "                [2348, 1451, 3522, 2883, 3047, 6650],\n",
    "                [4047, 8828, 8732, 5743, 1091, 381],\n",
    "            ]\n",
    "        )\n",
    "        y = 0.0\n",
    "        for j, alpha_j in enumerate(alpha):\n",
    "            t = 0\n",
    "            for k in range(6):\n",
    "                t += A[j, k] * ((x[k] - P[j, k]) ** 2)\n",
    "            y -= alpha_j * np.exp(-t)\n",
    "        return y"
   ]
  },
  {
   "cell_type": "code",
   "execution_count": 5,
   "metadata": {
    "collapsed": true
   },
   "outputs": [],
   "source": [
    "def evaluate(parameters):\n",
    "    x = np.array([parameters.get(f\"x{i+1}\") for i in range(6)])\n",
    "    # In our case, standard error is 0, since we are computing a synthetic function.\n",
    "    return {\"hartmann6\": (hartmann6(x), 0.0), \"l2norm\": (np.sqrt((x ** 2).sum()), 0.0)}"
   ]
  },
  {
   "cell_type": "markdown",
   "metadata": {},
   "source": [
    "## 4. Run optimization loop\n",
    "With the experiment set up, we can start the optimization loop.\n",
    "\n",
    "At each step, the user queries the client for a new trial then submits the evaluation of that trial back to the client.\n",
    "\n",
    "Note that Ax auto-selects an appropriate optimization algorithm based on the search space. For more advance use cases that require a specific optimization algorithm, pass a `generation_strategy` argument into the `AxClient` constructor."
   ]
  },
  {
   "cell_type": "code",
   "execution_count": 6,
   "metadata": {},
   "outputs": [
    {
     "name": "stdout",
     "output_type": "stream",
     "text": [
      "Running trial 1/10...\n",
      "Running trial 2/10...\n",
      "Running trial 3/10...\n",
      "Running trial 4/10...\n",
      "Running trial 5/10...\n",
      "Running trial 6/10...\n",
      "Running trial 7/10...\n",
      "Running trial 8/10...\n",
      "Running trial 9/10...\n",
      "Running trial 10/10...\n"
     ]
    }
   ],
   "source": [
    "for i in range(10):\n",
    "    print(f\"Running trial {i+1}/10...\")\n",
    "    parameters, trial_index = ax.get_next_trial()\n",
    "     # Local evaluation here can be replaced with deployment to external system.\n",
    "    ax.complete_trial(trial_index=trial_index, raw_data=evaluate(parameters))"
   ]
  },
  {
   "cell_type": "markdown",
   "metadata": {},
   "source": [
    "## 5. Retrieve best parameters\n",
    "\n",
    "Once it's complete, we can access the best parameters found, as well as the corresponding metric values."
   ]
  },
  {
   "cell_type": "code",
   "execution_count": 8,
   "metadata": {},
   "outputs": [
    {
     "data": {
      "text/plain": [
       "{'x1': 0.10029512170612054,\n",
       " 'x2': 0.2478143575956545,\n",
       " 'x3': 0.5649008578188809,\n",
       " 'x4': 0.1430597060924666,\n",
       " 'x5': 0.3727928627245808,\n",
       " 'x6': 0.5499128260431312}"
      ]
     },
     "execution_count": 8,
     "metadata": {
      "bento_obj_id": "140453251779824"
     },
     "output_type": "execute_result"
    }
   ],
   "source": [
    "best_parameters, metrics = ax.get_best_parameters()\n",
    "best_parameters"
   ]
  },
  {
   "cell_type": "code",
   "execution_count": 9,
   "metadata": {},
   "outputs": [
    {
     "data": {
      "text/plain": [
       "-2.3515297042886365"
      ]
     },
     "execution_count": 9,
     "metadata": {
      "bento_obj_id": "140451470179592"
     },
     "output_type": "execute_result"
    }
   ],
   "source": [
    "means, covariances = metrics\n",
    "means[\"hartmann6\"]"
   ]
  },
  {
   "cell_type": "markdown",
   "metadata": {},
   "source": [
    "## 6. Special Cases"
   ]
  },
  {
   "cell_type": "markdown",
   "metadata": {},
   "source": [
    "**Evaluation failure**: should any optimization iterations fail during evaluation, `log_trial_failure` will ensure that the same trial is not proposed again."
   ]
  },
  {
   "cell_type": "code",
   "execution_count": 10,
   "metadata": {
    "collapsed": true
   },
   "outputs": [],
   "source": [
    "ax.log_trial_failure(trial_index=trial_index)"
   ]
  },
  {
   "cell_type": "markdown",
   "metadata": {},
   "source": [
    "**Adding custom trials**: should there be need to evaluate a specific parameterization, `attach_trial` will add it to the experiment."
   ]
  },
  {
   "cell_type": "code",
   "execution_count": 11,
   "metadata": {},
   "outputs": [
    {
     "data": {
      "text/plain": [
       "({'x1': 9.0, 'x2': 9.0}, 10)"
      ]
     },
     "execution_count": 11,
     "metadata": {
      "bento_obj_id": "140451470281352"
     },
     "output_type": "execute_result"
    }
   ],
   "source": [
    "ax.attach_trial(parameters={\"x1\": 9.0, \"x2\": 9.0})"
   ]
  }
 ],
 "metadata": {
  "bento_stylesheets": {
   "bento/extensions/flow/main.css": true,
   "bento/extensions/kernel_selector/main.css": true,
   "bento/extensions/kernel_ui/main.css": true,
   "bento/extensions/new_kernel/main.css": true,
   "bento/extensions/system_usage/main.css": true,
   "bento/extensions/theme/main.css": true
  },
  "kernelspec": {
   "display_name": "Python 3",
   "language": "python",
   "name": "python3"
  },
  "language_info": {
   "codemirror_mode": {
    "name": "ipython",
    "version": 3
   },
   "file_extension": ".py",
   "mimetype": "text/x-python",
   "name": "python",
   "nbconvert_exporter": "python",
   "pygments_lexer": "ipython3",
   "version": "3.6.3rc1+"
  }
 },
 "nbformat": 4,
 "nbformat_minor": 2
}
