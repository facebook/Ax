{
 "cells": [
  {
   "cell_type": "markdown",
   "metadata": {},
   "source": [
    "# Loop API Example on Hartmann6\n",
    "\n",
    "Ax' managed loop API is meant to allow for reduction of optimization to a single call and for CLI compatibility."
   ]
  },
  {
   "cell_type": "code",
   "execution_count": 14,
   "metadata": {
    "collapsed": true
   },
   "outputs": [],
   "source": [
    "import numpy as np\n",
    "from ax.service.managed_loop import OptimizationLoop, OptimizationPlan, optimize\n",
    "from ax.metrics.branin import branin"
   ]
  },
  {
   "cell_type": "code",
   "execution_count": null,
   "metadata": {
    "collapsed": true
   },
   "outputs": [],
   "source": [
    "def hartmann6(x: np.ndarray) -> float:\n",
    "        alpha = np.array([1.0, 1.2, 3.0, 3.2])\n",
    "        A = np.array(\n",
    "            [\n",
    "                [10, 3, 17, 3.5, 1.7, 8],\n",
    "                [0.05, 10, 17, 0.1, 8, 14],\n",
    "                [3, 3.5, 1.7, 10, 17, 8],\n",
    "                [17, 8, 0.05, 10, 0.1, 14],\n",
    "            ]\n",
    "        )\n",
    "        P = 10 ** (-4) * np.array(\n",
    "            [\n",
    "                [1312, 1696, 5569, 124, 8283, 5886],\n",
    "                [2329, 4135, 8307, 3736, 1004, 9991],\n",
    "                [2348, 1451, 3522, 2883, 3047, 6650],\n",
    "                [4047, 8828, 8732, 5743, 1091, 381],\n",
    "            ]\n",
    "        )\n",
    "        y = 0.0\n",
    "        for j, alpha_j in enumerate(alpha):\n",
    "            t = 0\n",
    "            for k in range(6):\n",
    "                t += A[j, k] * ((x[k] - P[j, k]) ** 2)\n",
    "            y -= alpha_j * np.exp(-t)\n",
    "        return y"
   ]
  },
  {
   "cell_type": "markdown",
   "metadata": {},
   "source": [
    "First, we set up an evaluation function that returns evaluations for two metrics: \"hartmann6\" and \"l2norm\"."
   ]
  },
  {
   "cell_type": "code",
   "execution_count": 16,
   "metadata": {
    "collapsed": true
   },
   "outputs": [],
   "source": [
    "def hartmann_evaluation_function(\n",
    "    parameterization, # dict of parameter names to values of those parameters\n",
    "    weight=None, # evaluation function signature requires a weight argument\n",
    "):\n",
    "    x = np.array([parameterization.get(f\"x{i+1}\") for i in range(6)])\n",
    "    # In our case, standard error is 0, since we are computing a synthetic function.\n",
    "    return {\"hartmann6\": (hartmann6(x), 0.0), \"l2norm\": (np.sqrt((x ** 2).sum()), 0.0)}"
   ]
  },
  {
   "cell_type": "markdown",
   "metadata": {},
   "source": [
    "The setup for the loop is similar to that of the service API and will be fully compatible with JSON. Currently, the optimization algorithm is chosen under the hood based on the properties of the problem search space, but it will be exposed for choice shortly."
   ]
  },
  {
   "cell_type": "code",
   "execution_count": 17,
   "metadata": {},
   "outputs": [
    {
     "name": "stderr",
     "output_type": "stream",
     "text": [
      "[INFO 04-17 15:19:35] ax.service.utils.dispatch: Using Bayesian Optimization generation strategy. Iterations after 6 will take longer to generate due to model-fitting.\n",
      "[INFO 04-17 15:19:35] ax.service.managed_loop: Started full optimization with 10 steps.\n",
      "[INFO 04-17 15:19:35] ax.service.managed_loop: Running optimization step 1...\n",
      "[INFO 04-17 15:19:35] ax.service.managed_loop: Running optimization step 2...\n",
      "[INFO 04-17 15:19:35] ax.service.managed_loop: Running optimization step 3...\n",
      "[INFO 04-17 15:19:35] ax.service.managed_loop: Running optimization step 4...\n",
      "[INFO 04-17 15:19:35] ax.service.managed_loop: Running optimization step 5...\n",
      "[INFO 04-17 15:19:35] ax.service.managed_loop: Running optimization step 6...\n",
      "[INFO 04-17 15:19:35] ax.service.managed_loop: Running optimization step 7...\n",
      "[WARNING 04-17 15:19:35] IVW: Conflicting noiseless measurements for hartmann6.\n",
      "[WARNING 04-17 15:19:35] IVW: Conflicting noiseless measurements for l2norm.\n",
      "[INFO 04-17 15:23:47] ax.service.managed_loop: Running optimization step 8...\n",
      "[INFO 04-17 15:28:09] ax.service.managed_loop: Running optimization step 9...\n",
      "[INFO 04-17 15:32:53] ax.service.managed_loop: Running optimization step 10...\n"
     ]
    },
    {
     "data": {
      "text/plain": [
       "{'x1': 0.25260233609096855,\n",
       " 'x2': 0.18264137184291412,\n",
       " 'x3': 0.326031849086933,\n",
       " 'x4': 0.16036655372973474,\n",
       " 'x5': 0.5867112805724518,\n",
       " 'x6': 0.511645052865211}"
      ]
     },
     "execution_count": 17,
     "metadata": {
      "bento_obj_id": "140065370474896"
     },
     "output_type": "execute_result"
    }
   ],
   "source": [
    "optimize(\n",
    "    parameters=[\n",
    "        {\n",
    "            \"name\": \"x1\",\n",
    "            \"type\": \"range\",\n",
    "            \"bounds\": [0.0, 1.0],\n",
    "            \"value_type\": \"float\",  # Optional, defaults to inference from type of \"bounds\".\n",
    "            \"log_scale\": False,  # Optional, defaults to False.\n",
    "        },\n",
    "        {\n",
    "            \"name\": \"x2\",\n",
    "            \"type\": \"range\",\n",
    "            \"bounds\": [0.0, 1.0],\n",
    "        },\n",
    "        {\n",
    "            \"name\": \"x3\",\n",
    "            \"type\": \"range\",\n",
    "            \"bounds\": [0.0, 1.0],\n",
    "        },\n",
    "        {\n",
    "            \"name\": \"x4\",\n",
    "            \"type\": \"range\",\n",
    "            \"bounds\": [0.0, 1.0],\n",
    "        },\n",
    "        {\n",
    "            \"name\": \"x5\",\n",
    "            \"type\": \"range\",\n",
    "            \"bounds\": [0.0, 1.0],\n",
    "        },\n",
    "        {\n",
    "            \"name\": \"x6\",\n",
    "            \"type\": \"range\",\n",
    "            \"bounds\": [0.0, 1.0],\n",
    "        },\n",
    "    ],\n",
    "    experiment_name=\"test\",\n",
    "    objective_name=\"hartmann6\",\n",
    "    evaluation_function=hartmann_evaluation_function,\n",
    "    minimize=True,  # Optional, defaults to False.\n",
    "    parameter_constraints=[\"x1 + x2 <= 20\"],  # Optional.\n",
    "    outcome_constraints=[\"l2norm <= 1.25\"],  # Optional.\n",
    "    optimization_plan=OptimizationPlan(total_iterations=10),  # Optional.\n",
    ")"
   ]
  }
 ],
 "metadata": {
  "bento_stylesheets": {
   "bento/extensions/flow/main.css": true,
   "bento/extensions/kernel_selector/main.css": true,
   "bento/extensions/kernel_ui/main.css": true,
   "bento/extensions/new_kernel/main.css": true,
   "bento/extensions/system_usage/main.css": true,
   "bento/extensions/theme/main.css": true
  },
  "disseminate_notebook_id": {
   "notebook_id": "400021244185986"
  },
  "disseminate_notebook_info": {
   "bento_version": "20190415-030329",
   "description": "",
   "hide_code": false,
   "hipster_group": "",
   "kernel_build_info": {
    "error": "The file located at '/data/users/drfreund/fbsource/fbcode/bento/kernels/local/ae/TARGETS' could not be found."
   },
   "no_uii": false,
   "notebook_number": "81720",
   "others_can_edit": false,
   "reviewers": "",
   "revision_id": "815755888786209",
   "tags": "",
   "tasks": "",
   "title": "gpei_hartmann_loop"
  },
  "kernelspec": {
   "display_name": "ae (local)",
   "language": "python",
   "name": "ae_local"
  },
  "language_info": {
   "codemirror_mode": {
    "name": "ipython",
    "version": 3
   },
   "file_extension": ".py",
   "mimetype": "text/x-python",
   "name": "python",
   "nbconvert_exporter": "python",
   "pygments_lexer": "ipython3",
   "version": "3.6.3rc1+"
  }
 },
 "nbformat": 4,
 "nbformat_minor": 2
}
