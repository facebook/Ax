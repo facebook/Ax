{
  "cells": [
    {
      "cell_type": "markdown",
      "metadata": {
        "originalKey": "e266051b-9584-4481-bb46-c7b015ebc48b"
      },
      "source": [
        "# Visualizations\n",
        "\n",
        "This tutorial illustrates the core visualization utilities available in Ax."
      ]
    },
    {
      "cell_type": "code",
      "metadata": {
        "originalKey": "55c3b2a9-7ed4-4d14-9ada-1538fe2bc440",
        "code_folding": [],
        "hidden_ranges": [],
        "collapsed": false,
        "requestMsgId": "2039508b-6b8c-4a66-924b-61acb400b379",
        "executionStartTime": 1627397593930,
        "executionStopTime": 1627397597149
      },
      "source": [
        "import numpy as np\n",
        "from ax.service.ax_client import AxClient\n",
        "\n",
        "from ax.modelbridge.cross_validation import cross_validate\n",
        "from ax.plot.contour import interact_contour\n",
        "from ax.plot.diagnostic import interact_cross_validation\n",
        "from ax.plot.scatter import(\n",
        "    interact_fitted,\n",
        "    plot_objective_vs_constraints,\n",
        "    tile_fitted,\n",
        ")\n",
        "from ax.plot.slice import plot_slice\n",
        "from ax.utils.measurement.synthetic_functions import hartmann6\n",
        "from ax.utils.notebook.plotting import render, init_notebook_plotting\n",
        "\n",
        "init_notebook_plotting()"
      ],
      "execution_count": 1,
      "outputs": []
    },
    {
      "cell_type": "markdown",
      "metadata": {
        "originalKey": "6a809097-8405-41f3-8ff2-8874218b90d6",
        "showInput": true,
        "code_folding": [],
        "hidden_ranges": []
      },
      "source": [
        "S## 1. Create experiment and run optimization\n",
        "\n",
        "The vizualizations require an experiment object and a model fit on the evaluated data. The routine below is a copy of the Service API tutorial, so the explanation here is omitted. Retrieving the experiment and model objects for each API paradigm is shown in the respective tutorials"
      ]
    },
    {
      "cell_type": "markdown",
      "metadata": {
        "originalKey": "2531fc7d-4ea2-4b62-9324-19a845dde6a3"
      },
      "source": [
        "#### 1a. Define search space and evaluation function"
      ]
    },
    {
      "cell_type": "code",
      "metadata": {
        "originalKey": "83642942-b716-45de-9c9c-b6a9264c769f",
        "code_folding": [],
        "hidden_ranges": [],
        "collapsed": false,
        "requestMsgId": "8e08756c-06de-4e72-8747-73bb0116167b",
        "executionStartTime": 1627397600756,
        "executionStopTime": 1627397600812
      },
      "source": [
        "noise_sd = 0.1\n",
        "param_names = [f\"x{i+1}\" for i in range(6)]  # x1, x2, ..., x6\n",
        "\n",
        "def noisy_hartmann_evaluation_function(parameterization):\n",
        "    x = np.array([parameterization.get(p_name) for p_name in param_names])\n",
        "    noise1, noise2 = np.random.normal(0, noise_sd, 2)\n",
        "\n",
        "    return {\n",
        "        \"hartmann6\": (hartmann6(x) + noise1, noise_sd),\n",
        "        \"l2norm\": (np.sqrt((x ** 2).sum()) + noise2, noise_sd)\n",
        "    }\n",
        ""
      ],
      "execution_count": 2,
      "outputs": []
    },
    {
      "cell_type": "markdown",
      "metadata": {
        "originalKey": "0b476cce-d801-491f-aeed-6eddc8f77603"
      },
      "source": [
        "#### 1b. Create Experiment"
      ]
    },
    {
      "cell_type": "code",
      "metadata": {
        "originalKey": "468abc32-65d0-45a6-939f-1b91ad695b71",
        "code_folding": [],
        "hidden_ranges": [],
        "collapsed": false,
        "requestMsgId": "fc898d3a-706a-45da-ae22-c3524cf538e2",
        "executionStartTime": 1627397619027,
        "executionStopTime": 1627397619112
      },
      "source": [
        "ax_client = AxClient()\n",
        "ax_client.create_experiment(\n",
        "    name=\"test_branin\",\n",
        "    parameters=[\n",
        "        {\n",
        "            \"name\": p_name,\n",
        "            \"type\": \"range\",\n",
        "            \"bounds\": [0.0, 1.0],\n",
        "        }\n",
        "        for p_name in param_names\n",
        "    ],\n",
        "    objective_name=\"hartmann6\",\n",
        "    minimize=True,\n",
        "    outcome_constraints=[\"l2norm <= 1.25\"]\n",
        ")"
      ],
      "execution_count": 5,
      "outputs": []
    },
    {
      "cell_type": "markdown",
      "metadata": {
        "originalKey": "7e245c84-8137-4ac1-bd82-43bb55da0d95",
        "showInput": false,
        "code_folding": [],
        "hidden_ranges": []
      },
      "source": [
        "#### 1c. Run the optimization and fit a GP on all data"
      ]
    },
    {
      "cell_type": "code",
      "metadata": {
        "originalKey": "7e7f2e39-2a41-4eaa-8ab8-19712854e7c8",
        "code_folding": [],
        "hidden_ranges": [],
        "collapsed": false,
        "requestMsgId": "f902add0-b054-48fd-820e-2dee1bd52ae3",
        "executionStartTime": 1627397625044,
        "executionStopTime": 1627397771667
      },
      "source": [
        "for i in range(20):\n",
        "    parameters, trial_index = ax_client.get_next_trial()\n",
        "    # Local evaluation here can be replaced with deployment to external system.\n",
        "    ax_client.complete_trial(trial_index=trial_index, raw_data=noisy_hartmann_evaluation_function(parameters))"
      ],
      "execution_count": 7,
      "outputs": []
    },
    {
      "cell_type": "markdown",
      "metadata": {
        "originalKey": "865647b1-1d37-4231-9410-9715472a1297"
      },
      "source": [
        "## 2. Contour plots\n",
        "\n",
        "The plot below shows the response surface for `hartmann6` metric as a function of the `x1`, `x2` parameters.\n",
        "\n",
        "The other parameters are fixed in the middle of their respective ranges, which in this example is 0.5 for all of them."
      ]
    },
    {
      "cell_type": "code",
      "metadata": {
        "originalKey": "82f764d7-7f67-4afb-b6f8-870daefdd9ca",
        "code_folding": [],
        "hidden_ranges": [],
        "collapsed": false,
        "requestMsgId": "75a53dd0-b402-40a3-9f74-708db74cdef4",
        "executionStartTime": 1627397811962,
        "executionStopTime": 1627397813704
      },
      "source": [
        "# this could alternately be done with `ax.plot.contour.plot_contour`\n",
        "render(ax_client.get_contour_plot(param_x=\"x1\", param_y=\"x2\", metric_name='hartmann6'))"
      ],
      "execution_count": 8,
      "outputs": []
    },
    {
      "cell_type": "markdown",
      "metadata": {
        "originalKey": "6ded0b0a-b284-412b-9d1a-9f09a47b3086"
      },
      "source": [
        "#### 2a. Interactive contour plot\n",
        "\n",
        "The plot below allows toggling between different pairs of parameters to view the contours."
      ]
    },
    {
      "cell_type": "code",
      "metadata": {
        "originalKey": "259e4d02-ca18-4103-b053-efdc21104e36",
        "code_folding": [],
        "hidden_ranges": [],
        "collapsed": false,
        "requestMsgId": "5543ca1c-777c-462b-8443-bf8867f3e767",
        "executionStartTime": 1627397818023,
        "executionStopTime": 1627397843747
      },
      "source": [
        "model = ax_client.generation_strategy.model\n",
        "render(interact_contour(model=model, metric_name='hartmann6'))"
      ],
      "execution_count": 9,
      "outputs": []
    },
    {
      "cell_type": "markdown",
      "metadata": {
        "originalKey": "bf169948-323a-49ed-9e4b-470245c66627"
      },
      "source": [
        "## 3. Tradeoff plots\n",
        "This plot illustrates the tradeoffs achievable for 2 different metrics. The plot takes the x-axis metric as input (usually the objective) and allows toggling among all other metrics for the y-axis.\n",
        "\n",
        "This is useful to get a sense of the pareto frontier (i.e. what is the best objective value achievable for different bounds on the constraint)"
      ]
    },
    {
      "cell_type": "code",
      "metadata": {
        "originalKey": "9fa8fef5-84f8-4401-a91b-1773aa6bd996",
        "collapsed": false,
        "requestMsgId": "14647f3a-42c0-42e4-97fb-6f92e3abe8c9",
        "executionStartTime": 1627397857797,
        "executionStopTime": 1627397858092
      },
      "source": [
        "render(plot_objective_vs_constraints(model, 'hartmann6', rel=False))"
      ],
      "execution_count": 10,
      "outputs": []
    },
    {
      "cell_type": "markdown",
      "metadata": {
        "originalKey": "791f0a62-5341-4997-9d3c-cc8d449a8ebe"
      },
      "source": [
        "## 4. Cross-validation plots\n",
        "\n",
        "CV plots are useful to check how well the model predictions calibrate against the actual measurements. If all points are close to the dashed line, then the model is a good predictor of the real data."
      ]
    },
    {
      "cell_type": "code",
      "metadata": {
        "originalKey": "f05f930b-f2da-44ec-84b3-e09dda78404d",
        "collapsed": false,
        "requestMsgId": "d6242810-a316-4e2b-b9dd-dd4c56b725b7",
        "executionStartTime": 1627397871181,
        "executionStopTime": 1627397871526
      },
      "source": [
        "cv_results = cross_validate(model)\n",
        "render(interact_cross_validation(cv_results))"
      ],
      "execution_count": 12,
      "outputs": []
    },
    {
      "cell_type": "markdown",
      "metadata": {
        "originalKey": "067b6acb-4334-470d-8803-c1e8031a65c2"
      },
      "source": [
        "## 5. Slice plots\n",
        "\n",
        "Slice plots show the metric outcome as a function of one parameter while fixing the others. They serve a similar function as contour plots."
      ]
    },
    {
      "cell_type": "code",
      "metadata": {
        "originalKey": "59b946ff-c44d-4cf8-93c3-b5a097550f61",
        "collapsed": false,
        "requestMsgId": "a7238d82-f6bb-441d-badc-673dedaa101e",
        "executionStartTime": 1627397880415,
        "executionStopTime": 1627397880572
      },
      "source": [
        "render(plot_slice(model, \"x2\", \"hartmann6\"))"
      ],
      "execution_count": 14,
      "outputs": []
    },
    {
      "cell_type": "markdown",
      "metadata": {
        "originalKey": "a5d9bc55-afd2-4972-a20f-3b25b798a4d4"
      },
      "source": [
        "## 6. Tile plots\n",
        "\n",
        "Tile plots are useful for viewing the effect of each arm."
      ]
    },
    {
      "cell_type": "code",
      "metadata": {
        "originalKey": "28a397c0-a6d0-4b8b-b6f8-aeb14c0273ce",
        "collapsed": false,
        "requestMsgId": "33b593e6-2ec8-4bc4-b6e3-6586ddfb15c5",
        "executionStartTime": 1627397890236,
        "executionStopTime": 1627397890496
      },
      "source": [
        "render(interact_fitted(model, rel=False))"
      ],
      "execution_count": 16,
      "outputs": []
    }
  ],
  "metadata": {
    "kernelspec": {
      "display_name": "python3",
      "language": "python",
      "name": "python3"
    }
  },
  "nbformat": 4,
  "nbformat_minor": 2
}
