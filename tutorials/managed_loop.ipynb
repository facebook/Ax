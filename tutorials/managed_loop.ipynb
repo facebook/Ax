{
  "cells": [
    {
      "cell_type": "markdown",
      "metadata": {},
      "source": [
        "# Ax Managed Loop Example\n",
        "\n",
        "Ax' managed loop API is meant to allow for reduction of optimization to a single call and for CLI compatibility. This API is a work in progress."
      ]
    },
    {
      "cell_type": "code",
      "execution_count": 1,
      "metadata": {
        "collapsed": true
      },
      "outputs": [],
      "source": [
        "from ax.service.managed_loop import OptimizationLoop, OptimizationPlan\n",
        "from ax.metrics.branin import branin"
      ]
    },
    {
      "cell_type": "code",
      "execution_count": 2,
      "metadata": {
        "collapsed": true
      },
      "outputs": [],
      "source": [
        "def branin_evaluation_function(\n",
        "    parameterization, # dict of parameter names to values of those parameters\n",
        "    weight=None, # evaluation function signature requires a weight argument\n",
        "):\n",
        "    if any(\n",
        "        param_name not in parameterization.keys() for param_name in [\"x1\", \"x2\"]\n",
        "    ):\n",
        "        raise ValueError(\"Parametrization does not contain x1 or x2\")\n",
        "    x1, x2 = parameterization[\"x1\"], parameterization[\"x2\"]\n",
        "    return {\"branin\": (branin(x1, x2), 0.0), \"constrained_metric\": (-branin(x1, x2), 0.0)}"
      ]
    },
    {
      "cell_type": "markdown",
      "metadata": {},
      "source": [
        "The setup for the loop is similar to that of the service API and will be fully compatible with JSON. Currently, the optimization algorithm is chosen under the hood based on the properties of the problem search space, but it will be exposed for choice shortly."
      ]
    },
    {
      "cell_type": "code",
      "execution_count": 3,
      "metadata": {},
      "outputs": [
        {
          "name": "stderr",
          "output_type": "stream",
          "text": [
            "[INFO 04-05 08:45:05] ax.service.utils.dispatch: Using Bayesian Optimization generation strategy. Iterations after 5 will take longer to generate due to model-fitting.\n"
          ]
        }
      ],
      "source": [
        "loop = OptimizationLoop.with_evaluation_function(\n",
        "    parameters=[\n",
        "        {\n",
        "            \"name\": \"x1\",\n",
        "            \"type\": \"range\",\n",
        "            \"bounds\": [-5.0, 10.0],\n",
        "            \"value_type\": \"float\",  # Optional, defaults to inference from type of \"bounds\".\n",
        "            \"log_scale\": False,  # Optional, defaults to False.\n",
        "        },\n",
        "        {  \n",
        "            \"name\": \"x2\",  # We'll omit the optional arguments for this parameter.\n",
        "            \"type\": \"range\",\n",
        "            \"bounds\": [0.0, 10.0],\n",
        "        },\n",
        "    ],\n",
        "    experiment_name=\"test\",\n",
        "    objective_name=\"branin\",\n",
        "    evaluation_function=branin_evaluation_function,\n",
        "    minimize=True,  # Optional, defaults to False.\n",
        "    parameter_constraints=[\"x1 + x2 <= 20\"],  # Optional.\n",
        "    outcome_constraints=[\"constrained_metric <= 10\"],  # Optional.\n",
        "    optimization_plan=OptimizationPlan(total_iterations=10),  # Optional.\n",
        ")"
      ]
    },
    {
      "cell_type": "markdown",
      "metadata": {},
      "source": [
        "The optimization stage is a single call:"
      ]
    },
    {
      "cell_type": "code",
      "execution_count": 4,
      "metadata": {},
      "outputs": [
        {
          "name": "stderr",
          "output_type": "stream",
          "text": [
            "[INFO 04-05 08:45:05] ax.service.managed_loop: Started full optimization with 10 steps.\n",
            "[INFO 04-05 08:45:05] ax.service.managed_loop: Running optimization step 1...\n",
            "[INFO 04-05 08:45:05] ax.service.managed_loop: Running optimization step 2...\n",
            "[INFO 04-05 08:45:05] ax.service.managed_loop: Running optimization step 3...\n",
            "[INFO 04-05 08:45:05] ax.service.managed_loop: Running optimization step 4...\n",
            "[INFO 04-05 08:45:05] ax.service.managed_loop: Running optimization step 5...\n",
            "[INFO 04-05 08:45:05] ax.service.managed_loop: Running optimization step 6...\n",
            "[INFO 04-05 08:45:48] ax.service.managed_loop: Running optimization step 7...\n",
            "[INFO 04-05 08:46:20] ax.service.managed_loop: Running optimization step 8...\n",
            "[INFO 04-05 08:46:54] ax.service.managed_loop: Running optimization step 9...\n",
            "[INFO 04-05 08:47:39] ax.service.managed_loop: Running optimization step 10...\n"
          ]
        },
        {
          "data": {
            "text/plain": [
              "{'x1': -4.999999999999748, 'x2': 3.908664869277646e-14}"
            ]
          },
          "execution_count": 4,
          "metadata": {
            "bento_obj_id": "140491311430824"
          },
          "output_type": "execute_result"
        }
      ],
      "source": [
        "loop.full_run().get_best_point()"
      ]
    }
  ],
  "metadata": {
    "kernelspec": {
      "display_name": "python3",
      "language": "python",
      "name": "python3"
    }
  },
  "nbformat": 4,
  "nbformat_minor": 2
}
