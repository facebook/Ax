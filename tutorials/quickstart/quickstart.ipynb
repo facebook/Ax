{
  "cells": [
    {
      "cell_type": "markdown",
      "metadata": {},
      "source": [
        "# Quickstart\n",
        "\n",
        "Ax is an open-source platform for adaptive experimentation, a technique used to efficiently tune parameters in complex systems.\n",
        "This guide will walk through installation, core concepts, and basic usage of Ax."
      ]
    },
    {
      "cell_type": "markdown",
      "metadata": {},
      "source": [
        "## Installation\n",
        "\n",
        "We recommend using `pip` to install Ax.\n",
        "\n",
        "```shell\n",
        "pip install ax-platform\n",
        "```"
      ]
    },
    {
      "cell_type": "markdown",
      "metadata": {},
      "source": [
        "## Core concepts\n",
        "* **Experiment:** A process of iteratively suggesting and evaluating parameters to improve some objective.\n",
        "* **Parameter:** A variable that can be adjusted -- a collection of these form the space we are searching over during the optimization.\n",
        "* **Objective:** The value being optimized.\n",
        "* **Trial:** A set of parameters and its associated objectrive.\n",
        "* **Client:** An object that manages the experiment and provides methods for interacting with it."
      ]
    },
    {
      "cell_type": "code",
      "execution_count": null,
      "metadata": {},
      "outputs": [],
      "source": [
        "from ax import *\n",
        "\n",
        "client = Client()\n",
        "client.configure_experiment(\n",
        "    experiment_config=ExperimentConfig(\n",
        "        name=\"booth_function\",\n",
        "        parameters=[\n",
        "            RangeParameterConfig(\n",
        "                name=\"x1\",\n",
        "                bounds=(-10.0, 10.0),\n",
        "                parameter_type=ParameterType.FLOAT,\n",
        "            ),\n",
        "            RangeParameterConfig(\n",
        "                name=\"x2\",\n",
        "                bounds=(-10.0, 10.0),\n",
        "                parameter_type=ParameterType.FLOAT,\n",
        "            ),\n",
        "        ],\n",
        "    )\n",
        ")\n",
        "client.configure_optimization(objective=\"-1 * booth\")\n",
        "\n",
        "for _ in range(20): # Evaluate the function 20 times\n",
        "    for trial_index, parameters in client.get_next_trials(max_trials=1).items():\n",
        "        client.complete_trial(\n",
        "            trial_index=trial_index,\n",
        "            raw_data={\n",
        "                \"booth\": (parameters[\"x1\"] + 2 * parameters[\"x2\"] - 7) ** 2\n",
        "                + (2 * parameters[\"x1\"] + parameters[\"x2\"] - 5) ** 2\n",
        "            },\n",
        "        )\n",
        "\n",
        "client.get_best_parameterization() # True minimum is at (1, 3)"
      ]
    }
  ],
  "metadata": {
    "fileHeader": "",
    "fileUid": "2ee3b48f-213b-4325-a33c-488fe0f4f900",
    "isAdHoc": false,
    "kernelspec": {
      "display_name": "python3",
      "language": "python",
      "name": "python3"
    },
    "language_info": {
      "codemirror_mode": {
        "name": "ipython",
        "version": 3
      },
      "file_extension": ".py",
      "mimetype": "text/x-python",
      "name": "python",
      "nbconvert_exporter": "python",
      "pygments_lexer": "ipython3"
    },
    "operator_data": []
  },
  "nbformat": 4,
  "nbformat_minor": 5
}
