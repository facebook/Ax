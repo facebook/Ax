{
  "cells": [
    {
      "cell_type": "markdown",
      "metadata": {},
      "source": [
        "# Ax Service-like API\n",
        "\n",
        "When used as a service, Ax proposes new optimization trials, which contain parameterizations. The client application evaluates those parameterizations locally or using a scheduler and logs the results back to Ax, completing the trials. Then, Ax uses that data to propose more trials in the experiment."
      ]
    },
    {
      "cell_type": "code",
      "execution_count": 1,
      "metadata": {
        "collapsed": true
      },
      "outputs": [],
      "source": [
        "from ax.service.ax_client import AxClient\n",
        "from ax.metrics.branin import branin"
      ]
    },
    {
      "cell_type": "markdown",
      "metadata": {},
      "source": [
        "The service-like API provides an ability to save an experiment to a database. To enable it, pass DB settings (`ax.storage.sqa_store.structs.DBSettings`) as the `db_settings` argument into `AxClient` constructor, and the experiment will be automatically saved any time there is a change. It can later be reloaded by experiment name. If instantiated without `DBSettings`, `AxClient` will not store the underlying experiment."
      ]
    },
    {
      "cell_type": "code",
      "execution_count": 2,
      "metadata": {
        "collapsed": true
      },
      "outputs": [],
      "source": [
        "ax = AxClient()  # Or `AxClient(db_settings=my_db_settings)` to enable storage."
      ]
    },
    {
      "cell_type": "markdown",
      "metadata": {},
      "source": [
        "First step is to set up the experiment. It consists of a **search space** (parameters and parameter constraints) and **optimization configuration** (objective name, minimization setting, and outcome constraints). Note that:\n",
        "- Only `name`, `parameters`, and `objective_name` arguments are required.\n",
        "- Dictionaries in `parameters` have the following required keys: \"name\" - parameter name, \"type\" - parameter type (\"range\", \"choice\" or \"fixed\"), \"bounds\" for range parameters, \"values\" for choice parameters, and \"value\" for fixed parameters.\n",
        "- Dictionaries in `parameters` can optionally include \"value_type\" (\"int\", \"float\", \"bool\" or \"str\"), \"log_scale\" flag for range parameters, and \"is_ordered\" flag for choice parameters.\n",
        "- `parameter_constraints` should be a list of strings of form \"p1 >= p2\" or \"p1 + p2 <= some_bound\".\n",
        "- `outcome_constraints` should be a list of strings of form \"constrained_metric <= some_bound\"."
      ]
    },
    {
      "cell_type": "code",
      "execution_count": 3,
      "metadata": {},
      "outputs": [],
      "source": [
        "ax.create_experiment(  # Can use `ax.load_experiment(experiment_name) if reloading saved experiment.\n",
        "    name=\"branin_test_experiment\",\n",
        "    parameters=[\n",
        "        {\n",
        "            \"name\": \"x1\",\n",
        "            \"type\": \"range\",\n",
        "            \"bounds\": [-5.0, 10.0],\n",
        "            \"value_type\": \"float\",  # Optional, defaults to inference from type of \"bounds\".\n",
        "            \"log_scale\": False,  # Optional, defaults to False.\n",
        "        },\n",
        "        {  \n",
        "            \"name\": \"x2\",  # We'll omit the optional arguments for this parameter.\n",
        "            \"type\": \"range\",\n",
        "            \"bounds\": [0.0, 10.0],\n",
        "        },\n",
        "    ],\n",
        "    objective_name=\"branin\",\n",
        "    minimize=True,  # Optional, defaults to False.\n",
        "    parameter_constraints=[\"x1 + x2 <= 20\"],  # Optional.\n",
        "    outcome_constraints=[\"constrained_metric <= 10\"],  # Optional.\n",
        ")"
      ]
    },
    {
      "cell_type": "markdown",
      "metadata": {},
      "source": [
        "When using Ax a service, evaluation of parameterizations suggested by Ax is done either locally or, more commonly, using an external scheduler. Below is a dummy evaluation function that outputs data for two metrics \"branin\" and \"constrained_metric\". Note that all returned metrics correspond to either the `objective_name` set on experiment creation or the metric names mentioned in `outcome_constraints`."
      ]
    },
    {
      "cell_type": "code",
      "execution_count": 4,
      "metadata": {},
      "outputs": [],
      "source": [
        "def evaluate(parameters):\n",
        "    x1, x2 = parameters.get(\"x1\"), parameters.get(\"x2\")\n",
        "    # For the sake of simplicity, we'll just use negative branin for constrained metric.\n",
        "    return {\"branin\": (branin(x1, x2), 0.0), \"constrained_metric\": (-branin(x1, x2), 0.0)}"
      ]
    },
    {
      "cell_type": "markdown",
      "metadata": {},
      "source": [
        "With the experiment set up, we can start the optimization loop. Note that Ax auto-selects an appropriate optimization algorithm based on the search space. For more advance use cases that require a specific optimization algorithm, pass a `generation_stratetegy` argument into the `AxClient` constructor."
      ]
    },
    {
      "cell_type": "code",
      "execution_count": 5,
      "metadata": {},
      "outputs": [],
      "source": [
        "for _ in range(15):\n",
        "    parameters, trial_index = ax.get_next_trial()\n",
        "     # Local evaluation here can be replaced with deployment to external system.\n",
        "    ax.complete_trial(trial_index=trial_index, raw_data=evaluate(parameters))"
      ]
    },
    {
      "cell_type": "markdown",
      "metadata": {},
      "source": [
        "Ax will use Bayesian optimization for this experiment, so optimization loop can take a few minutes.\n",
        "\n",
        "Once it's complete, we can access the best parameters found, as well as the corresponding metric values."
      ]
    },
    {
      "cell_type": "code",
      "execution_count": 6,
      "metadata": {},
      "outputs": [
        {
          "data": {
            "text/plain": [
              "{'x1': 9.286404856169058, 'x2': 1.0374315655961497}"
            ]
          },
          "execution_count": 6,
          "metadata": {
            "bento_obj_id": "139652332978392"
          },
          "output_type": "execute_result"
        }
      ],
      "source": [
        "best_parameters, metrics = ax.get_best_parameters()\n",
        "best_parameters"
      ]
    },
    {
      "cell_type": "code",
      "execution_count": 7,
      "metadata": {},
      "outputs": [
        {
          "data": {
            "text/plain": [
              "2.2408455525333864"
            ]
          },
          "execution_count": 7,
          "metadata": {
            "bento_obj_id": "139652333077824"
          },
          "output_type": "execute_result"
        }
      ],
      "source": [
        "means, covariances = metrics\n",
        "means[\"branin\"]"
      ]
    },
    {
      "cell_type": "markdown",
      "metadata": {},
      "source": [
        "# Special Cases"
      ]
    },
    {
      "cell_type": "markdown",
      "metadata": {},
      "source": [
        "**Evaluation failure**: should any optimization iterations fail during evaluation, `log_trial_failure` will ensure that the same trial is not proposed again."
      ]
    },
    {
      "cell_type": "code",
      "execution_count": 8,
      "metadata": {
        "collapsed": true
      },
      "outputs": [],
      "source": [
        "ax.log_trial_failure(trial_index=trial_index)"
      ]
    },
    {
      "cell_type": "markdown",
      "metadata": {},
      "source": [
        "**Adding custom trials**: should there be need to evaluate a specific parameterization, `attach_trial` will add it to the experiment."
      ]
    },
    {
      "cell_type": "code",
      "execution_count": 9,
      "metadata": {},
      "outputs": [
        {
          "data": {
            "text/plain": [
              "({'x1': 9.0, 'x2': 9.0}, 15)"
            ]
          },
          "execution_count": 9,
          "metadata": {
            "bento_obj_id": "139652333032648"
          },
          "output_type": "execute_result"
        }
      ],
      "source": [
        "ax.attach_trial(parameters={\"x1\": 9.0, \"x2\": 9.0})"
      ]
    },
    {
      "cell_type": "markdown",
      "metadata": {},
      "source": [
        "**Need to obtain trials in batches**: use `AxBatchClient` instead of `AxClient`."
      ]
    }
  ],
  "metadata": {
    "kernelspec": {
      "display_name": "python3",
      "language": "python",
      "name": "python3"
    }
  },
  "nbformat": 4,
  "nbformat_minor": 2
}
