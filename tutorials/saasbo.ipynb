{
  "cells": [
    {
      "cell_type": "markdown",
      "metadata": {
        "originalKey": "1f779465-f9cc-4b17-9b5a-5960cf602273"
      },
      "source": [
        "# High-Dimensional Bayesian Optimization with SAASBO\n",
        "\n",
        "\n",
        "This tutorial shows how to use the Sparse Axis-Aligned Subspace Bayesian Optimization (SAASBO) method for high-dimensional Bayesian optimization [1]. SAASBO uses sparse axis-aligned subspace priors to avoid overfitting. Specifically, SAASBO uses a hierarchical sparsity prior consisting of a global shrinkage parameter with a Half-Cauchy prior $\\tau \\sim \\mathcal{HC}(\\beta)$ and inverse lengthscales $\\rho_d \\sim \\mathcal{HC}(\\tau)$ for $d=1, ..., D$. See [1] for details.\n",
        "\n",
        "[1] D. Eriksson, M. Jankowiak. High-Dimensional Bayesian Optimization with Sparse Axis-Aligned Subspaces. Proceedings of the Thirty-Seventh Conference on Uncertainty in Artificial Intelligence, 2021."
      ]
    },
    {
      "cell_type": "code",
      "execution_count": 1,
      "metadata": {
        "originalKey": "36a4c036-4075-4b15-87b2-a399c318f7b6"
      },
      "outputs": [],
      "source": [
        "from ax import ParameterType, RangeParameter, SearchSpace, SimpleExperiment\n",
        "from ax.benchmark.benchmark import full_benchmark_run\n",
        "from ax.benchmark.benchmark_result import aggregate_problem_results, BenchmarkResult\n",
        "from ax.modelbridge.generation_strategy import GenerationStep, GenerationStrategy\n",
        "from ax.modelbridge.registry import Models"
      ]
    },
    {
      "cell_type": "code",
      "execution_count": 2,
      "metadata": {
        "originalKey": "08bf2c1e-5909-4bde-8829-0fb0d0a29a25"
      },
      "outputs": [],
      "source": [
        "import torch\n",
        "tkwargs = {\n",
        "    \"dtype\": torch.double, \n",
        "    \"device\": torch.device(\"cuda\" if torch.cuda.is_available() else \"cpu\"),\n",
        "}"
      ]
    },
    {
      "cell_type": "markdown",
      "metadata": {
        "originalKey": "8fa9ef26-d16f-4d28-9957-877754a76dfe"
      },
      "source": [
        "## Setup methods\n",
        "\n",
        "This tutorial uses Ax Developer API with the Ax benchmarking suite, but the generation strategy created here cam be used in any Ax API, including Service API and `Scheduler`. Additional resources:\n",
        "- To learn about different APIs in Ax: https://ax.dev/docs/api.html.\n",
        "- To learn more about the developer API, refer to the dedicated tutorial: https://ax.dev/tutorials/gpei_hartmann_developer.html. \n",
        "- To learn more about the generation strategy setup: https://ax.dev/tutorials/generation_strategy.html."
      ]
    },
    {
      "cell_type": "code",
      "execution_count": 3,
      "metadata": {
        "code_folding": [],
        "hidden_ranges": [],
        "originalKey": "cad0ae99-e0cf-4a4b-a5eb-ca059a18a4ca"
      },
      "outputs": [],
      "source": [
        "gpei = GenerationStrategy(\n",
        "    steps=[\n",
        "        GenerationStep(\n",
        "            model=Models.SOBOL, \n",
        "            num_trials=10,  # How many trials should be produced from this generation step\n",
        "            min_trials_observed=5,  # How many trials need to be completed to move to next model\n",
        "            max_parallelism=None,  # Max parallelism for this step; `None` means no limit\n",
        "        ),\n",
        "        GenerationStep(\n",
        "            model=Models.BOTORCH, \n",
        "            num_trials=-1, \n",
        "            max_parallelism=5,\n",
        "        ),\n",
        "    ],\n",
        "    name=\"Sobol+GPEI\"\n",
        ")\n",
        "\n",
        "saasbo = GenerationStrategy(\n",
        "    steps=[\n",
        "        GenerationStep(\n",
        "            model=Models.SOBOL, \n",
        "            num_trials=10,\n",
        "            min_trials_observed=5,\n",
        "            max_parallelism=-1,\n",
        "        ),\n",
        "        GenerationStep(\n",
        "            model=Models.FULLYBAYESIAN, \n",
        "            num_trials=-1, \n",
        "            max_parallelism=5,\n",
        "            model_kwargs={  # Any kwargs you want passed into the model\n",
        "                \"num_samples\": 256,\n",
        "                \"warmup_steps\": 512,\n",
        "                \"disable_progbar\": True,\n",
        "                \"torch_device\": tkwargs[\"device\"],\n",
        "                \"torch_dtype\": tkwargs[\"dtype\"],\n",
        "            },\n",
        "        ),\n",
        "    ],\n",
        "    name=\"SAASBO\"\n",
        ")"
      ]
    },
    {
      "cell_type": "markdown",
      "metadata": {
        "originalKey": "2f9bd4f6-87d6-42d9-b575-f92cf94de7b0"
      },
      "source": [
        "## Setup search space and metric\n",
        "In this simple experiment we use the Branin function embedded in a 30-dimensional space. Additional resources:\n",
        "- To set up a custom metric for your problem, refer to the dedicated section of the Developer API tutorial: https://ax.dev/tutorials/gpei_hartmann_developer.html#8.-Defining-custom-metrics.\n",
        "- To avoid needing to setup up custom metrics by Ax Service API: https://ax.dev/tutorials/gpei_hartmann_service.html."
      ]
    },
    {
      "cell_type": "code",
      "execution_count": 4,
      "metadata": {
        "originalKey": "7697c80d-ab0c-4884-b4c7-c75d24a07e1a"
      },
      "outputs": [],
      "source": [
        "from ax.core.objective import Objective\n",
        "from ax.core.optimization_config import OptimizationConfig\n",
        "from ax.metrics.branin import BraninMetric\n",
        "from ax.benchmark.benchmark_problem import BenchmarkProblem\n",
        "\n",
        "\n",
        "branin_30 = BenchmarkProblem(\n",
        "    name=\"Branin, D=30\",\n",
        "    optimal_value=0.397887,\n",
        "    optimization_config=OptimizationConfig(\n",
        "        objective=Objective(\n",
        "            metric=BraninMetric(\n",
        "                name=\"objective\", param_names=[\"x9\", \"x24\"], noise_sd=0.0\n",
        "            ),\n",
        "            minimize=True,\n",
        "        )\n",
        "    ),\n",
        "    search_space=SearchSpace(\n",
        "        parameters=[\n",
        "            RangeParameter(\n",
        "                name=f\"x{i}\", parameter_type=ParameterType.FLOAT, lower=-5.0, upper=10.0\n",
        "            )\n",
        "            for i in range(15)\n",
        "        ]\n",
        "        + [\n",
        "            RangeParameter(\n",
        "                name=f\"x{i + 15}\",\n",
        "                parameter_type=ParameterType.FLOAT,\n",
        "                lower=0.0,\n",
        "                upper=15.0,\n",
        "            )\n",
        "            for i in range(15)\n",
        "        ]\n",
        "    ),\n",
        "    evaluate_suggested=False,\n",
        ")"
      ]
    },
    {
      "cell_type": "markdown",
      "metadata": {
        "originalKey": "379571df-a141-48f7-84de-f75bc6e8e760"
      },
      "source": [
        "## Run benchmark"
      ]
    },
    {
      "cell_type": "code",
      "execution_count": null,
      "metadata": {
        "originalKey": "bdfeea50-c4e6-4ff1-91ae-c8f6c3160d7c"
      },
      "outputs": [],
      "source": [
        "benchmarking_experiments = full_benchmark_run(\n",
        "    problem_groups={\"default\": [branin_30]},\n",
        "    method_groups={\"default\": [gpei, saasbo]},\n",
        "    num_replications=1,\n",
        "    num_trials=30,\n",
        "    batch_size=1,\n",
        "    raise_all_exceptions=True,\n",
        "    verbose_logging=True\n",
        ")"
      ]
    },
    {
      "cell_type": "markdown",
      "metadata": {},
      "source": [
        "## Aggregate results"
      ]
    },
    {
      "cell_type": "code",
      "execution_count": 6,
      "metadata": {
        "originalKey": "f102010f-ea3a-4ac4-954f-c13a4dff1d4b"
      },
      "outputs": [],
      "source": [
        "res = aggregate_problem_results(benchmarking_experiments[branin_30.name], problem=branin_30)\n",
        "\n",
        "res_gp_ei = res.true_performance['Sobol+GPEI'].ravel()\n",
        "res_saasbo = res.true_performance[\"SAASBO\"].ravel()"
      ]
    },
    {
      "cell_type": "markdown",
      "metadata": {},
      "source": [
        "## Plot results"
      ]
    },
    {
      "cell_type": "code",
      "execution_count": 7,
      "metadata": {
        "originalKey": "5a9b9706-2653-4320-96f3-4bc9fe88bceb"
      },
      "outputs": [
        {
          "data": {
            "image/png": "[encoded data removed]",
            "text/plain": [
              "<Figure size 576x432 with 1 Axes>"
            ]
          },
          "metadata": {
            "bento_obj_id": "140408449331984",
            "needs_background": "light"
          },
          "output_type": "display_data"
        }
      ],
      "source": [
        "import matplotlib\n",
        "import matplotlib.pyplot as plt\n",
        "import numpy as np\n",
        "%matplotlib inline\n",
        "matplotlib.rcParams.update({\"font.size\": 16})\n",
        "\n",
        "\n",
        "fig, ax = plt.subplots(figsize=(8, 6))\n",
        "ax.plot(np.minimum.accumulate(res_saasbo), color=\"b\", label=\"SAASBO\")\n",
        "ax.plot(np.minimum.accumulate(res_gp_ei), color=\"r\", label=\"GP-EI\")\n",
        "ax.plot([0, len(res_saasbo)], [res.optimum, res.optimum], \"--\", c=\"g\", lw=3, label=\"Optimal value\")\n",
        "ax.grid(True)\n",
        "ax.set_title(\"Branin, D=30\", fontsize=20)\n",
        "ax.set_xlabel(\"Number of evaluations\", fontsize=20)\n",
        "ax.set_xlim([0, len(res_saasbo)])\n",
        "ax.set_ylabel(\"Best value found\", fontsize=20)\n",
        "ax.set_ylim([0, 8])\n",
        "ax.legend(fontsize=18)\n",
        "plt.show()"
      ]
    }
  ],
  "metadata": {
    "kernelspec": {
      "display_name": "python3",
      "language": "python",
      "name": "python3"
    }
  },
  "nbformat": 4,
  "nbformat_minor": 2
}
