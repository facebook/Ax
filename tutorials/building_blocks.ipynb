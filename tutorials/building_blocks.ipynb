{
  "cells": [
    {
      "cell_type": "markdown",
      "metadata": {},
      "source": [
        "# Building Blocks of Ax"
      ]
    },
    {
      "cell_type": "markdown",
      "metadata": {},
      "source": [
        "This tutorial illustrates the core Ax classes and their usage by constructing, running, and saving an experiment through the Developer API."
      ]
    },
    {
      "cell_type": "code",
      "execution_count": 82,
      "metadata": {
        "collapsed": true
      },
      "outputs": [],
      "source": [
        "import pandas as pd\n",
        "\n",
        "from ax import *"
      ]
    },
    {
      "cell_type": "markdown",
      "metadata": {},
      "source": [
        "## 1. Define the search space"
      ]
    },
    {
      "cell_type": "markdown",
      "metadata": {},
      "source": [
        "The core `Experiment` class only has one required parameter, `search_space`. A SearchSpace is composed of a set of parameters to be tuned in the experiment, and optionally a set of parameter constraints that define restrictions across these parameters.\n",
        "\n",
        "Here we range over two parameters, each of which can take on values between 0 and 10."
      ]
    },
    {
      "cell_type": "code",
      "execution_count": 83,
      "metadata": {
        "collapsed": true
      },
      "outputs": [],
      "source": [
        "range_param1 = RangeParameter(name=\"x1\", lower=0.0, upper=10.0, parameter_type=ParameterType.FLOAT)\n",
        "range_param2 = RangeParameter(name=\"x2\", lower=0.0, upper=10.0, parameter_type=ParameterType.FLOAT)\n",
        "\n",
        "search_space = SearchSpace(\n",
        "    parameters=[range_param1, range_param2],\n",
        ")"
      ]
    },
    {
      "cell_type": "markdown",
      "metadata": {},
      "source": [
        "Note that there are two other types of parameters, FixedParameter and ChoiceParameter. Although we won't use these in this example, you can create them as follows."
      ]
    },
    {
      "cell_type": "code",
      "execution_count": 84,
      "metadata": {
        "collapsed": true
      },
      "outputs": [],
      "source": [
        "choice_param = ChoiceParameter(name=\"choice\", values=[\"foo\", \"bar\"], parameter_type=ParameterType.STRING)\n",
        "fixed_param = FixedParameter(name=\"fixed\", value=[True], parameter_type=ParameterType.BOOL)"
      ]
    },
    {
      "cell_type": "markdown",
      "metadata": {},
      "source": [
        "Sum constraints enforce that the sum of a set of parameters is greater or less than some bound, and order constraints enforce that one parameter is smaller than the other. We won't use these either, but see two examples below."
      ]
    },
    {
      "cell_type": "code",
      "execution_count": 85,
      "metadata": {
        "collapsed": true
      },
      "outputs": [],
      "source": [
        "sum_constraint = SumConstraint(\n",
        "    parameters=[range_param1, range_param2], \n",
        "    is_upper_bound=True, \n",
        "    bound=5.0,\n",
        ")\n",
        "\n",
        "order_constraint = OrderConstraint(\n",
        "    lower_parameter = range_param1,\n",
        "    upper_parameter = range_param2,\n",
        ")"
      ]
    },
    {
      "cell_type": "markdown",
      "metadata": {},
      "source": [
        "## 2. Define the experiment"
      ]
    },
    {
      "cell_type": "markdown",
      "metadata": {},
      "source": [
        "Once we have a search space, we can create an experiment."
      ]
    },
    {
      "cell_type": "code",
      "execution_count": 86,
      "metadata": {
        "collapsed": true
      },
      "outputs": [],
      "source": [
        "experiment = Experiment(\n",
        "    name=\"experiment_building_blocks\",\n",
        "    search_space=search_space,\n",
        ")"
      ]
    },
    {
      "cell_type": "markdown",
      "metadata": {},
      "source": [
        "We can also define control values for each parameter by adding a status quo arm to the experiment."
      ]
    },
    {
      "cell_type": "code",
      "execution_count": 87,
      "metadata": {
        "collapsed": true
      },
      "outputs": [],
      "source": [
        "experiment.status_quo = Arm(\n",
        "    name=\"control\", \n",
        "    parameters={\"x1\": 0.0, \"x2\": 0.0},\n",
        ")"
      ]
    },
    {
      "cell_type": "markdown",
      "metadata": {},
      "source": [
        "## 3. Generate arms"
      ]
    },
    {
      "cell_type": "markdown",
      "metadata": {},
      "source": [
        "We can now generate arms, i.e. assignments of parameters to values, that lie within the search space. Below we use a Sobol generator to generate ten quasi-random arms."
      ]
    },
    {
      "cell_type": "code",
      "execution_count": 88,
      "metadata": {},
      "outputs": [
        {
          "name": "stdout",
          "output_type": "stream",
          "text": [
            "Arm(parameters={'x1': 5.460216403007507, 'x2': 5.888960957527161})\n",
            "Arm(parameters={'x1': 7.51576840877533, 'x2': 3.9955589175224304})\n",
            "Arm(parameters={'x1': 1.0644689202308655, 'x2': 9.575881958007812})\n",
            "Arm(parameters={'x1': 2.46075838804245, 'x2': 3.2335907220840454})\n",
            "Arm(parameters={'x1': 8.97851824760437, 'x2': 7.565061450004578})\n"
          ]
        }
      ],
      "source": [
        "sobol = Models.SOBOL(search_space=experiment.search_space)\n",
        "generator_run = sobol.gen(5)\n",
        "\n",
        "for arm in generator_run.arms:\n",
        "    print(arm)"
      ]
    },
    {
      "cell_type": "markdown",
      "metadata": {},
      "source": [
        "## 4. Define an optimization config with custom metrics"
      ]
    },
    {
      "cell_type": "markdown",
      "metadata": {},
      "source": [
        "In order to perform an optimization, we also need to define an optimization config for the experiment. An optimization config is composed of an objective metric to be minimized or maximized in the experiment, and optionally a set of outcome constraints that place restrictions on how other metrics can be moved by the experiment. \n",
        "\n",
        "In order to define an objective or outcome constraint, we first need to subclass `Metric`. Metrics are used to evaluate trials, which are individual steps of the experiment sequence. Each trial contains one or more arms for which we will collect data at the same time.\n",
        "\n",
        "Our custom metric(s) will determine how, given a trial, to compute the mean and sem of each of the trial's arms.\n",
        "\n",
        "The only method that needs to be defined for most metric subclasses is `fetch_trial_data`, which defines how a single trial is evaluated, and returns a pandas dataframe."
      ]
    },
    {
      "cell_type": "code",
      "execution_count": 89,
      "metadata": {
        "collapsed": true
      },
      "outputs": [],
      "source": [
        "class BoothMetric(Metric):\n",
        "    def fetch_trial_data(self, trial):  \n",
        "        records = []\n",
        "        for arm_name, arm in trial.arms_by_name.items():\n",
        "            params = arm.parameters\n",
        "            records.append({\n",
        "                \"arm_name\": arm_name,\n",
        "                \"metric_name\": self.name,\n",
        "                \"mean\": (params[\"x1\"] + 2*params[\"x2\"] - 7)**2 + (2*params[\"x1\"] + params[\"x2\"] - 5)**2,\n",
        "                \"sem\": 0.0,\n",
        "                \"trial_index\": trial.index,\n",
        "            })\n",
        "        return Data(df=pd.DataFrame.from_records(records))"
      ]
    },
    {
      "cell_type": "markdown",
      "metadata": {},
      "source": [
        "Once we have our metric subclasses, we can define on optimization config."
      ]
    },
    {
      "cell_type": "code",
      "execution_count": 90,
      "metadata": {
        "collapsed": true
      },
      "outputs": [],
      "source": [
        "optimization_config = OptimizationConfig(\n",
        "    objective = Objective(\n",
        "        metric=BoothMetric(name=\"booth\"), \n",
        "        minimize=True,\n",
        "    ),\n",
        ")\n",
        "\n",
        "experiment.optimization_config = optimization_config"
      ]
    },
    {
      "cell_type": "markdown",
      "metadata": {},
      "source": [
        "Outcome constraints can also be defined as follows and passed into the optimization config."
      ]
    },
    {
      "cell_type": "code",
      "execution_count": 91,
      "metadata": {
        "collapsed": true
      },
      "outputs": [],
      "source": [
        "outcome_constraint = OutcomeConstraint(\n",
        "    metric=Metric(\"constraint\"), \n",
        "    op=ComparisonOp.LEQ, \n",
        "    bound=0.5,\n",
        ")"
      ]
    },
    {
      "cell_type": "markdown",
      "metadata": {},
      "source": [
        "## 5. Define a runner"
      ]
    },
    {
      "cell_type": "markdown",
      "metadata": {},
      "source": [
        "Before an experiment can collect data, it must have a `Runner` attached. A runner handles the deployment of trials. A trial must be \"run\" before it can be evaluated.\n",
        "\n",
        "Here, we have a dummy runner that does nothing. In practice, a runner might be in charge of pushing an experiment to production.\n",
        "\n",
        "The only method that needs to be defined for runner subclasses is `run`, which performs any necessary deployment logic, and returns a dictionary of resulting metadata."
      ]
    },
    {
      "cell_type": "code",
      "execution_count": 92,
      "metadata": {
        "collapsed": true
      },
      "outputs": [],
      "source": [
        "class MyRunner(Runner):\n",
        "    def run(self, trial):\n",
        "        return {\"name\": str(trial.index)}\n",
        "    \n",
        "experiment.runner = MyRunner()"
      ]
    },
    {
      "cell_type": "markdown",
      "metadata": {},
      "source": [
        "## 6. Create a trial"
      ]
    },
    {
      "cell_type": "markdown",
      "metadata": {},
      "source": [
        "Now we can collect data for arms within our search space and begin the optimization. We do this by:\n",
        "1. Generating arms for an initial exploratory batch (already done above, using Sobol)\n",
        "2. Adding these arms to a trial\n",
        "3. Running the trial\n",
        "4. Evaluating the trial\n",
        "5. Generating new arms based on the results, and repeating"
      ]
    },
    {
      "cell_type": "code",
      "execution_count": 93,
      "metadata": {},
      "outputs": [
        {
          "data": {
            "text/plain": [
              "BatchTrial(experiment_name='experiment_building_blocks', index=0, status=TrialStatus.CANDIDATE)"
            ]
          },
          "execution_count": 93,
          "metadata": {
            "bento_obj_id": "139825217022664"
          },
          "output_type": "execute_result"
        }
      ],
      "source": [
        "experiment.new_batch_trial(generator_run=generator_run)"
      ]
    },
    {
      "cell_type": "markdown",
      "metadata": {},
      "source": [
        "Note that the arms attached to the trial are the same as those in the generator run above, except for the status quo, which is automatically added to each trial."
      ]
    },
    {
      "cell_type": "code",
      "execution_count": 94,
      "metadata": {},
      "outputs": [
        {
          "name": "stdout",
          "output_type": "stream",
          "text": [
            "Arm(name='0_0', parameters={'x1': 5.460216403007507, 'x2': 5.888960957527161})\n",
            "Arm(name='0_1', parameters={'x1': 7.51576840877533, 'x2': 3.9955589175224304})\n",
            "Arm(name='0_2', parameters={'x1': 1.0644689202308655, 'x2': 9.575881958007812})\n",
            "Arm(name='0_3', parameters={'x1': 2.46075838804245, 'x2': 3.2335907220840454})\n",
            "Arm(name='0_4', parameters={'x1': 8.97851824760437, 'x2': 7.565061450004578})\n",
            "Arm(name='control', parameters={'x1': 0.0, 'x2': 0.0})\n"
          ]
        }
      ],
      "source": [
        "for arm in experiment.trials[0].arms:\n",
        "    print(arm)"
      ]
    },
    {
      "cell_type": "markdown",
      "metadata": {},
      "source": [
        "If our trial should contain contain only one arm, we can use `experiment.new_trial` instead."
      ]
    },
    {
      "cell_type": "code",
      "execution_count": 95,
      "metadata": {},
      "outputs": [
        {
          "data": {
            "text/plain": [
              "Trial(experiment_name='experiment_building_blocks', index=1, status=TrialStatus.CANDIDATE)"
            ]
          },
          "execution_count": 95,
          "metadata": {
            "bento_obj_id": "139825217688744"
          },
          "output_type": "execute_result"
        }
      ],
      "source": [
        "experiment.new_trial().add_arm(Arm(name='single_arm', parameters={'x1': 1, 'x2': 1}))"
      ]
    },
    {
      "cell_type": "code",
      "execution_count": 96,
      "metadata": {},
      "outputs": [
        {
          "name": "stdout",
          "output_type": "stream",
          "text": [
            "Arm(name='single_arm', parameters={'x1': 1, 'x2': 1})\n"
          ]
        }
      ],
      "source": [
        "print(experiment.trials[1].arm)"
      ]
    },
    {
      "cell_type": "markdown",
      "metadata": {},
      "source": [
        "## 7. Fetch data"
      ]
    },
    {
      "cell_type": "code",
      "execution_count": 97,
      "metadata": {},
      "outputs": [
        {
          "data": {
            "text/plain": [
              "BatchTrial(experiment_name='experiment_building_blocks', index=0, status=TrialStatus.RUNNING)"
            ]
          },
          "execution_count": 97,
          "metadata": {
            "bento_obj_id": "139825217022664"
          },
          "output_type": "execute_result"
        }
      ],
      "source": [
        "experiment.trials[0].run()"
      ]
    },
    {
      "cell_type": "code",
      "execution_count": 98,
      "metadata": {
        "collapsed": true
      },
      "outputs": [],
      "source": [
        "data = experiment.fetch_data()"
      ]
    },
    {
      "cell_type": "markdown",
      "metadata": {},
      "source": [
        "We can inspect the data that was fetched for each (arm, metric) pair."
      ]
    },
    {
      "cell_type": "code",
      "execution_count": 99,
      "metadata": {},
      "outputs": [
        {
          "data": {
            "application/vnd.dataresource+json": {
              "data": [
                {
                  "arm_name": "0_0",
                  "index": 0,
                  "mean": 244.2812572822,
                  "metric_name": "booth",
                  "sem": 0,
                  "trial_index": 0
                },
                {
                  "arm_name": "0_1",
                  "index": 1,
                  "mean": 269.1265283262,
                  "metric_name": "booth",
                  "sem": 0,
                  "trial_index": 0
                },
                {
                  "arm_name": "0_2",
                  "index": 2,
                  "mean": 219.6234189118,
                  "metric_name": "booth",
                  "sem": 0,
                  "trial_index": 0
                },
                {
                  "arm_name": "0_3",
                  "index": 3,
                  "mean": 13.6716553216,
                  "metric_name": "booth",
                  "sem": 0,
                  "trial_index": 0
                },
                {
                  "arm_name": "0_4",
                  "index": 4,
                  "mean": 713.8621059907,
                  "metric_name": "booth",
                  "sem": 0,
                  "trial_index": 0
                },
                {
                  "arm_name": "control",
                  "index": 5,
                  "mean": 74,
                  "metric_name": "booth",
                  "sem": 0,
                  "trial_index": 0
                }
              ],
              "schema": {
                "fields": [
                  {
                    "name": "index",
                    "type": "integer"
                  },
                  {
                    "name": "arm_name",
                    "type": "string"
                  },
                  {
                    "name": "mean",
                    "type": "number"
                  },
                  {
                    "name": "metric_name",
                    "type": "string"
                  },
                  {
                    "name": "sem",
                    "type": "number"
                  },
                  {
                    "name": "trial_index",
                    "type": "integer"
                  }
                ],
                "pandas_version": "0.20.0",
                "primaryKey": [
                  "index"
                ]
              }
            },
            "text/html": [
              "<div>\n",
              "<style scoped>\n",
              "    .dataframe tbody tr th:only-of-type {\n",
              "        vertical-align: middle;\n",
              "    }\n",
              "\n",
              "    .dataframe tbody tr th {\n",
              "        vertical-align: top;\n",
              "    }\n",
              "\n",
              "    .dataframe thead th {\n",
              "        text-align: right;\n",
              "    }\n",
              "</style>\n",
              "<table border=\"1\" class=\"dataframe\">\n",
              "  <thead>\n",
              "    <tr style=\"text-align: right;\">\n",
              "      <th></th>\n",
              "      <th>arm_name</th>\n",
              "      <th>mean</th>\n",
              "      <th>metric_name</th>\n",
              "      <th>sem</th>\n",
              "      <th>trial_index</th>\n",
              "    </tr>\n",
              "  </thead>\n",
              "  <tbody>\n",
              "    <tr>\n",
              "      <th>0</th>\n",
              "      <td>0_0</td>\n",
              "      <td>244.281257</td>\n",
              "      <td>booth</td>\n",
              "      <td>0.0</td>\n",
              "      <td>0</td>\n",
              "    </tr>\n",
              "    <tr>\n",
              "      <th>1</th>\n",
              "      <td>0_1</td>\n",
              "      <td>269.126528</td>\n",
              "      <td>booth</td>\n",
              "      <td>0.0</td>\n",
              "      <td>0</td>\n",
              "    </tr>\n",
              "    <tr>\n",
              "      <th>2</th>\n",
              "      <td>0_2</td>\n",
              "      <td>219.623419</td>\n",
              "      <td>booth</td>\n",
              "      <td>0.0</td>\n",
              "      <td>0</td>\n",
              "    </tr>\n",
              "    <tr>\n",
              "      <th>3</th>\n",
              "      <td>0_3</td>\n",
              "      <td>13.671655</td>\n",
              "      <td>booth</td>\n",
              "      <td>0.0</td>\n",
              "      <td>0</td>\n",
              "    </tr>\n",
              "    <tr>\n",
              "      <th>4</th>\n",
              "      <td>0_4</td>\n",
              "      <td>713.862106</td>\n",
              "      <td>booth</td>\n",
              "      <td>0.0</td>\n",
              "      <td>0</td>\n",
              "    </tr>\n",
              "    <tr>\n",
              "      <th>5</th>\n",
              "      <td>control</td>\n",
              "      <td>74.000000</td>\n",
              "      <td>booth</td>\n",
              "      <td>0.0</td>\n",
              "      <td>0</td>\n",
              "    </tr>\n",
              "  </tbody>\n",
              "</table>\n",
              "</div>"
            ],
            "text/plain": [
              "  arm_name        mean metric_name  sem  trial_index\n",
              "0      0_0  244.281257       booth  0.0            0\n",
              "1      0_1  269.126528       booth  0.0            0\n",
              "2      0_2  219.623419       booth  0.0            0\n",
              "3      0_3   13.671655       booth  0.0            0\n",
              "4      0_4  713.862106       booth  0.0            0\n",
              "5  control   74.000000       booth  0.0            0"
            ]
          },
          "execution_count": 99,
          "metadata": {
            "bento_obj_id": "139825217039104"
          },
          "output_type": "execute_result"
        }
      ],
      "source": [
        "data.df"
      ]
    },
    {
      "cell_type": "markdown",
      "metadata": {},
      "source": [
        "## 8. Iterate using GP+EI"
      ]
    },
    {
      "cell_type": "markdown",
      "metadata": {},
      "source": [
        "Now we can model the data collected for the initial set of arms using a Gaussian process, and use the Expected Improvement acquisition function to determine the new arms for which to fetch data next."
      ]
    },
    {
      "cell_type": "code",
      "execution_count": 100,
      "metadata": {},
      "outputs": [
        {
          "name": "stderr",
          "output_type": "stream",
          "text": [
            "/data/users/lilidworkin/fbsource/fbcode/buck-out/dev/gen/bento/kernels/bento_kernel_ae#link-tree/gpytorch/utils/cholesky.py:41: RuntimeWarning:\n",
            "\n",
            "A not p.d., added jitter of 1e-08 to the diagonal\n",
            "\n",
            "/data/users/lilidworkin/fbsource/fbcode/buck-out/dev/gen/bento/kernels/bento_kernel_ae#link-tree/gpytorch/utils/cholesky.py:41: RuntimeWarning:\n",
            "\n",
            "A not p.d., added jitter of 1e-08 to the diagonal\n",
            "\n"
          ]
        },
        {
          "data": {
            "text/plain": [
              "BatchTrial(experiment_name='experiment_building_blocks', index=2, status=TrialStatus.CANDIDATE)"
            ]
          },
          "execution_count": 100,
          "metadata": {
            "bento_obj_id": "139825217649408"
          },
          "output_type": "execute_result"
        }
      ],
      "source": [
        "gpei = Models.GPEI(experiment=experiment, data=data)\n",
        "generator_run = gpei.gen(5)\n",
        "experiment.new_batch_trial(generator_run=generator_run)"
      ]
    },
    {
      "cell_type": "code",
      "execution_count": 101,
      "metadata": {},
      "outputs": [
        {
          "name": "stdout",
          "output_type": "stream",
          "text": [
            "Arm(name='2_0', parameters={'x1': 3.976978462464544, 'x2': 0.3738528311099245})\n",
            "Arm(name='2_1', parameters={'x1': 3.906218969525253e-16, 'x2': 4.025368511850622})\n",
            "Arm(name='2_2', parameters={'x1': 7.0545208724123745, 'x2': 1.1494985717796068e-16})\n",
            "Arm(name='2_3', parameters={'x1': 2.0709359453742247, 'x2': 1.4285988425124616})\n",
            "Arm(name='2_4', parameters={'x1': 1.4571514910958328, 'x2': 5.382555705918932})\n",
            "Arm(name='control', parameters={'x1': 0.0, 'x2': 0.0})\n"
          ]
        }
      ],
      "source": [
        "for arm in experiment.trials[2].arms:\n",
        "    print(arm)"
      ]
    },
    {
      "cell_type": "code",
      "execution_count": 102,
      "metadata": {},
      "outputs": [
        {
          "data": {
            "application/vnd.dataresource+json": {
              "data": [
                {
                  "arm_name": "0_0",
                  "index": 0,
                  "mean": 244.2812572822,
                  "metric_name": "booth",
                  "sem": 0,
                  "trial_index": 0
                },
                {
                  "arm_name": "0_1",
                  "index": 1,
                  "mean": 269.1265283262,
                  "metric_name": "booth",
                  "sem": 0,
                  "trial_index": 0
                },
                {
                  "arm_name": "0_2",
                  "index": 2,
                  "mean": 219.6234189118,
                  "metric_name": "booth",
                  "sem": 0,
                  "trial_index": 0
                },
                {
                  "arm_name": "0_3",
                  "index": 3,
                  "mean": 13.6716553216,
                  "metric_name": "booth",
                  "sem": 0,
                  "trial_index": 0
                },
                {
                  "arm_name": "0_4",
                  "index": 4,
                  "mean": 713.8621059907,
                  "metric_name": "booth",
                  "sem": 0,
                  "trial_index": 0
                },
                {
                  "arm_name": "control",
                  "index": 5,
                  "mean": 74,
                  "metric_name": "booth",
                  "sem": 0,
                  "trial_index": 0
                },
                {
                  "arm_name": "2_0",
                  "index": 6,
                  "mean": 16.2513801049,
                  "metric_name": "booth",
                  "sem": 0,
                  "trial_index": 2
                },
                {
                  "arm_name": "2_1",
                  "index": 7,
                  "mean": 2.0539548307,
                  "metric_name": "booth",
                  "sem": 0,
                  "trial_index": 2
                },
                {
                  "arm_name": "2_2",
                  "index": 8,
                  "mean": 82.9776140345,
                  "metric_name": "booth",
                  "sem": 0,
                  "trial_index": 2
                },
                {
                  "arm_name": "2_3",
                  "index": 9,
                  "mean": 4.618067111,
                  "metric_name": "booth",
                  "sem": 0,
                  "trial_index": 2
                },
                {
                  "arm_name": "2_4",
                  "index": 10,
                  "mean": 38.1413070367,
                  "metric_name": "booth",
                  "sem": 0,
                  "trial_index": 2
                },
                {
                  "arm_name": "control",
                  "index": 11,
                  "mean": 74,
                  "metric_name": "booth",
                  "sem": 0,
                  "trial_index": 2
                }
              ],
              "schema": {
                "fields": [
                  {
                    "name": "index",
                    "type": "integer"
                  },
                  {
                    "name": "arm_name",
                    "type": "string"
                  },
                  {
                    "name": "mean",
                    "type": "number"
                  },
                  {
                    "name": "metric_name",
                    "type": "string"
                  },
                  {
                    "name": "sem",
                    "type": "number"
                  },
                  {
                    "name": "trial_index",
                    "type": "integer"
                  }
                ],
                "pandas_version": "0.20.0",
                "primaryKey": [
                  "index"
                ]
              }
            },
            "text/html": [
              "<div>\n",
              "<style scoped>\n",
              "    .dataframe tbody tr th:only-of-type {\n",
              "        vertical-align: middle;\n",
              "    }\n",
              "\n",
              "    .dataframe tbody tr th {\n",
              "        vertical-align: top;\n",
              "    }\n",
              "\n",
              "    .dataframe thead th {\n",
              "        text-align: right;\n",
              "    }\n",
              "</style>\n",
              "<table border=\"1\" class=\"dataframe\">\n",
              "  <thead>\n",
              "    <tr style=\"text-align: right;\">\n",
              "      <th></th>\n",
              "      <th>arm_name</th>\n",
              "      <th>mean</th>\n",
              "      <th>metric_name</th>\n",
              "      <th>sem</th>\n",
              "      <th>trial_index</th>\n",
              "    </tr>\n",
              "  </thead>\n",
              "  <tbody>\n",
              "    <tr>\n",
              "      <th>0</th>\n",
              "      <td>0_0</td>\n",
              "      <td>244.281257</td>\n",
              "      <td>booth</td>\n",
              "      <td>0.0</td>\n",
              "      <td>0</td>\n",
              "    </tr>\n",
              "    <tr>\n",
              "      <th>1</th>\n",
              "      <td>0_1</td>\n",
              "      <td>269.126528</td>\n",
              "      <td>booth</td>\n",
              "      <td>0.0</td>\n",
              "      <td>0</td>\n",
              "    </tr>\n",
              "    <tr>\n",
              "      <th>2</th>\n",
              "      <td>0_2</td>\n",
              "      <td>219.623419</td>\n",
              "      <td>booth</td>\n",
              "      <td>0.0</td>\n",
              "      <td>0</td>\n",
              "    </tr>\n",
              "    <tr>\n",
              "      <th>3</th>\n",
              "      <td>0_3</td>\n",
              "      <td>13.671655</td>\n",
              "      <td>booth</td>\n",
              "      <td>0.0</td>\n",
              "      <td>0</td>\n",
              "    </tr>\n",
              "    <tr>\n",
              "      <th>4</th>\n",
              "      <td>0_4</td>\n",
              "      <td>713.862106</td>\n",
              "      <td>booth</td>\n",
              "      <td>0.0</td>\n",
              "      <td>0</td>\n",
              "    </tr>\n",
              "    <tr>\n",
              "      <th>5</th>\n",
              "      <td>control</td>\n",
              "      <td>74.000000</td>\n",
              "      <td>booth</td>\n",
              "      <td>0.0</td>\n",
              "      <td>0</td>\n",
              "    </tr>\n",
              "    <tr>\n",
              "      <th>6</th>\n",
              "      <td>2_0</td>\n",
              "      <td>16.251380</td>\n",
              "      <td>booth</td>\n",
              "      <td>0.0</td>\n",
              "      <td>2</td>\n",
              "    </tr>\n",
              "    <tr>\n",
              "      <th>7</th>\n",
              "      <td>2_1</td>\n",
              "      <td>2.053955</td>\n",
              "      <td>booth</td>\n",
              "      <td>0.0</td>\n",
              "      <td>2</td>\n",
              "    </tr>\n",
              "    <tr>\n",
              "      <th>8</th>\n",
              "      <td>2_2</td>\n",
              "      <td>82.977614</td>\n",
              "      <td>booth</td>\n",
              "      <td>0.0</td>\n",
              "      <td>2</td>\n",
              "    </tr>\n",
              "    <tr>\n",
              "      <th>9</th>\n",
              "      <td>2_3</td>\n",
              "      <td>4.618067</td>\n",
              "      <td>booth</td>\n",
              "      <td>0.0</td>\n",
              "      <td>2</td>\n",
              "    </tr>\n",
              "    <tr>\n",
              "      <th>10</th>\n",
              "      <td>2_4</td>\n",
              "      <td>38.141307</td>\n",
              "      <td>booth</td>\n",
              "      <td>0.0</td>\n",
              "      <td>2</td>\n",
              "    </tr>\n",
              "    <tr>\n",
              "      <th>11</th>\n",
              "      <td>control</td>\n",
              "      <td>74.000000</td>\n",
              "      <td>booth</td>\n",
              "      <td>0.0</td>\n",
              "      <td>2</td>\n",
              "    </tr>\n",
              "  </tbody>\n",
              "</table>\n",
              "</div>"
            ],
            "text/plain": [
              "   arm_name        mean metric_name  sem  trial_index\n",
              "0       0_0  244.281257       booth  0.0            0\n",
              "1       0_1  269.126528       booth  0.0            0\n",
              "2       0_2  219.623419       booth  0.0            0\n",
              "3       0_3   13.671655       booth  0.0            0\n",
              "4       0_4  713.862106       booth  0.0            0\n",
              "5   control   74.000000       booth  0.0            0\n",
              "6       2_0   16.251380       booth  0.0            2\n",
              "7       2_1    2.053955       booth  0.0            2\n",
              "8       2_2   82.977614       booth  0.0            2\n",
              "9       2_3    4.618067       booth  0.0            2\n",
              "10      2_4   38.141307       booth  0.0            2\n",
              "11  control   74.000000       booth  0.0            2"
            ]
          },
          "execution_count": 102,
          "metadata": {
            "bento_obj_id": "139825156017344"
          },
          "output_type": "execute_result"
        }
      ],
      "source": [
        "experiment.trials[2].run()\n",
        "data = experiment.fetch_data()\n",
        "data.df"
      ]
    },
    {
      "cell_type": "markdown",
      "metadata": {},
      "source": [
        "## 9. Save to JSON or SQL"
      ]
    },
    {
      "cell_type": "markdown",
      "metadata": {},
      "source": [
        "At any point, we can also save our experiment to a JSON file. To ensure that our custom metrics and runner are saved properly, we first need to register them."
      ]
    },
    {
      "cell_type": "code",
      "execution_count": 103,
      "metadata": {
        "collapsed": true
      },
      "outputs": [],
      "source": [
        "from ax.storage.metric_registry import register_metric\n",
        "from ax.storage.runner_registry import register_runner\n",
        "\n",
        "register_metric(BoothMetric)\n",
        "register_runner(MyRunner)\n",
        "\n",
        "save(experiment, \"experiment.json\")"
      ]
    },
    {
      "cell_type": "code",
      "execution_count": 104,
      "metadata": {
        "collapsed": true
      },
      "outputs": [],
      "source": [
        "loaded_experiment = load(\"experiment.json\")"
      ]
    },
    {
      "cell_type": "markdown",
      "metadata": {
        "collapsed": true
      },
      "source": [
        "To save our experiment to SQL, we must first specify a connection to a database and create all necessary tables."
      ]
    },
    {
      "cell_type": "code",
      "execution_count": 105,
      "metadata": {
        "collapsed": true
      },
      "outputs": [],
      "source": [
        "from ax.storage.sqa_store.db import init_engine_and_session_factory,get_engine, create_all_tables\n",
        "\n",
        "init_engine_and_session_factory(url='sqlite:///foo.db')\n",
        "\n",
        "engine = get_engine()\n",
        "create_all_tables(engine)"
      ]
    },
    {
      "cell_type": "code",
      "execution_count": 106,
      "metadata": {
        "collapsed": true
      },
      "outputs": [],
      "source": [
        "sqa_store.save(experiment)"
      ]
    },
    {
      "cell_type": "code",
      "execution_count": 107,
      "metadata": {},
      "outputs": [
        {
          "data": {
            "text/plain": [
              "Experiment(experiment_building_blocks)"
            ]
          },
          "execution_count": 107,
          "metadata": {
            "bento_obj_id": "139825156017624"
          },
          "output_type": "execute_result"
        }
      ],
      "source": [
        "sqa_store.load(experiment.name)"
      ]
    },
    {
      "cell_type": "markdown",
      "metadata": {
        "collapsed": true
      },
      "source": [
        "## 10. SimpleExperiment"
      ]
    },
    {
      "cell_type": "markdown",
      "metadata": {},
      "source": [
        "`SimpleExperiment` is a subclass of `Experiment` that assumes synchronous evaluation of trials and is therefore able to abstract away certain details and enable faster instantiation.\n",
        "\n",
        "Rather than defining custom metrics and an optimization config, we define an evaluation function that determines the mean and sem for a given parameterization."
      ]
    },
    {
      "cell_type": "code",
      "execution_count": 108,
      "metadata": {
        "collapsed": true
      },
      "outputs": [],
      "source": [
        "def evaluation_function(params):\n",
        "    return (params[\"x1\"] + 2*params[\"x2\"] - 7)**2 + (2*params[\"x1\"] + params[\"x2\"] - 5)**2"
      ]
    },
    {
      "cell_type": "code",
      "execution_count": 109,
      "metadata": {
        "collapsed": true
      },
      "outputs": [],
      "source": [
        "simple_experiment = SimpleExperiment(\n",
        "    search_space=search_space,\n",
        "    evaluation_function=evaluation_function,\n",
        ")"
      ]
    },
    {
      "cell_type": "markdown",
      "metadata": {},
      "source": [
        "We add trials and evaluate them as before."
      ]
    },
    {
      "cell_type": "code",
      "execution_count": 110,
      "metadata": {},
      "outputs": [
        {
          "data": {
            "text/plain": [
              "Trial(experiment_name='None', index=0, status=TrialStatus.CANDIDATE)"
            ]
          },
          "execution_count": 110,
          "metadata": {
            "bento_obj_id": "139825216895128"
          },
          "output_type": "execute_result"
        }
      ],
      "source": [
        "simple_experiment.new_trial().add_arm(Arm(name='single_arm', parameters={'x1': 1, 'x2': 1}))"
      ]
    },
    {
      "cell_type": "code",
      "execution_count": 111,
      "metadata": {
        "collapsed": true
      },
      "outputs": [],
      "source": [
        "data = simple_experiment.fetch_data()"
      ]
    },
    {
      "cell_type": "code",
      "execution_count": 112,
      "metadata": {},
      "outputs": [
        {
          "data": {
            "application/vnd.dataresource+json": {
              "data": [
                {
                  "arm_name": "single_arm",
                  "index": 0,
                  "mean": 20,
                  "metric_name": "objective",
                  "sem": 0,
                  "trial_index": 0
                }
              ],
              "schema": {
                "fields": [
                  {
                    "name": "index",
                    "type": "integer"
                  },
                  {
                    "name": "arm_name",
                    "type": "string"
                  },
                  {
                    "name": "mean",
                    "type": "number"
                  },
                  {
                    "name": "metric_name",
                    "type": "string"
                  },
                  {
                    "name": "sem",
                    "type": "number"
                  },
                  {
                    "name": "trial_index",
                    "type": "integer"
                  }
                ],
                "pandas_version": "0.20.0",
                "primaryKey": [
                  "index"
                ]
              }
            },
            "text/html": [
              "<div>\n",
              "<style scoped>\n",
              "    .dataframe tbody tr th:only-of-type {\n",
              "        vertical-align: middle;\n",
              "    }\n",
              "\n",
              "    .dataframe tbody tr th {\n",
              "        vertical-align: top;\n",
              "    }\n",
              "\n",
              "    .dataframe thead th {\n",
              "        text-align: right;\n",
              "    }\n",
              "</style>\n",
              "<table border=\"1\" class=\"dataframe\">\n",
              "  <thead>\n",
              "    <tr style=\"text-align: right;\">\n",
              "      <th></th>\n",
              "      <th>arm_name</th>\n",
              "      <th>mean</th>\n",
              "      <th>metric_name</th>\n",
              "      <th>sem</th>\n",
              "      <th>trial_index</th>\n",
              "    </tr>\n",
              "  </thead>\n",
              "  <tbody>\n",
              "    <tr>\n",
              "      <th>0</th>\n",
              "      <td>single_arm</td>\n",
              "      <td>20.0</td>\n",
              "      <td>objective</td>\n",
              "      <td>0.0</td>\n",
              "      <td>0</td>\n",
              "    </tr>\n",
              "  </tbody>\n",
              "</table>\n",
              "</div>"
            ],
            "text/plain": [
              "     arm_name  mean metric_name  sem  trial_index\n",
              "0  single_arm  20.0   objective  0.0            0"
            ]
          },
          "execution_count": 112,
          "metadata": {
            "bento_obj_id": "139825216896528"
          },
          "output_type": "execute_result"
        }
      ],
      "source": [
        "data.df"
      ]
    }
  ],
  "metadata": {
    "kernelspec": {
      "display_name": "python3",
      "language": "python",
      "name": "python3"
    }
  },
  "nbformat": 4,
  "nbformat_minor": 2
}
