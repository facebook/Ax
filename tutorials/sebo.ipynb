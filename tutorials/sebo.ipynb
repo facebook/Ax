{
  "metadata": {
    "dataExplorerConfig": {},
    "bento_stylesheets": {
      "bento/extensions/flow/main.css": true,
      "bento/extensions/kernel_selector/main.css": true,
      "bento/extensions/kernel_ui/main.css": true,
      "bento/extensions/new_kernel/main.css": true,
      "bento/extensions/system_usage/main.css": true,
      "bento/extensions/theme/main.css": true
    },
    "kernelspec": {
      "display_name": "Python 3",
      "language": "python",
      "name": "bento_kernel_default",
      "cinder_runtime": true,
      "ipyflow_runtime": false,
      "metadata": {
        "kernel_name": "bento_kernel_default",
        "nightly_builds": true,
        "fbpkg_supported": true,
        "cinder_runtime": true,
        "ipyflow_runtime": false,
        "is_prebuilt": true
      }
    },
    "language_info": {
      "codemirror_mode": {
        "name": "ipython",
        "version": 3
      },
      "file_extension": ".py",
      "mimetype": "text/x-python",
      "name": "python",
      "nbconvert_exporter": "python",
      "pygments_lexer": "ipython3"
    },
    "last_server_session_id": "a0df38bf-8094-420c-b2b3-9649b202e414",
    "last_kernel_id": "392629ed-f75b-424c-b72c-741d535cb33e",
    "last_base_url": "https://devvm15546.prn0.facebook.com:8090/",
    "last_msg_id": "112aee66-acb0fdce70dcbeda5cbc6ff7_286",
    "captumWidgetMessage": {},
    "outputWidgetContext": {}
  },
  "nbformat": 4,
  "nbformat_minor": 2,
  "cells": [
    {
      "cell_type": "markdown",
      "metadata": {
        "collapsed": true,
        "originalKey": "d3a0136e-94fa-477c-a839-20e5b7f1cdd2",
        "showInput": false,
        "customInput": null
      },
      "source": [
        "# Sparsity Exploration Bayesian Optimization (SEBO) Ax API \n",
        "\n",
        "This tutorial introduces the Sparsity Exploration Bayesian Optimization (SEBO) method and demonstrates how to utilize it using the Ax API. SEBO is designed to enhance Bayesian Optimization (BO) by taking the interpretability and simplicity of configurations into consideration. In essence, SEBO incorporates sparsity, modeled as the $L_0$ norm, as an additional objective in BO. By employing multi-objective optimization techniques such as Expected Hyper-Volume Improvement, SEBO enables the joint optimization of objectives while simultaneously incorporating feature-level sparsity. This allows users to efficiently explore different trade-offs between objectives and sparsity.\n",
        "\n",
        "\n",
        "For a more detailed understanding of the SEBO algorithm, please refer to the following publication:\n",
        "\n",
        "[1] [S. Liu, Q. Feng, D. Eriksson, B. Letham and E. Bakshy. Sparse Bayesian Optimization. International Conference on Artificial Intelligence and Statistics, 2023.](https://proceedings.mlr.press/v206/liu23b/liu23b.pdf)\n",
        "\n",
        "By following this tutorial, you will learn how to leverage the SEBO method through the Ax API, empowering you to effectively balance objectives and sparsity in your optimization tasks. Let's get started!"
      ],
      "attachments": {}
    },
    {
      "cell_type": "code",
      "metadata": {
        "originalKey": "cea96143-019a-41c1-a388-545f48992db9",
        "showInput": true,
        "collapsed": false,
        "requestMsgId": "c2c22a5d-aee0-4a1e-98d9-b360aa1851ff",
        "executionStartTime": 1689117385062,
        "executionStopTime": 1689117389874,
        "customOutput": null
      },
      "source": [
        "import os\n",
        "\n",
        "from ax import Data, Experiment, ParameterType, RangeParameter, SearchSpace\n",
        "from ax.modelbridge.registry import Models\n",
        "from ax.runners.synthetic import SyntheticRunner\n",
        "\n",
        "import warnings\n",
        "warnings.filterwarnings('ignore')"
      ],
      "execution_count": 1,
      "outputs": [
        {
          "output_type": "stream",
          "name": "stderr",
          "text": [
            "I0711 161625.198 _utils_internal.py:199] NCCL_DEBUG env var is set to None\n"
          ]
        },
        {
          "output_type": "stream",
          "name": "stderr",
          "text": [
            "I0711 161625.200 _utils_internal.py:217] NCCL_DEBUG is forced to WARN from None\n"
          ]
        }
      ]
    },
    {
      "cell_type": "code",
      "metadata": {
        "originalKey": "89cb2c13-8484-4bf9-82e0-3bed87ceb838",
        "showInput": true,
        "customInput": null,
        "collapsed": false,
        "requestMsgId": "abc49ffd-df0a-4f2a-b460-73a89d73b361",
        "executionStartTime": 1689117389896,
        "executionStopTime": 1689117389898,
        "customOutput": null
      },
      "source": [
        "SMOKE_TEST = os.environ.get(\"SMOKE_TEST\")"
      ],
      "execution_count": 2,
      "outputs": []
    },
    {
      "cell_type": "code",
      "metadata": {
        "originalKey": "1f13d0a1-accf-4faf-b40e-fbc21aeb94d9",
        "showInput": true,
        "customInput": null,
        "collapsed": false,
        "requestMsgId": "b360f1fd-9b8e-43c1-ab93-48df1580a9fb",
        "executionStartTime": 1689117389905,
        "executionStopTime": 1689117389913,
        "customOutput": null
      },
      "source": [
        "import torch\n",
        "\n",
        "\n",
        "torch.manual_seed(12345)  # To always get the same Sobol points\n",
        "tkwargs = {\n",
        "    \"dtype\": torch.double,\n",
        "    \"device\": torch.device(\"cuda\" if torch.cuda.is_available() else \"cpu\"),\n",
        "}"
      ],
      "execution_count": 3,
      "outputs": []
    },
    {
      "cell_type": "markdown",
      "metadata": {
        "originalKey": "7f07af01-ad58-4cfb-beca-f624310d278d",
        "showInput": false,
        "customInput": null
      },
      "source": [
        "# Demo of using Developer API"
      ],
      "attachments": {}
    },
    {
      "cell_type": "markdown",
      "metadata": {
        "originalKey": "c8a27a2f-1120-4894-9302-48bfde402268",
        "showInput": false,
        "customInput": null
      },
      "source": [
        "## Problem Setup \n",
        "\n",
        "In this simple experiment we use the Branin function embedded in a 10-dimensional space. Additional resources:\n",
        "- To set up a custom metric for your problem, refer to the dedicated section of the Developer API tutorial: https://ax.dev/tutorials/gpei_hartmann_developer.html#8.-Defining-custom-metrics.\n",
        "- To avoid needing to setup up custom metrics by Ax Service API: https://ax.dev/tutorials/gpei_hartmann_service.html."
      ],
      "attachments": {}
    },
    {
      "cell_type": "code",
      "metadata": {
        "originalKey": "e91fc838-9f47-44f1-99ac-4477df208566",
        "showInput": true,
        "customInput": null,
        "collapsed": false,
        "requestMsgId": "1591e6b0-fa9b-4b9f-be72-683dccbe923a",
        "executionStartTime": 1689117390036,
        "executionStopTime": 1689117390038
      },
      "source": [
        "import math \n",
        "import numpy as np\n",
        "\n",
        "\n",
        "aug_dim = 8 \n",
        "\n",
        "# evaluation function \n",
        "def branin_augment(x_vec, augment_dim):\n",
        "    assert len(x_vec) == augment_dim\n",
        "    x1, x2 = (\n",
        "        15 * x_vec[0] - 5,\n",
        "        15 * x_vec[1],\n",
        "    )  # Only dimensions 0 and augment_dim-1 affect the value of the function\n",
        "    t1 = x2 - 5.1 / (4 * math.pi**2) * x1**2 + 5 / math.pi * x1 - 6\n",
        "    t2 = 10 * (1 - 1 / (8 * math.pi)) * np.cos(x1)\n",
        "    return t1**2 + t2 + 10"
      ],
      "execution_count": 4,
      "outputs": []
    },
    {
      "cell_type": "code",
      "metadata": {
        "originalKey": "850830c6-509f-4087-bce8-da0be4fd48ef",
        "showInput": true,
        "customInput": null,
        "collapsed": false,
        "requestMsgId": "56726053-205d-4d7e-b1b5-1a76324188ee",
        "executionStartTime": 1689117390518,
        "executionStopTime": 1689117390540,
        "customOutput": null
      },
      "source": [
        "from ax.core.objective import Objective\n",
        "from ax.core.optimization_config import OptimizationConfig\n",
        "from ax.metrics.noisy_function import NoisyFunctionMetric\n",
        "from ax.utils.common.typeutils import checked_cast\n",
        "\n",
        "\n",
        "class AugBraninMetric(NoisyFunctionMetric):\n",
        "    def f(self, x: np.ndarray) -> float:\n",
        "        return checked_cast(float, branin_augment(x_vec=x, augment_dim=aug_dim))\n",
        "\n",
        "\n",
        "# Create search space in Ax \n",
        "search_space = SearchSpace(\n",
        "    parameters=[\n",
        "        RangeParameter(\n",
        "            name=f\"x{i}\",\n",
        "            parameter_type=ParameterType.FLOAT, \n",
        "            lower=0.0, upper=1.0\n",
        "        )\n",
        "        for i in range(aug_dim)\n",
        "    ]\n",
        ")"
      ],
      "execution_count": 5,
      "outputs": []
    },
    {
      "cell_type": "code",
      "metadata": {
        "originalKey": "d039b709-67c6-475a-96ce-290f869e0f88",
        "showInput": true,
        "customInput": null,
        "collapsed": false,
        "requestMsgId": "3e23ed64-7d10-430b-b790-91a0c7cf72fe",
        "executionStartTime": 1689117391899,
        "executionStopTime": 1689117391915
      },
      "source": [
        "# Create optimization goals \n",
        "optimization_config = OptimizationConfig(\n",
        "    objective=Objective(\n",
        "        metric=AugBraninMetric(\n",
        "            name=\"objective\",\n",
        "            param_names=[f\"x{i}\" for i in range(aug_dim)],\n",
        "            noise_sd=None,  # Set noise_sd=None if you want to learn the noise, otherwise it defaults to 1e-6\n",
        "        ),\n",
        "        minimize=True,\n",
        "    )\n",
        ")\n",
        "\n",
        "# Experiment\n",
        "experiment = Experiment(\n",
        "    name=\"sebo_experiment\",\n",
        "    search_space=search_space,\n",
        "    optimization_config=optimization_config,\n",
        "    runner=SyntheticRunner(),\n",
        ")\n",
        "\n",
        "# target sparse point to regularize towards to. Here we set target sparse value being zero for all the parameters. \n",
        "target_point = torch.tensor([0 for _ in range(aug_dim)], **tkwargs)"
      ],
      "execution_count": 6,
      "outputs": []
    },
    {
      "cell_type": "markdown",
      "metadata": {
        "originalKey": "e57edb00-eafc-4d07-bdb9-e8cf073b4caa",
        "showInput": false,
        "customInput": null
      },
      "source": [
        "## Run optimization loop"
      ],
      "attachments": {}
    },
    {
      "cell_type": "code",
      "metadata": {
        "originalKey": "d0f279d5-da98-44da-9a4e-c30553e4d95a",
        "showInput": true,
        "customInput": null,
        "collapsed": false,
        "requestMsgId": "20d42853-0502-4a5c-8749-7fc1dcbc9879",
        "executionStartTime": 1689117393959,
        "executionStopTime": 1689117393962,
        "customOutput": null
      },
      "source": [
        "import torch \n",
        "from ax.models.torch.botorch_modular.surrogate import Surrogate\n",
        "from botorch.models import SingleTaskGP, FixedNoiseGP, SaasFullyBayesianSingleTaskGP\n",
        "from ax.models.torch.botorch_modular.sebo import SEBOAcquisition\n",
        "from botorch.acquisition.multi_objective import qNoisyExpectedHypervolumeImprovement"
      ],
      "execution_count": 7,
      "outputs": []
    },
    {
      "cell_type": "code",
      "metadata": {
        "originalKey": "c4848148-bff5-44a7-9ad5-41e78ccb413c",
        "showInput": true,
        "customInput": null,
        "collapsed": false,
        "requestMsgId": "8aa87d22-bf89-471f-be9f-7c31f7b8bd62",
        "executionStartTime": 1689117395051,
        "executionStopTime": 1689117395069,
        "customOutput": null
      },
      "source": [
        "N_INIT = 10\n",
        "BATCH_SIZE = 1\n",
        "\n",
        "if SMOKE_TEST:\n",
        "    N_BATCHES = 1\n",
        "    SURROGATE_CLASS = SingleTaskGP\n",
        "else:\n",
        "    N_BATCHES = 40\n",
        "    SURROGATE_CLASS = SaasFullyBayesianSingleTaskGP\n",
        "\n",
        "print(f\"Doing {N_INIT + N_BATCHES * BATCH_SIZE} evaluations\")"
      ],
      "execution_count": 8,
      "outputs": [
        {
          "output_type": "stream",
          "name": "stdout",
          "text": [
            "Doing 50 evaluations\n"
          ]
        }
      ]
    },
    {
      "cell_type": "code",
      "metadata": {
        "originalKey": "b260d85f-2797-44e3-840a-86587534b589",
        "showInput": true,
        "customInput": null,
        "collapsed": false,
        "requestMsgId": "2cc516e3-b16e-40ca-805f-dcd792c92fa6",
        "executionStartTime": 1689117396326,
        "executionStopTime": 1689117396376,
        "customOutput": null
      },
      "source": [
        "# Initial Sobol points\n",
        "sobol = Models.SOBOL(search_space=experiment.search_space)\n",
        "for _ in range(N_INIT):\n",
        "    experiment.new_trial(sobol.gen(1)).run()"
      ],
      "execution_count": 9,
      "outputs": []
    },
    {
      "cell_type": "code",
      "metadata": {
        "originalKey": "7c198035-add2-4717-be27-4fb67c4d1782",
        "showInput": true,
        "customInput": null,
        "collapsed": false,
        "requestMsgId": "d844fa20-0adf-4ba3-ace5-7253ba678db2",
        "executionStartTime": 1689117396900,
        "executionStopTime": 1689124188959,
        "customOutput": null
      },
      "source": [
        "data = experiment.fetch_data()\n",
        "\n",
        "for i in range(N_BATCHES):\n",
        "\n",
        "    model = Models.BOTORCH_MODULAR(\n",
        "        experiment=experiment, \n",
        "        data=data,\n",
        "        surrogate=Surrogate(botorch_model_class=SURROGATE_CLASS),  # can use SAASGP (i.e. SaasFullyBayesianSingleTaskGP) for high-dim cases\n",
        "        search_space=experiment.search_space,\n",
        "        botorch_acqf_class=qNoisyExpectedHypervolumeImprovement,\n",
        "        acquisition_class=SEBOAcquisition,\n",
        "        acquisition_options={\n",
        "            \"penalty\": \"L0_norm\", # it can be L0_norm or L1_norm. \n",
        "            \"target_point\": target_point, \n",
        "            \"sparsity_threshold\": aug_dim,\n",
        "        },\n",
        "        torch_device=tkwargs['device'],\n",
        "    )\n",
        "\n",
        "    generator_run = model.gen(BATCH_SIZE)\n",
        "    trial = experiment.new_batch_trial(generator_run=generator_run)\n",
        "    trial.run()\n",
        "\n",
        "    new_data = trial.fetch_data(metrics=list(experiment.metrics.values()))\n",
        "    data = Data.from_multiple_data([data, new_data])\n",
        "    print(f\"Iteration: {i}, Best so far: {data.df['mean'].min():.3f}\")"
      ],
      "execution_count": 10,
      "outputs": [
        {
          "output_type": "stream",
          "name": "stdout",
          "text": [
            "Iteration: 0, Best so far: 2.494\n"
          ]
        },
        {
          "output_type": "stream",
          "name": "stdout",
          "text": [
            "Iteration: 1, Best so far: 2.494\n"
          ]
        },
        {
          "output_type": "stream",
          "name": "stdout",
          "text": [
            "Iteration: 2, Best so far: 2.494\n"
          ]
        },
        {
          "output_type": "stream",
          "name": "stdout",
          "text": [
            "Iteration: 3, Best so far: 2.494\n"
          ]
        },
        {
          "output_type": "stream",
          "name": "stdout",
          "text": [
            "Iteration: 4, Best so far: 2.494\n"
          ]
        },
        {
          "output_type": "stream",
          "name": "stdout",
          "text": [
            "Iteration: 5, Best so far: 2.494\n"
          ]
        },
        {
          "output_type": "stream",
          "name": "stdout",
          "text": [
            "Iteration: 6, Best so far: 2.494\n"
          ]
        },
        {
          "output_type": "stream",
          "name": "stdout",
          "text": [
            "Iteration: 7, Best so far: 2.494\n"
          ]
        },
        {
          "output_type": "stream",
          "name": "stdout",
          "text": [
            "Iteration: 8, Best so far: 2.494\n"
          ]
        },
        {
          "output_type": "stream",
          "name": "stdout",
          "text": [
            "Iteration: 9, Best so far: 2.494\n"
          ]
        },
        {
          "output_type": "stream",
          "name": "stdout",
          "text": [
            "Iteration: 10, Best so far: 2.494\n"
          ]
        },
        {
          "output_type": "stream",
          "name": "stdout",
          "text": [
            "Iteration: 11, Best so far: 1.990\n"
          ]
        },
        {
          "output_type": "stream",
          "name": "stdout",
          "text": [
            "Iteration: 12, Best so far: 1.990\n"
          ]
        },
        {
          "output_type": "stream",
          "name": "stdout",
          "text": [
            "Iteration: 13, Best so far: 1.990\n"
          ]
        },
        {
          "output_type": "stream",
          "name": "stdout",
          "text": [
            "Iteration: 14, Best so far: 1.990\n"
          ]
        },
        {
          "output_type": "stream",
          "name": "stdout",
          "text": [
            "Iteration: 15, Best so far: 1.990\n"
          ]
        },
        {
          "output_type": "stream",
          "name": "stdout",
          "text": [
            "Iteration: 16, Best so far: 0.662\n"
          ]
        },
        {
          "output_type": "stream",
          "name": "stdout",
          "text": [
            "Iteration: 17, Best so far: 0.662\n"
          ]
        },
        {
          "output_type": "stream",
          "name": "stdout",
          "text": [
            "Iteration: 18, Best so far: 0.453\n"
          ]
        },
        {
          "output_type": "stream",
          "name": "stdout",
          "text": [
            "Iteration: 19, Best so far: 0.453\n"
          ]
        },
        {
          "output_type": "stream",
          "name": "stdout",
          "text": [
            "Iteration: 20, Best so far: 0.453\n"
          ]
        },
        {
          "output_type": "stream",
          "name": "stdout",
          "text": [
            "Iteration: 21, Best so far: 0.424\n"
          ]
        },
        {
          "output_type": "stream",
          "name": "stdout",
          "text": [
            "Iteration: 22, Best so far: 0.424\n"
          ]
        },
        {
          "output_type": "stream",
          "name": "stdout",
          "text": [
            "Iteration: 23, Best so far: 0.424\n"
          ]
        },
        {
          "output_type": "stream",
          "name": "stdout",
          "text": [
            "Iteration: 24, Best so far: 0.424\n"
          ]
        },
        {
          "output_type": "stream",
          "name": "stdout",
          "text": [
            "Iteration: 25, Best so far: 0.424\n"
          ]
        },
        {
          "output_type": "stream",
          "name": "stdout",
          "text": [
            "Iteration: 26, Best so far: 0.424\n"
          ]
        },
        {
          "output_type": "stream",
          "name": "stdout",
          "text": [
            "Iteration: 27, Best so far: 0.424\n"
          ]
        },
        {
          "output_type": "stream",
          "name": "stdout",
          "text": [
            "Iteration: 28, Best so far: 0.424\n"
          ]
        },
        {
          "output_type": "stream",
          "name": "stdout",
          "text": [
            "Iteration: 29, Best so far: 0.424\n"
          ]
        },
        {
          "output_type": "stream",
          "name": "stdout",
          "text": [
            "Iteration: 30, Best so far: 0.416\n"
          ]
        },
        {
          "output_type": "stream",
          "name": "stdout",
          "text": [
            "Iteration: 31, Best so far: 0.416\n"
          ]
        },
        {
          "output_type": "stream",
          "name": "stdout",
          "text": [
            "Iteration: 32, Best so far: 0.408\n"
          ]
        },
        {
          "output_type": "stream",
          "name": "stdout",
          "text": [
            "Iteration: 33, Best so far: 0.408\n"
          ]
        },
        {
          "output_type": "stream",
          "name": "stdout",
          "text": [
            "Iteration: 34, Best so far: 0.408\n"
          ]
        },
        {
          "output_type": "stream",
          "name": "stdout",
          "text": [
            "Iteration: 35, Best so far: 0.408\n"
          ]
        },
        {
          "output_type": "stream",
          "name": "stdout",
          "text": [
            "Iteration: 36, Best so far: 0.408\n"
          ]
        },
        {
          "output_type": "stream",
          "name": "stdout",
          "text": [
            "Iteration: 37, Best so far: 0.408\n"
          ]
        },
        {
          "output_type": "stream",
          "name": "stdout",
          "text": [
            "Iteration: 38, Best so far: 0.408\n"
          ]
        },
        {
          "output_type": "stream",
          "name": "stdout",
          "text": [
            "Iteration: 39, Best so far: 0.408\n"
          ]
        }
      ]
    },
    {
      "cell_type": "markdown",
      "metadata": {
        "originalKey": "7998635d-6750-4825-b93d-c7b61f74c3c5",
        "showInput": false,
        "customInput": null
      },
      "source": [
        "## Plot sparisty vs objective \n",
        "\n",
        "Visualize the objective and sparsity trade-offs using SEBO. Each point represent designs along the Pareto frontier found by SEBO. The x-axis corresponds to the number of active parameters used, i.e.\n",
        "non-sparse parameters, and the y-axis corresponds the best identified objective values. Based on this, decision-makers balance both simplicity/interpretability of generated policies and optimization performance when deciding which configuration to use."
      ],
      "attachments": {}
    },
    {
      "cell_type": "code",
      "metadata": {
        "originalKey": "416ccd12-51a1-4bfe-9e10-436cd88ec6be",
        "showInput": true,
        "customInput": null,
        "collapsed": false,
        "requestMsgId": "5143ae57-1d0d-4f9d-bc9d-9d151f3e9af0",
        "executionStartTime": 1689124189044,
        "executionStopTime": 1689124189182,
        "customOutput": null
      },
      "source": [
        "def nnz_exact(x, sparse_point):\n",
        "    return len(x) - (np.array(x) == np.array(sparse_point)).sum()\n",
        "\n",
        "    \n",
        "df = data.df\n",
        "df['L0_norm'] = df['arm_name'].apply(lambda d: nnz_exact(list(experiment.arms_by_name[d].parameters.values()), [0 for _ in range(aug_dim)]) )"
      ],
      "execution_count": 11,
      "outputs": []
    },
    {
      "cell_type": "code",
      "metadata": {
        "originalKey": "97b96822-7d7f-4a5d-8458-01ff890d2fde",
        "showInput": true,
        "customInput": null,
        "collapsed": false,
        "requestMsgId": "34abdf8d-6f0c-48a1-8700-8e2c3075a085",
        "executionStartTime": 1689124189219,
        "executionStopTime": 1689124189321,
        "customOutput": null
      },
      "source": [
        "result_by_sparsity = {l: df[df.L0_norm <= l]['mean'].min() for l in range(1, aug_dim+1)}\n",
        "result_by_sparsity"
      ],
      "execution_count": 12,
      "outputs": [
        {
          "output_type": "execute_result",
          "data": {
            "text/plain": "{1: 5.915850721937628,\n 2: 0.41574213444366315,\n 3: 0.41574213444366315,\n 4: 0.40790508387544655,\n 5: 0.40790508387544655,\n 6: 0.40790508387544655,\n 7: 0.40790508387544655,\n 8: 0.40790508387544655}"
          },
          "metadata": {},
          "execution_count": 12
        }
      ]
    },
    {
      "cell_type": "code",
      "metadata": {
        "originalKey": "7193e2b0-e192-439a-b0d0-08a2029f64ca",
        "showInput": true,
        "customInput": null,
        "collapsed": false,
        "requestMsgId": "f095d820-55e0-4201-8e3a-77f17b2155f1",
        "executionStartTime": 1689134836494,
        "executionStopTime": 1689134837813,
        "customOutput": null
      },
      "source": [
        "import matplotlib\n",
        "import matplotlib.pyplot as plt\n",
        "import numpy as np\n",
        "\n",
        "%matplotlib inline\n",
        "matplotlib.rcParams.update({\"font.size\": 16})\n",
        "\n",
        "fig, ax = plt.subplots(figsize=(8, 6))\n",
        "ax.plot(list(result_by_sparsity.keys()), list(result_by_sparsity.values()), '.b-', label=\"sebo\", markersize=10)\n",
        "ax.grid(True)\n",
        "ax.set_title(f\"Branin, D={aug_dim}\", fontsize=20)\n",
        "ax.set_xlabel(\"Number of active parameters\", fontsize=20)\n",
        "ax.set_ylabel(\"Best value found\", fontsize=20)\n",
        "# ax.legend(fontsize=18)\n",
        "plt.show()"
      ],
      "execution_count": 20,
      "outputs": [
        {
          "output_type": "display_data",
          "data": {
            "text/plain": "<Figure size 576x432 with 1 Axes>",
            "image/png": "[encoded data removed]"
          },
          "metadata": {
            "needs_background": "light"
          }
        }
      ]
    },
    {
      "cell_type": "markdown",
      "metadata": {
        "originalKey": "1ba68dc9-d60b-4b39-8e58-ea9bdc06b44c",
        "showInput": false,
        "customInput": null
      },
      "source": [
        "# Demo of Using GenerationStrategy and Service API \n",
        "\n",
        "Please check [Service API tutorial](https://ax.dev/tutorials/gpei_hartmann_service.html) for more detailed information. "
      ],
      "attachments": {}
    },
    {
      "cell_type": "code",
      "metadata": {
        "originalKey": "c9eac7a0-d8c2-49c9-a53a-4e05b6694ced",
        "showInput": true,
        "customInput": null,
        "collapsed": false,
        "requestMsgId": "0dc37045-8f54-4091-913f-69b11b072e19",
        "executionStartTime": 1689124191398,
        "executionStopTime": 1689124192949
      },
      "source": [
        "from ax.service.ax_client import AxClient, ObjectiveProperties\n",
        "\n",
        "from ax.modelbridge.generation_strategy import GenerationStrategy, GenerationStep"
      ],
      "execution_count": 14,
      "outputs": []
    },
    {
      "cell_type": "code",
      "metadata": {
        "originalKey": "92678568-4757-4a9e-9424-837352f04bbc",
        "showInput": true,
        "customInput": null,
        "collapsed": false,
        "requestMsgId": "e1e19d91-06a5-4f8c-a8be-ca7bd1856c58",
        "executionStartTime": 1689124192961,
        "executionStopTime": 1689124192970
      },
      "source": [
        "N_INIT = 10\n",
        "BATCH_SIZE = 1\n",
        "\n",
        "if SMOKE_TEST:\n",
        "    NUM_TRIALS = 1\n",
        "    SURROGATE_CLASS = FixedNoiseGP\n",
        "else:\n",
        "    NUM_TRIALS = 40\n",
        "    SURROGATE_CLASS = SaasFullyBayesianSingleTaskGP\n",
        "\n",
        "print(f\"Doing {N_INIT + NUM_TRIALS * BATCH_SIZE} evaluations\")"
      ],
      "execution_count": 15,
      "outputs": [
        {
          "output_type": "stream",
          "name": "stdout",
          "text": [
            "Doing 50 evaluations\n"
          ]
        }
      ]
    },
    {
      "cell_type": "markdown",
      "metadata": {
        "originalKey": "45e5586c-55eb-4908-aa73-bca4ee883b56",
        "showInput": false,
        "customInput": null
      },
      "source": [
        "## Create `GenerationStrategy`"
      ],
      "attachments": {}
    },
    {
      "cell_type": "code",
      "metadata": {
        "originalKey": "7c0bfe37-8f1f-4999-8833-42ffb2569c04",
        "showInput": true,
        "customInput": null,
        "collapsed": false,
        "requestMsgId": "bbd9058a-709e-4262-abe1-720d37e8786f",
        "executionStartTime": 1689124192972,
        "executionStopTime": 1689124192975
      },
      "source": [
        "gs = GenerationStrategy(\n",
        "    name=\"SEBO_L0\",\n",
        "    steps=[\n",
        "        GenerationStep(  # Initialization step\n",
        "            model=Models.SOBOL,     \n",
        "            num_trials=N_INIT,\n",
        "        ),\n",
        "        GenerationStep(  # BayesOpt step\n",
        "            model=Models.BOTORCH_MODULAR,\n",
        "            # No limit on how many generator runs will be produced\n",
        "            num_trials=-1,\n",
        "            model_kwargs={  # Kwargs to pass to `BoTorchModel.__init__`\n",
        "                \"surrogate\": Surrogate(botorch_model_class=SURROGATE_CLASS),\n",
        "                \"acquisition_class\": SEBOAcquisition,\n",
        "                \"botorch_acqf_class\": qNoisyExpectedHypervolumeImprovement,\n",
        "                \"acquisition_options\": {\n",
        "                    \"penalty\": \"L0_norm\", # it can be L0_norm or L1_norm.\n",
        "                    \"target_point\": target_point, \n",
        "                    \"sparsity_threshold\": aug_dim,\n",
        "                },\n",
        "            },\n",
        "        )\n",
        "    ]\n",
        ")"
      ],
      "execution_count": 16,
      "outputs": []
    },
    {
      "cell_type": "markdown",
      "metadata": {
        "originalKey": "e4911bc6-32cb-42a5-908f-57f3f04e58e5",
        "showInput": false,
        "customInput": null
      },
      "source": [
        "## Initialize client and set up experiment"
      ],
      "attachments": {}
    },
    {
      "cell_type": "code",
      "metadata": {
        "originalKey": "47938102-0613-4b37-acb2-9f1f5f3fe6b1",
        "showInput": true,
        "customInput": null,
        "collapsed": false,
        "requestMsgId": "38b4b17c-6aae-43b8-aa58-2df045f522fe",
        "executionStartTime": 1689124192979,
        "executionStopTime": 1689124192984
      },
      "source": [
        "ax_client = AxClient(generation_strategy=gs)\n",
        "\n",
        "experiment_parameters = [\n",
        "    {\n",
        "        \"name\": f\"x{i}\",\n",
        "        \"type\": \"range\",\n",
        "        \"bounds\": [0, 1],\n",
        "        \"value_type\": \"float\",\n",
        "        \"log_scale\": False,\n",
        "    }\n",
        "    for i in range(aug_dim)\n",
        "]\n",
        "\n",
        "objective_metrics = {\n",
        "    \"objective\": ObjectiveProperties(minimize=False, threshold=-10),\n",
        "}\n",
        "\n",
        "ax_client.create_experiment(\n",
        "    name=\"branin_augment_sebo_experiment\",\n",
        "    parameters=experiment_parameters,\n",
        "    objectives=objective_metrics,\n",
        ")"
      ],
      "execution_count": 17,
      "outputs": [
        {
          "output_type": "stream",
          "name": "stderr",
          "text": [
            "[INFO 07-11 18:09:53] ax.service.ax_client: Starting optimization with verbose logging. To disable logging, set the `verbose_logging` argument to `False`. Note that float values in the logs are rounded to 6 decimal points.\n"
          ]
        },
        {
          "output_type": "stream",
          "name": "stderr",
          "text": [
            "[INFO 07-11 18:09:53] ax.service.utils.instantiation: Created search space: SearchSpace(parameters=[RangeParameter(name='x0', parameter_type=FLOAT, range=[0.0, 1.0]), RangeParameter(name='x1', parameter_type=FLOAT, range=[0.0, 1.0]), RangeParameter(name='x2', parameter_type=FLOAT, range=[0.0, 1.0]), RangeParameter(name='x3', parameter_type=FLOAT, range=[0.0, 1.0]), RangeParameter(name='x4', parameter_type=FLOAT, range=[0.0, 1.0]), RangeParameter(name='x5', parameter_type=FLOAT, range=[0.0, 1.0]), RangeParameter(name='x6', parameter_type=FLOAT, range=[0.0, 1.0]), RangeParameter(name='x7', parameter_type=FLOAT, range=[0.0, 1.0])], parameter_constraints=[]).\n"
          ]
        }
      ]
    },
    {
      "cell_type": "markdown",
      "metadata": {
        "originalKey": "6a7942e4-9727-43d9-8d8d-c327d38c2373",
        "showInput": false,
        "customInput": null
      },
      "source": [
        "## Define evaluation function "
      ],
      "attachments": {}
    },
    {
      "cell_type": "code",
      "metadata": {
        "originalKey": "4e2994ff-36ac-4d48-a789-3d0398e1e856",
        "showInput": true,
        "customInput": null,
        "collapsed": false,
        "requestMsgId": "8f74a775-a8ce-462d-993c-5c9291c748b9",
        "executionStartTime": 1689124192990,
        "executionStopTime": 1689124192992
      },
      "source": [
        "def evaluation(parameters):\n",
        "    # put parameters into 1-D array\n",
        "    x = [parameters.get(param[\"name\"]) for param in experiment_parameters]\n",
        "    res = branin_augment(x_vec=x, augment_dim=aug_dim)\n",
        "    eval_res = {\n",
        "        # flip the sign to maximize\n",
        "        \"objective\": (res * -1, 0.0),\n",
        "    }\n",
        "    return eval_res"
      ],
      "execution_count": 18,
      "outputs": []
    },
    {
      "cell_type": "markdown",
      "metadata": {
        "originalKey": "4597531b-7ac8-4dd0-94c4-836672e0f4c4",
        "showInput": false,
        "customInput": null
      },
      "source": [
        "## Run optimization loop"
      ],
      "attachments": {}
    },
    {
      "cell_type": "code",
      "metadata": {
        "originalKey": "bc7accb2-48a2-4c88-a932-7c79ec81075a",
        "showInput": true,
        "customInput": null,
        "collapsed": false,
        "requestMsgId": "f054e5b1-12eb-459b-a508-6944baf82dfb",
        "executionStartTime": 1689124193044,
        "executionStopTime": 1689130398208
      },
      "source": [
        "for _ in range(NUM_TRIALS+N_INIT):    \n",
        "    parameters, trial_index = ax_client.get_next_trial()\n",
        "    res = evaluation(parameters)\n",
        "    ax_client.complete_trial(trial_index=trial_index, raw_data=res)"
      ],
      "execution_count": 19,
      "outputs": [
        {
          "output_type": "stream",
          "name": "stderr",
          "text": [
            "[INFO 07-11 18:09:53] ax.service.ax_client: Generated new trial 0 with parameters {'x0': 0.340745, 'x1': 0.592392, 'x2': 0.307124, 'x3': 0.136736, 'x4': 0.453162, 'x5': 0.407409, 'x6': 0.898588, 'x7': 0.712434}.\n"
          ]
        },
        {
          "output_type": "stream",
          "name": "stderr",
          "text": [
            "[INFO 07-11 18:09:53] ax.service.ax_client: Completed trial 0 with data: {'objective': (-28.913967, 0.0)}.\n"
          ]
        },
        {
          "output_type": "stream",
          "name": "stderr",
          "text": [
            "[INFO 07-11 18:09:53] ax.service.ax_client: Generated new trial 1 with parameters {'x0': 0.596941, 'x1': 0.798649, 'x2': 0.111305, 'x3': 0.329006, 'x4': 0.187743, 'x5': 0.589378, 'x6': 0.500772, 'x7': 0.008061}.\n"
          ]
        },
        {
          "output_type": "stream",
          "name": "stderr",
          "text": [
            "[INFO 07-11 18:09:53] ax.service.ax_client: Completed trial 1 with data: {'objective': (-108.522848, 0.0)}.\n"
          ]
        },
        {
          "output_type": "stream",
          "name": "stderr",
          "text": [
            "[INFO 07-11 18:09:53] ax.service.ax_client: Generated new trial 2 with parameters {'x0': 0.310899, 'x1': 0.906665, 'x2': 0.859498, 'x3': 0.861769, 'x4': 0.565173, 'x5': 0.849893, 'x6': 0.743119, 'x7': 0.485293}.\n"
          ]
        },
        {
          "output_type": "stream",
          "name": "stderr",
          "text": [
            "[INFO 07-11 18:09:53] ax.service.ax_client: Completed trial 2 with data: {'objective': (-68.762484, 0.0)}.\n"
          ]
        },
        {
          "output_type": "stream",
          "name": "stderr",
          "text": [
            "[INFO 07-11 18:09:53] ax.service.ax_client: Generated new trial 3 with parameters {'x0': 0.222246, 'x1': 0.682503, 'x2': 0.697094, 'x3': 0.262685, 'x4': 0.660106, 'x5': 0.783381, 'x6': 0.537969, 'x7': 0.607574}.\n"
          ]
        },
        {
          "output_type": "stream",
          "name": "stderr",
          "text": [
            "[INFO 07-11 18:09:53] ax.service.ax_client: Completed trial 3 with data: {'objective': (-10.589478, 0.0)}.\n"
          ]
        },
        {
          "output_type": "stream",
          "name": "stderr",
          "text": [
            "[INFO 07-11 18:09:53] ax.service.ax_client: Generated new trial 4 with parameters {'x0': 0.391554, 'x1': 0.769673, 'x2': 0.363151, 'x3': 0.522279, 'x4': 0.8752, 'x5': 0.921642, 'x6': 0.892081, 'x7': 0.614701}.\n"
          ]
        },
        {
          "output_type": "stream",
          "name": "stderr",
          "text": [
            "[INFO 07-11 18:09:53] ax.service.ax_client: Completed trial 4 with data: {'objective': (-62.905011, 0.0)}.\n"
          ]
        },
        {
          "output_type": "stream",
          "name": "stderr",
          "text": [
            "[INFO 07-11 18:09:53] ax.service.ax_client: Generated new trial 5 with parameters {'x0': 0.319981, 'x1': 0.578814, 'x2': 0.58387, 'x3': 0.310305, 'x4': 0.198673, 'x5': 0.78394, 'x6': 0.423361, 'x7': 0.853005}.\n"
          ]
        },
        {
          "output_type": "stream",
          "name": "stderr",
          "text": [
            "[INFO 07-11 18:09:53] ax.service.ax_client: Completed trial 5 with data: {'objective': (-24.971551, 0.0)}.\n"
          ]
        },
        {
          "output_type": "stream",
          "name": "stderr",
          "text": [
            "[INFO 07-11 18:09:53] ax.service.ax_client: Generated new trial 6 with parameters {'x0': 0.889574, 'x1': 0.540804, 'x2': 0.668386, 'x3': 0.511087, 'x4': 0.587279, 'x5': 0.966997, 'x6': 0.699696, 'x7': 0.919272}.\n"
          ]
        },
        {
          "output_type": "stream",
          "name": "stderr",
          "text": [
            "[INFO 07-11 18:09:53] ax.service.ax_client: Completed trial 6 with data: {'objective': (-46.419155, 0.0)}.\n"
          ]
        },
        {
          "output_type": "stream",
          "name": "stderr",
          "text": [
            "[INFO 07-11 18:09:53] ax.service.ax_client: Generated new trial 7 with parameters {'x0': 0.816103, 'x1': 0.454254, 'x2': 0.498263, 'x3': 0.609042, 'x4': 0.080031, 'x5': 0.321146, 'x6': 0.505942, 'x7': 0.386978}.\n"
          ]
        },
        {
          "output_type": "stream",
          "name": "stderr",
          "text": [
            "[INFO 07-11 18:09:53] ax.service.ax_client: Completed trial 7 with data: {'objective': (-46.485345, 0.0)}.\n"
          ]
        },
        {
          "output_type": "stream",
          "name": "stderr",
          "text": [
            "[INFO 07-11 18:09:53] ax.service.ax_client: Generated new trial 8 with parameters {'x0': 0.687349, 'x1': 0.282216, 'x2': 0.751967, 'x3': 0.566662, 'x4': 0.79098, 'x5': 0.641958, 'x6': 0.724017, 'x7': 0.590121}.\n"
          ]
        },
        {
          "output_type": "stream",
          "name": "stderr",
          "text": [
            "[INFO 07-11 18:09:53] ax.service.ax_client: Completed trial 8 with data: {'objective': (-24.65791, 0.0)}.\n"
          ]
        },
        {
          "output_type": "stream",
          "name": "stderr",
          "text": [
            "[INFO 07-11 18:09:53] ax.service.ax_client: Generated new trial 9 with parameters {'x0': 0.130133, 'x1': 0.712254, 'x2': 0.760572, 'x3': 0.411107, 'x4': 0.542096, 'x5': 0.526756, 'x6': 0.787764, 'x7': 0.674992}.\n"
          ]
        },
        {
          "output_type": "stream",
          "name": "stderr",
          "text": [
            "[INFO 07-11 18:09:53] ax.service.ax_client: Completed trial 9 with data: {'objective': (-2.309687, 0.0)}.\n"
          ]
        },
        {
          "output_type": "stream",
          "name": "stderr",
          "text": [
            "[INFO 07-11 18:11:36] ax.service.ax_client: Generated new trial 10 with parameters {'x0': 0.0, 'x1': 0.0, 'x2': 1.0, 'x3': 0.0, 'x4': 0.0, 'x5': 0.0, 'x6': 0.0, 'x7': 0.892852}.\n"
          ]
        },
        {
          "output_type": "stream",
          "name": "stderr",
          "text": [
            "[INFO 07-11 18:11:36] ax.service.ax_client: Completed trial 10 with data: {'objective': (-308.129096, 0.0)}.\n"
          ]
        },
        {
          "output_type": "stream",
          "name": "stderr",
          "text": [
            "[INFO 07-11 18:13:39] ax.service.ax_client: Generated new trial 11 with parameters {'x0': 0.0, 'x1': 0.640271, 'x2': 0.0, 'x3': 0.0, 'x4': 0.0, 'x5': 0.0, 'x6': 0.946358, 'x7': 0.0}.\n"
          ]
        },
        {
          "output_type": "stream",
          "name": "stderr",
          "text": [
            "[INFO 07-11 18:13:39] ax.service.ax_client: Completed trial 11 with data: {'objective': (-70.230069, 0.0)}.\n"
          ]
        },
        {
          "output_type": "stream",
          "name": "stderr",
          "text": [
            "[INFO 07-11 18:15:44] ax.service.ax_client: Generated new trial 12 with parameters {'x0': 0.0, 'x1': 0.519038, 'x2': 1.0, 'x3': 0.0, 'x4': 1.0, 'x5': 0.0, 'x6': 0.870499, 'x7': 0.0}.\n"
          ]
        },
        {
          "output_type": "stream",
          "name": "stderr",
          "text": [
            "[INFO 07-11 18:15:44] ax.service.ax_client: Completed trial 12 with data: {'objective': (-101.117533, 0.0)}.\n"
          ]
        },
        {
          "output_type": "stream",
          "name": "stderr",
          "text": [
            "[INFO 07-11 18:17:37] ax.service.ax_client: Generated new trial 13 with parameters {'x0': 0.0, 'x1': 0.0, 'x2': 0.0, 'x3': 1.0, 'x4': 0.0, 'x5': 0.0, 'x6': 0.727362, 'x7': 1.0}.\n"
          ]
        },
        {
          "output_type": "stream",
          "name": "stderr",
          "text": [
            "[INFO 07-11 18:17:37] ax.service.ax_client: Completed trial 13 with data: {'objective': (-308.129096, 0.0)}.\n"
          ]
        },
        {
          "output_type": "stream",
          "name": "stderr",
          "text": [
            "[INFO 07-11 18:19:31] ax.service.ax_client: Generated new trial 14 with parameters {'x0': 0.0, 'x1': 0.784581, 'x2': 1.0, 'x3': 0.0, 'x4': 0.0, 'x5': 0.700215, 'x6': 0.0, 'x7': 0.724654}.\n"
          ]
        },
        {
          "output_type": "stream",
          "name": "stderr",
          "text": [
            "[INFO 07-11 18:19:31] ax.service.ax_client: Completed trial 14 with data: {'objective': (-42.085428, 0.0)}.\n"
          ]
        },
        {
          "output_type": "stream",
          "name": "stderr",
          "text": [
            "[INFO 07-11 18:21:33] ax.service.ax_client: Generated new trial 15 with parameters {'x0': 0.0, 'x1': 0.710437, 'x2': 0.953762, 'x3': 0.0, 'x4': 0.0, 'x5': 0.662267, 'x6': 1.0, 'x7': 0.840749}.\n"
          ]
        },
        {
          "output_type": "stream",
          "name": "stderr",
          "text": [
            "[INFO 07-11 18:21:33] ax.service.ax_client: Completed trial 15 with data: {'objective': (-55.375218, 0.0)}.\n"
          ]
        },
        {
          "output_type": "stream",
          "name": "stderr",
          "text": [
            "[INFO 07-11 18:23:43] ax.service.ax_client: Generated new trial 16 with parameters {'x0': 0.0, 'x1': 0.712456, 'x2': 0.0, 'x3': 0.0, 'x4': 1.0, 'x5': 0.628146, 'x6': 0.0, 'x7': 0.846157}.\n"
          ]
        },
        {
          "output_type": "stream",
          "name": "stderr",
          "text": [
            "[INFO 07-11 18:23:43] ax.service.ax_client: Completed trial 16 with data: {'objective': (-54.980534, 0.0)}.\n"
          ]
        },
        {
          "output_type": "stream",
          "name": "stderr",
          "text": [
            "[INFO 07-11 18:26:09] ax.service.ax_client: Generated new trial 17 with parameters {'x0': 1.0, 'x1': 0.0, 'x2': 0.0, 'x3': 0.0, 'x4': 0.0, 'x5': 0.0, 'x6': 0.0, 'x7': 0.0}.\n"
          ]
        },
        {
          "output_type": "stream",
          "name": "stderr",
          "text": [
            "[INFO 07-11 18:26:09] ax.service.ax_client: Completed trial 17 with data: {'objective': (-10.960889, 0.0)}.\n"
          ]
        },
        {
          "output_type": "stream",
          "name": "stderr",
          "text": [
            "[INFO 07-11 18:28:06] ax.service.ax_client: Generated new trial 18 with parameters {'x0': 1.0, 'x1': 0.0, 'x2': 0.0, 'x3': 0.0, 'x4': 0.0, 'x5': 1.0, 'x6': 0.0, 'x7': 1.0}.\n"
          ]
        },
        {
          "output_type": "stream",
          "name": "stderr",
          "text": [
            "[INFO 07-11 18:28:06] ax.service.ax_client: Completed trial 18 with data: {'objective': (-10.960889, 0.0)}.\n"
          ]
        },
        {
          "output_type": "stream",
          "name": "stderr",
          "text": [
            "[INFO 07-11 18:29:44] ax.service.ax_client: Generated new trial 19 with parameters {'x0': 0.770094, 'x1': 0.0, 'x2': 0.0, 'x3': 0.0, 'x4': 0.0, 'x5': 0.0, 'x6': 0.0, 'x7': 0.0}.\n"
          ]
        },
        {
          "output_type": "stream",
          "name": "stderr",
          "text": [
            "[INFO 07-11 18:29:44] ax.service.ax_client: Completed trial 19 with data: {'objective': (-20.508312, 0.0)}.\n"
          ]
        },
        {
          "output_type": "stream",
          "name": "stderr",
          "text": [
            "[INFO 07-11 18:31:30] ax.service.ax_client: Generated new trial 20 with parameters {'x0': 0.137802, 'x1': 0.779453, 'x2': 0.0, 'x3': 0.0, 'x4': 0.0, 'x5': 0.0, 'x6': 0.0, 'x7': 0.0}.\n"
          ]
        },
        {
          "output_type": "stream",
          "name": "stderr",
          "text": [
            "[INFO 07-11 18:31:30] ax.service.ax_client: Completed trial 20 with data: {'objective': (-0.613746, 0.0)}.\n"
          ]
        },
        {
          "output_type": "stream",
          "name": "stderr",
          "text": [
            "[INFO 07-11 18:33:09] ax.service.ax_client: Generated new trial 21 with parameters {'x0': 0.536321, 'x1': 0.0, 'x2': 0.0, 'x3': 0.0, 'x4': 0.0, 'x5': 0.0, 'x6': 0.0, 'x7': 0.0}.\n"
          ]
        },
        {
          "output_type": "stream",
          "name": "stderr",
          "text": [
            "[INFO 07-11 18:33:09] ax.service.ax_client: Completed trial 21 with data: {'objective': (-5.973257, 0.0)}.\n"
          ]
        },
        {
          "output_type": "stream",
          "name": "stderr",
          "text": [
            "[INFO 07-11 18:34:47] ax.service.ax_client: Generated new trial 22 with parameters {'x0': 0.503722, 'x1': 0.219186, 'x2': 0.0, 'x3': 0.0, 'x4': 0.0, 'x5': 0.0, 'x6': 0.0, 'x7': 0.0}.\n"
          ]
        },
        {
          "output_type": "stream",
          "name": "stderr",
          "text": [
            "[INFO 07-11 18:34:47] ax.service.ax_client: Completed trial 22 with data: {'objective': (-2.260464, 0.0)}.\n"
          ]
        },
        {
          "output_type": "stream",
          "name": "stderr",
          "text": [
            "[INFO 07-11 18:36:41] ax.service.ax_client: Generated new trial 23 with parameters {'x0': 1.0, 'x1': 0.281918, 'x2': 0.0, 'x3': 0.0, 'x4': 0.0, 'x5': 0.0, 'x6': 0.0, 'x7': 0.0}.\n"
          ]
        },
        {
          "output_type": "stream",
          "name": "stderr",
          "text": [
            "[INFO 07-11 18:36:41] ax.service.ax_client: Completed trial 23 with data: {'objective': (-3.445743, 0.0)}.\n"
          ]
        },
        {
          "output_type": "stream",
          "name": "stderr",
          "text": [
            "[INFO 07-11 18:38:29] ax.service.ax_client: Generated new trial 24 with parameters {'x0': 0.549118, 'x1': 0.133697, 'x2': 0.0, 'x3': 1.0, 'x4': 0.0, 'x5': 1.0, 'x6': 0.0, 'x7': 0.0}.\n"
          ]
        },
        {
          "output_type": "stream",
          "name": "stderr",
          "text": [
            "[INFO 07-11 18:38:29] ax.service.ax_client: Completed trial 24 with data: {'objective': (-0.479951, 0.0)}.\n"
          ]
        },
        {
          "output_type": "stream",
          "name": "stderr",
          "text": [
            "[INFO 07-11 18:40:18] ax.service.ax_client: Generated new trial 25 with parameters {'x0': 0.080214, 'x1': 1.0, 'x2': 0.0, 'x3': 0.0, 'x4': 0.0, 'x5': 0.0, 'x6': 0.0, 'x7': 0.0}.\n"
          ]
        },
        {
          "output_type": "stream",
          "name": "stderr",
          "text": [
            "[INFO 07-11 18:40:19] ax.service.ax_client: Completed trial 25 with data: {'objective': (-3.585129, 0.0)}.\n"
          ]
        },
        {
          "output_type": "stream",
          "name": "stderr",
          "text": [
            "[INFO 07-11 18:42:08] ax.service.ax_client: Generated new trial 26 with parameters {'x0': 1.0, 'x1': 1.0, 'x2': 0.0, 'x3': 0.0, 'x4': 0.0, 'x5': 0.0, 'x6': 0.0, 'x7': 0.0}.\n"
          ]
        },
        {
          "output_type": "stream",
          "name": "stderr",
          "text": [
            "[INFO 07-11 18:42:08] ax.service.ax_client: Completed trial 26 with data: {'objective': (-145.872191, 0.0)}.\n"
          ]
        },
        {
          "output_type": "stream",
          "name": "stderr",
          "text": [
            "[INFO 07-11 18:44:13] ax.service.ax_client: Generated new trial 27 with parameters {'x0': 0.542029, 'x1': 0.136864, 'x2': 0.0, 'x3': 0.0, 'x4': 1.0, 'x5': 0.0, 'x6': 0.0, 'x7': 0.0}.\n"
          ]
        },
        {
          "output_type": "stream",
          "name": "stderr",
          "text": [
            "[INFO 07-11 18:44:14] ax.service.ax_client: Completed trial 27 with data: {'objective': (-0.451738, 0.0)}.\n"
          ]
        },
        {
          "output_type": "stream",
          "name": "stderr",
          "text": [
            "[INFO 07-11 18:46:25] ax.service.ax_client: Generated new trial 28 with parameters {'x0': 0.117749, 'x1': 0.847684, 'x2': 0.0, 'x3': 0.0, 'x4': 1.0, 'x5': 1.0, 'x6': 0.0, 'x7': 0.0}.\n"
          ]
        },
        {
          "output_type": "stream",
          "name": "stderr",
          "text": [
            "[INFO 07-11 18:46:25] ax.service.ax_client: Completed trial 28 with data: {'objective': (-0.486016, 0.0)}.\n"
          ]
        },
        {
          "output_type": "stream",
          "name": "stderr",
          "text": [
            "[INFO 07-11 18:48:39] ax.service.ax_client: Generated new trial 29 with parameters {'x0': 0.122207, 'x1': 0.831379, 'x2': 1.0, 'x3': 1.0, 'x4': 1.0, 'x5': 0.0, 'x6': 0.0, 'x7': 0.0}.\n"
          ]
        },
        {
          "output_type": "stream",
          "name": "stderr",
          "text": [
            "[INFO 07-11 18:48:39] ax.service.ax_client: Completed trial 29 with data: {'objective': (-0.41913, 0.0)}.\n"
          ]
        },
        {
          "output_type": "stream",
          "name": "stderr",
          "text": [
            "[INFO 07-11 18:51:07] ax.service.ax_client: Generated new trial 30 with parameters {'x0': 0.608958, 'x1': 0.0, 'x2': 0.0, 'x3': 0.0, 'x4': 0.0, 'x5': 0.0, 'x6': 0.0, 'x7': 0.0}.\n"
          ]
        },
        {
          "output_type": "stream",
          "name": "stderr",
          "text": [
            "[INFO 07-11 18:51:07] ax.service.ax_client: Completed trial 30 with data: {'objective': (-7.404426, 0.0)}.\n"
          ]
        },
        {
          "output_type": "stream",
          "name": "stderr",
          "text": [
            "[INFO 07-11 18:53:20] ax.service.ax_client: Generated new trial 31 with parameters {'x0': 0.532365, 'x1': 0.141486, 'x2': 0.0, 'x3': 1.0, 'x4': 0.0, 'x5': 0.0, 'x6': 1.0, 'x7': 1.0}.\n"
          ]
        },
        {
          "output_type": "stream",
          "name": "stderr",
          "text": [
            "[INFO 07-11 18:53:20] ax.service.ax_client: Completed trial 31 with data: {'objective': (-0.591731, 0.0)}.\n"
          ]
        },
        {
          "output_type": "stream",
          "name": "stderr",
          "text": [
            "[INFO 07-11 18:55:48] ax.service.ax_client: Generated new trial 32 with parameters {'x0': 0.950988, 'x1': 0.171879, 'x2': 0.0, 'x3': 0.0, 'x4': 0.0, 'x5': 0.0, 'x6': 0.0, 'x7': 0.0}.\n"
          ]
        },
        {
          "output_type": "stream",
          "name": "stderr",
          "text": [
            "[INFO 07-11 18:55:48] ax.service.ax_client: Completed trial 32 with data: {'objective': (-0.575591, 0.0)}.\n"
          ]
        },
        {
          "output_type": "stream",
          "name": "stderr",
          "text": [
            "[INFO 07-11 18:58:07] ax.service.ax_client: Generated new trial 33 with parameters {'x0': 0.973297, 'x1': 0.183923, 'x2': 1.0, 'x3': 0.0, 'x4': 1.0, 'x5': 1.0, 'x6': 0.0, 'x7': 0.0}.\n"
          ]
        },
        {
          "output_type": "stream",
          "name": "stderr",
          "text": [
            "[INFO 07-11 18:58:07] ax.service.ax_client: Completed trial 33 with data: {'objective': (-0.561572, 0.0)}.\n"
          ]
        },
        {
          "output_type": "stream",
          "name": "stderr",
          "text": [
            "[INFO 07-11 19:00:53] ax.service.ax_client: Generated new trial 34 with parameters {'x0': 0.972473, 'x1': 0.184526, 'x2': 0.0, 'x3': 1.0, 'x4': 0.0, 'x5': 0.0, 'x6': 1.0, 'x7': 0.0}.\n"
          ]
        },
        {
          "output_type": "stream",
          "name": "stderr",
          "text": [
            "[INFO 07-11 19:00:53] ax.service.ax_client: Completed trial 34 with data: {'objective': (-0.547382, 0.0)}.\n"
          ]
        },
        {
          "output_type": "stream",
          "name": "stderr",
          "text": [
            "[INFO 07-11 19:03:58] ax.service.ax_client: Generated new trial 35 with parameters {'x0': 0.543579, 'x1': 0.145004, 'x2': 1.0, 'x3': 0.0, 'x4': 0.0, 'x5': 0.0, 'x6': 0.0, 'x7': 0.0}.\n"
          ]
        },
        {
          "output_type": "stream",
          "name": "stderr",
          "text": [
            "[INFO 07-11 19:03:58] ax.service.ax_client: Completed trial 35 with data: {'objective': (-0.406784, 0.0)}.\n"
          ]
        },
        {
          "output_type": "stream",
          "name": "stderr",
          "text": [
            "[INFO 07-11 19:08:04] ax.service.ax_client: Generated new trial 36 with parameters {'x0': 0.56372, 'x1': 0.0, 'x2': 0.0, 'x3': 0.0, 'x4': 0.0, 'x5': 0.0, 'x6': 0.0, 'x7': 0.0}.\n"
          ]
        },
        {
          "output_type": "stream",
          "name": "stderr",
          "text": [
            "[INFO 07-11 19:08:04] ax.service.ax_client: Completed trial 36 with data: {'objective': (-5.040681, 0.0)}.\n"
          ]
        },
        {
          "output_type": "stream",
          "name": "stderr",
          "text": [
            "[INFO 07-11 19:10:39] ax.service.ax_client: Generated new trial 37 with parameters {'x0': 0.128424, 'x1': 0.814467, 'x2': 1.0, 'x3': 0.0, 'x4': 0.0, 'x5': 1.0, 'x6': 0.0, 'x7': 1.0}.\n"
          ]
        },
        {
          "output_type": "stream",
          "name": "stderr",
          "text": [
            "[INFO 07-11 19:10:39] ax.service.ax_client: Completed trial 37 with data: {'objective': (-0.431012, 0.0)}.\n"
          ]
        },
        {
          "output_type": "stream",
          "name": "stderr",
          "text": [
            "[INFO 07-11 19:13:21] ax.service.ax_client: Generated new trial 38 with parameters {'x0': 0.967249, 'x1': 0.189143, 'x2': 0.0, 'x3': 1.0, 'x4': 1.0, 'x5': 0.0, 'x6': 0.0, 'x7': 1.0}.\n"
          ]
        },
        {
          "output_type": "stream",
          "name": "stderr",
          "text": [
            "[INFO 07-11 19:13:21] ax.service.ax_client: Completed trial 38 with data: {'objective': (-0.516046, 0.0)}.\n"
          ]
        },
        {
          "output_type": "stream",
          "name": "stderr",
          "text": [
            "[INFO 07-11 19:17:03] ax.service.ax_client: Generated new trial 39 with parameters {'x0': 0.563272, 'x1': 0.0, 'x2': 0.0, 'x3': 0.0, 'x4': 0.0, 'x5': 0.0, 'x6': 0.0, 'x7': 0.0}.\n"
          ]
        },
        {
          "output_type": "stream",
          "name": "stderr",
          "text": [
            "[INFO 07-11 19:17:03] ax.service.ax_client: Completed trial 39 with data: {'objective': (-5.040172, 0.0)}.\n"
          ]
        },
        {
          "output_type": "stream",
          "name": "stderr",
          "text": [
            "[INFO 07-11 19:20:43] ax.service.ax_client: Generated new trial 40 with parameters {'x0': 0.111004, 'x1': 0.841851, 'x2': 0.0, 'x3': 0.0, 'x4': 0.0, 'x5': 0.0, 'x6': 0.0, 'x7': 0.0}.\n"
          ]
        },
        {
          "output_type": "stream",
          "name": "stderr",
          "text": [
            "[INFO 07-11 19:20:43] ax.service.ax_client: Completed trial 40 with data: {'objective': (-0.590424, 0.0)}.\n"
          ]
        },
        {
          "output_type": "stream",
          "name": "stderr",
          "text": [
            "[INFO 07-11 19:24:20] ax.service.ax_client: Generated new trial 41 with parameters {'x0': 0.563578, 'x1': 0.0, 'x2': 0.0, 'x3': 0.0, 'x4': 0.0, 'x5': 0.0, 'x6': 0.0, 'x7': 0.0}.\n"
          ]
        },
        {
          "output_type": "stream",
          "name": "stderr",
          "text": [
            "[INFO 07-11 19:24:20] ax.service.ax_client: Completed trial 41 with data: {'objective': (-5.040465, 0.0)}.\n"
          ]
        },
        {
          "output_type": "stream",
          "name": "stderr",
          "text": [
            "[INFO 07-11 19:27:24] ax.service.ax_client: Generated new trial 42 with parameters {'x0': 1.0, 'x1': 0.173494, 'x2': 0.0, 'x3': 0.0, 'x4': 0.0, 'x5': 0.0, 'x6': 0.0, 'x7': 0.0}.\n"
          ]
        },
        {
          "output_type": "stream",
          "name": "stderr",
          "text": [
            "[INFO 07-11 19:27:24] ax.service.ax_client: Completed trial 42 with data: {'objective': (-2.103578, 0.0)}.\n"
          ]
        },
        {
          "output_type": "stream",
          "name": "stderr",
          "text": [
            "[INFO 07-11 19:30:34] ax.service.ax_client: Generated new trial 43 with parameters {'x0': 0.563448, 'x1': 0.0, 'x2': 0.0, 'x3': 0.0, 'x4': 0.0, 'x5': 0.0, 'x6': 0.0, 'x7': 0.0}.\n"
          ]
        },
        {
          "output_type": "stream",
          "name": "stderr",
          "text": [
            "[INFO 07-11 19:30:34] ax.service.ax_client: Completed trial 43 with data: {'objective': (-5.040312, 0.0)}.\n"
          ]
        },
        {
          "output_type": "stream",
          "name": "stderr",
          "text": [
            "[INFO 07-11 19:34:21] ax.service.ax_client: Generated new trial 44 with parameters {'x0': 0.563267, 'x1': 0.0, 'x2': 0.0, 'x3': 0.0, 'x4': 0.0, 'x5': 0.0, 'x6': 0.0, 'x7': 0.0}.\n"
          ]
        },
        {
          "output_type": "stream",
          "name": "stderr",
          "text": [
            "[INFO 07-11 19:34:21] ax.service.ax_client: Completed trial 44 with data: {'objective': (-5.04017, 0.0)}.\n"
          ]
        },
        {
          "output_type": "stream",
          "name": "stderr",
          "text": [
            "[INFO 07-11 19:38:27] ax.service.ax_client: Generated new trial 45 with parameters {'x0': 0.563496, 'x1': 0.0, 'x2': 0.0, 'x3': 0.0, 'x4': 0.0, 'x5': 0.0, 'x6': 0.0, 'x7': 0.0}.\n"
          ]
        },
        {
          "output_type": "stream",
          "name": "stderr",
          "text": [
            "[INFO 07-11 19:38:27] ax.service.ax_client: Completed trial 45 with data: {'objective': (-5.040364, 0.0)}.\n"
          ]
        },
        {
          "output_type": "stream",
          "name": "stderr",
          "text": [
            "[INFO 07-11 19:41:52] ax.service.ax_client: Generated new trial 46 with parameters {'x0': 0.563076, 'x1': 0.0, 'x2': 0.0, 'x3': 0.0, 'x4': 0.0, 'x5': 0.0, 'x6': 0.0, 'x7': 0.0}.\n"
          ]
        },
        {
          "output_type": "stream",
          "name": "stderr",
          "text": [
            "[INFO 07-11 19:41:52] ax.service.ax_client: Completed trial 46 with data: {'objective': (-5.040109, 0.0)}.\n"
          ]
        },
        {
          "output_type": "stream",
          "name": "stderr",
          "text": [
            "[INFO 07-11 19:45:10] ax.service.ax_client: Generated new trial 47 with parameters {'x0': 0.563165, 'x1': 0.0, 'x2': 0.0, 'x3': 0.0, 'x4': 0.0, 'x5': 0.0, 'x6': 0.0, 'x7': 0.0}.\n"
          ]
        },
        {
          "output_type": "stream",
          "name": "stderr",
          "text": [
            "[INFO 07-11 19:45:10] ax.service.ax_client: Completed trial 47 with data: {'objective': (-5.040126, 0.0)}.\n"
          ]
        },
        {
          "output_type": "stream",
          "name": "stderr",
          "text": [
            "[INFO 07-11 19:48:48] ax.service.ax_client: Generated new trial 48 with parameters {'x0': 0.562984, 'x1': 0.0, 'x2': 0.0, 'x3': 0.0, 'x4': 0.0, 'x5': 0.0, 'x6': 0.0, 'x7': 0.0}.\n"
          ]
        },
        {
          "output_type": "stream",
          "name": "stderr",
          "text": [
            "[INFO 07-11 19:48:48] ax.service.ax_client: Completed trial 48 with data: {'objective': (-5.040112, 0.0)}.\n"
          ]
        },
        {
          "output_type": "stream",
          "name": "stderr",
          "text": [
            "[INFO 07-11 19:53:17] ax.service.ax_client: Generated new trial 49 with parameters {'x0': 0.563213, 'x1': 0.0, 'x2': 0.0, 'x3': 0.0, 'x4': 0.0, 'x5': 0.0, 'x6': 0.0, 'x7': 0.0}.\n"
          ]
        },
        {
          "output_type": "stream",
          "name": "stderr",
          "text": [
            "[INFO 07-11 19:53:17] ax.service.ax_client: Completed trial 49 with data: {'objective': (-5.040143, 0.0)}.\n"
          ]
        }
      ]
    }
  ]
}
