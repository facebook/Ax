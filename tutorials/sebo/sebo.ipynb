{
 "cells": [
  {
   "cell_type": "markdown",
   "id": "0f2d6840",
   "metadata": {
    "collapsed": true,
    "customInput": null,
    "jupyter": {
     "outputs_hidden": true
    },
    "originalKey": "d3a0136e-94fa-477c-a839-20e5b7f1cdd2",
    "papermill": {
     "duration": 0.003868,
     "end_time": "2025-02-03T19:51:22.252296",
     "exception": false,
     "start_time": "2025-02-03T19:51:22.248428",
     "status": "completed"
    },
    "showInput": false,
    "tags": []
   },
   "source": [
    "# Sparsity Exploration Bayesian Optimization (SEBO) Ax API \n",
    "\n",
    "This tutorial introduces the Sparsity Exploration Bayesian Optimization (SEBO) method and demonstrates how to utilize it using the Ax API. SEBO is designed to enhance Bayesian Optimization (BO) by taking the interpretability and simplicity of configurations into consideration. In essence, SEBO incorporates sparsity, modeled as the $L_0$ norm, as an additional objective in BO. By employing multi-objective optimization techniques such as Expected Hyper-Volume Improvement, SEBO enables the joint optimization of objectives while simultaneously incorporating feature-level sparsity. This allows users to efficiently explore different trade-offs between objectives and sparsity.\n",
    "\n",
    "\n",
    "For a more detailed understanding of the SEBO algorithm, please refer to the following publication:\n",
    "\n",
    "[1] [S. Liu, Q. Feng, D. Eriksson, B. Letham and E. Bakshy. Sparse Bayesian Optimization. International Conference on Artificial Intelligence and Statistics, 2023.](https://proceedings.mlr.press/v206/liu23b/liu23b.pdf)\n",
    "\n",
    "By following this tutorial, you will learn how to leverage the SEBO method through the Ax API, empowering you to effectively balance objectives and sparsity in your optimization tasks. Let's get started!"
   ]
  },
  {
   "cell_type": "code",
   "execution_count": 1,
   "id": "d0999b42",
   "metadata": {
    "execution": {
     "iopub.execute_input": "2025-02-03T19:51:22.260292Z",
     "iopub.status.busy": "2025-02-03T19:51:22.260009Z",
     "iopub.status.idle": "2025-02-03T19:51:22.265080Z",
     "shell.execute_reply": "2025-02-03T19:51:22.264612Z"
    },
    "papermill": {
     "duration": 0.010602,
     "end_time": "2025-02-03T19:51:22.266291",
     "exception": false,
     "start_time": "2025-02-03T19:51:22.255689",
     "status": "completed"
    },
    "tags": []
   },
   "outputs": [],
   "source": [
    "import sys\n",
    "import plotly.io as pio\n",
    "if 'google.colab' in sys.modules:\n",
    "    pio.renderers.default = \"colab\"\n",
    "    %pip install ax-platform"
   ]
  },
  {
   "cell_type": "code",
   "execution_count": 2,
   "id": "bf8f4641",
   "metadata": {
    "customOutput": null,
    "execution": {
     "iopub.execute_input": "2025-02-03T19:51:22.274326Z",
     "iopub.status.busy": "2025-02-03T19:51:22.274098Z",
     "iopub.status.idle": "2025-02-03T19:51:25.638387Z",
     "shell.execute_reply": "2025-02-03T19:51:25.637683Z"
    },
    "executionStartTime": 1689117385062,
    "executionStopTime": 1689117389874,
    "jupyter": {
     "outputs_hidden": false
    },
    "originalKey": "cea96143-019a-41c1-a388-545f48992db9",
    "papermill": {
     "duration": 3.370194,
     "end_time": "2025-02-03T19:51:25.639976",
     "exception": false,
     "start_time": "2025-02-03T19:51:22.269782",
     "status": "completed"
    },
    "requestMsgId": "c2c22a5d-aee0-4a1e-98d9-b360aa1851ff",
    "showInput": true,
    "tags": []
   },
   "outputs": [],
   "source": [
    "import math\n",
    "import os\n",
    "import warnings\n",
    "\n",
    "import matplotlib\n",
    "import matplotlib.pyplot as plt\n",
    "\n",
    "import numpy as np\n",
    "import torch\n",
    "from ax import Data, Experiment, ParameterType, RangeParameter, SearchSpace\n",
    "from ax.core.objective import Objective\n",
    "from ax.core.optimization_config import OptimizationConfig\n",
    "from ax.metrics.noisy_function import NoisyFunctionMetric\n",
    "from ax.modelbridge.generation_strategy import GenerationStep, GenerationStrategy\n",
    "from ax.modelbridge.registry import Models\n",
    "from ax.models.torch.botorch_modular.sebo import SEBOAcquisition\n",
    "from ax.models.torch.botorch_modular.surrogate import Surrogate\n",
    "from ax.runners.synthetic import SyntheticRunner\n",
    "from ax.service.ax_client import AxClient, ObjectiveProperties\n",
    "from botorch.acquisition.multi_objective import qNoisyExpectedHypervolumeImprovement\n",
    "from botorch.models import SaasFullyBayesianSingleTaskGP, SingleTaskGP\n",
    "from pyre_extensions import assert_is_instance"
   ]
  },
  {
   "cell_type": "code",
   "execution_count": 3,
   "id": "70113fbd",
   "metadata": {
    "execution": {
     "iopub.execute_input": "2025-02-03T19:51:25.648537Z",
     "iopub.status.busy": "2025-02-03T19:51:25.647969Z",
     "iopub.status.idle": "2025-02-03T19:51:25.658323Z",
     "shell.execute_reply": "2025-02-03T19:51:25.657726Z"
    },
    "papermill": {
     "duration": 0.015872,
     "end_time": "2025-02-03T19:51:25.659651",
     "exception": false,
     "start_time": "2025-02-03T19:51:25.643779",
     "status": "completed"
    },
    "tags": []
   },
   "outputs": [],
   "source": [
    "%matplotlib inline\n",
    "matplotlib.rcParams.update({\"font.size\": 16})\n",
    "\n",
    "warnings.filterwarnings('ignore')\n",
    "SMOKE_TEST = os.environ.get(\"SMOKE_TEST\")\n",
    "\n",
    "torch.manual_seed(12345)  # To always get the same Sobol points\n",
    "tkwargs = {\n",
    "    \"dtype\": torch.double,\n",
    "    \"device\": torch.device(\"cuda\" if torch.cuda.is_available() else \"cpu\"),\n",
    "}"
   ]
  },
  {
   "cell_type": "markdown",
   "id": "ff25d24e",
   "metadata": {
    "customInput": null,
    "originalKey": "7f07af01-ad58-4cfb-beca-f624310d278d",
    "papermill": {
     "duration": 0.003282,
     "end_time": "2025-02-03T19:51:25.666534",
     "exception": false,
     "start_time": "2025-02-03T19:51:25.663252",
     "status": "completed"
    },
    "showInput": false,
    "tags": []
   },
   "source": [
    "# Demo of using Developer API"
   ]
  },
  {
   "cell_type": "markdown",
   "id": "055e07fc",
   "metadata": {
    "customInput": null,
    "originalKey": "c8a27a2f-1120-4894-9302-48bfde402268",
    "papermill": {
     "duration": 0.003262,
     "end_time": "2025-02-03T19:51:25.673239",
     "exception": false,
     "start_time": "2025-02-03T19:51:25.669977",
     "status": "completed"
    },
    "showInput": false,
    "tags": []
   },
   "source": [
    "## Problem Setup \n",
    "\n",
    "In this simple experiment we use the Branin function embedded in a 10-dimensional space. Additional resources:\n",
    "- To set up a custom metric for your problem, refer to the dedicated section of the Developer API tutorial: https://ax.dev/tutorials/gpei_hartmann_developer.html#8.-Defining-custom-metrics.\n",
    "- To avoid needing to setup up custom metrics by Ax Service API: https://ax.dev/tutorials/gpei_hartmann_service.html."
   ]
  },
  {
   "cell_type": "code",
   "execution_count": 4,
   "id": "5197d184",
   "metadata": {
    "customInput": null,
    "execution": {
     "iopub.execute_input": "2025-02-03T19:51:25.681075Z",
     "iopub.status.busy": "2025-02-03T19:51:25.680659Z",
     "iopub.status.idle": "2025-02-03T19:51:25.684606Z",
     "shell.execute_reply": "2025-02-03T19:51:25.684014Z"
    },
    "executionStartTime": 1689117390036,
    "executionStopTime": 1689117390038,
    "jupyter": {
     "outputs_hidden": false
    },
    "originalKey": "e91fc838-9f47-44f1-99ac-4477df208566",
    "papermill": {
     "duration": 0.00932,
     "end_time": "2025-02-03T19:51:25.685827",
     "exception": false,
     "start_time": "2025-02-03T19:51:25.676507",
     "status": "completed"
    },
    "requestMsgId": "1591e6b0-fa9b-4b9f-be72-683dccbe923a",
    "showInput": true,
    "tags": []
   },
   "outputs": [],
   "source": [
    "aug_dim = 8 \n",
    "\n",
    "# evaluation function \n",
    "def branin_augment(x_vec, augment_dim):\n",
    "    assert len(x_vec) == augment_dim\n",
    "    x1, x2 = (\n",
    "        15 * x_vec[0] - 5,\n",
    "        15 * x_vec[1],\n",
    "    )  # Only dimensions 0 and augment_dim-1 affect the value of the function\n",
    "    t1 = x2 - 5.1 / (4 * math.pi**2) * x1**2 + 5 / math.pi * x1 - 6\n",
    "    t2 = 10 * (1 - 1 / (8 * math.pi)) * np.cos(x1)\n",
    "    return t1**2 + t2 + 10"
   ]
  },
  {
   "cell_type": "code",
   "execution_count": 5,
   "id": "1c3b9205",
   "metadata": {
    "customInput": null,
    "customOutput": null,
    "execution": {
     "iopub.execute_input": "2025-02-03T19:51:25.693829Z",
     "iopub.status.busy": "2025-02-03T19:51:25.693440Z",
     "iopub.status.idle": "2025-02-03T19:51:25.697288Z",
     "shell.execute_reply": "2025-02-03T19:51:25.696801Z"
    },
    "executionStartTime": 1689117390518,
    "executionStopTime": 1689117390540,
    "jupyter": {
     "outputs_hidden": false
    },
    "originalKey": "850830c6-509f-4087-bce8-da0be4fd48ef",
    "papermill": {
     "duration": 0.009171,
     "end_time": "2025-02-03T19:51:25.698483",
     "exception": false,
     "start_time": "2025-02-03T19:51:25.689312",
     "status": "completed"
    },
    "requestMsgId": "56726053-205d-4d7e-b1b5-1a76324188ee",
    "showInput": true,
    "tags": []
   },
   "outputs": [],
   "source": [
    "class AugBraninMetric(NoisyFunctionMetric):\n",
    "    def f(self, x: np.ndarray) -> float:\n",
    "        return assert_is_instance(branin_augment(x_vec=x, augment_dim=aug_dim), float)\n",
    "\n",
    "\n",
    "# Create search space in Ax \n",
    "search_space = SearchSpace(\n",
    "    parameters=[\n",
    "        RangeParameter(\n",
    "            name=f\"x{i}\",\n",
    "            parameter_type=ParameterType.FLOAT, \n",
    "            lower=0.0, upper=1.0\n",
    "        )\n",
    "        for i in range(aug_dim)\n",
    "    ]\n",
    ")"
   ]
  },
  {
   "cell_type": "code",
   "execution_count": 6,
   "id": "4b810ab2",
   "metadata": {
    "customInput": null,
    "execution": {
     "iopub.execute_input": "2025-02-03T19:51:25.706340Z",
     "iopub.status.busy": "2025-02-03T19:51:25.706088Z",
     "iopub.status.idle": "2025-02-03T19:51:25.710272Z",
     "shell.execute_reply": "2025-02-03T19:51:25.709697Z"
    },
    "executionStartTime": 1689117391899,
    "executionStopTime": 1689117391915,
    "jupyter": {
     "outputs_hidden": false
    },
    "originalKey": "d039b709-67c6-475a-96ce-290f869e0f88",
    "papermill": {
     "duration": 0.009543,
     "end_time": "2025-02-03T19:51:25.711509",
     "exception": false,
     "start_time": "2025-02-03T19:51:25.701966",
     "status": "completed"
    },
    "requestMsgId": "3e23ed64-7d10-430b-b790-91a0c7cf72fe",
    "showInput": true,
    "tags": []
   },
   "outputs": [],
   "source": [
    "# Create optimization goals \n",
    "optimization_config = OptimizationConfig(\n",
    "    objective=Objective(\n",
    "        metric=AugBraninMetric(\n",
    "            name=\"objective\",\n",
    "            param_names=[f\"x{i}\" for i in range(aug_dim)],\n",
    "            noise_sd=None,  # Set noise_sd=None if you want to learn the noise, otherwise it defaults to 1e-6\n",
    "        ),\n",
    "        minimize=True,\n",
    "    )\n",
    ")\n",
    "\n",
    "# Experiment\n",
    "experiment = Experiment(\n",
    "    name=\"sebo_experiment\",\n",
    "    search_space=search_space,\n",
    "    optimization_config=optimization_config,\n",
    "    runner=SyntheticRunner(),\n",
    ")\n",
    "\n",
    "# target sparse point to regularize towards to. Here we set target sparse value being zero for all the parameters. \n",
    "target_point = torch.tensor([0 for _ in range(aug_dim)], **tkwargs)"
   ]
  },
  {
   "cell_type": "markdown",
   "id": "9c6e59ba",
   "metadata": {
    "customInput": null,
    "originalKey": "e57edb00-eafc-4d07-bdb9-e8cf073b4caa",
    "papermill": {
     "duration": 0.003346,
     "end_time": "2025-02-03T19:51:25.718452",
     "exception": false,
     "start_time": "2025-02-03T19:51:25.715106",
     "status": "completed"
    },
    "showInput": false,
    "tags": []
   },
   "source": [
    "## Run optimization loop"
   ]
  },
  {
   "cell_type": "code",
   "execution_count": 7,
   "id": "2f4b2130",
   "metadata": {
    "customInput": null,
    "customOutput": null,
    "execution": {
     "iopub.execute_input": "2025-02-03T19:51:25.726682Z",
     "iopub.status.busy": "2025-02-03T19:51:25.726179Z",
     "iopub.status.idle": "2025-02-03T19:51:25.730372Z",
     "shell.execute_reply": "2025-02-03T19:51:25.729840Z"
    },
    "executionStartTime": 1689117395051,
    "executionStopTime": 1689117395069,
    "jupyter": {
     "outputs_hidden": false
    },
    "originalKey": "c4848148-bff5-44a7-9ad5-41e78ccb413c",
    "papermill": {
     "duration": 0.009588,
     "end_time": "2025-02-03T19:51:25.731539",
     "exception": false,
     "start_time": "2025-02-03T19:51:25.721951",
     "status": "completed"
    },
    "requestMsgId": "8aa87d22-bf89-471f-be9f-7c31f7b8bd62",
    "showInput": true,
    "tags": []
   },
   "outputs": [
    {
     "name": "stdout",
     "output_type": "stream",
     "text": [
      "Doing 30 evaluations\n"
     ]
    }
   ],
   "source": [
    "N_INIT = 10\n",
    "\n",
    "if SMOKE_TEST:\n",
    "    N_BATCHES = 1\n",
    "    BATCH_SIZE = 1\n",
    "    SURROGATE_CLASS = None  # Auto-pick SingleTaskGP\n",
    "else:\n",
    "    N_BATCHES = 4\n",
    "    BATCH_SIZE = 5\n",
    "    SURROGATE_CLASS = SaasFullyBayesianSingleTaskGP\n",
    "\n",
    "print(f\"Doing {N_INIT + N_BATCHES * BATCH_SIZE} evaluations\")"
   ]
  },
  {
   "cell_type": "code",
   "execution_count": 8,
   "id": "ff11dc44",
   "metadata": {
    "customInput": null,
    "customOutput": null,
    "execution": {
     "iopub.execute_input": "2025-02-03T19:51:25.739709Z",
     "iopub.status.busy": "2025-02-03T19:51:25.739301Z",
     "iopub.status.idle": "2025-02-03T19:51:25.751727Z",
     "shell.execute_reply": "2025-02-03T19:51:25.751100Z"
    },
    "executionStartTime": 1689117396326,
    "executionStopTime": 1689117396376,
    "jupyter": {
     "outputs_hidden": false
    },
    "originalKey": "b260d85f-2797-44e3-840a-86587534b589",
    "papermill": {
     "duration": 0.018004,
     "end_time": "2025-02-03T19:51:25.753128",
     "exception": false,
     "start_time": "2025-02-03T19:51:25.735124",
     "status": "completed"
    },
    "requestMsgId": "2cc516e3-b16e-40ca-805f-dcd792c92fa6",
    "showInput": true,
    "tags": []
   },
   "outputs": [],
   "source": [
    "# Initial Sobol points\n",
    "sobol = Models.SOBOL(search_space=experiment.search_space)\n",
    "for _ in range(N_INIT):\n",
    "    experiment.new_trial(sobol.gen(1)).run()"
   ]
  },
  {
   "cell_type": "code",
   "execution_count": 9,
   "id": "57ca2560",
   "metadata": {
    "customInput": null,
    "customOutput": null,
    "execution": {
     "iopub.execute_input": "2025-02-03T19:51:25.761929Z",
     "iopub.status.busy": "2025-02-03T19:51:25.761558Z",
     "iopub.status.idle": "2025-02-03T20:07:58.458286Z",
     "shell.execute_reply": "2025-02-03T20:07:58.457572Z"
    },
    "executionStartTime": 1689117396900,
    "executionStopTime": 1689124188959,
    "jupyter": {
     "outputs_hidden": false
    },
    "originalKey": "7c198035-add2-4717-be27-4fb67c4d1782",
    "papermill": {
     "duration": 992.705869,
     "end_time": "2025-02-03T20:07:58.463024",
     "exception": false,
     "start_time": "2025-02-03T19:51:25.757155",
     "status": "completed"
    },
    "requestMsgId": "d844fa20-0adf-4ba3-ace5-7253ba678db2",
    "showInput": true,
    "tags": []
   },
   "outputs": [
    {
     "name": "stdout",
     "output_type": "stream",
     "text": [
      "Iteration: 0, Best so far: 2.494\n"
     ]
    },
    {
     "name": "stdout",
     "output_type": "stream",
     "text": [
      "Iteration: 1, Best so far: 2.494\n"
     ]
    },
    {
     "name": "stdout",
     "output_type": "stream",
     "text": [
      "Iteration: 2, Best so far: 2.451\n"
     ]
    },
    {
     "name": "stdout",
     "output_type": "stream",
     "text": [
      "Iteration: 3, Best so far: 0.703\n"
     ]
    }
   ],
   "source": [
    "data = experiment.fetch_data()\n",
    "\n",
    "for i in range(N_BATCHES):\n",
    "\n",
    "    model = Models.BOTORCH_MODULAR(\n",
    "        experiment=experiment, \n",
    "        data=data,\n",
    "        surrogate=Surrogate(botorch_model_class=SURROGATE_CLASS),  # can use SAASGP (i.e. SaasFullyBayesianSingleTaskGP) for high-dim cases\n",
    "        search_space=experiment.search_space,\n",
    "        botorch_acqf_class=qNoisyExpectedHypervolumeImprovement,\n",
    "        acquisition_class=SEBOAcquisition,\n",
    "        acquisition_options={\n",
    "            \"penalty\": \"L0_norm\", # it can be L0_norm or L1_norm. \n",
    "            \"target_point\": target_point, \n",
    "            \"sparsity_threshold\": aug_dim,\n",
    "        },\n",
    "        torch_device=tkwargs['device'],\n",
    "    )\n",
    "\n",
    "    generator_run = model.gen(BATCH_SIZE)\n",
    "    trial = experiment.new_batch_trial(generator_run=generator_run)\n",
    "    trial.run()\n",
    "\n",
    "    new_data = trial.fetch_data(metrics=list(experiment.metrics.values()))\n",
    "    data = Data.from_multiple_data([data, new_data])\n",
    "    print(f\"Iteration: {i}, Best so far: {data.df['mean'].min():.3f}\")"
   ]
  },
  {
   "cell_type": "markdown",
   "id": "cb5fef8f",
   "metadata": {
    "customInput": null,
    "originalKey": "7998635d-6750-4825-b93d-c7b61f74c3c5",
    "papermill": {
     "duration": 0.003936,
     "end_time": "2025-02-03T20:07:58.470787",
     "exception": false,
     "start_time": "2025-02-03T20:07:58.466851",
     "status": "completed"
    },
    "showInput": false,
    "tags": []
   },
   "source": [
    "## Plot sparisty vs objective \n",
    "\n",
    "Visualize the objective and sparsity trade-offs using SEBO. Each point represent designs along the Pareto frontier found by SEBO. The x-axis corresponds to the number of active parameters used, i.e.\n",
    "non-sparse parameters, and the y-axis corresponds the best identified objective values. Based on this, decision-makers balance both simplicity/interpretability of generated policies and optimization performance when deciding which configuration to use."
   ]
  },
  {
   "cell_type": "code",
   "execution_count": 10,
   "id": "df2fbb42",
   "metadata": {
    "customInput": null,
    "customOutput": null,
    "execution": {
     "iopub.execute_input": "2025-02-03T20:07:58.479492Z",
     "iopub.status.busy": "2025-02-03T20:07:58.478911Z",
     "iopub.status.idle": "2025-02-03T20:07:58.483568Z",
     "shell.execute_reply": "2025-02-03T20:07:58.483155Z"
    },
    "executionStartTime": 1689124189044,
    "executionStopTime": 1689124189182,
    "jupyter": {
     "outputs_hidden": false
    },
    "originalKey": "416ccd12-51a1-4bfe-9e10-436cd88ec6be",
    "papermill": {
     "duration": 0.010238,
     "end_time": "2025-02-03T20:07:58.484695",
     "exception": false,
     "start_time": "2025-02-03T20:07:58.474457",
     "status": "completed"
    },
    "requestMsgId": "5143ae57-1d0d-4f9d-bc9d-9d151f3e9af0",
    "showInput": true,
    "tags": []
   },
   "outputs": [],
   "source": [
    "def nnz_exact(x, sparse_point):\n",
    "    return len(x) - (np.array(x) == np.array(sparse_point)).sum()\n",
    "\n",
    "    \n",
    "df = data.df\n",
    "df['L0_norm'] = df['arm_name'].apply(lambda d: nnz_exact(list(experiment.arms_by_name[d].parameters.values()), [0 for _ in range(aug_dim)]) )"
   ]
  },
  {
   "cell_type": "code",
   "execution_count": 11,
   "id": "3889cb90",
   "metadata": {
    "customInput": null,
    "customOutput": null,
    "execution": {
     "iopub.execute_input": "2025-02-03T20:07:58.492920Z",
     "iopub.status.busy": "2025-02-03T20:07:58.492734Z",
     "iopub.status.idle": "2025-02-03T20:07:58.501580Z",
     "shell.execute_reply": "2025-02-03T20:07:58.500987Z"
    },
    "executionStartTime": 1689124189219,
    "executionStopTime": 1689124189321,
    "jupyter": {
     "outputs_hidden": false
    },
    "originalKey": "97b96822-7d7f-4a5d-8458-01ff890d2fde",
    "papermill": {
     "duration": 0.014272,
     "end_time": "2025-02-03T20:07:58.502720",
     "exception": false,
     "start_time": "2025-02-03T20:07:58.488448",
     "status": "completed"
    },
    "requestMsgId": "34abdf8d-6f0c-48a1-8700-8e2c3075a085",
    "showInput": true,
    "tags": []
   },
   "outputs": [
    {
     "data": {
      "text/plain": [
       "{1: 5.041892210822358,\n",
       " 2: 2.028586045506934,\n",
       " 3: 2.028586045506934,\n",
       " 4: 2.028586045506934,\n",
       " 5: 0.7034760224453098,\n",
       " 6: 0.7034760224453098,\n",
       " 7: 0.7034760224453098,\n",
       " 8: 0.7034760224453098}"
      ]
     },
     "execution_count": 11,
     "metadata": {},
     "output_type": "execute_result"
    }
   ],
   "source": [
    "result_by_sparsity = {l: df[df.L0_norm <= l]['mean'].min() for l in range(1, aug_dim+1)}\n",
    "result_by_sparsity"
   ]
  },
  {
   "cell_type": "code",
   "execution_count": 12,
   "id": "e83d3f01",
   "metadata": {
    "customInput": null,
    "customOutput": null,
    "execution": {
     "iopub.execute_input": "2025-02-03T20:07:58.511616Z",
     "iopub.status.busy": "2025-02-03T20:07:58.511098Z",
     "iopub.status.idle": "2025-02-03T20:07:58.650988Z",
     "shell.execute_reply": "2025-02-03T20:07:58.650369Z"
    },
    "executionStartTime": 1689134836494,
    "executionStopTime": 1689134837813,
    "jupyter": {
     "outputs_hidden": false
    },
    "originalKey": "7193e2b0-e192-439a-b0d0-08a2029f64ca",
    "papermill": {
     "duration": 0.145643,
     "end_time": "2025-02-03T20:07:58.652207",
     "exception": false,
     "start_time": "2025-02-03T20:07:58.506564",
     "status": "completed"
    },
    "requestMsgId": "f095d820-55e0-4201-8e3a-77f17b2155f1",
    "showInput": true,
    "tags": []
   },
   "outputs": [
    {
     "data": {
      "image/png": "[encoded data removed]",
      "text/plain": [
       "<Figure size 800x600 with 1 Axes>"
      ]
     },
     "metadata": {},
     "output_type": "display_data"
    }
   ],
   "source": [
    "fig, ax = plt.subplots(figsize=(8, 6))\n",
    "ax.plot(list(result_by_sparsity.keys()), list(result_by_sparsity.values()), '.b-', label=\"sebo\", markersize=10)\n",
    "ax.grid(True)\n",
    "ax.set_title(f\"Branin, D={aug_dim}\", fontsize=20)\n",
    "ax.set_xlabel(\"Number of active parameters\", fontsize=20)\n",
    "ax.set_ylabel(\"Best value found\", fontsize=20)\n",
    "# ax.legend(fontsize=18)\n",
    "plt.show()"
   ]
  },
  {
   "cell_type": "markdown",
   "id": "d6b36308",
   "metadata": {
    "customInput": null,
    "originalKey": "1ba68dc9-d60b-4b39-8e58-ea9bdc06b44c",
    "papermill": {
     "duration": 0.004224,
     "end_time": "2025-02-03T20:07:58.661230",
     "exception": false,
     "start_time": "2025-02-03T20:07:58.657006",
     "status": "completed"
    },
    "showInput": false,
    "tags": []
   },
   "source": [
    "# Demo of Using GenerationStrategy and Service API \n",
    "\n",
    "Please check [Service API tutorial](https://ax.dev/tutorials/gpei_hartmann_service.html) for more detailed information. "
   ]
  },
  {
   "cell_type": "markdown",
   "id": "e1834fe0",
   "metadata": {
    "customInput": null,
    "originalKey": "45e5586c-55eb-4908-aa73-bca4ee883b56",
    "papermill": {
     "duration": 0.004117,
     "end_time": "2025-02-03T20:07:58.669428",
     "exception": false,
     "start_time": "2025-02-03T20:07:58.665311",
     "status": "completed"
    },
    "showInput": false,
    "tags": []
   },
   "source": [
    "## Create `GenerationStrategy`"
   ]
  },
  {
   "cell_type": "code",
   "execution_count": 13,
   "id": "edcd257b",
   "metadata": {
    "customInput": null,
    "execution": {
     "iopub.execute_input": "2025-02-03T20:07:58.678965Z",
     "iopub.status.busy": "2025-02-03T20:07:58.678459Z",
     "iopub.status.idle": "2025-02-03T20:07:58.682518Z",
     "shell.execute_reply": "2025-02-03T20:07:58.681936Z"
    },
    "executionStartTime": 1689124192972,
    "executionStopTime": 1689124192975,
    "jupyter": {
     "outputs_hidden": false
    },
    "originalKey": "7c0bfe37-8f1f-4999-8833-42ffb2569c04",
    "papermill": {
     "duration": 0.01021,
     "end_time": "2025-02-03T20:07:58.683750",
     "exception": false,
     "start_time": "2025-02-03T20:07:58.673540",
     "status": "completed"
    },
    "requestMsgId": "bbd9058a-709e-4262-abe1-720d37e8786f",
    "showInput": true,
    "tags": []
   },
   "outputs": [],
   "source": [
    "gs = GenerationStrategy(\n",
    "    name=\"SEBO_L0\",\n",
    "    steps=[\n",
    "        GenerationStep(  # Initialization step\n",
    "            model=Models.SOBOL,     \n",
    "            num_trials=N_INIT,\n",
    "        ),\n",
    "        GenerationStep(  # BayesOpt step\n",
    "            model=Models.BOTORCH_MODULAR,\n",
    "            # No limit on how many generator runs will be produced\n",
    "            num_trials=-1,\n",
    "            model_kwargs={  # Kwargs to pass to `BoTorchModel.__init__`\n",
    "                \"surrogate\": Surrogate(botorch_model_class=SURROGATE_CLASS),\n",
    "                \"acquisition_class\": SEBOAcquisition,\n",
    "                \"botorch_acqf_class\": qNoisyExpectedHypervolumeImprovement,\n",
    "                \"acquisition_options\": {\n",
    "                    \"penalty\": \"L0_norm\", # it can be L0_norm or L1_norm.\n",
    "                    \"target_point\": target_point, \n",
    "                    \"sparsity_threshold\": aug_dim,\n",
    "                },\n",
    "            },\n",
    "        )\n",
    "    ]\n",
    ")"
   ]
  },
  {
   "cell_type": "markdown",
   "id": "d5f67f0a",
   "metadata": {
    "customInput": null,
    "originalKey": "e4911bc6-32cb-42a5-908f-57f3f04e58e5",
    "papermill": {
     "duration": 0.00422,
     "end_time": "2025-02-03T20:07:58.692104",
     "exception": false,
     "start_time": "2025-02-03T20:07:58.687884",
     "status": "completed"
    },
    "showInput": false,
    "tags": []
   },
   "source": [
    "## Initialize client and set up experiment"
   ]
  },
  {
   "cell_type": "code",
   "execution_count": 14,
   "id": "c6fbdcd5",
   "metadata": {
    "customInput": null,
    "execution": {
     "iopub.execute_input": "2025-02-03T20:07:58.701661Z",
     "iopub.status.busy": "2025-02-03T20:07:58.701062Z",
     "iopub.status.idle": "2025-02-03T20:07:58.706945Z",
     "shell.execute_reply": "2025-02-03T20:07:58.706378Z"
    },
    "executionStartTime": 1689124192979,
    "executionStopTime": 1689124192984,
    "jupyter": {
     "outputs_hidden": false
    },
    "originalKey": "47938102-0613-4b37-acb2-9f1f5f3fe6b1",
    "papermill": {
     "duration": 0.011967,
     "end_time": "2025-02-03T20:07:58.708188",
     "exception": false,
     "start_time": "2025-02-03T20:07:58.696221",
     "status": "completed"
    },
    "requestMsgId": "38b4b17c-6aae-43b8-aa58-2df045f522fe",
    "showInput": true,
    "tags": []
   },
   "outputs": [
    {
     "name": "stderr",
     "output_type": "stream",
     "text": [
      "[INFO 02-03 20:07:58] ax.service.ax_client: Starting optimization with verbose logging. To disable logging, set the `verbose_logging` argument to `False`. Note that float values in the logs are rounded to 6 decimal points.\n"
     ]
    },
    {
     "name": "stderr",
     "output_type": "stream",
     "text": [
      "[INFO 02-03 20:07:58] ax.service.utils.instantiation: Created search space: SearchSpace(parameters=[RangeParameter(name='x0', parameter_type=FLOAT, range=[0.0, 1.0]), RangeParameter(name='x1', parameter_type=FLOAT, range=[0.0, 1.0]), RangeParameter(name='x2', parameter_type=FLOAT, range=[0.0, 1.0]), RangeParameter(name='x3', parameter_type=FLOAT, range=[0.0, 1.0]), RangeParameter(name='x4', parameter_type=FLOAT, range=[0.0, 1.0]), RangeParameter(name='x5', parameter_type=FLOAT, range=[0.0, 1.0]), RangeParameter(name='x6', parameter_type=FLOAT, range=[0.0, 1.0]), RangeParameter(name='x7', parameter_type=FLOAT, range=[0.0, 1.0])], parameter_constraints=[]).\n"
     ]
    }
   ],
   "source": [
    "ax_client = AxClient(generation_strategy=gs)\n",
    "\n",
    "experiment_parameters = [\n",
    "    {\n",
    "        \"name\": f\"x{i}\",\n",
    "        \"type\": \"range\",\n",
    "        \"bounds\": [0, 1],\n",
    "        \"value_type\": \"float\",\n",
    "        \"log_scale\": False,\n",
    "    }\n",
    "    for i in range(aug_dim)\n",
    "]\n",
    "\n",
    "objective_metrics = {\n",
    "    \"objective\": ObjectiveProperties(minimize=False, threshold=-10),\n",
    "}\n",
    "\n",
    "ax_client.create_experiment(\n",
    "    name=\"branin_augment_sebo_experiment\",\n",
    "    parameters=experiment_parameters,\n",
    "    objectives=objective_metrics,\n",
    ")"
   ]
  },
  {
   "cell_type": "markdown",
   "id": "b0899df3",
   "metadata": {
    "customInput": null,
    "originalKey": "6a7942e4-9727-43d9-8d8d-c327d38c2373",
    "papermill": {
     "duration": 0.004283,
     "end_time": "2025-02-03T20:07:58.716761",
     "exception": false,
     "start_time": "2025-02-03T20:07:58.712478",
     "status": "completed"
    },
    "showInput": false,
    "tags": []
   },
   "source": [
    "## Define evaluation function "
   ]
  },
  {
   "cell_type": "code",
   "execution_count": 15,
   "id": "a24d3f40",
   "metadata": {
    "customInput": null,
    "execution": {
     "iopub.execute_input": "2025-02-03T20:07:58.726157Z",
     "iopub.status.busy": "2025-02-03T20:07:58.725906Z",
     "iopub.status.idle": "2025-02-03T20:07:58.729290Z",
     "shell.execute_reply": "2025-02-03T20:07:58.728734Z"
    },
    "executionStartTime": 1689124192990,
    "executionStopTime": 1689124192992,
    "jupyter": {
     "outputs_hidden": false
    },
    "originalKey": "4e2994ff-36ac-4d48-a789-3d0398e1e856",
    "papermill": {
     "duration": 0.009543,
     "end_time": "2025-02-03T20:07:58.730531",
     "exception": false,
     "start_time": "2025-02-03T20:07:58.720988",
     "status": "completed"
    },
    "requestMsgId": "8f74a775-a8ce-462d-993c-5c9291c748b9",
    "showInput": true,
    "tags": []
   },
   "outputs": [],
   "source": [
    "def evaluation(parameters):\n",
    "    # put parameters into 1-D array\n",
    "    x = [parameters.get(param[\"name\"]) for param in experiment_parameters]\n",
    "    res = branin_augment(x_vec=x, augment_dim=aug_dim)\n",
    "    eval_res = {\n",
    "        # flip the sign to maximize\n",
    "        \"objective\": (res * -1, 0.0),\n",
    "    }\n",
    "    return eval_res"
   ]
  },
  {
   "cell_type": "markdown",
   "id": "f39fba28",
   "metadata": {
    "customInput": null,
    "originalKey": "4597531b-7ac8-4dd0-94c4-836672e0f4c4",
    "papermill": {
     "duration": 0.004342,
     "end_time": "2025-02-03T20:07:58.739239",
     "exception": false,
     "start_time": "2025-02-03T20:07:58.734897",
     "status": "completed"
    },
    "showInput": false,
    "tags": []
   },
   "source": [
    "## Run optimization loop\n",
    "\n",
    "Running only 1 BO trial for demonstration. "
   ]
  },
  {
   "cell_type": "code",
   "execution_count": 16,
   "id": "55757f39",
   "metadata": {
    "customInput": null,
    "execution": {
     "iopub.execute_input": "2025-02-03T20:07:58.748935Z",
     "iopub.status.busy": "2025-02-03T20:07:58.748520Z",
     "iopub.status.idle": "2025-02-03T20:08:43.017840Z",
     "shell.execute_reply": "2025-02-03T20:08:43.017365Z"
    },
    "executionStartTime": 1689124193044,
    "executionStopTime": 1689130398208,
    "jupyter": {
     "outputs_hidden": false
    },
    "originalKey": "bc7accb2-48a2-4c88-a932-7c79ec81075a",
    "papermill": {
     "duration": 44.277972,
     "end_time": "2025-02-03T20:08:43.021498",
     "exception": false,
     "start_time": "2025-02-03T20:07:58.743526",
     "status": "completed"
    },
    "requestMsgId": "f054e5b1-12eb-459b-a508-6944baf82dfb",
    "showInput": true,
    "tags": []
   },
   "outputs": [
    {
     "name": "stderr",
     "output_type": "stream",
     "text": [
      "[INFO 02-03 20:07:58] ax.service.ax_client: Generated new trial 0 with parameters {'x0': 0.745812, 'x1': 0.173347, 'x2': 0.282353, 'x3': 0.661394, 'x4': 0.998653, 'x5': 0.15943, 'x6': 0.367395, 'x7': 0.872891} using model Sobol.\n"
     ]
    },
    {
     "name": "stderr",
     "output_type": "stream",
     "text": [
      "[INFO 02-03 20:07:58] ax.service.ax_client: Completed trial 0 with data: {'objective': (-21.814091, 0.0)}.\n"
     ]
    },
    {
     "name": "stderr",
     "output_type": "stream",
     "text": [
      "[INFO 02-03 20:07:58] ax.service.ax_client: Generated new trial 1 with parameters {'x0': 0.110073, 'x1': 0.991257, 'x2': 0.587004, 'x3': 0.48364, 'x4': 0.10148, 'x5': 0.635524, 'x6': 0.87379, 'x7': 0.270409} using model Sobol.\n"
     ]
    },
    {
     "name": "stderr",
     "output_type": "stream",
     "text": [
      "[INFO 02-03 20:07:58] ax.service.ax_client: Completed trial 1 with data: {'objective': (-4.971902, 0.0)}.\n"
     ]
    },
    {
     "name": "stderr",
     "output_type": "stream",
     "text": [
      "[INFO 02-03 20:07:58] ax.service.ax_client: Generated new trial 2 with parameters {'x0': 0.253726, 'x1': 0.41362, 'x2': 0.045341, 'x3': 0.982414, 'x4': 0.310689, 'x5': 0.86426, 'x6': 0.063121, 'x7': 0.071627} using model Sobol.\n"
     ]
    },
    {
     "name": "stderr",
     "output_type": "stream",
     "text": [
      "[INFO 02-03 20:07:58] ax.service.ax_client: Completed trial 2 with data: {'objective': (-17.06791, 0.0)}.\n"
     ]
    },
    {
     "name": "stderr",
     "output_type": "stream",
     "text": [
      "[INFO 02-03 20:07:58] ax.service.ax_client: Generated new trial 3 with parameters {'x0': 0.883607, 'x1': 0.719734, 'x2': 0.834333, 'x3': 0.163598, 'x4': 0.663398, 'x5': 0.340361, 'x6': 0.568689, 'x7': 0.531653} using model Sobol.\n"
     ]
    },
    {
     "name": "stderr",
     "output_type": "stream",
     "text": [
      "[INFO 02-03 20:07:58] ax.service.ax_client: Completed trial 3 with data: {'objective': (-89.643037, 0.0)}.\n"
     ]
    },
    {
     "name": "stderr",
     "output_type": "stream",
     "text": [
      "[INFO 02-03 20:07:58] ax.service.ax_client: Generated new trial 4 with parameters {'x0': 0.823657, 'x1': 0.364402, 'x2': 0.644933, 'x3': 0.074019, 'x4': 0.517822, 'x5': 0.05144, 'x6': 0.147245, 'x7': 0.210065} using model Sobol.\n"
     ]
    },
    {
     "name": "stderr",
     "output_type": "stream",
     "text": [
      "[INFO 02-03 20:07:58] ax.service.ax_client: Completed trial 4 with data: {'objective': (-32.098277, 0.0)}.\n"
     ]
    },
    {
     "name": "stderr",
     "output_type": "stream",
     "text": [
      "[INFO 02-03 20:07:58] ax.service.ax_client: Generated new trial 5 with parameters {'x0': 0.437913, 'x1': 0.550446, 'x2': 0.480834, 'x3': 0.751648, 'x4': 0.386029, 'x5': 0.528486, 'x6': 0.640823, 'x7': 0.685709} using model Sobol.\n"
     ]
    },
    {
     "name": "stderr",
     "output_type": "stream",
     "text": [
      "[INFO 02-03 20:07:58] ax.service.ax_client: Completed trial 5 with data: {'objective': (-29.693428, 0.0)}.\n"
     ]
    },
    {
     "name": "stderr",
     "output_type": "stream",
     "text": [
      "[INFO 02-03 20:07:58] ax.service.ax_client: Generated new trial 6 with parameters {'x0': 0.174843, 'x1': 0.096833, 'x2': 0.901511, 'x3': 0.253368, 'x4': 0.205583, 'x5': 0.97161, 'x6': 0.420242, 'x7': 0.972248} using model Sobol.\n"
     ]
    },
    {
     "name": "stderr",
     "output_type": "stream",
     "text": [
      "[INFO 02-03 20:07:58] ax.service.ax_client: Completed trial 6 with data: {'objective': (-85.175462, 0.0)}.\n"
     ]
    },
    {
     "name": "stderr",
     "output_type": "stream",
     "text": [
      "[INFO 02-03 20:07:58] ax.service.ax_client: Generated new trial 7 with parameters {'x0': 0.554729, 'x1': 0.786766, 'x2': 0.221753, 'x3': 0.571325, 'x4': 0.824161, 'x5': 0.448649, 'x6': 0.914701, 'x7': 0.385398} using model Sobol.\n"
     ]
    },
    {
     "name": "stderr",
     "output_type": "stream",
     "text": [
      "[INFO 02-03 20:07:58] ax.service.ax_client: Completed trial 7 with data: {'objective': (-93.909952, 0.0)}.\n"
     ]
    },
    {
     "name": "stderr",
     "output_type": "stream",
     "text": [
      "[INFO 02-03 20:07:58] ax.service.ax_client: Generated new trial 8 with parameters {'x0': 0.606782, 'x1': 0.470744, 'x2': 0.976613, 'x3': 0.833342, 'x4': 0.053646, 'x5': 0.276926, 'x6': 0.23638, 'x7': 0.164516} using model Sobol.\n"
     ]
    },
    {
     "name": "stderr",
     "output_type": "stream",
     "text": [
      "[INFO 02-03 20:07:58] ax.service.ax_client: Completed trial 8 with data: {'objective': (-33.825299, 0.0)}.\n"
     ]
    },
    {
     "name": "stderr",
     "output_type": "stream",
     "text": [
      "[INFO 02-03 20:07:58] ax.service.ax_client: Generated new trial 9 with parameters {'x0': 0.224948, 'x1': 0.660672, 'x2': 0.140852, 'x3': 0.030444, 'x4': 0.921492, 'x5': 0.798909, 'x6': 0.739232, 'x7': 0.688751} using model Sobol.\n"
     ]
    },
    {
     "name": "stderr",
     "output_type": "stream",
     "text": [
      "[INFO 02-03 20:07:58] ax.service.ax_client: Completed trial 9 with data: {'objective': (-10.434944, 0.0)}.\n"
     ]
    },
    {
     "name": "stderr",
     "output_type": "stream",
     "text": [
      "[INFO 02-03 20:08:43] ax.service.ax_client: Generated new trial 10 with parameters {'x0': 0.0, 'x1': 1.0, 'x2': 0.0, 'x3': 0.0, 'x4': 0.0, 'x5': 0.0, 'x6': 0.0, 'x7': 0.0} using model BoTorch.\n"
     ]
    },
    {
     "name": "stderr",
     "output_type": "stream",
     "text": [
      "[INFO 02-03 20:08:43] ax.service.ax_client: Completed trial 10 with data: {'objective': (-17.5083, 0.0)}.\n"
     ]
    }
   ],
   "source": [
    "for _ in range(N_INIT + 1):    \n",
    "    parameters, trial_index = ax_client.get_next_trial()\n",
    "    res = evaluation(parameters)\n",
    "    ax_client.complete_trial(trial_index=trial_index, raw_data=res)"
   ]
  }
 ],
 "metadata": {
  "fileHeader": "",
  "kernelspec": {
   "display_name": "Python 3 (ipykernel)",
   "language": "python",
   "name": "python3"
  },
  "language_info": {
   "codemirror_mode": {
    "name": "ipython",
    "version": 3
   },
   "file_extension": ".py",
   "mimetype": "text/x-python",
   "name": "python",
   "nbconvert_exporter": "python",
   "pygments_lexer": "ipython3",
   "version": "3.12.8"
  },
  "papermill": {
   "default_parameters": {},
   "duration": 1044.246467,
   "end_time": "2025-02-03T20:08:45.823787",
   "environment_variables": {},
   "exception": null,
   "input_path": "/home/runner/work/Ax/Ax/tutorials/sebo/sebo.ipynb",
   "output_path": "/home/runner/work/Ax/Ax/tutorials/sebo/sebo.ipynb",
   "parameters": {},
   "start_time": "2025-02-03T19:51:21.577320",
   "version": "2.6.0"
  }
 },
 "nbformat": 4,
 "nbformat_minor": 5
}