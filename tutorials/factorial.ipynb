{
  "cells": [
    {
      "cell_type": "markdown",
      "metadata": {
        "collapsed": true
      },
      "source": [
        "# Factorial design with Empirical Bayes and Thompson Sampling"
      ]
    },
    {
      "cell_type": "markdown",
      "metadata": {},
      "source": [
        "<markdowncell>\n",
        "This tutorial illustrates how to run a factorial experiment.\n",
        "We use Empirical Bayes to model the data and Thompson Sampling to generate\n",
        "arms."
      ]
    },
    {
      "cell_type": "code",
      "execution_count": 1,
      "metadata": {
        "ExecuteTime": {
          "end_time": "2019-03-26T14:52:10.711853Z",
          "start_time": "2019-03-26T07:52:09.867876-07:00"
        },
        "collapsed": true
      },
      "outputs": [],
      "source": [
        "import numpy as np\n",
        "import pandas as pd\n",
        "import sklearn as skl\n",
        "from typing import Dict, Optional, Tuple, Union\n",
        "from ax.api import (\n",
        "    ChoiceParameter,\n",
        "    Arm,\n",
        "    ParameterType,\n",
        "    SearchSpace,\n",
        "    SimpleExperiment,\n",
        "    modelbridge,\n",
        ")\n",
        "from ax.metrics.factorial import (\n",
        "    evaluation_function as factorial_metric_evaluation_function,\n",
        ")\n",
        "from ax.plot.scatter import plot_fitted\n",
        "from ax.utils.notebook.plotting import render, init_notebook_plotting\n",
        "from ax.utils.stats.statstools import agresti_coull_sem"
      ]
    },
    {
      "cell_type": "code",
      "execution_count": 2,
      "metadata": {
        "ExecuteTime": {
          "end_time": "2019-03-26T14:52:10.718612Z",
          "start_time": "2019-03-26T07:52:10.714053-07:00"
        }
      },
      "outputs": [
        {
          "data": {
            "text/html": [
              "<script type='text/javascript'>requirejs.config({\n",
              "  paths: {\n",
              "    plotly: ['https://cdn.plot.ly/plotly-latest.min'],\n",
              "  },\n",
              "});\n",
              "if (!window.Plotly) {\n",
              "  require(['plotly'], function(plotly) {\n",
              "    window.Plotly = plotly;\n",
              "  });\n",
              "}\n",
              "// helper functions used across multiple plots\n",
              "function rgb(rgb_array) {\n",
              "  return 'rgb(' + rgb_array.join() + ')';\n",
              "}\n",
              "\n",
              "function copy_and_reverse(arr) {\n",
              "  const copy = arr.slice();\n",
              "  copy.reverse();\n",
              "  return copy;\n",
              "}\n",
              "\n",
              "function axis_range(grid, is_log) {\n",
              "  return is_log ?\n",
              "    [Math.log10(Math.min(...grid)), Math.log10(Math.max(...grid))]:\n",
              "    [Math.min(...grid), Math.max(...grid)];\n",
              "}\n",
              "\n",
              "function relativize_data(f, sd, rel, arm_data, metric) {\n",
              "  // if relative, extract status quo & compute ratio\n",
              "  const f_final = rel === true ? [] : f;\n",
              "  const sd_final = rel === true ? []: sd;\n",
              "\n",
              "  if (rel === true) {\n",
              "    const f_sq = (\n",
              "      arm_data['in_sample'][arm_data['status_quo_name']]['y'][metric]\n",
              "    );\n",
              "    const sd_sq = (\n",
              "      arm_data['in_sample'][arm_data['status_quo_name']]['se'][metric]\n",
              "    );\n",
              "\n",
              "    for (let i = 0; i < f.length; i++) {\n",
              "      res = relativize(f[i], sd[i], f_sq, sd_sq);\n",
              "      f_final.push(100 * res[0]);\n",
              "      sd_final.push(100 * res[1]);\n",
              "    }\n",
              "  }\n",
              "\n",
              "  return [f_final, sd_final];\n",
              "}\n",
              "\n",
              "function relativize(m_t, sem_t, m_c, sem_c) {\n",
              "  r_hat = (\n",
              "    (m_t - m_c) / Math.abs(m_c) -\n",
              "    Math.pow(sem_c, 2) * m_t / Math.pow(Math.abs(m_c), 3)\n",
              "  );\n",
              "  variance = (\n",
              "    (Math.pow(sem_t, 2) + Math.pow((m_t / m_c * sem_c), 2)) /\n",
              "    Math.pow(m_c, 2)\n",
              "   )\n",
              "   return [r_hat, Math.sqrt(variance)];\n",
              "}\n",
              "</script>"
            ]
          },
          "metadata": {},
          "output_type": "display_data"
        },
        {
          "name": "stderr",
          "output_type": "stream",
          "text": [
            "[INFO 03-26 07:52:10] ipy_plotting: Injecting Plotly library into cell. Do not overwrite or delete cell.\n"
          ]
        }
      ],
      "source": [
        "init_notebook_plotting()"
      ]
    },
    {
      "cell_type": "markdown",
      "metadata": {},
      "source": [
        "<markdowncell>\n",
        "First, we define our search space. In this example we have three parameters,\n",
        "each of which has a set of possible string values."
      ]
    },
    {
      "cell_type": "code",
      "execution_count": 3,
      "metadata": {
        "ExecuteTime": {
          "end_time": "2019-03-26T14:52:10.727877Z",
          "start_time": "2019-03-26T07:52:10.720184-07:00"
        },
        "collapsed": true
      },
      "outputs": [],
      "source": [
        "search_space = SearchSpace(\n",
        "    parameters=[\n",
        "        ChoiceParameter(\n",
        "            name=\"factor1\",\n",
        "            parameter_type=ParameterType.STRING,\n",
        "            values=[\"level11\", \"level12\", \"level13\"],\n",
        "        ),\n",
        "        ChoiceParameter(\n",
        "            name=\"factor2\",\n",
        "            parameter_type=ParameterType.STRING,\n",
        "            values=[\"level21\", \"level22\"],\n",
        "        ),\n",
        "        ChoiceParameter(\n",
        "            name=\"factor3\",\n",
        "            parameter_type=ParameterType.STRING,\n",
        "            values=[\"level31\", \"level32\", \"level33\", \"level34\"],\n",
        "        ),\n",
        "    ]\n",
        ")"
      ]
    },
    {
      "cell_type": "markdown",
      "metadata": {},
      "source": [
        "<markdowncell>\n",
        "Second, we define an evaluation function, which is responsible for computing\n",
        "the mean and standard error of a given parameterization. In this example,\n",
        "each possible parameter value is given a weight, and the mean of a parameterization\n",
        "is determined by the weights of its values. The higher the weights, the greater\n",
        "the mean."
      ]
    },
    {
      "cell_type": "code",
      "execution_count": 4,
      "metadata": {
        "ExecuteTime": {
          "end_time": "2019-03-26T14:52:10.738118Z",
          "start_time": "2019-03-26T07:52:10.729488-07:00"
        }
      },
      "outputs": [],
      "source": [
        "one_hot_encoder = skl.preprocessing.OneHotEncoder(\n",
        "    categories=[par.values for par in search_space.parameters.values()], \n",
        ")\n",
        "\n",
        "def factorial_evaluation_function(\n",
        "    # `parameterization` is a dict of parameter names to values of those parameters.\n",
        "    parameterization: Dict[str, Optional[Union[str, bool, float]]],\n",
        "    # `weight` is the weight of the parameterization, which is used to determine the variance of the estimate\n",
        "    weight: Optional[float] = None,\n",
        ") -> Dict[str, Tuple[float, float]]:  # dict of metric names to tuple of mean and standard error.\n",
        "    batch_size = 10000\n",
        "    noise_level = 0.0\n",
        "    weight = weight if weight is not None else 1.0\n",
        "    coefficients = np.array([\n",
        "        0.1, 0.2, 0.3,\n",
        "        0.1, 0.2,\n",
        "        0.1, 0.2, 0.3, 0.4\n",
        "    ])\n",
        "    features = np.array(list(parameterization.values())).reshape(1, -1)\n",
        "    encoded_features = one_hot_encoder.fit_transform(features)\n",
        "    z = coefficients @ encoded_features.T + np.sqrt(noise_level) * np.random.randn()\n",
        "    p = np.exp(z) / (1 + np.exp(z))\n",
        "    plays = np.random.binomial(batch_size, weight)\n",
        "    successes = np.random.binomial(plays, p)\n",
        "    mean = float(successes) / plays\n",
        "    sem = agresti_coull_sem(successes, plays)\n",
        "    return {\n",
        "        \"success_metric\": (mean, sem)\n",
        "    }"
      ]
    },
    {
      "cell_type": "markdown",
      "metadata": {},
      "source": [
        "<markdowncell>\n",
        "We now set up our experiment and define the status quo arm."
      ]
    },
    {
      "cell_type": "code",
      "execution_count": 5,
      "metadata": {
        "ExecuteTime": {
          "end_time": "2019-03-26T14:52:10.750415Z",
          "start_time": "2019-03-26T07:52:10.739862-07:00"
        },
        "collapsed": true
      },
      "outputs": [],
      "source": [
        "exp = SimpleExperiment(\n",
        "    name=\"my_factorial_closed_loop_experiment\",\n",
        "    search_space=search_space,\n",
        "    evaluation_function=factorial_evaluation_function,\n",
        "    objective_name=\"success_metric\",\n",
        ")\n",
        "exp.status_quo = Arm(\n",
        "    params={\"factor1\": \"level11\", \"factor2\": \"level21\", \"factor3\": \"level31\"}\n",
        ")"
      ]
    },
    {
      "cell_type": "markdown",
      "metadata": {},
      "source": [
        "<markdowncell>\n",
        "We generate an initial batch that explores the full space of the factorial\n",
        "design, including the status quo. Note that the status quo gets a weight of 5x\n",
        "relative to the other arms since it is within the search space of the\n",
        "FullFactorial generator."
      ]
    },
    {
      "cell_type": "code",
      "execution_count": 6,
      "metadata": {
        "ExecuteTime": {
          "end_time": "2019-03-26T14:52:10.779773Z",
          "start_time": "2019-03-26T07:52:10.752161-07:00"
        },
        "collapsed": true
      },
      "outputs": [],
      "source": [
        "factorial_generator = modelbridge.get_factorial(search_space=exp.search_space)\n",
        "factorial_run = factorial_generator.gen(n=-1)\n",
        "trial = (\n",
        "    exp.new_batch_trial()\n",
        "    .add_generator_run(factorial_run, multiplier=1)\n",
        "    .add_arms_and_weights(arms=[exp.status_quo], multiplier=4)\n",
        ")"
      ]
    },
    {
      "cell_type": "markdown",
      "metadata": {},
      "source": [
        "<markdowncell>\n",
        "We use Thompson sampling with batched updates to give more weight to best-performing arms while balancing exploration."
      ]
    },
    {
      "cell_type": "code",
      "execution_count": 7,
      "metadata": {
        "ExecuteTime": {
          "end_time": "2019-03-26T14:52:11.270755Z",
          "start_time": "2019-03-26T07:52:10.781914-07:00"
        }
      },
      "outputs": [
        {
          "name": "stdout",
          "output_type": "stream",
          "text": [
            "Running iteration 0...\n",
            "Running iteration 1...\n",
            "Running iteration 2...\n",
            "Running iteration 3...\n"
          ]
        }
      ],
      "source": [
        "generators = []\n",
        "for i in range(4):\n",
        "    print(\"Running iteration {}...\".format(i))\n",
        "    data = exp.eval_trial(trial)\n",
        "    thompson_generator = modelbridge.get_thompson(\n",
        "        experiment=exp, data=data, min_weight=0.01\n",
        "    )\n",
        "    generators.append(thompson_generator)\n",
        "    thompson_run = thompson_generator.gen(n=-1)\n",
        "    trial = exp.new_batch_trial().add_generator_run(thompson_run)"
      ]
    },
    {
      "cell_type": "markdown",
      "metadata": {},
      "source": [
        "<markdowncell>\n",
        "The following plots shows the predicted value of our objective for the arms in each trial. Over time, we hone in on the parameterizations with the highest values. "
      ]
    },
    {
      "cell_type": "code",
      "execution_count": 8,
      "metadata": {
        "ExecuteTime": {
          "end_time": "2019-03-26T14:52:11.321964Z",
          "start_time": "2019-03-26T07:52:11.273350-07:00"
        },
        "scrolled": false
      },
      "outputs": [
        {
          "data": {
            "text/html": [
              "<div id=\"12526bba2df54aad83c848b5fbc2df9f\" style=\"width: 100%;\" class=\"plotly-graph-div\"></div><script type='text/javascript'>require(['plotly'], function(Plotly) {\n",
              "  window.PLOTLYENV = window.PLOTLYENV || {};\n",
              "  window.PLOTLYENV.BASE_URL = 'https://plot.ly';\n",
              "  Plotly.newPlot(\n",
              "  \"12526bba2df54aad83c848b5fbc2df9f\",\n",
              "  [{\"type\": \"scatter\", \"x\": [\"0_0\", \"0_1\", \"0_10\", \"0_11\", \"0_12\", \"0_13\", \"0_14\", \"0_15\", \"0_16\", \"0_17\", \"0_18\", \"0_19\", \"0_2\", \"0_20\", \"0_21\", \"0_22\", \"0_3\", \"0_4\", \"0_5\", \"0_6\", \"0_7\", \"0_8\", \"0_9\", \"status_quo\"], \"y\": [0.5770308123249299, 0.5889212827988338, 0.6579710144927536, 0.5939226519337016, 0.625, 0.6430868167202572, 0.6734104046242775, 0.5589123867069486, 0.6285714285714286, 0.6991869918699187, 0.7002967359050445, 0.6757493188010899, 0.6842105263157895, 0.6837349397590361, 0.6377245508982036, 0.7087912087912088, 0.5701492537313433, 0.5637982195845698, 0.6408839779005525, 0.6702127659574468, 0.6090909090909091, 0.6240208877284595, 0.6303030303030303, 0.5824977210574294], \"marker\": {\"color\": \"rgba(128,177,211,1)\"}, \"mode\": \"markers\", \"name\": \"In-sample\", \"text\": [\"<b>Arm 0_0</b><br><br>success_metric: 0.577 [0.526, 0.628]<br><br><em>Parameterization:</em><br>factor1: level11<br>factor2: level21<br>factor3: level32\", \"<b>Arm 0_1</b><br><br>success_metric: 0.589 [0.537, 0.641]<br><br><em>Parameterization:</em><br>factor1: level11<br>factor2: level21<br>factor3: level33\", \"<b>Arm 0_10</b><br><br>success_metric: 0.658 [0.608, 0.708]<br><br><em>Parameterization:</em><br>factor1: level12<br>factor2: level21<br>factor3: level34\", \"<b>Arm 0_11</b><br><br>success_metric: 0.594 [0.543, 0.645]<br><br><em>Parameterization:</em><br>factor1: level12<br>factor2: level22<br>factor3: level31\", \"<b>Arm 0_12</b><br><br>success_metric: 0.625 [0.574, 0.676]<br><br><em>Parameterization:</em><br>factor1: level12<br>factor2: level22<br>factor3: level32\", \"<b>Arm 0_13</b><br><br>success_metric: 0.643 [0.590, 0.696]<br><br><em>Parameterization:</em><br>factor1: level12<br>factor2: level22<br>factor3: level33\", \"<b>Arm 0_14</b><br><br>success_metric: 0.673 [0.624, 0.723]<br><br><em>Parameterization:</em><br>factor1: level12<br>factor2: level22<br>factor3: level34\", \"<b>Arm 0_15</b><br><br>success_metric: 0.559 [0.505, 0.612]<br><br><em>Parameterization:</em><br>factor1: level13<br>factor2: level21<br>factor3: level31\", \"<b>Arm 0_16</b><br><br>success_metric: 0.629 [0.575, 0.682]<br><br><em>Parameterization:</em><br>factor1: level13<br>factor2: level21<br>factor3: level32\", \"<b>Arm 0_17</b><br><br>success_metric: 0.699 [0.652, 0.746]<br><br><em>Parameterization:</em><br>factor1: level13<br>factor2: level21<br>factor3: level33\", \"<b>Arm 0_18</b><br><br>success_metric: 0.7 [0.651, 0.749]<br><br><em>Parameterization:</em><br>factor1: level13<br>factor2: level21<br>factor3: level34\", \"<b>Arm 0_19</b><br><br>success_metric: 0.676 [0.628, 0.724]<br><br><em>Parameterization:</em><br>factor1: level13<br>factor2: level22<br>factor3: level31\", \"<b>Arm 0_2</b><br><br>success_metric: 0.684 [0.635, 0.734]<br><br><em>Parameterization:</em><br>factor1: level11<br>factor2: level21<br>factor3: level34\", \"<b>Arm 0_20</b><br><br>success_metric: 0.684 [0.634, 0.734]<br><br><em>Parameterization:</em><br>factor1: level13<br>factor2: level22<br>factor3: level32\", \"<b>Arm 0_21</b><br><br>success_metric: 0.638 [0.586, 0.689]<br><br><em>Parameterization:</em><br>factor1: level13<br>factor2: level22<br>factor3: level33\", \"<b>Arm 0_22</b><br><br>success_metric: 0.709 [0.662, 0.756]<br><br><em>Parameterization:</em><br>factor1: level13<br>factor2: level22<br>factor3: level34\", \"<b>Arm 0_3</b><br><br>success_metric: 0.57 [0.517, 0.623]<br><br><em>Parameterization:</em><br>factor1: level11<br>factor2: level22<br>factor3: level31\", \"<b>Arm 0_4</b><br><br>success_metric: 0.564 [0.511, 0.617]<br><br><em>Parameterization:</em><br>factor1: level11<br>factor2: level22<br>factor3: level32\", \"<b>Arm 0_5</b><br><br>success_metric: 0.641 [0.591, 0.690]<br><br><em>Parameterization:</em><br>factor1: level11<br>factor2: level22<br>factor3: level33\", \"<b>Arm 0_6</b><br><br>success_metric: 0.67 [0.623, 0.718]<br><br><em>Parameterization:</em><br>factor1: level11<br>factor2: level22<br>factor3: level34\", \"<b>Arm 0_7</b><br><br>success_metric: 0.609 [0.556, 0.662]<br><br><em>Parameterization:</em><br>factor1: level12<br>factor2: level21<br>factor3: level31\", \"<b>Arm 0_8</b><br><br>success_metric: 0.624 [0.575, 0.673]<br><br><em>Parameterization:</em><br>factor1: level12<br>factor2: level21<br>factor3: level32\", \"<b>Arm 0_9</b><br><br>success_metric: 0.63 [0.578, 0.682]<br><br><em>Parameterization:</em><br>factor1: level12<br>factor2: level21<br>factor3: level33\", \"<b>Arm status_quo</b><br><br>success_metric: 0.582 [0.562, 0.603]<br><br><em>Parameterization:</em><br>factor1: level11<br>factor2: level21<br>factor3: level31\"], \"hoverinfo\": \"text\", \"error_y\": {\"type\": \"data\", \"array\": [0.05126159844565458, 0.05209099331314394, 0.050122123361071566, 0.05061085822267144, 0.051199193610893416, 0.053306507484777915, 0.04949175210084566, 0.053499402093673064, 0.053407050007093795, 0.04688781039704694, 0.04902231686815975, 0.047963605152487536, 0.04935364848980706, 0.05011380538962475, 0.05159860060198725, 0.04677955784459817, 0.05302602253268836, 0.05295786772094606, 0.04946700253742993, 0.04758616248100669, 0.052678851918497464, 0.048543453350930424, 0.052128247491780015, 0.020636516881071886], \"color\": \"rgba(128,177,211,0.4)\"}, \"visible\": true, \"legendgroup\": \"In-sample\", \"showlegend\": true}],\n",
              "  {\"title\": \"Predicted Outcomes\", \"hovermode\": \"closest\", \"updatemenus\": [{\"x\": 1.25, \"y\": 0.67, \"buttons\": [{\"args\": [{\"xaxis.categoryorder\": \"array\", \"xaxis.categoryarray\": [\"status_quo\", \"0_0\", \"0_1\", \"0_2\", \"0_3\", \"0_4\", \"0_5\", \"0_6\", \"0_7\", \"0_8\", \"0_9\", \"0_10\", \"0_11\", \"0_12\", \"0_13\", \"0_14\", \"0_15\", \"0_16\", \"0_17\", \"0_18\", \"0_19\", \"0_20\", \"0_21\", \"0_22\"]}], \"label\": \"Name\", \"method\": \"relayout\"}, {\"args\": [{\"xaxis.categoryorder\": \"array\", \"xaxis.categoryarray\": [\"0_15\", \"0_4\", \"0_3\", \"0_0\", \"status_quo\", \"0_1\", \"0_11\", \"0_7\", \"0_8\", \"0_12\", \"0_16\", \"0_9\", \"0_21\", \"0_5\", \"0_13\", \"0_10\", \"0_6\", \"0_14\", \"0_19\", \"0_20\", \"0_2\", \"0_17\", \"0_18\", \"0_22\"]}], \"label\": \"Effect Size\", \"method\": \"relayout\"}], \"yanchor\": \"middle\", \"xanchor\": \"left\"}], \"yaxis\": {\"zerolinecolor\": \"red\", \"title\": \"success_metric\"}, \"xaxis\": {\"tickangle\": 45, \"categoryorder\": \"array\", \"categoryarray\": [\"status_quo\", \"0_0\", \"0_1\", \"0_2\", \"0_3\", \"0_4\", \"0_5\", \"0_6\", \"0_7\", \"0_8\", \"0_9\", \"0_10\", \"0_11\", \"0_12\", \"0_13\", \"0_14\", \"0_15\", \"0_16\", \"0_17\", \"0_18\", \"0_19\", \"0_20\", \"0_21\", \"0_22\"]}, \"annotations\": [{\"x\": 1.18, \"y\": 0.72, \"xref\": \"paper\", \"yref\": \"paper\", \"text\": \"Sort By\", \"showarrow\": false, \"yanchor\": \"middle\"}], \"font\": {\"size\": 10}},\n",
              "  {\"showLink\": false}\n",
              ");\n",
              "});</script>"
            ]
          },
          "metadata": {},
          "output_type": "display_data"
        },
        {
          "data": {
            "text/html": [
              "<div id=\"9c6d7cdb6ad74ed6a2a157f0d3376db5\" style=\"width: 100%;\" class=\"plotly-graph-div\"></div><script type='text/javascript'>require(['plotly'], function(Plotly) {\n",
              "  window.PLOTLYENV = window.PLOTLYENV || {};\n",
              "  window.PLOTLYENV.BASE_URL = 'https://plot.ly';\n",
              "  Plotly.newPlot(\n",
              "  \"9c6d7cdb6ad74ed6a2a157f0d3376db5\",\n",
              "  [{\"type\": \"scatter\", \"x\": [\"0_10\", \"0_14\", \"0_17\", \"0_18\", \"0_19\", \"0_2\", \"0_20\", \"0_22\", \"0_6\", \"status_quo\"], \"y\": [0.75, 0.675, 0.6744583808437856, 0.6998950682056663, 0.6363636363636364, 0.6482035928143712, 0.6710963455149501, 0.6987392169873922, 0.6764705882352942, 0.5609756097560976], \"marker\": {\"color\": \"rgba(128,177,211,1)\"}, \"mode\": \"markers\", \"name\": \"In-sample\", \"text\": [\"<b>Arm 0_10</b><br><br>success_metric: 0.75 [0.667, 0.833]<br><br><em>Parameterization:</em><br>factor1: level12<br>factor2: level21<br>factor3: level34\", \"<b>Arm 0_14</b><br><br>success_metric: 0.675 [0.624, 0.726]<br><br><em>Parameterization:</em><br>factor1: level12<br>factor2: level22<br>factor3: level34\", \"<b>Arm 0_17</b><br><br>success_metric: 0.674 [0.653, 0.696]<br><br><em>Parameterization:</em><br>factor1: level13<br>factor2: level21<br>factor3: level33\", \"<b>Arm 0_18</b><br><br>success_metric: 0.7 [0.679, 0.720]<br><br><em>Parameterization:</em><br>factor1: level13<br>factor2: level21<br>factor3: level34\", \"<b>Arm 0_19</b><br><br>success_metric: 0.636 [0.585, 0.687]<br><br><em>Parameterization:</em><br>factor1: level13<br>factor2: level22<br>factor3: level31\", \"<b>Arm 0_2</b><br><br>success_metric: 0.648 [0.612, 0.684]<br><br><em>Parameterization:</em><br>factor1: level11<br>factor2: level21<br>factor3: level34\", \"<b>Arm 0_20</b><br><br>success_metric: 0.671 [0.634, 0.709]<br><br><em>Parameterization:</em><br>factor1: level13<br>factor2: level22<br>factor3: level32\", \"<b>Arm 0_22</b><br><br>success_metric: 0.699 [0.682, 0.715]<br><br><em>Parameterization:</em><br>factor1: level13<br>factor2: level22<br>factor3: level34\", \"<b>Arm 0_6</b><br><br>success_metric: 0.676 [0.617, 0.736]<br><br><em>Parameterization:</em><br>factor1: level11<br>factor2: level22<br>factor3: level34\", \"<b>Arm status_quo</b><br><br>success_metric: 0.561 [0.530, 0.592]<br><br><em>Parameterization:</em><br>factor1: level11<br>factor2: level21<br>factor3: level31\"], \"hoverinfo\": \"text\", \"error_y\": {\"type\": \"data\", \"array\": [0.0826160099048156, 0.05140640712787344, 0.021936073482112482, 0.020583557228625544, 0.051105438235144296, 0.0362340908203152, 0.03756325479898718, 0.01638404798933918, 0.05957438595674223, 0.031009968470972357], \"color\": \"rgba(128,177,211,0.4)\"}, \"visible\": true, \"legendgroup\": \"In-sample\", \"showlegend\": true}],\n",
              "  {\"title\": \"Predicted Outcomes\", \"hovermode\": \"closest\", \"updatemenus\": [{\"x\": 1.25, \"y\": 0.67, \"buttons\": [{\"args\": [{\"xaxis.categoryorder\": \"array\", \"xaxis.categoryarray\": [\"status_quo\", \"0_2\", \"0_6\", \"0_10\", \"0_14\", \"0_17\", \"0_18\", \"0_19\", \"0_20\", \"0_22\"]}], \"label\": \"Name\", \"method\": \"relayout\"}, {\"args\": [{\"xaxis.categoryorder\": \"array\", \"xaxis.categoryarray\": [\"status_quo\", \"0_19\", \"0_2\", \"0_20\", \"0_17\", \"0_14\", \"0_6\", \"0_22\", \"0_18\", \"0_10\"]}], \"label\": \"Effect Size\", \"method\": \"relayout\"}], \"yanchor\": \"middle\", \"xanchor\": \"left\"}], \"yaxis\": {\"zerolinecolor\": \"red\", \"title\": \"success_metric\"}, \"xaxis\": {\"tickangle\": 45, \"categoryorder\": \"array\", \"categoryarray\": [\"status_quo\", \"0_2\", \"0_6\", \"0_10\", \"0_14\", \"0_17\", \"0_18\", \"0_19\", \"0_20\", \"0_22\"]}, \"annotations\": [{\"x\": 1.18, \"y\": 0.72, \"xref\": \"paper\", \"yref\": \"paper\", \"text\": \"Sort By\", \"showarrow\": false, \"yanchor\": \"middle\"}], \"font\": {\"size\": 10}},\n",
              "  {\"showLink\": false}\n",
              ");\n",
              "});</script>"
            ]
          },
          "metadata": {},
          "output_type": "display_data"
        },
        {
          "data": {
            "text/html": [
              "<div id=\"da097a33a8af47308a609014ff36c2f8\" style=\"width: 100%;\" class=\"plotly-graph-div\"></div><script type='text/javascript'>require(['plotly'], function(Plotly) {\n",
              "  window.PLOTLYENV = window.PLOTLYENV || {};\n",
              "  window.PLOTLYENV.BASE_URL = 'https://plot.ly';\n",
              "  Plotly.newPlot(\n",
              "  \"da097a33a8af47308a609014ff36c2f8\",\n",
              "  [{\"type\": \"scatter\", \"x\": [\"0_10\", \"0_14\", \"0_18\", \"0_22\", \"0_6\", \"status_quo\"], \"y\": [0.6643254316652034, 0.6634615384615384, 0.6691449814126395, 0.7172619047619048, 0.6676136363636364, 0.5478208232445521], \"marker\": {\"color\": \"rgba(128,177,211,1)\"}, \"mode\": \"markers\", \"name\": \"In-sample\", \"text\": [\"<b>Arm 0_10</b><br><br>success_metric: 0.664 [0.653, 0.676]<br><br><em>Parameterization:</em><br>factor1: level12<br>factor2: level21<br>factor3: level34\", \"<b>Arm 0_14</b><br><br>success_metric: 0.663 [0.599, 0.728]<br><br><em>Parameterization:</em><br>factor1: level12<br>factor2: level22<br>factor3: level34\", \"<b>Arm 0_18</b><br><br>success_metric: 0.669 [0.629, 0.709]<br><br><em>Parameterization:</em><br>factor1: level13<br>factor2: level21<br>factor3: level34\", \"<b>Arm 0_22</b><br><br>success_metric: 0.717 [0.669, 0.766]<br><br><em>Parameterization:</em><br>factor1: level13<br>factor2: level22<br>factor3: level34\", \"<b>Arm 0_6</b><br><br>success_metric: 0.668 [0.618, 0.717]<br><br><em>Parameterization:</em><br>factor1: level11<br>factor2: level22<br>factor3: level34\", \"<b>Arm status_quo</b><br><br>success_metric: 0.548 [0.524, 0.572]<br><br><em>Parameterization:</em><br>factor1: level11<br>factor2: level21<br>factor3: level31\"], \"hoverinfo\": \"text\", \"error_y\": {\"type\": \"data\", \"array\": [0.011196930807928126, 0.06436041102939792, 0.03979753604918326, 0.04828325270059465, 0.049281327200789635, 0.0240013278777043], \"color\": \"rgba(128,177,211,0.4)\"}, \"visible\": true, \"legendgroup\": \"In-sample\", \"showlegend\": true}],\n",
              "  {\"title\": \"Predicted Outcomes\", \"hovermode\": \"closest\", \"updatemenus\": [{\"x\": 1.25, \"y\": 0.67, \"buttons\": [{\"args\": [{\"xaxis.categoryorder\": \"array\", \"xaxis.categoryarray\": [\"status_quo\", \"0_6\", \"0_10\", \"0_14\", \"0_18\", \"0_22\"]}], \"label\": \"Name\", \"method\": \"relayout\"}, {\"args\": [{\"xaxis.categoryorder\": \"array\", \"xaxis.categoryarray\": [\"status_quo\", \"0_14\", \"0_10\", \"0_6\", \"0_18\", \"0_22\"]}], \"label\": \"Effect Size\", \"method\": \"relayout\"}], \"yanchor\": \"middle\", \"xanchor\": \"left\"}], \"yaxis\": {\"zerolinecolor\": \"red\", \"title\": \"success_metric\"}, \"xaxis\": {\"tickangle\": 45, \"categoryorder\": \"array\", \"categoryarray\": [\"status_quo\", \"0_6\", \"0_10\", \"0_14\", \"0_18\", \"0_22\"]}, \"annotations\": [{\"x\": 1.18, \"y\": 0.72, \"xref\": \"paper\", \"yref\": \"paper\", \"text\": \"Sort By\", \"showarrow\": false, \"yanchor\": \"middle\"}], \"font\": {\"size\": 10}},\n",
              "  {\"showLink\": false}\n",
              ");\n",
              "});</script>"
            ]
          },
          "metadata": {},
          "output_type": "display_data"
        },
        {
          "data": {
            "text/html": [
              "<div id=\"492615c3df4a426da13b41681944df5d\" style=\"width: 100%;\" class=\"plotly-graph-div\"></div><script type='text/javascript'>require(['plotly'], function(Plotly) {\n",
              "  window.PLOTLYENV = window.PLOTLYENV || {};\n",
              "  window.PLOTLYENV.BASE_URL = 'https://plot.ly';\n",
              "  Plotly.newPlot(\n",
              "  \"492615c3df4a426da13b41681944df5d\",\n",
              "  [{\"type\": \"scatter\", \"x\": [\"0_14\", \"0_18\", \"0_22\", \"0_6\", \"status_quo\"], \"y\": [0.6932907348242812, 0.6803519061583577, 0.716669241464545, 0.6734279918864098, 0.5685670261941448], \"marker\": {\"color\": \"rgba(128,177,211,1)\"}, \"mode\": \"markers\", \"name\": \"In-sample\", \"text\": [\"<b>Arm 0_14</b><br><br>success_metric: 0.693 [0.657, 0.729]<br><br><em>Parameterization:</em><br>factor1: level12<br>factor2: level22<br>factor3: level34\", \"<b>Arm 0_18</b><br><br>success_metric: 0.68 [0.631, 0.730]<br><br><em>Parameterization:</em><br>factor1: level13<br>factor2: level21<br>factor3: level34\", \"<b>Arm 0_22</b><br><br>success_metric: 0.717 [0.706, 0.728]<br><br><em>Parameterization:</em><br>factor1: level13<br>factor2: level22<br>factor3: level34\", \"<b>Arm 0_6</b><br><br>success_metric: 0.673 [0.632, 0.715]<br><br><em>Parameterization:</em><br>factor1: level11<br>factor2: level22<br>factor3: level34\", \"<b>Arm status_quo</b><br><br>success_metric: 0.569 [0.547, 0.591]<br><br><em>Parameterization:</em><br>factor1: level11<br>factor2: level21<br>factor3: level31\"], \"hoverinfo\": \"text\", \"error_y\": {\"type\": \"data\", \"array\": [0.036163667278988135, 0.04958258954571672, 0.010979220150119033, 0.041442243541401455, 0.022000758052834215], \"color\": \"rgba(128,177,211,0.4)\"}, \"visible\": true, \"legendgroup\": \"In-sample\", \"showlegend\": true}],\n",
              "  {\"title\": \"Predicted Outcomes\", \"hovermode\": \"closest\", \"updatemenus\": [{\"x\": 1.25, \"y\": 0.67, \"buttons\": [{\"args\": [{\"xaxis.categoryorder\": \"array\", \"xaxis.categoryarray\": [\"status_quo\", \"0_6\", \"0_14\", \"0_18\", \"0_22\"]}], \"label\": \"Name\", \"method\": \"relayout\"}, {\"args\": [{\"xaxis.categoryorder\": \"array\", \"xaxis.categoryarray\": [\"status_quo\", \"0_6\", \"0_18\", \"0_14\", \"0_22\"]}], \"label\": \"Effect Size\", \"method\": \"relayout\"}], \"yanchor\": \"middle\", \"xanchor\": \"left\"}], \"yaxis\": {\"zerolinecolor\": \"red\", \"title\": \"success_metric\"}, \"xaxis\": {\"tickangle\": 45, \"categoryorder\": \"array\", \"categoryarray\": [\"status_quo\", \"0_6\", \"0_14\", \"0_18\", \"0_22\"]}, \"annotations\": [{\"x\": 1.18, \"y\": 0.72, \"xref\": \"paper\", \"yref\": \"paper\", \"text\": \"Sort By\", \"showarrow\": false, \"yanchor\": \"middle\"}], \"font\": {\"size\": 10}},\n",
              "  {\"showLink\": false}\n",
              ");\n",
              "});</script>"
            ]
          },
          "metadata": {},
          "output_type": "display_data"
        }
      ],
      "source": [
        "for generator in generators:\n",
        "    render(plot_fitted(generator, metric=\"success_metric\", rel=False))"
      ]
    },
    {
      "cell_type": "markdown",
      "metadata": {},
      "source": [
        "<markdowncell>\n",
        "As expected given our evaluation function, parameterizations with higher levels\n",
        "perform better and are given higher weight. Below we see the parameterizations \n",
        "that made it to the final trial (along with the status quo)."
      ]
    },
    {
      "cell_type": "code",
      "execution_count": 9,
      "metadata": {
        "ExecuteTime": {
          "end_time": "2019-03-26T14:52:11.336224Z",
          "start_time": "2019-03-26T07:52:11.323728-07:00"
        }
      },
      "outputs": [
        {
          "name": "stdout",
          "output_type": "stream",
          "text": [
            "                    values   weight\n",
            "0  level13,level22,level34  0.64016\n",
            "1  level12,level22,level34  0.08336\n",
            "2  level13,level21,level34  0.05832\n",
            "3  level11,level22,level34  0.01816\n",
            "4  level11,level21,level31  0.20000\n"
          ]
        }
      ],
      "source": [
        "results = pd.DataFrame(\n",
        "    [\n",
        "        {\"values\": \",\".join(arm.params.values()), \"weight\": weight}\n",
        "        for arm, weight in trial.normalized_arm_weights().items()\n",
        "    ]\n",
        ")\n",
        "print(results)"
      ]
    },
    {
      "cell_type": "code",
      "execution_count": 10,
      "metadata": {
        "ExecuteTime": {
          "end_time": "2019-03-26T14:52:11.356994Z",
          "start_time": "2019-03-26T07:52:11.338171-07:00"
        }
      },
      "outputs": [
        {
          "data": {
            "text/html": [
              "<div id=\"508aa7b10025417695a807bbaa722a29\" style=\"width: 100%;\" class=\"plotly-graph-div\"></div><script type='text/javascript'>require(['plotly'], function(Plotly) {\n",
              "  window.PLOTLYENV = window.PLOTLYENV || {};\n",
              "  window.PLOTLYENV.BASE_URL = 'https://plot.ly';\n",
              "  const data = [{\"index\": 0, \"name\": \"status_quo\", \"x\": [\"Round 0\", \"Round 1\", \"Round 2\", \"Round 3\", \"Round 4\"], \"y\": [21.142857142857142, 10.000000000000002, 16.666666666666668, 20.0, 20.0], \"text\": [\"21.14%\", \"10.00%\", \"16.67%\", \"20.00%\", \"20.00%\"]}, {\"index\": 1, \"name\": \"0_0\", \"x\": [\"Round 0\"], \"y\": [3.4285714285714284], \"text\": [\"3.43%\"]}, {\"index\": 2, \"name\": \"0_1\", \"x\": [\"Round 0\"], \"y\": [3.4285714285714284], \"text\": [\"3.43%\"]}, {\"index\": 3, \"name\": \"0_2\", \"x\": [\"Round 0\", \"Round 1\"], \"y\": [3.4285714285714284, 7.089258698940999], \"text\": [\"3.43%\", \"7.09%\"]}, {\"index\": 4, \"name\": \"0_3\", \"x\": [\"Round 0\"], \"y\": [3.4285714285714284], \"text\": [\"3.43%\"]}, {\"index\": 5, \"name\": \"0_4\", \"x\": [\"Round 0\"], \"y\": [3.4285714285714284], \"text\": [\"3.43%\"]}, {\"index\": 6, \"name\": \"0_5\", \"x\": [\"Round 0\"], \"y\": [3.4285714285714284], \"text\": [\"3.43%\"]}, {\"index\": 7, \"name\": \"0_6\", \"x\": [\"Round 0\", \"Round 1\", \"Round 2\", \"Round 3\", \"Round 4\"], \"y\": [3.4285714285714284, 2.287443267776097, 3.5118746841839314, 4.627105052125101, 1.816], \"text\": [\"3.43%\", \"2.29%\", \"3.51%\", \"4.63%\", \"1.82%\"]}, {\"index\": 8, \"name\": \"0_7\", \"x\": [\"Round 0\"], \"y\": [3.4285714285714284], \"text\": [\"3.43%\"]}, {\"index\": 9, \"name\": \"0_8\", \"x\": [\"Round 0\"], \"y\": [3.4285714285714284], \"text\": [\"3.43%\"]}, {\"index\": 10, \"name\": \"0_9\", \"x\": [\"Round 0\"], \"y\": [3.4285714285714284], \"text\": [\"3.43%\"]}, {\"index\": 11, \"name\": \"0_10\", \"x\": [\"Round 0\", \"Round 1\", \"Round 2\"], \"y\": [3.4285714285714284, 0.9531013615733738, 68.59525012632643], \"text\": [\"3.43%\", \"0.95%\", \"68.60%\"]}, {\"index\": 12, \"name\": \"0_11\", \"x\": [\"Round 0\"], \"y\": [3.4285714285714284], \"text\": [\"3.43%\"]}, {\"index\": 13, \"name\": \"0_12\", \"x\": [\"Round 0\"], \"y\": [3.4285714285714284], \"text\": [\"3.43%\"]}, {\"index\": 14, \"name\": \"0_13\", \"x\": [\"Round 0\"], \"y\": [3.4285714285714284], \"text\": [\"3.43%\"]}, {\"index\": 15, \"name\": \"0_14\", \"x\": [\"Round 0\", \"Round 1\", \"Round 2\", \"Round 3\", \"Round 4\"], \"y\": [3.4285714285714284, 3.1679273827534042, 2.172814552804447, 6.439454691259022, 8.336], \"text\": [\"3.43%\", \"3.17%\", \"2.17%\", \"6.44%\", \"8.34%\"]}, {\"index\": 16, \"name\": \"0_15\", \"x\": [\"Round 0\"], \"y\": [3.4285714285714284], \"text\": [\"3.43%\"]}, {\"index\": 17, \"name\": \"0_16\", \"x\": [\"Round 0\"], \"y\": [3.4285714285714284], \"text\": [\"3.43%\"]}, {\"index\": 18, \"name\": \"0_17\", \"x\": [\"Round 0\", \"Round 1\"], \"y\": [3.4285714285714284, 17.30105900151286], \"text\": [\"3.43%\", \"17.30%\"]}, {\"index\": 19, \"name\": \"0_18\", \"x\": [\"Round 0\", \"Round 1\", \"Round 2\", \"Round 3\", \"Round 4\"], \"y\": [3.4285714285714284, 19.170953101361576, 5.48256695300657, 3.520449077786689, 5.832000000000001], \"text\": [\"3.43%\", \"19.17%\", \"5.48%\", \"3.52%\", \"5.83%\"]}, {\"index\": 20, \"name\": \"0_19\", \"x\": [\"Round 0\", \"Round 1\"], \"y\": [3.4285714285714284, 3.3857791225416043], \"text\": [\"3.43%\", \"3.39%\"]}, {\"index\": 21, \"name\": \"0_20\", \"x\": [\"Round 0\", \"Round 1\"], \"y\": [3.4285714285714284, 6.8532526475037825], \"text\": [\"3.43%\", \"6.85%\"]}, {\"index\": 22, \"name\": \"0_21\", \"x\": [\"Round 0\"], \"y\": [3.4285714285714284], \"text\": [\"3.43%\"]}, {\"index\": 23, \"name\": \"0_22\", \"x\": [\"Round 0\", \"Round 1\", \"Round 2\", \"Round 3\", \"Round 4\"], \"y\": [3.4285714285714284, 29.79122541603631, 3.5708270170119594, 65.4129911788292, 64.016], \"text\": [\"3.43%\", \"29.79%\", \"3.57%\", \"65.41%\", \"64.02%\"]}];\n",
              "const categories = [\"Round 0\", \"Round 1\", \"Round 2\", \"Round 3\", \"Round 4\"];\n",
              "const colors = [\"rgba(2,63,165,1)\", \"rgba(125,135,185,1)\", \"rgba(190,193,212,1)\", \"rgba(214,188,192,1)\", \"rgba(187,119,132,1)\", \"rgba(142,6,59,1)\", \"rgba(74,111,227,1)\", \"rgba(133,149,225,1)\", \"rgba(181,187,227,1)\", \"rgba(230,175,185,1)\", \"rgba(224,123,145,1)\", \"rgba(211,63,106,1)\", \"rgba(17,198,56,1)\", \"rgba(141,213,147,1)\", \"rgba(198,222,199,1)\", \"rgba(234,211,198,1)\", \"rgba(240,185,141,1)\", \"rgba(239,151,8,1)\", \"rgba(15,207,192,1)\", \"rgba(156,222,214,1)\", \"rgba(213,234,231,1)\", \"rgba(243,225,235,1)\", \"rgba(246,196,225,1)\", \"rgba(247,156,212,1)\"];\n",
              "\n",
              "layout = {\n",
              "    title: \"Rollout Process<br>Bandit Weight Graph\",\n",
              "    xaxis: {\n",
              "      title: \"Rounds\",\n",
              "      zeroline: false,\n",
              "      categoryorder: \"array\",\n",
              "      categoryarray: categories\n",
              "    },\n",
              "    yaxis: {\n",
              "      title: \"Percent\",\n",
              "      showline: false\n",
              "    },\n",
              "    barmode: \"stack\",\n",
              "    showlegend: false,\n",
              "    margin: {\n",
              "      r: 40\n",
              "    }\n",
              "}\n",
              "\n",
              "bandit_config = {\n",
              "    type: \"bar\",\n",
              "    hoverinfo: \"name+text\",\n",
              "    width: 0.5\n",
              "}\n",
              "\n",
              "bandits = [];\n",
              "data.map(d => {\n",
              "  bandits.push({\n",
              "    ...bandit_config,\n",
              "    ...d,\n",
              "    marker: {\n",
              "      color: colors[d.index % colors.length]\n",
              "    }\n",
              "  })\n",
              "});\n",
              "\n",
              "Plotly.newPlot(\"508aa7b10025417695a807bbaa722a29\", bandits, layout, {showLink: false});\n",
              "});</script>"
            ]
          },
          "metadata": {},
          "output_type": "display_data"
        }
      ],
      "source": [
        "from ax.plot.bandit_rollout import plot_bandit_rollout\n",
        "from ax.utils.notebook.plotting import render\n",
        "\n",
        "render(plot_bandit_rollout(exp))"
      ]
    }
  ],
  "metadata": {
    "kernelspec": {
      "display_name": "python3",
      "language": "python",
      "name": "python3"
    }
  },
  "nbformat": 4,
  "nbformat_minor": 2
}
