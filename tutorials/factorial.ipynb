{
  "cells": [
    {
      "cell_type": "markdown",
      "metadata": {
        "collapsed": true
      },
      "source": [
        "# Factorial design with Empirical Bayes and Thompson Sampling"
      ]
    },
    {
      "cell_type": "markdown",
      "metadata": {},
      "source": [
        "<markdowncell>\n",
        "This tutorial illustrates how to run a factorial experiment.\n",
        "We use Empirical Bayes to model the data and Thompson Sampling to generate\n",
        "arms."
      ]
    },
    {
      "cell_type": "code",
      "execution_count": 1,
      "metadata": {
        "ExecuteTime": {
          "end_time": "2019-04-01T16:59:07.844357Z",
          "start_time": "2019-04-01T09:59:06.377921-07:00"
        },
        "collapsed": true
      },
      "outputs": [],
      "source": [
        "import numpy as np\n",
        "import pandas as pd\n",
        "import sklearn as skl\n",
        "from typing import Dict, Optional, Tuple, Union\n",
        "from ax import (\n",
        "    ChoiceParameter,\n",
        "    Arm,\n",
        "    ParameterType,\n",
        "    SearchSpace,\n",
        "    SimpleExperiment,\n",
        "    modelbridge,\n",
        ")\n",
        "from ax.metrics.factorial import (\n",
        "    evaluation_function as factorial_metric_evaluation_function,\n",
        ")\n",
        "from ax.plot.scatter import plot_fitted\n",
        "from ax.utils.notebook.plotting import render, init_notebook_plotting\n",
        "from ax.utils.stats.statstools import agresti_coull_sem"
      ]
    },
    {
      "cell_type": "code",
      "execution_count": 2,
      "metadata": {
        "ExecuteTime": {
          "end_time": "2019-04-01T16:59:07.852360Z",
          "start_time": "2019-04-01T09:59:07.846655-07:00"
        }
      },
      "outputs": [
        {
          "data": {
            "text/html": [
              "<script type='text/javascript'>requirejs.config({\n",
              "  paths: {\n",
              "    plotly: ['https://cdn.plot.ly/plotly-latest.min'],\n",
              "  },\n",
              "});\n",
              "if (!window.Plotly) {\n",
              "  require(['plotly'], function(plotly) {\n",
              "    window.Plotly = plotly;\n",
              "  });\n",
              "}\n",
              "// helper functions used across multiple plots\n",
              "function rgb(rgb_array) {\n",
              "  return 'rgb(' + rgb_array.join() + ')';\n",
              "}\n",
              "\n",
              "function copy_and_reverse(arr) {\n",
              "  const copy = arr.slice();\n",
              "  copy.reverse();\n",
              "  return copy;\n",
              "}\n",
              "\n",
              "function axis_range(grid, is_log) {\n",
              "  return is_log ?\n",
              "    [Math.log10(Math.min(...grid)), Math.log10(Math.max(...grid))]:\n",
              "    [Math.min(...grid), Math.max(...grid)];\n",
              "}\n",
              "\n",
              "function relativize_data(f, sd, rel, arm_data, metric) {\n",
              "  // if relative, extract status quo & compute ratio\n",
              "  const f_final = rel === true ? [] : f;\n",
              "  const sd_final = rel === true ? []: sd;\n",
              "\n",
              "  if (rel === true) {\n",
              "    const f_sq = (\n",
              "      arm_data['in_sample'][arm_data['status_quo_name']]['y'][metric]\n",
              "    );\n",
              "    const sd_sq = (\n",
              "      arm_data['in_sample'][arm_data['status_quo_name']]['se'][metric]\n",
              "    );\n",
              "\n",
              "    for (let i = 0; i < f.length; i++) {\n",
              "      res = relativize(f[i], sd[i], f_sq, sd_sq);\n",
              "      f_final.push(100 * res[0]);\n",
              "      sd_final.push(100 * res[1]);\n",
              "    }\n",
              "  }\n",
              "\n",
              "  return [f_final, sd_final];\n",
              "}\n",
              "\n",
              "function relativize(m_t, sem_t, m_c, sem_c) {\n",
              "  r_hat = (\n",
              "    (m_t - m_c) / Math.abs(m_c) -\n",
              "    Math.pow(sem_c, 2) * m_t / Math.pow(Math.abs(m_c), 3)\n",
              "  );\n",
              "  variance = (\n",
              "    (Math.pow(sem_t, 2) + Math.pow((m_t / m_c * sem_c), 2)) /\n",
              "    Math.pow(m_c, 2)\n",
              "   )\n",
              "   return [r_hat, Math.sqrt(variance)];\n",
              "}\n",
              "</script>"
            ]
          },
          "metadata": {},
          "output_type": "display_data"
        },
        {
          "name": "stderr",
          "output_type": "stream",
          "text": [
            "[INFO 04-01 09:59:07] ipy_plotting: Injecting Plotly library into cell. Do not overwrite or delete cell.\n"
          ]
        }
      ],
      "source": [
        "init_notebook_plotting()"
      ]
    },
    {
      "cell_type": "markdown",
      "metadata": {},
      "source": [
        "<markdowncell>\n",
        "First, we define our search space. In this example we have three parameters,\n",
        "each of which has a set of possible string values."
      ]
    },
    {
      "cell_type": "code",
      "execution_count": 3,
      "metadata": {
        "ExecuteTime": {
          "end_time": "2019-04-01T16:59:07.861686Z",
          "start_time": "2019-04-01T09:59:07.854353-07:00"
        },
        "collapsed": true
      },
      "outputs": [],
      "source": [
        "search_space = SearchSpace(\n",
        "    parameters=[\n",
        "        ChoiceParameter(\n",
        "            name=\"factor1\",\n",
        "            parameter_type=ParameterType.STRING,\n",
        "            values=[\"level11\", \"level12\", \"level13\"],\n",
        "        ),\n",
        "        ChoiceParameter(\n",
        "            name=\"factor2\",\n",
        "            parameter_type=ParameterType.STRING,\n",
        "            values=[\"level21\", \"level22\"],\n",
        "        ),\n",
        "        ChoiceParameter(\n",
        "            name=\"factor3\",\n",
        "            parameter_type=ParameterType.STRING,\n",
        "            values=[\"level31\", \"level32\", \"level33\", \"level34\"],\n",
        "        ),\n",
        "    ]\n",
        ")"
      ]
    },
    {
      "cell_type": "markdown",
      "metadata": {},
      "source": [
        "<markdowncell>\n",
        "Second, we define an evaluation function, which is responsible for computing\n",
        "the mean and standard error of a given parameterization. In this example,\n",
        "each possible parameter value is given a weight, and the mean of a parameterization\n",
        "is determined by the weights of its values. The higher the weights, the greater\n",
        "the mean."
      ]
    },
    {
      "cell_type": "code",
      "execution_count": 4,
      "metadata": {
        "ExecuteTime": {
          "end_time": "2019-04-01T16:59:07.871141Z",
          "start_time": "2019-04-01T09:59:07.863475-07:00"
        },
        "collapsed": true
      },
      "outputs": [],
      "source": [
        "one_hot_encoder = skl.preprocessing.OneHotEncoder(\n",
        "    categories=[par.values for par in search_space.parameters.values()], \n",
        ")\n",
        "\n",
        "def factorial_evaluation_function(\n",
        "    # `parameterization` is a dict of parameter names to values of those parameters.\n",
        "    parameterization: Dict[str, Optional[Union[str, bool, float]]],\n",
        "    # `weight` is the weight of the parameterization, which is used to determine the variance of the estimate\n",
        "    weight: Optional[float] = None,\n",
        ") -> Dict[str, Tuple[float, float]]:  # dict of metric names to tuple of mean and standard error.\n",
        "    batch_size = 10000\n",
        "    noise_level = 0.0\n",
        "    weight = weight if weight is not None else 1.0\n",
        "    coefficients = np.array([\n",
        "        0.1, 0.2, 0.3,\n",
        "        0.1, 0.2,\n",
        "        0.1, 0.2, 0.3, 0.4\n",
        "    ])\n",
        "    features = np.array(list(parameterization.values())).reshape(1, -1)\n",
        "    encoded_features = one_hot_encoder.fit_transform(features)\n",
        "    z = coefficients @ encoded_features.T + np.sqrt(noise_level) * np.random.randn()\n",
        "    p = np.exp(z) / (1 + np.exp(z))\n",
        "    plays = np.random.binomial(batch_size, weight)\n",
        "    successes = np.random.binomial(plays, p)\n",
        "    mean = float(successes) / plays\n",
        "    sem = agresti_coull_sem(successes, plays)\n",
        "    return {\n",
        "        \"success_metric\": (mean, sem)\n",
        "    }"
      ]
    },
    {
      "cell_type": "markdown",
      "metadata": {},
      "source": [
        "<markdowncell>\n",
        "We now set up our experiment and define the status quo arm."
      ]
    },
    {
      "cell_type": "code",
      "execution_count": 5,
      "metadata": {
        "ExecuteTime": {
          "end_time": "2019-04-01T16:59:07.876425Z",
          "start_time": "2019-04-01T09:59:07.872766-07:00"
        },
        "collapsed": true
      },
      "outputs": [],
      "source": [
        "exp = SimpleExperiment(\n",
        "    name=\"my_factorial_closed_loop_experiment\",\n",
        "    search_space=search_space,\n",
        "    evaluation_function=factorial_evaluation_function,\n",
        "    objective_name=\"success_metric\",\n",
        ")\n",
        "exp.status_quo = Arm(\n",
        "    params={\"factor1\": \"level11\", \"factor2\": \"level21\", \"factor3\": \"level31\"}\n",
        ")"
      ]
    },
    {
      "cell_type": "markdown",
      "metadata": {},
      "source": [
        "<markdowncell>\n",
        "We generate an initial batch that explores the full space of the factorial\n",
        "design, including the status quo. Note that the status quo gets a weight of 5x\n",
        "relative to the other arms since it is within the search space of the\n",
        "FullFactorial generator."
      ]
    },
    {
      "cell_type": "code",
      "execution_count": 6,
      "metadata": {
        "ExecuteTime": {
          "end_time": "2019-04-01T16:59:07.906856Z",
          "start_time": "2019-04-01T09:59:07.878299-07:00"
        },
        "collapsed": true
      },
      "outputs": [],
      "source": [
        "factorial_generator = modelbridge.get_factorial(search_space=exp.search_space)\n",
        "factorial_run = factorial_generator.gen(n=-1)\n",
        "trial = (\n",
        "    exp.new_batch_trial()\n",
        "    .add_generator_run(factorial_run, multiplier=1)\n",
        "    .add_arms_and_weights(arms=[exp.status_quo], multiplier=4)\n",
        ")"
      ]
    },
    {
      "cell_type": "markdown",
      "metadata": {},
      "source": [
        "<markdowncell>\n",
        "We use Thompson sampling with batched updates to give more weight to best-performing arms while balancing exploration."
      ]
    },
    {
      "cell_type": "code",
      "execution_count": 7,
      "metadata": {
        "ExecuteTime": {
          "end_time": "2019-04-01T16:59:08.480646Z",
          "start_time": "2019-04-01T09:59:07.908822-07:00"
        }
      },
      "outputs": [
        {
          "name": "stdout",
          "output_type": "stream",
          "text": [
            "Running iteration 0...\n",
            "Running iteration 1...\n",
            "Running iteration 2...\n",
            "Running iteration 3...\n"
          ]
        }
      ],
      "source": [
        "generators = []\n",
        "for i in range(4):\n",
        "    print(\"Running iteration {}...\".format(i))\n",
        "    data = exp.eval_trial(trial)\n",
        "    thompson_generator = modelbridge.get_thompson(\n",
        "        experiment=exp, data=data, min_weight=0.01\n",
        "    )\n",
        "    generators.append(thompson_generator)\n",
        "    thompson_run = thompson_generator.gen(n=-1)\n",
        "    trial = exp.new_batch_trial().add_generator_run(thompson_run)"
      ]
    },
    {
      "cell_type": "markdown",
      "metadata": {},
      "source": [
        "<markdowncell>\n",
        "The following plots shows the predicted value of our objective for the arms in each trial. Over time, we hone in on the parameterizations with the highest values. "
      ]
    },
    {
      "cell_type": "code",
      "execution_count": 8,
      "metadata": {
        "ExecuteTime": {
          "end_time": "2019-04-01T16:59:08.534814Z",
          "start_time": "2019-04-01T09:59:08.482576-07:00"
        },
        "scrolled": false
      },
      "outputs": [
        {
          "data": {
            "text/html": [
              "<div id=\"c3868d3b3d134c6dbf0c3bffb3857a75\" style=\"width: 100%;\" class=\"plotly-graph-div\"></div><script type='text/javascript'>require(['plotly'], function(Plotly) {\n",
              "  window.PLOTLYENV = window.PLOTLYENV || {};\n",
              "  window.PLOTLYENV.BASE_URL = 'https://plot.ly';\n",
              "  Plotly.newPlot(\n",
              "  \"c3868d3b3d134c6dbf0c3bffb3857a75\",\n",
              "  [{\"type\": \"scatter\", \"x\": [\"0_0\", \"0_1\", \"0_10\", \"0_11\", \"0_12\", \"0_13\", \"0_14\", \"0_15\", \"0_16\", \"0_17\", \"0_18\", \"0_19\", \"0_2\", \"0_20\", \"0_21\", \"0_22\", \"0_3\", \"0_4\", \"0_5\", \"0_6\", \"0_7\", \"0_8\", \"0_9\", \"status_quo\"], \"y\": [0.5815217391304348, 0.6023054755043228, 0.6626865671641791, 0.6388140161725068, 0.6561604584527221, 0.6291793313069909, 0.6763848396501457, 0.6324324324324324, 0.6823529411764706, 0.6480446927374302, 0.6795252225519288, 0.6346666666666667, 0.6479289940828402, 0.6332378223495702, 0.6785714285714286, 0.6578947368421053, 0.6146496815286624, 0.5884146341463414, 0.6302250803858521, 0.6612377850162866, 0.6099706744868035, 0.6426512968299711, 0.6479750778816199, 0.5666977611940298], \"marker\": {\"color\": \"rgba(128,177,211,1)\"}, \"mode\": \"markers\", \"name\": \"In-sample\", \"text\": [\"<b>Arm 0_0</b><br><br>success_metric: 0.582 [0.531, 0.632]<br><br><em>Parameterization:</em><br>factor1: level11<br>factor2: level21<br>factor3: level32\", \"<b>Arm 0_1</b><br><br>success_metric: 0.602 [0.551, 0.654]<br><br><em>Parameterization:</em><br>factor1: level11<br>factor2: level21<br>factor3: level33\", \"<b>Arm 0_10</b><br><br>success_metric: 0.663 [0.612, 0.713]<br><br><em>Parameterization:</em><br>factor1: level12<br>factor2: level21<br>factor3: level34\", \"<b>Arm 0_11</b><br><br>success_metric: 0.639 [0.590, 0.688]<br><br><em>Parameterization:</em><br>factor1: level12<br>factor2: level22<br>factor3: level31\", \"<b>Arm 0_12</b><br><br>success_metric: 0.656 [0.606, 0.706]<br><br><em>Parameterization:</em><br>factor1: level12<br>factor2: level22<br>factor3: level32\", \"<b>Arm 0_13</b><br><br>success_metric: 0.629 [0.577, 0.681]<br><br><em>Parameterization:</em><br>factor1: level12<br>factor2: level22<br>factor3: level33\", \"<b>Arm 0_14</b><br><br>success_metric: 0.676 [0.627, 0.726]<br><br><em>Parameterization:</em><br>factor1: level12<br>factor2: level22<br>factor3: level34\", \"<b>Arm 0_15</b><br><br>success_metric: 0.632 [0.583, 0.682]<br><br><em>Parameterization:</em><br>factor1: level13<br>factor2: level21<br>factor3: level31\", \"<b>Arm 0_16</b><br><br>success_metric: 0.682 [0.633, 0.732]<br><br><em>Parameterization:</em><br>factor1: level13<br>factor2: level21<br>factor3: level32\", \"<b>Arm 0_17</b><br><br>success_metric: 0.648 [0.599, 0.698]<br><br><em>Parameterization:</em><br>factor1: level13<br>factor2: level21<br>factor3: level33\", \"<b>Arm 0_18</b><br><br>success_metric: 0.68 [0.630, 0.729]<br><br><em>Parameterization:</em><br>factor1: level13<br>factor2: level21<br>factor3: level34\", \"<b>Arm 0_19</b><br><br>success_metric: 0.635 [0.586, 0.683]<br><br><em>Parameterization:</em><br>factor1: level13<br>factor2: level22<br>factor3: level31\", \"<b>Arm 0_2</b><br><br>success_metric: 0.648 [0.597, 0.699]<br><br><em>Parameterization:</em><br>factor1: level11<br>factor2: level21<br>factor3: level34\", \"<b>Arm 0_20</b><br><br>success_metric: 0.633 [0.583, 0.684]<br><br><em>Parameterization:</em><br>factor1: level13<br>factor2: level22<br>factor3: level32\", \"<b>Arm 0_21</b><br><br>success_metric: 0.679 [0.629, 0.729]<br><br><em>Parameterization:</em><br>factor1: level13<br>factor2: level22<br>factor3: level33\", \"<b>Arm 0_22</b><br><br>success_metric: 0.658 [0.608, 0.708]<br><br><em>Parameterization:</em><br>factor1: level13<br>factor2: level22<br>factor3: level34\", \"<b>Arm 0_3</b><br><br>success_metric: 0.615 [0.561, 0.669]<br><br><em>Parameterization:</em><br>factor1: level11<br>factor2: level22<br>factor3: level31\", \"<b>Arm 0_4</b><br><br>success_metric: 0.588 [0.535, 0.642]<br><br><em>Parameterization:</em><br>factor1: level11<br>factor2: level22<br>factor3: level32\", \"<b>Arm 0_5</b><br><br>success_metric: 0.63 [0.577, 0.684]<br><br><em>Parameterization:</em><br>factor1: level11<br>factor2: level22<br>factor3: level33\", \"<b>Arm 0_6</b><br><br>success_metric: 0.661 [0.608, 0.714]<br><br><em>Parameterization:</em><br>factor1: level11<br>factor2: level22<br>factor3: level34\", \"<b>Arm 0_7</b><br><br>success_metric: 0.61 [0.558, 0.662]<br><br><em>Parameterization:</em><br>factor1: level12<br>factor2: level21<br>factor3: level31\", \"<b>Arm 0_8</b><br><br>success_metric: 0.643 [0.592, 0.693]<br><br><em>Parameterization:</em><br>factor1: level12<br>factor2: level21<br>factor3: level32\", \"<b>Arm 0_9</b><br><br>success_metric: 0.648 [0.596, 0.700]<br><br><em>Parameterization:</em><br>factor1: level12<br>factor2: level21<br>factor3: level33\", \"<b>Arm status_quo</b><br><br>success_metric: 0.567 [0.546, 0.588]<br><br><em>Parameterization:</em><br>factor1: level11<br>factor2: level21<br>factor3: level31\"], \"hoverinfo\": \"text\", \"error_y\": {\"type\": \"data\", \"array\": [0.05041716216868752, 0.05152161440613476, 0.05069987621324097, 0.04892223094792829, 0.04989471632185098, 0.052239363233709084, 0.049593720144723845, 0.049167616082718045, 0.04957496788608193, 0.049524363323196874, 0.04991017291052249, 0.04877690596348523, 0.05097537591739917, 0.05060492204341373, 0.050022774513330766, 0.050344650333260216, 0.05386838913686411, 0.05327931775822003, 0.053702048078687455, 0.05302203081178485, 0.05180078228245989, 0.05047318945204195, 0.05230928233723235, 0.020976331289409147], \"color\": \"rgba(128,177,211,0.4)\"}, \"visible\": true, \"legendgroup\": \"In-sample\", \"showlegend\": true}],\n",
              "  {\"title\": \"Predicted Outcomes\", \"hovermode\": \"closest\", \"updatemenus\": [{\"x\": 1.25, \"y\": 0.67, \"buttons\": [{\"args\": [{\"xaxis.categoryorder\": \"array\", \"xaxis.categoryarray\": [\"status_quo\", \"0_0\", \"0_1\", \"0_2\", \"0_3\", \"0_4\", \"0_5\", \"0_6\", \"0_7\", \"0_8\", \"0_9\", \"0_10\", \"0_11\", \"0_12\", \"0_13\", \"0_14\", \"0_15\", \"0_16\", \"0_17\", \"0_18\", \"0_19\", \"0_20\", \"0_21\", \"0_22\"]}], \"label\": \"Name\", \"method\": \"relayout\"}, {\"args\": [{\"xaxis.categoryorder\": \"array\", \"xaxis.categoryarray\": [\"status_quo\", \"0_0\", \"0_4\", \"0_1\", \"0_7\", \"0_3\", \"0_13\", \"0_5\", \"0_15\", \"0_20\", \"0_19\", \"0_11\", \"0_8\", \"0_2\", \"0_9\", \"0_17\", \"0_12\", \"0_22\", \"0_6\", \"0_10\", \"0_14\", \"0_21\", \"0_18\", \"0_16\"]}], \"label\": \"Effect Size\", \"method\": \"relayout\"}], \"yanchor\": \"middle\", \"xanchor\": \"left\"}], \"yaxis\": {\"zerolinecolor\": \"red\", \"title\": \"success_metric\"}, \"xaxis\": {\"tickangle\": 45, \"categoryorder\": \"array\", \"categoryarray\": [\"status_quo\", \"0_0\", \"0_1\", \"0_2\", \"0_3\", \"0_4\", \"0_5\", \"0_6\", \"0_7\", \"0_8\", \"0_9\", \"0_10\", \"0_11\", \"0_12\", \"0_13\", \"0_14\", \"0_15\", \"0_16\", \"0_17\", \"0_18\", \"0_19\", \"0_20\", \"0_21\", \"0_22\"]}, \"annotations\": [{\"x\": 1.18, \"y\": 0.72, \"xref\": \"paper\", \"yref\": \"paper\", \"text\": \"Sort By\", \"showarrow\": false, \"yanchor\": \"middle\"}], \"font\": {\"size\": 10}},\n",
              "  {\"showLink\": false}\n",
              ");\n",
              "});</script>"
            ]
          },
          "metadata": {},
          "output_type": "display_data"
        },
        {
          "data": {
            "text/html": [
              "<div id=\"c13a83b301344c959294f66d5ad96d68\" style=\"width: 100%;\" class=\"plotly-graph-div\"></div><script type='text/javascript'>require(['plotly'], function(Plotly) {\n",
              "  window.PLOTLYENV = window.PLOTLYENV || {};\n",
              "  window.PLOTLYENV.BASE_URL = 'https://plot.ly';\n",
              "  Plotly.newPlot(\n",
              "  \"c13a83b301344c959294f66d5ad96d68\",\n",
              "  [{\"type\": \"scatter\", \"x\": [\"0_10\", \"0_12\", \"0_14\", \"0_16\", \"0_17\", \"0_18\", \"0_2\", \"0_21\", \"0_22\", \"0_6\", \"0_8\", \"0_9\", \"status_quo\"], \"y\": [0.6897746967071057, 0.6507936507936508, 0.7110789283128168, 0.6470886075949367, 0.6792452830188679, 0.6904906117504542, 0.6666666666666666, 0.6940160394818014, 0.7090464547677262, 0.6764227642276422, 0.6140350877192983, 0.6682692307692307, 0.5788113695090439], \"marker\": {\"color\": \"rgba(128,177,211,1)\"}, \"mode\": \"markers\", \"name\": \"In-sample\", \"text\": [\"<b>Arm 0_10</b><br><br>success_metric: 0.69 [0.652, 0.728]<br><br><em>Parameterization:</em><br>factor1: level12<br>factor2: level21<br>factor3: level34\", \"<b>Arm 0_12</b><br><br>success_metric: 0.651 [0.598, 0.704]<br><br><em>Parameterization:</em><br>factor1: level12<br>factor2: level22<br>factor3: level32\", \"<b>Arm 0_14</b><br><br>success_metric: 0.711 [0.687, 0.735]<br><br><em>Parameterization:</em><br>factor1: level12<br>factor2: level22<br>factor3: level34\", \"<b>Arm 0_16</b><br><br>success_metric: 0.647 [0.626, 0.668]<br><br><em>Parameterization:</em><br>factor1: level13<br>factor2: level21<br>factor3: level32\", \"<b>Arm 0_17</b><br><br>success_metric: 0.679 [0.606, 0.752]<br><br><em>Parameterization:</em><br>factor1: level13<br>factor2: level21<br>factor3: level33\", \"<b>Arm 0_18</b><br><br>success_metric: 0.69 [0.668, 0.713]<br><br><em>Parameterization:</em><br>factor1: level13<br>factor2: level21<br>factor3: level34\", \"<b>Arm 0_2</b><br><br>success_metric: 0.667 [0.591, 0.742]<br><br><em>Parameterization:</em><br>factor1: level11<br>factor2: level21<br>factor3: level34\", \"<b>Arm 0_21</b><br><br>success_metric: 0.694 [0.672, 0.716]<br><br><em>Parameterization:</em><br>factor1: level13<br>factor2: level22<br>factor3: level33\", \"<b>Arm 0_22</b><br><br>success_metric: 0.709 [0.665, 0.753]<br><br><em>Parameterization:</em><br>factor1: level13<br>factor2: level22<br>factor3: level34\", \"<b>Arm 0_6</b><br><br>success_metric: 0.676 [0.639, 0.713]<br><br><em>Parameterization:</em><br>factor1: level11<br>factor2: level22<br>factor3: level34\", \"<b>Arm 0_8</b><br><br>success_metric: 0.614 [0.525, 0.704]<br><br><em>Parameterization:</em><br>factor1: level12<br>factor2: level21<br>factor3: level32\", \"<b>Arm 0_9</b><br><br>success_metric: 0.668 [0.604, 0.732]<br><br><em>Parameterization:</em><br>factor1: level12<br>factor2: level21<br>factor3: level33\", \"<b>Arm status_quo</b><br><br>success_metric: 0.579 [0.544, 0.614]<br><br><em>Parameterization:</em><br>factor1: level11<br>factor2: level21<br>factor3: level31\"], \"hoverinfo\": \"text\", \"error_y\": {\"type\": \"data\", \"array\": [0.03778864464605359, 0.052711368972380365, 0.023920992461279825, 0.021079985114467834, 0.07281220483473722, 0.02230880313858243, 0.0756818045318033, 0.02244335753255683, 0.04410912844166978, 0.03700956955882912, 0.08952963262945417, 0.06413975159566551, 0.034789578962198725], \"color\": \"rgba(128,177,211,0.4)\"}, \"visible\": true, \"legendgroup\": \"In-sample\", \"showlegend\": true}],\n",
              "  {\"title\": \"Predicted Outcomes\", \"hovermode\": \"closest\", \"updatemenus\": [{\"x\": 1.25, \"y\": 0.67, \"buttons\": [{\"args\": [{\"xaxis.categoryorder\": \"array\", \"xaxis.categoryarray\": [\"status_quo\", \"0_2\", \"0_6\", \"0_8\", \"0_9\", \"0_10\", \"0_12\", \"0_14\", \"0_16\", \"0_17\", \"0_18\", \"0_21\", \"0_22\"]}], \"label\": \"Name\", \"method\": \"relayout\"}, {\"args\": [{\"xaxis.categoryorder\": \"array\", \"xaxis.categoryarray\": [\"status_quo\", \"0_8\", \"0_16\", \"0_12\", \"0_2\", \"0_9\", \"0_6\", \"0_17\", \"0_10\", \"0_18\", \"0_21\", \"0_22\", \"0_14\"]}], \"label\": \"Effect Size\", \"method\": \"relayout\"}], \"yanchor\": \"middle\", \"xanchor\": \"left\"}], \"yaxis\": {\"zerolinecolor\": \"red\", \"title\": \"success_metric\"}, \"xaxis\": {\"tickangle\": 45, \"categoryorder\": \"array\", \"categoryarray\": [\"status_quo\", \"0_2\", \"0_6\", \"0_8\", \"0_9\", \"0_10\", \"0_12\", \"0_14\", \"0_16\", \"0_17\", \"0_18\", \"0_21\", \"0_22\"]}, \"annotations\": [{\"x\": 1.18, \"y\": 0.72, \"xref\": \"paper\", \"yref\": \"paper\", \"text\": \"Sort By\", \"showarrow\": false, \"yanchor\": \"middle\"}], \"font\": {\"size\": 10}},\n",
              "  {\"showLink\": false}\n",
              ");\n",
              "});</script>"
            ]
          },
          "metadata": {},
          "output_type": "display_data"
        },
        {
          "data": {
            "text/html": [
              "<div id=\"2aa1e6b8a9794e29ae2d0c888709bce4\" style=\"width: 100%;\" class=\"plotly-graph-div\"></div><script type='text/javascript'>require(['plotly'], function(Plotly) {\n",
              "  window.PLOTLYENV = window.PLOTLYENV || {};\n",
              "  window.PLOTLYENV.BASE_URL = 'https://plot.ly';\n",
              "  Plotly.newPlot(\n",
              "  \"2aa1e6b8a9794e29ae2d0c888709bce4\",\n",
              "  [{\"type\": \"scatter\", \"x\": [\"0_10\", \"0_14\", \"0_17\", \"0_18\", \"0_2\", \"0_21\", \"0_22\", \"0_6\", \"0_9\", \"status_quo\"], \"y\": [0.645320197044335, 0.6808343171979535, 0.661864406779661, 0.6568047337278107, 0.6727549467275494, 0.6468531468531469, 0.7043630017452007, 0.7302631578947368, 0.6232876712328768, 0.5553359683794467], \"marker\": {\"color\": \"rgba(128,177,211,1)\"}, \"mode\": \"markers\", \"name\": \"In-sample\", \"text\": [\"<b>Arm 0_10</b><br><br>success_metric: 0.645 [0.607, 0.683]<br><br><em>Parameterization:</em><br>factor1: level12<br>factor2: level21<br>factor3: level34\", \"<b>Arm 0_14</b><br><br>success_metric: 0.681 [0.663, 0.699]<br><br><em>Parameterization:</em><br>factor1: level12<br>factor2: level22<br>factor3: level34\", \"<b>Arm 0_17</b><br><br>success_metric: 0.662 [0.635, 0.689]<br><br><em>Parameterization:</em><br>factor1: level13<br>factor2: level21<br>factor3: level33\", \"<b>Arm 0_18</b><br><br>success_metric: 0.657 [0.585, 0.729]<br><br><em>Parameterization:</em><br>factor1: level13<br>factor2: level21<br>factor3: level34\", \"<b>Arm 0_2</b><br><br>success_metric: 0.673 [0.637, 0.709]<br><br><em>Parameterization:</em><br>factor1: level11<br>factor2: level21<br>factor3: level34\", \"<b>Arm 0_21</b><br><br>success_metric: 0.647 [0.591, 0.702]<br><br><em>Parameterization:</em><br>factor1: level13<br>factor2: level22<br>factor3: level33\", \"<b>Arm 0_22</b><br><br>success_metric: 0.704 [0.688, 0.721]<br><br><em>Parameterization:</em><br>factor1: level13<br>factor2: level22<br>factor3: level34\", \"<b>Arm 0_6</b><br><br>success_metric: 0.73 [0.659, 0.801]<br><br><em>Parameterization:</em><br>factor1: level11<br>factor2: level22<br>factor3: level34\", \"<b>Arm 0_9</b><br><br>success_metric: 0.623 [0.578, 0.669]<br><br><em>Parameterization:</em><br>factor1: level12<br>factor2: level21<br>factor3: level33\", \"<b>Arm status_quo</b><br><br>success_metric: 0.555 [0.525, 0.586]<br><br><em>Parameterization:</em><br>factor1: level11<br>factor2: level21<br>factor3: level31\"], \"hoverinfo\": \"text\", \"error_y\": {\"type\": \"data\", \"array\": [0.03802014292574556, 0.018129472536139765, 0.02700327458832477, 0.07175984018936105, 0.035908170535485465, 0.055464419572106634, 0.016714474992602747, 0.07103675731616832, 0.045406845244864866, 0.030618286081161007], \"color\": \"rgba(128,177,211,0.4)\"}, \"visible\": true, \"legendgroup\": \"In-sample\", \"showlegend\": true}],\n",
              "  {\"title\": \"Predicted Outcomes\", \"hovermode\": \"closest\", \"updatemenus\": [{\"x\": 1.25, \"y\": 0.67, \"buttons\": [{\"args\": [{\"xaxis.categoryorder\": \"array\", \"xaxis.categoryarray\": [\"status_quo\", \"0_2\", \"0_6\", \"0_9\", \"0_10\", \"0_14\", \"0_17\", \"0_18\", \"0_21\", \"0_22\"]}], \"label\": \"Name\", \"method\": \"relayout\"}, {\"args\": [{\"xaxis.categoryorder\": \"array\", \"xaxis.categoryarray\": [\"status_quo\", \"0_9\", \"0_10\", \"0_21\", \"0_18\", \"0_17\", \"0_2\", \"0_14\", \"0_22\", \"0_6\"]}], \"label\": \"Effect Size\", \"method\": \"relayout\"}], \"yanchor\": \"middle\", \"xanchor\": \"left\"}], \"yaxis\": {\"zerolinecolor\": \"red\", \"title\": \"success_metric\"}, \"xaxis\": {\"tickangle\": 45, \"categoryorder\": \"array\", \"categoryarray\": [\"status_quo\", \"0_2\", \"0_6\", \"0_9\", \"0_10\", \"0_14\", \"0_17\", \"0_18\", \"0_21\", \"0_22\"]}, \"annotations\": [{\"x\": 1.18, \"y\": 0.72, \"xref\": \"paper\", \"yref\": \"paper\", \"text\": \"Sort By\", \"showarrow\": false, \"yanchor\": \"middle\"}], \"font\": {\"size\": 10}},\n",
              "  {\"showLink\": false}\n",
              ");\n",
              "});</script>"
            ]
          },
          "metadata": {},
          "output_type": "display_data"
        },
        {
          "data": {
            "text/html": [
              "<div id=\"cf4dff28a3ab4158aa829648302ccf4d\" style=\"width: 100%;\" class=\"plotly-graph-div\"></div><script type='text/javascript'>require(['plotly'], function(Plotly) {\n",
              "  window.PLOTLYENV = window.PLOTLYENV || {};\n",
              "  window.PLOTLYENV.BASE_URL = 'https://plot.ly';\n",
              "  Plotly.newPlot(\n",
              "  \"cf4dff28a3ab4158aa829648302ccf4d\",\n",
              "  [{\"type\": \"scatter\", \"x\": [\"0_18\", \"0_2\", \"0_22\", \"0_6\", \"status_quo\"], \"y\": [0.7021857923497268, 0.5794392523364486, 0.7139303482587065, 0.6740125444990677, 0.58345715700842], \"marker\": {\"color\": \"rgba(128,177,211,1)\"}, \"mode\": \"markers\", \"name\": \"In-sample\", \"text\": [\"<b>Arm 0_18</b><br><br>success_metric: 0.702 [0.655, 0.749]<br><br><em>Parameterization:</em><br>factor1: level13<br>factor2: level21<br>factor3: level34\", \"<b>Arm 0_2</b><br><br>success_metric: 0.579 [0.486, 0.673]<br><br><em>Parameterization:</em><br>factor1: level11<br>factor2: level21<br>factor3: level34\", \"<b>Arm 0_22</b><br><br>success_metric: 0.714 [0.692, 0.736]<br><br><em>Parameterization:</em><br>factor1: level13<br>factor2: level22<br>factor3: level34\", \"<b>Arm 0_6</b><br><br>success_metric: 0.674 [0.662, 0.686]<br><br><em>Parameterization:</em><br>factor1: level11<br>factor2: level22<br>factor3: level34\", \"<b>Arm status_quo</b><br><br>success_metric: 0.583 [0.562, 0.605]<br><br><em>Parameterization:</em><br>factor1: level11<br>factor2: level21<br>factor3: level31\"], \"hoverinfo\": \"text\", \"error_y\": {\"type\": \"data\", \"array\": [0.04694887348288003, 0.09362247537775031, 0.022101305087387616, 0.011963048029884179, 0.021505365101989072], \"color\": \"rgba(128,177,211,0.4)\"}, \"visible\": true, \"legendgroup\": \"In-sample\", \"showlegend\": true}],\n",
              "  {\"title\": \"Predicted Outcomes\", \"hovermode\": \"closest\", \"updatemenus\": [{\"x\": 1.25, \"y\": 0.67, \"buttons\": [{\"args\": [{\"xaxis.categoryorder\": \"array\", \"xaxis.categoryarray\": [\"status_quo\", \"0_2\", \"0_6\", \"0_18\", \"0_22\"]}], \"label\": \"Name\", \"method\": \"relayout\"}, {\"args\": [{\"xaxis.categoryorder\": \"array\", \"xaxis.categoryarray\": [\"0_2\", \"status_quo\", \"0_6\", \"0_18\", \"0_22\"]}], \"label\": \"Effect Size\", \"method\": \"relayout\"}], \"yanchor\": \"middle\", \"xanchor\": \"left\"}], \"yaxis\": {\"zerolinecolor\": \"red\", \"title\": \"success_metric\"}, \"xaxis\": {\"tickangle\": 45, \"categoryorder\": \"array\", \"categoryarray\": [\"status_quo\", \"0_2\", \"0_6\", \"0_18\", \"0_22\"]}, \"annotations\": [{\"x\": 1.18, \"y\": 0.72, \"xref\": \"paper\", \"yref\": \"paper\", \"text\": \"Sort By\", \"showarrow\": false, \"yanchor\": \"middle\"}], \"font\": {\"size\": 10}},\n",
              "  {\"showLink\": false}\n",
              ");\n",
              "});</script>"
            ]
          },
          "metadata": {},
          "output_type": "display_data"
        }
      ],
      "source": [
        "for generator in generators:\n",
        "    render(plot_fitted(generator, metric=\"success_metric\", rel=False))"
      ]
    },
    {
      "cell_type": "markdown",
      "metadata": {},
      "source": [
        "<markdowncell>\n",
        "As expected given our evaluation function, parameterizations with higher levels\n",
        "perform better and are given higher weight. Below we see the parameterizations \n",
        "that made it to the final trial (along with the status quo)."
      ]
    },
    {
      "cell_type": "code",
      "execution_count": 9,
      "metadata": {
        "ExecuteTime": {
          "end_time": "2019-04-01T16:59:08.548754Z",
          "start_time": "2019-04-01T09:59:08.536758-07:00"
        }
      },
      "outputs": [
        {
          "name": "stdout",
          "output_type": "stream",
          "text": [
            "                    values    weight\n",
            "0  level13,level22,level34  0.447076\n",
            "1  level13,level21,level34  0.219591\n",
            "2  level11,level21,level31  0.333333\n"
          ]
        }
      ],
      "source": [
        "results = pd.DataFrame(\n",
        "    [\n",
        "        {\"values\": \",\".join(arm.params.values()), \"weight\": weight}\n",
        "        for arm, weight in trial.normalized_arm_weights().items()\n",
        "    ]\n",
        ")\n",
        "print(results)"
      ]
    },
    {
      "cell_type": "code",
      "execution_count": 10,
      "metadata": {
        "ExecuteTime": {
          "end_time": "2019-04-01T16:59:08.569844Z",
          "start_time": "2019-04-01T09:59:08.550440-07:00"
        }
      },
      "outputs": [
        {
          "data": {
            "text/html": [
              "<div id=\"81fabce18d5349f7826a418c1a6e0a33\" style=\"width: 100%;\" class=\"plotly-graph-div\"></div><script type='text/javascript'>require(['plotly'], function(Plotly) {\n",
              "  window.PLOTLYENV = window.PLOTLYENV || {};\n",
              "  window.PLOTLYENV.BASE_URL = 'https://plot.ly';\n",
              "  const data = [{\"index\": 0, \"name\": \"status_quo\", \"x\": [\"Round 0\", \"Round 1\", \"Round 2\", \"Round 3\", \"Round 4\"], \"y\": [21.142857142857142, 7.692307692307694, 9.999999999999996, 20.0, 33.333333333333336], \"text\": [\"21.14%\", \"7.69%\", \"10.00%\", \"20.00%\", \"33.33%\"]}, {\"index\": 1, \"name\": \"0_0\", \"x\": [\"Round 0\"], \"y\": [3.4285714285714284], \"text\": [\"3.43%\"]}, {\"index\": 2, \"name\": \"0_1\", \"x\": [\"Round 0\"], \"y\": [3.4285714285714284], \"text\": [\"3.43%\"]}, {\"index\": 3, \"name\": \"0_2\", \"x\": [\"Round 0\", \"Round 1\", \"Round 2\", \"Round 3\"], \"y\": [3.4285714285714284, 1.682816102426773, 6.519224916303132, 1.0112245929821013], \"text\": [\"3.43%\", \"1.68%\", \"6.52%\", \"1.01%\"]}, {\"index\": 4, \"name\": \"0_3\", \"x\": [\"Round 0\"], \"y\": [3.4285714285714284], \"text\": [\"3.43%\"]}, {\"index\": 5, \"name\": \"0_4\", \"x\": [\"Round 0\"], \"y\": [3.4285714285714284], \"text\": [\"3.43%\"]}, {\"index\": 6, \"name\": \"0_5\", \"x\": [\"Round 0\"], \"y\": [3.4285714285714284], \"text\": [\"3.43%\"]}, {\"index\": 7, \"name\": \"0_6\", \"x\": [\"Round 0\", \"Round 1\", \"Round 2\", \"Round 3\"], \"y\": [3.4285714285714284, 6.179833144505098, 1.3878462006695744, 59.17686318131257], \"text\": [\"3.43%\", \"6.18%\", \"1.39%\", \"59.18%\"]}, {\"index\": 8, \"name\": \"0_7\", \"x\": [\"Round 0\"], \"y\": [3.4285714285714284], \"text\": [\"3.43%\"]}, {\"index\": 9, \"name\": \"0_8\", \"x\": [\"Round 0\", \"Round 1\"], \"y\": [3.4285714285714284, 1.169414579652503], \"text\": [\"3.43%\", \"1.17%\"]}, {\"index\": 10, \"name\": \"0_9\", \"x\": [\"Round 0\", \"Round 1\", \"Round 2\"], \"y\": [3.4285714285714284, 1.9109945569931148, 4.638328091711473], \"text\": [\"3.43%\", \"1.91%\", \"4.64%\"]}, {\"index\": 11, \"name\": \"0_10\", \"x\": [\"Round 0\", \"Round 1\", \"Round 2\"], \"y\": [3.4285714285714284, 5.761505977800138, 6.062696560819719], \"text\": [\"3.43%\", \"5.76%\", \"6.06%\"]}, {\"index\": 12, \"name\": \"0_11\", \"x\": [\"Round 0\"], \"y\": [3.4285714285714284], \"text\": [\"3.43%\"]}, {\"index\": 13, \"name\": \"0_12\", \"x\": [\"Round 0\", \"Round 1\"], \"y\": [3.4285714285714284, 3.1849909283218585], \"text\": [\"3.43%\", \"3.18%\"]}, {\"index\": 14, \"name\": \"0_13\", \"x\": [\"Round 0\"], \"y\": [3.4285714285714284], \"text\": [\"3.43%\"]}, {\"index\": 15, \"name\": \"0_14\", \"x\": [\"Round 0\", \"Round 1\", \"Round 2\"], \"y\": [3.4285714285714284, 14.213616232361726, 26.177335903418886], \"text\": [\"3.43%\", \"14.21%\", \"26.18%\"]}, {\"index\": 16, \"name\": \"0_15\", \"x\": [\"Round 0\"], \"y\": [3.4285714285714284], \"text\": [\"3.43%\"]}, {\"index\": 17, \"name\": \"0_16\", \"x\": [\"Round 0\", \"Round 1\"], \"y\": [3.4285714285714284, 19.64236196391928], \"text\": [\"3.43%\", \"19.64%\"]}, {\"index\": 18, \"name\": \"0_17\", \"x\": [\"Round 0\", \"Round 1\", \"Round 2\"], \"y\": [3.4285714285714284, 1.6542937956059802, 11.23972811200162], \"text\": [\"3.43%\", \"1.65%\", \"11.24%\"]}, {\"index\": 19, \"name\": \"0_18\", \"x\": [\"Round 0\", \"Round 1\", \"Round 2\", \"Round 3\", \"Round 4\"], \"y\": [3.4285714285714284, 16.771116410626142, 1.7256771837273, 3.3572656487005763, 21.959052589321562], \"text\": [\"3.43%\", \"16.77%\", \"1.73%\", \"3.36%\", \"21.96%\"]}, {\"index\": 20, \"name\": \"0_19\", \"x\": [\"Round 0\"], \"y\": [3.4285714285714284], \"text\": [\"3.43%\"]}, {\"index\": 21, \"name\": \"0_20\", \"x\": [\"Round 0\"], \"y\": [3.4285714285714284], \"text\": [\"3.43%\"]}, {\"index\": 22, \"name\": \"0_21\", \"x\": [\"Round 0\", \"Round 1\", \"Round 2\"], \"y\": [3.4285714285714284, 16.257714887851876, 3.1317845186162105], \"text\": [\"3.43%\", \"16.26%\", \"3.13%\"]}, {\"index\": 23, \"name\": \"0_22\", \"x\": [\"Round 0\", \"Round 1\", \"Round 2\", \"Round 3\", \"Round 4\"], \"y\": [3.4285714285714284, 3.879033727627816, 29.117378512732063, 16.454646577004752, 44.70761407734512], \"text\": [\"3.43%\", \"3.88%\", \"29.12%\", \"16.45%\", \"44.71%\"]}];\n",
              "const categories = [\"Round 0\", \"Round 1\", \"Round 2\", \"Round 3\", \"Round 4\"];\n",
              "const colors = [\"rgba(2,63,165,1)\", \"rgba(125,135,185,1)\", \"rgba(190,193,212,1)\", \"rgba(214,188,192,1)\", \"rgba(187,119,132,1)\", \"rgba(142,6,59,1)\", \"rgba(74,111,227,1)\", \"rgba(133,149,225,1)\", \"rgba(181,187,227,1)\", \"rgba(230,175,185,1)\", \"rgba(224,123,145,1)\", \"rgba(211,63,106,1)\", \"rgba(17,198,56,1)\", \"rgba(141,213,147,1)\", \"rgba(198,222,199,1)\", \"rgba(234,211,198,1)\", \"rgba(240,185,141,1)\", \"rgba(239,151,8,1)\", \"rgba(15,207,192,1)\", \"rgba(156,222,214,1)\", \"rgba(213,234,231,1)\", \"rgba(243,225,235,1)\", \"rgba(246,196,225,1)\", \"rgba(247,156,212,1)\"];\n",
              "\n",
              "layout = {\n",
              "    title: \"Rollout Process<br>Bandit Weight Graph\",\n",
              "    xaxis: {\n",
              "      title: \"Rounds\",\n",
              "      zeroline: false,\n",
              "      categoryorder: \"array\",\n",
              "      categoryarray: categories\n",
              "    },\n",
              "    yaxis: {\n",
              "      title: \"Percent\",\n",
              "      showline: false\n",
              "    },\n",
              "    barmode: \"stack\",\n",
              "    showlegend: false,\n",
              "    margin: {\n",
              "      r: 40\n",
              "    }\n",
              "}\n",
              "\n",
              "bandit_config = {\n",
              "    type: \"bar\",\n",
              "    hoverinfo: \"name+text\",\n",
              "    width: 0.5\n",
              "}\n",
              "\n",
              "bandits = [];\n",
              "data.map(d => {\n",
              "  bandits.push({\n",
              "    ...bandit_config,\n",
              "    ...d,\n",
              "    marker: {\n",
              "      color: colors[d.index % colors.length]\n",
              "    }\n",
              "  })\n",
              "});\n",
              "\n",
              "Plotly.newPlot(\"81fabce18d5349f7826a418c1a6e0a33\", bandits, layout, {showLink: false});\n",
              "});</script>"
            ]
          },
          "metadata": {},
          "output_type": "display_data"
        }
      ],
      "source": [
        "from ax.plot.bandit_rollout import plot_bandit_rollout\n",
        "from ax.utils.notebook.plotting import render\n",
        "\n",
        "render(plot_bandit_rollout(exp))"
      ]
    },
    {
      "cell_type": "code",
      "execution_count": 12,
      "metadata": {
        "ExecuteTime": {
          "end_time": "2019-04-01T17:03:56.645223Z",
          "start_time": "2019-04-01T10:03:56.563655-07:00"
        }
      },
      "outputs": [
        {
          "data": {
            "text/html": [
              "<div id=\"85a6c76e2061445d9a1feb4b06f879c3\" style=\"width: 100%;\" class=\"plotly-graph-div\"></div><script type='text/javascript'>require(['plotly'], function(Plotly) {\n",
              "  window.PLOTLYENV = window.PLOTLYENV || {};\n",
              "  window.PLOTLYENV.BASE_URL = 'https://plot.ly';\n",
              "  Plotly.newPlot(\n",
              "  \"85a6c76e2061445d9a1feb4b06f879c3\",\n",
              "  [{\"type\": \"bar\", \"x\": [\"level11\", \"level12\", \"level13\"], \"y\": [-5.189603833727996, 3.1491505731831335, 4.714316451095053], \"error_y\": {\"type\": \"data\", \"array\": [1.1727247450632299, 1.4604898141991358, 1.4325778232395079]}, \"name\": \"factor1\", \"xaxis\": \"x1\", \"yaxis\": \"y1\"}, {\"type\": \"bar\", \"x\": [\"level21\", \"level22\"], \"y\": [-1.824052564792233, 2.609810578266641], \"error_y\": {\"type\": \"data\", \"array\": [1.0046610877624595, 1.2017240413184453]}, \"name\": \"factor2\", \"xaxis\": \"x2\", \"yaxis\": \"y1\"}, {\"type\": \"bar\", \"x\": [\"level31\", \"level32\", \"level33\", \"level34\"], \"y\": [-5.03875545194638, 0.9024601414301219, 2.2081042403475726, 6.117804833473199], \"error_y\": {\"type\": \"data\", \"array\": [1.251011588886302, 1.685301999841004, 1.7128426745938259, 1.687163153926784]}, \"name\": \"factor3\", \"xaxis\": \"x3\", \"yaxis\": \"y1\"}],\n",
              "  {\"xaxis1\": {\"domain\": [0.0, 0.2888888888888889], \"anchor\": \"y1\"}, \"yaxis1\": {\"domain\": [0.0, 1.0], \"anchor\": \"x1\"}, \"xaxis2\": {\"domain\": [0.35555555555555557, 0.6444444444444445], \"anchor\": \"free\", \"position\": 0.0}, \"xaxis3\": {\"domain\": [0.7111111111111111, 1.0], \"anchor\": \"free\", \"position\": 0.0}, \"annotations\": [{\"y\": 1.0, \"xref\": \"paper\", \"x\": 0.14444444444444443, \"yref\": \"paper\", \"text\": \"factor1\", \"showarrow\": false, \"font\": {\"size\": 16}, \"xanchor\": \"center\", \"yanchor\": \"bottom\"}, {\"y\": 1.0, \"xref\": \"paper\", \"x\": 0.49999999999999994, \"yref\": \"paper\", \"text\": \"factor2\", \"showarrow\": false, \"font\": {\"size\": 16}, \"xanchor\": \"center\", \"yanchor\": \"bottom\"}, {\"y\": 1.0, \"xref\": \"paper\", \"x\": 0.8555555555555554, \"yref\": \"paper\", \"text\": \"factor3\", \"showarrow\": false, \"font\": {\"size\": 16}, \"xanchor\": \"center\", \"yanchor\": \"bottom\"}], \"showlegend\": false, \"title\": \"Marginal Effects by Factor\", \"yaxis\": {\"title\": \"% better than experiment average\", \"hoverformat\": \".3f\"}},\n",
              "  {\"showLink\": false}\n",
              ");\n",
              "});</script>"
            ]
          },
          "metadata": {},
          "output_type": "display_data"
        }
      ],
      "source": [
        "from ax.plot.marginal_effects import plot_marginal_effects\n",
        "render(plot_marginal_effects(generators[0], 'success_metric'))"
      ]
    }
  ],
  "metadata": {
    "kernelspec": {
      "display_name": "python3",
      "language": "python",
      "name": "python3"
    }
  },
  "nbformat": 4,
  "nbformat_minor": 2
}
