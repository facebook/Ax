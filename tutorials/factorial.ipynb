{
  "cells": [
    {
      "cell_type": "markdown",
      "metadata": {
        "collapsed": true
      },
      "source": [
        "# Factorial design with Empirical Bayes and Thompson Sampling"
      ]
    },
    {
      "cell_type": "markdown",
      "metadata": {},
      "source": [
        "<markdowncell>\n",
        "This tutorial illustrates how to run a factorial experiment.\n",
        "We use Empirical Bayes to model the data and Thompson Sampling to generate\n",
        "arms."
      ]
    },
    {
      "cell_type": "code",
      "execution_count": 1,
      "metadata": {
        "collapsed": true
      },
      "outputs": [],
      "source": [
        "import pandas as pd\n",
        "from typing import Dict, Optional, Tuple, Union\n",
        "from ax.api import (\n",
        "    ChoiceParameter,\n",
        "    Arm,\n",
        "    ParameterType,\n",
        "    SearchSpace,\n",
        "    SimpleExperiment,\n",
        "    modelbridge,\n",
        ")\n",
        "from ax.metrics.factorial import (\n",
        "    evaluation_function as factorial_metric_evaluation_function,\n",
        ")\n",
        "from ax.plot.scatter import plot_fitted\n",
        "from ax.utils.notebook.plotting import render, init_notebook_plotting"
      ]
    },
    {
      "cell_type": "code",
      "execution_count": 2,
      "metadata": {},
      "outputs": [
        {
          "data": {
            "text/html": [
              "<script type='text/javascript'>requirejs.config({\n",
              "  paths: {\n",
              "    plotly: ['https://cdn.plot.ly/plotly-latest.min'],\n",
              "  },\n",
              "});\n",
              "if (!window.Plotly) {\n",
              "  require(['plotly'], function(plotly) {\n",
              "    window.Plotly = plotly;\n",
              "  });\n",
              "}\n",
              "// helper functions used across multiple plots\n",
              "function rgb(rgb_array) {\n",
              "  return 'rgb(' + rgb_array.join() + ')';\n",
              "}\n",
              "\n",
              "function copy_and_reverse(arr) {\n",
              "  const copy = arr.slice();\n",
              "  copy.reverse();\n",
              "  return copy;\n",
              "}\n",
              "\n",
              "function axis_range(grid, is_log) {\n",
              "  return is_log ?\n",
              "    [Math.log10(Math.min(...grid)), Math.log10(Math.max(...grid))]:\n",
              "    [Math.min(...grid), Math.max(...grid)];\n",
              "}\n",
              "\n",
              "function relativize_data(f, sd, rel, arm_data, metric) {\n",
              "  // if relative, extract status quo & compute ratio\n",
              "  const f_final = rel === true ? [] : f;\n",
              "  const sd_final = rel === true ? []: sd;\n",
              "\n",
              "  if (rel === true) {\n",
              "    const f_sq = (\n",
              "      arm_data['in_sample'][arm_data['status_quo_name']]['y'][metric]\n",
              "    );\n",
              "    const sd_sq = (\n",
              "      arm_data['in_sample'][arm_data['status_quo_name']]['se'][metric]\n",
              "    );\n",
              "\n",
              "    for (let i = 0; i < f.length; i++) {\n",
              "      res = relativize(f[i], sd[i], f_sq, sd_sq);\n",
              "      f_final.push(100 * res[0]);\n",
              "      sd_final.push(100 * res[1]);\n",
              "    }\n",
              "  }\n",
              "\n",
              "  return [f_final, sd_final];\n",
              "}\n",
              "\n",
              "function relativize(m_t, sem_t, m_c, sem_c) {\n",
              "  r_hat = (\n",
              "    (m_t - m_c) / Math.abs(m_c) -\n",
              "    Math.pow(sem_c, 2) * m_t / Math.pow(Math.abs(m_c), 3)\n",
              "  );\n",
              "  variance = (\n",
              "    (Math.pow(sem_t, 2) + Math.pow((m_t / m_c * sem_c), 2)) /\n",
              "    Math.pow(m_c, 2)\n",
              "   )\n",
              "   return [r_hat, Math.sqrt(variance)];\n",
              "}\n",
              "</script>"
            ]
          },
          "metadata": {},
          "output_type": "display_data"
        },
        {
          "name": "stderr",
          "output_type": "stream",
          "text": [
            "[INFO 03-15 16:33:48] ipy_plotting: Injecting Plotly library into cell. Do not overwrite or delete cell.\n"
          ]
        }
      ],
      "source": [
        "init_notebook_plotting()"
      ]
    },
    {
      "cell_type": "markdown",
      "metadata": {},
      "source": [
        "<markdowncell>\n",
        "First, we define our search space. In this example we have three parameters,\n",
        "each of which has a set of possible string values."
      ]
    },
    {
      "cell_type": "code",
      "execution_count": 3,
      "metadata": {
        "collapsed": true
      },
      "outputs": [],
      "source": [
        "search_space = SearchSpace(\n",
        "    parameters=[\n",
        "        ChoiceParameter(\n",
        "            name=\"factor1\",\n",
        "            parameter_type=ParameterType.STRING,\n",
        "            values=[\"level11\", \"level12\", \"level13\"],\n",
        "        ),\n",
        "        ChoiceParameter(\n",
        "            name=\"factor2\",\n",
        "            parameter_type=ParameterType.STRING,\n",
        "            values=[\"level21\", \"level22\"],\n",
        "        ),\n",
        "        ChoiceParameter(\n",
        "            name=\"factor3\",\n",
        "            parameter_type=ParameterType.STRING,\n",
        "            values=[\"level31\", \"level32\", \"level33\", \"level34\"],\n",
        "        ),\n",
        "    ]\n",
        ")"
      ]
    },
    {
      "cell_type": "markdown",
      "metadata": {},
      "source": [
        "<markdowncell>\n",
        "Second, we define an evaluation function, which is responsible for computing\n",
        "the mean and standard error of a given parameterization. In this example,\n",
        "each possible parameter value is given a weight, and the mean of a parameterization\n",
        "is determined by the weights of its values. The higher the weights, the greater\n",
        "the mean."
      ]
    },
    {
      "cell_type": "code",
      "execution_count": 4,
      "metadata": {
        "collapsed": true
      },
      "outputs": [],
      "source": [
        "def factorial_evaluation_function(\n",
        "    # `parameterization` is a dict of parameter names to values of those parameters.\n",
        "    parameterization: Dict[str, Optional[Union[str, bool, float]]],\n",
        "    # `weight` is the weight of the parameterization, which is used to determine the variance of the estimate\n",
        "    weight: Optional[float] = None,\n",
        ") -> Dict[str, Tuple[float, float]]:  # dict of metric names to tuple of mean and standard error.\n",
        "    coefficients = {\n",
        "        \"factor1\": {\"level11\": 0.1, \"level12\": 0.2, \"level13\": 0.3},\n",
        "        \"factor2\": {\"level21\": 0.1, \"level22\": 0.2},\n",
        "        \"factor3\": {\"level31\": 0.1, \"level32\": 0.2, \"level33\": 0.3, \"level34\": 0.4},\n",
        "    }\n",
        "    return {\n",
        "        \"success_metric\": factorial_metric_evaluation_function(\n",
        "            parameterization=parameterization, coefficients=coefficients, weight=weight\n",
        "        )\n",
        "    }"
      ]
    },
    {
      "cell_type": "markdown",
      "metadata": {},
      "source": [
        "<markdowncell>\n",
        "We now set up our experiment and define the status quo arm."
      ]
    },
    {
      "cell_type": "code",
      "execution_count": 5,
      "metadata": {
        "collapsed": true
      },
      "outputs": [],
      "source": [
        "exp = SimpleExperiment(\n",
        "    name=\"my_factorial_closed_loop_experiment\",\n",
        "    search_space=search_space,\n",
        "    evaluation_function=factorial_evaluation_function,\n",
        "    objective_name=\"success_metric\",\n",
        ")\n",
        "exp.status_quo = Arm(\n",
        "    params={\"factor1\": \"level11\", \"factor2\": \"level21\", \"factor3\": \"level31\"}\n",
        ")"
      ]
    },
    {
      "cell_type": "markdown",
      "metadata": {},
      "source": [
        "<markdowncell>\n",
        "We generate an initial batch that explores the full space of the factorial\n",
        "design, including the status quo. Note that the status quo gets a weight of 5x\n",
        "relative to the other arms since it is within the search space of the\n",
        "FullFactorial generator."
      ]
    },
    {
      "cell_type": "code",
      "execution_count": 6,
      "metadata": {
        "collapsed": true
      },
      "outputs": [],
      "source": [
        "factorial_generator = modelbridge.get_factorial(search_space=exp.search_space)\n",
        "factorial_run = factorial_generator.gen(n=-1)\n",
        "trial = (\n",
        "    exp.new_batch_trial()\n",
        "    .add_generator_run(factorial_run, multiplier=1)\n",
        "    .add_arms_and_weights(arms=[exp.status_quo], multiplier=4)\n",
        ")"
      ]
    },
    {
      "cell_type": "markdown",
      "metadata": {},
      "source": [
        "<markdowncell>\n",
        "We use Thompson sampling with batched updates to give more weight to best-performing arms while balancing exploration."
      ]
    },
    {
      "cell_type": "code",
      "execution_count": 7,
      "metadata": {},
      "outputs": [
        {
          "name": "stdout",
          "output_type": "stream",
          "text": [
            "Running iteration 0...\n",
            "Running iteration 1...\n",
            "Running iteration 2...\n",
            "Running iteration 3...\n"
          ]
        }
      ],
      "source": [
        "generators = []\n",
        "for i in range(4):\n",
        "    print(\"Running iteration {}...\".format(i))\n",
        "    data = exp.eval_trial(trial)\n",
        "    thompson_generator = modelbridge.get_thompson(\n",
        "        experiment=exp, data=data, min_weight=0.01\n",
        "    )\n",
        "    generators.append(thompson_generator)\n",
        "    thompson_run = thompson_generator.gen(n=-1)\n",
        "    trial = exp.new_batch_trial().add_generator_run(thompson_run)"
      ]
    },
    {
      "cell_type": "markdown",
      "metadata": {},
      "source": [
        "<markdowncell>\n",
        "The following plots shows the predicted value of our objective for the arms in each trial. Over time, we hone in on the parameterizations with the highest values. "
      ]
    },
    {
      "cell_type": "code",
      "execution_count": 8,
      "metadata": {},
      "outputs": [
        {
          "data": {
            "text/html": [
              "<div id=\"b49feeef570841fdbb87132520b5e952\" style=\"width: 100%;\" class=\"plotly-graph-div\"></div><script type='text/javascript'>require(['plotly'], function(Plotly) {\n",
              "  window.PLOTLYENV = window.PLOTLYENV || {};\n",
              "  window.PLOTLYENV.BASE_URL = 'https://plot.ly';\n",
              "  Plotly.newPlot(\n",
              "  \"b49feeef570841fdbb87132520b5e952\",\n",
              "  [{\"type\": \"scatter\", \"x\": [\"0_0\", \"0_1\", \"0_10\", \"0_11\", \"0_12\", \"0_13\", \"0_14\", \"0_15\", \"0_16\", \"0_17\", \"0_18\", \"0_19\", \"0_2\", \"0_20\", \"0_21\", \"0_22\", \"0_3\", \"0_4\", \"0_5\", \"0_6\", \"0_7\", \"0_8\", \"0_9\", \"status_quo\"], \"y\": [0.5891238670694864, 0.6127167630057804, 0.5962145110410094, 0.6260869565217392, 0.6393939393939394, 0.6797583081570997, 0.7134328358208956, 0.6, 0.6755162241887905, 0.6646884272997032, 0.717201166180758, 0.6106194690265486, 0.6850152905198776, 0.6797583081570997, 0.6758409785932722, 0.6878787878787879, 0.5981012658227848, 0.6428571428571429, 0.6805970149253732, 0.7168141592920354, 0.5855855855855856, 0.6267029972752044, 0.6738461538461539, 0.5611714690599906], \"marker\": {\"color\": \"rgba(128,177,211,1)\"}, \"mode\": \"markers\", \"name\": \"In-sample\", \"text\": [\"<b>Arm 0_0</b><br><br>success_metric: 0.589 [0.536, 0.642]<br><br><em>Parameterization:</em><br>factor1: level11<br>factor2: level21<br>factor3: level32\", \"<b>Arm 0_1</b><br><br>success_metric: 0.613 [0.561, 0.664]<br><br><em>Parameterization:</em><br>factor1: level11<br>factor2: level21<br>factor3: level33\", \"<b>Arm 0_10</b><br><br>success_metric: 0.596 [0.542, 0.650]<br><br><em>Parameterization:</em><br>factor1: level12<br>factor2: level21<br>factor3: level34\", \"<b>Arm 0_11</b><br><br>success_metric: 0.626 [0.575, 0.677]<br><br><em>Parameterization:</em><br>factor1: level12<br>factor2: level22<br>factor3: level31\", \"<b>Arm 0_12</b><br><br>success_metric: 0.639 [0.588, 0.691]<br><br><em>Parameterization:</em><br>factor1: level12<br>factor2: level22<br>factor3: level32\", \"<b>Arm 0_13</b><br><br>success_metric: 0.68 [0.629, 0.730]<br><br><em>Parameterization:</em><br>factor1: level12<br>factor2: level22<br>factor3: level33\", \"<b>Arm 0_14</b><br><br>success_metric: 0.713 [0.665, 0.762]<br><br><em>Parameterization:</em><br>factor1: level12<br>factor2: level22<br>factor3: level34\", \"<b>Arm 0_15</b><br><br>success_metric: 0.6 [0.548, 0.652]<br><br><em>Parameterization:</em><br>factor1: level13<br>factor2: level21<br>factor3: level31\", \"<b>Arm 0_16</b><br><br>success_metric: 0.676 [0.626, 0.725]<br><br><em>Parameterization:</em><br>factor1: level13<br>factor2: level21<br>factor3: level32\", \"<b>Arm 0_17</b><br><br>success_metric: 0.665 [0.614, 0.715]<br><br><em>Parameterization:</em><br>factor1: level13<br>factor2: level21<br>factor3: level33\", \"<b>Arm 0_18</b><br><br>success_metric: 0.717 [0.669, 0.765]<br><br><em>Parameterization:</em><br>factor1: level13<br>factor2: level21<br>factor3: level34\", \"<b>Arm 0_19</b><br><br>success_metric: 0.611 [0.559, 0.663]<br><br><em>Parameterization:</em><br>factor1: level13<br>factor2: level22<br>factor3: level31\", \"<b>Arm 0_2</b><br><br>success_metric: 0.685 [0.635, 0.735]<br><br><em>Parameterization:</em><br>factor1: level11<br>factor2: level21<br>factor3: level34\", \"<b>Arm 0_20</b><br><br>success_metric: 0.68 [0.629, 0.730]<br><br><em>Parameterization:</em><br>factor1: level13<br>factor2: level22<br>factor3: level32\", \"<b>Arm 0_21</b><br><br>success_metric: 0.676 [0.625, 0.727]<br><br><em>Parameterization:</em><br>factor1: level13<br>factor2: level22<br>factor3: level33\", \"<b>Arm 0_22</b><br><br>success_metric: 0.688 [0.638, 0.738]<br><br><em>Parameterization:</em><br>factor1: level13<br>factor2: level22<br>factor3: level34\", \"<b>Arm 0_3</b><br><br>success_metric: 0.598 [0.544, 0.652]<br><br><em>Parameterization:</em><br>factor1: level11<br>factor2: level22<br>factor3: level31\", \"<b>Arm 0_4</b><br><br>success_metric: 0.643 [0.592, 0.694]<br><br><em>Parameterization:</em><br>factor1: level11<br>factor2: level22<br>factor3: level32\", \"<b>Arm 0_5</b><br><br>success_metric: 0.681 [0.631, 0.731]<br><br><em>Parameterization:</em><br>factor1: level11<br>factor2: level22<br>factor3: level33\", \"<b>Arm 0_6</b><br><br>success_metric: 0.717 [0.669, 0.765]<br><br><em>Parameterization:</em><br>factor1: level11<br>factor2: level22<br>factor3: level34\", \"<b>Arm 0_7</b><br><br>success_metric: 0.586 [0.533, 0.639]<br><br><em>Parameterization:</em><br>factor1: level12<br>factor2: level21<br>factor3: level31\", \"<b>Arm 0_8</b><br><br>success_metric: 0.627 [0.577, 0.676]<br><br><em>Parameterization:</em><br>factor1: level12<br>factor2: level21<br>factor3: level32\", \"<b>Arm 0_9</b><br><br>success_metric: 0.674 [0.623, 0.725]<br><br><em>Parameterization:</em><br>factor1: level12<br>factor2: level21<br>factor3: level33\", \"<b>Arm status_quo</b><br><br>success_metric: 0.561 [0.540, 0.582]<br><br><em>Parameterization:</em><br>factor1: level11<br>factor2: level21<br>factor3: level31\"], \"hoverinfo\": \"text\", \"error_y\": {\"type\": \"data\", \"array\": [0.05302368707524901, 0.051360154142350574, 0.05403930658019228, 0.05109577508828295, 0.05186031155300596, 0.050352620073175744, 0.04854623219405548, 0.052486962809467456, 0.04992029044617117, 0.0504765753182261, 0.04778845326605104, 0.05193828970065995, 0.050443251215837925, 0.050352620073175744, 0.05081811018158517, 0.050091614001135765, 0.0540846583331123, 0.05128798983005067, 0.05001625109438872, 0.04809037706009084, 0.052929913548746266, 0.04952226755350118, 0.051053615999795694, 0.02113991783620273], \"color\": \"rgba(128,177,211,0.4)\"}, \"visible\": true, \"legendgroup\": \"In-sample\", \"showlegend\": true}],\n",
              "  {\"title\": \"Predicted Outcomes\", \"hovermode\": \"closest\", \"updatemenus\": [{\"x\": 1.25, \"y\": 0.67, \"buttons\": [{\"args\": [{\"xaxis.categoryorder\": \"array\", \"xaxis.categoryarray\": [\"status_quo\", \"0_0\", \"0_1\", \"0_2\", \"0_3\", \"0_4\", \"0_5\", \"0_6\", \"0_7\", \"0_8\", \"0_9\", \"0_10\", \"0_11\", \"0_12\", \"0_13\", \"0_14\", \"0_15\", \"0_16\", \"0_17\", \"0_18\", \"0_19\", \"0_20\", \"0_21\", \"0_22\"]}], \"label\": \"Name\", \"method\": \"relayout\"}, {\"args\": [{\"xaxis.categoryorder\": \"array\", \"xaxis.categoryarray\": [\"status_quo\", \"0_7\", \"0_0\", \"0_10\", \"0_3\", \"0_15\", \"0_19\", \"0_1\", \"0_11\", \"0_8\", \"0_12\", \"0_4\", \"0_17\", \"0_9\", \"0_16\", \"0_21\", \"0_13\", \"0_20\", \"0_5\", \"0_2\", \"0_22\", \"0_14\", \"0_6\", \"0_18\"]}], \"label\": \"Effect Size\", \"method\": \"relayout\"}], \"yanchor\": \"middle\", \"xanchor\": \"left\"}], \"yaxis\": {\"zerolinecolor\": \"red\", \"title\": \"success_metric\"}, \"xaxis\": {\"tickangle\": 45, \"categoryorder\": \"array\", \"categoryarray\": [\"status_quo\", \"0_0\", \"0_1\", \"0_2\", \"0_3\", \"0_4\", \"0_5\", \"0_6\", \"0_7\", \"0_8\", \"0_9\", \"0_10\", \"0_11\", \"0_12\", \"0_13\", \"0_14\", \"0_15\", \"0_16\", \"0_17\", \"0_18\", \"0_19\", \"0_20\", \"0_21\", \"0_22\"]}, \"annotations\": [{\"x\": 1.18, \"y\": 0.72, \"xref\": \"paper\", \"yref\": \"paper\", \"text\": \"Sort By\", \"showarrow\": false, \"yanchor\": \"middle\"}], \"font\": {\"size\": 10}},\n",
              "  {\"showLink\": false}\n",
              ");\n",
              "});</script>"
            ]
          },
          "metadata": {},
          "output_type": "display_data"
        },
        {
          "data": {
            "text/html": [
              "<div id=\"b277dc8b9cf0419aab235c43401d7287\" style=\"width: 100%;\" class=\"plotly-graph-div\"></div><script type='text/javascript'>require(['plotly'], function(Plotly) {\n",
              "  window.PLOTLYENV = window.PLOTLYENV || {};\n",
              "  window.PLOTLYENV.BASE_URL = 'https://plot.ly';\n",
              "  Plotly.newPlot(\n",
              "  \"b277dc8b9cf0419aab235c43401d7287\",\n",
              "  [{\"type\": \"scatter\", \"x\": [\"0_13\", \"0_14\", \"0_16\", \"0_18\", \"0_2\", \"0_20\", \"0_21\", \"0_22\", \"0_5\", \"0_6\", \"0_9\", \"status_quo\"], \"y\": [0.6787330316742082, 0.692018779342723, 0.6888888888888889, 0.6678240740740741, 0.6462395543175488, 0.612565445026178, 0.71875, 0.6906976744186046, 0.6200873362445415, 0.6647081864473169, 0.6568047337278107, 0.5596026490066225], \"marker\": {\"color\": \"rgba(128,177,211,1)\"}, \"mode\": \"markers\", \"name\": \"In-sample\", \"text\": [\"<b>Arm 0_13</b><br><br>success_metric: 0.679 [0.617, 0.740]<br><br><em>Parameterization:</em><br>factor1: level12<br>factor2: level22<br>factor3: level33\", \"<b>Arm 0_14</b><br><br>success_metric: 0.692 [0.672, 0.712]<br><br><em>Parameterization:</em><br>factor1: level12<br>factor2: level22<br>factor3: level34\", \"<b>Arm 0_16</b><br><br>success_metric: 0.689 [0.610, 0.767]<br><br><em>Parameterization:</em><br>factor1: level13<br>factor2: level21<br>factor3: level32\", \"<b>Arm 0_18</b><br><br>success_metric: 0.668 [0.650, 0.686]<br><br><em>Parameterization:</em><br>factor1: level13<br>factor2: level21<br>factor3: level34\", \"<b>Arm 0_2</b><br><br>success_metric: 0.646 [0.597, 0.696]<br><br><em>Parameterization:</em><br>factor1: level11<br>factor2: level21<br>factor3: level34\", \"<b>Arm 0_20</b><br><br>success_metric: 0.613 [0.543, 0.682]<br><br><em>Parameterization:</em><br>factor1: level13<br>factor2: level22<br>factor3: level32\", \"<b>Arm 0_21</b><br><br>success_metric: 0.719 [0.649, 0.789]<br><br><em>Parameterization:</em><br>factor1: level13<br>factor2: level22<br>factor3: level33\", \"<b>Arm 0_22</b><br><br>success_metric: 0.691 [0.647, 0.734]<br><br><em>Parameterization:</em><br>factor1: level13<br>factor2: level22<br>factor3: level34\", \"<b>Arm 0_5</b><br><br>success_metric: 0.62 [0.557, 0.683]<br><br><em>Parameterization:</em><br>factor1: level11<br>factor2: level22<br>factor3: level33\", \"<b>Arm 0_6</b><br><br>success_metric: 0.665 [0.646, 0.683]<br><br><em>Parameterization:</em><br>factor1: level11<br>factor2: level22<br>factor3: level34\", \"<b>Arm 0_9</b><br><br>success_metric: 0.657 [0.585, 0.729]<br><br><em>Parameterization:</em><br>factor1: level12<br>factor2: level21<br>factor3: level33\", \"<b>Arm status_quo</b><br><br>success_metric: 0.56 [0.527, 0.592]<br><br><em>Parameterization:</em><br>factor1: level11<br>factor2: level21<br>factor3: level31\"], \"hoverinfo\": \"text\", \"error_y\": {\"type\": \"data\", \"array\": [0.061724934881847944, 0.0196122752654715, 0.07846256975244084, 0.018135877090183484, 0.049511377100288835, 0.06916478849442102, 0.07006386512541053, 0.04375569560970421, 0.06293013429257265, 0.018316406328441066, 0.07175984018936105, 0.03232820993368828], \"color\": \"rgba(128,177,211,0.4)\"}, \"visible\": true, \"legendgroup\": \"In-sample\", \"showlegend\": true}],\n",
              "  {\"title\": \"Predicted Outcomes\", \"hovermode\": \"closest\", \"updatemenus\": [{\"x\": 1.25, \"y\": 0.67, \"buttons\": [{\"args\": [{\"xaxis.categoryorder\": \"array\", \"xaxis.categoryarray\": [\"status_quo\", \"0_2\", \"0_5\", \"0_6\", \"0_9\", \"0_13\", \"0_14\", \"0_16\", \"0_18\", \"0_20\", \"0_21\", \"0_22\"]}], \"label\": \"Name\", \"method\": \"relayout\"}, {\"args\": [{\"xaxis.categoryorder\": \"array\", \"xaxis.categoryarray\": [\"status_quo\", \"0_20\", \"0_5\", \"0_2\", \"0_9\", \"0_6\", \"0_18\", \"0_13\", \"0_16\", \"0_22\", \"0_14\", \"0_21\"]}], \"label\": \"Effect Size\", \"method\": \"relayout\"}], \"yanchor\": \"middle\", \"xanchor\": \"left\"}], \"yaxis\": {\"zerolinecolor\": \"red\", \"title\": \"success_metric\"}, \"xaxis\": {\"tickangle\": 45, \"categoryorder\": \"array\", \"categoryarray\": [\"status_quo\", \"0_2\", \"0_5\", \"0_6\", \"0_9\", \"0_13\", \"0_14\", \"0_16\", \"0_18\", \"0_20\", \"0_21\", \"0_22\"]}, \"annotations\": [{\"x\": 1.18, \"y\": 0.72, \"xref\": \"paper\", \"yref\": \"paper\", \"text\": \"Sort By\", \"showarrow\": false, \"yanchor\": \"middle\"}], \"font\": {\"size\": 10}},\n",
              "  {\"showLink\": false}\n",
              ");\n",
              "});</script>"
            ]
          },
          "metadata": {},
          "output_type": "display_data"
        },
        {
          "data": {
            "text/html": [
              "<div id=\"38113c2333ae46a79a9080fb4c7114f4\" style=\"width: 100%;\" class=\"plotly-graph-div\"></div><script type='text/javascript'>require(['plotly'], function(Plotly) {\n",
              "  window.PLOTLYENV = window.PLOTLYENV || {};\n",
              "  window.PLOTLYENV.BASE_URL = 'https://plot.ly';\n",
              "  Plotly.newPlot(\n",
              "  \"38113c2333ae46a79a9080fb4c7114f4\",\n",
              "  [{\"type\": \"scatter\", \"x\": [\"0_13\", \"0_14\", \"0_16\", \"0_21\", \"0_22\", \"0_9\", \"status_quo\"], \"y\": [0.6860119047619048, 0.6658823529411765, 0.6322657176749703, 0.6974267968056788, 0.6990291262135923, 0.6786786786786787, 0.5591322603219034], \"marker\": {\"color\": \"rgba(128,177,211,1)\"}, \"mode\": \"markers\", \"name\": \"In-sample\", \"text\": [\"<b>Arm 0_13</b><br><br>success_metric: 0.686 [0.651, 0.721]<br><br><em>Parameterization:</em><br>factor1: level12<br>factor2: level22<br>factor3: level33\", \"<b>Arm 0_14</b><br><br>success_metric: 0.666 [0.621, 0.711]<br><br><em>Parameterization:</em><br>factor1: level12<br>factor2: level22<br>factor3: level34\", \"<b>Arm 0_16</b><br><br>success_metric: 0.632 [0.609, 0.655]<br><br><em>Parameterization:</em><br>factor1: level13<br>factor2: level21<br>factor3: level32\", \"<b>Arm 0_21</b><br><br>success_metric: 0.697 [0.684, 0.711]<br><br><em>Parameterization:</em><br>factor1: level13<br>factor2: level22<br>factor3: level33\", \"<b>Arm 0_22</b><br><br>success_metric: 0.699 [0.669, 0.729]<br><br><em>Parameterization:</em><br>factor1: level13<br>factor2: level22<br>factor3: level34\", \"<b>Arm 0_9</b><br><br>success_metric: 0.679 [0.628, 0.729]<br><br><em>Parameterization:</em><br>factor1: level12<br>factor2: level21<br>factor3: level33\", \"<b>Arm status_quo</b><br><br>success_metric: 0.559 [0.533, 0.585]<br><br><em>Parameterization:</em><br>factor1: level11<br>factor2: level21<br>factor3: level31\"], \"hoverinfo\": \"text\", \"error_y\": {\"type\": \"data\", \"array\": [0.03512408634614148, 0.044896035236038384, 0.023020852397175107, 0.013412191185899744, 0.02955128440164707, 0.05024406007421245, 0.025743557613474043], \"color\": \"rgba(128,177,211,0.4)\"}, \"visible\": true, \"legendgroup\": \"In-sample\", \"showlegend\": true}],\n",
              "  {\"title\": \"Predicted Outcomes\", \"hovermode\": \"closest\", \"updatemenus\": [{\"x\": 1.25, \"y\": 0.67, \"buttons\": [{\"args\": [{\"xaxis.categoryorder\": \"array\", \"xaxis.categoryarray\": [\"status_quo\", \"0_9\", \"0_13\", \"0_14\", \"0_16\", \"0_21\", \"0_22\"]}], \"label\": \"Name\", \"method\": \"relayout\"}, {\"args\": [{\"xaxis.categoryorder\": \"array\", \"xaxis.categoryarray\": [\"status_quo\", \"0_16\", \"0_14\", \"0_9\", \"0_13\", \"0_21\", \"0_22\"]}], \"label\": \"Effect Size\", \"method\": \"relayout\"}], \"yanchor\": \"middle\", \"xanchor\": \"left\"}], \"yaxis\": {\"zerolinecolor\": \"red\", \"title\": \"success_metric\"}, \"xaxis\": {\"tickangle\": 45, \"categoryorder\": \"array\", \"categoryarray\": [\"status_quo\", \"0_9\", \"0_13\", \"0_14\", \"0_16\", \"0_21\", \"0_22\"]}, \"annotations\": [{\"x\": 1.18, \"y\": 0.72, \"xref\": \"paper\", \"yref\": \"paper\", \"text\": \"Sort By\", \"showarrow\": false, \"yanchor\": \"middle\"}], \"font\": {\"size\": 10}},\n",
              "  {\"showLink\": false}\n",
              ");\n",
              "});</script>"
            ]
          },
          "metadata": {},
          "output_type": "display_data"
        },
        {
          "data": {
            "text/html": [
              "<div id=\"b4d4adfa04bf43fdb77ef9b929784e95\" style=\"width: 100%;\" class=\"plotly-graph-div\"></div><script type='text/javascript'>require(['plotly'], function(Plotly) {\n",
              "  window.PLOTLYENV = window.PLOTLYENV || {};\n",
              "  window.PLOTLYENV.BASE_URL = 'https://plot.ly';\n",
              "  Plotly.newPlot(\n",
              "  \"b4d4adfa04bf43fdb77ef9b929784e95\",\n",
              "  [{\"type\": \"scatter\", \"x\": [\"0_13\", \"0_14\", \"0_21\", \"0_22\", \"0_9\", \"status_quo\"], \"y\": [0.7034596375617792, 0.703030303030303, 0.6990595611285266, 0.7078484034616532, 0.6511987625676721, 0.5693865396069089], \"marker\": {\"color\": \"rgba(128,177,211,1)\"}, \"mode\": \"markers\", \"name\": \"In-sample\", \"text\": [\"<b>Arm 0_13</b><br><br>success_metric: 0.703 [0.678, 0.729]<br><br><em>Parameterization:</em><br>factor1: level12<br>factor2: level22<br>factor3: level33\", \"<b>Arm 0_14</b><br><br>success_metric: 0.703 [0.654, 0.752]<br><br><em>Parameterization:</em><br>factor1: level12<br>factor2: level22<br>factor3: level34\", \"<b>Arm 0_21</b><br><br>success_metric: 0.699 [0.680, 0.718]<br><br><em>Parameterization:</em><br>factor1: level13<br>factor2: level22<br>factor3: level33\", \"<b>Arm 0_22</b><br><br>success_metric: 0.708 [0.692, 0.723]<br><br><em>Parameterization:</em><br>factor1: level13<br>factor2: level22<br>factor3: level34\", \"<b>Arm 0_9</b><br><br>success_metric: 0.651 [0.625, 0.677]<br><br><em>Parameterization:</em><br>factor1: level12<br>factor2: level21<br>factor3: level33\", \"<b>Arm status_quo</b><br><br>success_metric: 0.569 [0.546, 0.593]<br><br><em>Parameterization:</em><br>factor1: level11<br>factor2: level21<br>factor3: level31\"], \"hoverinfo\": \"text\", \"error_y\": {\"type\": \"data\", \"array\": [0.025709321029743663, 0.0494152006679204, 0.019030717523942507, 0.015401080608140683, 0.02598586375838741, 0.023686362152434345], \"color\": \"rgba(128,177,211,0.4)\"}, \"visible\": true, \"legendgroup\": \"In-sample\", \"showlegend\": true}],\n",
              "  {\"title\": \"Predicted Outcomes\", \"hovermode\": \"closest\", \"updatemenus\": [{\"x\": 1.25, \"y\": 0.67, \"buttons\": [{\"args\": [{\"xaxis.categoryorder\": \"array\", \"xaxis.categoryarray\": [\"status_quo\", \"0_9\", \"0_13\", \"0_14\", \"0_21\", \"0_22\"]}], \"label\": \"Name\", \"method\": \"relayout\"}, {\"args\": [{\"xaxis.categoryorder\": \"array\", \"xaxis.categoryarray\": [\"status_quo\", \"0_9\", \"0_21\", \"0_14\", \"0_13\", \"0_22\"]}], \"label\": \"Effect Size\", \"method\": \"relayout\"}], \"yanchor\": \"middle\", \"xanchor\": \"left\"}], \"yaxis\": {\"zerolinecolor\": \"red\", \"title\": \"success_metric\"}, \"xaxis\": {\"tickangle\": 45, \"categoryorder\": \"array\", \"categoryarray\": [\"status_quo\", \"0_9\", \"0_13\", \"0_14\", \"0_21\", \"0_22\"]}, \"annotations\": [{\"x\": 1.18, \"y\": 0.72, \"xref\": \"paper\", \"yref\": \"paper\", \"text\": \"Sort By\", \"showarrow\": false, \"yanchor\": \"middle\"}], \"font\": {\"size\": 10}},\n",
              "  {\"showLink\": false}\n",
              ");\n",
              "});</script>"
            ]
          },
          "metadata": {},
          "output_type": "display_data"
        }
      ],
      "source": [
        "for generator in generators:\n",
        "    render(plot_fitted(generator, metric=\"success_metric\", rel=False))"
      ]
    },
    {
      "cell_type": "markdown",
      "metadata": {},
      "source": [
        "<markdowncell>\n",
        "As expected given our evaluation function, parameterizations with higher levels\n",
        "perform better and are given higher weight. Below we see the parameterizations \n",
        "that made it to the final trial (along with the status quo)."
      ]
    },
    {
      "cell_type": "code",
      "execution_count": 9,
      "metadata": {},
      "outputs": [
        {
          "name": "stdout",
          "output_type": "stream",
          "text": [
            "                    values   weight\n",
            "0  level12,level22,level34  0.29200\n",
            "1  level13,level22,level34  0.25144\n",
            "2  level12,level22,level33  0.18488\n",
            "3  level13,level22,level33  0.07168\n",
            "4  level11,level21,level31  0.20000\n"
          ]
        }
      ],
      "source": [
        "results = pd.DataFrame(\n",
        "    [\n",
        "        {\"values\": \",\".join(arm.params.values()), \"weight\": weight}\n",
        "        for arm, weight in trial.normalized_arm_weights().items()\n",
        "    ]\n",
        ")\n",
        "print(results)"
      ]
    }
  ],
  "metadata": {
    "kernelspec": {
      "display_name": "python3",
      "language": "python",
      "name": "python3"
    }
  },
  "nbformat": 4,
  "nbformat_minor": 2
}
