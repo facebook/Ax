{
 "cells": [
  {
   "cell_type": "markdown",
   "metadata": {
    "collapsed": true,
    "originalKey": "11c796cc-b85d-4940-8b15-cc43257f2f6f"
   },
   "source": [
    "# Factorial design with empirical Bayes and Thompson Sampling"
   ]
  },
  {
   "cell_type": "markdown",
   "metadata": {
    "originalKey": "8a8399a7-2159-4c29-a614-496e40142b0e"
   },
   "source": [
    "<markdowncell>\n",
    "This tutorial illustrates how to run a factorial experiment. In such an experiment, each parameter (factor) can be assigned one of multiple discrete values (levels). A full-factorial experiment design explores all possible combinations of factors and levels.\n",
    "\n",
    "For instance, consider a banner with a title and an image. We are considering two different titles and three different images. A full-factorial experiment will compare all 2*3=6 possible combinations of title and image, to see which version of the banner performs the best.\n",
    "\n",
    "In this example, we first run an exploratory batch to collect data on all possible combinations. Then we use empirical Bayes to model the data and shrink noisy estimates toward the mean. Next, we use Thompson Sampling to suggest a set of arms (combinations of factors and levels) on which to collect more data. We repeat the process until we have identified the best performing combination(s)."
   ]
  },
  {
   "cell_type": "code",
   "execution_count": null,
   "metadata": {
    "ExecuteTime": {
     "end_time": "2019-04-01T16:59:07.844357Z",
     "start_time": "2019-04-01T09:59:06.377921-07:00"
    },
    "code_folding": [],
    "executionStartTime": 1626981053537,
    "executionStopTime": 1626981053715,
    "hidden_ranges": [],
    "originalKey": "4cd9a25a-24ad-478b-8e13-d44dcda79470",
    "requestMsgId": "14098f9a-32b6-44a7-a299-96d926ed0094"
   },
   "outputs": [],
   "source": [
    "import numpy as np\n",
    "import pandas as pd\n",
    "import sklearn as skl\n",
    "from typing import Dict, Optional, Tuple, Union\n",
    "from ax import Arm, ChoiceParameter, Models, ParameterType, SearchSpace, Experiment, OptimizationConfig, Objective\n",
    "from ax.plot.scatter import plot_fitted\n",
    "from ax.utils.notebook.plotting import render, init_notebook_plotting\n",
    "from ax.utils.stats.statstools import agresti_coull_sem"
   ]
  },
  {
   "cell_type": "code",
   "execution_count": null,
   "metadata": {
    "ExecuteTime": {
     "end_time": "2019-04-01T16:59:07.852360Z",
     "start_time": "2019-04-01T09:59:07.846655-07:00"
    },
    "executionStartTime": 1626979627293,
    "executionStopTime": 1626979629392,
    "originalKey": "4b037028-dc23-4ded-97ab-29f322c4e955",
    "requestMsgId": "ba949adc-1e0a-465a-9a5f-cb88406aacb1"
   },
   "outputs": [],
   "source": [
    "init_notebook_plotting()"
   ]
  },
  {
   "cell_type": "markdown",
   "metadata": {
    "originalKey": "178bb166-21ad-4632-980a-ed80cfdef665"
   },
   "source": [
    "## 1. Define the search space"
   ]
  },
  {
   "cell_type": "markdown",
   "metadata": {
    "originalKey": "481d6b12-6bec-4290-a3a9-286452ca969d"
   },
   "source": [
    "<markdowncell>\n",
    "First, we define our search space. A factorial search space contains a ChoiceParameter for each factor, where the values of the parameter are its levels."
   ]
  },
  {
   "cell_type": "code",
   "execution_count": null,
   "metadata": {
    "ExecuteTime": {
     "end_time": "2019-04-01T16:59:07.861686Z",
     "start_time": "2019-04-01T09:59:07.854353-07:00"
    },
    "executionStartTime": 1626981051101,
    "executionStopTime": 1626981051122,
    "originalKey": "1f1e7bb9-d7f5-4d94-8568-6a99dd99ad31",
    "requestMsgId": "f88cb237-fbb3-4cb6-be08-d81b339f6ccb"
   },
   "outputs": [],
   "source": [
    "search_space = SearchSpace(\n",
    "    parameters=[\n",
    "        ChoiceParameter(\n",
    "            name=\"factor1\",\n",
    "            parameter_type=ParameterType.STRING,\n",
    "            values=[\"level11\", \"level12\", \"level13\"],\n",
    "        ),\n",
    "        ChoiceParameter(\n",
    "            name=\"factor2\",\n",
    "            parameter_type=ParameterType.STRING,\n",
    "            values=[\"level21\", \"level22\"],\n",
    "        ),\n",
    "        ChoiceParameter(\n",
    "            name=\"factor3\",\n",
    "            parameter_type=ParameterType.STRING,\n",
    "            values=[\"level31\", \"level32\", \"level33\", \"level34\"],\n",
    "        ),\n",
    "    ]\n",
    ")"
   ]
  },
  {
   "cell_type": "markdown",
   "metadata": {
    "code_folding": [],
    "collapsed": true,
    "hidden_ranges": [],
    "originalKey": "1efa918f-2dc7-484a-9d26-f2c132729364",
    "showInput": true
   },
   "source": [
    "## 2. Define a custom metric"
   ]
  },
  {
   "cell_type": "markdown",
   "metadata": {
    "code_folding": [],
    "hidden_ranges": [],
    "originalKey": "63587acb-5dd2-481c-bc47-b4fb4d59b6ea",
    "showInput": true
   },
   "source": [
    "Second, we define a custom metric, which is responsible for computing\n",
    "the mean and standard error of a given arm.\n",
    "\n",
    "In this example, each possible parameter value is given a coefficient. The higher the level, the higher the coefficient, and the higher the coefficients, the greater the mean.\n",
    "\n",
    "The standard error of each arm is determined by the weight passed into the evaluation function, which represents the size of the population on which this arm was evaluated. The higher the weight, the greater the sample size, and thus the lower the standard error."
   ]
  },
  {
   "cell_type": "code",
   "execution_count": null,
   "metadata": {
    "ExecuteTime": {
     "end_time": "2019-04-01T16:59:07.871141Z",
     "start_time": "2019-04-01T09:59:07.863475-07:00"
    },
    "code_folding": [],
    "executionStartTime": 1626985050014,
    "executionStopTime": 1626985050042,
    "hidden_ranges": [],
    "originalKey": "18b36086-8b22-468e-b661-4aa155fa1731",
    "requestMsgId": "320dd2d7-0b0e-4f30-a622-d61ea619655a"
   },
   "outputs": [],
   "source": [
    "from ax import Data, Metric\n",
    "from ax.utils.common.result import Ok\n",
    "import pandas as pd\n",
    "from random import random\n",
    "\n",
    "\n",
    "one_hot_encoder = skl.preprocessing.OneHotEncoder(\n",
    "    categories=[par.values for par in search_space.parameters.values()], \n",
    ")\n",
    "\n",
    "\n",
    "class FactorialMetric(Metric):\n",
    "    def fetch_trial_data(self, trial):  \n",
    "        records = []\n",
    "        for arm_name, arm in trial.arms_by_name.items():\n",
    "            params = arm.parameters\n",
    "            batch_size = 10000\n",
    "            noise_level = 0.0\n",
    "            weight = trial.normalized_arm_weights().get(arm, 1.0)\n",
    "            coefficients = np.array([\n",
    "                0.1, 0.2, 0.3,\n",
    "                0.1, 0.2,\n",
    "                0.1, 0.2, 0.3, 0.4\n",
    "            ])\n",
    "            features = np.array(list(params.values())).reshape(1, -1)\n",
    "            encoded_features = one_hot_encoder.fit_transform(features)\n",
    "            z = coefficients @ encoded_features.T + np.sqrt(noise_level) * np.random.randn()\n",
    "            p = np.exp(z) / (1 + np.exp(z))\n",
    "            plays = np.random.binomial(batch_size, weight)\n",
    "            successes = np.random.binomial(plays, p)\n",
    "            records.append({\n",
    "                \"arm_name\": arm_name,\n",
    "                \"metric_name\": self.name,\n",
    "                \"trial_index\": trial.index,\n",
    "                \"mean\": float(successes) / plays,\n",
    "                \"sem\": agresti_coull_sem(successes, plays),\n",
    "            })\n",
    "        return Ok(value=Data(df=pd.DataFrame.from_records(records)))"
   ]
  },
  {
   "cell_type": "markdown",
   "metadata": {
    "originalKey": "554b78ab-b22b-4527-b8fe-1bb880d4b5da"
   },
   "source": [
    "## 3. Define the experiment"
   ]
  },
  {
   "cell_type": "markdown",
   "metadata": {
    "originalKey": "6528d970-a599-4a54-a0c2-d537391f2cdd"
   },
   "source": [
    "<markdowncell>\n",
    "We now set up our experiment and define the status quo arm, in which each parameter is assigned to the lowest level."
   ]
  },
  {
   "cell_type": "code",
   "execution_count": null,
   "metadata": {
    "ExecuteTime": {
     "end_time": "2019-04-01T16:59:07.876425Z",
     "start_time": "2019-04-01T09:59:07.872766-07:00"
    },
    "code_folding": [],
    "executionStartTime": 1626985052799,
    "executionStopTime": 1626985052823,
    "hidden_ranges": [],
    "originalKey": "0cfdaace-d333-41e2-8e32-97d529f2e6f6",
    "requestMsgId": "3aba5566-54c8-4c9b-98f5-e5a8cca320be"
   },
   "outputs": [],
   "source": [
    "from ax import Runner\n",
    "\n",
    "\n",
    "class MyRunner(Runner):\n",
    "    def run(self, trial):\n",
    "        trial_metadata = {\"name\": str(trial.index)}\n",
    "        return trial_metadata\n",
    "\n",
    "\n",
    "exp = Experiment(\n",
    "    name=\"my_factorial_closed_loop_experiment\",\n",
    "    search_space=search_space,\n",
    "    optimization_config=OptimizationConfig(\n",
    "        objective=Objective(metric=FactorialMetric(name=\"success_metric\"))\n",
    "    ),\n",
    "    runner=MyRunner(),\n",
    ")\n",
    "exp.status_quo = Arm(\n",
    "    parameters={\"factor1\": \"level11\", \"factor2\": \"level21\", \"factor3\": \"level31\"}\n",
    ")"
   ]
  },
  {
   "cell_type": "markdown",
   "metadata": {
    "originalKey": "af6e0970-7ef7-43d6-bf51-53d49fb3faca"
   },
   "source": [
    "## 4. Run an exploratory batch"
   ]
  },
  {
   "cell_type": "markdown",
   "metadata": {
    "originalKey": "03ece8d9-05e8-467b-af53-7bf6bf27100f"
   },
   "source": [
    "<markdowncell>\n",
    "We then generate an a set of arms that covers the full space of the factorial design, including the status quo. There are three parameters, with two, three, and four values, respectively, so there are 24 possible arms."
   ]
  },
  {
   "cell_type": "code",
   "execution_count": null,
   "metadata": {
    "executionStartTime": 1626985056428,
    "executionStopTime": 1626985056466,
    "originalKey": "336e037d-856c-4b64-9b29-a867c59504f8",
    "requestMsgId": "7d00cd3f-82ec-4280-986c-8d0eebec37fe"
   },
   "outputs": [],
   "source": [
    "factorial = Models.FACTORIAL(search_space=exp.search_space)\n",
    "factorial_run = factorial.gen(n=-1)  # Number of arms to generate is derived from the search space.\n",
    "print(len(factorial_run.arms))"
   ]
  },
  {
   "cell_type": "markdown",
   "metadata": {
    "originalKey": "f333ba26-51e4-4420-9ef2-ce70753e761a"
   },
   "source": [
    "Now we create a trial including all of these arms, so that we can collect data and evaluate the performance of each."
   ]
  },
  {
   "cell_type": "code",
   "execution_count": null,
   "metadata": {
    "executionStartTime": 1626985058790,
    "executionStopTime": 1626985058824,
    "originalKey": "f2827f56-4047-400d-b04a-abe54c92f741",
    "requestMsgId": "a437ff61-38f1-431e-a3e7-db6201a815a9"
   },
   "outputs": [],
   "source": [
    "trial = (\n",
    "    exp.new_batch_trial(optimize_for_power=True)\n",
    "    .add_generator_run(factorial_run, multiplier=1)\n",
    ")"
   ]
  },
  {
   "cell_type": "markdown",
   "metadata": {
    "originalKey": "685dbafd-41d2-43f3-bfa6-8b2de0693939"
   },
   "source": [
    "By default, the weight of each arm in `factorial_run` will be 1. However, to optimize for power on the contrasts of `k` groups against the status quo, the status quo should be `sqrt(k)` larger than any of the treatment groups. Since we have 24 different arms in our search space, the status quo should be roughly five times larger. That larger weight is automatically set by Ax under the hood if `optimize_for_power` kwarg is set to True on new batched trial creation."
   ]
  },
  {
   "cell_type": "code",
   "execution_count": null,
   "metadata": {
    "executionStartTime": 1626985063153,
    "executionStopTime": 1626985063222,
    "originalKey": "5595e26c-e177-4cb8-8a08-072887a46518",
    "requestMsgId": "a272e32c-eef2-41c7-97e7-79597ad3bfdc"
   },
   "outputs": [],
   "source": [
    "trial._status_quo_weight_override"
   ]
  },
  {
   "cell_type": "markdown",
   "metadata": {
    "originalKey": "29988eea-ca36-4dcb-86e8-3074d1724a79"
   },
   "source": [
    "## 5. Iterate using Thompson Sampling"
   ]
  },
  {
   "cell_type": "markdown",
   "metadata": {
    "code_folding": [],
    "hidden_ranges": [],
    "originalKey": "b129269f-f305-4d3f-a714-edd2eaa3d5cc",
    "showInput": true
   },
   "source": [
    "<markdowncell>\n",
    "Next, we run multiple trials (iterations of the experiment) to hone in on the optimal arm(s). \n",
    "\n",
    "In each iteration, we first collect data about all arms in that trial by calling `trial.run()` and `trial.mark_complete()`. Then we run Thompson Sampling, which assigns a weight to each arm that is proportional to the probability of that arm being the best. Arms whose weight exceed `min_weight` are added to the next trial, so that we can gather more data on their performance."
   ]
  },
  {
   "cell_type": "code",
   "execution_count": null,
   "metadata": {
    "ExecuteTime": {
     "end_time": "2019-04-01T16:59:08.480646Z",
     "start_time": "2019-04-01T09:59:07.908822-07:00"
    },
    "code_folding": [],
    "executionStartTime": 1626985067022,
    "executionStopTime": 1626985068028,
    "hidden_ranges": [],
    "originalKey": "ef666431-ac01-4f6e-9c45-2d87d5e3c17d",
    "requestMsgId": "56be7e99-c8ca-4ff0-a09e-9685cf21a38c"
   },
   "outputs": [],
   "source": [
    "models = []\n",
    "for i in range(4):\n",
    "    print(f\"Running trial {i+1}...\")\n",
    "    trial.run()\n",
    "    trial.mark_completed()\n",
    "    thompson = Models.THOMPSON(\n",
    "        experiment=exp, data=trial.fetch_data(), min_weight=0.01\n",
    "    )\n",
    "    models.append(thompson)\n",
    "    thompson_run = thompson.gen(n=-1)\n",
    "    trial = exp.new_batch_trial(optimize_for_power=True).add_generator_run(thompson_run)"
   ]
  },
  {
   "cell_type": "markdown",
   "metadata": {
    "originalKey": "61073290-8081-4d86-8d35-6ed0572f78ed",
    "showInput": false
   },
   "source": [
    "## Plot 1: Predicted outcomes for each arm in initial trial"
   ]
  },
  {
   "cell_type": "markdown",
   "metadata": {
    "originalKey": "c91bdb84-b539-4e62-9b62-ed3109387a4e",
    "showInput": false
   },
   "source": [
    "<markdowncell>\n",
    "The plot below shows the mean and standard error for each arm in the first trial. We can see that the standard error for the status quo is the smallest, since this arm was assigned 5x weight."
   ]
  },
  {
   "cell_type": "code",
   "execution_count": null,
   "metadata": {
    "ExecuteTime": {
     "end_time": "2019-04-01T16:59:08.534814Z",
     "start_time": "2019-04-01T09:59:08.482576-07:00"
    },
    "code_folding": [],
    "executionStartTime": 1626984357974,
    "executionStopTime": 1626984358116,
    "hidden_ranges": [],
    "originalKey": "a67258fa-d063-44e7-95b4-f106cd5c9920",
    "requestMsgId": "2f6e361b-a3d4-4d4a-b9c2-0b001d605b40",
    "scrolled": false
   },
   "outputs": [],
   "source": [
    "render(plot_fitted(models[0], metric=\"success_metric\", rel=False))"
   ]
  },
  {
   "cell_type": "markdown",
   "metadata": {
    "originalKey": "e1a49380-6a6f-4d8d-a637-090ddb2ea9ce"
   },
   "source": [
    "## Plot 2: Predicted outcomes for arms in last trial"
   ]
  },
  {
   "cell_type": "markdown",
   "metadata": {
    "originalKey": "8ff61bf1-1794-480c-83d5-d2e5ff2388a1"
   },
   "source": [
    "The following plot below shows the mean and standard error for each arm that made it to the last trial (as well as the status quo, which appears throughout). "
   ]
  },
  {
   "cell_type": "code",
   "execution_count": null,
   "metadata": {
    "executionStartTime": 1626984362259,
    "executionStopTime": 1626984362405,
    "originalKey": "4297845f-c757-4e4e-a90d-d381e7ebf9f6",
    "requestMsgId": "9d659e4e-7c71-4327-be1b-58684eaa07fc"
   },
   "outputs": [],
   "source": [
    "render(plot_fitted(models[-1], metric=\"success_metric\", rel=False))"
   ]
  },
  {
   "cell_type": "markdown",
   "metadata": {
    "originalKey": "db5d2ac7-230a-445a-ba86-bd17190bfa71"
   },
   "source": [
    "<markdowncell>\n",
    "As expected given our evaluation function, arms with higher levels\n",
    "perform better and are given higher weight. Below we see the arms\n",
    "that made it to the final trial."
   ]
  },
  {
   "cell_type": "code",
   "execution_count": null,
   "metadata": {
    "ExecuteTime": {
     "end_time": "2019-04-01T16:59:08.548754Z",
     "start_time": "2019-04-01T09:59:08.536758-07:00"
    },
    "executionStartTime": 1626984366493,
    "executionStopTime": 1626984366528,
    "originalKey": "c28a65ed-d02c-418c-9c31-af9ce3fd2cee",
    "requestMsgId": "777c0d21-4c3f-434a-a394-09e10440fa49"
   },
   "outputs": [],
   "source": [
    "results = pd.DataFrame(\n",
    "    [\n",
    "        {\"values\": \",\".join(arm.parameters.values()), \"weight\": weight}\n",
    "        for arm, weight in trial.normalized_arm_weights().items()\n",
    "    ]\n",
    ")\n",
    "print(results)"
   ]
  },
  {
   "cell_type": "markdown",
   "metadata": {
    "originalKey": "1b35fc96-10db-41f0-9046-86a2d3a0086b"
   },
   "source": [
    "## Plot 3: Rollout Process"
   ]
  },
  {
   "cell_type": "markdown",
   "metadata": {
    "originalKey": "e7973105-5c2a-46aa-90c7-fe7c7fed8fc7"
   },
   "source": [
    "We can also visualize the progression of the experience in the following rollout chart. Each bar represents a trial, and the width of the bands within a bar are proportional to the weight of the arms in that trial. \n",
    "\n",
    "In the first trial, all arms appear with equal weight, except for the status quo. By the last trial, we have narrowed our focus to only four arms, with arm 0_22 (the arm with the highest levels) having the greatest weight."
   ]
  },
  {
   "cell_type": "code",
   "execution_count": null,
   "metadata": {
    "ExecuteTime": {
     "end_time": "2019-04-01T16:59:08.569844Z",
     "start_time": "2019-04-01T09:59:08.550440-07:00"
    },
    "executionStartTime": 1626984396783,
    "executionStopTime": 1626984396959,
    "originalKey": "58a42f2b-e446-4a4c-8375-1e39754dc1b9",
    "requestMsgId": "3eefbfde-8c2b-47bc-b7c7-28cdafc2ad25"
   },
   "outputs": [],
   "source": [
    "from ax.plot.bandit_rollout import plot_bandit_rollout\n",
    "from ax.utils.notebook.plotting import render\n",
    "\n",
    "render(plot_bandit_rollout(exp))"
   ]
  },
  {
   "cell_type": "markdown",
   "metadata": {
    "originalKey": "a9d4add2-b04e-48c0-87d2-42a702f0ba60"
   },
   "source": [
    "## Plot 4: Marginal Effects"
   ]
  },
  {
   "cell_type": "markdown",
   "metadata": {
    "originalKey": "79e28d86-8752-415c-8f8f-7bdc0357fd5c"
   },
   "source": [
    "Finally, we can examine which parameter values had the greatest effect on the overall arm value. As we see in the diagram below, arms whose parameters were assigned the lower level values (such as `levell1`, `levell2`, `level31` and `level32`) performed worse than average, whereas arms with higher levels performed better than average."
   ]
  },
  {
   "cell_type": "code",
   "execution_count": null,
   "metadata": {
    "ExecuteTime": {
     "end_time": "2019-04-01T17:03:56.645223Z",
     "start_time": "2019-04-01T10:03:56.563655-07:00"
    },
    "code_folding": [],
    "executionStartTime": 1626984407454,
    "executionStopTime": 1626984407690,
    "hidden_ranges": [],
    "originalKey": "8e347a24-b6d8-462a-9f89-5527eb7aac6b",
    "requestMsgId": "f1d12da0-7576-43d7-a9c6-c5d71981899f"
   },
   "outputs": [],
   "source": [
    "from ax.plot.marginal_effects import plot_marginal_effects\n",
    "render(plot_marginal_effects(models[0], 'success_metric'))"
   ]
  }
 ],
 "metadata": {
  "kernelspec": {
   "display_name": "Python 3 (ipykernel)",
   "language": "python",
   "name": "python3"
  },
  "language_info": {
   "codemirror_mode": {
    "name": "ipython",
    "version": 3
   },
   "file_extension": ".py",
   "mimetype": "text/x-python",
   "name": "python",
   "nbconvert_exporter": "python",
   "pygments_lexer": "ipython3",
   "version": "3.9.15"
  }
 },
 "nbformat": 4,
 "nbformat_minor": 2
}
