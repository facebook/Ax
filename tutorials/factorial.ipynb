{
  "cells": [
    {
      "cell_type": "markdown",
      "metadata": {
        "collapsed": true
      },
      "source": [
        "# Factorial design with Empirical Bayes and Thompson Sampling"
      ]
    },
    {
      "cell_type": "markdown",
      "metadata": {},
      "source": [
        "<markdowncell>\n",
        "This tutorial illustrates how to run a factorial experiment.\n",
        "We use Empirical Bayes to model the data and Thompson Sampling to generate\n",
        "arms."
      ]
    },
    {
      "cell_type": "code",
      "execution_count": 1,
      "metadata": {
        "collapsed": true
      },
      "outputs": [],
      "source": [
        "import pandas as pd\n",
        "from typing import Dict, Optional, Tuple, Union\n",
        "from ax.api import (\n",
        "    ChoiceParameter,\n",
        "    Arm,\n",
        "    ParameterType,\n",
        "    SearchSpace,\n",
        "    SimpleExperiment,\n",
        "    modelbridge,\n",
        ")\n",
        "from ax.metrics.factorial import (\n",
        "    evaluation_function as factorial_metric_evaluation_function,\n",
        ")\n",
        "from ax.plot.scatter import plot_fitted\n",
        "from ax.utils.notebook.plotting import render, init_notebook_plotting"
      ]
    },
    {
      "cell_type": "code",
      "execution_count": 2,
      "metadata": {},
      "outputs": [
        {
          "data": {
            "text/html": [
              "<script type='text/javascript'>requirejs.config({\n",
              "  paths: {\n",
              "    plotly: ['https://cdn.plot.ly/plotly-latest.min'],\n",
              "  },\n",
              "});\n",
              "if (!window.Plotly) {\n",
              "  require(['plotly'], function(plotly) {\n",
              "    window.Plotly = plotly;\n",
              "  });\n",
              "}\n",
              "// helper functions used across multiple plots\n",
              "function rgb(rgb_array) {\n",
              "  return 'rgb(' + rgb_array.join() + ')';\n",
              "}\n",
              "\n",
              "function copy_and_reverse(arr) {\n",
              "  const copy = arr.slice();\n",
              "  copy.reverse();\n",
              "  return copy;\n",
              "}\n",
              "\n",
              "function axis_range(grid, is_log) {\n",
              "  return is_log ?\n",
              "    [Math.log10(Math.min(...grid)), Math.log10(Math.max(...grid))]:\n",
              "    [Math.min(...grid), Math.max(...grid)];\n",
              "}\n",
              "\n",
              "function relativize_data(f, sd, rel, arm_data, metric) {\n",
              "  // if relative, extract status quo & compute ratio\n",
              "  const f_final = rel === true ? [] : f;\n",
              "  const sd_final = rel === true ? []: sd;\n",
              "\n",
              "  if (rel === true) {\n",
              "    const f_sq = (\n",
              "      arm_data['in_sample'][arm_data['status_quo_name']]['y'][metric]\n",
              "    );\n",
              "    const sd_sq = (\n",
              "      arm_data['in_sample'][arm_data['status_quo_name']]['se'][metric]\n",
              "    );\n",
              "\n",
              "    for (let i = 0; i < f.length; i++) {\n",
              "      res = relativize(f[i], sd[i], f_sq, sd_sq);\n",
              "      f_final.push(100 * res[0]);\n",
              "      sd_final.push(100 * res[1]);\n",
              "    }\n",
              "  }\n",
              "\n",
              "  return [f_final, sd_final];\n",
              "}\n",
              "\n",
              "function relativize(m_t, sem_t, m_c, sem_c) {\n",
              "  r_hat = (\n",
              "    (m_t - m_c) / Math.abs(m_c) -\n",
              "    Math.pow(sem_c, 2) * m_t / Math.pow(Math.abs(m_c), 3)\n",
              "  );\n",
              "  variance = (\n",
              "    (Math.pow(sem_t, 2) + Math.pow((m_t / m_c * sem_c), 2)) /\n",
              "    Math.pow(m_c, 2)\n",
              "   )\n",
              "   return [r_hat, Math.sqrt(variance)];\n",
              "}\n",
              "</script>"
            ]
          },
          "metadata": {},
          "output_type": "display_data"
        },
        {
          "name": "stderr",
          "output_type": "stream",
          "text": [
            "[INFO 03-22 07:43:31] ipy_plotting: Injecting Plotly library into cell. Do not overwrite or delete cell.\n"
          ]
        }
      ],
      "source": [
        "init_notebook_plotting()"
      ]
    },
    {
      "cell_type": "markdown",
      "metadata": {},
      "source": [
        "<markdowncell>\n",
        "First, we define our search space. In this example we have three parameters,\n",
        "each of which has a set of possible string values."
      ]
    },
    {
      "cell_type": "code",
      "execution_count": 3,
      "metadata": {
        "collapsed": true
      },
      "outputs": [],
      "source": [
        "search_space = SearchSpace(\n",
        "    parameters=[\n",
        "        ChoiceParameter(\n",
        "            name=\"factor1\",\n",
        "            parameter_type=ParameterType.STRING,\n",
        "            values=[\"level11\", \"level12\", \"level13\"],\n",
        "        ),\n",
        "        ChoiceParameter(\n",
        "            name=\"factor2\",\n",
        "            parameter_type=ParameterType.STRING,\n",
        "            values=[\"level21\", \"level22\"],\n",
        "        ),\n",
        "        ChoiceParameter(\n",
        "            name=\"factor3\",\n",
        "            parameter_type=ParameterType.STRING,\n",
        "            values=[\"level31\", \"level32\", \"level33\", \"level34\"],\n",
        "        ),\n",
        "    ]\n",
        ")"
      ]
    },
    {
      "cell_type": "markdown",
      "metadata": {},
      "source": [
        "<markdowncell>\n",
        "Second, we define an evaluation function, which is responsible for computing\n",
        "the mean and standard error of a given parameterization. In this example,\n",
        "each possible parameter value is given a weight, and the mean of a parameterization\n",
        "is determined by the weights of its values. The higher the weights, the greater\n",
        "the mean."
      ]
    },
    {
      "cell_type": "code",
      "execution_count": 4,
      "metadata": {
        "collapsed": true
      },
      "outputs": [],
      "source": [
        "def factorial_evaluation_function(\n",
        "    # `parameterization` is a dict of parameter names to values of those parameters.\n",
        "    parameterization: Dict[str, Optional[Union[str, bool, float]]],\n",
        "    # `weight` is the weight of the parameterization, which is used to determine the variance of the estimate\n",
        "    weight: Optional[float] = None,\n",
        ") -> Dict[str, Tuple[float, float]]:  # dict of metric names to tuple of mean and standard error.\n",
        "    coefficients = {\n",
        "        \"factor1\": {\"level11\": 0.1, \"level12\": 0.2, \"level13\": 0.3},\n",
        "        \"factor2\": {\"level21\": 0.1, \"level22\": 0.2},\n",
        "        \"factor3\": {\"level31\": 0.1, \"level32\": 0.2, \"level33\": 0.3, \"level34\": 0.4},\n",
        "    }\n",
        "    return {\n",
        "        \"success_metric\": factorial_metric_evaluation_function(\n",
        "            parameterization=parameterization, coefficients=coefficients, weight=weight\n",
        "        )\n",
        "    }"
      ]
    },
    {
      "cell_type": "markdown",
      "metadata": {},
      "source": [
        "<markdowncell>\n",
        "We now set up our experiment and define the status quo arm."
      ]
    },
    {
      "cell_type": "code",
      "execution_count": 5,
      "metadata": {
        "collapsed": true
      },
      "outputs": [],
      "source": [
        "exp = SimpleExperiment(\n",
        "    name=\"my_factorial_closed_loop_experiment\",\n",
        "    search_space=search_space,\n",
        "    evaluation_function=factorial_evaluation_function,\n",
        "    objective_name=\"success_metric\",\n",
        ")\n",
        "exp.status_quo = Arm(\n",
        "    params={\"factor1\": \"level11\", \"factor2\": \"level21\", \"factor3\": \"level31\"}\n",
        ")"
      ]
    },
    {
      "cell_type": "markdown",
      "metadata": {},
      "source": [
        "<markdowncell>\n",
        "We generate an initial batch that explores the full space of the factorial\n",
        "design, including the status quo. Note that the status quo gets a weight of 5x\n",
        "relative to the other arms since it is within the search space of the\n",
        "FullFactorial generator."
      ]
    },
    {
      "cell_type": "code",
      "execution_count": 6,
      "metadata": {
        "collapsed": true
      },
      "outputs": [],
      "source": [
        "factorial_generator = modelbridge.get_factorial(search_space=exp.search_space)\n",
        "factorial_run = factorial_generator.gen(n=-1)\n",
        "trial = (\n",
        "    exp.new_batch_trial()\n",
        "    .add_generator_run(factorial_run, multiplier=1)\n",
        "    .add_arms_and_weights(arms=[exp.status_quo], multiplier=4)\n",
        ")"
      ]
    },
    {
      "cell_type": "markdown",
      "metadata": {},
      "source": [
        "<markdowncell>\n",
        "We use Thompson sampling with batched updates to give more weight to best-performing arms while balancing exploration."
      ]
    },
    {
      "cell_type": "code",
      "execution_count": 7,
      "metadata": {},
      "outputs": [
        {
          "name": "stdout",
          "output_type": "stream",
          "text": [
            "Running iteration 0...\n",
            "Running iteration 1...\n",
            "Running iteration 2...\n",
            "Running iteration 3...\n"
          ]
        }
      ],
      "source": [
        "generators = []\n",
        "for i in range(4):\n",
        "    print(\"Running iteration {}...\".format(i))\n",
        "    data = exp.eval_trial(trial)\n",
        "    thompson_generator = modelbridge.get_thompson(\n",
        "        experiment=exp, data=data, min_weight=0.01\n",
        "    )\n",
        "    generators.append(thompson_generator)\n",
        "    thompson_run = thompson_generator.gen(n=-1)\n",
        "    trial = exp.new_batch_trial().add_generator_run(thompson_run)"
      ]
    },
    {
      "cell_type": "markdown",
      "metadata": {},
      "source": [
        "<markdowncell>\n",
        "The following plots shows the predicted value of our objective for the arms in each trial. Over time, we hone in on the parameterizations with the highest values. "
      ]
    },
    {
      "cell_type": "code",
      "execution_count": 8,
      "metadata": {},
      "outputs": [
        {
          "data": {
            "text/html": [
              "<div id=\"b10a626df7ea4d16a738621f114beaaf\" style=\"width: 100%;\" class=\"plotly-graph-div\"></div><script type='text/javascript'>require(['plotly'], function(Plotly) {\n",
              "  window.PLOTLYENV = window.PLOTLYENV || {};\n",
              "  window.PLOTLYENV.BASE_URL = 'https://plot.ly';\n",
              "  Plotly.newPlot(\n",
              "  \"b10a626df7ea4d16a738621f114beaaf\",\n",
              "  [{\"type\": \"scatter\", \"x\": [\"0_0\", \"0_1\", \"0_10\", \"0_11\", \"0_12\", \"0_13\", \"0_14\", \"0_15\", \"0_16\", \"0_17\", \"0_18\", \"0_19\", \"0_2\", \"0_20\", \"0_21\", \"0_22\", \"0_3\", \"0_4\", \"0_5\", \"0_6\", \"0_7\", \"0_8\", \"0_9\", \"status_quo\"], \"y\": [0.5850746268656717, 0.6022727272727273, 0.7217391304347827, 0.6142433234421365, 0.664, 0.7134328358208956, 0.6432748538011696, 0.6424050632911392, 0.6458923512747875, 0.6647398843930635, 0.6751412429378532, 0.5987654320987654, 0.6305555555555555, 0.6840579710144927, 0.72782874617737, 0.713091922005571, 0.6036585365853658, 0.5869565217391305, 0.6287425149700598, 0.6345029239766082, 0.64, 0.6666666666666666, 0.6222910216718266, 0.5599622285174694], \"marker\": {\"color\": \"rgba(128,177,211,1)\"}, \"mode\": \"markers\", \"name\": \"In-sample\", \"text\": [\"<b>Arm 0_0</b><br><br>success_metric: 0.585 [0.532, 0.638]<br><br><em>Parameterization:</em><br>factor1: level11<br>factor2: level21<br>factor3: level32\", \"<b>Arm 0_1</b><br><br>success_metric: 0.602 [0.551, 0.653]<br><br><em>Parameterization:</em><br>factor1: level11<br>factor2: level21<br>factor3: level33\", \"<b>Arm 0_10</b><br><br>success_metric: 0.722 [0.674, 0.769]<br><br><em>Parameterization:</em><br>factor1: level12<br>factor2: level21<br>factor3: level34\", \"<b>Arm 0_11</b><br><br>success_metric: 0.614 [0.562, 0.666]<br><br><em>Parameterization:</em><br>factor1: level12<br>factor2: level22<br>factor3: level31\", \"<b>Arm 0_12</b><br><br>success_metric: 0.664 [0.616, 0.712]<br><br><em>Parameterization:</em><br>factor1: level12<br>factor2: level22<br>factor3: level32\", \"<b>Arm 0_13</b><br><br>success_metric: 0.713 [0.665, 0.762]<br><br><em>Parameterization:</em><br>factor1: level12<br>factor2: level22<br>factor3: level33\", \"<b>Arm 0_14</b><br><br>success_metric: 0.643 [0.592, 0.694]<br><br><em>Parameterization:</em><br>factor1: level12<br>factor2: level22<br>factor3: level34\", \"<b>Arm 0_15</b><br><br>success_metric: 0.642 [0.590, 0.695]<br><br><em>Parameterization:</em><br>factor1: level13<br>factor2: level21<br>factor3: level31\", \"<b>Arm 0_16</b><br><br>success_metric: 0.646 [0.596, 0.696]<br><br><em>Parameterization:</em><br>factor1: level13<br>factor2: level21<br>factor3: level32\", \"<b>Arm 0_17</b><br><br>success_metric: 0.665 [0.615, 0.715]<br><br><em>Parameterization:</em><br>factor1: level13<br>factor2: level21<br>factor3: level33\", \"<b>Arm 0_18</b><br><br>success_metric: 0.675 [0.626, 0.724]<br><br><em>Parameterization:</em><br>factor1: level13<br>factor2: level21<br>factor3: level34\", \"<b>Arm 0_19</b><br><br>success_metric: 0.599 [0.545, 0.652]<br><br><em>Parameterization:</em><br>factor1: level13<br>factor2: level22<br>factor3: level31\", \"<b>Arm 0_2</b><br><br>success_metric: 0.631 [0.581, 0.680]<br><br><em>Parameterization:</em><br>factor1: level11<br>factor2: level21<br>factor3: level34\", \"<b>Arm 0_20</b><br><br>success_metric: 0.684 [0.635, 0.733]<br><br><em>Parameterization:</em><br>factor1: level13<br>factor2: level22<br>factor3: level32\", \"<b>Arm 0_21</b><br><br>success_metric: 0.728 [0.679, 0.776]<br><br><em>Parameterization:</em><br>factor1: level13<br>factor2: level22<br>factor3: level33\", \"<b>Arm 0_22</b><br><br>success_metric: 0.713 [0.666, 0.760]<br><br><em>Parameterization:</em><br>factor1: level13<br>factor2: level22<br>factor3: level34\", \"<b>Arm 0_3</b><br><br>success_metric: 0.604 [0.551, 0.657]<br><br><em>Parameterization:</em><br>factor1: level11<br>factor2: level22<br>factor3: level31\", \"<b>Arm 0_4</b><br><br>success_metric: 0.587 [0.533, 0.641]<br><br><em>Parameterization:</em><br>factor1: level11<br>factor2: level22<br>factor3: level32\", \"<b>Arm 0_5</b><br><br>success_metric: 0.629 [0.577, 0.681]<br><br><em>Parameterization:</em><br>factor1: level11<br>factor2: level22<br>factor3: level33\", \"<b>Arm 0_6</b><br><br>success_metric: 0.635 [0.583, 0.686]<br><br><em>Parameterization:</em><br>factor1: level11<br>factor2: level22<br>factor3: level34\", \"<b>Arm 0_7</b><br><br>success_metric: 0.64 [0.590, 0.690]<br><br><em>Parameterization:</em><br>factor1: level12<br>factor2: level21<br>factor3: level31\", \"<b>Arm 0_8</b><br><br>success_metric: 0.667 [0.617, 0.717]<br><br><em>Parameterization:</em><br>factor1: level12<br>factor2: level21<br>factor3: level32\", \"<b>Arm 0_9</b><br><br>success_metric: 0.622 [0.569, 0.675]<br><br><em>Parameterization:</em><br>factor1: level12<br>factor2: level21<br>factor3: level33\", \"<b>Arm status_quo</b><br><br>success_metric: 0.56 [0.539, 0.581]<br><br><em>Parameterization:</em><br>factor1: level11<br>factor2: level21<br>factor3: level31\"], \"hoverinfo\": \"text\", \"error_y\": {\"type\": \"data\", \"array\": [0.052780818539316605, 0.05115473044220707, 0.04742103138532731, 0.05200520954080703, 0.0478677564947325, 0.04854623219405548, 0.05082229226147944, 0.05290398693354963, 0.049942040331266424, 0.04981211404068604, 0.04886218299491281, 0.05339796714803642, 0.04989856574998249, 0.04914406364824087, 0.04839277406157271, 0.04690365908388777, 0.052964274682910754, 0.05380146521778368, 0.051858427159547756, 0.05108469884100418, 0.050335917779691534, 0.050033378797593765, 0.052913430537585064, 0.021141187226215923], \"color\": \"rgba(128,177,211,0.4)\"}, \"visible\": true, \"legendgroup\": \"In-sample\", \"showlegend\": true}],\n",
              "  {\"title\": \"Predicted Outcomes\", \"hovermode\": \"closest\", \"updatemenus\": [{\"x\": 1.25, \"y\": 0.67, \"buttons\": [{\"args\": [{\"xaxis.categoryorder\": \"array\", \"xaxis.categoryarray\": [\"status_quo\", \"0_0\", \"0_1\", \"0_2\", \"0_3\", \"0_4\", \"0_5\", \"0_6\", \"0_7\", \"0_8\", \"0_9\", \"0_10\", \"0_11\", \"0_12\", \"0_13\", \"0_14\", \"0_15\", \"0_16\", \"0_17\", \"0_18\", \"0_19\", \"0_20\", \"0_21\", \"0_22\"]}], \"label\": \"Name\", \"method\": \"relayout\"}, {\"args\": [{\"xaxis.categoryorder\": \"array\", \"xaxis.categoryarray\": [\"status_quo\", \"0_0\", \"0_4\", \"0_19\", \"0_1\", \"0_3\", \"0_11\", \"0_9\", \"0_5\", \"0_2\", \"0_6\", \"0_7\", \"0_15\", \"0_14\", \"0_16\", \"0_12\", \"0_17\", \"0_8\", \"0_18\", \"0_20\", \"0_22\", \"0_13\", \"0_10\", \"0_21\"]}], \"label\": \"Effect Size\", \"method\": \"relayout\"}], \"yanchor\": \"middle\", \"xanchor\": \"left\"}], \"yaxis\": {\"zerolinecolor\": \"red\", \"title\": \"success_metric\"}, \"xaxis\": {\"tickangle\": 45, \"categoryorder\": \"array\", \"categoryarray\": [\"status_quo\", \"0_0\", \"0_1\", \"0_2\", \"0_3\", \"0_4\", \"0_5\", \"0_6\", \"0_7\", \"0_8\", \"0_9\", \"0_10\", \"0_11\", \"0_12\", \"0_13\", \"0_14\", \"0_15\", \"0_16\", \"0_17\", \"0_18\", \"0_19\", \"0_20\", \"0_21\", \"0_22\"]}, \"annotations\": [{\"x\": 1.18, \"y\": 0.72, \"xref\": \"paper\", \"yref\": \"paper\", \"text\": \"Sort By\", \"showarrow\": false, \"yanchor\": \"middle\"}], \"font\": {\"size\": 10}},\n",
              "  {\"showLink\": false}\n",
              ");\n",
              "});</script>"
            ]
          },
          "metadata": {},
          "output_type": "display_data"
        },
        {
          "data": {
            "text/html": [
              "<div id=\"78ed6982227d47e297ef444e78822d56\" style=\"width: 100%;\" class=\"plotly-graph-div\"></div><script type='text/javascript'>require(['plotly'], function(Plotly) {\n",
              "  window.PLOTLYENV = window.PLOTLYENV || {};\n",
              "  window.PLOTLYENV.BASE_URL = 'https://plot.ly';\n",
              "  Plotly.newPlot(\n",
              "  \"78ed6982227d47e297ef444e78822d56\",\n",
              "  [{\"type\": \"scatter\", \"x\": [\"0_10\", \"0_13\", \"0_20\", \"0_21\", \"0_22\", \"status_quo\"], \"y\": [0.6544549977385798, 0.6611909650924025, 0.7283236994219653, 0.6789137380191693, 0.7212732919254659, 0.5686977299880526], \"marker\": {\"color\": \"rgba(128,177,211,1)\"}, \"mode\": \"markers\", \"name\": \"In-sample\", \"text\": [\"<b>Arm 0_10</b><br><br>success_metric: 0.654 [0.635, 0.674]<br><br><em>Parameterization:</em><br>factor1: level12<br>factor2: level21<br>factor3: level34\", \"<b>Arm 0_13</b><br><br>success_metric: 0.661 [0.637, 0.685]<br><br><em>Parameterization:</em><br>factor1: level12<br>factor2: level22<br>factor3: level33\", \"<b>Arm 0_20</b><br><br>success_metric: 0.728 [0.662, 0.795]<br><br><em>Parameterization:</em><br>factor1: level13<br>factor2: level22<br>factor3: level32\", \"<b>Arm 0_21</b><br><br>success_metric: 0.679 [0.663, 0.695]<br><br><em>Parameterization:</em><br>factor1: level13<br>factor2: level22<br>factor3: level33\", \"<b>Arm 0_22</b><br><br>success_metric: 0.721 [0.697, 0.746]<br><br><em>Parameterization:</em><br>factor1: level13<br>factor2: level22<br>factor3: level34\", \"<b>Arm status_quo</b><br><br>success_metric: 0.569 [0.545, 0.592]<br><br><em>Parameterization:</em><br>factor1: level11<br>factor2: level21<br>factor3: level31\"], \"hoverinfo\": \"text\", \"error_y\": {\"type\": \"data\", \"array\": [0.019826065975814315, 0.02427779342202406, 0.06667496221854782, 0.01636000344093857, 0.02450552818629878, 0.023726291317939317], \"color\": \"rgba(128,177,211,0.4)\"}, \"visible\": true, \"legendgroup\": \"In-sample\", \"showlegend\": true}],\n",
              "  {\"title\": \"Predicted Outcomes\", \"hovermode\": \"closest\", \"updatemenus\": [{\"x\": 1.25, \"y\": 0.67, \"buttons\": [{\"args\": [{\"xaxis.categoryorder\": \"array\", \"xaxis.categoryarray\": [\"status_quo\", \"0_10\", \"0_13\", \"0_20\", \"0_21\", \"0_22\"]}], \"label\": \"Name\", \"method\": \"relayout\"}, {\"args\": [{\"xaxis.categoryorder\": \"array\", \"xaxis.categoryarray\": [\"status_quo\", \"0_10\", \"0_13\", \"0_21\", \"0_22\", \"0_20\"]}], \"label\": \"Effect Size\", \"method\": \"relayout\"}], \"yanchor\": \"middle\", \"xanchor\": \"left\"}], \"yaxis\": {\"zerolinecolor\": \"red\", \"title\": \"success_metric\"}, \"xaxis\": {\"tickangle\": 45, \"categoryorder\": \"array\", \"categoryarray\": [\"status_quo\", \"0_10\", \"0_13\", \"0_20\", \"0_21\", \"0_22\"]}, \"annotations\": [{\"x\": 1.18, \"y\": 0.72, \"xref\": \"paper\", \"yref\": \"paper\", \"text\": \"Sort By\", \"showarrow\": false, \"yanchor\": \"middle\"}], \"font\": {\"size\": 10}},\n",
              "  {\"showLink\": false}\n",
              ");\n",
              "});</script>"
            ]
          },
          "metadata": {},
          "output_type": "display_data"
        },
        {
          "data": {
            "text/html": [
              "<div id=\"089546f081624418b52d8906ddf90235\" style=\"width: 100%;\" class=\"plotly-graph-div\"></div><script type='text/javascript'>require(['plotly'], function(Plotly) {\n",
              "  window.PLOTLYENV = window.PLOTLYENV || {};\n",
              "  window.PLOTLYENV.BASE_URL = 'https://plot.ly';\n",
              "  Plotly.newPlot(\n",
              "  \"089546f081624418b52d8906ddf90235\",\n",
              "  [{\"type\": \"scatter\", \"x\": [\"0_20\", \"0_22\", \"status_quo\"], \"y\": [0.6698306824012314, 0.7067933826117564, 0.5777777777777777], \"marker\": {\"color\": \"rgba(128,177,211,1)\"}, \"mode\": \"markers\", \"name\": \"In-sample\", \"text\": [\"<b>Arm 0_20</b><br><br>success_metric: 0.67 [0.655, 0.685]<br><br><em>Parameterization:</em><br>factor1: level13<br>factor2: level22<br>factor3: level32\", \"<b>Arm 0_22</b><br><br>success_metric: 0.707 [0.690, 0.724]<br><br><em>Parameterization:</em><br>factor1: level13<br>factor2: level22<br>factor3: level34\", \"<b>Arm status_quo</b><br><br>success_metric: 0.578 [0.561, 0.595]<br><br><em>Parameterization:</em><br>factor1: level11<br>factor2: level21<br>factor3: level31\"], \"hoverinfo\": \"text\", \"error_y\": {\"type\": \"data\", \"array\": [0.014765360418665592, 0.01674478016375373, 0.016890886135321526], \"color\": \"rgba(128,177,211,0.4)\"}, \"visible\": true, \"legendgroup\": \"In-sample\", \"showlegend\": true}],\n",
              "  {\"title\": \"Predicted Outcomes\", \"hovermode\": \"closest\", \"updatemenus\": [{\"x\": 1.25, \"y\": 0.67, \"buttons\": [{\"args\": [{\"xaxis.categoryorder\": \"array\", \"xaxis.categoryarray\": [\"status_quo\", \"0_20\", \"0_22\"]}], \"label\": \"Name\", \"method\": \"relayout\"}, {\"args\": [{\"xaxis.categoryorder\": \"array\", \"xaxis.categoryarray\": [\"status_quo\", \"0_20\", \"0_22\"]}], \"label\": \"Effect Size\", \"method\": \"relayout\"}], \"yanchor\": \"middle\", \"xanchor\": \"left\"}], \"yaxis\": {\"zerolinecolor\": \"red\", \"title\": \"success_metric\"}, \"xaxis\": {\"tickangle\": 45, \"categoryorder\": \"array\", \"categoryarray\": [\"status_quo\", \"0_20\", \"0_22\"]}, \"annotations\": [{\"x\": 1.18, \"y\": 0.72, \"xref\": \"paper\", \"yref\": \"paper\", \"text\": \"Sort By\", \"showarrow\": false, \"yanchor\": \"middle\"}], \"font\": {\"size\": 10}},\n",
              "  {\"showLink\": false}\n",
              ");\n",
              "});</script>"
            ]
          },
          "metadata": {},
          "output_type": "display_data"
        },
        {
          "data": {
            "text/html": [
              "<div id=\"c7fa830c8c634795aae397f6ba221b3e\" style=\"width: 100%;\" class=\"plotly-graph-div\"></div><script type='text/javascript'>require(['plotly'], function(Plotly) {\n",
              "  window.PLOTLYENV = window.PLOTLYENV || {};\n",
              "  window.PLOTLYENV.BASE_URL = 'https://plot.ly';\n",
              "  Plotly.newPlot(\n",
              "  \"c7fa830c8c634795aae397f6ba221b3e\",\n",
              "  [{\"type\": \"scatter\", \"x\": [\"0_22\", \"status_quo\"], \"y\": [0.7071371610845295, 0.5751201923076923], \"marker\": {\"color\": \"rgba(128,177,211,1)\"}, \"mode\": \"markers\", \"name\": \"In-sample\", \"text\": [\"<b>Arm 0_22</b><br><br>success_metric: 0.707 [0.695, 0.720]<br><br><em>Parameterization:</em><br>factor1: level13<br>factor2: level22<br>factor3: level34\", \"<b>Arm status_quo</b><br><br>success_metric: 0.575 [0.561, 0.589]<br><br><em>Parameterization:</em><br>factor1: level11<br>factor2: level21<br>factor3: level31\"], \"hoverinfo\": \"text\", \"error_y\": {\"type\": \"data\", \"array\": [0.012596007957747185, 0.013713211158212201], \"color\": \"rgba(128,177,211,0.4)\"}, \"visible\": true, \"legendgroup\": \"In-sample\", \"showlegend\": true}],\n",
              "  {\"title\": \"Predicted Outcomes\", \"hovermode\": \"closest\", \"updatemenus\": [{\"x\": 1.25, \"y\": 0.67, \"buttons\": [{\"args\": [{\"xaxis.categoryorder\": \"array\", \"xaxis.categoryarray\": [\"status_quo\", \"0_22\"]}], \"label\": \"Name\", \"method\": \"relayout\"}, {\"args\": [{\"xaxis.categoryorder\": \"array\", \"xaxis.categoryarray\": [\"status_quo\", \"0_22\"]}], \"label\": \"Effect Size\", \"method\": \"relayout\"}], \"yanchor\": \"middle\", \"xanchor\": \"left\"}], \"yaxis\": {\"zerolinecolor\": \"red\", \"title\": \"success_metric\"}, \"xaxis\": {\"tickangle\": 45, \"categoryorder\": \"array\", \"categoryarray\": [\"status_quo\", \"0_22\"]}, \"annotations\": [{\"x\": 1.18, \"y\": 0.72, \"xref\": \"paper\", \"yref\": \"paper\", \"text\": \"Sort By\", \"showarrow\": false, \"yanchor\": \"middle\"}], \"font\": {\"size\": 10}},\n",
              "  {\"showLink\": false}\n",
              ");\n",
              "});</script>"
            ]
          },
          "metadata": {},
          "output_type": "display_data"
        }
      ],
      "source": [
        "for generator in generators:\n",
        "    render(plot_fitted(generator, metric=\"success_metric\", rel=False))"
      ]
    },
    {
      "cell_type": "markdown",
      "metadata": {},
      "source": [
        "<markdowncell>\n",
        "As expected given our evaluation function, parameterizations with higher levels\n",
        "perform better and are given higher weight. Below we see the parameterizations \n",
        "that made it to the final trial (along with the status quo)."
      ]
    },
    {
      "cell_type": "code",
      "execution_count": 9,
      "metadata": {},
      "outputs": [
        {
          "name": "stdout",
          "output_type": "stream",
          "text": [
            "                    values  weight\n",
            "0  level13,level22,level34     0.5\n",
            "1  level11,level21,level31     0.5\n"
          ]
        }
      ],
      "source": [
        "results = pd.DataFrame(\n",
        "    [\n",
        "        {\"values\": \",\".join(arm.params.values()), \"weight\": weight}\n",
        "        for arm, weight in trial.normalized_arm_weights().items()\n",
        "    ]\n",
        ")\n",
        "print(results)"
      ]
    },
    {
      "cell_type": "code",
      "execution_count": 10,
      "metadata": {},
      "outputs": [
        {
          "data": {
            "text/html": [
              "<div id=\"bf6ecc28943a42e49848850b69ea554b\" style=\"width: 100%;\" class=\"plotly-graph-div\"></div><script type='text/javascript'>require(['plotly'], function(Plotly) {\n",
              "  window.PLOTLYENV = window.PLOTLYENV || {};\n",
              "  window.PLOTLYENV.BASE_URL = 'https://plot.ly';\n",
              "  const data = [{\"index\": 0, \"name\": \"status_quo\", \"x\": [\"Round 0\", \"Round 1\", \"Round 2\", \"Round 3\", \"Round 4\"], \"y\": [21.142857142857142, 16.666666666666668, 33.333333333333336, 50.0, 50.0], \"text\": [\"21.14%\", \"16.67%\", \"33.33%\", \"50.00%\", \"50.00%\"]}, {\"index\": 1, \"name\": \"0_0\", \"x\": [\"Round 0\"], \"y\": [3.4285714285714284], \"text\": [\"3.43%\"]}, {\"index\": 2, \"name\": \"0_1\", \"x\": [\"Round 0\"], \"y\": [3.4285714285714284], \"text\": [\"3.43%\"]}, {\"index\": 3, \"name\": \"0_2\", \"x\": [\"Round 0\"], \"y\": [3.4285714285714284], \"text\": [\"3.43%\"]}, {\"index\": 4, \"name\": \"0_3\", \"x\": [\"Round 0\"], \"y\": [3.4285714285714284], \"text\": [\"3.43%\"]}, {\"index\": 5, \"name\": \"0_4\", \"x\": [\"Round 0\"], \"y\": [3.4285714285714284], \"text\": [\"3.43%\"]}, {\"index\": 6, \"name\": \"0_5\", \"x\": [\"Round 0\"], \"y\": [3.4285714285714284], \"text\": [\"3.43%\"]}, {\"index\": 7, \"name\": \"0_6\", \"x\": [\"Round 0\"], \"y\": [3.4285714285714284], \"text\": [\"3.43%\"]}, {\"index\": 8, \"name\": \"0_7\", \"x\": [\"Round 0\"], \"y\": [3.4285714285714284], \"text\": [\"3.43%\"]}, {\"index\": 9, \"name\": \"0_8\", \"x\": [\"Round 0\"], \"y\": [3.4285714285714284], \"text\": [\"3.43%\"]}, {\"index\": 10, \"name\": \"0_9\", \"x\": [\"Round 0\"], \"y\": [3.4285714285714284], \"text\": [\"3.43%\"]}, {\"index\": 11, \"name\": \"0_10\", \"x\": [\"Round 0\", \"Round 1\"], \"y\": [3.4285714285714284, 21.878398586188144], \"text\": [\"3.43%\", \"21.88%\"]}, {\"index\": 12, \"name\": \"0_11\", \"x\": [\"Round 0\"], \"y\": [3.4285714285714284], \"text\": [\"3.43%\"]}, {\"index\": 13, \"name\": \"0_12\", \"x\": [\"Round 0\"], \"y\": [3.4285714285714284], \"text\": [\"3.43%\"]}, {\"index\": 14, \"name\": \"0_13\", \"x\": [\"Round 0\", \"Round 1\"], \"y\": [3.4285714285714284, 14.732871125611746], \"text\": [\"3.43%\", \"14.73%\"]}, {\"index\": 15, \"name\": \"0_14\", \"x\": [\"Round 0\"], \"y\": [3.4285714285714284], \"text\": [\"3.43%\"]}, {\"index\": 16, \"name\": \"0_15\", \"x\": [\"Round 0\"], \"y\": [3.4285714285714284], \"text\": [\"3.43%\"]}, {\"index\": 17, \"name\": \"0_16\", \"x\": [\"Round 0\"], \"y\": [3.4285714285714284], \"text\": [\"3.43%\"]}, {\"index\": 18, \"name\": \"0_17\", \"x\": [\"Round 0\"], \"y\": [3.4285714285714284], \"text\": [\"3.43%\"]}, {\"index\": 19, \"name\": \"0_18\", \"x\": [\"Round 0\"], \"y\": [3.4285714285714284], \"text\": [\"3.43%\"]}, {\"index\": 20, \"name\": \"0_19\", \"x\": [\"Round 0\"], \"y\": [3.4285714285714284], \"text\": [\"3.43%\"]}, {\"index\": 21, \"name\": \"0_20\", \"x\": [\"Round 0\", \"Round 1\", \"Round 2\"], \"y\": [3.4285714285714284, 1.6738036976617727, 39.52642988160747], \"text\": [\"3.43%\", \"1.67%\", \"39.53%\"]}, {\"index\": 22, \"name\": \"0_21\", \"x\": [\"Round 0\", \"Round 1\"], \"y\": [3.4285714285714284, 31.861745513866232], \"text\": [\"3.43%\", \"31.86%\"]}, {\"index\": 23, \"name\": \"0_22\", \"x\": [\"Round 0\", \"Round 1\", \"Round 2\", \"Round 3\", \"Round 4\"], \"y\": [3.4285714285714284, 13.186514410005437, 27.140236785059198, 50.0, 50.0], \"text\": [\"3.43%\", \"13.19%\", \"27.14%\", \"50.00%\", \"50.00%\"]}];\n",
              "const categories = [\"Round 0\", \"Round 1\", \"Round 2\", \"Round 3\", \"Round 4\"];\n",
              "const colors = [\"rgba(2,63,165,1)\", \"rgba(125,135,185,1)\", \"rgba(190,193,212,1)\", \"rgba(214,188,192,1)\", \"rgba(187,119,132,1)\", \"rgba(142,6,59,1)\", \"rgba(74,111,227,1)\", \"rgba(133,149,225,1)\", \"rgba(181,187,227,1)\", \"rgba(230,175,185,1)\", \"rgba(224,123,145,1)\", \"rgba(211,63,106,1)\", \"rgba(17,198,56,1)\", \"rgba(141,213,147,1)\", \"rgba(198,222,199,1)\", \"rgba(234,211,198,1)\", \"rgba(240,185,141,1)\", \"rgba(239,151,8,1)\", \"rgba(15,207,192,1)\", \"rgba(156,222,214,1)\", \"rgba(213,234,231,1)\", \"rgba(243,225,235,1)\", \"rgba(246,196,225,1)\", \"rgba(247,156,212,1)\"];\n",
              "\n",
              "layout = {\n",
              "    title: \"Rollout Process<br>Bandit Weight Graph\",\n",
              "    xaxis: {\n",
              "      title: \"Rounds\",\n",
              "      zeroline: false,\n",
              "      categoryorder: \"array\",\n",
              "      categoryarray: categories\n",
              "    },\n",
              "    yaxis: {\n",
              "      title: \"Percent\",\n",
              "      showline: false\n",
              "    },\n",
              "    barmode: \"stack\",\n",
              "    showlegend: false,\n",
              "    margin: {\n",
              "      r: 40\n",
              "    }\n",
              "}\n",
              "\n",
              "bandit_config = {\n",
              "    type: \"bar\",\n",
              "    hoverinfo: \"name+text\",\n",
              "    width: 0.5\n",
              "}\n",
              "\n",
              "bandits = [];\n",
              "data.map(d => {\n",
              "  bandits.push({\n",
              "    ...bandit_config,\n",
              "    ...d,\n",
              "    marker: {\n",
              "      color: colors[d.index % colors.length]\n",
              "    }\n",
              "  })\n",
              "});\n",
              "\n",
              "Plotly.newPlot(\"bf6ecc28943a42e49848850b69ea554b\", bandits, layout, {showLink: false});\n",
              "});</script>"
            ]
          },
          "metadata": {},
          "output_type": "display_data"
        }
      ],
      "source": [
        "from ax.plot.bandit_rollout import plot_bandit_rollout\n",
        "from ax.utils.notebook.plotting import render\n",
        "\n",
        "render(plot_bandit_rollout(exp))"
      ]
    }
  ],
  "metadata": {
    "kernelspec": {
      "display_name": "python3",
      "language": "python",
      "name": "python3"
    }
  },
  "nbformat": 4,
  "nbformat_minor": 2
}
