{
  "cells": [
    {
      "cell_type": "code",
      "execution_count": null,
      "id": "dc0b0d48",
      "metadata": {},
      "outputs": [],
      "source": [
        "import sys\n",
        "import plotly.io as pio\n",
        "if 'google.colab' in sys.modules:\n",
        "    pio.renderers.default = \"colab\"\n",
        "    %pip install ax-platform"
      ]
    },
    {
      "cell_type": "code",
      "execution_count": 1,
      "metadata": {
        "collapsed": false,
        "customOutput": null,
        "executionStartTime": 1730916291451,
        "executionStopTime": 1730916298337,
        "id": "about-preview",
        "isAgentGenerated": false,
        "language": "python",
        "metadata": {
          "originalKey": "cca773d8-5e94-4b5a-ae54-22295be8936a"
        },
        "originalKey": "f4e8ae18-2aa3-4943-a15a-29851889445c",
        "outputsInitialized": true,
        "requestMsgId": "f4e8ae18-2aa3-4943-a15a-29851889445c",
        "serverExecutionDuration": 4531.2523420434
      },
      "outputs": [
        {
          "name": "stderr",
          "output_type": "stream",
          "text": [
            "I1106 100452.333 _utils_internal.py:321] NCCL_DEBUG env var is set to None\n"
          ]
        },
        {
          "name": "stderr",
          "output_type": "stream",
          "text": [
            "I1106 100452.334 _utils_internal.py:339] NCCL_DEBUG is forced to WARN from None\n"
          ]
        }
      ],
      "source": [
        "from typing import Any, Dict, Optional, Tuple, Type\n",
        "\n",
        "from ax.modelbridge.registry import Models\n",
        "\n",
        "# Ax data tranformation layer\n",
        "from ax.models.torch.botorch_modular.acquisition import Acquisition\n",
        "\n",
        "# Ax wrappers for BoTorch components\n",
        "from ax.models.torch.botorch_modular.model import BoTorchModel\n",
        "from ax.models.torch.botorch_modular.surrogate import Surrogate, SurrogateSpec\n",
        "from ax.models.torch.botorch_modular.utils import ModelConfig\n",
        "\n",
        "# Experiment examination utilities\n",
        "from ax.service.utils.report_utils import exp_to_df\n",
        "\n",
        "# Test Ax objects\n",
        "from ax.utils.testing.core_stubs import (\n",
        "    get_branin_data,\n",
        "    get_branin_data_multi_objective,\n",
        "    get_branin_experiment,\n",
        "    get_branin_experiment_with_multi_objective,\n",
        ")\n",
        "from botorch.acquisition.logei import (\n",
        "    qLogExpectedImprovement,\n",
        "    qLogNoisyExpectedImprovement,\n",
        ")\n",
        "from botorch.models.gp_regression import SingleTaskGP\n",
        "\n",
        "# BoTorch components\n",
        "from botorch.models.model import Model\n",
        "from gpytorch.mlls.exact_marginal_log_likelihood import ExactMarginalLogLikelihood"
      ]
    },
    {
      "cell_type": "markdown",
      "metadata": {
        "id": "northern-affairs",
        "isAgentGenerated": false,
        "language": "markdown",
        "metadata": {
          "originalKey": "58ea5ebf-ff3a-40b4-8be3-1b85c99d1c4a"
        },
        "originalKey": "c9a665ca-497e-4d7c-bbb5-1b9f8d1d311c",
        "outputsInitialized": false,
        "showInput": false
      },
      "source": [
        "# Setup and Usage of BoTorch Models in Ax\n",
        "\n",
        "Ax provides a set of flexible wrapper abstractions to mix-and-match BoTorch components like `Model` and `AcquisitionFunction` and combine them into a single `Model` object in Ax. The wrapper abstractions: `Surrogate`, `Acquisition`, and `BoTorchModel` – are located in `ax/models/torch/botorch_modular` directory and aim to encapsulate boilerplate code that interfaces between Ax and BoTorch. This functionality is in beta-release and still evolving.\n",
        "\n",
        "This tutorial walks through setting up a custom combination of BoTorch components in Ax in following steps:\n",
        "\n",
        "1. **Quick-start example of `BoTorchModel` use**\n",
        "1. **`BoTorchModel` = `Surrogate` + `Acquisition` (overview)**\n",
        "   1. Example with minimal options that uses the defaults\n",
        "   2. Example showing all possible options\n",
        "   3. Surrogate and Acquisition Q&A\n",
        "2. **I know which Botorch Model and AcquisitionFunction I'd like to combine in Ax. How do set this up?**\n",
        "   1. Making a `Surrogate` from BoTorch `Model`\n",
        "   2. Using an arbitrary BoTorch `AcquisitionFunction` in Ax\n",
        "3. **Using `Models.BOTORCH_MODULAR`** (convenience wrapper that enables storage and resumability)\n",
        "4. **Utilizing `BoTorchModel` in generation strategies** (abstraction that allows to chain models together and use them in Ax Service API etc.)\n",
        "   1. Specifying `pending_observations` to avoid the model re-suggesting points that are part of `RUNNING` or `ABANDONED` trials.\n",
        "5. **Customizing a `Surrogate` or `Acquisition`** (for cases where existing subcomponent classes are not sufficient)"
      ]
    },
    {
      "cell_type": "markdown",
      "metadata": {
        "id": "pending-support",
        "isAgentGenerated": false,
        "language": "markdown",
        "metadata": {
          "originalKey": "c06d1b5c-067d-4618-977e-c8269a98bd0a"
        },
        "originalKey": "4706d02e-6b3f-4161-9e08-f5a31328b1d1",
        "outputsInitialized": false,
        "showInput": false
      },
      "source": [
        "## 1. Quick-start example\n",
        "\n",
        "Here we set up a `BoTorchModel` with `SingleTaskGP` with `qLogNoisyExpectedImprovement`, one of the most popular combinations in Ax:"
      ]
    },
    {
      "cell_type": "code",
      "execution_count": 2,
      "metadata": {
        "collapsed": false,
        "customOutput": null,
        "executionStartTime": 1730916294801,
        "executionStopTime": 1730916298389,
        "id": "parental-sending",
        "isAgentGenerated": false,
        "language": "python",
        "metadata": {
          "originalKey": "72934cf2-4ecf-483a-93bd-4df88b19a7b8"
        },
        "originalKey": "20f25ded-5aae-47ee-955e-a2d5a2a1fe09",
        "outputsInitialized": true,
        "requestMsgId": "20f25ded-5aae-47ee-955e-a2d5a2a1fe09",
        "serverExecutionDuration": 22.605526028201
      },
      "outputs": [
        {
          "name": "stderr",
          "output_type": "stream",
          "text": [
            "[INFO 11-06 10:04:56] ax.core.experiment: The is_test flag has been set to True. This flag is meant purely for development and integration testing purposes. If you are running a live experiment, please set this flag to False\n"
          ]
        }
      ],
      "source": [
        "experiment = get_branin_experiment(with_trial=True)\n",
        "data = get_branin_data(trials=[experiment.trials[0]])"
      ]
    },
    {
      "cell_type": "code",
      "execution_count": 3,
      "metadata": {
        "collapsed": false,
        "executionStartTime": 1730916295849,
        "executionStopTime": 1730916299900,
        "id": "rough-somerset",
        "isAgentGenerated": false,
        "language": "python",
        "metadata": {
          "originalKey": "e571212c-7872-4ebc-b646-8dad8d4266fd"
        },
        "originalKey": "c0806cce-a1d3-41b8-96fc-678aa3c9dd92",
        "outputsInitialized": true,
        "requestMsgId": "c0806cce-a1d3-41b8-96fc-678aa3c9dd92",
        "serverExecutionDuration": 852.73489891551
      },
      "outputs": [
        {
          "name": "stderr",
          "output_type": "stream",
          "text": [
            "[INFO 11-06 10:04:57] ax.modelbridge.transforms.standardize_y: Outcome branin is constant, within tolerance.\n"
          ]
        }
      ],
      "source": [
        "# `Models` automatically selects a model + model bridge combination.\n",
        "# For `BOTORCH_MODULAR`, it will select `BoTorchModel` and `TorchModelBridge`.\n",
        "model_bridge_with_GPEI = Models.BOTORCH_MODULAR(\n",
        "    experiment=experiment,\n",
        "    data=data,\n",
        "    surrogate_spec=SurrogateSpec(\n",
        "        model_configs=[ModelConfig(botorch_model_class=SingleTaskGP)]\n",
        "    ),  # Optional, will use default if unspecified\n",
        "    botorch_acqf_class=qLogNoisyExpectedImprovement,  # Optional, will use default if unspecified\n",
        ")"
      ]
    },
    {
      "cell_type": "markdown",
      "metadata": {
        "id": "hairy-wiring",
        "isAgentGenerated": false,
        "language": "markdown",
        "metadata": {
          "originalKey": "fba91372-7aa6-456d-a22b-78ab30c26cd8"
        },
        "originalKey": "46f5c2c7-400d-4d8d-b0b9-a241657b173f",
        "outputsInitialized": false,
        "showInput": false
      },
      "source": [
        "Now we can use this model to generate candidates (`gen`), predict outcome at a point (`predict`), or evaluate acquisition function value at a given point (`evaluate_acquisition_function`)."
      ]
    },
    {
      "cell_type": "code",
      "execution_count": 4,
      "metadata": {
        "collapsed": false,
        "executionStartTime": 1730916299852,
        "executionStopTime": 1730916300305,
        "id": "consecutive-summary",
        "isAgentGenerated": false,
        "language": "python",
        "metadata": {
          "originalKey": "59582fc6-8089-4320-864e-d98ee271d4f7"
        },
        "originalKey": "f64e9d2e-bfd4-47da-8292-dbe7e70cbe1f",
        "outputsInitialized": true,
        "requestMsgId": "f64e9d2e-bfd4-47da-8292-dbe7e70cbe1f",
        "serverExecutionDuration": 233.20194100961
      },
      "outputs": [
        {
          "data": {
            "text/plain": [
              "Arm(parameters={'x1': 10.0, 'x2': 15.0})"
            ]
          },
          "execution_count": 4,
          "metadata": {},
          "output_type": "execute_result"
        }
      ],
      "source": [
        "generator_run = model_bridge_with_GPEI.gen(n=1)\n",
        "generator_run.arms[0]"
      ]
    },
    {
      "cell_type": "markdown",
      "metadata": {
        "id": "diverse-richards",
        "isAgentGenerated": false,
        "language": "markdown",
        "metadata": {
          "originalKey": "8cfe0fa9-8cce-4718-ba43-e8a63744d626"
        },
        "originalKey": "804bac30-db07-4444-98a2-7a5f05007495",
        "outputsInitialized": false,
        "showInput": false
      },
      "source": [
        "-----\n",
        "Before you read the rest of this tutorial:\n",
        "\n",
        "- Note that the concept of ‘model’ is Ax is somewhat a misnomer; we use ['model'](https://ax.dev/docs/glossary.html#model) to refer to an optimization setup capable of producing candidate points for optimization (and often capable of being fit to data, with exception for quasi-random generators). See [Models documentation page](https://ax.dev/docs/models.html) for more information.\n",
        "- Learn about `ModelBridge` in Ax, as users should rarely be interacting with a `Model` object directly (more about ModelBridge, a data transformation layer in Ax, [here](https://ax.dev/docs/models.html#deeper-dive-organization-of-the-modeling-stack))."
      ]
    },
    {
      "cell_type": "markdown",
      "metadata": {
        "id": "grand-committee",
        "isAgentGenerated": false,
        "language": "markdown",
        "metadata": {
          "originalKey": "7037fd14-bcfe-44f9-b915-c23915d2bda9"
        },
        "originalKey": "31b54ce5-2590-4617-b10c-d24ed3cce51d",
        "outputsInitialized": false,
        "showInput": false
      },
      "source": [
        "## 2. BoTorchModel = Surrogate + Acquisition\n",
        "\n",
        "A `BoTorchModel` in Ax consists of two main subcomponents: a surrogate model and an acquisition function. A surrogate model is represented as an instance of Ax’s `Surrogate` class, which is a wrapper around BoTorch's `Model` class. The Surrogate is defined by a `SurrogateSpec`. The acquisition function is represented as an instance of Ax’s `Acquisition` class, a wrapper around BoTorch's `AcquisitionFunction` class."
      ]
    },
    {
      "cell_type": "markdown",
      "metadata": {
        "id": "thousand-blanket",
        "isAgentGenerated": false,
        "language": "markdown",
        "metadata": {
          "originalKey": "08b12c6c-14da-4342-95bd-f607a131ce9d"
        },
        "originalKey": "4a4e006e-07fa-4d63-8b9a-31b67075e40e",
        "outputsInitialized": false,
        "showInput": false
      },
      "source": [
        "### 2A. Example that uses defaults and requires no options\n",
        "\n",
        "BoTorchModel does not always require surrogate and acquisition specification. If instantiated without one or both components specified, defaults are selected based on properties of experiment and data (see Appendix 2 for auto-selection logic)."
      ]
    },
    {
      "cell_type": "code",
      "execution_count": 5,
      "metadata": {
        "collapsed": false,
        "executionStartTime": 1730916302730,
        "executionStopTime": 1730916304031,
        "id": "changing-xerox",
        "isAgentGenerated": false,
        "language": "python",
        "metadata": {
          "originalKey": "b1bca702-07b2-4818-b2b9-2107268c383c"
        },
        "originalKey": "fa86552a-0b80-4040-a0c4-61a0de37bdc1",
        "outputsInitialized": true,
        "requestMsgId": "fa86552a-0b80-4040-a0c4-61a0de37bdc1",
        "serverExecutionDuration": 1.7747740494087
      },
      "outputs": [],
      "source": [
        "# The surrogate is not specified, so it will be auto-selected\n",
        "# during `model.fit`.\n",
        "GPEI_model = BoTorchModel(botorch_acqf_class=qLogExpectedImprovement)\n",
        "\n",
        "# The acquisition class is not specified, so it will be\n",
        "# auto-selected during `model.gen` or `model.evaluate_acquisition`\n",
        "GPEI_model = BoTorchModel(\n",
        "    surrogate_spec=SurrogateSpec(\n",
        "        model_configs=[ModelConfig(botorch_model_class=SingleTaskGP)]\n",
        "    )\n",
        ")\n",
        "\n",
        "# Both the surrogate and acquisition class will be auto-selected.\n",
        "GPEI_model = BoTorchModel()"
      ]
    },
    {
      "cell_type": "markdown",
      "metadata": {
        "id": "lovely-mechanics",
        "isAgentGenerated": false,
        "language": "markdown",
        "metadata": {
          "originalKey": "5cec0f06-ae2c-47d3-bd95-441c45762e38"
        },
        "originalKey": "7b9fae38-fe5d-4e5b-8b5f-2953c1ef09d2",
        "outputsInitialized": false,
        "showInput": false
      },
      "source": [
        "### 2B. Example with all the options\n",
        "Below are the full set of configurable settings of a `BoTorchModel` with their descriptions:"
      ]
    },
    {
      "cell_type": "code",
      "execution_count": 6,
      "metadata": {
        "collapsed": false,
        "executionStartTime": 1730916305930,
        "executionStopTime": 1730916306168,
        "id": "twenty-greek",
        "isAgentGenerated": false,
        "language": "python",
        "metadata": {
          "originalKey": "25b13c48-edb0-4b3f-ba34-4f4a4176162a"
        },
        "originalKey": "8d824e37-b087-4bab-9b16-4354e9509df7",
        "outputsInitialized": true,
        "requestMsgId": "8d824e37-b087-4bab-9b16-4354e9509df7",
        "serverExecutionDuration": 2.6916969800368
      },
      "outputs": [],
      "source": [
        "model = BoTorchModel(\n",
        "    # Optional `Surrogate` specification to use instead of default\n",
        "    surrogate_spec=SurrogateSpec(\n",
        "        model_configs=[\n",
        "            ModelConfig(\n",
        "                # BoTorch `Model` type\n",
        "                botorch_model_class=SingleTaskGP,\n",
        "                # Optional, MLL class with which to optimize model parameters\n",
        "                mll_class=ExactMarginalLogLikelihood,\n",
        "                # Optional, dictionary of keyword arguments to underlying\n",
        "                # BoTorch `Model` constructor\n",
        "                model_options={},\n",
        "            )\n",
        "        ]\n",
        "    ),\n",
        "    # Optional BoTorch `AcquisitionFunction` to use instead of default\n",
        "    botorch_acqf_class=qLogExpectedImprovement,\n",
        "    # Optional dict of keyword arguments, passed to the input\n",
        "    # constructor for the given BoTorch `AcquisitionFunction`\n",
        "    acquisition_options={},\n",
        "    # Optional Ax `Acquisition` subclass (if the given BoTorch\n",
        "    # `AcquisitionFunction` requires one, which is rare)\n",
        "    acquisition_class=None,\n",
        "    # Less common model settings shown with default values, refer\n",
        "    # to `BoTorchModel` documentation for detail\n",
        "    refit_on_cv=False,\n",
        "    warm_start_refit=True,\n",
        ")"
      ]
    },
    {
      "cell_type": "markdown",
      "metadata": {
        "id": "fourth-material",
        "isAgentGenerated": false,
        "language": "markdown",
        "metadata": {
          "originalKey": "db0feafe-8af9-40a3-9f67-72c7d1fd808e"
        },
        "originalKey": "7140bb19-09b4-4abe-951d-53902ae07833",
        "outputsInitialized": false,
        "showInput": false
      },
      "source": [
        "## 2C. `Surrogate` and `Acquisition` Q&A\n",
        "\n",
        "**Why is the `surrogate` argument expected to be an instance, but `botorch_acqf_class` –– a class?** Because a BoTorch `AcquisitionFunction` object (and therefore its Ax wrapper, `Acquisition`) is ephemeral: it is constructed, immediately used, and destroyed during `BoTorchModel.gen`, so there is no reason to keep around an `Acquisition` instance. A `Surrogate`, on another hand, is kept in memory as long as its parent `BoTorchModel` is.\n",
        "\n",
        "**How to know when to use specify acquisition_class (and thereby a non-default Acquisition type) instead of just passing in botorch_acqf_class?** In short, custom `Acquisition` subclasses are needed when a given `AcquisitionFunction` in BoTorch needs some non-standard subcomponents or inputs (e.g. a custom BoTorch `MCAcquisitionObjective`). <TODO>\n",
        "\n",
        "**Please post any other questions you have to our dedicated issue on Github: https://github.com/facebook/Ax/issues/363.** This functionality is in beta-release and your feedback will be of great help to us!"
      ]
    },
    {
      "cell_type": "markdown",
      "metadata": {
        "id": "violent-course",
        "isAgentGenerated": false,
        "language": "markdown",
        "metadata": {
          "originalKey": "86018ee5-f7b8-41ae-8e2d-460fe5f0c15b"
        },
        "originalKey": "71f92895-874d-4fc7-ae87-a5519b18d1a0",
        "outputsInitialized": false,
        "showInput": false
      },
      "source": [
        "## 3. I know which Botorch `Model` and `AcquisitionFunction` I'd like to combine in Ax. How do set this up?"
      ]
    },
    {
      "cell_type": "markdown",
      "metadata": {
        "id": "unlike-football",
        "isAgentGenerated": false,
        "language": "markdown",
        "metadata": {
          "code_folding": [],
          "hidden_ranges": [],
          "originalKey": "b29a846d-d7bc-4143-8318-10170c9b4298",
          "showInput": false
        },
        "originalKey": "4af8afa2-5056-46be-b7b9-428127e668cc",
        "outputsInitialized": false,
        "showInput": false
      },
      "source": [
        "### 3a. Making a `Surrogate` from BoTorch `Model`:\n",
        "Most models should work with base `Surrogate` in Ax, except for BoTorch `ModelListGP`. `ModelListGP` is a special case because its purpose is to combine multiple sub-models into a single `Model` in BoTorch. It is most commonly used for multi-objective and constrained optimization. Whether or not `ModelListGP` is used is determined automatically based on the `Model` class and the data being used via the `ax.models.torch.botorch_modular.utils.use_model_list` function.\n",
        "\n",
        "If your `Model` is not a `ModelListGP`, the steps to set it up as a `Surrogate` are:\n",
        "1. Implement a [`construct_inputs` class method](https://github.com/pytorch/botorch/blob/main/botorch/models/model.py#L143). The purpose of this method is to produce arguments to a particular model from a standardized set of inputs passed to BoTorch `Model`-s from [`Surrogate.construct`](https://github.com/facebook/Ax/blob/main/ax/models/torch/botorch_modular/surrogate.py#L148) in Ax. It should accept training data in form of a `SupervisedDataset` container and optionally other keyword arguments and produce a dictionary of arguments to `__init__` of the `Model`. See [`SingleTaskMultiFidelityGP.construct_inputs`](https://github.com/pytorch/botorch/blob/5b3172f3daa22f6ea2f6f4d1d0a378a9518dcd8d/botorch/models/gp_regression_fidelity.py#L131) for an example.\n",
        "2. Pass any additional needed keyword arguments for the `Model` constructor (that cannot be constructed from the training data and other arguments to `construct_inputs`) via the `model_options` argument to `ModelConfig` in `SurrogateSpec`."
      ]
    },
    {
      "cell_type": "code",
      "execution_count": 7,
      "metadata": {
        "collapsed": false,
        "executionStartTime": 1730916308518,
        "executionStopTime": 1730916308769,
        "id": "dynamic-university",
        "isAgentGenerated": false,
        "language": "python",
        "metadata": {
          "code_folding": [],
          "hidden_ranges": [],
          "originalKey": "6c2ea955-c7a4-42ff-a4d7-f787113d4d53"
        },
        "originalKey": "746fc2a3-0e0e-4ab4-84d9-32434eb1fc34",
        "outputsInitialized": true,
        "requestMsgId": "746fc2a3-0e0e-4ab4-84d9-32434eb1fc34",
        "serverExecutionDuration": 2.4644429795444
      },
      "outputs": [],
      "source": [
        "from botorch.models.model import Model\n",
        "from botorch.utils.datasets import SupervisedDataset\n",
        "\n",
        "\n",
        "class MyModelClass(Model):\n",
        "\n",
        "    ...  # Implementation of `MyModelClass`\n",
        "\n",
        "    @classmethod\n",
        "    def construct_inputs(\n",
        "        cls, training_data: SupervisedDataset, **kwargs\n",
        "    ) -> Dict[str, Any]:\n",
        "        fidelity_features = kwargs.get(\"fidelity_features\")\n",
        "        if fidelity_features is None:\n",
        "            raise ValueError(f\"Fidelity features required for {cls.__name__}.\")\n",
        "\n",
        "        return {\n",
        "            **super().construct_inputs(training_data=training_data, **kwargs),\n",
        "            \"fidelity_features\": fidelity_features,\n",
        "        }\n",
        "\n",
        "\n",
        "surrogate_spec = SurrogateSpec(\n",
        "    model_configs=[\n",
        "        ModelConfig(\n",
        "            botorch_model_class=MyModelClass,  # Must implement `construct_inputs`\n",
        "            # Optional dict of additional keyword arguments to `MyModelClass`\n",
        "            model_options={},\n",
        "        )\n",
        "    ]\n",
        ")"
      ]
    },
    {
      "cell_type": "markdown",
      "metadata": {
        "id": "otherwise-context",
        "isAgentGenerated": false,
        "language": "markdown",
        "metadata": {
          "originalKey": "b9072296-956d-4add-b1f6-e7e0415ba65c"
        },
        "originalKey": "5a27fd2c-4c4c-41fe-a634-f6d0ec4f1666",
        "outputsInitialized": false,
        "showInput": false
      },
      "source": [
        "NOTE: if you run into a case where base `Surrogate` does not work with your BoTorch `Model`, please let us know in this Github issue: https://github.com/facebook/Ax/issues/363, so we can find the right solution and augment this tutorial."
      ]
    },
    {
      "cell_type": "markdown",
      "metadata": {
        "id": "northern-invite",
        "isAgentGenerated": false,
        "language": "markdown",
        "metadata": {
          "originalKey": "335cabdf-2bf6-48e8-ba0c-1404a8ef47f9"
        },
        "originalKey": "df06d02b-95cb-4d34-aac6-773231f1a129",
        "outputsInitialized": false,
        "showInput": false
      },
      "source": [
        "### 3B. Using an arbitrary BoTorch `AcquisitionFunction` in Ax"
      ]
    },
    {
      "cell_type": "markdown",
      "metadata": {
        "id": "surrounded-denial",
        "isAgentGenerated": false,
        "language": "markdown",
        "metadata": {
          "code_folding": [],
          "hidden_ranges": [],
          "originalKey": "e3f0c788-2131-4116-9518-4ae7daeb991f",
          "showInput": false
        },
        "originalKey": "d4861847-b757-4fcd-9f35-ba258080812c",
        "outputsInitialized": false,
        "showInput": false
      },
      "source": [
        "Steps to set up any `AcquisitionFunction` in Ax are:\n",
        "1. Define an input constructor function. The purpose of this method is to produce arguments to a acquisition function from a standardized set of inputs passed to BoTorch `AcquisitionFunction`-s from `Acquisition.__init__` in Ax. For example, see [`construct_inputs_qEHVI`](https://github.com/pytorch/botorch/blob/main/botorch/acquisition/input_constructors.py#L477), which creates a fairly complex set of arguments needed by `qExpectedHypervolumeImprovement` –– a popular multi-objective optimization acquisition function offered in Ax and BoTorch. For more examples, see this collection in BoTorch: [botorch/acquisition/input_constructors.py](https://github.com/pytorch/botorch/blob/main/botorch/acquisition/input_constructors.py) \n",
        "   1. Note that the new input constructor needs to be decorated with `@acqf_input_constructor(AcquisitionFunctionClass)` to register it.\n",
        "3. Specify the BoTorch `AcquisitionFunction` class as `botorch_acqf_class` to `BoTorchModel`\n",
        "4. (Optional) Pass any additional keyword arguments to acquisition function constructor or to the optimizer function via `acquisition_options` argument to `BoTorchModel`."
      ]
    },
    {
      "cell_type": "code",
      "execution_count": 8,
      "metadata": {
        "collapsed": false,
        "customOutput": null,
        "executionStartTime": 1730916310518,
        "executionStopTime": 1730916310772,
        "id": "interested-search",
        "isAgentGenerated": false,
        "language": "python",
        "metadata": {
          "code_folding": [],
          "hidden_ranges": [],
          "originalKey": "6967ce3e-929b-4d9a-8cd1-72bf94f0be3a"
        },
        "originalKey": "f188f40b-64ba-4b0c-b216-f3dea8c7465e",
        "outputsInitialized": true,
        "requestMsgId": "f188f40b-64ba-4b0c-b216-f3dea8c7465e",
        "serverExecutionDuration": 4.9752569757402
      },
      "outputs": [
        {
          "data": {
            "text/plain": [
              "BoTorchModel"
            ]
          },
          "execution_count": 8,
          "metadata": {},
          "output_type": "execute_result"
        }
      ],
      "source": [
        "from ax.models.torch.botorch_modular.optimizer_argparse import optimizer_argparse\n",
        "from botorch.acquisition.acquisition import AcquisitionFunction\n",
        "from botorch.acquisition.input_constructors import acqf_input_constructor, MaybeDict\n",
        "from botorch.utils.datasets import SupervisedDataset\n",
        "from torch import Tensor\n",
        "\n",
        "\n",
        "class MyAcquisitionFunctionClass(AcquisitionFunction):\n",
        "    ...  # Actual contents of the acquisition function class.\n",
        "\n",
        "\n",
        "# 1. Add input constructor\n",
        "@acqf_input_constructor(MyAcquisitionFunctionClass)\n",
        "def construct_inputs_my_acqf(\n",
        "    model: Model,\n",
        "    training_data: MaybeDict[SupervisedDataset],\n",
        "    objective_thresholds: Tensor,\n",
        "    **kwargs: Any,\n",
        ") -> Dict[str, Any]:\n",
        "    pass\n",
        "\n",
        "\n",
        "\n",
        "# 2-3. Specifying `botorch_acqf_class` and `acquisition_options`\n",
        "BoTorchModel(\n",
        "    botorch_acqf_class=MyAcquisitionFunctionClass,\n",
        "    acquisition_options={\n",
        "        \"alpha\": 10**-6,\n",
        "        # The sub-dict by the key \"optimizer_options\" can be passed\n",
        "        # to propagate options to `optimize_acqf`, used in\n",
        "        # `Acquisition.optimize`, to add/override the default\n",
        "        # optimizer options registered above.\n",
        "        \"optimizer_options\": {\"sequential\": False},\n",
        "    },\n",
        ")"
      ]
    },
    {
      "cell_type": "markdown",
      "metadata": {
        "id": "metallic-imaging",
        "isAgentGenerated": false,
        "language": "markdown",
        "metadata": {
          "originalKey": "29256ab1-f214-4604-a423-4c7b4b36baa0"
        },
        "originalKey": "b057722d-b8ca-47dd-b2c8-1ff4a71c4863",
        "outputsInitialized": false,
        "showInput": false
      },
      "source": [
        "See section 2A for combining the resulting `Surrogate` instance and `Acquisition` type into a `BoTorchModel`. You can also leverage `Models.BOTORCH_MODULAR` for ease of use; more on it in section 4 below or in section 1 quick-start example."
      ]
    },
    {
      "cell_type": "markdown",
      "metadata": {
        "id": "descending-australian",
        "isAgentGenerated": false,
        "language": "markdown",
        "metadata": {
          "originalKey": "1d15082f-1df7-4cdb-958b-300483eb7808"
        },
        "originalKey": "a7406f13-1468-487d-ac5e-7d2a45394850",
        "outputsInitialized": false,
        "showInput": false
      },
      "source": [
        "## 4. Using `Models.BOTORCH_MODULAR` \n",
        "\n",
        "To simplify the instantiation of an Ax ModelBridge and its undelying Model, Ax provides a [`Models` registry enum](https://github.com/facebook/Ax/blob/main/ax/modelbridge/registry.py#L355). When calling entries of that enum (e.g. `Models.BOTORCH_MODULAR(experiment, data)`), the inputs are automatically distributed between a `Model` and a `ModelBridge` for a given setup. A call to a `Model` enum member yields a model bridge with an underlying model, ready for use to generate candidates.\n",
        "\n",
        "Here we use `Models.BOTORCH_MODULAR` to set up a model with all-default subcomponents:"
      ]
    },
    {
      "cell_type": "code",
      "execution_count": 9,
      "metadata": {
        "collapsed": false,
        "executionStartTime": 1730916311983,
        "executionStopTime": 1730916312395,
        "id": "attached-border",
        "isAgentGenerated": false,
        "language": "python",
        "metadata": {
          "originalKey": "385b2f30-fd86-4d88-8784-f238ea8a6abb"
        },
        "originalKey": "052cf2e4-8de0-4ec3-a3f9-478194b10928",
        "outputsInitialized": true,
        "requestMsgId": "052cf2e4-8de0-4ec3-a3f9-478194b10928",
        "serverExecutionDuration": 202.78578903526
      },
      "outputs": [
        {
          "name": "stderr",
          "output_type": "stream",
          "text": [
            "[INFO 11-06 10:05:12] ax.modelbridge.transforms.standardize_y: Outcome branin is constant, within tolerance.\n"
          ]
        },
        {
          "data": {
            "text/plain": [
              "GeneratorRun(1 arms, total weight 1.0)"
            ]
          },
          "execution_count": 9,
          "metadata": {},
          "output_type": "execute_result"
        }
      ],
      "source": [
        "model_bridge_with_GPEI = Models.BOTORCH_MODULAR(\n",
        "    experiment=experiment,\n",
        "    data=data,\n",
        ")\n",
        "model_bridge_with_GPEI.gen(1)"
      ]
    },
    {
      "cell_type": "code",
      "execution_count": 10,
      "metadata": {
        "collapsed": false,
        "executionStartTime": 1730916312432,
        "executionStopTime": 1730916312657,
        "id": "powerful-gamma",
        "isAgentGenerated": false,
        "language": "python",
        "metadata": {
          "originalKey": "89930a31-e058-434b-b587-181931e247b6"
        },
        "originalKey": "b7f924fe-f3d9-4211-b402-421f4c90afe5",
        "outputsInitialized": true,
        "requestMsgId": "b7f924fe-f3d9-4211-b402-421f4c90afe5",
        "serverExecutionDuration": 3.1334219966084
      },
      "outputs": [
        {
          "data": {
            "text/plain": [
              "botorch.acquisition.logei.qLogNoisyExpectedImprovement"
            ]
          },
          "execution_count": 10,
          "metadata": {},
          "output_type": "execute_result"
        }
      ],
      "source": [
        "model_bridge_with_GPEI.model.botorch_acqf_class"
      ]
    },
    {
      "cell_type": "code",
      "execution_count": 11,
      "metadata": {
        "collapsed": false,
        "executionStartTime": 1730916312847,
        "executionStopTime": 1730916313093,
        "id": "improved-replication",
        "isAgentGenerated": false,
        "language": "python",
        "metadata": {
          "originalKey": "f9a9cb14-20c3-4e1d-93a3-6a35c281ae01"
        },
        "originalKey": "942f1817-8d40-48f8-8725-90c25a079e4c",
        "outputsInitialized": true,
        "requestMsgId": "942f1817-8d40-48f8-8725-90c25a079e4c",
        "serverExecutionDuration": 3.410067060031
      },
      "outputs": [
        {
          "data": {
            "text/plain": [
              "botorch.models.gp_regression.SingleTaskGP"
            ]
          },
          "execution_count": 11,
          "metadata": {},
          "output_type": "execute_result"
        }
      ],
      "source": [
        "model_bridge_with_GPEI.model.surrogate.model.__class__"
      ]
    },
    {
      "cell_type": "markdown",
      "metadata": {
        "id": "connected-sheet",
        "isAgentGenerated": false,
        "language": "markdown",
        "metadata": {
          "originalKey": "8b6a9ddc-d2d2-4cd5-a6a8-820113f78262"
        },
        "originalKey": "f5c0adbd-00a6-428d-810f-1e7ed0954b08",
        "outputsInitialized": false,
        "showInput": false
      },
      "source": [
        "We can use the same `Models.BOTORCH_MODULAR` to set up a model for multi-objective optimization:"
      ]
    },
    {
      "cell_type": "code",
      "execution_count": 12,
      "metadata": {
        "collapsed": false,
        "executionStartTime": 1730916314009,
        "executionStopTime": 1730916314736,
        "id": "documentary-jurisdiction",
        "isAgentGenerated": false,
        "language": "python",
        "metadata": {
          "originalKey": "8001de33-d9d9-4888-a5d1-7a59ebeccfd5"
        },
        "originalKey": "9c64c497-f663-42a6-aa48-1f1f2ae2b80b",
        "outputsInitialized": true,
        "requestMsgId": "9c64c497-f663-42a6-aa48-1f1f2ae2b80b",
        "serverExecutionDuration": 518.53136904538
      },
      "outputs": [
        {
          "name": "stderr",
          "output_type": "stream",
          "text": [
            "[INFO 11-06 10:05:14] ax.core.experiment: The is_test flag has been set to True. This flag is meant purely for development and integration testing purposes. If you are running a live experiment, please set this flag to False\n"
          ]
        },
        {
          "name": "stderr",
          "output_type": "stream",
          "text": [
            "[INFO 11-06 10:05:14] ax.modelbridge.transforms.standardize_y: Outcome branin_a is constant, within tolerance.\n"
          ]
        },
        {
          "name": "stderr",
          "output_type": "stream",
          "text": [
            "[INFO 11-06 10:05:14] ax.modelbridge.transforms.standardize_y: Outcome branin_b is constant, within tolerance.\n"
          ]
        },
        {
          "data": {
            "text/plain": [
              "GeneratorRun(1 arms, total weight 1.0)"
            ]
          },
          "execution_count": 12,
          "metadata": {},
          "output_type": "execute_result"
        }
      ],
      "source": [
        "model_bridge_with_EHVI = Models.BOTORCH_MODULAR(\n",
        "    experiment=get_branin_experiment_with_multi_objective(\n",
        "        has_objective_thresholds=True, with_batch=True\n",
        "    ),\n",
        "    data=get_branin_data_multi_objective(),\n",
        ")\n",
        "model_bridge_with_EHVI.gen(1)"
      ]
    },
    {
      "cell_type": "code",
      "execution_count": 13,
      "metadata": {
        "collapsed": false,
        "executionStartTime": 1730916314586,
        "executionStopTime": 1730916314842,
        "id": "changed-maintenance",
        "isAgentGenerated": false,
        "language": "python",
        "metadata": {
          "originalKey": "dcfdbecc-4a9a-49ac-ad55-0bc04b2ec566"
        },
        "originalKey": "ab6e84ac-2a55-4f48-9ab7-06b8d9b58d1f",
        "outputsInitialized": true,
        "requestMsgId": "ab6e84ac-2a55-4f48-9ab7-06b8d9b58d1f",
        "serverExecutionDuration": 3.3097150735557
      },
      "outputs": [
        {
          "data": {
            "text/plain": [
              "botorch.acquisition.multi_objective.logei.qLogNoisyExpectedHypervolumeImprovement"
            ]
          },
          "execution_count": 13,
          "metadata": {},
          "output_type": "execute_result"
        }
      ],
      "source": [
        "model_bridge_with_EHVI.model.botorch_acqf_class"
      ]
    },
    {
      "cell_type": "code",
      "execution_count": 14,
      "metadata": {
        "collapsed": false,
        "executionStartTime": 1730916315097,
        "executionStopTime": 1730916315308,
        "id": "operating-shelf",
        "isAgentGenerated": false,
        "language": "python",
        "metadata": {
          "originalKey": "16727a51-337d-4715-bf51-9cb6637a950f"
        },
        "originalKey": "1e980e3c-09f6-44c1-a79f-f59867de0c3e",
        "outputsInitialized": true,
        "requestMsgId": "1e980e3c-09f6-44c1-a79f-f59867de0c3e",
        "serverExecutionDuration": 3.4662369871512
      },
      "outputs": [
        {
          "data": {
            "text/plain": [
              "botorch.models.gp_regression.SingleTaskGP"
            ]
          },
          "execution_count": 14,
          "metadata": {},
          "output_type": "execute_result"
        }
      ],
      "source": [
        "model_bridge_with_EHVI.model.surrogate.model.__class__"
      ]
    },
    {
      "cell_type": "markdown",
      "metadata": {
        "id": "fatal-butterfly",
        "isAgentGenerated": false,
        "language": "markdown",
        "metadata": {
          "originalKey": "5c64eecc-5ce5-4907-bbcc-5b3cbf4358ae"
        },
        "originalKey": "3ad7c4a7-fe19-44ad-938d-1be4f8b09bfb",
        "outputsInitialized": false,
        "showInput": false
      },
      "source": [
        "Furthermore, the quick-start example at the top of this tutorial shows how to specify surrogate and acquisition subcomponents to `Models.BOTORCH_MODULAR`. "
      ]
    },
    {
      "cell_type": "markdown",
      "metadata": {
        "id": "hearing-interface",
        "isAgentGenerated": false,
        "language": "markdown",
        "metadata": {
          "originalKey": "a0163432-f0ca-4582-ad84-16c77c99f20b"
        },
        "originalKey": "44adf1ce-6d3e-455d-b53c-32d3c42a843f",
        "outputsInitialized": false,
        "showInput": false
      },
      "source": [
        "## 5. Utilizing `BoTorchModel` in generation strategies\n",
        "\n",
        "Generation strategy is a key concept in Ax, enabling use of Service API (a.k.a. `AxClient`) and many other higher-level abstractions. A `GenerationStrategy` allows to chain multiple models in Ax and thereby automate candidate generation. Refer to the \"Generation Strategy\" tutorial for more detail in generation strategies.\n",
        "\n",
        "An example generation stategy with the modular `BoTorchModel` would look like this:"
      ]
    },
    {
      "cell_type": "code",
      "execution_count": 15,
      "metadata": {
        "collapsed": false,
        "executionStartTime": 1730916316730,
        "executionStopTime": 1730916316968,
        "id": "received-registration",
        "isAgentGenerated": false,
        "language": "python",
        "metadata": {
          "originalKey": "f7eabbcf-607c-4bed-9a0e-6ac6e8b04350"
        },
        "originalKey": "4ee172c8-0648-418b-9968-647e8e916507",
        "outputsInitialized": true,
        "requestMsgId": "4ee172c8-0648-418b-9968-647e8e916507",
        "serverExecutionDuration": 2.2927720565349
      },
      "outputs": [],
      "source": [
        "from ax.modelbridge.generation_strategy import GenerationStep, GenerationStrategy\n",
        "from ax.modelbridge.modelbridge_utils import get_pending_observation_features\n",
        "\n",
        "gs = GenerationStrategy(\n",
        "    steps=[\n",
        "        GenerationStep(  # Initialization step\n",
        "            # Which model to use for this step\n",
        "            model=Models.SOBOL,\n",
        "            # How many generator runs (each of which is then made a trial)\n",
        "            # to produce with this step\n",
        "            num_trials=5,\n",
        "            # How many trials generated from this step must be `COMPLETED`\n",
        "            # before the next one\n",
        "            min_trials_observed=5,\n",
        "        ),\n",
        "        GenerationStep(  # BayesOpt step\n",
        "            model=Models.BOTORCH_MODULAR,\n",
        "            # No limit on how many generator runs will be produced\n",
        "            num_trials=-1,\n",
        "            model_kwargs={  # Kwargs to pass to `BoTorchModel.__init__`\n",
        "                \"surrogate_spec\": SurrogateSpec(\n",
        "                    model_configs=[ModelConfig(botorch_model_class=SingleTaskGP)]\n",
        "                ),\n",
        "                \"botorch_acqf_class\": qLogNoisyExpectedImprovement,\n",
        "            },\n",
        "        ),\n",
        "    ]\n",
        ")"
      ]
    },
    {
      "cell_type": "markdown",
      "metadata": {
        "id": "logical-windsor",
        "isAgentGenerated": false,
        "language": "markdown",
        "metadata": {
          "originalKey": "212c4543-220e-4605-8f72-5f86cf52f722"
        },
        "originalKey": "ba3783ee-3d88-4e44-ad07-77de3c50f84d",
        "outputsInitialized": false,
        "showInput": false
      },
      "source": [
        "Set up an experiment and generate 10 trials in it, adding synthetic data to experiment after each one:"
      ]
    },
    {
      "cell_type": "code",
      "execution_count": 16,
      "metadata": {
        "collapsed": false,
        "executionStartTime": 1730916317751,
        "executionStopTime": 1730916318153,
        "id": "viral-cheese",
        "isAgentGenerated": false,
        "language": "python",
        "metadata": {
          "originalKey": "30cfcdd7-721d-4f89-b851-7a94140dfad6"
        },
        "originalKey": "1b7d0cfc-f7cf-477d-b109-d34db9604938",
        "outputsInitialized": true,
        "requestMsgId": "1b7d0cfc-f7cf-477d-b109-d34db9604938",
        "serverExecutionDuration": 3.9581339806318
      },
      "outputs": [
        {
          "name": "stderr",
          "output_type": "stream",
          "text": [
            "[INFO 11-06 10:05:18] ax.core.experiment: The is_test flag has been set to True. This flag is meant purely for development and integration testing purposes. If you are running a live experiment, please set this flag to False\n"
          ]
        },
        {
          "data": {
            "text/plain": [
              "SearchSpace(parameters=[RangeParameter(name='x1', parameter_type=FLOAT, range=[-5.0, 10.0]), RangeParameter(name='x2', parameter_type=FLOAT, range=[0.0, 15.0])], parameter_constraints=[])"
            ]
          },
          "execution_count": 16,
          "metadata": {},
          "output_type": "execute_result"
        }
      ],
      "source": [
        "experiment = get_branin_experiment(minimize=True)\n",
        "\n",
        "assert len(experiment.trials) == 0\n",
        "experiment.search_space"
      ]
    },
    {
      "cell_type": "markdown",
      "metadata": {
        "id": "incident-newspaper",
        "isAgentGenerated": false,
        "language": "markdown",
        "metadata": {
          "originalKey": "2807d7ce-8a6b-423c-b5f5-32edba09c78e"
        },
        "originalKey": "df2e90f5-4132-4d87-989b-e6d47c748ddc",
        "outputsInitialized": false,
        "showInput": false
      },
      "source": [
        "## 5a. Specifying `pending_observations`\n",
        "Note that it's important to **specify pending observations** to the call to `gen` to avoid getting the same points re-suggested. Without `pending_observations` argument, Ax models are not aware of points that should be excluded from generation. Points are considered \"pending\" when they belong to `STAGED`, `RUNNING`, or `ABANDONED` trials (with the latter included so model does not re-suggest points that are considered \"bad\" and should not be re-suggested).\n",
        "\n",
        "If the call to `get_pending_observation_features` becomes slow in your setup (since it performs data-fetching etc.), you can opt for `get_pending_observation_features_based_on_trial_status` (also from `ax.modelbridge.modelbridge_utils`), but note the limitations of that utility (detailed in its docstring)."
      ]
    },
    {
      "cell_type": "code",
      "execution_count": 17,
      "metadata": {
        "collapsed": false,
        "executionStartTime": 1730916318830,
        "executionStopTime": 1730916321328,
        "id": "casual-spread",
        "isAgentGenerated": false,
        "language": "python",
        "metadata": {
          "originalKey": "58aafd65-a366-4b66-a1b1-31b207037a2e"
        },
        "originalKey": "fe7437c5-8834-46cc-94b2-91782d91ee96",
        "outputsInitialized": true,
        "requestMsgId": "fe7437c5-8834-46cc-94b2-91782d91ee96",
        "serverExecutionDuration": 2274.8276960338
      },
      "outputs": [
        {
          "name": "stdout",
          "output_type": "stream",
          "text": [
            "Completed trial #0, suggested by Sobol.\n",
            "Completed trial #1, suggested by Sobol.\n",
            "Completed trial #2, suggested by Sobol.\n",
            "Completed trial #3, suggested by Sobol.\n",
            "Completed trial #4, suggested by Sobol.\n"
          ]
        },
        {
          "name": "stdout",
          "output_type": "stream",
          "text": [
            "Completed trial #5, suggested by BoTorch.\n"
          ]
        },
        {
          "name": "stdout",
          "output_type": "stream",
          "text": [
            "Completed trial #6, suggested by BoTorch.\n"
          ]
        },
        {
          "name": "stdout",
          "output_type": "stream",
          "text": [
            "Completed trial #7, suggested by BoTorch.\n"
          ]
        },
        {
          "name": "stdout",
          "output_type": "stream",
          "text": [
            "Completed trial #8, suggested by BoTorch.\n"
          ]
        },
        {
          "name": "stdout",
          "output_type": "stream",
          "text": [
            "Completed trial #9, suggested by BoTorch.\n"
          ]
        }
      ],
      "source": [
        "for _ in range(10):\n",
        "    # Produce a new generator run and attach it to experiment as a trial\n",
        "    generator_run = gs.gen(\n",
        "        experiment=experiment,\n",
        "        n=1,\n",
        "        pending_observations=get_pending_observation_features(experiment=experiment),\n",
        "    )\n",
        "    trial = experiment.new_trial(generator_run)\n",
        "\n",
        "    # Mark the trial as 'RUNNING' so we can mark it 'COMPLETED' later\n",
        "    trial.mark_running(no_runner_required=True)\n",
        "\n",
        "    # Attach data for the new trial and mark it 'COMPLETED'\n",
        "    experiment.attach_data(get_branin_data(trials=[trial]))\n",
        "    trial.mark_completed()\n",
        "\n",
        "    print(f\"Completed trial #{trial.index}, suggested by {generator_run._model_key}.\")"
      ]
    },
    {
      "cell_type": "markdown",
      "metadata": {
        "id": "circular-vermont",
        "isAgentGenerated": false,
        "language": "markdown",
        "metadata": {
          "originalKey": "9d3b86bf-b691-4315-8b8f-60504b37818c"
        },
        "originalKey": "6a78ef13-fbaa-4cae-934b-d57f5807fe25",
        "outputsInitialized": false,
        "showInput": false
      },
      "source": [
        "Now we examine the experiment and observe the trials that were added to it and produced by the generation strategy:"
      ]
    },
    {
      "cell_type": "code",
      "execution_count": 18,
      "metadata": {
        "collapsed": false,
        "executionStartTime": 1730916319576,
        "executionStopTime": 1730916321368,
        "id": "significant-particular",
        "isAgentGenerated": false,
        "language": "python",
        "metadata": {
          "originalKey": "ca12913d-e3fd-4617-a247-e3432665bac1"
        },
        "originalKey": "b3160bc0-d5d1-45fa-bf62-4b9dd5778cac",
        "outputsInitialized": true,
        "requestMsgId": "b3160bc0-d5d1-45fa-bf62-4b9dd5778cac",
        "serverExecutionDuration": 35.789265064523
      },
      "outputs": [
        {
          "name": "stderr",
          "output_type": "stream",
          "text": [
            "[WARNING 11-06 10:05:21] ax.service.utils.report_utils: Column reason missing for all trials. Not appending column.\n"
          ]
        },
        {
          "data": {
            "application/vnd.dataresource+json": {
              "data": [
                {
                  "arm_name": "0_0",
                  "branin": 26.9225058393,
                  "generation_method": "Sobol",
                  "index": 0,
                  "trial_index": 0,
                  "trial_status": "COMPLETED",
                  "x1": -2.2440226376,
                  "x2": 5.4356087744
                },
                {
                  "arm_name": "1_0",
                  "branin": 74.0725171307,
                  "generation_method": "Sobol",
                  "index": 1,
                  "trial_index": 1,
                  "trial_status": "COMPLETED",
                  "x1": 3.535081069,
                  "x2": 10.5286756391
                },
                {
                  "arm_name": "2_0",
                  "branin": 5.6100798162,
                  "generation_method": "Sobol",
                  "index": 2,
                  "trial_index": 2,
                  "trial_status": "COMPLETED",
                  "x1": 8.7412616471,
                  "x2": 3.7066908041
                },
                {
                  "arm_name": "3_0",
                  "branin": 56.6576230229,
                  "generation_method": "Sobol",
                  "index": 3,
                  "trial_index": 3,
                  "trial_status": "COMPLETED",
                  "x1": -0.0691637676,
                  "x2": 12.1999046439
                },
                {
                  "arm_name": "4_0",
                  "branin": 27.9327040954,
                  "generation_method": "Sobol",
                  "index": 4,
                  "trial_index": 4,
                  "trial_status": "COMPLETED",
                  "x1": 0.8620139305,
                  "x2": 1.3060741313
                },
                {
                  "arm_name": "5_0",
                  "branin": 5.4230616409,
                  "generation_method": "BoTorch",
                  "index": 5,
                  "trial_index": 5,
                  "trial_status": "COMPLETED",
                  "x1": 10,
                  "x2": 4.8684112356
                },
                {
                  "arm_name": "6_0",
                  "branin": 9.2504522786,
                  "generation_method": "BoTorch",
                  "index": 6,
                  "trial_index": 6,
                  "trial_status": "COMPLETED",
                  "x1": 10,
                  "x2": 0.2997526514
                },
                {
                  "arm_name": "7_0",
                  "branin": 308.1290960116,
                  "generation_method": "BoTorch",
                  "index": 7,
                  "trial_index": 7,
                  "trial_status": "COMPLETED",
                  "x1": -5,
                  "x2": 0
                },
                {
                  "arm_name": "8_0",
                  "branin": 17.6076329851,
                  "generation_method": "BoTorch",
                  "index": 8,
                  "trial_index": 8,
                  "trial_status": "COMPLETED",
                  "x1": 0.7786866384,
                  "x2": 5.7179317285
                },
                {
                  "arm_name": "9_0",
                  "branin": 132.9862090134,
                  "generation_method": "BoTorch",
                  "index": 9,
                  "trial_index": 9,
                  "trial_status": "COMPLETED",
                  "x1": 1.451894724,
                  "x2": 15
                }
              ],
              "schema": {
                "fields": [
                  {
                    "name": "index",
                    "type": "integer"
                  },
                  {
                    "name": "trial_index",
                    "type": "integer"
                  },
                  {
                    "name": "arm_name",
                    "type": "string"
                  },
                  {
                    "name": "trial_status",
                    "type": "string"
                  },
                  {
                    "name": "generation_method",
                    "type": "string"
                  },
                  {
                    "name": "branin",
                    "type": "number"
                  },
                  {
                    "name": "x1",
                    "type": "number"
                  },
                  {
                    "name": "x2",
                    "type": "number"
                  }
                ],
                "pandas_version": "1.4.0",
                "primaryKey": [
                  "index"
                ]
              }
            },
            "text/html": [
              "<div>\n",
              "<style scoped>\n",
              "    .dataframe tbody tr th:only-of-type {\n",
              "        vertical-align: middle;\n",
              "    }\n",
              "\n",
              "    .dataframe tbody tr th {\n",
              "        vertical-align: top;\n",
              "    }\n",
              "\n",
              "    .dataframe thead th {\n",
              "        text-align: right;\n",
              "    }\n",
              "</style>\n",
              "<table border=\"1\" class=\"dataframe\">\n",
              "  <thead>\n",
              "    <tr style=\"text-align: right;\">\n",
              "      <th></th>\n",
              "      <th>trial_index</th>\n",
              "      <th>arm_name</th>\n",
              "      <th>trial_status</th>\n",
              "      <th>generation_method</th>\n",
              "      <th>branin</th>\n",
              "      <th>x1</th>\n",
              "      <th>x2</th>\n",
              "    </tr>\n",
              "  </thead>\n",
              "  <tbody>\n",
              "    <tr>\n",
              "      <th>0</th>\n",
              "      <td>0</td>\n",
              "      <td>0_0</td>\n",
              "      <td>COMPLETED</td>\n",
              "      <td>Sobol</td>\n",
              "      <td>26.922506</td>\n",
              "      <td>-2.244023</td>\n",
              "      <td>5.435609</td>\n",
              "    </tr>\n",
              "    <tr>\n",
              "      <th>1</th>\n",
              "      <td>1</td>\n",
              "      <td>1_0</td>\n",
              "      <td>COMPLETED</td>\n",
              "      <td>Sobol</td>\n",
              "      <td>74.072517</td>\n",
              "      <td>3.535081</td>\n",
              "      <td>10.528676</td>\n",
              "    </tr>\n",
              "    <tr>\n",
              "      <th>2</th>\n",
              "      <td>2</td>\n",
              "      <td>2_0</td>\n",
              "      <td>COMPLETED</td>\n",
              "      <td>Sobol</td>\n",
              "      <td>5.610080</td>\n",
              "      <td>8.741262</td>\n",
              "      <td>3.706691</td>\n",
              "    </tr>\n",
              "    <tr>\n",
              "      <th>3</th>\n",
              "      <td>3</td>\n",
              "      <td>3_0</td>\n",
              "      <td>COMPLETED</td>\n",
              "      <td>Sobol</td>\n",
              "      <td>56.657623</td>\n",
              "      <td>-0.069164</td>\n",
              "      <td>12.199905</td>\n",
              "    </tr>\n",
              "    <tr>\n",
              "      <th>4</th>\n",
              "      <td>4</td>\n",
              "      <td>4_0</td>\n",
              "      <td>COMPLETED</td>\n",
              "      <td>Sobol</td>\n",
              "      <td>27.932704</td>\n",
              "      <td>0.862014</td>\n",
              "      <td>1.306074</td>\n",
              "    </tr>\n",
              "    <tr>\n",
              "      <th>5</th>\n",
              "      <td>5</td>\n",
              "      <td>5_0</td>\n",
              "      <td>COMPLETED</td>\n",
              "      <td>BoTorch</td>\n",
              "      <td>5.423062</td>\n",
              "      <td>10.000000</td>\n",
              "      <td>4.868411</td>\n",
              "    </tr>\n",
              "    <tr>\n",
              "      <th>6</th>\n",
              "      <td>6</td>\n",
              "      <td>6_0</td>\n",
              "      <td>COMPLETED</td>\n",
              "      <td>BoTorch</td>\n",
              "      <td>9.250452</td>\n",
              "      <td>10.000000</td>\n",
              "      <td>0.299753</td>\n",
              "    </tr>\n",
              "    <tr>\n",
              "      <th>7</th>\n",
              "      <td>7</td>\n",
              "      <td>7_0</td>\n",
              "      <td>COMPLETED</td>\n",
              "      <td>BoTorch</td>\n",
              "      <td>308.129096</td>\n",
              "      <td>-5.000000</td>\n",
              "      <td>0.000000</td>\n",
              "    </tr>\n",
              "    <tr>\n",
              "      <th>8</th>\n",
              "      <td>8</td>\n",
              "      <td>8_0</td>\n",
              "      <td>COMPLETED</td>\n",
              "      <td>BoTorch</td>\n",
              "      <td>17.607633</td>\n",
              "      <td>0.778687</td>\n",
              "      <td>5.717932</td>\n",
              "    </tr>\n",
              "    <tr>\n",
              "      <th>9</th>\n",
              "      <td>9</td>\n",
              "      <td>9_0</td>\n",
              "      <td>COMPLETED</td>\n",
              "      <td>BoTorch</td>\n",
              "      <td>132.986209</td>\n",
              "      <td>1.451895</td>\n",
              "      <td>15.000000</td>\n",
              "    </tr>\n",
              "  </tbody>\n",
              "</table>\n",
              "</div>"
            ],
            "text/plain": [
              "   trial_index arm_name trial_status  ...      branin         x1         x2\n",
              "0            0      0_0    COMPLETED  ...   26.922506  -2.244023   5.435609\n",
              "1            1      1_0    COMPLETED  ...   74.072517   3.535081  10.528676\n",
              "2            2      2_0    COMPLETED  ...    5.610080   8.741262   3.706691\n",
              "3            3      3_0    COMPLETED  ...   56.657623  -0.069164  12.199905\n",
              "4            4      4_0    COMPLETED  ...   27.932704   0.862014   1.306074\n",
              "5            5      5_0    COMPLETED  ...    5.423062  10.000000   4.868411\n",
              "6            6      6_0    COMPLETED  ...    9.250452  10.000000   0.299753\n",
              "7            7      7_0    COMPLETED  ...  308.129096  -5.000000   0.000000\n",
              "8            8      8_0    COMPLETED  ...   17.607633   0.778687   5.717932\n",
              "9            9      9_0    COMPLETED  ...  132.986209   1.451895  15.000000\n",
              "\n",
              "[10 rows x 7 columns]"
            ]
          },
          "execution_count": 18,
          "metadata": {},
          "output_type": "execute_result"
        }
      ],
      "source": [
        "exp_to_df(experiment)"
      ]
    },
    {
      "cell_type": "markdown",
      "metadata": {
        "id": "obvious-transparency",
        "isAgentGenerated": false,
        "language": "markdown",
        "metadata": {
          "originalKey": "c25da720-6d3d-4f16-b878-24f2d2755783"
        },
        "originalKey": "633c66af-a89f-4f03-a88b-866767d0a52f",
        "outputsInitialized": false,
        "showInput": false
      },
      "source": [
        "## 6. Customizing a `Surrogate` or `Acquisition`\n",
        "\n",
        "We expect the base `Surrogate` and `Acquisition` classes to work with most BoTorch components, but there could be a case where you would need to subclass one of aforementioned abstractions to handle a given BoTorch component. If you run into a case like this, feel free to open an issue on our [Github issues page](https://github.com/facebook/Ax/issues) –– it would be very useful for us to know \n",
        "\n",
        "One such example would be a need for a custom `MCAcquisitionObjective` or posterior transform. To subclass `Acquisition` accordingly, one would override the `get_botorch_objective_and_transform` method:"
      ]
    },
    {
      "cell_type": "code",
      "execution_count": 19,
      "metadata": {
        "collapsed": false,
        "executionStartTime": 1730916320585,
        "executionStopTime": 1730916321384,
        "id": "organizational-balance",
        "isAgentGenerated": false,
        "language": "python",
        "metadata": {
          "originalKey": "e7f8e413-f01e-4f9d-82c1-4912097637af"
        },
        "originalKey": "2949718a-8a4e-41e5-91ac-5b020eface47",
        "outputsInitialized": true,
        "requestMsgId": "2949718a-8a4e-41e5-91ac-5b020eface47",
        "serverExecutionDuration": 2.2059100447223
      },
      "outputs": [],
      "source": [
        "from botorch.acquisition.objective import MCAcquisitionObjective, PosteriorTransform\n",
        "from botorch.acquisition.risk_measures import RiskMeasureMCObjective\n",
        "\n",
        "\n",
        "class CustomObjectiveAcquisition(Acquisition):\n",
        "    def get_botorch_objective_and_transform(\n",
        "        self,\n",
        "        botorch_acqf_class: Type[AcquisitionFunction],\n",
        "        model: Model,\n",
        "        objective_weights: Tensor,\n",
        "        objective_thresholds: Optional[Tensor] = None,\n",
        "        outcome_constraints: Optional[Tuple[Tensor, Tensor]] = None,\n",
        "        X_observed: Optional[Tensor] = None,\n",
        "        risk_measure: Optional[RiskMeasureMCObjective] = None,\n",
        "    ) -> Tuple[Optional[MCAcquisitionObjective], Optional[PosteriorTransform]]:\n",
        "        ...  # Produce the desired `MCAcquisitionObjective` and `PosteriorTransform` instead of the default"
      ]
    },
    {
      "cell_type": "markdown",
      "metadata": {
        "id": "theoretical-horizon",
        "isAgentGenerated": false,
        "language": "markdown",
        "metadata": {
          "originalKey": "7299f0fc-e19e-4383-99de-ef7a9a987fe9"
        },
        "originalKey": "0ec8606d-9d5b-4bcb-ad7e-f54839ad6f9b",
        "outputsInitialized": false,
        "showInput": false
      },
      "source": [
        "Then to use the new subclass in `BoTorchModel`, just specify `acquisition_class` argument along with `botorch_acqf_class` (to `BoTorchModel` directly or to `Models.BOTORCH_MODULAR`, which just passes the relevant arguments to `BoTorchModel` under the hood, as discussed in section 4):"
      ]
    },
    {
      "cell_type": "code",
      "execution_count": 20,
      "metadata": {
        "collapsed": false,
        "executionStartTime": 1730916321675,
        "executionStopTime": 1730916321901,
        "id": "approximate-rolling",
        "isAgentGenerated": false,
        "language": "python",
        "metadata": {
          "originalKey": "07fe169a-78de-437e-9857-7c99cc48eedc"
        },
        "originalKey": "e231ea1e-c70d-48dc-b6c6-1611c5ea1b26",
        "outputsInitialized": true,
        "requestMsgId": "e231ea1e-c70d-48dc-b6c6-1611c5ea1b26",
        "serverExecutionDuration": 12.351316981949
      },
      "outputs": [
        {
          "name": "stderr",
          "output_type": "stream",
          "text": [
            "[INFO 11-06 10:05:21] ax.modelbridge.transforms.standardize_y: Outcome branin is constant, within tolerance.\n"
          ]
        },
        {
          "data": {
            "text/plain": [
              "TorchModelBridge(model=BoTorchModel)"
            ]
          },
          "execution_count": 20,
          "metadata": {},
          "output_type": "execute_result"
        }
      ],
      "source": [
        "Models.BOTORCH_MODULAR(\n",
        "    experiment=experiment,\n",
        "    data=data,\n",
        "    acquisition_class=CustomObjectiveAcquisition,\n",
        "    botorch_acqf_class=MyAcquisitionFunctionClass,\n",
        ")"
      ]
    },
    {
      "cell_type": "markdown",
      "metadata": {
        "id": "representative-implement",
        "isAgentGenerated": false,
        "language": "markdown",
        "metadata": {
          "originalKey": "608d5f0d-4528-4aa6-869d-db38fcbfb256"
        },
        "originalKey": "cdcfb2bc-3016-4681-9fff-407f28321c3f",
        "outputsInitialized": false,
        "showInput": false
      },
      "source": [
        "To use a custom `Surrogate` subclass, pass the `surrogate` argument of that type:\n",
        "```\n",
        "Models.BOTORCH_MODULAR(\n",
        "    experiment=experiment, \n",
        "    data=data,\n",
        "    surrogate=CustomSurrogate(botorch_model_class=MyModelClass),\n",
        ")\n",
        "```"
      ]
    },
    {
      "cell_type": "markdown",
      "metadata": {
        "id": "framed-intermediate",
        "isAgentGenerated": false,
        "language": "markdown",
        "metadata": {
          "originalKey": "64f1289e-73c7-4cc5-96ee-5091286a8361"
        },
        "originalKey": "ff03d674-f584-403f-ba65-f1bab921845b",
        "outputsInitialized": false,
        "showInput": false
      },
      "source": [
        "------"
      ]
    },
    {
      "cell_type": "markdown",
      "metadata": {
        "id": "metropolitan-feedback",
        "isAgentGenerated": false,
        "language": "markdown",
        "metadata": {
          "originalKey": "d1e37569-dd0d-4561-b890-2f0097a345e0"
        },
        "originalKey": "f71fcfa1-fc59-4bfb-84d6-b94ea5298bfa",
        "outputsInitialized": false,
        "showInput": false
      },
      "source": [
        "## Appendix 1: Methods available on `BoTorchModel`\n",
        "\n",
        "Note that usually all these methods are used through `ModelBridge` –– a convertion and transformation layer that adapts Ax abstractions to inputs required by the given model.\n",
        "\n",
        "**Core methods on `BoTorchModel`:**\n",
        "* `fit` selects a surrogate if needed and fits the surrogate model to data via `Surrogate.fit`,\n",
        "* `predict` estimates metric values at a given point via `Surrogate.predict`,\n",
        "* `gen` instantiates an acquisition function via `Acquisition.__init__` and optimizes it to generate candidates.\n",
        "\n",
        "**Other methods on `BoTorchModel`:**\n",
        "* `update` updates surrogate model with training data and optionally reoptimizes model parameters via `Surrogate.update`,\n",
        "* `cross_validate` re-fits the surrogate model to subset of training data and makes predictions for test data,\n",
        "* `evaluate_acquisition_function` instantiates an acquisition function and evaluates it for a given point.\n",
        "------\n"
      ]
    },
    {
      "cell_type": "markdown",
      "metadata": {
        "id": "possible-transsexual",
        "isAgentGenerated": false,
        "language": "markdown",
        "metadata": {
          "originalKey": "b02f928c-57d9-4b2a-b4fe-c6d28d368b12"
        },
        "originalKey": "91cedde4-8911-441f-af05-eb124581cbbc",
        "outputsInitialized": false,
        "showInput": false
      },
      "source": [
        "## Appendix 2: Default surrogate models and acquisition functions\n",
        "\n",
        "By default, the chosen surrogate model will be:\n",
        "* if fidelity parameters are present in search space: `SingleTaskMultiFidelityGP`,\n",
        "* if task parameters are present: a set of `MultiTaskGP`  wrapped in a `ModelListGP` and each modeling one task,\n",
        "* `SingleTaskGP` otherwise.\n",
        "\n",
        "The chosen acquisition function will be:\n",
        "* for multi-objective settings: `qLogExpectedHypervolumeImprovement`,\n",
        "* for single-objective settings: `qLogNoisyExpectedImprovement`.\n",
        "----"
      ]
    },
    {
      "cell_type": "markdown",
      "metadata": {
        "id": "continuous-strain",
        "isAgentGenerated": false,
        "language": "markdown",
        "metadata": {
          "originalKey": "76ae9852-9d21-43d6-bf75-bb087a474dd6"
        },
        "originalKey": "c8b0f933-8df6-479b-aa61-db75ca877624",
        "outputsInitialized": false,
        "showInput": false
      },
      "source": [
        "## Appendix 3: Handling storage errors that arise from objects that don't have serialization logic in A\n",
        "\n",
        "Attempting to store a generator run produced via `Models.BOTORCH_MODULAR` instance that included options without serization logic with will produce an error like: `\"Object <SomeAcquisitionOption object> passed to 'object_to_json' (of type <class SomeAcquisitionOption'>) is not registered with a corresponding encoder in ENCODER_REGISTRY.\"`"
      ]
    },
    {
      "cell_type": "markdown",
      "metadata": {
        "id": "broadband-voice",
        "isAgentGenerated": false,
        "language": "markdown",
        "metadata": {
          "originalKey": "6487b68e-b808-4372-b6ba-ab02ce4826bc"
        },
        "originalKey": "4d82f49a-3a8b-42f0-a4f5-5c079b793344",
        "outputsInitialized": false,
        "showInput": false
      },
      "source": [
        "The two options for handling this error are:\n",
        "1. disabling storage of `BoTorchModel`'s options by passing `no_model_options_storage=True` to `Models.BOTORCH_MODULAR(...)` call –– this will prevent model options from being stored on the generator run, so a generator run can be saved but cannot be used to restore the model that produced it,\n",
        "2. specifying serialization logic for a given object that needs to occur among the `Model` or `AcquisitionFunction` options. Tutorial for this is in the works, but in the meantime you can [post an issue on the Ax GitHub](https://github.com/facebook/Ax/issues) to get help with this."
      ]
    }
  ],
  "metadata": {
    "kernelspec": {
      "display_name": "Python 3 (ipykernel)",
      "language": "python",
      "name": "python3"
    },
    "language_info": {
      "codemirror_mode": {
        "name": "ipython",
        "version": 3
      },
      "file_extension": ".py",
      "mimetype": "text/x-python",
      "name": "python",
      "nbconvert_exporter": "python",
      "pygments_lexer": "ipython3",
      "version": "3.11.5"
    }
  },
  "nbformat": 4,
  "nbformat_minor": 5
}
