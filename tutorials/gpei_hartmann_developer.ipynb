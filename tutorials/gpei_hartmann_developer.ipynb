{
 "cells": [
  {
   "cell_type": "markdown",
   "metadata": {},
   "source": [
    "# Developer API Example on Hartmann6\n",
    "\n",
    "This is an example of Bayesian Optimization using `SimpleExperiment`, a subtype of `Experiment` used for experiments where parameter configurations can be evaluated synchrounously, without waiting for additional data."
   ]
  },
  {
   "cell_type": "code",
   "execution_count": 1,
   "metadata": {
    "collapsed": true
   },
   "outputs": [],
   "source": [
    "import numpy as np\n",
    "from ax import (\n",
    "    ComparisonOp,\n",
    "    ParameterType, \n",
    "    RangeParameter,\n",
    "    SearchSpace, \n",
    "    SimpleExperiment, \n",
    "    OutcomeConstraint, \n",
    ")\n",
    "from ax.metrics.l2norm import L2NormMetric\n",
    "from ax.modelbridge.factory import Models\n",
    "from ax.plot.contour import plot_contour\n",
    "from ax.plot.trace import optimization_trace_single_method\n",
    "from ax.utils.notebook.plotting import render, init_notebook_plotting"
   ]
  },
  {
   "cell_type": "code",
   "execution_count": 2,
   "metadata": {},
   "outputs": [
    {
     "data": {
      "text/html": [
       "<script type='text/javascript'>requirejs.config({\n",
       "  paths: {\n",
       "    plotly: ['https://cdn.plot.ly/plotly-latest.min'],\n",
       "  },\n",
       "});\n",
       "if (!window.Plotly) {\n",
       "  require(['plotly'], function(plotly) {\n",
       "    window.Plotly = plotly;\n",
       "  });\n",
       "}\n",
       "// helper functions used across multiple plots\n",
       "function rgb(rgb_array) {\n",
       "  return 'rgb(' + rgb_array.join() + ')';\n",
       "}\n",
       "\n",
       "function copy_and_reverse(arr) {\n",
       "  const copy = arr.slice();\n",
       "  copy.reverse();\n",
       "  return copy;\n",
       "}\n",
       "\n",
       "function axis_range(grid, is_log) {\n",
       "  return is_log ?\n",
       "    [Math.log10(Math.min(...grid)), Math.log10(Math.max(...grid))]:\n",
       "    [Math.min(...grid), Math.max(...grid)];\n",
       "}\n",
       "\n",
       "function relativize_data(f, sd, rel, arm_data, metric) {\n",
       "  // if relative, extract status quo & compute ratio\n",
       "  const f_final = rel === true ? [] : f;\n",
       "  const sd_final = rel === true ? []: sd;\n",
       "\n",
       "  if (rel === true) {\n",
       "    const f_sq = (\n",
       "      arm_data['in_sample'][arm_data['status_quo_name']]['y'][metric]\n",
       "    );\n",
       "    const sd_sq = (\n",
       "      arm_data['in_sample'][arm_data['status_quo_name']]['se'][metric]\n",
       "    );\n",
       "\n",
       "    for (let i = 0; i < f.length; i++) {\n",
       "      res = relativize(f[i], sd[i], f_sq, sd_sq);\n",
       "      f_final.push(100 * res[0]);\n",
       "      sd_final.push(100 * res[1]);\n",
       "    }\n",
       "  }\n",
       "\n",
       "  return [f_final, sd_final];\n",
       "}\n",
       "\n",
       "function relativize(m_t, sem_t, m_c, sem_c) {\n",
       "  r_hat = (\n",
       "    (m_t - m_c) / Math.abs(m_c) -\n",
       "    Math.pow(sem_c, 2) * m_t / Math.pow(Math.abs(m_c), 3)\n",
       "  );\n",
       "  variance = (\n",
       "    (Math.pow(sem_t, 2) + Math.pow((m_t / m_c * sem_c), 2)) /\n",
       "    Math.pow(m_c, 2)\n",
       "   )\n",
       "   return [r_hat, Math.sqrt(variance)];\n",
       "}\n",
       "</script>"
      ]
     },
     "metadata": {},
     "output_type": "display_data"
    },
    {
     "name": "stderr",
     "output_type": "stream",
     "text": [
      "[INFO 04-17 19:49:42] ipy_plotting: Injecting Plotly library into cell. Do not overwrite or delete cell.\n"
     ]
    }
   ],
   "source": [
    "init_notebook_plotting()"
   ]
  },
  {
   "cell_type": "code",
   "execution_count": 3,
   "metadata": {
    "collapsed": true
   },
   "outputs": [],
   "source": [
    "def hartmann6(x: np.ndarray) -> float:\n",
    "        alpha = np.array([1.0, 1.2, 3.0, 3.2])\n",
    "        A = np.array(\n",
    "            [\n",
    "                [10, 3, 17, 3.5, 1.7, 8],\n",
    "                [0.05, 10, 17, 0.1, 8, 14],\n",
    "                [3, 3.5, 1.7, 10, 17, 8],\n",
    "                [17, 8, 0.05, 10, 0.1, 14],\n",
    "            ]\n",
    "        )\n",
    "        P = 10 ** (-4) * np.array(\n",
    "            [\n",
    "                [1312, 1696, 5569, 124, 8283, 5886],\n",
    "                [2329, 4135, 8307, 3736, 1004, 9991],\n",
    "                [2348, 1451, 3522, 2883, 3047, 6650],\n",
    "                [4047, 8828, 8732, 5743, 1091, 381],\n",
    "            ]\n",
    "        )\n",
    "        y = 0.0\n",
    "        for j, alpha_j in enumerate(alpha):\n",
    "            t = 0\n",
    "            for k in range(6):\n",
    "                t += A[j, k] * ((x[k] - P[j, k]) ** 2)\n",
    "            y -= alpha_j * np.exp(-t)\n",
    "        return y"
   ]
  },
  {
   "cell_type": "markdown",
   "metadata": {},
   "source": [
    "First, we define an evaluation function that is able to compute all the metrics needed for this experiment. This function needs to accept a set of parameter values and a weight. It should produce a dictionary of metric names to tuples of mean and standard error for those metrics."
   ]
  },
  {
   "cell_type": "code",
   "execution_count": 4,
   "metadata": {
    "collapsed": true
   },
   "outputs": [],
   "source": [
    "def hartmann_evaluation_function(\n",
    "    parameterization, # dict of parameter names to values of those parameters\n",
    "    weight=None, # evaluation function signature requires a weight argument\n",
    "):\n",
    "    x = np.array([parameterization.get(f\"x{i}\") for i in range(6)])\n",
    "    # In our case, standard error is 0, since we are computing a synthetic function.\n",
    "    return {\"hartmann6\": (hartmann6(x), 0.0), \"l2norm\": (np.sqrt((x ** 2).sum()), 0.0)}"
   ]
  },
  {
   "cell_type": "markdown",
   "metadata": {},
   "source": [
    "Second, we define a search space for our experiment:"
   ]
  },
  {
   "cell_type": "code",
   "execution_count": 5,
   "metadata": {
    "collapsed": true
   },
   "outputs": [],
   "source": [
    "hartmann_search_space = SearchSpace(\n",
    "    parameters=[\n",
    "        RangeParameter(\n",
    "            name=f\"x{i}\", parameter_type=ParameterType.FLOAT, lower=0.0, upper=1.0\n",
    "        )\n",
    "        for i in range(6)\n",
    "    ]\n",
    ")"
   ]
  },
  {
   "cell_type": "markdown",
   "metadata": {},
   "source": [
    "Third, we make a `SimpleExperiment` — note that the `objective_name` needs to be one of the metric names returned by the evaluation function."
   ]
  },
  {
   "cell_type": "code",
   "execution_count": 6,
   "metadata": {
    "collapsed": true
   },
   "outputs": [],
   "source": [
    "exp = SimpleExperiment(\n",
    "    name=\"test_branin\",\n",
    "    search_space=hartmann_search_space,\n",
    "    evaluation_function=hartmann_evaluation_function,\n",
    "    objective_name=\"hartmann6\",\n",
    "    minimize=True,\n",
    "    outcome_constraints=[\n",
    "        OutcomeConstraint(\n",
    "            metric=L2NormMetric(\n",
    "                name=\"l2norm\", param_names=[f\"x{i}\" for i in range(6)], noise_sd=0.2\n",
    "            ),\n",
    "            op=ComparisonOp.LEQ,\n",
    "            bound=1.25,\n",
    "            relative=False,\n",
    "        )\n",
    "    ],\n",
    ")"
   ]
  },
  {
   "cell_type": "markdown",
   "metadata": {},
   "source": [
    "By default, the objective will be maximized in optimization; to change this behavior, pass `minimize=True` to `SimpleExperiment`. It is also possible to set outcome constraints for the `SimpleExperiment` by passing a list of `OutcomeConstraint` as the `outcome_constraints` keyword argument."
   ]
  },
  {
   "cell_type": "code",
   "execution_count": 7,
   "metadata": {},
   "outputs": [
    {
     "name": "stdout",
     "output_type": "stream",
     "text": [
      "Running Sobol initialization trials...\n",
      "Running GP+EI optimization trial 1/15...\n",
      "Running GP+EI optimization trial 2/15...\n",
      "Running GP+EI optimization trial 3/15...\n",
      "Running GP+EI optimization trial 4/15...\n",
      "Running GP+EI optimization trial 5/15...\n",
      "Running GP+EI optimization trial 6/15...\n",
      "Running GP+EI optimization trial 7/15...\n",
      "Running GP+EI optimization trial 8/15...\n",
      "Running GP+EI optimization trial 9/15...\n",
      "Running GP+EI optimization trial 10/15...\n",
      "Running GP+EI optimization trial 11/15...\n",
      "Running GP+EI optimization trial 12/15...\n",
      "Running GP+EI optimization trial 13/15...\n",
      "Running GP+EI optimization trial 14/15...\n",
      "Running GP+EI optimization trial 15/15...\n",
      "Done!\n"
     ]
    }
   ],
   "source": [
    "print(f\"Running Sobol initialization trials...\")\n",
    "# Sobol generator does not require experiment data, so we only instantiate it once.\n",
    "sobol = Models.SOBOL(exp.search_space)\n",
    "for i in range(5):\n",
    "    exp.new_trial(generator_run=sobol.gen(1))\n",
    "    \n",
    "for i in range(15):\n",
    "    print(f\"Running GP+EI optimization trial {i+1}/15...\")\n",
    "    # GP+EI model requires experiment data to re-fit the GP, so we reinstantiate \n",
    "    # it with every trial, as every trial adds new data to the experiment.\n",
    "    gpei = Models.GPEI(experiment=exp, data=exp.eval())\n",
    "    batch = exp.new_trial(generator_run=gpei.gen(1))\n",
    "    \n",
    "print(\"Done!\")"
   ]
  },
  {
   "cell_type": "markdown",
   "metadata": {},
   "source": [
    "Now we can inspect the `SimpleExperiment`'s data by calling `eval()`, which retrieves evaluation data for all batches of the experiment. Note that if using `Experiment` instead of `SimpleExperiment`, you will need to use `fetch_data()` instead of `eval()`.\n"
   ]
  },
  {
   "cell_type": "markdown",
   "metadata": {},
   "source": [
    "We can also use the `eval_trial` function to get evaluation data for a specific trial in the experiment, like so:"
   ]
  },
  {
   "cell_type": "code",
   "execution_count": 12,
   "metadata": {},
   "outputs": [
    {
     "data": {
      "application/vnd.dataresource+json": {
       "data": [
        {
         "arm_name": "1_0",
         "index": 0,
         "mean": -0.6223647665,
         "metric_name": "hartmann6",
         "sem": 0,
         "trial_index": 1
        },
        {
         "arm_name": "1_0",
         "index": 1,
         "mean": 1.1586485601,
         "metric_name": "l2norm",
         "sem": 0,
         "trial_index": 1
        }
       ],
       "schema": {
        "fields": [
         {
          "name": "index",
          "type": "integer"
         },
         {
          "name": "arm_name",
          "type": "string"
         },
         {
          "name": "mean",
          "type": "number"
         },
         {
          "name": "metric_name",
          "type": "string"
         },
         {
          "name": "sem",
          "type": "number"
         },
         {
          "name": "trial_index",
          "type": "integer"
         }
        ],
        "pandas_version": "0.20.0",
        "primaryKey": [
         "index"
        ]
       }
      },
      "text/html": [
       "<div>\n",
       "<style scoped>\n",
       "    .dataframe tbody tr th:only-of-type {\n",
       "        vertical-align: middle;\n",
       "    }\n",
       "\n",
       "    .dataframe tbody tr th {\n",
       "        vertical-align: top;\n",
       "    }\n",
       "\n",
       "    .dataframe thead th {\n",
       "        text-align: right;\n",
       "    }\n",
       "</style>\n",
       "<table border=\"1\" class=\"dataframe\">\n",
       "  <thead>\n",
       "    <tr style=\"text-align: right;\">\n",
       "      <th></th>\n",
       "      <th>arm_name</th>\n",
       "      <th>mean</th>\n",
       "      <th>metric_name</th>\n",
       "      <th>sem</th>\n",
       "      <th>trial_index</th>\n",
       "    </tr>\n",
       "  </thead>\n",
       "  <tbody>\n",
       "    <tr>\n",
       "      <th>0</th>\n",
       "      <td>1_0</td>\n",
       "      <td>-0.622365</td>\n",
       "      <td>hartmann6</td>\n",
       "      <td>0.0</td>\n",
       "      <td>1</td>\n",
       "    </tr>\n",
       "    <tr>\n",
       "      <th>1</th>\n",
       "      <td>1_0</td>\n",
       "      <td>1.158649</td>\n",
       "      <td>l2norm</td>\n",
       "      <td>0.0</td>\n",
       "      <td>1</td>\n",
       "    </tr>\n",
       "  </tbody>\n",
       "</table>\n",
       "</div>"
      ],
      "text/plain": [
       "  arm_name      mean metric_name  sem  trial_index\n",
       "0      1_0 -0.622365   hartmann6  0.0            1\n",
       "1      1_0  1.158649      l2norm  0.0            1"
      ]
     },
     "execution_count": 12,
     "metadata": {
      "bento_obj_id": "140450774752504"
     },
     "output_type": "execute_result"
    }
   ],
   "source": [
    "trial_data = exp.eval_trial(exp.trials[1])\n",
    "trial_data.df"
   ]
  },
  {
   "cell_type": "markdown",
   "metadata": {},
   "source": [
    "Now we can plot the results of our optimization:"
   ]
  },
  {
   "cell_type": "code",
   "execution_count": 10,
   "metadata": {},
   "outputs": [
    {
     "data": {
      "text/html": [
       "<div id=\"a9b3af5997f842099dbd9c42a59a8d8f\" style=\"width: 100%;\" class=\"plotly-graph-div\"></div><script type='text/javascript'>require(['plotly'], function(Plotly) {\n",
       "  window.PLOTLYENV = window.PLOTLYENV || {};\n",
       "  window.PLOTLYENV.BASE_URL = 'https://plot.ly';\n",
       "  Plotly.newPlot(\n",
       "  \"a9b3af5997f842099dbd9c42a59a8d8f\",\n",
       "  [{\"type\": \"scatter\", \"x\": [1, 2, 3, 4, 5, 6, 7, 8, 9, 10, 11, 12, 13, 14, 15, 16, 17, 18, 19, 20], \"y\": [-0.535485127706751, -0.6223647665380319, -1.0253441661903817, -1.0253441661903817, -1.0253441661903817, -1.876638576237695, -2.0646498549755448, -2.0646498549755448, -2.0646498549755448, -2.115689831414572, -2.2909738978571013, -2.5964031020946763, -2.5964031020946763, -2.8820142908455173, -2.8820142908455173, -3.1214822787875667, -3.273924594526531, -3.273924594526531, -3.2823313295001464, -3.311074505238078], \"legendgroup\": \"\", \"mode\": \"lines\", \"line\": {\"width\": 0}, \"showlegend\": false, \"hoverinfo\": \"none\"}, {\"type\": \"scatter\", \"name\": \"mean\", \"legendgroup\": \"mean\", \"x\": [1, 2, 3, 4, 5, 6, 7, 8, 9, 10, 11, 12, 13, 14, 15, 16, 17, 18, 19, 20], \"y\": [-0.535485127706751, -0.6223647665380319, -1.0253441661903817, -1.0253441661903817, -1.0253441661903817, -1.876638576237695, -2.0646498549755448, -2.0646498549755448, -2.0646498549755448, -2.115689831414572, -2.2909738978571013, -2.5964031020946763, -2.5964031020946763, -2.8820142908455173, -2.8820142908455173, -3.1214822787875667, -3.273924594526531, -3.273924594526531, -3.2823313295001464, -3.311074505238078], \"mode\": \"lines\", \"line\": {\"color\": \"rgba(128,177,211,1)\"}, \"fillcolor\": \"rgba(128,177,211,0.3)\", \"fill\": \"tonexty\"}, {\"type\": \"scatter\", \"x\": [1, 2, 3, 4, 5, 6, 7, 8, 9, 10, 11, 12, 13, 14, 15, 16, 17, 18, 19, 20], \"y\": [-0.535485127706751, -0.6223647665380319, -1.0253441661903817, -1.0253441661903817, -1.0253441661903817, -1.876638576237695, -2.0646498549755448, -2.0646498549755448, -2.0646498549755448, -2.115689831414572, -2.2909738978571013, -2.5964031020946763, -2.5964031020946763, -2.8820142908455173, -2.8820142908455173, -3.1214822787875667, -3.273924594526531, -3.273924594526531, -3.2823313295001464, -3.311074505238078], \"legendgroup\": \"\", \"mode\": \"lines\", \"line\": {\"width\": 0}, \"fillcolor\": \"rgba(128,177,211,0.3)\", \"fill\": \"tonexty\", \"showlegend\": false, \"hoverinfo\": \"none\"}, {\"type\": \"scatter\", \"x\": [1, 20], \"y\": [-3.32237, -3.32237], \"mode\": \"lines\", \"line\": {\"dash\": \"dash\", \"color\": \"rgba(253,180,98,1)\"}, \"name\": \"Optimum\"}],\n",
       "  {\"title\": \"\", \"showlegend\": true, \"yaxis\": {\"title\": \"\"}, \"xaxis\": {\"title\": \"Iteration\"}},\n",
       "  {\"showLink\": false}\n",
       ");\n",
       "});</script>"
      ]
     },
     "metadata": {},
     "output_type": "display_data"
    }
   ],
   "source": [
    "# `plot_single_method` expects a 2-d array of means, because it expects to average means from multiple \n",
    "# optimization runs, so we wrap out best objectives array in another array.\n",
    "best_objectives = np.array([[trial.objective_mean for trial in exp.trials.values()]])\n",
    "best_objective_plot = optimization_trace_single_method(\n",
    "        y=np.minimum.accumulate(best_objectives, axis=1),\n",
    "        optimum=-3.32237,  # Known minimum objective for Hartmann6 function.\n",
    ")\n",
    "render(best_objective_plot)"
   ]
  }
 ],
 "metadata": {
  "bento_stylesheets": {
   "bento/extensions/flow/main.css": true,
   "bento/extensions/kernel_selector/main.css": true,
   "bento/extensions/kernel_ui/main.css": true,
   "bento/extensions/new_kernel/main.css": true,
   "bento/extensions/system_usage/main.css": true,
   "bento/extensions/theme/main.css": true
  },
  "disseminate_notebook_id": {
   "notebook_id": "274415866775252"
  },
  "disseminate_notebook_info": {
   "bento_version": "20190415-030329",
   "description": "",
   "hide_code": false,
   "hipster_group": "",
   "kernel_build_info": {
    "error": "The file located at '/data/users/drfreund/fbsource/fbcode/bento/kernels/local/ae/TARGETS' could not be found."
   },
   "no_uii": false,
   "notebook_number": "81793",
   "others_can_edit": false,
   "reviewers": "",
   "revision_id": "273407843567897",
   "tags": "",
   "tasks": "",
   "title": "gpei_hartmann_developer"
  },
  "kernelspec": {
   "display_name": "ae (local)",
   "language": "python",
   "name": "ae_local"
  },
  "language_info": {
   "codemirror_mode": {
    "name": "ipython",
    "version": 3
   },
   "file_extension": ".py",
   "mimetype": "text/x-python",
   "name": "python",
   "nbconvert_exporter": "python",
   "pygments_lexer": "ipython3",
   "version": "3.6.3rc1+"
  }
 },
 "nbformat": 4,
 "nbformat_minor": 2
}
