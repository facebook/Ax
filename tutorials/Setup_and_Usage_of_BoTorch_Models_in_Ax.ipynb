{
  "cells": [
    {
      "cell_type": "code",
      "execution_count": 1,
      "metadata": {
        "originalKey": "43b4b9d9-6cb6-4939-b3b0-ae1a5ea0b6aa"
      },
      "outputs": [],
      "source": [
        "# Ax wrappers for BoTorch components\n",
        "from ax.models.torch.botorch_modular.model import BoTorchModel\n",
        "from ax.models.torch.botorch_modular.surrogate import Surrogate\n",
        "from ax.models.torch.botorch_modular.acquisition import Acquisition\n",
        "from ax.models.torch.botorch_modular.kg import KnowledgeGradient, MultiFidelityKnowledgeGradient\n",
        "\n",
        "# Ax data tranformation layer\n",
        "from ax.modelbridge.torch import TorchModelBridge\n",
        "from ax.modelbridge.registry import Cont_X_trans, Y_trans, Models\n",
        "\n",
        "# Test Ax objects\n",
        "from ax.utils.testing.core_stubs import get_branin_experiment, get_branin_data\n",
        "\n",
        "# BoTorch components\n",
        "from botorch.models.model import Model\n",
        "from botorch.models.gp_regression import FixedNoiseGP, SingleTaskGP\n",
        "from botorch.acquisition.monte_carlo import qExpectedImprovement, qNoisyExpectedImprovement\n",
        "from botorch.models.gp_regression_fidelity import SingleTaskMultiFidelityGP\n",
        "from gpytorch.mlls.exact_marginal_log_likelihood import ExactMarginalLogLikelihood"
      ]
    },
    {
      "cell_type": "code",
      "execution_count": 2,
      "metadata": {
        "originalKey": "1d55efb9-7826-4496-965e-d8ff7a7ef3bd"
      },
      "outputs": [],
      "source": [
        "# Default options will not be needed when the modular `BoTorchModel` functionality is completed.\n",
        "# Associating these default options with corresponding model components (so there is no need to \n",
        "# specify them manually) is in the works.\n",
        "DEFAULT_ACQUISITION_OPTIONS = {\n",
        "    \"num_fantasies\": 16, \"num_mv_samples\": 10, \"num_y_samples\": 128, \"candidate_size\": 1000, \"best_f\": 0.0,\n",
        "}\n",
        "DEFAULT_OPTIMIZER_OPTIONS = {\"num_restarts\": 40, \"raw_samples\": 1024}"
      ]
    },
    {
      "cell_type": "markdown",
      "metadata": {
        "originalKey": "6321fa27-eb6e-48e1-9253-b2c41d86c8a3"
      },
      "source": [
        "# Setup and Usage of BoTorch Models in Ax"
      ]
    },
    {
      "cell_type": "markdown",
      "metadata": {
        "originalKey": "d5ffd50f-98f7-4264-a748-278ac7e0b6fb"
      },
      "source": [
        "Ax provides a set of flexible wrapper abstractions to mix-and-match BoTorch components like `Model` and `AcquisitionFunction` and combine them into a single `Model` object in Ax. The wrapper abstractions: `Surrogate`, `Acquisition`, and `BoTorchModel` – are located in `ax/models/torch/botorch_modular` directory and aim to encapsulate boilerplate code that interfaces between Ax and BoTorch. **This functionality is in alpha-release and under active development.** \n",
        "\n",
        "Here is a quick example of multi-fidelity Knowledge Gradient setup (GPKG) and subsequent candidate generation:"
      ]
    },
    {
      "cell_type": "code",
      "execution_count": 3,
      "metadata": {
        "originalKey": "2072ddc3-a4a2-49c8-930f-c18ccbe82f49"
      },
      "outputs": [],
      "source": [
        "experiment = get_branin_experiment(with_fidelity_parameter=True, with_trial=True)\n",
        "data = get_branin_data(trials=[experiment.trials[0]])"
      ]
    },
    {
      "cell_type": "code",
      "execution_count": 4,
      "metadata": {
        "code_folding": [],
        "hidden_ranges": [],
        "originalKey": "dae0e1dc-2567-4276-ba87-b680fc7e3418"
      },
      "outputs": [
        {
          "name": "stderr",
          "output_type": "stream",
          "text": [
            "[INFO 12-29 21:07:39] ax.modelbridge.transforms.standardize_y: Outcome branin is constant, within tolerance.\n"
          ]
        }
      ],
      "source": [
        "# `Models` automatically selects a model + model bridge combination. \n",
        "# For `BOTORCH_MODULAR`, it will select `BoTorchModel` and `TorchModelBridge`.\n",
        "model_bridge_with_GPKG = Models.BOTORCH_MODULAR(\n",
        "    experiment=experiment,\n",
        "    data=data,\n",
        "    surrogate=Surrogate(SingleTaskMultiFidelityGP),  # Optional, will use default if unspecified\n",
        "    acquisition_class=MultiFidelityKnowledgeGradient,  # Optional, will use default if unspecified\n",
        "    acquisition_options=DEFAULT_ACQUISITION_OPTIONS,  # Optional\n",
        ")"
      ]
    },
    {
      "cell_type": "code",
      "execution_count": 5,
      "metadata": {
        "originalKey": "5621a4f2-d7ed-4130-b6f5-9494bd17394e"
      },
      "outputs": [
        {
          "data": {
            "text/plain": [
              "GeneratorRun(1 arms, total weight 1.0)"
            ]
          },
          "execution_count": 5,
          "metadata": {
            "bento_obj_id": "140501425854608"
          },
          "output_type": "execute_result"
        }
      ],
      "source": [
        "model_bridge_with_GPKG.gen(n=1, model_gen_options={\"optimizer_kwargs\": DEFAULT_OPTIMIZER_OPTIONS})"
      ]
    },
    {
      "cell_type": "markdown",
      "metadata": {
        "originalKey": "93652642-4140-4e24-bb74-21966b32e527"
      },
      "source": [
        "-----"
      ]
    },
    {
      "cell_type": "markdown",
      "metadata": {
        "originalKey": "6e8e201f-9d18-4ef9-a5e3-e1a31addff2c"
      },
      "source": [
        "# `BoTorchModel` Deep dive"
      ]
    },
    {
      "cell_type": "markdown",
      "metadata": {
        "originalKey": "d2a54a94-8f26-4021-9ed8-68052eb808f8"
      },
      "source": [
        "This tutorial walks through setting up a custom combination of BoTorch components in Ax in following steps:\n",
        "\n",
        "1. `BoTorchModel` = `Surrogate` + `Acquisition` (overview)\n",
        "2. Specifying `BoTorchModel` subcomponents\n",
        "  1. Surrogate model\n",
        "  2. Acquisition function\n",
        "  3. Leveraging default subcomponents\n",
        "  4. Subcomponents Q&A\n",
        "3. Leveraging Ax storage stack + `Models.BOTORCH_MODULAR`\n",
        "4. Utilizing `BoTorchModel` in generation strategies\n",
        "\n",
        "Before you read the rest of this tutorial: \n",
        "- Note that the concept of ‘model’ is Ax is somewhat a misnomer; we use ['model'](https://ax.dev/docs/glossary.html#model) to refer to an optimization setup capable of producing candidate points for optimization (and often capable of being fit to data, with exception for quasi-random generators). See [Models documentation page](https://ax.dev/docs/models.html) for more information.\n",
        "- Learn about `ModelBridge` in Ax, as users should rarely be interacting with a `Model` object directly (more about ModelBridge, a data transformation layer in Ax, [here](https://ax.dev/docs/models.html#deeper-dive-organization-of-the-modeling-stack)).\n",
        "\n",
        "Finally, some advanced modeling setups will require subclassing `Surrogate` and/or `Acquisition` to construct, for example, some inputs specific to a given `AcquisitionFunction`. For details on custom `BoTorchModel` subcomponents, refer to the [Customizing a `BoTorchModel` tutorial]().\n",
        "\n",
        "----"
      ]
    },
    {
      "cell_type": "markdown",
      "metadata": {
        "originalKey": "367a8c3c-d9f6-4636-839f-00ce47292804"
      },
      "source": [
        "## 1. `BoTorchModel` = `Surrogate` + `Acquisition`\n",
        "\n",
        "A `BoTorchModel` in Ax consists of two main subcomponents: a surrogate model and an acquisition function. A surrogate model is represented as an instance of Ax’s [`Surrogate` class](https://github.com/facebook/Ax/blob/main/ax/models/torch/botorch_modular/surrogate.py), which is a wrapper around BoTorch's [`Model` class](https://github.com/pytorch/botorch/blob/main/botorch/models/model.py). The acquisition function is represented as an instance of Ax’s [`Acquisition` class](https://github.com/facebook/Ax/blob/main/ax/models/torch/botorch_modular/acquisition.py), a wrapper around BoTorch's [`AcquisitionFunction` class](https://github.com/pytorch/botorch/blob/main/botorch/acquisition/acquisition.py). \n",
        "\n",
        "In simple case, a `BoTorchModel` is instantiated like so (see Appendix 1 for methods `BoTorchModel` provides):"
      ]
    },
    {
      "cell_type": "code",
      "execution_count": 6,
      "metadata": {
        "originalKey": "cf648d7e-a4f8-4976-b2fd-aae37fc9281e"
      },
      "outputs": [],
      "source": [
        "model = BoTorchModel(\n",
        "    surrogate=Surrogate(FixedNoiseGP),\n",
        "    botorch_acqf_class=qExpectedImprovement,\n",
        ")"
      ]
    },
    {
      "cell_type": "markdown",
      "metadata": {
        "originalKey": "1f58c6c8-fc7d-4cfe-b4c0-d1b8901a9a66"
      },
      "source": [
        "It can then be used with TorchModelBridge (learn more about `ModelBridge`, a data transformation layer in Ax, [here](https://ax.dev/docs/models.html#deeper-dive-organization-of-the-modeling-stack))."
      ]
    },
    {
      "cell_type": "code",
      "execution_count": 7,
      "metadata": {
        "originalKey": "ff893be6-79fd-45e3-bbe1-2f0bc56f6a92"
      },
      "outputs": [
        {
          "name": "stderr",
          "output_type": "stream",
          "text": [
            "[INFO 12-29 21:10:42] ax.modelbridge.transforms.standardize_y: Outcome branin is constant, within tolerance.\n"
          ]
        }
      ],
      "source": [
        "experiment = get_branin_experiment(with_trial=True)  # Example experiment with simple search space\n",
        "\n",
        "model_bridge = TorchModelBridge(\n",
        "    experiment=experiment, \n",
        "    search_space=experiment.search_space,\n",
        "    data=get_branin_data(trials=[experiment.trials[0]]),   # Example synthetic data\n",
        "    model=model,\n",
        "    # Transforms to apply to the data, standard continuous search-space transforms used here as example\n",
        "    transforms=Cont_X_trans + Y_trans,\n",
        ")"
      ]
    },
    {
      "cell_type": "markdown",
      "metadata": {
        "originalKey": "a72bbce6-5f8d-42f0-b1de-f5dd4f76d119"
      },
      "source": [
        "----"
      ]
    },
    {
      "cell_type": "markdown",
      "metadata": {
        "originalKey": "66b24496-a623-472d-a359-691fb8f7e2bf"
      },
      "source": [
        "## 2. Specifying `BoTorchModel` subcomponents\n",
        "\n",
        "### A. Surrogate model"
      ]
    },
    {
      "cell_type": "markdown",
      "metadata": {
        "originalKey": "ec53dc2c-9b52-4c8c-8f59-fada979e39b2"
      },
      "source": [
        "To specify a given surrogate model, construct an Ax `Surrogate`:"
      ]
    },
    {
      "cell_type": "code",
      "execution_count": 8,
      "metadata": {
        "originalKey": "4f16ca2e-5877-425c-ae04-152bc05a595c"
      },
      "outputs": [],
      "source": [
        "GP_surrogate = Surrogate(\n",
        "    botorch_model_class=FixedNoiseGP,  # BoTorch `Model` class to construct in this `Surrogate`\n",
        "    mll_class=ExactMarginalLogLikelihood,  # Optional, MLL class with which to optimize model parameters\n",
        "    model_options={},  # Optional, dictionary of keyword arguments to underlying BoTorch `Model`\n",
        ")"
      ]
    },
    {
      "cell_type": "markdown",
      "metadata": {
        "originalKey": "f3c267de-f9b2-4524-852b-156fc47d1745"
      },
      "source": [
        "Alternatively, for BoTorch `Model`-s that require complex instantiation procedures, leverage the `from_BoTorch` instantiation method of `Surrogate`:"
      ]
    },
    {
      "cell_type": "code",
      "execution_count": 9,
      "metadata": {
        "originalKey": "905ba2bc-37e4-4a12-8442-1c772ffd15d0"
      },
      "outputs": [],
      "source": [
        "surrogate_from_botorch_model = Surrogate.from_BoTorch(\n",
        "    model=...,   # BoTorch `Model` instance, with training data already set\n",
        "    mll_class=ExactMarginalLogLikelihood,  # Optional, MLL class with which to optimize model parameters\n",
        ")"
      ]
    },
    {
      "cell_type": "markdown",
      "metadata": {
        "originalKey": "7fafc42b-f35b-4531-8f74-bab7d42f2529"
      },
      "source": [
        "### B. Acquisition function"
      ]
    },
    {
      "cell_type": "markdown",
      "metadata": {
        "code_folding": [],
        "hidden_ranges": [],
        "originalKey": "d0efa996-498d-4c9d-b8f3-a24340b30860",
        "showInput": false
      },
      "source": [
        "To specify acquisition function, provide one of:\n",
        "- the `botorch_acqf_class` argument, a BoTorch `AcquisitionFunction` class (if it can work with base `Acquisition` wrapper) or\n",
        "- the `acquisition_class` argument, an Ax `Acquisition` class (in case where base `Acquisition` is not sufficient to support a given BoTorch `AcquisitionFunction` option –– for instance, if it requires custom inputs that are not covered by base `Acquisition`)."
      ]
    },
    {
      "cell_type": "code",
      "execution_count": 10,
      "metadata": {
        "originalKey": "c02af7f1-c332-4407-aa42-ecd563e8c23f"
      },
      "outputs": [],
      "source": [
        "# `qExpectedImprovement` is supported by the default `Acquisition`, \n",
        "# so there is no need to explicitly specify `acquisition_class`.\n",
        "GPEI_model = BoTorchModel(\n",
        "    surrogate=GP_surrogate,\n",
        "    botorch_acqf_class=qExpectedImprovement,\n",
        "    # Optional dict of keyword arguments, passed to the BoTorch `AcquisitionFunction`\n",
        "    acquisition_options=DEFAULT_ACQUISITION_OPTIONS,\n",
        "        \n",
        ")\n",
        "\n",
        "# `qKnowledgeGradient` requires a custom `Acquisition` subclass, `KnowledgeGradient`.\n",
        "KG_model = BoTorchModel(\n",
        "    surrogate=GP_surrogate,\n",
        "    acquisition_class=KnowledgeGradient,\n",
        ")"
      ]
    },
    {
      "cell_type": "markdown",
      "metadata": {
        "originalKey": "5ca66d07-2501-4f77-b34c-834fc213d337"
      },
      "source": [
        "### C. Leveraging default subcomponents"
      ]
    },
    {
      "cell_type": "markdown",
      "metadata": {
        "originalKey": "39531d02-2ed0-4ef2-8b1f-66d7b3909bfd"
      },
      "source": [
        "BoTorchModel does not always require surrogate and acquisition specification. If instantiated without one or both components specified, defaults are selected based on properties of experiment and data (see Appendix 2 for auto-selection logic)."
      ]
    },
    {
      "cell_type": "code",
      "execution_count": 11,
      "metadata": {
        "originalKey": "42722060-31e5-42d4-aae2-6672a2b64466"
      },
      "outputs": [],
      "source": [
        "# The surrogate is not specified, so it will be auto-selected during `model.fit`.\n",
        "GPEI_model = BoTorchModel(botorch_acqf_class=qExpectedImprovement)\n",
        "\n",
        "# The acquisition class is not specified, so it will be auto-selected during `model.gen`.\n",
        "GPEI_model = BoTorchModel(surrogate=GP_surrogate)\n",
        "\n",
        "# Both the surrogate and acquisition class will be auto-selected.\n",
        "GPEI_model = BoTorchModel()"
      ]
    },
    {
      "cell_type": "markdown",
      "metadata": {
        "originalKey": "e7737ba8-4889-46e7-a621-1bca96bc7543"
      },
      "source": [
        "### D. Subcomponents Q&A"
      ]
    },
    {
      "cell_type": "markdown",
      "metadata": {
        "code_folding": [],
        "hidden_ranges": [],
        "originalKey": "f5993078-e9fb-4db1-af54-12ba3373fec8",
        "showInput": false
      },
      "source": [
        "**Why is `surrogate` expected to be an instance, but `acquisition_class` (or `botorch_acqf_class`) –– a class?**\n",
        "Because a BoTorch `AcquisitionFunction` object (and therefore its Ax wrapper, `Acquisition`) is *ephemeral*: it is constructed, immediately used, and destroyed during `BoTorchModel.gen`, so there is no reason to keep around an `Acquisition` instance. A `Surrogate`, on another hand, is kept in memory as long as its parent `BoTorchModel` is.\n",
        "\n",
        "**How to know when to use specify `acquisition_class` (and thereby a non-default `Acquisition` type) instead of just passing in `botorch_acqf_class`?**\n",
        "The [Customizing a `BoTorchModel`]() tutorial covers that question. In short, custom `Acquisition` subclasses are needed when a given `AcquisitionFunction` in BoTorch needs non-standard inputs or constructs some of its subcomponents (like an `AcquisitionObjective`) in a non-standard way.\n",
        "\n",
        "**Why do I not need to specify `botorch_acqf_class` argument if I do specify `acquisition_class`? Does each type of `Acquisition` have an associated BoTorch `AcquisitionFunction`?** All non-base `Acquisition` subclasses should have the `Acquisition.default_botorch_acqf_class` attribute specified, so they have an associated BoTorch counterpart. For example, `KnowledgeGradient` [sets it to `qKnowledgeGradient`](https://github.com/facebook/Ax/blob/main/ax/models/torch/botorch_modular/kg.py#L57-L58). \n",
        "\n",
        "**Please post any other questions** you have to our issues page: https://github.com/facebook/Ax/issues.\n",
        "\n",
        "----"
      ]
    },
    {
      "cell_type": "markdown",
      "metadata": {
        "originalKey": "57bd0456-19bb-4181-baf0-cb0c122d94a4"
      },
      "source": [
        "## 3. Leveraging Ax storage stack via `Models.BOTORCH_MODULAR`"
      ]
    },
    {
      "cell_type": "markdown",
      "metadata": {
        "originalKey": "4d0ef735-2ec8-4d76-bfe7-40399a48be12"
      },
      "source": [
        "To simplify the instantiation of an Ax `ModelBridge` and its undelying `Model`, Ax provides a [`Models` registry enum](https://github.com/facebook/Ax/blob/main/ax/modelbridge/registry.py#L201). \n",
        "\n",
        "Here we use `Models.BOTORCH_MODULAR` to set up a multi-fidelity Knowledge Gradient (GPKG) model. We specify both the surrogate and the acquisition to customize both components:"
      ]
    },
    {
      "cell_type": "code",
      "execution_count": 12,
      "metadata": {
        "originalKey": "a1cece55-c01e-4224-9354-8c6f58098155"
      },
      "outputs": [],
      "source": [
        "experiment = get_branin_experiment(with_fidelity_parameter=True, with_trial=True)\n",
        "data = get_branin_data(trials=[experiment.trials[0]])"
      ]
    },
    {
      "cell_type": "code",
      "execution_count": 13,
      "metadata": {
        "originalKey": "fbf4f6fe-c952-40b1-b7d0-d0cf583a9d9d"
      },
      "outputs": [
        {
          "name": "stderr",
          "output_type": "stream",
          "text": [
            "[INFO 12-29 21:10:47] ax.modelbridge.transforms.standardize_y: Outcome branin is constant, within tolerance.\n"
          ]
        }
      ],
      "source": [
        "model_bridge_with_GPKG = Models.BOTORCH_MODULAR(  # Will automatically select `BoTorchModel` and `TorchModelBridge`\n",
        "    experiment=experiment,\n",
        "    data=data,\n",
        "    surrogate=Surrogate(SingleTaskMultiFidelityGP),  # Optional, will use default if unspecified\n",
        "    acquisition_class=MultiFidelityKnowledgeGradient,  # Optional, will use default if unspecified\n",
        "    acquisition_options=DEFAULT_ACQUISITION_OPTIONS,  # Optional\n",
        ")"
      ]
    },
    {
      "cell_type": "markdown",
      "metadata": {
        "originalKey": "c7f60b0c-b83b-49c4-96f2-509fac7fca54"
      },
      "source": [
        "We can now use the model bridge to generate candidates:"
      ]
    },
    {
      "cell_type": "code",
      "execution_count": 14,
      "metadata": {
        "originalKey": "ca3eff89-9bec-4053-b9ff-e2c0bc826179"
      },
      "outputs": [
        {
          "data": {
            "text/plain": [
              "[Arm(parameters={'x1': 9.931203095212535, 'x2': 6.123563213741994, 'fidelity': 0.0})]"
            ]
          },
          "execution_count": 14,
          "metadata": {
            "bento_obj_id": "140501402266832"
          },
          "output_type": "execute_result"
        }
      ],
      "source": [
        "generator_run = model_bridge_with_GPKG.gen(n=1, model_gen_options={\"optimizer_kwargs\": DEFAULT_OPTIMIZER_OPTIONS})\n",
        "generator_run.arms"
      ]
    },
    {
      "cell_type": "markdown",
      "metadata": {
        "originalKey": "f31a5adf-c6a5-4adb-9478-8f4d749f79a6"
      },
      "source": [
        "Generator run also records all arguments to model bridge and model, which allows to restore the model state from a generator run it produced. Therefore, the generator run can then be serialized and stored, then recreated:"
      ]
    },
    {
      "cell_type": "code",
      "execution_count": 15,
      "metadata": {
        "originalKey": "58841930-c828-4191-99e2-f418fd30b211"
      },
      "outputs": [],
      "source": [
        "from ax.storage.json_store.encoder import object_to_json\n",
        "from ax.storage.json_store.decoder import object_from_json\n",
        "from ax.modelbridge.registry import get_model_from_generator_run"
      ]
    },
    {
      "cell_type": "code",
      "execution_count": 16,
      "metadata": {
        "originalKey": "097fbef6-4ba3-4a8d-b8bc-9209267438d7"
      },
      "outputs": [],
      "source": [
        "generator_run_restored = object_from_json(object_to_json(generator_run))"
      ]
    },
    {
      "cell_type": "code",
      "execution_count": 17,
      "metadata": {
        "originalKey": "46405a34-4e4b-4a06-a964-b52a2307f6b1"
      },
      "outputs": [
        {
          "name": "stderr",
          "output_type": "stream",
          "text": [
            "[INFO 12-29 21:20:21] ax.modelbridge.transforms.standardize_y: Outcome branin is constant, within tolerance.\n"
          ]
        },
        {
          "data": {
            "text/plain": [
              "<ax.modelbridge.torch.TorchModelBridge at 0x7fc8a9cff7d0>"
            ]
          },
          "execution_count": 17,
          "metadata": {
            "bento_obj_id": "140499819165648"
          },
          "output_type": "execute_result"
        }
      ],
      "source": [
        "model_bridge_with_GPKG_restored = get_model_from_generator_run(generator_run_restored, experiment, data)\n",
        "model_bridge_with_GPKG_restored"
      ]
    },
    {
      "cell_type": "markdown",
      "metadata": {
        "originalKey": "82d2f3eb-5d2a-42db-b9ab-0bc9dea8c409"
      },
      "source": [
        "**Note that not all arguments to BoTorch `Model` or `AcquisitionFunction` are serializable by default!** For example, a BoTorch `Prior` object, which could be among `Surrogate.model_options`, does not currently have associated serialization logic in Ax. See Appendix 3 for how to address errors that stem from some objects among options lacking serialization logic."
      ]
    },
    {
      "cell_type": "markdown",
      "metadata": {
        "originalKey": "7fc75fb1-c2be-42b5-acee-81fe9b14b50c"
      },
      "source": [
        "----"
      ]
    },
    {
      "cell_type": "markdown",
      "metadata": {
        "originalKey": "3ab5bb38-b370-46be-8038-fbfc56f8651a"
      },
      "source": [
        "## 4. Utilizing `BoTorchModel` in generation strategies"
      ]
    },
    {
      "cell_type": "markdown",
      "metadata": {
        "originalKey": "e918cbc3-9c71-4a26-8858-3ba61979fe00"
      },
      "source": [
        "Generation strategy is a key concept in Ax, enabling use of Service API (a.k.a. `AxClient`) and many other higher-level abstractions. A [`GenerationStrategy`](https://ax.dev/api/modelbridge.html#ax.modelbridge.generation_strategy.GenerationStrategy) allows to chain multiple models in Ax and thereby automate candidate generation. \n",
        "\n",
        "An example generation stategy with the modular `BoTorchModel` would look like this:"
      ]
    },
    {
      "cell_type": "code",
      "execution_count": 31,
      "metadata": {
        "originalKey": "1c6a3128-1d72-4675-98a9-ae7d82f81b1f"
      },
      "outputs": [],
      "source": [
        "from ax.modelbridge.generation_strategy import GenerationStep, GenerationStrategy\n",
        "from botorch.acquisition import UpperConfidenceBound\n",
        "from ax.modelbridge.modelbridge_utils import get_pending_observation_features\n",
        "\n",
        "gs = GenerationStrategy(\n",
        "    steps=[\n",
        "        GenerationStep(\n",
        "            model=Models.SOBOL,  # Which model to use for this ste[]\n",
        "            num_trials=5,  # How many generator runs (which are then made into trials) to produce with this step\n",
        "            min_trials_observed=5,  # How many trials generated from this step must be `COMPLETED` before the next one\n",
        "        ),\n",
        "        GenerationStep(\n",
        "            model=Models.BOTORCH_MODULAR,\n",
        "            num_trials=-1,  # No limit on how many generator runs will be produced\n",
        "            model_kwargs={  # Kwargs to pass to `BoTorchModel.__init__`\n",
        "                \"surrogate\": Surrogate(SingleTaskGP),\n",
        "                \"botorch_acqf_class\": qNoisyExpectedImprovement,\n",
        "                \"acquisition_options\": DEFAULT_ACQUISITION_OPTIONS,\n",
        "            },\n",
        "            model_gen_kwargs={\"model_gen_options\": {  # Kwargs to pass to `BoTorchModel.gen`\n",
        "                \"optimizer_kwargs\": DEFAULT_OPTIMIZER_OPTIONS},\n",
        "            },\n",
        "        )\n",
        "    ]\n",
        ")"
      ]
    },
    {
      "cell_type": "markdown",
      "metadata": {
        "originalKey": "611f878b-8c0e-4fc9-95e6-089401c4811b"
      },
      "source": [
        "Set up an experiment and generate 10 trials in it, adding synthetic data to experiment after each one:"
      ]
    },
    {
      "cell_type": "code",
      "execution_count": 32,
      "metadata": {
        "originalKey": "add25138-81d6-4108-8b86-d565ec28e003"
      },
      "outputs": [
        {
          "data": {
            "text/plain": [
              "SearchSpace(parameters=[RangeParameter(name='x1', parameter_type=FLOAT, range=[-5.0, 10.0]), RangeParameter(name='x2', parameter_type=FLOAT, range=[0.0, 15.0])], parameter_constraints=[])"
            ]
          },
          "execution_count": 32,
          "metadata": {
            "bento_obj_id": "140501404980176"
          },
          "output_type": "execute_result"
        }
      ],
      "source": [
        "experiment = get_branin_experiment(minimize=True)\n",
        "\n",
        "assert len(experiment.trials) == 0\n",
        "experiment.search_space"
      ]
    },
    {
      "cell_type": "code",
      "execution_count": 33,
      "metadata": {
        "originalKey": "b06a5d2a-f15d-43f1-a994-28dde25906c1"
      },
      "outputs": [
        {
          "name": "stdout",
          "output_type": "stream",
          "text": [
            "Completed trial #0, suggested by Sobol.\n",
            "Completed trial #1, suggested by Sobol.\n",
            "Completed trial #2, suggested by Sobol.\n",
            "Completed trial #3, suggested by Sobol.\n",
            "Completed trial #4, suggested by Sobol.\n",
            "Completed trial #5, suggested by BoTorch.\n",
            "Completed trial #6, suggested by BoTorch.\n",
            "Completed trial #7, suggested by BoTorch.\n",
            "Completed trial #8, suggested by BoTorch.\n",
            "Completed trial #9, suggested by BoTorch.\n"
          ]
        }
      ],
      "source": [
        "for _ in range(10):\n",
        "    # Produce a new generator run and attach it to experiment as a trial\n",
        "    generator_run = gs.gen(\n",
        "        experiment=experiment, \n",
        "        n=1, \n",
        "    )\n",
        "    trial = experiment.new_trial(generator_run)\n",
        "    \n",
        "    # Mark the trial as 'RUNNING' so we can mark it 'COMPLETED' later\n",
        "    trial.mark_running(no_runner_required=True)\n",
        "    \n",
        "    # Attach data for the new trial and mark it 'COMPLETED'\n",
        "    experiment.attach_data(get_branin_data(trials=[trial]))\n",
        "    trial.mark_completed()\n",
        "    \n",
        "    print(f\"Completed trial #{trial.index}, suggested by {generator_run._model_key}.\")"
      ]
    },
    {
      "cell_type": "markdown",
      "metadata": {
        "originalKey": "5b474522-a090-493b-a274-548ac35d2587"
      },
      "source": [
        "Inspect trials that were generated:"
      ]
    },
    {
      "cell_type": "code",
      "execution_count": 34,
      "metadata": {
        "originalKey": "8d3a27e5-987c-4cc8-9e17-d97143f3e275"
      },
      "outputs": [
        {
          "name": "stderr",
          "output_type": "stream",
          "text": [
            "[INFO 12-29 21:27:42] ax.modelbridge.generation_strategy: Note that parameter values in dataframe are rounded to 2 decimal points; the values in the dataframe are thus not the exact ones suggested by Ax in trials.\n"
          ]
        },
        {
          "data": {
            "application/vnd.dataresource+json": {
              "data": [
                {
                  "Arm Parameterizations": {
                    "0_0": {
                      "x1": 0.6,
                      "x2": 0.31
                    }
                  },
                  "Generation Model": "Sobol",
                  "Generation Step": 0,
                  "Trial Index": 0,
                  "Trial Status": "COMPLETED",
                  "index": 0
                },
                {
                  "Arm Parameterizations": {
                    "1_0": {
                      "x1": 4.02,
                      "x2": 0.48
                    }
                  },
                  "Generation Model": "Sobol",
                  "Generation Step": 0,
                  "Trial Index": 1,
                  "Trial Status": "COMPLETED",
                  "index": 1
                },
                {
                  "Arm Parameterizations": {
                    "2_0": {
                      "x1": 5.63,
                      "x2": 4.15
                    }
                  },
                  "Generation Model": "Sobol",
                  "Generation Step": 0,
                  "Trial Index": 2,
                  "Trial Status": "COMPLETED",
                  "index": 2
                },
                {
                  "Arm Parameterizations": {
                    "3_0": {
                      "x1": -3.57,
                      "x2": 2.06
                    }
                  },
                  "Generation Model": "Sobol",
                  "Generation Step": 0,
                  "Trial Index": 3,
                  "Trial Status": "COMPLETED",
                  "index": 3
                },
                {
                  "Arm Parameterizations": {
                    "4_0": {
                      "x1": -1.02,
                      "x2": 10.5
                    }
                  },
                  "Generation Model": "Sobol",
                  "Generation Step": 0,
                  "Trial Index": 4,
                  "Trial Status": "COMPLETED",
                  "index": 4
                },
                {
                  "Arm Parameterizations": {
                    "5_0": {
                      "x1": 2.65,
                      "x2": 15
                    }
                  },
                  "Generation Model": "BoTorch",
                  "Generation Step": 1,
                  "Trial Index": 5,
                  "Trial Status": "COMPLETED",
                  "index": 5
                },
                {
                  "Arm Parameterizations": {
                    "6_0": {
                      "x1": 2.64,
                      "x2": 15
                    }
                  },
                  "Generation Model": "BoTorch",
                  "Generation Step": 1,
                  "Trial Index": 6,
                  "Trial Status": "COMPLETED",
                  "index": 6
                },
                {
                  "Arm Parameterizations": {
                    "7_0": {
                      "x1": 2.63,
                      "x2": 15
                    }
                  },
                  "Generation Model": "BoTorch",
                  "Generation Step": 1,
                  "Trial Index": 7,
                  "Trial Status": "COMPLETED",
                  "index": 7
                },
                {
                  "Arm Parameterizations": {
                    "8_0": {
                      "x1": 2.57,
                      "x2": 15
                    }
                  },
                  "Generation Model": "BoTorch",
                  "Generation Step": 1,
                  "Trial Index": 8,
                  "Trial Status": "COMPLETED",
                  "index": 8
                },
                {
                  "Arm Parameterizations": {
                    "9_0": {
                      "x1": 2.63,
                      "x2": 15
                    }
                  },
                  "Generation Model": "BoTorch",
                  "Generation Step": 1,
                  "Trial Index": 9,
                  "Trial Status": "COMPLETED",
                  "index": 9
                }
              ],
              "schema": {
                "fields": [
                  {
                    "name": "index",
                    "type": "integer"
                  },
                  {
                    "name": "Generation Step",
                    "type": "integer"
                  },
                  {
                    "name": "Generation Model",
                    "type": "string"
                  },
                  {
                    "name": "Trial Index",
                    "type": "integer"
                  },
                  {
                    "name": "Trial Status",
                    "type": "string"
                  },
                  {
                    "name": "Arm Parameterizations",
                    "type": "string"
                  }
                ],
                "pandas_version": "0.20.0",
                "primaryKey": [
                  "index"
                ]
              }
            },
            "text/html": [
              "<div>\n",
              "<style scoped>\n",
              "    .dataframe tbody tr th:only-of-type {\n",
              "        vertical-align: middle;\n",
              "    }\n",
              "\n",
              "    .dataframe tbody tr th {\n",
              "        vertical-align: top;\n",
              "    }\n",
              "\n",
              "    .dataframe thead th {\n",
              "        text-align: right;\n",
              "    }\n",
              "</style>\n",
              "<table border=\"1\" class=\"dataframe\">\n",
              "  <thead>\n",
              "    <tr style=\"text-align: right;\">\n",
              "      <th></th>\n",
              "      <th>Generation Step</th>\n",
              "      <th>Generation Model</th>\n",
              "      <th>Trial Index</th>\n",
              "      <th>Trial Status</th>\n",
              "      <th>Arm Parameterizations</th>\n",
              "    </tr>\n",
              "  </thead>\n",
              "  <tbody>\n",
              "    <tr>\n",
              "      <th>0</th>\n",
              "      <td>0</td>\n",
              "      <td>Sobol</td>\n",
              "      <td>0</td>\n",
              "      <td>COMPLETED</td>\n",
              "      <td>{'0_0': {'x1': 0.6, 'x2': 0.31}}</td>\n",
              "    </tr>\n",
              "    <tr>\n",
              "      <th>1</th>\n",
              "      <td>0</td>\n",
              "      <td>Sobol</td>\n",
              "      <td>1</td>\n",
              "      <td>COMPLETED</td>\n",
              "      <td>{'1_0': {'x1': 4.02, 'x2': 0.48}}</td>\n",
              "    </tr>\n",
              "    <tr>\n",
              "      <th>2</th>\n",
              "      <td>0</td>\n",
              "      <td>Sobol</td>\n",
              "      <td>2</td>\n",
              "      <td>COMPLETED</td>\n",
              "      <td>{'2_0': {'x1': 5.63, 'x2': 4.15}}</td>\n",
              "    </tr>\n",
              "    <tr>\n",
              "      <th>3</th>\n",
              "      <td>0</td>\n",
              "      <td>Sobol</td>\n",
              "      <td>3</td>\n",
              "      <td>COMPLETED</td>\n",
              "      <td>{'3_0': {'x1': -3.57, 'x2': 2.06}}</td>\n",
              "    </tr>\n",
              "    <tr>\n",
              "      <th>4</th>\n",
              "      <td>0</td>\n",
              "      <td>Sobol</td>\n",
              "      <td>4</td>\n",
              "      <td>COMPLETED</td>\n",
              "      <td>{'4_0': {'x1': -1.02, 'x2': 10.5}}</td>\n",
              "    </tr>\n",
              "    <tr>\n",
              "      <th>5</th>\n",
              "      <td>1</td>\n",
              "      <td>BoTorch</td>\n",
              "      <td>5</td>\n",
              "      <td>COMPLETED</td>\n",
              "      <td>{'5_0': {'x1': 2.65, 'x2': 15.0}}</td>\n",
              "    </tr>\n",
              "    <tr>\n",
              "      <th>6</th>\n",
              "      <td>1</td>\n",
              "      <td>BoTorch</td>\n",
              "      <td>6</td>\n",
              "      <td>COMPLETED</td>\n",
              "      <td>{'6_0': {'x1': 2.64, 'x2': 15.0}}</td>\n",
              "    </tr>\n",
              "    <tr>\n",
              "      <th>7</th>\n",
              "      <td>1</td>\n",
              "      <td>BoTorch</td>\n",
              "      <td>7</td>\n",
              "      <td>COMPLETED</td>\n",
              "      <td>{'7_0': {'x1': 2.63, 'x2': 15.0}}</td>\n",
              "    </tr>\n",
              "    <tr>\n",
              "      <th>8</th>\n",
              "      <td>1</td>\n",
              "      <td>BoTorch</td>\n",
              "      <td>8</td>\n",
              "      <td>COMPLETED</td>\n",
              "      <td>{'8_0': {'x1': 2.57, 'x2': 15.0}}</td>\n",
              "    </tr>\n",
              "    <tr>\n",
              "      <th>9</th>\n",
              "      <td>1</td>\n",
              "      <td>BoTorch</td>\n",
              "      <td>9</td>\n",
              "      <td>COMPLETED</td>\n",
              "      <td>{'9_0': {'x1': 2.63, 'x2': 15.0}}</td>\n",
              "    </tr>\n",
              "  </tbody>\n",
              "</table>\n",
              "</div>"
            ],
            "text/plain": [
              "   Generation Step  ...               Arm Parameterizations\n",
              "0                0  ...    {'0_0': {'x1': 0.6, 'x2': 0.31}}\n",
              "1                0  ...   {'1_0': {'x1': 4.02, 'x2': 0.48}}\n",
              "2                0  ...   {'2_0': {'x1': 5.63, 'x2': 4.15}}\n",
              "3                0  ...  {'3_0': {'x1': -3.57, 'x2': 2.06}}\n",
              "4                0  ...  {'4_0': {'x1': -1.02, 'x2': 10.5}}\n",
              "5                1  ...   {'5_0': {'x1': 2.65, 'x2': 15.0}}\n",
              "6                1  ...   {'6_0': {'x1': 2.64, 'x2': 15.0}}\n",
              "7                1  ...   {'7_0': {'x1': 2.63, 'x2': 15.0}}\n",
              "8                1  ...   {'8_0': {'x1': 2.57, 'x2': 15.0}}\n",
              "9                1  ...   {'9_0': {'x1': 2.63, 'x2': 15.0}}\n",
              "\n",
              "[10 rows x 5 columns]"
            ]
          },
          "execution_count": 34,
          "metadata": {
            "bento_obj_id": "140501389292752"
          },
          "output_type": "execute_result"
        }
      ],
      "source": [
        "gs.trials_as_df"
      ]
    },
    {
      "cell_type": "markdown",
      "metadata": {
        "originalKey": "58b845f4-0e10-42d9-8305-fae212421fbf"
      },
      "source": [
        "----"
      ]
    },
    {
      "cell_type": "markdown",
      "metadata": {
        "originalKey": "cbaaff61-5d90-470f-a23a-076551b7155d"
      },
      "source": [
        "## Appendix 1: Methods available on `BoTorchModel`\n",
        "\n",
        "**Core methods on `BoTorchModel`:**\n",
        "\n",
        "* `fit` selects a surrogate if needed and fits the surrogate model to data via `Surrogate.fit`,\n",
        "* `predict` estimates metric values at a given point via `Surrogate.predict`,\n",
        "* `gen` instantiates an acquisition function via `Acquisition.__init__` and optimizes it to generate candidates.\n",
        "\n",
        "**Other methods on `BoTorchModel`:**\n",
        "\n",
        "* `update` updates surrogate model with training data and optionally reoptimizes model parameters via `Surrogate.update`,\n",
        "* `cross_validate` re-fits the surrogate model to subset of training data and makes predictions for test data,\n",
        "* `evaluate_acquisition_function` instantiates an acquisitino function and evaluates it for a given point.\n",
        "---"
      ]
    },
    {
      "cell_type": "markdown",
      "metadata": {
        "originalKey": "19a2590f-d0f8-41d5-950e-03766379a55a"
      },
      "source": [
        "## Appendix 2: Default surrogate models and acquisition functions\n",
        "\n",
        "By default, the chosen surrogate model will be:\n",
        "\n",
        "* if fidelity parameters are present in search space: `FixedNoiseMultiFidelityGP` (if [SEM](https://ax.dev/docs/glossary.html#sem)s are known on observations) and `SingleTaskMultiFidelityGP` (if variance unknown and needs to be inferred),\n",
        "* if task parameters are present: a set of `FixedNoiseMultiTaskGP` (if known variance) or `MultiTaskGP` (if unknown variance), wrapped in a `ModelListGP` and each modeling one task,\n",
        "* `FixedNoiseGP` (known variance) and `SingleTaskGP` (unknown variance) otherwise.\n",
        "\n",
        "The chosen acquisition function will be:\n",
        "\n",
        "* for multi-fidelity settings: `qMultiFidelityKnowledgeGradient`,\n",
        "* `qExpectedImprovement` (known variance) and `qNoisyExpectedImprovement` (unknown variance) otherwise.\n",
        "\n",
        "----"
      ]
    },
    {
      "cell_type": "markdown",
      "metadata": {
        "originalKey": "7dc54c6a-dea6-4b65-be7c-b9050a684bfb"
      },
      "source": [
        "## Appendix 3: Handling storage errors that arise from objects that don't have serialization logic in Ax\n",
        "\n",
        "Attempting to store a generator run produced via `Models.BOTORCH_MODULAR` instance that included options without serization logic with will produce an error like: `\"Object <SomeAcquisitionOption object> passed to `object_to_json` (of type <class SomeAcquisitionOption'>) is not registered with a corresponding encoder in ENCODER_REGISTRY.\"` \n",
        "\n",
        "The two options for handling this error are:\n",
        "1. disabling storage of `BoTorchModel`'s options by passing `no_model_options_storage=True` to `Models.BOTORCH_MODULAR(...)` call –– this will prevent model options from being stored on the generator run, so a generator run can be saved but cannot be used to restore the model that produced it,\n",
        "2. specifying serialization logic for a given object that needs to occur among the `Model` or `AcquisitionFunction` options. Tutorial for this is in the works, but in the meantime you can [post an issue on the Ax GitHub](https://github.com/facebook/Ax/issues) to get help with this."
      ]
    }
  ],
  "metadata": {
    "kernelspec": {
      "display_name": "python3",
      "language": "python",
      "name": "python3"
    }
  },
  "nbformat": 4,
  "nbformat_minor": 2
}
