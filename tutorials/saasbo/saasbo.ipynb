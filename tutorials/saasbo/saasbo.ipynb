{
 "cells": [
  {
   "cell_type": "markdown",
   "id": "7b9f8368",
   "metadata": {
    "originalKey": "1f779465-f9cc-4b17-9b5a-5960cf602273",
    "papermill": {
     "duration": 0.002851,
     "end_time": "2025-02-03T18:58:01.687776",
     "exception": false,
     "start_time": "2025-02-03T18:58:01.684925",
     "status": "completed"
    },
    "tags": []
   },
   "source": [
    "# High-Dimensional Bayesian Optimization with SAASBO\n",
    "\n",
    "This tutorial shows how to use the Sparse Axis-Aligned Subspace Bayesian Optimization (SAASBO) method for high-dimensional Bayesian optimization [1]. SAASBO places strong priors on the inverse lengthscales to avoid overfitting in high-dimensional spaces. Specifically, SAASBO uses a hierarchical sparsity prior consisting of a global shrinkage parameter $\\tau \\sim \\mathcal{HC}(\\beta)$ and inverse lengthscales $\\rho_d \\sim \\mathcal{HC}(\\tau)$ for $d=1, ..., D$, where $\\mathcal{HC}$ is the half-Cauchy distribution. While half-Cauchy priors favor values near zero they also have heavy tails, which allows the inverse lengthscales of the most important parameters to escape zero. To do inference in the SAAS model we use Hamiltonian Monte Carlo (HMC) as we found that to outperform MAP inference.\n",
    "\n",
    "We find that SAASBO performs well on problems with hundreds of dimensions. As we rely on HMC and in particular the No-U-Turn-Sampler (NUTS) for inference, the overhead of SAASBO scales cubically with the number of datapoints. Depending on the problem, using more than $100$ evaluations may not be feasible as SAASBO is designed for problems with a limited evaluation budget.\n",
    "\n",
    "[1] D. Eriksson, M. Jankowiak. High-Dimensional Bayesian Optimization with Sparse Axis-Aligned Subspaces. Proceedings of the Thirty-Seventh Conference on Uncertainty in Artificial Intelligence, 2021."
   ]
  },
  {
   "cell_type": "code",
   "execution_count": 1,
   "id": "f772c8d9",
   "metadata": {
    "execution": {
     "iopub.execute_input": "2025-02-03T18:58:01.693769Z",
     "iopub.status.busy": "2025-02-03T18:58:01.693425Z",
     "iopub.status.idle": "2025-02-03T18:58:01.698574Z",
     "shell.execute_reply": "2025-02-03T18:58:01.698001Z"
    },
    "papermill": {
     "duration": 0.009491,
     "end_time": "2025-02-03T18:58:01.699815",
     "exception": false,
     "start_time": "2025-02-03T18:58:01.690324",
     "status": "completed"
    },
    "tags": []
   },
   "outputs": [],
   "source": [
    "import sys\n",
    "import plotly.io as pio\n",
    "if 'google.colab' in sys.modules:\n",
    "    pio.renderers.default = \"colab\"\n",
    "    %pip install ax-platform"
   ]
  },
  {
   "cell_type": "code",
   "execution_count": 2,
   "id": "f20edd41",
   "metadata": {
    "execution": {
     "iopub.execute_input": "2025-02-03T18:58:01.705594Z",
     "iopub.status.busy": "2025-02-03T18:58:01.705235Z",
     "iopub.status.idle": "2025-02-03T18:58:04.541870Z",
     "shell.execute_reply": "2025-02-03T18:58:04.541206Z"
    },
    "originalKey": "36a4c036-4075-4b15-87b2-a399c318f7b6",
    "papermill": {
     "duration": 2.841212,
     "end_time": "2025-02-03T18:58:04.543488",
     "exception": false,
     "start_time": "2025-02-03T18:58:01.702276",
     "status": "completed"
    },
    "tags": []
   },
   "outputs": [],
   "source": [
    "import os\n",
    "\n",
    "import matplotlib\n",
    "import matplotlib.pyplot as plt\n",
    "import numpy as np\n",
    "import torch\n",
    "\n",
    "from ax import Data, Experiment, ParameterType, RangeParameter, SearchSpace\n",
    "from ax.core.metric import Metric\n",
    "from ax.core.objective import Objective\n",
    "from ax.core.optimization_config import OptimizationConfig\n",
    "from ax.metrics.branin import BraninMetric\n",
    "from ax.modelbridge.cross_validation import cross_validate\n",
    "from ax.modelbridge.registry import Models\n",
    "from ax.models.torch.botorch_modular.surrogate import Surrogate\n",
    "from ax.runners.synthetic import SyntheticRunner\n",
    "from botorch.models.fully_bayesian import SaasFullyBayesianSingleTaskGP"
   ]
  },
  {
   "cell_type": "code",
   "execution_count": 3,
   "id": "d16bcb7d",
   "metadata": {
    "execution": {
     "iopub.execute_input": "2025-02-03T18:58:04.550575Z",
     "iopub.status.busy": "2025-02-03T18:58:04.549923Z",
     "iopub.status.idle": "2025-02-03T18:58:04.553194Z",
     "shell.execute_reply": "2025-02-03T18:58:04.552603Z"
    },
    "papermill": {
     "duration": 0.007849,
     "end_time": "2025-02-03T18:58:04.554407",
     "exception": false,
     "start_time": "2025-02-03T18:58:04.546558",
     "status": "completed"
    },
    "tags": []
   },
   "outputs": [],
   "source": [
    "SMOKE_TEST = os.environ.get(\"SMOKE_TEST\")"
   ]
  },
  {
   "cell_type": "code",
   "execution_count": 4,
   "id": "ff924c07",
   "metadata": {
    "execution": {
     "iopub.execute_input": "2025-02-03T18:58:04.560501Z",
     "iopub.status.busy": "2025-02-03T18:58:04.560086Z",
     "iopub.status.idle": "2025-02-03T18:58:04.564015Z",
     "shell.execute_reply": "2025-02-03T18:58:04.563590Z"
    },
    "originalKey": "08bf2c1e-5909-4bde-8829-0fb0d0a29a25",
    "papermill": {
     "duration": 0.008345,
     "end_time": "2025-02-03T18:58:04.565264",
     "exception": false,
     "start_time": "2025-02-03T18:58:04.556919",
     "status": "completed"
    },
    "tags": []
   },
   "outputs": [],
   "source": [
    "torch.manual_seed(12345)  # To always get the same Sobol points\n",
    "tkwargs = {\n",
    "    \"dtype\": torch.double,\n",
    "    \"device\": torch.device(\"cuda\" if torch.cuda.is_available() else \"cpu\"),\n",
    "}"
   ]
  },
  {
   "cell_type": "markdown",
   "id": "b7376474",
   "metadata": {
    "originalKey": "2f9bd4f6-87d6-42d9-b575-f92cf94de7b0",
    "papermill": {
     "duration": 0.002474,
     "end_time": "2025-02-03T18:58:04.570256",
     "exception": false,
     "start_time": "2025-02-03T18:58:04.567782",
     "status": "completed"
    },
    "tags": []
   },
   "source": [
    "## Setup search space and metric\n",
    "In this simple experiment we use the Branin function embedded in a 30-dimensional space. Additional resources:\n",
    "- To set up a custom metric for your problem, refer to the dedicated section of the Developer API tutorial: https://ax.dev/tutorials/gpei_hartmann_developer.html#8.-Defining-custom-metrics.\n",
    "- To avoid needing to setup up custom metrics by Ax Service API: https://ax.dev/tutorials/gpei_hartmann_service.html."
   ]
  },
  {
   "cell_type": "code",
   "execution_count": 5,
   "id": "6a16be79",
   "metadata": {
    "execution": {
     "iopub.execute_input": "2025-02-03T18:58:04.576158Z",
     "iopub.status.busy": "2025-02-03T18:58:04.575912Z",
     "iopub.status.idle": "2025-02-03T18:58:04.579828Z",
     "shell.execute_reply": "2025-02-03T18:58:04.579343Z"
    },
    "originalKey": "7697c80d-ab0c-4884-b4c7-c75d24a07e1a",
    "papermill": {
     "duration": 0.008209,
     "end_time": "2025-02-03T18:58:04.581062",
     "exception": false,
     "start_time": "2025-02-03T18:58:04.572853",
     "status": "completed"
    },
    "tags": []
   },
   "outputs": [],
   "source": [
    "search_space = SearchSpace(\n",
    "    parameters=[\n",
    "        RangeParameter(\n",
    "            name=f\"x{i}\", parameter_type=ParameterType.FLOAT, lower=-5.0, upper=10.0\n",
    "        )\n",
    "        for i in range(25)\n",
    "    ]\n",
    "    + [\n",
    "        RangeParameter(\n",
    "            name=f\"x{i + 25}\",\n",
    "            parameter_type=ParameterType.FLOAT,\n",
    "            lower=0.0,\n",
    "            upper=15.0,\n",
    "        )\n",
    "        for i in range(25)\n",
    "    ]\n",
    ")\n",
    "\n",
    "optimization_config = OptimizationConfig(\n",
    "    objective=Objective(\n",
    "        metric=BraninMetric(\n",
    "            name=\"objective\",\n",
    "            param_names=[\"x19\", \"x34\"],\n",
    "             # Set noise_sd=None if you want to learn the noise, set to 0.0 for no noise\n",
    "            noise_sd=1e-4, \n",
    "        ),\n",
    "        minimize=True,\n",
    "    )\n",
    ")"
   ]
  },
  {
   "cell_type": "markdown",
   "id": "42293144",
   "metadata": {
    "originalKey": "379571df-a141-48f7-84de-f75bc6e8e760",
    "papermill": {
     "duration": 0.002571,
     "end_time": "2025-02-03T18:58:04.586252",
     "exception": false,
     "start_time": "2025-02-03T18:58:04.583681",
     "status": "completed"
    },
    "tags": []
   },
   "source": [
    "## Run benchmark"
   ]
  },
  {
   "cell_type": "code",
   "execution_count": 6,
   "id": "554040bc",
   "metadata": {
    "execution": {
     "iopub.execute_input": "2025-02-03T18:58:04.592313Z",
     "iopub.status.busy": "2025-02-03T18:58:04.591932Z",
     "iopub.status.idle": "2025-02-03T18:58:04.595223Z",
     "shell.execute_reply": "2025-02-03T18:58:04.594664Z"
    },
    "papermill": {
     "duration": 0.00798,
     "end_time": "2025-02-03T18:58:04.596782",
     "exception": false,
     "start_time": "2025-02-03T18:58:04.588802",
     "status": "completed"
    },
    "tags": []
   },
   "outputs": [
    {
     "name": "stdout",
     "output_type": "stream",
     "text": [
      "Doing 40 evaluations\n"
     ]
    }
   ],
   "source": [
    "N_INIT = 10\n",
    "BATCH_SIZE = 3\n",
    "N_BATCHES = 1 if SMOKE_TEST else 10\n",
    "\n",
    "print(f\"Doing {N_INIT + N_BATCHES * BATCH_SIZE} evaluations\")"
   ]
  },
  {
   "cell_type": "code",
   "execution_count": 7,
   "id": "9394e5f4",
   "metadata": {
    "execution": {
     "iopub.execute_input": "2025-02-03T18:58:04.603970Z",
     "iopub.status.busy": "2025-02-03T18:58:04.603603Z",
     "iopub.status.idle": "2025-02-03T18:58:04.606464Z",
     "shell.execute_reply": "2025-02-03T18:58:04.605985Z"
    },
    "papermill": {
     "duration": 0.008092,
     "end_time": "2025-02-03T18:58:04.607672",
     "exception": false,
     "start_time": "2025-02-03T18:58:04.599580",
     "status": "completed"
    },
    "tags": []
   },
   "outputs": [],
   "source": [
    "# Experiment\n",
    "experiment = Experiment(\n",
    "    name=\"saasbo_experiment\",\n",
    "    search_space=search_space,\n",
    "    optimization_config=optimization_config,\n",
    "    runner=SyntheticRunner(),\n",
    ")"
   ]
  },
  {
   "cell_type": "code",
   "execution_count": 8,
   "id": "366bf3e2",
   "metadata": {
    "execution": {
     "iopub.execute_input": "2025-02-03T18:58:04.613850Z",
     "iopub.status.busy": "2025-02-03T18:58:04.613651Z",
     "iopub.status.idle": "2025-02-03T18:58:04.637452Z",
     "shell.execute_reply": "2025-02-03T18:58:04.636983Z"
    },
    "papermill": {
     "duration": 0.02829,
     "end_time": "2025-02-03T18:58:04.638679",
     "exception": false,
     "start_time": "2025-02-03T18:58:04.610389",
     "status": "completed"
    },
    "tags": []
   },
   "outputs": [],
   "source": [
    "# Initial Sobol points\n",
    "sobol = Models.SOBOL(search_space=experiment.search_space)\n",
    "for _ in range(N_INIT):\n",
    "    experiment.new_trial(sobol.gen(1)).run()"
   ]
  },
  {
   "cell_type": "code",
   "execution_count": 9,
   "id": "9b54502f",
   "metadata": {
    "execution": {
     "iopub.execute_input": "2025-02-03T18:58:04.645151Z",
     "iopub.status.busy": "2025-02-03T18:58:04.644699Z",
     "iopub.status.idle": "2025-02-03T19:19:36.410345Z",
     "shell.execute_reply": "2025-02-03T19:19:36.409650Z"
    },
    "originalKey": "bdfeea50-c4e6-4ff1-91ae-c8f6c3160d7c",
    "papermill": {
     "duration": 1291.773032,
     "end_time": "2025-02-03T19:19:36.414430",
     "exception": false,
     "start_time": "2025-02-03T18:58:04.641398",
     "status": "completed"
    },
    "tags": []
   },
   "outputs": [
    {
     "name": "stdout",
     "output_type": "stream",
     "text": [
      "Iteration: 0, Best in iteration 10.821, Best so far: 3.963\n"
     ]
    },
    {
     "name": "stdout",
     "output_type": "stream",
     "text": [
      "Iteration: 1, Best in iteration 10.961, Best so far: 3.963\n"
     ]
    },
    {
     "name": "stdout",
     "output_type": "stream",
     "text": [
      "Iteration: 2, Best in iteration 8.983, Best so far: 3.963\n"
     ]
    },
    {
     "name": "stdout",
     "output_type": "stream",
     "text": [
      "Iteration: 3, Best in iteration 7.125, Best so far: 3.963\n"
     ]
    },
    {
     "name": "stdout",
     "output_type": "stream",
     "text": [
      "Iteration: 4, Best in iteration 2.062, Best so far: 2.062\n"
     ]
    },
    {
     "name": "stdout",
     "output_type": "stream",
     "text": [
      "Iteration: 5, Best in iteration 1.213, Best so far: 1.213\n"
     ]
    },
    {
     "name": "stdout",
     "output_type": "stream",
     "text": [
      "Iteration: 6, Best in iteration 0.806, Best so far: 0.806\n"
     ]
    },
    {
     "name": "stdout",
     "output_type": "stream",
     "text": [
      "Iteration: 7, Best in iteration 0.538, Best so far: 0.538\n"
     ]
    },
    {
     "name": "stdout",
     "output_type": "stream",
     "text": [
      "Iteration: 8, Best in iteration 10.961, Best so far: 0.538\n"
     ]
    },
    {
     "name": "stdout",
     "output_type": "stream",
     "text": [
      "Iteration: 9, Best in iteration 0.403, Best so far: 0.403\n",
      "CPU times: user 42min 43s, sys: 19.4 s, total: 43min 2s\n",
      "Wall time: 21min 31s\n"
     ]
    }
   ],
   "source": [
    "%%time\n",
    "# Run SAASBO\n",
    "data = experiment.fetch_data()\n",
    "for i in range(N_BATCHES):\n",
    "    model = Models.SAASBO(experiment=experiment, data=data)\n",
    "    generator_run = model.gen(BATCH_SIZE)\n",
    "    trial = experiment.new_batch_trial(generator_run=generator_run)\n",
    "    trial.run()\n",
    "    data = Data.from_multiple_data([data, trial.fetch_data()])\n",
    "\n",
    "    new_value = trial.fetch_data().df[\"mean\"].min()\n",
    "    print(\n",
    "        f\"Iteration: {i}, Best in iteration {new_value:.3f}, Best so far: {data.df['mean'].min():.3f}\"\n",
    "    )"
   ]
  },
  {
   "cell_type": "markdown",
   "id": "93646cd4",
   "metadata": {
    "papermill": {
     "duration": 0.003224,
     "end_time": "2025-02-03T19:19:36.420940",
     "exception": false,
     "start_time": "2025-02-03T19:19:36.417716",
     "status": "completed"
    },
    "tags": []
   },
   "source": [
    "## Plot results\n",
    "SAASBO is able to find a solution close to the global optimal value of 0.398"
   ]
  },
  {
   "cell_type": "code",
   "execution_count": 10,
   "id": "4bb9e830",
   "metadata": {
    "execution": {
     "iopub.execute_input": "2025-02-03T19:19:36.428631Z",
     "iopub.status.busy": "2025-02-03T19:19:36.428061Z",
     "iopub.status.idle": "2025-02-03T19:19:36.600856Z",
     "shell.execute_reply": "2025-02-03T19:19:36.600278Z"
    },
    "originalKey": "5a9b9706-2653-4320-96f3-4bc9fe88bceb",
    "papermill": {
     "duration": 0.17798,
     "end_time": "2025-02-03T19:19:36.602194",
     "exception": false,
     "start_time": "2025-02-03T19:19:36.424214",
     "status": "completed"
    },
    "tags": []
   },
   "outputs": [
    {
     "data": {
      "image/png": "[encoded data removed]",
      "text/plain": [
       "<Figure size 800x600 with 1 Axes>"
      ]
     },
     "metadata": {},
     "output_type": "display_data"
    }
   ],
   "source": [
    "%matplotlib inline\n",
    "matplotlib.rcParams.update({\"font.size\": 16})\n",
    "\n",
    "\n",
    "fig, ax = plt.subplots(figsize=(8, 6))\n",
    "res_saasbo = data.df[\"mean\"]\n",
    "ax.plot(np.minimum.accumulate(res_saasbo), color=\"b\", label=\"SAASBO\")\n",
    "ax.plot([0, len(res_saasbo)], [0.398, 0.398], \"--\", c=\"g\", lw=3, label=\"Optimal value\")\n",
    "ax.grid(True)\n",
    "ax.set_title(\"Branin, D=50\", fontsize=20)\n",
    "ax.set_xlabel(\"Number of evaluations\", fontsize=20)\n",
    "ax.set_xlim([0, len(res_saasbo)])\n",
    "ax.set_ylabel(\"Best value found\", fontsize=20)\n",
    "ax.set_ylim([0, 8])\n",
    "ax.legend(fontsize=18)\n",
    "plt.show()"
   ]
  },
  {
   "cell_type": "markdown",
   "id": "da392056",
   "metadata": {
    "papermill": {
     "duration": 0.003595,
     "end_time": "2025-02-03T19:19:36.609589",
     "exception": false,
     "start_time": "2025-02-03T19:19:36.605994",
     "status": "completed"
    },
    "tags": []
   },
   "source": [
    "## SAAS model fit"
   ]
  },
  {
   "cell_type": "markdown",
   "id": "e61178e6",
   "metadata": {
    "papermill": {
     "duration": 0.00348,
     "end_time": "2025-02-03T19:19:36.616503",
     "exception": false,
     "start_time": "2025-02-03T19:19:36.613023",
     "status": "completed"
    },
    "tags": []
   },
   "source": [
    "We can also instantiate a SAAS model via `Models.BOTORCH_MODULAR` by specifying a `SaasFullyBayesianSingleTaskGP` as the `botorch_model_class`. This also gives us the option to change several Pyro-specific parameters such as `num_samples` and `warmup_steps`."
   ]
  },
  {
   "cell_type": "code",
   "execution_count": 11,
   "id": "14079509",
   "metadata": {
    "execution": {
     "iopub.execute_input": "2025-02-03T19:19:36.624460Z",
     "iopub.status.busy": "2025-02-03T19:19:36.624029Z",
     "iopub.status.idle": "2025-02-03T19:21:30.537176Z",
     "shell.execute_reply": "2025-02-03T19:21:30.536535Z"
    },
    "papermill": {
     "duration": 113.918758,
     "end_time": "2025-02-03T19:21:30.538699",
     "exception": false,
     "start_time": "2025-02-03T19:19:36.619941",
     "status": "completed"
    },
    "tags": []
   },
   "outputs": [
    {
     "name": "stderr",
     "output_type": "stream",
     "text": [
      "/tmp/ipykernel_2888/3305458689.py:4: DeprecationWarning: botorch_model_class is deprecated and will be removed in a future version. Please specify botorch_model_class via `surrogate_spec.model_configs`.\n",
      "  surrogate=Surrogate(\n",
      "/tmp/ipykernel_2888/3305458689.py:4: DeprecationWarning: mll_options is deprecated and will be removed in a future version. Please specify mll_options via `surrogate_spec.model_configs`.\n",
      "  surrogate=Surrogate(\n"
     ]
    }
   ],
   "source": [
    "model = Models.BOTORCH_MODULAR(\n",
    "    experiment=experiment,\n",
    "    data=data,\n",
    "    surrogate=Surrogate(\n",
    "        botorch_model_class=SaasFullyBayesianSingleTaskGP,\n",
    "        mll_options={\n",
    "            \"num_samples\": 256,  # Increasing this may result in better model fits\n",
    "            \"warmup_steps\": 512,  # Increasing this may result in better model fits\n",
    "        },\n",
    "    )\n",
    ")"
   ]
  },
  {
   "cell_type": "markdown",
   "id": "27685eb3",
   "metadata": {
    "papermill": {
     "duration": 0.003547,
     "end_time": "2025-02-03T19:21:30.546272",
     "exception": false,
     "start_time": "2025-02-03T19:21:30.542725",
     "status": "completed"
    },
    "tags": []
   },
   "source": [
    "### Cross-validation plot \n",
    "We have tools for cross-validation in Ax, but plotly doesn't render on Github so we make a simple plot using Matplotlib here. To use the built-in cross-validation functionality, you can do something like this:\n",
    "\n",
    "```\n",
    "from ax.modelbridge.cross_validation import cross_validate, compute_diagnostics\n",
    "from ax.plot.diagnostic import interact_cross_validation\n",
    "from ax.utils.notebook.plotting import render, init_notebook_plotting\n",
    "\n",
    "\n",
    "cv = cross_validate(model)\n",
    "diagnostics = compute_diagnostics(cv)\n",
    "init_notebook_plotting()\n",
    "plotconfig = interact_cross_validation(cv)\n",
    "render(plotconfig)\n",
    "```"
   ]
  },
  {
   "cell_type": "code",
   "execution_count": 12,
   "id": "88b3aa7c",
   "metadata": {
    "execution": {
     "iopub.execute_input": "2025-02-03T19:21:30.554722Z",
     "iopub.status.busy": "2025-02-03T19:21:30.554263Z",
     "iopub.status.idle": "2025-02-03T19:21:31.112480Z",
     "shell.execute_reply": "2025-02-03T19:21:31.111927Z"
    },
    "papermill": {
     "duration": 0.563778,
     "end_time": "2025-02-03T19:21:31.113727",
     "exception": false,
     "start_time": "2025-02-03T19:21:30.549949",
     "status": "completed"
    },
    "tags": []
   },
   "outputs": [
    {
     "data": {
      "image/png": "[encoded data removed]",
      "text/plain": [
       "<Figure size 600x600 with 1 Axes>"
      ]
     },
     "metadata": {},
     "output_type": "display_data"
    }
   ],
   "source": [
    "# Cross-validate model\n",
    "cv = cross_validate(model)\n",
    "y_true = np.stack([cv_.observed.data.means for cv_ in cv]).ravel()\n",
    "y_saas_mean = np.stack([cv_.predicted.means for cv_ in cv]).ravel()\n",
    "y_saas_std = np.stack(\n",
    "    [np.sqrt(np.diag(cv_.predicted.covariance)) for cv_ in cv]\n",
    ").ravel()\n",
    "\n",
    "# Cross-validation plot\n",
    "fig, ax = plt.subplots(1, 1, figsize=(6, 6))\n",
    "min_val, max_val = -5, 120\n",
    "ax.plot([min_val, max_val], [min_val, max_val], \"b--\", lw=2)\n",
    "markers, caps, bars = ax.errorbar(\n",
    "    y_true,\n",
    "    y_saas_mean,\n",
    "    yerr=1.96 * y_saas_std,\n",
    "    fmt=\".\",\n",
    "    capsize=4,\n",
    "    elinewidth=2.0,\n",
    "    ms=14,\n",
    "    c=\"k\",\n",
    "    ecolor=\"gray\",\n",
    ")\n",
    "[bar.set_alpha(0.8) for bar in bars]\n",
    "[cap.set_alpha(0.8) for cap in caps]\n",
    "ax.set_xlim([min_val, max_val])\n",
    "ax.set_ylim([min_val, max_val])\n",
    "ax.set_xlabel(\"True value\", fontsize=20)\n",
    "ax.set_ylabel(\"Predicted value\", fontsize=20)\n",
    "ax.grid(True)"
   ]
  },
  {
   "cell_type": "markdown",
   "id": "2abbe9e0",
   "metadata": {
    "papermill": {
     "duration": 0.003845,
     "end_time": "2025-02-03T19:21:31.121896",
     "exception": false,
     "start_time": "2025-02-03T19:21:31.118051",
     "status": "completed"
    },
    "tags": []
   },
   "source": [
    "### Lengthscales\n",
    "As SAASBO places strong priors on the inverse lengthscales, we only expect parameters 19 and 44 to be identified as important by the model since the other parameters have no effect. We can confirm that this is the case below as the lengthscales of parameters 19 and 44 are close to 1 with all other lengthscales being larger than 1000.  "
   ]
  },
  {
   "cell_type": "code",
   "execution_count": 13,
   "id": "06dc7ed9",
   "metadata": {
    "execution": {
     "iopub.execute_input": "2025-02-03T19:21:31.130594Z",
     "iopub.status.busy": "2025-02-03T19:21:31.130344Z",
     "iopub.status.idle": "2025-02-03T19:21:31.134854Z",
     "shell.execute_reply": "2025-02-03T19:21:31.134417Z"
    },
    "papermill": {
     "duration": 0.010401,
     "end_time": "2025-02-03T19:21:31.136098",
     "exception": false,
     "start_time": "2025-02-03T19:21:31.125697",
     "status": "completed"
    },
    "tags": []
   },
   "outputs": [
    {
     "name": "stdout",
     "output_type": "stream",
     "text": [
      "Parameter  7) Median lengthscale = 1.95e-02\n",
      "Parameter 29) Median lengthscale = 8.11e-01\n",
      "Parameter 31) Median lengthscale = 4.14e+01\n",
      "Parameter 18) Median lengthscale = 4.17e+01\n",
      "Parameter 35) Median lengthscale = 4.56e+01\n",
      "Parameter 19) Median lengthscale = 5.35e+01\n",
      "Parameter 47) Median lengthscale = 5.57e+01\n",
      "Parameter 41) Median lengthscale = 5.62e+01\n",
      "Parameter 13) Median lengthscale = 5.63e+01\n",
      "Parameter 39) Median lengthscale = 5.66e+01\n"
     ]
    }
   ],
   "source": [
    "median_lengthscales = (\n",
    "    model.model.surrogate.model\n",
    "    .covar_module.base_kernel.lengthscale.squeeze()\n",
    "    .median(axis=0)\n",
    "    .values\n",
    ")\n",
    "for i in median_lengthscales.argsort()[:10]:\n",
    "    print(f\"Parameter {i:2}) Median lengthscale = {median_lengthscales[i]:.2e}\")"
   ]
  },
  {
   "cell_type": "code",
   "execution_count": null,
   "id": "f549d457",
   "metadata": {
    "papermill": {
     "duration": 0.003941,
     "end_time": "2025-02-03T19:21:31.144009",
     "exception": false,
     "start_time": "2025-02-03T19:21:31.140068",
     "status": "completed"
    },
    "tags": []
   },
   "outputs": [],
   "source": []
  }
 ],
 "metadata": {
  "kernelspec": {
   "display_name": "Python 3 (ipykernel)",
   "language": "python",
   "name": "python3"
  },
  "language_info": {
   "codemirror_mode": {
    "name": "ipython",
    "version": 3
   },
   "file_extension": ".py",
   "mimetype": "text/x-python",
   "name": "python",
   "nbconvert_exporter": "python",
   "pygments_lexer": "ipython3",
   "version": "3.12.8"
  },
  "papermill": {
   "default_parameters": {},
   "duration": 1410.953659,
   "end_time": "2025-02-03T19:21:31.954778",
   "environment_variables": {},
   "exception": null,
   "input_path": "/home/runner/work/Ax/Ax/tutorials/saasbo/saasbo.ipynb",
   "output_path": "/home/runner/work/Ax/Ax/tutorials/saasbo/saasbo.ipynb",
   "parameters": {},
   "start_time": "2025-02-03T18:58:01.001119",
   "version": "2.6.0"
  }
 },
 "nbformat": 4,
 "nbformat_minor": 5
}