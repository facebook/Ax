{
  "cells": [
    {
      "cell_type": "markdown",
      "metadata": {
        "code_folding": [],
        "customInput": null,
        "hidden_ranges": [],
        "originalKey": "95e7a97a-bf78-48d4-a0c1-c0e8dfc4fed9",
        "showInput": true
      },
      "source": [
        "# Multi-Objective Optimization Ax API\n",
        "### Using the Service API\n",
        "For Multi-objective optimization (MOO) in the `AxClient`, objectives are specified through the `ObjectiveProperties` dataclass.  An `ObjectiveProperties` requires a boolean `minimize`, and also accepts an optional floating point  `threshold`.  If a `threshold` is not specified, Ax will infer it through the use of heuristics.  If the user knows the region of interest (because they have specs or prior knowledge), then specifying the thresholds is preferable to inferring it. But if the user would need to guess, inferring is preferable.\n",
        "\n",
        "\n",
        "To learn more about how to choose a threshold, see [Set Objective Thresholds to focus candidate generation in a region of interest](#Set-Objective-Thresholds-to-focus-candidate-generation-in-a-region-of-interest).  See the [Service API Tutorial](/tutorials/gpei_hartmann_service.html) for more infomation on running experiments with the Service API."
      ]
    },
    {
      "cell_type": "code",
      "execution_count": null,
      "metadata": {
        "code_folding": [],
        "customInput": null,
        "hidden_ranges": [],
        "originalKey": "06bf2029-0ea4-40b4-aced-956f1411cb6e",
        "showInput": true
      },
      "outputs": [],
      "source": [
        "from ax.service.ax_client import AxClient\n",
        "from ax.service.utils.instantiation import ObjectiveProperties\n",
        "\n",
        "import torch\n",
        "\n",
        "# Plotting imports and initialization\n",
        "from ax.utils.notebook.plotting import render, init_notebook_plotting\n",
        "from ax.plot.pareto_utils import compute_posterior_pareto_frontier\n",
        "from ax.plot.pareto_frontier import plot_pareto_frontier\n",
        "init_notebook_plotting()\n",
        "\n",
        "# Load our sample 2-objective problem\n",
        "from botorch.test_functions.multi_objective import BraninCurrin\n",
        "branin_currin = BraninCurrin(negate=True).to(\n",
        "    dtype=torch.double, \n",
        "    device= torch.device(\"cuda\" if torch.cuda.is_available() else \"cpu\"),\n",
        ")"
      ]
    },
    {
      "cell_type": "code",
      "execution_count": null,
      "metadata": {
        "code_folding": [],
        "customInput": null,
        "executionStartTime": 1628191188673,
        "executionStopTime": 1628191188746,
        "hidden_ranges": [],
        "originalKey": "c687973d-1b09-4a8f-9108-1f74adf64d4d",
        "requestMsgId": "ea523260-8896-48e4-a62f-3530d268b209",
        "showInput": true
      },
      "outputs": [],
      "source": [
        "ax_client = AxClient()\n",
        "ax_client.create_experiment(\n",
        "    name=\"moo_experiment\",\n",
        "    parameters=[\n",
        "        {\n",
        "            \"name\": f\"x{i+1}\",\n",
        "            \"type\": \"range\",\n",
        "            \"bounds\": [0.0, 1.0],\n",
        "        }\n",
        "        for i in range(2)\n",
        "    ],\n",
        "    objectives={\n",
        "        # `threshold` arguments are optional\n",
        "        \"a\": ObjectiveProperties(minimize=False, threshold=branin_currin.ref_point[0]), \n",
        "        \"b\": ObjectiveProperties(minimize=False, threshold=branin_currin.ref_point[1])\n",
        "    },\n",
        "    overwrite_existing_experiment=True,\n",
        "    is_test=True,\n",
        ")"
      ]
    },
    {
      "cell_type": "markdown",
      "metadata": {
        "code_folding": [],
        "customInput": null,
        "hidden_ranges": [],
        "originalKey": "70fd45e1-a2ce-4034-bb44-086507833472",
        "showInput": true
      },
      "source": [
        "### Create an Evaluation Function\n",
        "In the case of MOO experiments, evaluation functions can be any arbitrary function that takes in a `dict` of parameter names mapped to values and returns a `dict` of objective names mapped to a `tuple` of mean and SEM values."
      ]
    },
    {
      "cell_type": "code",
      "execution_count": null,
      "metadata": {
        "code_folding": [],
        "customInput": null,
        "executionStartTime": 1628191201840,
        "executionStopTime": 1628191201871,
        "hidden_ranges": [],
        "originalKey": "a0e4fa8d-ebc7-4dc6-b370-ed4a83e3208f",
        "requestMsgId": "9cfd336d-c317-4d1c-a028-42d45903bac6",
        "showInput": true
      },
      "outputs": [],
      "source": [
        "def evaluate(parameters):\n",
        "    evaluation = branin_currin(torch.tensor([parameters.get(\"x1\"), parameters.get(\"x2\")]))\n",
        "    # In our case, standard error is 0, since we are computing a synthetic function.\n",
        "    # Set standard error to None if the noise level is unknown.\n",
        "    return {\"a\": (evaluation[0].item(), 0.0), \"b\": (evaluation[1].item(), 0.0)}"
      ]
    },
    {
      "cell_type": "markdown",
      "metadata": {
        "code_folding": [],
        "customInput": null,
        "hidden_ranges": [],
        "originalKey": "4200cd7c-8e13-4cbf-b0c1-72b52d900aaf",
        "showInput": true
      },
      "source": [
        "### Run Optimization"
      ]
    },
    {
      "cell_type": "code",
      "execution_count": null,
      "metadata": {
        "customInput": null,
        "executionStartTime": 1628191208271,
        "executionStopTime": 1628191238749,
        "originalKey": "f91b1a1e-c78a-4262-a211-a13115c007c1",
        "requestMsgId": "842a1cf8-97a3-43d6-83a3-f258ea96ae20",
        "showInput": true
      },
      "outputs": [],
      "source": [
        "for i in range(25):\n",
        "    parameters, trial_index = ax_client.get_next_trial()\n",
        "    # Local evaluation here can be replaced with deployment to external system.\n",
        "    ax_client.complete_trial(trial_index=trial_index, raw_data=evaluate(parameters))"
      ]
    },
    {
      "cell_type": "markdown",
      "metadata": {
        "code_folding": [],
        "customInput": null,
        "hidden_ranges": [],
        "originalKey": "e0a6feb4-8c38-42e4-9d7c-62b79307e043",
        "showInput": false
      },
      "source": [
        "### Plot Pareto Frontier"
      ]
    },
    {
      "cell_type": "code",
      "execution_count": 5,
      "metadata": {
        "code_folding": [],
        "customInput": null,
        "executionStartTime": 1628191262231,
        "executionStopTime": 1628191270720,
        "hidden_ranges": [],
        "originalKey": "c2c2b222-6b68-4f1a-839f-16b50019ada4",
        "requestMsgId": "563d345b-573c-4d93-a480-5db88a283250",
        "showInput": true
      },
      "outputs": [
        {
          "data": {
            "application/vnd.plotly.v1+json": {
              "config": {
                "linkText": "Export to plot.ly",
                "plotlyServerURL": "https://plot.ly",
                "showLink": false
              },
              "data": [
                {
                  "error_x": {
                    "array": [
                      0.017122441629591045,
                      0.017122441629591045,
                      0.017122441870038294,
                      0.018617074708574176,
                      0.017122441308994703,
                      0.013103625527874927,
                      0.01712244154944196,
                      0.017122441629591045,
                      0.01712244154944196,
                      0.01712244138914379,
                      0.04306772462805141,
                      0.017122441629591045,
                      0.017122441629591045,
                      0.017122441228845618,
                      0.0419583500796144,
                      0.01712244178988921,
                      0.017122442030336457,
                      0.012606577820481999,
                      0.017122442431081866,
                      0.012772782330653933
                    ],
                    "color": "rgba(128,177,211,0.4)",
                    "thickness": 2,
                    "type": "data"
                  },
                  "error_y": {
                    "array": [
                      0.0007144242442394853,
                      0.0007144242540259711,
                      0.0007144242377151613,
                      0.0007843244103961798,
                      0.0007144242409773233,
                      0.0005928154499613205,
                      0.0007144242377151613,
                      0.0007144242442394853,
                      0.0007144242442394853,
                      0.0007144242540259711,
                      0.001657964411977932,
                      0.0007144242442394853,
                      0.0007144242540259711,
                      0.0007144242409773233,
                      0.0016019635861255585,
                      0.0007144242475016472,
                      0.0007144242409773233,
                      0.0005767678036409868,
                      0.0007144242475016472,
                      0.0005739037818959585
                    ],
                    "color": "rgba(128,177,211,0.4)",
                    "thickness": 2,
                    "type": "data"
                  },
                  "hoverinfo": "text",
                  "legendgroup": "mean",
                  "marker": {
                    "color": "rgba(128,177,211,1)"
                  },
                  "mode": "markers",
                  "name": "mean",
                  "text": [
                    "<b>Parameterization 0</b><br>b: -1.18 [-1.181, -1.180]<br>a: -17.508 [-17.525, -17.491]<br><br><em>Parameterization:</em><br>x1: 0.0<br>x2: 0.9999999999999999",
                    "<b>Parameterization 1</b><br>b: -1.18 [-1.181, -1.180]<br>a: -17.508 [-17.525, -17.491]<br><br><em>Parameterization:</em><br>x1: 0.0<br>x2: 0.9999999999999997",
                    "<b>Parameterization 2</b><br>b: -1.18 [-1.181, -1.180]<br>a: -17.508 [-17.525, -17.491]<br><br><em>Parameterization:</em><br>x1: 5.825257410812315e-14<br>x2: 1.0",
                    "<b>Parameterization 3</b><br>b: -3.906 [-3.907, -3.905]<br>a: -3.223 [-3.242, -3.205]<br><br><em>Parameterization:</em><br>x1: 0.0721566698532253<br>x2: 0.9663627328742334",
                    "<b>Parameterization 4</b><br>b: -1.18 [-1.181, -1.180]<br>a: -17.508 [-17.525, -17.491]<br><br><em>Parameterization:</em><br>x1: 0.0<br>x2: 0.9999999999999638",
                    "<b>Parameterization 5</b><br>b: -2.036 [-2.037, -2.036]<br>a: -11.369 [-11.382, -11.355]<br><br><em>Parameterization:</em><br>x1: 0.021148247060467036<br>x2: 1.0",
                    "<b>Parameterization 6</b><br>b: -1.18 [-1.181, -1.180]<br>a: -17.508 [-17.525, -17.491]<br><br><em>Parameterization:</em><br>x1: 5.8612404511520884e-15<br>x2: 1.0",
                    "<b>Parameterization 7</b><br>b: -1.18 [-1.181, -1.180]<br>a: -17.508 [-17.525, -17.491]<br><br><em>Parameterization:</em><br>x1: 0.0<br>x2: 1.0",
                    "<b>Parameterization 8</b><br>b: -1.18 [-1.181, -1.180]<br>a: -17.508 [-17.525, -17.491]<br><br><em>Parameterization:</em><br>x1: 1.2067406460091965e-14<br>x2: 0.9999999999999674",
                    "<b>Parameterization 9</b><br>b: -1.18 [-1.181, -1.180]<br>a: -17.508 [-17.525, -17.491]<br><br><em>Parameterization:</em><br>x1: 0.0<br>x2: 0.9999999999999706",
                    "<b>Parameterization 10</b><br>b: -4.306 [-4.308, -4.304]<br>a: -2.208 [-2.251, -2.165]<br><br><em>Parameterization:</em><br>x1: 0.08317604126074225<br>x2: 0.9376934076178485",
                    "<b>Parameterization 11</b><br>b: -1.18 [-1.181, -1.180]<br>a: -17.508 [-17.525, -17.491]<br><br><em>Parameterization:</em><br>x1: 0.0<br>x2: 0.9999999999999999",
                    "<b>Parameterization 12</b><br>b: -1.18 [-1.181, -1.180]<br>a: -17.508 [-17.525, -17.491]<br><br><em>Parameterization:</em><br>x1: 0.0<br>x2: 0.9999999999987775",
                    "<b>Parameterization 13</b><br>b: -1.18 [-1.181, -1.180]<br>a: -17.508 [-17.525, -17.491]<br><br><em>Parameterization:</em><br>x1: 1.1020896552004361e-15<br>x2: 1.0",
                    "<b>Parameterization 14</b><br>b: -4.35 [-4.352, -4.348]<br>a: -2.107 [-2.149, -2.065]<br><br><em>Parameterization:</em><br>x1: 0.08440666892229966<br>x2: 0.9343666198266546",
                    "<b>Parameterization 15</b><br>b: -1.18 [-1.181, -1.180]<br>a: -17.508 [-17.525, -17.491]<br><br><em>Parameterization:</em><br>x1: 3.7510307313999675e-18<br>x2: 0.9999999999999998",
                    "<b>Parameterization 16</b><br>b: -1.18 [-1.181, -1.180]<br>a: -17.508 [-17.525, -17.491]<br><br><em>Parameterization:</em><br>x1: 2.870029831240643e-14<br>x2: 0.9999999999998105",
                    "<b>Parameterization 17</b><br>b: -3.226 [-3.227, -3.226]<br>a: -5.281 [-5.293, -5.268]<br><br><em>Parameterization:</em><br>x1: 0.05343972208487205<br>x2: 0.999997084563601",
                    "<b>Parameterization 18</b><br>b: -1.18 [-1.181, -1.180]<br>a: -17.508 [-17.525, -17.491]<br><br><em>Parameterization:</em><br>x1: 1.6967476602119793e-16<br>x2: 0.9999999999999997",
                    "<b>Parameterization 19</b><br>b: -3.259 [-3.260, -3.259]<br>a: -5.161 [-5.174, -5.148]<br><br><em>Parameterization:</em><br>x1: 0.054436751593985075<br>x2: 1.0"
                  ],
                  "type": "scatter",
                  "x": [
                    -17.508007738009507,
                    -17.50800773801719,
                    -17.50800773796481,
                    -3.22337839805504,
                    -17.508007737990294,
                    -11.368530415951003,
                    -17.508007737958987,
                    -17.508007738001822,
                    -17.508007737987622,
                    -17.508007737986453,
                    -2.208336777993395,
                    -17.508007738009507,
                    -17.50800773805177,
                    -17.508007737966942,
                    -2.1069546064755187,
                    -17.508007738005663,
                    -17.50800773797994,
                    -5.280751277740411,
                    -17.50800773799912,
                    -5.161173072824408
                  ],
                  "y": [
                    -1.1803464449840497,
                    -1.1803464449840497,
                    -1.1803464449882508,
                    -3.905776518341061,
                    -1.1803464449827832,
                    -2.0364190489178218,
                    -1.1803464449890604,
                    -1.1803464449840497,
                    -1.1803464449894445,
                    -1.1803464449865833,
                    -4.30593611851714,
                    -1.1803464449840497,
                    -1.1803464449840497,
                    -1.1803464449844632,
                    -4.349911925070853,
                    -1.1803464449853167,
                    -1.1803464449884777,
                    -3.2261989957837547,
                    -1.1803464449870682,
                    -3.2593481007709766
                  ]
                }
              ],
              "layout": {
                "height": 500,
                "hovermode": "closest",
                "legend": {
                  "orientation": "h"
                },
                "margin": {
                  "b": 75,
                  "l": 225,
                  "pad": 4,
                  "t": 75
                },
                "template": {
                  "data": {
                    "bar": [
                      {
                        "error_x": {
                          "color": "#2a3f5f"
                        },
                        "error_y": {
                          "color": "#2a3f5f"
                        },
                        "marker": {
                          "line": {
                            "color": "#E5ECF6",
                            "width": 0.5
                          }
                        },
                        "type": "bar"
                      }
                    ],
                    "barpolar": [
                      {
                        "marker": {
                          "line": {
                            "color": "#E5ECF6",
                            "width": 0.5
                          }
                        },
                        "type": "barpolar"
                      }
                    ],
                    "carpet": [
                      {
                        "aaxis": {
                          "endlinecolor": "#2a3f5f",
                          "gridcolor": "white",
                          "linecolor": "white",
                          "minorgridcolor": "white",
                          "startlinecolor": "#2a3f5f"
                        },
                        "baxis": {
                          "endlinecolor": "#2a3f5f",
                          "gridcolor": "white",
                          "linecolor": "white",
                          "minorgridcolor": "white",
                          "startlinecolor": "#2a3f5f"
                        },
                        "type": "carpet"
                      }
                    ],
                    "choropleth": [
                      {
                        "colorbar": {
                          "outlinewidth": 0,
                          "ticks": ""
                        },
                        "type": "choropleth"
                      }
                    ],
                    "contour": [
                      {
                        "colorbar": {
                          "outlinewidth": 0,
                          "ticks": ""
                        },
                        "colorscale": [
                          [
                            0,
                            "#0d0887"
                          ],
                          [
                            0.1111111111111111,
                            "#46039f"
                          ],
                          [
                            0.2222222222222222,
                            "#7201a8"
                          ],
                          [
                            0.3333333333333333,
                            "#9c179e"
                          ],
                          [
                            0.4444444444444444,
                            "#bd3786"
                          ],
                          [
                            0.5555555555555556,
                            "#d8576b"
                          ],
                          [
                            0.6666666666666666,
                            "#ed7953"
                          ],
                          [
                            0.7777777777777778,
                            "#fb9f3a"
                          ],
                          [
                            0.8888888888888888,
                            "#fdca26"
                          ],
                          [
                            1,
                            "#f0f921"
                          ]
                        ],
                        "type": "contour"
                      }
                    ],
                    "contourcarpet": [
                      {
                        "colorbar": {
                          "outlinewidth": 0,
                          "ticks": ""
                        },
                        "type": "contourcarpet"
                      }
                    ],
                    "heatmap": [
                      {
                        "colorbar": {
                          "outlinewidth": 0,
                          "ticks": ""
                        },
                        "colorscale": [
                          [
                            0,
                            "#0d0887"
                          ],
                          [
                            0.1111111111111111,
                            "#46039f"
                          ],
                          [
                            0.2222222222222222,
                            "#7201a8"
                          ],
                          [
                            0.3333333333333333,
                            "#9c179e"
                          ],
                          [
                            0.4444444444444444,
                            "#bd3786"
                          ],
                          [
                            0.5555555555555556,
                            "#d8576b"
                          ],
                          [
                            0.6666666666666666,
                            "#ed7953"
                          ],
                          [
                            0.7777777777777778,
                            "#fb9f3a"
                          ],
                          [
                            0.8888888888888888,
                            "#fdca26"
                          ],
                          [
                            1,
                            "#f0f921"
                          ]
                        ],
                        "type": "heatmap"
                      }
                    ],
                    "heatmapgl": [
                      {
                        "colorbar": {
                          "outlinewidth": 0,
                          "ticks": ""
                        },
                        "colorscale": [
                          [
                            0,
                            "#0d0887"
                          ],
                          [
                            0.1111111111111111,
                            "#46039f"
                          ],
                          [
                            0.2222222222222222,
                            "#7201a8"
                          ],
                          [
                            0.3333333333333333,
                            "#9c179e"
                          ],
                          [
                            0.4444444444444444,
                            "#bd3786"
                          ],
                          [
                            0.5555555555555556,
                            "#d8576b"
                          ],
                          [
                            0.6666666666666666,
                            "#ed7953"
                          ],
                          [
                            0.7777777777777778,
                            "#fb9f3a"
                          ],
                          [
                            0.8888888888888888,
                            "#fdca26"
                          ],
                          [
                            1,
                            "#f0f921"
                          ]
                        ],
                        "type": "heatmapgl"
                      }
                    ],
                    "histogram": [
                      {
                        "marker": {
                          "colorbar": {
                            "outlinewidth": 0,
                            "ticks": ""
                          }
                        },
                        "type": "histogram"
                      }
                    ],
                    "histogram2d": [
                      {
                        "colorbar": {
                          "outlinewidth": 0,
                          "ticks": ""
                        },
                        "colorscale": [
                          [
                            0,
                            "#0d0887"
                          ],
                          [
                            0.1111111111111111,
                            "#46039f"
                          ],
                          [
                            0.2222222222222222,
                            "#7201a8"
                          ],
                          [
                            0.3333333333333333,
                            "#9c179e"
                          ],
                          [
                            0.4444444444444444,
                            "#bd3786"
                          ],
                          [
                            0.5555555555555556,
                            "#d8576b"
                          ],
                          [
                            0.6666666666666666,
                            "#ed7953"
                          ],
                          [
                            0.7777777777777778,
                            "#fb9f3a"
                          ],
                          [
                            0.8888888888888888,
                            "#fdca26"
                          ],
                          [
                            1,
                            "#f0f921"
                          ]
                        ],
                        "type": "histogram2d"
                      }
                    ],
                    "histogram2dcontour": [
                      {
                        "colorbar": {
                          "outlinewidth": 0,
                          "ticks": ""
                        },
                        "colorscale": [
                          [
                            0,
                            "#0d0887"
                          ],
                          [
                            0.1111111111111111,
                            "#46039f"
                          ],
                          [
                            0.2222222222222222,
                            "#7201a8"
                          ],
                          [
                            0.3333333333333333,
                            "#9c179e"
                          ],
                          [
                            0.4444444444444444,
                            "#bd3786"
                          ],
                          [
                            0.5555555555555556,
                            "#d8576b"
                          ],
                          [
                            0.6666666666666666,
                            "#ed7953"
                          ],
                          [
                            0.7777777777777778,
                            "#fb9f3a"
                          ],
                          [
                            0.8888888888888888,
                            "#fdca26"
                          ],
                          [
                            1,
                            "#f0f921"
                          ]
                        ],
                        "type": "histogram2dcontour"
                      }
                    ],
                    "mesh3d": [
                      {
                        "colorbar": {
                          "outlinewidth": 0,
                          "ticks": ""
                        },
                        "type": "mesh3d"
                      }
                    ],
                    "parcoords": [
                      {
                        "line": {
                          "colorbar": {
                            "outlinewidth": 0,
                            "ticks": ""
                          }
                        },
                        "type": "parcoords"
                      }
                    ],
                    "pie": [
                      {
                        "automargin": true,
                        "type": "pie"
                      }
                    ],
                    "scatter": [
                      {
                        "marker": {
                          "colorbar": {
                            "outlinewidth": 0,
                            "ticks": ""
                          }
                        },
                        "type": "scatter"
                      }
                    ],
                    "scatter3d": [
                      {
                        "line": {
                          "colorbar": {
                            "outlinewidth": 0,
                            "ticks": ""
                          }
                        },
                        "marker": {
                          "colorbar": {
                            "outlinewidth": 0,
                            "ticks": ""
                          }
                        },
                        "type": "scatter3d"
                      }
                    ],
                    "scattercarpet": [
                      {
                        "marker": {
                          "colorbar": {
                            "outlinewidth": 0,
                            "ticks": ""
                          }
                        },
                        "type": "scattercarpet"
                      }
                    ],
                    "scattergeo": [
                      {
                        "marker": {
                          "colorbar": {
                            "outlinewidth": 0,
                            "ticks": ""
                          }
                        },
                        "type": "scattergeo"
                      }
                    ],
                    "scattergl": [
                      {
                        "marker": {
                          "colorbar": {
                            "outlinewidth": 0,
                            "ticks": ""
                          }
                        },
                        "type": "scattergl"
                      }
                    ],
                    "scattermapbox": [
                      {
                        "marker": {
                          "colorbar": {
                            "outlinewidth": 0,
                            "ticks": ""
                          }
                        },
                        "type": "scattermapbox"
                      }
                    ],
                    "scatterpolar": [
                      {
                        "marker": {
                          "colorbar": {
                            "outlinewidth": 0,
                            "ticks": ""
                          }
                        },
                        "type": "scatterpolar"
                      }
                    ],
                    "scatterpolargl": [
                      {
                        "marker": {
                          "colorbar": {
                            "outlinewidth": 0,
                            "ticks": ""
                          }
                        },
                        "type": "scatterpolargl"
                      }
                    ],
                    "scatterternary": [
                      {
                        "marker": {
                          "colorbar": {
                            "outlinewidth": 0,
                            "ticks": ""
                          }
                        },
                        "type": "scatterternary"
                      }
                    ],
                    "surface": [
                      {
                        "colorbar": {
                          "outlinewidth": 0,
                          "ticks": ""
                        },
                        "colorscale": [
                          [
                            0,
                            "#0d0887"
                          ],
                          [
                            0.1111111111111111,
                            "#46039f"
                          ],
                          [
                            0.2222222222222222,
                            "#7201a8"
                          ],
                          [
                            0.3333333333333333,
                            "#9c179e"
                          ],
                          [
                            0.4444444444444444,
                            "#bd3786"
                          ],
                          [
                            0.5555555555555556,
                            "#d8576b"
                          ],
                          [
                            0.6666666666666666,
                            "#ed7953"
                          ],
                          [
                            0.7777777777777778,
                            "#fb9f3a"
                          ],
                          [
                            0.8888888888888888,
                            "#fdca26"
                          ],
                          [
                            1,
                            "#f0f921"
                          ]
                        ],
                        "type": "surface"
                      }
                    ],
                    "table": [
                      {
                        "cells": {
                          "fill": {
                            "color": "#EBF0F8"
                          },
                          "line": {
                            "color": "white"
                          }
                        },
                        "header": {
                          "fill": {
                            "color": "#C8D4E3"
                          },
                          "line": {
                            "color": "white"
                          }
                        },
                        "type": "table"
                      }
                    ]
                  },
                  "layout": {
                    "annotationdefaults": {
                      "arrowcolor": "#2a3f5f",
                      "arrowhead": 0,
                      "arrowwidth": 1
                    },
                    "autotypenumbers": "strict",
                    "coloraxis": {
                      "colorbar": {
                        "outlinewidth": 0,
                        "ticks": ""
                      }
                    },
                    "colorscale": {
                      "diverging": [
                        [
                          0,
                          "#8e0152"
                        ],
                        [
                          0.1,
                          "#c51b7d"
                        ],
                        [
                          0.2,
                          "#de77ae"
                        ],
                        [
                          0.3,
                          "#f1b6da"
                        ],
                        [
                          0.4,
                          "#fde0ef"
                        ],
                        [
                          0.5,
                          "#f7f7f7"
                        ],
                        [
                          0.6,
                          "#e6f5d0"
                        ],
                        [
                          0.7,
                          "#b8e186"
                        ],
                        [
                          0.8,
                          "#7fbc41"
                        ],
                        [
                          0.9,
                          "#4d9221"
                        ],
                        [
                          1,
                          "#276419"
                        ]
                      ],
                      "sequential": [
                        [
                          0,
                          "#0d0887"
                        ],
                        [
                          0.1111111111111111,
                          "#46039f"
                        ],
                        [
                          0.2222222222222222,
                          "#7201a8"
                        ],
                        [
                          0.3333333333333333,
                          "#9c179e"
                        ],
                        [
                          0.4444444444444444,
                          "#bd3786"
                        ],
                        [
                          0.5555555555555556,
                          "#d8576b"
                        ],
                        [
                          0.6666666666666666,
                          "#ed7953"
                        ],
                        [
                          0.7777777777777778,
                          "#fb9f3a"
                        ],
                        [
                          0.8888888888888888,
                          "#fdca26"
                        ],
                        [
                          1,
                          "#f0f921"
                        ]
                      ],
                      "sequentialminus": [
                        [
                          0,
                          "#0d0887"
                        ],
                        [
                          0.1111111111111111,
                          "#46039f"
                        ],
                        [
                          0.2222222222222222,
                          "#7201a8"
                        ],
                        [
                          0.3333333333333333,
                          "#9c179e"
                        ],
                        [
                          0.4444444444444444,
                          "#bd3786"
                        ],
                        [
                          0.5555555555555556,
                          "#d8576b"
                        ],
                        [
                          0.6666666666666666,
                          "#ed7953"
                        ],
                        [
                          0.7777777777777778,
                          "#fb9f3a"
                        ],
                        [
                          0.8888888888888888,
                          "#fdca26"
                        ],
                        [
                          1,
                          "#f0f921"
                        ]
                      ]
                    },
                    "colorway": [
                      "#636efa",
                      "#EF553B",
                      "#00cc96",
                      "#ab63fa",
                      "#FFA15A",
                      "#19d3f3",
                      "#FF6692",
                      "#B6E880",
                      "#FF97FF",
                      "#FECB52"
                    ],
                    "font": {
                      "color": "#2a3f5f"
                    },
                    "geo": {
                      "bgcolor": "white",
                      "lakecolor": "white",
                      "landcolor": "#E5ECF6",
                      "showlakes": true,
                      "showland": true,
                      "subunitcolor": "white"
                    },
                    "hoverlabel": {
                      "align": "left"
                    },
                    "hovermode": "closest",
                    "mapbox": {
                      "style": "light"
                    },
                    "paper_bgcolor": "white",
                    "plot_bgcolor": "#E5ECF6",
                    "polar": {
                      "angularaxis": {
                        "gridcolor": "white",
                        "linecolor": "white",
                        "ticks": ""
                      },
                      "bgcolor": "#E5ECF6",
                      "radialaxis": {
                        "gridcolor": "white",
                        "linecolor": "white",
                        "ticks": ""
                      }
                    },
                    "scene": {
                      "xaxis": {
                        "backgroundcolor": "#E5ECF6",
                        "gridcolor": "white",
                        "gridwidth": 2,
                        "linecolor": "white",
                        "showbackground": true,
                        "ticks": "",
                        "zerolinecolor": "white"
                      },
                      "yaxis": {
                        "backgroundcolor": "#E5ECF6",
                        "gridcolor": "white",
                        "gridwidth": 2,
                        "linecolor": "white",
                        "showbackground": true,
                        "ticks": "",
                        "zerolinecolor": "white"
                      },
                      "zaxis": {
                        "backgroundcolor": "#E5ECF6",
                        "gridcolor": "white",
                        "gridwidth": 2,
                        "linecolor": "white",
                        "showbackground": true,
                        "ticks": "",
                        "zerolinecolor": "white"
                      }
                    },
                    "shapedefaults": {
                      "line": {
                        "color": "#2a3f5f"
                      }
                    },
                    "ternary": {
                      "aaxis": {
                        "gridcolor": "white",
                        "linecolor": "white",
                        "ticks": ""
                      },
                      "baxis": {
                        "gridcolor": "white",
                        "linecolor": "white",
                        "ticks": ""
                      },
                      "bgcolor": "#E5ECF6",
                      "caxis": {
                        "gridcolor": "white",
                        "linecolor": "white",
                        "ticks": ""
                      }
                    },
                    "title": {
                      "x": 0.05
                    },
                    "xaxis": {
                      "automargin": true,
                      "gridcolor": "white",
                      "linecolor": "white",
                      "ticks": "",
                      "title": {
                        "standoff": 15
                      },
                      "zerolinecolor": "white",
                      "zerolinewidth": 2
                    },
                    "yaxis": {
                      "automargin": true,
                      "gridcolor": "white",
                      "linecolor": "white",
                      "ticks": "",
                      "title": {
                        "standoff": 15
                      },
                      "zerolinecolor": "white",
                      "zerolinewidth": 2
                    }
                  }
                },
                "title": {
                  "text": "Pareto Frontier"
                },
                "width": 750,
                "xaxis": {
                  "ticksuffix": "",
                  "title": {
                    "text": "a"
                  },
                  "zeroline": true
                },
                "yaxis": {
                  "ticksuffix": "",
                  "title": {
                    "text": "b"
                  },
                  "zeroline": true
                }
              }
            },
            "text/html": [
              "<div>                            <div id=\"927e8290-0188-40f5-aa7a-419cd5100fbc\" class=\"plotly-graph-div\" style=\"height:500px; width:750px;\"></div>            <script type=\"text/javascript\">                require([\"plotly\"], function(Plotly) {                    window.PLOTLYENV=window.PLOTLYENV || {};                                    if (document.getElementById(\"927e8290-0188-40f5-aa7a-419cd5100fbc\")) {                    Plotly.newPlot(                        \"927e8290-0188-40f5-aa7a-419cd5100fbc\",                        [{\"error_x\": {\"array\": [0.017122441629591045, 0.017122441629591045, 0.017122441870038294, 0.018617074708574176, 0.017122441308994703, 0.013103625527874927, 0.01712244154944196, 0.017122441629591045, 0.01712244154944196, 0.01712244138914379, 0.04306772462805141, 0.017122441629591045, 0.017122441629591045, 0.017122441228845618, 0.0419583500796144, 0.01712244178988921, 0.017122442030336457, 0.012606577820481999, 0.017122442431081866, 0.012772782330653933], \"color\": \"rgba(128,177,211,0.4)\", \"thickness\": 2, \"type\": \"data\"}, \"error_y\": {\"array\": [0.0007144242442394853, 0.0007144242540259711, 0.0007144242377151613, 0.0007843244103961798, 0.0007144242409773233, 0.0005928154499613205, 0.0007144242377151613, 0.0007144242442394853, 0.0007144242442394853, 0.0007144242540259711, 0.001657964411977932, 0.0007144242442394853, 0.0007144242540259711, 0.0007144242409773233, 0.0016019635861255585, 0.0007144242475016472, 0.0007144242409773233, 0.0005767678036409868, 0.0007144242475016472, 0.0005739037818959585], \"color\": \"rgba(128,177,211,0.4)\", \"thickness\": 2, \"type\": \"data\"}, \"hoverinfo\": \"text\", \"legendgroup\": \"mean\", \"marker\": {\"color\": \"rgba(128,177,211,1)\"}, \"mode\": \"markers\", \"name\": \"mean\", \"text\": [\"<b>Parameterization 0</b><br>b: -1.18 [-1.181, -1.180]<br>a: -17.508 [-17.525, -17.491]<br><br><em>Parameterization:</em><br>x1: 0.0<br>x2: 0.9999999999999999\", \"<b>Parameterization 1</b><br>b: -1.18 [-1.181, -1.180]<br>a: -17.508 [-17.525, -17.491]<br><br><em>Parameterization:</em><br>x1: 0.0<br>x2: 0.9999999999999997\", \"<b>Parameterization 2</b><br>b: -1.18 [-1.181, -1.180]<br>a: -17.508 [-17.525, -17.491]<br><br><em>Parameterization:</em><br>x1: 5.825257410812315e-14<br>x2: 1.0\", \"<b>Parameterization 3</b><br>b: -3.906 [-3.907, -3.905]<br>a: -3.223 [-3.242, -3.205]<br><br><em>Parameterization:</em><br>x1: 0.0721566698532253<br>x2: 0.9663627328742334\", \"<b>Parameterization 4</b><br>b: -1.18 [-1.181, -1.180]<br>a: -17.508 [-17.525, -17.491]<br><br><em>Parameterization:</em><br>x1: 0.0<br>x2: 0.9999999999999638\", \"<b>Parameterization 5</b><br>b: -2.036 [-2.037, -2.036]<br>a: -11.369 [-11.382, -11.355]<br><br><em>Parameterization:</em><br>x1: 0.021148247060467036<br>x2: 1.0\", \"<b>Parameterization 6</b><br>b: -1.18 [-1.181, -1.180]<br>a: -17.508 [-17.525, -17.491]<br><br><em>Parameterization:</em><br>x1: 5.8612404511520884e-15<br>x2: 1.0\", \"<b>Parameterization 7</b><br>b: -1.18 [-1.181, -1.180]<br>a: -17.508 [-17.525, -17.491]<br><br><em>Parameterization:</em><br>x1: 0.0<br>x2: 1.0\", \"<b>Parameterization 8</b><br>b: -1.18 [-1.181, -1.180]<br>a: -17.508 [-17.525, -17.491]<br><br><em>Parameterization:</em><br>x1: 1.2067406460091965e-14<br>x2: 0.9999999999999674\", \"<b>Parameterization 9</b><br>b: -1.18 [-1.181, -1.180]<br>a: -17.508 [-17.525, -17.491]<br><br><em>Parameterization:</em><br>x1: 0.0<br>x2: 0.9999999999999706\", \"<b>Parameterization 10</b><br>b: -4.306 [-4.308, -4.304]<br>a: -2.208 [-2.251, -2.165]<br><br><em>Parameterization:</em><br>x1: 0.08317604126074225<br>x2: 0.9376934076178485\", \"<b>Parameterization 11</b><br>b: -1.18 [-1.181, -1.180]<br>a: -17.508 [-17.525, -17.491]<br><br><em>Parameterization:</em><br>x1: 0.0<br>x2: 0.9999999999999999\", \"<b>Parameterization 12</b><br>b: -1.18 [-1.181, -1.180]<br>a: -17.508 [-17.525, -17.491]<br><br><em>Parameterization:</em><br>x1: 0.0<br>x2: 0.9999999999987775\", \"<b>Parameterization 13</b><br>b: -1.18 [-1.181, -1.180]<br>a: -17.508 [-17.525, -17.491]<br><br><em>Parameterization:</em><br>x1: 1.1020896552004361e-15<br>x2: 1.0\", \"<b>Parameterization 14</b><br>b: -4.35 [-4.352, -4.348]<br>a: -2.107 [-2.149, -2.065]<br><br><em>Parameterization:</em><br>x1: 0.08440666892229966<br>x2: 0.9343666198266546\", \"<b>Parameterization 15</b><br>b: -1.18 [-1.181, -1.180]<br>a: -17.508 [-17.525, -17.491]<br><br><em>Parameterization:</em><br>x1: 3.7510307313999675e-18<br>x2: 0.9999999999999998\", \"<b>Parameterization 16</b><br>b: -1.18 [-1.181, -1.180]<br>a: -17.508 [-17.525, -17.491]<br><br><em>Parameterization:</em><br>x1: 2.870029831240643e-14<br>x2: 0.9999999999998105\", \"<b>Parameterization 17</b><br>b: -3.226 [-3.227, -3.226]<br>a: -5.281 [-5.293, -5.268]<br><br><em>Parameterization:</em><br>x1: 0.05343972208487205<br>x2: 0.999997084563601\", \"<b>Parameterization 18</b><br>b: -1.18 [-1.181, -1.180]<br>a: -17.508 [-17.525, -17.491]<br><br><em>Parameterization:</em><br>x1: 1.6967476602119793e-16<br>x2: 0.9999999999999997\", \"<b>Parameterization 19</b><br>b: -3.259 [-3.260, -3.259]<br>a: -5.161 [-5.174, -5.148]<br><br><em>Parameterization:</em><br>x1: 0.054436751593985075<br>x2: 1.0\"], \"type\": \"scatter\", \"x\": [-17.508007738009507, -17.50800773801719, -17.50800773796481, -3.22337839805504, -17.508007737990294, -11.368530415951003, -17.508007737958987, -17.508007738001822, -17.508007737987622, -17.508007737986453, -2.208336777993395, -17.508007738009507, -17.50800773805177, -17.508007737966942, -2.1069546064755187, -17.508007738005663, -17.50800773797994, -5.280751277740411, -17.50800773799912, -5.161173072824408], \"y\": [-1.1803464449840497, -1.1803464449840497, -1.1803464449882508, -3.905776518341061, -1.1803464449827832, -2.0364190489178218, -1.1803464449890604, -1.1803464449840497, -1.1803464449894445, -1.1803464449865833, -4.30593611851714, -1.1803464449840497, -1.1803464449840497, -1.1803464449844632, -4.349911925070853, -1.1803464449853167, -1.1803464449884777, -3.2261989957837547, -1.1803464449870682, -3.2593481007709766]}],                        {\"height\": 500, \"hovermode\": \"closest\", \"legend\": {\"orientation\": \"h\"}, \"margin\": {\"b\": 75, \"l\": 225, \"pad\": 4, \"t\": 75}, \"template\": {\"data\": {\"bar\": [{\"error_x\": {\"color\": \"#2a3f5f\"}, \"error_y\": {\"color\": \"#2a3f5f\"}, \"marker\": {\"line\": {\"color\": \"#E5ECF6\", \"width\": 0.5}}, \"type\": \"bar\"}], \"barpolar\": [{\"marker\": {\"line\": {\"color\": \"#E5ECF6\", \"width\": 0.5}}, \"type\": \"barpolar\"}], \"carpet\": [{\"aaxis\": {\"endlinecolor\": \"#2a3f5f\", \"gridcolor\": \"white\", \"linecolor\": \"white\", \"minorgridcolor\": \"white\", \"startlinecolor\": \"#2a3f5f\"}, \"baxis\": {\"endlinecolor\": \"#2a3f5f\", \"gridcolor\": \"white\", \"linecolor\": \"white\", \"minorgridcolor\": \"white\", \"startlinecolor\": \"#2a3f5f\"}, \"type\": \"carpet\"}], \"choropleth\": [{\"colorbar\": {\"outlinewidth\": 0, \"ticks\": \"\"}, \"type\": \"choropleth\"}], \"contour\": [{\"colorbar\": {\"outlinewidth\": 0, \"ticks\": \"\"}, \"colorscale\": [[0.0, \"#0d0887\"], [0.1111111111111111, \"#46039f\"], [0.2222222222222222, \"#7201a8\"], [0.3333333333333333, \"#9c179e\"], [0.4444444444444444, \"#bd3786\"], [0.5555555555555556, \"#d8576b\"], [0.6666666666666666, \"#ed7953\"], [0.7777777777777778, \"#fb9f3a\"], [0.8888888888888888, \"#fdca26\"], [1.0, \"#f0f921\"]], \"type\": \"contour\"}], \"contourcarpet\": [{\"colorbar\": {\"outlinewidth\": 0, \"ticks\": \"\"}, \"type\": \"contourcarpet\"}], \"heatmap\": [{\"colorbar\": {\"outlinewidth\": 0, \"ticks\": \"\"}, \"colorscale\": [[0.0, \"#0d0887\"], [0.1111111111111111, \"#46039f\"], [0.2222222222222222, \"#7201a8\"], [0.3333333333333333, \"#9c179e\"], [0.4444444444444444, \"#bd3786\"], [0.5555555555555556, \"#d8576b\"], [0.6666666666666666, \"#ed7953\"], [0.7777777777777778, \"#fb9f3a\"], [0.8888888888888888, \"#fdca26\"], [1.0, \"#f0f921\"]], \"type\": \"heatmap\"}], \"heatmapgl\": [{\"colorbar\": {\"outlinewidth\": 0, \"ticks\": \"\"}, \"colorscale\": [[0.0, \"#0d0887\"], [0.1111111111111111, \"#46039f\"], [0.2222222222222222, \"#7201a8\"], [0.3333333333333333, \"#9c179e\"], [0.4444444444444444, \"#bd3786\"], [0.5555555555555556, \"#d8576b\"], [0.6666666666666666, \"#ed7953\"], [0.7777777777777778, \"#fb9f3a\"], [0.8888888888888888, \"#fdca26\"], [1.0, \"#f0f921\"]], \"type\": \"heatmapgl\"}], \"histogram\": [{\"marker\": {\"colorbar\": {\"outlinewidth\": 0, \"ticks\": \"\"}}, \"type\": \"histogram\"}], \"histogram2d\": [{\"colorbar\": {\"outlinewidth\": 0, \"ticks\": \"\"}, \"colorscale\": [[0.0, \"#0d0887\"], [0.1111111111111111, \"#46039f\"], [0.2222222222222222, \"#7201a8\"], [0.3333333333333333, \"#9c179e\"], [0.4444444444444444, \"#bd3786\"], [0.5555555555555556, \"#d8576b\"], [0.6666666666666666, \"#ed7953\"], [0.7777777777777778, \"#fb9f3a\"], [0.8888888888888888, \"#fdca26\"], [1.0, \"#f0f921\"]], \"type\": \"histogram2d\"}], \"histogram2dcontour\": [{\"colorbar\": {\"outlinewidth\": 0, \"ticks\": \"\"}, \"colorscale\": [[0.0, \"#0d0887\"], [0.1111111111111111, \"#46039f\"], [0.2222222222222222, \"#7201a8\"], [0.3333333333333333, \"#9c179e\"], [0.4444444444444444, \"#bd3786\"], [0.5555555555555556, \"#d8576b\"], [0.6666666666666666, \"#ed7953\"], [0.7777777777777778, \"#fb9f3a\"], [0.8888888888888888, \"#fdca26\"], [1.0, \"#f0f921\"]], \"type\": \"histogram2dcontour\"}], \"mesh3d\": [{\"colorbar\": {\"outlinewidth\": 0, \"ticks\": \"\"}, \"type\": \"mesh3d\"}], \"parcoords\": [{\"line\": {\"colorbar\": {\"outlinewidth\": 0, \"ticks\": \"\"}}, \"type\": \"parcoords\"}], \"pie\": [{\"automargin\": true, \"type\": \"pie\"}], \"scatter\": [{\"marker\": {\"colorbar\": {\"outlinewidth\": 0, \"ticks\": \"\"}}, \"type\": \"scatter\"}], \"scatter3d\": [{\"line\": {\"colorbar\": {\"outlinewidth\": 0, \"ticks\": \"\"}}, \"marker\": {\"colorbar\": {\"outlinewidth\": 0, \"ticks\": \"\"}}, \"type\": \"scatter3d\"}], \"scattercarpet\": [{\"marker\": {\"colorbar\": {\"outlinewidth\": 0, \"ticks\": \"\"}}, \"type\": \"scattercarpet\"}], \"scattergeo\": [{\"marker\": {\"colorbar\": {\"outlinewidth\": 0, \"ticks\": \"\"}}, \"type\": \"scattergeo\"}], \"scattergl\": [{\"marker\": {\"colorbar\": {\"outlinewidth\": 0, \"ticks\": \"\"}}, \"type\": \"scattergl\"}], \"scattermapbox\": [{\"marker\": {\"colorbar\": {\"outlinewidth\": 0, \"ticks\": \"\"}}, \"type\": \"scattermapbox\"}], \"scatterpolar\": [{\"marker\": {\"colorbar\": {\"outlinewidth\": 0, \"ticks\": \"\"}}, \"type\": \"scatterpolar\"}], \"scatterpolargl\": [{\"marker\": {\"colorbar\": {\"outlinewidth\": 0, \"ticks\": \"\"}}, \"type\": \"scatterpolargl\"}], \"scatterternary\": [{\"marker\": {\"colorbar\": {\"outlinewidth\": 0, \"ticks\": \"\"}}, \"type\": \"scatterternary\"}], \"surface\": [{\"colorbar\": {\"outlinewidth\": 0, \"ticks\": \"\"}, \"colorscale\": [[0.0, \"#0d0887\"], [0.1111111111111111, \"#46039f\"], [0.2222222222222222, \"#7201a8\"], [0.3333333333333333, \"#9c179e\"], [0.4444444444444444, \"#bd3786\"], [0.5555555555555556, \"#d8576b\"], [0.6666666666666666, \"#ed7953\"], [0.7777777777777778, \"#fb9f3a\"], [0.8888888888888888, \"#fdca26\"], [1.0, \"#f0f921\"]], \"type\": \"surface\"}], \"table\": [{\"cells\": {\"fill\": {\"color\": \"#EBF0F8\"}, \"line\": {\"color\": \"white\"}}, \"header\": {\"fill\": {\"color\": \"#C8D4E3\"}, \"line\": {\"color\": \"white\"}}, \"type\": \"table\"}]}, \"layout\": {\"annotationdefaults\": {\"arrowcolor\": \"#2a3f5f\", \"arrowhead\": 0, \"arrowwidth\": 1}, \"autotypenumbers\": \"strict\", \"coloraxis\": {\"colorbar\": {\"outlinewidth\": 0, \"ticks\": \"\"}}, \"colorscale\": {\"diverging\": [[0, \"#8e0152\"], [0.1, \"#c51b7d\"], [0.2, \"#de77ae\"], [0.3, \"#f1b6da\"], [0.4, \"#fde0ef\"], [0.5, \"#f7f7f7\"], [0.6, \"#e6f5d0\"], [0.7, \"#b8e186\"], [0.8, \"#7fbc41\"], [0.9, \"#4d9221\"], [1, \"#276419\"]], \"sequential\": [[0.0, \"#0d0887\"], [0.1111111111111111, \"#46039f\"], [0.2222222222222222, \"#7201a8\"], [0.3333333333333333, \"#9c179e\"], [0.4444444444444444, \"#bd3786\"], [0.5555555555555556, \"#d8576b\"], [0.6666666666666666, \"#ed7953\"], [0.7777777777777778, \"#fb9f3a\"], [0.8888888888888888, \"#fdca26\"], [1.0, \"#f0f921\"]], \"sequentialminus\": [[0.0, \"#0d0887\"], [0.1111111111111111, \"#46039f\"], [0.2222222222222222, \"#7201a8\"], [0.3333333333333333, \"#9c179e\"], [0.4444444444444444, \"#bd3786\"], [0.5555555555555556, \"#d8576b\"], [0.6666666666666666, \"#ed7953\"], [0.7777777777777778, \"#fb9f3a\"], [0.8888888888888888, \"#fdca26\"], [1.0, \"#f0f921\"]]}, \"colorway\": [\"#636efa\", \"#EF553B\", \"#00cc96\", \"#ab63fa\", \"#FFA15A\", \"#19d3f3\", \"#FF6692\", \"#B6E880\", \"#FF97FF\", \"#FECB52\"], \"font\": {\"color\": \"#2a3f5f\"}, \"geo\": {\"bgcolor\": \"white\", \"lakecolor\": \"white\", \"landcolor\": \"#E5ECF6\", \"showlakes\": true, \"showland\": true, \"subunitcolor\": \"white\"}, \"hoverlabel\": {\"align\": \"left\"}, \"hovermode\": \"closest\", \"mapbox\": {\"style\": \"light\"}, \"paper_bgcolor\": \"white\", \"plot_bgcolor\": \"#E5ECF6\", \"polar\": {\"angularaxis\": {\"gridcolor\": \"white\", \"linecolor\": \"white\", \"ticks\": \"\"}, \"bgcolor\": \"#E5ECF6\", \"radialaxis\": {\"gridcolor\": \"white\", \"linecolor\": \"white\", \"ticks\": \"\"}}, \"scene\": {\"xaxis\": {\"backgroundcolor\": \"#E5ECF6\", \"gridcolor\": \"white\", \"gridwidth\": 2, \"linecolor\": \"white\", \"showbackground\": true, \"ticks\": \"\", \"zerolinecolor\": \"white\"}, \"yaxis\": {\"backgroundcolor\": \"#E5ECF6\", \"gridcolor\": \"white\", \"gridwidth\": 2, \"linecolor\": \"white\", \"showbackground\": true, \"ticks\": \"\", \"zerolinecolor\": \"white\"}, \"zaxis\": {\"backgroundcolor\": \"#E5ECF6\", \"gridcolor\": \"white\", \"gridwidth\": 2, \"linecolor\": \"white\", \"showbackground\": true, \"ticks\": \"\", \"zerolinecolor\": \"white\"}}, \"shapedefaults\": {\"line\": {\"color\": \"#2a3f5f\"}}, \"ternary\": {\"aaxis\": {\"gridcolor\": \"white\", \"linecolor\": \"white\", \"ticks\": \"\"}, \"baxis\": {\"gridcolor\": \"white\", \"linecolor\": \"white\", \"ticks\": \"\"}, \"bgcolor\": \"#E5ECF6\", \"caxis\": {\"gridcolor\": \"white\", \"linecolor\": \"white\", \"ticks\": \"\"}}, \"title\": {\"x\": 0.05}, \"xaxis\": {\"automargin\": true, \"gridcolor\": \"white\", \"linecolor\": \"white\", \"ticks\": \"\", \"title\": {\"standoff\": 15}, \"zerolinecolor\": \"white\", \"zerolinewidth\": 2}, \"yaxis\": {\"automargin\": true, \"gridcolor\": \"white\", \"linecolor\": \"white\", \"ticks\": \"\", \"title\": {\"standoff\": 15}, \"zerolinecolor\": \"white\", \"zerolinewidth\": 2}}}, \"title\": {\"text\": \"Pareto Frontier\"}, \"width\": 750, \"xaxis\": {\"ticksuffix\": \"\", \"title\": {\"text\": \"a\"}, \"zeroline\": true}, \"yaxis\": {\"ticksuffix\": \"\", \"title\": {\"text\": \"b\"}, \"zeroline\": true}},                        {\"responsive\": true}                    ).then(function(){\n",
              "                            \n",
              "var gd = document.getElementById('927e8290-0188-40f5-aa7a-419cd5100fbc');\n",
              "var x = new MutationObserver(function (mutations, observer) {{\n",
              "        var display = window.getComputedStyle(gd).display;\n",
              "        if (!display || display === 'none') {{\n",
              "            console.log([gd, 'removed!']);\n",
              "            Plotly.purge(gd);\n",
              "            observer.disconnect();\n",
              "        }}\n",
              "}});\n",
              "\n",
              "// Listen for the removal of the full notebook cells\n",
              "var notebookContainer = gd.closest('#notebook-container');\n",
              "if (notebookContainer) {{\n",
              "    x.observe(notebookContainer, {childList: true});\n",
              "}}\n",
              "\n",
              "// Listen for the clearing of the current output cell\n",
              "var outputEl = gd.closest('.output');\n",
              "if (outputEl) {{\n",
              "    x.observe(outputEl, {childList: true});\n",
              "}}\n",
              "\n",
              "                        })                };                });            </script>        </div>"
            ]
          },
          "metadata": {},
          "output_type": "display_data"
        }
      ],
      "source": [
        "objectives = ax_client.experiment.optimization_config.objective.objectives\n",
        "frontier = compute_posterior_pareto_frontier(\n",
        "    experiment=ax_client.experiment,\n",
        "    data=ax_client.experiment.fetch_data(),\n",
        "    primary_objective=objectives[1].metric,\n",
        "    secondary_objective=objectives[0].metric,\n",
        "    absolute_metrics=[\"a\", \"b\"],\n",
        "    num_points=20,\n",
        ")\n",
        "render(plot_pareto_frontier(frontier, CI_level=0.90)) "
      ]
    },
    {
      "cell_type": "markdown",
      "metadata": {
        "code_folding": [],
        "hidden_ranges": [],
        "originalKey": "f4f6ce29-4a0c-4ac5-84a7-f83a4de9112c",
        "showInput": true
      },
      "source": [
        "# Deep Dive\n",
        "\n",
        "In the rest of this tutorial, we will show two algorithms available in Ax for multi-objective optimization\n",
        "and visualize how they compare to eachother and to quasirandom search.\n",
        "\n",
        "MOO covers the case where we care about multiple\n",
        "outcomes in our experiment but we do not know before hand a specific weighting of those\n",
        "objectives (covered by `ScalarizedObjective`) or a specific constraint on one objective \n",
        "(covered by `OutcomeConstraint`s) that will produce the best result.\n",
        "\n",
        "The solution in this case is to find a whole Pareto frontier, a surface in outcome-space\n",
        "containing points that can't be improved on in every outcome. This shows us the\n",
        "tradeoffs between objectives that we can choose to make."
      ]
    },
    {
      "cell_type": "markdown",
      "metadata": {
        "originalKey": "e04a24fa-dcfc-4430-960f-9c0e772fd754",
        "showInput": true
      },
      "source": [
        "### Problem Statement\n",
        "\n",
        "Optimize a list of M objective functions $ \\bigl(f^{(1)}( x),..., f^{(M)}( x) \\bigr)$ over a bounded search space $\\mathcal X \\subset \\mathbb R^d$.\n",
        "\n",
        "We assume $f^{(i)}$ are expensive-to-evaluate black-box functions with no known analytical expression, and no observed gradients. For instance, a machine learning model where we're interested in maximizing accuracy and minimizing inference time, with $\\mathcal X$ the set of possible configuration spaces"
      ]
    },
    {
      "attachments": {
        "pareto_front%20%281%29.png": {
          "image/png": "[encoded data removed]"
        }
      },
      "cell_type": "markdown",
      "metadata": {
        "code_folding": [],
        "hidden_ranges": [],
        "originalKey": "1842c5bf-4113-406b-b2c7-bc2535e9dd6c",
        "showInput": false
      },
      "source": [
        "### Pareto Optimality\n",
        "\n",
        "In a multi-objective optimization problem, there typically is no single best solution. Rather, the *goal* is to identify the set of Pareto optimal solutions such that any improvement in one objective means deteriorating another. Provided with the Pareto set, decision-makers can select an objective trade-off according to their preferences. In the plot below, the red dots are the Pareto optimal solutions (assuming both objectives are to be minimized).\n",
        "![pareto front](attachment:pareto_front%20%281%29.png)"
      ]
    },
    {
      "attachments": {
        "hv_figure%20%281%29.png": {
          "image/png": "[encoded data removed]"
        }
      },
      "cell_type": "markdown",
      "metadata": {
        "code_folding": [],
        "hidden_ranges": [],
        "originalKey": "cefa89be-ef41-40d9-9458-d6faed3c6c91",
        "showInput": false
      },
      "source": [
        "### Evaluating the Quality of a Pareto Front (Hypervolume)\n",
        "\n",
        "Given a reference point $ r \\in \\mathbb R^M$, which we represent as a list of M `ObjectiveThreshold`s, one for each coordinate, the hypervolume (HV) of a Pareto set $\\mathcal P = \\{ y_i\\}_{i=1}^{|\\mathcal P|}$ is the volume of the space dominated (superior in every one of our M objectives) by $\\mathcal P$ and bounded from above by a point $ r$. The reference point should be set to be slightly worse (10% is reasonable) than the worst value of each objective that a decision maker would tolerate. In the figure below, the grey area is the hypervolume in this 2-objective problem.\n",
        "![hv_figure](attachment:hv_figure%20%281%29.png)"
      ]
    },
    {
      "attachments": {
        "objective_thresholds_comparison.png": {
          "image/png": "[encoded data removed]"
        }
      },
      "cell_type": "markdown",
      "metadata": {
        "code_folding": [],
        "hidden_ranges": [],
        "originalKey": "1819970e-9b48-4b57-b280-35bf2c4919d2",
        "showInput": false
      },
      "source": [
        "### Set Objective Thresholds to focus candidate generation in a region of interest\n",
        "\n",
        "The below plots show three different sets of points generated by the qEVHI algorithm with different objective thresholds (aka reference points). Note that here we use absolute thresholds, but thresholds can also be relative to a status_quo arm.\n",
        "\n",
        "The first plot shows the points without the `ObjectiveThreshold`s visible (they're set far below the origin of the graph).\n",
        "\n",
        "The second shows the points generated with (-18, -6) as thresholds. The regions violating the thresholds are greyed out. Only the white region in the upper right exceeds both threshold, points in this region dominate the intersection of these thresholds (this intersection is the reference point). Only points in this region contribute to the hypervolume objective. A few exploration points are not in the valid region, but almost all the rest of the points are.\n",
        "\n",
        "The third shows points generated with a very strict pair of thresholds, (-18, -2). Only the white region in the upper right exceeds both thresholds. Many points do not lie in the dominating region, but there are still more focused there than in the second examples.\n",
        "![objective_thresholds_comparison.png](attachment:objective_thresholds_comparison.png)"
      ]
    },
    {
      "cell_type": "markdown",
      "metadata": {
        "originalKey": "f2f39a8f-279f-49a1-b645-d51caed24d9c"
      },
      "source": [
        "### Further Information\n",
        "\n",
        "A deeper explanation of our the qEHVI and qParEGO algorithms this notebook explores can be found at https://arxiv.org/abs/2006.05078, and the underlying BoTorch implementation has a researcher-oriented tutorial at https://botorch.org/tutorials/multi_objective_bo."
      ]
    },
    {
      "cell_type": "markdown",
      "metadata": {
        "code_folding": [],
        "hidden_ranges": [],
        "originalKey": "0ac396dd-8040-4f87-8abe-472127734aef"
      },
      "source": [
        "## Setup"
      ]
    },
    {
      "cell_type": "code",
      "execution_count": 6,
      "metadata": {
        "code_folding": [],
        "executionStartTime": 1628191302514,
        "executionStopTime": 1628191302546,
        "hidden_ranges": [],
        "originalKey": "500597fc-a996-48f4-a8fe-defd429162b8",
        "requestMsgId": "07dd11c9-cd20-4bfa-b2d9-9a7bf70b2e44"
      },
      "outputs": [],
      "source": [
        "import pandas as pd\n",
        "from ax import *\n",
        "\n",
        "import numpy as np\n",
        "\n",
        "from ax.metrics.noisy_function import NoisyFunctionMetric\n",
        "from ax.service.utils.report_utils import exp_to_df\n",
        "from ax.runners.synthetic import SyntheticRunner\n",
        "\n",
        "# Factory methods for creating multi-objective optimization modesl.\n",
        "from ax.modelbridge.factory import get_MOO_EHVI, get_MOO_PAREGO\n",
        "\n",
        "# Analysis utilities, including a method to evaluate hypervolumes\n",
        "from ax.modelbridge.modelbridge_utils import observed_hypervolume"
      ]
    },
    {
      "cell_type": "markdown",
      "metadata": {
        "originalKey": "0b43c263-41da-4aa8-99f3-4a2a7fc49e4b"
      },
      "source": [
        "## Define experiment configurations"
      ]
    },
    {
      "cell_type": "markdown",
      "metadata": {
        "code_folding": [],
        "hidden_ranges": [],
        "originalKey": "963a036d-a250-4e3c-9570-afe6f2192f9a"
      },
      "source": [
        "### Search Space"
      ]
    },
    {
      "cell_type": "code",
      "execution_count": 7,
      "metadata": {
        "code_folding": [],
        "executionStartTime": 1628191313915,
        "executionStopTime": 1628191313944,
        "hidden_ranges": [],
        "originalKey": "90637eb4-730f-4f3d-8712-875bf88d6c2d",
        "requestMsgId": "fbb9db8e-5414-4add-ad10-0bd00583ebf5"
      },
      "outputs": [],
      "source": [
        "x1 = RangeParameter(name=\"x1\", lower=0, upper=1, parameter_type=ParameterType.FLOAT)\n",
        "x2 = RangeParameter(name=\"x2\", lower=0, upper=1, parameter_type=ParameterType.FLOAT)\n",
        "\n",
        "search_space = SearchSpace(\n",
        "    parameters=[x1, x2],\n",
        ")"
      ]
    },
    {
      "cell_type": "markdown",
      "metadata": {
        "code_folding": [],
        "hidden_ranges": [],
        "originalKey": "ac3cf1fe-d39d-48bb-a31d-e3ee0d70418b",
        "showInput": false
      },
      "source": [
        "### MultiObjectiveOptimizationConfig\n",
        "\n",
        "To optimize multiple objective we must create a `MultiObjective` containing the metrics we'll optimize and `MultiObjectiveOptimizationConfig` (which contains `ObjectiveThreshold`s) instead of our more typical `Objective` and `OptimizationConfig`\n",
        "\n",
        "We define `NoisyFunctionMetric`s to wrap our synthetic Branin-Currin problem's outputs. Add noise to see how robust our different optimization algorithms are."
      ]
    },
    {
      "cell_type": "code",
      "execution_count": 8,
      "metadata": {
        "code_folding": [],
        "executionStartTime": 1628191319191,
        "executionStopTime": 1628191319220,
        "hidden_ranges": [],
        "originalKey": "9fdb11b6-7845-4f06-90fd-527fee088d76",
        "requestMsgId": "febe0d60-fe60-4d55-ba6f-724c8ce7601d"
      },
      "outputs": [],
      "source": [
        "class MetricA(NoisyFunctionMetric):\n",
        "    def f(self, x: np.ndarray) -> float:\n",
        "        return float(branin_currin(torch.tensor(x))[0])\n",
        "    \n",
        "class MetricB(NoisyFunctionMetric):\n",
        "    def f(self, x: np.ndarray) -> float:\n",
        "        return float(branin_currin(torch.tensor(x))[1])\n",
        "\n",
        "metric_a = MetricA(\"a\", [\"x1\", \"x2\"], noise_sd=0.0, lower_is_better=False)\n",
        "metric_b = MetricB(\"b\", [\"x1\", \"x2\"], noise_sd=0.0, lower_is_better=False)"
      ]
    },
    {
      "cell_type": "code",
      "execution_count": 9,
      "metadata": {
        "code_folding": [],
        "executionStartTime": 1628191321755,
        "executionStopTime": 1628191321791,
        "hidden_ranges": [],
        "originalKey": "27065b03-7234-49c1-b3ae-f6442ec4e3d6",
        "requestMsgId": "d4010fca-5cbd-4a41-a779-cfa97ec15cc3"
      },
      "outputs": [],
      "source": [
        "mo = MultiObjective(\n",
        "    objectives=[Objective(metric=metric_a), Objective(metric=metric_b)],\n",
        ")"
      ]
    },
    {
      "cell_type": "code",
      "execution_count": 10,
      "metadata": {
        "executionStartTime": 1628191323464,
        "executionStopTime": 1628191323491,
        "originalKey": "c58b70de-06b5-4e03-8958-c3c55d4c295a",
        "requestMsgId": "27e7efe5-d29e-4211-944e-41e6de065299"
      },
      "outputs": [],
      "source": [
        "objective_thresholds = [\n",
        "    ObjectiveThreshold(metric=metric, bound=val, relative=False)\n",
        "    for metric, val in zip(mo.metrics, branin_currin.ref_point)\n",
        "]"
      ]
    },
    {
      "cell_type": "code",
      "execution_count": 11,
      "metadata": {
        "code_folding": [],
        "executionStartTime": 1628191325491,
        "executionStopTime": 1628191325519,
        "hidden_ranges": [],
        "originalKey": "4b1ce9ba-e2e5-4a8a-9c15-5d01a2940a55",
        "requestMsgId": "314ea591-0d2e-4fb5-b091-2aa2ea27f0eb"
      },
      "outputs": [],
      "source": [
        "optimization_config = MultiObjectiveOptimizationConfig(\n",
        "    objective=mo,\n",
        "    objective_thresholds=objective_thresholds,\n",
        ")"
      ]
    },
    {
      "cell_type": "markdown",
      "metadata": {
        "code_folding": [],
        "hidden_ranges": [],
        "originalKey": "3b7b797c-2478-48d6-84ea-c62a886db31f",
        "showInput": false
      },
      "source": [
        "## Define experiment creation utilities\n",
        "\n",
        "These construct our experiment, then initialize with Sobol points before we fit a Gaussian Process model to those initial points."
      ]
    },
    {
      "cell_type": "code",
      "execution_count": 52,
      "metadata": {
        "executionStartTime": 1628191328765,
        "executionStopTime": 1628191328792,
        "originalKey": "a52ace6c-8144-446b-97d5-2f27879ca187",
        "requestMsgId": "6a222fb5-231e-4476-86a6-c29ca5113332"
      },
      "outputs": [],
      "source": [
        "# Reasonable defaults for number of quasi-random initialization points and for subsequent model-generated trials.\n",
        "N_INIT = 6\n",
        "N_BATCH = 25"
      ]
    },
    {
      "cell_type": "code",
      "execution_count": 53,
      "metadata": {
        "code_folding": [],
        "executionStartTime": 1628191330913,
        "executionStopTime": 1628191330991,
        "hidden_ranges": [],
        "originalKey": "9fd6ec68-4c53-4276-a98a-61431cdc05d5",
        "requestMsgId": "8f659995-6b8f-4544-8392-03daaf8220b8"
      },
      "outputs": [],
      "source": [
        "def build_experiment():\n",
        "    experiment = Experiment(\n",
        "        name=\"pareto_experiment\",\n",
        "        search_space=search_space,\n",
        "        optimization_config=optimization_config,\n",
        "        runner=SyntheticRunner(),\n",
        "    )\n",
        "    return experiment"
      ]
    },
    {
      "cell_type": "code",
      "execution_count": 54,
      "metadata": {
        "code_folding": [],
        "executionStartTime": 1628191334273,
        "executionStopTime": 1628191334299,
        "hidden_ranges": [],
        "originalKey": "a8eef6a6-1d53-494a-907f-10ca35492a8c",
        "requestMsgId": "b207dbd4-0a53-4efd-bbb9-9dee8835d60b"
      },
      "outputs": [],
      "source": [
        "## Initialize with Sobol samples\n",
        "\n",
        "def initialize_experiment(experiment):\n",
        "    sobol = Models.SOBOL(search_space=experiment.search_space, seed=1234)\n",
        "\n",
        "    for _ in range(N_INIT):\n",
        "        experiment.new_trial(sobol.gen(1)).run()\n",
        "\n",
        "    return experiment.fetch_data()"
      ]
    },
    {
      "cell_type": "markdown",
      "metadata": {
        "code_folding": [],
        "hidden_ranges": [],
        "originalKey": "0c918735-9fda-4c36-90b5-163443e66c72",
        "showInput": false
      },
      "source": [
        "# Sobol\n",
        "We use quasirandom points as a fast baseline for evaluating the quality of our multi-objective optimization algorithms."
      ]
    },
    {
      "cell_type": "code",
      "execution_count": 55,
      "metadata": {
        "code_folding": [],
        "executionStartTime": 1628191356513,
        "executionStopTime": 1628191356896,
        "hidden_ranges": [],
        "originalKey": "5ee13832-804a-413f-a6bc-1f8f96a817d8",
        "requestMsgId": "5b40f1e6-45b9-40e4-8569-9d459e98ca57"
      },
      "outputs": [],
      "source": [
        "sobol_experiment = build_experiment()\n",
        "sobol_data = initialize_experiment(sobol_experiment)"
      ]
    },
    {
      "cell_type": "code",
      "execution_count": 56,
      "metadata": {
        "code_folding": [],
        "executionStartTime": 1628191362562,
        "executionStopTime": 1628191408255,
        "hidden_ranges": [],
        "originalKey": "0c6a6d44-29db-43dd-982d-dc664d00b009",
        "requestMsgId": "8aca7b5b-aab8-4a39-9a49-d7b1e0c714c5"
      },
      "outputs": [
        {
          "name": "stdout",
          "output_type": "stream",
          "text": [
            "Iteration: 0, HV: 0.0\n",
            "Iteration: 1, HV: 0.0\n",
            "Iteration: 2, HV: 0.0\n",
            "Iteration: 3, HV: 0.0\n",
            "Iteration: 4, HV: 0.0\n",
            "Iteration: 5, HV: 0.0\n",
            "Iteration: 6, HV: 0.0\n",
            "Iteration: 7, HV: 0.0\n",
            "Iteration: 8, HV: 0.0\n",
            "Iteration: 9, HV: 0.0\n",
            "Iteration: 10, HV: 0.0\n",
            "Iteration: 11, HV: 0.0\n",
            "Iteration: 12, HV: 0.0\n",
            "Iteration: 13, HV: 26.153949973770736\n",
            "Iteration: 14, HV: 26.153949973770736\n",
            "Iteration: 15, HV: 26.153949973770736\n",
            "Iteration: 16, HV: 26.153949973770736\n",
            "Iteration: 17, HV: 26.153949973770736\n",
            "Iteration: 18, HV: 26.153949973770736\n",
            "Iteration: 19, HV: 26.153949973770736\n",
            "Iteration: 20, HV: 26.153949973770736\n",
            "Iteration: 21, HV: 26.153949973770736\n",
            "Iteration: 22, HV: 26.153949973770736\n",
            "Iteration: 23, HV: 26.153949973770736\n",
            "Iteration: 24, HV: 26.153949973770736\n"
          ]
        }
      ],
      "source": [
        "sobol_model = Models.SOBOL(\n",
        "    experiment=sobol_experiment, \n",
        "    data=sobol_data,\n",
        ")\n",
        "sobol_hv_list = []\n",
        "for i in range(N_BATCH):\n",
        "    generator_run = sobol_model.gen(1)\n",
        "    trial = sobol_experiment.new_trial(generator_run=generator_run)\n",
        "    trial.run()\n",
        "    exp_df = exp_to_df(sobol_experiment)\n",
        "    outcomes = np.array(exp_df[['a', 'b']], dtype=np.double)\n",
        "    # Fit a GP-based model in order to calculate hypervolume.\n",
        "    # We will not use this model to generate new points.\n",
        "    dummy_model = get_MOO_EHVI(\n",
        "        experiment=sobol_experiment, \n",
        "        data=sobol_experiment.fetch_data(),\n",
        "    )\n",
        "    try:\n",
        "        hv = observed_hypervolume(modelbridge=dummy_model)\n",
        "    except:\n",
        "        hv = 0\n",
        "        print(\"Failed to compute hv\")\n",
        "    sobol_hv_list.append(hv)\n",
        "    print(f\"Iteration: {i}, HV: {hv}\")\n",
        "\n",
        "sobol_outcomes = np.array(exp_to_df(sobol_experiment)[['a', 'b']], dtype=np.double)"
      ]
    },
    {
      "cell_type": "markdown",
      "metadata": {
        "code_folding": [],
        "hidden_ranges": [],
        "originalKey": "767a7e9b-8902-424e-bfc4-f7afdba47302"
      },
      "source": [
        "## qEHVI\n",
        "Expected HyperVolume Improvement. This is our current recommended algorithm for multi-objective optimization, when a reference point is already known."
      ]
    },
    {
      "cell_type": "code",
      "execution_count": 57,
      "metadata": {
        "code_folding": [],
        "executionStartTime": 1628191422463,
        "executionStopTime": 1628191422803,
        "hidden_ranges": [],
        "originalKey": "8fc6bfb4-3012-4ce2-99ed-288378098c50",
        "requestMsgId": "0fd945a2-ac45-4a74-82cc-7173e15ced85"
      },
      "outputs": [],
      "source": [
        "ehvi_experiment = build_experiment()\n",
        "ehvi_data = initialize_experiment(ehvi_experiment)"
      ]
    },
    {
      "cell_type": "code",
      "execution_count": 58,
      "metadata": {
        "code_folding": [],
        "executionStartTime": 1628191425090,
        "executionStopTime": 1628191500240,
        "hidden_ranges": [],
        "originalKey": "27dd9425-b77e-4027-8412-30dd40c5abf1",
        "requestMsgId": "65430b82-de1e-4946-9d8d-4a75762354c1"
      },
      "outputs": [
        {
          "name": "stdout",
          "output_type": "stream",
          "text": [
            "Iteration: 0, HV: 0.0\n",
            "Iteration: 1, HV: 0.0\n",
            "Iteration: 2, HV: 0.0\n",
            "Iteration: 3, HV: 0.0\n",
            "Iteration: 4, HV: 30.529594230058606\n",
            "Iteration: 5, HV: 42.83964072904632\n",
            "Iteration: 6, HV: 43.183413804312444\n",
            "Iteration: 7, HV: 43.183413804312444\n",
            "Iteration: 8, HV: 47.59110528448761\n",
            "Iteration: 9, HV: 50.56686363077271\n",
            "Iteration: 10, HV: 50.56686363077271\n",
            "Iteration: 11, HV: 51.851051080759866\n",
            "Iteration: 12, HV: 52.29283686990878\n",
            "Iteration: 13, HV: 53.484101758631624\n",
            "Iteration: 14, HV: 54.39556655230799\n",
            "Iteration: 15, HV: 55.10704376976061\n",
            "Iteration: 16, HV: 55.40146308270846\n",
            "Iteration: 17, HV: 55.75903235294731\n",
            "Iteration: 18, HV: 56.046924423263356\n",
            "Iteration: 19, HV: 56.26792410073707\n",
            "Iteration: 20, HV: 56.56063171720372\n",
            "Iteration: 21, HV: 56.56063171720372\n",
            "Iteration: 22, HV: 56.78098367532598\n",
            "Iteration: 23, HV: 56.95466867311002\n",
            "Iteration: 24, HV: 57.11685217435732\n"
          ]
        }
      ],
      "source": [
        "ehvi_hv_list = []\n",
        "ehvi_model = None\n",
        "for i in range(N_BATCH):   \n",
        "    ehvi_model = get_MOO_EHVI(\n",
        "        experiment=ehvi_experiment, \n",
        "        data=ehvi_data,\n",
        "    )\n",
        "    generator_run = ehvi_model.gen(1)\n",
        "    trial = ehvi_experiment.new_trial(generator_run=generator_run)\n",
        "    trial.run()\n",
        "    ehvi_data = Data.from_multiple_data([ehvi_data, trial.fetch_data()])\n",
        "    \n",
        "    exp_df = exp_to_df(ehvi_experiment)\n",
        "    outcomes = np.array(exp_df[['a', 'b']], dtype=np.double)\n",
        "    try:\n",
        "        hv = observed_hypervolume(modelbridge=ehvi_model)\n",
        "    except:\n",
        "        hv = 0\n",
        "        print(\"Failed to compute hv\")\n",
        "    ehvi_hv_list.append(hv)\n",
        "    print(f\"Iteration: {i}, HV: {hv}\")\n",
        "\n",
        "ehvi_outcomes = np.array(exp_to_df(ehvi_experiment)[['a', 'b']], dtype=np.double)"
      ]
    },
    {
      "cell_type": "markdown",
      "metadata": {
        "code_folding": [],
        "hidden_ranges": [],
        "originalKey": "e93178b6-5ba4-4c01-b8a2-e05971b7326f",
        "showInput": false
      },
      "source": [
        "## Plot qEHVI Pareto Frontier based on model posterior \n",
        "\n",
        "The plotted points are samples from the fitted model's posterior, not observed samples."
      ]
    },
    {
      "cell_type": "code",
      "execution_count": 59,
      "metadata": {
        "code_folding": [],
        "executionStartTime": 1628191505148,
        "executionStopTime": 1628191521900,
        "hidden_ranges": [],
        "originalKey": "71e013c5-638f-4ba4-bb9a-3e4a7d3eb9fa",
        "requestMsgId": "681433c5-fc21-4699-9fe1-8e444c671153"
      },
      "outputs": [
        {
          "data": {
            "application/vnd.plotly.v1+json": {
              "config": {
                "linkText": "Export to plot.ly",
                "plotlyServerURL": "https://plot.ly",
                "showLink": false
              },
              "data": [
                {
                  "error_x": {
                    "array": [
                      0.020129496799880516,
                      0.020129496859017604,
                      0.020129496859017604,
                      0.007275693090759172,
                      0.01009113298473412,
                      0.009275578661168696,
                      0.006730083518932047,
                      0.011269936361989294,
                      0.020129496681606344,
                      0.01475853522757596,
                      0.02012949703642886,
                      0.008238261153694929,
                      0.020129496859017604,
                      0.02012949739125137,
                      0.020129496977291775,
                      0.012691108220278389,
                      0.015525142075506471,
                      0.020129496918154688,
                      0.020129496681606344,
                      0.019448035667410022
                    ],
                    "color": "rgba(128,177,211,0.4)",
                    "thickness": 2,
                    "type": "data"
                  },
                  "error_y": {
                    "array": [
                      0.0012671344013139244,
                      0.0012671343947613795,
                      0.0012671343947613795,
                      0.0004477672058295214,
                      0.0005609349588622301,
                      0.0005384694065910785,
                      0.0004133218858862805,
                      0.0006044996949447318,
                      0.001267134411142742,
                      0.000706109821479851,
                      0.001267134404590197,
                      0.0005008713686867183,
                      0.0012671344013139244,
                      0.0012671344176952868,
                      0.0012671344127808781,
                      0.0006535260071792133,
                      0.0007119197867847541,
                      0.0012671343832944253,
                      0.0012671343898469707,
                      0.0008122793655048003
                    ],
                    "color": "rgba(128,177,211,0.4)",
                    "thickness": 2,
                    "type": "data"
                  },
                  "hoverinfo": "text",
                  "legendgroup": "mean",
                  "marker": {
                    "color": "rgba(128,177,211,1)"
                  },
                  "mode": "markers",
                  "name": "mean",
                  "text": [
                    "<b>Parameterization 0</b><br>b: -1.18 [-1.181, -1.179]<br>a: -17.507 [-17.527, -17.486]<br><br><em>Parameterization:</em><br>x1: 3.4755799070653053e-15<br>x2: 0.9999999999999922",
                    "<b>Parameterization 1</b><br>b: -1.18 [-1.181, -1.179]<br>a: -17.507 [-17.527, -17.486]<br><br><em>Parameterization:</em><br>x1: 0.0<br>x2: 1.0",
                    "<b>Parameterization 2</b><br>b: -1.18 [-1.181, -1.179]<br>a: -17.507 [-17.527, -17.486]<br><br><em>Parameterization:</em><br>x1: 0.0<br>x2: 1.0",
                    "<b>Parameterization 3</b><br>b: -1.508 [-1.509, -1.508]<br>a: -14.995 [-15.002, -14.987]<br><br><em>Parameterization:</em><br>x1: 0.008017741545072945<br>x2: 0.9999999999999999",
                    "<b>Parameterization 4</b><br>b: -4.494 [-4.495, -4.494]<br>a: -1.789 [-1.799, -1.779]<br><br><em>Parameterization:</em><br>x1: 0.08829119110083442<br>x2: 0.9219703319591946",
                    "<b>Parameterization 5</b><br>b: -3.214 [-3.215, -3.214]<br>a: -5.323 [-5.333, -5.314]<br><br><em>Parameterization:</em><br>x1: 0.05308802534563896<br>x2: 1.0",
                    "<b>Parameterization 6</b><br>b: -2.241 [-2.242, -2.241]<br>a: -10.104 [-10.111, -10.097]<br><br><em>Parameterization:</em><br>x1: 0.026369242209824745<br>x2: 1.0",
                    "<b>Parameterization 7</b><br>b: -3.352 [-3.352, -3.351]<br>a: -4.845 [-4.856, -4.834]<br><br><em>Parameterization:</em><br>x1: 0.05725655261900306<br>x2: 1.0",
                    "<b>Parameterization 8</b><br>b: -1.18 [-1.181, -1.179]<br>a: -17.507 [-17.527, -17.486]<br><br><em>Parameterization:</em><br>x1: 4.814353047469949e-16<br>x2: 0.9999999999999998",
                    "<b>Parameterization 9</b><br>b: -4.746 [-4.746, -4.745]<br>a: -1.294 [-1.309, -1.280]<br><br><em>Parameterization:</em><br>x1: 0.09543779454565869<br>x2: 0.9016308996482776",
                    "<b>Parameterization 10</b><br>b: -1.18 [-1.181, -1.179]<br>a: -17.507 [-17.527, -17.486]<br><br><em>Parameterization:</em><br>x1: 1.5116630630826752e-15<br>x2: 0.9999999999999948",
                    "<b>Parameterization 11</b><br>b: -3.075 [-3.076, -3.075]<br>a: -5.867 [-5.875, -5.858]<br><br><em>Parameterization:</em><br>x1: 0.04898776589036929<br>x2: 1.0",
                    "<b>Parameterization 12</b><br>b: -1.18 [-1.181, -1.179]<br>a: -17.507 [-17.527, -17.486]<br><br><em>Parameterization:</em><br>x1: 0.0<br>x2: 0.9999999999999994",
                    "<b>Parameterization 13</b><br>b: -1.18 [-1.181, -1.179]<br>a: -17.507 [-17.527, -17.486]<br><br><em>Parameterization:</em><br>x1: 2.1393352561821095e-15<br>x2: 1.0",
                    "<b>Parameterization 14</b><br>b: -1.18 [-1.181, -1.179]<br>a: -17.507 [-17.527, -17.486]<br><br><em>Parameterization:</em><br>x1: 5.9636057768466735e-15<br>x2: 1.0",
                    "<b>Parameterization 15</b><br>b: -4.666 [-4.666, -4.665]<br>a: -1.442 [-1.455, -1.430]<br><br><em>Parameterization:</em><br>x1: 0.09317361204099497<br>x2: 0.9083899856655213",
                    "<b>Parameterization 16</b><br>b: -4.8 [-4.801, -4.799]<br>a: -1.2 [-1.215, -1.184]<br><br><em>Parameterization:</em><br>x1: 0.09700259223659033<br>x2: 0.8971445201483442",
                    "<b>Parameterization 17</b><br>b: -1.18 [-1.181, -1.179]<br>a: -17.507 [-17.527, -17.486]<br><br><em>Parameterization:</em><br>x1: 7.22285096091279e-16<br>x2: 0.999999999999975",
                    "<b>Parameterization 18</b><br>b: -1.18 [-1.181, -1.179]<br>a: -17.507 [-17.527, -17.486]<br><br><em>Parameterization:</em><br>x1: 0.0<br>x2: 0.9999999999999809",
                    "<b>Parameterization 19</b><br>b: -3.623 [-3.624, -3.623]<br>a: -4.025 [-4.044, -4.005]<br><br><em>Parameterization:</em><br>x1: 0.06471772566675998<br>x2: 0.9866636178302872"
                  ],
                  "type": "scatter",
                  "x": [
                    -17.50655664818295,
                    -17.50655664802789,
                    -17.50655664802789,
                    -14.994507911440456,
                    -1.789104413179551,
                    -5.323468866985941,
                    -10.104197861640312,
                    -4.845099879446348,
                    -17.506556648059814,
                    -1.2942780198756765,
                    -17.50655664812993,
                    -5.866507987530266,
                    -17.506556648048132,
                    -17.506556648086324,
                    -17.506556648070035,
                    -1.4423138712009234,
                    -1.1999249848257918,
                    -17.50655664816354,
                    -17.50655664812222,
                    -4.0248710047565055
                  ],
                  "y": [
                    -1.179911985749524,
                    -1.179911985749556,
                    -1.179911985749556,
                    -1.5080785744275547,
                    -4.494201645234156,
                    -3.2144336458738563,
                    -2.241489638836108,
                    -3.351729896534658,
                    -1.1799119857459663,
                    -4.745677979061839,
                    -1.17991198574685,
                    -3.075168875349048,
                    -1.1799119857501537,
                    -1.1799119857447562,
                    -1.1799119857438347,
                    -4.665578085991043,
                    -4.799873652195384,
                    -1.1799119857462417,
                    -1.17991198574685,
                    -3.6233755349392367
                  ]
                }
              ],
              "layout": {
                "height": 500,
                "hovermode": "closest",
                "legend": {
                  "orientation": "h"
                },
                "margin": {
                  "b": 75,
                  "l": 225,
                  "pad": 4,
                  "t": 75
                },
                "template": {
                  "data": {
                    "bar": [
                      {
                        "error_x": {
                          "color": "#2a3f5f"
                        },
                        "error_y": {
                          "color": "#2a3f5f"
                        },
                        "marker": {
                          "line": {
                            "color": "#E5ECF6",
                            "width": 0.5
                          }
                        },
                        "type": "bar"
                      }
                    ],
                    "barpolar": [
                      {
                        "marker": {
                          "line": {
                            "color": "#E5ECF6",
                            "width": 0.5
                          }
                        },
                        "type": "barpolar"
                      }
                    ],
                    "carpet": [
                      {
                        "aaxis": {
                          "endlinecolor": "#2a3f5f",
                          "gridcolor": "white",
                          "linecolor": "white",
                          "minorgridcolor": "white",
                          "startlinecolor": "#2a3f5f"
                        },
                        "baxis": {
                          "endlinecolor": "#2a3f5f",
                          "gridcolor": "white",
                          "linecolor": "white",
                          "minorgridcolor": "white",
                          "startlinecolor": "#2a3f5f"
                        },
                        "type": "carpet"
                      }
                    ],
                    "choropleth": [
                      {
                        "colorbar": {
                          "outlinewidth": 0,
                          "ticks": ""
                        },
                        "type": "choropleth"
                      }
                    ],
                    "contour": [
                      {
                        "colorbar": {
                          "outlinewidth": 0,
                          "ticks": ""
                        },
                        "colorscale": [
                          [
                            0,
                            "#0d0887"
                          ],
                          [
                            0.1111111111111111,
                            "#46039f"
                          ],
                          [
                            0.2222222222222222,
                            "#7201a8"
                          ],
                          [
                            0.3333333333333333,
                            "#9c179e"
                          ],
                          [
                            0.4444444444444444,
                            "#bd3786"
                          ],
                          [
                            0.5555555555555556,
                            "#d8576b"
                          ],
                          [
                            0.6666666666666666,
                            "#ed7953"
                          ],
                          [
                            0.7777777777777778,
                            "#fb9f3a"
                          ],
                          [
                            0.8888888888888888,
                            "#fdca26"
                          ],
                          [
                            1,
                            "#f0f921"
                          ]
                        ],
                        "type": "contour"
                      }
                    ],
                    "contourcarpet": [
                      {
                        "colorbar": {
                          "outlinewidth": 0,
                          "ticks": ""
                        },
                        "type": "contourcarpet"
                      }
                    ],
                    "heatmap": [
                      {
                        "colorbar": {
                          "outlinewidth": 0,
                          "ticks": ""
                        },
                        "colorscale": [
                          [
                            0,
                            "#0d0887"
                          ],
                          [
                            0.1111111111111111,
                            "#46039f"
                          ],
                          [
                            0.2222222222222222,
                            "#7201a8"
                          ],
                          [
                            0.3333333333333333,
                            "#9c179e"
                          ],
                          [
                            0.4444444444444444,
                            "#bd3786"
                          ],
                          [
                            0.5555555555555556,
                            "#d8576b"
                          ],
                          [
                            0.6666666666666666,
                            "#ed7953"
                          ],
                          [
                            0.7777777777777778,
                            "#fb9f3a"
                          ],
                          [
                            0.8888888888888888,
                            "#fdca26"
                          ],
                          [
                            1,
                            "#f0f921"
                          ]
                        ],
                        "type": "heatmap"
                      }
                    ],
                    "heatmapgl": [
                      {
                        "colorbar": {
                          "outlinewidth": 0,
                          "ticks": ""
                        },
                        "colorscale": [
                          [
                            0,
                            "#0d0887"
                          ],
                          [
                            0.1111111111111111,
                            "#46039f"
                          ],
                          [
                            0.2222222222222222,
                            "#7201a8"
                          ],
                          [
                            0.3333333333333333,
                            "#9c179e"
                          ],
                          [
                            0.4444444444444444,
                            "#bd3786"
                          ],
                          [
                            0.5555555555555556,
                            "#d8576b"
                          ],
                          [
                            0.6666666666666666,
                            "#ed7953"
                          ],
                          [
                            0.7777777777777778,
                            "#fb9f3a"
                          ],
                          [
                            0.8888888888888888,
                            "#fdca26"
                          ],
                          [
                            1,
                            "#f0f921"
                          ]
                        ],
                        "type": "heatmapgl"
                      }
                    ],
                    "histogram": [
                      {
                        "marker": {
                          "colorbar": {
                            "outlinewidth": 0,
                            "ticks": ""
                          }
                        },
                        "type": "histogram"
                      }
                    ],
                    "histogram2d": [
                      {
                        "colorbar": {
                          "outlinewidth": 0,
                          "ticks": ""
                        },
                        "colorscale": [
                          [
                            0,
                            "#0d0887"
                          ],
                          [
                            0.1111111111111111,
                            "#46039f"
                          ],
                          [
                            0.2222222222222222,
                            "#7201a8"
                          ],
                          [
                            0.3333333333333333,
                            "#9c179e"
                          ],
                          [
                            0.4444444444444444,
                            "#bd3786"
                          ],
                          [
                            0.5555555555555556,
                            "#d8576b"
                          ],
                          [
                            0.6666666666666666,
                            "#ed7953"
                          ],
                          [
                            0.7777777777777778,
                            "#fb9f3a"
                          ],
                          [
                            0.8888888888888888,
                            "#fdca26"
                          ],
                          [
                            1,
                            "#f0f921"
                          ]
                        ],
                        "type": "histogram2d"
                      }
                    ],
                    "histogram2dcontour": [
                      {
                        "colorbar": {
                          "outlinewidth": 0,
                          "ticks": ""
                        },
                        "colorscale": [
                          [
                            0,
                            "#0d0887"
                          ],
                          [
                            0.1111111111111111,
                            "#46039f"
                          ],
                          [
                            0.2222222222222222,
                            "#7201a8"
                          ],
                          [
                            0.3333333333333333,
                            "#9c179e"
                          ],
                          [
                            0.4444444444444444,
                            "#bd3786"
                          ],
                          [
                            0.5555555555555556,
                            "#d8576b"
                          ],
                          [
                            0.6666666666666666,
                            "#ed7953"
                          ],
                          [
                            0.7777777777777778,
                            "#fb9f3a"
                          ],
                          [
                            0.8888888888888888,
                            "#fdca26"
                          ],
                          [
                            1,
                            "#f0f921"
                          ]
                        ],
                        "type": "histogram2dcontour"
                      }
                    ],
                    "mesh3d": [
                      {
                        "colorbar": {
                          "outlinewidth": 0,
                          "ticks": ""
                        },
                        "type": "mesh3d"
                      }
                    ],
                    "parcoords": [
                      {
                        "line": {
                          "colorbar": {
                            "outlinewidth": 0,
                            "ticks": ""
                          }
                        },
                        "type": "parcoords"
                      }
                    ],
                    "pie": [
                      {
                        "automargin": true,
                        "type": "pie"
                      }
                    ],
                    "scatter": [
                      {
                        "marker": {
                          "colorbar": {
                            "outlinewidth": 0,
                            "ticks": ""
                          }
                        },
                        "type": "scatter"
                      }
                    ],
                    "scatter3d": [
                      {
                        "line": {
                          "colorbar": {
                            "outlinewidth": 0,
                            "ticks": ""
                          }
                        },
                        "marker": {
                          "colorbar": {
                            "outlinewidth": 0,
                            "ticks": ""
                          }
                        },
                        "type": "scatter3d"
                      }
                    ],
                    "scattercarpet": [
                      {
                        "marker": {
                          "colorbar": {
                            "outlinewidth": 0,
                            "ticks": ""
                          }
                        },
                        "type": "scattercarpet"
                      }
                    ],
                    "scattergeo": [
                      {
                        "marker": {
                          "colorbar": {
                            "outlinewidth": 0,
                            "ticks": ""
                          }
                        },
                        "type": "scattergeo"
                      }
                    ],
                    "scattergl": [
                      {
                        "marker": {
                          "colorbar": {
                            "outlinewidth": 0,
                            "ticks": ""
                          }
                        },
                        "type": "scattergl"
                      }
                    ],
                    "scattermapbox": [
                      {
                        "marker": {
                          "colorbar": {
                            "outlinewidth": 0,
                            "ticks": ""
                          }
                        },
                        "type": "scattermapbox"
                      }
                    ],
                    "scatterpolar": [
                      {
                        "marker": {
                          "colorbar": {
                            "outlinewidth": 0,
                            "ticks": ""
                          }
                        },
                        "type": "scatterpolar"
                      }
                    ],
                    "scatterpolargl": [
                      {
                        "marker": {
                          "colorbar": {
                            "outlinewidth": 0,
                            "ticks": ""
                          }
                        },
                        "type": "scatterpolargl"
                      }
                    ],
                    "scatterternary": [
                      {
                        "marker": {
                          "colorbar": {
                            "outlinewidth": 0,
                            "ticks": ""
                          }
                        },
                        "type": "scatterternary"
                      }
                    ],
                    "surface": [
                      {
                        "colorbar": {
                          "outlinewidth": 0,
                          "ticks": ""
                        },
                        "colorscale": [
                          [
                            0,
                            "#0d0887"
                          ],
                          [
                            0.1111111111111111,
                            "#46039f"
                          ],
                          [
                            0.2222222222222222,
                            "#7201a8"
                          ],
                          [
                            0.3333333333333333,
                            "#9c179e"
                          ],
                          [
                            0.4444444444444444,
                            "#bd3786"
                          ],
                          [
                            0.5555555555555556,
                            "#d8576b"
                          ],
                          [
                            0.6666666666666666,
                            "#ed7953"
                          ],
                          [
                            0.7777777777777778,
                            "#fb9f3a"
                          ],
                          [
                            0.8888888888888888,
                            "#fdca26"
                          ],
                          [
                            1,
                            "#f0f921"
                          ]
                        ],
                        "type": "surface"
                      }
                    ],
                    "table": [
                      {
                        "cells": {
                          "fill": {
                            "color": "#EBF0F8"
                          },
                          "line": {
                            "color": "white"
                          }
                        },
                        "header": {
                          "fill": {
                            "color": "#C8D4E3"
                          },
                          "line": {
                            "color": "white"
                          }
                        },
                        "type": "table"
                      }
                    ]
                  },
                  "layout": {
                    "annotationdefaults": {
                      "arrowcolor": "#2a3f5f",
                      "arrowhead": 0,
                      "arrowwidth": 1
                    },
                    "autotypenumbers": "strict",
                    "coloraxis": {
                      "colorbar": {
                        "outlinewidth": 0,
                        "ticks": ""
                      }
                    },
                    "colorscale": {
                      "diverging": [
                        [
                          0,
                          "#8e0152"
                        ],
                        [
                          0.1,
                          "#c51b7d"
                        ],
                        [
                          0.2,
                          "#de77ae"
                        ],
                        [
                          0.3,
                          "#f1b6da"
                        ],
                        [
                          0.4,
                          "#fde0ef"
                        ],
                        [
                          0.5,
                          "#f7f7f7"
                        ],
                        [
                          0.6,
                          "#e6f5d0"
                        ],
                        [
                          0.7,
                          "#b8e186"
                        ],
                        [
                          0.8,
                          "#7fbc41"
                        ],
                        [
                          0.9,
                          "#4d9221"
                        ],
                        [
                          1,
                          "#276419"
                        ]
                      ],
                      "sequential": [
                        [
                          0,
                          "#0d0887"
                        ],
                        [
                          0.1111111111111111,
                          "#46039f"
                        ],
                        [
                          0.2222222222222222,
                          "#7201a8"
                        ],
                        [
                          0.3333333333333333,
                          "#9c179e"
                        ],
                        [
                          0.4444444444444444,
                          "#bd3786"
                        ],
                        [
                          0.5555555555555556,
                          "#d8576b"
                        ],
                        [
                          0.6666666666666666,
                          "#ed7953"
                        ],
                        [
                          0.7777777777777778,
                          "#fb9f3a"
                        ],
                        [
                          0.8888888888888888,
                          "#fdca26"
                        ],
                        [
                          1,
                          "#f0f921"
                        ]
                      ],
                      "sequentialminus": [
                        [
                          0,
                          "#0d0887"
                        ],
                        [
                          0.1111111111111111,
                          "#46039f"
                        ],
                        [
                          0.2222222222222222,
                          "#7201a8"
                        ],
                        [
                          0.3333333333333333,
                          "#9c179e"
                        ],
                        [
                          0.4444444444444444,
                          "#bd3786"
                        ],
                        [
                          0.5555555555555556,
                          "#d8576b"
                        ],
                        [
                          0.6666666666666666,
                          "#ed7953"
                        ],
                        [
                          0.7777777777777778,
                          "#fb9f3a"
                        ],
                        [
                          0.8888888888888888,
                          "#fdca26"
                        ],
                        [
                          1,
                          "#f0f921"
                        ]
                      ]
                    },
                    "colorway": [
                      "#636efa",
                      "#EF553B",
                      "#00cc96",
                      "#ab63fa",
                      "#FFA15A",
                      "#19d3f3",
                      "#FF6692",
                      "#B6E880",
                      "#FF97FF",
                      "#FECB52"
                    ],
                    "font": {
                      "color": "#2a3f5f"
                    },
                    "geo": {
                      "bgcolor": "white",
                      "lakecolor": "white",
                      "landcolor": "#E5ECF6",
                      "showlakes": true,
                      "showland": true,
                      "subunitcolor": "white"
                    },
                    "hoverlabel": {
                      "align": "left"
                    },
                    "hovermode": "closest",
                    "mapbox": {
                      "style": "light"
                    },
                    "paper_bgcolor": "white",
                    "plot_bgcolor": "#E5ECF6",
                    "polar": {
                      "angularaxis": {
                        "gridcolor": "white",
                        "linecolor": "white",
                        "ticks": ""
                      },
                      "bgcolor": "#E5ECF6",
                      "radialaxis": {
                        "gridcolor": "white",
                        "linecolor": "white",
                        "ticks": ""
                      }
                    },
                    "scene": {
                      "xaxis": {
                        "backgroundcolor": "#E5ECF6",
                        "gridcolor": "white",
                        "gridwidth": 2,
                        "linecolor": "white",
                        "showbackground": true,
                        "ticks": "",
                        "zerolinecolor": "white"
                      },
                      "yaxis": {
                        "backgroundcolor": "#E5ECF6",
                        "gridcolor": "white",
                        "gridwidth": 2,
                        "linecolor": "white",
                        "showbackground": true,
                        "ticks": "",
                        "zerolinecolor": "white"
                      },
                      "zaxis": {
                        "backgroundcolor": "#E5ECF6",
                        "gridcolor": "white",
                        "gridwidth": 2,
                        "linecolor": "white",
                        "showbackground": true,
                        "ticks": "",
                        "zerolinecolor": "white"
                      }
                    },
                    "shapedefaults": {
                      "line": {
                        "color": "#2a3f5f"
                      }
                    },
                    "ternary": {
                      "aaxis": {
                        "gridcolor": "white",
                        "linecolor": "white",
                        "ticks": ""
                      },
                      "baxis": {
                        "gridcolor": "white",
                        "linecolor": "white",
                        "ticks": ""
                      },
                      "bgcolor": "#E5ECF6",
                      "caxis": {
                        "gridcolor": "white",
                        "linecolor": "white",
                        "ticks": ""
                      }
                    },
                    "title": {
                      "x": 0.05
                    },
                    "xaxis": {
                      "automargin": true,
                      "gridcolor": "white",
                      "linecolor": "white",
                      "ticks": "",
                      "title": {
                        "standoff": 15
                      },
                      "zerolinecolor": "white",
                      "zerolinewidth": 2
                    },
                    "yaxis": {
                      "automargin": true,
                      "gridcolor": "white",
                      "linecolor": "white",
                      "ticks": "",
                      "title": {
                        "standoff": 15
                      },
                      "zerolinecolor": "white",
                      "zerolinewidth": 2
                    }
                  }
                },
                "title": {
                  "text": "Pareto Frontier"
                },
                "width": 750,
                "xaxis": {
                  "ticksuffix": "",
                  "title": {
                    "text": "a"
                  },
                  "zeroline": true
                },
                "yaxis": {
                  "ticksuffix": "",
                  "title": {
                    "text": "b"
                  },
                  "zeroline": true
                }
              }
            },
            "text/html": [
              "<div>                            <div id=\"71aebf4d-b27f-4f76-a569-331131f15e3e\" class=\"plotly-graph-div\" style=\"height:500px; width:750px;\"></div>            <script type=\"text/javascript\">                require([\"plotly\"], function(Plotly) {                    window.PLOTLYENV=window.PLOTLYENV || {};                                    if (document.getElementById(\"71aebf4d-b27f-4f76-a569-331131f15e3e\")) {                    Plotly.newPlot(                        \"71aebf4d-b27f-4f76-a569-331131f15e3e\",                        [{\"error_x\": {\"array\": [0.020129496799880516, 0.020129496859017604, 0.020129496859017604, 0.007275693090759172, 0.01009113298473412, 0.009275578661168696, 0.006730083518932047, 0.011269936361989294, 0.020129496681606344, 0.01475853522757596, 0.02012949703642886, 0.008238261153694929, 0.020129496859017604, 0.02012949739125137, 0.020129496977291775, 0.012691108220278389, 0.015525142075506471, 0.020129496918154688, 0.020129496681606344, 0.019448035667410022], \"color\": \"rgba(128,177,211,0.4)\", \"thickness\": 2, \"type\": \"data\"}, \"error_y\": {\"array\": [0.0012671344013139244, 0.0012671343947613795, 0.0012671343947613795, 0.0004477672058295214, 0.0005609349588622301, 0.0005384694065910785, 0.0004133218858862805, 0.0006044996949447318, 0.001267134411142742, 0.000706109821479851, 0.001267134404590197, 0.0005008713686867183, 0.0012671344013139244, 0.0012671344176952868, 0.0012671344127808781, 0.0006535260071792133, 0.0007119197867847541, 0.0012671343832944253, 0.0012671343898469707, 0.0008122793655048003], \"color\": \"rgba(128,177,211,0.4)\", \"thickness\": 2, \"type\": \"data\"}, \"hoverinfo\": \"text\", \"legendgroup\": \"mean\", \"marker\": {\"color\": \"rgba(128,177,211,1)\"}, \"mode\": \"markers\", \"name\": \"mean\", \"text\": [\"<b>Parameterization 0</b><br>b: -1.18 [-1.181, -1.179]<br>a: -17.507 [-17.527, -17.486]<br><br><em>Parameterization:</em><br>x1: 3.4755799070653053e-15<br>x2: 0.9999999999999922\", \"<b>Parameterization 1</b><br>b: -1.18 [-1.181, -1.179]<br>a: -17.507 [-17.527, -17.486]<br><br><em>Parameterization:</em><br>x1: 0.0<br>x2: 1.0\", \"<b>Parameterization 2</b><br>b: -1.18 [-1.181, -1.179]<br>a: -17.507 [-17.527, -17.486]<br><br><em>Parameterization:</em><br>x1: 0.0<br>x2: 1.0\", \"<b>Parameterization 3</b><br>b: -1.508 [-1.509, -1.508]<br>a: -14.995 [-15.002, -14.987]<br><br><em>Parameterization:</em><br>x1: 0.008017741545072945<br>x2: 0.9999999999999999\", \"<b>Parameterization 4</b><br>b: -4.494 [-4.495, -4.494]<br>a: -1.789 [-1.799, -1.779]<br><br><em>Parameterization:</em><br>x1: 0.08829119110083442<br>x2: 0.9219703319591946\", \"<b>Parameterization 5</b><br>b: -3.214 [-3.215, -3.214]<br>a: -5.323 [-5.333, -5.314]<br><br><em>Parameterization:</em><br>x1: 0.05308802534563896<br>x2: 1.0\", \"<b>Parameterization 6</b><br>b: -2.241 [-2.242, -2.241]<br>a: -10.104 [-10.111, -10.097]<br><br><em>Parameterization:</em><br>x1: 0.026369242209824745<br>x2: 1.0\", \"<b>Parameterization 7</b><br>b: -3.352 [-3.352, -3.351]<br>a: -4.845 [-4.856, -4.834]<br><br><em>Parameterization:</em><br>x1: 0.05725655261900306<br>x2: 1.0\", \"<b>Parameterization 8</b><br>b: -1.18 [-1.181, -1.179]<br>a: -17.507 [-17.527, -17.486]<br><br><em>Parameterization:</em><br>x1: 4.814353047469949e-16<br>x2: 0.9999999999999998\", \"<b>Parameterization 9</b><br>b: -4.746 [-4.746, -4.745]<br>a: -1.294 [-1.309, -1.280]<br><br><em>Parameterization:</em><br>x1: 0.09543779454565869<br>x2: 0.9016308996482776\", \"<b>Parameterization 10</b><br>b: -1.18 [-1.181, -1.179]<br>a: -17.507 [-17.527, -17.486]<br><br><em>Parameterization:</em><br>x1: 1.5116630630826752e-15<br>x2: 0.9999999999999948\", \"<b>Parameterization 11</b><br>b: -3.075 [-3.076, -3.075]<br>a: -5.867 [-5.875, -5.858]<br><br><em>Parameterization:</em><br>x1: 0.04898776589036929<br>x2: 1.0\", \"<b>Parameterization 12</b><br>b: -1.18 [-1.181, -1.179]<br>a: -17.507 [-17.527, -17.486]<br><br><em>Parameterization:</em><br>x1: 0.0<br>x2: 0.9999999999999994\", \"<b>Parameterization 13</b><br>b: -1.18 [-1.181, -1.179]<br>a: -17.507 [-17.527, -17.486]<br><br><em>Parameterization:</em><br>x1: 2.1393352561821095e-15<br>x2: 1.0\", \"<b>Parameterization 14</b><br>b: -1.18 [-1.181, -1.179]<br>a: -17.507 [-17.527, -17.486]<br><br><em>Parameterization:</em><br>x1: 5.9636057768466735e-15<br>x2: 1.0\", \"<b>Parameterization 15</b><br>b: -4.666 [-4.666, -4.665]<br>a: -1.442 [-1.455, -1.430]<br><br><em>Parameterization:</em><br>x1: 0.09317361204099497<br>x2: 0.9083899856655213\", \"<b>Parameterization 16</b><br>b: -4.8 [-4.801, -4.799]<br>a: -1.2 [-1.215, -1.184]<br><br><em>Parameterization:</em><br>x1: 0.09700259223659033<br>x2: 0.8971445201483442\", \"<b>Parameterization 17</b><br>b: -1.18 [-1.181, -1.179]<br>a: -17.507 [-17.527, -17.486]<br><br><em>Parameterization:</em><br>x1: 7.22285096091279e-16<br>x2: 0.999999999999975\", \"<b>Parameterization 18</b><br>b: -1.18 [-1.181, -1.179]<br>a: -17.507 [-17.527, -17.486]<br><br><em>Parameterization:</em><br>x1: 0.0<br>x2: 0.9999999999999809\", \"<b>Parameterization 19</b><br>b: -3.623 [-3.624, -3.623]<br>a: -4.025 [-4.044, -4.005]<br><br><em>Parameterization:</em><br>x1: 0.06471772566675998<br>x2: 0.9866636178302872\"], \"type\": \"scatter\", \"x\": [-17.50655664818295, -17.50655664802789, -17.50655664802789, -14.994507911440456, -1.789104413179551, -5.323468866985941, -10.104197861640312, -4.845099879446348, -17.506556648059814, -1.2942780198756765, -17.50655664812993, -5.866507987530266, -17.506556648048132, -17.506556648086324, -17.506556648070035, -1.4423138712009234, -1.1999249848257918, -17.50655664816354, -17.50655664812222, -4.0248710047565055], \"y\": [-1.179911985749524, -1.179911985749556, -1.179911985749556, -1.5080785744275547, -4.494201645234156, -3.2144336458738563, -2.241489638836108, -3.351729896534658, -1.1799119857459663, -4.745677979061839, -1.17991198574685, -3.075168875349048, -1.1799119857501537, -1.1799119857447562, -1.1799119857438347, -4.665578085991043, -4.799873652195384, -1.1799119857462417, -1.17991198574685, -3.6233755349392367]}],                        {\"height\": 500, \"hovermode\": \"closest\", \"legend\": {\"orientation\": \"h\"}, \"margin\": {\"b\": 75, \"l\": 225, \"pad\": 4, \"t\": 75}, \"template\": {\"data\": {\"bar\": [{\"error_x\": {\"color\": \"#2a3f5f\"}, \"error_y\": {\"color\": \"#2a3f5f\"}, \"marker\": {\"line\": {\"color\": \"#E5ECF6\", \"width\": 0.5}}, \"type\": \"bar\"}], \"barpolar\": [{\"marker\": {\"line\": {\"color\": \"#E5ECF6\", \"width\": 0.5}}, \"type\": \"barpolar\"}], \"carpet\": [{\"aaxis\": {\"endlinecolor\": \"#2a3f5f\", \"gridcolor\": \"white\", \"linecolor\": \"white\", \"minorgridcolor\": \"white\", \"startlinecolor\": \"#2a3f5f\"}, \"baxis\": {\"endlinecolor\": \"#2a3f5f\", \"gridcolor\": \"white\", \"linecolor\": \"white\", \"minorgridcolor\": \"white\", \"startlinecolor\": \"#2a3f5f\"}, \"type\": \"carpet\"}], \"choropleth\": [{\"colorbar\": {\"outlinewidth\": 0, \"ticks\": \"\"}, \"type\": \"choropleth\"}], \"contour\": [{\"colorbar\": {\"outlinewidth\": 0, \"ticks\": \"\"}, \"colorscale\": [[0.0, \"#0d0887\"], [0.1111111111111111, \"#46039f\"], [0.2222222222222222, \"#7201a8\"], [0.3333333333333333, \"#9c179e\"], [0.4444444444444444, \"#bd3786\"], [0.5555555555555556, \"#d8576b\"], [0.6666666666666666, \"#ed7953\"], [0.7777777777777778, \"#fb9f3a\"], [0.8888888888888888, \"#fdca26\"], [1.0, \"#f0f921\"]], \"type\": \"contour\"}], \"contourcarpet\": [{\"colorbar\": {\"outlinewidth\": 0, \"ticks\": \"\"}, \"type\": \"contourcarpet\"}], \"heatmap\": [{\"colorbar\": {\"outlinewidth\": 0, \"ticks\": \"\"}, \"colorscale\": [[0.0, \"#0d0887\"], [0.1111111111111111, \"#46039f\"], [0.2222222222222222, \"#7201a8\"], [0.3333333333333333, \"#9c179e\"], [0.4444444444444444, \"#bd3786\"], [0.5555555555555556, \"#d8576b\"], [0.6666666666666666, \"#ed7953\"], [0.7777777777777778, \"#fb9f3a\"], [0.8888888888888888, \"#fdca26\"], [1.0, \"#f0f921\"]], \"type\": \"heatmap\"}], \"heatmapgl\": [{\"colorbar\": {\"outlinewidth\": 0, \"ticks\": \"\"}, \"colorscale\": [[0.0, \"#0d0887\"], [0.1111111111111111, \"#46039f\"], [0.2222222222222222, \"#7201a8\"], [0.3333333333333333, \"#9c179e\"], [0.4444444444444444, \"#bd3786\"], [0.5555555555555556, \"#d8576b\"], [0.6666666666666666, \"#ed7953\"], [0.7777777777777778, \"#fb9f3a\"], [0.8888888888888888, \"#fdca26\"], [1.0, \"#f0f921\"]], \"type\": \"heatmapgl\"}], \"histogram\": [{\"marker\": {\"colorbar\": {\"outlinewidth\": 0, \"ticks\": \"\"}}, \"type\": \"histogram\"}], \"histogram2d\": [{\"colorbar\": {\"outlinewidth\": 0, \"ticks\": \"\"}, \"colorscale\": [[0.0, \"#0d0887\"], [0.1111111111111111, \"#46039f\"], [0.2222222222222222, \"#7201a8\"], [0.3333333333333333, \"#9c179e\"], [0.4444444444444444, \"#bd3786\"], [0.5555555555555556, \"#d8576b\"], [0.6666666666666666, \"#ed7953\"], [0.7777777777777778, \"#fb9f3a\"], [0.8888888888888888, \"#fdca26\"], [1.0, \"#f0f921\"]], \"type\": \"histogram2d\"}], \"histogram2dcontour\": [{\"colorbar\": {\"outlinewidth\": 0, \"ticks\": \"\"}, \"colorscale\": [[0.0, \"#0d0887\"], [0.1111111111111111, \"#46039f\"], [0.2222222222222222, \"#7201a8\"], [0.3333333333333333, \"#9c179e\"], [0.4444444444444444, \"#bd3786\"], [0.5555555555555556, \"#d8576b\"], [0.6666666666666666, \"#ed7953\"], [0.7777777777777778, \"#fb9f3a\"], [0.8888888888888888, \"#fdca26\"], [1.0, \"#f0f921\"]], \"type\": \"histogram2dcontour\"}], \"mesh3d\": [{\"colorbar\": {\"outlinewidth\": 0, \"ticks\": \"\"}, \"type\": \"mesh3d\"}], \"parcoords\": [{\"line\": {\"colorbar\": {\"outlinewidth\": 0, \"ticks\": \"\"}}, \"type\": \"parcoords\"}], \"pie\": [{\"automargin\": true, \"type\": \"pie\"}], \"scatter\": [{\"marker\": {\"colorbar\": {\"outlinewidth\": 0, \"ticks\": \"\"}}, \"type\": \"scatter\"}], \"scatter3d\": [{\"line\": {\"colorbar\": {\"outlinewidth\": 0, \"ticks\": \"\"}}, \"marker\": {\"colorbar\": {\"outlinewidth\": 0, \"ticks\": \"\"}}, \"type\": \"scatter3d\"}], \"scattercarpet\": [{\"marker\": {\"colorbar\": {\"outlinewidth\": 0, \"ticks\": \"\"}}, \"type\": \"scattercarpet\"}], \"scattergeo\": [{\"marker\": {\"colorbar\": {\"outlinewidth\": 0, \"ticks\": \"\"}}, \"type\": \"scattergeo\"}], \"scattergl\": [{\"marker\": {\"colorbar\": {\"outlinewidth\": 0, \"ticks\": \"\"}}, \"type\": \"scattergl\"}], \"scattermapbox\": [{\"marker\": {\"colorbar\": {\"outlinewidth\": 0, \"ticks\": \"\"}}, \"type\": \"scattermapbox\"}], \"scatterpolar\": [{\"marker\": {\"colorbar\": {\"outlinewidth\": 0, \"ticks\": \"\"}}, \"type\": \"scatterpolar\"}], \"scatterpolargl\": [{\"marker\": {\"colorbar\": {\"outlinewidth\": 0, \"ticks\": \"\"}}, \"type\": \"scatterpolargl\"}], \"scatterternary\": [{\"marker\": {\"colorbar\": {\"outlinewidth\": 0, \"ticks\": \"\"}}, \"type\": \"scatterternary\"}], \"surface\": [{\"colorbar\": {\"outlinewidth\": 0, \"ticks\": \"\"}, \"colorscale\": [[0.0, \"#0d0887\"], [0.1111111111111111, \"#46039f\"], [0.2222222222222222, \"#7201a8\"], [0.3333333333333333, \"#9c179e\"], [0.4444444444444444, \"#bd3786\"], [0.5555555555555556, \"#d8576b\"], [0.6666666666666666, \"#ed7953\"], [0.7777777777777778, \"#fb9f3a\"], [0.8888888888888888, \"#fdca26\"], [1.0, \"#f0f921\"]], \"type\": \"surface\"}], \"table\": [{\"cells\": {\"fill\": {\"color\": \"#EBF0F8\"}, \"line\": {\"color\": \"white\"}}, \"header\": {\"fill\": {\"color\": \"#C8D4E3\"}, \"line\": {\"color\": \"white\"}}, \"type\": \"table\"}]}, \"layout\": {\"annotationdefaults\": {\"arrowcolor\": \"#2a3f5f\", \"arrowhead\": 0, \"arrowwidth\": 1}, \"autotypenumbers\": \"strict\", \"coloraxis\": {\"colorbar\": {\"outlinewidth\": 0, \"ticks\": \"\"}}, \"colorscale\": {\"diverging\": [[0, \"#8e0152\"], [0.1, \"#c51b7d\"], [0.2, \"#de77ae\"], [0.3, \"#f1b6da\"], [0.4, \"#fde0ef\"], [0.5, \"#f7f7f7\"], [0.6, \"#e6f5d0\"], [0.7, \"#b8e186\"], [0.8, \"#7fbc41\"], [0.9, \"#4d9221\"], [1, \"#276419\"]], \"sequential\": [[0.0, \"#0d0887\"], [0.1111111111111111, \"#46039f\"], [0.2222222222222222, \"#7201a8\"], [0.3333333333333333, \"#9c179e\"], [0.4444444444444444, \"#bd3786\"], [0.5555555555555556, \"#d8576b\"], [0.6666666666666666, \"#ed7953\"], [0.7777777777777778, \"#fb9f3a\"], [0.8888888888888888, \"#fdca26\"], [1.0, \"#f0f921\"]], \"sequentialminus\": [[0.0, \"#0d0887\"], [0.1111111111111111, \"#46039f\"], [0.2222222222222222, \"#7201a8\"], [0.3333333333333333, \"#9c179e\"], [0.4444444444444444, \"#bd3786\"], [0.5555555555555556, \"#d8576b\"], [0.6666666666666666, \"#ed7953\"], [0.7777777777777778, \"#fb9f3a\"], [0.8888888888888888, \"#fdca26\"], [1.0, \"#f0f921\"]]}, \"colorway\": [\"#636efa\", \"#EF553B\", \"#00cc96\", \"#ab63fa\", \"#FFA15A\", \"#19d3f3\", \"#FF6692\", \"#B6E880\", \"#FF97FF\", \"#FECB52\"], \"font\": {\"color\": \"#2a3f5f\"}, \"geo\": {\"bgcolor\": \"white\", \"lakecolor\": \"white\", \"landcolor\": \"#E5ECF6\", \"showlakes\": true, \"showland\": true, \"subunitcolor\": \"white\"}, \"hoverlabel\": {\"align\": \"left\"}, \"hovermode\": \"closest\", \"mapbox\": {\"style\": \"light\"}, \"paper_bgcolor\": \"white\", \"plot_bgcolor\": \"#E5ECF6\", \"polar\": {\"angularaxis\": {\"gridcolor\": \"white\", \"linecolor\": \"white\", \"ticks\": \"\"}, \"bgcolor\": \"#E5ECF6\", \"radialaxis\": {\"gridcolor\": \"white\", \"linecolor\": \"white\", \"ticks\": \"\"}}, \"scene\": {\"xaxis\": {\"backgroundcolor\": \"#E5ECF6\", \"gridcolor\": \"white\", \"gridwidth\": 2, \"linecolor\": \"white\", \"showbackground\": true, \"ticks\": \"\", \"zerolinecolor\": \"white\"}, \"yaxis\": {\"backgroundcolor\": \"#E5ECF6\", \"gridcolor\": \"white\", \"gridwidth\": 2, \"linecolor\": \"white\", \"showbackground\": true, \"ticks\": \"\", \"zerolinecolor\": \"white\"}, \"zaxis\": {\"backgroundcolor\": \"#E5ECF6\", \"gridcolor\": \"white\", \"gridwidth\": 2, \"linecolor\": \"white\", \"showbackground\": true, \"ticks\": \"\", \"zerolinecolor\": \"white\"}}, \"shapedefaults\": {\"line\": {\"color\": \"#2a3f5f\"}}, \"ternary\": {\"aaxis\": {\"gridcolor\": \"white\", \"linecolor\": \"white\", \"ticks\": \"\"}, \"baxis\": {\"gridcolor\": \"white\", \"linecolor\": \"white\", \"ticks\": \"\"}, \"bgcolor\": \"#E5ECF6\", \"caxis\": {\"gridcolor\": \"white\", \"linecolor\": \"white\", \"ticks\": \"\"}}, \"title\": {\"x\": 0.05}, \"xaxis\": {\"automargin\": true, \"gridcolor\": \"white\", \"linecolor\": \"white\", \"ticks\": \"\", \"title\": {\"standoff\": 15}, \"zerolinecolor\": \"white\", \"zerolinewidth\": 2}, \"yaxis\": {\"automargin\": true, \"gridcolor\": \"white\", \"linecolor\": \"white\", \"ticks\": \"\", \"title\": {\"standoff\": 15}, \"zerolinecolor\": \"white\", \"zerolinewidth\": 2}}}, \"title\": {\"text\": \"Pareto Frontier\"}, \"width\": 750, \"xaxis\": {\"ticksuffix\": \"\", \"title\": {\"text\": \"a\"}, \"zeroline\": true}, \"yaxis\": {\"ticksuffix\": \"\", \"title\": {\"text\": \"b\"}, \"zeroline\": true}},                        {\"responsive\": true}                    ).then(function(){\n",
              "                            \n",
              "var gd = document.getElementById('71aebf4d-b27f-4f76-a569-331131f15e3e');\n",
              "var x = new MutationObserver(function (mutations, observer) {{\n",
              "        var display = window.getComputedStyle(gd).display;\n",
              "        if (!display || display === 'none') {{\n",
              "            console.log([gd, 'removed!']);\n",
              "            Plotly.purge(gd);\n",
              "            observer.disconnect();\n",
              "        }}\n",
              "}});\n",
              "\n",
              "// Listen for the removal of the full notebook cells\n",
              "var notebookContainer = gd.closest('#notebook-container');\n",
              "if (notebookContainer) {{\n",
              "    x.observe(notebookContainer, {childList: true});\n",
              "}}\n",
              "\n",
              "// Listen for the clearing of the current output cell\n",
              "var outputEl = gd.closest('.output');\n",
              "if (outputEl) {{\n",
              "    x.observe(outputEl, {childList: true});\n",
              "}}\n",
              "\n",
              "                        })                };                });            </script>        </div>"
            ]
          },
          "metadata": {},
          "output_type": "display_data"
        }
      ],
      "source": [
        "frontier = compute_posterior_pareto_frontier(\n",
        "    experiment=ehvi_experiment,\n",
        "    data=ehvi_experiment.fetch_data(),\n",
        "    primary_objective=metric_b,\n",
        "    secondary_objective=metric_a,\n",
        "    absolute_metrics=[\"a\", \"b\"],\n",
        "    num_points=20,\n",
        ")\n",
        "\n",
        "render(plot_pareto_frontier(frontier, CI_level=0.90)) "
      ]
    },
    {
      "cell_type": "markdown",
      "metadata": {
        "code_folding": [],
        "hidden_ranges": [],
        "originalKey": "77b2dbce-f1e4-443a-8f81-2e1cbe207301"
      },
      "source": [
        "## qParEGO\n",
        "This is a good alternative algorithm for multi-objective optimization when qEHVI runs too slowly or produces poor results."
      ]
    },
    {
      "cell_type": "code",
      "execution_count": 60,
      "metadata": {
        "code_folding": [],
        "hidden_ranges": [],
        "originalKey": "2f796182-558b-47aa-8072-4dbf40123133"
      },
      "outputs": [],
      "source": [
        "parego_experiment = build_experiment()\n",
        "parego_data = initialize_experiment(parego_experiment)"
      ]
    },
    {
      "cell_type": "code",
      "execution_count": 61,
      "metadata": {
        "code_folding": [],
        "hidden_ranges": [],
        "originalKey": "72999188-90f5-43e0-b1d9-d468e7d51191"
      },
      "outputs": [
        {
          "name": "stdout",
          "output_type": "stream",
          "text": [
            "Iteration: 0, HV: 0.0\n",
            "Iteration: 1, HV: 0.0\n",
            "Iteration: 2, HV: 0.0\n",
            "Iteration: 3, HV: 0.0\n",
            "Iteration: 4, HV: 0.0\n",
            "Iteration: 5, HV: 0.0\n",
            "Iteration: 6, HV: 0.0\n",
            "Iteration: 7, HV: 0.0\n",
            "Iteration: 8, HV: 2.3697957094742574\n",
            "Iteration: 9, HV: 2.3697957094742574\n",
            "Iteration: 10, HV: 35.25678965795691\n",
            "Iteration: 11, HV: 35.25678965795691\n",
            "Iteration: 12, HV: 35.25678965795691\n",
            "Iteration: 13, HV: 44.207483178637716\n",
            "Iteration: 14, HV: 44.207483178637716\n",
            "Iteration: 15, HV: 44.207483178637716\n",
            "Iteration: 16, HV: 44.207483178637716\n",
            "Iteration: 17, HV: 45.85116857020728\n",
            "Iteration: 18, HV: 45.85116857020728\n",
            "Iteration: 19, HV: 47.41538756028165\n",
            "Iteration: 20, HV: 47.41538756028165\n",
            "Iteration: 21, HV: 47.41538756028165\n",
            "Iteration: 22, HV: 47.41538756028165\n",
            "Iteration: 23, HV: 47.41538756028165\n",
            "Iteration: 24, HV: 47.46915684473784\n"
          ]
        }
      ],
      "source": [
        "parego_hv_list = []\n",
        "parego_model = None\n",
        "for i in range(N_BATCH):   \n",
        "    parego_model = get_MOO_PAREGO(\n",
        "        experiment=parego_experiment, \n",
        "        data=parego_data,\n",
        "    )\n",
        "    generator_run = parego_model.gen(1)\n",
        "    trial = parego_experiment.new_trial(generator_run=generator_run)\n",
        "    trial.run()\n",
        "    parego_data = Data.from_multiple_data([parego_data, trial.fetch_data()])\n",
        "    \n",
        "    exp_df = exp_to_df(parego_experiment)\n",
        "    outcomes = np.array(exp_df[['a', 'b']], dtype=np.double)\n",
        "    try:\n",
        "        hv = observed_hypervolume(modelbridge=parego_model)\n",
        "    except:\n",
        "        hv = 0\n",
        "        print(\"Failed to compute hv\")\n",
        "    parego_hv_list.append(hv)\n",
        "    print(f\"Iteration: {i}, HV: {hv}\")\n",
        "\n",
        "parego_outcomes = np.array(exp_to_df(parego_experiment)[['a', 'b']], dtype=np.double)"
      ]
    },
    {
      "cell_type": "markdown",
      "metadata": {
        "code_folding": [],
        "hidden_ranges": [],
        "originalKey": "67ded85f-7c58-4c31-8df5-b0d8d07e4299",
        "showInput": false
      },
      "source": [
        "## Plot qParEGO Pareto Frontier based on model posterior \n",
        "\n",
        "The plotted points are samples from the fitted model's posterior, not observed samples."
      ]
    },
    {
      "cell_type": "code",
      "execution_count": 62,
      "metadata": {
        "code_folding": [],
        "hidden_ranges": [],
        "originalKey": "3b1f39fd-ef75-4ea4-865b-f7b54b90da07"
      },
      "outputs": [
        {
          "data": {
            "application/vnd.plotly.v1+json": {
              "config": {
                "linkText": "Export to plot.ly",
                "plotlyServerURL": "https://plot.ly",
                "showLink": false
              },
              "data": [
                {
                  "error_x": {
                    "array": [
                      0.018573108572225255,
                      0.018573108572225255,
                      0.018573108572225255,
                      0.1575647653803645,
                      0.018573108572225255,
                      0.17372535103278317,
                      0.018573108572225255,
                      0.0463647534308818,
                      0.03384407619906268,
                      0.01857310840718881,
                      0.2831117011027297,
                      0.05475824860629733,
                      0.01857310840718881,
                      0.018573108902298144,
                      0.01857310840718881,
                      0.018573109067334587,
                      0.06032410894235947,
                      0.01857310824215236,
                      0.018573109562443905,
                      0.018573109067334587
                    ],
                    "color": "rgba(128,177,211,0.4)",
                    "thickness": 2,
                    "type": "data"
                  },
                  "error_y": {
                    "array": [
                      0.0008914932118765927,
                      0.0008914932118765927,
                      0.0008914932118765927,
                      0.013151783203936934,
                      0.0008914932197963538,
                      0.014269850419261439,
                      0.0008914932118765927,
                      0.003907698359997943,
                      0.0027429639330109716,
                      0.0008914932039568315,
                      0.020740216443595357,
                      0.004749235763691302,
                      0.0008914932019768913,
                      0.000891493213856533,
                      0.0008914931900972494,
                      0.0008914932217762941,
                      0.005272654714415296,
                      0.0008914932039568315,
                      0.0008914931940571299,
                      0.0008914932217762941
                    ],
                    "color": "rgba(128,177,211,0.4)",
                    "thickness": 2,
                    "type": "data"
                  },
                  "hoverinfo": "text",
                  "legendgroup": "mean",
                  "marker": {
                    "color": "rgba(128,177,211,1)"
                  },
                  "mode": "markers",
                  "name": "mean",
                  "text": [
                    "<b>Parameterization 0</b><br>b: -1.18 [-1.181, -1.180]<br>a: -17.508 [-17.527, -17.490]<br><br><em>Parameterization:</em><br>x1: 0.0<br>x2: 1.0",
                    "<b>Parameterization 1</b><br>b: -1.18 [-1.181, -1.180]<br>a: -17.508 [-17.527, -17.490]<br><br><em>Parameterization:</em><br>x1: 0.0<br>x2: 1.0",
                    "<b>Parameterization 2</b><br>b: -1.18 [-1.181, -1.180]<br>a: -17.508 [-17.527, -17.490]<br><br><em>Parameterization:</em><br>x1: 0.0<br>x2: 1.0",
                    "<b>Parameterization 3</b><br>b: -4.315 [-4.328, -4.302]<br>a: -2.193 [-2.351, -2.036]<br><br><em>Parameterization:</em><br>x1: 0.08323640596208935<br>x2: 0.9361230575200804",
                    "<b>Parameterization 4</b><br>b: -1.18 [-1.181, -1.180]<br>a: -17.508 [-17.527, -17.490]<br><br><em>Parameterization:</em><br>x1: 0.0<br>x2: 0.9999999999999998",
                    "<b>Parameterization 5</b><br>b: -4.368 [-4.383, -4.354]<br>a: -2.071 [-2.245, -1.897]<br><br><em>Parameterization:</em><br>x1: 0.08470750664444752<br>x2: 0.9320553635924309",
                    "<b>Parameterization 6</b><br>b: -1.18 [-1.181, -1.180]<br>a: -17.508 [-17.527, -17.490]<br><br><em>Parameterization:</em><br>x1: 0.0<br>x2: 1.0",
                    "<b>Parameterization 7</b><br>b: -2.171 [-2.175, -2.168]<br>a: -10.527 [-10.573, -10.480]<br><br><em>Parameterization:</em><br>x1: 0.024565444058812964<br>x2: 1.0",
                    "<b>Parameterization 8</b><br>b: -2.596 [-2.598, -2.593]<br>a: -8.117 [-8.151, -8.083]<br><br><em>Parameterization:</em><br>x1: 0.03565705417360618<br>x2: 1.0",
                    "<b>Parameterization 9</b><br>b: -1.18 [-1.181, -1.180]<br>a: -17.508 [-17.527, -17.490]<br><br><em>Parameterization:</em><br>x1: 0.0<br>x2: 0.9999999999999951",
                    "<b>Parameterization 10</b><br>b: -4.812 [-4.832, -4.791]<br>a: -1.19 [-1.473, -0.907]<br><br><em>Parameterization:</em><br>x1: 0.09728155746668456<br>x2: 0.8968472429355346",
                    "<b>Parameterization 11</b><br>b: -3.204 [-3.209, -3.199]<br>a: -5.365 [-5.419, -5.310]<br><br><em>Parameterization:</em><br>x1: 0.052785274933263425<br>x2: 1.0",
                    "<b>Parameterization 12</b><br>b: -1.18 [-1.181, -1.180]<br>a: -17.508 [-17.527, -17.490]<br><br><em>Parameterization:</em><br>x1: 5.328948933001685e-16<br>x2: 1.0",
                    "<b>Parameterization 13</b><br>b: -1.18 [-1.181, -1.180]<br>a: -17.508 [-17.527, -17.490]<br><br><em>Parameterization:</em><br>x1: 1.2105242960720685e-16<br>x2: 0.9999999999999998",
                    "<b>Parameterization 14</b><br>b: -1.18 [-1.181, -1.180]<br>a: -17.508 [-17.527, -17.490]<br><br><em>Parameterization:</em><br>x1: 1.3821414879818139e-15<br>x2: 0.9999999999999987",
                    "<b>Parameterization 15</b><br>b: -1.18 [-1.181, -1.180]<br>a: -17.508 [-17.527, -17.490]<br><br><em>Parameterization:</em><br>x1: 0.0<br>x2: 0.9999999999999999",
                    "<b>Parameterization 16</b><br>b: -3.142 [-3.147, -3.136]<br>a: -5.604 [-5.664, -5.544]<br><br><em>Parameterization:</em><br>x1: 0.050930917684741804<br>x2: 1.0",
                    "<b>Parameterization 17</b><br>b: -1.18 [-1.181, -1.180]<br>a: -17.508 [-17.527, -17.490]<br><br><em>Parameterization:</em><br>x1: 2.5599027876965584e-15<br>x2: 0.9999999999999994",
                    "<b>Parameterization 18</b><br>b: -1.18 [-1.181, -1.180]<br>a: -17.508 [-17.527, -17.490]<br><br><em>Parameterization:</em><br>x1: 0.0<br>x2: 0.9999999999999996",
                    "<b>Parameterization 19</b><br>b: -1.18 [-1.181, -1.180]<br>a: -17.508 [-17.527, -17.490]<br><br><em>Parameterization:</em><br>x1: 0.0<br>x2: 0.9999999999999999"
                  ],
                  "type": "scatter",
                  "x": [
                    -17.50844310649794,
                    -17.50844310649794,
                    -17.50844310649794,
                    -2.1931414962748264,
                    -17.508443106499463,
                    -2.0708815178046933,
                    -17.50844310649794,
                    -10.526695134873272,
                    -8.116918651991533,
                    -17.508443106500952,
                    -1.1899404951424728,
                    -5.364546645044889,
                    -17.508443106491246,
                    -17.508443106501492,
                    -17.50844310649058,
                    -17.508443106501492,
                    -5.603858744226322,
                    -17.50844310649026,
                    -17.508443106499907,
                    -17.508443106501492
                  ],
                  "y": [
                    -1.1804122980557343,
                    -1.1804122980557343,
                    -1.1804122980557343,
                    -4.315176702603539,
                    -1.1804122980556873,
                    -4.368311752006074,
                    -1.1804122980557343,
                    -2.1714222508679217,
                    -2.5957437800899514,
                    -1.180412298055721,
                    -4.811542321375504,
                    -3.204169399658802,
                    -1.1804122980556384,
                    -1.1804122980557423,
                    -1.1804122980558516,
                    -1.1804122980557832,
                    -3.1415248158734346,
                    -1.1804122980557574,
                    -1.1804122980556144,
                    -1.1804122980557832
                  ]
                }
              ],
              "layout": {
                "height": 500,
                "hovermode": "closest",
                "legend": {
                  "orientation": "h"
                },
                "margin": {
                  "b": 75,
                  "l": 225,
                  "pad": 4,
                  "t": 75
                },
                "template": {
                  "data": {
                    "bar": [
                      {
                        "error_x": {
                          "color": "#2a3f5f"
                        },
                        "error_y": {
                          "color": "#2a3f5f"
                        },
                        "marker": {
                          "line": {
                            "color": "#E5ECF6",
                            "width": 0.5
                          }
                        },
                        "type": "bar"
                      }
                    ],
                    "barpolar": [
                      {
                        "marker": {
                          "line": {
                            "color": "#E5ECF6",
                            "width": 0.5
                          }
                        },
                        "type": "barpolar"
                      }
                    ],
                    "carpet": [
                      {
                        "aaxis": {
                          "endlinecolor": "#2a3f5f",
                          "gridcolor": "white",
                          "linecolor": "white",
                          "minorgridcolor": "white",
                          "startlinecolor": "#2a3f5f"
                        },
                        "baxis": {
                          "endlinecolor": "#2a3f5f",
                          "gridcolor": "white",
                          "linecolor": "white",
                          "minorgridcolor": "white",
                          "startlinecolor": "#2a3f5f"
                        },
                        "type": "carpet"
                      }
                    ],
                    "choropleth": [
                      {
                        "colorbar": {
                          "outlinewidth": 0,
                          "ticks": ""
                        },
                        "type": "choropleth"
                      }
                    ],
                    "contour": [
                      {
                        "colorbar": {
                          "outlinewidth": 0,
                          "ticks": ""
                        },
                        "colorscale": [
                          [
                            0,
                            "#0d0887"
                          ],
                          [
                            0.1111111111111111,
                            "#46039f"
                          ],
                          [
                            0.2222222222222222,
                            "#7201a8"
                          ],
                          [
                            0.3333333333333333,
                            "#9c179e"
                          ],
                          [
                            0.4444444444444444,
                            "#bd3786"
                          ],
                          [
                            0.5555555555555556,
                            "#d8576b"
                          ],
                          [
                            0.6666666666666666,
                            "#ed7953"
                          ],
                          [
                            0.7777777777777778,
                            "#fb9f3a"
                          ],
                          [
                            0.8888888888888888,
                            "#fdca26"
                          ],
                          [
                            1,
                            "#f0f921"
                          ]
                        ],
                        "type": "contour"
                      }
                    ],
                    "contourcarpet": [
                      {
                        "colorbar": {
                          "outlinewidth": 0,
                          "ticks": ""
                        },
                        "type": "contourcarpet"
                      }
                    ],
                    "heatmap": [
                      {
                        "colorbar": {
                          "outlinewidth": 0,
                          "ticks": ""
                        },
                        "colorscale": [
                          [
                            0,
                            "#0d0887"
                          ],
                          [
                            0.1111111111111111,
                            "#46039f"
                          ],
                          [
                            0.2222222222222222,
                            "#7201a8"
                          ],
                          [
                            0.3333333333333333,
                            "#9c179e"
                          ],
                          [
                            0.4444444444444444,
                            "#bd3786"
                          ],
                          [
                            0.5555555555555556,
                            "#d8576b"
                          ],
                          [
                            0.6666666666666666,
                            "#ed7953"
                          ],
                          [
                            0.7777777777777778,
                            "#fb9f3a"
                          ],
                          [
                            0.8888888888888888,
                            "#fdca26"
                          ],
                          [
                            1,
                            "#f0f921"
                          ]
                        ],
                        "type": "heatmap"
                      }
                    ],
                    "heatmapgl": [
                      {
                        "colorbar": {
                          "outlinewidth": 0,
                          "ticks": ""
                        },
                        "colorscale": [
                          [
                            0,
                            "#0d0887"
                          ],
                          [
                            0.1111111111111111,
                            "#46039f"
                          ],
                          [
                            0.2222222222222222,
                            "#7201a8"
                          ],
                          [
                            0.3333333333333333,
                            "#9c179e"
                          ],
                          [
                            0.4444444444444444,
                            "#bd3786"
                          ],
                          [
                            0.5555555555555556,
                            "#d8576b"
                          ],
                          [
                            0.6666666666666666,
                            "#ed7953"
                          ],
                          [
                            0.7777777777777778,
                            "#fb9f3a"
                          ],
                          [
                            0.8888888888888888,
                            "#fdca26"
                          ],
                          [
                            1,
                            "#f0f921"
                          ]
                        ],
                        "type": "heatmapgl"
                      }
                    ],
                    "histogram": [
                      {
                        "marker": {
                          "colorbar": {
                            "outlinewidth": 0,
                            "ticks": ""
                          }
                        },
                        "type": "histogram"
                      }
                    ],
                    "histogram2d": [
                      {
                        "colorbar": {
                          "outlinewidth": 0,
                          "ticks": ""
                        },
                        "colorscale": [
                          [
                            0,
                            "#0d0887"
                          ],
                          [
                            0.1111111111111111,
                            "#46039f"
                          ],
                          [
                            0.2222222222222222,
                            "#7201a8"
                          ],
                          [
                            0.3333333333333333,
                            "#9c179e"
                          ],
                          [
                            0.4444444444444444,
                            "#bd3786"
                          ],
                          [
                            0.5555555555555556,
                            "#d8576b"
                          ],
                          [
                            0.6666666666666666,
                            "#ed7953"
                          ],
                          [
                            0.7777777777777778,
                            "#fb9f3a"
                          ],
                          [
                            0.8888888888888888,
                            "#fdca26"
                          ],
                          [
                            1,
                            "#f0f921"
                          ]
                        ],
                        "type": "histogram2d"
                      }
                    ],
                    "histogram2dcontour": [
                      {
                        "colorbar": {
                          "outlinewidth": 0,
                          "ticks": ""
                        },
                        "colorscale": [
                          [
                            0,
                            "#0d0887"
                          ],
                          [
                            0.1111111111111111,
                            "#46039f"
                          ],
                          [
                            0.2222222222222222,
                            "#7201a8"
                          ],
                          [
                            0.3333333333333333,
                            "#9c179e"
                          ],
                          [
                            0.4444444444444444,
                            "#bd3786"
                          ],
                          [
                            0.5555555555555556,
                            "#d8576b"
                          ],
                          [
                            0.6666666666666666,
                            "#ed7953"
                          ],
                          [
                            0.7777777777777778,
                            "#fb9f3a"
                          ],
                          [
                            0.8888888888888888,
                            "#fdca26"
                          ],
                          [
                            1,
                            "#f0f921"
                          ]
                        ],
                        "type": "histogram2dcontour"
                      }
                    ],
                    "mesh3d": [
                      {
                        "colorbar": {
                          "outlinewidth": 0,
                          "ticks": ""
                        },
                        "type": "mesh3d"
                      }
                    ],
                    "parcoords": [
                      {
                        "line": {
                          "colorbar": {
                            "outlinewidth": 0,
                            "ticks": ""
                          }
                        },
                        "type": "parcoords"
                      }
                    ],
                    "pie": [
                      {
                        "automargin": true,
                        "type": "pie"
                      }
                    ],
                    "scatter": [
                      {
                        "marker": {
                          "colorbar": {
                            "outlinewidth": 0,
                            "ticks": ""
                          }
                        },
                        "type": "scatter"
                      }
                    ],
                    "scatter3d": [
                      {
                        "line": {
                          "colorbar": {
                            "outlinewidth": 0,
                            "ticks": ""
                          }
                        },
                        "marker": {
                          "colorbar": {
                            "outlinewidth": 0,
                            "ticks": ""
                          }
                        },
                        "type": "scatter3d"
                      }
                    ],
                    "scattercarpet": [
                      {
                        "marker": {
                          "colorbar": {
                            "outlinewidth": 0,
                            "ticks": ""
                          }
                        },
                        "type": "scattercarpet"
                      }
                    ],
                    "scattergeo": [
                      {
                        "marker": {
                          "colorbar": {
                            "outlinewidth": 0,
                            "ticks": ""
                          }
                        },
                        "type": "scattergeo"
                      }
                    ],
                    "scattergl": [
                      {
                        "marker": {
                          "colorbar": {
                            "outlinewidth": 0,
                            "ticks": ""
                          }
                        },
                        "type": "scattergl"
                      }
                    ],
                    "scattermapbox": [
                      {
                        "marker": {
                          "colorbar": {
                            "outlinewidth": 0,
                            "ticks": ""
                          }
                        },
                        "type": "scattermapbox"
                      }
                    ],
                    "scatterpolar": [
                      {
                        "marker": {
                          "colorbar": {
                            "outlinewidth": 0,
                            "ticks": ""
                          }
                        },
                        "type": "scatterpolar"
                      }
                    ],
                    "scatterpolargl": [
                      {
                        "marker": {
                          "colorbar": {
                            "outlinewidth": 0,
                            "ticks": ""
                          }
                        },
                        "type": "scatterpolargl"
                      }
                    ],
                    "scatterternary": [
                      {
                        "marker": {
                          "colorbar": {
                            "outlinewidth": 0,
                            "ticks": ""
                          }
                        },
                        "type": "scatterternary"
                      }
                    ],
                    "surface": [
                      {
                        "colorbar": {
                          "outlinewidth": 0,
                          "ticks": ""
                        },
                        "colorscale": [
                          [
                            0,
                            "#0d0887"
                          ],
                          [
                            0.1111111111111111,
                            "#46039f"
                          ],
                          [
                            0.2222222222222222,
                            "#7201a8"
                          ],
                          [
                            0.3333333333333333,
                            "#9c179e"
                          ],
                          [
                            0.4444444444444444,
                            "#bd3786"
                          ],
                          [
                            0.5555555555555556,
                            "#d8576b"
                          ],
                          [
                            0.6666666666666666,
                            "#ed7953"
                          ],
                          [
                            0.7777777777777778,
                            "#fb9f3a"
                          ],
                          [
                            0.8888888888888888,
                            "#fdca26"
                          ],
                          [
                            1,
                            "#f0f921"
                          ]
                        ],
                        "type": "surface"
                      }
                    ],
                    "table": [
                      {
                        "cells": {
                          "fill": {
                            "color": "#EBF0F8"
                          },
                          "line": {
                            "color": "white"
                          }
                        },
                        "header": {
                          "fill": {
                            "color": "#C8D4E3"
                          },
                          "line": {
                            "color": "white"
                          }
                        },
                        "type": "table"
                      }
                    ]
                  },
                  "layout": {
                    "annotationdefaults": {
                      "arrowcolor": "#2a3f5f",
                      "arrowhead": 0,
                      "arrowwidth": 1
                    },
                    "autotypenumbers": "strict",
                    "coloraxis": {
                      "colorbar": {
                        "outlinewidth": 0,
                        "ticks": ""
                      }
                    },
                    "colorscale": {
                      "diverging": [
                        [
                          0,
                          "#8e0152"
                        ],
                        [
                          0.1,
                          "#c51b7d"
                        ],
                        [
                          0.2,
                          "#de77ae"
                        ],
                        [
                          0.3,
                          "#f1b6da"
                        ],
                        [
                          0.4,
                          "#fde0ef"
                        ],
                        [
                          0.5,
                          "#f7f7f7"
                        ],
                        [
                          0.6,
                          "#e6f5d0"
                        ],
                        [
                          0.7,
                          "#b8e186"
                        ],
                        [
                          0.8,
                          "#7fbc41"
                        ],
                        [
                          0.9,
                          "#4d9221"
                        ],
                        [
                          1,
                          "#276419"
                        ]
                      ],
                      "sequential": [
                        [
                          0,
                          "#0d0887"
                        ],
                        [
                          0.1111111111111111,
                          "#46039f"
                        ],
                        [
                          0.2222222222222222,
                          "#7201a8"
                        ],
                        [
                          0.3333333333333333,
                          "#9c179e"
                        ],
                        [
                          0.4444444444444444,
                          "#bd3786"
                        ],
                        [
                          0.5555555555555556,
                          "#d8576b"
                        ],
                        [
                          0.6666666666666666,
                          "#ed7953"
                        ],
                        [
                          0.7777777777777778,
                          "#fb9f3a"
                        ],
                        [
                          0.8888888888888888,
                          "#fdca26"
                        ],
                        [
                          1,
                          "#f0f921"
                        ]
                      ],
                      "sequentialminus": [
                        [
                          0,
                          "#0d0887"
                        ],
                        [
                          0.1111111111111111,
                          "#46039f"
                        ],
                        [
                          0.2222222222222222,
                          "#7201a8"
                        ],
                        [
                          0.3333333333333333,
                          "#9c179e"
                        ],
                        [
                          0.4444444444444444,
                          "#bd3786"
                        ],
                        [
                          0.5555555555555556,
                          "#d8576b"
                        ],
                        [
                          0.6666666666666666,
                          "#ed7953"
                        ],
                        [
                          0.7777777777777778,
                          "#fb9f3a"
                        ],
                        [
                          0.8888888888888888,
                          "#fdca26"
                        ],
                        [
                          1,
                          "#f0f921"
                        ]
                      ]
                    },
                    "colorway": [
                      "#636efa",
                      "#EF553B",
                      "#00cc96",
                      "#ab63fa",
                      "#FFA15A",
                      "#19d3f3",
                      "#FF6692",
                      "#B6E880",
                      "#FF97FF",
                      "#FECB52"
                    ],
                    "font": {
                      "color": "#2a3f5f"
                    },
                    "geo": {
                      "bgcolor": "white",
                      "lakecolor": "white",
                      "landcolor": "#E5ECF6",
                      "showlakes": true,
                      "showland": true,
                      "subunitcolor": "white"
                    },
                    "hoverlabel": {
                      "align": "left"
                    },
                    "hovermode": "closest",
                    "mapbox": {
                      "style": "light"
                    },
                    "paper_bgcolor": "white",
                    "plot_bgcolor": "#E5ECF6",
                    "polar": {
                      "angularaxis": {
                        "gridcolor": "white",
                        "linecolor": "white",
                        "ticks": ""
                      },
                      "bgcolor": "#E5ECF6",
                      "radialaxis": {
                        "gridcolor": "white",
                        "linecolor": "white",
                        "ticks": ""
                      }
                    },
                    "scene": {
                      "xaxis": {
                        "backgroundcolor": "#E5ECF6",
                        "gridcolor": "white",
                        "gridwidth": 2,
                        "linecolor": "white",
                        "showbackground": true,
                        "ticks": "",
                        "zerolinecolor": "white"
                      },
                      "yaxis": {
                        "backgroundcolor": "#E5ECF6",
                        "gridcolor": "white",
                        "gridwidth": 2,
                        "linecolor": "white",
                        "showbackground": true,
                        "ticks": "",
                        "zerolinecolor": "white"
                      },
                      "zaxis": {
                        "backgroundcolor": "#E5ECF6",
                        "gridcolor": "white",
                        "gridwidth": 2,
                        "linecolor": "white",
                        "showbackground": true,
                        "ticks": "",
                        "zerolinecolor": "white"
                      }
                    },
                    "shapedefaults": {
                      "line": {
                        "color": "#2a3f5f"
                      }
                    },
                    "ternary": {
                      "aaxis": {
                        "gridcolor": "white",
                        "linecolor": "white",
                        "ticks": ""
                      },
                      "baxis": {
                        "gridcolor": "white",
                        "linecolor": "white",
                        "ticks": ""
                      },
                      "bgcolor": "#E5ECF6",
                      "caxis": {
                        "gridcolor": "white",
                        "linecolor": "white",
                        "ticks": ""
                      }
                    },
                    "title": {
                      "x": 0.05
                    },
                    "xaxis": {
                      "automargin": true,
                      "gridcolor": "white",
                      "linecolor": "white",
                      "ticks": "",
                      "title": {
                        "standoff": 15
                      },
                      "zerolinecolor": "white",
                      "zerolinewidth": 2
                    },
                    "yaxis": {
                      "automargin": true,
                      "gridcolor": "white",
                      "linecolor": "white",
                      "ticks": "",
                      "title": {
                        "standoff": 15
                      },
                      "zerolinecolor": "white",
                      "zerolinewidth": 2
                    }
                  }
                },
                "title": {
                  "text": "Pareto Frontier"
                },
                "width": 750,
                "xaxis": {
                  "ticksuffix": "",
                  "title": {
                    "text": "a"
                  },
                  "zeroline": true
                },
                "yaxis": {
                  "ticksuffix": "",
                  "title": {
                    "text": "b"
                  },
                  "zeroline": true
                }
              }
            },
            "text/html": [
              "<div>                            <div id=\"70751fb8-8f70-43c3-a655-47d1081c2087\" class=\"plotly-graph-div\" style=\"height:500px; width:750px;\"></div>            <script type=\"text/javascript\">                require([\"plotly\"], function(Plotly) {                    window.PLOTLYENV=window.PLOTLYENV || {};                                    if (document.getElementById(\"70751fb8-8f70-43c3-a655-47d1081c2087\")) {                    Plotly.newPlot(                        \"70751fb8-8f70-43c3-a655-47d1081c2087\",                        [{\"error_x\": {\"array\": [0.018573108572225255, 0.018573108572225255, 0.018573108572225255, 0.1575647653803645, 0.018573108572225255, 0.17372535103278317, 0.018573108572225255, 0.0463647534308818, 0.03384407619906268, 0.01857310840718881, 0.2831117011027297, 0.05475824860629733, 0.01857310840718881, 0.018573108902298144, 0.01857310840718881, 0.018573109067334587, 0.06032410894235947, 0.01857310824215236, 0.018573109562443905, 0.018573109067334587], \"color\": \"rgba(128,177,211,0.4)\", \"thickness\": 2, \"type\": \"data\"}, \"error_y\": {\"array\": [0.0008914932118765927, 0.0008914932118765927, 0.0008914932118765927, 0.013151783203936934, 0.0008914932197963538, 0.014269850419261439, 0.0008914932118765927, 0.003907698359997943, 0.0027429639330109716, 0.0008914932039568315, 0.020740216443595357, 0.004749235763691302, 0.0008914932019768913, 0.000891493213856533, 0.0008914931900972494, 0.0008914932217762941, 0.005272654714415296, 0.0008914932039568315, 0.0008914931940571299, 0.0008914932217762941], \"color\": \"rgba(128,177,211,0.4)\", \"thickness\": 2, \"type\": \"data\"}, \"hoverinfo\": \"text\", \"legendgroup\": \"mean\", \"marker\": {\"color\": \"rgba(128,177,211,1)\"}, \"mode\": \"markers\", \"name\": \"mean\", \"text\": [\"<b>Parameterization 0</b><br>b: -1.18 [-1.181, -1.180]<br>a: -17.508 [-17.527, -17.490]<br><br><em>Parameterization:</em><br>x1: 0.0<br>x2: 1.0\", \"<b>Parameterization 1</b><br>b: -1.18 [-1.181, -1.180]<br>a: -17.508 [-17.527, -17.490]<br><br><em>Parameterization:</em><br>x1: 0.0<br>x2: 1.0\", \"<b>Parameterization 2</b><br>b: -1.18 [-1.181, -1.180]<br>a: -17.508 [-17.527, -17.490]<br><br><em>Parameterization:</em><br>x1: 0.0<br>x2: 1.0\", \"<b>Parameterization 3</b><br>b: -4.315 [-4.328, -4.302]<br>a: -2.193 [-2.351, -2.036]<br><br><em>Parameterization:</em><br>x1: 0.08323640596208935<br>x2: 0.9361230575200804\", \"<b>Parameterization 4</b><br>b: -1.18 [-1.181, -1.180]<br>a: -17.508 [-17.527, -17.490]<br><br><em>Parameterization:</em><br>x1: 0.0<br>x2: 0.9999999999999998\", \"<b>Parameterization 5</b><br>b: -4.368 [-4.383, -4.354]<br>a: -2.071 [-2.245, -1.897]<br><br><em>Parameterization:</em><br>x1: 0.08470750664444752<br>x2: 0.9320553635924309\", \"<b>Parameterization 6</b><br>b: -1.18 [-1.181, -1.180]<br>a: -17.508 [-17.527, -17.490]<br><br><em>Parameterization:</em><br>x1: 0.0<br>x2: 1.0\", \"<b>Parameterization 7</b><br>b: -2.171 [-2.175, -2.168]<br>a: -10.527 [-10.573, -10.480]<br><br><em>Parameterization:</em><br>x1: 0.024565444058812964<br>x2: 1.0\", \"<b>Parameterization 8</b><br>b: -2.596 [-2.598, -2.593]<br>a: -8.117 [-8.151, -8.083]<br><br><em>Parameterization:</em><br>x1: 0.03565705417360618<br>x2: 1.0\", \"<b>Parameterization 9</b><br>b: -1.18 [-1.181, -1.180]<br>a: -17.508 [-17.527, -17.490]<br><br><em>Parameterization:</em><br>x1: 0.0<br>x2: 0.9999999999999951\", \"<b>Parameterization 10</b><br>b: -4.812 [-4.832, -4.791]<br>a: -1.19 [-1.473, -0.907]<br><br><em>Parameterization:</em><br>x1: 0.09728155746668456<br>x2: 0.8968472429355346\", \"<b>Parameterization 11</b><br>b: -3.204 [-3.209, -3.199]<br>a: -5.365 [-5.419, -5.310]<br><br><em>Parameterization:</em><br>x1: 0.052785274933263425<br>x2: 1.0\", \"<b>Parameterization 12</b><br>b: -1.18 [-1.181, -1.180]<br>a: -17.508 [-17.527, -17.490]<br><br><em>Parameterization:</em><br>x1: 5.328948933001685e-16<br>x2: 1.0\", \"<b>Parameterization 13</b><br>b: -1.18 [-1.181, -1.180]<br>a: -17.508 [-17.527, -17.490]<br><br><em>Parameterization:</em><br>x1: 1.2105242960720685e-16<br>x2: 0.9999999999999998\", \"<b>Parameterization 14</b><br>b: -1.18 [-1.181, -1.180]<br>a: -17.508 [-17.527, -17.490]<br><br><em>Parameterization:</em><br>x1: 1.3821414879818139e-15<br>x2: 0.9999999999999987\", \"<b>Parameterization 15</b><br>b: -1.18 [-1.181, -1.180]<br>a: -17.508 [-17.527, -17.490]<br><br><em>Parameterization:</em><br>x1: 0.0<br>x2: 0.9999999999999999\", \"<b>Parameterization 16</b><br>b: -3.142 [-3.147, -3.136]<br>a: -5.604 [-5.664, -5.544]<br><br><em>Parameterization:</em><br>x1: 0.050930917684741804<br>x2: 1.0\", \"<b>Parameterization 17</b><br>b: -1.18 [-1.181, -1.180]<br>a: -17.508 [-17.527, -17.490]<br><br><em>Parameterization:</em><br>x1: 2.5599027876965584e-15<br>x2: 0.9999999999999994\", \"<b>Parameterization 18</b><br>b: -1.18 [-1.181, -1.180]<br>a: -17.508 [-17.527, -17.490]<br><br><em>Parameterization:</em><br>x1: 0.0<br>x2: 0.9999999999999996\", \"<b>Parameterization 19</b><br>b: -1.18 [-1.181, -1.180]<br>a: -17.508 [-17.527, -17.490]<br><br><em>Parameterization:</em><br>x1: 0.0<br>x2: 0.9999999999999999\"], \"type\": \"scatter\", \"x\": [-17.50844310649794, -17.50844310649794, -17.50844310649794, -2.1931414962748264, -17.508443106499463, -2.0708815178046933, -17.50844310649794, -10.526695134873272, -8.116918651991533, -17.508443106500952, -1.1899404951424728, -5.364546645044889, -17.508443106491246, -17.508443106501492, -17.50844310649058, -17.508443106501492, -5.603858744226322, -17.50844310649026, -17.508443106499907, -17.508443106501492], \"y\": [-1.1804122980557343, -1.1804122980557343, -1.1804122980557343, -4.315176702603539, -1.1804122980556873, -4.368311752006074, -1.1804122980557343, -2.1714222508679217, -2.5957437800899514, -1.180412298055721, -4.811542321375504, -3.204169399658802, -1.1804122980556384, -1.1804122980557423, -1.1804122980558516, -1.1804122980557832, -3.1415248158734346, -1.1804122980557574, -1.1804122980556144, -1.1804122980557832]}],                        {\"height\": 500, \"hovermode\": \"closest\", \"legend\": {\"orientation\": \"h\"}, \"margin\": {\"b\": 75, \"l\": 225, \"pad\": 4, \"t\": 75}, \"template\": {\"data\": {\"bar\": [{\"error_x\": {\"color\": \"#2a3f5f\"}, \"error_y\": {\"color\": \"#2a3f5f\"}, \"marker\": {\"line\": {\"color\": \"#E5ECF6\", \"width\": 0.5}}, \"type\": \"bar\"}], \"barpolar\": [{\"marker\": {\"line\": {\"color\": \"#E5ECF6\", \"width\": 0.5}}, \"type\": \"barpolar\"}], \"carpet\": [{\"aaxis\": {\"endlinecolor\": \"#2a3f5f\", \"gridcolor\": \"white\", \"linecolor\": \"white\", \"minorgridcolor\": \"white\", \"startlinecolor\": \"#2a3f5f\"}, \"baxis\": {\"endlinecolor\": \"#2a3f5f\", \"gridcolor\": \"white\", \"linecolor\": \"white\", \"minorgridcolor\": \"white\", \"startlinecolor\": \"#2a3f5f\"}, \"type\": \"carpet\"}], \"choropleth\": [{\"colorbar\": {\"outlinewidth\": 0, \"ticks\": \"\"}, \"type\": \"choropleth\"}], \"contour\": [{\"colorbar\": {\"outlinewidth\": 0, \"ticks\": \"\"}, \"colorscale\": [[0.0, \"#0d0887\"], [0.1111111111111111, \"#46039f\"], [0.2222222222222222, \"#7201a8\"], [0.3333333333333333, \"#9c179e\"], [0.4444444444444444, \"#bd3786\"], [0.5555555555555556, \"#d8576b\"], [0.6666666666666666, \"#ed7953\"], [0.7777777777777778, \"#fb9f3a\"], [0.8888888888888888, \"#fdca26\"], [1.0, \"#f0f921\"]], \"type\": \"contour\"}], \"contourcarpet\": [{\"colorbar\": {\"outlinewidth\": 0, \"ticks\": \"\"}, \"type\": \"contourcarpet\"}], \"heatmap\": [{\"colorbar\": {\"outlinewidth\": 0, \"ticks\": \"\"}, \"colorscale\": [[0.0, \"#0d0887\"], [0.1111111111111111, \"#46039f\"], [0.2222222222222222, \"#7201a8\"], [0.3333333333333333, \"#9c179e\"], [0.4444444444444444, \"#bd3786\"], [0.5555555555555556, \"#d8576b\"], [0.6666666666666666, \"#ed7953\"], [0.7777777777777778, \"#fb9f3a\"], [0.8888888888888888, \"#fdca26\"], [1.0, \"#f0f921\"]], \"type\": \"heatmap\"}], \"heatmapgl\": [{\"colorbar\": {\"outlinewidth\": 0, \"ticks\": \"\"}, \"colorscale\": [[0.0, \"#0d0887\"], [0.1111111111111111, \"#46039f\"], [0.2222222222222222, \"#7201a8\"], [0.3333333333333333, \"#9c179e\"], [0.4444444444444444, \"#bd3786\"], [0.5555555555555556, \"#d8576b\"], [0.6666666666666666, \"#ed7953\"], [0.7777777777777778, \"#fb9f3a\"], [0.8888888888888888, \"#fdca26\"], [1.0, \"#f0f921\"]], \"type\": \"heatmapgl\"}], \"histogram\": [{\"marker\": {\"colorbar\": {\"outlinewidth\": 0, \"ticks\": \"\"}}, \"type\": \"histogram\"}], \"histogram2d\": [{\"colorbar\": {\"outlinewidth\": 0, \"ticks\": \"\"}, \"colorscale\": [[0.0, \"#0d0887\"], [0.1111111111111111, \"#46039f\"], [0.2222222222222222, \"#7201a8\"], [0.3333333333333333, \"#9c179e\"], [0.4444444444444444, \"#bd3786\"], [0.5555555555555556, \"#d8576b\"], [0.6666666666666666, \"#ed7953\"], [0.7777777777777778, \"#fb9f3a\"], [0.8888888888888888, \"#fdca26\"], [1.0, \"#f0f921\"]], \"type\": \"histogram2d\"}], \"histogram2dcontour\": [{\"colorbar\": {\"outlinewidth\": 0, \"ticks\": \"\"}, \"colorscale\": [[0.0, \"#0d0887\"], [0.1111111111111111, \"#46039f\"], [0.2222222222222222, \"#7201a8\"], [0.3333333333333333, \"#9c179e\"], [0.4444444444444444, \"#bd3786\"], [0.5555555555555556, \"#d8576b\"], [0.6666666666666666, \"#ed7953\"], [0.7777777777777778, \"#fb9f3a\"], [0.8888888888888888, \"#fdca26\"], [1.0, \"#f0f921\"]], \"type\": \"histogram2dcontour\"}], \"mesh3d\": [{\"colorbar\": {\"outlinewidth\": 0, \"ticks\": \"\"}, \"type\": \"mesh3d\"}], \"parcoords\": [{\"line\": {\"colorbar\": {\"outlinewidth\": 0, \"ticks\": \"\"}}, \"type\": \"parcoords\"}], \"pie\": [{\"automargin\": true, \"type\": \"pie\"}], \"scatter\": [{\"marker\": {\"colorbar\": {\"outlinewidth\": 0, \"ticks\": \"\"}}, \"type\": \"scatter\"}], \"scatter3d\": [{\"line\": {\"colorbar\": {\"outlinewidth\": 0, \"ticks\": \"\"}}, \"marker\": {\"colorbar\": {\"outlinewidth\": 0, \"ticks\": \"\"}}, \"type\": \"scatter3d\"}], \"scattercarpet\": [{\"marker\": {\"colorbar\": {\"outlinewidth\": 0, \"ticks\": \"\"}}, \"type\": \"scattercarpet\"}], \"scattergeo\": [{\"marker\": {\"colorbar\": {\"outlinewidth\": 0, \"ticks\": \"\"}}, \"type\": \"scattergeo\"}], \"scattergl\": [{\"marker\": {\"colorbar\": {\"outlinewidth\": 0, \"ticks\": \"\"}}, \"type\": \"scattergl\"}], \"scattermapbox\": [{\"marker\": {\"colorbar\": {\"outlinewidth\": 0, \"ticks\": \"\"}}, \"type\": \"scattermapbox\"}], \"scatterpolar\": [{\"marker\": {\"colorbar\": {\"outlinewidth\": 0, \"ticks\": \"\"}}, \"type\": \"scatterpolar\"}], \"scatterpolargl\": [{\"marker\": {\"colorbar\": {\"outlinewidth\": 0, \"ticks\": \"\"}}, \"type\": \"scatterpolargl\"}], \"scatterternary\": [{\"marker\": {\"colorbar\": {\"outlinewidth\": 0, \"ticks\": \"\"}}, \"type\": \"scatterternary\"}], \"surface\": [{\"colorbar\": {\"outlinewidth\": 0, \"ticks\": \"\"}, \"colorscale\": [[0.0, \"#0d0887\"], [0.1111111111111111, \"#46039f\"], [0.2222222222222222, \"#7201a8\"], [0.3333333333333333, \"#9c179e\"], [0.4444444444444444, \"#bd3786\"], [0.5555555555555556, \"#d8576b\"], [0.6666666666666666, \"#ed7953\"], [0.7777777777777778, \"#fb9f3a\"], [0.8888888888888888, \"#fdca26\"], [1.0, \"#f0f921\"]], \"type\": \"surface\"}], \"table\": [{\"cells\": {\"fill\": {\"color\": \"#EBF0F8\"}, \"line\": {\"color\": \"white\"}}, \"header\": {\"fill\": {\"color\": \"#C8D4E3\"}, \"line\": {\"color\": \"white\"}}, \"type\": \"table\"}]}, \"layout\": {\"annotationdefaults\": {\"arrowcolor\": \"#2a3f5f\", \"arrowhead\": 0, \"arrowwidth\": 1}, \"autotypenumbers\": \"strict\", \"coloraxis\": {\"colorbar\": {\"outlinewidth\": 0, \"ticks\": \"\"}}, \"colorscale\": {\"diverging\": [[0, \"#8e0152\"], [0.1, \"#c51b7d\"], [0.2, \"#de77ae\"], [0.3, \"#f1b6da\"], [0.4, \"#fde0ef\"], [0.5, \"#f7f7f7\"], [0.6, \"#e6f5d0\"], [0.7, \"#b8e186\"], [0.8, \"#7fbc41\"], [0.9, \"#4d9221\"], [1, \"#276419\"]], \"sequential\": [[0.0, \"#0d0887\"], [0.1111111111111111, \"#46039f\"], [0.2222222222222222, \"#7201a8\"], [0.3333333333333333, \"#9c179e\"], [0.4444444444444444, \"#bd3786\"], [0.5555555555555556, \"#d8576b\"], [0.6666666666666666, \"#ed7953\"], [0.7777777777777778, \"#fb9f3a\"], [0.8888888888888888, \"#fdca26\"], [1.0, \"#f0f921\"]], \"sequentialminus\": [[0.0, \"#0d0887\"], [0.1111111111111111, \"#46039f\"], [0.2222222222222222, \"#7201a8\"], [0.3333333333333333, \"#9c179e\"], [0.4444444444444444, \"#bd3786\"], [0.5555555555555556, \"#d8576b\"], [0.6666666666666666, \"#ed7953\"], [0.7777777777777778, \"#fb9f3a\"], [0.8888888888888888, \"#fdca26\"], [1.0, \"#f0f921\"]]}, \"colorway\": [\"#636efa\", \"#EF553B\", \"#00cc96\", \"#ab63fa\", \"#FFA15A\", \"#19d3f3\", \"#FF6692\", \"#B6E880\", \"#FF97FF\", \"#FECB52\"], \"font\": {\"color\": \"#2a3f5f\"}, \"geo\": {\"bgcolor\": \"white\", \"lakecolor\": \"white\", \"landcolor\": \"#E5ECF6\", \"showlakes\": true, \"showland\": true, \"subunitcolor\": \"white\"}, \"hoverlabel\": {\"align\": \"left\"}, \"hovermode\": \"closest\", \"mapbox\": {\"style\": \"light\"}, \"paper_bgcolor\": \"white\", \"plot_bgcolor\": \"#E5ECF6\", \"polar\": {\"angularaxis\": {\"gridcolor\": \"white\", \"linecolor\": \"white\", \"ticks\": \"\"}, \"bgcolor\": \"#E5ECF6\", \"radialaxis\": {\"gridcolor\": \"white\", \"linecolor\": \"white\", \"ticks\": \"\"}}, \"scene\": {\"xaxis\": {\"backgroundcolor\": \"#E5ECF6\", \"gridcolor\": \"white\", \"gridwidth\": 2, \"linecolor\": \"white\", \"showbackground\": true, \"ticks\": \"\", \"zerolinecolor\": \"white\"}, \"yaxis\": {\"backgroundcolor\": \"#E5ECF6\", \"gridcolor\": \"white\", \"gridwidth\": 2, \"linecolor\": \"white\", \"showbackground\": true, \"ticks\": \"\", \"zerolinecolor\": \"white\"}, \"zaxis\": {\"backgroundcolor\": \"#E5ECF6\", \"gridcolor\": \"white\", \"gridwidth\": 2, \"linecolor\": \"white\", \"showbackground\": true, \"ticks\": \"\", \"zerolinecolor\": \"white\"}}, \"shapedefaults\": {\"line\": {\"color\": \"#2a3f5f\"}}, \"ternary\": {\"aaxis\": {\"gridcolor\": \"white\", \"linecolor\": \"white\", \"ticks\": \"\"}, \"baxis\": {\"gridcolor\": \"white\", \"linecolor\": \"white\", \"ticks\": \"\"}, \"bgcolor\": \"#E5ECF6\", \"caxis\": {\"gridcolor\": \"white\", \"linecolor\": \"white\", \"ticks\": \"\"}}, \"title\": {\"x\": 0.05}, \"xaxis\": {\"automargin\": true, \"gridcolor\": \"white\", \"linecolor\": \"white\", \"ticks\": \"\", \"title\": {\"standoff\": 15}, \"zerolinecolor\": \"white\", \"zerolinewidth\": 2}, \"yaxis\": {\"automargin\": true, \"gridcolor\": \"white\", \"linecolor\": \"white\", \"ticks\": \"\", \"title\": {\"standoff\": 15}, \"zerolinecolor\": \"white\", \"zerolinewidth\": 2}}}, \"title\": {\"text\": \"Pareto Frontier\"}, \"width\": 750, \"xaxis\": {\"ticksuffix\": \"\", \"title\": {\"text\": \"a\"}, \"zeroline\": true}, \"yaxis\": {\"ticksuffix\": \"\", \"title\": {\"text\": \"b\"}, \"zeroline\": true}},                        {\"responsive\": true}                    ).then(function(){\n",
              "                            \n",
              "var gd = document.getElementById('70751fb8-8f70-43c3-a655-47d1081c2087');\n",
              "var x = new MutationObserver(function (mutations, observer) {{\n",
              "        var display = window.getComputedStyle(gd).display;\n",
              "        if (!display || display === 'none') {{\n",
              "            console.log([gd, 'removed!']);\n",
              "            Plotly.purge(gd);\n",
              "            observer.disconnect();\n",
              "        }}\n",
              "}});\n",
              "\n",
              "// Listen for the removal of the full notebook cells\n",
              "var notebookContainer = gd.closest('#notebook-container');\n",
              "if (notebookContainer) {{\n",
              "    x.observe(notebookContainer, {childList: true});\n",
              "}}\n",
              "\n",
              "// Listen for the clearing of the current output cell\n",
              "var outputEl = gd.closest('.output');\n",
              "if (outputEl) {{\n",
              "    x.observe(outputEl, {childList: true});\n",
              "}}\n",
              "\n",
              "                        })                };                });            </script>        </div>"
            ]
          },
          "metadata": {},
          "output_type": "display_data"
        }
      ],
      "source": [
        "frontier = compute_posterior_pareto_frontier(\n",
        "    experiment=parego_experiment,\n",
        "    data=parego_experiment.fetch_data(),\n",
        "    primary_objective=metric_b,\n",
        "    secondary_objective=metric_a,\n",
        "    absolute_metrics=[\"a\", \"b\"],\n",
        "    num_points=20,\n",
        ")\n",
        "\n",
        "render(plot_pareto_frontier(frontier, CI_level=0.90)) "
      ]
    },
    {
      "cell_type": "markdown",
      "metadata": {
        "code_folding": [],
        "collapsed": true,
        "hidden_ranges": [],
        "originalKey": "a67f7345-1777-4372-8704-bb80c4c4e783"
      },
      "source": [
        "## Plot empirical data"
      ]
    },
    {
      "cell_type": "markdown",
      "metadata": {
        "code_folding": [],
        "collapsed": true,
        "hidden_ranges": [],
        "originalKey": "de878adc-0eb2-4599-8c1b-e0adbc0c0765",
        "showInput": false
      },
      "source": [
        "#### Plot observed hypervolume, with color representing the iteration that a point was generated on.\n",
        "\n",
        "To examine optimization process from another perspective, we plot the collected observations under each algorithm where the color corresponds to the BO iteration at which the point was collected. The plot on the right for $q$EHVI shows that the $q$EHVI quickly identifies the Pareto front and most of its evaluations are very close to the Pareto front. $q$ParEGO also identifies has many observations close to the Pareto front, but relies on optimizing random scalarizations, which is a less principled way of optimizing the Pareto front compared to $q$EHVI, which explicitly attempts focuses on improving the Pareto front. Sobol generates random points and has few points close to the Pareto front."
      ]
    },
    {
      "cell_type": "code",
      "execution_count": 63,
      "metadata": {
        "code_folding": [],
        "hidden_ranges": [],
        "originalKey": "c6296697-ef07-422d-b965-35e4e5104a12"
      },
      "outputs": [
        {
          "data": {
            "text/plain": [
              "Text(0.5, 1.0, 'Iteration')"
            ]
          },
          "execution_count": 63,
          "metadata": {
            "bento_obj_id": "140641154130080"
          },
          "output_type": "execute_result"
        },
        {
          "data": {
            "image/png": "[encoded data removed]",
            "text/plain": [
              "<Figure size 1440x432 with 4 Axes>"
            ]
          },
          "metadata": {
            "bento_obj_id": "140641192282192",
            "needs_background": "light"
          },
          "output_type": "display_data"
        }
      ],
      "source": [
        "import numpy as np\n",
        "from matplotlib import pyplot as plt\n",
        "%matplotlib inline\n",
        "\n",
        "from matplotlib.cm import ScalarMappable\n",
        "fig, axes = plt.subplots(1, 3, figsize=(20,6))\n",
        "algos = [\"Sobol\", \"parEGO\", \"EHVI\"]\n",
        "outcomes_list = [sobol_outcomes, parego_outcomes, ehvi_outcomes]\n",
        "cm = plt.cm.get_cmap('viridis')\n",
        "BATCH_SIZE = 1\n",
        "\n",
        "n_results = N_BATCH*BATCH_SIZE + N_INIT\n",
        "batch_number = torch.cat([torch.zeros(N_INIT), torch.arange(1, N_BATCH+1).repeat(BATCH_SIZE, 1).t().reshape(-1)]).numpy()\n",
        "for i, train_obj in enumerate(outcomes_list):\n",
        "    x = i\n",
        "    sc = axes[x].scatter(train_obj[:n_results, 0], train_obj[:n_results,1], c=batch_number[:n_results], alpha=0.8)\n",
        "    axes[x].set_title(algos[i])\n",
        "    axes[x].set_xlabel(\"Objective 1\")\n",
        "    axes[x].set_xlim(-150, 5)\n",
        "    axes[x].set_ylim(-15, 0)\n",
        "axes[0].set_ylabel(\"Objective 2\")\n",
        "norm = plt.Normalize(batch_number.min(), batch_number.max())\n",
        "sm =  ScalarMappable(norm=norm, cmap=cm)\n",
        "sm.set_array([])\n",
        "fig.subplots_adjust(right=0.9)\n",
        "cbar_ax = fig.add_axes([0.93, 0.15, 0.01, 0.7])\n",
        "cbar = fig.colorbar(sm, cax=cbar_ax)\n",
        "cbar.ax.set_title(\"Iteration\")"
      ]
    },
    {
      "cell_type": "markdown",
      "metadata": {
        "code_folding": [],
        "hidden_ranges": [],
        "originalKey": "ca12287f-c7b8-4ef8-8eb9-57760eda5fed",
        "showInput": true
      },
      "source": [
        "# Hypervolume statistics\n",
        "The hypervolume of the space dominated by points that dominate the reference point."
      ]
    },
    {
      "cell_type": "markdown",
      "metadata": {
        "code_folding": [],
        "hidden_ranges": [],
        "originalKey": "ec8b764b-c27d-4722-9e3d-d81cebb3624a"
      },
      "source": [
        "#### Plot the results\n",
        "The plot below shows a common metric of multi-objective optimization performance when the true Pareto frontier is known:  the log difference between the hypervolume of the true Pareto front and the hypervolume of the approximate Pareto front identified by each algorithm. The log hypervolume difference is plotted at each step of the optimization for each of the algorithms.\n",
        "\n",
        "The plot show that $q$EHVI vastly outperforms $q$ParEGO which outperforms the Sobol baseline."
      ]
    },
    {
      "cell_type": "code",
      "execution_count": 64,
      "metadata": {
        "code_folding": [],
        "hidden_ranges": [],
        "originalKey": "d50b98bc-5ab1-4826-a5b2-474a13f4bae0"
      },
      "outputs": [
        {
          "data": {
            "text/plain": [
              "<matplotlib.legend.Legend at 0x7fe990b30e80>"
            ]
          },
          "execution_count": 64,
          "metadata": {
            "bento_obj_id": "140641131761280"
          },
          "output_type": "execute_result"
        },
        {
          "data": {
            "image/png": "[encoded data removed]",
            "text/plain": [
              "<Figure size 576x432 with 1 Axes>"
            ]
          },
          "metadata": {
            "bento_obj_id": "140641131760848",
            "needs_background": "light"
          },
          "output_type": "display_data"
        }
      ],
      "source": [
        "import numpy as np\n",
        "from matplotlib import pyplot as plt\n",
        "%matplotlib inline\n",
        "\n",
        "iters = np.arange(1, N_BATCH + 1)\n",
        "log_hv_difference_sobol = np.log10(branin_currin.max_hv - np.asarray(sobol_hv_list))[:N_BATCH + 1]\n",
        "log_hv_difference_parego = np.log10(branin_currin.max_hv - np.asarray(parego_hv_list))[:N_BATCH + 1]\n",
        "log_hv_difference_ehvi = np.log10(branin_currin.max_hv - np.asarray(ehvi_hv_list))[:N_BATCH + 1]\n",
        "\n",
        "fig, ax = plt.subplots(1, 1, figsize=(8, 6))\n",
        "ax.plot(iters, log_hv_difference_sobol, label=\"Sobol\", linewidth=1.5)\n",
        "ax.plot(iters, log_hv_difference_parego, label=\"qParEGO\", linewidth=1.5)\n",
        "ax.plot(iters, log_hv_difference_ehvi, label=\"qEHVI\", linewidth=1.5)\n",
        "ax.set(xlabel='number of observations (beyond initial points)', ylabel='Log Hypervolume Difference')\n",
        "ax.legend(loc=\"lower right\")"
      ]
    },
    {
      "cell_type": "code",
      "execution_count": null,
      "metadata": {},
      "outputs": [],
      "source": []
    }
  ],
  "metadata": {
    "kernelspec": {
      "display_name": "python3",
      "language": "python",
      "name": "python3"
    }
  },
  "nbformat": 4,
  "nbformat_minor": 2
}
