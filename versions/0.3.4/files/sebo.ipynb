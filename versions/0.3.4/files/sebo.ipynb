{
 "cells": [
  {
   "attachments": {},
   "cell_type": "markdown",
   "metadata": {
    "collapsed": true,
    "customInput": null,
    "originalKey": "d3a0136e-94fa-477c-a839-20e5b7f1cdd2",
    "showInput": false
   },
   "source": [
    "# Sparsity Exploration Bayesian Optimization (SEBO) Ax API \n",
    "\n",
    "This tutorial introduces the Sparsity Exploration Bayesian Optimization (SEBO) method and demonstrates how to utilize it using the Ax API. SEBO is designed to enhance Bayesian Optimization (BO) by taking the interpretability and simplicity of configurations into consideration. In essence, SEBO incorporates sparsity, modeled as the $L_0$ norm, as an additional objective in BO. By employing multi-objective optimization techniques such as Expected Hyper-Volume Improvement, SEBO enables the joint optimization of objectives while simultaneously incorporating feature-level sparsity. This allows users to efficiently explore different trade-offs between objectives and sparsity.\n",
    "\n",
    "\n",
    "For a more detailed understanding of the SEBO algorithm, please refer to the following publication:\n",
    "\n",
    "[1] [S. Liu, Q. Feng, D. Eriksson, B. Letham and E. Bakshy. Sparse Bayesian Optimization. International Conference on Artificial Intelligence and Statistics, 2023.](https://proceedings.mlr.press/v206/liu23b/liu23b.pdf)\n",
    "\n",
    "By following this tutorial, you will learn how to leverage the SEBO method through the Ax API, empowering you to effectively balance objectives and sparsity in your optimization tasks. Let's get started!"
   ]
  },
  {
   "cell_type": "code",
   "execution_count": 1,
   "metadata": {
    "collapsed": false,
    "customOutput": null,
    "execution": {
     "iopub.execute_input": "2023-08-11T17:43:21.994807Z",
     "iopub.status.busy": "2023-08-11T17:43:21.994508Z",
     "iopub.status.idle": "2023-08-11T17:43:50.531936Z",
     "shell.execute_reply": "2023-08-11T17:43:50.530936Z"
    },
    "executionStartTime": 1689117385062,
    "executionStopTime": 1689117389874,
    "originalKey": "cea96143-019a-41c1-a388-545f48992db9",
    "requestMsgId": "c2c22a5d-aee0-4a1e-98d9-b360aa1851ff",
    "showInput": true
   },
   "outputs": [],
   "source": [
    "import os\n",
    "\n",
    "from ax import Data, Experiment, ParameterType, RangeParameter, SearchSpace\n",
    "from ax.modelbridge.registry import Models\n",
    "from ax.runners.synthetic import SyntheticRunner\n",
    "\n",
    "import warnings\n",
    "warnings.filterwarnings('ignore')"
   ]
  },
  {
   "cell_type": "code",
   "execution_count": 2,
   "metadata": {
    "collapsed": false,
    "customInput": null,
    "customOutput": null,
    "execution": {
     "iopub.execute_input": "2023-08-11T17:43:50.535841Z",
     "iopub.status.busy": "2023-08-11T17:43:50.535480Z",
     "iopub.status.idle": "2023-08-11T17:43:50.538969Z",
     "shell.execute_reply": "2023-08-11T17:43:50.538429Z"
    },
    "executionStartTime": 1689117389896,
    "executionStopTime": 1689117389898,
    "originalKey": "89cb2c13-8484-4bf9-82e0-3bed87ceb838",
    "requestMsgId": "abc49ffd-df0a-4f2a-b460-73a89d73b361",
    "showInput": true
   },
   "outputs": [],
   "source": [
    "SMOKE_TEST = os.environ.get(\"SMOKE_TEST\")"
   ]
  },
  {
   "cell_type": "code",
   "execution_count": 3,
   "metadata": {
    "collapsed": false,
    "customInput": null,
    "customOutput": null,
    "execution": {
     "iopub.execute_input": "2023-08-11T17:43:50.542099Z",
     "iopub.status.busy": "2023-08-11T17:43:50.541837Z",
     "iopub.status.idle": "2023-08-11T17:43:50.569960Z",
     "shell.execute_reply": "2023-08-11T17:43:50.568973Z"
    },
    "executionStartTime": 1689117389905,
    "executionStopTime": 1689117389913,
    "originalKey": "1f13d0a1-accf-4faf-b40e-fbc21aeb94d9",
    "requestMsgId": "b360f1fd-9b8e-43c1-ab93-48df1580a9fb",
    "showInput": true
   },
   "outputs": [],
   "source": [
    "import torch\n",
    "\n",
    "\n",
    "torch.manual_seed(12345)  # To always get the same Sobol points\n",
    "tkwargs = {\n",
    "    \"dtype\": torch.double,\n",
    "    \"device\": torch.device(\"cuda\" if torch.cuda.is_available() else \"cpu\"),\n",
    "}"
   ]
  },
  {
   "attachments": {},
   "cell_type": "markdown",
   "metadata": {
    "customInput": null,
    "originalKey": "7f07af01-ad58-4cfb-beca-f624310d278d",
    "showInput": false
   },
   "source": [
    "# Demo of using Developer API"
   ]
  },
  {
   "attachments": {},
   "cell_type": "markdown",
   "metadata": {
    "customInput": null,
    "originalKey": "c8a27a2f-1120-4894-9302-48bfde402268",
    "showInput": false
   },
   "source": [
    "## Problem Setup \n",
    "\n",
    "In this simple experiment we use the Branin function embedded in a 10-dimensional space. Additional resources:\n",
    "- To set up a custom metric for your problem, refer to the dedicated section of the Developer API tutorial: https://ax.dev/tutorials/gpei_hartmann_developer.html#8.-Defining-custom-metrics.\n",
    "- To avoid needing to setup up custom metrics by Ax Service API: https://ax.dev/tutorials/gpei_hartmann_service.html."
   ]
  },
  {
   "cell_type": "code",
   "execution_count": 4,
   "metadata": {
    "collapsed": false,
    "customInput": null,
    "execution": {
     "iopub.execute_input": "2023-08-11T17:43:50.574053Z",
     "iopub.status.busy": "2023-08-11T17:43:50.573774Z",
     "iopub.status.idle": "2023-08-11T17:43:50.578625Z",
     "shell.execute_reply": "2023-08-11T17:43:50.578071Z"
    },
    "executionStartTime": 1689117390036,
    "executionStopTime": 1689117390038,
    "originalKey": "e91fc838-9f47-44f1-99ac-4477df208566",
    "requestMsgId": "1591e6b0-fa9b-4b9f-be72-683dccbe923a",
    "showInput": true
   },
   "outputs": [],
   "source": [
    "import math \n",
    "import numpy as np\n",
    "\n",
    "\n",
    "aug_dim = 8 \n",
    "\n",
    "# evaluation function \n",
    "def branin_augment(x_vec, augment_dim):\n",
    "    assert len(x_vec) == augment_dim\n",
    "    x1, x2 = (\n",
    "        15 * x_vec[0] - 5,\n",
    "        15 * x_vec[1],\n",
    "    )  # Only dimensions 0 and augment_dim-1 affect the value of the function\n",
    "    t1 = x2 - 5.1 / (4 * math.pi**2) * x1**2 + 5 / math.pi * x1 - 6\n",
    "    t2 = 10 * (1 - 1 / (8 * math.pi)) * np.cos(x1)\n",
    "    return t1**2 + t2 + 10"
   ]
  },
  {
   "cell_type": "code",
   "execution_count": 5,
   "metadata": {
    "collapsed": false,
    "customInput": null,
    "customOutput": null,
    "execution": {
     "iopub.execute_input": "2023-08-11T17:43:50.581482Z",
     "iopub.status.busy": "2023-08-11T17:43:50.581256Z",
     "iopub.status.idle": "2023-08-11T17:43:50.585921Z",
     "shell.execute_reply": "2023-08-11T17:43:50.585357Z"
    },
    "executionStartTime": 1689117390518,
    "executionStopTime": 1689117390540,
    "originalKey": "850830c6-509f-4087-bce8-da0be4fd48ef",
    "requestMsgId": "56726053-205d-4d7e-b1b5-1a76324188ee",
    "showInput": true
   },
   "outputs": [],
   "source": [
    "from ax.core.objective import Objective\n",
    "from ax.core.optimization_config import OptimizationConfig\n",
    "from ax.metrics.noisy_function import NoisyFunctionMetric\n",
    "from ax.utils.common.typeutils import checked_cast\n",
    "\n",
    "\n",
    "class AugBraninMetric(NoisyFunctionMetric):\n",
    "    def f(self, x: np.ndarray) -> float:\n",
    "        return checked_cast(float, branin_augment(x_vec=x, augment_dim=aug_dim))\n",
    "\n",
    "\n",
    "# Create search space in Ax \n",
    "search_space = SearchSpace(\n",
    "    parameters=[\n",
    "        RangeParameter(\n",
    "            name=f\"x{i}\",\n",
    "            parameter_type=ParameterType.FLOAT, \n",
    "            lower=0.0, upper=1.0\n",
    "        )\n",
    "        for i in range(aug_dim)\n",
    "    ]\n",
    ")"
   ]
  },
  {
   "cell_type": "code",
   "execution_count": 6,
   "metadata": {
    "collapsed": false,
    "customInput": null,
    "execution": {
     "iopub.execute_input": "2023-08-11T17:43:50.588711Z",
     "iopub.status.busy": "2023-08-11T17:43:50.588488Z",
     "iopub.status.idle": "2023-08-11T17:43:50.592793Z",
     "shell.execute_reply": "2023-08-11T17:43:50.592302Z"
    },
    "executionStartTime": 1689117391899,
    "executionStopTime": 1689117391915,
    "originalKey": "d039b709-67c6-475a-96ce-290f869e0f88",
    "requestMsgId": "3e23ed64-7d10-430b-b790-91a0c7cf72fe",
    "showInput": true
   },
   "outputs": [],
   "source": [
    "# Create optimization goals \n",
    "optimization_config = OptimizationConfig(\n",
    "    objective=Objective(\n",
    "        metric=AugBraninMetric(\n",
    "            name=\"objective\",\n",
    "            param_names=[f\"x{i}\" for i in range(aug_dim)],\n",
    "            noise_sd=None,  # Set noise_sd=None if you want to learn the noise, otherwise it defaults to 1e-6\n",
    "        ),\n",
    "        minimize=True,\n",
    "    )\n",
    ")\n",
    "\n",
    "# Experiment\n",
    "experiment = Experiment(\n",
    "    name=\"sebo_experiment\",\n",
    "    search_space=search_space,\n",
    "    optimization_config=optimization_config,\n",
    "    runner=SyntheticRunner(),\n",
    ")\n",
    "\n",
    "# target sparse point to regularize towards to. Here we set target sparse value being zero for all the parameters. \n",
    "target_point = torch.tensor([0 for _ in range(aug_dim)], **tkwargs)"
   ]
  },
  {
   "attachments": {},
   "cell_type": "markdown",
   "metadata": {
    "customInput": null,
    "originalKey": "e57edb00-eafc-4d07-bdb9-e8cf073b4caa",
    "showInput": false
   },
   "source": [
    "## Run optimization loop"
   ]
  },
  {
   "cell_type": "code",
   "execution_count": 7,
   "metadata": {
    "collapsed": false,
    "customInput": null,
    "customOutput": null,
    "execution": {
     "iopub.execute_input": "2023-08-11T17:43:50.595598Z",
     "iopub.status.busy": "2023-08-11T17:43:50.595378Z",
     "iopub.status.idle": "2023-08-11T17:43:50.598776Z",
     "shell.execute_reply": "2023-08-11T17:43:50.598273Z"
    },
    "executionStartTime": 1689117393959,
    "executionStopTime": 1689117393962,
    "originalKey": "d0f279d5-da98-44da-9a4e-c30553e4d95a",
    "requestMsgId": "20d42853-0502-4a5c-8749-7fc1dcbc9879",
    "showInput": true
   },
   "outputs": [],
   "source": [
    "import torch \n",
    "from ax.models.torch.botorch_modular.surrogate import Surrogate\n",
    "from botorch.models import SingleTaskGP, FixedNoiseGP, SaasFullyBayesianSingleTaskGP\n",
    "from ax.models.torch.botorch_modular.sebo import SEBOAcquisition\n",
    "from botorch.acquisition.multi_objective import qNoisyExpectedHypervolumeImprovement"
   ]
  },
  {
   "cell_type": "code",
   "execution_count": 8,
   "metadata": {
    "collapsed": false,
    "customInput": null,
    "customOutput": null,
    "execution": {
     "iopub.execute_input": "2023-08-11T17:43:50.601336Z",
     "iopub.status.busy": "2023-08-11T17:43:50.601133Z",
     "iopub.status.idle": "2023-08-11T17:43:50.604512Z",
     "shell.execute_reply": "2023-08-11T17:43:50.604076Z"
    },
    "executionStartTime": 1689117395051,
    "executionStopTime": 1689117395069,
    "originalKey": "c4848148-bff5-44a7-9ad5-41e78ccb413c",
    "requestMsgId": "8aa87d22-bf89-471f-be9f-7c31f7b8bd62",
    "showInput": true
   },
   "outputs": [
    {
     "name": "stdout",
     "output_type": "stream",
     "text": [
      "Doing 50 evaluations\n"
     ]
    }
   ],
   "source": [
    "N_INIT = 10\n",
    "BATCH_SIZE = 1\n",
    "\n",
    "if SMOKE_TEST:\n",
    "    N_BATCHES = 1\n",
    "    SURROGATE_CLASS = SingleTaskGP\n",
    "else:\n",
    "    N_BATCHES = 40\n",
    "    SURROGATE_CLASS = SaasFullyBayesianSingleTaskGP\n",
    "\n",
    "print(f\"Doing {N_INIT + N_BATCHES * BATCH_SIZE} evaluations\")"
   ]
  },
  {
   "cell_type": "code",
   "execution_count": 9,
   "metadata": {
    "collapsed": false,
    "customInput": null,
    "customOutput": null,
    "execution": {
     "iopub.execute_input": "2023-08-11T17:43:50.606855Z",
     "iopub.status.busy": "2023-08-11T17:43:50.606665Z",
     "iopub.status.idle": "2023-08-11T17:43:50.619457Z",
     "shell.execute_reply": "2023-08-11T17:43:50.618823Z"
    },
    "executionStartTime": 1689117396326,
    "executionStopTime": 1689117396376,
    "originalKey": "b260d85f-2797-44e3-840a-86587534b589",
    "requestMsgId": "2cc516e3-b16e-40ca-805f-dcd792c92fa6",
    "showInput": true
   },
   "outputs": [],
   "source": [
    "# Initial Sobol points\n",
    "sobol = Models.SOBOL(search_space=experiment.search_space)\n",
    "for _ in range(N_INIT):\n",
    "    experiment.new_trial(sobol.gen(1)).run()"
   ]
  },
  {
   "cell_type": "code",
   "execution_count": 10,
   "metadata": {
    "collapsed": false,
    "customInput": null,
    "customOutput": null,
    "execution": {
     "iopub.execute_input": "2023-08-11T17:43:50.622628Z",
     "iopub.status.busy": "2023-08-11T17:43:50.622382Z",
     "iopub.status.idle": "2023-08-11T18:51:25.762366Z",
     "shell.execute_reply": "2023-08-11T18:51:25.761651Z"
    },
    "executionStartTime": 1689117396900,
    "executionStopTime": 1689124188959,
    "originalKey": "7c198035-add2-4717-be27-4fb67c4d1782",
    "requestMsgId": "d844fa20-0adf-4ba3-ace5-7253ba678db2",
    "showInput": true
   },
   "outputs": [
    {
     "name": "stdout",
     "output_type": "stream",
     "text": [
      "Iteration: 0, Best so far: 2.494\n"
     ]
    },
    {
     "name": "stdout",
     "output_type": "stream",
     "text": [
      "Iteration: 1, Best so far: 2.494\n"
     ]
    },
    {
     "name": "stdout",
     "output_type": "stream",
     "text": [
      "Iteration: 2, Best so far: 2.494\n"
     ]
    },
    {
     "name": "stdout",
     "output_type": "stream",
     "text": [
      "Iteration: 3, Best so far: 2.494\n"
     ]
    },
    {
     "name": "stdout",
     "output_type": "stream",
     "text": [
      "Iteration: 4, Best so far: 2.494\n"
     ]
    },
    {
     "name": "stdout",
     "output_type": "stream",
     "text": [
      "Iteration: 5, Best so far: 2.494\n"
     ]
    },
    {
     "name": "stdout",
     "output_type": "stream",
     "text": [
      "Iteration: 6, Best so far: 2.494\n"
     ]
    },
    {
     "name": "stdout",
     "output_type": "stream",
     "text": [
      "Iteration: 7, Best so far: 2.494\n"
     ]
    },
    {
     "name": "stdout",
     "output_type": "stream",
     "text": [
      "Iteration: 8, Best so far: 2.494\n"
     ]
    },
    {
     "name": "stdout",
     "output_type": "stream",
     "text": [
      "Iteration: 9, Best so far: 2.494\n"
     ]
    },
    {
     "name": "stdout",
     "output_type": "stream",
     "text": [
      "Iteration: 10, Best so far: 2.494\n"
     ]
    },
    {
     "name": "stdout",
     "output_type": "stream",
     "text": [
      "Iteration: 11, Best so far: 2.494\n"
     ]
    },
    {
     "name": "stdout",
     "output_type": "stream",
     "text": [
      "Iteration: 12, Best so far: 1.952\n"
     ]
    },
    {
     "name": "stdout",
     "output_type": "stream",
     "text": [
      "Iteration: 13, Best so far: 1.952\n"
     ]
    },
    {
     "name": "stdout",
     "output_type": "stream",
     "text": [
      "Iteration: 14, Best so far: 1.952\n"
     ]
    },
    {
     "name": "stdout",
     "output_type": "stream",
     "text": [
      "Iteration: 15, Best so far: 1.952\n"
     ]
    },
    {
     "name": "stdout",
     "output_type": "stream",
     "text": [
      "Iteration: 16, Best so far: 0.585\n"
     ]
    },
    {
     "name": "stdout",
     "output_type": "stream",
     "text": [
      "Iteration: 17, Best so far: 0.585\n"
     ]
    },
    {
     "name": "stdout",
     "output_type": "stream",
     "text": [
      "Iteration: 18, Best so far: 0.585\n"
     ]
    },
    {
     "name": "stdout",
     "output_type": "stream",
     "text": [
      "Iteration: 19, Best so far: 0.585\n"
     ]
    },
    {
     "name": "stdout",
     "output_type": "stream",
     "text": [
      "Iteration: 20, Best so far: 0.529\n"
     ]
    },
    {
     "name": "stdout",
     "output_type": "stream",
     "text": [
      "Iteration: 21, Best so far: 0.529\n"
     ]
    },
    {
     "name": "stdout",
     "output_type": "stream",
     "text": [
      "Iteration: 22, Best so far: 0.529\n"
     ]
    },
    {
     "name": "stdout",
     "output_type": "stream",
     "text": [
      "Iteration: 23, Best so far: 0.462\n"
     ]
    },
    {
     "name": "stdout",
     "output_type": "stream",
     "text": [
      "Iteration: 24, Best so far: 0.462\n"
     ]
    },
    {
     "name": "stdout",
     "output_type": "stream",
     "text": [
      "Iteration: 25, Best so far: 0.462\n"
     ]
    },
    {
     "name": "stdout",
     "output_type": "stream",
     "text": [
      "Iteration: 26, Best so far: 0.413\n"
     ]
    },
    {
     "name": "stdout",
     "output_type": "stream",
     "text": [
      "Iteration: 27, Best so far: 0.413\n"
     ]
    },
    {
     "name": "stdout",
     "output_type": "stream",
     "text": [
      "Iteration: 28, Best so far: 0.413\n"
     ]
    },
    {
     "name": "stdout",
     "output_type": "stream",
     "text": [
      "Iteration: 29, Best so far: 0.413\n"
     ]
    },
    {
     "name": "stdout",
     "output_type": "stream",
     "text": [
      "Iteration: 30, Best so far: 0.413\n"
     ]
    },
    {
     "name": "stdout",
     "output_type": "stream",
     "text": [
      "Iteration: 31, Best so far: 0.413\n"
     ]
    },
    {
     "name": "stdout",
     "output_type": "stream",
     "text": [
      "Iteration: 32, Best so far: 0.413\n"
     ]
    },
    {
     "name": "stdout",
     "output_type": "stream",
     "text": [
      "Iteration: 33, Best so far: 0.413\n"
     ]
    },
    {
     "name": "stdout",
     "output_type": "stream",
     "text": [
      "Iteration: 34, Best so far: 0.413\n"
     ]
    },
    {
     "name": "stdout",
     "output_type": "stream",
     "text": [
      "Iteration: 35, Best so far: 0.399\n"
     ]
    },
    {
     "name": "stdout",
     "output_type": "stream",
     "text": [
      "Iteration: 36, Best so far: 0.399\n"
     ]
    },
    {
     "name": "stdout",
     "output_type": "stream",
     "text": [
      "Iteration: 37, Best so far: 0.399\n"
     ]
    },
    {
     "name": "stdout",
     "output_type": "stream",
     "text": [
      "Iteration: 38, Best so far: 0.399\n"
     ]
    },
    {
     "name": "stdout",
     "output_type": "stream",
     "text": [
      "Iteration: 39, Best so far: 0.399\n"
     ]
    }
   ],
   "source": [
    "data = experiment.fetch_data()\n",
    "\n",
    "for i in range(N_BATCHES):\n",
    "\n",
    "    model = Models.BOTORCH_MODULAR(\n",
    "        experiment=experiment, \n",
    "        data=data,\n",
    "        surrogate=Surrogate(botorch_model_class=SURROGATE_CLASS),  # can use SAASGP (i.e. SaasFullyBayesianSingleTaskGP) for high-dim cases\n",
    "        search_space=experiment.search_space,\n",
    "        botorch_acqf_class=qNoisyExpectedHypervolumeImprovement,\n",
    "        acquisition_class=SEBOAcquisition,\n",
    "        acquisition_options={\n",
    "            \"penalty\": \"L0_norm\", # it can be L0_norm or L1_norm. \n",
    "            \"target_point\": target_point, \n",
    "            \"sparsity_threshold\": aug_dim,\n",
    "        },\n",
    "        torch_device=tkwargs['device'],\n",
    "    )\n",
    "\n",
    "    generator_run = model.gen(BATCH_SIZE)\n",
    "    trial = experiment.new_batch_trial(generator_run=generator_run)\n",
    "    trial.run()\n",
    "\n",
    "    new_data = trial.fetch_data(metrics=list(experiment.metrics.values()))\n",
    "    data = Data.from_multiple_data([data, new_data])\n",
    "    print(f\"Iteration: {i}, Best so far: {data.df['mean'].min():.3f}\")"
   ]
  },
  {
   "attachments": {},
   "cell_type": "markdown",
   "metadata": {
    "customInput": null,
    "originalKey": "7998635d-6750-4825-b93d-c7b61f74c3c5",
    "showInput": false
   },
   "source": [
    "## Plot sparisty vs objective \n",
    "\n",
    "Visualize the objective and sparsity trade-offs using SEBO. Each point represent designs along the Pareto frontier found by SEBO. The x-axis corresponds to the number of active parameters used, i.e.\n",
    "non-sparse parameters, and the y-axis corresponds the best identified objective values. Based on this, decision-makers balance both simplicity/interpretability of generated policies and optimization performance when deciding which configuration to use."
   ]
  },
  {
   "cell_type": "code",
   "execution_count": 11,
   "metadata": {
    "collapsed": false,
    "customInput": null,
    "customOutput": null,
    "execution": {
     "iopub.execute_input": "2023-08-11T18:51:25.766213Z",
     "iopub.status.busy": "2023-08-11T18:51:25.765881Z",
     "iopub.status.idle": "2023-08-11T18:51:25.772184Z",
     "shell.execute_reply": "2023-08-11T18:51:25.771469Z"
    },
    "executionStartTime": 1689124189044,
    "executionStopTime": 1689124189182,
    "originalKey": "416ccd12-51a1-4bfe-9e10-436cd88ec6be",
    "requestMsgId": "5143ae57-1d0d-4f9d-bc9d-9d151f3e9af0",
    "showInput": true
   },
   "outputs": [],
   "source": [
    "def nnz_exact(x, sparse_point):\n",
    "    return len(x) - (np.array(x) == np.array(sparse_point)).sum()\n",
    "\n",
    "    \n",
    "df = data.df\n",
    "df['L0_norm'] = df['arm_name'].apply(lambda d: nnz_exact(list(experiment.arms_by_name[d].parameters.values()), [0 for _ in range(aug_dim)]) )"
   ]
  },
  {
   "cell_type": "code",
   "execution_count": 12,
   "metadata": {
    "collapsed": false,
    "customInput": null,
    "customOutput": null,
    "execution": {
     "iopub.execute_input": "2023-08-11T18:51:25.775396Z",
     "iopub.status.busy": "2023-08-11T18:51:25.775145Z",
     "iopub.status.idle": "2023-08-11T18:51:25.786970Z",
     "shell.execute_reply": "2023-08-11T18:51:25.786176Z"
    },
    "executionStartTime": 1689124189219,
    "executionStopTime": 1689124189321,
    "originalKey": "97b96822-7d7f-4a5d-8458-01ff890d2fde",
    "requestMsgId": "34abdf8d-6f0c-48a1-8700-8e2c3075a085",
    "showInput": true
   },
   "outputs": [
    {
     "data": {
      "text/plain": [
       "{1: 5.052995681656048,\n",
       " 2: 0.5291466924558517,\n",
       " 3: 0.3987103544981654,\n",
       " 4: 0.3987103544981654,\n",
       " 5: 0.3987103544981654,\n",
       " 6: 0.3987103544981654,\n",
       " 7: 0.3987103544981654,\n",
       " 8: 0.3987103544981654}"
      ]
     },
     "execution_count": 12,
     "metadata": {},
     "output_type": "execute_result"
    }
   ],
   "source": [
    "result_by_sparsity = {l: df[df.L0_norm <= l]['mean'].min() for l in range(1, aug_dim+1)}\n",
    "result_by_sparsity"
   ]
  },
  {
   "cell_type": "code",
   "execution_count": 13,
   "metadata": {
    "collapsed": false,
    "customInput": null,
    "customOutput": null,
    "execution": {
     "iopub.execute_input": "2023-08-11T18:51:25.790462Z",
     "iopub.status.busy": "2023-08-11T18:51:25.790212Z",
     "iopub.status.idle": "2023-08-11T18:51:27.478211Z",
     "shell.execute_reply": "2023-08-11T18:51:27.477579Z"
    },
    "executionStartTime": 1689134836494,
    "executionStopTime": 1689134837813,
    "originalKey": "7193e2b0-e192-439a-b0d0-08a2029f64ca",
    "requestMsgId": "f095d820-55e0-4201-8e3a-77f17b2155f1",
    "showInput": true
   },
   "outputs": [
    {
     "data": {
      "image/png": "[encoded data removed]",
      "text/plain": [
       "<Figure size 800x600 with 1 Axes>"
      ]
     },
     "metadata": {},
     "output_type": "display_data"
    }
   ],
   "source": [
    "import matplotlib\n",
    "import matplotlib.pyplot as plt\n",
    "import numpy as np\n",
    "\n",
    "%matplotlib inline\n",
    "matplotlib.rcParams.update({\"font.size\": 16})\n",
    "\n",
    "fig, ax = plt.subplots(figsize=(8, 6))\n",
    "ax.plot(list(result_by_sparsity.keys()), list(result_by_sparsity.values()), '.b-', label=\"sebo\", markersize=10)\n",
    "ax.grid(True)\n",
    "ax.set_title(f\"Branin, D={aug_dim}\", fontsize=20)\n",
    "ax.set_xlabel(\"Number of active parameters\", fontsize=20)\n",
    "ax.set_ylabel(\"Best value found\", fontsize=20)\n",
    "# ax.legend(fontsize=18)\n",
    "plt.show()"
   ]
  },
  {
   "attachments": {},
   "cell_type": "markdown",
   "metadata": {
    "customInput": null,
    "originalKey": "1ba68dc9-d60b-4b39-8e58-ea9bdc06b44c",
    "showInput": false
   },
   "source": [
    "# Demo of Using GenerationStrategy and Service API \n",
    "\n",
    "Please check [Service API tutorial](https://ax.dev/tutorials/gpei_hartmann_service.html) for more detailed information. "
   ]
  },
  {
   "cell_type": "code",
   "execution_count": 14,
   "metadata": {
    "collapsed": false,
    "customInput": null,
    "execution": {
     "iopub.execute_input": "2023-08-11T18:51:27.481320Z",
     "iopub.status.busy": "2023-08-11T18:51:27.480985Z",
     "iopub.status.idle": "2023-08-11T18:51:29.166735Z",
     "shell.execute_reply": "2023-08-11T18:51:29.165678Z"
    },
    "executionStartTime": 1689124191398,
    "executionStopTime": 1689124192949,
    "originalKey": "c9eac7a0-d8c2-49c9-a53a-4e05b6694ced",
    "requestMsgId": "0dc37045-8f54-4091-913f-69b11b072e19",
    "showInput": true
   },
   "outputs": [],
   "source": [
    "from ax.service.ax_client import AxClient, ObjectiveProperties\n",
    "\n",
    "from ax.modelbridge.generation_strategy import GenerationStrategy, GenerationStep"
   ]
  },
  {
   "cell_type": "code",
   "execution_count": 15,
   "metadata": {
    "collapsed": false,
    "customInput": null,
    "execution": {
     "iopub.execute_input": "2023-08-11T18:51:29.170558Z",
     "iopub.status.busy": "2023-08-11T18:51:29.170202Z",
     "iopub.status.idle": "2023-08-11T18:51:29.174463Z",
     "shell.execute_reply": "2023-08-11T18:51:29.173844Z"
    },
    "executionStartTime": 1689124192961,
    "executionStopTime": 1689124192970,
    "originalKey": "92678568-4757-4a9e-9424-837352f04bbc",
    "requestMsgId": "e1e19d91-06a5-4f8c-a8be-ca7bd1856c58",
    "showInput": true
   },
   "outputs": [
    {
     "name": "stdout",
     "output_type": "stream",
     "text": [
      "Doing 50 evaluations\n"
     ]
    }
   ],
   "source": [
    "N_INIT = 10\n",
    "BATCH_SIZE = 1\n",
    "\n",
    "if SMOKE_TEST:\n",
    "    NUM_TRIALS = 1\n",
    "    SURROGATE_CLASS = FixedNoiseGP\n",
    "else:\n",
    "    NUM_TRIALS = 40\n",
    "    SURROGATE_CLASS = SaasFullyBayesianSingleTaskGP\n",
    "\n",
    "print(f\"Doing {N_INIT + NUM_TRIALS * BATCH_SIZE} evaluations\")"
   ]
  },
  {
   "attachments": {},
   "cell_type": "markdown",
   "metadata": {
    "customInput": null,
    "originalKey": "45e5586c-55eb-4908-aa73-bca4ee883b56",
    "showInput": false
   },
   "source": [
    "## Create `GenerationStrategy`"
   ]
  },
  {
   "cell_type": "code",
   "execution_count": 16,
   "metadata": {
    "collapsed": false,
    "customInput": null,
    "execution": {
     "iopub.execute_input": "2023-08-11T18:51:29.177242Z",
     "iopub.status.busy": "2023-08-11T18:51:29.177001Z",
     "iopub.status.idle": "2023-08-11T18:51:29.181461Z",
     "shell.execute_reply": "2023-08-11T18:51:29.180947Z"
    },
    "executionStartTime": 1689124192972,
    "executionStopTime": 1689124192975,
    "originalKey": "7c0bfe37-8f1f-4999-8833-42ffb2569c04",
    "requestMsgId": "bbd9058a-709e-4262-abe1-720d37e8786f",
    "showInput": true
   },
   "outputs": [],
   "source": [
    "gs = GenerationStrategy(\n",
    "    name=\"SEBO_L0\",\n",
    "    steps=[\n",
    "        GenerationStep(  # Initialization step\n",
    "            model=Models.SOBOL,     \n",
    "            num_trials=N_INIT,\n",
    "        ),\n",
    "        GenerationStep(  # BayesOpt step\n",
    "            model=Models.BOTORCH_MODULAR,\n",
    "            # No limit on how many generator runs will be produced\n",
    "            num_trials=-1,\n",
    "            model_kwargs={  # Kwargs to pass to `BoTorchModel.__init__`\n",
    "                \"surrogate\": Surrogate(botorch_model_class=SURROGATE_CLASS),\n",
    "                \"acquisition_class\": SEBOAcquisition,\n",
    "                \"botorch_acqf_class\": qNoisyExpectedHypervolumeImprovement,\n",
    "                \"acquisition_options\": {\n",
    "                    \"penalty\": \"L0_norm\", # it can be L0_norm or L1_norm.\n",
    "                    \"target_point\": target_point, \n",
    "                    \"sparsity_threshold\": aug_dim,\n",
    "                },\n",
    "            },\n",
    "        )\n",
    "    ]\n",
    ")"
   ]
  },
  {
   "attachments": {},
   "cell_type": "markdown",
   "metadata": {
    "customInput": null,
    "originalKey": "e4911bc6-32cb-42a5-908f-57f3f04e58e5",
    "showInput": false
   },
   "source": [
    "## Initialize client and set up experiment"
   ]
  },
  {
   "cell_type": "code",
   "execution_count": 17,
   "metadata": {
    "collapsed": false,
    "customInput": null,
    "execution": {
     "iopub.execute_input": "2023-08-11T18:51:29.184311Z",
     "iopub.status.busy": "2023-08-11T18:51:29.184072Z",
     "iopub.status.idle": "2023-08-11T18:51:29.190026Z",
     "shell.execute_reply": "2023-08-11T18:51:29.189370Z"
    },
    "executionStartTime": 1689124192979,
    "executionStopTime": 1689124192984,
    "originalKey": "47938102-0613-4b37-acb2-9f1f5f3fe6b1",
    "requestMsgId": "38b4b17c-6aae-43b8-aa58-2df045f522fe",
    "showInput": true
   },
   "outputs": [
    {
     "name": "stderr",
     "output_type": "stream",
     "text": [
      "[INFO 08-11 14:51:29] ax.service.ax_client: Starting optimization with verbose logging. To disable logging, set the `verbose_logging` argument to `False`. Note that float values in the logs are rounded to 6 decimal points.\n"
     ]
    },
    {
     "name": "stderr",
     "output_type": "stream",
     "text": [
      "[INFO 08-11 14:51:29] ax.service.utils.instantiation: Created search space: SearchSpace(parameters=[RangeParameter(name='x0', parameter_type=FLOAT, range=[0.0, 1.0]), RangeParameter(name='x1', parameter_type=FLOAT, range=[0.0, 1.0]), RangeParameter(name='x2', parameter_type=FLOAT, range=[0.0, 1.0]), RangeParameter(name='x3', parameter_type=FLOAT, range=[0.0, 1.0]), RangeParameter(name='x4', parameter_type=FLOAT, range=[0.0, 1.0]), RangeParameter(name='x5', parameter_type=FLOAT, range=[0.0, 1.0]), RangeParameter(name='x6', parameter_type=FLOAT, range=[0.0, 1.0]), RangeParameter(name='x7', parameter_type=FLOAT, range=[0.0, 1.0])], parameter_constraints=[]).\n"
     ]
    }
   ],
   "source": [
    "ax_client = AxClient(generation_strategy=gs)\n",
    "\n",
    "experiment_parameters = [\n",
    "    {\n",
    "        \"name\": f\"x{i}\",\n",
    "        \"type\": \"range\",\n",
    "        \"bounds\": [0, 1],\n",
    "        \"value_type\": \"float\",\n",
    "        \"log_scale\": False,\n",
    "    }\n",
    "    for i in range(aug_dim)\n",
    "]\n",
    "\n",
    "objective_metrics = {\n",
    "    \"objective\": ObjectiveProperties(minimize=False, threshold=-10),\n",
    "}\n",
    "\n",
    "ax_client.create_experiment(\n",
    "    name=\"branin_augment_sebo_experiment\",\n",
    "    parameters=experiment_parameters,\n",
    "    objectives=objective_metrics,\n",
    ")"
   ]
  },
  {
   "attachments": {},
   "cell_type": "markdown",
   "metadata": {
    "customInput": null,
    "originalKey": "6a7942e4-9727-43d9-8d8d-c327d38c2373",
    "showInput": false
   },
   "source": [
    "## Define evaluation function "
   ]
  },
  {
   "cell_type": "code",
   "execution_count": 18,
   "metadata": {
    "collapsed": false,
    "customInput": null,
    "execution": {
     "iopub.execute_input": "2023-08-11T18:51:29.192894Z",
     "iopub.status.busy": "2023-08-11T18:51:29.192655Z",
     "iopub.status.idle": "2023-08-11T18:51:29.196387Z",
     "shell.execute_reply": "2023-08-11T18:51:29.195850Z"
    },
    "executionStartTime": 1689124192990,
    "executionStopTime": 1689124192992,
    "originalKey": "4e2994ff-36ac-4d48-a789-3d0398e1e856",
    "requestMsgId": "8f74a775-a8ce-462d-993c-5c9291c748b9",
    "showInput": true
   },
   "outputs": [],
   "source": [
    "def evaluation(parameters):\n",
    "    # put parameters into 1-D array\n",
    "    x = [parameters.get(param[\"name\"]) for param in experiment_parameters]\n",
    "    res = branin_augment(x_vec=x, augment_dim=aug_dim)\n",
    "    eval_res = {\n",
    "        # flip the sign to maximize\n",
    "        \"objective\": (res * -1, 0.0),\n",
    "    }\n",
    "    return eval_res"
   ]
  },
  {
   "attachments": {},
   "cell_type": "markdown",
   "metadata": {
    "customInput": null,
    "originalKey": "4597531b-7ac8-4dd0-94c4-836672e0f4c4",
    "showInput": false
   },
   "source": [
    "## Run optimization loop"
   ]
  },
  {
   "cell_type": "code",
   "execution_count": 19,
   "metadata": {
    "collapsed": false,
    "customInput": null,
    "execution": {
     "iopub.execute_input": "2023-08-11T18:51:29.199175Z",
     "iopub.status.busy": "2023-08-11T18:51:29.198954Z",
     "iopub.status.idle": "2023-08-11T19:49:26.935684Z",
     "shell.execute_reply": "2023-08-11T19:49:26.934628Z"
    },
    "executionStartTime": 1689124193044,
    "executionStopTime": 1689130398208,
    "originalKey": "bc7accb2-48a2-4c88-a932-7c79ec81075a",
    "requestMsgId": "f054e5b1-12eb-459b-a508-6944baf82dfb",
    "showInput": true
   },
   "outputs": [
    {
     "name": "stderr",
     "output_type": "stream",
     "text": [
      "[INFO 08-11 14:51:29] ax.service.ax_client: Generated new trial 0 with parameters {'x0': 0.704883, 'x1': 0.205139, 'x2': 0.222438, 'x3': 0.770468, 'x4': 0.154952, 'x5': 0.811032, 'x6': 0.742627, 'x7': 0.291557}.\n"
     ]
    },
    {
     "name": "stderr",
     "output_type": "stream",
     "text": [
      "[INFO 08-11 14:51:29] ax.service.ax_client: Completed trial 0 with data: {'objective': (-21.024841, 0.0)}.\n"
     ]
    },
    {
     "name": "stderr",
     "output_type": "stream",
     "text": [
      "[INFO 08-11 14:51:29] ax.service.ax_client: Generated new trial 1 with parameters {'x0': 0.30206, 'x1': 0.271992, 'x2': 0.586066, 'x3': 0.42023, 'x4': 0.069196, 'x5': 0.557135, 'x6': 0.404222, 'x7': 0.69039}.\n"
     ]
    },
    {
     "name": "stderr",
     "output_type": "stream",
     "text": [
      "[INFO 08-11 14:51:29] ax.service.ax_client: Completed trial 1 with data: {'objective': (-25.828685, 0.0)}.\n"
     ]
    },
    {
     "name": "stderr",
     "output_type": "stream",
     "text": [
      "[INFO 08-11 14:51:29] ax.service.ax_client: Generated new trial 2 with parameters {'x0': 0.358332, 'x1': 0.859848, 'x2': 0.056219, 'x3': 0.955052, 'x4': 0.226942, 'x5': 0.141809, 'x6': 0.252221, 'x7': 0.88703}.\n"
     ]
    },
    {
     "name": "stderr",
     "output_type": "stream",
     "text": [
      "[INFO 08-11 14:51:29] ax.service.ax_client: Completed trial 2 with data: {'objective': (-74.830737, 0.0)}.\n"
     ]
    },
    {
     "name": "stderr",
     "output_type": "stream",
     "text": [
      "[INFO 08-11 14:51:29] ax.service.ax_client: Generated new trial 3 with parameters {'x0': 0.243285, 'x1': 0.541794, 'x2': 0.179266, 'x3': 0.30948, 'x4': 0.598481, 'x5': 0.510642, 'x6': 0.783757, 'x7': 0.787818}.\n"
     ]
    },
    {
     "name": "stderr",
     "output_type": "stream",
     "text": [
      "[INFO 08-11 14:51:29] ax.service.ax_client: Completed trial 3 with data: {'objective': (-12.162956, 0.0)}.\n"
     ]
    },
    {
     "name": "stderr",
     "output_type": "stream",
     "text": [
      "[INFO 08-11 14:51:29] ax.service.ax_client: Generated new trial 4 with parameters {'x0': 0.939014, 'x1': 0.083082, 'x2': 0.206114, 'x3': 0.781272, 'x4': 0.188624, 'x5': 0.130669, 'x6': 0.592591, 'x7': 0.473514}.\n"
     ]
    },
    {
     "name": "stderr",
     "output_type": "stream",
     "text": [
      "[INFO 08-11 14:51:29] ax.service.ax_client: Completed trial 4 with data: {'objective': (-1.862493, 0.0)}.\n"
     ]
    },
    {
     "name": "stderr",
     "output_type": "stream",
     "text": [
      "[INFO 08-11 14:51:29] ax.service.ax_client: Generated new trial 5 with parameters {'x0': 0.205064, 'x1': 0.616438, 'x2': 0.897563, 'x3': 0.28032, 'x4': 0.471537, 'x5': 0.31668, 'x6': 0.907842, 'x7': 0.078156}.\n"
     ]
    },
    {
     "name": "stderr",
     "output_type": "stream",
     "text": [
      "[INFO 08-11 14:51:29] ax.service.ax_client: Completed trial 5 with data: {'objective': (-6.764524, 0.0)}.\n"
     ]
    },
    {
     "name": "stderr",
     "output_type": "stream",
     "text": [
      "[INFO 08-11 14:51:29] ax.service.ax_client: Generated new trial 6 with parameters {'x0': 0.438927, 'x1': 0.395098, 'x2': 0.820474, 'x3': 0.999315, 'x4': 0.430435, 'x5': 0.485137, 'x6': 0.388609, 'x7': 0.157998}.\n"
     ]
    },
    {
     "name": "stderr",
     "output_type": "stream",
     "text": [
      "[INFO 08-11 14:51:29] ax.service.ax_client: Completed trial 6 with data: {'objective': (-14.38228, 0.0)}.\n"
     ]
    },
    {
     "name": "stderr",
     "output_type": "stream",
     "text": [
      "[INFO 08-11 14:51:29] ax.service.ax_client: Generated new trial 7 with parameters {'x0': 0.753854, 'x1': 0.395782, 'x2': 0.091211, 'x3': 0.00595, 'x4': 0.627023, 'x5': 0.696988, 'x6': 0.457529, 'x7': 0.158159}.\n"
     ]
    },
    {
     "name": "stderr",
     "output_type": "stream",
     "text": [
      "[INFO 08-11 14:51:29] ax.service.ax_client: Completed trial 7 with data: {'objective': (-42.984787, 0.0)}.\n"
     ]
    },
    {
     "name": "stderr",
     "output_type": "stream",
     "text": [
      "[INFO 08-11 14:51:29] ax.service.ax_client: Generated new trial 8 with parameters {'x0': 0.464185, 'x1': 0.657506, 'x2': 0.761901, 'x3': 0.988556, 'x4': 0.526658, 'x5': 0.751462, 'x6': 0.810781, 'x7': 0.985123}.\n"
     ]
    },
    {
     "name": "stderr",
     "output_type": "stream",
     "text": [
      "[INFO 08-11 14:51:29] ax.service.ax_client: Completed trial 8 with data: {'objective': (-48.435898, 0.0)}.\n"
     ]
    },
    {
     "name": "stderr",
     "output_type": "stream",
     "text": [
      "[INFO 08-11 14:51:29] ax.service.ax_client: Generated new trial 9 with parameters {'x0': 0.358249, 'x1': 0.033648, 'x2': 0.37198, 'x3': 0.012237, 'x4': 0.247182, 'x5': 0.980918, 'x6': 0.548523, 'x7': 0.593622}.\n"
     ]
    },
    {
     "name": "stderr",
     "output_type": "stream",
     "text": [
      "[INFO 08-11 14:51:29] ax.service.ax_client: Completed trial 9 with data: {'objective': (-43.131037, 0.0)}.\n"
     ]
    },
    {
     "name": "stderr",
     "output_type": "stream",
     "text": [
      "[INFO 08-11 14:52:09] ax.service.ax_client: Generated new trial 10 with parameters {'x0': 0.0, 'x1': 0.0, 'x2': 0.0, 'x3': 0.872158, 'x4': 0.0, 'x5': 0.0, 'x6': 1.0, 'x7': 0.0}.\n"
     ]
    },
    {
     "name": "stderr",
     "output_type": "stream",
     "text": [
      "[INFO 08-11 14:52:09] ax.service.ax_client: Completed trial 10 with data: {'objective': (-308.129096, 0.0)}.\n"
     ]
    },
    {
     "name": "stderr",
     "output_type": "stream",
     "text": [
      "[INFO 08-11 14:53:06] ax.service.ax_client: Generated new trial 11 with parameters {'x0': 1.0, 'x1': 0.0, 'x2': 0.0, 'x3': 0.0, 'x4': 0.0, 'x5': 0.0, 'x6': 0.0, 'x7': 0.0}.\n"
     ]
    },
    {
     "name": "stderr",
     "output_type": "stream",
     "text": [
      "[INFO 08-11 14:53:06] ax.service.ax_client: Completed trial 11 with data: {'objective': (-10.960889, 0.0)}.\n"
     ]
    },
    {
     "name": "stderr",
     "output_type": "stream",
     "text": [
      "[INFO 08-11 14:53:54] ax.service.ax_client: Generated new trial 12 with parameters {'x0': 1.0, 'x1': 0.0, 'x2': 1.0, 'x3': 0.664719, 'x4': 0.0, 'x5': 0.0, 'x6': 0.0, 'x7': 0.0}.\n"
     ]
    },
    {
     "name": "stderr",
     "output_type": "stream",
     "text": [
      "[INFO 08-11 14:53:54] ax.service.ax_client: Completed trial 12 with data: {'objective': (-10.960889, 0.0)}.\n"
     ]
    },
    {
     "name": "stderr",
     "output_type": "stream",
     "text": [
      "[INFO 08-11 14:54:49] ax.service.ax_client: Generated new trial 13 with parameters {'x0': 0.0, 'x1': 1.0, 'x2': 1.0, 'x3': 0.0, 'x4': 1.0, 'x5': 0.0, 'x6': 0.0, 'x7': 0.0}.\n"
     ]
    },
    {
     "name": "stderr",
     "output_type": "stream",
     "text": [
      "[INFO 08-11 14:54:49] ax.service.ax_client: Completed trial 13 with data: {'objective': (-17.5083, 0.0)}.\n"
     ]
    },
    {
     "name": "stderr",
     "output_type": "stream",
     "text": [
      "[INFO 08-11 14:55:51] ax.service.ax_client: Generated new trial 14 with parameters {'x0': 1.0, 'x1': 1.0, 'x2': 1.0, 'x3': 0.0, 'x4': 0.0, 'x5': 0.0, 'x6': 0.0, 'x7': 0.0}.\n"
     ]
    },
    {
     "name": "stderr",
     "output_type": "stream",
     "text": [
      "[INFO 08-11 14:55:51] ax.service.ax_client: Completed trial 14 with data: {'objective': (-145.872191, 0.0)}.\n"
     ]
    },
    {
     "name": "stderr",
     "output_type": "stream",
     "text": [
      "[INFO 08-11 14:56:41] ax.service.ax_client: Generated new trial 15 with parameters {'x0': 0.866847, 'x1': 0.0, 'x2': 0.0, 'x3': 0.0, 'x4': 0.0, 'x5': 0.0, 'x6': 0.0, 'x7': 1.0}.\n"
     ]
    },
    {
     "name": "stderr",
     "output_type": "stream",
     "text": [
      "[INFO 08-11 14:56:41] ax.service.ax_client: Completed trial 15 with data: {'objective': (-10.938652, 0.0)}.\n"
     ]
    },
    {
     "name": "stderr",
     "output_type": "stream",
     "text": [
      "[INFO 08-11 14:57:37] ax.service.ax_client: Generated new trial 16 with parameters {'x0': 1.0, 'x1': 0.0, 'x2': 0.0, 'x3': 1.0, 'x4': 0.0, 'x5': 1.0, 'x6': 0.0, 'x7': 0.0}.\n"
     ]
    },
    {
     "name": "stderr",
     "output_type": "stream",
     "text": [
      "[INFO 08-11 14:57:37] ax.service.ax_client: Completed trial 16 with data: {'objective': (-10.960889, 0.0)}.\n"
     ]
    },
    {
     "name": "stderr",
     "output_type": "stream",
     "text": [
      "[INFO 08-11 14:58:37] ax.service.ax_client: Generated new trial 17 with parameters {'x0': 1.0, 'x1': 0.0, 'x2': 0.0, 'x3': 1.0, 'x4': 1.0, 'x5': 0.0, 'x6': 0.0, 'x7': 0.0}.\n"
     ]
    },
    {
     "name": "stderr",
     "output_type": "stream",
     "text": [
      "[INFO 08-11 14:58:37] ax.service.ax_client: Completed trial 17 with data: {'objective': (-10.960889, 0.0)}.\n"
     ]
    },
    {
     "name": "stderr",
     "output_type": "stream",
     "text": [
      "[INFO 08-11 14:59:33] ax.service.ax_client: Generated new trial 18 with parameters {'x0': 1.0, 'x1': 0.0, 'x2': 1.0, 'x3': 0.0, 'x4': 1.0, 'x5': 0.0, 'x6': 1.0, 'x7': 0.0}.\n"
     ]
    },
    {
     "name": "stderr",
     "output_type": "stream",
     "text": [
      "[INFO 08-11 14:59:33] ax.service.ax_client: Completed trial 18 with data: {'objective': (-10.960889, 0.0)}.\n"
     ]
    },
    {
     "name": "stderr",
     "output_type": "stream",
     "text": [
      "[INFO 08-11 15:00:28] ax.service.ax_client: Generated new trial 19 with parameters {'x0': 0.262518, 'x1': 0.586209, 'x2': 1.0, 'x3': 0.0, 'x4': 1.0, 'x5': 1.0, 'x6': 0.0, 'x7': 0.0}.\n"
     ]
    },
    {
     "name": "stderr",
     "output_type": "stream",
     "text": [
      "[INFO 08-11 15:00:28] ax.service.ax_client: Completed trial 19 with data: {'objective': (-15.590937, 0.0)}.\n"
     ]
    },
    {
     "name": "stderr",
     "output_type": "stream",
     "text": [
      "[INFO 08-11 15:01:29] ax.service.ax_client: Generated new trial 20 with parameters {'x0': 0.917558, 'x1': 0.0, 'x2': 0.0, 'x3': 0.0, 'x4': 0.0, 'x5': 0.0, 'x6': 1.0, 'x7': 0.0}.\n"
     ]
    },
    {
     "name": "stderr",
     "output_type": "stream",
     "text": [
      "[INFO 08-11 15:01:29] ax.service.ax_client: Completed trial 20 with data: {'objective': (-6.317813, 0.0)}.\n"
     ]
    },
    {
     "name": "stderr",
     "output_type": "stream",
     "text": [
      "[INFO 08-11 15:02:28] ax.service.ax_client: Generated new trial 21 with parameters {'x0': 0.571964, 'x1': 0.0, 'x2': 1.0, 'x3': 0.0, 'x4': 0.0, 'x5': 0.0, 'x6': 0.0, 'x7': 0.0}.\n"
     ]
    },
    {
     "name": "stderr",
     "output_type": "stream",
     "text": [
      "[INFO 08-11 15:02:28] ax.service.ax_client: Completed trial 21 with data: {'objective': (-5.138674, 0.0)}.\n"
     ]
    },
    {
     "name": "stderr",
     "output_type": "stream",
     "text": [
      "[INFO 08-11 15:03:46] ax.service.ax_client: Generated new trial 22 with parameters {'x0': 0.108097, 'x1': 1.0, 'x2': 0.0, 'x3': 0.0, 'x4': 0.0, 'x5': 0.0, 'x6': 0.0, 'x7': 0.0}.\n"
     ]
    },
    {
     "name": "stderr",
     "output_type": "stream",
     "text": [
      "[INFO 08-11 15:03:46] ax.service.ax_client: Completed trial 22 with data: {'objective': (-5.281381, 0.0)}.\n"
     ]
    },
    {
     "name": "stderr",
     "output_type": "stream",
     "text": [
      "[INFO 08-11 15:04:50] ax.service.ax_client: Generated new trial 23 with parameters {'x0': 0.11245, 'x1': 0.816809, 'x2': 0.0, 'x3': 0.0, 'x4': 0.0, 'x5': 0.0, 'x6': 0.0, 'x7': 0.0}.\n"
     ]
    },
    {
     "name": "stderr",
     "output_type": "stream",
     "text": [
      "[INFO 08-11 15:04:50] ax.service.ax_client: Completed trial 23 with data: {'objective': (-0.731882, 0.0)}.\n"
     ]
    },
    {
     "name": "stderr",
     "output_type": "stream",
     "text": [
      "[INFO 08-11 15:05:55] ax.service.ax_client: Generated new trial 24 with parameters {'x0': 0.113096, 'x1': 0.868415, 'x2': 0.0, 'x3': 0.0, 'x4': 0.0, 'x5': 0.0, 'x6': 1.0, 'x7': 0.0}.\n"
     ]
    },
    {
     "name": "stderr",
     "output_type": "stream",
     "text": [
      "[INFO 08-11 15:05:55] ax.service.ax_client: Completed trial 24 with data: {'objective': (-0.652149, 0.0)}.\n"
     ]
    },
    {
     "name": "stderr",
     "output_type": "stream",
     "text": [
      "[INFO 08-11 15:06:59] ax.service.ax_client: Generated new trial 25 with parameters {'x0': 0.0, 'x1': 1.0, 'x2': 1.0, 'x3': 0.0, 'x4': 0.0, 'x5': 1.0, 'x6': 0.0, 'x7': 0.0}.\n"
     ]
    },
    {
     "name": "stderr",
     "output_type": "stream",
     "text": [
      "[INFO 08-11 15:06:59] ax.service.ax_client: Completed trial 25 with data: {'objective': (-17.5083, 0.0)}.\n"
     ]
    },
    {
     "name": "stderr",
     "output_type": "stream",
     "text": [
      "[INFO 08-11 15:08:02] ax.service.ax_client: Generated new trial 26 with parameters {'x0': 0.530208, 'x1': 0.167215, 'x2': 0.0, 'x3': 0.0, 'x4': 0.0, 'x5': 0.0, 'x6': 0.0, 'x7': 0.0}.\n"
     ]
    },
    {
     "name": "stderr",
     "output_type": "stream",
     "text": [
      "[INFO 08-11 15:08:02] ax.service.ax_client: Completed trial 26 with data: {'objective': (-0.574587, 0.0)}.\n"
     ]
    },
    {
     "name": "stderr",
     "output_type": "stream",
     "text": [
      "[INFO 08-11 15:09:03] ax.service.ax_client: Generated new trial 27 with parameters {'x0': 0.136699, 'x1': 0.81113, 'x2': 1.0, 'x3': 0.0, 'x4': 0.0, 'x5': 0.0, 'x6': 0.0, 'x7': 1.0}.\n"
     ]
    },
    {
     "name": "stderr",
     "output_type": "stream",
     "text": [
      "[INFO 08-11 15:09:03] ax.service.ax_client: Completed trial 27 with data: {'objective': (-0.696147, 0.0)}.\n"
     ]
    },
    {
     "name": "stderr",
     "output_type": "stream",
     "text": [
      "[INFO 08-11 15:09:57] ax.service.ax_client: Generated new trial 28 with parameters {'x0': 1.0, 'x1': 0.244575, 'x2': 0.0, 'x3': 0.0, 'x4': 0.0, 'x5': 0.0, 'x6': 0.0, 'x7': 0.0}.\n"
     ]
    },
    {
     "name": "stderr",
     "output_type": "stream",
     "text": [
      "[INFO 08-11 15:09:57] ax.service.ax_client: Completed trial 28 with data: {'objective': (-2.386257, 0.0)}.\n"
     ]
    },
    {
     "name": "stderr",
     "output_type": "stream",
     "text": [
      "[INFO 08-11 15:10:53] ax.service.ax_client: Generated new trial 29 with parameters {'x0': 0.953153, 'x1': 0.177357, 'x2': 0.0, 'x3': 0.0, 'x4': 0.0, 'x5': 0.0, 'x6': 0.0, 'x7': 0.0}.\n"
     ]
    },
    {
     "name": "stderr",
     "output_type": "stream",
     "text": [
      "[INFO 08-11 15:10:53] ax.service.ax_client: Completed trial 29 with data: {'objective': (-0.560355, 0.0)}.\n"
     ]
    },
    {
     "name": "stderr",
     "output_type": "stream",
     "text": [
      "[INFO 08-11 15:11:49] ax.service.ax_client: Generated new trial 30 with parameters {'x0': 0.517749, 'x1': 0.122568, 'x2': 0.0, 'x3': 0.0, 'x4': 0.0, 'x5': 1.0, 'x6': 1.0, 'x7': 0.0}.\n"
     ]
    },
    {
     "name": "stderr",
     "output_type": "stream",
     "text": [
      "[INFO 08-11 15:11:49] ax.service.ax_client: Completed trial 30 with data: {'objective': (-1.625041, 0.0)}.\n"
     ]
    },
    {
     "name": "stderr",
     "output_type": "stream",
     "text": [
      "[INFO 08-11 15:12:42] ax.service.ax_client: Generated new trial 31 with parameters {'x0': 0.132413, 'x1': 0.808022, 'x2': 0.0, 'x3': 1.0, 'x4': 0.0, 'x5': 1.0, 'x6': 0.0, 'x7': 0.0}.\n"
     ]
    },
    {
     "name": "stderr",
     "output_type": "stream",
     "text": [
      "[INFO 08-11 15:12:42] ax.service.ax_client: Completed trial 31 with data: {'objective': (-0.498764, 0.0)}.\n"
     ]
    },
    {
     "name": "stderr",
     "output_type": "stream",
     "text": [
      "[INFO 08-11 15:13:51] ax.service.ax_client: Generated new trial 32 with parameters {'x0': 0.564403, 'x1': 0.147338, 'x2': 0.0, 'x3': 0.0, 'x4': 0.0, 'x5': 0.0, 'x6': 0.0, 'x7': 0.0}.\n"
     ]
    },
    {
     "name": "stderr",
     "output_type": "stream",
     "text": [
      "[INFO 08-11 15:13:51] ax.service.ax_client: Completed trial 32 with data: {'objective': (-0.929324, 0.0)}.\n"
     ]
    },
    {
     "name": "stderr",
     "output_type": "stream",
     "text": [
      "[INFO 08-11 15:15:18] ax.service.ax_client: Generated new trial 33 with parameters {'x0': 0.972392, 'x1': 0.165374, 'x2': 0.0, 'x3': 0.0, 'x4': 0.0, 'x5': 0.0, 'x6': 0.0, 'x7': 1.0}.\n"
     ]
    },
    {
     "name": "stderr",
     "output_type": "stream",
     "text": [
      "[INFO 08-11 15:15:18] ax.service.ax_client: Completed trial 33 with data: {'objective': (-0.540079, 0.0)}.\n"
     ]
    },
    {
     "name": "stderr",
     "output_type": "stream",
     "text": [
      "[INFO 08-11 15:16:52] ax.service.ax_client: Generated new trial 34 with parameters {'x0': 0.5422, 'x1': 0.146529, 'x2': 1.0, 'x3': 1.0, 'x4': 1.0, 'x5': 0.0, 'x6': 0.0, 'x7': 0.0}.\n"
     ]
    },
    {
     "name": "stderr",
     "output_type": "stream",
     "text": [
      "[INFO 08-11 15:16:52] ax.service.ax_client: Completed trial 34 with data: {'objective': (-0.405259, 0.0)}.\n"
     ]
    },
    {
     "name": "stderr",
     "output_type": "stream",
     "text": [
      "[INFO 08-11 15:18:26] ax.service.ax_client: Generated new trial 35 with parameters {'x0': 0.967729, 'x1': 0.169491, 'x2': 0.0, 'x3': 1.0, 'x4': 0.0, 'x5': 0.0, 'x6': 1.0, 'x7': 0.0}.\n"
     ]
    },
    {
     "name": "stderr",
     "output_type": "stream",
     "text": [
      "[INFO 08-11 15:18:26] ax.service.ax_client: Completed trial 35 with data: {'objective': (-0.437863, 0.0)}.\n"
     ]
    },
    {
     "name": "stderr",
     "output_type": "stream",
     "text": [
      "[INFO 08-11 15:20:25] ax.service.ax_client: Generated new trial 36 with parameters {'x0': 0.543487, 'x1': 0.171605, 'x2': 1.0, 'x3': 0.0, 'x4': 0.0, 'x5': 0.0, 'x6': 1.0, 'x7': 0.0}.\n"
     ]
    },
    {
     "name": "stderr",
     "output_type": "stream",
     "text": [
      "[INFO 08-11 15:20:25] ax.service.ax_client: Completed trial 36 with data: {'objective': (-0.492944, 0.0)}.\n"
     ]
    },
    {
     "name": "stderr",
     "output_type": "stream",
     "text": [
      "[INFO 08-11 15:21:52] ax.service.ax_client: Generated new trial 37 with parameters {'x0': 0.543938, 'x1': 0.138065, 'x2': 0.0, 'x3': 0.0, 'x4': 0.0, 'x5': 0.0, 'x6': 0.0, 'x7': 1.0}.\n"
     ]
    },
    {
     "name": "stderr",
     "output_type": "stream",
     "text": [
      "[INFO 08-11 15:21:52] ax.service.ax_client: Completed trial 37 with data: {'objective': (-0.435617, 0.0)}.\n"
     ]
    },
    {
     "name": "stderr",
     "output_type": "stream",
     "text": [
      "[INFO 08-11 15:23:27] ax.service.ax_client: Generated new trial 38 with parameters {'x0': 0.105987, 'x1': 0.864337, 'x2': 0.0, 'x3': 1.0, 'x4': 0.0, 'x5': 0.0, 'x6': 0.0, 'x7': 1.0}.\n"
     ]
    },
    {
     "name": "stderr",
     "output_type": "stream",
     "text": [
      "[INFO 08-11 15:23:27] ax.service.ax_client: Completed trial 38 with data: {'objective': (-0.743448, 0.0)}.\n"
     ]
    },
    {
     "name": "stderr",
     "output_type": "stream",
     "text": [
      "[INFO 08-11 15:25:15] ax.service.ax_client: Generated new trial 39 with parameters {'x0': 0.129307, 'x1': 0.804259, 'x2': 0.0, 'x3': 0.0, 'x4': 1.0, 'x5': 0.0, 'x6': 1.0, 'x7': 1.0}.\n"
     ]
    },
    {
     "name": "stderr",
     "output_type": "stream",
     "text": [
      "[INFO 08-11 15:25:15] ax.service.ax_client: Completed trial 39 with data: {'objective': (-0.42981, 0.0)}.\n"
     ]
    },
    {
     "name": "stderr",
     "output_type": "stream",
     "text": [
      "[INFO 08-11 15:26:57] ax.service.ax_client: Generated new trial 40 with parameters {'x0': 0.965445, 'x1': 0.160704, 'x2': 1.0, 'x3': 0.0, 'x4': 0.0, 'x5': 1.0, 'x6': 0.0, 'x7': 0.0}.\n"
     ]
    },
    {
     "name": "stderr",
     "output_type": "stream",
     "text": [
      "[INFO 08-11 15:26:57] ax.service.ax_client: Completed trial 40 with data: {'objective': (-0.426163, 0.0)}.\n"
     ]
    },
    {
     "name": "stderr",
     "output_type": "stream",
     "text": [
      "[INFO 08-11 15:29:26] ax.service.ax_client: Generated new trial 41 with parameters {'x0': 0.116719, 'x1': 0.843864, 'x2': 1.0, 'x3': 0.0, 'x4': 1.0, 'x5': 1.0, 'x6': 0.0, 'x7': 0.0}.\n"
     ]
    },
    {
     "name": "stderr",
     "output_type": "stream",
     "text": [
      "[INFO 08-11 15:29:26] ax.service.ax_client: Completed trial 41 with data: {'objective': (-0.468529, 0.0)}.\n"
     ]
    },
    {
     "name": "stderr",
     "output_type": "stream",
     "text": [
      "[INFO 08-11 15:32:02] ax.service.ax_client: Generated new trial 42 with parameters {'x0': 0.131962, 'x1': 0.786126, 'x2': 0.0, 'x3': 0.0, 'x4': 0.0, 'x5': 0.0, 'x6': 0.0, 'x7': 0.0}.\n"
     ]
    },
    {
     "name": "stderr",
     "output_type": "stream",
     "text": [
      "[INFO 08-11 15:32:02] ax.service.ax_client: Completed trial 42 with data: {'objective': (-0.505819, 0.0)}.\n"
     ]
    },
    {
     "name": "stderr",
     "output_type": "stream",
     "text": [
      "[INFO 08-11 15:34:26] ax.service.ax_client: Generated new trial 43 with parameters {'x0': 0.535506, 'x1': 0.198756, 'x2': 0.0, 'x3': 0.0, 'x4': 0.0, 'x5': 1.0, 'x6': 0.0, 'x7': 0.0}.\n"
     ]
    },
    {
     "name": "stderr",
     "output_type": "stream",
     "text": [
      "[INFO 08-11 15:34:26] ax.service.ax_client: Completed trial 43 with data: {'objective': (-0.839025, 0.0)}.\n"
     ]
    },
    {
     "name": "stderr",
     "output_type": "stream",
     "text": [
      "[INFO 08-11 15:37:10] ax.service.ax_client: Generated new trial 44 with parameters {'x0': 0.54453, 'x1': 0.146982, 'x2': 0.0, 'x3': 1.0, 'x4': 0.0, 'x5': 0.0, 'x6': 0.0, 'x7': 0.0}.\n"
     ]
    },
    {
     "name": "stderr",
     "output_type": "stream",
     "text": [
      "[INFO 08-11 15:37:10] ax.service.ax_client: Completed trial 44 with data: {'objective': (-0.403704, 0.0)}.\n"
     ]
    },
    {
     "name": "stderr",
     "output_type": "stream",
     "text": [
      "[INFO 08-11 15:39:17] ax.service.ax_client: Generated new trial 45 with parameters {'x0': 0.974465, 'x1': 0.151129, 'x2': 0.0, 'x3': 0.0, 'x4': 0.0, 'x5': 0.0, 'x6': 0.0, 'x7': 0.0}.\n"
     ]
    },
    {
     "name": "stderr",
     "output_type": "stream",
     "text": [
      "[INFO 08-11 15:39:17] ax.service.ax_client: Completed trial 45 with data: {'objective': (-0.715288, 0.0)}.\n"
     ]
    },
    {
     "name": "stderr",
     "output_type": "stream",
     "text": [
      "[INFO 08-11 15:40:59] ax.service.ax_client: Generated new trial 46 with parameters {'x0': 0.12616, 'x1': 0.836231, 'x2': 0.0, 'x3': 0.0, 'x4': 0.0, 'x5': 0.0, 'x6': 0.0, 'x7': 0.0}.\n"
     ]
    },
    {
     "name": "stderr",
     "output_type": "stream",
     "text": [
      "[INFO 08-11 15:40:59] ax.service.ax_client: Completed trial 46 with data: {'objective': (-0.52593, 0.0)}.\n"
     ]
    },
    {
     "name": "stderr",
     "output_type": "stream",
     "text": [
      "[INFO 08-11 15:43:28] ax.service.ax_client: Generated new trial 47 with parameters {'x0': 0.960324, 'x1': 0.165188, 'x2': 0.0, 'x3': 0.0, 'x4': 1.0, 'x5': 0.0, 'x6': 0.0, 'x7': 0.0}.\n"
     ]
    },
    {
     "name": "stderr",
     "output_type": "stream",
     "text": [
      "[INFO 08-11 15:43:28] ax.service.ax_client: Completed trial 47 with data: {'objective': (-0.400174, 0.0)}.\n"
     ]
    },
    {
     "name": "stderr",
     "output_type": "stream",
     "text": [
      "[INFO 08-11 15:46:17] ax.service.ax_client: Generated new trial 48 with parameters {'x0': 0.124775, 'x1': 0.812214, 'x2': 1.0, 'x3': 1.0, 'x4': 0.0, 'x5': 0.0, 'x6': 1.0, 'x7': 0.0}.\n"
     ]
    },
    {
     "name": "stderr",
     "output_type": "stream",
     "text": [
      "[INFO 08-11 15:46:17] ax.service.ax_client: Completed trial 48 with data: {'objective': (-0.402332, 0.0)}.\n"
     ]
    },
    {
     "name": "stderr",
     "output_type": "stream",
     "text": [
      "[INFO 08-11 15:49:26] ax.service.ax_client: Generated new trial 49 with parameters {'x0': 0.958552, 'x1': 0.17102, 'x2': 0.0, 'x3': 0.0, 'x4': 0.0, 'x5': 1.0, 'x6': 1.0, 'x7': 1.0}.\n"
     ]
    },
    {
     "name": "stderr",
     "output_type": "stream",
     "text": [
      "[INFO 08-11 15:49:26] ax.service.ax_client: Completed trial 49 with data: {'objective': (-0.424969, 0.0)}.\n"
     ]
    }
   ],
   "source": [
    "for _ in range(NUM_TRIALS+N_INIT):    \n",
    "    parameters, trial_index = ax_client.get_next_trial()\n",
    "    res = evaluation(parameters)\n",
    "    ax_client.complete_trial(trial_index=trial_index, raw_data=res)"
   ]
  }
 ],
 "metadata": {
  "fileHeader": "",
  "kernelspec": {
   "display_name": "python3",
   "language": "python",
   "name": "python3"
  },
  "language_info": {
   "codemirror_mode": {
    "name": "ipython",
    "version": 3
   },
   "file_extension": ".py",
   "mimetype": "text/x-python",
   "name": "python",
   "nbconvert_exporter": "python",
   "pygments_lexer": "ipython3",
   "version": "3.9.17"
  }
 },
 "nbformat": 4,
 "nbformat_minor": 2
}
