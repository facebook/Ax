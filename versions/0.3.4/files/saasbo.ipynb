{
 "cells": [
  {
   "cell_type": "markdown",
   "metadata": {
    "originalKey": "1f779465-f9cc-4b17-9b5a-5960cf602273"
   },
   "source": [
    "# High-Dimensional Bayesian Optimization with SAASBO\n",
    "\n",
    "This tutorial shows how to use the Sparse Axis-Aligned Subspace Bayesian Optimization (SAASBO) method for high-dimensional Bayesian optimization [1]. SAASBO places strong priors on the inverse lengthscales to avoid overfitting in high-dimensional spaces. Specifically, SAASBO uses a hierarchical sparsity prior consisting of a global shrinkage parameter $\\tau \\sim \\mathcal{HC}(\\beta)$ and inverse lengthscales $\\rho_d \\sim \\mathcal{HC}(\\tau)$ for $d=1, ..., D$, where $\\mathcal{HC}$ is the half-Cauchy distribution. While half-Cauchy priors favor values near zero they also have heavy tails, which allows the inverse lengthscales of the most important parameters to escape zero. To do inference in the SAAS model we use Hamiltonian Monte Carlo (HMC) as we found that to outperform MAP inference.\n",
    "\n",
    "We find that SAASBO performs well on problems with hundreds of dimensions. As we rely on HMC and in particular the No-U-Turn-Sampler (NUTS) for inference, the overhead of SAASBO scales cubically with the number of datapoints. Depending on the problem, using more than $100$ evaluations may not be feasible as SAASBO is designed for problems with a limited evaluation budget.\n",
    "\n",
    "[1] D. Eriksson, M. Jankowiak. High-Dimensional Bayesian Optimization with Sparse Axis-Aligned Subspaces. Proceedings of the Thirty-Seventh Conference on Uncertainty in Artificial Intelligence, 2021."
   ]
  },
  {
   "cell_type": "code",
   "execution_count": 1,
   "metadata": {
    "execution": {
     "iopub.execute_input": "2023-08-11T16:10:21.307941Z",
     "iopub.status.busy": "2023-08-11T16:10:21.307601Z",
     "iopub.status.idle": "2023-08-11T16:10:27.646044Z",
     "shell.execute_reply": "2023-08-11T16:10:27.644873Z"
    },
    "originalKey": "36a4c036-4075-4b15-87b2-a399c318f7b6"
   },
   "outputs": [],
   "source": [
    "import os\n",
    "\n",
    "from ax import Data, Experiment, ParameterType, RangeParameter, SearchSpace\n",
    "from ax.modelbridge.generation_strategy import GenerationStep, GenerationStrategy\n",
    "from ax.modelbridge.registry import Models\n",
    "from ax.runners.synthetic import SyntheticRunner"
   ]
  },
  {
   "cell_type": "code",
   "execution_count": 2,
   "metadata": {
    "execution": {
     "iopub.execute_input": "2023-08-11T16:10:27.651370Z",
     "iopub.status.busy": "2023-08-11T16:10:27.650721Z",
     "iopub.status.idle": "2023-08-11T16:10:27.655129Z",
     "shell.execute_reply": "2023-08-11T16:10:27.654528Z"
    }
   },
   "outputs": [],
   "source": [
    "SMOKE_TEST = os.environ.get(\"SMOKE_TEST\")"
   ]
  },
  {
   "cell_type": "code",
   "execution_count": 3,
   "metadata": {
    "execution": {
     "iopub.execute_input": "2023-08-11T16:10:27.658051Z",
     "iopub.status.busy": "2023-08-11T16:10:27.657818Z",
     "iopub.status.idle": "2023-08-11T16:10:27.693841Z",
     "shell.execute_reply": "2023-08-11T16:10:27.693075Z"
    },
    "originalKey": "08bf2c1e-5909-4bde-8829-0fb0d0a29a25"
   },
   "outputs": [],
   "source": [
    "import torch\n",
    "\n",
    "\n",
    "torch.manual_seed(12345)  # To always get the same Sobol points\n",
    "tkwargs = {\n",
    "    \"dtype\": torch.double,\n",
    "    \"device\": torch.device(\"cuda\" if torch.cuda.is_available() else \"cpu\"),\n",
    "}"
   ]
  },
  {
   "cell_type": "markdown",
   "metadata": {
    "originalKey": "2f9bd4f6-87d6-42d9-b575-f92cf94de7b0"
   },
   "source": [
    "## Setup search space and metric\n",
    "In this simple experiment we use the Branin function embedded in a 50-dimensional space. Additional resources:\n",
    "- To set up a custom metric for your problem, refer to the dedicated section of the Developer API tutorial: https://ax.dev/tutorials/gpei_hartmann_developer.html#8.-Defining-custom-metrics.\n",
    "- To avoid needing to setup up custom metrics by Ax Service API: https://ax.dev/tutorials/gpei_hartmann_service.html."
   ]
  },
  {
   "cell_type": "code",
   "execution_count": 4,
   "metadata": {
    "execution": {
     "iopub.execute_input": "2023-08-11T16:10:27.697563Z",
     "iopub.status.busy": "2023-08-11T16:10:27.697244Z",
     "iopub.status.idle": "2023-08-11T16:10:27.703235Z",
     "shell.execute_reply": "2023-08-11T16:10:27.702464Z"
    },
    "originalKey": "7697c80d-ab0c-4884-b4c7-c75d24a07e1a"
   },
   "outputs": [],
   "source": [
    "from ax.core.metric import Metric\n",
    "from ax.core.objective import Objective\n",
    "from ax.core.optimization_config import OptimizationConfig\n",
    "from ax.metrics.branin import BraninMetric\n",
    "\n",
    "\n",
    "search_space = SearchSpace(\n",
    "    parameters=[\n",
    "        RangeParameter(\n",
    "            name=f\"x{i}\", parameter_type=ParameterType.FLOAT, lower=-5.0, upper=10.0\n",
    "        )\n",
    "        for i in range(25)\n",
    "    ]\n",
    "    + [\n",
    "        RangeParameter(\n",
    "            name=f\"x{i + 25}\",\n",
    "            parameter_type=ParameterType.FLOAT,\n",
    "            lower=0.0,\n",
    "            upper=15.0,\n",
    "        )\n",
    "        for i in range(25)\n",
    "    ]\n",
    ")\n",
    "\n",
    "optimization_config = OptimizationConfig(\n",
    "    objective=Objective(\n",
    "        metric=BraninMetric(\n",
    "            name=\"objective\",\n",
    "            param_names=[\"x19\", \"x44\"],\n",
    "            noise_sd=0.0,  # Set noise_sd=None if you want to learn the noise, otherwise it defaults to 1e-6\n",
    "        ),\n",
    "        minimize=True,\n",
    "    )\n",
    ")"
   ]
  },
  {
   "cell_type": "markdown",
   "metadata": {
    "originalKey": "379571df-a141-48f7-84de-f75bc6e8e760"
   },
   "source": [
    "## Run benchmark"
   ]
  },
  {
   "cell_type": "code",
   "execution_count": 5,
   "metadata": {
    "execution": {
     "iopub.execute_input": "2023-08-11T16:10:27.706176Z",
     "iopub.status.busy": "2023-08-11T16:10:27.705935Z",
     "iopub.status.idle": "2023-08-11T16:10:27.709759Z",
     "shell.execute_reply": "2023-08-11T16:10:27.709248Z"
    }
   },
   "outputs": [
    {
     "name": "stdout",
     "output_type": "stream",
     "text": [
      "Doing 40 evaluations\n"
     ]
    }
   ],
   "source": [
    "N_INIT = 10\n",
    "BATCH_SIZE = 3\n",
    "\n",
    "if SMOKE_TEST:\n",
    "    N_BATCHES = 1\n",
    "else:\n",
    "    N_BATCHES = 10\n",
    "\n",
    "print(f\"Doing {N_INIT + N_BATCHES * BATCH_SIZE} evaluations\")"
   ]
  },
  {
   "cell_type": "code",
   "execution_count": 6,
   "metadata": {
    "execution": {
     "iopub.execute_input": "2023-08-11T16:10:27.712453Z",
     "iopub.status.busy": "2023-08-11T16:10:27.712212Z",
     "iopub.status.idle": "2023-08-11T16:10:27.715539Z",
     "shell.execute_reply": "2023-08-11T16:10:27.714998Z"
    }
   },
   "outputs": [],
   "source": [
    "# Experiment\n",
    "experiment = Experiment(\n",
    "    name=\"saasbo_experiment\",\n",
    "    search_space=search_space,\n",
    "    optimization_config=optimization_config,\n",
    "    runner=SyntheticRunner(),\n",
    ")"
   ]
  },
  {
   "cell_type": "code",
   "execution_count": 7,
   "metadata": {
    "execution": {
     "iopub.execute_input": "2023-08-11T16:10:27.718284Z",
     "iopub.status.busy": "2023-08-11T16:10:27.718052Z",
     "iopub.status.idle": "2023-08-11T16:10:27.745880Z",
     "shell.execute_reply": "2023-08-11T16:10:27.745040Z"
    }
   },
   "outputs": [],
   "source": [
    "# Initial Sobol points\n",
    "sobol = Models.SOBOL(search_space=experiment.search_space)\n",
    "for _ in range(N_INIT):\n",
    "    experiment.new_trial(sobol.gen(1)).run()"
   ]
  },
  {
   "cell_type": "code",
   "execution_count": 8,
   "metadata": {
    "execution": {
     "iopub.execute_input": "2023-08-11T16:10:27.750425Z",
     "iopub.status.busy": "2023-08-11T16:10:27.750049Z",
     "iopub.status.idle": "2023-08-11T17:15:25.193056Z",
     "shell.execute_reply": "2023-08-11T17:15:25.192258Z"
    },
    "originalKey": "bdfeea50-c4e6-4ff1-91ae-c8f6c3160d7c"
   },
   "outputs": [
    {
     "name": "stdout",
     "output_type": "stream",
     "text": [
      "Iteration: 0, Best in iteration 308.129, Best so far: 9.413\n"
     ]
    },
    {
     "name": "stdout",
     "output_type": "stream",
     "text": [
      "Iteration: 1, Best in iteration 5.579, Best so far: 5.579\n"
     ]
    },
    {
     "name": "stdout",
     "output_type": "stream",
     "text": [
      "Iteration: 2, Best in iteration 2.381, Best so far: 2.381\n"
     ]
    },
    {
     "name": "stdout",
     "output_type": "stream",
     "text": [
      "Iteration: 3, Best in iteration 5.811, Best so far: 2.381\n"
     ]
    },
    {
     "name": "stdout",
     "output_type": "stream",
     "text": [
      "Iteration: 4, Best in iteration 145.872, Best so far: 2.381\n"
     ]
    },
    {
     "name": "stdout",
     "output_type": "stream",
     "text": [
      "Iteration: 5, Best in iteration 0.479, Best so far: 0.479\n"
     ]
    },
    {
     "name": "stdout",
     "output_type": "stream",
     "text": [
      "Iteration: 6, Best in iteration 0.418, Best so far: 0.418\n"
     ]
    },
    {
     "name": "stdout",
     "output_type": "stream",
     "text": [
      "Iteration: 7, Best in iteration 0.420, Best so far: 0.418\n"
     ]
    },
    {
     "name": "stdout",
     "output_type": "stream",
     "text": [
      "Iteration: 8, Best in iteration 0.404, Best so far: 0.404\n"
     ]
    },
    {
     "name": "stdout",
     "output_type": "stream",
     "text": [
      "Iteration: 9, Best in iteration 2.705, Best so far: 0.404\n",
      "CPU times: user 4h 20min 48s, sys: 10min 2s, total: 4h 30min 50s\n",
      "Wall time: 1h 4min 57s\n"
     ]
    }
   ],
   "source": [
    "%%time\n",
    "# Run SAASBO\n",
    "data = experiment.fetch_data()\n",
    "for i in range(N_BATCHES):\n",
    "    model = Models.FULLYBAYESIAN(\n",
    "        experiment=experiment,\n",
    "        data=data,\n",
    "        num_samples=256,  # Increasing this may result in better model fits\n",
    "        warmup_steps=512,  # Increasing this may result in better model fits\n",
    "        gp_kernel=\"rbf\",  # \"rbf\" is the default in the paper, but we also support \"matern\"\n",
    "        torch_device=tkwargs[\"device\"],\n",
    "        torch_dtype=tkwargs[\"dtype\"],\n",
    "        verbose=False,  # Set to True to print stats from MCMC\n",
    "        disable_progbar=True,  # Set to False to print a progress bar from MCMC\n",
    "    )\n",
    "    generator_run = model.gen(BATCH_SIZE)\n",
    "    trial = experiment.new_batch_trial(generator_run=generator_run)\n",
    "    trial.run()\n",
    "    data = Data.from_multiple_data([data, trial.fetch_data()])\n",
    "\n",
    "    new_value = trial.fetch_data().df[\"mean\"].min()\n",
    "    print(\n",
    "        f\"Iteration: {i}, Best in iteration {new_value:.3f}, Best so far: {data.df['mean'].min():.3f}\"\n",
    "    )"
   ]
  },
  {
   "cell_type": "markdown",
   "metadata": {},
   "source": [
    "## Plot results\n",
    "SAASBO is able to find a solution close to the global optimal value of 0.398"
   ]
  },
  {
   "cell_type": "code",
   "execution_count": 9,
   "metadata": {
    "execution": {
     "iopub.execute_input": "2023-08-11T17:15:25.196559Z",
     "iopub.status.busy": "2023-08-11T17:15:25.196289Z",
     "iopub.status.idle": "2023-08-11T17:15:27.059520Z",
     "shell.execute_reply": "2023-08-11T17:15:27.058944Z"
    },
    "originalKey": "5a9b9706-2653-4320-96f3-4bc9fe88bceb"
   },
   "outputs": [
    {
     "data": {
      "image/png": "[encoded data removed]",
      "text/plain": [
       "<Figure size 800x600 with 1 Axes>"
      ]
     },
     "metadata": {},
     "output_type": "display_data"
    }
   ],
   "source": [
    "import matplotlib\n",
    "import matplotlib.pyplot as plt\n",
    "import numpy as np\n",
    "\n",
    "%matplotlib inline\n",
    "matplotlib.rcParams.update({\"font.size\": 16})\n",
    "\n",
    "\n",
    "fig, ax = plt.subplots(figsize=(8, 6))\n",
    "res_saasbo = data.df[\"mean\"]\n",
    "ax.plot(np.minimum.accumulate(res_saasbo), color=\"b\", label=\"SAASBO\")\n",
    "ax.plot([0, len(res_saasbo)], [0.398, 0.398], \"--\", c=\"g\", lw=3, label=\"Optimal value\")\n",
    "ax.grid(True)\n",
    "ax.set_title(\"Branin, D=50\", fontsize=20)\n",
    "ax.set_xlabel(\"Number of evaluations\", fontsize=20)\n",
    "ax.set_xlim([0, len(res_saasbo)])\n",
    "ax.set_ylabel(\"Best value found\", fontsize=20)\n",
    "ax.set_ylim([0, 8])\n",
    "ax.legend(fontsize=18)\n",
    "plt.show()"
   ]
  },
  {
   "cell_type": "markdown",
   "metadata": {},
   "source": [
    "## SAAS model fit"
   ]
  },
  {
   "cell_type": "markdown",
   "metadata": {},
   "source": [
    "We fit a SAAS model with the same settings as above"
   ]
  },
  {
   "cell_type": "code",
   "execution_count": 10,
   "metadata": {
    "execution": {
     "iopub.execute_input": "2023-08-11T17:15:27.062712Z",
     "iopub.status.busy": "2023-08-11T17:15:27.062383Z",
     "iopub.status.idle": "2023-08-11T17:17:10.430405Z",
     "shell.execute_reply": "2023-08-11T17:17:10.429615Z"
    }
   },
   "outputs": [
    {
     "name": "stderr",
     "output_type": "stream",
     "text": [
      "\r",
      "Warmup:   0%|                                                                                                                                                                                                                           | 0/768 [00:00, ?it/s]"
     ]
    },
    {
     "name": "stderr",
     "output_type": "stream",
     "text": [
      "\r",
      "Warmup:   0%|▏                                           | 3/768 [00:00, 19.81it/s, step size=8.77e-02, acc. prob=0.468]                                                                                                                                      "
     ]
    },
    {
     "name": "stderr",
     "output_type": "stream",
     "text": [
      "\r",
      "Warmup:   1%|▎                                           | 5/768 [00:00,  8.36it/s, step size=1.93e-01, acc. prob=0.675]"
     ]
    },
    {
     "name": "stderr",
     "output_type": "stream",
     "text": [
      "\r",
      "Warmup:   1%|▍                                           | 7/768 [00:00, 10.15it/s, step size=7.24e-02, acc. prob=0.669]"
     ]
    },
    {
     "name": "stderr",
     "output_type": "stream",
     "text": [
      "\r",
      "Warmup:   1%|▌                                           | 9/768 [00:01,  7.16it/s, step size=2.07e-01, acc. prob=0.737]"
     ]
    },
    {
     "name": "stderr",
     "output_type": "stream",
     "text": [
      "\r",
      "Warmup:   1%|▌                                          | 10/768 [00:01,  7.55it/s, step size=2.78e-01, acc. prob=0.752]"
     ]
    },
    {
     "name": "stderr",
     "output_type": "stream",
     "text": [
      "\r",
      "Warmup:   1%|▌                                          | 11/768 [00:01,  7.91it/s, step size=6.83e-02, acc. prob=0.716]"
     ]
    },
    {
     "name": "stderr",
     "output_type": "stream",
     "text": [
      "\r",
      "Warmup:   2%|▋                                          | 12/768 [00:01,  6.63it/s, step size=1.28e-01, acc. prob=0.740]"
     ]
    },
    {
     "name": "stderr",
     "output_type": "stream",
     "text": [
      "\r",
      "Warmup:   2%|▋                                          | 13/768 [00:01,  6.55it/s, step size=1.85e-01, acc. prob=0.753]"
     ]
    },
    {
     "name": "stderr",
     "output_type": "stream",
     "text": [
      "\r",
      "Warmup:   2%|▊                                          | 15/768 [00:01,  6.74it/s, step size=1.64e-01, acc. prob=0.756]"
     ]
    },
    {
     "name": "stderr",
     "output_type": "stream",
     "text": [
      "\r",
      "Warmup:   2%|▉                                          | 17/768 [00:02,  7.87it/s, step size=6.24e-02, acc. prob=0.742]"
     ]
    },
    {
     "name": "stderr",
     "output_type": "stream",
     "text": [
      "\r",
      "Warmup:   2%|█                                          | 18/768 [00:02,  7.12it/s, step size=1.15e-01, acc. prob=0.756]"
     ]
    },
    {
     "name": "stderr",
     "output_type": "stream",
     "text": [
      "\r",
      "Warmup:   2%|█                                          | 19/768 [00:02,  6.50it/s, step size=5.45e-02, acc. prob=0.745]"
     ]
    },
    {
     "name": "stderr",
     "output_type": "stream",
     "text": [
      "\r",
      "Warmup:   3%|█                                          | 20/768 [00:02,  6.14it/s, step size=9.87e-02, acc. prob=0.757]"
     ]
    },
    {
     "name": "stderr",
     "output_type": "stream",
     "text": [
      "\r",
      "Warmup:   3%|█▏                                         | 21/768 [00:02,  5.89it/s, step size=1.80e-01, acc. prob=0.769]"
     ]
    },
    {
     "name": "stderr",
     "output_type": "stream",
     "text": [
      "\r",
      "Warmup:   3%|█▎                                         | 23/768 [00:03,  6.33it/s, step size=8.23e-02, acc. prob=0.759]"
     ]
    },
    {
     "name": "stderr",
     "output_type": "stream",
     "text": [
      "\r",
      "Warmup:   3%|█▎                                         | 24/768 [00:03,  5.99it/s, step size=1.39e-01, acc. prob=0.768]"
     ]
    },
    {
     "name": "stderr",
     "output_type": "stream",
     "text": [
      "\r",
      "Warmup:   3%|█▍                                         | 25/768 [00:03,  6.62it/s, step size=1.69e-02, acc. prob=0.740]"
     ]
    },
    {
     "name": "stderr",
     "output_type": "stream",
     "text": [
      "\r",
      "Warmup:   3%|█▍                                         | 26/768 [00:03,  6.12it/s, step size=3.09e-02, acc. prob=0.750]"
     ]
    },
    {
     "name": "stderr",
     "output_type": "stream",
     "text": [
      "\r",
      "Warmup:   4%|█▌                                         | 27/768 [00:03,  5.83it/s, step size=5.59e-02, acc. prob=0.759]"
     ]
    },
    {
     "name": "stderr",
     "output_type": "stream",
     "text": [
      "\r",
      "Warmup:   4%|█▌                                         | 28/768 [00:04,  5.63it/s, step size=8.70e-02, acc. prob=0.766]"
     ]
    },
    {
     "name": "stderr",
     "output_type": "stream",
     "text": [
      "\r",
      "Warmup:   4%|█▌                                         | 29/768 [00:04,  5.51it/s, step size=1.41e-02, acc. prob=0.744]"
     ]
    },
    {
     "name": "stderr",
     "output_type": "stream",
     "text": [
      "\r",
      "Warmup:   4%|█▋                                         | 30/768 [00:04,  5.35it/s, step size=2.51e-02, acc. prob=0.752]"
     ]
    },
    {
     "name": "stderr",
     "output_type": "stream",
     "text": [
      "\r",
      "Warmup:   4%|█▋                                         | 31/768 [00:04,  5.31it/s, step size=4.43e-02, acc. prob=0.760]"
     ]
    },
    {
     "name": "stderr",
     "output_type": "stream",
     "text": [
      "\r",
      "Warmup:   4%|█▊                                         | 32/768 [00:04,  5.27it/s, step size=7.73e-02, acc. prob=0.768]"
     ]
    },
    {
     "name": "stderr",
     "output_type": "stream",
     "text": [
      "\r",
      "Warmup:   4%|█▊                                         | 33/768 [00:05,  5.27it/s, step size=1.28e-01, acc. prob=0.774]"
     ]
    },
    {
     "name": "stderr",
     "output_type": "stream",
     "text": [
      "\r",
      "Warmup:   5%|█▉                                         | 35/768 [00:05,  6.12it/s, step size=3.07e-02, acc. prob=0.760]"
     ]
    },
    {
     "name": "stderr",
     "output_type": "stream",
     "text": [
      "\r",
      "Warmup:   5%|██                                         | 36/768 [00:05,  5.86it/s, step size=4.86e-02, acc. prob=0.765]"
     ]
    },
    {
     "name": "stderr",
     "output_type": "stream",
     "text": [
      "\r",
      "Warmup:   5%|██                                         | 37/768 [00:05,  5.66it/s, step size=8.23e-02, acc. prob=0.772]"
     ]
    },
    {
     "name": "stderr",
     "output_type": "stream",
     "text": [
      "\r",
      "Warmup:   5%|██▏                                        | 39/768 [00:05,  6.62it/s, step size=1.85e-02, acc. prob=0.758]"
     ]
    },
    {
     "name": "stderr",
     "output_type": "stream",
     "text": [
      "\r",
      "Warmup:   5%|██▏                                        | 40/768 [00:06,  6.22it/s, step size=3.13e-02, acc. prob=0.764]"
     ]
    },
    {
     "name": "stderr",
     "output_type": "stream",
     "text": [
      "\r",
      "Warmup:   5%|██▎                                        | 41/768 [00:06,  5.94it/s, step size=5.30e-02, acc. prob=0.769]"
     ]
    },
    {
     "name": "stderr",
     "output_type": "stream",
     "text": [
      "\r",
      "Warmup:   5%|██▎                                        | 42/768 [00:06,  5.71it/s, step size=7.92e-02, acc. prob=0.774]"
     ]
    },
    {
     "name": "stderr",
     "output_type": "stream",
     "text": [
      "\r",
      "Warmup:   6%|██▍                                        | 44/768 [00:06,  6.60it/s, step size=2.20e-02, acc. prob=0.763]"
     ]
    },
    {
     "name": "stderr",
     "output_type": "stream",
     "text": [
      "\r",
      "Warmup:   6%|██▌                                        | 45/768 [00:06,  6.20it/s, step size=3.61e-02, acc. prob=0.768]"
     ]
    },
    {
     "name": "stderr",
     "output_type": "stream",
     "text": [
      "\r",
      "Warmup:   6%|██▌                                        | 46/768 [00:07,  5.93it/s, step size=4.66e-02, acc. prob=0.770]"
     ]
    },
    {
     "name": "stderr",
     "output_type": "stream",
     "text": [
      "\r",
      "Warmup:   6%|██▋                                        | 47/768 [00:07,  5.67it/s, step size=7.09e-02, acc. prob=0.775]"
     ]
    },
    {
     "name": "stderr",
     "output_type": "stream",
     "text": [
      "\r",
      "Warmup:   6%|██▋                                        | 48/768 [00:07,  5.44it/s, step size=5.86e-02, acc. prob=0.773]"
     ]
    },
    {
     "name": "stderr",
     "output_type": "stream",
     "text": [
      "\r",
      "Warmup:   6%|██▋                                        | 49/768 [00:07,  5.28it/s, step size=5.69e-02, acc. prob=0.773]"
     ]
    },
    {
     "name": "stderr",
     "output_type": "stream",
     "text": [
      "\r",
      "Warmup:   7%|██▊                                        | 50/768 [00:07,  5.26it/s, step size=6.40e-02, acc. prob=0.775]"
     ]
    },
    {
     "name": "stderr",
     "output_type": "stream",
     "text": [
      "\r",
      "Warmup:   7%|██▊                                        | 51/768 [00:08,  5.26it/s, step size=5.28e-02, acc. prob=0.773]"
     ]
    },
    {
     "name": "stderr",
     "output_type": "stream",
     "text": [
      "\r",
      "Warmup:   7%|██▉                                        | 52/768 [00:08,  5.25it/s, step size=6.96e-02, acc. prob=0.776]"
     ]
    },
    {
     "name": "stderr",
     "output_type": "stream",
     "text": [
      "\r",
      "Warmup:   7%|██▉                                        | 53/768 [00:08,  5.79it/s, step size=1.84e-02, acc. prob=0.766]"
     ]
    },
    {
     "name": "stderr",
     "output_type": "stream",
     "text": [
      "\r",
      "Warmup:   7%|███                                        | 54/768 [00:08,  5.61it/s, step size=2.99e-02, acc. prob=0.770]"
     ]
    },
    {
     "name": "stderr",
     "output_type": "stream",
     "text": [
      "\r",
      "Warmup:   7%|███                                        | 55/768 [00:08,  4.79it/s, step size=4.78e-02, acc. prob=0.774]"
     ]
    },
    {
     "name": "stderr",
     "output_type": "stream",
     "text": [
      "\r",
      "Warmup:   7%|███▏                                       | 56/768 [00:09,  4.92it/s, step size=7.60e-02, acc. prob=0.778]"
     ]
    },
    {
     "name": "stderr",
     "output_type": "stream",
     "text": [
      "\r",
      "Warmup:   7%|███▏                                       | 57/768 [00:09,  4.85it/s, step size=8.72e-02, acc. prob=0.779]"
     ]
    },
    {
     "name": "stderr",
     "output_type": "stream",
     "text": [
      "\r",
      "Warmup:   8%|███▎                                       | 59/768 [00:09,  5.82it/s, step size=2.88e-02, acc. prob=0.771]"
     ]
    },
    {
     "name": "stderr",
     "output_type": "stream",
     "text": [
      "\r",
      "Warmup:   8%|███▎                                       | 60/768 [00:09,  5.66it/s, step size=4.24e-02, acc. prob=0.775]"
     ]
    },
    {
     "name": "stderr",
     "output_type": "stream",
     "text": [
      "\r",
      "Warmup:   8%|███▍                                       | 61/768 [00:09,  5.53it/s, step size=6.56e-02, acc. prob=0.778]"
     ]
    },
    {
     "name": "stderr",
     "output_type": "stream",
     "text": [
      "\r",
      "Warmup:   8%|███▍                                       | 62/768 [00:10,  5.86it/s, step size=1.52e-02, acc. prob=0.767]"
     ]
    },
    {
     "name": "stderr",
     "output_type": "stream",
     "text": [
      "\r",
      "Warmup:   8%|███▌                                       | 63/768 [00:10,  5.54it/s, step size=2.38e-02, acc. prob=0.771]"
     ]
    },
    {
     "name": "stderr",
     "output_type": "stream",
     "text": [
      "\r",
      "Warmup:   8%|███▌                                       | 64/768 [00:10,  5.29it/s, step size=3.61e-02, acc. prob=0.774]"
     ]
    },
    {
     "name": "stderr",
     "output_type": "stream",
     "text": [
      "\r",
      "Warmup:   8%|███▋                                       | 65/768 [00:10,  5.11it/s, step size=4.81e-02, acc. prob=0.777]"
     ]
    },
    {
     "name": "stderr",
     "output_type": "stream",
     "text": [
      "\r",
      "Warmup:   9%|███▋                                       | 66/768 [00:10,  4.79it/s, step size=7.44e-02, acc. prob=0.780]"
     ]
    },
    {
     "name": "stderr",
     "output_type": "stream",
     "text": [
      "\r",
      "Warmup:   9%|███▊                                       | 67/768 [00:11,  4.79it/s, step size=1.74e-02, acc. prob=0.770]"
     ]
    },
    {
     "name": "stderr",
     "output_type": "stream",
     "text": [
      "\r",
      "Warmup:   9%|███▊                                       | 68/768 [00:11,  4.67it/s, step size=2.70e-02, acc. prob=0.773]"
     ]
    },
    {
     "name": "stderr",
     "output_type": "stream",
     "text": [
      "\r",
      "Warmup:   9%|███▊                                       | 69/768 [00:11,  4.67it/s, step size=4.17e-02, acc. prob=0.777]"
     ]
    },
    {
     "name": "stderr",
     "output_type": "stream",
     "text": [
      "\r",
      "Warmup:   9%|███▉                                       | 70/768 [00:11,  4.64it/s, step size=6.23e-02, acc. prob=0.780]"
     ]
    },
    {
     "name": "stderr",
     "output_type": "stream",
     "text": [
      "\r",
      "Warmup:   9%|███▉                                       | 71/768 [00:12,  4.71it/s, step size=9.25e-02, acc. prob=0.782]"
     ]
    },
    {
     "name": "stderr",
     "output_type": "stream",
     "text": [
      "\r",
      "Warmup:   9%|████                                       | 72/768 [00:12,  4.77it/s, step size=1.41e-01, acc. prob=0.785]"
     ]
    },
    {
     "name": "stderr",
     "output_type": "stream",
     "text": [
      "\r",
      "Warmup:  10%|████▏                                      | 74/768 [00:12,  6.08it/s, step size=4.16e-02, acc. prob=0.778]"
     ]
    },
    {
     "name": "stderr",
     "output_type": "stream",
     "text": [
      "\r",
      "Warmup:  10%|████▏                                      | 75/768 [00:12,  5.77it/s, step size=6.31e-02, acc. prob=0.780]"
     ]
    },
    {
     "name": "stderr",
     "output_type": "stream",
     "text": [
      "\r",
      "Warmup:  10%|████▎                                      | 76/768 [00:12,  5.62it/s, step size=1.26e-02, acc. prob=0.770]"
     ]
    },
    {
     "name": "stderr",
     "output_type": "stream",
     "text": [
      "\r",
      "Warmup:  10%|████▎                                      | 77/768 [00:13,  5.50it/s, step size=1.93e-02, acc. prob=0.773]"
     ]
    },
    {
     "name": "stderr",
     "output_type": "stream",
     "text": [
      "\r",
      "Warmup:  10%|████▎                                      | 78/768 [00:13,  5.43it/s, step size=2.93e-02, acc. prob=0.776]"
     ]
    },
    {
     "name": "stderr",
     "output_type": "stream",
     "text": [
      "\r",
      "Warmup:  10%|████▍                                      | 79/768 [00:13,  5.33it/s, step size=4.44e-02, acc. prob=0.779]"
     ]
    },
    {
     "name": "stderr",
     "output_type": "stream",
     "text": [
      "\r",
      "Warmup:  10%|████▍                                      | 80/768 [00:13,  5.09it/s, step size=5.32e-02, acc. prob=0.780]"
     ]
    },
    {
     "name": "stderr",
     "output_type": "stream",
     "text": [
      "\r",
      "Warmup:  11%|████▌                                      | 81/768 [00:13,  5.13it/s, step size=7.88e-02, acc. prob=0.783]"
     ]
    },
    {
     "name": "stderr",
     "output_type": "stream",
     "text": [
      "\r",
      "Warmup:  11%|████▌                                      | 82/768 [00:14,  5.25it/s, step size=2.91e-02, acc. prob=0.777]"
     ]
    },
    {
     "name": "stderr",
     "output_type": "stream",
     "text": [
      "\r",
      "Warmup:  11%|████▋                                      | 83/768 [00:14,  5.24it/s, step size=4.30e-02, acc. prob=0.779]"
     ]
    },
    {
     "name": "stderr",
     "output_type": "stream",
     "text": [
      "\r",
      "Warmup:  11%|████▋                                      | 84/768 [00:14,  5.23it/s, step size=6.43e-02, acc. prob=0.782]"
     ]
    },
    {
     "name": "stderr",
     "output_type": "stream",
     "text": [
      "\r",
      "Warmup:  11%|████▊                                      | 85/768 [00:14,  5.23it/s, step size=4.81e-02, acc. prob=0.780]"
     ]
    },
    {
     "name": "stderr",
     "output_type": "stream",
     "text": [
      "\r",
      "Warmup:  11%|████▊                                      | 86/768 [00:14,  5.21it/s, step size=6.71e-02, acc. prob=0.782]"
     ]
    },
    {
     "name": "stderr",
     "output_type": "stream",
     "text": [
      "\r",
      "Warmup:  11%|████▊                                      | 87/768 [00:14,  5.28it/s, step size=2.45e-02, acc. prob=0.776]"
     ]
    },
    {
     "name": "stderr",
     "output_type": "stream",
     "text": [
      "\r",
      "Warmup:  11%|████▉                                      | 88/768 [00:15,  5.25it/s, step size=3.48e-02, acc. prob=0.779]"
     ]
    },
    {
     "name": "stderr",
     "output_type": "stream",
     "text": [
      "\r",
      "Warmup:  12%|████▉                                      | 89/768 [00:15,  5.13it/s, step size=5.16e-02, acc. prob=0.781]"
     ]
    },
    {
     "name": "stderr",
     "output_type": "stream",
     "text": [
      "\r",
      "Warmup:  12%|█████                                      | 90/768 [00:15,  5.09it/s, step size=4.75e-02, acc. prob=0.781]"
     ]
    },
    {
     "name": "stderr",
     "output_type": "stream",
     "text": [
      "\r",
      "Warmup:  12%|█████                                      | 91/768 [00:15,  5.12it/s, step size=7.03e-02, acc. prob=0.783]"
     ]
    },
    {
     "name": "stderr",
     "output_type": "stream",
     "text": [
      "\r",
      "Warmup:  12%|█████▏                                     | 92/768 [00:15,  5.13it/s, step size=4.67e-02, acc. prob=0.781]"
     ]
    },
    {
     "name": "stderr",
     "output_type": "stream",
     "text": [
      "\r",
      "Warmup:  12%|█████▏                                     | 93/768 [00:16,  5.13it/s, step size=6.04e-02, acc. prob=0.783]"
     ]
    },
    {
     "name": "stderr",
     "output_type": "stream",
     "text": [
      "\r",
      "Warmup:  12%|█████▎                                     | 94/768 [00:16,  5.13it/s, step size=3.96e-02, acc. prob=0.780]"
     ]
    },
    {
     "name": "stderr",
     "output_type": "stream",
     "text": [
      "\r",
      "Warmup:  12%|█████▎                                     | 95/768 [00:16,  5.14it/s, step size=5.81e-02, acc. prob=0.783]"
     ]
    },
    {
     "name": "stderr",
     "output_type": "stream",
     "text": [
      "\r",
      "Warmup:  12%|█████▍                                     | 96/768 [00:16,  5.15it/s, step size=7.44e-02, acc. prob=0.784]"
     ]
    },
    {
     "name": "stderr",
     "output_type": "stream",
     "text": [
      "\r",
      "Warmup:  13%|█████▍                                     | 97/768 [00:16,  5.16it/s, step size=3.54e-02, acc. prob=0.780]"
     ]
    },
    {
     "name": "stderr",
     "output_type": "stream",
     "text": [
      "\r",
      "Warmup:  13%|█████▍                                     | 98/768 [00:17,  5.17it/s, step size=5.15e-02, acc. prob=0.782]"
     ]
    },
    {
     "name": "stderr",
     "output_type": "stream",
     "text": [
      "\r",
      "Warmup:  13%|█████▌                                     | 99/768 [00:17,  4.99it/s, step size=5.76e-01, acc. prob=0.784]"
     ]
    },
    {
     "name": "stderr",
     "output_type": "stream",
     "text": [
      "\r",
      "Warmup:  13%|█████▍                                    | 100/768 [00:17,  5.02it/s, step size=1.47e+00, acc. prob=0.777]"
     ]
    },
    {
     "name": "stderr",
     "output_type": "stream",
     "text": [
      "\r",
      "Warmup:  13%|█████▌                                    | 102/768 [00:17,  6.54it/s, step size=1.37e-01, acc. prob=0.771]"
     ]
    },
    {
     "name": "stderr",
     "output_type": "stream",
     "text": [
      "\r",
      "Warmup:  13%|█████▋                                    | 103/768 [00:17,  6.16it/s, step size=1.80e-01, acc. prob=0.773]"
     ]
    },
    {
     "name": "stderr",
     "output_type": "stream",
     "text": [
      "\r",
      "Warmup:  14%|█████▋                                    | 104/768 [00:18,  5.88it/s, step size=2.71e-01, acc. prob=0.775]"
     ]
    },
    {
     "name": "stderr",
     "output_type": "stream",
     "text": [
      "\r",
      "Warmup:  14%|█████▋                                    | 105/768 [00:18,  5.66it/s, step size=3.18e-01, acc. prob=0.776]"
     ]
    },
    {
     "name": "stderr",
     "output_type": "stream",
     "text": [
      "\r",
      "Warmup:  14%|█████▊                                    | 106/768 [00:18,  5.52it/s, step size=4.99e-01, acc. prob=0.778]"
     ]
    },
    {
     "name": "stderr",
     "output_type": "stream",
     "text": [
      "\r",
      "Warmup:  14%|█████▊                                    | 107/768 [00:18,  5.41it/s, step size=4.07e-02, acc. prob=0.771]"
     ]
    },
    {
     "name": "stderr",
     "output_type": "stream",
     "text": [
      "\r",
      "Warmup:  14%|█████▉                                    | 108/768 [00:18,  5.32it/s, step size=7.46e-02, acc. prob=0.773]"
     ]
    },
    {
     "name": "stderr",
     "output_type": "stream",
     "text": [
      "\r",
      "Warmup:  14%|█████▉                                    | 109/768 [00:19,  5.29it/s, step size=1.38e-01, acc. prob=0.775]"
     ]
    },
    {
     "name": "stderr",
     "output_type": "stream",
     "text": [
      "\r",
      "Warmup:  14%|██████                                    | 110/768 [00:19,  5.22it/s, step size=2.59e-01, acc. prob=0.777]"
     ]
    },
    {
     "name": "stderr",
     "output_type": "stream",
     "text": [
      "\r",
      "Warmup:  14%|██████                                    | 111/768 [00:19,  5.22it/s, step size=3.99e-01, acc. prob=0.778]"
     ]
    },
    {
     "name": "stderr",
     "output_type": "stream",
     "text": [
      "\r",
      "Warmup:  15%|██████▏                                   | 112/768 [00:19,  5.22it/s, step size=6.73e-01, acc. prob=0.780]"
     ]
    },
    {
     "name": "stderr",
     "output_type": "stream",
     "text": [
      "\r",
      "Warmup:  15%|██████▏                                   | 113/768 [00:19,  5.21it/s, step size=5.62e-02, acc. prob=0.773]"
     ]
    },
    {
     "name": "stderr",
     "output_type": "stream",
     "text": [
      "\r",
      "Warmup:  15%|██████▏                                   | 114/768 [00:20,  5.22it/s, step size=1.06e-01, acc. prob=0.775]"
     ]
    },
    {
     "name": "stderr",
     "output_type": "stream",
     "text": [
      "\r",
      "Warmup:  15%|██████▎                                   | 115/768 [00:20,  5.19it/s, step size=1.94e-01, acc. prob=0.777]"
     ]
    },
    {
     "name": "stderr",
     "output_type": "stream",
     "text": [
      "\r",
      "Warmup:  15%|██████▎                                   | 116/768 [00:20,  5.19it/s, step size=3.21e-01, acc. prob=0.778]"
     ]
    },
    {
     "name": "stderr",
     "output_type": "stream",
     "text": [
      "\r",
      "Warmup:  15%|██████▍                                   | 117/768 [00:20,  5.18it/s, step size=4.73e-01, acc. prob=0.780]"
     ]
    },
    {
     "name": "stderr",
     "output_type": "stream",
     "text": [
      "\r",
      "Warmup:  15%|██████▍                                   | 118/768 [00:20,  5.12it/s, step size=2.15e-01, acc. prob=0.777]"
     ]
    },
    {
     "name": "stderr",
     "output_type": "stream",
     "text": [
      "\r",
      "Warmup:  15%|██████▌                                   | 119/768 [00:21,  5.13it/s, step size=3.94e-01, acc. prob=0.779]"
     ]
    },
    {
     "name": "stderr",
     "output_type": "stream",
     "text": [
      "\r",
      "Warmup:  16%|██████▌                                   | 120/768 [00:21,  5.16it/s, step size=5.97e-01, acc. prob=0.781]"
     ]
    },
    {
     "name": "stderr",
     "output_type": "stream",
     "text": [
      "\r",
      "Warmup:  16%|██████▌                                   | 121/768 [00:21,  5.16it/s, step size=5.96e-02, acc. prob=0.774]"
     ]
    },
    {
     "name": "stderr",
     "output_type": "stream",
     "text": [
      "\r",
      "Warmup:  16%|██████▋                                   | 122/768 [00:21,  5.13it/s, step size=1.11e-01, acc. prob=0.776]"
     ]
    },
    {
     "name": "stderr",
     "output_type": "stream",
     "text": [
      "\r",
      "Warmup:  16%|██████▋                                   | 123/768 [00:21,  5.13it/s, step size=1.99e-01, acc. prob=0.778]"
     ]
    },
    {
     "name": "stderr",
     "output_type": "stream",
     "text": [
      "\r",
      "Warmup:  16%|██████▊                                   | 124/768 [00:22,  5.15it/s, step size=3.63e-01, acc. prob=0.780]"
     ]
    },
    {
     "name": "stderr",
     "output_type": "stream",
     "text": [
      "\r",
      "Warmup:  16%|██████▊                                   | 125/768 [00:22,  5.13it/s, step size=1.01e-01, acc. prob=0.776]"
     ]
    },
    {
     "name": "stderr",
     "output_type": "stream",
     "text": [
      "\r",
      "Warmup:  16%|██████▉                                   | 126/768 [00:22,  5.16it/s, step size=1.69e-01, acc. prob=0.778]"
     ]
    },
    {
     "name": "stderr",
     "output_type": "stream",
     "text": [
      "\r",
      "Warmup:  17%|██████▉                                   | 127/768 [00:22,  5.13it/s, step size=3.00e-01, acc. prob=0.779]"
     ]
    },
    {
     "name": "stderr",
     "output_type": "stream",
     "text": [
      "\r",
      "Warmup:  17%|███████                                   | 128/768 [00:22,  5.13it/s, step size=4.44e-01, acc. prob=0.781]"
     ]
    },
    {
     "name": "stderr",
     "output_type": "stream",
     "text": [
      "\r",
      "Warmup:  17%|███████                                   | 129/768 [00:22,  5.08it/s, step size=1.53e-01, acc. prob=0.778]"
     ]
    },
    {
     "name": "stderr",
     "output_type": "stream",
     "text": [
      "\r",
      "Warmup:  17%|███████                                   | 130/768 [00:23,  5.10it/s, step size=2.66e-01, acc. prob=0.779]"
     ]
    },
    {
     "name": "stderr",
     "output_type": "stream",
     "text": [
      "\r",
      "Warmup:  17%|███████▏                                  | 131/768 [00:23,  5.11it/s, step size=3.89e-01, acc. prob=0.780]"
     ]
    },
    {
     "name": "stderr",
     "output_type": "stream",
     "text": [
      "\r",
      "Warmup:  17%|███████▏                                  | 132/768 [00:23,  5.09it/s, step size=5.03e-01, acc. prob=0.781]"
     ]
    },
    {
     "name": "stderr",
     "output_type": "stream",
     "text": [
      "\r",
      "Warmup:  17%|███████▎                                  | 133/768 [00:23,  5.11it/s, step size=6.20e-02, acc. prob=0.775]"
     ]
    },
    {
     "name": "stderr",
     "output_type": "stream",
     "text": [
      "\r",
      "Warmup:  17%|███████▎                                  | 134/768 [00:23,  5.11it/s, step size=1.04e-01, acc. prob=0.777]"
     ]
    },
    {
     "name": "stderr",
     "output_type": "stream",
     "text": [
      "\r",
      "Warmup:  18%|███████▍                                  | 135/768 [00:24,  5.15it/s, step size=1.71e-01, acc. prob=0.778]"
     ]
    },
    {
     "name": "stderr",
     "output_type": "stream",
     "text": [
      "\r",
      "Warmup:  18%|███████▍                                  | 136/768 [00:24,  5.17it/s, step size=2.91e-01, acc. prob=0.780]"
     ]
    },
    {
     "name": "stderr",
     "output_type": "stream",
     "text": [
      "\r",
      "Warmup:  18%|███████▍                                  | 137/768 [00:24,  5.18it/s, step size=4.13e-01, acc. prob=0.781]"
     ]
    },
    {
     "name": "stderr",
     "output_type": "stream",
     "text": [
      "\r",
      "Warmup:  18%|███████▌                                  | 138/768 [00:24,  5.19it/s, step size=1.16e-01, acc. prob=0.778]"
     ]
    },
    {
     "name": "stderr",
     "output_type": "stream",
     "text": [
      "\r",
      "Warmup:  18%|███████▌                                  | 139/768 [00:24,  5.20it/s, step size=1.98e-01, acc. prob=0.779]"
     ]
    },
    {
     "name": "stderr",
     "output_type": "stream",
     "text": [
      "\r",
      "Warmup:  18%|███████▋                                  | 140/768 [00:25,  5.19it/s, step size=2.92e-01, acc. prob=0.780]"
     ]
    },
    {
     "name": "stderr",
     "output_type": "stream",
     "text": [
      "\r",
      "Warmup:  18%|███████▋                                  | 141/768 [00:25,  5.19it/s, step size=3.53e-01, acc. prob=0.781]"
     ]
    },
    {
     "name": "stderr",
     "output_type": "stream",
     "text": [
      "\r",
      "Warmup:  18%|███████▊                                  | 142/768 [00:25,  5.18it/s, step size=5.82e-01, acc. prob=0.782]"
     ]
    },
    {
     "name": "stderr",
     "output_type": "stream",
     "text": [
      "\r",
      "Warmup:  19%|███████▊                                  | 143/768 [00:25,  5.18it/s, step size=8.31e-02, acc. prob=0.777]"
     ]
    },
    {
     "name": "stderr",
     "output_type": "stream",
     "text": [
      "\r",
      "Warmup:  19%|███████▉                                  | 144/768 [00:25,  5.20it/s, step size=1.35e-01, acc. prob=0.778]"
     ]
    },
    {
     "name": "stderr",
     "output_type": "stream",
     "text": [
      "\r",
      "Warmup:  19%|███████▉                                  | 145/768 [00:26,  5.20it/s, step size=2.20e-01, acc. prob=0.780]"
     ]
    },
    {
     "name": "stderr",
     "output_type": "stream",
     "text": [
      "\r",
      "Warmup:  19%|███████▉                                  | 146/768 [00:26,  5.19it/s, step size=3.42e-01, acc. prob=0.781]"
     ]
    },
    {
     "name": "stderr",
     "output_type": "stream",
     "text": [
      "\r",
      "Warmup:  19%|████████                                  | 147/768 [00:26,  5.18it/s, step size=3.98e-01, acc. prob=0.782]"
     ]
    },
    {
     "name": "stderr",
     "output_type": "stream",
     "text": [
      "\r",
      "Warmup:  19%|████████                                  | 148/768 [00:26,  5.18it/s, step size=6.36e-01, acc. prob=0.783]"
     ]
    },
    {
     "name": "stderr",
     "output_type": "stream",
     "text": [
      "\r",
      "Warmup:  19%|████████▏                                 | 149/768 [00:26,  4.96it/s, step size=1.64e+00, acc. prob=0.778]"
     ]
    },
    {
     "name": "stderr",
     "output_type": "stream",
     "text": [
      "\r",
      "Warmup:  20%|████████▎                                 | 152/768 [00:27,  7.96it/s, step size=3.88e-01, acc. prob=0.769]"
     ]
    },
    {
     "name": "stderr",
     "output_type": "stream",
     "text": [
      "\r",
      "Warmup:  20%|████████▎                                 | 153/768 [00:27,  7.16it/s, step size=5.01e-01, acc. prob=0.771]"
     ]
    },
    {
     "name": "stderr",
     "output_type": "stream",
     "text": [
      "\r",
      "Warmup:  20%|████████▍                                 | 154/768 [00:27,  6.60it/s, step size=7.82e-01, acc. prob=0.772]"
     ]
    },
    {
     "name": "stderr",
     "output_type": "stream",
     "text": [
      "\r",
      "Warmup:  20%|████████▍                                 | 155/768 [00:27,  6.17it/s, step size=7.16e-01, acc. prob=0.772]"
     ]
    },
    {
     "name": "stderr",
     "output_type": "stream",
     "text": [
      "\r",
      "Warmup:  20%|████████▌                                 | 156/768 [00:27,  5.87it/s, step size=2.53e-01, acc. prob=0.770]"
     ]
    },
    {
     "name": "stderr",
     "output_type": "stream",
     "text": [
      "\r",
      "Warmup:  20%|████████▌                                 | 157/768 [00:28,  5.67it/s, step size=4.49e-01, acc. prob=0.772]"
     ]
    },
    {
     "name": "stderr",
     "output_type": "stream",
     "text": [
      "\r",
      "Warmup:  21%|████████▋                                 | 158/768 [00:28,  5.52it/s, step size=8.18e-01, acc. prob=0.773]"
     ]
    },
    {
     "name": "stderr",
     "output_type": "stream",
     "text": [
      "\r",
      "Warmup:  21%|████████▋                                 | 159/768 [00:28,  5.40it/s, step size=9.94e-01, acc. prob=0.774]"
     ]
    },
    {
     "name": "stderr",
     "output_type": "stream",
     "text": [
      "\r",
      "Warmup:  21%|████████▊                                 | 161/768 [00:28,  6.11it/s, step size=1.64e-01, acc. prob=0.771]"
     ]
    },
    {
     "name": "stderr",
     "output_type": "stream",
     "text": [
      "\r",
      "Warmup:  21%|████████▊                                 | 162/768 [00:28,  5.88it/s, step size=2.98e-01, acc. prob=0.772]"
     ]
    },
    {
     "name": "stderr",
     "output_type": "stream",
     "text": [
      "\r",
      "Warmup:  21%|████████▉                                 | 163/768 [00:29,  5.70it/s, step size=5.32e-01, acc. prob=0.773]"
     ]
    },
    {
     "name": "stderr",
     "output_type": "stream",
     "text": [
      "\r",
      "Warmup:  21%|████████▉                                 | 164/768 [00:29,  5.53it/s, step size=9.10e-01, acc. prob=0.774]"
     ]
    },
    {
     "name": "stderr",
     "output_type": "stream",
     "text": [
      "\r",
      "Warmup:  21%|█████████                                 | 165/768 [00:29,  5.42it/s, step size=2.10e-01, acc. prob=0.772]"
     ]
    },
    {
     "name": "stderr",
     "output_type": "stream",
     "text": [
      "\r",
      "Warmup:  22%|█████████                                 | 166/768 [00:29,  5.34it/s, step size=3.81e-01, acc. prob=0.773]"
     ]
    },
    {
     "name": "stderr",
     "output_type": "stream",
     "text": [
      "\r",
      "Warmup:  22%|█████████▏                                | 167/768 [00:29,  5.28it/s, step size=5.16e-01, acc. prob=0.774]"
     ]
    },
    {
     "name": "stderr",
     "output_type": "stream",
     "text": [
      "\r",
      "Warmup:  22%|█████████▏                                | 168/768 [00:30,  5.26it/s, step size=6.93e-01, acc. prob=0.774]"
     ]
    },
    {
     "name": "stderr",
     "output_type": "stream",
     "text": [
      "\r",
      "Warmup:  22%|█████████▏                                | 169/768 [00:30,  5.16it/s, step size=7.56e-01, acc. prob=0.775]"
     ]
    },
    {
     "name": "stderr",
     "output_type": "stream",
     "text": [
      "\r",
      "Warmup:  22%|█████████▎                                | 170/768 [00:30,  5.10it/s, step size=3.89e-01, acc. prob=0.773]"
     ]
    },
    {
     "name": "stderr",
     "output_type": "stream",
     "text": [
      "\r",
      "Warmup:  22%|█████████▎                                | 171/768 [00:30,  5.08it/s, step size=7.21e-01, acc. prob=0.775]"
     ]
    },
    {
     "name": "stderr",
     "output_type": "stream",
     "text": [
      "\r",
      "Warmup:  22%|█████████▍                                | 172/768 [00:30,  5.12it/s, step size=8.61e-01, acc. prob=0.775]"
     ]
    },
    {
     "name": "stderr",
     "output_type": "stream",
     "text": [
      "\r",
      "Warmup:  23%|█████████▍                                | 173/768 [00:31,  5.16it/s, step size=1.25e-01, acc. prob=0.771]"
     ]
    },
    {
     "name": "stderr",
     "output_type": "stream",
     "text": [
      "\r",
      "Warmup:  23%|█████████▌                                | 174/768 [00:31,  5.16it/s, step size=2.28e-01, acc. prob=0.773]"
     ]
    },
    {
     "name": "stderr",
     "output_type": "stream",
     "text": [
      "\r",
      "Warmup:  23%|█████████▌                                | 175/768 [00:31,  5.19it/s, step size=4.00e-01, acc. prob=0.774]"
     ]
    },
    {
     "name": "stderr",
     "output_type": "stream",
     "text": [
      "\r",
      "Warmup:  23%|█████████▋                                | 176/768 [00:31,  5.18it/s, step size=5.73e-01, acc. prob=0.775]"
     ]
    },
    {
     "name": "stderr",
     "output_type": "stream",
     "text": [
      "\r",
      "Warmup:  23%|█████████▋                                | 177/768 [00:31,  5.20it/s, step size=3.06e-01, acc. prob=0.773]"
     ]
    },
    {
     "name": "stderr",
     "output_type": "stream",
     "text": [
      "\r",
      "Warmup:  23%|█████████▋                                | 178/768 [00:32,  5.20it/s, step size=5.48e-01, acc. prob=0.775]"
     ]
    },
    {
     "name": "stderr",
     "output_type": "stream",
     "text": [
      "\r",
      "Warmup:  23%|█████████▊                                | 179/768 [00:32,  5.21it/s, step size=3.61e-01, acc. prob=0.774]"
     ]
    },
    {
     "name": "stderr",
     "output_type": "stream",
     "text": [
      "\r",
      "Warmup:  23%|█████████▊                                | 180/768 [00:32,  5.23it/s, step size=6.38e-01, acc. prob=0.775]"
     ]
    },
    {
     "name": "stderr",
     "output_type": "stream",
     "text": [
      "\r",
      "Warmup:  24%|█████████▉                                | 181/768 [00:32,  5.18it/s, step size=9.54e-01, acc. prob=0.776]"
     ]
    },
    {
     "name": "stderr",
     "output_type": "stream",
     "text": [
      "\r",
      "Warmup:  24%|█████████▉                                | 182/768 [00:32,  5.82it/s, step size=1.17e-01, acc. prob=0.772]"
     ]
    },
    {
     "name": "stderr",
     "output_type": "stream",
     "text": [
      "\r",
      "Warmup:  24%|██████████                                | 183/768 [00:32,  5.60it/s, step size=2.06e-01, acc. prob=0.773]"
     ]
    },
    {
     "name": "stderr",
     "output_type": "stream",
     "text": [
      "\r",
      "Warmup:  24%|██████████                                | 184/768 [00:33,  5.49it/s, step size=3.51e-01, acc. prob=0.774]"
     ]
    },
    {
     "name": "stderr",
     "output_type": "stream",
     "text": [
      "\r",
      "Warmup:  24%|██████████                                | 185/768 [00:33,  5.42it/s, step size=5.69e-01, acc. prob=0.775]"
     ]
    },
    {
     "name": "stderr",
     "output_type": "stream",
     "text": [
      "\r",
      "Warmup:  24%|██████████▏                               | 186/768 [00:33,  5.35it/s, step size=9.06e-01, acc. prob=0.776]"
     ]
    },
    {
     "name": "stderr",
     "output_type": "stream",
     "text": [
      "\r",
      "Warmup:  24%|██████████▏                               | 187/768 [00:33,  5.33it/s, step size=4.62e-01, acc. prob=0.775]"
     ]
    },
    {
     "name": "stderr",
     "output_type": "stream",
     "text": [
      "\r",
      "Warmup:  24%|██████████▎                               | 188/768 [00:33,  5.29it/s, step size=7.60e-01, acc. prob=0.776]"
     ]
    },
    {
     "name": "stderr",
     "output_type": "stream",
     "text": [
      "\r",
      "Warmup:  25%|██████████▎                               | 189/768 [00:34,  5.28it/s, step size=6.63e-01, acc. prob=0.776]"
     ]
    },
    {
     "name": "stderr",
     "output_type": "stream",
     "text": [
      "\r",
      "Warmup:  25%|██████████▍                               | 190/768 [00:34,  5.26it/s, step size=7.43e-01, acc. prob=0.776]"
     ]
    },
    {
     "name": "stderr",
     "output_type": "stream",
     "text": [
      "\r",
      "Warmup:  25%|██████████▍                               | 191/768 [00:34,  5.26it/s, step size=5.62e-01, acc. prob=0.776]"
     ]
    },
    {
     "name": "stderr",
     "output_type": "stream",
     "text": [
      "\r",
      "Warmup:  25%|██████████▌                               | 192/768 [00:34,  5.23it/s, step size=8.71e-01, acc. prob=0.777]"
     ]
    },
    {
     "name": "stderr",
     "output_type": "stream",
     "text": [
      "\r",
      "Warmup:  25%|██████████▌                               | 193/768 [00:34,  5.24it/s, step size=1.42e-01, acc. prob=0.773]"
     ]
    },
    {
     "name": "stderr",
     "output_type": "stream",
     "text": [
      "\r",
      "Warmup:  25%|██████████▌                               | 194/768 [00:35,  5.24it/s, step size=2.35e-01, acc. prob=0.774]"
     ]
    },
    {
     "name": "stderr",
     "output_type": "stream",
     "text": [
      "\r",
      "Warmup:  25%|██████████▋                               | 195/768 [00:35,  5.23it/s, step size=3.84e-01, acc. prob=0.775]"
     ]
    },
    {
     "name": "stderr",
     "output_type": "stream",
     "text": [
      "\r",
      "Warmup:  26%|██████████▋                               | 196/768 [00:35,  5.19it/s, step size=5.86e-01, acc. prob=0.776]"
     ]
    },
    {
     "name": "stderr",
     "output_type": "stream",
     "text": [
      "\r",
      "Warmup:  26%|██████████▊                               | 197/768 [00:35,  5.17it/s, step size=9.43e-01, acc. prob=0.777]"
     ]
    },
    {
     "name": "stderr",
     "output_type": "stream",
     "text": [
      "\r",
      "Warmup:  26%|██████████▉                               | 199/768 [00:35,  5.85it/s, step size=2.49e-01, acc. prob=0.775]"
     ]
    },
    {
     "name": "stderr",
     "output_type": "stream",
     "text": [
      "\r",
      "Warmup:  26%|██████████▉                               | 200/768 [00:36,  5.68it/s, step size=4.09e-01, acc. prob=0.776]"
     ]
    },
    {
     "name": "stderr",
     "output_type": "stream",
     "text": [
      "\r",
      "Warmup:  26%|██████████▉                               | 201/768 [00:36,  5.57it/s, step size=3.74e-01, acc. prob=0.776]"
     ]
    },
    {
     "name": "stderr",
     "output_type": "stream",
     "text": [
      "\r",
      "Warmup:  26%|███████████                               | 202/768 [00:36,  5.46it/s, step size=6.05e-01, acc. prob=0.777]"
     ]
    },
    {
     "name": "stderr",
     "output_type": "stream",
     "text": [
      "\r",
      "Warmup:  26%|███████████                               | 203/768 [00:36,  5.40it/s, step size=9.77e-01, acc. prob=0.778]"
     ]
    },
    {
     "name": "stderr",
     "output_type": "stream",
     "text": [
      "\r",
      "Warmup:  27%|███████████▏                              | 204/768 [00:36,  5.36it/s, step size=1.78e-01, acc. prob=0.774]"
     ]
    },
    {
     "name": "stderr",
     "output_type": "stream",
     "text": [
      "\r",
      "Warmup:  27%|███████████▏                              | 205/768 [00:37,  5.31it/s, step size=2.67e-01, acc. prob=0.775]"
     ]
    },
    {
     "name": "stderr",
     "output_type": "stream",
     "text": [
      "\r",
      "Warmup:  27%|███████████▎                              | 206/768 [00:37,  5.27it/s, step size=4.20e-01, acc. prob=0.776]"
     ]
    },
    {
     "name": "stderr",
     "output_type": "stream",
     "text": [
      "\r",
      "Warmup:  27%|███████████▎                              | 207/768 [00:37,  5.25it/s, step size=5.57e-01, acc. prob=0.777]"
     ]
    },
    {
     "name": "stderr",
     "output_type": "stream",
     "text": [
      "\r",
      "Warmup:  27%|███████████▍                              | 208/768 [00:37,  5.13it/s, step size=4.70e-01, acc. prob=0.777]"
     ]
    },
    {
     "name": "stderr",
     "output_type": "stream",
     "text": [
      "\r",
      "Warmup:  27%|███████████▍                              | 209/768 [00:37,  5.08it/s, step size=5.35e-01, acc. prob=0.777]"
     ]
    },
    {
     "name": "stderr",
     "output_type": "stream",
     "text": [
      "\r",
      "Warmup:  27%|███████████▍                              | 210/768 [00:38,  5.12it/s, step size=7.11e-01, acc. prob=0.778]"
     ]
    },
    {
     "name": "stderr",
     "output_type": "stream",
     "text": [
      "\r",
      "Warmup:  27%|███████████▌                              | 211/768 [00:38,  5.15it/s, step size=8.82e-01, acc. prob=0.778]"
     ]
    },
    {
     "name": "stderr",
     "output_type": "stream",
     "text": [
      "\r",
      "Warmup:  28%|███████████▌                              | 212/768 [00:38,  5.16it/s, step size=3.66e-01, acc. prob=0.776]"
     ]
    },
    {
     "name": "stderr",
     "output_type": "stream",
     "text": [
      "\r",
      "Warmup:  28%|███████████▋                              | 213/768 [00:38,  5.15it/s, step size=4.30e-01, acc. prob=0.777]"
     ]
    },
    {
     "name": "stderr",
     "output_type": "stream",
     "text": [
      "\r",
      "Warmup:  28%|███████████▋                              | 214/768 [00:38,  5.19it/s, step size=6.50e-01, acc. prob=0.778]"
     ]
    },
    {
     "name": "stderr",
     "output_type": "stream",
     "text": [
      "\r",
      "Warmup:  28%|███████████▊                              | 215/768 [00:38,  5.21it/s, step size=9.55e-01, acc. prob=0.779]"
     ]
    },
    {
     "name": "stderr",
     "output_type": "stream",
     "text": [
      "\r",
      "Warmup:  28%|███████████▊                              | 216/768 [00:39,  5.20it/s, step size=2.07e-01, acc. prob=0.775]"
     ]
    },
    {
     "name": "stderr",
     "output_type": "stream",
     "text": [
      "\r",
      "Warmup:  28%|███████████▊                              | 217/768 [00:39,  5.10it/s, step size=3.21e-01, acc. prob=0.776]"
     ]
    },
    {
     "name": "stderr",
     "output_type": "stream",
     "text": [
      "\r",
      "Warmup:  28%|███████████▉                              | 218/768 [00:39,  4.96it/s, step size=4.08e-01, acc. prob=0.777]"
     ]
    },
    {
     "name": "stderr",
     "output_type": "stream",
     "text": [
      "\r",
      "Warmup:  29%|███████████▉                              | 219/768 [00:39,  4.96it/s, step size=5.86e-01, acc. prob=0.778]"
     ]
    },
    {
     "name": "stderr",
     "output_type": "stream",
     "text": [
      "\r",
      "Warmup:  29%|████████████                              | 220/768 [00:39,  5.02it/s, step size=8.37e-01, acc. prob=0.779]"
     ]
    },
    {
     "name": "stderr",
     "output_type": "stream",
     "text": [
      "\r",
      "Warmup:  29%|████████████                              | 221/768 [00:40,  5.01it/s, step size=4.57e-01, acc. prob=0.777]"
     ]
    },
    {
     "name": "stderr",
     "output_type": "stream",
     "text": [
      "\r",
      "Warmup:  29%|████████████▏                             | 222/768 [00:40,  4.92it/s, step size=6.90e-01, acc. prob=0.778]"
     ]
    },
    {
     "name": "stderr",
     "output_type": "stream",
     "text": [
      "\r",
      "Warmup:  29%|████████████▏                             | 223/768 [00:40,  4.89it/s, step size=6.89e-01, acc. prob=0.778]"
     ]
    },
    {
     "name": "stderr",
     "output_type": "stream",
     "text": [
      "\r",
      "Warmup:  29%|████████████▎                             | 224/768 [00:40,  4.94it/s, step size=7.99e-01, acc. prob=0.779]"
     ]
    },
    {
     "name": "stderr",
     "output_type": "stream",
     "text": [
      "\r",
      "Warmup:  29%|████████████▎                             | 225/768 [00:40,  5.00it/s, step size=6.34e-01, acc. prob=0.778]"
     ]
    },
    {
     "name": "stderr",
     "output_type": "stream",
     "text": [
      "\r",
      "Warmup:  29%|████████████▎                             | 226/768 [00:41,  4.99it/s, step size=8.53e-01, acc. prob=0.779]"
     ]
    },
    {
     "name": "stderr",
     "output_type": "stream",
     "text": [
      "\r",
      "Warmup:  30%|████████████▍                             | 227/768 [00:41,  5.02it/s, step size=3.74e-01, acc. prob=0.777]"
     ]
    },
    {
     "name": "stderr",
     "output_type": "stream",
     "text": [
      "\r",
      "Warmup:  30%|████████████▍                             | 228/768 [00:41,  5.08it/s, step size=5.56e-01, acc. prob=0.778]"
     ]
    },
    {
     "name": "stderr",
     "output_type": "stream",
     "text": [
      "\r",
      "Warmup:  30%|████████████▌                             | 229/768 [00:41,  5.11it/s, step size=6.27e-01, acc. prob=0.779]"
     ]
    },
    {
     "name": "stderr",
     "output_type": "stream",
     "text": [
      "\r",
      "Warmup:  30%|████████████▌                             | 230/768 [00:41,  5.15it/s, step size=3.97e-01, acc. prob=0.778]"
     ]
    },
    {
     "name": "stderr",
     "output_type": "stream",
     "text": [
      "\r",
      "Warmup:  30%|████████████▋                             | 231/768 [00:42,  5.17it/s, step size=3.89e-01, acc. prob=0.778]"
     ]
    },
    {
     "name": "stderr",
     "output_type": "stream",
     "text": [
      "\r",
      "Warmup:  30%|████████████▋                             | 232/768 [00:42,  5.16it/s, step size=5.30e-01, acc. prob=0.778]"
     ]
    },
    {
     "name": "stderr",
     "output_type": "stream",
     "text": [
      "\r",
      "Warmup:  30%|████████████▋                             | 233/768 [00:42,  5.18it/s, step size=7.94e-01, acc. prob=0.779]"
     ]
    },
    {
     "name": "stderr",
     "output_type": "stream",
     "text": [
      "\r",
      "Warmup:  30%|████████████▊                             | 234/768 [00:42,  5.19it/s, step size=2.93e-01, acc. prob=0.777]"
     ]
    },
    {
     "name": "stderr",
     "output_type": "stream",
     "text": [
      "\r",
      "Warmup:  31%|████████████▊                             | 235/768 [00:42,  5.18it/s, step size=4.38e-01, acc. prob=0.778]"
     ]
    },
    {
     "name": "stderr",
     "output_type": "stream",
     "text": [
      "\r",
      "Warmup:  31%|████████████▉                             | 236/768 [00:43,  5.15it/s, step size=5.40e-01, acc. prob=0.779]"
     ]
    },
    {
     "name": "stderr",
     "output_type": "stream",
     "text": [
      "\r",
      "Warmup:  31%|████████████▉                             | 237/768 [00:43,  5.16it/s, step size=7.83e-01, acc. prob=0.779]"
     ]
    },
    {
     "name": "stderr",
     "output_type": "stream",
     "text": [
      "\r",
      "Warmup:  31%|█████████████                             | 238/768 [00:43,  5.18it/s, step size=4.35e-01, acc. prob=0.778]"
     ]
    },
    {
     "name": "stderr",
     "output_type": "stream",
     "text": [
      "\r",
      "Warmup:  31%|█████████████                             | 239/768 [00:43,  5.18it/s, step size=6.15e-01, acc. prob=0.779]"
     ]
    },
    {
     "name": "stderr",
     "output_type": "stream",
     "text": [
      "\r",
      "Warmup:  31%|█████████████▏                            | 240/768 [00:43,  5.19it/s, step size=8.89e-01, acc. prob=0.780]"
     ]
    },
    {
     "name": "stderr",
     "output_type": "stream",
     "text": [
      "\r",
      "Warmup:  31%|█████████████▏                            | 241/768 [00:44,  5.19it/s, step size=2.29e-01, acc. prob=0.777]"
     ]
    },
    {
     "name": "stderr",
     "output_type": "stream",
     "text": [
      "\r",
      "Warmup:  32%|█████████████▏                            | 242/768 [00:44,  5.20it/s, step size=3.31e-01, acc. prob=0.778]"
     ]
    },
    {
     "name": "stderr",
     "output_type": "stream",
     "text": [
      "\r",
      "Warmup:  32%|█████████████▎                            | 243/768 [00:44,  5.19it/s, step size=4.52e-01, acc. prob=0.779]"
     ]
    },
    {
     "name": "stderr",
     "output_type": "stream",
     "text": [
      "\r",
      "Warmup:  32%|█████████████▎                            | 244/768 [00:44,  5.19it/s, step size=5.75e-01, acc. prob=0.779]"
     ]
    },
    {
     "name": "stderr",
     "output_type": "stream",
     "text": [
      "\r",
      "Warmup:  32%|█████████████▍                            | 245/768 [00:44,  5.20it/s, step size=5.87e-01, acc. prob=0.779]"
     ]
    },
    {
     "name": "stderr",
     "output_type": "stream",
     "text": [
      "\r",
      "Warmup:  32%|█████████████▍                            | 246/768 [00:45,  5.23it/s, step size=2.66e-01, acc. prob=0.778]"
     ]
    },
    {
     "name": "stderr",
     "output_type": "stream",
     "text": [
      "\r",
      "Warmup:  32%|█████████████▌                            | 247/768 [00:45,  5.23it/s, step size=3.81e-01, acc. prob=0.778]"
     ]
    },
    {
     "name": "stderr",
     "output_type": "stream",
     "text": [
      "\r",
      "Warmup:  32%|█████████████▌                            | 248/768 [00:45,  5.21it/s, step size=4.45e-01, acc. prob=0.779]"
     ]
    },
    {
     "name": "stderr",
     "output_type": "stream",
     "text": [
      "\r",
      "Warmup:  32%|█████████████▌                            | 249/768 [00:45,  5.11it/s, step size=9.98e-01, acc. prob=0.779]"
     ]
    },
    {
     "name": "stderr",
     "output_type": "stream",
     "text": [
      "\r",
      "Warmup:  33%|█████████████▊                            | 252/768 [00:45,  7.42it/s, step size=2.66e-01, acc. prob=0.774]"
     ]
    },
    {
     "name": "stderr",
     "output_type": "stream",
     "text": [
      "\r",
      "Warmup:  33%|█████████████▊                            | 253/768 [00:46,  6.84it/s, step size=3.46e-01, acc. prob=0.775]"
     ]
    },
    {
     "name": "stderr",
     "output_type": "stream",
     "text": [
      "\r",
      "Warmup:  33%|█████████████▉                            | 254/768 [00:46,  6.40it/s, step size=3.25e-01, acc. prob=0.775]"
     ]
    },
    {
     "name": "stderr",
     "output_type": "stream",
     "text": [
      "\r",
      "Warmup:  33%|█████████████▉                            | 255/768 [00:46,  6.03it/s, step size=3.86e-01, acc. prob=0.775]"
     ]
    },
    {
     "name": "stderr",
     "output_type": "stream",
     "text": [
      "\r",
      "Warmup:  33%|██████████████                            | 256/768 [00:46,  6.12it/s, step size=5.69e-01, acc. prob=0.776]"
     ]
    },
    {
     "name": "stderr",
     "output_type": "stream",
     "text": [
      "\r",
      "Warmup:  33%|██████████████                            | 257/768 [00:46,  5.80it/s, step size=9.00e-01, acc. prob=0.777]"
     ]
    },
    {
     "name": "stderr",
     "output_type": "stream",
     "text": [
      "\r",
      "Warmup:  34%|██████████████                            | 258/768 [00:47,  5.53it/s, step size=7.39e-02, acc. prob=0.774]"
     ]
    },
    {
     "name": "stderr",
     "output_type": "stream",
     "text": [
      "\r",
      "Warmup:  34%|██████████████▏                           | 259/768 [00:47,  5.39it/s, step size=1.37e-01, acc. prob=0.775]"
     ]
    },
    {
     "name": "stderr",
     "output_type": "stream",
     "text": [
      "\r",
      "Warmup:  34%|██████████████▏                           | 260/768 [00:47,  5.26it/s, step size=2.57e-01, acc. prob=0.776]"
     ]
    },
    {
     "name": "stderr",
     "output_type": "stream",
     "text": [
      "\r",
      "Warmup:  34%|██████████████▎                           | 261/768 [00:47,  5.19it/s, step size=4.26e-01, acc. prob=0.776]"
     ]
    },
    {
     "name": "stderr",
     "output_type": "stream",
     "text": [
      "\r",
      "Warmup:  34%|██████████████▎                           | 262/768 [00:47,  5.20it/s, step size=7.59e-01, acc. prob=0.777]"
     ]
    },
    {
     "name": "stderr",
     "output_type": "stream",
     "text": [
      "\r",
      "Warmup:  34%|██████████████▍                           | 263/768 [00:48,  5.18it/s, step size=9.76e-02, acc. prob=0.775]"
     ]
    },
    {
     "name": "stderr",
     "output_type": "stream",
     "text": [
      "\r",
      "Warmup:  34%|██████████████▍                           | 264/768 [00:48,  5.16it/s, step size=1.87e-01, acc. prob=0.775]"
     ]
    },
    {
     "name": "stderr",
     "output_type": "stream",
     "text": [
      "\r",
      "Warmup:  35%|██████████████▍                           | 265/768 [00:48,  5.13it/s, step size=2.81e-01, acc. prob=0.776]"
     ]
    },
    {
     "name": "stderr",
     "output_type": "stream",
     "text": [
      "\r",
      "Warmup:  35%|██████████████▌                           | 266/768 [00:48,  4.99it/s, step size=5.08e-01, acc. prob=0.777]"
     ]
    },
    {
     "name": "stderr",
     "output_type": "stream",
     "text": [
      "\r",
      "Warmup:  35%|██████████████▌                           | 267/768 [00:48,  4.82it/s, step size=7.70e-01, acc. prob=0.777]"
     ]
    },
    {
     "name": "stderr",
     "output_type": "stream",
     "text": [
      "\r",
      "Warmup:  35%|██████████████▋                           | 268/768 [00:49,  4.64it/s, step size=7.31e-02, acc. prob=0.775]"
     ]
    },
    {
     "name": "stderr",
     "output_type": "stream",
     "text": [
      "\r",
      "Warmup:  35%|██████████████▋                           | 269/768 [00:49,  4.59it/s, step size=1.37e-01, acc. prob=0.775]"
     ]
    },
    {
     "name": "stderr",
     "output_type": "stream",
     "text": [
      "\r",
      "Warmup:  35%|██████████████▊                           | 270/768 [00:49,  4.56it/s, step size=2.52e-01, acc. prob=0.776]"
     ]
    },
    {
     "name": "stderr",
     "output_type": "stream",
     "text": [
      "\r",
      "Warmup:  35%|██████████████▊                           | 271/768 [00:49,  4.58it/s, step size=3.39e-01, acc. prob=0.777]"
     ]
    },
    {
     "name": "stderr",
     "output_type": "stream",
     "text": [
      "\r",
      "Warmup:  35%|██████████████▉                           | 272/768 [00:49,  4.52it/s, step size=4.33e-01, acc. prob=0.777]"
     ]
    },
    {
     "name": "stderr",
     "output_type": "stream",
     "text": [
      "\r",
      "Warmup:  36%|██████████████▉                           | 273/768 [00:50,  4.45it/s, step size=4.50e-01, acc. prob=0.777]"
     ]
    },
    {
     "name": "stderr",
     "output_type": "stream",
     "text": [
      "\r",
      "Warmup:  36%|██████████████▉                           | 274/768 [00:50,  4.45it/s, step size=5.40e-01, acc. prob=0.777]"
     ]
    },
    {
     "name": "stderr",
     "output_type": "stream",
     "text": [
      "\r",
      "Warmup:  36%|███████████████                           | 276/768 [00:50,  5.61it/s, step size=9.66e-01, acc. prob=0.778]"
     ]
    },
    {
     "name": "stderr",
     "output_type": "stream",
     "text": [
      "\r",
      "Warmup:  36%|███████████████▏                          | 278/768 [00:50,  5.86it/s, step size=1.88e-01, acc. prob=0.776]"
     ]
    },
    {
     "name": "stderr",
     "output_type": "stream",
     "text": [
      "\r",
      "Warmup:  36%|███████████████▎                          | 279/768 [00:51,  5.57it/s, step size=3.19e-01, acc. prob=0.777]"
     ]
    },
    {
     "name": "stderr",
     "output_type": "stream",
     "text": [
      "\r",
      "Warmup:  36%|███████████████▎                          | 280/768 [00:51,  5.33it/s, step size=2.57e-01, acc. prob=0.777]"
     ]
    },
    {
     "name": "stderr",
     "output_type": "stream",
     "text": [
      "\r",
      "Warmup:  37%|███████████████▎                          | 281/768 [00:51,  5.13it/s, step size=4.54e-01, acc. prob=0.777]"
     ]
    },
    {
     "name": "stderr",
     "output_type": "stream",
     "text": [
      "\r",
      "Warmup:  37%|███████████████▍                          | 282/768 [00:51,  5.02it/s, step size=3.28e-01, acc. prob=0.777]"
     ]
    },
    {
     "name": "stderr",
     "output_type": "stream",
     "text": [
      "\r",
      "Warmup:  37%|███████████████▍                          | 283/768 [00:52,  4.95it/s, step size=5.31e-01, acc. prob=0.778]"
     ]
    },
    {
     "name": "stderr",
     "output_type": "stream",
     "text": [
      "\r",
      "Warmup:  37%|███████████████▌                          | 284/768 [00:52,  4.85it/s, step size=4.79e-01, acc. prob=0.778]"
     ]
    },
    {
     "name": "stderr",
     "output_type": "stream",
     "text": [
      "\r",
      "Warmup:  37%|███████████████▌                          | 285/768 [00:52,  4.77it/s, step size=5.72e-01, acc. prob=0.778]"
     ]
    },
    {
     "name": "stderr",
     "output_type": "stream",
     "text": [
      "\r",
      "Warmup:  37%|███████████████▋                          | 286/768 [00:52,  5.57it/s, step size=9.02e-02, acc. prob=0.775]"
     ]
    },
    {
     "name": "stderr",
     "output_type": "stream",
     "text": [
      "\r",
      "Warmup:  37%|███████████████▋                          | 287/768 [00:52,  5.22it/s, step size=1.56e-01, acc. prob=0.776]"
     ]
    },
    {
     "name": "stderr",
     "output_type": "stream",
     "text": [
      "\r",
      "Warmup:  38%|███████████████▊                          | 288/768 [00:53,  5.05it/s, step size=2.66e-01, acc. prob=0.777]"
     ]
    },
    {
     "name": "stderr",
     "output_type": "stream",
     "text": [
      "\r",
      "Warmup:  38%|███████████████▊                          | 289/768 [00:53,  4.92it/s, step size=4.43e-01, acc. prob=0.778]"
     ]
    },
    {
     "name": "stderr",
     "output_type": "stream",
     "text": [
      "\r",
      "Warmup:  38%|███████████████▊                          | 290/768 [00:53,  4.71it/s, step size=4.20e-01, acc. prob=0.778]"
     ]
    },
    {
     "name": "stderr",
     "output_type": "stream",
     "text": [
      "\r",
      "Warmup:  38%|███████████████▉                          | 291/768 [00:53,  4.65it/s, step size=6.30e-01, acc. prob=0.778]"
     ]
    },
    {
     "name": "stderr",
     "output_type": "stream",
     "text": [
      "\r",
      "Warmup:  38%|███████████████▉                          | 292/768 [00:53,  4.63it/s, step size=2.73e-01, acc. prob=0.777]"
     ]
    },
    {
     "name": "stderr",
     "output_type": "stream",
     "text": [
      "\r",
      "Warmup:  38%|████████████████                          | 293/768 [00:54,  4.61it/s, step size=3.70e-01, acc. prob=0.778]"
     ]
    },
    {
     "name": "stderr",
     "output_type": "stream",
     "text": [
      "\r",
      "Warmup:  38%|████████████████                          | 294/768 [00:54,  4.67it/s, step size=3.86e-01, acc. prob=0.778]"
     ]
    },
    {
     "name": "stderr",
     "output_type": "stream",
     "text": [
      "\r",
      "Warmup:  38%|████████████████▏                         | 295/768 [00:54,  4.72it/s, step size=5.90e-01, acc. prob=0.778]"
     ]
    },
    {
     "name": "stderr",
     "output_type": "stream",
     "text": [
      "\r",
      "Warmup:  39%|████████████████▏                         | 296/768 [00:54,  4.76it/s, step size=1.35e-01, acc. prob=0.776]"
     ]
    },
    {
     "name": "stderr",
     "output_type": "stream",
     "text": [
      "\r",
      "Warmup:  39%|████████████████▏                         | 297/768 [00:54,  4.78it/s, step size=2.20e-01, acc. prob=0.777]"
     ]
    },
    {
     "name": "stderr",
     "output_type": "stream",
     "text": [
      "\r",
      "Warmup:  39%|████████████████▎                         | 298/768 [00:55,  4.80it/s, step size=3.39e-01, acc. prob=0.778]"
     ]
    },
    {
     "name": "stderr",
     "output_type": "stream",
     "text": [
      "\r",
      "Warmup:  39%|████████████████▎                         | 299/768 [00:55,  4.80it/s, step size=4.20e-01, acc. prob=0.778]"
     ]
    },
    {
     "name": "stderr",
     "output_type": "stream",
     "text": [
      "\r",
      "Warmup:  39%|████████████████▍                         | 300/768 [00:55,  4.58it/s, step size=6.64e-01, acc. prob=0.779]"
     ]
    },
    {
     "name": "stderr",
     "output_type": "stream",
     "text": [
      "\r",
      "Warmup:  39%|████████████████▍                         | 301/768 [00:55,  4.60it/s, step size=3.88e-01, acc. prob=0.778]"
     ]
    },
    {
     "name": "stderr",
     "output_type": "stream",
     "text": [
      "\r",
      "Warmup:  39%|████████████████▌                         | 302/768 [00:56,  4.68it/s, step size=3.79e-01, acc. prob=0.778]"
     ]
    },
    {
     "name": "stderr",
     "output_type": "stream",
     "text": [
      "\r",
      "Warmup:  39%|████████████████▌                         | 303/768 [00:56,  4.65it/s, step size=5.96e-01, acc. prob=0.779]"
     ]
    },
    {
     "name": "stderr",
     "output_type": "stream",
     "text": [
      "\r",
      "Warmup:  40%|████████████████▋                         | 304/768 [00:56,  4.71it/s, step size=3.90e-01, acc. prob=0.778]"
     ]
    },
    {
     "name": "stderr",
     "output_type": "stream",
     "text": [
      "\r",
      "Warmup:  40%|████████████████▋                         | 305/768 [00:56,  4.65it/s, step size=1.97e-01, acc. prob=0.777]"
     ]
    },
    {
     "name": "stderr",
     "output_type": "stream",
     "text": [
      "\r",
      "Warmup:  40%|████████████████▋                         | 306/768 [00:56,  4.58it/s, step size=3.04e-01, acc. prob=0.778]"
     ]
    },
    {
     "name": "stderr",
     "output_type": "stream",
     "text": [
      "\r",
      "Warmup:  40%|████████████████▊                         | 307/768 [00:57,  4.51it/s, step size=4.74e-01, acc. prob=0.779]"
     ]
    },
    {
     "name": "stderr",
     "output_type": "stream",
     "text": [
      "\r",
      "Warmup:  40%|████████████████▊                         | 308/768 [00:57,  4.58it/s, step size=6.40e-01, acc. prob=0.779]"
     ]
    },
    {
     "name": "stderr",
     "output_type": "stream",
     "text": [
      "\r",
      "Warmup:  40%|████████████████▉                         | 309/768 [00:57,  4.37it/s, step size=2.29e-01, acc. prob=0.778]"
     ]
    },
    {
     "name": "stderr",
     "output_type": "stream",
     "text": [
      "\r",
      "Warmup:  40%|████████████████▉                         | 310/768 [00:57,  4.52it/s, step size=3.61e-01, acc. prob=0.778]"
     ]
    },
    {
     "name": "stderr",
     "output_type": "stream",
     "text": [
      "\r",
      "Warmup:  40%|█████████████████                         | 311/768 [00:58,  4.14it/s, step size=4.14e-01, acc. prob=0.779]"
     ]
    },
    {
     "name": "stderr",
     "output_type": "stream",
     "text": [
      "\r",
      "Warmup:  41%|█████████████████                         | 312/768 [00:58,  4.38it/s, step size=2.23e-01, acc. prob=0.778]"
     ]
    },
    {
     "name": "stderr",
     "output_type": "stream",
     "text": [
      "\r",
      "Warmup:  41%|█████████████████                         | 313/768 [00:58,  4.56it/s, step size=3.16e-01, acc. prob=0.778]"
     ]
    },
    {
     "name": "stderr",
     "output_type": "stream",
     "text": [
      "\r",
      "Warmup:  41%|█████████████████▏                        | 314/768 [00:58,  4.68it/s, step size=4.82e-01, acc. prob=0.779]"
     ]
    },
    {
     "name": "stderr",
     "output_type": "stream",
     "text": [
      "\r",
      "Warmup:  41%|█████████████████▏                        | 315/768 [00:58,  4.80it/s, step size=5.54e-01, acc. prob=0.779]"
     ]
    },
    {
     "name": "stderr",
     "output_type": "stream",
     "text": [
      "\r",
      "Warmup:  41%|█████████████████▎                        | 317/768 [00:59,  6.11it/s, step size=1.90e-01, acc. prob=0.778]"
     ]
    },
    {
     "name": "stderr",
     "output_type": "stream",
     "text": [
      "\r",
      "Warmup:  41%|█████████████████▍                        | 318/768 [00:59,  5.48it/s, step size=2.87e-01, acc. prob=0.778]"
     ]
    },
    {
     "name": "stderr",
     "output_type": "stream",
     "text": [
      "\r",
      "Warmup:  42%|█████████████████▍                        | 319/768 [00:59,  5.34it/s, step size=4.28e-01, acc. prob=0.779]"
     ]
    },
    {
     "name": "stderr",
     "output_type": "stream",
     "text": [
      "\r",
      "Warmup:  42%|█████████████████▌                        | 320/768 [00:59,  5.14it/s, step size=5.62e-01, acc. prob=0.779]"
     ]
    },
    {
     "name": "stderr",
     "output_type": "stream",
     "text": [
      "\r",
      "Warmup:  42%|█████████████████▌                        | 321/768 [00:59,  5.09it/s, step size=7.45e-01, acc. prob=0.780]"
     ]
    },
    {
     "name": "stderr",
     "output_type": "stream",
     "text": [
      "\r",
      "Warmup:  42%|█████████████████▌                        | 322/768 [01:00,  5.09it/s, step size=2.42e-01, acc. prob=0.778]"
     ]
    },
    {
     "name": "stderr",
     "output_type": "stream",
     "text": [
      "\r",
      "Warmup:  42%|█████████████████▋                        | 323/768 [01:00,  5.06it/s, step size=3.69e-01, acc. prob=0.779]"
     ]
    },
    {
     "name": "stderr",
     "output_type": "stream",
     "text": [
      "\r",
      "Warmup:  42%|█████████████████▋                        | 324/768 [01:00,  5.05it/s, step size=5.58e-01, acc. prob=0.780]"
     ]
    },
    {
     "name": "stderr",
     "output_type": "stream",
     "text": [
      "\r",
      "Warmup:  42%|█████████████████▊                        | 325/768 [01:00,  5.03it/s, step size=4.43e-01, acc. prob=0.779]"
     ]
    },
    {
     "name": "stderr",
     "output_type": "stream",
     "text": [
      "\r",
      "Warmup:  42%|█████████████████▊                        | 326/768 [01:00,  5.06it/s, step size=4.69e-01, acc. prob=0.779]"
     ]
    },
    {
     "name": "stderr",
     "output_type": "stream",
     "text": [
      "\r",
      "Warmup:  43%|█████████████████▉                        | 327/768 [01:01,  5.07it/s, step size=2.48e-01, acc. prob=0.778]"
     ]
    },
    {
     "name": "stderr",
     "output_type": "stream",
     "text": [
      "\r",
      "Warmup:  43%|█████████████████▉                        | 328/768 [01:01,  5.07it/s, step size=3.57e-01, acc. prob=0.779]"
     ]
    },
    {
     "name": "stderr",
     "output_type": "stream",
     "text": [
      "\r",
      "Warmup:  43%|█████████████████▉                        | 329/768 [01:01,  5.05it/s, step size=4.72e-01, acc. prob=0.780]"
     ]
    },
    {
     "name": "stderr",
     "output_type": "stream",
     "text": [
      "\r",
      "Warmup:  43%|██████████████████                        | 330/768 [01:01,  5.06it/s, step size=5.84e-01, acc. prob=0.780]"
     ]
    },
    {
     "name": "stderr",
     "output_type": "stream",
     "text": [
      "\r",
      "Warmup:  43%|██████████████████                        | 331/768 [01:01,  5.06it/s, step size=5.93e-01, acc. prob=0.780]"
     ]
    },
    {
     "name": "stderr",
     "output_type": "stream",
     "text": [
      "\r",
      "Warmup:  43%|██████████████████▏                       | 332/768 [01:02,  5.07it/s, step size=7.95e-01, acc. prob=0.780]"
     ]
    },
    {
     "name": "stderr",
     "output_type": "stream",
     "text": [
      "\r",
      "Warmup:  43%|██████████████████▏                       | 333/768 [01:02,  5.08it/s, step size=1.79e-01, acc. prob=0.778]"
     ]
    },
    {
     "name": "stderr",
     "output_type": "stream",
     "text": [
      "\r",
      "Warmup:  43%|██████████████████▎                       | 334/768 [01:02,  5.09it/s, step size=2.59e-01, acc. prob=0.779]"
     ]
    },
    {
     "name": "stderr",
     "output_type": "stream",
     "text": [
      "\r",
      "Warmup:  44%|██████████████████▎                       | 335/768 [01:02,  5.10it/s, step size=3.66e-01, acc. prob=0.779]"
     ]
    },
    {
     "name": "stderr",
     "output_type": "stream",
     "text": [
      "\r",
      "Warmup:  44%|██████████████████▍                       | 336/768 [01:02,  5.09it/s, step size=4.92e-01, acc. prob=0.780]"
     ]
    },
    {
     "name": "stderr",
     "output_type": "stream",
     "text": [
      "\r",
      "Warmup:  44%|██████████████████▍                       | 337/768 [01:03,  5.08it/s, step size=4.60e-01, acc. prob=0.780]"
     ]
    },
    {
     "name": "stderr",
     "output_type": "stream",
     "text": [
      "\r",
      "Warmup:  44%|██████████████████▍                       | 338/768 [01:03,  5.07it/s, step size=6.60e-01, acc. prob=0.780]"
     ]
    },
    {
     "name": "stderr",
     "output_type": "stream",
     "text": [
      "\r",
      "Warmup:  44%|██████████████████▌                       | 339/768 [01:03,  5.08it/s, step size=5.89e-01, acc. prob=0.780]"
     ]
    },
    {
     "name": "stderr",
     "output_type": "stream",
     "text": [
      "\r",
      "Warmup:  44%|██████████████████▌                       | 340/768 [01:03,  5.09it/s, step size=3.56e-01, acc. prob=0.780]"
     ]
    },
    {
     "name": "stderr",
     "output_type": "stream",
     "text": [
      "\r",
      "Warmup:  44%|██████████████████▋                       | 341/768 [01:03,  5.07it/s, step size=4.49e-01, acc. prob=0.780]"
     ]
    },
    {
     "name": "stderr",
     "output_type": "stream",
     "text": [
      "\r",
      "Warmup:  45%|██████████████████▋                       | 342/768 [01:04,  5.09it/s, step size=4.63e-01, acc. prob=0.780]"
     ]
    },
    {
     "name": "stderr",
     "output_type": "stream",
     "text": [
      "\r",
      "Warmup:  45%|██████████████████▊                       | 343/768 [01:04,  5.09it/s, step size=4.51e-01, acc. prob=0.780]"
     ]
    },
    {
     "name": "stderr",
     "output_type": "stream",
     "text": [
      "\r",
      "Warmup:  45%|██████████████████▊                       | 344/768 [01:04,  5.11it/s, step size=5.77e-01, acc. prob=0.780]"
     ]
    },
    {
     "name": "stderr",
     "output_type": "stream",
     "text": [
      "\r",
      "Warmup:  45%|██████████████████▊                       | 345/768 [01:04,  5.10it/s, step size=3.67e-01, acc. prob=0.780]"
     ]
    },
    {
     "name": "stderr",
     "output_type": "stream",
     "text": [
      "\r",
      "Warmup:  45%|██████████████████▉                       | 346/768 [01:04,  5.07it/s, step size=4.87e-01, acc. prob=0.780]"
     ]
    },
    {
     "name": "stderr",
     "output_type": "stream",
     "text": [
      "\r",
      "Warmup:  45%|██████████████████▉                       | 347/768 [01:05,  4.98it/s, step size=6.10e-01, acc. prob=0.781]"
     ]
    },
    {
     "name": "stderr",
     "output_type": "stream",
     "text": [
      "\r",
      "Warmup:  45%|███████████████████                       | 348/768 [01:05,  4.98it/s, step size=8.00e-01, acc. prob=0.781]"
     ]
    },
    {
     "name": "stderr",
     "output_type": "stream",
     "text": [
      "\r",
      "Warmup:  46%|███████████████████▏                      | 350/768 [01:05,  5.71it/s, step size=5.46e-01, acc. prob=0.781]"
     ]
    },
    {
     "name": "stderr",
     "output_type": "stream",
     "text": [
      "\r",
      "Warmup:  46%|███████████████████▏                      | 351/768 [01:05,  5.52it/s, step size=7.89e-01, acc. prob=0.781]"
     ]
    },
    {
     "name": "stderr",
     "output_type": "stream",
     "text": [
      "\r",
      "Warmup:  46%|███████████████████▎                      | 352/768 [01:05,  5.41it/s, step size=2.61e-01, acc. prob=0.779]"
     ]
    },
    {
     "name": "stderr",
     "output_type": "stream",
     "text": [
      "\r",
      "Warmup:  46%|███████████████████▎                      | 353/768 [01:06,  5.31it/s, step size=3.12e-01, acc. prob=0.780]"
     ]
    },
    {
     "name": "stderr",
     "output_type": "stream",
     "text": [
      "\r",
      "Warmup:  46%|███████████████████▎                      | 354/768 [01:06,  5.21it/s, step size=4.38e-01, acc. prob=0.780]"
     ]
    },
    {
     "name": "stderr",
     "output_type": "stream",
     "text": [
      "\r",
      "Warmup:  46%|███████████████████▍                      | 355/768 [01:06,  5.18it/s, step size=6.17e-01, acc. prob=0.781]"
     ]
    },
    {
     "name": "stderr",
     "output_type": "stream",
     "text": [
      "\r",
      "Warmup:  46%|███████████████████▍                      | 356/768 [01:06,  5.13it/s, step size=3.31e-01, acc. prob=0.780]"
     ]
    },
    {
     "name": "stderr",
     "output_type": "stream",
     "text": [
      "\r",
      "Warmup:  46%|███████████████████▌                      | 357/768 [01:06,  5.11it/s, step size=4.72e-01, acc. prob=0.781]"
     ]
    },
    {
     "name": "stderr",
     "output_type": "stream",
     "text": [
      "\r",
      "Warmup:  47%|███████████████████▌                      | 358/768 [01:07,  5.10it/s, step size=6.18e-01, acc. prob=0.781]"
     ]
    },
    {
     "name": "stderr",
     "output_type": "stream",
     "text": [
      "\r",
      "Warmup:  47%|███████████████████▋                      | 359/768 [01:07,  5.74it/s, step size=8.63e-01, acc. prob=0.782]"
     ]
    },
    {
     "name": "stderr",
     "output_type": "stream",
     "text": [
      "\r",
      "Warmup:  47%|███████████████████▋                      | 360/768 [01:07,  5.75it/s, step size=2.20e-01, acc. prob=0.779]"
     ]
    },
    {
     "name": "stderr",
     "output_type": "stream",
     "text": [
      "\r",
      "Warmup:  47%|███████████████████▋                      | 361/768 [01:07,  5.43it/s, step size=3.15e-01, acc. prob=0.780]"
     ]
    },
    {
     "name": "stderr",
     "output_type": "stream",
     "text": [
      "\r",
      "Warmup:  47%|███████████████████▊                      | 362/768 [01:07,  5.30it/s, step size=4.01e-01, acc. prob=0.781]"
     ]
    },
    {
     "name": "stderr",
     "output_type": "stream",
     "text": [
      "\r",
      "Warmup:  47%|███████████████████▊                      | 363/768 [01:08,  5.25it/s, step size=3.08e-01, acc. prob=0.780]"
     ]
    },
    {
     "name": "stderr",
     "output_type": "stream",
     "text": [
      "\r",
      "Warmup:  47%|███████████████████▉                      | 364/768 [01:08,  5.20it/s, step size=4.28e-01, acc. prob=0.781]"
     ]
    },
    {
     "name": "stderr",
     "output_type": "stream",
     "text": [
      "\r",
      "Warmup:  48%|███████████████████▉                      | 365/768 [01:08,  5.17it/s, step size=5.94e-01, acc. prob=0.781]"
     ]
    },
    {
     "name": "stderr",
     "output_type": "stream",
     "text": [
      "\r",
      "Warmup:  48%|████████████████████                      | 366/768 [01:08,  5.09it/s, step size=2.33e-01, acc. prob=0.780]"
     ]
    },
    {
     "name": "stderr",
     "output_type": "stream",
     "text": [
      "\r",
      "Warmup:  48%|████████████████████                      | 367/768 [01:08,  5.02it/s, step size=3.32e-01, acc. prob=0.780]"
     ]
    },
    {
     "name": "stderr",
     "output_type": "stream",
     "text": [
      "\r",
      "Warmup:  48%|████████████████████▏                     | 368/768 [01:09,  4.98it/s, step size=4.18e-01, acc. prob=0.781]"
     ]
    },
    {
     "name": "stderr",
     "output_type": "stream",
     "text": [
      "\r",
      "Warmup:  48%|████████████████████▏                     | 369/768 [01:09,  5.01it/s, step size=5.41e-01, acc. prob=0.781]"
     ]
    },
    {
     "name": "stderr",
     "output_type": "stream",
     "text": [
      "\r",
      "Warmup:  48%|████████████████████▏                     | 370/768 [01:09,  4.90it/s, step size=1.62e-01, acc. prob=0.779]"
     ]
    },
    {
     "name": "stderr",
     "output_type": "stream",
     "text": [
      "\r",
      "Warmup:  48%|████████████████████▎                     | 371/768 [01:09,  4.94it/s, step size=2.16e-01, acc. prob=0.780]"
     ]
    },
    {
     "name": "stderr",
     "output_type": "stream",
     "text": [
      "\r",
      "Warmup:  48%|████████████████████▎                     | 372/768 [01:09,  4.95it/s, step size=3.06e-01, acc. prob=0.780]"
     ]
    },
    {
     "name": "stderr",
     "output_type": "stream",
     "text": [
      "\r",
      "Warmup:  49%|████████████████████▍                     | 373/768 [01:10,  4.99it/s, step size=4.03e-01, acc. prob=0.781]"
     ]
    },
    {
     "name": "stderr",
     "output_type": "stream",
     "text": [
      "\r",
      "Warmup:  49%|████████████████████▍                     | 374/768 [01:10,  4.99it/s, step size=5.65e-01, acc. prob=0.781]"
     ]
    },
    {
     "name": "stderr",
     "output_type": "stream",
     "text": [
      "\r",
      "Warmup:  49%|████████████████████▌                     | 375/768 [01:10,  4.94it/s, step size=4.69e-01, acc. prob=0.781]"
     ]
    },
    {
     "name": "stderr",
     "output_type": "stream",
     "text": [
      "\r",
      "Warmup:  49%|████████████████████▌                     | 376/768 [01:10,  4.96it/s, step size=5.67e-01, acc. prob=0.782]"
     ]
    },
    {
     "name": "stderr",
     "output_type": "stream",
     "text": [
      "\r",
      "Warmup:  49%|████████████████████▌                     | 377/768 [01:10,  4.94it/s, step size=4.08e-01, acc. prob=0.781]"
     ]
    },
    {
     "name": "stderr",
     "output_type": "stream",
     "text": [
      "\r",
      "Warmup:  49%|████████████████████▋                     | 378/768 [01:11,  4.92it/s, step size=4.86e-01, acc. prob=0.781]"
     ]
    },
    {
     "name": "stderr",
     "output_type": "stream",
     "text": [
      "\r",
      "Warmup:  49%|████████████████████▋                     | 379/768 [01:11,  4.87it/s, step size=3.99e-01, acc. prob=0.781]"
     ]
    },
    {
     "name": "stderr",
     "output_type": "stream",
     "text": [
      "\r",
      "Warmup:  49%|████████████████████▊                     | 380/768 [01:11,  4.84it/s, step size=4.37e-01, acc. prob=0.781]"
     ]
    },
    {
     "name": "stderr",
     "output_type": "stream",
     "text": [
      "\r",
      "Warmup:  50%|████████████████████▊                     | 381/768 [01:11,  4.68it/s, step size=4.80e-01, acc. prob=0.781]"
     ]
    },
    {
     "name": "stderr",
     "output_type": "stream",
     "text": [
      "\r",
      "Warmup:  50%|████████████████████▉                     | 382/768 [01:11,  4.71it/s, step size=6.21e-01, acc. prob=0.782]"
     ]
    },
    {
     "name": "stderr",
     "output_type": "stream",
     "text": [
      "\r",
      "Warmup:  50%|████████████████████▉                     | 383/768 [01:12,  4.70it/s, step size=2.67e-01, acc. prob=0.781]"
     ]
    },
    {
     "name": "stderr",
     "output_type": "stream",
     "text": [
      "\r",
      "Warmup:  50%|█████████████████████                     | 384/768 [01:12,  4.66it/s, step size=3.64e-01, acc. prob=0.781]"
     ]
    },
    {
     "name": "stderr",
     "output_type": "stream",
     "text": [
      "\r",
      "Warmup:  50%|█████████████████████                     | 385/768 [01:12,  4.67it/s, step size=3.01e-01, acc. prob=0.781]"
     ]
    },
    {
     "name": "stderr",
     "output_type": "stream",
     "text": [
      "\r",
      "Warmup:  50%|█████████████████████                     | 386/768 [01:12,  4.67it/s, step size=3.87e-01, acc. prob=0.781]"
     ]
    },
    {
     "name": "stderr",
     "output_type": "stream",
     "text": [
      "\r",
      "Warmup:  50%|█████████████████████▏                    | 387/768 [01:13,  4.75it/s, step size=3.60e-01, acc. prob=0.781]"
     ]
    },
    {
     "name": "stderr",
     "output_type": "stream",
     "text": [
      "\r",
      "Warmup:  51%|█████████████████████▏                    | 388/768 [01:13,  4.67it/s, step size=4.44e-01, acc. prob=0.782]"
     ]
    },
    {
     "name": "stderr",
     "output_type": "stream",
     "text": [
      "\r",
      "Warmup:  51%|█████████████████████▎                    | 389/768 [01:13,  4.70it/s, step size=3.34e-01, acc. prob=0.781]"
     ]
    },
    {
     "name": "stderr",
     "output_type": "stream",
     "text": [
      "\r",
      "Warmup:  51%|█████████████████████▎                    | 390/768 [01:13,  4.65it/s, step size=4.14e-01, acc. prob=0.781]"
     ]
    },
    {
     "name": "stderr",
     "output_type": "stream",
     "text": [
      "\r",
      "Warmup:  51%|█████████████████████▍                    | 391/768 [01:13,  4.61it/s, step size=2.69e-01, acc. prob=0.781]"
     ]
    },
    {
     "name": "stderr",
     "output_type": "stream",
     "text": [
      "\r",
      "Warmup:  51%|█████████████████████▍                    | 392/768 [01:14,  4.53it/s, step size=3.70e-01, acc. prob=0.781]"
     ]
    },
    {
     "name": "stderr",
     "output_type": "stream",
     "text": [
      "\r",
      "Warmup:  51%|█████████████████████▍                    | 393/768 [01:14,  4.50it/s, step size=4.95e-01, acc. prob=0.782]"
     ]
    },
    {
     "name": "stderr",
     "output_type": "stream",
     "text": [
      "\r",
      "Warmup:  51%|█████████████████████▌                    | 394/768 [01:14,  4.49it/s, step size=5.99e-01, acc. prob=0.782]"
     ]
    },
    {
     "name": "stderr",
     "output_type": "stream",
     "text": [
      "\r",
      "Warmup:  51%|█████████████████████▌                    | 395/768 [01:14,  4.52it/s, step size=5.67e-01, acc. prob=0.782]"
     ]
    },
    {
     "name": "stderr",
     "output_type": "stream",
     "text": [
      "\r",
      "Warmup:  52%|█████████████████████▋                    | 396/768 [01:14,  5.00it/s, step size=4.76e-01, acc. prob=0.782]"
     ]
    },
    {
     "name": "stderr",
     "output_type": "stream",
     "text": [
      "\r",
      "Warmup:  52%|█████████████████████▋                    | 397/768 [01:15,  4.91it/s, step size=3.72e-01, acc. prob=0.782]"
     ]
    },
    {
     "name": "stderr",
     "output_type": "stream",
     "text": [
      "\r",
      "Warmup:  52%|█████████████████████▊                    | 398/768 [01:15,  4.81it/s, step size=3.98e-01, acc. prob=0.782]"
     ]
    },
    {
     "name": "stderr",
     "output_type": "stream",
     "text": [
      "\r",
      "Warmup:  52%|█████████████████████▊                    | 399/768 [01:15,  4.81it/s, step size=4.75e-01, acc. prob=0.782]"
     ]
    },
    {
     "name": "stderr",
     "output_type": "stream",
     "text": [
      "\r",
      "Warmup:  52%|█████████████████████▉                    | 400/768 [01:15,  4.78it/s, step size=5.16e-01, acc. prob=0.782]"
     ]
    },
    {
     "name": "stderr",
     "output_type": "stream",
     "text": [
      "\r",
      "Warmup:  52%|█████████████████████▉                    | 401/768 [01:16,  4.80it/s, step size=6.90e-01, acc. prob=0.783]"
     ]
    },
    {
     "name": "stderr",
     "output_type": "stream",
     "text": [
      "\r",
      "Warmup:  52%|█████████████████████▉                    | 402/768 [01:16,  4.81it/s, step size=4.62e-01, acc. prob=0.782]"
     ]
    },
    {
     "name": "stderr",
     "output_type": "stream",
     "text": [
      "\r",
      "Warmup:  53%|██████████████████████                    | 404/768 [01:16,  5.67it/s, step size=4.48e-01, acc. prob=0.782]"
     ]
    },
    {
     "name": "stderr",
     "output_type": "stream",
     "text": [
      "\r",
      "Warmup:  53%|██████████████████████▏                   | 405/768 [01:16,  5.36it/s, step size=5.46e-01, acc. prob=0.782]"
     ]
    },
    {
     "name": "stderr",
     "output_type": "stream",
     "text": [
      "\r",
      "Warmup:  53%|██████████████████████▏                   | 406/768 [01:16,  5.18it/s, step size=4.65e-01, acc. prob=0.782]"
     ]
    },
    {
     "name": "stderr",
     "output_type": "stream",
     "text": [
      "\r",
      "Warmup:  53%|██████████████████████▎                   | 407/768 [01:17,  5.14it/s, step size=6.06e-01, acc. prob=0.783]"
     ]
    },
    {
     "name": "stderr",
     "output_type": "stream",
     "text": [
      "\r",
      "Warmup:  53%|██████████████████████▎                   | 408/768 [01:17,  4.98it/s, step size=2.96e-01, acc. prob=0.781]"
     ]
    },
    {
     "name": "stderr",
     "output_type": "stream",
     "text": [
      "\r",
      "Warmup:  53%|██████████████████████▎                   | 409/768 [01:17,  4.98it/s, step size=3.54e-01, acc. prob=0.782]"
     ]
    },
    {
     "name": "stderr",
     "output_type": "stream",
     "text": [
      "\r",
      "Warmup:  53%|██████████████████████▍                   | 410/768 [01:17,  4.84it/s, step size=4.50e-01, acc. prob=0.782]"
     ]
    },
    {
     "name": "stderr",
     "output_type": "stream",
     "text": [
      "\r",
      "Warmup:  54%|██████████████████████▍                   | 411/768 [01:17,  4.88it/s, step size=3.52e-01, acc. prob=0.782]"
     ]
    },
    {
     "name": "stderr",
     "output_type": "stream",
     "text": [
      "\r",
      "Warmup:  54%|██████████████████████▌                   | 412/768 [01:18,  4.83it/s, step size=4.76e-01, acc. prob=0.782]"
     ]
    },
    {
     "name": "stderr",
     "output_type": "stream",
     "text": [
      "\r",
      "Warmup:  54%|██████████████████████▌                   | 413/768 [01:18,  4.85it/s, step size=6.13e-01, acc. prob=0.783]"
     ]
    },
    {
     "name": "stderr",
     "output_type": "stream",
     "text": [
      "\r",
      "Warmup:  54%|██████████████████████▋                   | 414/768 [01:18,  4.87it/s, step size=3.42e-01, acc. prob=0.782]"
     ]
    },
    {
     "name": "stderr",
     "output_type": "stream",
     "text": [
      "\r",
      "Warmup:  54%|██████████████████████▋                   | 415/768 [01:18,  4.88it/s, step size=3.40e-01, acc. prob=0.782]"
     ]
    },
    {
     "name": "stderr",
     "output_type": "stream",
     "text": [
      "\r",
      "Warmup:  54%|██████████████████████▊                   | 416/768 [01:18,  4.89it/s, step size=4.37e-01, acc. prob=0.782]"
     ]
    },
    {
     "name": "stderr",
     "output_type": "stream",
     "text": [
      "\r",
      "Warmup:  54%|██████████████████████▊                   | 417/768 [01:19,  4.87it/s, step size=5.29e-01, acc. prob=0.783]"
     ]
    },
    {
     "name": "stderr",
     "output_type": "stream",
     "text": [
      "\r",
      "Warmup:  54%|██████████████████████▊                   | 418/768 [01:19,  4.91it/s, step size=3.62e-01, acc. prob=0.782]"
     ]
    },
    {
     "name": "stderr",
     "output_type": "stream",
     "text": [
      "\r",
      "Warmup:  55%|██████████████████████▉                   | 419/768 [01:19,  4.83it/s, step size=4.80e-01, acc. prob=0.783]"
     ]
    },
    {
     "name": "stderr",
     "output_type": "stream",
     "text": [
      "\r",
      "Warmup:  55%|██████████████████████▉                   | 420/768 [01:19,  4.77it/s, step size=6.42e-01, acc. prob=0.783]"
     ]
    },
    {
     "name": "stderr",
     "output_type": "stream",
     "text": [
      "\r",
      "Warmup:  55%|███████████████████████                   | 421/768 [01:20,  4.79it/s, step size=4.58e-01, acc. prob=0.783]"
     ]
    },
    {
     "name": "stderr",
     "output_type": "stream",
     "text": [
      "\r",
      "Warmup:  55%|███████████████████████                   | 422/768 [01:20,  4.84it/s, step size=4.10e-01, acc. prob=0.782]"
     ]
    },
    {
     "name": "stderr",
     "output_type": "stream",
     "text": [
      "\r",
      "Warmup:  55%|███████████████████████▏                  | 423/768 [01:20,  4.80it/s, step size=4.94e-01, acc. prob=0.783]"
     ]
    },
    {
     "name": "stderr",
     "output_type": "stream",
     "text": [
      "\r",
      "Warmup:  55%|███████████████████████▏                  | 424/768 [01:20,  4.80it/s, step size=6.59e-01, acc. prob=0.783]"
     ]
    },
    {
     "name": "stderr",
     "output_type": "stream",
     "text": [
      "\r",
      "Warmup:  55%|███████████████████████▏                  | 425/768 [01:20,  4.76it/s, step size=2.35e-01, acc. prob=0.782]"
     ]
    },
    {
     "name": "stderr",
     "output_type": "stream",
     "text": [
      "\r",
      "Warmup:  55%|███████████████████████▎                  | 426/768 [01:21,  4.77it/s, step size=2.86e-01, acc. prob=0.782]"
     ]
    },
    {
     "name": "stderr",
     "output_type": "stream",
     "text": [
      "\r",
      "Warmup:  56%|███████████████████████▎                  | 427/768 [01:21,  4.67it/s, step size=3.80e-01, acc. prob=0.782]"
     ]
    },
    {
     "name": "stderr",
     "output_type": "stream",
     "text": [
      "\r",
      "Warmup:  56%|███████████████████████▍                  | 428/768 [01:21,  4.72it/s, step size=3.70e-01, acc. prob=0.782]"
     ]
    },
    {
     "name": "stderr",
     "output_type": "stream",
     "text": [
      "\r",
      "Warmup:  56%|███████████████████████▍                  | 429/768 [01:21,  4.48it/s, step size=4.63e-01, acc. prob=0.783]"
     ]
    },
    {
     "name": "stderr",
     "output_type": "stream",
     "text": [
      "\r",
      "Warmup:  56%|███████████████████████▌                  | 430/768 [01:21,  4.56it/s, step size=5.65e-01, acc. prob=0.783]"
     ]
    },
    {
     "name": "stderr",
     "output_type": "stream",
     "text": [
      "\r",
      "Warmup:  56%|███████████████████████▌                  | 431/768 [01:22,  4.65it/s, step size=6.44e-01, acc. prob=0.783]"
     ]
    },
    {
     "name": "stderr",
     "output_type": "stream",
     "text": [
      "\r",
      "Warmup:  56%|███████████████████████▋                  | 432/768 [01:22,  4.72it/s, step size=7.69e-01, acc. prob=0.784]"
     ]
    },
    {
     "name": "stderr",
     "output_type": "stream",
     "text": [
      "\r",
      "Warmup:  56%|███████████████████████▋                  | 433/768 [01:22,  4.76it/s, step size=3.04e-01, acc. prob=0.782]"
     ]
    },
    {
     "name": "stderr",
     "output_type": "stream",
     "text": [
      "\r",
      "Warmup:  57%|███████████████████████▋                  | 434/768 [01:22,  4.77it/s, step size=3.86e-01, acc. prob=0.783]"
     ]
    },
    {
     "name": "stderr",
     "output_type": "stream",
     "text": [
      "\r",
      "Warmup:  57%|███████████████████████▊                  | 435/768 [01:22,  4.77it/s, step size=3.62e-01, acc. prob=0.783]"
     ]
    },
    {
     "name": "stderr",
     "output_type": "stream",
     "text": [
      "\r",
      "Warmup:  57%|███████████████████████▊                  | 436/768 [01:23,  4.77it/s, step size=4.14e-01, acc. prob=0.783]"
     ]
    },
    {
     "name": "stderr",
     "output_type": "stream",
     "text": [
      "\r",
      "Warmup:  57%|███████████████████████▉                  | 437/768 [01:23,  4.70it/s, step size=3.98e-01, acc. prob=0.783]"
     ]
    },
    {
     "name": "stderr",
     "output_type": "stream",
     "text": [
      "\r",
      "Warmup:  57%|███████████████████████▉                  | 438/768 [01:23,  4.71it/s, step size=5.18e-01, acc. prob=0.783]"
     ]
    },
    {
     "name": "stderr",
     "output_type": "stream",
     "text": [
      "\r",
      "Warmup:  57%|████████████████████████                  | 439/768 [01:23,  4.75it/s, step size=4.33e-01, acc. prob=0.783]"
     ]
    },
    {
     "name": "stderr",
     "output_type": "stream",
     "text": [
      "\r",
      "Warmup:  57%|████████████████████████                  | 440/768 [01:24,  4.73it/s, step size=5.42e-01, acc. prob=0.783]"
     ]
    },
    {
     "name": "stderr",
     "output_type": "stream",
     "text": [
      "\r",
      "Warmup:  57%|████████████████████████                  | 441/768 [01:24,  4.78it/s, step size=6.77e-01, acc. prob=0.784]"
     ]
    },
    {
     "name": "stderr",
     "output_type": "stream",
     "text": [
      "\r",
      "Warmup:  58%|████████████████████████▏                 | 442/768 [01:24,  4.77it/s, step size=3.70e-01, acc. prob=0.783]"
     ]
    },
    {
     "name": "stderr",
     "output_type": "stream",
     "text": [
      "\r",
      "Warmup:  58%|████████████████████████▏                 | 443/768 [01:24,  4.80it/s, step size=4.87e-01, acc. prob=0.783]"
     ]
    },
    {
     "name": "stderr",
     "output_type": "stream",
     "text": [
      "\r",
      "Warmup:  58%|████████████████████████▎                 | 444/768 [01:24,  4.83it/s, step size=6.15e-01, acc. prob=0.784]"
     ]
    },
    {
     "name": "stderr",
     "output_type": "stream",
     "text": [
      "\r",
      "Warmup:  58%|████████████████████████▎                 | 445/768 [01:24,  5.71it/s, step size=4.80e-01, acc. prob=0.783]"
     ]
    },
    {
     "name": "stderr",
     "output_type": "stream",
     "text": [
      "\r",
      "Warmup:  58%|████████████████████████▍                 | 446/768 [01:25,  5.43it/s, step size=4.23e-01, acc. prob=0.783]"
     ]
    },
    {
     "name": "stderr",
     "output_type": "stream",
     "text": [
      "\r",
      "Warmup:  58%|████████████████████████▍                 | 447/768 [01:25,  5.22it/s, step size=3.26e-01, acc. prob=0.783]"
     ]
    },
    {
     "name": "stderr",
     "output_type": "stream",
     "text": [
      "\r",
      "Warmup:  58%|████████████████████████▌                 | 448/768 [01:25,  5.08it/s, step size=4.29e-01, acc. prob=0.783]"
     ]
    },
    {
     "name": "stderr",
     "output_type": "stream",
     "text": [
      "\r",
      "Warmup:  58%|████████████████████████▌                 | 449/768 [01:25,  4.99it/s, step size=2.19e-01, acc. prob=0.782]"
     ]
    },
    {
     "name": "stderr",
     "output_type": "stream",
     "text": [
      "\r",
      "Warmup:  59%|████████████████████████▌                 | 450/768 [01:26,  4.84it/s, step size=2.85e-01, acc. prob=0.783]"
     ]
    },
    {
     "name": "stderr",
     "output_type": "stream",
     "text": [
      "\r",
      "Warmup:  59%|████████████████████████▋                 | 451/768 [01:26,  4.82it/s, step size=3.56e-01, acc. prob=0.783]"
     ]
    },
    {
     "name": "stderr",
     "output_type": "stream",
     "text": [
      "\r",
      "Warmup:  59%|████████████████████████▋                 | 452/768 [01:26,  4.76it/s, step size=4.58e-01, acc. prob=0.783]"
     ]
    },
    {
     "name": "stderr",
     "output_type": "stream",
     "text": [
      "\r",
      "Warmup:  59%|████████████████████████▊                 | 453/768 [01:26,  4.77it/s, step size=3.08e-01, acc. prob=0.783]"
     ]
    },
    {
     "name": "stderr",
     "output_type": "stream",
     "text": [
      "\r",
      "Warmup:  59%|████████████████████████▊                 | 454/768 [01:26,  4.76it/s, step size=3.98e-01, acc. prob=0.783]"
     ]
    },
    {
     "name": "stderr",
     "output_type": "stream",
     "text": [
      "\r",
      "Warmup:  59%|████████████████████████▉                 | 455/768 [01:27,  4.81it/s, step size=4.63e-01, acc. prob=0.784]"
     ]
    },
    {
     "name": "stderr",
     "output_type": "stream",
     "text": [
      "\r",
      "Warmup:  59%|████████████████████████▉                 | 456/768 [01:27,  4.83it/s, step size=4.98e-01, acc. prob=0.784]"
     ]
    },
    {
     "name": "stderr",
     "output_type": "stream",
     "text": [
      "\r",
      "Warmup:  60%|████████████████████████▉                 | 457/768 [01:27,  4.82it/s, step size=4.38e-01, acc. prob=0.783]"
     ]
    },
    {
     "name": "stderr",
     "output_type": "stream",
     "text": [
      "\r",
      "Warmup:  60%|█████████████████████████                 | 458/768 [01:27,  4.84it/s, step size=5.73e-01, acc. prob=0.784]"
     ]
    },
    {
     "name": "stderr",
     "output_type": "stream",
     "text": [
      "\r",
      "Warmup:  60%|█████████████████████████▏                | 460/768 [01:27,  5.94it/s, step size=5.33e-01, acc. prob=0.784]"
     ]
    },
    {
     "name": "stderr",
     "output_type": "stream",
     "text": [
      "\r",
      "Warmup:  60%|█████████████████████████▏                | 461/768 [01:28,  5.53it/s, step size=1.98e-01, acc. prob=0.783]"
     ]
    },
    {
     "name": "stderr",
     "output_type": "stream",
     "text": [
      "\r",
      "Warmup:  60%|█████████████████████████▎                | 462/768 [01:28,  6.25it/s, step size=2.62e+00, acc. prob=0.784]"
     ]
    },
    {
     "name": "stderr",
     "output_type": "stream",
     "text": [
      "\r",
      "Warmup:  61%|█████████████████████████▍                | 465/768 [01:28, 10.66it/s, step size=3.35e-01, acc. prob=0.782]"
     ]
    },
    {
     "name": "stderr",
     "output_type": "stream",
     "text": [
      "\r",
      "Warmup:  61%|█████████████████████████▋                | 469/768 [01:28, 14.10it/s, step size=1.82e-01, acc. prob=0.782]"
     ]
    },
    {
     "name": "stderr",
     "output_type": "stream",
     "text": [
      "\r",
      "Warmup:  61%|█████████████████████████▊                | 471/768 [01:28, 13.91it/s, step size=4.92e-01, acc. prob=0.783]"
     ]
    },
    {
     "name": "stderr",
     "output_type": "stream",
     "text": [
      "\r",
      "Warmup:  62%|█████████████████████████▉                | 475/768 [01:28, 16.12it/s, step size=2.38e-01, acc. prob=0.782]"
     ]
    },
    {
     "name": "stderr",
     "output_type": "stream",
     "text": [
      "\r",
      "Warmup:  62%|██████████████████████████▏               | 478/768 [01:29, 15.85it/s, step size=2.83e-01, acc. prob=0.783]"
     ]
    },
    {
     "name": "stderr",
     "output_type": "stream",
     "text": [
      "\r",
      "Warmup:  63%|██████████████████████████▎               | 481/768 [01:29, 17.91it/s, step size=1.52e-01, acc. prob=0.782]"
     ]
    },
    {
     "name": "stderr",
     "output_type": "stream",
     "text": [
      "\r",
      "Warmup:  63%|██████████████████████████▍               | 483/768 [01:29, 16.63it/s, step size=4.12e-01, acc. prob=0.783]"
     ]
    },
    {
     "name": "stderr",
     "output_type": "stream",
     "text": [
      "\r",
      "Warmup:  63%|██████████████████████████▌               | 486/768 [01:29, 18.63it/s, step size=3.54e-01, acc. prob=0.783]"
     ]
    },
    {
     "name": "stderr",
     "output_type": "stream",
     "text": [
      "\r",
      "Warmup:  64%|██████████████████████████▋               | 489/768 [01:29, 20.18it/s, step size=7.40e-01, acc. prob=0.784]"
     ]
    },
    {
     "name": "stderr",
     "output_type": "stream",
     "text": [
      "\r",
      "Warmup:  64%|██████████████████████████▉               | 492/768 [01:29, 19.28it/s, step size=4.29e-01, acc. prob=0.783]"
     ]
    },
    {
     "name": "stderr",
     "output_type": "stream",
     "text": [
      "\r",
      "Warmup:  64%|███████████████████████████               | 495/768 [01:30, 15.61it/s, step size=1.78e-01, acc. prob=0.783]"
     ]
    },
    {
     "name": "stderr",
     "output_type": "stream",
     "text": [
      "\r",
      "Warmup:  65%|███████████████████████████▏              | 497/768 [01:30, 15.09it/s, step size=4.27e-01, acc. prob=0.783]"
     ]
    },
    {
     "name": "stderr",
     "output_type": "stream",
     "text": [
      "\r",
      "Warmup:  65%|███████████████████████████▎              | 499/768 [01:30, 16.05it/s, step size=6.11e-01, acc. prob=0.784]"
     ]
    },
    {
     "name": "stderr",
     "output_type": "stream",
     "text": [
      "\r",
      "Warmup:  65%|███████████████████████████▌              | 503/768 [01:30, 19.46it/s, step size=4.73e-01, acc. prob=0.784]"
     ]
    },
    {
     "name": "stderr",
     "output_type": "stream",
     "text": [
      "\r",
      "Warmup:  66%|███████████████████████████▋              | 506/768 [01:30, 19.80it/s, step size=4.82e-01, acc. prob=0.784]"
     ]
    },
    {
     "name": "stderr",
     "output_type": "stream",
     "text": [
      "\r",
      "Warmup:  66%|███████████████████████████▊              | 509/768 [01:30, 20.06it/s, step size=6.12e-01, acc. prob=0.784]"
     ]
    },
    {
     "name": "stderr",
     "output_type": "stream",
     "text": [
      "\r",
      "Warmup:  67%|████████████████████████████              | 513/768 [01:30, 22.40it/s, step size=4.03e-01, acc. prob=0.820]"
     ]
    },
    {
     "name": "stderr",
     "output_type": "stream",
     "text": [
      "\r",
      "Sample:  67%|████████████████████████████▏             | 516/768 [01:31, 21.90it/s, step size=4.03e-01, acc. prob=0.842]"
     ]
    },
    {
     "name": "stderr",
     "output_type": "stream",
     "text": [
      "\r",
      "Sample:  68%|████████████████████████████▍             | 519/768 [01:31, 21.43it/s, step size=4.03e-01, acc. prob=0.821]"
     ]
    },
    {
     "name": "stderr",
     "output_type": "stream",
     "text": [
      "\r",
      "Sample:  68%|████████████████████████████▌             | 522/768 [01:31, 21.19it/s, step size=4.03e-01, acc. prob=0.842]"
     ]
    },
    {
     "name": "stderr",
     "output_type": "stream",
     "text": [
      "\r",
      "Sample:  68%|████████████████████████████▋             | 525/768 [01:31, 20.88it/s, step size=4.03e-01, acc. prob=0.865]"
     ]
    },
    {
     "name": "stderr",
     "output_type": "stream",
     "text": [
      "\r",
      "Sample:  69%|████████████████████████████▉             | 528/768 [01:31, 20.57it/s, step size=4.03e-01, acc. prob=0.855]"
     ]
    },
    {
     "name": "stderr",
     "output_type": "stream",
     "text": [
      "\r",
      "Sample:  69%|█████████████████████████████             | 531/768 [01:31, 20.40it/s, step size=4.03e-01, acc. prob=0.876]"
     ]
    },
    {
     "name": "stderr",
     "output_type": "stream",
     "text": [
      "\r",
      "Sample:  70%|█████████████████████████████▏            | 534/768 [01:31, 20.50it/s, step size=4.03e-01, acc. prob=0.871]"
     ]
    },
    {
     "name": "stderr",
     "output_type": "stream",
     "text": [
      "\r",
      "Sample:  70%|█████████████████████████████▎            | 537/768 [01:32, 20.49it/s, step size=4.03e-01, acc. prob=0.877]"
     ]
    },
    {
     "name": "stderr",
     "output_type": "stream",
     "text": [
      "\r",
      "Sample:  70%|█████████████████████████████▌            | 540/768 [01:32, 20.33it/s, step size=4.03e-01, acc. prob=0.874]"
     ]
    },
    {
     "name": "stderr",
     "output_type": "stream",
     "text": [
      "\r",
      "Sample:  71%|█████████████████████████████▋            | 543/768 [01:32, 21.44it/s, step size=4.03e-01, acc. prob=0.860]"
     ]
    },
    {
     "name": "stderr",
     "output_type": "stream",
     "text": [
      "\r",
      "Sample:  71%|█████████████████████████████▊            | 546/768 [01:32, 21.30it/s, step size=4.03e-01, acc. prob=0.858]"
     ]
    },
    {
     "name": "stderr",
     "output_type": "stream",
     "text": [
      "\r",
      "Sample:  71%|██████████████████████████████            | 549/768 [01:32, 20.59it/s, step size=4.03e-01, acc. prob=0.861]"
     ]
    },
    {
     "name": "stderr",
     "output_type": "stream",
     "text": [
      "\r",
      "Sample:  72%|██████████████████████████████▏           | 552/768 [01:32, 20.59it/s, step size=4.03e-01, acc. prob=0.867]"
     ]
    },
    {
     "name": "stderr",
     "output_type": "stream",
     "text": [
      "\r",
      "Sample:  72%|██████████████████████████████▎           | 555/768 [01:32, 20.59it/s, step size=4.03e-01, acc. prob=0.873]"
     ]
    },
    {
     "name": "stderr",
     "output_type": "stream",
     "text": [
      "\r",
      "Sample:  73%|██████████████████████████████▌           | 558/768 [01:33, 20.65it/s, step size=4.03e-01, acc. prob=0.871]"
     ]
    },
    {
     "name": "stderr",
     "output_type": "stream",
     "text": [
      "\r",
      "Sample:  73%|██████████████████████████████▋           | 561/768 [01:33, 20.21it/s, step size=4.03e-01, acc. prob=0.874]"
     ]
    },
    {
     "name": "stderr",
     "output_type": "stream",
     "text": [
      "\r",
      "Sample:  73%|██████████████████████████████▊           | 564/768 [01:33, 20.31it/s, step size=4.03e-01, acc. prob=0.875]"
     ]
    },
    {
     "name": "stderr",
     "output_type": "stream",
     "text": [
      "\r",
      "Sample:  74%|███████████████████████████████           | 567/768 [01:33, 20.27it/s, step size=4.03e-01, acc. prob=0.875]"
     ]
    },
    {
     "name": "stderr",
     "output_type": "stream",
     "text": [
      "\r",
      "Sample:  74%|███████████████████████████████▏          | 570/768 [01:33, 20.41it/s, step size=4.03e-01, acc. prob=0.875]"
     ]
    },
    {
     "name": "stderr",
     "output_type": "stream",
     "text": [
      "\r",
      "Sample:  75%|███████████████████████████████▎          | 573/768 [01:33, 20.34it/s, step size=4.03e-01, acc. prob=0.877]"
     ]
    },
    {
     "name": "stderr",
     "output_type": "stream",
     "text": [
      "\r",
      "Sample:  75%|███████████████████████████████▌          | 576/768 [01:33, 20.11it/s, step size=4.03e-01, acc. prob=0.878]"
     ]
    },
    {
     "name": "stderr",
     "output_type": "stream",
     "text": [
      "\r",
      "Sample:  75%|███████████████████████████████▋          | 579/768 [01:34, 19.86it/s, step size=4.03e-01, acc. prob=0.881]"
     ]
    },
    {
     "name": "stderr",
     "output_type": "stream",
     "text": [
      "\r",
      "Sample:  76%|███████████████████████████████▊          | 582/768 [01:34, 19.60it/s, step size=4.03e-01, acc. prob=0.883]"
     ]
    },
    {
     "name": "stderr",
     "output_type": "stream",
     "text": [
      "\r",
      "Sample:  76%|███████████████████████████████▉          | 584/768 [01:34, 19.48it/s, step size=4.03e-01, acc. prob=0.881]"
     ]
    },
    {
     "name": "stderr",
     "output_type": "stream",
     "text": [
      "\r",
      "Sample:  76%|████████████████████████████████          | 586/768 [01:34, 19.51it/s, step size=4.03e-01, acc. prob=0.884]"
     ]
    },
    {
     "name": "stderr",
     "output_type": "stream",
     "text": [
      "\r",
      "Sample:  77%|████████████████████████████████▏         | 589/768 [01:34, 20.00it/s, step size=4.03e-01, acc. prob=0.881]"
     ]
    },
    {
     "name": "stderr",
     "output_type": "stream",
     "text": [
      "\r",
      "Sample:  77%|████████████████████████████████▎         | 591/768 [01:34, 19.98it/s, step size=4.03e-01, acc. prob=0.881]"
     ]
    },
    {
     "name": "stderr",
     "output_type": "stream",
     "text": [
      "\r",
      "Sample:  77%|████████████████████████████████▍         | 593/768 [01:34, 19.93it/s, step size=4.03e-01, acc. prob=0.881]"
     ]
    },
    {
     "name": "stderr",
     "output_type": "stream",
     "text": [
      "\r",
      "Sample:  78%|████████████████████████████████▌         | 596/768 [01:34, 20.20it/s, step size=4.03e-01, acc. prob=0.881]"
     ]
    },
    {
     "name": "stderr",
     "output_type": "stream",
     "text": [
      "\r",
      "Sample:  78%|████████████████████████████████▊         | 599/768 [01:35, 20.13it/s, step size=4.03e-01, acc. prob=0.883]"
     ]
    },
    {
     "name": "stderr",
     "output_type": "stream",
     "text": [
      "\r",
      "Sample:  78%|████████████████████████████████▉         | 602/768 [01:35, 20.33it/s, step size=4.03e-01, acc. prob=0.883]"
     ]
    },
    {
     "name": "stderr",
     "output_type": "stream",
     "text": [
      "\r",
      "Sample:  79%|█████████████████████████████████         | 605/768 [01:35, 19.84it/s, step size=4.03e-01, acc. prob=0.884]"
     ]
    },
    {
     "name": "stderr",
     "output_type": "stream",
     "text": [
      "\r",
      "Sample:  79%|█████████████████████████████████▏        | 607/768 [01:35, 19.65it/s, step size=4.03e-01, acc. prob=0.882]"
     ]
    },
    {
     "name": "stderr",
     "output_type": "stream",
     "text": [
      "\r",
      "Sample:  79%|█████████████████████████████████▎        | 610/768 [01:35, 20.07it/s, step size=4.03e-01, acc. prob=0.880]"
     ]
    },
    {
     "name": "stderr",
     "output_type": "stream",
     "text": [
      "\r",
      "Sample:  80%|█████████████████████████████████▌        | 613/768 [01:35, 20.12it/s, step size=4.03e-01, acc. prob=0.881]"
     ]
    },
    {
     "name": "stderr",
     "output_type": "stream",
     "text": [
      "\r",
      "Sample:  80%|█████████████████████████████████▋        | 616/768 [01:35, 20.25it/s, step size=4.03e-01, acc. prob=0.882]"
     ]
    },
    {
     "name": "stderr",
     "output_type": "stream",
     "text": [
      "\r",
      "Sample:  81%|█████████████████████████████████▊        | 619/768 [01:36, 19.88it/s, step size=4.03e-01, acc. prob=0.882]"
     ]
    },
    {
     "name": "stderr",
     "output_type": "stream",
     "text": [
      "\r",
      "Sample:  81%|█████████████████████████████████▉        | 621/768 [01:36, 19.71it/s, step size=4.03e-01, acc. prob=0.883]"
     ]
    },
    {
     "name": "stderr",
     "output_type": "stream",
     "text": [
      "\r",
      "Sample:  81%|██████████████████████████████████        | 623/768 [01:36, 19.68it/s, step size=4.03e-01, acc. prob=0.882]"
     ]
    },
    {
     "name": "stderr",
     "output_type": "stream",
     "text": [
      "\r",
      "Sample:  81%|██████████████████████████████████▏       | 625/768 [01:36, 19.53it/s, step size=4.03e-01, acc. prob=0.881]"
     ]
    },
    {
     "name": "stderr",
     "output_type": "stream",
     "text": [
      "\r",
      "Sample:  82%|██████████████████████████████████▎       | 628/768 [01:36, 20.92it/s, step size=4.03e-01, acc. prob=0.879]"
     ]
    },
    {
     "name": "stderr",
     "output_type": "stream",
     "text": [
      "\r",
      "Sample:  82%|██████████████████████████████████▌       | 631/768 [01:36, 20.00it/s, step size=4.03e-01, acc. prob=0.878]"
     ]
    },
    {
     "name": "stderr",
     "output_type": "stream",
     "text": [
      "\r",
      "Sample:  83%|██████████████████████████████████▋       | 634/768 [01:36, 19.84it/s, step size=4.03e-01, acc. prob=0.878]"
     ]
    },
    {
     "name": "stderr",
     "output_type": "stream",
     "text": [
      "\r",
      "Sample:  83%|██████████████████████████████████▊       | 636/768 [01:36, 19.81it/s, step size=4.03e-01, acc. prob=0.878]"
     ]
    },
    {
     "name": "stderr",
     "output_type": "stream",
     "text": [
      "\r",
      "Sample:  83%|██████████████████████████████████▉       | 639/768 [01:37, 20.16it/s, step size=4.03e-01, acc. prob=0.878]"
     ]
    },
    {
     "name": "stderr",
     "output_type": "stream",
     "text": [
      "\r",
      "Sample:  84%|███████████████████████████████████       | 642/768 [01:37, 20.05it/s, step size=4.03e-01, acc. prob=0.876]"
     ]
    },
    {
     "name": "stderr",
     "output_type": "stream",
     "text": [
      "\r",
      "Sample:  84%|███████████████████████████████████▎      | 645/768 [01:37, 20.10it/s, step size=4.03e-01, acc. prob=0.877]"
     ]
    },
    {
     "name": "stderr",
     "output_type": "stream",
     "text": [
      "\r",
      "Sample:  84%|███████████████████████████████████▍      | 648/768 [01:37, 19.39it/s, step size=4.03e-01, acc. prob=0.878]"
     ]
    },
    {
     "name": "stderr",
     "output_type": "stream",
     "text": [
      "\r",
      "Sample:  85%|███████████████████████████████████▌      | 650/768 [01:37, 19.23it/s, step size=4.03e-01, acc. prob=0.880]"
     ]
    },
    {
     "name": "stderr",
     "output_type": "stream",
     "text": [
      "\r",
      "Sample:  85%|███████████████████████████████████▋      | 652/768 [01:37, 19.14it/s, step size=4.03e-01, acc. prob=0.879]"
     ]
    },
    {
     "name": "stderr",
     "output_type": "stream",
     "text": [
      "\r",
      "Sample:  85%|███████████████████████████████████▊      | 655/768 [01:37, 19.71it/s, step size=4.03e-01, acc. prob=0.879]"
     ]
    },
    {
     "name": "stderr",
     "output_type": "stream",
     "text": [
      "\r",
      "Sample:  86%|███████████████████████████████████▉      | 658/768 [01:38, 19.91it/s, step size=4.03e-01, acc. prob=0.878]"
     ]
    },
    {
     "name": "stderr",
     "output_type": "stream",
     "text": [
      "\r",
      "Sample:  86%|████████████████████████████████████      | 660/768 [01:38, 19.92it/s, step size=4.03e-01, acc. prob=0.878]"
     ]
    },
    {
     "name": "stderr",
     "output_type": "stream",
     "text": [
      "\r",
      "Sample:  86%|████████████████████████████████████▎     | 663/768 [01:38, 20.16it/s, step size=4.03e-01, acc. prob=0.879]"
     ]
    },
    {
     "name": "stderr",
     "output_type": "stream",
     "text": [
      "\r",
      "Sample:  87%|████████████████████████████████████▍     | 666/768 [01:38, 20.21it/s, step size=4.03e-01, acc. prob=0.877]"
     ]
    },
    {
     "name": "stderr",
     "output_type": "stream",
     "text": [
      "\r",
      "Sample:  87%|████████████████████████████████████▌     | 669/768 [01:38, 20.41it/s, step size=4.03e-01, acc. prob=0.877]"
     ]
    },
    {
     "name": "stderr",
     "output_type": "stream",
     "text": [
      "\r",
      "Sample:  88%|████████████████████████████████████▊     | 672/768 [01:38, 20.50it/s, step size=4.03e-01, acc. prob=0.877]"
     ]
    },
    {
     "name": "stderr",
     "output_type": "stream",
     "text": [
      "\r",
      "Sample:  88%|████████████████████████████████████▉     | 675/768 [01:38, 20.48it/s, step size=4.03e-01, acc. prob=0.879]"
     ]
    },
    {
     "name": "stderr",
     "output_type": "stream",
     "text": [
      "\r",
      "Sample:  88%|█████████████████████████████████████     | 678/768 [01:39, 20.55it/s, step size=4.03e-01, acc. prob=0.878]"
     ]
    },
    {
     "name": "stderr",
     "output_type": "stream",
     "text": [
      "\r",
      "Sample:  89%|█████████████████████████████████████▏    | 681/768 [01:39, 21.73it/s, step size=4.03e-01, acc. prob=0.877]"
     ]
    },
    {
     "name": "stderr",
     "output_type": "stream",
     "text": [
      "\r",
      "Sample:  89%|█████████████████████████████████████▍    | 684/768 [01:39, 21.43it/s, step size=4.03e-01, acc. prob=0.877]"
     ]
    },
    {
     "name": "stderr",
     "output_type": "stream",
     "text": [
      "\r",
      "Sample:  89%|█████████████████████████████████████▌    | 687/768 [01:39, 21.14it/s, step size=4.03e-01, acc. prob=0.878]"
     ]
    },
    {
     "name": "stderr",
     "output_type": "stream",
     "text": [
      "\r",
      "Sample:  90%|█████████████████████████████████████▋    | 690/768 [01:39, 20.24it/s, step size=4.03e-01, acc. prob=0.878]"
     ]
    },
    {
     "name": "stderr",
     "output_type": "stream",
     "text": [
      "\r",
      "Sample:  90%|█████████████████████████████████████▉    | 693/768 [01:39, 20.43it/s, step size=4.03e-01, acc. prob=0.875]"
     ]
    },
    {
     "name": "stderr",
     "output_type": "stream",
     "text": [
      "\r",
      "Sample:  91%|██████████████████████████████████████    | 696/768 [01:39, 19.99it/s, step size=4.03e-01, acc. prob=0.877]"
     ]
    },
    {
     "name": "stderr",
     "output_type": "stream",
     "text": [
      "\r",
      "Sample:  91%|██████████████████████████████████████▏   | 699/768 [01:40, 20.19it/s, step size=4.03e-01, acc. prob=0.875]"
     ]
    },
    {
     "name": "stderr",
     "output_type": "stream",
     "text": [
      "\r",
      "Sample:  91%|██████████████████████████████████████▍   | 702/768 [01:40, 21.19it/s, step size=4.03e-01, acc. prob=0.875]"
     ]
    },
    {
     "name": "stderr",
     "output_type": "stream",
     "text": [
      "\r",
      "Sample:  92%|██████████████████████████████████████▌   | 705/768 [01:40, 20.72it/s, step size=4.03e-01, acc. prob=0.877]"
     ]
    },
    {
     "name": "stderr",
     "output_type": "stream",
     "text": [
      "\r",
      "Sample:  92%|██████████████████████████████████████▋   | 708/768 [01:40, 20.21it/s, step size=4.03e-01, acc. prob=0.878]"
     ]
    },
    {
     "name": "stderr",
     "output_type": "stream",
     "text": [
      "\r",
      "Sample:  93%|██████████████████████████████████████▉   | 711/768 [01:40, 20.41it/s, step size=4.03e-01, acc. prob=0.878]"
     ]
    },
    {
     "name": "stderr",
     "output_type": "stream",
     "text": [
      "\r",
      "Sample:  93%|███████████████████████████████████████   | 714/768 [01:40, 21.14it/s, step size=4.03e-01, acc. prob=0.878]"
     ]
    },
    {
     "name": "stderr",
     "output_type": "stream",
     "text": [
      "\r",
      "Sample:  93%|███████████████████████████████████████▏  | 717/768 [01:40, 20.70it/s, step size=4.03e-01, acc. prob=0.878]"
     ]
    },
    {
     "name": "stderr",
     "output_type": "stream",
     "text": [
      "\r",
      "Sample:  94%|███████████████████████████████████████▍  | 720/768 [01:41, 20.68it/s, step size=4.03e-01, acc. prob=0.878]"
     ]
    },
    {
     "name": "stderr",
     "output_type": "stream",
     "text": [
      "\r",
      "Sample:  94%|███████████████████████████████████████▌  | 723/768 [01:41, 20.33it/s, step size=4.03e-01, acc. prob=0.877]"
     ]
    },
    {
     "name": "stderr",
     "output_type": "stream",
     "text": [
      "\r",
      "Sample:  95%|███████████████████████████████████████▋  | 726/768 [01:41, 21.41it/s, step size=4.03e-01, acc. prob=0.875]"
     ]
    },
    {
     "name": "stderr",
     "output_type": "stream",
     "text": [
      "\r",
      "Sample:  95%|███████████████████████████████████████▊  | 729/768 [01:41, 22.34it/s, step size=4.03e-01, acc. prob=0.875]"
     ]
    },
    {
     "name": "stderr",
     "output_type": "stream",
     "text": [
      "\r",
      "Sample:  95%|████████████████████████████████████████  | 732/768 [01:41, 21.46it/s, step size=4.03e-01, acc. prob=0.876]"
     ]
    },
    {
     "name": "stderr",
     "output_type": "stream",
     "text": [
      "\r",
      "Sample:  96%|████████████████████████████████████████▏ | 735/768 [01:41, 21.14it/s, step size=4.03e-01, acc. prob=0.876]"
     ]
    },
    {
     "name": "stderr",
     "output_type": "stream",
     "text": [
      "\r",
      "Sample:  96%|████████████████████████████████████████▎ | 738/768 [01:41, 21.00it/s, step size=4.03e-01, acc. prob=0.875]"
     ]
    },
    {
     "name": "stderr",
     "output_type": "stream",
     "text": [
      "\r",
      "Sample:  96%|████████████████████████████████████████▌ | 741/768 [01:42, 22.11it/s, step size=4.03e-01, acc. prob=0.874]"
     ]
    },
    {
     "name": "stderr",
     "output_type": "stream",
     "text": [
      "\r",
      "Sample:  97%|████████████████████████████████████████▋ | 744/768 [01:42, 21.61it/s, step size=4.03e-01, acc. prob=0.875]"
     ]
    },
    {
     "name": "stderr",
     "output_type": "stream",
     "text": [
      "\r",
      "Sample:  97%|████████████████████████████████████████▊ | 747/768 [01:42, 21.40it/s, step size=4.03e-01, acc. prob=0.875]"
     ]
    },
    {
     "name": "stderr",
     "output_type": "stream",
     "text": [
      "\r",
      "Sample:  98%|█████████████████████████████████████████ | 750/768 [01:42, 20.93it/s, step size=4.03e-01, acc. prob=0.876]"
     ]
    },
    {
     "name": "stderr",
     "output_type": "stream",
     "text": [
      "\r",
      "Sample:  98%|█████████████████████████████████████████▏| 753/768 [01:42, 21.84it/s, step size=4.03e-01, acc. prob=0.877]"
     ]
    },
    {
     "name": "stderr",
     "output_type": "stream",
     "text": [
      "\r",
      "Sample:  98%|█████████████████████████████████████████▎| 756/768 [01:42, 21.55it/s, step size=4.03e-01, acc. prob=0.876]"
     ]
    },
    {
     "name": "stderr",
     "output_type": "stream",
     "text": [
      "\r",
      "Sample:  99%|█████████████████████████████████████████▌| 759/768 [01:42, 21.27it/s, step size=4.03e-01, acc. prob=0.875]"
     ]
    },
    {
     "name": "stderr",
     "output_type": "stream",
     "text": [
      "\r",
      "Sample:  99%|█████████████████████████████████████████▋| 762/768 [01:43, 22.30it/s, step size=4.03e-01, acc. prob=0.875]"
     ]
    },
    {
     "name": "stderr",
     "output_type": "stream",
     "text": [
      "\r",
      "Sample: 100%|█████████████████████████████████████████▊| 765/768 [01:43, 21.39it/s, step size=4.03e-01, acc. prob=0.875]"
     ]
    },
    {
     "name": "stderr",
     "output_type": "stream",
     "text": [
      "\r",
      "Sample: 100%|██████████████████████████████████████████| 768/768 [01:43, 21.10it/s, step size=4.03e-01, acc. prob=0.875]"
     ]
    },
    {
     "name": "stderr",
     "output_type": "stream",
     "text": [
      "\r",
      "Sample: 100%|██████████████████████████████████████████| 768/768 [01:43,  7.43it/s, step size=4.03e-01, acc. prob=0.875]"
     ]
    },
    {
     "name": "stderr",
     "output_type": "stream",
     "text": [
      "\n"
     ]
    }
   ],
   "source": [
    "model = Models.FULLYBAYESIAN(\n",
    "    experiment=experiment,\n",
    "    data=data,\n",
    "    use_saas=True,\n",
    "    num_samples=256,\n",
    "    warmup_steps=512,\n",
    "    gp_kernel=\"rbf\",\n",
    "    torch_dtype=tkwargs[\"dtype\"],\n",
    "    torch_device=tkwargs[\"device\"],\n",
    "    disable_progbar=False,\n",
    "    verbose=False,\n",
    ")"
   ]
  },
  {
   "cell_type": "markdown",
   "metadata": {},
   "source": [
    "### Cross-validation plot \n",
    "We have tools for cross-validation in Ax, but plotly doesn't render on Github so we make a simple plot using Matplotlib here. To use the built-in cross-validation functionality, you can do something like this:\n",
    "\n",
    "```\n",
    "from ax.modelbridge.cross_validation import cross_validate, compute_diagnostics\n",
    "from ax.plot.diagnostic import interact_cross_validation\n",
    "from ax.utils.notebook.plotting import render, init_notebook_plotting\n",
    "\n",
    "\n",
    "cv = cross_validate(model)\n",
    "diagnostics = compute_diagnostics(cv)\n",
    "init_notebook_plotting()\n",
    "plotconfig = interact_cross_validation(cv)\n",
    "render(plotconfig)\n",
    "```"
   ]
  },
  {
   "cell_type": "code",
   "execution_count": 11,
   "metadata": {
    "execution": {
     "iopub.execute_input": "2023-08-11T17:17:10.434157Z",
     "iopub.status.busy": "2023-08-11T17:17:10.433862Z",
     "iopub.status.idle": "2023-08-11T17:17:11.270683Z",
     "shell.execute_reply": "2023-08-11T17:17:11.269957Z"
    }
   },
   "outputs": [
    {
     "data": {
      "image/png": "[encoded data removed]",
      "text/plain": [
       "<Figure size 600x600 with 1 Axes>"
      ]
     },
     "metadata": {},
     "output_type": "display_data"
    }
   ],
   "source": [
    "from ax.modelbridge.cross_validation import cross_validate\n",
    "\n",
    "\n",
    "# Cross-validate model\n",
    "cv = cross_validate(model)\n",
    "y_true = np.stack([cv_.observed.data.means for cv_ in cv]).ravel()\n",
    "y_saas_mean = np.stack([cv_.predicted.means for cv_ in cv]).ravel()\n",
    "y_saas_std = np.stack(\n",
    "    [np.sqrt(np.diag(cv_.predicted.covariance)) for cv_ in cv]\n",
    ").ravel()\n",
    "\n",
    "# Cross-validation plot\n",
    "fig, ax = plt.subplots(1, 1, figsize=(6, 6))\n",
    "min_val, max_val = -5, 120\n",
    "ax.plot([min_val, max_val], [min_val, max_val], \"b--\", lw=2)\n",
    "markers, caps, bars = ax.errorbar(\n",
    "    y_true,\n",
    "    y_saas_mean,\n",
    "    yerr=1.96 * y_saas_std,\n",
    "    fmt=\".\",\n",
    "    capsize=4,\n",
    "    elinewidth=2.0,\n",
    "    ms=14,\n",
    "    c=\"k\",\n",
    "    ecolor=\"gray\",\n",
    ")\n",
    "[bar.set_alpha(0.8) for bar in bars]\n",
    "[cap.set_alpha(0.8) for cap in caps]\n",
    "ax.set_xlim([min_val, max_val])\n",
    "ax.set_ylim([min_val, max_val])\n",
    "ax.set_xlabel(\"True value\", fontsize=20)\n",
    "ax.set_ylabel(\"Predicted value\", fontsize=20)\n",
    "ax.grid(True)"
   ]
  },
  {
   "cell_type": "markdown",
   "metadata": {},
   "source": [
    "### Lengthscales\n",
    "As SAASBO places strong priors on the inverse lengthscales, we only expect parameters 19 and 44 to be identified as important by the model since the other parameters have no effect. We can confirm that this is the case below as the lengthscales of parameters 19 and 44 are close to 1 with all other lengthscales being larger than 1000.  "
   ]
  },
  {
   "cell_type": "code",
   "execution_count": 12,
   "metadata": {
    "execution": {
     "iopub.execute_input": "2023-08-11T17:17:11.274069Z",
     "iopub.status.busy": "2023-08-11T17:17:11.273809Z",
     "iopub.status.idle": "2023-08-11T17:17:11.281582Z",
     "shell.execute_reply": "2023-08-11T17:17:11.280816Z"
    }
   },
   "outputs": [
    {
     "name": "stdout",
     "output_type": "stream",
     "text": [
      "Parameter 19) Median lengthscale = 2.70e-01\n",
      "Parameter 44) Median lengthscale = 1.18e+00\n",
      "Parameter 29) Median lengthscale = 5.10e+03\n",
      "Parameter  6) Median lengthscale = 5.15e+03\n",
      "Parameter 23) Median lengthscale = 5.48e+03\n",
      "Parameter 49) Median lengthscale = 6.17e+03\n",
      "Parameter 39) Median lengthscale = 6.22e+03\n",
      "Parameter 24) Median lengthscale = 6.34e+03\n",
      "Parameter  3) Median lengthscale = 6.34e+03\n",
      "Parameter 45) Median lengthscale = 6.43e+03\n"
     ]
    }
   ],
   "source": [
    "median_lengthscales = (\n",
    "    model.model.model.models[0]\n",
    "    .covar_module.base_kernel.lengthscale.squeeze()\n",
    "    .median(axis=0)\n",
    "    .values\n",
    ")\n",
    "for i in median_lengthscales.argsort()[:10]:\n",
    "    print(f\"Parameter {i:2}) Median lengthscale = {median_lengthscales[i]:.2e}\")"
   ]
  },
  {
   "cell_type": "code",
   "execution_count": null,
   "metadata": {},
   "outputs": [],
   "source": []
  }
 ],
 "metadata": {
  "kernelspec": {
   "display_name": "Python 3 (ipykernel)",
   "language": "python",
   "name": "python3"
  },
  "language_info": {
   "codemirror_mode": {
    "name": "ipython",
    "version": 3
   },
   "file_extension": ".py",
   "mimetype": "text/x-python",
   "name": "python",
   "nbconvert_exporter": "python",
   "pygments_lexer": "ipython3",
   "version": "3.9.17"
  }
 },
 "nbformat": 4,
 "nbformat_minor": 2
}
