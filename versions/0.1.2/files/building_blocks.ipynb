{
  "cells": [
    {
      "cell_type": "markdown",
      "metadata": {},
      "source": [
        "# Building Blocks of Ax"
      ]
    },
    {
      "cell_type": "markdown",
      "metadata": {},
      "source": [
        "This tutorial illustrates the core Ax classes and their usage by constructing, running, and saving an experiment through the Developer API."
      ]
    },
    {
      "cell_type": "code",
      "execution_count": 1,
      "metadata": {
        "collapsed": true
      },
      "outputs": [],
      "source": [
        "import pandas as pd\n",
        "\n",
        "from ax import *"
      ]
    },
    {
      "cell_type": "markdown",
      "metadata": {},
      "source": [
        "## 1. Define the search space"
      ]
    },
    {
      "cell_type": "markdown",
      "metadata": {},
      "source": [
        "The core `Experiment` class only has one required parameter, `search_space`. A SearchSpace is composed of a set of parameters to be tuned in the experiment, and optionally a set of parameter constraints that define restrictions across these parameters.\n",
        "\n",
        "Here we range over two parameters, each of which can take on values between 0 and 10."
      ]
    },
    {
      "cell_type": "code",
      "execution_count": 2,
      "metadata": {
        "collapsed": true
      },
      "outputs": [],
      "source": [
        "range_param1 = RangeParameter(name=\"x1\", lower=0.0, upper=10.0, parameter_type=ParameterType.FLOAT)\n",
        "range_param2 = RangeParameter(name=\"x2\", lower=0.0, upper=10.0, parameter_type=ParameterType.FLOAT)\n",
        "\n",
        "search_space = SearchSpace(\n",
        "    parameters=[range_param1, range_param2],\n",
        ")"
      ]
    },
    {
      "cell_type": "markdown",
      "metadata": {},
      "source": [
        "Note that there are two other types of parameters, FixedParameter and ChoiceParameter. Although we won't use these in this example, you can create them as follows."
      ]
    },
    {
      "cell_type": "code",
      "execution_count": 3,
      "metadata": {
        "collapsed": true
      },
      "outputs": [],
      "source": [
        "choice_param = ChoiceParameter(name=\"choice\", values=[\"foo\", \"bar\"], parameter_type=ParameterType.STRING)\n",
        "fixed_param = FixedParameter(name=\"fixed\", value=[True], parameter_type=ParameterType.BOOL)"
      ]
    },
    {
      "cell_type": "markdown",
      "metadata": {},
      "source": [
        "Sum constraints enforce that the sum of a set of parameters is greater or less than some bound, and order constraints enforce that one parameter is smaller than the other. We won't use these either, but see two examples below."
      ]
    },
    {
      "cell_type": "code",
      "execution_count": 4,
      "metadata": {
        "collapsed": true
      },
      "outputs": [],
      "source": [
        "sum_constraint = SumConstraint(\n",
        "    parameters=[range_param1, range_param2], \n",
        "    is_upper_bound=True, \n",
        "    bound=5.0,\n",
        ")\n",
        "\n",
        "order_constraint = OrderConstraint(\n",
        "    lower_parameter = range_param1,\n",
        "    upper_parameter = range_param2,\n",
        ")"
      ]
    },
    {
      "cell_type": "markdown",
      "metadata": {},
      "source": [
        "## 2. Define the experiment"
      ]
    },
    {
      "cell_type": "markdown",
      "metadata": {},
      "source": [
        "Once we have a search space, we can create an experiment."
      ]
    },
    {
      "cell_type": "code",
      "execution_count": 5,
      "metadata": {
        "collapsed": true
      },
      "outputs": [],
      "source": [
        "experiment = Experiment(\n",
        "    name=\"experiment_building_blocks\",\n",
        "    search_space=search_space,\n",
        ")"
      ]
    },
    {
      "cell_type": "markdown",
      "metadata": {},
      "source": [
        "We can also define control values for each parameter by adding a status quo arm to the experiment."
      ]
    },
    {
      "cell_type": "code",
      "execution_count": 6,
      "metadata": {
        "collapsed": true
      },
      "outputs": [],
      "source": [
        "experiment.status_quo = Arm(\n",
        "    name=\"control\", \n",
        "    parameters={\"x1\": 0.0, \"x2\": 0.0},\n",
        ")"
      ]
    },
    {
      "cell_type": "markdown",
      "metadata": {},
      "source": [
        "## 3. Generate arms"
      ]
    },
    {
      "cell_type": "markdown",
      "metadata": {},
      "source": [
        "We can now generate arms, i.e. assignments of parameters to values, that lie within the search space. Below we use a Sobol generator to generate ten quasi-random arms."
      ]
    },
    {
      "cell_type": "code",
      "execution_count": 7,
      "metadata": {},
      "outputs": [
        {
          "name": "stdout",
          "output_type": "stream",
          "text": [
            "Arm(parameters={'x1': 1.3987717032432556, 'x2': 2.1646060049533844})\n",
            "Arm(parameters={'x1': 4.718068242073059, 'x2': 7.646653652191162})\n",
            "Arm(parameters={'x1': 8.719998598098755, 'x2': 3.289695680141449})\n",
            "Arm(parameters={'x1': 9.6366548538208, 'x2': 9.800090193748474})\n",
            "Arm(parameters={'x1': 3.1741243600845337, 'x2': 4.261414110660553})\n"
          ]
        }
      ],
      "source": [
        "sobol = Models.SOBOL(search_space=experiment.search_space)\n",
        "generator_run = sobol.gen(5)\n",
        "\n",
        "for arm in generator_run.arms:\n",
        "    print(arm)"
      ]
    },
    {
      "cell_type": "markdown",
      "metadata": {},
      "source": [
        "## 4. Define an optimization config with custom metrics"
      ]
    },
    {
      "cell_type": "markdown",
      "metadata": {},
      "source": [
        "In order to perform an optimization, we also need to define an optimization config for the experiment. An optimization config is composed of an objective metric to be minimized or maximized in the experiment, and optionally a set of outcome constraints that place restrictions on how other metrics can be moved by the experiment. \n",
        "\n",
        "In order to define an objective or outcome constraint, we first need to subclass `Metric`. Metrics are used to evaluate trials, which are individual steps of the experiment sequence. Each trial contains one or more arms for which we will collect data at the same time.\n",
        "\n",
        "Our custom metric(s) will determine how, given a trial, to compute the mean and sem of each of the trial's arms.\n",
        "\n",
        "The only method that needs to be defined for most metric subclasses is `fetch_trial_data`, which defines how a single trial is evaluated, and returns a pandas dataframe."
      ]
    },
    {
      "cell_type": "code",
      "execution_count": 8,
      "metadata": {
        "collapsed": true
      },
      "outputs": [],
      "source": [
        "class BoothMetric(Metric):\n",
        "    def fetch_trial_data(self, trial):  \n",
        "        records = []\n",
        "        for arm_name, arm in trial.arms_by_name.items():\n",
        "            params = arm.parameters\n",
        "            records.append({\n",
        "                \"arm_name\": arm_name,\n",
        "                \"metric_name\": self.name,\n",
        "                \"mean\": (params[\"x1\"] + 2*params[\"x2\"] - 7)**2 + (2*params[\"x1\"] + params[\"x2\"] - 5)**2,\n",
        "                \"sem\": 0.0,\n",
        "                \"trial_index\": trial.index,\n",
        "            })\n",
        "        return Data(df=pd.DataFrame.from_records(records))"
      ]
    },
    {
      "cell_type": "markdown",
      "metadata": {},
      "source": [
        "Once we have our metric subclasses, we can define on optimization config."
      ]
    },
    {
      "cell_type": "code",
      "execution_count": 9,
      "metadata": {
        "collapsed": true
      },
      "outputs": [],
      "source": [
        "optimization_config = OptimizationConfig(\n",
        "    objective = Objective(\n",
        "        metric=BoothMetric(name=\"booth\"), \n",
        "        minimize=True,\n",
        "    ),\n",
        ")\n",
        "\n",
        "experiment.optimization_config = optimization_config"
      ]
    },
    {
      "cell_type": "markdown",
      "metadata": {},
      "source": [
        "Outcome constraints can also be defined as follows and passed into the optimization config."
      ]
    },
    {
      "cell_type": "code",
      "execution_count": 10,
      "metadata": {
        "collapsed": true
      },
      "outputs": [],
      "source": [
        "outcome_constraint = OutcomeConstraint(\n",
        "    metric=Metric(\"constraint\"), \n",
        "    op=ComparisonOp.LEQ, \n",
        "    bound=0.5,\n",
        ")"
      ]
    },
    {
      "cell_type": "markdown",
      "metadata": {},
      "source": [
        "## 5. Define a runner"
      ]
    },
    {
      "cell_type": "markdown",
      "metadata": {},
      "source": [
        "Before an experiment can collect data, it must have a `Runner` attached. A runner handles the deployment of trials. A trial must be \"run\" before it can be evaluated.\n",
        "\n",
        "Here, we have a dummy runner that does nothing. In practice, a runner might be in charge of pushing an experiment to production.\n",
        "\n",
        "The only method that needs to be defined for runner subclasses is `run`, which performs any necessary deployment logic, and returns a dictionary of resulting metadata."
      ]
    },
    {
      "cell_type": "code",
      "execution_count": 11,
      "metadata": {
        "collapsed": true
      },
      "outputs": [],
      "source": [
        "class MyRunner(Runner):\n",
        "    def run(self, trial):\n",
        "        return {\"name\": str(trial.index)}\n",
        "    \n",
        "experiment.runner = MyRunner()"
      ]
    },
    {
      "cell_type": "markdown",
      "metadata": {},
      "source": [
        "## 6. Create a trial"
      ]
    },
    {
      "cell_type": "markdown",
      "metadata": {},
      "source": [
        "Now we can collect data for arms within our search space and begin the optimization. We do this by:\n",
        "1. Generating arms for an initial exploratory batch (already done above, using Sobol)\n",
        "2. Adding these arms to a trial\n",
        "3. Running the trial\n",
        "4. Evaluating the trial\n",
        "5. Generating new arms based on the results, and repeating"
      ]
    },
    {
      "cell_type": "code",
      "execution_count": 12,
      "metadata": {},
      "outputs": [
        {
          "data": {
            "text/plain": [
              "BatchTrial(experiment_name='experiment_building_blocks', index=0, status=TrialStatus.CANDIDATE)"
            ]
          },
          "execution_count": 12,
          "metadata": {
            "bento_obj_id": "139645612355536"
          },
          "output_type": "execute_result"
        }
      ],
      "source": [
        "experiment.new_batch_trial(generator_run=generator_run)"
      ]
    },
    {
      "cell_type": "markdown",
      "metadata": {},
      "source": [
        "Note that the arms attached to the trial are the same as those in the generator run above, except for the status quo, which is automatically added to each trial."
      ]
    },
    {
      "cell_type": "code",
      "execution_count": 13,
      "metadata": {},
      "outputs": [
        {
          "name": "stdout",
          "output_type": "stream",
          "text": [
            "Arm(name='0_0', parameters={'x1': 1.3987717032432556, 'x2': 2.1646060049533844})\n",
            "Arm(name='0_1', parameters={'x1': 4.718068242073059, 'x2': 7.646653652191162})\n",
            "Arm(name='0_2', parameters={'x1': 8.719998598098755, 'x2': 3.289695680141449})\n",
            "Arm(name='0_3', parameters={'x1': 9.6366548538208, 'x2': 9.800090193748474})\n",
            "Arm(name='0_4', parameters={'x1': 3.1741243600845337, 'x2': 4.261414110660553})\n",
            "Arm(name='control', parameters={'x1': 0.0, 'x2': 0.0})\n"
          ]
        }
      ],
      "source": [
        "for arm in experiment.trials[0].arms:\n",
        "    print(arm)"
      ]
    },
    {
      "cell_type": "markdown",
      "metadata": {},
      "source": [
        "If our trial should contain contain only one arm, we can use `experiment.new_trial` instead."
      ]
    },
    {
      "cell_type": "code",
      "execution_count": 14,
      "metadata": {},
      "outputs": [
        {
          "data": {
            "text/plain": [
              "Trial(experiment_name='experiment_building_blocks', index=1, status=TrialStatus.CANDIDATE)"
            ]
          },
          "execution_count": 14,
          "metadata": {
            "bento_obj_id": "139645612443240"
          },
          "output_type": "execute_result"
        }
      ],
      "source": [
        "experiment.new_trial().add_arm(Arm(name='single_arm', parameters={'x1': 1, 'x2': 1}))"
      ]
    },
    {
      "cell_type": "code",
      "execution_count": 15,
      "metadata": {},
      "outputs": [
        {
          "name": "stdout",
          "output_type": "stream",
          "text": [
            "Arm(name='single_arm', parameters={'x1': 1, 'x2': 1})\n"
          ]
        }
      ],
      "source": [
        "print(experiment.trials[1].arm)"
      ]
    },
    {
      "cell_type": "markdown",
      "metadata": {},
      "source": [
        "## 7. Fetch data"
      ]
    },
    {
      "cell_type": "code",
      "execution_count": 16,
      "metadata": {},
      "outputs": [
        {
          "data": {
            "text/plain": [
              "BatchTrial(experiment_name='experiment_building_blocks', index=0, status=TrialStatus.RUNNING)"
            ]
          },
          "execution_count": 16,
          "metadata": {
            "bento_obj_id": "139645612355536"
          },
          "output_type": "execute_result"
        }
      ],
      "source": [
        "experiment.trials[0].run()"
      ]
    },
    {
      "cell_type": "code",
      "execution_count": 17,
      "metadata": {
        "collapsed": true
      },
      "outputs": [],
      "source": [
        "data = experiment.fetch_data()"
      ]
    },
    {
      "cell_type": "markdown",
      "metadata": {},
      "source": [
        "We can inspect the data that was fetched for each (arm, metric) pair."
      ]
    },
    {
      "cell_type": "code",
      "execution_count": 18,
      "metadata": {},
      "outputs": [
        {
          "data": {
            "application/vnd.dataresource+json": {
              "data": [
                {
                  "arm_name": "0_0",
                  "index": 0,
                  "mean": 1.6194581011,
                  "metric_name": "booth",
                  "sem": 0,
                  "trial_index": 0
                },
                {
                  "arm_name": "0_1",
                  "index": 1,
                  "mean": 315.2897110897,
                  "metric_name": "booth",
                  "sem": 0,
                  "trial_index": 0
                },
                {
                  "arm_name": "0_2",
                  "index": 2,
                  "mean": 316.3031116652,
                  "metric_name": "booth",
                  "sem": 0,
                  "trial_index": 0
                },
                {
                  "arm_name": "0_3",
                  "index": 3,
                  "mean": 1074.0054243618,
                  "metric_name": "booth",
                  "sem": 0,
                  "trial_index": 0
                },
                {
                  "arm_name": "0_4",
                  "index": 4,
                  "mean": 53.5296806276,
                  "metric_name": "booth",
                  "sem": 0,
                  "trial_index": 0
                },
                {
                  "arm_name": "control",
                  "index": 5,
                  "mean": 74,
                  "metric_name": "booth",
                  "sem": 0,
                  "trial_index": 0
                }
              ],
              "schema": {
                "fields": [
                  {
                    "name": "index",
                    "type": "integer"
                  },
                  {
                    "name": "arm_name",
                    "type": "string"
                  },
                  {
                    "name": "mean",
                    "type": "number"
                  },
                  {
                    "name": "metric_name",
                    "type": "string"
                  },
                  {
                    "name": "sem",
                    "type": "number"
                  },
                  {
                    "name": "trial_index",
                    "type": "integer"
                  }
                ],
                "pandas_version": "0.20.0",
                "primaryKey": [
                  "index"
                ]
              }
            },
            "text/html": [
              "<div>\n",
              "<style scoped>\n",
              "    .dataframe tbody tr th:only-of-type {\n",
              "        vertical-align: middle;\n",
              "    }\n",
              "\n",
              "    .dataframe tbody tr th {\n",
              "        vertical-align: top;\n",
              "    }\n",
              "\n",
              "    .dataframe thead th {\n",
              "        text-align: right;\n",
              "    }\n",
              "</style>\n",
              "<table border=\"1\" class=\"dataframe\">\n",
              "  <thead>\n",
              "    <tr style=\"text-align: right;\">\n",
              "      <th></th>\n",
              "      <th>arm_name</th>\n",
              "      <th>mean</th>\n",
              "      <th>metric_name</th>\n",
              "      <th>sem</th>\n",
              "      <th>trial_index</th>\n",
              "    </tr>\n",
              "  </thead>\n",
              "  <tbody>\n",
              "    <tr>\n",
              "      <th>0</th>\n",
              "      <td>0_0</td>\n",
              "      <td>1.619458</td>\n",
              "      <td>booth</td>\n",
              "      <td>0.0</td>\n",
              "      <td>0</td>\n",
              "    </tr>\n",
              "    <tr>\n",
              "      <th>1</th>\n",
              "      <td>0_1</td>\n",
              "      <td>315.289711</td>\n",
              "      <td>booth</td>\n",
              "      <td>0.0</td>\n",
              "      <td>0</td>\n",
              "    </tr>\n",
              "    <tr>\n",
              "      <th>2</th>\n",
              "      <td>0_2</td>\n",
              "      <td>316.303112</td>\n",
              "      <td>booth</td>\n",
              "      <td>0.0</td>\n",
              "      <td>0</td>\n",
              "    </tr>\n",
              "    <tr>\n",
              "      <th>3</th>\n",
              "      <td>0_3</td>\n",
              "      <td>1074.005424</td>\n",
              "      <td>booth</td>\n",
              "      <td>0.0</td>\n",
              "      <td>0</td>\n",
              "    </tr>\n",
              "    <tr>\n",
              "      <th>4</th>\n",
              "      <td>0_4</td>\n",
              "      <td>53.529681</td>\n",
              "      <td>booth</td>\n",
              "      <td>0.0</td>\n",
              "      <td>0</td>\n",
              "    </tr>\n",
              "    <tr>\n",
              "      <th>5</th>\n",
              "      <td>control</td>\n",
              "      <td>74.000000</td>\n",
              "      <td>booth</td>\n",
              "      <td>0.0</td>\n",
              "      <td>0</td>\n",
              "    </tr>\n",
              "  </tbody>\n",
              "</table>\n",
              "</div>"
            ],
            "text/plain": [
              "  arm_name         mean metric_name  sem  trial_index\n",
              "0      0_0     1.619458       booth  0.0            0\n",
              "1      0_1   315.289711       booth  0.0            0\n",
              "2      0_2   316.303112       booth  0.0            0\n",
              "3      0_3  1074.005424       booth  0.0            0\n",
              "4      0_4    53.529681       booth  0.0            0\n",
              "5  control    74.000000       booth  0.0            0"
            ]
          },
          "execution_count": 18,
          "metadata": {
            "bento_obj_id": "139645612445256"
          },
          "output_type": "execute_result"
        }
      ],
      "source": [
        "data.df"
      ]
    },
    {
      "cell_type": "markdown",
      "metadata": {},
      "source": [
        "## 8. Iterate using GP+EI"
      ]
    },
    {
      "cell_type": "markdown",
      "metadata": {},
      "source": [
        "Now we can model the data collected for the initial set of arms using a Gaussian process, and use the Expected Improvement acquisition function to determine the new arms for which to fetch data next."
      ]
    },
    {
      "cell_type": "code",
      "execution_count": 19,
      "metadata": {},
      "outputs": [
        {
          "data": {
            "text/plain": [
              "BatchTrial(experiment_name='experiment_building_blocks', index=2, status=TrialStatus.CANDIDATE)"
            ]
          },
          "execution_count": 19,
          "metadata": {
            "bento_obj_id": "139645612353856"
          },
          "output_type": "execute_result"
        }
      ],
      "source": [
        "gpei = Models.GPEI(experiment=experiment, data=data)\n",
        "generator_run = gpei.gen(5)\n",
        "experiment.new_batch_trial(generator_run=generator_run)"
      ]
    },
    {
      "cell_type": "code",
      "execution_count": 20,
      "metadata": {},
      "outputs": [
        {
          "name": "stdout",
          "output_type": "stream",
          "text": [
            "Arm(name='2_0', parameters={'x1': 4.125029503629996, 'x2': 0.0})\n",
            "Arm(name='2_1', parameters={'x1': 0.0, 'x2': 5.264209099383153})\n",
            "Arm(name='2_2', parameters={'x1': 0.0, 'x2': 9.999999999999979})\n",
            "Arm(name='2_3', parameters={'x1': 9.737416772347238e-16, 'x2': 2.9307665874333417})\n",
            "Arm(name='2_4', parameters={'x1': 6.5130526766729755, 'x2': 1.5363997707452757e-16})\n",
            "Arm(name='control', parameters={'x1': 0.0, 'x2': 0.0})\n"
          ]
        }
      ],
      "source": [
        "for arm in experiment.trials[2].arms:\n",
        "    print(arm)"
      ]
    },
    {
      "cell_type": "code",
      "execution_count": 21,
      "metadata": {},
      "outputs": [
        {
          "data": {
            "application/vnd.dataresource+json": {
              "data": [
                {
                  "arm_name": "0_0",
                  "index": 0,
                  "mean": 1.6194581011,
                  "metric_name": "booth",
                  "sem": 0,
                  "trial_index": 0
                },
                {
                  "arm_name": "0_1",
                  "index": 1,
                  "mean": 315.2897110897,
                  "metric_name": "booth",
                  "sem": 0,
                  "trial_index": 0
                },
                {
                  "arm_name": "0_2",
                  "index": 2,
                  "mean": 316.3031116652,
                  "metric_name": "booth",
                  "sem": 0,
                  "trial_index": 0
                },
                {
                  "arm_name": "0_3",
                  "index": 3,
                  "mean": 1074.0054243618,
                  "metric_name": "booth",
                  "sem": 0,
                  "trial_index": 0
                },
                {
                  "arm_name": "0_4",
                  "index": 4,
                  "mean": 53.5296806276,
                  "metric_name": "booth",
                  "sem": 0,
                  "trial_index": 0
                },
                {
                  "arm_name": "control",
                  "index": 5,
                  "mean": 74,
                  "metric_name": "booth",
                  "sem": 0,
                  "trial_index": 0
                },
                {
                  "arm_name": "2_0",
                  "index": 6,
                  "mean": 18.8283389057,
                  "metric_name": "booth",
                  "sem": 0,
                  "trial_index": 2
                },
                {
                  "arm_name": "2_1",
                  "index": 7,
                  "mean": 12.5195414336,
                  "metric_name": "booth",
                  "sem": 0,
                  "trial_index": 2
                },
                {
                  "arm_name": "2_2",
                  "index": 8,
                  "mean": 194,
                  "metric_name": "booth",
                  "sem": 0,
                  "trial_index": 2
                },
                {
                  "arm_name": "2_3",
                  "index": 9,
                  "mean": 5.5778336276,
                  "metric_name": "booth",
                  "sem": 0,
                  "trial_index": 2
                },
                {
                  "arm_name": "2_4",
                  "index": 10,
                  "mean": 64.6554848387,
                  "metric_name": "booth",
                  "sem": 0,
                  "trial_index": 2
                },
                {
                  "arm_name": "control",
                  "index": 11,
                  "mean": 74,
                  "metric_name": "booth",
                  "sem": 0,
                  "trial_index": 2
                }
              ],
              "schema": {
                "fields": [
                  {
                    "name": "index",
                    "type": "integer"
                  },
                  {
                    "name": "arm_name",
                    "type": "string"
                  },
                  {
                    "name": "mean",
                    "type": "number"
                  },
                  {
                    "name": "metric_name",
                    "type": "string"
                  },
                  {
                    "name": "sem",
                    "type": "number"
                  },
                  {
                    "name": "trial_index",
                    "type": "integer"
                  }
                ],
                "pandas_version": "0.20.0",
                "primaryKey": [
                  "index"
                ]
              }
            },
            "text/html": [
              "<div>\n",
              "<style scoped>\n",
              "    .dataframe tbody tr th:only-of-type {\n",
              "        vertical-align: middle;\n",
              "    }\n",
              "\n",
              "    .dataframe tbody tr th {\n",
              "        vertical-align: top;\n",
              "    }\n",
              "\n",
              "    .dataframe thead th {\n",
              "        text-align: right;\n",
              "    }\n",
              "</style>\n",
              "<table border=\"1\" class=\"dataframe\">\n",
              "  <thead>\n",
              "    <tr style=\"text-align: right;\">\n",
              "      <th></th>\n",
              "      <th>arm_name</th>\n",
              "      <th>mean</th>\n",
              "      <th>metric_name</th>\n",
              "      <th>sem</th>\n",
              "      <th>trial_index</th>\n",
              "    </tr>\n",
              "  </thead>\n",
              "  <tbody>\n",
              "    <tr>\n",
              "      <th>0</th>\n",
              "      <td>0_0</td>\n",
              "      <td>1.619458</td>\n",
              "      <td>booth</td>\n",
              "      <td>0.0</td>\n",
              "      <td>0</td>\n",
              "    </tr>\n",
              "    <tr>\n",
              "      <th>1</th>\n",
              "      <td>0_1</td>\n",
              "      <td>315.289711</td>\n",
              "      <td>booth</td>\n",
              "      <td>0.0</td>\n",
              "      <td>0</td>\n",
              "    </tr>\n",
              "    <tr>\n",
              "      <th>2</th>\n",
              "      <td>0_2</td>\n",
              "      <td>316.303112</td>\n",
              "      <td>booth</td>\n",
              "      <td>0.0</td>\n",
              "      <td>0</td>\n",
              "    </tr>\n",
              "    <tr>\n",
              "      <th>3</th>\n",
              "      <td>0_3</td>\n",
              "      <td>1074.005424</td>\n",
              "      <td>booth</td>\n",
              "      <td>0.0</td>\n",
              "      <td>0</td>\n",
              "    </tr>\n",
              "    <tr>\n",
              "      <th>4</th>\n",
              "      <td>0_4</td>\n",
              "      <td>53.529681</td>\n",
              "      <td>booth</td>\n",
              "      <td>0.0</td>\n",
              "      <td>0</td>\n",
              "    </tr>\n",
              "    <tr>\n",
              "      <th>5</th>\n",
              "      <td>control</td>\n",
              "      <td>74.000000</td>\n",
              "      <td>booth</td>\n",
              "      <td>0.0</td>\n",
              "      <td>0</td>\n",
              "    </tr>\n",
              "    <tr>\n",
              "      <th>6</th>\n",
              "      <td>2_0</td>\n",
              "      <td>18.828339</td>\n",
              "      <td>booth</td>\n",
              "      <td>0.0</td>\n",
              "      <td>2</td>\n",
              "    </tr>\n",
              "    <tr>\n",
              "      <th>7</th>\n",
              "      <td>2_1</td>\n",
              "      <td>12.519541</td>\n",
              "      <td>booth</td>\n",
              "      <td>0.0</td>\n",
              "      <td>2</td>\n",
              "    </tr>\n",
              "    <tr>\n",
              "      <th>8</th>\n",
              "      <td>2_2</td>\n",
              "      <td>194.000000</td>\n",
              "      <td>booth</td>\n",
              "      <td>0.0</td>\n",
              "      <td>2</td>\n",
              "    </tr>\n",
              "    <tr>\n",
              "      <th>9</th>\n",
              "      <td>2_3</td>\n",
              "      <td>5.577834</td>\n",
              "      <td>booth</td>\n",
              "      <td>0.0</td>\n",
              "      <td>2</td>\n",
              "    </tr>\n",
              "    <tr>\n",
              "      <th>10</th>\n",
              "      <td>2_4</td>\n",
              "      <td>64.655485</td>\n",
              "      <td>booth</td>\n",
              "      <td>0.0</td>\n",
              "      <td>2</td>\n",
              "    </tr>\n",
              "    <tr>\n",
              "      <th>11</th>\n",
              "      <td>control</td>\n",
              "      <td>74.000000</td>\n",
              "      <td>booth</td>\n",
              "      <td>0.0</td>\n",
              "      <td>2</td>\n",
              "    </tr>\n",
              "  </tbody>\n",
              "</table>\n",
              "</div>"
            ],
            "text/plain": [
              "   arm_name         mean metric_name  sem  trial_index\n",
              "0       0_0     1.619458       booth  0.0            0\n",
              "1       0_1   315.289711       booth  0.0            0\n",
              "2       0_2   316.303112       booth  0.0            0\n",
              "3       0_3  1074.005424       booth  0.0            0\n",
              "4       0_4    53.529681       booth  0.0            0\n",
              "5   control    74.000000       booth  0.0            0\n",
              "6       2_0    18.828339       booth  0.0            2\n",
              "7       2_1    12.519541       booth  0.0            2\n",
              "8       2_2   194.000000       booth  0.0            2\n",
              "9       2_3     5.577834       booth  0.0            2\n",
              "10      2_4    64.655485       booth  0.0            2\n",
              "11  control    74.000000       booth  0.0            2"
            ]
          },
          "execution_count": 21,
          "metadata": {
            "bento_obj_id": "139645581139920"
          },
          "output_type": "execute_result"
        }
      ],
      "source": [
        "experiment.trials[2].run()\n",
        "data = experiment.fetch_data()\n",
        "data.df"
      ]
    },
    {
      "cell_type": "markdown",
      "metadata": {},
      "source": [
        "## 9. Save to JSON or SQL"
      ]
    },
    {
      "cell_type": "markdown",
      "metadata": {},
      "source": [
        "At any point, we can also save our experiment to a JSON file. To ensure that our custom metrics and runner are saved properly, we first need to register them."
      ]
    },
    {
      "cell_type": "code",
      "execution_count": 22,
      "metadata": {
        "collapsed": true
      },
      "outputs": [],
      "source": [
        "from ax.storage.metric_registry import register_metric\n",
        "from ax.storage.runner_registry import register_runner\n",
        "\n",
        "register_metric(BoothMetric)\n",
        "register_runner(MyRunner)\n",
        "\n",
        "save(experiment, \"experiment.json\")"
      ]
    },
    {
      "cell_type": "code",
      "execution_count": 23,
      "metadata": {
        "collapsed": true
      },
      "outputs": [],
      "source": [
        "loaded_experiment = load(\"experiment.json\")"
      ]
    },
    {
      "cell_type": "markdown",
      "metadata": {
        "collapsed": true
      },
      "source": [
        "To save our experiment to SQL, we must first specify a connection to a database and create all necessary tables."
      ]
    },
    {
      "cell_type": "code",
      "execution_count": 24,
      "metadata": {
        "collapsed": true
      },
      "outputs": [],
      "source": [
        "from ax.storage.sqa_store.db import init_engine_and_session_factory,get_engine, create_all_tables\n",
        "from ax.storage.sqa_store.load import load_experiment\n",
        "from ax.storage.sqa_store.save import save_experiment\n",
        "\n",
        "init_engine_and_session_factory(url='sqlite:///foo.db')\n",
        "\n",
        "engine = get_engine()\n",
        "create_all_tables(engine)"
      ]
    },
    {
      "cell_type": "code",
      "execution_count": 25,
      "metadata": {
        "collapsed": true
      },
      "outputs": [],
      "source": [
        "save_experiment(experiment)"
      ]
    },
    {
      "cell_type": "code",
      "execution_count": 26,
      "metadata": {},
      "outputs": [
        {
          "data": {
            "text/plain": [
              "Experiment(experiment_building_blocks)"
            ]
          },
          "execution_count": 26,
          "metadata": {
            "bento_obj_id": "139645373722016"
          },
          "output_type": "execute_result"
        }
      ],
      "source": [
        "load_experiment(experiment.name)"
      ]
    },
    {
      "cell_type": "markdown",
      "metadata": {
        "collapsed": true
      },
      "source": [
        "## 10. SimpleExperiment"
      ]
    },
    {
      "cell_type": "markdown",
      "metadata": {},
      "source": [
        "`SimpleExperiment` is a subclass of `Experiment` that assumes synchronous evaluation of trials and is therefore able to abstract away certain details and enable faster instantiation.\n",
        "\n",
        "Rather than defining custom metrics and an optimization config, we define an evaluation function that determines the mean and sem for a given parameterization."
      ]
    },
    {
      "cell_type": "code",
      "execution_count": 27,
      "metadata": {
        "collapsed": true
      },
      "outputs": [],
      "source": [
        "def evaluation_function(params):\n",
        "    return (params[\"x1\"] + 2*params[\"x2\"] - 7)**2 + (2*params[\"x1\"] + params[\"x2\"] - 5)**2"
      ]
    },
    {
      "cell_type": "code",
      "execution_count": 28,
      "metadata": {
        "collapsed": true
      },
      "outputs": [],
      "source": [
        "simple_experiment = SimpleExperiment(\n",
        "    search_space=search_space,\n",
        "    evaluation_function=evaluation_function,\n",
        ")"
      ]
    },
    {
      "cell_type": "markdown",
      "metadata": {},
      "source": [
        "We add trials and evaluate them as before."
      ]
    },
    {
      "cell_type": "code",
      "execution_count": 29,
      "metadata": {},
      "outputs": [
        {
          "data": {
            "text/plain": [
              "Trial(experiment_name='None', index=0, status=TrialStatus.CANDIDATE)"
            ]
          },
          "execution_count": 29,
          "metadata": {
            "bento_obj_id": "139644820593352"
          },
          "output_type": "execute_result"
        }
      ],
      "source": [
        "simple_experiment.new_trial().add_arm(Arm(name='single_arm', parameters={'x1': 1, 'x2': 1}))"
      ]
    },
    {
      "cell_type": "code",
      "execution_count": 30,
      "metadata": {
        "collapsed": true
      },
      "outputs": [],
      "source": [
        "data = simple_experiment.fetch_data()"
      ]
    },
    {
      "cell_type": "code",
      "execution_count": 31,
      "metadata": {},
      "outputs": [
        {
          "data": {
            "application/vnd.dataresource+json": {
              "data": [
                {
                  "arm_name": "single_arm",
                  "index": 0,
                  "mean": 20,
                  "metric_name": "objective",
                  "sem": 0,
                  "trial_index": 0
                }
              ],
              "schema": {
                "fields": [
                  {
                    "name": "index",
                    "type": "integer"
                  },
                  {
                    "name": "arm_name",
                    "type": "string"
                  },
                  {
                    "name": "mean",
                    "type": "number"
                  },
                  {
                    "name": "metric_name",
                    "type": "string"
                  },
                  {
                    "name": "sem",
                    "type": "number"
                  },
                  {
                    "name": "trial_index",
                    "type": "integer"
                  }
                ],
                "pandas_version": "0.20.0",
                "primaryKey": [
                  "index"
                ]
              }
            },
            "text/html": [
              "<div>\n",
              "<style scoped>\n",
              "    .dataframe tbody tr th:only-of-type {\n",
              "        vertical-align: middle;\n",
              "    }\n",
              "\n",
              "    .dataframe tbody tr th {\n",
              "        vertical-align: top;\n",
              "    }\n",
              "\n",
              "    .dataframe thead th {\n",
              "        text-align: right;\n",
              "    }\n",
              "</style>\n",
              "<table border=\"1\" class=\"dataframe\">\n",
              "  <thead>\n",
              "    <tr style=\"text-align: right;\">\n",
              "      <th></th>\n",
              "      <th>arm_name</th>\n",
              "      <th>mean</th>\n",
              "      <th>metric_name</th>\n",
              "      <th>sem</th>\n",
              "      <th>trial_index</th>\n",
              "    </tr>\n",
              "  </thead>\n",
              "  <tbody>\n",
              "    <tr>\n",
              "      <th>0</th>\n",
              "      <td>single_arm</td>\n",
              "      <td>20.0</td>\n",
              "      <td>objective</td>\n",
              "      <td>0.0</td>\n",
              "      <td>0</td>\n",
              "    </tr>\n",
              "  </tbody>\n",
              "</table>\n",
              "</div>"
            ],
            "text/plain": [
              "     arm_name  mean metric_name  sem  trial_index\n",
              "0  single_arm  20.0   objective  0.0            0"
            ]
          },
          "execution_count": 31,
          "metadata": {
            "bento_obj_id": "139645374027144"
          },
          "output_type": "execute_result"
        }
      ],
      "source": [
        "data.df"
      ]
    }
  ],
  "metadata": {
    "kernelspec": {
      "display_name": "python3",
      "language": "python",
      "name": "python3"
    }
  },
  "nbformat": 4,
  "nbformat_minor": 2
}
