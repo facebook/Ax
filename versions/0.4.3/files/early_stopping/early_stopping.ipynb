{
 "cells": [
  {
   "attachments": {},
   "cell_type": "markdown",
   "id": "12fe3797",
   "metadata": {
    "papermill": {
     "duration": 0.00447,
     "end_time": "2024-09-23T21:56:57.969567",
     "exception": false,
     "start_time": "2024-09-23T21:56:57.965097",
     "status": "completed"
    },
    "tags": []
   },
   "source": [
    "## Trial-level early stopping in Ax\n",
    "\n",
    "This tutorial illustrates how to add a trial-level early stopping strategy to an Ax hyper-parameter optimization (HPO) loop. The goal of trial-level early stopping is to monitor the results of expensive evaluations and terminate those that are unlikely to produce promising results, freeing up resources to explore more configurations.\n",
    "\n",
    "Most of this tutorial is adapted from the [PyTorch Ax Multiobjective NAS Tutorial](https://pytorch.org/tutorials/intermediate/ax_multiobjective_nas_tutorial.html). The training job is different from the original in that we do not optimize `batch_size` or `epochs`. This was done for illustrative purposes, as each validation curve now has the same number of points. The companion training file `mnist_train_nas.py` has also been altered to log to Tensorboard during training.\n",
    "\n",
    "NOTE: Although the original NAS tutorial is for a multi-objective problem, this tutorial focuses on a single objective (validation accuracy) problem. Early stopping currently does not support \\\"true\\\" multi-objective stopping, although one can use [logical compositions of early stopping strategies](https://github.com/facebook/Ax/blob/main/ax/early_stopping/strategies/logical.py) to target multiple objectives separately. Early stopping for the multi-objective case is currently a work in progress."
   ]
  },
  {
   "cell_type": "code",
   "execution_count": 1,
   "id": "cb953f30",
   "metadata": {
    "execution": {
     "iopub.execute_input": "2024-09-23T21:56:57.979065Z",
     "iopub.status.busy": "2024-09-23T21:56:57.978616Z",
     "iopub.status.idle": "2024-09-23T21:57:01.899975Z",
     "shell.execute_reply": "2024-09-23T21:57:01.899291Z"
    },
    "papermill": {
     "duration": 3.927957,
     "end_time": "2024-09-23T21:57:01.901638",
     "exception": false,
     "start_time": "2024-09-23T21:56:57.973681",
     "status": "completed"
    },
    "tags": []
   },
   "outputs": [],
   "source": [
    "import os\n",
    "import tempfile\n",
    "\n",
    "from pathlib import Path\n",
    "\n",
    "import torchx\n",
    "\n",
    "from ax.core import Experiment, Objective, ParameterType, RangeParameter, SearchSpace\n",
    "from ax.core.optimization_config import OptimizationConfig\n",
    "\n",
    "from ax.early_stopping.strategies import PercentileEarlyStoppingStrategy\n",
    "from ax.metrics.tensorboard import TensorboardMetric\n",
    "\n",
    "from ax.modelbridge.dispatch_utils import choose_generation_strategy\n",
    "\n",
    "from ax.runners.torchx import TorchXRunner\n",
    "\n",
    "from ax.service.scheduler import Scheduler, SchedulerOptions\n",
    "from ax.service.utils.report_utils import exp_to_df\n",
    "\n",
    "from tensorboard.backend.event_processing import plugin_event_multiplexer as event_multiplexer\n",
    "\n",
    "from torchx import specs\n",
    "from torchx.components import utils\n",
    "\n",
    "from matplotlib import pyplot as plt\n",
    "\n",
    "\n",
    "%matplotlib inline"
   ]
  },
  {
   "cell_type": "code",
   "execution_count": 2,
   "id": "8a7bd328",
   "metadata": {
    "execution": {
     "iopub.execute_input": "2024-09-23T21:57:01.911491Z",
     "iopub.status.busy": "2024-09-23T21:57:01.910941Z",
     "iopub.status.idle": "2024-09-23T21:57:01.914318Z",
     "shell.execute_reply": "2024-09-23T21:57:01.913670Z"
    },
    "papermill": {
     "duration": 0.009528,
     "end_time": "2024-09-23T21:57:01.915662",
     "exception": false,
     "start_time": "2024-09-23T21:57:01.906134",
     "status": "completed"
    },
    "tags": []
   },
   "outputs": [],
   "source": [
    "SMOKE_TEST = os.environ.get(\"SMOKE_TEST\")"
   ]
  },
  {
   "attachments": {},
   "cell_type": "markdown",
   "id": "fe2cf6fe",
   "metadata": {
    "papermill": {
     "duration": 0.003959,
     "end_time": "2024-09-23T21:57:01.923649",
     "exception": false,
     "start_time": "2024-09-23T21:57:01.919690",
     "status": "completed"
    },
    "tags": []
   },
   "source": [
    "## Defining the TorchX App\n",
    "\n",
    "Our goal is to optimize the PyTorch Lightning training job defined in\n",
    "[mnist_train_nas.py](https://github.com/pytorch/tutorials/tree/master/intermediate_source/mnist_train_nas.py)_.\n",
    "To do this using TorchX, we write a helper function that takes in\n",
    "the values of the architcture and hyperparameters of the training\n",
    "job and creates a [TorchX AppDef](https://pytorch.org/torchx/latest/basics.html)_\n",
    "with the appropriate settings.\n",
    "\n"
   ]
  },
  {
   "cell_type": "code",
   "execution_count": 3,
   "id": "2e21d309",
   "metadata": {
    "execution": {
     "iopub.execute_input": "2024-09-23T21:57:01.932732Z",
     "iopub.status.busy": "2024-09-23T21:57:01.932113Z",
     "iopub.status.idle": "2024-09-23T21:57:01.935511Z",
     "shell.execute_reply": "2024-09-23T21:57:01.934893Z"
    },
    "papermill": {
     "duration": 0.009188,
     "end_time": "2024-09-23T21:57:01.936772",
     "exception": false,
     "start_time": "2024-09-23T21:57:01.927584",
     "status": "completed"
    },
    "tags": []
   },
   "outputs": [],
   "source": [
    "if SMOKE_TEST:\n",
    "    epochs = 3\n",
    "else:\n",
    "    epochs = 10"
   ]
  },
  {
   "cell_type": "code",
   "execution_count": 4,
   "id": "b423923c",
   "metadata": {
    "execution": {
     "iopub.execute_input": "2024-09-23T21:57:01.945833Z",
     "iopub.status.busy": "2024-09-23T21:57:01.945586Z",
     "iopub.status.idle": "2024-09-23T21:57:01.950468Z",
     "shell.execute_reply": "2024-09-23T21:57:01.949823Z"
    },
    "papermill": {
     "duration": 0.01084,
     "end_time": "2024-09-23T21:57:01.951736",
     "exception": false,
     "start_time": "2024-09-23T21:57:01.940896",
     "status": "completed"
    },
    "tags": []
   },
   "outputs": [],
   "source": [
    "def trainer(\n",
    "    log_path: str,\n",
    "    hidden_size_1: int,\n",
    "    hidden_size_2: int,\n",
    "    learning_rate: float,\n",
    "    dropout: float,\n",
    "    trial_idx: int = -1,\n",
    ") -> specs.AppDef:\n",
    "\n",
    "    # define the log path so we can pass it to the TorchX AppDef\n",
    "    if trial_idx >= 0:\n",
    "        log_path = Path(log_path).joinpath(str(trial_idx)).absolute().as_posix()\n",
    "\n",
    "    batch_size = 32\n",
    "\n",
    "    return utils.python(\n",
    "        # command line args to the training script\n",
    "        \"--log_path\",\n",
    "        log_path,\n",
    "        \"--hidden_size_1\",\n",
    "        str(hidden_size_1),\n",
    "        \"--hidden_size_2\",\n",
    "        str(hidden_size_2),\n",
    "        \"--learning_rate\",\n",
    "        str(learning_rate),\n",
    "        \"--epochs\",\n",
    "        str(epochs),\n",
    "        \"--dropout\",\n",
    "        str(dropout),\n",
    "        \"--batch_size\",\n",
    "        str(batch_size),\n",
    "        # other config options\n",
    "        name=\"trainer\",\n",
    "        script=\"tutorials/early_stopping/mnist_train_nas.py\",\n",
    "        image=torchx.version.TORCHX_IMAGE,\n",
    "    )"
   ]
  },
  {
   "attachments": {},
   "cell_type": "markdown",
   "id": "65f7011d",
   "metadata": {
    "papermill": {
     "duration": 0.004018,
     "end_time": "2024-09-23T21:57:01.959834",
     "exception": false,
     "start_time": "2024-09-23T21:57:01.955816",
     "status": "completed"
    },
    "tags": []
   },
   "source": [
    "## Setting up the Runner\n",
    "\n",
    "Ax’s [Runner](https://ax.dev/api/core.html#ax.core.runner.Runner)\n",
    "abstraction allows writing interfaces to various backends.\n",
    "Ax already comes with Runner for TorchX, so we just need to\n",
    "configure it. For the purpose of this tutorial, we run jobs locally\n",
    "in a fully asynchronous fashion. In order to launch them on a cluster, you can instead specify a\n",
    "different TorchX scheduler and adjust the configuration appropriately.\n",
    "For example, if you have a Kubernetes cluster, you just need to change the\n",
    "scheduler from ``local_cwd`` to ``kubernetes``.\n",
    "\n",
    "The training job launched by this runner will log partial results to Tensorboard, which will then be monitored by the early stopping strategy. We will show how this is done using an Ax \n",
    "[TensorboardMetric](https://ax.dev/api/metrics.html#module-ax.metrics.tensorboard) below."
   ]
  },
  {
   "cell_type": "code",
   "execution_count": 5,
   "id": "998e5835",
   "metadata": {
    "execution": {
     "iopub.execute_input": "2024-09-23T21:57:01.968908Z",
     "iopub.status.busy": "2024-09-23T21:57:01.968467Z",
     "iopub.status.idle": "2024-09-23T21:57:01.982453Z",
     "shell.execute_reply": "2024-09-23T21:57:01.981790Z"
    },
    "papermill": {
     "duration": 0.01987,
     "end_time": "2024-09-23T21:57:01.983708",
     "exception": false,
     "start_time": "2024-09-23T21:57:01.963838",
     "status": "completed"
    },
    "tags": []
   },
   "outputs": [],
   "source": [
    "# Make a temporary dir to log our results into\n",
    "log_dir = tempfile.mkdtemp()\n",
    "\n",
    "ax_runner = TorchXRunner(\n",
    "    tracker_base=\"/tmp/\",\n",
    "    component=trainer,\n",
    "    # NOTE: To launch this job on a cluster instead of locally you can\n",
    "    # specify a different scheduler and adjust args appropriately.\n",
    "    scheduler=\"local_cwd\",\n",
    "    component_const_params={\"log_path\": log_dir},\n",
    "    cfg={},\n",
    ")"
   ]
  },
  {
   "attachments": {},
   "cell_type": "markdown",
   "id": "2fec7495",
   "metadata": {
    "papermill": {
     "duration": 0.00396,
     "end_time": "2024-09-23T21:57:01.991798",
     "exception": false,
     "start_time": "2024-09-23T21:57:01.987838",
     "status": "completed"
    },
    "tags": []
   },
   "source": [
    "## Setting up the SearchSpace\n",
    "\n",
    "First, we define our search space. Ax supports both range parameters\n",
    "of type integer and float as well as choice parameters which can have\n",
    "non-numerical types such as strings.\n",
    "We will tune the hidden sizes, learning rate, and dropout parameters."
   ]
  },
  {
   "cell_type": "code",
   "execution_count": 6,
   "id": "cf6f869f",
   "metadata": {
    "execution": {
     "iopub.execute_input": "2024-09-23T21:57:02.001170Z",
     "iopub.status.busy": "2024-09-23T21:57:02.000592Z",
     "iopub.status.idle": "2024-09-23T21:57:02.005430Z",
     "shell.execute_reply": "2024-09-23T21:57:02.004862Z"
    },
    "papermill": {
     "duration": 0.010894,
     "end_time": "2024-09-23T21:57:02.006736",
     "exception": false,
     "start_time": "2024-09-23T21:57:01.995842",
     "status": "completed"
    },
    "tags": []
   },
   "outputs": [],
   "source": [
    "parameters = [\n",
    "    # NOTE: In a real-world setting, hidden_size_1 and hidden_size_2\n",
    "    # should probably be powers of 2, but in our simple example this\n",
    "    # would mean that num_params can't take on that many values, which\n",
    "    # in turn makes the Pareto frontier look pretty weird.\n",
    "    RangeParameter(\n",
    "        name=\"hidden_size_1\",\n",
    "        lower=16,\n",
    "        upper=128,\n",
    "        parameter_type=ParameterType.INT,\n",
    "        log_scale=True,\n",
    "    ),\n",
    "    RangeParameter(\n",
    "        name=\"hidden_size_2\",\n",
    "        lower=16,\n",
    "        upper=128,\n",
    "        parameter_type=ParameterType.INT,\n",
    "        log_scale=True,\n",
    "    ),\n",
    "    RangeParameter(\n",
    "        name=\"learning_rate\",\n",
    "        lower=1e-4,\n",
    "        upper=1e-2,\n",
    "        parameter_type=ParameterType.FLOAT,\n",
    "        log_scale=True,\n",
    "    ),\n",
    "    RangeParameter(\n",
    "        name=\"dropout\",\n",
    "        lower=0.0,\n",
    "        upper=0.5,\n",
    "        parameter_type=ParameterType.FLOAT,\n",
    "    ),\n",
    "]\n",
    "\n",
    "search_space = SearchSpace(\n",
    "    parameters=parameters,\n",
    "    # NOTE: In practice, it may make sense to add a constraint\n",
    "    # hidden_size_2 <= hidden_size_1\n",
    "    parameter_constraints=[],\n",
    ")"
   ]
  },
  {
   "attachments": {},
   "cell_type": "markdown",
   "id": "a8005e80",
   "metadata": {
    "papermill": {
     "duration": 0.004069,
     "end_time": "2024-09-23T21:57:02.015073",
     "exception": false,
     "start_time": "2024-09-23T21:57:02.011004",
     "status": "completed"
    },
    "tags": []
   },
   "source": [
    "## Setting up Metrics\n",
    "\n",
    "Ax has the concept of a Metric that defines properties of outcomes and how observations are obtained for these outcomes. This allows e.g. encodig how data is fetched from some distributed execution backend and post-processed before being passed as input to Ax.\n",
    "\n",
    "We will optimize the validation accuracy, which is a `TensorboardMetric` that points to the logging directory assigned above. Note that we have set `is_available_while_running`, allowing for the metric to be queried as the trial progresses. This is critical for the early stopping strategy to monitor partial results."
   ]
  },
  {
   "cell_type": "code",
   "execution_count": 7,
   "id": "0775a96e",
   "metadata": {
    "execution": {
     "iopub.execute_input": "2024-09-23T21:57:02.024831Z",
     "iopub.status.busy": "2024-09-23T21:57:02.024399Z",
     "iopub.status.idle": "2024-09-23T21:57:02.028637Z",
     "shell.execute_reply": "2024-09-23T21:57:02.028112Z"
    },
    "papermill": {
     "duration": 0.010328,
     "end_time": "2024-09-23T21:57:02.029946",
     "exception": false,
     "start_time": "2024-09-23T21:57:02.019618",
     "status": "completed"
    },
    "tags": []
   },
   "outputs": [],
   "source": [
    "class MyTensorboardMetric(TensorboardMetric):\n",
    "\n",
    "    # NOTE: We need to tell the new Tensorboard metric how to get the id /\n",
    "    # file handle for the tensorboard logs from a trial. In this case\n",
    "    # our convention is to just save a separate file per trial in\n",
    "    # the pre-specified log dir.\n",
    "    def _get_event_multiplexer_for_trial(self, trial):\n",
    "        mul = event_multiplexer.EventMultiplexer(max_reload_threads=20)\n",
    "        mul.AddRunsFromDirectory(Path(log_dir).joinpath(str(trial.index)).as_posix(), None)\n",
    "        mul.Reload()\n",
    "\n",
    "        return mul\n",
    "\n",
    "    # This indicates whether the metric is queryable while the trial is\n",
    "    # still running. This is required for early stopping to monitor the\n",
    "    # progress of the running trial.ArithmeticError\n",
    "    @classmethod\n",
    "    def is_available_while_running(cls):\n",
    "        return True"
   ]
  },
  {
   "cell_type": "code",
   "execution_count": 8,
   "id": "a5c5a7d0",
   "metadata": {
    "execution": {
     "iopub.execute_input": "2024-09-23T21:57:02.039362Z",
     "iopub.status.busy": "2024-09-23T21:57:02.038980Z",
     "iopub.status.idle": "2024-09-23T21:57:02.042087Z",
     "shell.execute_reply": "2024-09-23T21:57:02.041522Z"
    },
    "papermill": {
     "duration": 0.009226,
     "end_time": "2024-09-23T21:57:02.043338",
     "exception": false,
     "start_time": "2024-09-23T21:57:02.034112",
     "status": "completed"
    },
    "tags": []
   },
   "outputs": [],
   "source": [
    "val_acc = MyTensorboardMetric(\n",
    "    name=\"val_acc\",\n",
    "    tag=\"val_acc\",\n",
    "    lower_is_better=False,\n",
    ")"
   ]
  },
  {
   "attachments": {},
   "cell_type": "markdown",
   "id": "d4f3ba5d",
   "metadata": {
    "papermill": {
     "duration": 0.004074,
     "end_time": "2024-09-23T21:57:02.051560",
     "exception": false,
     "start_time": "2024-09-23T21:57:02.047486",
     "status": "completed"
    },
    "tags": []
   },
   "source": [
    "## Setting up the OptimizationConfig\n",
    "\n",
    "The `OptimizationConfig` specifies the objective for Ax to optimize."
   ]
  },
  {
   "cell_type": "code",
   "execution_count": 9,
   "id": "ada66cf3",
   "metadata": {
    "execution": {
     "iopub.execute_input": "2024-09-23T21:57:02.060715Z",
     "iopub.status.busy": "2024-09-23T21:57:02.060518Z",
     "iopub.status.idle": "2024-09-23T21:57:02.063504Z",
     "shell.execute_reply": "2024-09-23T21:57:02.062937Z"
    },
    "papermill": {
     "duration": 0.008989,
     "end_time": "2024-09-23T21:57:02.064762",
     "exception": false,
     "start_time": "2024-09-23T21:57:02.055773",
     "status": "completed"
    },
    "tags": []
   },
   "outputs": [],
   "source": [
    "opt_config = OptimizationConfig(\n",
    "    objective=Objective(\n",
    "        metric=val_acc,\n",
    "        minimize=False,\n",
    "    )\n",
    ")"
   ]
  },
  {
   "attachments": {},
   "cell_type": "markdown",
   "id": "57aa9cf7",
   "metadata": {
    "papermill": {
     "duration": 0.004138,
     "end_time": "2024-09-23T21:57:02.073113",
     "exception": false,
     "start_time": "2024-09-23T21:57:02.068975",
     "status": "completed"
    },
    "tags": []
   },
   "source": [
    "## Defining an Early Stopping Strategy\n",
    "\n",
    "A `PercentileEarlyStoppingStrategy` is a simple method that stops a trial if its performance falls below a certain percentile of other trials at the same step (e.g., when `percentile_threshold` is 50, at a given point in time, if a trial ranks in the bottom 50% of trials, it is stopped). \n",
    "- We make use of `normalize_progressions` which normalizes the progression column (e.g. timestamp, epochs, training data used) to be in [0, 1]. This is useful because one doesn't need to know the maximum progression values of the curve (which might be, e.g., the total number of data points in the training dataset).\n",
    "- The `min_progression` parameter specifies that trials should only be considered for stopping if the latest progression value is greater than this threshold.\n",
    "- The `min_curves` parameter specifies the minimum number of completed curves (i.e., fully completed training jobs) before early stopping will be considered. This should be larger than zero if `normalize_progression` is used. In general, we want a few completed curves to have a baseline for comparison.\n",
    "\n",
    "Note that `PercentileEarlyStoppingStrategy` does not make use of learning curve modeling or prediction. More sophisticated model-based methods will be available in future versions of Ax."
   ]
  },
  {
   "cell_type": "code",
   "execution_count": 10,
   "id": "949e8ab5",
   "metadata": {
    "execution": {
     "iopub.execute_input": "2024-09-23T21:57:02.082493Z",
     "iopub.status.busy": "2024-09-23T21:57:02.082090Z",
     "iopub.status.idle": "2024-09-23T21:57:02.085501Z",
     "shell.execute_reply": "2024-09-23T21:57:02.084935Z"
    },
    "papermill": {
     "duration": 0.009543,
     "end_time": "2024-09-23T21:57:02.086804",
     "exception": false,
     "start_time": "2024-09-23T21:57:02.077261",
     "status": "completed"
    },
    "tags": []
   },
   "outputs": [],
   "source": [
    "percentile_early_stopping_strategy = PercentileEarlyStoppingStrategy(\n",
    "    # stop if in bottom 70% of runs at the same progression\n",
    "    percentile_threshold=70,\n",
    "    # the trial must have passed `min_progression` steps before early stopping is initiated\n",
    "    # note that we are using `normalize_progressions`, so this is on a scale of [0, 1]\n",
    "    min_progression=0.3,\n",
    "    # there must be `min_curves` completed trials and `min_curves` trials reporting data in\n",
    "    # order for early stopping to be applicable\n",
    "    min_curves=5,\n",
    "    # specify, e.g., [0, 1] if the first two trials should never be stopped\n",
    "    trial_indices_to_ignore=None,\n",
    "    # check for new data every 10 seconds\n",
    "    seconds_between_polls=10,\n",
    "    normalize_progressions=True,\n",
    ")"
   ]
  },
  {
   "attachments": {},
   "cell_type": "markdown",
   "id": "2665ca93",
   "metadata": {
    "papermill": {
     "duration": 0.004101,
     "end_time": "2024-09-23T21:57:02.095167",
     "exception": false,
     "start_time": "2024-09-23T21:57:02.091066",
     "status": "completed"
    },
    "tags": []
   },
   "source": [
    "## Creating the Ax Experiment\n",
    "\n",
    "In Ax, the Experiment object is the object that stores all the information about the problem setup."
   ]
  },
  {
   "cell_type": "code",
   "execution_count": 11,
   "id": "12849b31",
   "metadata": {
    "execution": {
     "iopub.execute_input": "2024-09-23T21:57:02.104438Z",
     "iopub.status.busy": "2024-09-23T21:57:02.104245Z",
     "iopub.status.idle": "2024-09-23T21:57:02.107357Z",
     "shell.execute_reply": "2024-09-23T21:57:02.106791Z"
    },
    "papermill": {
     "duration": 0.009272,
     "end_time": "2024-09-23T21:57:02.108586",
     "exception": false,
     "start_time": "2024-09-23T21:57:02.099314",
     "status": "completed"
    },
    "tags": []
   },
   "outputs": [],
   "source": [
    "experiment = Experiment(\n",
    "    name=\"torchx_mnist\",\n",
    "    search_space=search_space,\n",
    "    optimization_config=opt_config,\n",
    "    runner=ax_runner,\n",
    ")"
   ]
  },
  {
   "attachments": {},
   "cell_type": "markdown",
   "id": "49a4ed0e",
   "metadata": {
    "papermill": {
     "duration": 0.004177,
     "end_time": "2024-09-23T21:57:02.117166",
     "exception": false,
     "start_time": "2024-09-23T21:57:02.112989",
     "status": "completed"
    },
    "tags": []
   },
   "source": [
    "## Choosing the GenerationStrategy\n",
    "\n",
    "A [GenerationStrategy](https://ax.dev/api/modelbridge.html#ax.modelbridge.generation_strategy.GenerationStrategy)\n",
    "is the abstract representation of how we would like to perform the\n",
    "optimization. While this can be customized (if you’d like to do so, see\n",
    "[this tutorial](https://ax.dev/tutorials/generation_strategy.html)),\n",
    "in most cases Ax can automatically determine an appropriate strategy\n",
    "based on the search space, optimization config, and the total number\n",
    "of trials we want to run.\n",
    "\n",
    "Typically, Ax chooses to evaluate a number of random configurations\n",
    "before starting a model-based Bayesian Optimization strategy.\n",
    "\n",
    "We remark that in Ax, generation strategies and early stopping strategies are separate, a design decision motivated by ease-of-use. However, we should acknowledge that jointly considering generation and stopping using a single strategy would likely be the \"proper\" formulation."
   ]
  },
  {
   "cell_type": "code",
   "execution_count": 12,
   "id": "e38d0237",
   "metadata": {
    "execution": {
     "iopub.execute_input": "2024-09-23T21:57:02.126694Z",
     "iopub.status.busy": "2024-09-23T21:57:02.126329Z",
     "iopub.status.idle": "2024-09-23T21:57:02.134082Z",
     "shell.execute_reply": "2024-09-23T21:57:02.133518Z"
    },
    "papermill": {
     "duration": 0.013885,
     "end_time": "2024-09-23T21:57:02.135317",
     "exception": false,
     "start_time": "2024-09-23T21:57:02.121432",
     "status": "completed"
    },
    "tags": []
   },
   "outputs": [
    {
     "name": "stderr",
     "output_type": "stream",
     "text": [
      "[INFO 09-23 21:57:02] ax.modelbridge.dispatch_utils: Using Models.BOTORCH_MODULAR since there is at least one ordered parameter and there are no unordered categorical parameters.\n"
     ]
    },
    {
     "name": "stderr",
     "output_type": "stream",
     "text": [
      "[INFO 09-23 21:57:02] ax.modelbridge.dispatch_utils: Calculating the number of remaining initialization trials based on num_initialization_trials=None max_initialization_trials=None num_tunable_parameters=4 num_trials=15 use_batch_trials=False\n"
     ]
    },
    {
     "name": "stderr",
     "output_type": "stream",
     "text": [
      "[INFO 09-23 21:57:02] ax.modelbridge.dispatch_utils: calculated num_initialization_trials=5\n"
     ]
    },
    {
     "name": "stderr",
     "output_type": "stream",
     "text": [
      "[INFO 09-23 21:57:02] ax.modelbridge.dispatch_utils: num_completed_initialization_trials=0 num_remaining_initialization_trials=5\n"
     ]
    },
    {
     "name": "stderr",
     "output_type": "stream",
     "text": [
      "[INFO 09-23 21:57:02] ax.modelbridge.dispatch_utils: `verbose`, `disable_progbar`, and `jit_compile` are not yet supported when using `choose_generation_strategy` with ModularBoTorchModel, dropping these arguments.\n"
     ]
    },
    {
     "name": "stderr",
     "output_type": "stream",
     "text": [
      "[INFO 09-23 21:57:02] ax.modelbridge.dispatch_utils: Using Bayesian Optimization generation strategy: GenerationStrategy(name='Sobol+BoTorch', steps=[Sobol for 5 trials, BoTorch for subsequent trials]). Iterations after 5 will take longer to generate due to model-fitting.\n"
     ]
    }
   ],
   "source": [
    "if SMOKE_TEST:\n",
    "    total_trials = 6\n",
    "else:\n",
    "    total_trials = 15  # total evaluation budget\n",
    "\n",
    "gs = choose_generation_strategy(\n",
    "    search_space=experiment.search_space,\n",
    "    optimization_config=experiment.optimization_config,\n",
    "    num_trials=total_trials,\n",
    ")"
   ]
  },
  {
   "attachments": {},
   "cell_type": "markdown",
   "id": "78d86fea",
   "metadata": {
    "papermill": {
     "duration": 0.004561,
     "end_time": "2024-09-23T21:57:02.144501",
     "exception": false,
     "start_time": "2024-09-23T21:57:02.139940",
     "status": "completed"
    },
    "tags": []
   },
   "source": [
    "## Configuring the Scheduler\n",
    "\n",
    "The `Scheduler` acts as the loop control for the optimization.\n",
    "It communicates with the backend to launch trials, check their status, retrieve (partial) results, and importantly for this tutorial, calls the early stopping strategy. If the early stopping strategy suggests a trial to be the stopped, the `Scheduler` communicates with the backend to terminate the trial.\n",
    "\n",
    "The ``Scheduler`` requires the ``Experiment`` and the ``GenerationStrategy``.\n",
    "A set of options can be passed in via ``SchedulerOptions``. Here, we\n",
    "configure the number of total evaluations as well as ``max_pending_trials``,\n",
    "the maximum number of trials that should run concurrently. In our\n",
    "local setting, this is the number of training jobs running as individual\n",
    "processes, while in a remote execution setting, this would be the number\n",
    "of machines you want to use in parallel.\n"
   ]
  },
  {
   "cell_type": "code",
   "execution_count": 13,
   "id": "499fb9b5",
   "metadata": {
    "execution": {
     "iopub.execute_input": "2024-09-23T21:57:02.154669Z",
     "iopub.status.busy": "2024-09-23T21:57:02.154417Z",
     "iopub.status.idle": "2024-09-23T21:57:02.158891Z",
     "shell.execute_reply": "2024-09-23T21:57:02.158233Z"
    },
    "papermill": {
     "duration": 0.01115,
     "end_time": "2024-09-23T21:57:02.160155",
     "exception": false,
     "start_time": "2024-09-23T21:57:02.149005",
     "status": "completed"
    },
    "tags": []
   },
   "outputs": [
    {
     "name": "stderr",
     "output_type": "stream",
     "text": [
      "[INFO 09-23 21:57:02] Scheduler: `Scheduler` requires experiment to have immutable search space and optimization config. Setting property immutable_search_space_and_opt_config to `True` on experiment.\n"
     ]
    }
   ],
   "source": [
    "scheduler = Scheduler(\n",
    "    experiment=experiment,\n",
    "    generation_strategy=gs,\n",
    "    options=SchedulerOptions(\n",
    "        total_trials=total_trials,\n",
    "        max_pending_trials=5,\n",
    "        early_stopping_strategy=percentile_early_stopping_strategy,\n",
    "    ),\n",
    ")"
   ]
  },
  {
   "cell_type": "code",
   "execution_count": 14,
   "id": "78257ebb",
   "metadata": {
    "execution": {
     "iopub.execute_input": "2024-09-23T21:57:02.170416Z",
     "iopub.status.busy": "2024-09-23T21:57:02.170198Z",
     "iopub.status.idle": "2024-09-23T22:19:05.936068Z",
     "shell.execute_reply": "2024-09-23T22:19:05.935428Z"
    },
    "papermill": {
     "duration": 1323.772515,
     "end_time": "2024-09-23T22:19:05.937457",
     "exception": false,
     "start_time": "2024-09-23T21:57:02.164942",
     "status": "completed"
    },
    "tags": []
   },
   "outputs": [
    {
     "name": "stderr",
     "output_type": "stream",
     "text": [
      "[INFO 09-23 21:57:02] Scheduler: Fetching data for newly completed trials: [].\n"
     ]
    },
    {
     "name": "stderr",
     "output_type": "stream",
     "text": [
      "[INFO 09-23 21:57:02] ax.early_stopping.strategies.base: PercentileEarlyStoppingStrategy received empty data. Not stopping any trials.\n"
     ]
    },
    {
     "name": "stderr",
     "output_type": "stream",
     "text": [
      "/tmp/tmp.QqcA7fo0ui/Ax-main/ax/modelbridge/cross_validation.py:463: UserWarning: Encountered exception in computing model fit quality: RandomModelBridge does not support prediction.\n",
      "  warn(\"Encountered exception in computing model fit quality: \" + str(e))\n",
      "[INFO 09-23 21:57:02] Scheduler: Running trials [0]...\n"
     ]
    },
    {
     "name": "stderr",
     "output_type": "stream",
     "text": [
      "/tmp/tmp.QqcA7fo0ui/Ax-main/ax/modelbridge/cross_validation.py:463: UserWarning: Encountered exception in computing model fit quality: RandomModelBridge does not support prediction.\n",
      "  warn(\"Encountered exception in computing model fit quality: \" + str(e))\n",
      "[INFO 09-23 21:57:03] Scheduler: Running trials [1]...\n"
     ]
    },
    {
     "name": "stderr",
     "output_type": "stream",
     "text": [
      "/tmp/tmp.QqcA7fo0ui/Ax-main/ax/modelbridge/cross_validation.py:463: UserWarning: Encountered exception in computing model fit quality: RandomModelBridge does not support prediction.\n",
      "  warn(\"Encountered exception in computing model fit quality: \" + str(e))\n",
      "[INFO 09-23 21:57:04] Scheduler: Running trials [2]...\n"
     ]
    },
    {
     "name": "stderr",
     "output_type": "stream",
     "text": [
      "/tmp/tmp.QqcA7fo0ui/Ax-main/ax/modelbridge/cross_validation.py:463: UserWarning: Encountered exception in computing model fit quality: RandomModelBridge does not support prediction.\n",
      "  warn(\"Encountered exception in computing model fit quality: \" + str(e))\n",
      "[INFO 09-23 21:57:05] Scheduler: Running trials [3]...\n"
     ]
    },
    {
     "name": "stderr",
     "output_type": "stream",
     "text": [
      "/tmp/tmp.QqcA7fo0ui/Ax-main/ax/modelbridge/cross_validation.py:463: UserWarning: Encountered exception in computing model fit quality: RandomModelBridge does not support prediction.\n",
      "  warn(\"Encountered exception in computing model fit quality: \" + str(e))\n",
      "[INFO 09-23 21:57:06] Scheduler: Running trials [4]...\n"
     ]
    },
    {
     "name": "stderr",
     "output_type": "stream",
     "text": [
      "[WARNING 09-23 21:57:07] Scheduler: Both `init_seconds_between_polls` and `early_stopping_strategy supplied. `init_seconds_between_polls=1` will be overrridden by `early_stopping_strategy.seconds_between_polls=10` and polling will take place at a constant rate.\n"
     ]
    },
    {
     "name": "stderr",
     "output_type": "stream",
     "text": [
      "[INFO 09-23 21:57:07] Scheduler: Fetching data for newly completed trials: [].\n"
     ]
    },
    {
     "name": "stderr",
     "output_type": "stream",
     "text": [
      "[INFO 09-23 21:57:07] Scheduler: Fetching data for trials: 0 - 4 because some metrics on experiment are available while trials are running.\n"
     ]
    },
    {
     "name": "stderr",
     "output_type": "stream",
     "text": [
      "[INFO 09-23 21:57:07] ax.core.metric: MetricFetchE INFO: Initialized MetricFetchE(message=\"No 'scalar' data found for trial in multiplexer mul=<tensorboard.backend.event_processing.plugin_event_multiplexer.EventMultiplexer object at 0x7f11df064730>\")\n"
     ]
    },
    {
     "name": "stderr",
     "output_type": "stream",
     "text": [
      "[INFO 09-23 21:57:07] ax.core.metric: MetricFetchE INFO: Initialized MetricFetchE(message=\"No 'scalar' data found for trial in multiplexer mul=<tensorboard.backend.event_processing.plugin_event_multiplexer.EventMultiplexer object at 0x7f11df064e50>\")\n"
     ]
    },
    {
     "name": "stderr",
     "output_type": "stream",
     "text": [
      "[INFO 09-23 21:57:07] ax.core.metric: MetricFetchE INFO: Initialized MetricFetchE(message=\"No 'scalar' data found for trial in multiplexer mul=<tensorboard.backend.event_processing.plugin_event_multiplexer.EventMultiplexer object at 0x7f11df065060>\")\n"
     ]
    },
    {
     "name": "stderr",
     "output_type": "stream",
     "text": [
      "[INFO 09-23 21:57:07] ax.core.metric: MetricFetchE INFO: Initialized MetricFetchE(message=\"No 'scalar' data found for trial in multiplexer mul=<tensorboard.backend.event_processing.plugin_event_multiplexer.EventMultiplexer object at 0x7f11df064ca0>\")\n"
     ]
    },
    {
     "name": "stderr",
     "output_type": "stream",
     "text": [
      "[INFO 09-23 21:57:07] ax.core.metric: MetricFetchE INFO: Initialized MetricFetchE(message=\"No 'scalar' data found for trial in multiplexer mul=<tensorboard.backend.event_processing.plugin_event_multiplexer.EventMultiplexer object at 0x7f11df0659f0>\")\n"
     ]
    },
    {
     "name": "stderr",
     "output_type": "stream",
     "text": [
      "[ERROR 09-23 21:57:07] ax.core.experiment: Discovered Metric fetching Err while attaching data MetricFetchE(message=\"No 'scalar' data found for trial in multiplexer mul=<tensorboard.backend.event_processing.plugin_event_multiplexer.EventMultiplexer object at 0x7f11df064730>\"). Ignoring for now -- will retry query on next call to fetch.\n"
     ]
    },
    {
     "name": "stderr",
     "output_type": "stream",
     "text": [
      "[ERROR 09-23 21:57:07] ax.core.experiment: Discovered Metric fetching Err while attaching data MetricFetchE(message=\"No 'scalar' data found for trial in multiplexer mul=<tensorboard.backend.event_processing.plugin_event_multiplexer.EventMultiplexer object at 0x7f11df064e50>\"). Ignoring for now -- will retry query on next call to fetch.\n"
     ]
    },
    {
     "name": "stderr",
     "output_type": "stream",
     "text": [
      "[ERROR 09-23 21:57:07] ax.core.experiment: Discovered Metric fetching Err while attaching data MetricFetchE(message=\"No 'scalar' data found for trial in multiplexer mul=<tensorboard.backend.event_processing.plugin_event_multiplexer.EventMultiplexer object at 0x7f11df065060>\"). Ignoring for now -- will retry query on next call to fetch.\n"
     ]
    },
    {
     "name": "stderr",
     "output_type": "stream",
     "text": [
      "[ERROR 09-23 21:57:07] ax.core.experiment: Discovered Metric fetching Err while attaching data MetricFetchE(message=\"No 'scalar' data found for trial in multiplexer mul=<tensorboard.backend.event_processing.plugin_event_multiplexer.EventMultiplexer object at 0x7f11df064ca0>\"). Ignoring for now -- will retry query on next call to fetch.\n"
     ]
    },
    {
     "name": "stderr",
     "output_type": "stream",
     "text": [
      "[ERROR 09-23 21:57:07] ax.core.experiment: Discovered Metric fetching Err while attaching data MetricFetchE(message=\"No 'scalar' data found for trial in multiplexer mul=<tensorboard.backend.event_processing.plugin_event_multiplexer.EventMultiplexer object at 0x7f11df0659f0>\"). Ignoring for now -- will retry query on next call to fetch.\n"
     ]
    },
    {
     "name": "stderr",
     "output_type": "stream",
     "text": [
      "[WARNING 09-23 21:57:07] Scheduler: Failed to fetch val_acc for trial 0, found MetricFetchE(message=\"No 'scalar' data found for trial in multiplexer mul=<tensorboard.backend.event_processing.plugin_event_multiplexer.EventMultiplexer object at 0x7f11df064730>\").\n"
     ]
    },
    {
     "name": "stderr",
     "output_type": "stream",
     "text": [
      "[INFO 09-23 21:57:07] Scheduler: MetricFetchE INFO: Because val_acc is available_while_running and trial 0 is still RUNNING continuing the experiment and retrying on next poll...\n"
     ]
    },
    {
     "name": "stderr",
     "output_type": "stream",
     "text": [
      "[WARNING 09-23 21:57:07] Scheduler: Failed to fetch val_acc for trial 1, found MetricFetchE(message=\"No 'scalar' data found for trial in multiplexer mul=<tensorboard.backend.event_processing.plugin_event_multiplexer.EventMultiplexer object at 0x7f11df064e50>\").\n"
     ]
    },
    {
     "name": "stderr",
     "output_type": "stream",
     "text": [
      "[INFO 09-23 21:57:07] Scheduler: MetricFetchE INFO: Because val_acc is available_while_running and trial 1 is still RUNNING continuing the experiment and retrying on next poll...\n"
     ]
    },
    {
     "name": "stderr",
     "output_type": "stream",
     "text": [
      "[WARNING 09-23 21:57:07] Scheduler: Failed to fetch val_acc for trial 2, found MetricFetchE(message=\"No 'scalar' data found for trial in multiplexer mul=<tensorboard.backend.event_processing.plugin_event_multiplexer.EventMultiplexer object at 0x7f11df065060>\").\n"
     ]
    },
    {
     "name": "stderr",
     "output_type": "stream",
     "text": [
      "[INFO 09-23 21:57:07] Scheduler: MetricFetchE INFO: Because val_acc is available_while_running and trial 2 is still RUNNING continuing the experiment and retrying on next poll...\n"
     ]
    },
    {
     "name": "stderr",
     "output_type": "stream",
     "text": [
      "[WARNING 09-23 21:57:07] Scheduler: Failed to fetch val_acc for trial 3, found MetricFetchE(message=\"No 'scalar' data found for trial in multiplexer mul=<tensorboard.backend.event_processing.plugin_event_multiplexer.EventMultiplexer object at 0x7f11df064ca0>\").\n"
     ]
    },
    {
     "name": "stderr",
     "output_type": "stream",
     "text": [
      "[INFO 09-23 21:57:07] Scheduler: MetricFetchE INFO: Because val_acc is available_while_running and trial 3 is still RUNNING continuing the experiment and retrying on next poll...\n"
     ]
    },
    {
     "name": "stderr",
     "output_type": "stream",
     "text": [
      "[WARNING 09-23 21:57:07] Scheduler: Failed to fetch val_acc for trial 4, found MetricFetchE(message=\"No 'scalar' data found for trial in multiplexer mul=<tensorboard.backend.event_processing.plugin_event_multiplexer.EventMultiplexer object at 0x7f11df0659f0>\").\n"
     ]
    },
    {
     "name": "stderr",
     "output_type": "stream",
     "text": [
      "[INFO 09-23 21:57:07] Scheduler: MetricFetchE INFO: Because val_acc is available_while_running and trial 4 is still RUNNING continuing the experiment and retrying on next poll...\n"
     ]
    },
    {
     "name": "stderr",
     "output_type": "stream",
     "text": [
      "[INFO 09-23 21:57:07] ax.early_stopping.strategies.base: PercentileEarlyStoppingStrategy received empty data. Not stopping any trials.\n"
     ]
    },
    {
     "name": "stderr",
     "output_type": "stream",
     "text": [
      "[INFO 09-23 21:57:07] Scheduler: Waiting for completed trials (for 10 sec, currently running trials: 5).\n"
     ]
    },
    {
     "name": "stderr",
     "output_type": "stream",
     "text": [
      "[INFO 09-23 21:57:17] Scheduler: Fetching data for newly completed trials: [].\n"
     ]
    },
    {
     "name": "stderr",
     "output_type": "stream",
     "text": [
      "[INFO 09-23 21:57:17] Scheduler: Fetching data for trials: [0] because some metrics on experiment are available while trials are running.\n"
     ]
    },
    {
     "name": "stderr",
     "output_type": "stream",
     "text": [
      "[INFO 09-23 21:57:17] Scheduler: Retrieved FAILED trials: 1 - 4.\n"
     ]
    },
    {
     "name": "stderr",
     "output_type": "stream",
     "text": [
      "[INFO 09-23 21:57:17] ax.core.metric: MetricFetchE INFO: Initialized MetricFetchE(message=\"No 'scalar' data found for trial in multiplexer mul=<tensorboard.backend.event_processing.plugin_event_multiplexer.EventMultiplexer object at 0x7f11deed0dc0>\")\n"
     ]
    },
    {
     "name": "stderr",
     "output_type": "stream",
     "text": [
      "[ERROR 09-23 21:57:17] ax.core.experiment: Discovered Metric fetching Err while attaching data MetricFetchE(message=\"No 'scalar' data found for trial in multiplexer mul=<tensorboard.backend.event_processing.plugin_event_multiplexer.EventMultiplexer object at 0x7f11deed0dc0>\"). Ignoring for now -- will retry query on next call to fetch.\n"
     ]
    },
    {
     "name": "stderr",
     "output_type": "stream",
     "text": [
      "[WARNING 09-23 21:57:17] Scheduler: Failed to fetch val_acc for trial 0, found MetricFetchE(message=\"No 'scalar' data found for trial in multiplexer mul=<tensorboard.backend.event_processing.plugin_event_multiplexer.EventMultiplexer object at 0x7f11deed0dc0>\").\n"
     ]
    },
    {
     "name": "stderr",
     "output_type": "stream",
     "text": [
      "[INFO 09-23 21:57:17] Scheduler: MetricFetchE INFO: Because val_acc is available_while_running and trial 0 is still RUNNING continuing the experiment and retrying on next poll...\n"
     ]
    },
    {
     "name": "stderr",
     "output_type": "stream",
     "text": [
      "[INFO 09-23 21:57:17] ax.early_stopping.strategies.base: PercentileEarlyStoppingStrategy received empty data. Not stopping any trials.\n"
     ]
    },
    {
     "name": "stderr",
     "output_type": "stream",
     "text": [
      "/tmp/tmp.QqcA7fo0ui/Ax-main/ax/modelbridge/cross_validation.py:463: UserWarning: Encountered exception in computing model fit quality: RandomModelBridge does not support prediction.\n",
      "  warn(\"Encountered exception in computing model fit quality: \" + str(e))\n",
      "[INFO 09-23 21:57:17] Scheduler: Running trials [5]...\n"
     ]
    },
    {
     "name": "stderr",
     "output_type": "stream",
     "text": [
      "/tmp/tmp.QqcA7fo0ui/Ax-main/ax/modelbridge/cross_validation.py:463: UserWarning: Encountered exception in computing model fit quality: RandomModelBridge does not support prediction.\n",
      "  warn(\"Encountered exception in computing model fit quality: \" + str(e))\n",
      "[INFO 09-23 21:57:18] Scheduler: Running trials [6]...\n"
     ]
    },
    {
     "name": "stderr",
     "output_type": "stream",
     "text": [
      "/tmp/tmp.QqcA7fo0ui/Ax-main/ax/modelbridge/cross_validation.py:463: UserWarning: Encountered exception in computing model fit quality: RandomModelBridge does not support prediction.\n",
      "  warn(\"Encountered exception in computing model fit quality: \" + str(e))\n",
      "[INFO 09-23 21:57:19] Scheduler: Running trials [7]...\n"
     ]
    },
    {
     "name": "stderr",
     "output_type": "stream",
     "text": [
      "/tmp/tmp.QqcA7fo0ui/Ax-main/ax/modelbridge/cross_validation.py:463: UserWarning: Encountered exception in computing model fit quality: RandomModelBridge does not support prediction.\n",
      "  warn(\"Encountered exception in computing model fit quality: \" + str(e))\n",
      "[INFO 09-23 21:57:20] Scheduler: Running trials [8]...\n"
     ]
    },
    {
     "name": "stderr",
     "output_type": "stream",
     "text": [
      "[WARNING 09-23 21:57:21] Scheduler: Both `init_seconds_between_polls` and `early_stopping_strategy supplied. `init_seconds_between_polls=1` will be overrridden by `early_stopping_strategy.seconds_between_polls=10` and polling will take place at a constant rate.\n"
     ]
    },
    {
     "name": "stderr",
     "output_type": "stream",
     "text": [
      "[INFO 09-23 21:57:21] Scheduler: Fetching data for newly completed trials: [].\n"
     ]
    },
    {
     "name": "stderr",
     "output_type": "stream",
     "text": [
      "[INFO 09-23 21:57:21] Scheduler: Fetching data for trials: [0, 5, 6, 7, 8] because some metrics on experiment are available while trials are running.\n"
     ]
    },
    {
     "name": "stderr",
     "output_type": "stream",
     "text": [
      "[INFO 09-23 21:57:21] ax.core.metric: MetricFetchE INFO: Initialized MetricFetchE(message=\"No 'scalar' data found for trial in multiplexer mul=<tensorboard.backend.event_processing.plugin_event_multiplexer.EventMultiplexer object at 0x7f11deed1660>\")\n"
     ]
    },
    {
     "name": "stderr",
     "output_type": "stream",
     "text": [
      "[INFO 09-23 21:57:21] ax.core.metric: MetricFetchE INFO: Initialized MetricFetchE(message=\"No 'scalar' data found for trial in multiplexer mul=<tensorboard.backend.event_processing.plugin_event_multiplexer.EventMultiplexer object at 0x7f11deed2680>\")\n"
     ]
    },
    {
     "name": "stderr",
     "output_type": "stream",
     "text": [
      "[INFO 09-23 21:57:21] ax.core.metric: MetricFetchE INFO: Initialized MetricFetchE(message=\"No 'scalar' data found for trial in multiplexer mul=<tensorboard.backend.event_processing.plugin_event_multiplexer.EventMultiplexer object at 0x7f11deed2680>\")\n"
     ]
    },
    {
     "name": "stderr",
     "output_type": "stream",
     "text": [
      "[INFO 09-23 21:57:21] ax.core.metric: MetricFetchE INFO: Initialized MetricFetchE(message=\"No 'scalar' data found for trial in multiplexer mul=<tensorboard.backend.event_processing.plugin_event_multiplexer.EventMultiplexer object at 0x7f11deed2680>\")\n"
     ]
    },
    {
     "name": "stderr",
     "output_type": "stream",
     "text": [
      "[INFO 09-23 21:57:21] ax.core.metric: MetricFetchE INFO: Initialized MetricFetchE(message=\"No 'scalar' data found for trial in multiplexer mul=<tensorboard.backend.event_processing.plugin_event_multiplexer.EventMultiplexer object at 0x7f11deed2680>\")\n"
     ]
    },
    {
     "name": "stderr",
     "output_type": "stream",
     "text": [
      "[ERROR 09-23 21:57:21] ax.core.experiment: Discovered Metric fetching Err while attaching data MetricFetchE(message=\"No 'scalar' data found for trial in multiplexer mul=<tensorboard.backend.event_processing.plugin_event_multiplexer.EventMultiplexer object at 0x7f11deed1660>\"). Ignoring for now -- will retry query on next call to fetch.\n"
     ]
    },
    {
     "name": "stderr",
     "output_type": "stream",
     "text": [
      "[ERROR 09-23 21:57:21] ax.core.experiment: Discovered Metric fetching Err while attaching data MetricFetchE(message=\"No 'scalar' data found for trial in multiplexer mul=<tensorboard.backend.event_processing.plugin_event_multiplexer.EventMultiplexer object at 0x7f11deed2680>\"). Ignoring for now -- will retry query on next call to fetch.\n"
     ]
    },
    {
     "name": "stderr",
     "output_type": "stream",
     "text": [
      "[ERROR 09-23 21:57:21] ax.core.experiment: Discovered Metric fetching Err while attaching data MetricFetchE(message=\"No 'scalar' data found for trial in multiplexer mul=<tensorboard.backend.event_processing.plugin_event_multiplexer.EventMultiplexer object at 0x7f11deed2680>\"). Ignoring for now -- will retry query on next call to fetch.\n"
     ]
    },
    {
     "name": "stderr",
     "output_type": "stream",
     "text": [
      "[ERROR 09-23 21:57:21] ax.core.experiment: Discovered Metric fetching Err while attaching data MetricFetchE(message=\"No 'scalar' data found for trial in multiplexer mul=<tensorboard.backend.event_processing.plugin_event_multiplexer.EventMultiplexer object at 0x7f11deed2680>\"). Ignoring for now -- will retry query on next call to fetch.\n"
     ]
    },
    {
     "name": "stderr",
     "output_type": "stream",
     "text": [
      "[ERROR 09-23 21:57:21] ax.core.experiment: Discovered Metric fetching Err while attaching data MetricFetchE(message=\"No 'scalar' data found for trial in multiplexer mul=<tensorboard.backend.event_processing.plugin_event_multiplexer.EventMultiplexer object at 0x7f11deed2680>\"). Ignoring for now -- will retry query on next call to fetch.\n"
     ]
    },
    {
     "name": "stderr",
     "output_type": "stream",
     "text": [
      "[WARNING 09-23 21:57:21] Scheduler: Failed to fetch val_acc for trial 0, found MetricFetchE(message=\"No 'scalar' data found for trial in multiplexer mul=<tensorboard.backend.event_processing.plugin_event_multiplexer.EventMultiplexer object at 0x7f11deed1660>\").\n"
     ]
    },
    {
     "name": "stderr",
     "output_type": "stream",
     "text": [
      "[INFO 09-23 21:57:21] Scheduler: MetricFetchE INFO: Because val_acc is available_while_running and trial 0 is still RUNNING continuing the experiment and retrying on next poll...\n"
     ]
    },
    {
     "name": "stderr",
     "output_type": "stream",
     "text": [
      "[WARNING 09-23 21:57:21] Scheduler: Failed to fetch val_acc for trial 5, found MetricFetchE(message=\"No 'scalar' data found for trial in multiplexer mul=<tensorboard.backend.event_processing.plugin_event_multiplexer.EventMultiplexer object at 0x7f11deed2680>\").\n"
     ]
    },
    {
     "name": "stderr",
     "output_type": "stream",
     "text": [
      "[INFO 09-23 21:57:21] Scheduler: MetricFetchE INFO: Because val_acc is available_while_running and trial 5 is still RUNNING continuing the experiment and retrying on next poll...\n"
     ]
    },
    {
     "name": "stderr",
     "output_type": "stream",
     "text": [
      "[WARNING 09-23 21:57:21] Scheduler: Failed to fetch val_acc for trial 6, found MetricFetchE(message=\"No 'scalar' data found for trial in multiplexer mul=<tensorboard.backend.event_processing.plugin_event_multiplexer.EventMultiplexer object at 0x7f11deed2680>\").\n"
     ]
    },
    {
     "name": "stderr",
     "output_type": "stream",
     "text": [
      "[INFO 09-23 21:57:21] Scheduler: MetricFetchE INFO: Because val_acc is available_while_running and trial 6 is still RUNNING continuing the experiment and retrying on next poll...\n"
     ]
    },
    {
     "name": "stderr",
     "output_type": "stream",
     "text": [
      "[WARNING 09-23 21:57:21] Scheduler: Failed to fetch val_acc for trial 7, found MetricFetchE(message=\"No 'scalar' data found for trial in multiplexer mul=<tensorboard.backend.event_processing.plugin_event_multiplexer.EventMultiplexer object at 0x7f11deed2680>\").\n"
     ]
    },
    {
     "name": "stderr",
     "output_type": "stream",
     "text": [
      "[INFO 09-23 21:57:21] Scheduler: MetricFetchE INFO: Because val_acc is available_while_running and trial 7 is still RUNNING continuing the experiment and retrying on next poll...\n"
     ]
    },
    {
     "name": "stderr",
     "output_type": "stream",
     "text": [
      "[WARNING 09-23 21:57:21] Scheduler: Failed to fetch val_acc for trial 8, found MetricFetchE(message=\"No 'scalar' data found for trial in multiplexer mul=<tensorboard.backend.event_processing.plugin_event_multiplexer.EventMultiplexer object at 0x7f11deed2680>\").\n"
     ]
    },
    {
     "name": "stderr",
     "output_type": "stream",
     "text": [
      "[INFO 09-23 21:57:21] Scheduler: MetricFetchE INFO: Because val_acc is available_while_running and trial 8 is still RUNNING continuing the experiment and retrying on next poll...\n"
     ]
    },
    {
     "name": "stderr",
     "output_type": "stream",
     "text": [
      "[INFO 09-23 21:57:21] ax.early_stopping.strategies.base: PercentileEarlyStoppingStrategy received empty data. Not stopping any trials.\n"
     ]
    },
    {
     "name": "stderr",
     "output_type": "stream",
     "text": [
      "[INFO 09-23 21:57:21] Scheduler: Waiting for completed trials (for 10 sec, currently running trials: 5).\n"
     ]
    },
    {
     "name": "stderr",
     "output_type": "stream",
     "text": [
      "[INFO 09-23 21:57:31] Scheduler: Fetching data for newly completed trials: [].\n"
     ]
    },
    {
     "name": "stderr",
     "output_type": "stream",
     "text": [
      "[INFO 09-23 21:57:31] Scheduler: Fetching data for trials: [0, 5, 6, 7, 8] because some metrics on experiment are available while trials are running.\n"
     ]
    },
    {
     "name": "stderr",
     "output_type": "stream",
     "text": [
      "[INFO 09-23 21:57:31] ax.core.metric: MetricFetchE INFO: Initialized MetricFetchE(message=\"No 'scalar' data found for trial in multiplexer mul=<tensorboard.backend.event_processing.plugin_event_multiplexer.EventMultiplexer object at 0x7f11deed1ed0>\")\n"
     ]
    },
    {
     "name": "stderr",
     "output_type": "stream",
     "text": [
      "[INFO 09-23 21:57:31] ax.core.metric: MetricFetchE INFO: Initialized MetricFetchE(message=\"No 'scalar' data found for trial in multiplexer mul=<tensorboard.backend.event_processing.plugin_event_multiplexer.EventMultiplexer object at 0x7f11deed1ed0>\")\n"
     ]
    },
    {
     "name": "stderr",
     "output_type": "stream",
     "text": [
      "[INFO 09-23 21:57:31] ax.core.metric: MetricFetchE INFO: Initialized MetricFetchE(message=\"No 'scalar' data found for trial in multiplexer mul=<tensorboard.backend.event_processing.plugin_event_multiplexer.EventMultiplexer object at 0x7f11deed1ed0>\")\n"
     ]
    },
    {
     "name": "stderr",
     "output_type": "stream",
     "text": [
      "[INFO 09-23 21:57:31] ax.core.metric: MetricFetchE INFO: Initialized MetricFetchE(message=\"No 'scalar' data found for trial in multiplexer mul=<tensorboard.backend.event_processing.plugin_event_multiplexer.EventMultiplexer object at 0x7f11deed1ed0>\")\n"
     ]
    },
    {
     "name": "stderr",
     "output_type": "stream",
     "text": [
      "[INFO 09-23 21:57:31] ax.core.metric: MetricFetchE INFO: Initialized MetricFetchE(message=\"No 'scalar' data found for trial in multiplexer mul=<tensorboard.backend.event_processing.plugin_event_multiplexer.EventMultiplexer object at 0x7f11deed1ed0>\")\n"
     ]
    },
    {
     "name": "stderr",
     "output_type": "stream",
     "text": [
      "[ERROR 09-23 21:57:31] ax.core.experiment: Discovered Metric fetching Err while attaching data MetricFetchE(message=\"No 'scalar' data found for trial in multiplexer mul=<tensorboard.backend.event_processing.plugin_event_multiplexer.EventMultiplexer object at 0x7f11deed1ed0>\"). Ignoring for now -- will retry query on next call to fetch.\n"
     ]
    },
    {
     "name": "stderr",
     "output_type": "stream",
     "text": [
      "[ERROR 09-23 21:57:31] ax.core.experiment: Discovered Metric fetching Err while attaching data MetricFetchE(message=\"No 'scalar' data found for trial in multiplexer mul=<tensorboard.backend.event_processing.plugin_event_multiplexer.EventMultiplexer object at 0x7f11deed1ed0>\"). Ignoring for now -- will retry query on next call to fetch.\n"
     ]
    },
    {
     "name": "stderr",
     "output_type": "stream",
     "text": [
      "[ERROR 09-23 21:57:31] ax.core.experiment: Discovered Metric fetching Err while attaching data MetricFetchE(message=\"No 'scalar' data found for trial in multiplexer mul=<tensorboard.backend.event_processing.plugin_event_multiplexer.EventMultiplexer object at 0x7f11deed1ed0>\"). Ignoring for now -- will retry query on next call to fetch.\n"
     ]
    },
    {
     "name": "stderr",
     "output_type": "stream",
     "text": [
      "[ERROR 09-23 21:57:31] ax.core.experiment: Discovered Metric fetching Err while attaching data MetricFetchE(message=\"No 'scalar' data found for trial in multiplexer mul=<tensorboard.backend.event_processing.plugin_event_multiplexer.EventMultiplexer object at 0x7f11deed1ed0>\"). Ignoring for now -- will retry query on next call to fetch.\n"
     ]
    },
    {
     "name": "stderr",
     "output_type": "stream",
     "text": [
      "[ERROR 09-23 21:57:31] ax.core.experiment: Discovered Metric fetching Err while attaching data MetricFetchE(message=\"No 'scalar' data found for trial in multiplexer mul=<tensorboard.backend.event_processing.plugin_event_multiplexer.EventMultiplexer object at 0x7f11deed1ed0>\"). Ignoring for now -- will retry query on next call to fetch.\n"
     ]
    },
    {
     "name": "stderr",
     "output_type": "stream",
     "text": [
      "[WARNING 09-23 21:57:31] Scheduler: Failed to fetch val_acc for trial 0, found MetricFetchE(message=\"No 'scalar' data found for trial in multiplexer mul=<tensorboard.backend.event_processing.plugin_event_multiplexer.EventMultiplexer object at 0x7f11deed1ed0>\").\n"
     ]
    },
    {
     "name": "stderr",
     "output_type": "stream",
     "text": [
      "[INFO 09-23 21:57:31] Scheduler: MetricFetchE INFO: Because val_acc is available_while_running and trial 0 is still RUNNING continuing the experiment and retrying on next poll...\n"
     ]
    },
    {
     "name": "stderr",
     "output_type": "stream",
     "text": [
      "[WARNING 09-23 21:57:31] Scheduler: Failed to fetch val_acc for trial 5, found MetricFetchE(message=\"No 'scalar' data found for trial in multiplexer mul=<tensorboard.backend.event_processing.plugin_event_multiplexer.EventMultiplexer object at 0x7f11deed1ed0>\").\n"
     ]
    },
    {
     "name": "stderr",
     "output_type": "stream",
     "text": [
      "[INFO 09-23 21:57:31] Scheduler: MetricFetchE INFO: Because val_acc is available_while_running and trial 5 is still RUNNING continuing the experiment and retrying on next poll...\n"
     ]
    },
    {
     "name": "stderr",
     "output_type": "stream",
     "text": [
      "[WARNING 09-23 21:57:31] Scheduler: Failed to fetch val_acc for trial 6, found MetricFetchE(message=\"No 'scalar' data found for trial in multiplexer mul=<tensorboard.backend.event_processing.plugin_event_multiplexer.EventMultiplexer object at 0x7f11deed1ed0>\").\n"
     ]
    },
    {
     "name": "stderr",
     "output_type": "stream",
     "text": [
      "[INFO 09-23 21:57:31] Scheduler: MetricFetchE INFO: Because val_acc is available_while_running and trial 6 is still RUNNING continuing the experiment and retrying on next poll...\n"
     ]
    },
    {
     "name": "stderr",
     "output_type": "stream",
     "text": [
      "[WARNING 09-23 21:57:31] Scheduler: Failed to fetch val_acc for trial 7, found MetricFetchE(message=\"No 'scalar' data found for trial in multiplexer mul=<tensorboard.backend.event_processing.plugin_event_multiplexer.EventMultiplexer object at 0x7f11deed1ed0>\").\n"
     ]
    },
    {
     "name": "stderr",
     "output_type": "stream",
     "text": [
      "[INFO 09-23 21:57:31] Scheduler: MetricFetchE INFO: Because val_acc is available_while_running and trial 7 is still RUNNING continuing the experiment and retrying on next poll...\n"
     ]
    },
    {
     "name": "stderr",
     "output_type": "stream",
     "text": [
      "[WARNING 09-23 21:57:31] Scheduler: Failed to fetch val_acc for trial 8, found MetricFetchE(message=\"No 'scalar' data found for trial in multiplexer mul=<tensorboard.backend.event_processing.plugin_event_multiplexer.EventMultiplexer object at 0x7f11deed1ed0>\").\n"
     ]
    },
    {
     "name": "stderr",
     "output_type": "stream",
     "text": [
      "[INFO 09-23 21:57:31] Scheduler: MetricFetchE INFO: Because val_acc is available_while_running and trial 8 is still RUNNING continuing the experiment and retrying on next poll...\n"
     ]
    },
    {
     "name": "stderr",
     "output_type": "stream",
     "text": [
      "[INFO 09-23 21:57:31] ax.early_stopping.strategies.base: PercentileEarlyStoppingStrategy received empty data. Not stopping any trials.\n"
     ]
    },
    {
     "name": "stderr",
     "output_type": "stream",
     "text": [
      "[INFO 09-23 21:57:31] Scheduler: Waiting for completed trials (for 10 sec, currently running trials: 5).\n"
     ]
    },
    {
     "name": "stderr",
     "output_type": "stream",
     "text": [
      "[INFO 09-23 21:57:41] Scheduler: Fetching data for newly completed trials: [].\n"
     ]
    },
    {
     "name": "stderr",
     "output_type": "stream",
     "text": [
      "[INFO 09-23 21:57:41] Scheduler: Fetching data for trials: [0, 5, 6, 7, 8] because some metrics on experiment are available while trials are running.\n"
     ]
    },
    {
     "name": "stderr",
     "output_type": "stream",
     "text": [
      "[INFO 09-23 21:57:41] ax.core.metric: MetricFetchE INFO: Initialized MetricFetchE(message=\"No 'scalar' data found for trial in multiplexer mul=<tensorboard.backend.event_processing.plugin_event_multiplexer.EventMultiplexer object at 0x7f11deed0850>\")\n"
     ]
    },
    {
     "name": "stderr",
     "output_type": "stream",
     "text": [
      "[INFO 09-23 21:57:41] ax.core.metric: MetricFetchE INFO: Initialized MetricFetchE(message=\"No 'scalar' data found for trial in multiplexer mul=<tensorboard.backend.event_processing.plugin_event_multiplexer.EventMultiplexer object at 0x7f11deed0850>\")\n"
     ]
    },
    {
     "name": "stderr",
     "output_type": "stream",
     "text": [
      "[INFO 09-23 21:57:41] ax.core.metric: MetricFetchE INFO: Initialized MetricFetchE(message=\"No 'scalar' data found for trial in multiplexer mul=<tensorboard.backend.event_processing.plugin_event_multiplexer.EventMultiplexer object at 0x7f11deed0850>\")\n"
     ]
    },
    {
     "name": "stderr",
     "output_type": "stream",
     "text": [
      "[INFO 09-23 21:57:41] ax.core.metric: MetricFetchE INFO: Initialized MetricFetchE(message=\"No 'scalar' data found for trial in multiplexer mul=<tensorboard.backend.event_processing.plugin_event_multiplexer.EventMultiplexer object at 0x7f11deed0850>\")\n"
     ]
    },
    {
     "name": "stderr",
     "output_type": "stream",
     "text": [
      "[INFO 09-23 21:57:41] ax.core.metric: MetricFetchE INFO: Initialized MetricFetchE(message=\"No 'scalar' data found for trial in multiplexer mul=<tensorboard.backend.event_processing.plugin_event_multiplexer.EventMultiplexer object at 0x7f11deed0850>\")\n"
     ]
    },
    {
     "name": "stderr",
     "output_type": "stream",
     "text": [
      "[ERROR 09-23 21:57:41] ax.core.experiment: Discovered Metric fetching Err while attaching data MetricFetchE(message=\"No 'scalar' data found for trial in multiplexer mul=<tensorboard.backend.event_processing.plugin_event_multiplexer.EventMultiplexer object at 0x7f11deed0850>\"). Ignoring for now -- will retry query on next call to fetch.\n"
     ]
    },
    {
     "name": "stderr",
     "output_type": "stream",
     "text": [
      "[ERROR 09-23 21:57:41] ax.core.experiment: Discovered Metric fetching Err while attaching data MetricFetchE(message=\"No 'scalar' data found for trial in multiplexer mul=<tensorboard.backend.event_processing.plugin_event_multiplexer.EventMultiplexer object at 0x7f11deed0850>\"). Ignoring for now -- will retry query on next call to fetch.\n"
     ]
    },
    {
     "name": "stderr",
     "output_type": "stream",
     "text": [
      "[ERROR 09-23 21:57:41] ax.core.experiment: Discovered Metric fetching Err while attaching data MetricFetchE(message=\"No 'scalar' data found for trial in multiplexer mul=<tensorboard.backend.event_processing.plugin_event_multiplexer.EventMultiplexer object at 0x7f11deed0850>\"). Ignoring for now -- will retry query on next call to fetch.\n"
     ]
    },
    {
     "name": "stderr",
     "output_type": "stream",
     "text": [
      "[ERROR 09-23 21:57:41] ax.core.experiment: Discovered Metric fetching Err while attaching data MetricFetchE(message=\"No 'scalar' data found for trial in multiplexer mul=<tensorboard.backend.event_processing.plugin_event_multiplexer.EventMultiplexer object at 0x7f11deed0850>\"). Ignoring for now -- will retry query on next call to fetch.\n"
     ]
    },
    {
     "name": "stderr",
     "output_type": "stream",
     "text": [
      "[ERROR 09-23 21:57:41] ax.core.experiment: Discovered Metric fetching Err while attaching data MetricFetchE(message=\"No 'scalar' data found for trial in multiplexer mul=<tensorboard.backend.event_processing.plugin_event_multiplexer.EventMultiplexer object at 0x7f11deed0850>\"). Ignoring for now -- will retry query on next call to fetch.\n"
     ]
    },
    {
     "name": "stderr",
     "output_type": "stream",
     "text": [
      "[WARNING 09-23 21:57:41] Scheduler: Failed to fetch val_acc for trial 0, found MetricFetchE(message=\"No 'scalar' data found for trial in multiplexer mul=<tensorboard.backend.event_processing.plugin_event_multiplexer.EventMultiplexer object at 0x7f11deed0850>\").\n"
     ]
    },
    {
     "name": "stderr",
     "output_type": "stream",
     "text": [
      "[INFO 09-23 21:57:41] Scheduler: MetricFetchE INFO: Because val_acc is available_while_running and trial 0 is still RUNNING continuing the experiment and retrying on next poll...\n"
     ]
    },
    {
     "name": "stderr",
     "output_type": "stream",
     "text": [
      "[WARNING 09-23 21:57:41] Scheduler: Failed to fetch val_acc for trial 5, found MetricFetchE(message=\"No 'scalar' data found for trial in multiplexer mul=<tensorboard.backend.event_processing.plugin_event_multiplexer.EventMultiplexer object at 0x7f11deed0850>\").\n"
     ]
    },
    {
     "name": "stderr",
     "output_type": "stream",
     "text": [
      "[INFO 09-23 21:57:41] Scheduler: MetricFetchE INFO: Because val_acc is available_while_running and trial 5 is still RUNNING continuing the experiment and retrying on next poll...\n"
     ]
    },
    {
     "name": "stderr",
     "output_type": "stream",
     "text": [
      "[WARNING 09-23 21:57:41] Scheduler: Failed to fetch val_acc for trial 6, found MetricFetchE(message=\"No 'scalar' data found for trial in multiplexer mul=<tensorboard.backend.event_processing.plugin_event_multiplexer.EventMultiplexer object at 0x7f11deed0850>\").\n"
     ]
    },
    {
     "name": "stderr",
     "output_type": "stream",
     "text": [
      "[INFO 09-23 21:57:41] Scheduler: MetricFetchE INFO: Because val_acc is available_while_running and trial 6 is still RUNNING continuing the experiment and retrying on next poll...\n"
     ]
    },
    {
     "name": "stderr",
     "output_type": "stream",
     "text": [
      "[WARNING 09-23 21:57:41] Scheduler: Failed to fetch val_acc for trial 7, found MetricFetchE(message=\"No 'scalar' data found for trial in multiplexer mul=<tensorboard.backend.event_processing.plugin_event_multiplexer.EventMultiplexer object at 0x7f11deed0850>\").\n"
     ]
    },
    {
     "name": "stderr",
     "output_type": "stream",
     "text": [
      "[INFO 09-23 21:57:41] Scheduler: MetricFetchE INFO: Because val_acc is available_while_running and trial 7 is still RUNNING continuing the experiment and retrying on next poll...\n"
     ]
    },
    {
     "name": "stderr",
     "output_type": "stream",
     "text": [
      "[WARNING 09-23 21:57:41] Scheduler: Failed to fetch val_acc for trial 8, found MetricFetchE(message=\"No 'scalar' data found for trial in multiplexer mul=<tensorboard.backend.event_processing.plugin_event_multiplexer.EventMultiplexer object at 0x7f11deed0850>\").\n"
     ]
    },
    {
     "name": "stderr",
     "output_type": "stream",
     "text": [
      "[INFO 09-23 21:57:41] Scheduler: MetricFetchE INFO: Because val_acc is available_while_running and trial 8 is still RUNNING continuing the experiment and retrying on next poll...\n"
     ]
    },
    {
     "name": "stderr",
     "output_type": "stream",
     "text": [
      "[INFO 09-23 21:57:41] ax.early_stopping.strategies.base: PercentileEarlyStoppingStrategy received empty data. Not stopping any trials.\n"
     ]
    },
    {
     "name": "stderr",
     "output_type": "stream",
     "text": [
      "[INFO 09-23 21:57:41] Scheduler: Waiting for completed trials (for 10 sec, currently running trials: 5).\n"
     ]
    },
    {
     "name": "stderr",
     "output_type": "stream",
     "text": [
      "[INFO 09-23 21:57:51] Scheduler: Fetching data for newly completed trials: [].\n"
     ]
    },
    {
     "name": "stderr",
     "output_type": "stream",
     "text": [
      "[INFO 09-23 21:57:51] Scheduler: Fetching data for trials: [0, 5, 6, 7, 8] because some metrics on experiment are available while trials are running.\n"
     ]
    },
    {
     "name": "stderr",
     "output_type": "stream",
     "text": [
      "[INFO 09-23 21:57:51] ax.core.metric: MetricFetchE INFO: Initialized MetricFetchE(message=\"No 'scalar' data found for trial in multiplexer mul=<tensorboard.backend.event_processing.plugin_event_multiplexer.EventMultiplexer object at 0x7f11deed0160>\")\n"
     ]
    },
    {
     "name": "stderr",
     "output_type": "stream",
     "text": [
      "[INFO 09-23 21:57:52] ax.core.metric: MetricFetchE INFO: Initialized MetricFetchE(message=\"No 'scalar' data found for trial in multiplexer mul=<tensorboard.backend.event_processing.plugin_event_multiplexer.EventMultiplexer object at 0x7f11deed0160>\")\n"
     ]
    },
    {
     "name": "stderr",
     "output_type": "stream",
     "text": [
      "[INFO 09-23 21:57:52] ax.core.metric: MetricFetchE INFO: Initialized MetricFetchE(message=\"No 'scalar' data found for trial in multiplexer mul=<tensorboard.backend.event_processing.plugin_event_multiplexer.EventMultiplexer object at 0x7f11deed0160>\")\n"
     ]
    },
    {
     "name": "stderr",
     "output_type": "stream",
     "text": [
      "[INFO 09-23 21:57:52] ax.core.metric: MetricFetchE INFO: Initialized MetricFetchE(message=\"No 'scalar' data found for trial in multiplexer mul=<tensorboard.backend.event_processing.plugin_event_multiplexer.EventMultiplexer object at 0x7f11deed0160>\")\n"
     ]
    },
    {
     "name": "stderr",
     "output_type": "stream",
     "text": [
      "[INFO 09-23 21:57:52] ax.core.metric: MetricFetchE INFO: Initialized MetricFetchE(message=\"No 'scalar' data found for trial in multiplexer mul=<tensorboard.backend.event_processing.plugin_event_multiplexer.EventMultiplexer object at 0x7f11deed0160>\")\n"
     ]
    },
    {
     "name": "stderr",
     "output_type": "stream",
     "text": [
      "[ERROR 09-23 21:57:52] ax.core.experiment: Discovered Metric fetching Err while attaching data MetricFetchE(message=\"No 'scalar' data found for trial in multiplexer mul=<tensorboard.backend.event_processing.plugin_event_multiplexer.EventMultiplexer object at 0x7f11deed0160>\"). Ignoring for now -- will retry query on next call to fetch.\n"
     ]
    },
    {
     "name": "stderr",
     "output_type": "stream",
     "text": [
      "[ERROR 09-23 21:57:52] ax.core.experiment: Discovered Metric fetching Err while attaching data MetricFetchE(message=\"No 'scalar' data found for trial in multiplexer mul=<tensorboard.backend.event_processing.plugin_event_multiplexer.EventMultiplexer object at 0x7f11deed0160>\"). Ignoring for now -- will retry query on next call to fetch.\n"
     ]
    },
    {
     "name": "stderr",
     "output_type": "stream",
     "text": [
      "[ERROR 09-23 21:57:52] ax.core.experiment: Discovered Metric fetching Err while attaching data MetricFetchE(message=\"No 'scalar' data found for trial in multiplexer mul=<tensorboard.backend.event_processing.plugin_event_multiplexer.EventMultiplexer object at 0x7f11deed0160>\"). Ignoring for now -- will retry query on next call to fetch.\n"
     ]
    },
    {
     "name": "stderr",
     "output_type": "stream",
     "text": [
      "[ERROR 09-23 21:57:52] ax.core.experiment: Discovered Metric fetching Err while attaching data MetricFetchE(message=\"No 'scalar' data found for trial in multiplexer mul=<tensorboard.backend.event_processing.plugin_event_multiplexer.EventMultiplexer object at 0x7f11deed0160>\"). Ignoring for now -- will retry query on next call to fetch.\n"
     ]
    },
    {
     "name": "stderr",
     "output_type": "stream",
     "text": [
      "[ERROR 09-23 21:57:52] ax.core.experiment: Discovered Metric fetching Err while attaching data MetricFetchE(message=\"No 'scalar' data found for trial in multiplexer mul=<tensorboard.backend.event_processing.plugin_event_multiplexer.EventMultiplexer object at 0x7f11deed0160>\"). Ignoring for now -- will retry query on next call to fetch.\n"
     ]
    },
    {
     "name": "stderr",
     "output_type": "stream",
     "text": [
      "[WARNING 09-23 21:57:52] Scheduler: Failed to fetch val_acc for trial 0, found MetricFetchE(message=\"No 'scalar' data found for trial in multiplexer mul=<tensorboard.backend.event_processing.plugin_event_multiplexer.EventMultiplexer object at 0x7f11deed0160>\").\n"
     ]
    },
    {
     "name": "stderr",
     "output_type": "stream",
     "text": [
      "[INFO 09-23 21:57:52] Scheduler: MetricFetchE INFO: Because val_acc is available_while_running and trial 0 is still RUNNING continuing the experiment and retrying on next poll...\n"
     ]
    },
    {
     "name": "stderr",
     "output_type": "stream",
     "text": [
      "[WARNING 09-23 21:57:52] Scheduler: Failed to fetch val_acc for trial 5, found MetricFetchE(message=\"No 'scalar' data found for trial in multiplexer mul=<tensorboard.backend.event_processing.plugin_event_multiplexer.EventMultiplexer object at 0x7f11deed0160>\").\n"
     ]
    },
    {
     "name": "stderr",
     "output_type": "stream",
     "text": [
      "[INFO 09-23 21:57:52] Scheduler: MetricFetchE INFO: Because val_acc is available_while_running and trial 5 is still RUNNING continuing the experiment and retrying on next poll...\n"
     ]
    },
    {
     "name": "stderr",
     "output_type": "stream",
     "text": [
      "[WARNING 09-23 21:57:52] Scheduler: Failed to fetch val_acc for trial 6, found MetricFetchE(message=\"No 'scalar' data found for trial in multiplexer mul=<tensorboard.backend.event_processing.plugin_event_multiplexer.EventMultiplexer object at 0x7f11deed0160>\").\n"
     ]
    },
    {
     "name": "stderr",
     "output_type": "stream",
     "text": [
      "[INFO 09-23 21:57:52] Scheduler: MetricFetchE INFO: Because val_acc is available_while_running and trial 6 is still RUNNING continuing the experiment and retrying on next poll...\n"
     ]
    },
    {
     "name": "stderr",
     "output_type": "stream",
     "text": [
      "[WARNING 09-23 21:57:52] Scheduler: Failed to fetch val_acc for trial 7, found MetricFetchE(message=\"No 'scalar' data found for trial in multiplexer mul=<tensorboard.backend.event_processing.plugin_event_multiplexer.EventMultiplexer object at 0x7f11deed0160>\").\n"
     ]
    },
    {
     "name": "stderr",
     "output_type": "stream",
     "text": [
      "[INFO 09-23 21:57:52] Scheduler: MetricFetchE INFO: Because val_acc is available_while_running and trial 7 is still RUNNING continuing the experiment and retrying on next poll...\n"
     ]
    },
    {
     "name": "stderr",
     "output_type": "stream",
     "text": [
      "[WARNING 09-23 21:57:52] Scheduler: Failed to fetch val_acc for trial 8, found MetricFetchE(message=\"No 'scalar' data found for trial in multiplexer mul=<tensorboard.backend.event_processing.plugin_event_multiplexer.EventMultiplexer object at 0x7f11deed0160>\").\n"
     ]
    },
    {
     "name": "stderr",
     "output_type": "stream",
     "text": [
      "[INFO 09-23 21:57:52] Scheduler: MetricFetchE INFO: Because val_acc is available_while_running and trial 8 is still RUNNING continuing the experiment and retrying on next poll...\n"
     ]
    },
    {
     "name": "stderr",
     "output_type": "stream",
     "text": [
      "[INFO 09-23 21:57:52] ax.early_stopping.strategies.base: PercentileEarlyStoppingStrategy received empty data. Not stopping any trials.\n"
     ]
    },
    {
     "name": "stderr",
     "output_type": "stream",
     "text": [
      "[INFO 09-23 21:57:52] Scheduler: Waiting for completed trials (for 10 sec, currently running trials: 5).\n"
     ]
    },
    {
     "name": "stderr",
     "output_type": "stream",
     "text": [
      "[INFO 09-23 21:58:02] Scheduler: Fetching data for newly completed trials: [].\n"
     ]
    },
    {
     "name": "stderr",
     "output_type": "stream",
     "text": [
      "[INFO 09-23 21:58:02] Scheduler: Fetching data for trials: [0, 5, 6, 7, 8] because some metrics on experiment are available while trials are running.\n"
     ]
    },
    {
     "name": "stderr",
     "output_type": "stream",
     "text": [
      "[INFO 09-23 21:58:02] ax.core.metric: MetricFetchE INFO: Initialized MetricFetchE(message=\"No 'scalar' data found for trial in multiplexer mul=<tensorboard.backend.event_processing.plugin_event_multiplexer.EventMultiplexer object at 0x7f11deed1240>\")\n"
     ]
    },
    {
     "name": "stderr",
     "output_type": "stream",
     "text": [
      "[INFO 09-23 21:58:02] ax.core.metric: MetricFetchE INFO: Initialized MetricFetchE(message=\"No 'scalar' data found for trial in multiplexer mul=<tensorboard.backend.event_processing.plugin_event_multiplexer.EventMultiplexer object at 0x7f11deed1240>\")\n"
     ]
    },
    {
     "name": "stderr",
     "output_type": "stream",
     "text": [
      "[INFO 09-23 21:58:02] ax.core.metric: MetricFetchE INFO: Initialized MetricFetchE(message=\"No 'scalar' data found for trial in multiplexer mul=<tensorboard.backend.event_processing.plugin_event_multiplexer.EventMultiplexer object at 0x7f11deed1240>\")\n"
     ]
    },
    {
     "name": "stderr",
     "output_type": "stream",
     "text": [
      "[INFO 09-23 21:58:02] ax.core.metric: MetricFetchE INFO: Initialized MetricFetchE(message=\"No 'scalar' data found for trial in multiplexer mul=<tensorboard.backend.event_processing.plugin_event_multiplexer.EventMultiplexer object at 0x7f11deed1240>\")\n"
     ]
    },
    {
     "name": "stderr",
     "output_type": "stream",
     "text": [
      "[INFO 09-23 21:58:02] ax.core.metric: MetricFetchE INFO: Initialized MetricFetchE(message=\"No 'scalar' data found for trial in multiplexer mul=<tensorboard.backend.event_processing.plugin_event_multiplexer.EventMultiplexer object at 0x7f11deed1240>\")\n"
     ]
    },
    {
     "name": "stderr",
     "output_type": "stream",
     "text": [
      "[ERROR 09-23 21:58:02] ax.core.experiment: Discovered Metric fetching Err while attaching data MetricFetchE(message=\"No 'scalar' data found for trial in multiplexer mul=<tensorboard.backend.event_processing.plugin_event_multiplexer.EventMultiplexer object at 0x7f11deed1240>\"). Ignoring for now -- will retry query on next call to fetch.\n"
     ]
    },
    {
     "name": "stderr",
     "output_type": "stream",
     "text": [
      "[ERROR 09-23 21:58:02] ax.core.experiment: Discovered Metric fetching Err while attaching data MetricFetchE(message=\"No 'scalar' data found for trial in multiplexer mul=<tensorboard.backend.event_processing.plugin_event_multiplexer.EventMultiplexer object at 0x7f11deed1240>\"). Ignoring for now -- will retry query on next call to fetch.\n"
     ]
    },
    {
     "name": "stderr",
     "output_type": "stream",
     "text": [
      "[ERROR 09-23 21:58:02] ax.core.experiment: Discovered Metric fetching Err while attaching data MetricFetchE(message=\"No 'scalar' data found for trial in multiplexer mul=<tensorboard.backend.event_processing.plugin_event_multiplexer.EventMultiplexer object at 0x7f11deed1240>\"). Ignoring for now -- will retry query on next call to fetch.\n"
     ]
    },
    {
     "name": "stderr",
     "output_type": "stream",
     "text": [
      "[ERROR 09-23 21:58:02] ax.core.experiment: Discovered Metric fetching Err while attaching data MetricFetchE(message=\"No 'scalar' data found for trial in multiplexer mul=<tensorboard.backend.event_processing.plugin_event_multiplexer.EventMultiplexer object at 0x7f11deed1240>\"). Ignoring for now -- will retry query on next call to fetch.\n"
     ]
    },
    {
     "name": "stderr",
     "output_type": "stream",
     "text": [
      "[ERROR 09-23 21:58:02] ax.core.experiment: Discovered Metric fetching Err while attaching data MetricFetchE(message=\"No 'scalar' data found for trial in multiplexer mul=<tensorboard.backend.event_processing.plugin_event_multiplexer.EventMultiplexer object at 0x7f11deed1240>\"). Ignoring for now -- will retry query on next call to fetch.\n"
     ]
    },
    {
     "name": "stderr",
     "output_type": "stream",
     "text": [
      "[WARNING 09-23 21:58:02] Scheduler: Failed to fetch val_acc for trial 0, found MetricFetchE(message=\"No 'scalar' data found for trial in multiplexer mul=<tensorboard.backend.event_processing.plugin_event_multiplexer.EventMultiplexer object at 0x7f11deed1240>\").\n"
     ]
    },
    {
     "name": "stderr",
     "output_type": "stream",
     "text": [
      "[INFO 09-23 21:58:02] Scheduler: MetricFetchE INFO: Because val_acc is available_while_running and trial 0 is still RUNNING continuing the experiment and retrying on next poll...\n"
     ]
    },
    {
     "name": "stderr",
     "output_type": "stream",
     "text": [
      "[WARNING 09-23 21:58:02] Scheduler: Failed to fetch val_acc for trial 5, found MetricFetchE(message=\"No 'scalar' data found for trial in multiplexer mul=<tensorboard.backend.event_processing.plugin_event_multiplexer.EventMultiplexer object at 0x7f11deed1240>\").\n"
     ]
    },
    {
     "name": "stderr",
     "output_type": "stream",
     "text": [
      "[INFO 09-23 21:58:02] Scheduler: MetricFetchE INFO: Because val_acc is available_while_running and trial 5 is still RUNNING continuing the experiment and retrying on next poll...\n"
     ]
    },
    {
     "name": "stderr",
     "output_type": "stream",
     "text": [
      "[WARNING 09-23 21:58:02] Scheduler: Failed to fetch val_acc for trial 6, found MetricFetchE(message=\"No 'scalar' data found for trial in multiplexer mul=<tensorboard.backend.event_processing.plugin_event_multiplexer.EventMultiplexer object at 0x7f11deed1240>\").\n"
     ]
    },
    {
     "name": "stderr",
     "output_type": "stream",
     "text": [
      "[INFO 09-23 21:58:02] Scheduler: MetricFetchE INFO: Because val_acc is available_while_running and trial 6 is still RUNNING continuing the experiment and retrying on next poll...\n"
     ]
    },
    {
     "name": "stderr",
     "output_type": "stream",
     "text": [
      "[WARNING 09-23 21:58:02] Scheduler: Failed to fetch val_acc for trial 7, found MetricFetchE(message=\"No 'scalar' data found for trial in multiplexer mul=<tensorboard.backend.event_processing.plugin_event_multiplexer.EventMultiplexer object at 0x7f11deed1240>\").\n"
     ]
    },
    {
     "name": "stderr",
     "output_type": "stream",
     "text": [
      "[INFO 09-23 21:58:02] Scheduler: MetricFetchE INFO: Because val_acc is available_while_running and trial 7 is still RUNNING continuing the experiment and retrying on next poll...\n"
     ]
    },
    {
     "name": "stderr",
     "output_type": "stream",
     "text": [
      "[WARNING 09-23 21:58:02] Scheduler: Failed to fetch val_acc for trial 8, found MetricFetchE(message=\"No 'scalar' data found for trial in multiplexer mul=<tensorboard.backend.event_processing.plugin_event_multiplexer.EventMultiplexer object at 0x7f11deed1240>\").\n"
     ]
    },
    {
     "name": "stderr",
     "output_type": "stream",
     "text": [
      "[INFO 09-23 21:58:02] Scheduler: MetricFetchE INFO: Because val_acc is available_while_running and trial 8 is still RUNNING continuing the experiment and retrying on next poll...\n"
     ]
    },
    {
     "name": "stderr",
     "output_type": "stream",
     "text": [
      "[INFO 09-23 21:58:02] ax.early_stopping.strategies.base: PercentileEarlyStoppingStrategy received empty data. Not stopping any trials.\n"
     ]
    },
    {
     "name": "stderr",
     "output_type": "stream",
     "text": [
      "[INFO 09-23 21:58:02] Scheduler: Waiting for completed trials (for 10 sec, currently running trials: 5).\n"
     ]
    },
    {
     "name": "stderr",
     "output_type": "stream",
     "text": [
      "[INFO 09-23 21:58:12] Scheduler: Fetching data for newly completed trials: [].\n"
     ]
    },
    {
     "name": "stderr",
     "output_type": "stream",
     "text": [
      "[INFO 09-23 21:58:12] Scheduler: Fetching data for trials: [0, 5, 6, 7, 8] because some metrics on experiment are available while trials are running.\n"
     ]
    },
    {
     "name": "stderr",
     "output_type": "stream",
     "text": [
      "[INFO 09-23 21:58:12] ax.core.metric: MetricFetchE INFO: Initialized MetricFetchE(message=\"No 'scalar' data found for trial in multiplexer mul=<tensorboard.backend.event_processing.plugin_event_multiplexer.EventMultiplexer object at 0x7f11deed3700>\")\n"
     ]
    },
    {
     "name": "stderr",
     "output_type": "stream",
     "text": [
      "[INFO 09-23 21:58:12] ax.core.metric: MetricFetchE INFO: Initialized MetricFetchE(message=\"No 'scalar' data found for trial in multiplexer mul=<tensorboard.backend.event_processing.plugin_event_multiplexer.EventMultiplexer object at 0x7f11deed3700>\")\n"
     ]
    },
    {
     "name": "stderr",
     "output_type": "stream",
     "text": [
      "[INFO 09-23 21:58:12] ax.core.metric: MetricFetchE INFO: Initialized MetricFetchE(message=\"No 'scalar' data found for trial in multiplexer mul=<tensorboard.backend.event_processing.plugin_event_multiplexer.EventMultiplexer object at 0x7f11deed3700>\")\n"
     ]
    },
    {
     "name": "stderr",
     "output_type": "stream",
     "text": [
      "[INFO 09-23 21:58:12] ax.core.metric: MetricFetchE INFO: Initialized MetricFetchE(message=\"No 'scalar' data found for trial in multiplexer mul=<tensorboard.backend.event_processing.plugin_event_multiplexer.EventMultiplexer object at 0x7f11deed3700>\")\n"
     ]
    },
    {
     "name": "stderr",
     "output_type": "stream",
     "text": [
      "[ERROR 09-23 21:58:12] ax.core.experiment: Discovered Metric fetching Err while attaching data MetricFetchE(message=\"No 'scalar' data found for trial in multiplexer mul=<tensorboard.backend.event_processing.plugin_event_multiplexer.EventMultiplexer object at 0x7f11deed3700>\"). Ignoring for now -- will retry query on next call to fetch.\n"
     ]
    },
    {
     "name": "stderr",
     "output_type": "stream",
     "text": [
      "[ERROR 09-23 21:58:12] ax.core.experiment: Discovered Metric fetching Err while attaching data MetricFetchE(message=\"No 'scalar' data found for trial in multiplexer mul=<tensorboard.backend.event_processing.plugin_event_multiplexer.EventMultiplexer object at 0x7f11deed3700>\"). Ignoring for now -- will retry query on next call to fetch.\n"
     ]
    },
    {
     "name": "stderr",
     "output_type": "stream",
     "text": [
      "[ERROR 09-23 21:58:12] ax.core.experiment: Discovered Metric fetching Err while attaching data MetricFetchE(message=\"No 'scalar' data found for trial in multiplexer mul=<tensorboard.backend.event_processing.plugin_event_multiplexer.EventMultiplexer object at 0x7f11deed3700>\"). Ignoring for now -- will retry query on next call to fetch.\n"
     ]
    },
    {
     "name": "stderr",
     "output_type": "stream",
     "text": [
      "[ERROR 09-23 21:58:12] ax.core.experiment: Discovered Metric fetching Err while attaching data MetricFetchE(message=\"No 'scalar' data found for trial in multiplexer mul=<tensorboard.backend.event_processing.plugin_event_multiplexer.EventMultiplexer object at 0x7f11deed3700>\"). Ignoring for now -- will retry query on next call to fetch.\n"
     ]
    },
    {
     "name": "stderr",
     "output_type": "stream",
     "text": [
      "/tmp/tmp.QqcA7fo0ui/Ax-main/ax/core/map_data.py:195: FutureWarning: The behavior of DataFrame concatenation with empty or all-NA entries is deprecated. In a future version, this will no longer exclude empty or all-NA columns when determining the result dtypes. To retain the old behavior, exclude the relevant entries before the concat operation.\n",
      "  df = pd.concat(\n",
      "[WARNING 09-23 21:58:12] Scheduler: Failed to fetch val_acc for trial 5, found MetricFetchE(message=\"No 'scalar' data found for trial in multiplexer mul=<tensorboard.backend.event_processing.plugin_event_multiplexer.EventMultiplexer object at 0x7f11deed3700>\").\n"
     ]
    },
    {
     "name": "stderr",
     "output_type": "stream",
     "text": [
      "[INFO 09-23 21:58:12] Scheduler: MetricFetchE INFO: Because val_acc is available_while_running and trial 5 is still RUNNING continuing the experiment and retrying on next poll...\n"
     ]
    },
    {
     "name": "stderr",
     "output_type": "stream",
     "text": [
      "[WARNING 09-23 21:58:12] Scheduler: Failed to fetch val_acc for trial 6, found MetricFetchE(message=\"No 'scalar' data found for trial in multiplexer mul=<tensorboard.backend.event_processing.plugin_event_multiplexer.EventMultiplexer object at 0x7f11deed3700>\").\n"
     ]
    },
    {
     "name": "stderr",
     "output_type": "stream",
     "text": [
      "[INFO 09-23 21:58:12] Scheduler: MetricFetchE INFO: Because val_acc is available_while_running and trial 6 is still RUNNING continuing the experiment and retrying on next poll...\n"
     ]
    },
    {
     "name": "stderr",
     "output_type": "stream",
     "text": [
      "[WARNING 09-23 21:58:12] Scheduler: Failed to fetch val_acc for trial 7, found MetricFetchE(message=\"No 'scalar' data found for trial in multiplexer mul=<tensorboard.backend.event_processing.plugin_event_multiplexer.EventMultiplexer object at 0x7f11deed3700>\").\n"
     ]
    },
    {
     "name": "stderr",
     "output_type": "stream",
     "text": [
      "[INFO 09-23 21:58:12] Scheduler: MetricFetchE INFO: Because val_acc is available_while_running and trial 7 is still RUNNING continuing the experiment and retrying on next poll...\n"
     ]
    },
    {
     "name": "stderr",
     "output_type": "stream",
     "text": [
      "[WARNING 09-23 21:58:12] Scheduler: Failed to fetch val_acc for trial 8, found MetricFetchE(message=\"No 'scalar' data found for trial in multiplexer mul=<tensorboard.backend.event_processing.plugin_event_multiplexer.EventMultiplexer object at 0x7f11deed3700>\").\n"
     ]
    },
    {
     "name": "stderr",
     "output_type": "stream",
     "text": [
      "[INFO 09-23 21:58:12] Scheduler: MetricFetchE INFO: Because val_acc is available_while_running and trial 8 is still RUNNING continuing the experiment and retrying on next poll...\n"
     ]
    },
    {
     "name": "stderr",
     "output_type": "stream",
     "text": [
      "/tmp/tmp.QqcA7fo0ui/Ax-main/ax/core/map_data.py:195: FutureWarning: The behavior of DataFrame concatenation with empty or all-NA entries is deprecated. In a future version, this will no longer exclude empty or all-NA columns when determining the result dtypes. To retain the old behavior, exclude the relevant entries before the concat operation.\n",
      "  df = pd.concat(\n",
      "[INFO 09-23 21:58:12] ax.early_stopping.strategies.base: The number of completed trials (0) is less than the minimum number of curves needed for early stopping (5). Not early stopping.\n"
     ]
    },
    {
     "name": "stderr",
     "output_type": "stream",
     "text": [
      "[INFO 09-23 21:58:12] Scheduler: Waiting for completed trials (for 10 sec, currently running trials: 5).\n"
     ]
    },
    {
     "name": "stderr",
     "output_type": "stream",
     "text": [
      "[INFO 09-23 21:58:22] Scheduler: Fetching data for newly completed trials: [].\n"
     ]
    },
    {
     "name": "stderr",
     "output_type": "stream",
     "text": [
      "[INFO 09-23 21:58:22] Scheduler: Fetching data for trials: [0, 5, 6, 7, 8] because some metrics on experiment are available while trials are running.\n"
     ]
    },
    {
     "name": "stderr",
     "output_type": "stream",
     "text": [
      "[INFO 09-23 21:58:22] ax.core.metric: MetricFetchE INFO: Initialized MetricFetchE(message=\"No 'scalar' data found for trial in multiplexer mul=<tensorboard.backend.event_processing.plugin_event_multiplexer.EventMultiplexer object at 0x7f11deed25f0>\")\n"
     ]
    },
    {
     "name": "stderr",
     "output_type": "stream",
     "text": [
      "[INFO 09-23 21:58:22] ax.core.metric: MetricFetchE INFO: Initialized MetricFetchE(message=\"No 'scalar' data found for trial in multiplexer mul=<tensorboard.backend.event_processing.plugin_event_multiplexer.EventMultiplexer object at 0x7f11deed14b0>\")\n"
     ]
    },
    {
     "name": "stderr",
     "output_type": "stream",
     "text": [
      "[INFO 09-23 21:58:22] ax.core.metric: MetricFetchE INFO: Initialized MetricFetchE(message=\"No 'scalar' data found for trial in multiplexer mul=<tensorboard.backend.event_processing.plugin_event_multiplexer.EventMultiplexer object at 0x7f11deed1e10>\")\n"
     ]
    },
    {
     "name": "stderr",
     "output_type": "stream",
     "text": [
      "[INFO 09-23 21:58:22] ax.core.metric: MetricFetchE INFO: Initialized MetricFetchE(message=\"No 'scalar' data found for trial in multiplexer mul=<tensorboard.backend.event_processing.plugin_event_multiplexer.EventMultiplexer object at 0x7f11deed27d0>\")\n"
     ]
    },
    {
     "name": "stderr",
     "output_type": "stream",
     "text": [
      "[ERROR 09-23 21:58:22] ax.core.experiment: Discovered Metric fetching Err while attaching data MetricFetchE(message=\"No 'scalar' data found for trial in multiplexer mul=<tensorboard.backend.event_processing.plugin_event_multiplexer.EventMultiplexer object at 0x7f11deed25f0>\"). Ignoring for now -- will retry query on next call to fetch.\n"
     ]
    },
    {
     "name": "stderr",
     "output_type": "stream",
     "text": [
      "[ERROR 09-23 21:58:22] ax.core.experiment: Discovered Metric fetching Err while attaching data MetricFetchE(message=\"No 'scalar' data found for trial in multiplexer mul=<tensorboard.backend.event_processing.plugin_event_multiplexer.EventMultiplexer object at 0x7f11deed14b0>\"). Ignoring for now -- will retry query on next call to fetch.\n"
     ]
    },
    {
     "name": "stderr",
     "output_type": "stream",
     "text": [
      "[ERROR 09-23 21:58:22] ax.core.experiment: Discovered Metric fetching Err while attaching data MetricFetchE(message=\"No 'scalar' data found for trial in multiplexer mul=<tensorboard.backend.event_processing.plugin_event_multiplexer.EventMultiplexer object at 0x7f11deed1e10>\"). Ignoring for now -- will retry query on next call to fetch.\n"
     ]
    },
    {
     "name": "stderr",
     "output_type": "stream",
     "text": [
      "[ERROR 09-23 21:58:22] ax.core.experiment: Discovered Metric fetching Err while attaching data MetricFetchE(message=\"No 'scalar' data found for trial in multiplexer mul=<tensorboard.backend.event_processing.plugin_event_multiplexer.EventMultiplexer object at 0x7f11deed27d0>\"). Ignoring for now -- will retry query on next call to fetch.\n"
     ]
    },
    {
     "name": "stderr",
     "output_type": "stream",
     "text": [
      "/tmp/tmp.QqcA7fo0ui/Ax-main/ax/core/map_data.py:195: FutureWarning: The behavior of DataFrame concatenation with empty or all-NA entries is deprecated. In a future version, this will no longer exclude empty or all-NA columns when determining the result dtypes. To retain the old behavior, exclude the relevant entries before the concat operation.\n",
      "  df = pd.concat(\n",
      "[WARNING 09-23 21:58:22] Scheduler: Failed to fetch val_acc for trial 5, found MetricFetchE(message=\"No 'scalar' data found for trial in multiplexer mul=<tensorboard.backend.event_processing.plugin_event_multiplexer.EventMultiplexer object at 0x7f11deed25f0>\").\n"
     ]
    },
    {
     "name": "stderr",
     "output_type": "stream",
     "text": [
      "[INFO 09-23 21:58:22] Scheduler: MetricFetchE INFO: Because val_acc is available_while_running and trial 5 is still RUNNING continuing the experiment and retrying on next poll...\n"
     ]
    },
    {
     "name": "stderr",
     "output_type": "stream",
     "text": [
      "[WARNING 09-23 21:58:22] Scheduler: Failed to fetch val_acc for trial 6, found MetricFetchE(message=\"No 'scalar' data found for trial in multiplexer mul=<tensorboard.backend.event_processing.plugin_event_multiplexer.EventMultiplexer object at 0x7f11deed14b0>\").\n"
     ]
    },
    {
     "name": "stderr",
     "output_type": "stream",
     "text": [
      "[INFO 09-23 21:58:22] Scheduler: MetricFetchE INFO: Because val_acc is available_while_running and trial 6 is still RUNNING continuing the experiment and retrying on next poll...\n"
     ]
    },
    {
     "name": "stderr",
     "output_type": "stream",
     "text": [
      "[WARNING 09-23 21:58:22] Scheduler: Failed to fetch val_acc for trial 7, found MetricFetchE(message=\"No 'scalar' data found for trial in multiplexer mul=<tensorboard.backend.event_processing.plugin_event_multiplexer.EventMultiplexer object at 0x7f11deed1e10>\").\n"
     ]
    },
    {
     "name": "stderr",
     "output_type": "stream",
     "text": [
      "[INFO 09-23 21:58:22] Scheduler: MetricFetchE INFO: Because val_acc is available_while_running and trial 7 is still RUNNING continuing the experiment and retrying on next poll...\n"
     ]
    },
    {
     "name": "stderr",
     "output_type": "stream",
     "text": [
      "[WARNING 09-23 21:58:22] Scheduler: Failed to fetch val_acc for trial 8, found MetricFetchE(message=\"No 'scalar' data found for trial in multiplexer mul=<tensorboard.backend.event_processing.plugin_event_multiplexer.EventMultiplexer object at 0x7f11deed27d0>\").\n"
     ]
    },
    {
     "name": "stderr",
     "output_type": "stream",
     "text": [
      "[INFO 09-23 21:58:22] Scheduler: MetricFetchE INFO: Because val_acc is available_while_running and trial 8 is still RUNNING continuing the experiment and retrying on next poll...\n"
     ]
    },
    {
     "name": "stderr",
     "output_type": "stream",
     "text": [
      "/tmp/tmp.QqcA7fo0ui/Ax-main/ax/core/map_data.py:195: FutureWarning: The behavior of DataFrame concatenation with empty or all-NA entries is deprecated. In a future version, this will no longer exclude empty or all-NA columns when determining the result dtypes. To retain the old behavior, exclude the relevant entries before the concat operation.\n",
      "  df = pd.concat(\n",
      "[INFO 09-23 21:58:22] ax.early_stopping.strategies.base: The number of completed trials (0) is less than the minimum number of curves needed for early stopping (5). Not early stopping.\n"
     ]
    },
    {
     "name": "stderr",
     "output_type": "stream",
     "text": [
      "[INFO 09-23 21:58:22] Scheduler: Waiting for completed trials (for 10 sec, currently running trials: 5).\n"
     ]
    },
    {
     "name": "stderr",
     "output_type": "stream",
     "text": [
      "[INFO 09-23 21:58:32] Scheduler: Fetching data for newly completed trials: [].\n"
     ]
    },
    {
     "name": "stderr",
     "output_type": "stream",
     "text": [
      "[INFO 09-23 21:58:32] Scheduler: Fetching data for trials: [0, 5, 6, 7, 8] because some metrics on experiment are available while trials are running.\n"
     ]
    },
    {
     "name": "stderr",
     "output_type": "stream",
     "text": [
      "[INFO 09-23 21:58:32] ax.core.metric: MetricFetchE INFO: Initialized MetricFetchE(message=\"No 'scalar' data found for trial in multiplexer mul=<tensorboard.backend.event_processing.plugin_event_multiplexer.EventMultiplexer object at 0x7f11deed32b0>\")\n"
     ]
    },
    {
     "name": "stderr",
     "output_type": "stream",
     "text": [
      "[INFO 09-23 21:58:32] ax.core.metric: MetricFetchE INFO: Initialized MetricFetchE(message=\"No 'scalar' data found for trial in multiplexer mul=<tensorboard.backend.event_processing.plugin_event_multiplexer.EventMultiplexer object at 0x7f11deed3c10>\")\n"
     ]
    },
    {
     "name": "stderr",
     "output_type": "stream",
     "text": [
      "[INFO 09-23 21:58:32] ax.core.metric: MetricFetchE INFO: Initialized MetricFetchE(message=\"No 'scalar' data found for trial in multiplexer mul=<tensorboard.backend.event_processing.plugin_event_multiplexer.EventMultiplexer object at 0x7f11deed3670>\")\n"
     ]
    },
    {
     "name": "stderr",
     "output_type": "stream",
     "text": [
      "[INFO 09-23 21:58:32] ax.core.metric: MetricFetchE INFO: Initialized MetricFetchE(message=\"No 'scalar' data found for trial in multiplexer mul=<tensorboard.backend.event_processing.plugin_event_multiplexer.EventMultiplexer object at 0x7f11deed2ad0>\")\n"
     ]
    },
    {
     "name": "stderr",
     "output_type": "stream",
     "text": [
      "[ERROR 09-23 21:58:32] ax.core.experiment: Discovered Metric fetching Err while attaching data MetricFetchE(message=\"No 'scalar' data found for trial in multiplexer mul=<tensorboard.backend.event_processing.plugin_event_multiplexer.EventMultiplexer object at 0x7f11deed32b0>\"). Ignoring for now -- will retry query on next call to fetch.\n"
     ]
    },
    {
     "name": "stderr",
     "output_type": "stream",
     "text": [
      "[ERROR 09-23 21:58:32] ax.core.experiment: Discovered Metric fetching Err while attaching data MetricFetchE(message=\"No 'scalar' data found for trial in multiplexer mul=<tensorboard.backend.event_processing.plugin_event_multiplexer.EventMultiplexer object at 0x7f11deed3c10>\"). Ignoring for now -- will retry query on next call to fetch.\n"
     ]
    },
    {
     "name": "stderr",
     "output_type": "stream",
     "text": [
      "[ERROR 09-23 21:58:32] ax.core.experiment: Discovered Metric fetching Err while attaching data MetricFetchE(message=\"No 'scalar' data found for trial in multiplexer mul=<tensorboard.backend.event_processing.plugin_event_multiplexer.EventMultiplexer object at 0x7f11deed3670>\"). Ignoring for now -- will retry query on next call to fetch.\n"
     ]
    },
    {
     "name": "stderr",
     "output_type": "stream",
     "text": [
      "[ERROR 09-23 21:58:32] ax.core.experiment: Discovered Metric fetching Err while attaching data MetricFetchE(message=\"No 'scalar' data found for trial in multiplexer mul=<tensorboard.backend.event_processing.plugin_event_multiplexer.EventMultiplexer object at 0x7f11deed2ad0>\"). Ignoring for now -- will retry query on next call to fetch.\n"
     ]
    },
    {
     "name": "stderr",
     "output_type": "stream",
     "text": [
      "/tmp/tmp.QqcA7fo0ui/Ax-main/ax/core/map_data.py:195: FutureWarning: The behavior of DataFrame concatenation with empty or all-NA entries is deprecated. In a future version, this will no longer exclude empty or all-NA columns when determining the result dtypes. To retain the old behavior, exclude the relevant entries before the concat operation.\n",
      "  df = pd.concat(\n",
      "[WARNING 09-23 21:58:32] Scheduler: Failed to fetch val_acc for trial 5, found MetricFetchE(message=\"No 'scalar' data found for trial in multiplexer mul=<tensorboard.backend.event_processing.plugin_event_multiplexer.EventMultiplexer object at 0x7f11deed32b0>\").\n"
     ]
    },
    {
     "name": "stderr",
     "output_type": "stream",
     "text": [
      "[INFO 09-23 21:58:32] Scheduler: MetricFetchE INFO: Because val_acc is available_while_running and trial 5 is still RUNNING continuing the experiment and retrying on next poll...\n"
     ]
    },
    {
     "name": "stderr",
     "output_type": "stream",
     "text": [
      "[WARNING 09-23 21:58:32] Scheduler: Failed to fetch val_acc for trial 6, found MetricFetchE(message=\"No 'scalar' data found for trial in multiplexer mul=<tensorboard.backend.event_processing.plugin_event_multiplexer.EventMultiplexer object at 0x7f11deed3c10>\").\n"
     ]
    },
    {
     "name": "stderr",
     "output_type": "stream",
     "text": [
      "[INFO 09-23 21:58:32] Scheduler: MetricFetchE INFO: Because val_acc is available_while_running and trial 6 is still RUNNING continuing the experiment and retrying on next poll...\n"
     ]
    },
    {
     "name": "stderr",
     "output_type": "stream",
     "text": [
      "[WARNING 09-23 21:58:32] Scheduler: Failed to fetch val_acc for trial 7, found MetricFetchE(message=\"No 'scalar' data found for trial in multiplexer mul=<tensorboard.backend.event_processing.plugin_event_multiplexer.EventMultiplexer object at 0x7f11deed3670>\").\n"
     ]
    },
    {
     "name": "stderr",
     "output_type": "stream",
     "text": [
      "[INFO 09-23 21:58:32] Scheduler: MetricFetchE INFO: Because val_acc is available_while_running and trial 7 is still RUNNING continuing the experiment and retrying on next poll...\n"
     ]
    },
    {
     "name": "stderr",
     "output_type": "stream",
     "text": [
      "[WARNING 09-23 21:58:32] Scheduler: Failed to fetch val_acc for trial 8, found MetricFetchE(message=\"No 'scalar' data found for trial in multiplexer mul=<tensorboard.backend.event_processing.plugin_event_multiplexer.EventMultiplexer object at 0x7f11deed2ad0>\").\n"
     ]
    },
    {
     "name": "stderr",
     "output_type": "stream",
     "text": [
      "[INFO 09-23 21:58:32] Scheduler: MetricFetchE INFO: Because val_acc is available_while_running and trial 8 is still RUNNING continuing the experiment and retrying on next poll...\n"
     ]
    },
    {
     "name": "stderr",
     "output_type": "stream",
     "text": [
      "/tmp/tmp.QqcA7fo0ui/Ax-main/ax/core/map_data.py:195: FutureWarning: The behavior of DataFrame concatenation with empty or all-NA entries is deprecated. In a future version, this will no longer exclude empty or all-NA columns when determining the result dtypes. To retain the old behavior, exclude the relevant entries before the concat operation.\n",
      "  df = pd.concat(\n",
      "[INFO 09-23 21:58:32] ax.early_stopping.strategies.base: The number of completed trials (0) is less than the minimum number of curves needed for early stopping (5). Not early stopping.\n"
     ]
    },
    {
     "name": "stderr",
     "output_type": "stream",
     "text": [
      "[INFO 09-23 21:58:32] Scheduler: Waiting for completed trials (for 10 sec, currently running trials: 5).\n"
     ]
    },
    {
     "name": "stderr",
     "output_type": "stream",
     "text": [
      "[INFO 09-23 21:58:42] Scheduler: Fetching data for newly completed trials: [].\n"
     ]
    },
    {
     "name": "stderr",
     "output_type": "stream",
     "text": [
      "[INFO 09-23 21:58:42] Scheduler: Fetching data for trials: [0, 5, 6, 7, 8] because some metrics on experiment are available while trials are running.\n"
     ]
    },
    {
     "name": "stderr",
     "output_type": "stream",
     "text": [
      "[INFO 09-23 21:58:42] ax.core.metric: MetricFetchE INFO: Initialized MetricFetchE(message=\"No 'scalar' data found for trial in multiplexer mul=<tensorboard.backend.event_processing.plugin_event_multiplexer.EventMultiplexer object at 0x7f11deed3190>\")\n"
     ]
    },
    {
     "name": "stderr",
     "output_type": "stream",
     "text": [
      "[INFO 09-23 21:58:42] ax.core.metric: MetricFetchE INFO: Initialized MetricFetchE(message=\"No 'scalar' data found for trial in multiplexer mul=<tensorboard.backend.event_processing.plugin_event_multiplexer.EventMultiplexer object at 0x7f11deed3220>\")\n"
     ]
    },
    {
     "name": "stderr",
     "output_type": "stream",
     "text": [
      "[INFO 09-23 21:58:42] ax.core.metric: MetricFetchE INFO: Initialized MetricFetchE(message=\"No 'scalar' data found for trial in multiplexer mul=<tensorboard.backend.event_processing.plugin_event_multiplexer.EventMultiplexer object at 0x7f11deed1240>\")\n"
     ]
    },
    {
     "name": "stderr",
     "output_type": "stream",
     "text": [
      "[ERROR 09-23 21:58:42] ax.core.experiment: Discovered Metric fetching Err while attaching data MetricFetchE(message=\"No 'scalar' data found for trial in multiplexer mul=<tensorboard.backend.event_processing.plugin_event_multiplexer.EventMultiplexer object at 0x7f11deed3190>\"). Ignoring for now -- will retry query on next call to fetch.\n"
     ]
    },
    {
     "name": "stderr",
     "output_type": "stream",
     "text": [
      "[ERROR 09-23 21:58:42] ax.core.experiment: Discovered Metric fetching Err while attaching data MetricFetchE(message=\"No 'scalar' data found for trial in multiplexer mul=<tensorboard.backend.event_processing.plugin_event_multiplexer.EventMultiplexer object at 0x7f11deed3220>\"). Ignoring for now -- will retry query on next call to fetch.\n"
     ]
    },
    {
     "name": "stderr",
     "output_type": "stream",
     "text": [
      "[ERROR 09-23 21:58:42] ax.core.experiment: Discovered Metric fetching Err while attaching data MetricFetchE(message=\"No 'scalar' data found for trial in multiplexer mul=<tensorboard.backend.event_processing.plugin_event_multiplexer.EventMultiplexer object at 0x7f11deed1240>\"). Ignoring for now -- will retry query on next call to fetch.\n"
     ]
    },
    {
     "name": "stderr",
     "output_type": "stream",
     "text": [
      "/tmp/tmp.QqcA7fo0ui/Ax-main/ax/core/map_data.py:195: FutureWarning: The behavior of DataFrame concatenation with empty or all-NA entries is deprecated. In a future version, this will no longer exclude empty or all-NA columns when determining the result dtypes. To retain the old behavior, exclude the relevant entries before the concat operation.\n",
      "  df = pd.concat(\n",
      "[WARNING 09-23 21:58:42] Scheduler: Failed to fetch val_acc for trial 6, found MetricFetchE(message=\"No 'scalar' data found for trial in multiplexer mul=<tensorboard.backend.event_processing.plugin_event_multiplexer.EventMultiplexer object at 0x7f11deed3190>\").\n"
     ]
    },
    {
     "name": "stderr",
     "output_type": "stream",
     "text": [
      "[INFO 09-23 21:58:42] Scheduler: MetricFetchE INFO: Because val_acc is available_while_running and trial 6 is still RUNNING continuing the experiment and retrying on next poll...\n"
     ]
    },
    {
     "name": "stderr",
     "output_type": "stream",
     "text": [
      "[WARNING 09-23 21:58:42] Scheduler: Failed to fetch val_acc for trial 7, found MetricFetchE(message=\"No 'scalar' data found for trial in multiplexer mul=<tensorboard.backend.event_processing.plugin_event_multiplexer.EventMultiplexer object at 0x7f11deed3220>\").\n"
     ]
    },
    {
     "name": "stderr",
     "output_type": "stream",
     "text": [
      "[INFO 09-23 21:58:42] Scheduler: MetricFetchE INFO: Because val_acc is available_while_running and trial 7 is still RUNNING continuing the experiment and retrying on next poll...\n"
     ]
    },
    {
     "name": "stderr",
     "output_type": "stream",
     "text": [
      "[WARNING 09-23 21:58:42] Scheduler: Failed to fetch val_acc for trial 8, found MetricFetchE(message=\"No 'scalar' data found for trial in multiplexer mul=<tensorboard.backend.event_processing.plugin_event_multiplexer.EventMultiplexer object at 0x7f11deed1240>\").\n"
     ]
    },
    {
     "name": "stderr",
     "output_type": "stream",
     "text": [
      "[INFO 09-23 21:58:42] Scheduler: MetricFetchE INFO: Because val_acc is available_while_running and trial 8 is still RUNNING continuing the experiment and retrying on next poll...\n"
     ]
    },
    {
     "name": "stderr",
     "output_type": "stream",
     "text": [
      "/tmp/tmp.QqcA7fo0ui/Ax-main/ax/core/map_data.py:195: FutureWarning: The behavior of DataFrame concatenation with empty or all-NA entries is deprecated. In a future version, this will no longer exclude empty or all-NA columns when determining the result dtypes. To retain the old behavior, exclude the relevant entries before the concat operation.\n",
      "  df = pd.concat(\n"
     ]
    },
    {
     "name": "stderr",
     "output_type": "stream",
     "text": [
      "[INFO 09-23 21:58:43] ax.early_stopping.strategies.base: The number of completed trials (0) is less than the minimum number of curves needed for early stopping (5). Not early stopping.\n"
     ]
    },
    {
     "name": "stderr",
     "output_type": "stream",
     "text": [
      "[INFO 09-23 21:58:43] Scheduler: Waiting for completed trials (for 10 sec, currently running trials: 5).\n"
     ]
    },
    {
     "name": "stderr",
     "output_type": "stream",
     "text": [
      "[INFO 09-23 21:58:53] Scheduler: Fetching data for newly completed trials: [].\n"
     ]
    },
    {
     "name": "stderr",
     "output_type": "stream",
     "text": [
      "[INFO 09-23 21:58:53] Scheduler: Fetching data for trials: [0, 5, 6, 7, 8] because some metrics on experiment are available while trials are running.\n"
     ]
    },
    {
     "name": "stderr",
     "output_type": "stream",
     "text": [
      "/tmp/tmp.QqcA7fo0ui/Ax-main/ax/core/map_data.py:195: FutureWarning: The behavior of DataFrame concatenation with empty or all-NA entries is deprecated. In a future version, this will no longer exclude empty or all-NA columns when determining the result dtypes. To retain the old behavior, exclude the relevant entries before the concat operation.\n",
      "  df = pd.concat(\n",
      "/tmp/tmp.QqcA7fo0ui/Ax-main/ax/core/map_data.py:195: FutureWarning: The behavior of DataFrame concatenation with empty or all-NA entries is deprecated. In a future version, this will no longer exclude empty or all-NA columns when determining the result dtypes. To retain the old behavior, exclude the relevant entries before the concat operation.\n",
      "  df = pd.concat(\n"
     ]
    },
    {
     "name": "stderr",
     "output_type": "stream",
     "text": [
      "[INFO 09-23 21:58:53] ax.early_stopping.strategies.base: The number of completed trials (0) is less than the minimum number of curves needed for early stopping (5). Not early stopping.\n"
     ]
    },
    {
     "name": "stderr",
     "output_type": "stream",
     "text": [
      "[INFO 09-23 21:58:53] Scheduler: Waiting for completed trials (for 10 sec, currently running trials: 5).\n"
     ]
    },
    {
     "name": "stderr",
     "output_type": "stream",
     "text": [
      "[INFO 09-23 21:59:03] Scheduler: Fetching data for newly completed trials: [].\n"
     ]
    },
    {
     "name": "stderr",
     "output_type": "stream",
     "text": [
      "[INFO 09-23 21:59:03] Scheduler: Fetching data for trials: [0, 5, 6, 7, 8] because some metrics on experiment are available while trials are running.\n"
     ]
    },
    {
     "name": "stderr",
     "output_type": "stream",
     "text": [
      "/tmp/tmp.QqcA7fo0ui/Ax-main/ax/core/map_data.py:195: FutureWarning: The behavior of DataFrame concatenation with empty or all-NA entries is deprecated. In a future version, this will no longer exclude empty or all-NA columns when determining the result dtypes. To retain the old behavior, exclude the relevant entries before the concat operation.\n",
      "  df = pd.concat(\n"
     ]
    },
    {
     "name": "stderr",
     "output_type": "stream",
     "text": [
      "/tmp/tmp.QqcA7fo0ui/Ax-main/ax/core/map_data.py:195: FutureWarning: The behavior of DataFrame concatenation with empty or all-NA entries is deprecated. In a future version, this will no longer exclude empty or all-NA columns when determining the result dtypes. To retain the old behavior, exclude the relevant entries before the concat operation.\n",
      "  df = pd.concat(\n",
      "[INFO 09-23 21:59:03] ax.early_stopping.strategies.base: The number of completed trials (0) is less than the minimum number of curves needed for early stopping (5). Not early stopping.\n"
     ]
    },
    {
     "name": "stderr",
     "output_type": "stream",
     "text": [
      "[INFO 09-23 21:59:03] Scheduler: Waiting for completed trials (for 10 sec, currently running trials: 5).\n"
     ]
    },
    {
     "name": "stderr",
     "output_type": "stream",
     "text": [
      "[INFO 09-23 21:59:13] Scheduler: Fetching data for newly completed trials: [].\n"
     ]
    },
    {
     "name": "stderr",
     "output_type": "stream",
     "text": [
      "[INFO 09-23 21:59:13] Scheduler: Fetching data for trials: [0, 5, 6, 7, 8] because some metrics on experiment are available while trials are running.\n"
     ]
    },
    {
     "name": "stderr",
     "output_type": "stream",
     "text": [
      "/tmp/tmp.QqcA7fo0ui/Ax-main/ax/core/map_data.py:195: FutureWarning: The behavior of DataFrame concatenation with empty or all-NA entries is deprecated. In a future version, this will no longer exclude empty or all-NA columns when determining the result dtypes. To retain the old behavior, exclude the relevant entries before the concat operation.\n",
      "  df = pd.concat(\n"
     ]
    },
    {
     "name": "stderr",
     "output_type": "stream",
     "text": [
      "/tmp/tmp.QqcA7fo0ui/Ax-main/ax/core/map_data.py:195: FutureWarning: The behavior of DataFrame concatenation with empty or all-NA entries is deprecated. In a future version, this will no longer exclude empty or all-NA columns when determining the result dtypes. To retain the old behavior, exclude the relevant entries before the concat operation.\n",
      "  df = pd.concat(\n",
      "[INFO 09-23 21:59:13] ax.early_stopping.strategies.base: The number of completed trials (0) is less than the minimum number of curves needed for early stopping (5). Not early stopping.\n"
     ]
    },
    {
     "name": "stderr",
     "output_type": "stream",
     "text": [
      "[INFO 09-23 21:59:13] Scheduler: Waiting for completed trials (for 10 sec, currently running trials: 5).\n"
     ]
    },
    {
     "name": "stderr",
     "output_type": "stream",
     "text": [
      "[INFO 09-23 21:59:23] Scheduler: Fetching data for newly completed trials: [].\n"
     ]
    },
    {
     "name": "stderr",
     "output_type": "stream",
     "text": [
      "[INFO 09-23 21:59:23] Scheduler: Fetching data for trials: [0, 5, 6, 7, 8] because some metrics on experiment are available while trials are running.\n"
     ]
    },
    {
     "name": "stderr",
     "output_type": "stream",
     "text": [
      "/tmp/tmp.QqcA7fo0ui/Ax-main/ax/core/map_data.py:195: FutureWarning: The behavior of DataFrame concatenation with empty or all-NA entries is deprecated. In a future version, this will no longer exclude empty or all-NA columns when determining the result dtypes. To retain the old behavior, exclude the relevant entries before the concat operation.\n",
      "  df = pd.concat(\n"
     ]
    },
    {
     "name": "stderr",
     "output_type": "stream",
     "text": [
      "/tmp/tmp.QqcA7fo0ui/Ax-main/ax/core/map_data.py:195: FutureWarning: The behavior of DataFrame concatenation with empty or all-NA entries is deprecated. In a future version, this will no longer exclude empty or all-NA columns when determining the result dtypes. To retain the old behavior, exclude the relevant entries before the concat operation.\n",
      "  df = pd.concat(\n",
      "[INFO 09-23 21:59:24] ax.early_stopping.strategies.base: The number of completed trials (0) is less than the minimum number of curves needed for early stopping (5). Not early stopping.\n"
     ]
    },
    {
     "name": "stderr",
     "output_type": "stream",
     "text": [
      "[INFO 09-23 21:59:24] Scheduler: Waiting for completed trials (for 10 sec, currently running trials: 5).\n"
     ]
    },
    {
     "name": "stderr",
     "output_type": "stream",
     "text": [
      "[INFO 09-23 21:59:34] Scheduler: Fetching data for newly completed trials: [].\n"
     ]
    },
    {
     "name": "stderr",
     "output_type": "stream",
     "text": [
      "[INFO 09-23 21:59:34] Scheduler: Fetching data for trials: [0, 5, 6, 7, 8] because some metrics on experiment are available while trials are running.\n"
     ]
    },
    {
     "name": "stderr",
     "output_type": "stream",
     "text": [
      "/tmp/tmp.QqcA7fo0ui/Ax-main/ax/core/map_data.py:195: FutureWarning: The behavior of DataFrame concatenation with empty or all-NA entries is deprecated. In a future version, this will no longer exclude empty or all-NA columns when determining the result dtypes. To retain the old behavior, exclude the relevant entries before the concat operation.\n",
      "  df = pd.concat(\n"
     ]
    },
    {
     "name": "stderr",
     "output_type": "stream",
     "text": [
      "/tmp/tmp.QqcA7fo0ui/Ax-main/ax/core/map_data.py:195: FutureWarning: The behavior of DataFrame concatenation with empty or all-NA entries is deprecated. In a future version, this will no longer exclude empty or all-NA columns when determining the result dtypes. To retain the old behavior, exclude the relevant entries before the concat operation.\n",
      "  df = pd.concat(\n",
      "[INFO 09-23 21:59:34] ax.early_stopping.strategies.base: The number of completed trials (0) is less than the minimum number of curves needed for early stopping (5). Not early stopping.\n"
     ]
    },
    {
     "name": "stderr",
     "output_type": "stream",
     "text": [
      "[INFO 09-23 21:59:34] Scheduler: Waiting for completed trials (for 10 sec, currently running trials: 5).\n"
     ]
    },
    {
     "name": "stderr",
     "output_type": "stream",
     "text": [
      "[INFO 09-23 21:59:44] Scheduler: Fetching data for newly completed trials: [].\n"
     ]
    },
    {
     "name": "stderr",
     "output_type": "stream",
     "text": [
      "[INFO 09-23 21:59:44] Scheduler: Fetching data for trials: [0, 5, 6, 7, 8] because some metrics on experiment are available while trials are running.\n"
     ]
    },
    {
     "name": "stderr",
     "output_type": "stream",
     "text": [
      "/tmp/tmp.QqcA7fo0ui/Ax-main/ax/core/map_data.py:195: FutureWarning: The behavior of DataFrame concatenation with empty or all-NA entries is deprecated. In a future version, this will no longer exclude empty or all-NA columns when determining the result dtypes. To retain the old behavior, exclude the relevant entries before the concat operation.\n",
      "  df = pd.concat(\n"
     ]
    },
    {
     "name": "stderr",
     "output_type": "stream",
     "text": [
      "/tmp/tmp.QqcA7fo0ui/Ax-main/ax/core/map_data.py:195: FutureWarning: The behavior of DataFrame concatenation with empty or all-NA entries is deprecated. In a future version, this will no longer exclude empty or all-NA columns when determining the result dtypes. To retain the old behavior, exclude the relevant entries before the concat operation.\n",
      "  df = pd.concat(\n",
      "[INFO 09-23 21:59:44] ax.early_stopping.strategies.base: The number of completed trials (0) is less than the minimum number of curves needed for early stopping (5). Not early stopping.\n"
     ]
    },
    {
     "name": "stderr",
     "output_type": "stream",
     "text": [
      "[INFO 09-23 21:59:44] Scheduler: Waiting for completed trials (for 10 sec, currently running trials: 5).\n"
     ]
    },
    {
     "name": "stderr",
     "output_type": "stream",
     "text": [
      "[INFO 09-23 21:59:54] Scheduler: Fetching data for newly completed trials: [].\n"
     ]
    },
    {
     "name": "stderr",
     "output_type": "stream",
     "text": [
      "[INFO 09-23 21:59:54] Scheduler: Fetching data for trials: [0, 5, 6, 7, 8] because some metrics on experiment are available while trials are running.\n"
     ]
    },
    {
     "name": "stderr",
     "output_type": "stream",
     "text": [
      "/tmp/tmp.QqcA7fo0ui/Ax-main/ax/core/map_data.py:195: FutureWarning: The behavior of DataFrame concatenation with empty or all-NA entries is deprecated. In a future version, this will no longer exclude empty or all-NA columns when determining the result dtypes. To retain the old behavior, exclude the relevant entries before the concat operation.\n",
      "  df = pd.concat(\n"
     ]
    },
    {
     "name": "stderr",
     "output_type": "stream",
     "text": [
      "/tmp/tmp.QqcA7fo0ui/Ax-main/ax/core/map_data.py:195: FutureWarning: The behavior of DataFrame concatenation with empty or all-NA entries is deprecated. In a future version, this will no longer exclude empty or all-NA columns when determining the result dtypes. To retain the old behavior, exclude the relevant entries before the concat operation.\n",
      "  df = pd.concat(\n",
      "[INFO 09-23 21:59:54] ax.early_stopping.strategies.base: The number of completed trials (0) is less than the minimum number of curves needed for early stopping (5). Not early stopping.\n"
     ]
    },
    {
     "name": "stderr",
     "output_type": "stream",
     "text": [
      "[INFO 09-23 21:59:54] Scheduler: Waiting for completed trials (for 10 sec, currently running trials: 5).\n"
     ]
    },
    {
     "name": "stderr",
     "output_type": "stream",
     "text": [
      "[INFO 09-23 22:00:04] Scheduler: Fetching data for newly completed trials: [].\n"
     ]
    },
    {
     "name": "stderr",
     "output_type": "stream",
     "text": [
      "[INFO 09-23 22:00:04] Scheduler: Fetching data for trials: [0, 5, 6, 7, 8] because some metrics on experiment are available while trials are running.\n"
     ]
    },
    {
     "name": "stderr",
     "output_type": "stream",
     "text": [
      "/tmp/tmp.QqcA7fo0ui/Ax-main/ax/core/map_data.py:195: FutureWarning: The behavior of DataFrame concatenation with empty or all-NA entries is deprecated. In a future version, this will no longer exclude empty or all-NA columns when determining the result dtypes. To retain the old behavior, exclude the relevant entries before the concat operation.\n",
      "  df = pd.concat(\n"
     ]
    },
    {
     "name": "stderr",
     "output_type": "stream",
     "text": [
      "/tmp/tmp.QqcA7fo0ui/Ax-main/ax/core/map_data.py:195: FutureWarning: The behavior of DataFrame concatenation with empty or all-NA entries is deprecated. In a future version, this will no longer exclude empty or all-NA columns when determining the result dtypes. To retain the old behavior, exclude the relevant entries before the concat operation.\n",
      "  df = pd.concat(\n",
      "[INFO 09-23 22:00:05] ax.early_stopping.strategies.base: The number of completed trials (0) is less than the minimum number of curves needed for early stopping (5). Not early stopping.\n"
     ]
    },
    {
     "name": "stderr",
     "output_type": "stream",
     "text": [
      "[INFO 09-23 22:00:05] Scheduler: Waiting for completed trials (for 10 sec, currently running trials: 5).\n"
     ]
    },
    {
     "name": "stderr",
     "output_type": "stream",
     "text": [
      "[INFO 09-23 22:00:15] Scheduler: Fetching data for newly completed trials: [].\n"
     ]
    },
    {
     "name": "stderr",
     "output_type": "stream",
     "text": [
      "[INFO 09-23 22:00:15] Scheduler: Fetching data for trials: [0, 5, 6, 7, 8] because some metrics on experiment are available while trials are running.\n"
     ]
    },
    {
     "name": "stderr",
     "output_type": "stream",
     "text": [
      "/tmp/tmp.QqcA7fo0ui/Ax-main/ax/core/map_data.py:195: FutureWarning: The behavior of DataFrame concatenation with empty or all-NA entries is deprecated. In a future version, this will no longer exclude empty or all-NA columns when determining the result dtypes. To retain the old behavior, exclude the relevant entries before the concat operation.\n",
      "  df = pd.concat(\n"
     ]
    },
    {
     "name": "stderr",
     "output_type": "stream",
     "text": [
      "/tmp/tmp.QqcA7fo0ui/Ax-main/ax/core/map_data.py:195: FutureWarning: The behavior of DataFrame concatenation with empty or all-NA entries is deprecated. In a future version, this will no longer exclude empty or all-NA columns when determining the result dtypes. To retain the old behavior, exclude the relevant entries before the concat operation.\n",
      "  df = pd.concat(\n",
      "[INFO 09-23 22:00:15] ax.early_stopping.strategies.base: The number of completed trials (0) is less than the minimum number of curves needed for early stopping (5). Not early stopping.\n"
     ]
    },
    {
     "name": "stderr",
     "output_type": "stream",
     "text": [
      "[INFO 09-23 22:00:15] Scheduler: Waiting for completed trials (for 10 sec, currently running trials: 5).\n"
     ]
    },
    {
     "name": "stderr",
     "output_type": "stream",
     "text": [
      "[INFO 09-23 22:00:25] Scheduler: Fetching data for newly completed trials: [].\n"
     ]
    },
    {
     "name": "stderr",
     "output_type": "stream",
     "text": [
      "[INFO 09-23 22:00:25] Scheduler: Fetching data for trials: [0, 5, 6, 7, 8] because some metrics on experiment are available while trials are running.\n"
     ]
    },
    {
     "name": "stderr",
     "output_type": "stream",
     "text": [
      "/tmp/tmp.QqcA7fo0ui/Ax-main/ax/core/map_data.py:195: FutureWarning: The behavior of DataFrame concatenation with empty or all-NA entries is deprecated. In a future version, this will no longer exclude empty or all-NA columns when determining the result dtypes. To retain the old behavior, exclude the relevant entries before the concat operation.\n",
      "  df = pd.concat(\n"
     ]
    },
    {
     "name": "stderr",
     "output_type": "stream",
     "text": [
      "/tmp/tmp.QqcA7fo0ui/Ax-main/ax/core/map_data.py:195: FutureWarning: The behavior of DataFrame concatenation with empty or all-NA entries is deprecated. In a future version, this will no longer exclude empty or all-NA columns when determining the result dtypes. To retain the old behavior, exclude the relevant entries before the concat operation.\n",
      "  df = pd.concat(\n",
      "[INFO 09-23 22:00:25] ax.early_stopping.strategies.base: The number of completed trials (0) is less than the minimum number of curves needed for early stopping (5). Not early stopping.\n"
     ]
    },
    {
     "name": "stderr",
     "output_type": "stream",
     "text": [
      "[INFO 09-23 22:00:25] Scheduler: Waiting for completed trials (for 10 sec, currently running trials: 5).\n"
     ]
    },
    {
     "name": "stderr",
     "output_type": "stream",
     "text": [
      "[INFO 09-23 22:00:35] Scheduler: Fetching data for newly completed trials: [].\n"
     ]
    },
    {
     "name": "stderr",
     "output_type": "stream",
     "text": [
      "[INFO 09-23 22:00:35] Scheduler: Fetching data for trials: [0, 5, 6, 7, 8] because some metrics on experiment are available while trials are running.\n"
     ]
    },
    {
     "name": "stderr",
     "output_type": "stream",
     "text": [
      "/tmp/tmp.QqcA7fo0ui/Ax-main/ax/core/map_data.py:195: FutureWarning: The behavior of DataFrame concatenation with empty or all-NA entries is deprecated. In a future version, this will no longer exclude empty or all-NA columns when determining the result dtypes. To retain the old behavior, exclude the relevant entries before the concat operation.\n",
      "  df = pd.concat(\n"
     ]
    },
    {
     "name": "stderr",
     "output_type": "stream",
     "text": [
      "/tmp/tmp.QqcA7fo0ui/Ax-main/ax/core/map_data.py:195: FutureWarning: The behavior of DataFrame concatenation with empty or all-NA entries is deprecated. In a future version, this will no longer exclude empty or all-NA columns when determining the result dtypes. To retain the old behavior, exclude the relevant entries before the concat operation.\n",
      "  df = pd.concat(\n",
      "[INFO 09-23 22:00:36] ax.early_stopping.strategies.base: The number of completed trials (0) is less than the minimum number of curves needed for early stopping (5). Not early stopping.\n"
     ]
    },
    {
     "name": "stderr",
     "output_type": "stream",
     "text": [
      "[INFO 09-23 22:00:36] Scheduler: Waiting for completed trials (for 10 sec, currently running trials: 5).\n"
     ]
    },
    {
     "name": "stderr",
     "output_type": "stream",
     "text": [
      "[INFO 09-23 22:00:46] Scheduler: Fetching data for newly completed trials: [].\n"
     ]
    },
    {
     "name": "stderr",
     "output_type": "stream",
     "text": [
      "[INFO 09-23 22:00:46] Scheduler: Fetching data for trials: [0, 5, 6, 7, 8] because some metrics on experiment are available while trials are running.\n"
     ]
    },
    {
     "name": "stderr",
     "output_type": "stream",
     "text": [
      "/tmp/tmp.QqcA7fo0ui/Ax-main/ax/core/map_data.py:195: FutureWarning: The behavior of DataFrame concatenation with empty or all-NA entries is deprecated. In a future version, this will no longer exclude empty or all-NA columns when determining the result dtypes. To retain the old behavior, exclude the relevant entries before the concat operation.\n",
      "  df = pd.concat(\n"
     ]
    },
    {
     "name": "stderr",
     "output_type": "stream",
     "text": [
      "/tmp/tmp.QqcA7fo0ui/Ax-main/ax/core/map_data.py:195: FutureWarning: The behavior of DataFrame concatenation with empty or all-NA entries is deprecated. In a future version, this will no longer exclude empty or all-NA columns when determining the result dtypes. To retain the old behavior, exclude the relevant entries before the concat operation.\n",
      "  df = pd.concat(\n",
      "[INFO 09-23 22:00:46] ax.early_stopping.strategies.base: The number of completed trials (0) is less than the minimum number of curves needed for early stopping (5). Not early stopping.\n"
     ]
    },
    {
     "name": "stderr",
     "output_type": "stream",
     "text": [
      "[INFO 09-23 22:00:46] Scheduler: Waiting for completed trials (for 10 sec, currently running trials: 5).\n"
     ]
    },
    {
     "name": "stderr",
     "output_type": "stream",
     "text": [
      "[INFO 09-23 22:00:56] Scheduler: Fetching data for newly completed trials: [].\n"
     ]
    },
    {
     "name": "stderr",
     "output_type": "stream",
     "text": [
      "[INFO 09-23 22:00:56] Scheduler: Fetching data for trials: [0, 5, 6, 7, 8] because some metrics on experiment are available while trials are running.\n"
     ]
    },
    {
     "name": "stderr",
     "output_type": "stream",
     "text": [
      "/tmp/tmp.QqcA7fo0ui/Ax-main/ax/core/map_data.py:195: FutureWarning: The behavior of DataFrame concatenation with empty or all-NA entries is deprecated. In a future version, this will no longer exclude empty or all-NA columns when determining the result dtypes. To retain the old behavior, exclude the relevant entries before the concat operation.\n",
      "  df = pd.concat(\n"
     ]
    },
    {
     "name": "stderr",
     "output_type": "stream",
     "text": [
      "/tmp/tmp.QqcA7fo0ui/Ax-main/ax/core/map_data.py:195: FutureWarning: The behavior of DataFrame concatenation with empty or all-NA entries is deprecated. In a future version, this will no longer exclude empty or all-NA columns when determining the result dtypes. To retain the old behavior, exclude the relevant entries before the concat operation.\n",
      "  df = pd.concat(\n",
      "[INFO 09-23 22:00:56] ax.early_stopping.strategies.base: The number of completed trials (0) is less than the minimum number of curves needed for early stopping (5). Not early stopping.\n"
     ]
    },
    {
     "name": "stderr",
     "output_type": "stream",
     "text": [
      "[INFO 09-23 22:00:56] Scheduler: Waiting for completed trials (for 10 sec, currently running trials: 5).\n"
     ]
    },
    {
     "name": "stderr",
     "output_type": "stream",
     "text": [
      "[INFO 09-23 22:01:06] Scheduler: Fetching data for newly completed trials: [].\n"
     ]
    },
    {
     "name": "stderr",
     "output_type": "stream",
     "text": [
      "[INFO 09-23 22:01:06] Scheduler: Fetching data for trials: [0, 5, 6, 7, 8] because some metrics on experiment are available while trials are running.\n"
     ]
    },
    {
     "name": "stderr",
     "output_type": "stream",
     "text": [
      "/tmp/tmp.QqcA7fo0ui/Ax-main/ax/core/map_data.py:195: FutureWarning: The behavior of DataFrame concatenation with empty or all-NA entries is deprecated. In a future version, this will no longer exclude empty or all-NA columns when determining the result dtypes. To retain the old behavior, exclude the relevant entries before the concat operation.\n",
      "  df = pd.concat(\n"
     ]
    },
    {
     "name": "stderr",
     "output_type": "stream",
     "text": [
      "/tmp/tmp.QqcA7fo0ui/Ax-main/ax/core/map_data.py:195: FutureWarning: The behavior of DataFrame concatenation with empty or all-NA entries is deprecated. In a future version, this will no longer exclude empty or all-NA columns when determining the result dtypes. To retain the old behavior, exclude the relevant entries before the concat operation.\n",
      "  df = pd.concat(\n",
      "[INFO 09-23 22:01:06] ax.early_stopping.strategies.base: The number of completed trials (0) is less than the minimum number of curves needed for early stopping (5). Not early stopping.\n"
     ]
    },
    {
     "name": "stderr",
     "output_type": "stream",
     "text": [
      "[INFO 09-23 22:01:06] Scheduler: Waiting for completed trials (for 10 sec, currently running trials: 5).\n"
     ]
    },
    {
     "name": "stderr",
     "output_type": "stream",
     "text": [
      "[INFO 09-23 22:01:16] Scheduler: Fetching data for newly completed trials: [].\n"
     ]
    },
    {
     "name": "stderr",
     "output_type": "stream",
     "text": [
      "[INFO 09-23 22:01:16] Scheduler: Fetching data for trials: [0, 5, 6, 7, 8] because some metrics on experiment are available while trials are running.\n"
     ]
    },
    {
     "name": "stderr",
     "output_type": "stream",
     "text": [
      "/tmp/tmp.QqcA7fo0ui/Ax-main/ax/core/map_data.py:195: FutureWarning: The behavior of DataFrame concatenation with empty or all-NA entries is deprecated. In a future version, this will no longer exclude empty or all-NA columns when determining the result dtypes. To retain the old behavior, exclude the relevant entries before the concat operation.\n",
      "  df = pd.concat(\n"
     ]
    },
    {
     "name": "stderr",
     "output_type": "stream",
     "text": [
      "/tmp/tmp.QqcA7fo0ui/Ax-main/ax/core/map_data.py:195: FutureWarning: The behavior of DataFrame concatenation with empty or all-NA entries is deprecated. In a future version, this will no longer exclude empty or all-NA columns when determining the result dtypes. To retain the old behavior, exclude the relevant entries before the concat operation.\n",
      "  df = pd.concat(\n",
      "[INFO 09-23 22:01:17] ax.early_stopping.strategies.base: The number of completed trials (0) is less than the minimum number of curves needed for early stopping (5). Not early stopping.\n"
     ]
    },
    {
     "name": "stderr",
     "output_type": "stream",
     "text": [
      "[INFO 09-23 22:01:17] Scheduler: Waiting for completed trials (for 10 sec, currently running trials: 5).\n"
     ]
    },
    {
     "name": "stderr",
     "output_type": "stream",
     "text": [
      "[INFO 09-23 22:01:27] Scheduler: Fetching data for newly completed trials: [].\n"
     ]
    },
    {
     "name": "stderr",
     "output_type": "stream",
     "text": [
      "[INFO 09-23 22:01:27] Scheduler: Fetching data for trials: [0, 5, 6, 7, 8] because some metrics on experiment are available while trials are running.\n"
     ]
    },
    {
     "name": "stderr",
     "output_type": "stream",
     "text": [
      "/tmp/tmp.QqcA7fo0ui/Ax-main/ax/core/map_data.py:195: FutureWarning: The behavior of DataFrame concatenation with empty or all-NA entries is deprecated. In a future version, this will no longer exclude empty or all-NA columns when determining the result dtypes. To retain the old behavior, exclude the relevant entries before the concat operation.\n",
      "  df = pd.concat(\n"
     ]
    },
    {
     "name": "stderr",
     "output_type": "stream",
     "text": [
      "/tmp/tmp.QqcA7fo0ui/Ax-main/ax/core/map_data.py:195: FutureWarning: The behavior of DataFrame concatenation with empty or all-NA entries is deprecated. In a future version, this will no longer exclude empty or all-NA columns when determining the result dtypes. To retain the old behavior, exclude the relevant entries before the concat operation.\n",
      "  df = pd.concat(\n",
      "[INFO 09-23 22:01:27] ax.early_stopping.strategies.base: The number of completed trials (0) is less than the minimum number of curves needed for early stopping (5). Not early stopping.\n"
     ]
    },
    {
     "name": "stderr",
     "output_type": "stream",
     "text": [
      "[INFO 09-23 22:01:27] Scheduler: Waiting for completed trials (for 10 sec, currently running trials: 5).\n"
     ]
    },
    {
     "name": "stderr",
     "output_type": "stream",
     "text": [
      "[INFO 09-23 22:01:37] Scheduler: Fetching data for newly completed trials: [].\n"
     ]
    },
    {
     "name": "stderr",
     "output_type": "stream",
     "text": [
      "[INFO 09-23 22:01:37] Scheduler: Fetching data for trials: [0, 5, 6, 7, 8] because some metrics on experiment are available while trials are running.\n"
     ]
    },
    {
     "name": "stderr",
     "output_type": "stream",
     "text": [
      "/tmp/tmp.QqcA7fo0ui/Ax-main/ax/core/map_data.py:195: FutureWarning: The behavior of DataFrame concatenation with empty or all-NA entries is deprecated. In a future version, this will no longer exclude empty or all-NA columns when determining the result dtypes. To retain the old behavior, exclude the relevant entries before the concat operation.\n",
      "  df = pd.concat(\n"
     ]
    },
    {
     "name": "stderr",
     "output_type": "stream",
     "text": [
      "/tmp/tmp.QqcA7fo0ui/Ax-main/ax/core/map_data.py:195: FutureWarning: The behavior of DataFrame concatenation with empty or all-NA entries is deprecated. In a future version, this will no longer exclude empty or all-NA columns when determining the result dtypes. To retain the old behavior, exclude the relevant entries before the concat operation.\n",
      "  df = pd.concat(\n",
      "[INFO 09-23 22:01:37] ax.early_stopping.strategies.base: The number of completed trials (0) is less than the minimum number of curves needed for early stopping (5). Not early stopping.\n"
     ]
    },
    {
     "name": "stderr",
     "output_type": "stream",
     "text": [
      "[INFO 09-23 22:01:37] Scheduler: Waiting for completed trials (for 10 sec, currently running trials: 5).\n"
     ]
    },
    {
     "name": "stderr",
     "output_type": "stream",
     "text": [
      "[INFO 09-23 22:01:47] Scheduler: Fetching data for newly completed trials: [].\n"
     ]
    },
    {
     "name": "stderr",
     "output_type": "stream",
     "text": [
      "[INFO 09-23 22:01:47] Scheduler: Fetching data for trials: [0, 5, 6, 7, 8] because some metrics on experiment are available while trials are running.\n"
     ]
    },
    {
     "name": "stderr",
     "output_type": "stream",
     "text": [
      "/tmp/tmp.QqcA7fo0ui/Ax-main/ax/core/map_data.py:195: FutureWarning: The behavior of DataFrame concatenation with empty or all-NA entries is deprecated. In a future version, this will no longer exclude empty or all-NA columns when determining the result dtypes. To retain the old behavior, exclude the relevant entries before the concat operation.\n",
      "  df = pd.concat(\n"
     ]
    },
    {
     "name": "stderr",
     "output_type": "stream",
     "text": [
      "/tmp/tmp.QqcA7fo0ui/Ax-main/ax/core/map_data.py:195: FutureWarning: The behavior of DataFrame concatenation with empty or all-NA entries is deprecated. In a future version, this will no longer exclude empty or all-NA columns when determining the result dtypes. To retain the old behavior, exclude the relevant entries before the concat operation.\n",
      "  df = pd.concat(\n",
      "[INFO 09-23 22:01:48] ax.early_stopping.strategies.base: The number of completed trials (0) is less than the minimum number of curves needed for early stopping (5). Not early stopping.\n"
     ]
    },
    {
     "name": "stderr",
     "output_type": "stream",
     "text": [
      "[INFO 09-23 22:01:48] Scheduler: Waiting for completed trials (for 10 sec, currently running trials: 5).\n"
     ]
    },
    {
     "name": "stderr",
     "output_type": "stream",
     "text": [
      "[INFO 09-23 22:01:58] Scheduler: Fetching data for newly completed trials: [].\n"
     ]
    },
    {
     "name": "stderr",
     "output_type": "stream",
     "text": [
      "[INFO 09-23 22:01:58] Scheduler: Fetching data for trials: [0, 5, 6, 7, 8] because some metrics on experiment are available while trials are running.\n"
     ]
    },
    {
     "name": "stderr",
     "output_type": "stream",
     "text": [
      "/tmp/tmp.QqcA7fo0ui/Ax-main/ax/core/map_data.py:195: FutureWarning: The behavior of DataFrame concatenation with empty or all-NA entries is deprecated. In a future version, this will no longer exclude empty or all-NA columns when determining the result dtypes. To retain the old behavior, exclude the relevant entries before the concat operation.\n",
      "  df = pd.concat(\n"
     ]
    },
    {
     "name": "stderr",
     "output_type": "stream",
     "text": [
      "/tmp/tmp.QqcA7fo0ui/Ax-main/ax/core/map_data.py:195: FutureWarning: The behavior of DataFrame concatenation with empty or all-NA entries is deprecated. In a future version, this will no longer exclude empty or all-NA columns when determining the result dtypes. To retain the old behavior, exclude the relevant entries before the concat operation.\n",
      "  df = pd.concat(\n",
      "[INFO 09-23 22:01:58] ax.early_stopping.strategies.base: The number of completed trials (0) is less than the minimum number of curves needed for early stopping (5). Not early stopping.\n"
     ]
    },
    {
     "name": "stderr",
     "output_type": "stream",
     "text": [
      "[INFO 09-23 22:01:58] Scheduler: Waiting for completed trials (for 10 sec, currently running trials: 5).\n"
     ]
    },
    {
     "name": "stderr",
     "output_type": "stream",
     "text": [
      "[INFO 09-23 22:02:08] Scheduler: Fetching data for newly completed trials: [].\n"
     ]
    },
    {
     "name": "stderr",
     "output_type": "stream",
     "text": [
      "[INFO 09-23 22:02:08] Scheduler: Fetching data for trials: [0, 5, 6, 7, 8] because some metrics on experiment are available while trials are running.\n"
     ]
    },
    {
     "name": "stderr",
     "output_type": "stream",
     "text": [
      "/tmp/tmp.QqcA7fo0ui/Ax-main/ax/core/map_data.py:195: FutureWarning: The behavior of DataFrame concatenation with empty or all-NA entries is deprecated. In a future version, this will no longer exclude empty or all-NA columns when determining the result dtypes. To retain the old behavior, exclude the relevant entries before the concat operation.\n",
      "  df = pd.concat(\n"
     ]
    },
    {
     "name": "stderr",
     "output_type": "stream",
     "text": [
      "/tmp/tmp.QqcA7fo0ui/Ax-main/ax/core/map_data.py:195: FutureWarning: The behavior of DataFrame concatenation with empty or all-NA entries is deprecated. In a future version, this will no longer exclude empty or all-NA columns when determining the result dtypes. To retain the old behavior, exclude the relevant entries before the concat operation.\n",
      "  df = pd.concat(\n",
      "[INFO 09-23 22:02:08] ax.early_stopping.strategies.base: The number of completed trials (0) is less than the minimum number of curves needed for early stopping (5). Not early stopping.\n"
     ]
    },
    {
     "name": "stderr",
     "output_type": "stream",
     "text": [
      "[INFO 09-23 22:02:08] Scheduler: Waiting for completed trials (for 10 sec, currently running trials: 5).\n"
     ]
    },
    {
     "name": "stderr",
     "output_type": "stream",
     "text": [
      "[INFO 09-23 22:02:18] Scheduler: Fetching data for newly completed trials: [].\n"
     ]
    },
    {
     "name": "stderr",
     "output_type": "stream",
     "text": [
      "[INFO 09-23 22:02:18] Scheduler: Fetching data for trials: [0, 5, 6, 7, 8] because some metrics on experiment are available while trials are running.\n"
     ]
    },
    {
     "name": "stderr",
     "output_type": "stream",
     "text": [
      "/tmp/tmp.QqcA7fo0ui/Ax-main/ax/core/map_data.py:195: FutureWarning: The behavior of DataFrame concatenation with empty or all-NA entries is deprecated. In a future version, this will no longer exclude empty or all-NA columns when determining the result dtypes. To retain the old behavior, exclude the relevant entries before the concat operation.\n",
      "  df = pd.concat(\n",
      "/tmp/tmp.QqcA7fo0ui/Ax-main/ax/core/map_data.py:195: FutureWarning: The behavior of DataFrame concatenation with empty or all-NA entries is deprecated. In a future version, this will no longer exclude empty or all-NA columns when determining the result dtypes. To retain the old behavior, exclude the relevant entries before the concat operation.\n",
      "  df = pd.concat(\n"
     ]
    },
    {
     "name": "stderr",
     "output_type": "stream",
     "text": [
      "[INFO 09-23 22:02:18] ax.early_stopping.strategies.base: The number of completed trials (0) is less than the minimum number of curves needed for early stopping (5). Not early stopping.\n"
     ]
    },
    {
     "name": "stderr",
     "output_type": "stream",
     "text": [
      "[INFO 09-23 22:02:18] Scheduler: Waiting for completed trials (for 10 sec, currently running trials: 5).\n"
     ]
    },
    {
     "name": "stderr",
     "output_type": "stream",
     "text": [
      "[INFO 09-23 22:02:28] Scheduler: Fetching data for newly completed trials: [].\n"
     ]
    },
    {
     "name": "stderr",
     "output_type": "stream",
     "text": [
      "[INFO 09-23 22:02:28] Scheduler: Fetching data for trials: [0, 5, 6, 7, 8] because some metrics on experiment are available while trials are running.\n"
     ]
    },
    {
     "name": "stderr",
     "output_type": "stream",
     "text": [
      "/tmp/tmp.QqcA7fo0ui/Ax-main/ax/core/map_data.py:195: FutureWarning: The behavior of DataFrame concatenation with empty or all-NA entries is deprecated. In a future version, this will no longer exclude empty or all-NA columns when determining the result dtypes. To retain the old behavior, exclude the relevant entries before the concat operation.\n",
      "  df = pd.concat(\n"
     ]
    },
    {
     "name": "stderr",
     "output_type": "stream",
     "text": [
      "/tmp/tmp.QqcA7fo0ui/Ax-main/ax/core/map_data.py:195: FutureWarning: The behavior of DataFrame concatenation with empty or all-NA entries is deprecated. In a future version, this will no longer exclude empty or all-NA columns when determining the result dtypes. To retain the old behavior, exclude the relevant entries before the concat operation.\n",
      "  df = pd.concat(\n",
      "[INFO 09-23 22:02:29] ax.early_stopping.strategies.base: The number of completed trials (0) is less than the minimum number of curves needed for early stopping (5). Not early stopping.\n"
     ]
    },
    {
     "name": "stderr",
     "output_type": "stream",
     "text": [
      "[INFO 09-23 22:02:29] Scheduler: Waiting for completed trials (for 10 sec, currently running trials: 5).\n"
     ]
    },
    {
     "name": "stderr",
     "output_type": "stream",
     "text": [
      "[INFO 09-23 22:02:39] Scheduler: Fetching data for newly completed trials: [].\n"
     ]
    },
    {
     "name": "stderr",
     "output_type": "stream",
     "text": [
      "[INFO 09-23 22:02:39] Scheduler: Fetching data for trials: [0, 5, 6, 7, 8] because some metrics on experiment are available while trials are running.\n"
     ]
    },
    {
     "name": "stderr",
     "output_type": "stream",
     "text": [
      "/tmp/tmp.QqcA7fo0ui/Ax-main/ax/core/map_data.py:195: FutureWarning: The behavior of DataFrame concatenation with empty or all-NA entries is deprecated. In a future version, this will no longer exclude empty or all-NA columns when determining the result dtypes. To retain the old behavior, exclude the relevant entries before the concat operation.\n",
      "  df = pd.concat(\n"
     ]
    },
    {
     "name": "stderr",
     "output_type": "stream",
     "text": [
      "/tmp/tmp.QqcA7fo0ui/Ax-main/ax/core/map_data.py:195: FutureWarning: The behavior of DataFrame concatenation with empty or all-NA entries is deprecated. In a future version, this will no longer exclude empty or all-NA columns when determining the result dtypes. To retain the old behavior, exclude the relevant entries before the concat operation.\n",
      "  df = pd.concat(\n",
      "[INFO 09-23 22:02:39] ax.early_stopping.strategies.base: The number of completed trials (0) is less than the minimum number of curves needed for early stopping (5). Not early stopping.\n"
     ]
    },
    {
     "name": "stderr",
     "output_type": "stream",
     "text": [
      "[INFO 09-23 22:02:39] Scheduler: Waiting for completed trials (for 10 sec, currently running trials: 5).\n"
     ]
    },
    {
     "name": "stderr",
     "output_type": "stream",
     "text": [
      "[INFO 09-23 22:02:49] Scheduler: Fetching data for newly completed trials: [].\n"
     ]
    },
    {
     "name": "stderr",
     "output_type": "stream",
     "text": [
      "[INFO 09-23 22:02:49] Scheduler: Fetching data for trials: [0, 5, 6, 7, 8] because some metrics on experiment are available while trials are running.\n"
     ]
    },
    {
     "name": "stderr",
     "output_type": "stream",
     "text": [
      "/tmp/tmp.QqcA7fo0ui/Ax-main/ax/core/map_data.py:195: FutureWarning: The behavior of DataFrame concatenation with empty or all-NA entries is deprecated. In a future version, this will no longer exclude empty or all-NA columns when determining the result dtypes. To retain the old behavior, exclude the relevant entries before the concat operation.\n",
      "  df = pd.concat(\n"
     ]
    },
    {
     "name": "stderr",
     "output_type": "stream",
     "text": [
      "/tmp/tmp.QqcA7fo0ui/Ax-main/ax/core/map_data.py:195: FutureWarning: The behavior of DataFrame concatenation with empty or all-NA entries is deprecated. In a future version, this will no longer exclude empty or all-NA columns when determining the result dtypes. To retain the old behavior, exclude the relevant entries before the concat operation.\n",
      "  df = pd.concat(\n",
      "[INFO 09-23 22:02:49] ax.early_stopping.strategies.base: The number of completed trials (0) is less than the minimum number of curves needed for early stopping (5). Not early stopping.\n"
     ]
    },
    {
     "name": "stderr",
     "output_type": "stream",
     "text": [
      "[INFO 09-23 22:02:49] Scheduler: Waiting for completed trials (for 10 sec, currently running trials: 5).\n"
     ]
    },
    {
     "name": "stderr",
     "output_type": "stream",
     "text": [
      "[INFO 09-23 22:02:59] Scheduler: Fetching data for newly completed trials: [].\n"
     ]
    },
    {
     "name": "stderr",
     "output_type": "stream",
     "text": [
      "[INFO 09-23 22:02:59] Scheduler: Fetching data for trials: [0, 5, 6, 7, 8] because some metrics on experiment are available while trials are running.\n"
     ]
    },
    {
     "name": "stderr",
     "output_type": "stream",
     "text": [
      "/tmp/tmp.QqcA7fo0ui/Ax-main/ax/core/map_data.py:195: FutureWarning: The behavior of DataFrame concatenation with empty or all-NA entries is deprecated. In a future version, this will no longer exclude empty or all-NA columns when determining the result dtypes. To retain the old behavior, exclude the relevant entries before the concat operation.\n",
      "  df = pd.concat(\n"
     ]
    },
    {
     "name": "stderr",
     "output_type": "stream",
     "text": [
      "/tmp/tmp.QqcA7fo0ui/Ax-main/ax/core/map_data.py:195: FutureWarning: The behavior of DataFrame concatenation with empty or all-NA entries is deprecated. In a future version, this will no longer exclude empty or all-NA columns when determining the result dtypes. To retain the old behavior, exclude the relevant entries before the concat operation.\n",
      "  df = pd.concat(\n",
      "[INFO 09-23 22:02:59] ax.early_stopping.strategies.base: The number of completed trials (0) is less than the minimum number of curves needed for early stopping (5). Not early stopping.\n"
     ]
    },
    {
     "name": "stderr",
     "output_type": "stream",
     "text": [
      "[INFO 09-23 22:02:59] Scheduler: Waiting for completed trials (for 10 sec, currently running trials: 5).\n"
     ]
    },
    {
     "name": "stderr",
     "output_type": "stream",
     "text": [
      "[INFO 09-23 22:03:09] Scheduler: Fetching data for newly completed trials: [].\n"
     ]
    },
    {
     "name": "stderr",
     "output_type": "stream",
     "text": [
      "[INFO 09-23 22:03:09] Scheduler: Fetching data for trials: [0, 5, 6, 7, 8] because some metrics on experiment are available while trials are running.\n"
     ]
    },
    {
     "name": "stderr",
     "output_type": "stream",
     "text": [
      "/tmp/tmp.QqcA7fo0ui/Ax-main/ax/core/map_data.py:195: FutureWarning: The behavior of DataFrame concatenation with empty or all-NA entries is deprecated. In a future version, this will no longer exclude empty or all-NA columns when determining the result dtypes. To retain the old behavior, exclude the relevant entries before the concat operation.\n",
      "  df = pd.concat(\n"
     ]
    },
    {
     "name": "stderr",
     "output_type": "stream",
     "text": [
      "/tmp/tmp.QqcA7fo0ui/Ax-main/ax/core/map_data.py:195: FutureWarning: The behavior of DataFrame concatenation with empty or all-NA entries is deprecated. In a future version, this will no longer exclude empty or all-NA columns when determining the result dtypes. To retain the old behavior, exclude the relevant entries before the concat operation.\n",
      "  df = pd.concat(\n",
      "[INFO 09-23 22:03:10] ax.early_stopping.strategies.base: The number of completed trials (0) is less than the minimum number of curves needed for early stopping (5). Not early stopping.\n"
     ]
    },
    {
     "name": "stderr",
     "output_type": "stream",
     "text": [
      "[INFO 09-23 22:03:10] Scheduler: Waiting for completed trials (for 10 sec, currently running trials: 5).\n"
     ]
    },
    {
     "name": "stderr",
     "output_type": "stream",
     "text": [
      "[INFO 09-23 22:03:20] Scheduler: Fetching data for newly completed trials: [].\n"
     ]
    },
    {
     "name": "stderr",
     "output_type": "stream",
     "text": [
      "[INFO 09-23 22:03:20] Scheduler: Fetching data for trials: [0, 5, 6, 7, 8] because some metrics on experiment are available while trials are running.\n"
     ]
    },
    {
     "name": "stderr",
     "output_type": "stream",
     "text": [
      "/tmp/tmp.QqcA7fo0ui/Ax-main/ax/core/map_data.py:195: FutureWarning: The behavior of DataFrame concatenation with empty or all-NA entries is deprecated. In a future version, this will no longer exclude empty or all-NA columns when determining the result dtypes. To retain the old behavior, exclude the relevant entries before the concat operation.\n",
      "  df = pd.concat(\n"
     ]
    },
    {
     "name": "stderr",
     "output_type": "stream",
     "text": [
      "/tmp/tmp.QqcA7fo0ui/Ax-main/ax/core/map_data.py:195: FutureWarning: The behavior of DataFrame concatenation with empty or all-NA entries is deprecated. In a future version, this will no longer exclude empty or all-NA columns when determining the result dtypes. To retain the old behavior, exclude the relevant entries before the concat operation.\n",
      "  df = pd.concat(\n",
      "[INFO 09-23 22:03:20] ax.early_stopping.strategies.base: The number of completed trials (0) is less than the minimum number of curves needed for early stopping (5). Not early stopping.\n"
     ]
    },
    {
     "name": "stderr",
     "output_type": "stream",
     "text": [
      "[INFO 09-23 22:03:20] Scheduler: Waiting for completed trials (for 10 sec, currently running trials: 5).\n"
     ]
    },
    {
     "name": "stderr",
     "output_type": "stream",
     "text": [
      "[INFO 09-23 22:03:30] Scheduler: Fetching data for newly completed trials: [].\n"
     ]
    },
    {
     "name": "stderr",
     "output_type": "stream",
     "text": [
      "[INFO 09-23 22:03:30] Scheduler: Fetching data for trials: [0, 5, 6, 7, 8] because some metrics on experiment are available while trials are running.\n"
     ]
    },
    {
     "name": "stderr",
     "output_type": "stream",
     "text": [
      "/tmp/tmp.QqcA7fo0ui/Ax-main/ax/core/map_data.py:195: FutureWarning: The behavior of DataFrame concatenation with empty or all-NA entries is deprecated. In a future version, this will no longer exclude empty or all-NA columns when determining the result dtypes. To retain the old behavior, exclude the relevant entries before the concat operation.\n",
      "  df = pd.concat(\n"
     ]
    },
    {
     "name": "stderr",
     "output_type": "stream",
     "text": [
      "/tmp/tmp.QqcA7fo0ui/Ax-main/ax/core/map_data.py:195: FutureWarning: The behavior of DataFrame concatenation with empty or all-NA entries is deprecated. In a future version, this will no longer exclude empty or all-NA columns when determining the result dtypes. To retain the old behavior, exclude the relevant entries before the concat operation.\n",
      "  df = pd.concat(\n",
      "[INFO 09-23 22:03:30] ax.early_stopping.strategies.base: The number of completed trials (0) is less than the minimum number of curves needed for early stopping (5). Not early stopping.\n"
     ]
    },
    {
     "name": "stderr",
     "output_type": "stream",
     "text": [
      "[INFO 09-23 22:03:30] Scheduler: Waiting for completed trials (for 10 sec, currently running trials: 5).\n"
     ]
    },
    {
     "name": "stderr",
     "output_type": "stream",
     "text": [
      "[INFO 09-23 22:03:40] Scheduler: Fetching data for newly completed trials: [].\n"
     ]
    },
    {
     "name": "stderr",
     "output_type": "stream",
     "text": [
      "[INFO 09-23 22:03:40] Scheduler: Fetching data for trials: [0, 5, 6, 7, 8] because some metrics on experiment are available while trials are running.\n"
     ]
    },
    {
     "name": "stderr",
     "output_type": "stream",
     "text": [
      "/tmp/tmp.QqcA7fo0ui/Ax-main/ax/core/map_data.py:195: FutureWarning: The behavior of DataFrame concatenation with empty or all-NA entries is deprecated. In a future version, this will no longer exclude empty or all-NA columns when determining the result dtypes. To retain the old behavior, exclude the relevant entries before the concat operation.\n",
      "  df = pd.concat(\n"
     ]
    },
    {
     "name": "stderr",
     "output_type": "stream",
     "text": [
      "/tmp/tmp.QqcA7fo0ui/Ax-main/ax/core/map_data.py:195: FutureWarning: The behavior of DataFrame concatenation with empty or all-NA entries is deprecated. In a future version, this will no longer exclude empty or all-NA columns when determining the result dtypes. To retain the old behavior, exclude the relevant entries before the concat operation.\n",
      "  df = pd.concat(\n",
      "[INFO 09-23 22:03:41] ax.early_stopping.strategies.base: The number of completed trials (0) is less than the minimum number of curves needed for early stopping (5). Not early stopping.\n"
     ]
    },
    {
     "name": "stderr",
     "output_type": "stream",
     "text": [
      "[INFO 09-23 22:03:41] Scheduler: Waiting for completed trials (for 10 sec, currently running trials: 5).\n"
     ]
    },
    {
     "name": "stderr",
     "output_type": "stream",
     "text": [
      "[INFO 09-23 22:03:51] Scheduler: Fetching data for newly completed trials: [].\n"
     ]
    },
    {
     "name": "stderr",
     "output_type": "stream",
     "text": [
      "[INFO 09-23 22:03:51] Scheduler: Fetching data for trials: [0, 5, 6, 7, 8] because some metrics on experiment are available while trials are running.\n"
     ]
    },
    {
     "name": "stderr",
     "output_type": "stream",
     "text": [
      "/tmp/tmp.QqcA7fo0ui/Ax-main/ax/core/map_data.py:195: FutureWarning: The behavior of DataFrame concatenation with empty or all-NA entries is deprecated. In a future version, this will no longer exclude empty or all-NA columns when determining the result dtypes. To retain the old behavior, exclude the relevant entries before the concat operation.\n",
      "  df = pd.concat(\n"
     ]
    },
    {
     "name": "stderr",
     "output_type": "stream",
     "text": [
      "/tmp/tmp.QqcA7fo0ui/Ax-main/ax/core/map_data.py:195: FutureWarning: The behavior of DataFrame concatenation with empty or all-NA entries is deprecated. In a future version, this will no longer exclude empty or all-NA columns when determining the result dtypes. To retain the old behavior, exclude the relevant entries before the concat operation.\n",
      "  df = pd.concat(\n",
      "[INFO 09-23 22:03:51] ax.early_stopping.strategies.base: The number of completed trials (0) is less than the minimum number of curves needed for early stopping (5). Not early stopping.\n"
     ]
    },
    {
     "name": "stderr",
     "output_type": "stream",
     "text": [
      "[INFO 09-23 22:03:51] Scheduler: Waiting for completed trials (for 10 sec, currently running trials: 5).\n"
     ]
    },
    {
     "name": "stderr",
     "output_type": "stream",
     "text": [
      "[INFO 09-23 22:04:01] Scheduler: Fetching data for newly completed trials: [].\n"
     ]
    },
    {
     "name": "stderr",
     "output_type": "stream",
     "text": [
      "[INFO 09-23 22:04:01] Scheduler: Fetching data for trials: [0, 5, 6, 7, 8] because some metrics on experiment are available while trials are running.\n"
     ]
    },
    {
     "name": "stderr",
     "output_type": "stream",
     "text": [
      "/tmp/tmp.QqcA7fo0ui/Ax-main/ax/core/map_data.py:195: FutureWarning: The behavior of DataFrame concatenation with empty or all-NA entries is deprecated. In a future version, this will no longer exclude empty or all-NA columns when determining the result dtypes. To retain the old behavior, exclude the relevant entries before the concat operation.\n",
      "  df = pd.concat(\n"
     ]
    },
    {
     "name": "stderr",
     "output_type": "stream",
     "text": [
      "/tmp/tmp.QqcA7fo0ui/Ax-main/ax/core/map_data.py:195: FutureWarning: The behavior of DataFrame concatenation with empty or all-NA entries is deprecated. In a future version, this will no longer exclude empty or all-NA columns when determining the result dtypes. To retain the old behavior, exclude the relevant entries before the concat operation.\n",
      "  df = pd.concat(\n"
     ]
    },
    {
     "name": "stderr",
     "output_type": "stream",
     "text": [
      "[INFO 09-23 22:04:01] ax.early_stopping.strategies.base: The number of completed trials (0) is less than the minimum number of curves needed for early stopping (5). Not early stopping.\n"
     ]
    },
    {
     "name": "stderr",
     "output_type": "stream",
     "text": [
      "[INFO 09-23 22:04:01] Scheduler: Waiting for completed trials (for 10 sec, currently running trials: 5).\n"
     ]
    },
    {
     "name": "stderr",
     "output_type": "stream",
     "text": [
      "[INFO 09-23 22:04:11] Scheduler: Fetching data for newly completed trials: [].\n"
     ]
    },
    {
     "name": "stderr",
     "output_type": "stream",
     "text": [
      "[INFO 09-23 22:04:11] Scheduler: Fetching data for trials: [0, 5, 6, 7, 8] because some metrics on experiment are available while trials are running.\n"
     ]
    },
    {
     "name": "stderr",
     "output_type": "stream",
     "text": [
      "/tmp/tmp.QqcA7fo0ui/Ax-main/ax/core/map_data.py:195: FutureWarning: The behavior of DataFrame concatenation with empty or all-NA entries is deprecated. In a future version, this will no longer exclude empty or all-NA columns when determining the result dtypes. To retain the old behavior, exclude the relevant entries before the concat operation.\n",
      "  df = pd.concat(\n"
     ]
    },
    {
     "name": "stderr",
     "output_type": "stream",
     "text": [
      "/tmp/tmp.QqcA7fo0ui/Ax-main/ax/core/map_data.py:195: FutureWarning: The behavior of DataFrame concatenation with empty or all-NA entries is deprecated. In a future version, this will no longer exclude empty or all-NA columns when determining the result dtypes. To retain the old behavior, exclude the relevant entries before the concat operation.\n",
      "  df = pd.concat(\n",
      "[INFO 09-23 22:04:11] ax.early_stopping.strategies.base: The number of completed trials (0) is less than the minimum number of curves needed for early stopping (5). Not early stopping.\n"
     ]
    },
    {
     "name": "stderr",
     "output_type": "stream",
     "text": [
      "[INFO 09-23 22:04:11] Scheduler: Waiting for completed trials (for 10 sec, currently running trials: 5).\n"
     ]
    },
    {
     "name": "stderr",
     "output_type": "stream",
     "text": [
      "[INFO 09-23 22:04:21] Scheduler: Fetching data for newly completed trials: [].\n"
     ]
    },
    {
     "name": "stderr",
     "output_type": "stream",
     "text": [
      "[INFO 09-23 22:04:21] Scheduler: Fetching data for trials: [0, 5, 6, 7, 8] because some metrics on experiment are available while trials are running.\n"
     ]
    },
    {
     "name": "stderr",
     "output_type": "stream",
     "text": [
      "/tmp/tmp.QqcA7fo0ui/Ax-main/ax/core/map_data.py:195: FutureWarning: The behavior of DataFrame concatenation with empty or all-NA entries is deprecated. In a future version, this will no longer exclude empty or all-NA columns when determining the result dtypes. To retain the old behavior, exclude the relevant entries before the concat operation.\n",
      "  df = pd.concat(\n"
     ]
    },
    {
     "name": "stderr",
     "output_type": "stream",
     "text": [
      "/tmp/tmp.QqcA7fo0ui/Ax-main/ax/core/map_data.py:195: FutureWarning: The behavior of DataFrame concatenation with empty or all-NA entries is deprecated. In a future version, this will no longer exclude empty or all-NA columns when determining the result dtypes. To retain the old behavior, exclude the relevant entries before the concat operation.\n",
      "  df = pd.concat(\n",
      "[INFO 09-23 22:04:22] ax.early_stopping.strategies.base: The number of completed trials (0) is less than the minimum number of curves needed for early stopping (5). Not early stopping.\n"
     ]
    },
    {
     "name": "stderr",
     "output_type": "stream",
     "text": [
      "[INFO 09-23 22:04:22] Scheduler: Waiting for completed trials (for 10 sec, currently running trials: 5).\n"
     ]
    },
    {
     "name": "stderr",
     "output_type": "stream",
     "text": [
      "[INFO 09-23 22:04:32] Scheduler: Fetching data for newly completed trials: [].\n"
     ]
    },
    {
     "name": "stderr",
     "output_type": "stream",
     "text": [
      "[INFO 09-23 22:04:32] Scheduler: Fetching data for trials: [0, 5, 6, 7, 8] because some metrics on experiment are available while trials are running.\n"
     ]
    },
    {
     "name": "stderr",
     "output_type": "stream",
     "text": [
      "/tmp/tmp.QqcA7fo0ui/Ax-main/ax/core/map_data.py:195: FutureWarning: The behavior of DataFrame concatenation with empty or all-NA entries is deprecated. In a future version, this will no longer exclude empty or all-NA columns when determining the result dtypes. To retain the old behavior, exclude the relevant entries before the concat operation.\n",
      "  df = pd.concat(\n"
     ]
    },
    {
     "name": "stderr",
     "output_type": "stream",
     "text": [
      "/tmp/tmp.QqcA7fo0ui/Ax-main/ax/core/map_data.py:195: FutureWarning: The behavior of DataFrame concatenation with empty or all-NA entries is deprecated. In a future version, this will no longer exclude empty or all-NA columns when determining the result dtypes. To retain the old behavior, exclude the relevant entries before the concat operation.\n",
      "  df = pd.concat(\n",
      "[INFO 09-23 22:04:32] ax.early_stopping.strategies.base: The number of completed trials (0) is less than the minimum number of curves needed for early stopping (5). Not early stopping.\n"
     ]
    },
    {
     "name": "stderr",
     "output_type": "stream",
     "text": [
      "[INFO 09-23 22:04:32] Scheduler: Waiting for completed trials (for 10 sec, currently running trials: 5).\n"
     ]
    },
    {
     "name": "stderr",
     "output_type": "stream",
     "text": [
      "[INFO 09-23 22:04:42] Scheduler: Fetching data for newly completed trials: [].\n"
     ]
    },
    {
     "name": "stderr",
     "output_type": "stream",
     "text": [
      "[INFO 09-23 22:04:42] Scheduler: Fetching data for trials: [0, 5, 6, 7, 8] because some metrics on experiment are available while trials are running.\n"
     ]
    },
    {
     "name": "stderr",
     "output_type": "stream",
     "text": [
      "/tmp/tmp.QqcA7fo0ui/Ax-main/ax/core/map_data.py:195: FutureWarning: The behavior of DataFrame concatenation with empty or all-NA entries is deprecated. In a future version, this will no longer exclude empty or all-NA columns when determining the result dtypes. To retain the old behavior, exclude the relevant entries before the concat operation.\n",
      "  df = pd.concat(\n"
     ]
    },
    {
     "name": "stderr",
     "output_type": "stream",
     "text": [
      "/tmp/tmp.QqcA7fo0ui/Ax-main/ax/core/map_data.py:195: FutureWarning: The behavior of DataFrame concatenation with empty or all-NA entries is deprecated. In a future version, this will no longer exclude empty or all-NA columns when determining the result dtypes. To retain the old behavior, exclude the relevant entries before the concat operation.\n",
      "  df = pd.concat(\n",
      "[INFO 09-23 22:04:42] ax.early_stopping.strategies.base: The number of completed trials (0) is less than the minimum number of curves needed for early stopping (5). Not early stopping.\n"
     ]
    },
    {
     "name": "stderr",
     "output_type": "stream",
     "text": [
      "[INFO 09-23 22:04:42] Scheduler: Waiting for completed trials (for 10 sec, currently running trials: 5).\n"
     ]
    },
    {
     "name": "stderr",
     "output_type": "stream",
     "text": [
      "[INFO 09-23 22:04:52] Scheduler: Fetching data for newly completed trials: [].\n"
     ]
    },
    {
     "name": "stderr",
     "output_type": "stream",
     "text": [
      "[INFO 09-23 22:04:52] Scheduler: Fetching data for trials: [0, 5, 6, 7, 8] because some metrics on experiment are available while trials are running.\n"
     ]
    },
    {
     "name": "stderr",
     "output_type": "stream",
     "text": [
      "/tmp/tmp.QqcA7fo0ui/Ax-main/ax/core/map_data.py:195: FutureWarning: The behavior of DataFrame concatenation with empty or all-NA entries is deprecated. In a future version, this will no longer exclude empty or all-NA columns when determining the result dtypes. To retain the old behavior, exclude the relevant entries before the concat operation.\n",
      "  df = pd.concat(\n"
     ]
    },
    {
     "name": "stderr",
     "output_type": "stream",
     "text": [
      "/tmp/tmp.QqcA7fo0ui/Ax-main/ax/core/map_data.py:195: FutureWarning: The behavior of DataFrame concatenation with empty or all-NA entries is deprecated. In a future version, this will no longer exclude empty or all-NA columns when determining the result dtypes. To retain the old behavior, exclude the relevant entries before the concat operation.\n",
      "  df = pd.concat(\n",
      "[INFO 09-23 22:04:53] ax.early_stopping.strategies.base: The number of completed trials (0) is less than the minimum number of curves needed for early stopping (5). Not early stopping.\n"
     ]
    },
    {
     "name": "stderr",
     "output_type": "stream",
     "text": [
      "[INFO 09-23 22:04:53] Scheduler: Waiting for completed trials (for 10 sec, currently running trials: 5).\n"
     ]
    },
    {
     "name": "stderr",
     "output_type": "stream",
     "text": [
      "[INFO 09-23 22:05:03] Scheduler: Fetching data for newly completed trials: [].\n"
     ]
    },
    {
     "name": "stderr",
     "output_type": "stream",
     "text": [
      "[INFO 09-23 22:05:03] Scheduler: Fetching data for trials: [0, 5, 6, 7, 8] because some metrics on experiment are available while trials are running.\n"
     ]
    },
    {
     "name": "stderr",
     "output_type": "stream",
     "text": [
      "/tmp/tmp.QqcA7fo0ui/Ax-main/ax/core/map_data.py:195: FutureWarning: The behavior of DataFrame concatenation with empty or all-NA entries is deprecated. In a future version, this will no longer exclude empty or all-NA columns when determining the result dtypes. To retain the old behavior, exclude the relevant entries before the concat operation.\n",
      "  df = pd.concat(\n"
     ]
    },
    {
     "name": "stderr",
     "output_type": "stream",
     "text": [
      "/tmp/tmp.QqcA7fo0ui/Ax-main/ax/core/map_data.py:195: FutureWarning: The behavior of DataFrame concatenation with empty or all-NA entries is deprecated. In a future version, this will no longer exclude empty or all-NA columns when determining the result dtypes. To retain the old behavior, exclude the relevant entries before the concat operation.\n",
      "  df = pd.concat(\n",
      "[INFO 09-23 22:05:03] ax.early_stopping.strategies.base: The number of completed trials (0) is less than the minimum number of curves needed for early stopping (5). Not early stopping.\n"
     ]
    },
    {
     "name": "stderr",
     "output_type": "stream",
     "text": [
      "[INFO 09-23 22:05:03] Scheduler: Waiting for completed trials (for 10 sec, currently running trials: 5).\n"
     ]
    },
    {
     "name": "stderr",
     "output_type": "stream",
     "text": [
      "[INFO 09-23 22:05:13] Scheduler: Fetching data for newly completed trials: [].\n"
     ]
    },
    {
     "name": "stderr",
     "output_type": "stream",
     "text": [
      "[INFO 09-23 22:05:13] Scheduler: Fetching data for trials: [0, 5, 6, 7, 8] because some metrics on experiment are available while trials are running.\n"
     ]
    },
    {
     "name": "stderr",
     "output_type": "stream",
     "text": [
      "/tmp/tmp.QqcA7fo0ui/Ax-main/ax/core/map_data.py:195: FutureWarning: The behavior of DataFrame concatenation with empty or all-NA entries is deprecated. In a future version, this will no longer exclude empty or all-NA columns when determining the result dtypes. To retain the old behavior, exclude the relevant entries before the concat operation.\n",
      "  df = pd.concat(\n"
     ]
    },
    {
     "name": "stderr",
     "output_type": "stream",
     "text": [
      "/tmp/tmp.QqcA7fo0ui/Ax-main/ax/core/map_data.py:195: FutureWarning: The behavior of DataFrame concatenation with empty or all-NA entries is deprecated. In a future version, this will no longer exclude empty or all-NA columns when determining the result dtypes. To retain the old behavior, exclude the relevant entries before the concat operation.\n",
      "  df = pd.concat(\n",
      "[INFO 09-23 22:05:13] ax.early_stopping.strategies.base: The number of completed trials (0) is less than the minimum number of curves needed for early stopping (5). Not early stopping.\n"
     ]
    },
    {
     "name": "stderr",
     "output_type": "stream",
     "text": [
      "[INFO 09-23 22:05:13] Scheduler: Waiting for completed trials (for 10 sec, currently running trials: 5).\n"
     ]
    },
    {
     "name": "stderr",
     "output_type": "stream",
     "text": [
      "[INFO 09-23 22:05:23] Scheduler: Fetching data for newly completed trials: [].\n"
     ]
    },
    {
     "name": "stderr",
     "output_type": "stream",
     "text": [
      "[INFO 09-23 22:05:23] Scheduler: Fetching data for trials: [0, 5, 6, 7, 8] because some metrics on experiment are available while trials are running.\n"
     ]
    },
    {
     "name": "stderr",
     "output_type": "stream",
     "text": [
      "/tmp/tmp.QqcA7fo0ui/Ax-main/ax/core/map_data.py:195: FutureWarning: The behavior of DataFrame concatenation with empty or all-NA entries is deprecated. In a future version, this will no longer exclude empty or all-NA columns when determining the result dtypes. To retain the old behavior, exclude the relevant entries before the concat operation.\n",
      "  df = pd.concat(\n"
     ]
    },
    {
     "name": "stderr",
     "output_type": "stream",
     "text": [
      "/tmp/tmp.QqcA7fo0ui/Ax-main/ax/core/map_data.py:195: FutureWarning: The behavior of DataFrame concatenation with empty or all-NA entries is deprecated. In a future version, this will no longer exclude empty or all-NA columns when determining the result dtypes. To retain the old behavior, exclude the relevant entries before the concat operation.\n",
      "  df = pd.concat(\n",
      "[INFO 09-23 22:05:23] ax.early_stopping.strategies.base: The number of completed trials (0) is less than the minimum number of curves needed for early stopping (5). Not early stopping.\n"
     ]
    },
    {
     "name": "stderr",
     "output_type": "stream",
     "text": [
      "[INFO 09-23 22:05:23] Scheduler: Waiting for completed trials (for 10 sec, currently running trials: 5).\n"
     ]
    },
    {
     "name": "stderr",
     "output_type": "stream",
     "text": [
      "[INFO 09-23 22:05:33] Scheduler: Fetching data for newly completed trials: [].\n"
     ]
    },
    {
     "name": "stderr",
     "output_type": "stream",
     "text": [
      "[INFO 09-23 22:05:33] Scheduler: Fetching data for trials: [0, 5, 6, 7, 8] because some metrics on experiment are available while trials are running.\n"
     ]
    },
    {
     "name": "stderr",
     "output_type": "stream",
     "text": [
      "/tmp/tmp.QqcA7fo0ui/Ax-main/ax/core/map_data.py:195: FutureWarning: The behavior of DataFrame concatenation with empty or all-NA entries is deprecated. In a future version, this will no longer exclude empty or all-NA columns when determining the result dtypes. To retain the old behavior, exclude the relevant entries before the concat operation.\n",
      "  df = pd.concat(\n"
     ]
    },
    {
     "name": "stderr",
     "output_type": "stream",
     "text": [
      "/tmp/tmp.QqcA7fo0ui/Ax-main/ax/core/map_data.py:195: FutureWarning: The behavior of DataFrame concatenation with empty or all-NA entries is deprecated. In a future version, this will no longer exclude empty or all-NA columns when determining the result dtypes. To retain the old behavior, exclude the relevant entries before the concat operation.\n",
      "  df = pd.concat(\n",
      "[INFO 09-23 22:05:34] ax.early_stopping.strategies.base: The number of completed trials (0) is less than the minimum number of curves needed for early stopping (5). Not early stopping.\n"
     ]
    },
    {
     "name": "stderr",
     "output_type": "stream",
     "text": [
      "[INFO 09-23 22:05:34] Scheduler: Waiting for completed trials (for 10 sec, currently running trials: 5).\n"
     ]
    },
    {
     "name": "stderr",
     "output_type": "stream",
     "text": [
      "[INFO 09-23 22:05:44] Scheduler: Fetching data for newly completed trials: [].\n"
     ]
    },
    {
     "name": "stderr",
     "output_type": "stream",
     "text": [
      "[INFO 09-23 22:05:44] Scheduler: Fetching data for trials: [0, 5, 6, 7, 8] because some metrics on experiment are available while trials are running.\n"
     ]
    },
    {
     "name": "stderr",
     "output_type": "stream",
     "text": [
      "/tmp/tmp.QqcA7fo0ui/Ax-main/ax/core/map_data.py:195: FutureWarning: The behavior of DataFrame concatenation with empty or all-NA entries is deprecated. In a future version, this will no longer exclude empty or all-NA columns when determining the result dtypes. To retain the old behavior, exclude the relevant entries before the concat operation.\n",
      "  df = pd.concat(\n"
     ]
    },
    {
     "name": "stderr",
     "output_type": "stream",
     "text": [
      "/tmp/tmp.QqcA7fo0ui/Ax-main/ax/core/map_data.py:195: FutureWarning: The behavior of DataFrame concatenation with empty or all-NA entries is deprecated. In a future version, this will no longer exclude empty or all-NA columns when determining the result dtypes. To retain the old behavior, exclude the relevant entries before the concat operation.\n",
      "  df = pd.concat(\n",
      "[INFO 09-23 22:05:44] ax.early_stopping.strategies.base: The number of completed trials (0) is less than the minimum number of curves needed for early stopping (5). Not early stopping.\n"
     ]
    },
    {
     "name": "stderr",
     "output_type": "stream",
     "text": [
      "[INFO 09-23 22:05:44] Scheduler: Waiting for completed trials (for 10 sec, currently running trials: 5).\n"
     ]
    },
    {
     "name": "stderr",
     "output_type": "stream",
     "text": [
      "[INFO 09-23 22:05:54] Scheduler: Fetching data for newly completed trials: [].\n"
     ]
    },
    {
     "name": "stderr",
     "output_type": "stream",
     "text": [
      "[INFO 09-23 22:05:54] Scheduler: Fetching data for trials: [0, 5, 6, 7, 8] because some metrics on experiment are available while trials are running.\n"
     ]
    },
    {
     "name": "stderr",
     "output_type": "stream",
     "text": [
      "/tmp/tmp.QqcA7fo0ui/Ax-main/ax/core/map_data.py:195: FutureWarning: The behavior of DataFrame concatenation with empty or all-NA entries is deprecated. In a future version, this will no longer exclude empty or all-NA columns when determining the result dtypes. To retain the old behavior, exclude the relevant entries before the concat operation.\n",
      "  df = pd.concat(\n"
     ]
    },
    {
     "name": "stderr",
     "output_type": "stream",
     "text": [
      "/tmp/tmp.QqcA7fo0ui/Ax-main/ax/core/map_data.py:195: FutureWarning: The behavior of DataFrame concatenation with empty or all-NA entries is deprecated. In a future version, this will no longer exclude empty or all-NA columns when determining the result dtypes. To retain the old behavior, exclude the relevant entries before the concat operation.\n",
      "  df = pd.concat(\n",
      "[INFO 09-23 22:05:54] ax.early_stopping.strategies.base: The number of completed trials (0) is less than the minimum number of curves needed for early stopping (5). Not early stopping.\n"
     ]
    },
    {
     "name": "stderr",
     "output_type": "stream",
     "text": [
      "[INFO 09-23 22:05:54] Scheduler: Waiting for completed trials (for 10 sec, currently running trials: 5).\n"
     ]
    },
    {
     "name": "stderr",
     "output_type": "stream",
     "text": [
      "[INFO 09-23 22:06:04] Scheduler: Fetching data for newly completed trials: [].\n"
     ]
    },
    {
     "name": "stderr",
     "output_type": "stream",
     "text": [
      "[INFO 09-23 22:06:04] Scheduler: Fetching data for trials: [0, 5, 6, 7, 8] because some metrics on experiment are available while trials are running.\n"
     ]
    },
    {
     "name": "stderr",
     "output_type": "stream",
     "text": [
      "/tmp/tmp.QqcA7fo0ui/Ax-main/ax/core/map_data.py:195: FutureWarning: The behavior of DataFrame concatenation with empty or all-NA entries is deprecated. In a future version, this will no longer exclude empty or all-NA columns when determining the result dtypes. To retain the old behavior, exclude the relevant entries before the concat operation.\n",
      "  df = pd.concat(\n"
     ]
    },
    {
     "name": "stderr",
     "output_type": "stream",
     "text": [
      "/tmp/tmp.QqcA7fo0ui/Ax-main/ax/core/map_data.py:195: FutureWarning: The behavior of DataFrame concatenation with empty or all-NA entries is deprecated. In a future version, this will no longer exclude empty or all-NA columns when determining the result dtypes. To retain the old behavior, exclude the relevant entries before the concat operation.\n",
      "  df = pd.concat(\n",
      "[INFO 09-23 22:06:05] ax.early_stopping.strategies.base: The number of completed trials (0) is less than the minimum number of curves needed for early stopping (5). Not early stopping.\n"
     ]
    },
    {
     "name": "stderr",
     "output_type": "stream",
     "text": [
      "[INFO 09-23 22:06:05] Scheduler: Waiting for completed trials (for 10 sec, currently running trials: 5).\n"
     ]
    },
    {
     "name": "stderr",
     "output_type": "stream",
     "text": [
      "[INFO 09-23 22:06:15] Scheduler: Fetching data for newly completed trials: [].\n"
     ]
    },
    {
     "name": "stderr",
     "output_type": "stream",
     "text": [
      "[INFO 09-23 22:06:15] Scheduler: Fetching data for trials: [0, 5, 6, 7, 8] because some metrics on experiment are available while trials are running.\n"
     ]
    },
    {
     "name": "stderr",
     "output_type": "stream",
     "text": [
      "/tmp/tmp.QqcA7fo0ui/Ax-main/ax/core/map_data.py:195: FutureWarning: The behavior of DataFrame concatenation with empty or all-NA entries is deprecated. In a future version, this will no longer exclude empty or all-NA columns when determining the result dtypes. To retain the old behavior, exclude the relevant entries before the concat operation.\n",
      "  df = pd.concat(\n"
     ]
    },
    {
     "name": "stderr",
     "output_type": "stream",
     "text": [
      "/tmp/tmp.QqcA7fo0ui/Ax-main/ax/core/map_data.py:195: FutureWarning: The behavior of DataFrame concatenation with empty or all-NA entries is deprecated. In a future version, this will no longer exclude empty or all-NA columns when determining the result dtypes. To retain the old behavior, exclude the relevant entries before the concat operation.\n",
      "  df = pd.concat(\n",
      "[INFO 09-23 22:06:15] ax.early_stopping.strategies.base: The number of completed trials (0) is less than the minimum number of curves needed for early stopping (5). Not early stopping.\n"
     ]
    },
    {
     "name": "stderr",
     "output_type": "stream",
     "text": [
      "[INFO 09-23 22:06:15] Scheduler: Waiting for completed trials (for 10 sec, currently running trials: 5).\n"
     ]
    },
    {
     "name": "stderr",
     "output_type": "stream",
     "text": [
      "[INFO 09-23 22:06:25] Scheduler: Fetching data for newly completed trials: [].\n"
     ]
    },
    {
     "name": "stderr",
     "output_type": "stream",
     "text": [
      "[INFO 09-23 22:06:25] Scheduler: Fetching data for trials: [0, 5, 6, 7, 8] because some metrics on experiment are available while trials are running.\n"
     ]
    },
    {
     "name": "stderr",
     "output_type": "stream",
     "text": [
      "/tmp/tmp.QqcA7fo0ui/Ax-main/ax/core/map_data.py:195: FutureWarning: The behavior of DataFrame concatenation with empty or all-NA entries is deprecated. In a future version, this will no longer exclude empty or all-NA columns when determining the result dtypes. To retain the old behavior, exclude the relevant entries before the concat operation.\n",
      "  df = pd.concat(\n"
     ]
    },
    {
     "name": "stderr",
     "output_type": "stream",
     "text": [
      "/tmp/tmp.QqcA7fo0ui/Ax-main/ax/core/map_data.py:195: FutureWarning: The behavior of DataFrame concatenation with empty or all-NA entries is deprecated. In a future version, this will no longer exclude empty or all-NA columns when determining the result dtypes. To retain the old behavior, exclude the relevant entries before the concat operation.\n",
      "  df = pd.concat(\n",
      "[INFO 09-23 22:06:25] ax.early_stopping.strategies.base: The number of completed trials (0) is less than the minimum number of curves needed for early stopping (5). Not early stopping.\n"
     ]
    },
    {
     "name": "stderr",
     "output_type": "stream",
     "text": [
      "[INFO 09-23 22:06:25] Scheduler: Waiting for completed trials (for 10 sec, currently running trials: 5).\n"
     ]
    },
    {
     "name": "stderr",
     "output_type": "stream",
     "text": [
      "[INFO 09-23 22:06:35] Scheduler: Fetching data for newly completed trials: [].\n"
     ]
    },
    {
     "name": "stderr",
     "output_type": "stream",
     "text": [
      "[INFO 09-23 22:06:35] Scheduler: Fetching data for trials: [0, 5, 6, 7, 8] because some metrics on experiment are available while trials are running.\n"
     ]
    },
    {
     "name": "stderr",
     "output_type": "stream",
     "text": [
      "/tmp/tmp.QqcA7fo0ui/Ax-main/ax/core/map_data.py:195: FutureWarning: The behavior of DataFrame concatenation with empty or all-NA entries is deprecated. In a future version, this will no longer exclude empty or all-NA columns when determining the result dtypes. To retain the old behavior, exclude the relevant entries before the concat operation.\n",
      "  df = pd.concat(\n"
     ]
    },
    {
     "name": "stderr",
     "output_type": "stream",
     "text": [
      "/tmp/tmp.QqcA7fo0ui/Ax-main/ax/core/map_data.py:195: FutureWarning: The behavior of DataFrame concatenation with empty or all-NA entries is deprecated. In a future version, this will no longer exclude empty or all-NA columns when determining the result dtypes. To retain the old behavior, exclude the relevant entries before the concat operation.\n",
      "  df = pd.concat(\n",
      "[INFO 09-23 22:06:35] ax.early_stopping.strategies.base: The number of completed trials (0) is less than the minimum number of curves needed for early stopping (5). Not early stopping.\n"
     ]
    },
    {
     "name": "stderr",
     "output_type": "stream",
     "text": [
      "[INFO 09-23 22:06:35] Scheduler: Waiting for completed trials (for 10 sec, currently running trials: 5).\n"
     ]
    },
    {
     "name": "stderr",
     "output_type": "stream",
     "text": [
      "[INFO 09-23 22:06:45] Scheduler: Fetching data for newly completed trials: [].\n"
     ]
    },
    {
     "name": "stderr",
     "output_type": "stream",
     "text": [
      "[INFO 09-23 22:06:45] Scheduler: Fetching data for trials: [0, 5, 6, 7, 8] because some metrics on experiment are available while trials are running.\n"
     ]
    },
    {
     "name": "stderr",
     "output_type": "stream",
     "text": [
      "/tmp/tmp.QqcA7fo0ui/Ax-main/ax/core/map_data.py:195: FutureWarning: The behavior of DataFrame concatenation with empty or all-NA entries is deprecated. In a future version, this will no longer exclude empty or all-NA columns when determining the result dtypes. To retain the old behavior, exclude the relevant entries before the concat operation.\n",
      "  df = pd.concat(\n"
     ]
    },
    {
     "name": "stderr",
     "output_type": "stream",
     "text": [
      "/tmp/tmp.QqcA7fo0ui/Ax-main/ax/core/map_data.py:195: FutureWarning: The behavior of DataFrame concatenation with empty or all-NA entries is deprecated. In a future version, this will no longer exclude empty or all-NA columns when determining the result dtypes. To retain the old behavior, exclude the relevant entries before the concat operation.\n",
      "  df = pd.concat(\n"
     ]
    },
    {
     "name": "stderr",
     "output_type": "stream",
     "text": [
      "[INFO 09-23 22:06:46] ax.early_stopping.strategies.base: The number of completed trials (0) is less than the minimum number of curves needed for early stopping (5). Not early stopping.\n"
     ]
    },
    {
     "name": "stderr",
     "output_type": "stream",
     "text": [
      "[INFO 09-23 22:06:46] Scheduler: Waiting for completed trials (for 10 sec, currently running trials: 5).\n"
     ]
    },
    {
     "name": "stderr",
     "output_type": "stream",
     "text": [
      "[INFO 09-23 22:06:56] Scheduler: Fetching data for newly completed trials: [].\n"
     ]
    },
    {
     "name": "stderr",
     "output_type": "stream",
     "text": [
      "[INFO 09-23 22:06:56] Scheduler: Fetching data for trials: [0, 5, 6, 7, 8] because some metrics on experiment are available while trials are running.\n"
     ]
    },
    {
     "name": "stderr",
     "output_type": "stream",
     "text": [
      "/tmp/tmp.QqcA7fo0ui/Ax-main/ax/core/map_data.py:195: FutureWarning: The behavior of DataFrame concatenation with empty or all-NA entries is deprecated. In a future version, this will no longer exclude empty or all-NA columns when determining the result dtypes. To retain the old behavior, exclude the relevant entries before the concat operation.\n",
      "  df = pd.concat(\n"
     ]
    },
    {
     "name": "stderr",
     "output_type": "stream",
     "text": [
      "/tmp/tmp.QqcA7fo0ui/Ax-main/ax/core/map_data.py:195: FutureWarning: The behavior of DataFrame concatenation with empty or all-NA entries is deprecated. In a future version, this will no longer exclude empty or all-NA columns when determining the result dtypes. To retain the old behavior, exclude the relevant entries before the concat operation.\n",
      "  df = pd.concat(\n",
      "[INFO 09-23 22:06:56] ax.early_stopping.strategies.base: The number of completed trials (0) is less than the minimum number of curves needed for early stopping (5). Not early stopping.\n"
     ]
    },
    {
     "name": "stderr",
     "output_type": "stream",
     "text": [
      "[INFO 09-23 22:06:56] Scheduler: Waiting for completed trials (for 10 sec, currently running trials: 5).\n"
     ]
    },
    {
     "name": "stderr",
     "output_type": "stream",
     "text": [
      "[INFO 09-23 22:07:06] Scheduler: Fetching data for newly completed trials: [].\n"
     ]
    },
    {
     "name": "stderr",
     "output_type": "stream",
     "text": [
      "[INFO 09-23 22:07:06] Scheduler: Fetching data for trials: [0, 5, 6, 7, 8] because some metrics on experiment are available while trials are running.\n"
     ]
    },
    {
     "name": "stderr",
     "output_type": "stream",
     "text": [
      "/tmp/tmp.QqcA7fo0ui/Ax-main/ax/core/map_data.py:195: FutureWarning: The behavior of DataFrame concatenation with empty or all-NA entries is deprecated. In a future version, this will no longer exclude empty or all-NA columns when determining the result dtypes. To retain the old behavior, exclude the relevant entries before the concat operation.\n",
      "  df = pd.concat(\n"
     ]
    },
    {
     "name": "stderr",
     "output_type": "stream",
     "text": [
      "/tmp/tmp.QqcA7fo0ui/Ax-main/ax/core/map_data.py:195: FutureWarning: The behavior of DataFrame concatenation with empty or all-NA entries is deprecated. In a future version, this will no longer exclude empty or all-NA columns when determining the result dtypes. To retain the old behavior, exclude the relevant entries before the concat operation.\n",
      "  df = pd.concat(\n",
      "[INFO 09-23 22:07:06] ax.early_stopping.strategies.base: The number of completed trials (0) is less than the minimum number of curves needed for early stopping (5). Not early stopping.\n"
     ]
    },
    {
     "name": "stderr",
     "output_type": "stream",
     "text": [
      "[INFO 09-23 22:07:06] Scheduler: Waiting for completed trials (for 10 sec, currently running trials: 5).\n"
     ]
    },
    {
     "name": "stderr",
     "output_type": "stream",
     "text": [
      "[INFO 09-23 22:07:16] Scheduler: Fetching data for newly completed trials: [].\n"
     ]
    },
    {
     "name": "stderr",
     "output_type": "stream",
     "text": [
      "[INFO 09-23 22:07:16] Scheduler: Fetching data for trials: [0, 5, 6, 7, 8] because some metrics on experiment are available while trials are running.\n"
     ]
    },
    {
     "name": "stderr",
     "output_type": "stream",
     "text": [
      "/tmp/tmp.QqcA7fo0ui/Ax-main/ax/core/map_data.py:195: FutureWarning: The behavior of DataFrame concatenation with empty or all-NA entries is deprecated. In a future version, this will no longer exclude empty or all-NA columns when determining the result dtypes. To retain the old behavior, exclude the relevant entries before the concat operation.\n",
      "  df = pd.concat(\n"
     ]
    },
    {
     "name": "stderr",
     "output_type": "stream",
     "text": [
      "/tmp/tmp.QqcA7fo0ui/Ax-main/ax/core/map_data.py:195: FutureWarning: The behavior of DataFrame concatenation with empty or all-NA entries is deprecated. In a future version, this will no longer exclude empty or all-NA columns when determining the result dtypes. To retain the old behavior, exclude the relevant entries before the concat operation.\n",
      "  df = pd.concat(\n",
      "[INFO 09-23 22:07:16] ax.early_stopping.strategies.base: The number of completed trials (0) is less than the minimum number of curves needed for early stopping (5). Not early stopping.\n"
     ]
    },
    {
     "name": "stderr",
     "output_type": "stream",
     "text": [
      "[INFO 09-23 22:07:16] Scheduler: Waiting for completed trials (for 10 sec, currently running trials: 5).\n"
     ]
    },
    {
     "name": "stderr",
     "output_type": "stream",
     "text": [
      "[INFO 09-23 22:07:26] Scheduler: Fetching data for newly completed trials: [].\n"
     ]
    },
    {
     "name": "stderr",
     "output_type": "stream",
     "text": [
      "[INFO 09-23 22:07:26] Scheduler: Fetching data for trials: [0, 5, 6, 7, 8] because some metrics on experiment are available while trials are running.\n"
     ]
    },
    {
     "name": "stderr",
     "output_type": "stream",
     "text": [
      "/tmp/tmp.QqcA7fo0ui/Ax-main/ax/core/map_data.py:195: FutureWarning: The behavior of DataFrame concatenation with empty or all-NA entries is deprecated. In a future version, this will no longer exclude empty or all-NA columns when determining the result dtypes. To retain the old behavior, exclude the relevant entries before the concat operation.\n",
      "  df = pd.concat(\n"
     ]
    },
    {
     "name": "stderr",
     "output_type": "stream",
     "text": [
      "/tmp/tmp.QqcA7fo0ui/Ax-main/ax/core/map_data.py:195: FutureWarning: The behavior of DataFrame concatenation with empty or all-NA entries is deprecated. In a future version, this will no longer exclude empty or all-NA columns when determining the result dtypes. To retain the old behavior, exclude the relevant entries before the concat operation.\n",
      "  df = pd.concat(\n",
      "[INFO 09-23 22:07:27] ax.early_stopping.strategies.base: The number of completed trials (0) is less than the minimum number of curves needed for early stopping (5). Not early stopping.\n"
     ]
    },
    {
     "name": "stderr",
     "output_type": "stream",
     "text": [
      "[INFO 09-23 22:07:27] Scheduler: Waiting for completed trials (for 10 sec, currently running trials: 5).\n"
     ]
    },
    {
     "name": "stderr",
     "output_type": "stream",
     "text": [
      "[INFO 09-23 22:07:37] Scheduler: Fetching data for newly completed trials: [].\n"
     ]
    },
    {
     "name": "stderr",
     "output_type": "stream",
     "text": [
      "[INFO 09-23 22:07:37] Scheduler: Fetching data for trials: [0, 5, 6, 7, 8] because some metrics on experiment are available while trials are running.\n"
     ]
    },
    {
     "name": "stderr",
     "output_type": "stream",
     "text": [
      "/tmp/tmp.QqcA7fo0ui/Ax-main/ax/core/map_data.py:195: FutureWarning: The behavior of DataFrame concatenation with empty or all-NA entries is deprecated. In a future version, this will no longer exclude empty or all-NA columns when determining the result dtypes. To retain the old behavior, exclude the relevant entries before the concat operation.\n",
      "  df = pd.concat(\n"
     ]
    },
    {
     "name": "stderr",
     "output_type": "stream",
     "text": [
      "/tmp/tmp.QqcA7fo0ui/Ax-main/ax/core/map_data.py:195: FutureWarning: The behavior of DataFrame concatenation with empty or all-NA entries is deprecated. In a future version, this will no longer exclude empty or all-NA columns when determining the result dtypes. To retain the old behavior, exclude the relevant entries before the concat operation.\n",
      "  df = pd.concat(\n",
      "[INFO 09-23 22:07:37] ax.early_stopping.strategies.base: The number of completed trials (0) is less than the minimum number of curves needed for early stopping (5). Not early stopping.\n"
     ]
    },
    {
     "name": "stderr",
     "output_type": "stream",
     "text": [
      "[INFO 09-23 22:07:37] Scheduler: Waiting for completed trials (for 10 sec, currently running trials: 5).\n"
     ]
    },
    {
     "name": "stderr",
     "output_type": "stream",
     "text": [
      "[INFO 09-23 22:07:47] Scheduler: Fetching data for newly completed trials: [].\n"
     ]
    },
    {
     "name": "stderr",
     "output_type": "stream",
     "text": [
      "[INFO 09-23 22:07:47] Scheduler: Fetching data for trials: [0, 5, 6, 7, 8] because some metrics on experiment are available while trials are running.\n"
     ]
    },
    {
     "name": "stderr",
     "output_type": "stream",
     "text": [
      "/tmp/tmp.QqcA7fo0ui/Ax-main/ax/core/map_data.py:195: FutureWarning: The behavior of DataFrame concatenation with empty or all-NA entries is deprecated. In a future version, this will no longer exclude empty or all-NA columns when determining the result dtypes. To retain the old behavior, exclude the relevant entries before the concat operation.\n",
      "  df = pd.concat(\n",
      "/tmp/tmp.QqcA7fo0ui/Ax-main/ax/core/map_data.py:195: FutureWarning: The behavior of DataFrame concatenation with empty or all-NA entries is deprecated. In a future version, this will no longer exclude empty or all-NA columns when determining the result dtypes. To retain the old behavior, exclude the relevant entries before the concat operation.\n",
      "  df = pd.concat(\n",
      "[INFO 09-23 22:07:47] ax.early_stopping.strategies.base: The number of completed trials (0) is less than the minimum number of curves needed for early stopping (5). Not early stopping.\n"
     ]
    },
    {
     "name": "stderr",
     "output_type": "stream",
     "text": [
      "[INFO 09-23 22:07:47] Scheduler: Waiting for completed trials (for 10 sec, currently running trials: 5).\n"
     ]
    },
    {
     "name": "stderr",
     "output_type": "stream",
     "text": [
      "[INFO 09-23 22:07:57] Scheduler: Fetching data for newly completed trials: [].\n"
     ]
    },
    {
     "name": "stderr",
     "output_type": "stream",
     "text": [
      "[INFO 09-23 22:07:57] Scheduler: Fetching data for trials: [0, 5, 6, 7, 8] because some metrics on experiment are available while trials are running.\n"
     ]
    },
    {
     "name": "stderr",
     "output_type": "stream",
     "text": [
      "/tmp/tmp.QqcA7fo0ui/Ax-main/ax/core/map_data.py:195: FutureWarning: The behavior of DataFrame concatenation with empty or all-NA entries is deprecated. In a future version, this will no longer exclude empty or all-NA columns when determining the result dtypes. To retain the old behavior, exclude the relevant entries before the concat operation.\n",
      "  df = pd.concat(\n"
     ]
    },
    {
     "name": "stderr",
     "output_type": "stream",
     "text": [
      "/tmp/tmp.QqcA7fo0ui/Ax-main/ax/core/map_data.py:195: FutureWarning: The behavior of DataFrame concatenation with empty or all-NA entries is deprecated. In a future version, this will no longer exclude empty or all-NA columns when determining the result dtypes. To retain the old behavior, exclude the relevant entries before the concat operation.\n",
      "  df = pd.concat(\n",
      "[INFO 09-23 22:07:58] ax.early_stopping.strategies.base: The number of completed trials (0) is less than the minimum number of curves needed for early stopping (5). Not early stopping.\n"
     ]
    },
    {
     "name": "stderr",
     "output_type": "stream",
     "text": [
      "[INFO 09-23 22:07:58] Scheduler: Waiting for completed trials (for 10 sec, currently running trials: 5).\n"
     ]
    },
    {
     "name": "stderr",
     "output_type": "stream",
     "text": [
      "[INFO 09-23 22:08:08] Scheduler: Fetching data for newly completed trials: [].\n"
     ]
    },
    {
     "name": "stderr",
     "output_type": "stream",
     "text": [
      "[INFO 09-23 22:08:08] Scheduler: Fetching data for trials: [0, 5, 6, 7, 8] because some metrics on experiment are available while trials are running.\n"
     ]
    },
    {
     "name": "stderr",
     "output_type": "stream",
     "text": [
      "/tmp/tmp.QqcA7fo0ui/Ax-main/ax/core/map_data.py:195: FutureWarning: The behavior of DataFrame concatenation with empty or all-NA entries is deprecated. In a future version, this will no longer exclude empty or all-NA columns when determining the result dtypes. To retain the old behavior, exclude the relevant entries before the concat operation.\n",
      "  df = pd.concat(\n"
     ]
    },
    {
     "name": "stderr",
     "output_type": "stream",
     "text": [
      "/tmp/tmp.QqcA7fo0ui/Ax-main/ax/core/map_data.py:195: FutureWarning: The behavior of DataFrame concatenation with empty or all-NA entries is deprecated. In a future version, this will no longer exclude empty or all-NA columns when determining the result dtypes. To retain the old behavior, exclude the relevant entries before the concat operation.\n",
      "  df = pd.concat(\n"
     ]
    },
    {
     "name": "stderr",
     "output_type": "stream",
     "text": [
      "[INFO 09-23 22:08:08] ax.early_stopping.strategies.base: The number of completed trials (0) is less than the minimum number of curves needed for early stopping (5). Not early stopping.\n"
     ]
    },
    {
     "name": "stderr",
     "output_type": "stream",
     "text": [
      "[INFO 09-23 22:08:08] Scheduler: Waiting for completed trials (for 10 sec, currently running trials: 5).\n"
     ]
    },
    {
     "name": "stderr",
     "output_type": "stream",
     "text": [
      "[INFO 09-23 22:08:18] Scheduler: Fetching data for newly completed trials: [].\n"
     ]
    },
    {
     "name": "stderr",
     "output_type": "stream",
     "text": [
      "[INFO 09-23 22:08:18] Scheduler: Fetching data for trials: [0, 5, 6, 7, 8] because some metrics on experiment are available while trials are running.\n"
     ]
    },
    {
     "name": "stderr",
     "output_type": "stream",
     "text": [
      "/tmp/tmp.QqcA7fo0ui/Ax-main/ax/core/map_data.py:195: FutureWarning: The behavior of DataFrame concatenation with empty or all-NA entries is deprecated. In a future version, this will no longer exclude empty or all-NA columns when determining the result dtypes. To retain the old behavior, exclude the relevant entries before the concat operation.\n",
      "  df = pd.concat(\n",
      "/tmp/tmp.QqcA7fo0ui/Ax-main/ax/core/map_data.py:195: FutureWarning: The behavior of DataFrame concatenation with empty or all-NA entries is deprecated. In a future version, this will no longer exclude empty or all-NA columns when determining the result dtypes. To retain the old behavior, exclude the relevant entries before the concat operation.\n",
      "  df = pd.concat(\n",
      "[INFO 09-23 22:08:18] ax.early_stopping.strategies.base: The number of completed trials (0) is less than the minimum number of curves needed for early stopping (5). Not early stopping.\n"
     ]
    },
    {
     "name": "stderr",
     "output_type": "stream",
     "text": [
      "[INFO 09-23 22:08:18] Scheduler: Waiting for completed trials (for 10 sec, currently running trials: 5).\n"
     ]
    },
    {
     "name": "stderr",
     "output_type": "stream",
     "text": [
      "[INFO 09-23 22:08:28] Scheduler: Fetching data for newly completed trials: [].\n"
     ]
    },
    {
     "name": "stderr",
     "output_type": "stream",
     "text": [
      "[INFO 09-23 22:08:28] Scheduler: Fetching data for trials: [0, 5, 6, 7, 8] because some metrics on experiment are available while trials are running.\n"
     ]
    },
    {
     "name": "stderr",
     "output_type": "stream",
     "text": [
      "/tmp/tmp.QqcA7fo0ui/Ax-main/ax/core/map_data.py:195: FutureWarning: The behavior of DataFrame concatenation with empty or all-NA entries is deprecated. In a future version, this will no longer exclude empty or all-NA columns when determining the result dtypes. To retain the old behavior, exclude the relevant entries before the concat operation.\n",
      "  df = pd.concat(\n"
     ]
    },
    {
     "name": "stderr",
     "output_type": "stream",
     "text": [
      "/tmp/tmp.QqcA7fo0ui/Ax-main/ax/core/map_data.py:195: FutureWarning: The behavior of DataFrame concatenation with empty or all-NA entries is deprecated. In a future version, this will no longer exclude empty or all-NA columns when determining the result dtypes. To retain the old behavior, exclude the relevant entries before the concat operation.\n",
      "  df = pd.concat(\n",
      "[INFO 09-23 22:08:28] ax.early_stopping.strategies.base: The number of completed trials (0) is less than the minimum number of curves needed for early stopping (5). Not early stopping.\n"
     ]
    },
    {
     "name": "stderr",
     "output_type": "stream",
     "text": [
      "[INFO 09-23 22:08:28] Scheduler: Waiting for completed trials (for 10 sec, currently running trials: 5).\n"
     ]
    },
    {
     "name": "stderr",
     "output_type": "stream",
     "text": [
      "[INFO 09-23 22:08:38] Scheduler: Fetching data for newly completed trials: [].\n"
     ]
    },
    {
     "name": "stderr",
     "output_type": "stream",
     "text": [
      "[INFO 09-23 22:08:38] Scheduler: Fetching data for trials: [0, 5, 6, 7, 8] because some metrics on experiment are available while trials are running.\n"
     ]
    },
    {
     "name": "stderr",
     "output_type": "stream",
     "text": [
      "/tmp/tmp.QqcA7fo0ui/Ax-main/ax/core/map_data.py:195: FutureWarning: The behavior of DataFrame concatenation with empty or all-NA entries is deprecated. In a future version, this will no longer exclude empty or all-NA columns when determining the result dtypes. To retain the old behavior, exclude the relevant entries before the concat operation.\n",
      "  df = pd.concat(\n"
     ]
    },
    {
     "name": "stderr",
     "output_type": "stream",
     "text": [
      "/tmp/tmp.QqcA7fo0ui/Ax-main/ax/core/map_data.py:195: FutureWarning: The behavior of DataFrame concatenation with empty or all-NA entries is deprecated. In a future version, this will no longer exclude empty or all-NA columns when determining the result dtypes. To retain the old behavior, exclude the relevant entries before the concat operation.\n",
      "  df = pd.concat(\n",
      "[INFO 09-23 22:08:39] ax.early_stopping.strategies.base: The number of completed trials (0) is less than the minimum number of curves needed for early stopping (5). Not early stopping.\n"
     ]
    },
    {
     "name": "stderr",
     "output_type": "stream",
     "text": [
      "[INFO 09-23 22:08:39] Scheduler: Waiting for completed trials (for 10 sec, currently running trials: 5).\n"
     ]
    },
    {
     "name": "stderr",
     "output_type": "stream",
     "text": [
      "[INFO 09-23 22:08:49] Scheduler: Fetching data for newly completed trials: [].\n"
     ]
    },
    {
     "name": "stderr",
     "output_type": "stream",
     "text": [
      "[INFO 09-23 22:08:49] Scheduler: Fetching data for trials: [0, 5, 6, 7, 8] because some metrics on experiment are available while trials are running.\n"
     ]
    },
    {
     "name": "stderr",
     "output_type": "stream",
     "text": [
      "/tmp/tmp.QqcA7fo0ui/Ax-main/ax/core/map_data.py:195: FutureWarning: The behavior of DataFrame concatenation with empty or all-NA entries is deprecated. In a future version, this will no longer exclude empty or all-NA columns when determining the result dtypes. To retain the old behavior, exclude the relevant entries before the concat operation.\n",
      "  df = pd.concat(\n"
     ]
    },
    {
     "name": "stderr",
     "output_type": "stream",
     "text": [
      "/tmp/tmp.QqcA7fo0ui/Ax-main/ax/core/map_data.py:195: FutureWarning: The behavior of DataFrame concatenation with empty or all-NA entries is deprecated. In a future version, this will no longer exclude empty or all-NA columns when determining the result dtypes. To retain the old behavior, exclude the relevant entries before the concat operation.\n",
      "  df = pd.concat(\n",
      "[INFO 09-23 22:08:49] ax.early_stopping.strategies.base: The number of completed trials (0) is less than the minimum number of curves needed for early stopping (5). Not early stopping.\n"
     ]
    },
    {
     "name": "stderr",
     "output_type": "stream",
     "text": [
      "[INFO 09-23 22:08:49] Scheduler: Waiting for completed trials (for 10 sec, currently running trials: 5).\n"
     ]
    },
    {
     "name": "stderr",
     "output_type": "stream",
     "text": [
      "[INFO 09-23 22:08:59] Scheduler: Fetching data for newly completed trials: [].\n"
     ]
    },
    {
     "name": "stderr",
     "output_type": "stream",
     "text": [
      "[INFO 09-23 22:08:59] Scheduler: Fetching data for trials: [0, 5, 6, 7, 8] because some metrics on experiment are available while trials are running.\n"
     ]
    },
    {
     "name": "stderr",
     "output_type": "stream",
     "text": [
      "/tmp/tmp.QqcA7fo0ui/Ax-main/ax/core/map_data.py:195: FutureWarning: The behavior of DataFrame concatenation with empty or all-NA entries is deprecated. In a future version, this will no longer exclude empty or all-NA columns when determining the result dtypes. To retain the old behavior, exclude the relevant entries before the concat operation.\n",
      "  df = pd.concat(\n"
     ]
    },
    {
     "name": "stderr",
     "output_type": "stream",
     "text": [
      "/tmp/tmp.QqcA7fo0ui/Ax-main/ax/core/map_data.py:195: FutureWarning: The behavior of DataFrame concatenation with empty or all-NA entries is deprecated. In a future version, this will no longer exclude empty or all-NA columns when determining the result dtypes. To retain the old behavior, exclude the relevant entries before the concat operation.\n",
      "  df = pd.concat(\n",
      "[INFO 09-23 22:08:59] ax.early_stopping.strategies.base: The number of completed trials (0) is less than the minimum number of curves needed for early stopping (5). Not early stopping.\n"
     ]
    },
    {
     "name": "stderr",
     "output_type": "stream",
     "text": [
      "[INFO 09-23 22:08:59] Scheduler: Waiting for completed trials (for 10 sec, currently running trials: 5).\n"
     ]
    },
    {
     "name": "stderr",
     "output_type": "stream",
     "text": [
      "[INFO 09-23 22:09:09] Scheduler: Fetching data for newly completed trials: [].\n"
     ]
    },
    {
     "name": "stderr",
     "output_type": "stream",
     "text": [
      "[INFO 09-23 22:09:09] Scheduler: Fetching data for trials: [0, 5, 6, 7, 8] because some metrics on experiment are available while trials are running.\n"
     ]
    },
    {
     "name": "stderr",
     "output_type": "stream",
     "text": [
      "/tmp/tmp.QqcA7fo0ui/Ax-main/ax/core/map_data.py:195: FutureWarning: The behavior of DataFrame concatenation with empty or all-NA entries is deprecated. In a future version, this will no longer exclude empty or all-NA columns when determining the result dtypes. To retain the old behavior, exclude the relevant entries before the concat operation.\n",
      "  df = pd.concat(\n"
     ]
    },
    {
     "name": "stderr",
     "output_type": "stream",
     "text": [
      "/tmp/tmp.QqcA7fo0ui/Ax-main/ax/core/map_data.py:195: FutureWarning: The behavior of DataFrame concatenation with empty or all-NA entries is deprecated. In a future version, this will no longer exclude empty or all-NA columns when determining the result dtypes. To retain the old behavior, exclude the relevant entries before the concat operation.\n",
      "  df = pd.concat(\n",
      "[INFO 09-23 22:09:09] ax.early_stopping.strategies.base: The number of completed trials (0) is less than the minimum number of curves needed for early stopping (5). Not early stopping.\n"
     ]
    },
    {
     "name": "stderr",
     "output_type": "stream",
     "text": [
      "[INFO 09-23 22:09:09] Scheduler: Waiting for completed trials (for 10 sec, currently running trials: 5).\n"
     ]
    },
    {
     "name": "stderr",
     "output_type": "stream",
     "text": [
      "[INFO 09-23 22:09:19] Scheduler: Fetching data for newly completed trials: [].\n"
     ]
    },
    {
     "name": "stderr",
     "output_type": "stream",
     "text": [
      "[INFO 09-23 22:09:19] Scheduler: Fetching data for trials: [0, 5, 6, 7, 8] because some metrics on experiment are available while trials are running.\n"
     ]
    },
    {
     "name": "stderr",
     "output_type": "stream",
     "text": [
      "/tmp/tmp.QqcA7fo0ui/Ax-main/ax/core/map_data.py:195: FutureWarning: The behavior of DataFrame concatenation with empty or all-NA entries is deprecated. In a future version, this will no longer exclude empty or all-NA columns when determining the result dtypes. To retain the old behavior, exclude the relevant entries before the concat operation.\n",
      "  df = pd.concat(\n"
     ]
    },
    {
     "name": "stderr",
     "output_type": "stream",
     "text": [
      "/tmp/tmp.QqcA7fo0ui/Ax-main/ax/core/map_data.py:195: FutureWarning: The behavior of DataFrame concatenation with empty or all-NA entries is deprecated. In a future version, this will no longer exclude empty or all-NA columns when determining the result dtypes. To retain the old behavior, exclude the relevant entries before the concat operation.\n",
      "  df = pd.concat(\n",
      "[INFO 09-23 22:09:20] ax.early_stopping.strategies.base: The number of completed trials (0) is less than the minimum number of curves needed for early stopping (5). Not early stopping.\n"
     ]
    },
    {
     "name": "stderr",
     "output_type": "stream",
     "text": [
      "[INFO 09-23 22:09:20] Scheduler: Waiting for completed trials (for 10 sec, currently running trials: 5).\n"
     ]
    },
    {
     "name": "stderr",
     "output_type": "stream",
     "text": [
      "[INFO 09-23 22:09:30] Scheduler: Fetching data for newly completed trials: [].\n"
     ]
    },
    {
     "name": "stderr",
     "output_type": "stream",
     "text": [
      "[INFO 09-23 22:09:30] Scheduler: Fetching data for trials: [0, 5, 6, 7, 8] because some metrics on experiment are available while trials are running.\n"
     ]
    },
    {
     "name": "stderr",
     "output_type": "stream",
     "text": [
      "/tmp/tmp.QqcA7fo0ui/Ax-main/ax/core/map_data.py:195: FutureWarning: The behavior of DataFrame concatenation with empty or all-NA entries is deprecated. In a future version, this will no longer exclude empty or all-NA columns when determining the result dtypes. To retain the old behavior, exclude the relevant entries before the concat operation.\n",
      "  df = pd.concat(\n"
     ]
    },
    {
     "name": "stderr",
     "output_type": "stream",
     "text": [
      "/tmp/tmp.QqcA7fo0ui/Ax-main/ax/core/map_data.py:195: FutureWarning: The behavior of DataFrame concatenation with empty or all-NA entries is deprecated. In a future version, this will no longer exclude empty or all-NA columns when determining the result dtypes. To retain the old behavior, exclude the relevant entries before the concat operation.\n",
      "  df = pd.concat(\n",
      "[INFO 09-23 22:09:30] ax.early_stopping.strategies.base: The number of completed trials (0) is less than the minimum number of curves needed for early stopping (5). Not early stopping.\n"
     ]
    },
    {
     "name": "stderr",
     "output_type": "stream",
     "text": [
      "[INFO 09-23 22:09:30] Scheduler: Waiting for completed trials (for 10 sec, currently running trials: 5).\n"
     ]
    },
    {
     "name": "stderr",
     "output_type": "stream",
     "text": [
      "[INFO 09-23 22:09:40] Scheduler: Fetching data for newly completed trials: [].\n"
     ]
    },
    {
     "name": "stderr",
     "output_type": "stream",
     "text": [
      "[INFO 09-23 22:09:40] Scheduler: Fetching data for trials: [0, 5, 6, 7, 8] because some metrics on experiment are available while trials are running.\n"
     ]
    },
    {
     "name": "stderr",
     "output_type": "stream",
     "text": [
      "/tmp/tmp.QqcA7fo0ui/Ax-main/ax/core/map_data.py:195: FutureWarning: The behavior of DataFrame concatenation with empty or all-NA entries is deprecated. In a future version, this will no longer exclude empty or all-NA columns when determining the result dtypes. To retain the old behavior, exclude the relevant entries before the concat operation.\n",
      "  df = pd.concat(\n"
     ]
    },
    {
     "name": "stderr",
     "output_type": "stream",
     "text": [
      "/tmp/tmp.QqcA7fo0ui/Ax-main/ax/core/map_data.py:195: FutureWarning: The behavior of DataFrame concatenation with empty or all-NA entries is deprecated. In a future version, this will no longer exclude empty or all-NA columns when determining the result dtypes. To retain the old behavior, exclude the relevant entries before the concat operation.\n",
      "  df = pd.concat(\n",
      "[INFO 09-23 22:09:40] ax.early_stopping.strategies.base: The number of completed trials (0) is less than the minimum number of curves needed for early stopping (5). Not early stopping.\n"
     ]
    },
    {
     "name": "stderr",
     "output_type": "stream",
     "text": [
      "[INFO 09-23 22:09:40] Scheduler: Waiting for completed trials (for 10 sec, currently running trials: 5).\n"
     ]
    },
    {
     "name": "stderr",
     "output_type": "stream",
     "text": [
      "[INFO 09-23 22:09:50] Scheduler: Fetching data for newly completed trials: [].\n"
     ]
    },
    {
     "name": "stderr",
     "output_type": "stream",
     "text": [
      "[INFO 09-23 22:09:50] Scheduler: Fetching data for trials: [0, 5, 6, 7, 8] because some metrics on experiment are available while trials are running.\n"
     ]
    },
    {
     "name": "stderr",
     "output_type": "stream",
     "text": [
      "/tmp/tmp.QqcA7fo0ui/Ax-main/ax/core/map_data.py:195: FutureWarning: The behavior of DataFrame concatenation with empty or all-NA entries is deprecated. In a future version, this will no longer exclude empty or all-NA columns when determining the result dtypes. To retain the old behavior, exclude the relevant entries before the concat operation.\n",
      "  df = pd.concat(\n"
     ]
    },
    {
     "name": "stderr",
     "output_type": "stream",
     "text": [
      "/tmp/tmp.QqcA7fo0ui/Ax-main/ax/core/map_data.py:195: FutureWarning: The behavior of DataFrame concatenation with empty or all-NA entries is deprecated. In a future version, this will no longer exclude empty or all-NA columns when determining the result dtypes. To retain the old behavior, exclude the relevant entries before the concat operation.\n",
      "  df = pd.concat(\n",
      "[INFO 09-23 22:09:51] ax.early_stopping.strategies.base: The number of completed trials (0) is less than the minimum number of curves needed for early stopping (5). Not early stopping.\n"
     ]
    },
    {
     "name": "stderr",
     "output_type": "stream",
     "text": [
      "[INFO 09-23 22:09:51] Scheduler: Waiting for completed trials (for 10 sec, currently running trials: 5).\n"
     ]
    },
    {
     "name": "stderr",
     "output_type": "stream",
     "text": [
      "[INFO 09-23 22:10:01] Scheduler: Fetching data for newly completed trials: [].\n"
     ]
    },
    {
     "name": "stderr",
     "output_type": "stream",
     "text": [
      "[INFO 09-23 22:10:01] Scheduler: Fetching data for trials: [0, 5, 6, 7, 8] because some metrics on experiment are available while trials are running.\n"
     ]
    },
    {
     "name": "stderr",
     "output_type": "stream",
     "text": [
      "/tmp/tmp.QqcA7fo0ui/Ax-main/ax/core/map_data.py:195: FutureWarning: The behavior of DataFrame concatenation with empty or all-NA entries is deprecated. In a future version, this will no longer exclude empty or all-NA columns when determining the result dtypes. To retain the old behavior, exclude the relevant entries before the concat operation.\n",
      "  df = pd.concat(\n"
     ]
    },
    {
     "name": "stderr",
     "output_type": "stream",
     "text": [
      "/tmp/tmp.QqcA7fo0ui/Ax-main/ax/core/map_data.py:195: FutureWarning: The behavior of DataFrame concatenation with empty or all-NA entries is deprecated. In a future version, this will no longer exclude empty or all-NA columns when determining the result dtypes. To retain the old behavior, exclude the relevant entries before the concat operation.\n",
      "  df = pd.concat(\n",
      "[INFO 09-23 22:10:01] ax.early_stopping.strategies.base: The number of completed trials (0) is less than the minimum number of curves needed for early stopping (5). Not early stopping.\n"
     ]
    },
    {
     "name": "stderr",
     "output_type": "stream",
     "text": [
      "[INFO 09-23 22:10:01] Scheduler: Waiting for completed trials (for 10 sec, currently running trials: 5).\n"
     ]
    },
    {
     "name": "stderr",
     "output_type": "stream",
     "text": [
      "[INFO 09-23 22:10:11] Scheduler: Fetching data for newly completed trials: [].\n"
     ]
    },
    {
     "name": "stderr",
     "output_type": "stream",
     "text": [
      "[INFO 09-23 22:10:11] Scheduler: Fetching data for trials: [0, 5, 6, 7, 8] because some metrics on experiment are available while trials are running.\n"
     ]
    },
    {
     "name": "stderr",
     "output_type": "stream",
     "text": [
      "/tmp/tmp.QqcA7fo0ui/Ax-main/ax/core/map_data.py:195: FutureWarning: The behavior of DataFrame concatenation with empty or all-NA entries is deprecated. In a future version, this will no longer exclude empty or all-NA columns when determining the result dtypes. To retain the old behavior, exclude the relevant entries before the concat operation.\n",
      "  df = pd.concat(\n"
     ]
    },
    {
     "name": "stderr",
     "output_type": "stream",
     "text": [
      "/tmp/tmp.QqcA7fo0ui/Ax-main/ax/core/map_data.py:195: FutureWarning: The behavior of DataFrame concatenation with empty or all-NA entries is deprecated. In a future version, this will no longer exclude empty or all-NA columns when determining the result dtypes. To retain the old behavior, exclude the relevant entries before the concat operation.\n",
      "  df = pd.concat(\n",
      "[INFO 09-23 22:10:11] ax.early_stopping.strategies.base: The number of completed trials (0) is less than the minimum number of curves needed for early stopping (5). Not early stopping.\n"
     ]
    },
    {
     "name": "stderr",
     "output_type": "stream",
     "text": [
      "[INFO 09-23 22:10:11] Scheduler: Waiting for completed trials (for 10 sec, currently running trials: 5).\n"
     ]
    },
    {
     "name": "stderr",
     "output_type": "stream",
     "text": [
      "[INFO 09-23 22:10:21] Scheduler: Fetching data for newly completed trials: [5].\n"
     ]
    },
    {
     "name": "stderr",
     "output_type": "stream",
     "text": [
      "[INFO 09-23 22:10:21] Scheduler: Fetching data for trials: [0, 6, 7, 8] because some metrics on experiment are available while trials are running.\n"
     ]
    },
    {
     "name": "stderr",
     "output_type": "stream",
     "text": [
      "[INFO 09-23 22:10:21] Scheduler: Retrieved COMPLETED trials: [5].\n"
     ]
    },
    {
     "name": "stderr",
     "output_type": "stream",
     "text": [
      "/tmp/tmp.QqcA7fo0ui/Ax-main/ax/core/map_data.py:195: FutureWarning: The behavior of DataFrame concatenation with empty or all-NA entries is deprecated. In a future version, this will no longer exclude empty or all-NA columns when determining the result dtypes. To retain the old behavior, exclude the relevant entries before the concat operation.\n",
      "  df = pd.concat(\n"
     ]
    },
    {
     "name": "stderr",
     "output_type": "stream",
     "text": [
      "/tmp/tmp.QqcA7fo0ui/Ax-main/ax/core/map_data.py:195: FutureWarning: The behavior of DataFrame concatenation with empty or all-NA entries is deprecated. In a future version, this will no longer exclude empty or all-NA columns when determining the result dtypes. To retain the old behavior, exclude the relevant entries before the concat operation.\n",
      "  df = pd.concat(\n"
     ]
    },
    {
     "name": "stderr",
     "output_type": "stream",
     "text": [
      "[INFO 09-23 22:10:21] ax.early_stopping.strategies.base: The number of completed trials (1) is less than the minimum number of curves needed for early stopping (5). Not early stopping.\n"
     ]
    },
    {
     "name": "stderr",
     "output_type": "stream",
     "text": [
      "[WARNING 09-23 22:10:22] Scheduler: Both `init_seconds_between_polls` and `early_stopping_strategy supplied. `init_seconds_between_polls=1` will be overrridden by `early_stopping_strategy.seconds_between_polls=10` and polling will take place at a constant rate.\n"
     ]
    },
    {
     "name": "stderr",
     "output_type": "stream",
     "text": [
      "[INFO 09-23 22:10:22] Scheduler: Fetching data for newly completed trials: [].\n"
     ]
    },
    {
     "name": "stderr",
     "output_type": "stream",
     "text": [
      "[INFO 09-23 22:10:22] Scheduler: Fetching data for trials: [0, 6, 7, 8] because some metrics on experiment are available while trials are running.\n"
     ]
    },
    {
     "name": "stderr",
     "output_type": "stream",
     "text": [
      "/tmp/tmp.QqcA7fo0ui/Ax-main/ax/core/map_data.py:195: FutureWarning: The behavior of DataFrame concatenation with empty or all-NA entries is deprecated. In a future version, this will no longer exclude empty or all-NA columns when determining the result dtypes. To retain the old behavior, exclude the relevant entries before the concat operation.\n",
      "  df = pd.concat(\n"
     ]
    },
    {
     "name": "stderr",
     "output_type": "stream",
     "text": [
      "/tmp/tmp.QqcA7fo0ui/Ax-main/ax/core/map_data.py:195: FutureWarning: The behavior of DataFrame concatenation with empty or all-NA entries is deprecated. In a future version, this will no longer exclude empty or all-NA columns when determining the result dtypes. To retain the old behavior, exclude the relevant entries before the concat operation.\n",
      "  df = pd.concat(\n",
      "[INFO 09-23 22:10:22] ax.early_stopping.strategies.base: The number of completed trials (1) is less than the minimum number of curves needed for early stopping (5). Not early stopping.\n"
     ]
    },
    {
     "name": "stderr",
     "output_type": "stream",
     "text": [
      "[INFO 09-23 22:10:22] Scheduler: Waiting for completed trials (for 10 sec, currently running trials: 4).\n"
     ]
    },
    {
     "name": "stderr",
     "output_type": "stream",
     "text": [
      "[INFO 09-23 22:10:32] Scheduler: Fetching data for newly completed trials: [].\n"
     ]
    },
    {
     "name": "stderr",
     "output_type": "stream",
     "text": [
      "[INFO 09-23 22:10:32] Scheduler: Fetching data for trials: [0, 6, 7, 8] because some metrics on experiment are available while trials are running.\n"
     ]
    },
    {
     "name": "stderr",
     "output_type": "stream",
     "text": [
      "/tmp/tmp.QqcA7fo0ui/Ax-main/ax/core/map_data.py:195: FutureWarning: The behavior of DataFrame concatenation with empty or all-NA entries is deprecated. In a future version, this will no longer exclude empty or all-NA columns when determining the result dtypes. To retain the old behavior, exclude the relevant entries before the concat operation.\n",
      "  df = pd.concat(\n",
      "/tmp/tmp.QqcA7fo0ui/Ax-main/ax/core/map_data.py:195: FutureWarning: The behavior of DataFrame concatenation with empty or all-NA entries is deprecated. In a future version, this will no longer exclude empty or all-NA columns when determining the result dtypes. To retain the old behavior, exclude the relevant entries before the concat operation.\n",
      "  df = pd.concat(\n",
      "[INFO 09-23 22:10:32] ax.early_stopping.strategies.base: The number of completed trials (1) is less than the minimum number of curves needed for early stopping (5). Not early stopping.\n"
     ]
    },
    {
     "name": "stderr",
     "output_type": "stream",
     "text": [
      "[INFO 09-23 22:10:32] Scheduler: Waiting for completed trials (for 10 sec, currently running trials: 4).\n"
     ]
    },
    {
     "name": "stderr",
     "output_type": "stream",
     "text": [
      "[INFO 09-23 22:10:42] Scheduler: Fetching data for newly completed trials: [0].\n"
     ]
    },
    {
     "name": "stderr",
     "output_type": "stream",
     "text": [
      "[INFO 09-23 22:10:42] Scheduler: Fetching data for trials: 6 - 8 because some metrics on experiment are available while trials are running.\n"
     ]
    },
    {
     "name": "stderr",
     "output_type": "stream",
     "text": [
      "[INFO 09-23 22:10:42] Scheduler: Retrieved COMPLETED trials: [0].\n"
     ]
    },
    {
     "name": "stderr",
     "output_type": "stream",
     "text": [
      "/tmp/tmp.QqcA7fo0ui/Ax-main/ax/core/map_data.py:195: FutureWarning: The behavior of DataFrame concatenation with empty or all-NA entries is deprecated. In a future version, this will no longer exclude empty or all-NA columns when determining the result dtypes. To retain the old behavior, exclude the relevant entries before the concat operation.\n",
      "  df = pd.concat(\n",
      "/tmp/tmp.QqcA7fo0ui/Ax-main/ax/core/map_data.py:195: FutureWarning: The behavior of DataFrame concatenation with empty or all-NA entries is deprecated. In a future version, this will no longer exclude empty or all-NA columns when determining the result dtypes. To retain the old behavior, exclude the relevant entries before the concat operation.\n",
      "  df = pd.concat(\n",
      "[INFO 09-23 22:10:42] ax.early_stopping.strategies.base: The number of completed trials (2) is less than the minimum number of curves needed for early stopping (5). Not early stopping.\n"
     ]
    },
    {
     "name": "stderr",
     "output_type": "stream",
     "text": [
      "[WARNING 09-23 22:10:42] Scheduler: Both `init_seconds_between_polls` and `early_stopping_strategy supplied. `init_seconds_between_polls=1` will be overrridden by `early_stopping_strategy.seconds_between_polls=10` and polling will take place at a constant rate.\n"
     ]
    },
    {
     "name": "stderr",
     "output_type": "stream",
     "text": [
      "[INFO 09-23 22:10:42] Scheduler: Fetching data for newly completed trials: [].\n"
     ]
    },
    {
     "name": "stderr",
     "output_type": "stream",
     "text": [
      "[INFO 09-23 22:10:42] Scheduler: Fetching data for trials: 6 - 8 because some metrics on experiment are available while trials are running.\n"
     ]
    },
    {
     "name": "stderr",
     "output_type": "stream",
     "text": [
      "/tmp/tmp.QqcA7fo0ui/Ax-main/ax/core/map_data.py:195: FutureWarning: The behavior of DataFrame concatenation with empty or all-NA entries is deprecated. In a future version, this will no longer exclude empty or all-NA columns when determining the result dtypes. To retain the old behavior, exclude the relevant entries before the concat operation.\n",
      "  df = pd.concat(\n"
     ]
    },
    {
     "name": "stderr",
     "output_type": "stream",
     "text": [
      "/tmp/tmp.QqcA7fo0ui/Ax-main/ax/core/map_data.py:195: FutureWarning: The behavior of DataFrame concatenation with empty or all-NA entries is deprecated. In a future version, this will no longer exclude empty or all-NA columns when determining the result dtypes. To retain the old behavior, exclude the relevant entries before the concat operation.\n",
      "  df = pd.concat(\n",
      "[INFO 09-23 22:10:43] ax.early_stopping.strategies.base: The number of completed trials (2) is less than the minimum number of curves needed for early stopping (5). Not early stopping.\n"
     ]
    },
    {
     "name": "stderr",
     "output_type": "stream",
     "text": [
      "[INFO 09-23 22:10:43] Scheduler: Waiting for completed trials (for 10 sec, currently running trials: 3).\n"
     ]
    },
    {
     "name": "stderr",
     "output_type": "stream",
     "text": [
      "[INFO 09-23 22:10:53] Scheduler: Fetching data for newly completed trials: 6 - 8.\n"
     ]
    },
    {
     "name": "stderr",
     "output_type": "stream",
     "text": [
      "[INFO 09-23 22:10:53] Scheduler: Retrieved COMPLETED trials: 6 - 8.\n"
     ]
    },
    {
     "name": "stderr",
     "output_type": "stream",
     "text": [
      "/tmp/tmp.QqcA7fo0ui/Ax-main/ax/core/map_data.py:195: FutureWarning: The behavior of DataFrame concatenation with empty or all-NA entries is deprecated. In a future version, this will no longer exclude empty or all-NA columns when determining the result dtypes. To retain the old behavior, exclude the relevant entries before the concat operation.\n",
      "  df = pd.concat(\n",
      "/tmp/tmp.QqcA7fo0ui/Ax-main/ax/core/map_data.py:195: FutureWarning: The behavior of DataFrame concatenation with empty or all-NA entries is deprecated. In a future version, this will no longer exclude empty or all-NA columns when determining the result dtypes. To retain the old behavior, exclude the relevant entries before the concat operation.\n",
      "  df = pd.concat(\n",
      "[INFO 09-23 22:10:53] ax.early_stopping.strategies.base: Last progression of any candidate for trial stopping is 0.\n"
     ]
    },
    {
     "name": "stderr",
     "output_type": "stream",
     "text": [
      "[INFO 09-23 22:10:53] ax.early_stopping.strategies.base: No trials have reached 0.3. Not stopping any trials.\n"
     ]
    },
    {
     "name": "stderr",
     "output_type": "stream",
     "text": [
      "/tmp/tmp.QqcA7fo0ui/Ax-main/ax/core/map_data.py:195: FutureWarning: The behavior of DataFrame concatenation with empty or all-NA entries is deprecated. In a future version, this will no longer exclude empty or all-NA columns when determining the result dtypes. To retain the old behavior, exclude the relevant entries before the concat operation.\n",
      "  df = pd.concat(\n"
     ]
    },
    {
     "name": "stderr",
     "output_type": "stream",
     "text": [
      "[INFO 09-23 22:10:54] Scheduler: Running trials [9]...\n"
     ]
    },
    {
     "name": "stderr",
     "output_type": "stream",
     "text": [
      "/tmp/tmp.QqcA7fo0ui/Ax-main/ax/core/map_data.py:195: FutureWarning: The behavior of DataFrame concatenation with empty or all-NA entries is deprecated. In a future version, this will no longer exclude empty or all-NA columns when determining the result dtypes. To retain the old behavior, exclude the relevant entries before the concat operation.\n",
      "  df = pd.concat(\n"
     ]
    },
    {
     "name": "stderr",
     "output_type": "stream",
     "text": [
      "[INFO 09-23 22:10:56] Scheduler: Running trials [10]...\n"
     ]
    },
    {
     "name": "stderr",
     "output_type": "stream",
     "text": [
      "/tmp/tmp.QqcA7fo0ui/Ax-main/ax/core/map_data.py:195: FutureWarning: The behavior of DataFrame concatenation with empty or all-NA entries is deprecated. In a future version, this will no longer exclude empty or all-NA columns when determining the result dtypes. To retain the old behavior, exclude the relevant entries before the concat operation.\n",
      "  df = pd.concat(\n"
     ]
    },
    {
     "name": "stderr",
     "output_type": "stream",
     "text": [
      "[INFO 09-23 22:11:00] Scheduler: Running trials [11]...\n"
     ]
    },
    {
     "name": "stderr",
     "output_type": "stream",
     "text": [
      "/tmp/tmp.QqcA7fo0ui/Ax-main/ax/core/map_data.py:195: FutureWarning: The behavior of DataFrame concatenation with empty or all-NA entries is deprecated. In a future version, this will no longer exclude empty or all-NA columns when determining the result dtypes. To retain the old behavior, exclude the relevant entries before the concat operation.\n",
      "  df = pd.concat(\n"
     ]
    },
    {
     "name": "stderr",
     "output_type": "stream",
     "text": [
      "[INFO 09-23 22:11:01] Scheduler: Generated all trials that can be generated currently. Max parallelism currently reached.\n"
     ]
    },
    {
     "name": "stderr",
     "output_type": "stream",
     "text": [
      "[WARNING 09-23 22:11:01] Scheduler: Both `init_seconds_between_polls` and `early_stopping_strategy supplied. `init_seconds_between_polls=1` will be overrridden by `early_stopping_strategy.seconds_between_polls=10` and polling will take place at a constant rate.\n"
     ]
    },
    {
     "name": "stderr",
     "output_type": "stream",
     "text": [
      "[INFO 09-23 22:11:01] Scheduler: Fetching data for newly completed trials: [].\n"
     ]
    },
    {
     "name": "stderr",
     "output_type": "stream",
     "text": [
      "[INFO 09-23 22:11:01] Scheduler: Fetching data for trials: 9 - 11 because some metrics on experiment are available while trials are running.\n"
     ]
    },
    {
     "name": "stderr",
     "output_type": "stream",
     "text": [
      "[INFO 09-23 22:11:01] ax.core.metric: MetricFetchE INFO: Initialized MetricFetchE(message=\"No 'scalar' data found for trial in multiplexer mul=<tensorboard.backend.event_processing.plugin_event_multiplexer.EventMultiplexer object at 0x7f11dfa7a710>\")\n"
     ]
    },
    {
     "name": "stderr",
     "output_type": "stream",
     "text": [
      "[INFO 09-23 22:11:01] ax.core.metric: MetricFetchE INFO: Initialized MetricFetchE(message=\"No 'scalar' data found for trial in multiplexer mul=<tensorboard.backend.event_processing.plugin_event_multiplexer.EventMultiplexer object at 0x7f11dfa7a710>\")\n"
     ]
    },
    {
     "name": "stderr",
     "output_type": "stream",
     "text": [
      "[INFO 09-23 22:11:01] ax.core.metric: MetricFetchE INFO: Initialized MetricFetchE(message=\"No 'scalar' data found for trial in multiplexer mul=<tensorboard.backend.event_processing.plugin_event_multiplexer.EventMultiplexer object at 0x7f124e4f2b90>\")\n"
     ]
    },
    {
     "name": "stderr",
     "output_type": "stream",
     "text": [
      "[ERROR 09-23 22:11:01] ax.core.experiment: Discovered Metric fetching Err while attaching data MetricFetchE(message=\"No 'scalar' data found for trial in multiplexer mul=<tensorboard.backend.event_processing.plugin_event_multiplexer.EventMultiplexer object at 0x7f11dfa7a710>\"). Ignoring for now -- will retry query on next call to fetch.\n"
     ]
    },
    {
     "name": "stderr",
     "output_type": "stream",
     "text": [
      "[ERROR 09-23 22:11:01] ax.core.experiment: Discovered Metric fetching Err while attaching data MetricFetchE(message=\"No 'scalar' data found for trial in multiplexer mul=<tensorboard.backend.event_processing.plugin_event_multiplexer.EventMultiplexer object at 0x7f11dfa7a710>\"). Ignoring for now -- will retry query on next call to fetch.\n"
     ]
    },
    {
     "name": "stderr",
     "output_type": "stream",
     "text": [
      "[ERROR 09-23 22:11:01] ax.core.experiment: Discovered Metric fetching Err while attaching data MetricFetchE(message=\"No 'scalar' data found for trial in multiplexer mul=<tensorboard.backend.event_processing.plugin_event_multiplexer.EventMultiplexer object at 0x7f124e4f2b90>\"). Ignoring for now -- will retry query on next call to fetch.\n"
     ]
    },
    {
     "name": "stderr",
     "output_type": "stream",
     "text": [
      "[WARNING 09-23 22:11:01] Scheduler: Failed to fetch val_acc for trial 9, found MetricFetchE(message=\"No 'scalar' data found for trial in multiplexer mul=<tensorboard.backend.event_processing.plugin_event_multiplexer.EventMultiplexer object at 0x7f11dfa7a710>\").\n"
     ]
    },
    {
     "name": "stderr",
     "output_type": "stream",
     "text": [
      "[INFO 09-23 22:11:01] Scheduler: MetricFetchE INFO: Because val_acc is available_while_running and trial 9 is still RUNNING continuing the experiment and retrying on next poll...\n"
     ]
    },
    {
     "name": "stderr",
     "output_type": "stream",
     "text": [
      "[WARNING 09-23 22:11:01] Scheduler: Failed to fetch val_acc for trial 10, found MetricFetchE(message=\"No 'scalar' data found for trial in multiplexer mul=<tensorboard.backend.event_processing.plugin_event_multiplexer.EventMultiplexer object at 0x7f11dfa7a710>\").\n"
     ]
    },
    {
     "name": "stderr",
     "output_type": "stream",
     "text": [
      "[INFO 09-23 22:11:01] Scheduler: MetricFetchE INFO: Because val_acc is available_while_running and trial 10 is still RUNNING continuing the experiment and retrying on next poll...\n"
     ]
    },
    {
     "name": "stderr",
     "output_type": "stream",
     "text": [
      "[WARNING 09-23 22:11:01] Scheduler: Failed to fetch val_acc for trial 11, found MetricFetchE(message=\"No 'scalar' data found for trial in multiplexer mul=<tensorboard.backend.event_processing.plugin_event_multiplexer.EventMultiplexer object at 0x7f124e4f2b90>\").\n"
     ]
    },
    {
     "name": "stderr",
     "output_type": "stream",
     "text": [
      "[INFO 09-23 22:11:01] Scheduler: MetricFetchE INFO: Because val_acc is available_while_running and trial 11 is still RUNNING continuing the experiment and retrying on next poll...\n"
     ]
    },
    {
     "name": "stderr",
     "output_type": "stream",
     "text": [
      "/tmp/tmp.QqcA7fo0ui/Ax-main/ax/core/map_data.py:195: FutureWarning: The behavior of DataFrame concatenation with empty or all-NA entries is deprecated. In a future version, this will no longer exclude empty or all-NA columns when determining the result dtypes. To retain the old behavior, exclude the relevant entries before the concat operation.\n",
      "  df = pd.concat(\n",
      "[INFO 09-23 22:11:01] ax.early_stopping.strategies.base: Last progression of any candidate for trial stopping is 0.\n"
     ]
    },
    {
     "name": "stderr",
     "output_type": "stream",
     "text": [
      "[INFO 09-23 22:11:01] ax.early_stopping.strategies.base: No trials have reached 0.3. Not stopping any trials.\n"
     ]
    },
    {
     "name": "stderr",
     "output_type": "stream",
     "text": [
      "[INFO 09-23 22:11:01] Scheduler: Waiting for completed trials (for 10 sec, currently running trials: 3).\n"
     ]
    },
    {
     "name": "stderr",
     "output_type": "stream",
     "text": [
      "[INFO 09-23 22:11:11] Scheduler: Fetching data for newly completed trials: [].\n"
     ]
    },
    {
     "name": "stderr",
     "output_type": "stream",
     "text": [
      "[INFO 09-23 22:11:11] Scheduler: Fetching data for trials: 9 - 11 because some metrics on experiment are available while trials are running.\n"
     ]
    },
    {
     "name": "stderr",
     "output_type": "stream",
     "text": [
      "[INFO 09-23 22:11:11] ax.core.metric: MetricFetchE INFO: Initialized MetricFetchE(message=\"No 'scalar' data found for trial in multiplexer mul=<tensorboard.backend.event_processing.plugin_event_multiplexer.EventMultiplexer object at 0x7f11deed3d90>\")\n"
     ]
    },
    {
     "name": "stderr",
     "output_type": "stream",
     "text": [
      "[INFO 09-23 22:11:11] ax.core.metric: MetricFetchE INFO: Initialized MetricFetchE(message=\"No 'scalar' data found for trial in multiplexer mul=<tensorboard.backend.event_processing.plugin_event_multiplexer.EventMultiplexer object at 0x7f11deed34f0>\")\n"
     ]
    },
    {
     "name": "stderr",
     "output_type": "stream",
     "text": [
      "[INFO 09-23 22:11:11] ax.core.metric: MetricFetchE INFO: Initialized MetricFetchE(message=\"No 'scalar' data found for trial in multiplexer mul=<tensorboard.backend.event_processing.plugin_event_multiplexer.EventMultiplexer object at 0x7f11deed1a80>\")\n"
     ]
    },
    {
     "name": "stderr",
     "output_type": "stream",
     "text": [
      "[ERROR 09-23 22:11:11] ax.core.experiment: Discovered Metric fetching Err while attaching data MetricFetchE(message=\"No 'scalar' data found for trial in multiplexer mul=<tensorboard.backend.event_processing.plugin_event_multiplexer.EventMultiplexer object at 0x7f11deed3d90>\"). Ignoring for now -- will retry query on next call to fetch.\n"
     ]
    },
    {
     "name": "stderr",
     "output_type": "stream",
     "text": [
      "[ERROR 09-23 22:11:11] ax.core.experiment: Discovered Metric fetching Err while attaching data MetricFetchE(message=\"No 'scalar' data found for trial in multiplexer mul=<tensorboard.backend.event_processing.plugin_event_multiplexer.EventMultiplexer object at 0x7f11deed34f0>\"). Ignoring for now -- will retry query on next call to fetch.\n"
     ]
    },
    {
     "name": "stderr",
     "output_type": "stream",
     "text": [
      "[ERROR 09-23 22:11:11] ax.core.experiment: Discovered Metric fetching Err while attaching data MetricFetchE(message=\"No 'scalar' data found for trial in multiplexer mul=<tensorboard.backend.event_processing.plugin_event_multiplexer.EventMultiplexer object at 0x7f11deed1a80>\"). Ignoring for now -- will retry query on next call to fetch.\n"
     ]
    },
    {
     "name": "stderr",
     "output_type": "stream",
     "text": [
      "[WARNING 09-23 22:11:11] Scheduler: Failed to fetch val_acc for trial 9, found MetricFetchE(message=\"No 'scalar' data found for trial in multiplexer mul=<tensorboard.backend.event_processing.plugin_event_multiplexer.EventMultiplexer object at 0x7f11deed3d90>\").\n"
     ]
    },
    {
     "name": "stderr",
     "output_type": "stream",
     "text": [
      "[INFO 09-23 22:11:11] Scheduler: MetricFetchE INFO: Because val_acc is available_while_running and trial 9 is still RUNNING continuing the experiment and retrying on next poll...\n"
     ]
    },
    {
     "name": "stderr",
     "output_type": "stream",
     "text": [
      "[WARNING 09-23 22:11:11] Scheduler: Failed to fetch val_acc for trial 10, found MetricFetchE(message=\"No 'scalar' data found for trial in multiplexer mul=<tensorboard.backend.event_processing.plugin_event_multiplexer.EventMultiplexer object at 0x7f11deed34f0>\").\n"
     ]
    },
    {
     "name": "stderr",
     "output_type": "stream",
     "text": [
      "[INFO 09-23 22:11:11] Scheduler: MetricFetchE INFO: Because val_acc is available_while_running and trial 10 is still RUNNING continuing the experiment and retrying on next poll...\n"
     ]
    },
    {
     "name": "stderr",
     "output_type": "stream",
     "text": [
      "[WARNING 09-23 22:11:11] Scheduler: Failed to fetch val_acc for trial 11, found MetricFetchE(message=\"No 'scalar' data found for trial in multiplexer mul=<tensorboard.backend.event_processing.plugin_event_multiplexer.EventMultiplexer object at 0x7f11deed1a80>\").\n"
     ]
    },
    {
     "name": "stderr",
     "output_type": "stream",
     "text": [
      "[INFO 09-23 22:11:11] Scheduler: MetricFetchE INFO: Because val_acc is available_while_running and trial 11 is still RUNNING continuing the experiment and retrying on next poll...\n"
     ]
    },
    {
     "name": "stderr",
     "output_type": "stream",
     "text": [
      "/tmp/tmp.QqcA7fo0ui/Ax-main/ax/core/map_data.py:195: FutureWarning: The behavior of DataFrame concatenation with empty or all-NA entries is deprecated. In a future version, this will no longer exclude empty or all-NA columns when determining the result dtypes. To retain the old behavior, exclude the relevant entries before the concat operation.\n",
      "  df = pd.concat(\n",
      "[INFO 09-23 22:11:11] ax.early_stopping.strategies.base: Last progression of any candidate for trial stopping is 0.\n"
     ]
    },
    {
     "name": "stderr",
     "output_type": "stream",
     "text": [
      "[INFO 09-23 22:11:11] ax.early_stopping.strategies.base: No trials have reached 0.3. Not stopping any trials.\n"
     ]
    },
    {
     "name": "stderr",
     "output_type": "stream",
     "text": [
      "[INFO 09-23 22:11:11] Scheduler: Waiting for completed trials (for 10 sec, currently running trials: 3).\n"
     ]
    },
    {
     "name": "stderr",
     "output_type": "stream",
     "text": [
      "[INFO 09-23 22:11:21] Scheduler: Fetching data for newly completed trials: [].\n"
     ]
    },
    {
     "name": "stderr",
     "output_type": "stream",
     "text": [
      "[INFO 09-23 22:11:21] Scheduler: Fetching data for trials: 9 - 11 because some metrics on experiment are available while trials are running.\n"
     ]
    },
    {
     "name": "stderr",
     "output_type": "stream",
     "text": [
      "[INFO 09-23 22:11:21] ax.core.metric: MetricFetchE INFO: Initialized MetricFetchE(message=\"No 'scalar' data found for trial in multiplexer mul=<tensorboard.backend.event_processing.plugin_event_multiplexer.EventMultiplexer object at 0x7f124e4f2b90>\")\n"
     ]
    },
    {
     "name": "stderr",
     "output_type": "stream",
     "text": [
      "[INFO 09-23 22:11:21] ax.core.metric: MetricFetchE INFO: Initialized MetricFetchE(message=\"No 'scalar' data found for trial in multiplexer mul=<tensorboard.backend.event_processing.plugin_event_multiplexer.EventMultiplexer object at 0x7f11ddd235e0>\")\n"
     ]
    },
    {
     "name": "stderr",
     "output_type": "stream",
     "text": [
      "[INFO 09-23 22:11:21] ax.core.metric: MetricFetchE INFO: Initialized MetricFetchE(message=\"No 'scalar' data found for trial in multiplexer mul=<tensorboard.backend.event_processing.plugin_event_multiplexer.EventMultiplexer object at 0x7f124e4f2d40>\")\n"
     ]
    },
    {
     "name": "stderr",
     "output_type": "stream",
     "text": [
      "[ERROR 09-23 22:11:21] ax.core.experiment: Discovered Metric fetching Err while attaching data MetricFetchE(message=\"No 'scalar' data found for trial in multiplexer mul=<tensorboard.backend.event_processing.plugin_event_multiplexer.EventMultiplexer object at 0x7f124e4f2b90>\"). Ignoring for now -- will retry query on next call to fetch.\n"
     ]
    },
    {
     "name": "stderr",
     "output_type": "stream",
     "text": [
      "[ERROR 09-23 22:11:21] ax.core.experiment: Discovered Metric fetching Err while attaching data MetricFetchE(message=\"No 'scalar' data found for trial in multiplexer mul=<tensorboard.backend.event_processing.plugin_event_multiplexer.EventMultiplexer object at 0x7f11ddd235e0>\"). Ignoring for now -- will retry query on next call to fetch.\n"
     ]
    },
    {
     "name": "stderr",
     "output_type": "stream",
     "text": [
      "[ERROR 09-23 22:11:21] ax.core.experiment: Discovered Metric fetching Err while attaching data MetricFetchE(message=\"No 'scalar' data found for trial in multiplexer mul=<tensorboard.backend.event_processing.plugin_event_multiplexer.EventMultiplexer object at 0x7f124e4f2d40>\"). Ignoring for now -- will retry query on next call to fetch.\n"
     ]
    },
    {
     "name": "stderr",
     "output_type": "stream",
     "text": [
      "[WARNING 09-23 22:11:21] Scheduler: Failed to fetch val_acc for trial 9, found MetricFetchE(message=\"No 'scalar' data found for trial in multiplexer mul=<tensorboard.backend.event_processing.plugin_event_multiplexer.EventMultiplexer object at 0x7f124e4f2b90>\").\n"
     ]
    },
    {
     "name": "stderr",
     "output_type": "stream",
     "text": [
      "[INFO 09-23 22:11:21] Scheduler: MetricFetchE INFO: Because val_acc is available_while_running and trial 9 is still RUNNING continuing the experiment and retrying on next poll...\n"
     ]
    },
    {
     "name": "stderr",
     "output_type": "stream",
     "text": [
      "[WARNING 09-23 22:11:21] Scheduler: Failed to fetch val_acc for trial 10, found MetricFetchE(message=\"No 'scalar' data found for trial in multiplexer mul=<tensorboard.backend.event_processing.plugin_event_multiplexer.EventMultiplexer object at 0x7f11ddd235e0>\").\n"
     ]
    },
    {
     "name": "stderr",
     "output_type": "stream",
     "text": [
      "[INFO 09-23 22:11:21] Scheduler: MetricFetchE INFO: Because val_acc is available_while_running and trial 10 is still RUNNING continuing the experiment and retrying on next poll...\n"
     ]
    },
    {
     "name": "stderr",
     "output_type": "stream",
     "text": [
      "[WARNING 09-23 22:11:21] Scheduler: Failed to fetch val_acc for trial 11, found MetricFetchE(message=\"No 'scalar' data found for trial in multiplexer mul=<tensorboard.backend.event_processing.plugin_event_multiplexer.EventMultiplexer object at 0x7f124e4f2d40>\").\n"
     ]
    },
    {
     "name": "stderr",
     "output_type": "stream",
     "text": [
      "[INFO 09-23 22:11:21] Scheduler: MetricFetchE INFO: Because val_acc is available_while_running and trial 11 is still RUNNING continuing the experiment and retrying on next poll...\n"
     ]
    },
    {
     "name": "stderr",
     "output_type": "stream",
     "text": [
      "/tmp/tmp.QqcA7fo0ui/Ax-main/ax/core/map_data.py:195: FutureWarning: The behavior of DataFrame concatenation with empty or all-NA entries is deprecated. In a future version, this will no longer exclude empty or all-NA columns when determining the result dtypes. To retain the old behavior, exclude the relevant entries before the concat operation.\n",
      "  df = pd.concat(\n",
      "[INFO 09-23 22:11:21] ax.early_stopping.strategies.base: Last progression of any candidate for trial stopping is 0.\n"
     ]
    },
    {
     "name": "stderr",
     "output_type": "stream",
     "text": [
      "[INFO 09-23 22:11:21] ax.early_stopping.strategies.base: No trials have reached 0.3. Not stopping any trials.\n"
     ]
    },
    {
     "name": "stderr",
     "output_type": "stream",
     "text": [
      "[INFO 09-23 22:11:21] Scheduler: Waiting for completed trials (for 10 sec, currently running trials: 3).\n"
     ]
    },
    {
     "name": "stderr",
     "output_type": "stream",
     "text": [
      "[INFO 09-23 22:11:31] Scheduler: Fetching data for newly completed trials: [].\n"
     ]
    },
    {
     "name": "stderr",
     "output_type": "stream",
     "text": [
      "[INFO 09-23 22:11:31] Scheduler: Fetching data for trials: 9 - 11 because some metrics on experiment are available while trials are running.\n"
     ]
    },
    {
     "name": "stderr",
     "output_type": "stream",
     "text": [
      "[INFO 09-23 22:11:31] ax.core.metric: MetricFetchE INFO: Initialized MetricFetchE(message=\"No 'scalar' data found for trial in multiplexer mul=<tensorboard.backend.event_processing.plugin_event_multiplexer.EventMultiplexer object at 0x7f11deed1a80>\")\n"
     ]
    },
    {
     "name": "stderr",
     "output_type": "stream",
     "text": [
      "[INFO 09-23 22:11:31] ax.core.metric: MetricFetchE INFO: Initialized MetricFetchE(message=\"No 'scalar' data found for trial in multiplexer mul=<tensorboard.backend.event_processing.plugin_event_multiplexer.EventMultiplexer object at 0x7f11deed1a80>\")\n"
     ]
    },
    {
     "name": "stderr",
     "output_type": "stream",
     "text": [
      "[INFO 09-23 22:11:31] ax.core.metric: MetricFetchE INFO: Initialized MetricFetchE(message=\"No 'scalar' data found for trial in multiplexer mul=<tensorboard.backend.event_processing.plugin_event_multiplexer.EventMultiplexer object at 0x7f124e4f2d70>\")\n"
     ]
    },
    {
     "name": "stderr",
     "output_type": "stream",
     "text": [
      "[ERROR 09-23 22:11:31] ax.core.experiment: Discovered Metric fetching Err while attaching data MetricFetchE(message=\"No 'scalar' data found for trial in multiplexer mul=<tensorboard.backend.event_processing.plugin_event_multiplexer.EventMultiplexer object at 0x7f11deed1a80>\"). Ignoring for now -- will retry query on next call to fetch.\n"
     ]
    },
    {
     "name": "stderr",
     "output_type": "stream",
     "text": [
      "[ERROR 09-23 22:11:31] ax.core.experiment: Discovered Metric fetching Err while attaching data MetricFetchE(message=\"No 'scalar' data found for trial in multiplexer mul=<tensorboard.backend.event_processing.plugin_event_multiplexer.EventMultiplexer object at 0x7f11deed1a80>\"). Ignoring for now -- will retry query on next call to fetch.\n"
     ]
    },
    {
     "name": "stderr",
     "output_type": "stream",
     "text": [
      "[ERROR 09-23 22:11:31] ax.core.experiment: Discovered Metric fetching Err while attaching data MetricFetchE(message=\"No 'scalar' data found for trial in multiplexer mul=<tensorboard.backend.event_processing.plugin_event_multiplexer.EventMultiplexer object at 0x7f124e4f2d70>\"). Ignoring for now -- will retry query on next call to fetch.\n"
     ]
    },
    {
     "name": "stderr",
     "output_type": "stream",
     "text": [
      "[WARNING 09-23 22:11:31] Scheduler: Failed to fetch val_acc for trial 9, found MetricFetchE(message=\"No 'scalar' data found for trial in multiplexer mul=<tensorboard.backend.event_processing.plugin_event_multiplexer.EventMultiplexer object at 0x7f11deed1a80>\").\n"
     ]
    },
    {
     "name": "stderr",
     "output_type": "stream",
     "text": [
      "[INFO 09-23 22:11:31] Scheduler: MetricFetchE INFO: Because val_acc is available_while_running and trial 9 is still RUNNING continuing the experiment and retrying on next poll...\n"
     ]
    },
    {
     "name": "stderr",
     "output_type": "stream",
     "text": [
      "[WARNING 09-23 22:11:31] Scheduler: Failed to fetch val_acc for trial 10, found MetricFetchE(message=\"No 'scalar' data found for trial in multiplexer mul=<tensorboard.backend.event_processing.plugin_event_multiplexer.EventMultiplexer object at 0x7f11deed1a80>\").\n"
     ]
    },
    {
     "name": "stderr",
     "output_type": "stream",
     "text": [
      "[INFO 09-23 22:11:31] Scheduler: MetricFetchE INFO: Because val_acc is available_while_running and trial 10 is still RUNNING continuing the experiment and retrying on next poll...\n"
     ]
    },
    {
     "name": "stderr",
     "output_type": "stream",
     "text": [
      "[WARNING 09-23 22:11:31] Scheduler: Failed to fetch val_acc for trial 11, found MetricFetchE(message=\"No 'scalar' data found for trial in multiplexer mul=<tensorboard.backend.event_processing.plugin_event_multiplexer.EventMultiplexer object at 0x7f124e4f2d70>\").\n"
     ]
    },
    {
     "name": "stderr",
     "output_type": "stream",
     "text": [
      "[INFO 09-23 22:11:31] Scheduler: MetricFetchE INFO: Because val_acc is available_while_running and trial 11 is still RUNNING continuing the experiment and retrying on next poll...\n"
     ]
    },
    {
     "name": "stderr",
     "output_type": "stream",
     "text": [
      "/tmp/tmp.QqcA7fo0ui/Ax-main/ax/core/map_data.py:195: FutureWarning: The behavior of DataFrame concatenation with empty or all-NA entries is deprecated. In a future version, this will no longer exclude empty or all-NA columns when determining the result dtypes. To retain the old behavior, exclude the relevant entries before the concat operation.\n",
      "  df = pd.concat(\n",
      "[INFO 09-23 22:11:31] ax.early_stopping.strategies.base: Last progression of any candidate for trial stopping is 0.\n"
     ]
    },
    {
     "name": "stderr",
     "output_type": "stream",
     "text": [
      "[INFO 09-23 22:11:31] ax.early_stopping.strategies.base: No trials have reached 0.3. Not stopping any trials.\n"
     ]
    },
    {
     "name": "stderr",
     "output_type": "stream",
     "text": [
      "[INFO 09-23 22:11:31] Scheduler: Waiting for completed trials (for 10 sec, currently running trials: 3).\n"
     ]
    },
    {
     "name": "stderr",
     "output_type": "stream",
     "text": [
      "[INFO 09-23 22:11:41] Scheduler: Fetching data for newly completed trials: [].\n"
     ]
    },
    {
     "name": "stderr",
     "output_type": "stream",
     "text": [
      "[INFO 09-23 22:11:41] Scheduler: Fetching data for trials: 9 - 11 because some metrics on experiment are available while trials are running.\n"
     ]
    },
    {
     "name": "stderr",
     "output_type": "stream",
     "text": [
      "/tmp/tmp.QqcA7fo0ui/Ax-main/ax/core/map_data.py:195: FutureWarning: The behavior of DataFrame concatenation with empty or all-NA entries is deprecated. In a future version, this will no longer exclude empty or all-NA columns when determining the result dtypes. To retain the old behavior, exclude the relevant entries before the concat operation.\n",
      "  df = pd.concat(\n",
      "/tmp/tmp.QqcA7fo0ui/Ax-main/ax/core/map_data.py:195: FutureWarning: The behavior of DataFrame concatenation with empty or all-NA entries is deprecated. In a future version, this will no longer exclude empty or all-NA columns when determining the result dtypes. To retain the old behavior, exclude the relevant entries before the concat operation.\n",
      "  df = pd.concat(\n",
      "[INFO 09-23 22:11:41] ax.early_stopping.strategies.base: Last progression of any candidate for trial stopping is 0.09994666666666667.\n"
     ]
    },
    {
     "name": "stderr",
     "output_type": "stream",
     "text": [
      "[INFO 09-23 22:11:41] ax.early_stopping.strategies.base: No trials have reached 0.3. Not stopping any trials.\n"
     ]
    },
    {
     "name": "stderr",
     "output_type": "stream",
     "text": [
      "[INFO 09-23 22:11:41] Scheduler: Waiting for completed trials (for 10 sec, currently running trials: 3).\n"
     ]
    },
    {
     "name": "stderr",
     "output_type": "stream",
     "text": [
      "[INFO 09-23 22:11:51] Scheduler: Fetching data for newly completed trials: [].\n"
     ]
    },
    {
     "name": "stderr",
     "output_type": "stream",
     "text": [
      "[INFO 09-23 22:11:51] Scheduler: Fetching data for trials: 9 - 11 because some metrics on experiment are available while trials are running.\n"
     ]
    },
    {
     "name": "stderr",
     "output_type": "stream",
     "text": [
      "/tmp/tmp.QqcA7fo0ui/Ax-main/ax/core/map_data.py:195: FutureWarning: The behavior of DataFrame concatenation with empty or all-NA entries is deprecated. In a future version, this will no longer exclude empty or all-NA columns when determining the result dtypes. To retain the old behavior, exclude the relevant entries before the concat operation.\n",
      "  df = pd.concat(\n",
      "/tmp/tmp.QqcA7fo0ui/Ax-main/ax/core/map_data.py:195: FutureWarning: The behavior of DataFrame concatenation with empty or all-NA entries is deprecated. In a future version, this will no longer exclude empty or all-NA columns when determining the result dtypes. To retain the old behavior, exclude the relevant entries before the concat operation.\n",
      "  df = pd.concat(\n",
      "[INFO 09-23 22:11:52] ax.early_stopping.strategies.base: Last progression of any candidate for trial stopping is 0.09994666666666667.\n"
     ]
    },
    {
     "name": "stderr",
     "output_type": "stream",
     "text": [
      "[INFO 09-23 22:11:52] ax.early_stopping.strategies.base: No trials have reached 0.3. Not stopping any trials.\n"
     ]
    },
    {
     "name": "stderr",
     "output_type": "stream",
     "text": [
      "[INFO 09-23 22:11:52] Scheduler: Waiting for completed trials (for 10 sec, currently running trials: 3).\n"
     ]
    },
    {
     "name": "stderr",
     "output_type": "stream",
     "text": [
      "[INFO 09-23 22:12:02] Scheduler: Fetching data for newly completed trials: [].\n"
     ]
    },
    {
     "name": "stderr",
     "output_type": "stream",
     "text": [
      "[INFO 09-23 22:12:02] Scheduler: Fetching data for trials: 9 - 11 because some metrics on experiment are available while trials are running.\n"
     ]
    },
    {
     "name": "stderr",
     "output_type": "stream",
     "text": [
      "/tmp/tmp.QqcA7fo0ui/Ax-main/ax/core/map_data.py:195: FutureWarning: The behavior of DataFrame concatenation with empty or all-NA entries is deprecated. In a future version, this will no longer exclude empty or all-NA columns when determining the result dtypes. To retain the old behavior, exclude the relevant entries before the concat operation.\n",
      "  df = pd.concat(\n",
      "/tmp/tmp.QqcA7fo0ui/Ax-main/ax/core/map_data.py:195: FutureWarning: The behavior of DataFrame concatenation with empty or all-NA entries is deprecated. In a future version, this will no longer exclude empty or all-NA columns when determining the result dtypes. To retain the old behavior, exclude the relevant entries before the concat operation.\n",
      "  df = pd.concat(\n",
      "[INFO 09-23 22:12:02] ax.early_stopping.strategies.base: Last progression of any candidate for trial stopping is 0.09994666666666667.\n"
     ]
    },
    {
     "name": "stderr",
     "output_type": "stream",
     "text": [
      "[INFO 09-23 22:12:02] ax.early_stopping.strategies.base: No trials have reached 0.3. Not stopping any trials.\n"
     ]
    },
    {
     "name": "stderr",
     "output_type": "stream",
     "text": [
      "[INFO 09-23 22:12:02] Scheduler: Waiting for completed trials (for 10 sec, currently running trials: 3).\n"
     ]
    },
    {
     "name": "stderr",
     "output_type": "stream",
     "text": [
      "[INFO 09-23 22:12:12] Scheduler: Fetching data for newly completed trials: [].\n"
     ]
    },
    {
     "name": "stderr",
     "output_type": "stream",
     "text": [
      "[INFO 09-23 22:12:12] Scheduler: Fetching data for trials: 9 - 11 because some metrics on experiment are available while trials are running.\n"
     ]
    },
    {
     "name": "stderr",
     "output_type": "stream",
     "text": [
      "/tmp/tmp.QqcA7fo0ui/Ax-main/ax/core/map_data.py:195: FutureWarning: The behavior of DataFrame concatenation with empty or all-NA entries is deprecated. In a future version, this will no longer exclude empty or all-NA columns when determining the result dtypes. To retain the old behavior, exclude the relevant entries before the concat operation.\n",
      "  df = pd.concat(\n",
      "/tmp/tmp.QqcA7fo0ui/Ax-main/ax/core/map_data.py:195: FutureWarning: The behavior of DataFrame concatenation with empty or all-NA entries is deprecated. In a future version, this will no longer exclude empty or all-NA columns when determining the result dtypes. To retain the old behavior, exclude the relevant entries before the concat operation.\n",
      "  df = pd.concat(\n",
      "[INFO 09-23 22:12:12] ax.early_stopping.strategies.base: Last progression of any candidate for trial stopping is 0.19994666666666666.\n"
     ]
    },
    {
     "name": "stderr",
     "output_type": "stream",
     "text": [
      "[INFO 09-23 22:12:12] ax.early_stopping.strategies.base: No trials have reached 0.3. Not stopping any trials.\n"
     ]
    },
    {
     "name": "stderr",
     "output_type": "stream",
     "text": [
      "[INFO 09-23 22:12:12] Scheduler: Waiting for completed trials (for 10 sec, currently running trials: 3).\n"
     ]
    },
    {
     "name": "stderr",
     "output_type": "stream",
     "text": [
      "[INFO 09-23 22:12:22] Scheduler: Fetching data for newly completed trials: [].\n"
     ]
    },
    {
     "name": "stderr",
     "output_type": "stream",
     "text": [
      "[INFO 09-23 22:12:22] Scheduler: Fetching data for trials: 9 - 11 because some metrics on experiment are available while trials are running.\n"
     ]
    },
    {
     "name": "stderr",
     "output_type": "stream",
     "text": [
      "/tmp/tmp.QqcA7fo0ui/Ax-main/ax/core/map_data.py:195: FutureWarning: The behavior of DataFrame concatenation with empty or all-NA entries is deprecated. In a future version, this will no longer exclude empty or all-NA columns when determining the result dtypes. To retain the old behavior, exclude the relevant entries before the concat operation.\n",
      "  df = pd.concat(\n",
      "/tmp/tmp.QqcA7fo0ui/Ax-main/ax/core/map_data.py:195: FutureWarning: The behavior of DataFrame concatenation with empty or all-NA entries is deprecated. In a future version, this will no longer exclude empty or all-NA columns when determining the result dtypes. To retain the old behavior, exclude the relevant entries before the concat operation.\n",
      "  df = pd.concat(\n",
      "[INFO 09-23 22:12:22] ax.early_stopping.strategies.base: Last progression of any candidate for trial stopping is 0.19994666666666666.\n"
     ]
    },
    {
     "name": "stderr",
     "output_type": "stream",
     "text": [
      "[INFO 09-23 22:12:22] ax.early_stopping.strategies.base: No trials have reached 0.3. Not stopping any trials.\n"
     ]
    },
    {
     "name": "stderr",
     "output_type": "stream",
     "text": [
      "[INFO 09-23 22:12:22] Scheduler: Waiting for completed trials (for 10 sec, currently running trials: 3).\n"
     ]
    },
    {
     "name": "stderr",
     "output_type": "stream",
     "text": [
      "[INFO 09-23 22:12:32] Scheduler: Fetching data for newly completed trials: [].\n"
     ]
    },
    {
     "name": "stderr",
     "output_type": "stream",
     "text": [
      "[INFO 09-23 22:12:32] Scheduler: Fetching data for trials: 9 - 11 because some metrics on experiment are available while trials are running.\n"
     ]
    },
    {
     "name": "stderr",
     "output_type": "stream",
     "text": [
      "/tmp/tmp.QqcA7fo0ui/Ax-main/ax/core/map_data.py:195: FutureWarning: The behavior of DataFrame concatenation with empty or all-NA entries is deprecated. In a future version, this will no longer exclude empty or all-NA columns when determining the result dtypes. To retain the old behavior, exclude the relevant entries before the concat operation.\n",
      "  df = pd.concat(\n",
      "/tmp/tmp.QqcA7fo0ui/Ax-main/ax/core/map_data.py:195: FutureWarning: The behavior of DataFrame concatenation with empty or all-NA entries is deprecated. In a future version, this will no longer exclude empty or all-NA columns when determining the result dtypes. To retain the old behavior, exclude the relevant entries before the concat operation.\n",
      "  df = pd.concat(\n",
      "[INFO 09-23 22:12:32] ax.early_stopping.strategies.base: Last progression of any candidate for trial stopping is 0.19994666666666666.\n"
     ]
    },
    {
     "name": "stderr",
     "output_type": "stream",
     "text": [
      "[INFO 09-23 22:12:32] ax.early_stopping.strategies.base: No trials have reached 0.3. Not stopping any trials.\n"
     ]
    },
    {
     "name": "stderr",
     "output_type": "stream",
     "text": [
      "[INFO 09-23 22:12:32] Scheduler: Waiting for completed trials (for 10 sec, currently running trials: 3).\n"
     ]
    },
    {
     "name": "stderr",
     "output_type": "stream",
     "text": [
      "[INFO 09-23 22:12:42] Scheduler: Fetching data for newly completed trials: [].\n"
     ]
    },
    {
     "name": "stderr",
     "output_type": "stream",
     "text": [
      "[INFO 09-23 22:12:42] Scheduler: Fetching data for trials: 9 - 11 because some metrics on experiment are available while trials are running.\n"
     ]
    },
    {
     "name": "stderr",
     "output_type": "stream",
     "text": [
      "/tmp/tmp.QqcA7fo0ui/Ax-main/ax/core/map_data.py:195: FutureWarning: The behavior of DataFrame concatenation with empty or all-NA entries is deprecated. In a future version, this will no longer exclude empty or all-NA columns when determining the result dtypes. To retain the old behavior, exclude the relevant entries before the concat operation.\n",
      "  df = pd.concat(\n",
      "/tmp/tmp.QqcA7fo0ui/Ax-main/ax/core/map_data.py:195: FutureWarning: The behavior of DataFrame concatenation with empty or all-NA entries is deprecated. In a future version, this will no longer exclude empty or all-NA columns when determining the result dtypes. To retain the old behavior, exclude the relevant entries before the concat operation.\n",
      "  df = pd.concat(\n",
      "[INFO 09-23 22:12:42] ax.early_stopping.strategies.base: Last progression of any candidate for trial stopping is 0.19994666666666666.\n"
     ]
    },
    {
     "name": "stderr",
     "output_type": "stream",
     "text": [
      "[INFO 09-23 22:12:42] ax.early_stopping.strategies.base: No trials have reached 0.3. Not stopping any trials.\n"
     ]
    },
    {
     "name": "stderr",
     "output_type": "stream",
     "text": [
      "[INFO 09-23 22:12:42] Scheduler: Waiting for completed trials (for 10 sec, currently running trials: 3).\n"
     ]
    },
    {
     "name": "stderr",
     "output_type": "stream",
     "text": [
      "[INFO 09-23 22:12:52] Scheduler: Fetching data for newly completed trials: [].\n"
     ]
    },
    {
     "name": "stderr",
     "output_type": "stream",
     "text": [
      "[INFO 09-23 22:12:52] Scheduler: Fetching data for trials: 9 - 11 because some metrics on experiment are available while trials are running.\n"
     ]
    },
    {
     "name": "stderr",
     "output_type": "stream",
     "text": [
      "/tmp/tmp.QqcA7fo0ui/Ax-main/ax/core/map_data.py:195: FutureWarning: The behavior of DataFrame concatenation with empty or all-NA entries is deprecated. In a future version, this will no longer exclude empty or all-NA columns when determining the result dtypes. To retain the old behavior, exclude the relevant entries before the concat operation.\n",
      "  df = pd.concat(\n",
      "/tmp/tmp.QqcA7fo0ui/Ax-main/ax/core/map_data.py:195: FutureWarning: The behavior of DataFrame concatenation with empty or all-NA entries is deprecated. In a future version, this will no longer exclude empty or all-NA columns when determining the result dtypes. To retain the old behavior, exclude the relevant entries before the concat operation.\n",
      "  df = pd.concat(\n",
      "[INFO 09-23 22:12:52] ax.early_stopping.strategies.base: Last progression of any candidate for trial stopping is 0.29994666666666664.\n"
     ]
    },
    {
     "name": "stderr",
     "output_type": "stream",
     "text": [
      "[INFO 09-23 22:12:52] ax.early_stopping.strategies.base: No trials have reached 0.3. Not stopping any trials.\n"
     ]
    },
    {
     "name": "stderr",
     "output_type": "stream",
     "text": [
      "[INFO 09-23 22:12:52] Scheduler: Waiting for completed trials (for 10 sec, currently running trials: 3).\n"
     ]
    },
    {
     "name": "stderr",
     "output_type": "stream",
     "text": [
      "[INFO 09-23 22:13:02] Scheduler: Fetching data for newly completed trials: [].\n"
     ]
    },
    {
     "name": "stderr",
     "output_type": "stream",
     "text": [
      "[INFO 09-23 22:13:02] Scheduler: Fetching data for trials: 9 - 11 because some metrics on experiment are available while trials are running.\n"
     ]
    },
    {
     "name": "stderr",
     "output_type": "stream",
     "text": [
      "/tmp/tmp.QqcA7fo0ui/Ax-main/ax/core/map_data.py:195: FutureWarning: The behavior of DataFrame concatenation with empty or all-NA entries is deprecated. In a future version, this will no longer exclude empty or all-NA columns when determining the result dtypes. To retain the old behavior, exclude the relevant entries before the concat operation.\n",
      "  df = pd.concat(\n",
      "/tmp/tmp.QqcA7fo0ui/Ax-main/ax/core/map_data.py:195: FutureWarning: The behavior of DataFrame concatenation with empty or all-NA entries is deprecated. In a future version, this will no longer exclude empty or all-NA columns when determining the result dtypes. To retain the old behavior, exclude the relevant entries before the concat operation.\n",
      "  df = pd.concat(\n",
      "[INFO 09-23 22:13:03] ax.early_stopping.strategies.base: Last progression of any candidate for trial stopping is 0.29994666666666664.\n"
     ]
    },
    {
     "name": "stderr",
     "output_type": "stream",
     "text": [
      "[INFO 09-23 22:13:03] ax.early_stopping.strategies.base: No trials have reached 0.3. Not stopping any trials.\n"
     ]
    },
    {
     "name": "stderr",
     "output_type": "stream",
     "text": [
      "[INFO 09-23 22:13:03] Scheduler: Waiting for completed trials (for 10 sec, currently running trials: 3).\n"
     ]
    },
    {
     "name": "stderr",
     "output_type": "stream",
     "text": [
      "[INFO 09-23 22:13:13] Scheduler: Fetching data for newly completed trials: [].\n"
     ]
    },
    {
     "name": "stderr",
     "output_type": "stream",
     "text": [
      "[INFO 09-23 22:13:13] Scheduler: Fetching data for trials: 9 - 11 because some metrics on experiment are available while trials are running.\n"
     ]
    },
    {
     "name": "stderr",
     "output_type": "stream",
     "text": [
      "/tmp/tmp.QqcA7fo0ui/Ax-main/ax/core/map_data.py:195: FutureWarning: The behavior of DataFrame concatenation with empty or all-NA entries is deprecated. In a future version, this will no longer exclude empty or all-NA columns when determining the result dtypes. To retain the old behavior, exclude the relevant entries before the concat operation.\n",
      "  df = pd.concat(\n",
      "/tmp/tmp.QqcA7fo0ui/Ax-main/ax/core/map_data.py:195: FutureWarning: The behavior of DataFrame concatenation with empty or all-NA entries is deprecated. In a future version, this will no longer exclude empty or all-NA columns when determining the result dtypes. To retain the old behavior, exclude the relevant entries before the concat operation.\n",
      "  df = pd.concat(\n",
      "[INFO 09-23 22:13:13] ax.early_stopping.strategies.base: Last progression of any candidate for trial stopping is 0.29994666666666664.\n"
     ]
    },
    {
     "name": "stderr",
     "output_type": "stream",
     "text": [
      "[INFO 09-23 22:13:13] ax.early_stopping.strategies.base: No trials have reached 0.3. Not stopping any trials.\n"
     ]
    },
    {
     "name": "stderr",
     "output_type": "stream",
     "text": [
      "[INFO 09-23 22:13:13] Scheduler: Waiting for completed trials (for 10 sec, currently running trials: 3).\n"
     ]
    },
    {
     "name": "stderr",
     "output_type": "stream",
     "text": [
      "[INFO 09-23 22:13:23] Scheduler: Fetching data for newly completed trials: [].\n"
     ]
    },
    {
     "name": "stderr",
     "output_type": "stream",
     "text": [
      "[INFO 09-23 22:13:23] Scheduler: Fetching data for trials: 9 - 11 because some metrics on experiment are available while trials are running.\n"
     ]
    },
    {
     "name": "stderr",
     "output_type": "stream",
     "text": [
      "/tmp/tmp.QqcA7fo0ui/Ax-main/ax/core/map_data.py:195: FutureWarning: The behavior of DataFrame concatenation with empty or all-NA entries is deprecated. In a future version, this will no longer exclude empty or all-NA columns when determining the result dtypes. To retain the old behavior, exclude the relevant entries before the concat operation.\n",
      "  df = pd.concat(\n",
      "/tmp/tmp.QqcA7fo0ui/Ax-main/ax/core/map_data.py:195: FutureWarning: The behavior of DataFrame concatenation with empty or all-NA entries is deprecated. In a future version, this will no longer exclude empty or all-NA columns when determining the result dtypes. To retain the old behavior, exclude the relevant entries before the concat operation.\n",
      "  df = pd.concat(\n",
      "[INFO 09-23 22:13:23] ax.early_stopping.strategies.base: Last progression of any candidate for trial stopping is 0.3999466666666667.\n"
     ]
    },
    {
     "name": "stderr",
     "output_type": "stream",
     "text": [
      "[INFO 09-23 22:13:23] ax.early_stopping.strategies.percentile: Considering trial 9 for early stopping.\n"
     ]
    },
    {
     "name": "stderr",
     "output_type": "stream",
     "text": [
      "[INFO 09-23 22:13:23] ax.early_stopping.strategies.base: Last progression of Trial 9 is 0.3999466666666667.\n"
     ]
    },
    {
     "name": "stderr",
     "output_type": "stream",
     "text": [
      "[INFO 09-23 22:13:23] ax.early_stopping.strategies.percentile: Early stopping objective at last progression is:\n",
      "0     0.957077\n",
      "5     0.935622\n",
      "6     0.894943\n",
      "7     0.953738\n",
      "8     0.920331\n",
      "9     0.964106\n",
      "11    0.953034\n",
      "Name: 0.3999466666666667, dtype: float64.\n"
     ]
    },
    {
     "name": "stderr",
     "output_type": "stream",
     "text": [
      "[INFO 09-23 22:13:23] ax.early_stopping.strategies.percentile: Early stopping decision for 9: False. Reason: Trial objective value 0.9641058538934868 is better than 70.0-th percentile (0.954405986616764) across comparable trials.\n"
     ]
    },
    {
     "name": "stderr",
     "output_type": "stream",
     "text": [
      "[INFO 09-23 22:13:23] ax.early_stopping.strategies.percentile: Considering trial 10 for early stopping.\n"
     ]
    },
    {
     "name": "stderr",
     "output_type": "stream",
     "text": [
      "[INFO 09-23 22:13:23] ax.early_stopping.strategies.base: Last progression of Trial 10 is 0.29994666666666664.\n"
     ]
    },
    {
     "name": "stderr",
     "output_type": "stream",
     "text": [
      "[INFO 09-23 22:13:23] ax.early_stopping.strategies.base: Trial 10's most recent progression (0.29994666666666664) that is available for metric val_acc falls out of the min/max_progression range (0.3, None). Not early stopping this trial.\n"
     ]
    },
    {
     "name": "stderr",
     "output_type": "stream",
     "text": [
      "[INFO 09-23 22:13:23] ax.early_stopping.strategies.percentile: Considering trial 11 for early stopping.\n"
     ]
    },
    {
     "name": "stderr",
     "output_type": "stream",
     "text": [
      "[INFO 09-23 22:13:23] ax.early_stopping.strategies.base: Last progression of Trial 11 is 0.3999466666666667.\n"
     ]
    },
    {
     "name": "stderr",
     "output_type": "stream",
     "text": [
      "[INFO 09-23 22:13:23] ax.early_stopping.strategies.percentile: Early stopping objective at last progression is:\n",
      "0     0.957077\n",
      "5     0.935622\n",
      "6     0.894943\n",
      "7     0.953738\n",
      "8     0.920331\n",
      "9     0.964106\n",
      "11    0.953034\n",
      "Name: 0.3999466666666667, dtype: float64.\n"
     ]
    },
    {
     "name": "stderr",
     "output_type": "stream",
     "text": [
      "[INFO 09-23 22:13:23] ax.early_stopping.strategies.percentile: Early stopping decision for 11: True. Reason: Trial objective value 0.9530343040456912 is worse than 70.0-th percentile (0.954405986616764) across comparable trials.\n"
     ]
    },
    {
     "name": "stderr",
     "output_type": "stream",
     "text": [
      "/tmp/tmp.QqcA7fo0ui/Ax-main/ax/core/map_data.py:195: FutureWarning: The behavior of DataFrame concatenation with empty or all-NA entries is deprecated. In a future version, this will no longer exclude empty or all-NA columns when determining the result dtypes. To retain the old behavior, exclude the relevant entries before the concat operation.\n",
      "  df = pd.concat(\n"
     ]
    },
    {
     "name": "stderr",
     "output_type": "stream",
     "text": [
      "[INFO 09-23 22:13:27] Scheduler: Running trials [12]...\n"
     ]
    },
    {
     "name": "stderr",
     "output_type": "stream",
     "text": [
      "/tmp/tmp.QqcA7fo0ui/Ax-main/ax/core/map_data.py:195: FutureWarning: The behavior of DataFrame concatenation with empty or all-NA entries is deprecated. In a future version, this will no longer exclude empty or all-NA columns when determining the result dtypes. To retain the old behavior, exclude the relevant entries before the concat operation.\n",
      "  df = pd.concat(\n"
     ]
    },
    {
     "name": "stderr",
     "output_type": "stream",
     "text": [
      "[INFO 09-23 22:13:29] Scheduler: Generated all trials that can be generated currently. Max parallelism currently reached.\n"
     ]
    },
    {
     "name": "stderr",
     "output_type": "stream",
     "text": [
      "[WARNING 09-23 22:13:29] Scheduler: Both `init_seconds_between_polls` and `early_stopping_strategy supplied. `init_seconds_between_polls=1` will be overrridden by `early_stopping_strategy.seconds_between_polls=10` and polling will take place at a constant rate.\n"
     ]
    },
    {
     "name": "stderr",
     "output_type": "stream",
     "text": [
      "[INFO 09-23 22:13:29] Scheduler: Fetching data for newly completed trials: [].\n"
     ]
    },
    {
     "name": "stderr",
     "output_type": "stream",
     "text": [
      "[INFO 09-23 22:13:29] Scheduler: Fetching data for trials: [9, 10, 12] because some metrics on experiment are available while trials are running.\n"
     ]
    },
    {
     "name": "stderr",
     "output_type": "stream",
     "text": [
      "[INFO 09-23 22:13:29] ax.core.metric: MetricFetchE INFO: Initialized MetricFetchE(message=\"No 'scalar' data found for trial in multiplexer mul=<tensorboard.backend.event_processing.plugin_event_multiplexer.EventMultiplexer object at 0x7f11ddd4c460>\")\n"
     ]
    },
    {
     "name": "stderr",
     "output_type": "stream",
     "text": [
      "[ERROR 09-23 22:13:29] ax.core.experiment: Discovered Metric fetching Err while attaching data MetricFetchE(message=\"No 'scalar' data found for trial in multiplexer mul=<tensorboard.backend.event_processing.plugin_event_multiplexer.EventMultiplexer object at 0x7f11ddd4c460>\"). Ignoring for now -- will retry query on next call to fetch.\n"
     ]
    },
    {
     "name": "stderr",
     "output_type": "stream",
     "text": [
      "/tmp/tmp.QqcA7fo0ui/Ax-main/ax/core/map_data.py:195: FutureWarning: The behavior of DataFrame concatenation with empty or all-NA entries is deprecated. In a future version, this will no longer exclude empty or all-NA columns when determining the result dtypes. To retain the old behavior, exclude the relevant entries before the concat operation.\n",
      "  df = pd.concat(\n",
      "[WARNING 09-23 22:13:29] Scheduler: Failed to fetch val_acc for trial 12, found MetricFetchE(message=\"No 'scalar' data found for trial in multiplexer mul=<tensorboard.backend.event_processing.plugin_event_multiplexer.EventMultiplexer object at 0x7f11ddd4c460>\").\n"
     ]
    },
    {
     "name": "stderr",
     "output_type": "stream",
     "text": [
      "[INFO 09-23 22:13:29] Scheduler: MetricFetchE INFO: Because val_acc is available_while_running and trial 12 is still RUNNING continuing the experiment and retrying on next poll...\n"
     ]
    },
    {
     "name": "stderr",
     "output_type": "stream",
     "text": [
      "/tmp/tmp.QqcA7fo0ui/Ax-main/ax/core/map_data.py:195: FutureWarning: The behavior of DataFrame concatenation with empty or all-NA entries is deprecated. In a future version, this will no longer exclude empty or all-NA columns when determining the result dtypes. To retain the old behavior, exclude the relevant entries before the concat operation.\n",
      "  df = pd.concat(\n",
      "[INFO 09-23 22:13:29] ax.early_stopping.strategies.base: Last progression of any candidate for trial stopping is 0.3999466666666667.\n"
     ]
    },
    {
     "name": "stderr",
     "output_type": "stream",
     "text": [
      "[INFO 09-23 22:13:29] ax.early_stopping.strategies.percentile: Considering trial 9 for early stopping.\n"
     ]
    },
    {
     "name": "stderr",
     "output_type": "stream",
     "text": [
      "[INFO 09-23 22:13:29] ax.early_stopping.strategies.base: Last progression of Trial 9 is 0.3999466666666667.\n"
     ]
    },
    {
     "name": "stderr",
     "output_type": "stream",
     "text": [
      "[INFO 09-23 22:13:29] ax.early_stopping.strategies.percentile: Early stopping objective at last progression is:\n",
      "0     0.957077\n",
      "5     0.935622\n",
      "6     0.894943\n",
      "7     0.953738\n",
      "8     0.920331\n",
      "9     0.964106\n",
      "10    0.964617\n",
      "11    0.953034\n",
      "Name: 0.3999466666666667, dtype: float64.\n"
     ]
    },
    {
     "name": "stderr",
     "output_type": "stream",
     "text": [
      "[INFO 09-23 22:13:29] ax.early_stopping.strategies.percentile: Early stopping decision for 9: False. Reason: Trial objective value 0.9641058538934868 is better than 70.0-th percentile (0.9567434968325892) across comparable trials.\n"
     ]
    },
    {
     "name": "stderr",
     "output_type": "stream",
     "text": [
      "[INFO 09-23 22:13:29] ax.early_stopping.strategies.percentile: Considering trial 10 for early stopping.\n"
     ]
    },
    {
     "name": "stderr",
     "output_type": "stream",
     "text": [
      "[INFO 09-23 22:13:29] ax.early_stopping.strategies.base: Last progression of Trial 10 is 0.3999466666666667.\n"
     ]
    },
    {
     "name": "stderr",
     "output_type": "stream",
     "text": [
      "[INFO 09-23 22:13:29] ax.early_stopping.strategies.percentile: Early stopping objective at last progression is:\n",
      "0     0.957077\n",
      "5     0.935622\n",
      "6     0.894943\n",
      "7     0.953738\n",
      "8     0.920331\n",
      "9     0.964106\n",
      "10    0.964617\n",
      "11    0.953034\n",
      "Name: 0.3999466666666667, dtype: float64.\n"
     ]
    },
    {
     "name": "stderr",
     "output_type": "stream",
     "text": [
      "[INFO 09-23 22:13:29] ax.early_stopping.strategies.percentile: Early stopping decision for 10: False. Reason: Trial objective value 0.9646170089397524 is better than 70.0-th percentile (0.9567434968325892) across comparable trials.\n"
     ]
    },
    {
     "name": "stderr",
     "output_type": "stream",
     "text": [
      "[INFO 09-23 22:13:29] ax.early_stopping.strategies.percentile: Considering trial 12 for early stopping.\n"
     ]
    },
    {
     "name": "stderr",
     "output_type": "stream",
     "text": [
      "[INFO 09-23 22:13:29] ax.early_stopping.strategies.base: There is not yet any data associated with trial 12 and metric val_acc. Not early stopping this trial.\n"
     ]
    },
    {
     "name": "stderr",
     "output_type": "stream",
     "text": [
      "[INFO 09-23 22:13:29] Scheduler: Waiting for completed trials (for 10 sec, currently running trials: 3).\n"
     ]
    },
    {
     "name": "stderr",
     "output_type": "stream",
     "text": [
      "[INFO 09-23 22:13:39] Scheduler: Fetching data for newly completed trials: [].\n"
     ]
    },
    {
     "name": "stderr",
     "output_type": "stream",
     "text": [
      "[INFO 09-23 22:13:39] Scheduler: Fetching data for trials: [9, 10, 12] because some metrics on experiment are available while trials are running.\n"
     ]
    },
    {
     "name": "stderr",
     "output_type": "stream",
     "text": [
      "[INFO 09-23 22:13:39] ax.core.metric: MetricFetchE INFO: Initialized MetricFetchE(message=\"No 'scalar' data found for trial in multiplexer mul=<tensorboard.backend.event_processing.plugin_event_multiplexer.EventMultiplexer object at 0x7f11ddd4c1f0>\")\n"
     ]
    },
    {
     "name": "stderr",
     "output_type": "stream",
     "text": [
      "[ERROR 09-23 22:13:39] ax.core.experiment: Discovered Metric fetching Err while attaching data MetricFetchE(message=\"No 'scalar' data found for trial in multiplexer mul=<tensorboard.backend.event_processing.plugin_event_multiplexer.EventMultiplexer object at 0x7f11ddd4c1f0>\"). Ignoring for now -- will retry query on next call to fetch.\n"
     ]
    },
    {
     "name": "stderr",
     "output_type": "stream",
     "text": [
      "/tmp/tmp.QqcA7fo0ui/Ax-main/ax/core/map_data.py:195: FutureWarning: The behavior of DataFrame concatenation with empty or all-NA entries is deprecated. In a future version, this will no longer exclude empty or all-NA columns when determining the result dtypes. To retain the old behavior, exclude the relevant entries before the concat operation.\n",
      "  df = pd.concat(\n",
      "[WARNING 09-23 22:13:39] Scheduler: Failed to fetch val_acc for trial 12, found MetricFetchE(message=\"No 'scalar' data found for trial in multiplexer mul=<tensorboard.backend.event_processing.plugin_event_multiplexer.EventMultiplexer object at 0x7f11ddd4c1f0>\").\n"
     ]
    },
    {
     "name": "stderr",
     "output_type": "stream",
     "text": [
      "[INFO 09-23 22:13:39] Scheduler: MetricFetchE INFO: Because val_acc is available_while_running and trial 12 is still RUNNING continuing the experiment and retrying on next poll...\n"
     ]
    },
    {
     "name": "stderr",
     "output_type": "stream",
     "text": [
      "/tmp/tmp.QqcA7fo0ui/Ax-main/ax/core/map_data.py:195: FutureWarning: The behavior of DataFrame concatenation with empty or all-NA entries is deprecated. In a future version, this will no longer exclude empty or all-NA columns when determining the result dtypes. To retain the old behavior, exclude the relevant entries before the concat operation.\n",
      "  df = pd.concat(\n",
      "[INFO 09-23 22:13:39] ax.early_stopping.strategies.base: Last progression of any candidate for trial stopping is 0.3999466666666667.\n"
     ]
    },
    {
     "name": "stderr",
     "output_type": "stream",
     "text": [
      "[INFO 09-23 22:13:39] ax.early_stopping.strategies.percentile: Considering trial 9 for early stopping.\n"
     ]
    },
    {
     "name": "stderr",
     "output_type": "stream",
     "text": [
      "[INFO 09-23 22:13:39] ax.early_stopping.strategies.base: Last progression of Trial 9 is 0.3999466666666667.\n"
     ]
    },
    {
     "name": "stderr",
     "output_type": "stream",
     "text": [
      "[INFO 09-23 22:13:39] ax.early_stopping.strategies.percentile: Early stopping objective at last progression is:\n",
      "0     0.957077\n",
      "5     0.935622\n",
      "6     0.894943\n",
      "7     0.953738\n",
      "8     0.920331\n",
      "9     0.964106\n",
      "10    0.964617\n",
      "11    0.953034\n",
      "Name: 0.3999466666666667, dtype: float64.\n"
     ]
    },
    {
     "name": "stderr",
     "output_type": "stream",
     "text": [
      "[INFO 09-23 22:13:39] ax.early_stopping.strategies.percentile: Early stopping decision for 9: False. Reason: Trial objective value 0.9641058538934868 is better than 70.0-th percentile (0.9567434968325892) across comparable trials.\n"
     ]
    },
    {
     "name": "stderr",
     "output_type": "stream",
     "text": [
      "[INFO 09-23 22:13:39] ax.early_stopping.strategies.percentile: Considering trial 10 for early stopping.\n"
     ]
    },
    {
     "name": "stderr",
     "output_type": "stream",
     "text": [
      "[INFO 09-23 22:13:39] ax.early_stopping.strategies.base: Last progression of Trial 10 is 0.3999466666666667.\n"
     ]
    },
    {
     "name": "stderr",
     "output_type": "stream",
     "text": [
      "[INFO 09-23 22:13:39] ax.early_stopping.strategies.percentile: Early stopping objective at last progression is:\n",
      "0     0.957077\n",
      "5     0.935622\n",
      "6     0.894943\n",
      "7     0.953738\n",
      "8     0.920331\n",
      "9     0.964106\n",
      "10    0.964617\n",
      "11    0.953034\n",
      "Name: 0.3999466666666667, dtype: float64.\n"
     ]
    },
    {
     "name": "stderr",
     "output_type": "stream",
     "text": [
      "[INFO 09-23 22:13:39] ax.early_stopping.strategies.percentile: Early stopping decision for 10: False. Reason: Trial objective value 0.9646170089397524 is better than 70.0-th percentile (0.9567434968325892) across comparable trials.\n"
     ]
    },
    {
     "name": "stderr",
     "output_type": "stream",
     "text": [
      "[INFO 09-23 22:13:39] ax.early_stopping.strategies.percentile: Considering trial 12 for early stopping.\n"
     ]
    },
    {
     "name": "stderr",
     "output_type": "stream",
     "text": [
      "[INFO 09-23 22:13:39] ax.early_stopping.strategies.base: There is not yet any data associated with trial 12 and metric val_acc. Not early stopping this trial.\n"
     ]
    },
    {
     "name": "stderr",
     "output_type": "stream",
     "text": [
      "[INFO 09-23 22:13:39] Scheduler: Waiting for completed trials (for 10 sec, currently running trials: 3).\n"
     ]
    },
    {
     "name": "stderr",
     "output_type": "stream",
     "text": [
      "[INFO 09-23 22:13:49] Scheduler: Fetching data for newly completed trials: [].\n"
     ]
    },
    {
     "name": "stderr",
     "output_type": "stream",
     "text": [
      "[INFO 09-23 22:13:49] Scheduler: Fetching data for trials: [9, 10, 12] because some metrics on experiment are available while trials are running.\n"
     ]
    },
    {
     "name": "stderr",
     "output_type": "stream",
     "text": [
      "[INFO 09-23 22:13:49] ax.core.metric: MetricFetchE INFO: Initialized MetricFetchE(message=\"No 'scalar' data found for trial in multiplexer mul=<tensorboard.backend.event_processing.plugin_event_multiplexer.EventMultiplexer object at 0x7f11ddd21300>\")\n"
     ]
    },
    {
     "name": "stderr",
     "output_type": "stream",
     "text": [
      "[ERROR 09-23 22:13:49] ax.core.experiment: Discovered Metric fetching Err while attaching data MetricFetchE(message=\"No 'scalar' data found for trial in multiplexer mul=<tensorboard.backend.event_processing.plugin_event_multiplexer.EventMultiplexer object at 0x7f11ddd21300>\"). Ignoring for now -- will retry query on next call to fetch.\n"
     ]
    },
    {
     "name": "stderr",
     "output_type": "stream",
     "text": [
      "/tmp/tmp.QqcA7fo0ui/Ax-main/ax/core/map_data.py:195: FutureWarning: The behavior of DataFrame concatenation with empty or all-NA entries is deprecated. In a future version, this will no longer exclude empty or all-NA columns when determining the result dtypes. To retain the old behavior, exclude the relevant entries before the concat operation.\n",
      "  df = pd.concat(\n",
      "[WARNING 09-23 22:13:49] Scheduler: Failed to fetch val_acc for trial 12, found MetricFetchE(message=\"No 'scalar' data found for trial in multiplexer mul=<tensorboard.backend.event_processing.plugin_event_multiplexer.EventMultiplexer object at 0x7f11ddd21300>\").\n"
     ]
    },
    {
     "name": "stderr",
     "output_type": "stream",
     "text": [
      "[INFO 09-23 22:13:49] Scheduler: MetricFetchE INFO: Because val_acc is available_while_running and trial 12 is still RUNNING continuing the experiment and retrying on next poll...\n"
     ]
    },
    {
     "name": "stderr",
     "output_type": "stream",
     "text": [
      "/tmp/tmp.QqcA7fo0ui/Ax-main/ax/core/map_data.py:195: FutureWarning: The behavior of DataFrame concatenation with empty or all-NA entries is deprecated. In a future version, this will no longer exclude empty or all-NA columns when determining the result dtypes. To retain the old behavior, exclude the relevant entries before the concat operation.\n",
      "  df = pd.concat(\n",
      "[INFO 09-23 22:13:49] ax.early_stopping.strategies.base: Last progression of any candidate for trial stopping is 0.3999466666666667.\n"
     ]
    },
    {
     "name": "stderr",
     "output_type": "stream",
     "text": [
      "[INFO 09-23 22:13:49] ax.early_stopping.strategies.percentile: Considering trial 9 for early stopping.\n"
     ]
    },
    {
     "name": "stderr",
     "output_type": "stream",
     "text": [
      "[INFO 09-23 22:13:49] ax.early_stopping.strategies.base: Last progression of Trial 9 is 0.3999466666666667.\n"
     ]
    },
    {
     "name": "stderr",
     "output_type": "stream",
     "text": [
      "[INFO 09-23 22:13:49] ax.early_stopping.strategies.percentile: Early stopping objective at last progression is:\n",
      "0     0.957077\n",
      "5     0.935622\n",
      "6     0.894943\n",
      "7     0.953738\n",
      "8     0.920331\n",
      "9     0.964106\n",
      "10    0.964617\n",
      "11    0.953034\n",
      "Name: 0.3999466666666667, dtype: float64.\n"
     ]
    },
    {
     "name": "stderr",
     "output_type": "stream",
     "text": [
      "[INFO 09-23 22:13:49] ax.early_stopping.strategies.percentile: Early stopping decision for 9: False. Reason: Trial objective value 0.9641058538934868 is better than 70.0-th percentile (0.9567434968325892) across comparable trials.\n"
     ]
    },
    {
     "name": "stderr",
     "output_type": "stream",
     "text": [
      "[INFO 09-23 22:13:49] ax.early_stopping.strategies.percentile: Considering trial 10 for early stopping.\n"
     ]
    },
    {
     "name": "stderr",
     "output_type": "stream",
     "text": [
      "[INFO 09-23 22:13:49] ax.early_stopping.strategies.base: Last progression of Trial 10 is 0.3999466666666667.\n"
     ]
    },
    {
     "name": "stderr",
     "output_type": "stream",
     "text": [
      "[INFO 09-23 22:13:49] ax.early_stopping.strategies.percentile: Early stopping objective at last progression is:\n",
      "0     0.957077\n",
      "5     0.935622\n",
      "6     0.894943\n",
      "7     0.953738\n",
      "8     0.920331\n",
      "9     0.964106\n",
      "10    0.964617\n",
      "11    0.953034\n",
      "Name: 0.3999466666666667, dtype: float64.\n"
     ]
    },
    {
     "name": "stderr",
     "output_type": "stream",
     "text": [
      "[INFO 09-23 22:13:49] ax.early_stopping.strategies.percentile: Early stopping decision for 10: False. Reason: Trial objective value 0.9646170089397524 is better than 70.0-th percentile (0.9567434968325892) across comparable trials.\n"
     ]
    },
    {
     "name": "stderr",
     "output_type": "stream",
     "text": [
      "[INFO 09-23 22:13:49] ax.early_stopping.strategies.percentile: Considering trial 12 for early stopping.\n"
     ]
    },
    {
     "name": "stderr",
     "output_type": "stream",
     "text": [
      "[INFO 09-23 22:13:49] ax.early_stopping.strategies.base: There is not yet any data associated with trial 12 and metric val_acc. Not early stopping this trial.\n"
     ]
    },
    {
     "name": "stderr",
     "output_type": "stream",
     "text": [
      "[INFO 09-23 22:13:49] Scheduler: Waiting for completed trials (for 10 sec, currently running trials: 3).\n"
     ]
    },
    {
     "name": "stderr",
     "output_type": "stream",
     "text": [
      "[INFO 09-23 22:13:59] Scheduler: Fetching data for newly completed trials: [].\n"
     ]
    },
    {
     "name": "stderr",
     "output_type": "stream",
     "text": [
      "[INFO 09-23 22:13:59] Scheduler: Fetching data for trials: [9, 10, 12] because some metrics on experiment are available while trials are running.\n"
     ]
    },
    {
     "name": "stderr",
     "output_type": "stream",
     "text": [
      "[INFO 09-23 22:13:59] ax.core.metric: MetricFetchE INFO: Initialized MetricFetchE(message=\"No 'scalar' data found for trial in multiplexer mul=<tensorboard.backend.event_processing.plugin_event_multiplexer.EventMultiplexer object at 0x7f11ddd4e3b0>\")\n"
     ]
    },
    {
     "name": "stderr",
     "output_type": "stream",
     "text": [
      "[ERROR 09-23 22:13:59] ax.core.experiment: Discovered Metric fetching Err while attaching data MetricFetchE(message=\"No 'scalar' data found for trial in multiplexer mul=<tensorboard.backend.event_processing.plugin_event_multiplexer.EventMultiplexer object at 0x7f11ddd4e3b0>\"). Ignoring for now -- will retry query on next call to fetch.\n"
     ]
    },
    {
     "name": "stderr",
     "output_type": "stream",
     "text": [
      "/tmp/tmp.QqcA7fo0ui/Ax-main/ax/core/map_data.py:195: FutureWarning: The behavior of DataFrame concatenation with empty or all-NA entries is deprecated. In a future version, this will no longer exclude empty or all-NA columns when determining the result dtypes. To retain the old behavior, exclude the relevant entries before the concat operation.\n",
      "  df = pd.concat(\n",
      "[WARNING 09-23 22:13:59] Scheduler: Failed to fetch val_acc for trial 12, found MetricFetchE(message=\"No 'scalar' data found for trial in multiplexer mul=<tensorboard.backend.event_processing.plugin_event_multiplexer.EventMultiplexer object at 0x7f11ddd4e3b0>\").\n"
     ]
    },
    {
     "name": "stderr",
     "output_type": "stream",
     "text": [
      "[INFO 09-23 22:13:59] Scheduler: MetricFetchE INFO: Because val_acc is available_while_running and trial 12 is still RUNNING continuing the experiment and retrying on next poll...\n"
     ]
    },
    {
     "name": "stderr",
     "output_type": "stream",
     "text": [
      "/tmp/tmp.QqcA7fo0ui/Ax-main/ax/core/map_data.py:195: FutureWarning: The behavior of DataFrame concatenation with empty or all-NA entries is deprecated. In a future version, this will no longer exclude empty or all-NA columns when determining the result dtypes. To retain the old behavior, exclude the relevant entries before the concat operation.\n",
      "  df = pd.concat(\n",
      "[INFO 09-23 22:13:59] ax.early_stopping.strategies.base: Last progression of any candidate for trial stopping is 0.49994666666666665.\n"
     ]
    },
    {
     "name": "stderr",
     "output_type": "stream",
     "text": [
      "[INFO 09-23 22:13:59] ax.early_stopping.strategies.percentile: Considering trial 9 for early stopping.\n"
     ]
    },
    {
     "name": "stderr",
     "output_type": "stream",
     "text": [
      "[INFO 09-23 22:13:59] ax.early_stopping.strategies.base: Last progression of Trial 9 is 0.49994666666666665.\n"
     ]
    },
    {
     "name": "stderr",
     "output_type": "stream",
     "text": [
      "[INFO 09-23 22:13:59] ax.early_stopping.strategies.percentile: Early stopping objective at last progression is:\n",
      "0    0.962521\n",
      "5    0.941009\n",
      "6    0.897125\n",
      "7    0.959242\n",
      "8    0.925162\n",
      "9    0.966268\n",
      "Name: 0.49994666666666665, dtype: float64.\n"
     ]
    },
    {
     "name": "stderr",
     "output_type": "stream",
     "text": [
      "[INFO 09-23 22:13:59] ax.early_stopping.strategies.percentile: Early stopping decision for 9: False. Reason: Trial objective value 0.9662678534838902 is better than 70.0-th percentile (0.9608817262977911) across comparable trials.\n"
     ]
    },
    {
     "name": "stderr",
     "output_type": "stream",
     "text": [
      "[INFO 09-23 22:13:59] ax.early_stopping.strategies.percentile: Considering trial 10 for early stopping.\n"
     ]
    },
    {
     "name": "stderr",
     "output_type": "stream",
     "text": [
      "[INFO 09-23 22:13:59] ax.early_stopping.strategies.base: Last progression of Trial 10 is 0.3999466666666667.\n"
     ]
    },
    {
     "name": "stderr",
     "output_type": "stream",
     "text": [
      "[INFO 09-23 22:13:59] ax.early_stopping.strategies.percentile: Early stopping objective at last progression is:\n",
      "0     0.957077\n",
      "5     0.935622\n",
      "6     0.894943\n",
      "7     0.953738\n",
      "8     0.920331\n",
      "9     0.964106\n",
      "10    0.964617\n",
      "11    0.953034\n",
      "Name: 0.3999466666666667, dtype: float64.\n"
     ]
    },
    {
     "name": "stderr",
     "output_type": "stream",
     "text": [
      "[INFO 09-23 22:13:59] ax.early_stopping.strategies.percentile: Early stopping decision for 10: False. Reason: Trial objective value 0.9646170089397524 is better than 70.0-th percentile (0.9567434968325892) across comparable trials.\n"
     ]
    },
    {
     "name": "stderr",
     "output_type": "stream",
     "text": [
      "[INFO 09-23 22:13:59] ax.early_stopping.strategies.percentile: Considering trial 12 for early stopping.\n"
     ]
    },
    {
     "name": "stderr",
     "output_type": "stream",
     "text": [
      "[INFO 09-23 22:13:59] ax.early_stopping.strategies.base: There is not yet any data associated with trial 12 and metric val_acc. Not early stopping this trial.\n"
     ]
    },
    {
     "name": "stderr",
     "output_type": "stream",
     "text": [
      "[INFO 09-23 22:13:59] Scheduler: Waiting for completed trials (for 10 sec, currently running trials: 3).\n"
     ]
    },
    {
     "name": "stderr",
     "output_type": "stream",
     "text": [
      "[INFO 09-23 22:14:09] Scheduler: Fetching data for newly completed trials: [].\n"
     ]
    },
    {
     "name": "stderr",
     "output_type": "stream",
     "text": [
      "[INFO 09-23 22:14:09] Scheduler: Fetching data for trials: [9, 10, 12] because some metrics on experiment are available while trials are running.\n"
     ]
    },
    {
     "name": "stderr",
     "output_type": "stream",
     "text": [
      "/tmp/tmp.QqcA7fo0ui/Ax-main/ax/core/map_data.py:195: FutureWarning: The behavior of DataFrame concatenation with empty or all-NA entries is deprecated. In a future version, this will no longer exclude empty or all-NA columns when determining the result dtypes. To retain the old behavior, exclude the relevant entries before the concat operation.\n",
      "  df = pd.concat(\n",
      "/tmp/tmp.QqcA7fo0ui/Ax-main/ax/core/map_data.py:195: FutureWarning: The behavior of DataFrame concatenation with empty or all-NA entries is deprecated. In a future version, this will no longer exclude empty or all-NA columns when determining the result dtypes. To retain the old behavior, exclude the relevant entries before the concat operation.\n",
      "  df = pd.concat(\n",
      "[INFO 09-23 22:14:09] ax.early_stopping.strategies.base: Last progression of any candidate for trial stopping is 0.49994666666666665.\n"
     ]
    },
    {
     "name": "stderr",
     "output_type": "stream",
     "text": [
      "[INFO 09-23 22:14:09] ax.early_stopping.utils: Got exception `x and y arrays must have at least 2 entries` during interpolation. Using uninterpolated values instead.\n"
     ]
    },
    {
     "name": "stderr",
     "output_type": "stream",
     "text": [
      "[INFO 09-23 22:14:09] ax.early_stopping.strategies.percentile: Considering trial 9 for early stopping.\n"
     ]
    },
    {
     "name": "stderr",
     "output_type": "stream",
     "text": [
      "[INFO 09-23 22:14:09] ax.early_stopping.strategies.base: Last progression of Trial 9 is 0.49994666666666665.\n"
     ]
    },
    {
     "name": "stderr",
     "output_type": "stream",
     "text": [
      "[INFO 09-23 22:14:10] ax.early_stopping.strategies.percentile: Early stopping objective at last progression is:\n",
      "0     0.962521\n",
      "5     0.941009\n",
      "6     0.897125\n",
      "7     0.959242\n",
      "8     0.925162\n",
      "9     0.966268\n",
      "10    0.966499\n",
      "Name: 0.49994666666666665, dtype: float64.\n"
     ]
    },
    {
     "name": "stderr",
     "output_type": "stream",
     "text": [
      "[INFO 09-23 22:14:10] ax.early_stopping.strategies.percentile: Early stopping decision for 9: False. Reason: Trial objective value 0.9662678534838902 is better than 70.0-th percentile (0.9632706484322867) across comparable trials.\n"
     ]
    },
    {
     "name": "stderr",
     "output_type": "stream",
     "text": [
      "[INFO 09-23 22:14:10] ax.early_stopping.strategies.percentile: Considering trial 10 for early stopping.\n"
     ]
    },
    {
     "name": "stderr",
     "output_type": "stream",
     "text": [
      "[INFO 09-23 22:14:10] ax.early_stopping.strategies.base: Last progression of Trial 10 is 0.49994666666666665.\n"
     ]
    },
    {
     "name": "stderr",
     "output_type": "stream",
     "text": [
      "[INFO 09-23 22:14:10] ax.early_stopping.strategies.percentile: Early stopping objective at last progression is:\n",
      "0     0.962521\n",
      "5     0.941009\n",
      "6     0.897125\n",
      "7     0.959242\n",
      "8     0.925162\n",
      "9     0.966268\n",
      "10    0.966499\n",
      "Name: 0.49994666666666665, dtype: float64.\n"
     ]
    },
    {
     "name": "stderr",
     "output_type": "stream",
     "text": [
      "[INFO 09-23 22:14:10] ax.early_stopping.strategies.percentile: Early stopping decision for 10: False. Reason: Trial objective value 0.9664988436245664 is better than 70.0-th percentile (0.9632706484322867) across comparable trials.\n"
     ]
    },
    {
     "name": "stderr",
     "output_type": "stream",
     "text": [
      "[INFO 09-23 22:14:10] ax.early_stopping.strategies.percentile: Considering trial 12 for early stopping.\n"
     ]
    },
    {
     "name": "stderr",
     "output_type": "stream",
     "text": [
      "[INFO 09-23 22:14:10] ax.early_stopping.strategies.base: Last progression of Trial 12 is 0.09994666666666667.\n"
     ]
    },
    {
     "name": "stderr",
     "output_type": "stream",
     "text": [
      "[INFO 09-23 22:14:10] ax.early_stopping.strategies.base: Trial 12's most recent progression (0.09994666666666667) that is available for metric val_acc falls out of the min/max_progression range (0.3, None). Not early stopping this trial.\n"
     ]
    },
    {
     "name": "stderr",
     "output_type": "stream",
     "text": [
      "[INFO 09-23 22:14:10] Scheduler: Waiting for completed trials (for 10 sec, currently running trials: 3).\n"
     ]
    },
    {
     "name": "stderr",
     "output_type": "stream",
     "text": [
      "[INFO 09-23 22:14:20] Scheduler: Fetching data for newly completed trials: [].\n"
     ]
    },
    {
     "name": "stderr",
     "output_type": "stream",
     "text": [
      "[INFO 09-23 22:14:20] Scheduler: Fetching data for trials: [9, 10, 12] because some metrics on experiment are available while trials are running.\n"
     ]
    },
    {
     "name": "stderr",
     "output_type": "stream",
     "text": [
      "/tmp/tmp.QqcA7fo0ui/Ax-main/ax/core/map_data.py:195: FutureWarning: The behavior of DataFrame concatenation with empty or all-NA entries is deprecated. In a future version, this will no longer exclude empty or all-NA columns when determining the result dtypes. To retain the old behavior, exclude the relevant entries before the concat operation.\n",
      "  df = pd.concat(\n",
      "/tmp/tmp.QqcA7fo0ui/Ax-main/ax/core/map_data.py:195: FutureWarning: The behavior of DataFrame concatenation with empty or all-NA entries is deprecated. In a future version, this will no longer exclude empty or all-NA columns when determining the result dtypes. To retain the old behavior, exclude the relevant entries before the concat operation.\n",
      "  df = pd.concat(\n",
      "[INFO 09-23 22:14:20] ax.early_stopping.strategies.base: Last progression of any candidate for trial stopping is 0.49994666666666665.\n"
     ]
    },
    {
     "name": "stderr",
     "output_type": "stream",
     "text": [
      "[INFO 09-23 22:14:20] ax.early_stopping.utils: Got exception `x and y arrays must have at least 2 entries` during interpolation. Using uninterpolated values instead.\n"
     ]
    },
    {
     "name": "stderr",
     "output_type": "stream",
     "text": [
      "[INFO 09-23 22:14:20] ax.early_stopping.strategies.percentile: Considering trial 9 for early stopping.\n"
     ]
    },
    {
     "name": "stderr",
     "output_type": "stream",
     "text": [
      "[INFO 09-23 22:14:20] ax.early_stopping.strategies.base: Last progression of Trial 9 is 0.49994666666666665.\n"
     ]
    },
    {
     "name": "stderr",
     "output_type": "stream",
     "text": [
      "[INFO 09-23 22:14:20] ax.early_stopping.strategies.percentile: Early stopping objective at last progression is:\n",
      "0     0.962521\n",
      "5     0.941009\n",
      "6     0.897125\n",
      "7     0.959242\n",
      "8     0.925162\n",
      "9     0.966268\n",
      "10    0.966499\n",
      "Name: 0.49994666666666665, dtype: float64.\n"
     ]
    },
    {
     "name": "stderr",
     "output_type": "stream",
     "text": [
      "[INFO 09-23 22:14:20] ax.early_stopping.strategies.percentile: Early stopping decision for 9: False. Reason: Trial objective value 0.9662678534838902 is better than 70.0-th percentile (0.9632706484322867) across comparable trials.\n"
     ]
    },
    {
     "name": "stderr",
     "output_type": "stream",
     "text": [
      "[INFO 09-23 22:14:20] ax.early_stopping.strategies.percentile: Considering trial 10 for early stopping.\n"
     ]
    },
    {
     "name": "stderr",
     "output_type": "stream",
     "text": [
      "[INFO 09-23 22:14:20] ax.early_stopping.strategies.base: Last progression of Trial 10 is 0.49994666666666665.\n"
     ]
    },
    {
     "name": "stderr",
     "output_type": "stream",
     "text": [
      "[INFO 09-23 22:14:20] ax.early_stopping.strategies.percentile: Early stopping objective at last progression is:\n",
      "0     0.962521\n",
      "5     0.941009\n",
      "6     0.897125\n",
      "7     0.959242\n",
      "8     0.925162\n",
      "9     0.966268\n",
      "10    0.966499\n",
      "Name: 0.49994666666666665, dtype: float64.\n"
     ]
    },
    {
     "name": "stderr",
     "output_type": "stream",
     "text": [
      "[INFO 09-23 22:14:20] ax.early_stopping.strategies.percentile: Early stopping decision for 10: False. Reason: Trial objective value 0.9664988436245664 is better than 70.0-th percentile (0.9632706484322867) across comparable trials.\n"
     ]
    },
    {
     "name": "stderr",
     "output_type": "stream",
     "text": [
      "[INFO 09-23 22:14:20] ax.early_stopping.strategies.percentile: Considering trial 12 for early stopping.\n"
     ]
    },
    {
     "name": "stderr",
     "output_type": "stream",
     "text": [
      "[INFO 09-23 22:14:20] ax.early_stopping.strategies.base: Last progression of Trial 12 is 0.09994666666666667.\n"
     ]
    },
    {
     "name": "stderr",
     "output_type": "stream",
     "text": [
      "[INFO 09-23 22:14:20] ax.early_stopping.strategies.base: Trial 12's most recent progression (0.09994666666666667) that is available for metric val_acc falls out of the min/max_progression range (0.3, None). Not early stopping this trial.\n"
     ]
    },
    {
     "name": "stderr",
     "output_type": "stream",
     "text": [
      "[INFO 09-23 22:14:20] Scheduler: Waiting for completed trials (for 10 sec, currently running trials: 3).\n"
     ]
    },
    {
     "name": "stderr",
     "output_type": "stream",
     "text": [
      "[INFO 09-23 22:14:30] Scheduler: Fetching data for newly completed trials: [].\n"
     ]
    },
    {
     "name": "stderr",
     "output_type": "stream",
     "text": [
      "[INFO 09-23 22:14:30] Scheduler: Fetching data for trials: [9, 10, 12] because some metrics on experiment are available while trials are running.\n"
     ]
    },
    {
     "name": "stderr",
     "output_type": "stream",
     "text": [
      "/tmp/tmp.QqcA7fo0ui/Ax-main/ax/core/map_data.py:195: FutureWarning: The behavior of DataFrame concatenation with empty or all-NA entries is deprecated. In a future version, this will no longer exclude empty or all-NA columns when determining the result dtypes. To retain the old behavior, exclude the relevant entries before the concat operation.\n",
      "  df = pd.concat(\n",
      "/tmp/tmp.QqcA7fo0ui/Ax-main/ax/core/map_data.py:195: FutureWarning: The behavior of DataFrame concatenation with empty or all-NA entries is deprecated. In a future version, this will no longer exclude empty or all-NA columns when determining the result dtypes. To retain the old behavior, exclude the relevant entries before the concat operation.\n",
      "  df = pd.concat(\n",
      "[INFO 09-23 22:14:30] ax.early_stopping.strategies.base: Last progression of any candidate for trial stopping is 0.49994666666666665.\n"
     ]
    },
    {
     "name": "stderr",
     "output_type": "stream",
     "text": [
      "[INFO 09-23 22:14:30] ax.early_stopping.utils: Got exception `x and y arrays must have at least 2 entries` during interpolation. Using uninterpolated values instead.\n"
     ]
    },
    {
     "name": "stderr",
     "output_type": "stream",
     "text": [
      "[INFO 09-23 22:14:30] ax.early_stopping.strategies.percentile: Considering trial 9 for early stopping.\n"
     ]
    },
    {
     "name": "stderr",
     "output_type": "stream",
     "text": [
      "[INFO 09-23 22:14:30] ax.early_stopping.strategies.base: Last progression of Trial 9 is 0.49994666666666665.\n"
     ]
    },
    {
     "name": "stderr",
     "output_type": "stream",
     "text": [
      "[INFO 09-23 22:14:30] ax.early_stopping.strategies.percentile: Early stopping objective at last progression is:\n",
      "0     0.962521\n",
      "5     0.941009\n",
      "6     0.897125\n",
      "7     0.959242\n",
      "8     0.925162\n",
      "9     0.966268\n",
      "10    0.966499\n",
      "Name: 0.49994666666666665, dtype: float64.\n"
     ]
    },
    {
     "name": "stderr",
     "output_type": "stream",
     "text": [
      "[INFO 09-23 22:14:30] ax.early_stopping.strategies.percentile: Early stopping decision for 9: False. Reason: Trial objective value 0.9662678534838902 is better than 70.0-th percentile (0.9632706484322867) across comparable trials.\n"
     ]
    },
    {
     "name": "stderr",
     "output_type": "stream",
     "text": [
      "[INFO 09-23 22:14:30] ax.early_stopping.strategies.percentile: Considering trial 10 for early stopping.\n"
     ]
    },
    {
     "name": "stderr",
     "output_type": "stream",
     "text": [
      "[INFO 09-23 22:14:30] ax.early_stopping.strategies.base: Last progression of Trial 10 is 0.49994666666666665.\n"
     ]
    },
    {
     "name": "stderr",
     "output_type": "stream",
     "text": [
      "[INFO 09-23 22:14:30] ax.early_stopping.strategies.percentile: Early stopping objective at last progression is:\n",
      "0     0.962521\n",
      "5     0.941009\n",
      "6     0.897125\n",
      "7     0.959242\n",
      "8     0.925162\n",
      "9     0.966268\n",
      "10    0.966499\n",
      "Name: 0.49994666666666665, dtype: float64.\n"
     ]
    },
    {
     "name": "stderr",
     "output_type": "stream",
     "text": [
      "[INFO 09-23 22:14:30] ax.early_stopping.strategies.percentile: Early stopping decision for 10: False. Reason: Trial objective value 0.9664988436245664 is better than 70.0-th percentile (0.9632706484322867) across comparable trials.\n"
     ]
    },
    {
     "name": "stderr",
     "output_type": "stream",
     "text": [
      "[INFO 09-23 22:14:30] ax.early_stopping.strategies.percentile: Considering trial 12 for early stopping.\n"
     ]
    },
    {
     "name": "stderr",
     "output_type": "stream",
     "text": [
      "[INFO 09-23 22:14:30] ax.early_stopping.strategies.base: Last progression of Trial 12 is 0.09994666666666667.\n"
     ]
    },
    {
     "name": "stderr",
     "output_type": "stream",
     "text": [
      "[INFO 09-23 22:14:30] ax.early_stopping.strategies.base: Trial 12's most recent progression (0.09994666666666667) that is available for metric val_acc falls out of the min/max_progression range (0.3, None). Not early stopping this trial.\n"
     ]
    },
    {
     "name": "stderr",
     "output_type": "stream",
     "text": [
      "[INFO 09-23 22:14:30] Scheduler: Waiting for completed trials (for 10 sec, currently running trials: 3).\n"
     ]
    },
    {
     "name": "stderr",
     "output_type": "stream",
     "text": [
      "[INFO 09-23 22:14:40] Scheduler: Fetching data for newly completed trials: [].\n"
     ]
    },
    {
     "name": "stderr",
     "output_type": "stream",
     "text": [
      "[INFO 09-23 22:14:40] Scheduler: Fetching data for trials: [9, 10, 12] because some metrics on experiment are available while trials are running.\n"
     ]
    },
    {
     "name": "stderr",
     "output_type": "stream",
     "text": [
      "/tmp/tmp.QqcA7fo0ui/Ax-main/ax/core/map_data.py:195: FutureWarning: The behavior of DataFrame concatenation with empty or all-NA entries is deprecated. In a future version, this will no longer exclude empty or all-NA columns when determining the result dtypes. To retain the old behavior, exclude the relevant entries before the concat operation.\n",
      "  df = pd.concat(\n",
      "/tmp/tmp.QqcA7fo0ui/Ax-main/ax/core/map_data.py:195: FutureWarning: The behavior of DataFrame concatenation with empty or all-NA entries is deprecated. In a future version, this will no longer exclude empty or all-NA columns when determining the result dtypes. To retain the old behavior, exclude the relevant entries before the concat operation.\n",
      "  df = pd.concat(\n",
      "[INFO 09-23 22:14:40] ax.early_stopping.strategies.base: Last progression of any candidate for trial stopping is 0.5999466666666666.\n"
     ]
    },
    {
     "name": "stderr",
     "output_type": "stream",
     "text": [
      "[INFO 09-23 22:14:40] ax.early_stopping.strategies.percentile: Considering trial 9 for early stopping.\n"
     ]
    },
    {
     "name": "stderr",
     "output_type": "stream",
     "text": [
      "[INFO 09-23 22:14:40] ax.early_stopping.strategies.base: Last progression of Trial 9 is 0.5999466666666666.\n"
     ]
    },
    {
     "name": "stderr",
     "output_type": "stream",
     "text": [
      "[INFO 09-23 22:14:40] ax.early_stopping.strategies.percentile: Early stopping objective at last progression is:\n",
      "0     0.957657\n",
      "5     0.941543\n",
      "6     0.900516\n",
      "7     0.962971\n",
      "8     0.925230\n",
      "9     0.967270\n",
      "10    0.969428\n",
      "Name: 0.5999466666666666, dtype: float64.\n"
     ]
    },
    {
     "name": "stderr",
     "output_type": "stream",
     "text": [
      "[INFO 09-23 22:14:40] ax.early_stopping.strategies.percentile: Early stopping decision for 9: False. Reason: Trial objective value 0.9672699367607034 is better than 70.0-th percentile (0.96383071929383) across comparable trials.\n"
     ]
    },
    {
     "name": "stderr",
     "output_type": "stream",
     "text": [
      "[INFO 09-23 22:14:40] ax.early_stopping.strategies.percentile: Considering trial 10 for early stopping.\n"
     ]
    },
    {
     "name": "stderr",
     "output_type": "stream",
     "text": [
      "[INFO 09-23 22:14:40] ax.early_stopping.strategies.base: Last progression of Trial 10 is 0.5999466666666666.\n"
     ]
    },
    {
     "name": "stderr",
     "output_type": "stream",
     "text": [
      "[INFO 09-23 22:14:40] ax.early_stopping.strategies.percentile: Early stopping objective at last progression is:\n",
      "0     0.957657\n",
      "5     0.941543\n",
      "6     0.900516\n",
      "7     0.962971\n",
      "8     0.925230\n",
      "9     0.967270\n",
      "10    0.969428\n",
      "Name: 0.5999466666666666, dtype: float64.\n"
     ]
    },
    {
     "name": "stderr",
     "output_type": "stream",
     "text": [
      "[INFO 09-23 22:14:40] ax.early_stopping.strategies.percentile: Early stopping decision for 10: False. Reason: Trial objective value 0.969427514195741 is better than 70.0-th percentile (0.96383071929383) across comparable trials.\n"
     ]
    },
    {
     "name": "stderr",
     "output_type": "stream",
     "text": [
      "[INFO 09-23 22:14:40] ax.early_stopping.strategies.percentile: Considering trial 12 for early stopping.\n"
     ]
    },
    {
     "name": "stderr",
     "output_type": "stream",
     "text": [
      "[INFO 09-23 22:14:40] ax.early_stopping.strategies.base: Last progression of Trial 12 is 0.19994666666666666.\n"
     ]
    },
    {
     "name": "stderr",
     "output_type": "stream",
     "text": [
      "[INFO 09-23 22:14:40] ax.early_stopping.strategies.base: Trial 12's most recent progression (0.19994666666666666) that is available for metric val_acc falls out of the min/max_progression range (0.3, None). Not early stopping this trial.\n"
     ]
    },
    {
     "name": "stderr",
     "output_type": "stream",
     "text": [
      "[INFO 09-23 22:14:40] Scheduler: Waiting for completed trials (for 10 sec, currently running trials: 3).\n"
     ]
    },
    {
     "name": "stderr",
     "output_type": "stream",
     "text": [
      "[INFO 09-23 22:14:50] Scheduler: Fetching data for newly completed trials: [].\n"
     ]
    },
    {
     "name": "stderr",
     "output_type": "stream",
     "text": [
      "[INFO 09-23 22:14:50] Scheduler: Fetching data for trials: [9, 10, 12] because some metrics on experiment are available while trials are running.\n"
     ]
    },
    {
     "name": "stderr",
     "output_type": "stream",
     "text": [
      "/tmp/tmp.QqcA7fo0ui/Ax-main/ax/core/map_data.py:195: FutureWarning: The behavior of DataFrame concatenation with empty or all-NA entries is deprecated. In a future version, this will no longer exclude empty or all-NA columns when determining the result dtypes. To retain the old behavior, exclude the relevant entries before the concat operation.\n",
      "  df = pd.concat(\n",
      "/tmp/tmp.QqcA7fo0ui/Ax-main/ax/core/map_data.py:195: FutureWarning: The behavior of DataFrame concatenation with empty or all-NA entries is deprecated. In a future version, this will no longer exclude empty or all-NA columns when determining the result dtypes. To retain the old behavior, exclude the relevant entries before the concat operation.\n",
      "  df = pd.concat(\n",
      "[INFO 09-23 22:14:50] ax.early_stopping.strategies.base: Last progression of any candidate for trial stopping is 0.5999466666666666.\n"
     ]
    },
    {
     "name": "stderr",
     "output_type": "stream",
     "text": [
      "[INFO 09-23 22:14:50] ax.early_stopping.strategies.percentile: Considering trial 9 for early stopping.\n"
     ]
    },
    {
     "name": "stderr",
     "output_type": "stream",
     "text": [
      "[INFO 09-23 22:14:50] ax.early_stopping.strategies.base: Last progression of Trial 9 is 0.5999466666666666.\n"
     ]
    },
    {
     "name": "stderr",
     "output_type": "stream",
     "text": [
      "[INFO 09-23 22:14:50] ax.early_stopping.strategies.percentile: Early stopping objective at last progression is:\n",
      "0     0.957657\n",
      "5     0.941543\n",
      "6     0.900516\n",
      "7     0.962971\n",
      "8     0.925230\n",
      "9     0.967270\n",
      "10    0.969428\n",
      "Name: 0.5999466666666666, dtype: float64.\n"
     ]
    },
    {
     "name": "stderr",
     "output_type": "stream",
     "text": [
      "[INFO 09-23 22:14:50] ax.early_stopping.strategies.percentile: Early stopping decision for 9: False. Reason: Trial objective value 0.9672699367607034 is better than 70.0-th percentile (0.96383071929383) across comparable trials.\n"
     ]
    },
    {
     "name": "stderr",
     "output_type": "stream",
     "text": [
      "[INFO 09-23 22:14:50] ax.early_stopping.strategies.percentile: Considering trial 10 for early stopping.\n"
     ]
    },
    {
     "name": "stderr",
     "output_type": "stream",
     "text": [
      "[INFO 09-23 22:14:50] ax.early_stopping.strategies.base: Last progression of Trial 10 is 0.5999466666666666.\n"
     ]
    },
    {
     "name": "stderr",
     "output_type": "stream",
     "text": [
      "[INFO 09-23 22:14:50] ax.early_stopping.strategies.percentile: Early stopping objective at last progression is:\n",
      "0     0.957657\n",
      "5     0.941543\n",
      "6     0.900516\n",
      "7     0.962971\n",
      "8     0.925230\n",
      "9     0.967270\n",
      "10    0.969428\n",
      "Name: 0.5999466666666666, dtype: float64.\n"
     ]
    },
    {
     "name": "stderr",
     "output_type": "stream",
     "text": [
      "[INFO 09-23 22:14:50] ax.early_stopping.strategies.percentile: Early stopping decision for 10: False. Reason: Trial objective value 0.969427514195741 is better than 70.0-th percentile (0.96383071929383) across comparable trials.\n"
     ]
    },
    {
     "name": "stderr",
     "output_type": "stream",
     "text": [
      "[INFO 09-23 22:14:50] ax.early_stopping.strategies.percentile: Considering trial 12 for early stopping.\n"
     ]
    },
    {
     "name": "stderr",
     "output_type": "stream",
     "text": [
      "[INFO 09-23 22:14:50] ax.early_stopping.strategies.base: Last progression of Trial 12 is 0.19994666666666666.\n"
     ]
    },
    {
     "name": "stderr",
     "output_type": "stream",
     "text": [
      "[INFO 09-23 22:14:50] ax.early_stopping.strategies.base: Trial 12's most recent progression (0.19994666666666666) that is available for metric val_acc falls out of the min/max_progression range (0.3, None). Not early stopping this trial.\n"
     ]
    },
    {
     "name": "stderr",
     "output_type": "stream",
     "text": [
      "[INFO 09-23 22:14:50] Scheduler: Waiting for completed trials (for 10 sec, currently running trials: 3).\n"
     ]
    },
    {
     "name": "stderr",
     "output_type": "stream",
     "text": [
      "[INFO 09-23 22:15:00] Scheduler: Fetching data for newly completed trials: [].\n"
     ]
    },
    {
     "name": "stderr",
     "output_type": "stream",
     "text": [
      "[INFO 09-23 22:15:00] Scheduler: Fetching data for trials: [9, 10, 12] because some metrics on experiment are available while trials are running.\n"
     ]
    },
    {
     "name": "stderr",
     "output_type": "stream",
     "text": [
      "/tmp/tmp.QqcA7fo0ui/Ax-main/ax/core/map_data.py:195: FutureWarning: The behavior of DataFrame concatenation with empty or all-NA entries is deprecated. In a future version, this will no longer exclude empty or all-NA columns when determining the result dtypes. To retain the old behavior, exclude the relevant entries before the concat operation.\n",
      "  df = pd.concat(\n",
      "/tmp/tmp.QqcA7fo0ui/Ax-main/ax/core/map_data.py:195: FutureWarning: The behavior of DataFrame concatenation with empty or all-NA entries is deprecated. In a future version, this will no longer exclude empty or all-NA columns when determining the result dtypes. To retain the old behavior, exclude the relevant entries before the concat operation.\n",
      "  df = pd.concat(\n",
      "[INFO 09-23 22:15:01] ax.early_stopping.strategies.base: Last progression of any candidate for trial stopping is 0.5999466666666666.\n"
     ]
    },
    {
     "name": "stderr",
     "output_type": "stream",
     "text": [
      "[INFO 09-23 22:15:01] ax.early_stopping.strategies.percentile: Considering trial 9 for early stopping.\n"
     ]
    },
    {
     "name": "stderr",
     "output_type": "stream",
     "text": [
      "[INFO 09-23 22:15:01] ax.early_stopping.strategies.base: Last progression of Trial 9 is 0.5999466666666666.\n"
     ]
    },
    {
     "name": "stderr",
     "output_type": "stream",
     "text": [
      "[INFO 09-23 22:15:01] ax.early_stopping.strategies.percentile: Early stopping objective at last progression is:\n",
      "0     0.957657\n",
      "5     0.941543\n",
      "6     0.900516\n",
      "7     0.962971\n",
      "8     0.925230\n",
      "9     0.967270\n",
      "10    0.969428\n",
      "Name: 0.5999466666666666, dtype: float64.\n"
     ]
    },
    {
     "name": "stderr",
     "output_type": "stream",
     "text": [
      "[INFO 09-23 22:15:01] ax.early_stopping.strategies.percentile: Early stopping decision for 9: False. Reason: Trial objective value 0.9672699367607034 is better than 70.0-th percentile (0.96383071929383) across comparable trials.\n"
     ]
    },
    {
     "name": "stderr",
     "output_type": "stream",
     "text": [
      "[INFO 09-23 22:15:01] ax.early_stopping.strategies.percentile: Considering trial 10 for early stopping.\n"
     ]
    },
    {
     "name": "stderr",
     "output_type": "stream",
     "text": [
      "[INFO 09-23 22:15:01] ax.early_stopping.strategies.base: Last progression of Trial 10 is 0.5999466666666666.\n"
     ]
    },
    {
     "name": "stderr",
     "output_type": "stream",
     "text": [
      "[INFO 09-23 22:15:01] ax.early_stopping.strategies.percentile: Early stopping objective at last progression is:\n",
      "0     0.957657\n",
      "5     0.941543\n",
      "6     0.900516\n",
      "7     0.962971\n",
      "8     0.925230\n",
      "9     0.967270\n",
      "10    0.969428\n",
      "Name: 0.5999466666666666, dtype: float64.\n"
     ]
    },
    {
     "name": "stderr",
     "output_type": "stream",
     "text": [
      "[INFO 09-23 22:15:01] ax.early_stopping.strategies.percentile: Early stopping decision for 10: False. Reason: Trial objective value 0.969427514195741 is better than 70.0-th percentile (0.96383071929383) across comparable trials.\n"
     ]
    },
    {
     "name": "stderr",
     "output_type": "stream",
     "text": [
      "[INFO 09-23 22:15:01] ax.early_stopping.strategies.percentile: Considering trial 12 for early stopping.\n"
     ]
    },
    {
     "name": "stderr",
     "output_type": "stream",
     "text": [
      "[INFO 09-23 22:15:01] ax.early_stopping.strategies.base: Last progression of Trial 12 is 0.19994666666666666.\n"
     ]
    },
    {
     "name": "stderr",
     "output_type": "stream",
     "text": [
      "[INFO 09-23 22:15:01] ax.early_stopping.strategies.base: Trial 12's most recent progression (0.19994666666666666) that is available for metric val_acc falls out of the min/max_progression range (0.3, None). Not early stopping this trial.\n"
     ]
    },
    {
     "name": "stderr",
     "output_type": "stream",
     "text": [
      "[INFO 09-23 22:15:01] Scheduler: Waiting for completed trials (for 10 sec, currently running trials: 3).\n"
     ]
    },
    {
     "name": "stderr",
     "output_type": "stream",
     "text": [
      "[INFO 09-23 22:15:11] Scheduler: Fetching data for newly completed trials: [].\n"
     ]
    },
    {
     "name": "stderr",
     "output_type": "stream",
     "text": [
      "[INFO 09-23 22:15:11] Scheduler: Fetching data for trials: [9, 10, 12] because some metrics on experiment are available while trials are running.\n"
     ]
    },
    {
     "name": "stderr",
     "output_type": "stream",
     "text": [
      "/tmp/tmp.QqcA7fo0ui/Ax-main/ax/core/map_data.py:195: FutureWarning: The behavior of DataFrame concatenation with empty or all-NA entries is deprecated. In a future version, this will no longer exclude empty or all-NA columns when determining the result dtypes. To retain the old behavior, exclude the relevant entries before the concat operation.\n",
      "  df = pd.concat(\n",
      "/tmp/tmp.QqcA7fo0ui/Ax-main/ax/core/map_data.py:195: FutureWarning: The behavior of DataFrame concatenation with empty or all-NA entries is deprecated. In a future version, this will no longer exclude empty or all-NA columns when determining the result dtypes. To retain the old behavior, exclude the relevant entries before the concat operation.\n",
      "  df = pd.concat(\n",
      "[INFO 09-23 22:15:11] ax.early_stopping.strategies.base: Last progression of any candidate for trial stopping is 0.6999466666666667.\n"
     ]
    },
    {
     "name": "stderr",
     "output_type": "stream",
     "text": [
      "[INFO 09-23 22:15:11] ax.early_stopping.strategies.percentile: Considering trial 9 for early stopping.\n"
     ]
    },
    {
     "name": "stderr",
     "output_type": "stream",
     "text": [
      "[INFO 09-23 22:15:11] ax.early_stopping.strategies.base: Last progression of Trial 9 is 0.6999466666666667.\n"
     ]
    },
    {
     "name": "stderr",
     "output_type": "stream",
     "text": [
      "[INFO 09-23 22:15:11] ax.early_stopping.strategies.percentile: Early stopping objective at last progression is:\n",
      "0    0.962680\n",
      "5    0.944225\n",
      "6    0.902252\n",
      "7    0.966143\n",
      "8    0.927692\n",
      "9    0.967417\n",
      "Name: 0.6999466666666667, dtype: float64.\n"
     ]
    },
    {
     "name": "stderr",
     "output_type": "stream",
     "text": [
      "[INFO 09-23 22:15:11] ax.early_stopping.strategies.percentile: Early stopping decision for 9: False. Reason: Trial objective value 0.9674172826975904 is better than 70.0-th percentile (0.9644111704964369) across comparable trials.\n"
     ]
    },
    {
     "name": "stderr",
     "output_type": "stream",
     "text": [
      "[INFO 09-23 22:15:11] ax.early_stopping.strategies.percentile: Considering trial 10 for early stopping.\n"
     ]
    },
    {
     "name": "stderr",
     "output_type": "stream",
     "text": [
      "[INFO 09-23 22:15:11] ax.early_stopping.strategies.base: Last progression of Trial 10 is 0.5999466666666666.\n"
     ]
    },
    {
     "name": "stderr",
     "output_type": "stream",
     "text": [
      "[INFO 09-23 22:15:11] ax.early_stopping.strategies.percentile: Early stopping objective at last progression is:\n",
      "0     0.957657\n",
      "5     0.941543\n",
      "6     0.900516\n",
      "7     0.962971\n",
      "8     0.925230\n",
      "9     0.967270\n",
      "10    0.969428\n",
      "Name: 0.5999466666666666, dtype: float64.\n"
     ]
    },
    {
     "name": "stderr",
     "output_type": "stream",
     "text": [
      "[INFO 09-23 22:15:11] ax.early_stopping.strategies.percentile: Early stopping decision for 10: False. Reason: Trial objective value 0.969427514195741 is better than 70.0-th percentile (0.96383071929383) across comparable trials.\n"
     ]
    },
    {
     "name": "stderr",
     "output_type": "stream",
     "text": [
      "[INFO 09-23 22:15:11] ax.early_stopping.strategies.percentile: Considering trial 12 for early stopping.\n"
     ]
    },
    {
     "name": "stderr",
     "output_type": "stream",
     "text": [
      "[INFO 09-23 22:15:11] ax.early_stopping.strategies.base: Last progression of Trial 12 is 0.19994666666666666.\n"
     ]
    },
    {
     "name": "stderr",
     "output_type": "stream",
     "text": [
      "[INFO 09-23 22:15:11] ax.early_stopping.strategies.base: Trial 12's most recent progression (0.19994666666666666) that is available for metric val_acc falls out of the min/max_progression range (0.3, None). Not early stopping this trial.\n"
     ]
    },
    {
     "name": "stderr",
     "output_type": "stream",
     "text": [
      "[INFO 09-23 22:15:11] Scheduler: Waiting for completed trials (for 10 sec, currently running trials: 3).\n"
     ]
    },
    {
     "name": "stderr",
     "output_type": "stream",
     "text": [
      "[INFO 09-23 22:15:21] Scheduler: Fetching data for newly completed trials: [].\n"
     ]
    },
    {
     "name": "stderr",
     "output_type": "stream",
     "text": [
      "[INFO 09-23 22:15:21] Scheduler: Fetching data for trials: [9, 10, 12] because some metrics on experiment are available while trials are running.\n"
     ]
    },
    {
     "name": "stderr",
     "output_type": "stream",
     "text": [
      "/tmp/tmp.QqcA7fo0ui/Ax-main/ax/core/map_data.py:195: FutureWarning: The behavior of DataFrame concatenation with empty or all-NA entries is deprecated. In a future version, this will no longer exclude empty or all-NA columns when determining the result dtypes. To retain the old behavior, exclude the relevant entries before the concat operation.\n",
      "  df = pd.concat(\n",
      "/tmp/tmp.QqcA7fo0ui/Ax-main/ax/core/map_data.py:195: FutureWarning: The behavior of DataFrame concatenation with empty or all-NA entries is deprecated. In a future version, this will no longer exclude empty or all-NA columns when determining the result dtypes. To retain the old behavior, exclude the relevant entries before the concat operation.\n",
      "  df = pd.concat(\n",
      "[INFO 09-23 22:15:21] ax.early_stopping.strategies.base: Last progression of any candidate for trial stopping is 0.6999466666666667.\n"
     ]
    },
    {
     "name": "stderr",
     "output_type": "stream",
     "text": [
      "[INFO 09-23 22:15:21] ax.early_stopping.strategies.percentile: Considering trial 9 for early stopping.\n"
     ]
    },
    {
     "name": "stderr",
     "output_type": "stream",
     "text": [
      "[INFO 09-23 22:15:21] ax.early_stopping.strategies.base: Last progression of Trial 9 is 0.6999466666666667.\n"
     ]
    },
    {
     "name": "stderr",
     "output_type": "stream",
     "text": [
      "[INFO 09-23 22:15:21] ax.early_stopping.strategies.percentile: Early stopping objective at last progression is:\n",
      "0     0.962680\n",
      "5     0.944225\n",
      "6     0.902252\n",
      "7     0.966143\n",
      "8     0.927692\n",
      "9     0.967417\n",
      "10    0.971766\n",
      "Name: 0.6999466666666667, dtype: float64.\n"
     ]
    },
    {
     "name": "stderr",
     "output_type": "stream",
     "text": [
      "[INFO 09-23 22:15:21] ax.early_stopping.strategies.percentile: Early stopping decision for 9: False. Reason: Trial objective value 0.9674172826975904 is better than 70.0-th percentile (0.9663976947364131) across comparable trials.\n"
     ]
    },
    {
     "name": "stderr",
     "output_type": "stream",
     "text": [
      "[INFO 09-23 22:15:21] ax.early_stopping.strategies.percentile: Considering trial 10 for early stopping.\n"
     ]
    },
    {
     "name": "stderr",
     "output_type": "stream",
     "text": [
      "[INFO 09-23 22:15:21] ax.early_stopping.strategies.base: Last progression of Trial 10 is 0.6999466666666667.\n"
     ]
    },
    {
     "name": "stderr",
     "output_type": "stream",
     "text": [
      "[INFO 09-23 22:15:21] ax.early_stopping.strategies.percentile: Early stopping objective at last progression is:\n",
      "0     0.962680\n",
      "5     0.944225\n",
      "6     0.902252\n",
      "7     0.966143\n",
      "8     0.927692\n",
      "9     0.967417\n",
      "10    0.971766\n",
      "Name: 0.6999466666666667, dtype: float64.\n"
     ]
    },
    {
     "name": "stderr",
     "output_type": "stream",
     "text": [
      "[INFO 09-23 22:15:21] ax.early_stopping.strategies.percentile: Early stopping decision for 10: False. Reason: Trial objective value 0.9717658398275104 is better than 70.0-th percentile (0.9663976947364131) across comparable trials.\n"
     ]
    },
    {
     "name": "stderr",
     "output_type": "stream",
     "text": [
      "[INFO 09-23 22:15:21] ax.early_stopping.strategies.percentile: Considering trial 12 for early stopping.\n"
     ]
    },
    {
     "name": "stderr",
     "output_type": "stream",
     "text": [
      "[INFO 09-23 22:15:21] ax.early_stopping.strategies.base: Last progression of Trial 12 is 0.29994666666666664.\n"
     ]
    },
    {
     "name": "stderr",
     "output_type": "stream",
     "text": [
      "[INFO 09-23 22:15:21] ax.early_stopping.strategies.base: Trial 12's most recent progression (0.29994666666666664) that is available for metric val_acc falls out of the min/max_progression range (0.3, None). Not early stopping this trial.\n"
     ]
    },
    {
     "name": "stderr",
     "output_type": "stream",
     "text": [
      "[INFO 09-23 22:15:21] Scheduler: Waiting for completed trials (for 10 sec, currently running trials: 3).\n"
     ]
    },
    {
     "name": "stderr",
     "output_type": "stream",
     "text": [
      "[INFO 09-23 22:15:31] Scheduler: Fetching data for newly completed trials: [].\n"
     ]
    },
    {
     "name": "stderr",
     "output_type": "stream",
     "text": [
      "[INFO 09-23 22:15:31] Scheduler: Fetching data for trials: [9, 10, 12] because some metrics on experiment are available while trials are running.\n"
     ]
    },
    {
     "name": "stderr",
     "output_type": "stream",
     "text": [
      "/tmp/tmp.QqcA7fo0ui/Ax-main/ax/core/map_data.py:195: FutureWarning: The behavior of DataFrame concatenation with empty or all-NA entries is deprecated. In a future version, this will no longer exclude empty or all-NA columns when determining the result dtypes. To retain the old behavior, exclude the relevant entries before the concat operation.\n",
      "  df = pd.concat(\n",
      "/tmp/tmp.QqcA7fo0ui/Ax-main/ax/core/map_data.py:195: FutureWarning: The behavior of DataFrame concatenation with empty or all-NA entries is deprecated. In a future version, this will no longer exclude empty or all-NA columns when determining the result dtypes. To retain the old behavior, exclude the relevant entries before the concat operation.\n",
      "  df = pd.concat(\n",
      "[INFO 09-23 22:15:31] ax.early_stopping.strategies.base: Last progression of any candidate for trial stopping is 0.6999466666666667.\n"
     ]
    },
    {
     "name": "stderr",
     "output_type": "stream",
     "text": [
      "[INFO 09-23 22:15:31] ax.early_stopping.strategies.percentile: Considering trial 9 for early stopping.\n"
     ]
    },
    {
     "name": "stderr",
     "output_type": "stream",
     "text": [
      "[INFO 09-23 22:15:31] ax.early_stopping.strategies.base: Last progression of Trial 9 is 0.6999466666666667.\n"
     ]
    },
    {
     "name": "stderr",
     "output_type": "stream",
     "text": [
      "[INFO 09-23 22:15:31] ax.early_stopping.strategies.percentile: Early stopping objective at last progression is:\n",
      "0     0.962680\n",
      "5     0.944225\n",
      "6     0.902252\n",
      "7     0.966143\n",
      "8     0.927692\n",
      "9     0.967417\n",
      "10    0.971766\n",
      "Name: 0.6999466666666667, dtype: float64.\n"
     ]
    },
    {
     "name": "stderr",
     "output_type": "stream",
     "text": [
      "[INFO 09-23 22:15:31] ax.early_stopping.strategies.percentile: Early stopping decision for 9: False. Reason: Trial objective value 0.9674172826975904 is better than 70.0-th percentile (0.9663976947364131) across comparable trials.\n"
     ]
    },
    {
     "name": "stderr",
     "output_type": "stream",
     "text": [
      "[INFO 09-23 22:15:31] ax.early_stopping.strategies.percentile: Considering trial 10 for early stopping.\n"
     ]
    },
    {
     "name": "stderr",
     "output_type": "stream",
     "text": [
      "[INFO 09-23 22:15:31] ax.early_stopping.strategies.base: Last progression of Trial 10 is 0.6999466666666667.\n"
     ]
    },
    {
     "name": "stderr",
     "output_type": "stream",
     "text": [
      "[INFO 09-23 22:15:31] ax.early_stopping.strategies.percentile: Early stopping objective at last progression is:\n",
      "0     0.962680\n",
      "5     0.944225\n",
      "6     0.902252\n",
      "7     0.966143\n",
      "8     0.927692\n",
      "9     0.967417\n",
      "10    0.971766\n",
      "Name: 0.6999466666666667, dtype: float64.\n"
     ]
    },
    {
     "name": "stderr",
     "output_type": "stream",
     "text": [
      "[INFO 09-23 22:15:31] ax.early_stopping.strategies.percentile: Early stopping decision for 10: False. Reason: Trial objective value 0.9717658398275104 is better than 70.0-th percentile (0.9663976947364131) across comparable trials.\n"
     ]
    },
    {
     "name": "stderr",
     "output_type": "stream",
     "text": [
      "[INFO 09-23 22:15:31] ax.early_stopping.strategies.percentile: Considering trial 12 for early stopping.\n"
     ]
    },
    {
     "name": "stderr",
     "output_type": "stream",
     "text": [
      "[INFO 09-23 22:15:31] ax.early_stopping.strategies.base: Last progression of Trial 12 is 0.29994666666666664.\n"
     ]
    },
    {
     "name": "stderr",
     "output_type": "stream",
     "text": [
      "[INFO 09-23 22:15:31] ax.early_stopping.strategies.base: Trial 12's most recent progression (0.29994666666666664) that is available for metric val_acc falls out of the min/max_progression range (0.3, None). Not early stopping this trial.\n"
     ]
    },
    {
     "name": "stderr",
     "output_type": "stream",
     "text": [
      "[INFO 09-23 22:15:31] Scheduler: Waiting for completed trials (for 10 sec, currently running trials: 3).\n"
     ]
    },
    {
     "name": "stderr",
     "output_type": "stream",
     "text": [
      "[INFO 09-23 22:15:41] Scheduler: Fetching data for newly completed trials: [].\n"
     ]
    },
    {
     "name": "stderr",
     "output_type": "stream",
     "text": [
      "[INFO 09-23 22:15:41] Scheduler: Fetching data for trials: [9, 10, 12] because some metrics on experiment are available while trials are running.\n"
     ]
    },
    {
     "name": "stderr",
     "output_type": "stream",
     "text": [
      "/tmp/tmp.QqcA7fo0ui/Ax-main/ax/core/map_data.py:195: FutureWarning: The behavior of DataFrame concatenation with empty or all-NA entries is deprecated. In a future version, this will no longer exclude empty or all-NA columns when determining the result dtypes. To retain the old behavior, exclude the relevant entries before the concat operation.\n",
      "  df = pd.concat(\n",
      "/tmp/tmp.QqcA7fo0ui/Ax-main/ax/core/map_data.py:195: FutureWarning: The behavior of DataFrame concatenation with empty or all-NA entries is deprecated. In a future version, this will no longer exclude empty or all-NA columns when determining the result dtypes. To retain the old behavior, exclude the relevant entries before the concat operation.\n",
      "  df = pd.concat(\n",
      "[INFO 09-23 22:15:41] ax.early_stopping.strategies.base: Last progression of any candidate for trial stopping is 0.6999466666666667.\n"
     ]
    },
    {
     "name": "stderr",
     "output_type": "stream",
     "text": [
      "[INFO 09-23 22:15:41] ax.early_stopping.strategies.percentile: Considering trial 9 for early stopping.\n"
     ]
    },
    {
     "name": "stderr",
     "output_type": "stream",
     "text": [
      "[INFO 09-23 22:15:41] ax.early_stopping.strategies.base: Last progression of Trial 9 is 0.6999466666666667.\n"
     ]
    },
    {
     "name": "stderr",
     "output_type": "stream",
     "text": [
      "[INFO 09-23 22:15:41] ax.early_stopping.strategies.percentile: Early stopping objective at last progression is:\n",
      "0     0.962680\n",
      "5     0.944225\n",
      "6     0.902252\n",
      "7     0.966143\n",
      "8     0.927692\n",
      "9     0.967417\n",
      "10    0.971766\n",
      "Name: 0.6999466666666667, dtype: float64.\n"
     ]
    },
    {
     "name": "stderr",
     "output_type": "stream",
     "text": [
      "[INFO 09-23 22:15:41] ax.early_stopping.strategies.percentile: Early stopping decision for 9: False. Reason: Trial objective value 0.9674172826975904 is better than 70.0-th percentile (0.9663976947364131) across comparable trials.\n"
     ]
    },
    {
     "name": "stderr",
     "output_type": "stream",
     "text": [
      "[INFO 09-23 22:15:41] ax.early_stopping.strategies.percentile: Considering trial 10 for early stopping.\n"
     ]
    },
    {
     "name": "stderr",
     "output_type": "stream",
     "text": [
      "[INFO 09-23 22:15:41] ax.early_stopping.strategies.base: Last progression of Trial 10 is 0.6999466666666667.\n"
     ]
    },
    {
     "name": "stderr",
     "output_type": "stream",
     "text": [
      "[INFO 09-23 22:15:41] ax.early_stopping.strategies.percentile: Early stopping objective at last progression is:\n",
      "0     0.962680\n",
      "5     0.944225\n",
      "6     0.902252\n",
      "7     0.966143\n",
      "8     0.927692\n",
      "9     0.967417\n",
      "10    0.971766\n",
      "Name: 0.6999466666666667, dtype: float64.\n"
     ]
    },
    {
     "name": "stderr",
     "output_type": "stream",
     "text": [
      "[INFO 09-23 22:15:41] ax.early_stopping.strategies.percentile: Early stopping decision for 10: False. Reason: Trial objective value 0.9717658398275104 is better than 70.0-th percentile (0.9663976947364131) across comparable trials.\n"
     ]
    },
    {
     "name": "stderr",
     "output_type": "stream",
     "text": [
      "[INFO 09-23 22:15:41] ax.early_stopping.strategies.percentile: Considering trial 12 for early stopping.\n"
     ]
    },
    {
     "name": "stderr",
     "output_type": "stream",
     "text": [
      "[INFO 09-23 22:15:41] ax.early_stopping.strategies.base: Last progression of Trial 12 is 0.29994666666666664.\n"
     ]
    },
    {
     "name": "stderr",
     "output_type": "stream",
     "text": [
      "[INFO 09-23 22:15:41] ax.early_stopping.strategies.base: Trial 12's most recent progression (0.29994666666666664) that is available for metric val_acc falls out of the min/max_progression range (0.3, None). Not early stopping this trial.\n"
     ]
    },
    {
     "name": "stderr",
     "output_type": "stream",
     "text": [
      "[INFO 09-23 22:15:41] Scheduler: Waiting for completed trials (for 10 sec, currently running trials: 3).\n"
     ]
    },
    {
     "name": "stderr",
     "output_type": "stream",
     "text": [
      "[INFO 09-23 22:15:52] Scheduler: Fetching data for newly completed trials: [].\n"
     ]
    },
    {
     "name": "stderr",
     "output_type": "stream",
     "text": [
      "[INFO 09-23 22:15:52] Scheduler: Fetching data for trials: [9, 10, 12] because some metrics on experiment are available while trials are running.\n"
     ]
    },
    {
     "name": "stderr",
     "output_type": "stream",
     "text": [
      "/tmp/tmp.QqcA7fo0ui/Ax-main/ax/core/map_data.py:195: FutureWarning: The behavior of DataFrame concatenation with empty or all-NA entries is deprecated. In a future version, this will no longer exclude empty or all-NA columns when determining the result dtypes. To retain the old behavior, exclude the relevant entries before the concat operation.\n",
      "  df = pd.concat(\n",
      "/tmp/tmp.QqcA7fo0ui/Ax-main/ax/core/map_data.py:195: FutureWarning: The behavior of DataFrame concatenation with empty or all-NA entries is deprecated. In a future version, this will no longer exclude empty or all-NA columns when determining the result dtypes. To retain the old behavior, exclude the relevant entries before the concat operation.\n",
      "  df = pd.concat(\n",
      "[INFO 09-23 22:15:52] ax.early_stopping.strategies.base: Last progression of any candidate for trial stopping is 0.7999466666666667.\n"
     ]
    },
    {
     "name": "stderr",
     "output_type": "stream",
     "text": [
      "[INFO 09-23 22:15:52] ax.early_stopping.strategies.percentile: Considering trial 9 for early stopping.\n"
     ]
    },
    {
     "name": "stderr",
     "output_type": "stream",
     "text": [
      "[INFO 09-23 22:15:52] ax.early_stopping.strategies.base: Last progression of Trial 9 is 0.7999466666666667.\n"
     ]
    },
    {
     "name": "stderr",
     "output_type": "stream",
     "text": [
      "[INFO 09-23 22:15:52] ax.early_stopping.strategies.percentile: Early stopping objective at last progression is:\n",
      "0    0.966059\n",
      "5    0.946704\n",
      "6    0.909716\n",
      "7    0.966534\n",
      "8    0.927331\n",
      "9    0.969440\n",
      "Name: 0.7999466666666667, dtype: float64.\n"
     ]
    },
    {
     "name": "stderr",
     "output_type": "stream",
     "text": [
      "[INFO 09-23 22:15:52] ax.early_stopping.strategies.percentile: Early stopping decision for 9: False. Reason: Trial objective value 0.9694395017691878 is better than 70.0-th percentile (0.966296353095442) across comparable trials.\n"
     ]
    },
    {
     "name": "stderr",
     "output_type": "stream",
     "text": [
      "[INFO 09-23 22:15:52] ax.early_stopping.strategies.percentile: Considering trial 10 for early stopping.\n"
     ]
    },
    {
     "name": "stderr",
     "output_type": "stream",
     "text": [
      "[INFO 09-23 22:15:52] ax.early_stopping.strategies.base: Last progression of Trial 10 is 0.6999466666666667.\n"
     ]
    },
    {
     "name": "stderr",
     "output_type": "stream",
     "text": [
      "[INFO 09-23 22:15:52] ax.early_stopping.strategies.percentile: Early stopping objective at last progression is:\n",
      "0     0.962680\n",
      "5     0.944225\n",
      "6     0.902252\n",
      "7     0.966143\n",
      "8     0.927692\n",
      "9     0.967417\n",
      "10    0.971766\n",
      "Name: 0.6999466666666667, dtype: float64.\n"
     ]
    },
    {
     "name": "stderr",
     "output_type": "stream",
     "text": [
      "[INFO 09-23 22:15:52] ax.early_stopping.strategies.percentile: Early stopping decision for 10: False. Reason: Trial objective value 0.9717658398275104 is better than 70.0-th percentile (0.9663976947364131) across comparable trials.\n"
     ]
    },
    {
     "name": "stderr",
     "output_type": "stream",
     "text": [
      "[INFO 09-23 22:15:52] ax.early_stopping.strategies.percentile: Considering trial 12 for early stopping.\n"
     ]
    },
    {
     "name": "stderr",
     "output_type": "stream",
     "text": [
      "[INFO 09-23 22:15:52] ax.early_stopping.strategies.base: Last progression of Trial 12 is 0.3999466666666667.\n"
     ]
    },
    {
     "name": "stderr",
     "output_type": "stream",
     "text": [
      "[INFO 09-23 22:15:52] ax.early_stopping.strategies.percentile: Early stopping objective at last progression is:\n",
      "0     0.957077\n",
      "5     0.935622\n",
      "6     0.894943\n",
      "7     0.953738\n",
      "8     0.920331\n",
      "9     0.964106\n",
      "10    0.964617\n",
      "11    0.953034\n",
      "12    0.957113\n",
      "Name: 0.3999466666666667, dtype: float64.\n"
     ]
    },
    {
     "name": "stderr",
     "output_type": "stream",
     "text": [
      "[INFO 09-23 22:15:52] ax.early_stopping.strategies.percentile: Early stopping decision for 12: False. Reason: Trial objective value 0.9571126811022829 is better than 70.0-th percentile (0.9570985794067383) across comparable trials.\n"
     ]
    },
    {
     "name": "stderr",
     "output_type": "stream",
     "text": [
      "[INFO 09-23 22:15:52] Scheduler: Waiting for completed trials (for 10 sec, currently running trials: 3).\n"
     ]
    },
    {
     "name": "stderr",
     "output_type": "stream",
     "text": [
      "[INFO 09-23 22:16:02] Scheduler: Fetching data for newly completed trials: [].\n"
     ]
    },
    {
     "name": "stderr",
     "output_type": "stream",
     "text": [
      "[INFO 09-23 22:16:02] Scheduler: Fetching data for trials: [9, 10, 12] because some metrics on experiment are available while trials are running.\n"
     ]
    },
    {
     "name": "stderr",
     "output_type": "stream",
     "text": [
      "/tmp/tmp.QqcA7fo0ui/Ax-main/ax/core/map_data.py:195: FutureWarning: The behavior of DataFrame concatenation with empty or all-NA entries is deprecated. In a future version, this will no longer exclude empty or all-NA columns when determining the result dtypes. To retain the old behavior, exclude the relevant entries before the concat operation.\n",
      "  df = pd.concat(\n",
      "/tmp/tmp.QqcA7fo0ui/Ax-main/ax/core/map_data.py:195: FutureWarning: The behavior of DataFrame concatenation with empty or all-NA entries is deprecated. In a future version, this will no longer exclude empty or all-NA columns when determining the result dtypes. To retain the old behavior, exclude the relevant entries before the concat operation.\n",
      "  df = pd.concat(\n",
      "[INFO 09-23 22:16:02] ax.early_stopping.strategies.base: Last progression of any candidate for trial stopping is 0.7999466666666667.\n"
     ]
    },
    {
     "name": "stderr",
     "output_type": "stream",
     "text": [
      "[INFO 09-23 22:16:02] ax.early_stopping.strategies.percentile: Considering trial 9 for early stopping.\n"
     ]
    },
    {
     "name": "stderr",
     "output_type": "stream",
     "text": [
      "[INFO 09-23 22:16:02] ax.early_stopping.strategies.base: Last progression of Trial 9 is 0.7999466666666667.\n"
     ]
    },
    {
     "name": "stderr",
     "output_type": "stream",
     "text": [
      "[INFO 09-23 22:16:02] ax.early_stopping.strategies.percentile: Early stopping objective at last progression is:\n",
      "0     0.966059\n",
      "5     0.946704\n",
      "6     0.909716\n",
      "7     0.966534\n",
      "8     0.927331\n",
      "9     0.969440\n",
      "10    0.974027\n",
      "Name: 0.7999466666666667, dtype: float64.\n"
     ]
    },
    {
     "name": "stderr",
     "output_type": "stream",
     "text": [
      "[INFO 09-23 22:16:02] ax.early_stopping.strategies.percentile: Early stopping decision for 9: False. Reason: Trial objective value 0.9694395017691878 is better than 70.0-th percentile (0.9671151849917609) across comparable trials.\n"
     ]
    },
    {
     "name": "stderr",
     "output_type": "stream",
     "text": [
      "[INFO 09-23 22:16:02] ax.early_stopping.strategies.percentile: Considering trial 10 for early stopping.\n"
     ]
    },
    {
     "name": "stderr",
     "output_type": "stream",
     "text": [
      "[INFO 09-23 22:16:02] ax.early_stopping.strategies.base: Last progression of Trial 10 is 0.7999466666666667.\n"
     ]
    },
    {
     "name": "stderr",
     "output_type": "stream",
     "text": [
      "[INFO 09-23 22:16:02] ax.early_stopping.strategies.percentile: Early stopping objective at last progression is:\n",
      "0     0.966059\n",
      "5     0.946704\n",
      "6     0.909716\n",
      "7     0.966534\n",
      "8     0.927331\n",
      "9     0.969440\n",
      "10    0.974027\n",
      "Name: 0.7999466666666667, dtype: float64.\n"
     ]
    },
    {
     "name": "stderr",
     "output_type": "stream",
     "text": [
      "[INFO 09-23 22:16:02] ax.early_stopping.strategies.percentile: Early stopping decision for 10: False. Reason: Trial objective value 0.9740270865651269 is better than 70.0-th percentile (0.9671151849917609) across comparable trials.\n"
     ]
    },
    {
     "name": "stderr",
     "output_type": "stream",
     "text": [
      "[INFO 09-23 22:16:02] ax.early_stopping.strategies.percentile: Considering trial 12 for early stopping.\n"
     ]
    },
    {
     "name": "stderr",
     "output_type": "stream",
     "text": [
      "[INFO 09-23 22:16:02] ax.early_stopping.strategies.base: Last progression of Trial 12 is 0.3999466666666667.\n"
     ]
    },
    {
     "name": "stderr",
     "output_type": "stream",
     "text": [
      "[INFO 09-23 22:16:02] ax.early_stopping.strategies.percentile: Early stopping objective at last progression is:\n",
      "0     0.957077\n",
      "5     0.935622\n",
      "6     0.894943\n",
      "7     0.953738\n",
      "8     0.920331\n",
      "9     0.964106\n",
      "10    0.964617\n",
      "11    0.953034\n",
      "12    0.957113\n",
      "Name: 0.3999466666666667, dtype: float64.\n"
     ]
    },
    {
     "name": "stderr",
     "output_type": "stream",
     "text": [
      "[INFO 09-23 22:16:02] ax.early_stopping.strategies.percentile: Early stopping decision for 12: False. Reason: Trial objective value 0.9571126811022829 is better than 70.0-th percentile (0.9570985794067383) across comparable trials.\n"
     ]
    },
    {
     "name": "stderr",
     "output_type": "stream",
     "text": [
      "[INFO 09-23 22:16:02] Scheduler: Waiting for completed trials (for 10 sec, currently running trials: 3).\n"
     ]
    },
    {
     "name": "stderr",
     "output_type": "stream",
     "text": [
      "[INFO 09-23 22:16:12] Scheduler: Fetching data for newly completed trials: [].\n"
     ]
    },
    {
     "name": "stderr",
     "output_type": "stream",
     "text": [
      "[INFO 09-23 22:16:12] Scheduler: Fetching data for trials: [9, 10, 12] because some metrics on experiment are available while trials are running.\n"
     ]
    },
    {
     "name": "stderr",
     "output_type": "stream",
     "text": [
      "/tmp/tmp.QqcA7fo0ui/Ax-main/ax/core/map_data.py:195: FutureWarning: The behavior of DataFrame concatenation with empty or all-NA entries is deprecated. In a future version, this will no longer exclude empty or all-NA columns when determining the result dtypes. To retain the old behavior, exclude the relevant entries before the concat operation.\n",
      "  df = pd.concat(\n",
      "/tmp/tmp.QqcA7fo0ui/Ax-main/ax/core/map_data.py:195: FutureWarning: The behavior of DataFrame concatenation with empty or all-NA entries is deprecated. In a future version, this will no longer exclude empty or all-NA columns when determining the result dtypes. To retain the old behavior, exclude the relevant entries before the concat operation.\n",
      "  df = pd.concat(\n",
      "[INFO 09-23 22:16:12] ax.early_stopping.strategies.base: Last progression of any candidate for trial stopping is 0.7999466666666667.\n"
     ]
    },
    {
     "name": "stderr",
     "output_type": "stream",
     "text": [
      "[INFO 09-23 22:16:12] ax.early_stopping.strategies.percentile: Considering trial 9 for early stopping.\n"
     ]
    },
    {
     "name": "stderr",
     "output_type": "stream",
     "text": [
      "[INFO 09-23 22:16:12] ax.early_stopping.strategies.base: Last progression of Trial 9 is 0.7999466666666667.\n"
     ]
    },
    {
     "name": "stderr",
     "output_type": "stream",
     "text": [
      "[INFO 09-23 22:16:12] ax.early_stopping.strategies.percentile: Early stopping objective at last progression is:\n",
      "0     0.966059\n",
      "5     0.946704\n",
      "6     0.909716\n",
      "7     0.966534\n",
      "8     0.927331\n",
      "9     0.969440\n",
      "10    0.974027\n",
      "Name: 0.7999466666666667, dtype: float64.\n"
     ]
    },
    {
     "name": "stderr",
     "output_type": "stream",
     "text": [
      "[INFO 09-23 22:16:12] ax.early_stopping.strategies.percentile: Early stopping decision for 9: False. Reason: Trial objective value 0.9694395017691878 is better than 70.0-th percentile (0.9671151849917609) across comparable trials.\n"
     ]
    },
    {
     "name": "stderr",
     "output_type": "stream",
     "text": [
      "[INFO 09-23 22:16:12] ax.early_stopping.strategies.percentile: Considering trial 10 for early stopping.\n"
     ]
    },
    {
     "name": "stderr",
     "output_type": "stream",
     "text": [
      "[INFO 09-23 22:16:12] ax.early_stopping.strategies.base: Last progression of Trial 10 is 0.7999466666666667.\n"
     ]
    },
    {
     "name": "stderr",
     "output_type": "stream",
     "text": [
      "[INFO 09-23 22:16:12] ax.early_stopping.strategies.percentile: Early stopping objective at last progression is:\n",
      "0     0.966059\n",
      "5     0.946704\n",
      "6     0.909716\n",
      "7     0.966534\n",
      "8     0.927331\n",
      "9     0.969440\n",
      "10    0.974027\n",
      "Name: 0.7999466666666667, dtype: float64.\n"
     ]
    },
    {
     "name": "stderr",
     "output_type": "stream",
     "text": [
      "[INFO 09-23 22:16:12] ax.early_stopping.strategies.percentile: Early stopping decision for 10: False. Reason: Trial objective value 0.9740270865651269 is better than 70.0-th percentile (0.9671151849917609) across comparable trials.\n"
     ]
    },
    {
     "name": "stderr",
     "output_type": "stream",
     "text": [
      "[INFO 09-23 22:16:12] ax.early_stopping.strategies.percentile: Considering trial 12 for early stopping.\n"
     ]
    },
    {
     "name": "stderr",
     "output_type": "stream",
     "text": [
      "[INFO 09-23 22:16:12] ax.early_stopping.strategies.base: Last progression of Trial 12 is 0.3999466666666667.\n"
     ]
    },
    {
     "name": "stderr",
     "output_type": "stream",
     "text": [
      "[INFO 09-23 22:16:12] ax.early_stopping.strategies.percentile: Early stopping objective at last progression is:\n",
      "0     0.957077\n",
      "5     0.935622\n",
      "6     0.894943\n",
      "7     0.953738\n",
      "8     0.920331\n",
      "9     0.964106\n",
      "10    0.964617\n",
      "11    0.953034\n",
      "12    0.957113\n",
      "Name: 0.3999466666666667, dtype: float64.\n"
     ]
    },
    {
     "name": "stderr",
     "output_type": "stream",
     "text": [
      "[INFO 09-23 22:16:12] ax.early_stopping.strategies.percentile: Early stopping decision for 12: False. Reason: Trial objective value 0.9571126811022829 is better than 70.0-th percentile (0.9570985794067383) across comparable trials.\n"
     ]
    },
    {
     "name": "stderr",
     "output_type": "stream",
     "text": [
      "[INFO 09-23 22:16:12] Scheduler: Waiting for completed trials (for 10 sec, currently running trials: 3).\n"
     ]
    },
    {
     "name": "stderr",
     "output_type": "stream",
     "text": [
      "[INFO 09-23 22:16:22] Scheduler: Fetching data for newly completed trials: [].\n"
     ]
    },
    {
     "name": "stderr",
     "output_type": "stream",
     "text": [
      "[INFO 09-23 22:16:22] Scheduler: Fetching data for trials: [9, 10, 12] because some metrics on experiment are available while trials are running.\n"
     ]
    },
    {
     "name": "stderr",
     "output_type": "stream",
     "text": [
      "/tmp/tmp.QqcA7fo0ui/Ax-main/ax/core/map_data.py:195: FutureWarning: The behavior of DataFrame concatenation with empty or all-NA entries is deprecated. In a future version, this will no longer exclude empty or all-NA columns when determining the result dtypes. To retain the old behavior, exclude the relevant entries before the concat operation.\n",
      "  df = pd.concat(\n",
      "/tmp/tmp.QqcA7fo0ui/Ax-main/ax/core/map_data.py:195: FutureWarning: The behavior of DataFrame concatenation with empty or all-NA entries is deprecated. In a future version, this will no longer exclude empty or all-NA columns when determining the result dtypes. To retain the old behavior, exclude the relevant entries before the concat operation.\n",
      "  df = pd.concat(\n",
      "[INFO 09-23 22:16:22] ax.early_stopping.strategies.base: Last progression of any candidate for trial stopping is 0.8999466666666667.\n"
     ]
    },
    {
     "name": "stderr",
     "output_type": "stream",
     "text": [
      "[INFO 09-23 22:16:22] ax.early_stopping.strategies.percentile: Considering trial 9 for early stopping.\n"
     ]
    },
    {
     "name": "stderr",
     "output_type": "stream",
     "text": [
      "[INFO 09-23 22:16:22] ax.early_stopping.strategies.base: Last progression of Trial 9 is 0.8999466666666667.\n"
     ]
    },
    {
     "name": "stderr",
     "output_type": "stream",
     "text": [
      "[INFO 09-23 22:16:22] ax.early_stopping.strategies.percentile: Early stopping objective at last progression is:\n",
      "0    0.966377\n",
      "5    0.947305\n",
      "6    0.908084\n",
      "7    0.968389\n",
      "8    0.926156\n",
      "9    0.969807\n",
      "Name: 0.8999466666666667, dtype: float64.\n"
     ]
    },
    {
     "name": "stderr",
     "output_type": "stream",
     "text": [
      "[INFO 09-23 22:16:22] ax.early_stopping.strategies.percentile: Early stopping decision for 9: False. Reason: Trial objective value 0.9698074213369483 is better than 70.0-th percentile (0.9673831602445955) across comparable trials.\n"
     ]
    },
    {
     "name": "stderr",
     "output_type": "stream",
     "text": [
      "[INFO 09-23 22:16:22] ax.early_stopping.strategies.percentile: Considering trial 10 for early stopping.\n"
     ]
    },
    {
     "name": "stderr",
     "output_type": "stream",
     "text": [
      "[INFO 09-23 22:16:22] ax.early_stopping.strategies.base: Last progression of Trial 10 is 0.7999466666666667.\n"
     ]
    },
    {
     "name": "stderr",
     "output_type": "stream",
     "text": [
      "[INFO 09-23 22:16:22] ax.early_stopping.strategies.percentile: Early stopping objective at last progression is:\n",
      "0     0.966059\n",
      "5     0.946704\n",
      "6     0.909716\n",
      "7     0.966534\n",
      "8     0.927331\n",
      "9     0.969440\n",
      "10    0.974027\n",
      "Name: 0.7999466666666667, dtype: float64.\n"
     ]
    },
    {
     "name": "stderr",
     "output_type": "stream",
     "text": [
      "[INFO 09-23 22:16:22] ax.early_stopping.strategies.percentile: Early stopping decision for 10: False. Reason: Trial objective value 0.9740270865651269 is better than 70.0-th percentile (0.9671151849917609) across comparable trials.\n"
     ]
    },
    {
     "name": "stderr",
     "output_type": "stream",
     "text": [
      "[INFO 09-23 22:16:22] ax.early_stopping.strategies.percentile: Considering trial 12 for early stopping.\n"
     ]
    },
    {
     "name": "stderr",
     "output_type": "stream",
     "text": [
      "[INFO 09-23 22:16:22] ax.early_stopping.strategies.base: Last progression of Trial 12 is 0.3999466666666667.\n"
     ]
    },
    {
     "name": "stderr",
     "output_type": "stream",
     "text": [
      "[INFO 09-23 22:16:22] ax.early_stopping.strategies.percentile: Early stopping objective at last progression is:\n",
      "0     0.957077\n",
      "5     0.935622\n",
      "6     0.894943\n",
      "7     0.953738\n",
      "8     0.920331\n",
      "9     0.964106\n",
      "10    0.964617\n",
      "11    0.953034\n",
      "12    0.957113\n",
      "Name: 0.3999466666666667, dtype: float64.\n"
     ]
    },
    {
     "name": "stderr",
     "output_type": "stream",
     "text": [
      "[INFO 09-23 22:16:22] ax.early_stopping.strategies.percentile: Early stopping decision for 12: False. Reason: Trial objective value 0.9571126811022829 is better than 70.0-th percentile (0.9570985794067383) across comparable trials.\n"
     ]
    },
    {
     "name": "stderr",
     "output_type": "stream",
     "text": [
      "[INFO 09-23 22:16:22] Scheduler: Waiting for completed trials (for 10 sec, currently running trials: 3).\n"
     ]
    },
    {
     "name": "stderr",
     "output_type": "stream",
     "text": [
      "[INFO 09-23 22:16:32] Scheduler: Fetching data for newly completed trials: [].\n"
     ]
    },
    {
     "name": "stderr",
     "output_type": "stream",
     "text": [
      "[INFO 09-23 22:16:32] Scheduler: Fetching data for trials: [9, 10, 12] because some metrics on experiment are available while trials are running.\n"
     ]
    },
    {
     "name": "stderr",
     "output_type": "stream",
     "text": [
      "/tmp/tmp.QqcA7fo0ui/Ax-main/ax/core/map_data.py:195: FutureWarning: The behavior of DataFrame concatenation with empty or all-NA entries is deprecated. In a future version, this will no longer exclude empty or all-NA columns when determining the result dtypes. To retain the old behavior, exclude the relevant entries before the concat operation.\n",
      "  df = pd.concat(\n",
      "/tmp/tmp.QqcA7fo0ui/Ax-main/ax/core/map_data.py:195: FutureWarning: The behavior of DataFrame concatenation with empty or all-NA entries is deprecated. In a future version, this will no longer exclude empty or all-NA columns when determining the result dtypes. To retain the old behavior, exclude the relevant entries before the concat operation.\n",
      "  df = pd.concat(\n",
      "[INFO 09-23 22:16:33] ax.early_stopping.strategies.base: Last progression of any candidate for trial stopping is 0.8999466666666667.\n"
     ]
    },
    {
     "name": "stderr",
     "output_type": "stream",
     "text": [
      "[INFO 09-23 22:16:33] ax.early_stopping.strategies.percentile: Considering trial 9 for early stopping.\n"
     ]
    },
    {
     "name": "stderr",
     "output_type": "stream",
     "text": [
      "[INFO 09-23 22:16:33] ax.early_stopping.strategies.base: Last progression of Trial 9 is 0.8999466666666667.\n"
     ]
    },
    {
     "name": "stderr",
     "output_type": "stream",
     "text": [
      "[INFO 09-23 22:16:33] ax.early_stopping.strategies.percentile: Early stopping objective at last progression is:\n",
      "0     0.966377\n",
      "5     0.947305\n",
      "6     0.908084\n",
      "7     0.968389\n",
      "8     0.926156\n",
      "9     0.969807\n",
      "10    0.975290\n",
      "Name: 0.8999466666666667, dtype: float64.\n"
     ]
    },
    {
     "name": "stderr",
     "output_type": "stream",
     "text": [
      "[INFO 09-23 22:16:33] ax.early_stopping.strategies.percentile: Early stopping decision for 9: False. Reason: Trial objective value 0.9698074213369483 is better than 70.0-th percentile (0.9686730714948173) across comparable trials.\n"
     ]
    },
    {
     "name": "stderr",
     "output_type": "stream",
     "text": [
      "[INFO 09-23 22:16:33] ax.early_stopping.strategies.percentile: Considering trial 10 for early stopping.\n"
     ]
    },
    {
     "name": "stderr",
     "output_type": "stream",
     "text": [
      "[INFO 09-23 22:16:33] ax.early_stopping.strategies.base: Last progression of Trial 10 is 0.8999466666666667.\n"
     ]
    },
    {
     "name": "stderr",
     "output_type": "stream",
     "text": [
      "[INFO 09-23 22:16:33] ax.early_stopping.strategies.percentile: Early stopping objective at last progression is:\n",
      "0     0.966377\n",
      "5     0.947305\n",
      "6     0.908084\n",
      "7     0.968389\n",
      "8     0.926156\n",
      "9     0.969807\n",
      "10    0.975290\n",
      "Name: 0.8999466666666667, dtype: float64.\n"
     ]
    },
    {
     "name": "stderr",
     "output_type": "stream",
     "text": [
      "[INFO 09-23 22:16:33] ax.early_stopping.strategies.percentile: Early stopping decision for 10: False. Reason: Trial objective value 0.9752901365407747 is better than 70.0-th percentile (0.9686730714948173) across comparable trials.\n"
     ]
    },
    {
     "name": "stderr",
     "output_type": "stream",
     "text": [
      "[INFO 09-23 22:16:33] ax.early_stopping.strategies.percentile: Considering trial 12 for early stopping.\n"
     ]
    },
    {
     "name": "stderr",
     "output_type": "stream",
     "text": [
      "[INFO 09-23 22:16:33] ax.early_stopping.strategies.base: Last progression of Trial 12 is 0.49994666666666665.\n"
     ]
    },
    {
     "name": "stderr",
     "output_type": "stream",
     "text": [
      "[INFO 09-23 22:16:33] ax.early_stopping.strategies.percentile: Early stopping objective at last progression is:\n",
      "0     0.962521\n",
      "5     0.941009\n",
      "6     0.897125\n",
      "7     0.959242\n",
      "8     0.925162\n",
      "9     0.966268\n",
      "10    0.966499\n",
      "12    0.960597\n",
      "Name: 0.49994666666666665, dtype: float64.\n"
     ]
    },
    {
     "name": "stderr",
     "output_type": "stream",
     "text": [
      "[INFO 09-23 22:16:33] ax.early_stopping.strategies.percentile: Early stopping decision for 12: True. Reason: Trial objective value 0.9605971396142828 is worse than 70.0-th percentile (0.9623289264138756) across comparable trials.\n"
     ]
    },
    {
     "name": "stderr",
     "output_type": "stream",
     "text": [
      "/tmp/tmp.QqcA7fo0ui/Ax-main/ax/core/map_data.py:195: FutureWarning: The behavior of DataFrame concatenation with empty or all-NA entries is deprecated. In a future version, this will no longer exclude empty or all-NA columns when determining the result dtypes. To retain the old behavior, exclude the relevant entries before the concat operation.\n",
      "  df = pd.concat(\n"
     ]
    },
    {
     "name": "stderr",
     "output_type": "stream",
     "text": [
      "[INFO 09-23 22:16:36] Scheduler: Running trials [13]...\n"
     ]
    },
    {
     "name": "stderr",
     "output_type": "stream",
     "text": [
      "/tmp/tmp.QqcA7fo0ui/Ax-main/ax/core/map_data.py:195: FutureWarning: The behavior of DataFrame concatenation with empty or all-NA entries is deprecated. In a future version, this will no longer exclude empty or all-NA columns when determining the result dtypes. To retain the old behavior, exclude the relevant entries before the concat operation.\n",
      "  df = pd.concat(\n"
     ]
    },
    {
     "name": "stderr",
     "output_type": "stream",
     "text": [
      "[INFO 09-23 22:16:38] Scheduler: Generated all trials that can be generated currently. Max parallelism currently reached.\n"
     ]
    },
    {
     "name": "stderr",
     "output_type": "stream",
     "text": [
      "[WARNING 09-23 22:16:38] Scheduler: Both `init_seconds_between_polls` and `early_stopping_strategy supplied. `init_seconds_between_polls=1` will be overrridden by `early_stopping_strategy.seconds_between_polls=10` and polling will take place at a constant rate.\n"
     ]
    },
    {
     "name": "stderr",
     "output_type": "stream",
     "text": [
      "[INFO 09-23 22:16:38] Scheduler: Fetching data for newly completed trials: [].\n"
     ]
    },
    {
     "name": "stderr",
     "output_type": "stream",
     "text": [
      "[INFO 09-23 22:16:38] Scheduler: Fetching data for trials: [9, 10, 13] because some metrics on experiment are available while trials are running.\n"
     ]
    },
    {
     "name": "stderr",
     "output_type": "stream",
     "text": [
      "[INFO 09-23 22:16:38] ax.core.metric: MetricFetchE INFO: Initialized MetricFetchE(message=\"No 'scalar' data found for trial in multiplexer mul=<tensorboard.backend.event_processing.plugin_event_multiplexer.EventMultiplexer object at 0x7f11ddd4f7c0>\")\n"
     ]
    },
    {
     "name": "stderr",
     "output_type": "stream",
     "text": [
      "[ERROR 09-23 22:16:38] ax.core.experiment: Discovered Metric fetching Err while attaching data MetricFetchE(message=\"No 'scalar' data found for trial in multiplexer mul=<tensorboard.backend.event_processing.plugin_event_multiplexer.EventMultiplexer object at 0x7f11ddd4f7c0>\"). Ignoring for now -- will retry query on next call to fetch.\n"
     ]
    },
    {
     "name": "stderr",
     "output_type": "stream",
     "text": [
      "/tmp/tmp.QqcA7fo0ui/Ax-main/ax/core/map_data.py:195: FutureWarning: The behavior of DataFrame concatenation with empty or all-NA entries is deprecated. In a future version, this will no longer exclude empty or all-NA columns when determining the result dtypes. To retain the old behavior, exclude the relevant entries before the concat operation.\n",
      "  df = pd.concat(\n",
      "[WARNING 09-23 22:16:38] Scheduler: Failed to fetch val_acc for trial 13, found MetricFetchE(message=\"No 'scalar' data found for trial in multiplexer mul=<tensorboard.backend.event_processing.plugin_event_multiplexer.EventMultiplexer object at 0x7f11ddd4f7c0>\").\n"
     ]
    },
    {
     "name": "stderr",
     "output_type": "stream",
     "text": [
      "[INFO 09-23 22:16:38] Scheduler: MetricFetchE INFO: Because val_acc is available_while_running and trial 13 is still RUNNING continuing the experiment and retrying on next poll...\n"
     ]
    },
    {
     "name": "stderr",
     "output_type": "stream",
     "text": [
      "/tmp/tmp.QqcA7fo0ui/Ax-main/ax/core/map_data.py:195: FutureWarning: The behavior of DataFrame concatenation with empty or all-NA entries is deprecated. In a future version, this will no longer exclude empty or all-NA columns when determining the result dtypes. To retain the old behavior, exclude the relevant entries before the concat operation.\n",
      "  df = pd.concat(\n",
      "[INFO 09-23 22:16:38] ax.early_stopping.strategies.base: Last progression of any candidate for trial stopping is 0.8999466666666667.\n"
     ]
    },
    {
     "name": "stderr",
     "output_type": "stream",
     "text": [
      "[INFO 09-23 22:16:38] ax.early_stopping.strategies.percentile: Considering trial 9 for early stopping.\n"
     ]
    },
    {
     "name": "stderr",
     "output_type": "stream",
     "text": [
      "[INFO 09-23 22:16:38] ax.early_stopping.strategies.base: Last progression of Trial 9 is 0.8999466666666667.\n"
     ]
    },
    {
     "name": "stderr",
     "output_type": "stream",
     "text": [
      "[INFO 09-23 22:16:38] ax.early_stopping.strategies.percentile: Early stopping objective at last progression is:\n",
      "0     0.966377\n",
      "5     0.947305\n",
      "6     0.908084\n",
      "7     0.968389\n",
      "8     0.926156\n",
      "9     0.969807\n",
      "10    0.975290\n",
      "Name: 0.8999466666666667, dtype: float64.\n"
     ]
    },
    {
     "name": "stderr",
     "output_type": "stream",
     "text": [
      "[INFO 09-23 22:16:38] ax.early_stopping.strategies.percentile: Early stopping decision for 9: False. Reason: Trial objective value 0.9698074213369483 is better than 70.0-th percentile (0.9686730714948173) across comparable trials.\n"
     ]
    },
    {
     "name": "stderr",
     "output_type": "stream",
     "text": [
      "[INFO 09-23 22:16:38] ax.early_stopping.strategies.percentile: Considering trial 10 for early stopping.\n"
     ]
    },
    {
     "name": "stderr",
     "output_type": "stream",
     "text": [
      "[INFO 09-23 22:16:38] ax.early_stopping.strategies.base: Last progression of Trial 10 is 0.8999466666666667.\n"
     ]
    },
    {
     "name": "stderr",
     "output_type": "stream",
     "text": [
      "[INFO 09-23 22:16:38] ax.early_stopping.strategies.percentile: Early stopping objective at last progression is:\n",
      "0     0.966377\n",
      "5     0.947305\n",
      "6     0.908084\n",
      "7     0.968389\n",
      "8     0.926156\n",
      "9     0.969807\n",
      "10    0.975290\n",
      "Name: 0.8999466666666667, dtype: float64.\n"
     ]
    },
    {
     "name": "stderr",
     "output_type": "stream",
     "text": [
      "[INFO 09-23 22:16:38] ax.early_stopping.strategies.percentile: Early stopping decision for 10: False. Reason: Trial objective value 0.9752901365407747 is better than 70.0-th percentile (0.9686730714948173) across comparable trials.\n"
     ]
    },
    {
     "name": "stderr",
     "output_type": "stream",
     "text": [
      "[INFO 09-23 22:16:38] ax.early_stopping.strategies.percentile: Considering trial 13 for early stopping.\n"
     ]
    },
    {
     "name": "stderr",
     "output_type": "stream",
     "text": [
      "[INFO 09-23 22:16:38] ax.early_stopping.strategies.base: There is not yet any data associated with trial 13 and metric val_acc. Not early stopping this trial.\n"
     ]
    },
    {
     "name": "stderr",
     "output_type": "stream",
     "text": [
      "[INFO 09-23 22:16:38] Scheduler: Waiting for completed trials (for 10 sec, currently running trials: 3).\n"
     ]
    },
    {
     "name": "stderr",
     "output_type": "stream",
     "text": [
      "[INFO 09-23 22:16:48] Scheduler: Fetching data for newly completed trials: [].\n"
     ]
    },
    {
     "name": "stderr",
     "output_type": "stream",
     "text": [
      "[INFO 09-23 22:16:48] Scheduler: Fetching data for trials: [9, 10, 13] because some metrics on experiment are available while trials are running.\n"
     ]
    },
    {
     "name": "stderr",
     "output_type": "stream",
     "text": [
      "[INFO 09-23 22:16:48] ax.core.metric: MetricFetchE INFO: Initialized MetricFetchE(message=\"No 'scalar' data found for trial in multiplexer mul=<tensorboard.backend.event_processing.plugin_event_multiplexer.EventMultiplexer object at 0x7f11ddde2d10>\")\n"
     ]
    },
    {
     "name": "stderr",
     "output_type": "stream",
     "text": [
      "[ERROR 09-23 22:16:48] ax.core.experiment: Discovered Metric fetching Err while attaching data MetricFetchE(message=\"No 'scalar' data found for trial in multiplexer mul=<tensorboard.backend.event_processing.plugin_event_multiplexer.EventMultiplexer object at 0x7f11ddde2d10>\"). Ignoring for now -- will retry query on next call to fetch.\n"
     ]
    },
    {
     "name": "stderr",
     "output_type": "stream",
     "text": [
      "/tmp/tmp.QqcA7fo0ui/Ax-main/ax/core/map_data.py:195: FutureWarning: The behavior of DataFrame concatenation with empty or all-NA entries is deprecated. In a future version, this will no longer exclude empty or all-NA columns when determining the result dtypes. To retain the old behavior, exclude the relevant entries before the concat operation.\n",
      "  df = pd.concat(\n",
      "[WARNING 09-23 22:16:48] Scheduler: Failed to fetch val_acc for trial 13, found MetricFetchE(message=\"No 'scalar' data found for trial in multiplexer mul=<tensorboard.backend.event_processing.plugin_event_multiplexer.EventMultiplexer object at 0x7f11ddde2d10>\").\n"
     ]
    },
    {
     "name": "stderr",
     "output_type": "stream",
     "text": [
      "[INFO 09-23 22:16:48] Scheduler: MetricFetchE INFO: Because val_acc is available_while_running and trial 13 is still RUNNING continuing the experiment and retrying on next poll...\n"
     ]
    },
    {
     "name": "stderr",
     "output_type": "stream",
     "text": [
      "/tmp/tmp.QqcA7fo0ui/Ax-main/ax/core/map_data.py:195: FutureWarning: The behavior of DataFrame concatenation with empty or all-NA entries is deprecated. In a future version, this will no longer exclude empty or all-NA columns when determining the result dtypes. To retain the old behavior, exclude the relevant entries before the concat operation.\n",
      "  df = pd.concat(\n",
      "[INFO 09-23 22:16:48] ax.early_stopping.strategies.base: Last progression of any candidate for trial stopping is 0.8999466666666667.\n"
     ]
    },
    {
     "name": "stderr",
     "output_type": "stream",
     "text": [
      "[INFO 09-23 22:16:48] ax.early_stopping.strategies.percentile: Considering trial 9 for early stopping.\n"
     ]
    },
    {
     "name": "stderr",
     "output_type": "stream",
     "text": [
      "[INFO 09-23 22:16:48] ax.early_stopping.strategies.base: Last progression of Trial 9 is 0.8999466666666667.\n"
     ]
    },
    {
     "name": "stderr",
     "output_type": "stream",
     "text": [
      "[INFO 09-23 22:16:48] ax.early_stopping.strategies.percentile: Early stopping objective at last progression is:\n",
      "0     0.966377\n",
      "5     0.947305\n",
      "6     0.908084\n",
      "7     0.968389\n",
      "8     0.926156\n",
      "9     0.969807\n",
      "10    0.975290\n",
      "Name: 0.8999466666666667, dtype: float64.\n"
     ]
    },
    {
     "name": "stderr",
     "output_type": "stream",
     "text": [
      "[INFO 09-23 22:16:48] ax.early_stopping.strategies.percentile: Early stopping decision for 9: False. Reason: Trial objective value 0.9698074213369483 is better than 70.0-th percentile (0.9686730714948173) across comparable trials.\n"
     ]
    },
    {
     "name": "stderr",
     "output_type": "stream",
     "text": [
      "[INFO 09-23 22:16:48] ax.early_stopping.strategies.percentile: Considering trial 10 for early stopping.\n"
     ]
    },
    {
     "name": "stderr",
     "output_type": "stream",
     "text": [
      "[INFO 09-23 22:16:48] ax.early_stopping.strategies.base: Last progression of Trial 10 is 0.8999466666666667.\n"
     ]
    },
    {
     "name": "stderr",
     "output_type": "stream",
     "text": [
      "[INFO 09-23 22:16:48] ax.early_stopping.strategies.percentile: Early stopping objective at last progression is:\n",
      "0     0.966377\n",
      "5     0.947305\n",
      "6     0.908084\n",
      "7     0.968389\n",
      "8     0.926156\n",
      "9     0.969807\n",
      "10    0.975290\n",
      "Name: 0.8999466666666667, dtype: float64.\n"
     ]
    },
    {
     "name": "stderr",
     "output_type": "stream",
     "text": [
      "[INFO 09-23 22:16:48] ax.early_stopping.strategies.percentile: Early stopping decision for 10: False. Reason: Trial objective value 0.9752901365407747 is better than 70.0-th percentile (0.9686730714948173) across comparable trials.\n"
     ]
    },
    {
     "name": "stderr",
     "output_type": "stream",
     "text": [
      "[INFO 09-23 22:16:48] ax.early_stopping.strategies.percentile: Considering trial 13 for early stopping.\n"
     ]
    },
    {
     "name": "stderr",
     "output_type": "stream",
     "text": [
      "[INFO 09-23 22:16:48] ax.early_stopping.strategies.base: There is not yet any data associated with trial 13 and metric val_acc. Not early stopping this trial.\n"
     ]
    },
    {
     "name": "stderr",
     "output_type": "stream",
     "text": [
      "[INFO 09-23 22:16:48] Scheduler: Waiting for completed trials (for 10 sec, currently running trials: 3).\n"
     ]
    },
    {
     "name": "stderr",
     "output_type": "stream",
     "text": [
      "[INFO 09-23 22:16:58] Scheduler: Fetching data for newly completed trials: [9].\n"
     ]
    },
    {
     "name": "stderr",
     "output_type": "stream",
     "text": [
      "[INFO 09-23 22:16:58] Scheduler: Fetching data for trials: [10, 13] because some metrics on experiment are available while trials are running.\n"
     ]
    },
    {
     "name": "stderr",
     "output_type": "stream",
     "text": [
      "[INFO 09-23 22:16:58] Scheduler: Retrieved COMPLETED trials: [9].\n"
     ]
    },
    {
     "name": "stderr",
     "output_type": "stream",
     "text": [
      "[INFO 09-23 22:16:58] ax.core.metric: MetricFetchE INFO: Initialized MetricFetchE(message=\"No 'scalar' data found for trial in multiplexer mul=<tensorboard.backend.event_processing.plugin_event_multiplexer.EventMultiplexer object at 0x7f11ddde39a0>\")\n"
     ]
    },
    {
     "name": "stderr",
     "output_type": "stream",
     "text": [
      "[ERROR 09-23 22:16:58] ax.core.experiment: Discovered Metric fetching Err while attaching data MetricFetchE(message=\"No 'scalar' data found for trial in multiplexer mul=<tensorboard.backend.event_processing.plugin_event_multiplexer.EventMultiplexer object at 0x7f11ddde39a0>\"). Ignoring for now -- will retry query on next call to fetch.\n"
     ]
    },
    {
     "name": "stderr",
     "output_type": "stream",
     "text": [
      "/tmp/tmp.QqcA7fo0ui/Ax-main/ax/core/map_data.py:195: FutureWarning: The behavior of DataFrame concatenation with empty or all-NA entries is deprecated. In a future version, this will no longer exclude empty or all-NA columns when determining the result dtypes. To retain the old behavior, exclude the relevant entries before the concat operation.\n",
      "  df = pd.concat(\n",
      "[WARNING 09-23 22:16:58] Scheduler: Failed to fetch val_acc for trial 13, found MetricFetchE(message=\"No 'scalar' data found for trial in multiplexer mul=<tensorboard.backend.event_processing.plugin_event_multiplexer.EventMultiplexer object at 0x7f11ddde39a0>\").\n"
     ]
    },
    {
     "name": "stderr",
     "output_type": "stream",
     "text": [
      "[INFO 09-23 22:16:58] Scheduler: MetricFetchE INFO: Because val_acc is available_while_running and trial 13 is still RUNNING continuing the experiment and retrying on next poll...\n"
     ]
    },
    {
     "name": "stderr",
     "output_type": "stream",
     "text": [
      "/tmp/tmp.QqcA7fo0ui/Ax-main/ax/core/map_data.py:195: FutureWarning: The behavior of DataFrame concatenation with empty or all-NA entries is deprecated. In a future version, this will no longer exclude empty or all-NA columns when determining the result dtypes. To retain the old behavior, exclude the relevant entries before the concat operation.\n",
      "  df = pd.concat(\n",
      "[INFO 09-23 22:16:58] ax.early_stopping.strategies.base: Last progression of any candidate for trial stopping is 0.8999466666666667.\n"
     ]
    },
    {
     "name": "stderr",
     "output_type": "stream",
     "text": [
      "[INFO 09-23 22:16:58] ax.early_stopping.strategies.percentile: Considering trial 10 for early stopping.\n"
     ]
    },
    {
     "name": "stderr",
     "output_type": "stream",
     "text": [
      "[INFO 09-23 22:16:58] ax.early_stopping.strategies.base: Last progression of Trial 10 is 0.8999466666666667.\n"
     ]
    },
    {
     "name": "stderr",
     "output_type": "stream",
     "text": [
      "[INFO 09-23 22:16:58] ax.early_stopping.strategies.percentile: Early stopping objective at last progression is:\n",
      "0     0.966377\n",
      "5     0.947305\n",
      "6     0.908084\n",
      "7     0.968389\n",
      "8     0.926156\n",
      "9     0.969807\n",
      "10    0.975290\n",
      "Name: 0.8999466666666667, dtype: float64.\n"
     ]
    },
    {
     "name": "stderr",
     "output_type": "stream",
     "text": [
      "[INFO 09-23 22:16:58] ax.early_stopping.strategies.percentile: Early stopping decision for 10: False. Reason: Trial objective value 0.9752901365407747 is better than 70.0-th percentile (0.9686730714948173) across comparable trials.\n"
     ]
    },
    {
     "name": "stderr",
     "output_type": "stream",
     "text": [
      "[INFO 09-23 22:16:58] ax.early_stopping.strategies.percentile: Considering trial 13 for early stopping.\n"
     ]
    },
    {
     "name": "stderr",
     "output_type": "stream",
     "text": [
      "[INFO 09-23 22:16:58] ax.early_stopping.strategies.base: There is not yet any data associated with trial 13 and metric val_acc. Not early stopping this trial.\n"
     ]
    },
    {
     "name": "stderr",
     "output_type": "stream",
     "text": [
      "/tmp/tmp.QqcA7fo0ui/Ax-main/ax/core/map_data.py:195: FutureWarning: The behavior of DataFrame concatenation with empty or all-NA entries is deprecated. In a future version, this will no longer exclude empty or all-NA columns when determining the result dtypes. To retain the old behavior, exclude the relevant entries before the concat operation.\n",
      "  df = pd.concat(\n"
     ]
    },
    {
     "name": "stderr",
     "output_type": "stream",
     "text": [
      "[INFO 09-23 22:17:01] Scheduler: Running trials [14]...\n"
     ]
    },
    {
     "name": "stderr",
     "output_type": "stream",
     "text": [
      "[WARNING 09-23 22:17:01] Scheduler: Both `init_seconds_between_polls` and `early_stopping_strategy supplied. `init_seconds_between_polls=1` will be overrridden by `early_stopping_strategy.seconds_between_polls=10` and polling will take place at a constant rate.\n"
     ]
    },
    {
     "name": "stderr",
     "output_type": "stream",
     "text": [
      "[INFO 09-23 22:17:02] Scheduler: Fetching data for newly completed trials: [].\n"
     ]
    },
    {
     "name": "stderr",
     "output_type": "stream",
     "text": [
      "[INFO 09-23 22:17:02] Scheduler: Fetching data for trials: [10, 13, 14] because some metrics on experiment are available while trials are running.\n"
     ]
    },
    {
     "name": "stderr",
     "output_type": "stream",
     "text": [
      "[INFO 09-23 22:17:02] ax.core.metric: MetricFetchE INFO: Initialized MetricFetchE(message=\"No 'scalar' data found for trial in multiplexer mul=<tensorboard.backend.event_processing.plugin_event_multiplexer.EventMultiplexer object at 0x7f11ddde2ef0>\")\n"
     ]
    },
    {
     "name": "stderr",
     "output_type": "stream",
     "text": [
      "[INFO 09-23 22:17:02] ax.core.metric: MetricFetchE INFO: Initialized MetricFetchE(message=\"No 'scalar' data found for trial in multiplexer mul=<tensorboard.backend.event_processing.plugin_event_multiplexer.EventMultiplexer object at 0x7f11ddd31450>\")\n"
     ]
    },
    {
     "name": "stderr",
     "output_type": "stream",
     "text": [
      "[ERROR 09-23 22:17:02] ax.core.experiment: Discovered Metric fetching Err while attaching data MetricFetchE(message=\"No 'scalar' data found for trial in multiplexer mul=<tensorboard.backend.event_processing.plugin_event_multiplexer.EventMultiplexer object at 0x7f11ddde2ef0>\"). Ignoring for now -- will retry query on next call to fetch.\n"
     ]
    },
    {
     "name": "stderr",
     "output_type": "stream",
     "text": [
      "[ERROR 09-23 22:17:02] ax.core.experiment: Discovered Metric fetching Err while attaching data MetricFetchE(message=\"No 'scalar' data found for trial in multiplexer mul=<tensorboard.backend.event_processing.plugin_event_multiplexer.EventMultiplexer object at 0x7f11ddd31450>\"). Ignoring for now -- will retry query on next call to fetch.\n"
     ]
    },
    {
     "name": "stderr",
     "output_type": "stream",
     "text": [
      "/tmp/tmp.QqcA7fo0ui/Ax-main/ax/core/map_data.py:195: FutureWarning: The behavior of DataFrame concatenation with empty or all-NA entries is deprecated. In a future version, this will no longer exclude empty or all-NA columns when determining the result dtypes. To retain the old behavior, exclude the relevant entries before the concat operation.\n",
      "  df = pd.concat(\n",
      "[WARNING 09-23 22:17:03] Scheduler: Failed to fetch val_acc for trial 13, found MetricFetchE(message=\"No 'scalar' data found for trial in multiplexer mul=<tensorboard.backend.event_processing.plugin_event_multiplexer.EventMultiplexer object at 0x7f11ddde2ef0>\").\n"
     ]
    },
    {
     "name": "stderr",
     "output_type": "stream",
     "text": [
      "[INFO 09-23 22:17:03] Scheduler: MetricFetchE INFO: Because val_acc is available_while_running and trial 13 is still RUNNING continuing the experiment and retrying on next poll...\n"
     ]
    },
    {
     "name": "stderr",
     "output_type": "stream",
     "text": [
      "[WARNING 09-23 22:17:03] Scheduler: Failed to fetch val_acc for trial 14, found MetricFetchE(message=\"No 'scalar' data found for trial in multiplexer mul=<tensorboard.backend.event_processing.plugin_event_multiplexer.EventMultiplexer object at 0x7f11ddd31450>\").\n"
     ]
    },
    {
     "name": "stderr",
     "output_type": "stream",
     "text": [
      "[INFO 09-23 22:17:03] Scheduler: MetricFetchE INFO: Because val_acc is available_while_running and trial 14 is still RUNNING continuing the experiment and retrying on next poll...\n"
     ]
    },
    {
     "name": "stderr",
     "output_type": "stream",
     "text": [
      "/tmp/tmp.QqcA7fo0ui/Ax-main/ax/core/map_data.py:195: FutureWarning: The behavior of DataFrame concatenation with empty or all-NA entries is deprecated. In a future version, this will no longer exclude empty or all-NA columns when determining the result dtypes. To retain the old behavior, exclude the relevant entries before the concat operation.\n",
      "  df = pd.concat(\n",
      "[INFO 09-23 22:17:03] ax.early_stopping.strategies.base: Last progression of any candidate for trial stopping is 0.9999466666666667.\n"
     ]
    },
    {
     "name": "stderr",
     "output_type": "stream",
     "text": [
      "[INFO 09-23 22:17:03] ax.early_stopping.strategies.percentile: Considering trial 10 for early stopping.\n"
     ]
    },
    {
     "name": "stderr",
     "output_type": "stream",
     "text": [
      "[INFO 09-23 22:17:03] ax.early_stopping.strategies.base: Last progression of Trial 10 is 0.9999466666666667.\n"
     ]
    },
    {
     "name": "stderr",
     "output_type": "stream",
     "text": [
      "[INFO 09-23 22:17:03] ax.early_stopping.strategies.percentile: Early stopping objective at last progression is:\n",
      "0     0.967756\n",
      "5     0.949089\n",
      "6     0.906795\n",
      "7     0.969138\n",
      "8     0.921423\n",
      "9     0.971443\n",
      "10    0.975208\n",
      "Name: 0.9999466666666667, dtype: float64.\n"
     ]
    },
    {
     "name": "stderr",
     "output_type": "stream",
     "text": [
      "[INFO 09-23 22:17:03] ax.early_stopping.strategies.percentile: Early stopping decision for 10: False. Reason: Trial objective value 0.975207684535654 is better than 70.0-th percentile (0.9695987969693108) across comparable trials.\n"
     ]
    },
    {
     "name": "stderr",
     "output_type": "stream",
     "text": [
      "[INFO 09-23 22:17:03] ax.early_stopping.strategies.percentile: Considering trial 13 for early stopping.\n"
     ]
    },
    {
     "name": "stderr",
     "output_type": "stream",
     "text": [
      "[INFO 09-23 22:17:03] ax.early_stopping.strategies.base: There is not yet any data associated with trial 13 and metric val_acc. Not early stopping this trial.\n"
     ]
    },
    {
     "name": "stderr",
     "output_type": "stream",
     "text": [
      "[INFO 09-23 22:17:03] ax.early_stopping.strategies.percentile: Considering trial 14 for early stopping.\n"
     ]
    },
    {
     "name": "stderr",
     "output_type": "stream",
     "text": [
      "[INFO 09-23 22:17:03] ax.early_stopping.strategies.base: There is not yet any data associated with trial 14 and metric val_acc. Not early stopping this trial.\n"
     ]
    },
    {
     "name": "stderr",
     "output_type": "stream",
     "text": [
      "[INFO 09-23 22:17:03] Scheduler: Waiting for completed trials (for 10 sec, currently running trials: 3).\n"
     ]
    },
    {
     "name": "stderr",
     "output_type": "stream",
     "text": [
      "[INFO 09-23 22:17:13] Scheduler: Fetching data for newly completed trials: [10].\n"
     ]
    },
    {
     "name": "stderr",
     "output_type": "stream",
     "text": [
      "[INFO 09-23 22:17:13] Scheduler: Fetching data for trials: 13 - 14 because some metrics on experiment are available while trials are running.\n"
     ]
    },
    {
     "name": "stderr",
     "output_type": "stream",
     "text": [
      "[INFO 09-23 22:17:13] Scheduler: Retrieved COMPLETED trials: [10].\n"
     ]
    },
    {
     "name": "stderr",
     "output_type": "stream",
     "text": [
      "[INFO 09-23 22:17:13] ax.core.metric: MetricFetchE INFO: Initialized MetricFetchE(message=\"No 'scalar' data found for trial in multiplexer mul=<tensorboard.backend.event_processing.plugin_event_multiplexer.EventMultiplexer object at 0x7f11ddd4dea0>\")\n"
     ]
    },
    {
     "name": "stderr",
     "output_type": "stream",
     "text": [
      "[ERROR 09-23 22:17:13] ax.core.experiment: Discovered Metric fetching Err while attaching data MetricFetchE(message=\"No 'scalar' data found for trial in multiplexer mul=<tensorboard.backend.event_processing.plugin_event_multiplexer.EventMultiplexer object at 0x7f11ddd4dea0>\"). Ignoring for now -- will retry query on next call to fetch.\n"
     ]
    },
    {
     "name": "stderr",
     "output_type": "stream",
     "text": [
      "/tmp/tmp.QqcA7fo0ui/Ax-main/ax/core/map_data.py:195: FutureWarning: The behavior of DataFrame concatenation with empty or all-NA entries is deprecated. In a future version, this will no longer exclude empty or all-NA columns when determining the result dtypes. To retain the old behavior, exclude the relevant entries before the concat operation.\n",
      "  df = pd.concat(\n",
      "[WARNING 09-23 22:17:13] Scheduler: Failed to fetch val_acc for trial 14, found MetricFetchE(message=\"No 'scalar' data found for trial in multiplexer mul=<tensorboard.backend.event_processing.plugin_event_multiplexer.EventMultiplexer object at 0x7f11ddd4dea0>\").\n"
     ]
    },
    {
     "name": "stderr",
     "output_type": "stream",
     "text": [
      "[INFO 09-23 22:17:13] Scheduler: MetricFetchE INFO: Because val_acc is available_while_running and trial 14 is still RUNNING continuing the experiment and retrying on next poll...\n"
     ]
    },
    {
     "name": "stderr",
     "output_type": "stream",
     "text": [
      "/tmp/tmp.QqcA7fo0ui/Ax-main/ax/core/map_data.py:195: FutureWarning: The behavior of DataFrame concatenation with empty or all-NA entries is deprecated. In a future version, this will no longer exclude empty or all-NA columns when determining the result dtypes. To retain the old behavior, exclude the relevant entries before the concat operation.\n",
      "  df = pd.concat(\n",
      "[INFO 09-23 22:17:13] ax.early_stopping.strategies.base: Last progression of any candidate for trial stopping is 0.09994666666666667.\n"
     ]
    },
    {
     "name": "stderr",
     "output_type": "stream",
     "text": [
      "[INFO 09-23 22:17:13] ax.early_stopping.strategies.base: No trials have reached 0.3. Not stopping any trials.\n"
     ]
    },
    {
     "name": "stderr",
     "output_type": "stream",
     "text": [
      "[INFO 09-23 22:17:13] Scheduler: Done submitting trials, waiting for remaining 2 running trials...\n"
     ]
    },
    {
     "name": "stderr",
     "output_type": "stream",
     "text": [
      "[WARNING 09-23 22:17:13] Scheduler: Both `init_seconds_between_polls` and `early_stopping_strategy supplied. `init_seconds_between_polls=1` will be overrridden by `early_stopping_strategy.seconds_between_polls=10` and polling will take place at a constant rate.\n"
     ]
    },
    {
     "name": "stderr",
     "output_type": "stream",
     "text": [
      "[INFO 09-23 22:17:13] Scheduler: Fetching data for newly completed trials: [].\n"
     ]
    },
    {
     "name": "stderr",
     "output_type": "stream",
     "text": [
      "[INFO 09-23 22:17:13] Scheduler: Fetching data for trials: 13 - 14 because some metrics on experiment are available while trials are running.\n"
     ]
    },
    {
     "name": "stderr",
     "output_type": "stream",
     "text": [
      "[INFO 09-23 22:17:13] ax.core.metric: MetricFetchE INFO: Initialized MetricFetchE(message=\"No 'scalar' data found for trial in multiplexer mul=<tensorboard.backend.event_processing.plugin_event_multiplexer.EventMultiplexer object at 0x7f11ddde2bc0>\")\n"
     ]
    },
    {
     "name": "stderr",
     "output_type": "stream",
     "text": [
      "[ERROR 09-23 22:17:13] ax.core.experiment: Discovered Metric fetching Err while attaching data MetricFetchE(message=\"No 'scalar' data found for trial in multiplexer mul=<tensorboard.backend.event_processing.plugin_event_multiplexer.EventMultiplexer object at 0x7f11ddde2bc0>\"). Ignoring for now -- will retry query on next call to fetch.\n"
     ]
    },
    {
     "name": "stderr",
     "output_type": "stream",
     "text": [
      "/tmp/tmp.QqcA7fo0ui/Ax-main/ax/core/map_data.py:195: FutureWarning: The behavior of DataFrame concatenation with empty or all-NA entries is deprecated. In a future version, this will no longer exclude empty or all-NA columns when determining the result dtypes. To retain the old behavior, exclude the relevant entries before the concat operation.\n",
      "  df = pd.concat(\n",
      "[WARNING 09-23 22:17:13] Scheduler: Failed to fetch val_acc for trial 14, found MetricFetchE(message=\"No 'scalar' data found for trial in multiplexer mul=<tensorboard.backend.event_processing.plugin_event_multiplexer.EventMultiplexer object at 0x7f11ddde2bc0>\").\n"
     ]
    },
    {
     "name": "stderr",
     "output_type": "stream",
     "text": [
      "[INFO 09-23 22:17:13] Scheduler: MetricFetchE INFO: Because val_acc is available_while_running and trial 14 is still RUNNING continuing the experiment and retrying on next poll...\n"
     ]
    },
    {
     "name": "stderr",
     "output_type": "stream",
     "text": [
      "/tmp/tmp.QqcA7fo0ui/Ax-main/ax/core/map_data.py:195: FutureWarning: The behavior of DataFrame concatenation with empty or all-NA entries is deprecated. In a future version, this will no longer exclude empty or all-NA columns when determining the result dtypes. To retain the old behavior, exclude the relevant entries before the concat operation.\n",
      "  df = pd.concat(\n",
      "[INFO 09-23 22:17:13] ax.early_stopping.strategies.base: Last progression of any candidate for trial stopping is 0.09994666666666667.\n"
     ]
    },
    {
     "name": "stderr",
     "output_type": "stream",
     "text": [
      "[INFO 09-23 22:17:13] ax.early_stopping.strategies.base: No trials have reached 0.3. Not stopping any trials.\n"
     ]
    },
    {
     "name": "stderr",
     "output_type": "stream",
     "text": [
      "[INFO 09-23 22:17:13] Scheduler: Waiting for completed trials (for 10 sec, currently running trials: 2).\n"
     ]
    },
    {
     "name": "stderr",
     "output_type": "stream",
     "text": [
      "[INFO 09-23 22:17:23] Scheduler: Fetching data for newly completed trials: [].\n"
     ]
    },
    {
     "name": "stderr",
     "output_type": "stream",
     "text": [
      "[INFO 09-23 22:17:23] Scheduler: Fetching data for trials: 13 - 14 because some metrics on experiment are available while trials are running.\n"
     ]
    },
    {
     "name": "stderr",
     "output_type": "stream",
     "text": [
      "[INFO 09-23 22:17:23] ax.core.metric: MetricFetchE INFO: Initialized MetricFetchE(message=\"No 'scalar' data found for trial in multiplexer mul=<tensorboard.backend.event_processing.plugin_event_multiplexer.EventMultiplexer object at 0x7f11ddd4c340>\")\n"
     ]
    },
    {
     "name": "stderr",
     "output_type": "stream",
     "text": [
      "[ERROR 09-23 22:17:23] ax.core.experiment: Discovered Metric fetching Err while attaching data MetricFetchE(message=\"No 'scalar' data found for trial in multiplexer mul=<tensorboard.backend.event_processing.plugin_event_multiplexer.EventMultiplexer object at 0x7f11ddd4c340>\"). Ignoring for now -- will retry query on next call to fetch.\n"
     ]
    },
    {
     "name": "stderr",
     "output_type": "stream",
     "text": [
      "/tmp/tmp.QqcA7fo0ui/Ax-main/ax/core/map_data.py:195: FutureWarning: The behavior of DataFrame concatenation with empty or all-NA entries is deprecated. In a future version, this will no longer exclude empty or all-NA columns when determining the result dtypes. To retain the old behavior, exclude the relevant entries before the concat operation.\n",
      "  df = pd.concat(\n",
      "[WARNING 09-23 22:17:23] Scheduler: Failed to fetch val_acc for trial 14, found MetricFetchE(message=\"No 'scalar' data found for trial in multiplexer mul=<tensorboard.backend.event_processing.plugin_event_multiplexer.EventMultiplexer object at 0x7f11ddd4c340>\").\n"
     ]
    },
    {
     "name": "stderr",
     "output_type": "stream",
     "text": [
      "[INFO 09-23 22:17:23] Scheduler: MetricFetchE INFO: Because val_acc is available_while_running and trial 14 is still RUNNING continuing the experiment and retrying on next poll...\n"
     ]
    },
    {
     "name": "stderr",
     "output_type": "stream",
     "text": [
      "/tmp/tmp.QqcA7fo0ui/Ax-main/ax/core/map_data.py:195: FutureWarning: The behavior of DataFrame concatenation with empty or all-NA entries is deprecated. In a future version, this will no longer exclude empty or all-NA columns when determining the result dtypes. To retain the old behavior, exclude the relevant entries before the concat operation.\n",
      "  df = pd.concat(\n",
      "[INFO 09-23 22:17:23] ax.early_stopping.strategies.base: Last progression of any candidate for trial stopping is 0.09994666666666667.\n"
     ]
    },
    {
     "name": "stderr",
     "output_type": "stream",
     "text": [
      "[INFO 09-23 22:17:23] ax.early_stopping.strategies.base: No trials have reached 0.3. Not stopping any trials.\n"
     ]
    },
    {
     "name": "stderr",
     "output_type": "stream",
     "text": [
      "[INFO 09-23 22:17:23] Scheduler: Waiting for completed trials (for 10 sec, currently running trials: 2).\n"
     ]
    },
    {
     "name": "stderr",
     "output_type": "stream",
     "text": [
      "[INFO 09-23 22:17:33] Scheduler: Fetching data for newly completed trials: [].\n"
     ]
    },
    {
     "name": "stderr",
     "output_type": "stream",
     "text": [
      "[INFO 09-23 22:17:33] Scheduler: Fetching data for trials: 13 - 14 because some metrics on experiment are available while trials are running.\n"
     ]
    },
    {
     "name": "stderr",
     "output_type": "stream",
     "text": [
      "/tmp/tmp.QqcA7fo0ui/Ax-main/ax/core/map_data.py:195: FutureWarning: The behavior of DataFrame concatenation with empty or all-NA entries is deprecated. In a future version, this will no longer exclude empty or all-NA columns when determining the result dtypes. To retain the old behavior, exclude the relevant entries before the concat operation.\n",
      "  df = pd.concat(\n",
      "/tmp/tmp.QqcA7fo0ui/Ax-main/ax/core/map_data.py:195: FutureWarning: The behavior of DataFrame concatenation with empty or all-NA entries is deprecated. In a future version, this will no longer exclude empty or all-NA columns when determining the result dtypes. To retain the old behavior, exclude the relevant entries before the concat operation.\n",
      "  df = pd.concat(\n",
      "[INFO 09-23 22:17:33] ax.early_stopping.strategies.base: Last progression of any candidate for trial stopping is 0.19994666666666666.\n"
     ]
    },
    {
     "name": "stderr",
     "output_type": "stream",
     "text": [
      "[INFO 09-23 22:17:33] ax.early_stopping.strategies.base: No trials have reached 0.3. Not stopping any trials.\n"
     ]
    },
    {
     "name": "stderr",
     "output_type": "stream",
     "text": [
      "[INFO 09-23 22:17:33] Scheduler: Waiting for completed trials (for 10 sec, currently running trials: 2).\n"
     ]
    },
    {
     "name": "stderr",
     "output_type": "stream",
     "text": [
      "[INFO 09-23 22:17:43] Scheduler: Fetching data for newly completed trials: [].\n"
     ]
    },
    {
     "name": "stderr",
     "output_type": "stream",
     "text": [
      "[INFO 09-23 22:17:43] Scheduler: Fetching data for trials: 13 - 14 because some metrics on experiment are available while trials are running.\n"
     ]
    },
    {
     "name": "stderr",
     "output_type": "stream",
     "text": [
      "/tmp/tmp.QqcA7fo0ui/Ax-main/ax/core/map_data.py:195: FutureWarning: The behavior of DataFrame concatenation with empty or all-NA entries is deprecated. In a future version, this will no longer exclude empty or all-NA columns when determining the result dtypes. To retain the old behavior, exclude the relevant entries before the concat operation.\n",
      "  df = pd.concat(\n",
      "/tmp/tmp.QqcA7fo0ui/Ax-main/ax/core/map_data.py:195: FutureWarning: The behavior of DataFrame concatenation with empty or all-NA entries is deprecated. In a future version, this will no longer exclude empty or all-NA columns when determining the result dtypes. To retain the old behavior, exclude the relevant entries before the concat operation.\n",
      "  df = pd.concat(\n",
      "[INFO 09-23 22:17:43] ax.early_stopping.strategies.base: Last progression of any candidate for trial stopping is 0.19994666666666666.\n"
     ]
    },
    {
     "name": "stderr",
     "output_type": "stream",
     "text": [
      "[INFO 09-23 22:17:43] ax.early_stopping.strategies.base: No trials have reached 0.3. Not stopping any trials.\n"
     ]
    },
    {
     "name": "stderr",
     "output_type": "stream",
     "text": [
      "[INFO 09-23 22:17:43] Scheduler: Waiting for completed trials (for 10 sec, currently running trials: 2).\n"
     ]
    },
    {
     "name": "stderr",
     "output_type": "stream",
     "text": [
      "[INFO 09-23 22:17:53] Scheduler: Fetching data for newly completed trials: [].\n"
     ]
    },
    {
     "name": "stderr",
     "output_type": "stream",
     "text": [
      "[INFO 09-23 22:17:53] Scheduler: Fetching data for trials: 13 - 14 because some metrics on experiment are available while trials are running.\n"
     ]
    },
    {
     "name": "stderr",
     "output_type": "stream",
     "text": [
      "/tmp/tmp.QqcA7fo0ui/Ax-main/ax/core/map_data.py:195: FutureWarning: The behavior of DataFrame concatenation with empty or all-NA entries is deprecated. In a future version, this will no longer exclude empty or all-NA columns when determining the result dtypes. To retain the old behavior, exclude the relevant entries before the concat operation.\n",
      "  df = pd.concat(\n",
      "/tmp/tmp.QqcA7fo0ui/Ax-main/ax/core/map_data.py:195: FutureWarning: The behavior of DataFrame concatenation with empty or all-NA entries is deprecated. In a future version, this will no longer exclude empty or all-NA columns when determining the result dtypes. To retain the old behavior, exclude the relevant entries before the concat operation.\n",
      "  df = pd.concat(\n",
      "[INFO 09-23 22:17:53] ax.early_stopping.strategies.base: Last progression of any candidate for trial stopping is 0.29994666666666664.\n"
     ]
    },
    {
     "name": "stderr",
     "output_type": "stream",
     "text": [
      "[INFO 09-23 22:17:53] ax.early_stopping.strategies.base: No trials have reached 0.3. Not stopping any trials.\n"
     ]
    },
    {
     "name": "stderr",
     "output_type": "stream",
     "text": [
      "[INFO 09-23 22:17:53] Scheduler: Waiting for completed trials (for 10 sec, currently running trials: 2).\n"
     ]
    },
    {
     "name": "stderr",
     "output_type": "stream",
     "text": [
      "[INFO 09-23 22:18:03] Scheduler: Fetching data for newly completed trials: [].\n"
     ]
    },
    {
     "name": "stderr",
     "output_type": "stream",
     "text": [
      "[INFO 09-23 22:18:03] Scheduler: Fetching data for trials: 13 - 14 because some metrics on experiment are available while trials are running.\n"
     ]
    },
    {
     "name": "stderr",
     "output_type": "stream",
     "text": [
      "/tmp/tmp.QqcA7fo0ui/Ax-main/ax/core/map_data.py:195: FutureWarning: The behavior of DataFrame concatenation with empty or all-NA entries is deprecated. In a future version, this will no longer exclude empty or all-NA columns when determining the result dtypes. To retain the old behavior, exclude the relevant entries before the concat operation.\n",
      "  df = pd.concat(\n",
      "/tmp/tmp.QqcA7fo0ui/Ax-main/ax/core/map_data.py:195: FutureWarning: The behavior of DataFrame concatenation with empty or all-NA entries is deprecated. In a future version, this will no longer exclude empty or all-NA columns when determining the result dtypes. To retain the old behavior, exclude the relevant entries before the concat operation.\n",
      "  df = pd.concat(\n",
      "[INFO 09-23 22:18:03] ax.early_stopping.strategies.base: Last progression of any candidate for trial stopping is 0.29994666666666664.\n"
     ]
    },
    {
     "name": "stderr",
     "output_type": "stream",
     "text": [
      "[INFO 09-23 22:18:03] ax.early_stopping.strategies.base: No trials have reached 0.3. Not stopping any trials.\n"
     ]
    },
    {
     "name": "stderr",
     "output_type": "stream",
     "text": [
      "[INFO 09-23 22:18:03] Scheduler: Waiting for completed trials (for 10 sec, currently running trials: 2).\n"
     ]
    },
    {
     "name": "stderr",
     "output_type": "stream",
     "text": [
      "[INFO 09-23 22:18:13] Scheduler: Fetching data for newly completed trials: [].\n"
     ]
    },
    {
     "name": "stderr",
     "output_type": "stream",
     "text": [
      "[INFO 09-23 22:18:13] Scheduler: Fetching data for trials: 13 - 14 because some metrics on experiment are available while trials are running.\n"
     ]
    },
    {
     "name": "stderr",
     "output_type": "stream",
     "text": [
      "/tmp/tmp.QqcA7fo0ui/Ax-main/ax/core/map_data.py:195: FutureWarning: The behavior of DataFrame concatenation with empty or all-NA entries is deprecated. In a future version, this will no longer exclude empty or all-NA columns when determining the result dtypes. To retain the old behavior, exclude the relevant entries before the concat operation.\n",
      "  df = pd.concat(\n",
      "/tmp/tmp.QqcA7fo0ui/Ax-main/ax/core/map_data.py:195: FutureWarning: The behavior of DataFrame concatenation with empty or all-NA entries is deprecated. In a future version, this will no longer exclude empty or all-NA columns when determining the result dtypes. To retain the old behavior, exclude the relevant entries before the concat operation.\n",
      "  df = pd.concat(\n",
      "[INFO 09-23 22:18:13] ax.early_stopping.strategies.base: Last progression of any candidate for trial stopping is 0.3999466666666667.\n"
     ]
    },
    {
     "name": "stderr",
     "output_type": "stream",
     "text": [
      "[INFO 09-23 22:18:13] ax.early_stopping.strategies.percentile: Considering trial 13 for early stopping.\n"
     ]
    },
    {
     "name": "stderr",
     "output_type": "stream",
     "text": [
      "[INFO 09-23 22:18:13] ax.early_stopping.strategies.base: Last progression of Trial 13 is 0.3999466666666667.\n"
     ]
    },
    {
     "name": "stderr",
     "output_type": "stream",
     "text": [
      "[INFO 09-23 22:18:13] ax.early_stopping.strategies.percentile: Early stopping objective at last progression is:\n",
      "0     0.957077\n",
      "5     0.935622\n",
      "6     0.894943\n",
      "7     0.953738\n",
      "8     0.920331\n",
      "9     0.964106\n",
      "10    0.964617\n",
      "11    0.953034\n",
      "12    0.957113\n",
      "13    0.952518\n",
      "Name: 0.3999466666666667, dtype: float64.\n"
     ]
    },
    {
     "name": "stderr",
     "output_type": "stream",
     "text": [
      "[INFO 09-23 22:18:13] ax.early_stopping.strategies.percentile: Early stopping decision for 13: True. Reason: Trial objective value 0.9525182678781706 is worse than 70.0-th percentile (0.9570880031350798) across comparable trials.\n"
     ]
    },
    {
     "name": "stderr",
     "output_type": "stream",
     "text": [
      "[INFO 09-23 22:18:13] ax.early_stopping.strategies.percentile: Considering trial 14 for early stopping.\n"
     ]
    },
    {
     "name": "stderr",
     "output_type": "stream",
     "text": [
      "[INFO 09-23 22:18:13] ax.early_stopping.strategies.base: Last progression of Trial 14 is 0.29994666666666664.\n"
     ]
    },
    {
     "name": "stderr",
     "output_type": "stream",
     "text": [
      "[INFO 09-23 22:18:13] ax.early_stopping.strategies.base: Trial 14's most recent progression (0.29994666666666664) that is available for metric val_acc falls out of the min/max_progression range (0.3, None). Not early stopping this trial.\n"
     ]
    },
    {
     "name": "stderr",
     "output_type": "stream",
     "text": [
      "[WARNING 09-23 22:18:14] Scheduler: Both `init_seconds_between_polls` and `early_stopping_strategy supplied. `init_seconds_between_polls=1` will be overrridden by `early_stopping_strategy.seconds_between_polls=10` and polling will take place at a constant rate.\n"
     ]
    },
    {
     "name": "stderr",
     "output_type": "stream",
     "text": [
      "[INFO 09-23 22:18:14] Scheduler: Fetching data for newly completed trials: [].\n"
     ]
    },
    {
     "name": "stderr",
     "output_type": "stream",
     "text": [
      "[INFO 09-23 22:18:14] Scheduler: Fetching data for trials: [14] because some metrics on experiment are available while trials are running.\n"
     ]
    },
    {
     "name": "stderr",
     "output_type": "stream",
     "text": [
      "/tmp/tmp.QqcA7fo0ui/Ax-main/ax/core/map_data.py:195: FutureWarning: The behavior of DataFrame concatenation with empty or all-NA entries is deprecated. In a future version, this will no longer exclude empty or all-NA columns when determining the result dtypes. To retain the old behavior, exclude the relevant entries before the concat operation.\n",
      "  df = pd.concat(\n",
      "/tmp/tmp.QqcA7fo0ui/Ax-main/ax/core/map_data.py:195: FutureWarning: The behavior of DataFrame concatenation with empty or all-NA entries is deprecated. In a future version, this will no longer exclude empty or all-NA columns when determining the result dtypes. To retain the old behavior, exclude the relevant entries before the concat operation.\n",
      "  df = pd.concat(\n",
      "[INFO 09-23 22:18:14] ax.early_stopping.strategies.base: Last progression of any candidate for trial stopping is 0.29994666666666664.\n"
     ]
    },
    {
     "name": "stderr",
     "output_type": "stream",
     "text": [
      "[INFO 09-23 22:18:14] ax.early_stopping.strategies.base: No trials have reached 0.3. Not stopping any trials.\n"
     ]
    },
    {
     "name": "stderr",
     "output_type": "stream",
     "text": [
      "[INFO 09-23 22:18:14] Scheduler: Waiting for completed trials (for 10 sec, currently running trials: 1).\n"
     ]
    },
    {
     "name": "stderr",
     "output_type": "stream",
     "text": [
      "[INFO 09-23 22:18:24] Scheduler: Fetching data for newly completed trials: [].\n"
     ]
    },
    {
     "name": "stderr",
     "output_type": "stream",
     "text": [
      "[INFO 09-23 22:18:24] Scheduler: Fetching data for trials: [14] because some metrics on experiment are available while trials are running.\n"
     ]
    },
    {
     "name": "stderr",
     "output_type": "stream",
     "text": [
      "/tmp/tmp.QqcA7fo0ui/Ax-main/ax/core/map_data.py:195: FutureWarning: The behavior of DataFrame concatenation with empty or all-NA entries is deprecated. In a future version, this will no longer exclude empty or all-NA columns when determining the result dtypes. To retain the old behavior, exclude the relevant entries before the concat operation.\n",
      "  df = pd.concat(\n",
      "/tmp/tmp.QqcA7fo0ui/Ax-main/ax/core/map_data.py:195: FutureWarning: The behavior of DataFrame concatenation with empty or all-NA entries is deprecated. In a future version, this will no longer exclude empty or all-NA columns when determining the result dtypes. To retain the old behavior, exclude the relevant entries before the concat operation.\n",
      "  df = pd.concat(\n",
      "[INFO 09-23 22:18:24] ax.early_stopping.strategies.base: Last progression of any candidate for trial stopping is 0.29994666666666664.\n"
     ]
    },
    {
     "name": "stderr",
     "output_type": "stream",
     "text": [
      "[INFO 09-23 22:18:24] ax.early_stopping.strategies.base: No trials have reached 0.3. Not stopping any trials.\n"
     ]
    },
    {
     "name": "stderr",
     "output_type": "stream",
     "text": [
      "[INFO 09-23 22:18:24] Scheduler: Waiting for completed trials (for 10 sec, currently running trials: 1).\n"
     ]
    },
    {
     "name": "stderr",
     "output_type": "stream",
     "text": [
      "[INFO 09-23 22:18:34] Scheduler: Fetching data for newly completed trials: [].\n"
     ]
    },
    {
     "name": "stderr",
     "output_type": "stream",
     "text": [
      "[INFO 09-23 22:18:34] Scheduler: Fetching data for trials: [14] because some metrics on experiment are available while trials are running.\n"
     ]
    },
    {
     "name": "stderr",
     "output_type": "stream",
     "text": [
      "/tmp/tmp.QqcA7fo0ui/Ax-main/ax/core/map_data.py:195: FutureWarning: The behavior of DataFrame concatenation with empty or all-NA entries is deprecated. In a future version, this will no longer exclude empty or all-NA columns when determining the result dtypes. To retain the old behavior, exclude the relevant entries before the concat operation.\n",
      "  df = pd.concat(\n",
      "/tmp/tmp.QqcA7fo0ui/Ax-main/ax/core/map_data.py:195: FutureWarning: The behavior of DataFrame concatenation with empty or all-NA entries is deprecated. In a future version, this will no longer exclude empty or all-NA columns when determining the result dtypes. To retain the old behavior, exclude the relevant entries before the concat operation.\n",
      "  df = pd.concat(\n",
      "[INFO 09-23 22:18:34] ax.early_stopping.strategies.base: Last progression of any candidate for trial stopping is 0.3999466666666667.\n"
     ]
    },
    {
     "name": "stderr",
     "output_type": "stream",
     "text": [
      "[INFO 09-23 22:18:35] ax.early_stopping.strategies.percentile: Considering trial 14 for early stopping.\n"
     ]
    },
    {
     "name": "stderr",
     "output_type": "stream",
     "text": [
      "[INFO 09-23 22:18:35] ax.early_stopping.strategies.base: Last progression of Trial 14 is 0.3999466666666667.\n"
     ]
    },
    {
     "name": "stderr",
     "output_type": "stream",
     "text": [
      "[INFO 09-23 22:18:35] ax.early_stopping.strategies.percentile: Early stopping objective at last progression is:\n",
      "0     0.957077\n",
      "5     0.935622\n",
      "6     0.894943\n",
      "7     0.953738\n",
      "8     0.920331\n",
      "9     0.964106\n",
      "10    0.964617\n",
      "11    0.953034\n",
      "12    0.957113\n",
      "13    0.952518\n",
      "14    0.961032\n",
      "Name: 0.3999466666666667, dtype: float64.\n"
     ]
    },
    {
     "name": "stderr",
     "output_type": "stream",
     "text": [
      "[INFO 09-23 22:18:35] ax.early_stopping.strategies.percentile: Early stopping decision for 14: False. Reason: Trial objective value 0.9610321853548435 is better than 70.0-th percentile (0.9571126811022829) across comparable trials.\n"
     ]
    },
    {
     "name": "stderr",
     "output_type": "stream",
     "text": [
      "[INFO 09-23 22:18:35] Scheduler: Waiting for completed trials (for 10 sec, currently running trials: 1).\n"
     ]
    },
    {
     "name": "stderr",
     "output_type": "stream",
     "text": [
      "[INFO 09-23 22:18:45] Scheduler: Fetching data for newly completed trials: [].\n"
     ]
    },
    {
     "name": "stderr",
     "output_type": "stream",
     "text": [
      "[INFO 09-23 22:18:45] Scheduler: Fetching data for trials: [14] because some metrics on experiment are available while trials are running.\n"
     ]
    },
    {
     "name": "stderr",
     "output_type": "stream",
     "text": [
      "/tmp/tmp.QqcA7fo0ui/Ax-main/ax/core/map_data.py:195: FutureWarning: The behavior of DataFrame concatenation with empty or all-NA entries is deprecated. In a future version, this will no longer exclude empty or all-NA columns when determining the result dtypes. To retain the old behavior, exclude the relevant entries before the concat operation.\n",
      "  df = pd.concat(\n",
      "/tmp/tmp.QqcA7fo0ui/Ax-main/ax/core/map_data.py:195: FutureWarning: The behavior of DataFrame concatenation with empty or all-NA entries is deprecated. In a future version, this will no longer exclude empty or all-NA columns when determining the result dtypes. To retain the old behavior, exclude the relevant entries before the concat operation.\n",
      "  df = pd.concat(\n",
      "[INFO 09-23 22:18:45] ax.early_stopping.strategies.base: Last progression of any candidate for trial stopping is 0.49994666666666665.\n"
     ]
    },
    {
     "name": "stderr",
     "output_type": "stream",
     "text": [
      "[INFO 09-23 22:18:45] ax.early_stopping.strategies.percentile: Considering trial 14 for early stopping.\n"
     ]
    },
    {
     "name": "stderr",
     "output_type": "stream",
     "text": [
      "[INFO 09-23 22:18:45] ax.early_stopping.strategies.base: Last progression of Trial 14 is 0.49994666666666665.\n"
     ]
    },
    {
     "name": "stderr",
     "output_type": "stream",
     "text": [
      "[INFO 09-23 22:18:45] ax.early_stopping.strategies.percentile: Early stopping objective at last progression is:\n",
      "0     0.962521\n",
      "5     0.941009\n",
      "6     0.897125\n",
      "7     0.959242\n",
      "8     0.925162\n",
      "9     0.966268\n",
      "10    0.966499\n",
      "12    0.960597\n",
      "14    0.962590\n",
      "Name: 0.49994666666666665, dtype: float64.\n"
     ]
    },
    {
     "name": "stderr",
     "output_type": "stream",
     "text": [
      "[INFO 09-23 22:18:45] ax.early_stopping.strategies.percentile: Early stopping decision for 14: False. Reason: Trial objective value 0.9625898135390591 is better than 70.0-th percentile (0.9625624269911899) across comparable trials.\n"
     ]
    },
    {
     "name": "stderr",
     "output_type": "stream",
     "text": [
      "[INFO 09-23 22:18:45] Scheduler: Waiting for completed trials (for 10 sec, currently running trials: 1).\n"
     ]
    },
    {
     "name": "stderr",
     "output_type": "stream",
     "text": [
      "[INFO 09-23 22:18:55] Scheduler: Fetching data for newly completed trials: [].\n"
     ]
    },
    {
     "name": "stderr",
     "output_type": "stream",
     "text": [
      "[INFO 09-23 22:18:55] Scheduler: Fetching data for trials: [14] because some metrics on experiment are available while trials are running.\n"
     ]
    },
    {
     "name": "stderr",
     "output_type": "stream",
     "text": [
      "/tmp/tmp.QqcA7fo0ui/Ax-main/ax/core/map_data.py:195: FutureWarning: The behavior of DataFrame concatenation with empty or all-NA entries is deprecated. In a future version, this will no longer exclude empty or all-NA columns when determining the result dtypes. To retain the old behavior, exclude the relevant entries before the concat operation.\n",
      "  df = pd.concat(\n",
      "/tmp/tmp.QqcA7fo0ui/Ax-main/ax/core/map_data.py:195: FutureWarning: The behavior of DataFrame concatenation with empty or all-NA entries is deprecated. In a future version, this will no longer exclude empty or all-NA columns when determining the result dtypes. To retain the old behavior, exclude the relevant entries before the concat operation.\n",
      "  df = pd.concat(\n",
      "[INFO 09-23 22:18:55] ax.early_stopping.strategies.base: Last progression of any candidate for trial stopping is 0.49994666666666665.\n"
     ]
    },
    {
     "name": "stderr",
     "output_type": "stream",
     "text": [
      "[INFO 09-23 22:18:55] ax.early_stopping.strategies.percentile: Considering trial 14 for early stopping.\n"
     ]
    },
    {
     "name": "stderr",
     "output_type": "stream",
     "text": [
      "[INFO 09-23 22:18:55] ax.early_stopping.strategies.base: Last progression of Trial 14 is 0.49994666666666665.\n"
     ]
    },
    {
     "name": "stderr",
     "output_type": "stream",
     "text": [
      "[INFO 09-23 22:18:55] ax.early_stopping.strategies.percentile: Early stopping objective at last progression is:\n",
      "0     0.962521\n",
      "5     0.941009\n",
      "6     0.897125\n",
      "7     0.959242\n",
      "8     0.925162\n",
      "9     0.966268\n",
      "10    0.966499\n",
      "12    0.960597\n",
      "14    0.962590\n",
      "Name: 0.49994666666666665, dtype: float64.\n"
     ]
    },
    {
     "name": "stderr",
     "output_type": "stream",
     "text": [
      "[INFO 09-23 22:18:55] ax.early_stopping.strategies.percentile: Early stopping decision for 14: False. Reason: Trial objective value 0.9625898135390591 is better than 70.0-th percentile (0.9625624269911899) across comparable trials.\n"
     ]
    },
    {
     "name": "stderr",
     "output_type": "stream",
     "text": [
      "[INFO 09-23 22:18:55] Scheduler: Waiting for completed trials (for 10 sec, currently running trials: 1).\n"
     ]
    },
    {
     "name": "stderr",
     "output_type": "stream",
     "text": [
      "[INFO 09-23 22:19:05] Scheduler: Fetching data for newly completed trials: [].\n"
     ]
    },
    {
     "name": "stderr",
     "output_type": "stream",
     "text": [
      "[INFO 09-23 22:19:05] Scheduler: Fetching data for trials: [14] because some metrics on experiment are available while trials are running.\n"
     ]
    },
    {
     "name": "stderr",
     "output_type": "stream",
     "text": [
      "/tmp/tmp.QqcA7fo0ui/Ax-main/ax/core/map_data.py:195: FutureWarning: The behavior of DataFrame concatenation with empty or all-NA entries is deprecated. In a future version, this will no longer exclude empty or all-NA columns when determining the result dtypes. To retain the old behavior, exclude the relevant entries before the concat operation.\n",
      "  df = pd.concat(\n",
      "/tmp/tmp.QqcA7fo0ui/Ax-main/ax/core/map_data.py:195: FutureWarning: The behavior of DataFrame concatenation with empty or all-NA entries is deprecated. In a future version, this will no longer exclude empty or all-NA columns when determining the result dtypes. To retain the old behavior, exclude the relevant entries before the concat operation.\n",
      "  df = pd.concat(\n",
      "[INFO 09-23 22:19:05] ax.early_stopping.strategies.base: Last progression of any candidate for trial stopping is 0.5999466666666666.\n"
     ]
    },
    {
     "name": "stderr",
     "output_type": "stream",
     "text": [
      "[INFO 09-23 22:19:05] ax.early_stopping.strategies.percentile: Considering trial 14 for early stopping.\n"
     ]
    },
    {
     "name": "stderr",
     "output_type": "stream",
     "text": [
      "[INFO 09-23 22:19:05] ax.early_stopping.strategies.base: Last progression of Trial 14 is 0.5999466666666666.\n"
     ]
    },
    {
     "name": "stderr",
     "output_type": "stream",
     "text": [
      "[INFO 09-23 22:19:05] ax.early_stopping.strategies.percentile: Early stopping objective at last progression is:\n",
      "0     0.957657\n",
      "5     0.941543\n",
      "6     0.900516\n",
      "7     0.962971\n",
      "8     0.925230\n",
      "9     0.967270\n",
      "10    0.969428\n",
      "14    0.960811\n",
      "Name: 0.5999466666666666, dtype: float64.\n"
     ]
    },
    {
     "name": "stderr",
     "output_type": "stream",
     "text": [
      "[INFO 09-23 22:19:05] ax.early_stopping.strategies.percentile: Early stopping decision for 14: True. Reason: Trial objective value 0.9608105431753062 is worse than 70.0-th percentile (0.9627548777519311) across comparable trials.\n"
     ]
    },
    {
     "name": "stderr",
     "output_type": "stream",
     "text": [
      "[WARNING 09-23 22:19:05] Scheduler: Both `init_seconds_between_polls` and `early_stopping_strategy supplied. `init_seconds_between_polls=1` will be overrridden by `early_stopping_strategy.seconds_between_polls=10` and polling will take place at a constant rate.\n"
     ]
    },
    {
     "name": "stdout",
     "output_type": "stream",
     "text": [
      "CPU times: user 35.5 s, sys: 966 ms, total: 36.5 s\n",
      "Wall time: 22min 3s\n"
     ]
    },
    {
     "data": {
      "text/plain": [
       "OptimizationResult()"
      ]
     },
     "execution_count": 14,
     "metadata": {},
     "output_type": "execute_result"
    }
   ],
   "source": [
    "%%time\n",
    "scheduler.run_all_trials()"
   ]
  },
  {
   "attachments": {},
   "cell_type": "markdown",
   "id": "8c5afbe8",
   "metadata": {
    "papermill": {
     "duration": 0.056368,
     "end_time": "2024-09-23T22:19:06.052259",
     "exception": false,
     "start_time": "2024-09-23T22:19:05.995891",
     "status": "completed"
    },
    "tags": []
   },
   "source": [
    "## Results\n",
    "\n",
    "First, we examine the data stored on the experiment. This shows that each trial is associated with an entire learning curve, represented by the column \"steps\"."
   ]
  },
  {
   "cell_type": "code",
   "execution_count": 15,
   "id": "764365f0",
   "metadata": {
    "execution": {
     "iopub.execute_input": "2024-09-23T22:19:06.167463Z",
     "iopub.status.busy": "2024-09-23T22:19:06.166931Z",
     "iopub.status.idle": "2024-09-23T22:19:06.186532Z",
     "shell.execute_reply": "2024-09-23T22:19:06.185986Z"
    },
    "papermill": {
     "duration": 0.07907,
     "end_time": "2024-09-23T22:19:06.187801",
     "exception": false,
     "start_time": "2024-09-23T22:19:06.108731",
     "status": "completed"
    },
    "tags": []
   },
   "outputs": [
    {
     "name": "stderr",
     "output_type": "stream",
     "text": [
      "/tmp/tmp.QqcA7fo0ui/Ax-main/ax/core/map_data.py:195: FutureWarning: The behavior of DataFrame concatenation with empty or all-NA entries is deprecated. In a future version, this will no longer exclude empty or all-NA columns when determining the result dtypes. To retain the old behavior, exclude the relevant entries before the concat operation.\n",
      "  df = pd.concat(\n"
     ]
    },
    {
     "data": {
      "text/html": [
       "<div>\n",
       "<style scoped>\n",
       "    .dataframe tbody tr th:only-of-type {\n",
       "        vertical-align: middle;\n",
       "    }\n",
       "\n",
       "    .dataframe tbody tr th {\n",
       "        vertical-align: top;\n",
       "    }\n",
       "\n",
       "    .dataframe thead th {\n",
       "        text-align: right;\n",
       "    }\n",
       "</style>\n",
       "<table border=\"1\" class=\"dataframe\">\n",
       "  <thead>\n",
       "    <tr style=\"text-align: right;\">\n",
       "      <th></th>\n",
       "      <th>arm_name</th>\n",
       "      <th>metric_name</th>\n",
       "      <th>mean</th>\n",
       "      <th>sem</th>\n",
       "      <th>trial_index</th>\n",
       "      <th>step</th>\n",
       "    </tr>\n",
       "  </thead>\n",
       "  <tbody>\n",
       "    <tr>\n",
       "      <th>0</th>\n",
       "      <td>0_0</td>\n",
       "      <td>val_acc</td>\n",
       "      <td>0.935066</td>\n",
       "      <td>NaN</td>\n",
       "      <td>0</td>\n",
       "      <td>1874.0</td>\n",
       "    </tr>\n",
       "    <tr>\n",
       "      <th>1</th>\n",
       "      <td>0_0</td>\n",
       "      <td>val_acc</td>\n",
       "      <td>0.948384</td>\n",
       "      <td>NaN</td>\n",
       "      <td>0</td>\n",
       "      <td>3749.0</td>\n",
       "    </tr>\n",
       "    <tr>\n",
       "      <th>2</th>\n",
       "      <td>0_0</td>\n",
       "      <td>val_acc</td>\n",
       "      <td>0.947373</td>\n",
       "      <td>NaN</td>\n",
       "      <td>0</td>\n",
       "      <td>5624.0</td>\n",
       "    </tr>\n",
       "    <tr>\n",
       "      <th>3</th>\n",
       "      <td>0_0</td>\n",
       "      <td>val_acc</td>\n",
       "      <td>0.957077</td>\n",
       "      <td>NaN</td>\n",
       "      <td>0</td>\n",
       "      <td>7499.0</td>\n",
       "    </tr>\n",
       "    <tr>\n",
       "      <th>4</th>\n",
       "      <td>0_0</td>\n",
       "      <td>val_acc</td>\n",
       "      <td>0.962521</td>\n",
       "      <td>NaN</td>\n",
       "      <td>0</td>\n",
       "      <td>9374.0</td>\n",
       "    </tr>\n",
       "    <tr>\n",
       "      <th>5</th>\n",
       "      <td>0_0</td>\n",
       "      <td>val_acc</td>\n",
       "      <td>0.957657</td>\n",
       "      <td>NaN</td>\n",
       "      <td>0</td>\n",
       "      <td>11249.0</td>\n",
       "    </tr>\n",
       "    <tr>\n",
       "      <th>6</th>\n",
       "      <td>0_0</td>\n",
       "      <td>val_acc</td>\n",
       "      <td>0.962680</td>\n",
       "      <td>NaN</td>\n",
       "      <td>0</td>\n",
       "      <td>13124.0</td>\n",
       "    </tr>\n",
       "    <tr>\n",
       "      <th>7</th>\n",
       "      <td>0_0</td>\n",
       "      <td>val_acc</td>\n",
       "      <td>0.966059</td>\n",
       "      <td>NaN</td>\n",
       "      <td>0</td>\n",
       "      <td>14999.0</td>\n",
       "    </tr>\n",
       "    <tr>\n",
       "      <th>8</th>\n",
       "      <td>0_0</td>\n",
       "      <td>val_acc</td>\n",
       "      <td>0.966377</td>\n",
       "      <td>NaN</td>\n",
       "      <td>0</td>\n",
       "      <td>16874.0</td>\n",
       "    </tr>\n",
       "    <tr>\n",
       "      <th>9</th>\n",
       "      <td>0_0</td>\n",
       "      <td>val_acc</td>\n",
       "      <td>0.967756</td>\n",
       "      <td>NaN</td>\n",
       "      <td>0</td>\n",
       "      <td>18749.0</td>\n",
       "    </tr>\n",
       "  </tbody>\n",
       "</table>\n",
       "</div>"
      ],
      "text/plain": [
       "  arm_name metric_name      mean  sem  trial_index     step\n",
       "0      0_0     val_acc  0.935066  NaN            0   1874.0\n",
       "1      0_0     val_acc  0.948384  NaN            0   3749.0\n",
       "2      0_0     val_acc  0.947373  NaN            0   5624.0\n",
       "3      0_0     val_acc  0.957077  NaN            0   7499.0\n",
       "4      0_0     val_acc  0.962521  NaN            0   9374.0\n",
       "5      0_0     val_acc  0.957657  NaN            0  11249.0\n",
       "6      0_0     val_acc  0.962680  NaN            0  13124.0\n",
       "7      0_0     val_acc  0.966059  NaN            0  14999.0\n",
       "8      0_0     val_acc  0.966377  NaN            0  16874.0\n",
       "9      0_0     val_acc  0.967756  NaN            0  18749.0"
      ]
     },
     "execution_count": 15,
     "metadata": {},
     "output_type": "execute_result"
    }
   ],
   "source": [
    "experiment.lookup_data().map_df.head(n=10)"
   ]
  },
  {
   "attachments": {},
   "cell_type": "markdown",
   "id": "0033ed2e",
   "metadata": {
    "papermill": {
     "duration": 0.057776,
     "end_time": "2024-09-23T22:19:06.304449",
     "exception": false,
     "start_time": "2024-09-23T22:19:06.246673",
     "status": "completed"
    },
    "tags": []
   },
   "source": [
    "Below is a summary of the experiment, showing that a portion of trials have been early stopped."
   ]
  },
  {
   "cell_type": "code",
   "execution_count": 16,
   "id": "00f2b35f",
   "metadata": {
    "execution": {
     "iopub.execute_input": "2024-09-23T22:19:06.421410Z",
     "iopub.status.busy": "2024-09-23T22:19:06.420912Z",
     "iopub.status.idle": "2024-09-23T22:19:06.451784Z",
     "shell.execute_reply": "2024-09-23T22:19:06.451120Z"
    },
    "papermill": {
     "duration": 0.09096,
     "end_time": "2024-09-23T22:19:06.453089",
     "exception": false,
     "start_time": "2024-09-23T22:19:06.362129",
     "status": "completed"
    },
    "tags": []
   },
   "outputs": [
    {
     "name": "stderr",
     "output_type": "stream",
     "text": [
      "/tmp/tmp.QqcA7fo0ui/Ax-main/ax/core/map_data.py:195: FutureWarning: The behavior of DataFrame concatenation with empty or all-NA entries is deprecated. In a future version, this will no longer exclude empty or all-NA columns when determining the result dtypes. To retain the old behavior, exclude the relevant entries before the concat operation.\n",
      "  df = pd.concat(\n",
      "[WARNING 09-23 22:19:06] ax.service.utils.report_utils: Column reason missing for all trials. Not appending column.\n"
     ]
    },
    {
     "data": {
      "text/html": [
       "<div>\n",
       "<style scoped>\n",
       "    .dataframe tbody tr th:only-of-type {\n",
       "        vertical-align: middle;\n",
       "    }\n",
       "\n",
       "    .dataframe tbody tr th {\n",
       "        vertical-align: top;\n",
       "    }\n",
       "\n",
       "    .dataframe thead th {\n",
       "        text-align: right;\n",
       "    }\n",
       "</style>\n",
       "<table border=\"1\" class=\"dataframe\">\n",
       "  <thead>\n",
       "    <tr style=\"text-align: right;\">\n",
       "      <th></th>\n",
       "      <th>trial_index</th>\n",
       "      <th>arm_name</th>\n",
       "      <th>trial_status</th>\n",
       "      <th>generation_method</th>\n",
       "      <th>val_acc</th>\n",
       "      <th>hidden_size_1</th>\n",
       "      <th>hidden_size_2</th>\n",
       "      <th>learning_rate</th>\n",
       "      <th>dropout</th>\n",
       "    </tr>\n",
       "  </thead>\n",
       "  <tbody>\n",
       "    <tr>\n",
       "      <th>0</th>\n",
       "      <td>0</td>\n",
       "      <td>0_0</td>\n",
       "      <td>COMPLETED</td>\n",
       "      <td>Sobol</td>\n",
       "      <td>0.968308</td>\n",
       "      <td>56</td>\n",
       "      <td>69</td>\n",
       "      <td>0.000833</td>\n",
       "      <td>0.088587</td>\n",
       "    </tr>\n",
       "    <tr>\n",
       "      <th>1</th>\n",
       "      <td>1</td>\n",
       "      <td>1_0</td>\n",
       "      <td>FAILED</td>\n",
       "      <td>Sobol</td>\n",
       "      <td>NaN</td>\n",
       "      <td>27</td>\n",
       "      <td>19</td>\n",
       "      <td>0.002234</td>\n",
       "      <td>0.336388</td>\n",
       "    </tr>\n",
       "    <tr>\n",
       "      <th>2</th>\n",
       "      <td>2</td>\n",
       "      <td>2_0</td>\n",
       "      <td>FAILED</td>\n",
       "      <td>Sobol</td>\n",
       "      <td>NaN</td>\n",
       "      <td>19</td>\n",
       "      <td>102</td>\n",
       "      <td>0.000164</td>\n",
       "      <td>0.215395</td>\n",
       "    </tr>\n",
       "    <tr>\n",
       "      <th>3</th>\n",
       "      <td>3</td>\n",
       "      <td>3_0</td>\n",
       "      <td>FAILED</td>\n",
       "      <td>Sobol</td>\n",
       "      <td>NaN</td>\n",
       "      <td>76</td>\n",
       "      <td>29</td>\n",
       "      <td>0.003282</td>\n",
       "      <td>0.467103</td>\n",
       "    </tr>\n",
       "    <tr>\n",
       "      <th>4</th>\n",
       "      <td>4</td>\n",
       "      <td>4_0</td>\n",
       "      <td>FAILED</td>\n",
       "      <td>Sobol</td>\n",
       "      <td>NaN</td>\n",
       "      <td>109</td>\n",
       "      <td>94</td>\n",
       "      <td>0.001315</td>\n",
       "      <td>0.403149</td>\n",
       "    </tr>\n",
       "    <tr>\n",
       "      <th>5</th>\n",
       "      <td>5</td>\n",
       "      <td>5_0</td>\n",
       "      <td>COMPLETED</td>\n",
       "      <td>Sobol</td>\n",
       "      <td>0.949802</td>\n",
       "      <td>24</td>\n",
       "      <td>41</td>\n",
       "      <td>0.000473</td>\n",
       "      <td>0.154372</td>\n",
       "    </tr>\n",
       "    <tr>\n",
       "      <th>6</th>\n",
       "      <td>6</td>\n",
       "      <td>6_0</td>\n",
       "      <td>COMPLETED</td>\n",
       "      <td>Sobol</td>\n",
       "      <td>0.906279</td>\n",
       "      <td>39</td>\n",
       "      <td>49</td>\n",
       "      <td>0.005790</td>\n",
       "      <td>0.276325</td>\n",
       "    </tr>\n",
       "    <tr>\n",
       "      <th>7</th>\n",
       "      <td>7</td>\n",
       "      <td>7_0</td>\n",
       "      <td>COMPLETED</td>\n",
       "      <td>Sobol</td>\n",
       "      <td>0.969437</td>\n",
       "      <td>70</td>\n",
       "      <td>21</td>\n",
       "      <td>0.000279</td>\n",
       "      <td>0.023642</td>\n",
       "    </tr>\n",
       "    <tr>\n",
       "      <th>8</th>\n",
       "      <td>8</td>\n",
       "      <td>8_0</td>\n",
       "      <td>COMPLETED</td>\n",
       "      <td>Sobol</td>\n",
       "      <td>0.919530</td>\n",
       "      <td>59</td>\n",
       "      <td>114</td>\n",
       "      <td>0.007819</td>\n",
       "      <td>0.173586</td>\n",
       "    </tr>\n",
       "    <tr>\n",
       "      <th>9</th>\n",
       "      <td>9</td>\n",
       "      <td>9_0</td>\n",
       "      <td>COMPLETED</td>\n",
       "      <td>BoTorch</td>\n",
       "      <td>0.972097</td>\n",
       "      <td>70</td>\n",
       "      <td>128</td>\n",
       "      <td>0.000483</td>\n",
       "      <td>0.000000</td>\n",
       "    </tr>\n",
       "    <tr>\n",
       "      <th>10</th>\n",
       "      <td>10</td>\n",
       "      <td>10_0</td>\n",
       "      <td>COMPLETED</td>\n",
       "      <td>BoTorch</td>\n",
       "      <td>0.975175</td>\n",
       "      <td>128</td>\n",
       "      <td>90</td>\n",
       "      <td>0.000260</td>\n",
       "      <td>0.102780</td>\n",
       "    </tr>\n",
       "    <tr>\n",
       "      <th>11</th>\n",
       "      <td>11</td>\n",
       "      <td>11_0</td>\n",
       "      <td>EARLY_STOPPED</td>\n",
       "      <td>BoTorch</td>\n",
       "      <td>0.953034</td>\n",
       "      <td>57</td>\n",
       "      <td>16</td>\n",
       "      <td>0.001258</td>\n",
       "      <td>0.000000</td>\n",
       "    </tr>\n",
       "    <tr>\n",
       "      <th>12</th>\n",
       "      <td>12</td>\n",
       "      <td>12_0</td>\n",
       "      <td>EARLY_STOPPED</td>\n",
       "      <td>BoTorch</td>\n",
       "      <td>0.960597</td>\n",
       "      <td>62</td>\n",
       "      <td>16</td>\n",
       "      <td>0.001285</td>\n",
       "      <td>0.000000</td>\n",
       "    </tr>\n",
       "    <tr>\n",
       "      <th>13</th>\n",
       "      <td>13</td>\n",
       "      <td>13_0</td>\n",
       "      <td>EARLY_STOPPED</td>\n",
       "      <td>BoTorch</td>\n",
       "      <td>0.952518</td>\n",
       "      <td>55</td>\n",
       "      <td>16</td>\n",
       "      <td>0.001265</td>\n",
       "      <td>0.000000</td>\n",
       "    </tr>\n",
       "    <tr>\n",
       "      <th>14</th>\n",
       "      <td>14</td>\n",
       "      <td>14_0</td>\n",
       "      <td>EARLY_STOPPED</td>\n",
       "      <td>BoTorch</td>\n",
       "      <td>0.960811</td>\n",
       "      <td>128</td>\n",
       "      <td>16</td>\n",
       "      <td>0.000947</td>\n",
       "      <td>0.000000</td>\n",
       "    </tr>\n",
       "  </tbody>\n",
       "</table>\n",
       "</div>"
      ],
      "text/plain": [
       "    trial_index arm_name   trial_status generation_method   val_acc  \\\n",
       "0             0      0_0      COMPLETED             Sobol  0.968308   \n",
       "1             1      1_0         FAILED             Sobol       NaN   \n",
       "2             2      2_0         FAILED             Sobol       NaN   \n",
       "3             3      3_0         FAILED             Sobol       NaN   \n",
       "4             4      4_0         FAILED             Sobol       NaN   \n",
       "5             5      5_0      COMPLETED             Sobol  0.949802   \n",
       "6             6      6_0      COMPLETED             Sobol  0.906279   \n",
       "7             7      7_0      COMPLETED             Sobol  0.969437   \n",
       "8             8      8_0      COMPLETED             Sobol  0.919530   \n",
       "9             9      9_0      COMPLETED           BoTorch  0.972097   \n",
       "10           10     10_0      COMPLETED           BoTorch  0.975175   \n",
       "11           11     11_0  EARLY_STOPPED           BoTorch  0.953034   \n",
       "12           12     12_0  EARLY_STOPPED           BoTorch  0.960597   \n",
       "13           13     13_0  EARLY_STOPPED           BoTorch  0.952518   \n",
       "14           14     14_0  EARLY_STOPPED           BoTorch  0.960811   \n",
       "\n",
       "    hidden_size_1  hidden_size_2  learning_rate   dropout  \n",
       "0              56             69       0.000833  0.088587  \n",
       "1              27             19       0.002234  0.336388  \n",
       "2              19            102       0.000164  0.215395  \n",
       "3              76             29       0.003282  0.467103  \n",
       "4             109             94       0.001315  0.403149  \n",
       "5              24             41       0.000473  0.154372  \n",
       "6              39             49       0.005790  0.276325  \n",
       "7              70             21       0.000279  0.023642  \n",
       "8              59            114       0.007819  0.173586  \n",
       "9              70            128       0.000483  0.000000  \n",
       "10            128             90       0.000260  0.102780  \n",
       "11             57             16       0.001258  0.000000  \n",
       "12             62             16       0.001285  0.000000  \n",
       "13             55             16       0.001265  0.000000  \n",
       "14            128             16       0.000947  0.000000  "
      ]
     },
     "execution_count": 16,
     "metadata": {},
     "output_type": "execute_result"
    }
   ],
   "source": [
    "exp_to_df(experiment)"
   ]
  },
  {
   "attachments": {},
   "cell_type": "markdown",
   "id": "f8909cf2",
   "metadata": {
    "papermill": {
     "duration": 0.056378,
     "end_time": "2024-09-23T22:19:06.567736",
     "exception": false,
     "start_time": "2024-09-23T22:19:06.511358",
     "status": "completed"
    },
    "tags": []
   },
   "source": [
    "We can give a very rough estimate of the amount of computational savings due to early stopping, by looking at the total number of steps used when early stopping is used versus the number of steps used if we ran all trials to completion. Note to do a true comparison, one should run full HPO loops with and without early stopping (as early stopping will influence the model and future points selected by the generation strategy). "
   ]
  },
  {
   "cell_type": "code",
   "execution_count": 17,
   "id": "5abb3ce8",
   "metadata": {
    "execution": {
     "iopub.execute_input": "2024-09-23T22:19:06.683225Z",
     "iopub.status.busy": "2024-09-23T22:19:06.682733Z",
     "iopub.status.idle": "2024-09-23T22:19:06.697550Z",
     "shell.execute_reply": "2024-09-23T22:19:06.696887Z"
    },
    "papermill": {
     "duration": 0.073821,
     "end_time": "2024-09-23T22:19:06.698952",
     "exception": false,
     "start_time": "2024-09-23T22:19:06.625131",
     "status": "completed"
    },
    "tags": []
   },
   "outputs": [
    {
     "name": "stdout",
     "output_type": "stream",
     "text": [
      "A rough estimate of the computational savings is 19.09284848484849%.\n"
     ]
    },
    {
     "name": "stderr",
     "output_type": "stream",
     "text": [
      "/tmp/tmp.QqcA7fo0ui/Ax-main/ax/core/map_data.py:195: FutureWarning: The behavior of DataFrame concatenation with empty or all-NA entries is deprecated. In a future version, this will no longer exclude empty or all-NA columns when determining the result dtypes. To retain the old behavior, exclude the relevant entries before the concat operation.\n",
      "  df = pd.concat(\n"
     ]
    }
   ],
   "source": [
    "map_df = experiment.lookup_data().map_df\n",
    "trial_to_max_steps = map_df.groupby(\"trial_index\")[\"step\"].max()\n",
    "completed_trial_steps = trial_to_max_steps.iloc[0]\n",
    "savings = 1.0 - trial_to_max_steps.sum() / (\n",
    "    completed_trial_steps * len(trial_to_max_steps)\n",
    ")\n",
    "# TODO format nicer\n",
    "print(f\"A rough estimate of the computational savings is {100 * savings}%.\")"
   ]
  },
  {
   "attachments": {},
   "cell_type": "markdown",
   "id": "37df6964",
   "metadata": {
    "papermill": {
     "duration": 0.057052,
     "end_time": "2024-09-23T22:19:06.814137",
     "exception": false,
     "start_time": "2024-09-23T22:19:06.757085",
     "status": "completed"
    },
    "tags": []
   },
   "source": [
    "## Visualizations\n",
    "\n",
    "Finally, we show a visualization of learning curves versus actual elapsed wall time. This helps to illustrate that stopped trials make room for additional trials to be run."
   ]
  },
  {
   "cell_type": "code",
   "execution_count": 18,
   "id": "c88cb8d0",
   "metadata": {
    "execution": {
     "iopub.execute_input": "2024-09-23T22:19:06.930066Z",
     "iopub.status.busy": "2024-09-23T22:19:06.929466Z",
     "iopub.status.idle": "2024-09-23T22:19:06.937339Z",
     "shell.execute_reply": "2024-09-23T22:19:06.936698Z"
    },
    "papermill": {
     "duration": 0.067183,
     "end_time": "2024-09-23T22:19:06.938597",
     "exception": false,
     "start_time": "2024-09-23T22:19:06.871414",
     "status": "completed"
    },
    "tags": []
   },
   "outputs": [],
   "source": [
    "# helper function for getting trial start times\n",
    "def time_started(row):\n",
    "    trial_index = row[\"trial_index\"]\n",
    "    return experiment.trials[trial_index].time_run_started\n",
    "\n",
    "\n",
    "# helper function for getting trial completion times\n",
    "def time_completed(row):\n",
    "    trial_index = row[\"trial_index\"]\n",
    "    return experiment.trials[trial_index].time_completed\n",
    "\n",
    "\n",
    "# helper function for getting relevant data from experiment\n",
    "# with early stopping into useful dfs\n",
    "def early_stopping_exp_to_df(experiment):\n",
    "    trials_df = exp_to_df(experiment)\n",
    "    curve_df = experiment.lookup_data().map_df\n",
    "    training_row_df = (\n",
    "        curve_df.groupby(\"trial_index\").max().reset_index()[[\"trial_index\", \"steps\"]]\n",
    "    )\n",
    "    trials_df = trials_df.merge(training_row_df, on=\"trial_index\")\n",
    "    trials_df[\"time_started\"] = trials_df.apply(func=time_started, axis=1)\n",
    "    trials_df[\"time_completed\"] = trials_df.apply(func=time_completed, axis=1)\n",
    "    start_time = trials_df[\"time_started\"].min()\n",
    "    trials_df[\"time_started_rel\"] = (\n",
    "        trials_df[\"time_started\"] - start_time\n",
    "    ).dt.total_seconds()\n",
    "    trials_df[\"time_completed_rel\"] = (\n",
    "        trials_df[\"time_completed\"] - start_time\n",
    "    ).dt.total_seconds()\n",
    "    return trials_df, curve_df\n",
    "\n",
    "\n",
    "def plot_curves_by_wall_time(trials_df, curve_df):\n",
    "    trials = set(curve_df[\"trial_index\"])\n",
    "    fig, ax = plt.subplots(1, 1, figsize=(10, 6))\n",
    "    ax.set(xlabel=\"seconds since start\", ylabel=\"validation accuracy\")\n",
    "    for trial_index in trials:\n",
    "        this_trial_df = curve_df[curve_df[\"trial_index\"] == trial_index]\n",
    "        start_time_rel = trials_df[\"time_started_rel\"].iloc[trial_index]\n",
    "        completed_time_rel = trials_df[\"time_completed_rel\"].iloc[trial_index]\n",
    "        total_steps = trials_df.loc[trial_index, \"steps\"]\n",
    "        smoothed_curve = this_trial_df[\"mean\"].rolling(window=3).mean()\n",
    "        x = (\n",
    "            start_time_rel\n",
    "            + (completed_time_rel - start_time_rel)\n",
    "            / total_steps\n",
    "            * this_trial_df[\"steps\"]\n",
    "        )\n",
    "        ax.plot(\n",
    "            x,\n",
    "            smoothed_curve,\n",
    "            label=f\"trial #{trial_index}\" if trial_index % 2 == 1 else None,\n",
    "        )\n",
    "    ax.legend()"
   ]
  },
  {
   "cell_type": "code",
   "execution_count": 19,
   "id": "d7f52fed",
   "metadata": {
    "execution": {
     "iopub.execute_input": "2024-09-23T22:19:07.055267Z",
     "iopub.status.busy": "2024-09-23T22:19:07.054805Z",
     "iopub.status.idle": "2024-09-23T22:19:07.091639Z",
     "shell.execute_reply": "2024-09-23T22:19:07.090926Z"
    },
    "papermill": {
     "duration": 0.096626,
     "end_time": "2024-09-23T22:19:07.093126",
     "exception": false,
     "start_time": "2024-09-23T22:19:06.996500",
     "status": "completed"
    },
    "tags": []
   },
   "outputs": [
    {
     "name": "stderr",
     "output_type": "stream",
     "text": [
      "/tmp/tmp.QqcA7fo0ui/Ax-main/ax/core/map_data.py:195: FutureWarning: The behavior of DataFrame concatenation with empty or all-NA entries is deprecated. In a future version, this will no longer exclude empty or all-NA columns when determining the result dtypes. To retain the old behavior, exclude the relevant entries before the concat operation.\n",
      "  df = pd.concat(\n",
      "[WARNING 09-23 22:19:07] ax.service.utils.report_utils: Column reason missing for all trials. Not appending column.\n"
     ]
    },
    {
     "name": "stdout",
     "output_type": "stream",
     "text": [
      "Encountered exception while plotting results: \"['steps'] not in index\"\n"
     ]
    },
    {
     "name": "stderr",
     "output_type": "stream",
     "text": [
      "/tmp/tmp.QqcA7fo0ui/Ax-main/ax/core/map_data.py:195: FutureWarning: The behavior of DataFrame concatenation with empty or all-NA entries is deprecated. In a future version, this will no longer exclude empty or all-NA columns when determining the result dtypes. To retain the old behavior, exclude the relevant entries before the concat operation.\n",
      "  df = pd.concat(\n"
     ]
    }
   ],
   "source": [
    "# wrap in try/except in case of flaky I/O issues\n",
    "try:\n",
    "    trials_df, curve_df = early_stopping_exp_to_df(experiment)\n",
    "    plot_curves_by_wall_time(trials_df, curve_df)\n",
    "except Exception as e:\n",
    "    print(f\"Encountered exception while plotting results: {e}\")"
   ]
  },
  {
   "cell_type": "code",
   "execution_count": null,
   "id": "193e2fc7",
   "metadata": {
    "papermill": {
     "duration": 0.062311,
     "end_time": "2024-09-23T22:19:07.214928",
     "exception": false,
     "start_time": "2024-09-23T22:19:07.152617",
     "status": "completed"
    },
    "tags": []
   },
   "outputs": [],
   "source": []
  }
 ],
 "metadata": {
  "kernelspec": {
   "display_name": "Python 3 (ipykernel)",
   "language": "python",
   "name": "python3"
  },
  "language_info": {
   "codemirror_mode": {
    "name": "ipython",
    "version": 3
   },
   "file_extension": ".py",
   "mimetype": "text/x-python",
   "name": "python",
   "nbconvert_exporter": "python",
   "pygments_lexer": "ipython3",
   "version": "3.10.15"
  },
  "papermill": {
   "default_parameters": {},
   "duration": 1331.029318,
   "end_time": "2024-09-23T22:19:08.281036",
   "environment_variables": {},
   "exception": null,
   "input_path": "/tmp/tmp.QqcA7fo0ui/Ax-main/tutorials/early_stopping/early_stopping.ipynb",
   "output_path": "/tmp/tmp.QqcA7fo0ui/Ax-main/tutorials/early_stopping/early_stopping.ipynb",
   "parameters": {},
   "start_time": "2024-09-23T21:56:57.251718",
   "version": "2.6.0"
  }
 },
 "nbformat": 4,
 "nbformat_minor": 5
}
