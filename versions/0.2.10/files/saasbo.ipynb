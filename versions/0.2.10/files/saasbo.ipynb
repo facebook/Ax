{
 "cells": [
  {
   "cell_type": "markdown",
   "metadata": {
    "originalKey": "1f779465-f9cc-4b17-9b5a-5960cf602273"
   },
   "source": [
    "# High-Dimensional Bayesian Optimization with SAASBO\n",
    "\n",
    "This tutorial shows how to use the Sparse Axis-Aligned Subspace Bayesian Optimization (SAASBO) method for high-dimensional Bayesian optimization [1]. SAASBO places strong priors on the inverse lengthscales to avoid overfitting in high-dimensional spaces. Specifically, SAASBO uses a hierarchical sparsity prior consisting of a global shrinkage parameter $\\tau \\sim \\mathcal{HC}(\\beta)$ and inverse lengthscales $\\rho_d \\sim \\mathcal{HC}(\\tau)$ for $d=1, ..., D$, where $\\mathcal{HC}$ is the half-Cauchy distribution. While half-Cauchy priors favor values near zero they also have heavy tails, which allows the inverse lengthscales of the most important parameters to escape zero. To do inference in the SAAS model we use Hamiltonian Monte Carlo (HMC) as we found that to outperform MAP inference.\n",
    "\n",
    "We find that SAASBO performs well on problems with hundreds of dimensions. As we rely on HMC and in particular the No-U-Turn-Sampler (NUTS) for inference, the overhead of SAASBO scales cubically with the number of datapoints. Depending on the problem, using more than $100$ evaluations may not be feasible as SAASBO is designed for problems with a limited evaluation budget.\n",
    "\n",
    "[1] D. Eriksson, M. Jankowiak. High-Dimensional Bayesian Optimization with Sparse Axis-Aligned Subspaces. Proceedings of the Thirty-Seventh Conference on Uncertainty in Artificial Intelligence, 2021."
   ]
  },
  {
   "cell_type": "code",
   "execution_count": 1,
   "metadata": {
    "execution": {
     "iopub.execute_input": "2022-12-29T21:58:53.414065Z",
     "iopub.status.busy": "2022-12-29T21:58:53.413715Z",
     "iopub.status.idle": "2022-12-29T21:58:55.367133Z",
     "shell.execute_reply": "2022-12-29T21:58:55.366478Z"
    },
    "originalKey": "36a4c036-4075-4b15-87b2-a399c318f7b6"
   },
   "outputs": [],
   "source": [
    "from ax import Data, Experiment, ParameterType, RangeParameter, SearchSpace\n",
    "from ax.modelbridge.generation_strategy import GenerationStep, GenerationStrategy\n",
    "from ax.modelbridge.registry import Models\n",
    "from ax.runners.synthetic import SyntheticRunner"
   ]
  },
  {
   "cell_type": "code",
   "execution_count": 2,
   "metadata": {
    "execution": {
     "iopub.execute_input": "2022-12-29T21:58:55.371121Z",
     "iopub.status.busy": "2022-12-29T21:58:55.369986Z",
     "iopub.status.idle": "2022-12-29T21:58:55.375449Z",
     "shell.execute_reply": "2022-12-29T21:58:55.374893Z"
    },
    "originalKey": "08bf2c1e-5909-4bde-8829-0fb0d0a29a25"
   },
   "outputs": [],
   "source": [
    "import torch\n",
    "\n",
    "\n",
    "torch.manual_seed(12345)  # To always get the same Sobol points\n",
    "tkwargs = {\n",
    "    \"dtype\": torch.double, \n",
    "    \"device\": torch.device(\"cuda\" if torch.cuda.is_available() else \"cpu\"),\n",
    "}"
   ]
  },
  {
   "cell_type": "markdown",
   "metadata": {
    "originalKey": "2f9bd4f6-87d6-42d9-b575-f92cf94de7b0"
   },
   "source": [
    "## Setup search space and metric\n",
    "In this simple experiment we use the Branin function embedded in a 50-dimensional space. Additional resources:\n",
    "- To set up a custom metric for your problem, refer to the dedicated section of the Developer API tutorial: https://ax.dev/tutorials/gpei_hartmann_developer.html#8.-Defining-custom-metrics.\n",
    "- To avoid needing to setup up custom metrics by Ax Service API: https://ax.dev/tutorials/gpei_hartmann_service.html."
   ]
  },
  {
   "cell_type": "code",
   "execution_count": 3,
   "metadata": {
    "execution": {
     "iopub.execute_input": "2022-12-29T21:58:55.378106Z",
     "iopub.status.busy": "2022-12-29T21:58:55.377788Z",
     "iopub.status.idle": "2022-12-29T21:58:55.384417Z",
     "shell.execute_reply": "2022-12-29T21:58:55.383855Z"
    },
    "originalKey": "7697c80d-ab0c-4884-b4c7-c75d24a07e1a"
   },
   "outputs": [],
   "source": [
    "from ax.core.metric import Metric\n",
    "from ax.core.objective import Objective\n",
    "from ax.core.optimization_config import OptimizationConfig\n",
    "from ax.metrics.branin import BraninMetric\n",
    "\n",
    "\n",
    "search_space = SearchSpace(\n",
    "    parameters=[\n",
    "        RangeParameter(\n",
    "            name=f\"x{i}\", parameter_type=ParameterType.FLOAT, lower=-5.0, upper=10.0\n",
    "        )\n",
    "        for i in range(25)\n",
    "    ]\n",
    "    + [\n",
    "        RangeParameter(\n",
    "            name=f\"x{i + 25}\", parameter_type=ParameterType.FLOAT, lower=0.0, upper=15.0,\n",
    "        )\n",
    "        for i in range(25)\n",
    "    ]\n",
    ")\n",
    "\n",
    "optimization_config = OptimizationConfig(\n",
    "    objective=Objective(\n",
    "        metric=BraninMetric(\n",
    "            name=\"objective\", param_names=[\"x19\", \"x44\"], \n",
    "            noise_sd=0.0,  # Set noise_sd=None if you want to learn the noise, otherwise it defaults to 1e-6\n",
    "        ),\n",
    "        minimize=True,\n",
    "    )\n",
    ")"
   ]
  },
  {
   "cell_type": "markdown",
   "metadata": {
    "originalKey": "379571df-a141-48f7-84de-f75bc6e8e760"
   },
   "source": [
    "## Run benchmark"
   ]
  },
  {
   "cell_type": "code",
   "execution_count": 4,
   "metadata": {
    "execution": {
     "iopub.execute_input": "2022-12-29T21:58:55.386933Z",
     "iopub.status.busy": "2022-12-29T21:58:55.386626Z",
     "iopub.status.idle": "2022-12-29T21:58:55.391273Z",
     "shell.execute_reply": "2022-12-29T21:58:55.390713Z"
    }
   },
   "outputs": [
    {
     "name": "stdout",
     "output_type": "stream",
     "text": [
      "Doing 40 evaluations\n"
     ]
    }
   ],
   "source": [
    "N_INIT = 10\n",
    "BATCH_SIZE = 3\n",
    "N_BATCHES = 10\n",
    "print(f\"Doing {N_INIT + N_BATCHES * BATCH_SIZE} evaluations\")"
   ]
  },
  {
   "cell_type": "code",
   "execution_count": 5,
   "metadata": {
    "execution": {
     "iopub.execute_input": "2022-12-29T21:58:55.393979Z",
     "iopub.status.busy": "2022-12-29T21:58:55.393526Z",
     "iopub.status.idle": "2022-12-29T22:23:32.572346Z",
     "shell.execute_reply": "2022-12-29T22:23:32.571665Z"
    },
    "originalKey": "bdfeea50-c4e6-4ff1-91ae-c8f6c3160d7c"
   },
   "outputs": [
    {
     "name": "stderr",
     "output_type": "stream",
     "text": [
      "/opt/hostedtoolcache/Python/3.8.15/x64/lib/python3.8/site-packages/botorch/models/fully_bayesian.py:124: RuntimeWarning: Received a linear algebra error while sampling with Pyro. Adding a jitter of 1e-08 to the covariance matrix and retrying.\n",
      "  warnings.warn(\n",
      "/opt/hostedtoolcache/Python/3.8.15/x64/lib/python3.8/site-packages/botorch/models/fully_bayesian.py:124: RuntimeWarning: Received a linear algebra error while sampling with Pyro. Adding a jitter of 1e-07 to the covariance matrix and retrying.\n",
      "  warnings.warn(\n",
      "/opt/hostedtoolcache/Python/3.8.15/x64/lib/python3.8/site-packages/botorch/models/fully_bayesian.py:124: RuntimeWarning: Received a linear algebra error while sampling with Pyro. Adding a jitter of 9.999999999999999e-06 to the covariance matrix and retrying.\n",
      "  warnings.warn(\n",
      "/opt/hostedtoolcache/Python/3.8.15/x64/lib/python3.8/site-packages/botorch/models/fully_bayesian.py:124: RuntimeWarning: Received a linear algebra error while sampling with Pyro. Adding a jitter of 0.009999999999999998 to the covariance matrix and retrying.\n",
      "  warnings.warn(\n"
     ]
    },
    {
     "name": "stdout",
     "output_type": "stream",
     "text": [
      "Iteration: 0, Best in iteration 5.133, Best so far: 5.133\n"
     ]
    },
    {
     "name": "stdout",
     "output_type": "stream",
     "text": [
      "Iteration: 1, Best in iteration 10.961, Best so far: 5.133\n"
     ]
    },
    {
     "name": "stdout",
     "output_type": "stream",
     "text": [
      "Iteration: 2, Best in iteration 4.694, Best so far: 4.694\n"
     ]
    },
    {
     "name": "stdout",
     "output_type": "stream",
     "text": [
      "Iteration: 3, Best in iteration 10.961, Best so far: 4.694\n"
     ]
    },
    {
     "name": "stderr",
     "output_type": "stream",
     "text": [
      "/opt/hostedtoolcache/Python/3.8.15/x64/lib/python3.8/site-packages/botorch/models/fully_bayesian.py:124: RuntimeWarning: Received a linear algebra error while sampling with Pyro. Adding a jitter of 1e-08 to the covariance matrix and retrying.\n",
      "  warnings.warn(\n",
      "/opt/hostedtoolcache/Python/3.8.15/x64/lib/python3.8/site-packages/botorch/models/fully_bayesian.py:124: RuntimeWarning: Received a linear algebra error while sampling with Pyro. Adding a jitter of 1e-07 to the covariance matrix and retrying.\n",
      "  warnings.warn(\n",
      "/opt/hostedtoolcache/Python/3.8.15/x64/lib/python3.8/site-packages/botorch/models/fully_bayesian.py:124: RuntimeWarning: Received a linear algebra error while sampling with Pyro. Adding a jitter of 9.999999999999999e-06 to the covariance matrix and retrying.\n",
      "  warnings.warn(\n",
      "/opt/hostedtoolcache/Python/3.8.15/x64/lib/python3.8/site-packages/botorch/models/fully_bayesian.py:124: RuntimeWarning: Received a linear algebra error while sampling with Pyro. Adding a jitter of 0.009999999999999998 to the covariance matrix and retrying.\n",
      "  warnings.warn(\n"
     ]
    },
    {
     "name": "stdout",
     "output_type": "stream",
     "text": [
      "Iteration: 4, Best in iteration 15.301, Best so far: 4.694\n"
     ]
    },
    {
     "name": "stderr",
     "output_type": "stream",
     "text": [
      "/opt/hostedtoolcache/Python/3.8.15/x64/lib/python3.8/site-packages/botorch/models/fully_bayesian.py:124: RuntimeWarning: Received a linear algebra error while sampling with Pyro. Adding a jitter of 1e-08 to the covariance matrix and retrying.\n",
      "  warnings.warn(\n",
      "/opt/hostedtoolcache/Python/3.8.15/x64/lib/python3.8/site-packages/botorch/models/fully_bayesian.py:124: RuntimeWarning: Received a linear algebra error while sampling with Pyro. Adding a jitter of 1e-07 to the covariance matrix and retrying.\n",
      "  warnings.warn(\n",
      "/opt/hostedtoolcache/Python/3.8.15/x64/lib/python3.8/site-packages/botorch/models/fully_bayesian.py:124: RuntimeWarning: Received a linear algebra error while sampling with Pyro. Adding a jitter of 9.999999999999999e-06 to the covariance matrix and retrying.\n",
      "  warnings.warn(\n",
      "/opt/hostedtoolcache/Python/3.8.15/x64/lib/python3.8/site-packages/botorch/models/fully_bayesian.py:124: RuntimeWarning: Received a linear algebra error while sampling with Pyro. Adding a jitter of 0.009999999999999998 to the covariance matrix and retrying.\n",
      "  warnings.warn(\n"
     ]
    },
    {
     "name": "stdout",
     "output_type": "stream",
     "text": [
      "Iteration: 5, Best in iteration 1.575, Best so far: 1.575\n"
     ]
    },
    {
     "name": "stderr",
     "output_type": "stream",
     "text": [
      "/opt/hostedtoolcache/Python/3.8.15/x64/lib/python3.8/site-packages/botorch/models/fully_bayesian.py:124: RuntimeWarning: Received a linear algebra error while sampling with Pyro. Adding a jitter of 1e-08 to the covariance matrix and retrying.\n",
      "  warnings.warn(\n",
      "/opt/hostedtoolcache/Python/3.8.15/x64/lib/python3.8/site-packages/botorch/models/fully_bayesian.py:124: RuntimeWarning: Received a linear algebra error while sampling with Pyro. Adding a jitter of 1e-07 to the covariance matrix and retrying.\n",
      "  warnings.warn(\n",
      "/opt/hostedtoolcache/Python/3.8.15/x64/lib/python3.8/site-packages/botorch/models/fully_bayesian.py:124: RuntimeWarning: Received a linear algebra error while sampling with Pyro. Adding a jitter of 9.999999999999999e-06 to the covariance matrix and retrying.\n",
      "  warnings.warn(\n",
      "/opt/hostedtoolcache/Python/3.8.15/x64/lib/python3.8/site-packages/botorch/models/fully_bayesian.py:124: RuntimeWarning: Received a linear algebra error while sampling with Pyro. Adding a jitter of 0.009999999999999998 to the covariance matrix and retrying.\n",
      "  warnings.warn(\n"
     ]
    },
    {
     "name": "stdout",
     "output_type": "stream",
     "text": [
      "Iteration: 6, Best in iteration 0.478, Best so far: 0.478\n"
     ]
    },
    {
     "name": "stderr",
     "output_type": "stream",
     "text": [
      "/opt/hostedtoolcache/Python/3.8.15/x64/lib/python3.8/site-packages/botorch/models/fully_bayesian.py:124: RuntimeWarning: Received a linear algebra error while sampling with Pyro. Adding a jitter of 1e-08 to the covariance matrix and retrying.\n",
      "  warnings.warn(\n",
      "/opt/hostedtoolcache/Python/3.8.15/x64/lib/python3.8/site-packages/botorch/models/fully_bayesian.py:124: RuntimeWarning: Received a linear algebra error while sampling with Pyro. Adding a jitter of 1e-07 to the covariance matrix and retrying.\n",
      "  warnings.warn(\n",
      "/opt/hostedtoolcache/Python/3.8.15/x64/lib/python3.8/site-packages/botorch/models/fully_bayesian.py:124: RuntimeWarning: Received a linear algebra error while sampling with Pyro. Adding a jitter of 9.999999999999999e-06 to the covariance matrix and retrying.\n",
      "  warnings.warn(\n",
      "/opt/hostedtoolcache/Python/3.8.15/x64/lib/python3.8/site-packages/botorch/models/fully_bayesian.py:124: RuntimeWarning: Received a linear algebra error while sampling with Pyro. Adding a jitter of 0.009999999999999998 to the covariance matrix and retrying.\n",
      "  warnings.warn(\n"
     ]
    },
    {
     "name": "stdout",
     "output_type": "stream",
     "text": [
      "Iteration: 7, Best in iteration 0.401, Best so far: 0.401\n"
     ]
    },
    {
     "name": "stderr",
     "output_type": "stream",
     "text": [
      "/opt/hostedtoolcache/Python/3.8.15/x64/lib/python3.8/site-packages/botorch/models/fully_bayesian.py:124: RuntimeWarning: Received a linear algebra error while sampling with Pyro. Adding a jitter of 1e-08 to the covariance matrix and retrying.\n",
      "  warnings.warn(\n",
      "/opt/hostedtoolcache/Python/3.8.15/x64/lib/python3.8/site-packages/botorch/models/fully_bayesian.py:124: RuntimeWarning: Received a linear algebra error while sampling with Pyro. Adding a jitter of 1e-07 to the covariance matrix and retrying.\n",
      "  warnings.warn(\n",
      "/opt/hostedtoolcache/Python/3.8.15/x64/lib/python3.8/site-packages/botorch/models/fully_bayesian.py:124: RuntimeWarning: Received a linear algebra error while sampling with Pyro. Adding a jitter of 9.999999999999999e-06 to the covariance matrix and retrying.\n",
      "  warnings.warn(\n",
      "/opt/hostedtoolcache/Python/3.8.15/x64/lib/python3.8/site-packages/botorch/models/fully_bayesian.py:124: RuntimeWarning: Received a linear algebra error while sampling with Pyro. Adding a jitter of 0.009999999999999998 to the covariance matrix and retrying.\n",
      "  warnings.warn(\n"
     ]
    },
    {
     "name": "stdout",
     "output_type": "stream",
     "text": [
      "Iteration: 8, Best in iteration 2.016, Best so far: 0.401\n"
     ]
    },
    {
     "name": "stderr",
     "output_type": "stream",
     "text": [
      "/opt/hostedtoolcache/Python/3.8.15/x64/lib/python3.8/site-packages/botorch/models/fully_bayesian.py:124: RuntimeWarning: Received a linear algebra error while sampling with Pyro. Adding a jitter of 1e-08 to the covariance matrix and retrying.\n",
      "  warnings.warn(\n",
      "/opt/hostedtoolcache/Python/3.8.15/x64/lib/python3.8/site-packages/botorch/models/fully_bayesian.py:124: RuntimeWarning: Received a linear algebra error while sampling with Pyro. Adding a jitter of 1e-07 to the covariance matrix and retrying.\n",
      "  warnings.warn(\n",
      "/opt/hostedtoolcache/Python/3.8.15/x64/lib/python3.8/site-packages/botorch/models/fully_bayesian.py:124: RuntimeWarning: Received a linear algebra error while sampling with Pyro. Adding a jitter of 9.999999999999999e-06 to the covariance matrix and retrying.\n",
      "  warnings.warn(\n",
      "/opt/hostedtoolcache/Python/3.8.15/x64/lib/python3.8/site-packages/botorch/models/fully_bayesian.py:124: RuntimeWarning: Received a linear algebra error while sampling with Pyro. Adding a jitter of 0.009999999999999998 to the covariance matrix and retrying.\n",
      "  warnings.warn(\n"
     ]
    },
    {
     "name": "stdout",
     "output_type": "stream",
     "text": [
      "Iteration: 9, Best in iteration 0.917, Best so far: 0.401\n"
     ]
    }
   ],
   "source": [
    "# Experiment\n",
    "experiment = Experiment(\n",
    "    name=\"saasbo_experiment\",\n",
    "    search_space=search_space,\n",
    "    optimization_config=optimization_config,\n",
    "    runner=SyntheticRunner(),\n",
    ")\n",
    "\n",
    "# Initial Sobol points\n",
    "sobol = Models.SOBOL(search_space=experiment.search_space)\n",
    "for _ in range(N_INIT):\n",
    "    experiment.new_trial(sobol.gen(1)).run()\n",
    "\n",
    "# Run SAASBO\n",
    "data = experiment.fetch_data()\n",
    "for i in range(N_BATCHES):\n",
    "    model = Models.FULLYBAYESIAN(\n",
    "        experiment=experiment, \n",
    "        data=data,\n",
    "        num_samples=256,  # Increasing this may result in better model fits\n",
    "        warmup_steps=512,  # Increasing this may result in better model fits\n",
    "        gp_kernel=\"rbf\",  # \"rbf\" is the default in the paper, but we also support \"matern\"\n",
    "        torch_device=tkwargs[\"device\"],\n",
    "        torch_dtype=tkwargs[\"dtype\"],\n",
    "        verbose=False,  # Set to True to print stats from MCMC\n",
    "        disable_progbar=True,  # Set to False to print a progress bar from MCMC\n",
    "    )\n",
    "    generator_run = model.gen(BATCH_SIZE)\n",
    "    trial = experiment.new_batch_trial(generator_run=generator_run)\n",
    "    trial.run()\n",
    "    data = Data.from_multiple_data([data, trial.fetch_data()])\n",
    "    \n",
    "    new_value = trial.fetch_data().df[\"mean\"].min()\n",
    "    print(f\"Iteration: {i}, Best in iteration {new_value:.3f}, Best so far: {data.df['mean'].min():.3f}\")"
   ]
  },
  {
   "cell_type": "markdown",
   "metadata": {},
   "source": [
    "## Plot results\n",
    "SAASBO is able to find a solution close to the global optimal value of 0.398"
   ]
  },
  {
   "cell_type": "code",
   "execution_count": 6,
   "metadata": {
    "execution": {
     "iopub.execute_input": "2022-12-29T22:23:32.575379Z",
     "iopub.status.busy": "2022-12-29T22:23:32.575009Z",
     "iopub.status.idle": "2022-12-29T22:23:33.139599Z",
     "shell.execute_reply": "2022-12-29T22:23:33.139048Z"
    },
    "originalKey": "5a9b9706-2653-4320-96f3-4bc9fe88bceb"
   },
   "outputs": [
    {
     "data": {
      "image/png": "[encoded data removed]",
      "text/plain": [
       "<Figure size 800x600 with 1 Axes>"
      ]
     },
     "metadata": {},
     "output_type": "display_data"
    }
   ],
   "source": [
    "import matplotlib\n",
    "import matplotlib.pyplot as plt\n",
    "import numpy as np\n",
    "%matplotlib inline\n",
    "matplotlib.rcParams.update({\"font.size\": 16})\n",
    "\n",
    "\n",
    "fig, ax = plt.subplots(figsize=(8, 6))\n",
    "res_saasbo = data.df['mean']\n",
    "ax.plot(np.minimum.accumulate(res_saasbo), color=\"b\", label=\"SAASBO\")\n",
    "ax.plot([0, len(res_saasbo)], [0.398, 0.398], \"--\", c=\"g\", lw=3, label=\"Optimal value\")\n",
    "ax.grid(True)\n",
    "ax.set_title(\"Branin, D=50\", fontsize=20)\n",
    "ax.set_xlabel(\"Number of evaluations\", fontsize=20)\n",
    "ax.set_xlim([0, len(res_saasbo)])\n",
    "ax.set_ylabel(\"Best value found\", fontsize=20)\n",
    "ax.set_ylim([0, 8])\n",
    "ax.legend(fontsize=18)\n",
    "plt.show()"
   ]
  },
  {
   "cell_type": "markdown",
   "metadata": {},
   "source": [
    "## SAAS model fit"
   ]
  },
  {
   "cell_type": "markdown",
   "metadata": {},
   "source": [
    "We fit a SAAS model with the same settings as above"
   ]
  },
  {
   "cell_type": "code",
   "execution_count": 7,
   "metadata": {
    "execution": {
     "iopub.execute_input": "2022-12-29T22:23:33.142509Z",
     "iopub.status.busy": "2022-12-29T22:23:33.141735Z",
     "iopub.status.idle": "2022-12-29T22:25:20.760912Z",
     "shell.execute_reply": "2022-12-29T22:25:20.760256Z"
    }
   },
   "outputs": [
    {
     "name": "stderr",
     "output_type": "stream",
     "text": [
      "/opt/hostedtoolcache/Python/3.8.15/x64/lib/python3.8/site-packages/botorch/models/fully_bayesian.py:124: RuntimeWarning: Received a linear algebra error while sampling with Pyro. Adding a jitter of 1e-08 to the covariance matrix and retrying.\n",
      "  warnings.warn(\n",
      "/opt/hostedtoolcache/Python/3.8.15/x64/lib/python3.8/site-packages/botorch/models/fully_bayesian.py:124: RuntimeWarning: Received a linear algebra error while sampling with Pyro. Adding a jitter of 1e-07 to the covariance matrix and retrying.\n",
      "  warnings.warn(\n",
      "/opt/hostedtoolcache/Python/3.8.15/x64/lib/python3.8/site-packages/botorch/models/fully_bayesian.py:124: RuntimeWarning: Received a linear algebra error while sampling with Pyro. Adding a jitter of 9.999999999999999e-06 to the covariance matrix and retrying.\n",
      "  warnings.warn(\n",
      "/opt/hostedtoolcache/Python/3.8.15/x64/lib/python3.8/site-packages/botorch/models/fully_bayesian.py:124: RuntimeWarning: Received a linear algebra error while sampling with Pyro. Adding a jitter of 0.009999999999999998 to the covariance matrix and retrying.\n",
      "  warnings.warn(\n"
     ]
    }
   ],
   "source": [
    "model = Models.FULLYBAYESIAN(\n",
    "    experiment=experiment, \n",
    "    data=data,\n",
    "    use_saas=True,\n",
    "    num_samples=256,\n",
    "    warmup_steps=512,\n",
    "    gp_kernel=\"rbf\",\n",
    "    torch_dtype=tkwargs[\"dtype\"],\n",
    "    torch_device=tkwargs[\"device\"],\n",
    "    disable_progbar=False,\n",
    "    verbose=False,\n",
    ")"
   ]
  },
  {
   "cell_type": "markdown",
   "metadata": {},
   "source": [
    "### Cross-validation plot \n",
    "We have tools for cross-validation in Ax, but plotly doesn't render on Github so we make a simple plot using Matplotlib here. To use the built-in cross-validation functionality, you can do something like this:\n",
    "\n",
    "```\n",
    "from ax.modelbridge.cross_validation import cross_validate, compute_diagnostics\n",
    "from ax.plot.diagnostic import interact_cross_validation\n",
    "from ax.utils.notebook.plotting import render, init_notebook_plotting\n",
    "\n",
    "\n",
    "cv = cross_validate(model)\n",
    "diagnostics = compute_diagnostics(cv)\n",
    "init_notebook_plotting()\n",
    "plotconfig = interact_cross_validation(cv)\n",
    "render(plotconfig)\n",
    "```"
   ]
  },
  {
   "cell_type": "code",
   "execution_count": 8,
   "metadata": {
    "execution": {
     "iopub.execute_input": "2022-12-29T22:25:20.763974Z",
     "iopub.status.busy": "2022-12-29T22:25:20.763481Z",
     "iopub.status.idle": "2022-12-29T22:25:21.448547Z",
     "shell.execute_reply": "2022-12-29T22:25:21.447913Z"
    }
   },
   "outputs": [
    {
     "data": {
      "image/png": "[encoded data removed]",
      "text/plain": [
       "<Figure size 600x600 with 1 Axes>"
      ]
     },
     "metadata": {},
     "output_type": "display_data"
    }
   ],
   "source": [
    "from ax.modelbridge.cross_validation import cross_validate\n",
    "\n",
    "\n",
    "# Cross-validate model\n",
    "cv = cross_validate(model)\n",
    "y_true = np.stack([cv_.observed.data.means for cv_ in cv]).ravel()\n",
    "y_saas_mean = np.stack([cv_.predicted.means for cv_ in cv]).ravel()\n",
    "y_saas_std = np.stack([np.sqrt(np.diag(cv_.predicted.covariance)) for cv_ in cv]).ravel()\n",
    "\n",
    "# Cross-validation plot\n",
    "fig, ax = plt.subplots(1, 1, figsize=(6, 6))\n",
    "min_val, max_val = -5, 120\n",
    "ax.plot([min_val, max_val], [min_val, max_val], \"b--\", lw=2)\n",
    "markers, caps, bars = ax.errorbar(\n",
    "    y_true,\n",
    "    y_saas_mean,\n",
    "    yerr=1.96 * y_saas_std,\n",
    "    fmt=\".\",\n",
    "    capsize=4,\n",
    "    elinewidth=2.0,\n",
    "    ms=14,\n",
    "    c=\"k\",\n",
    "    ecolor=\"gray\",\n",
    ")\n",
    "[bar.set_alpha(0.8) for bar in bars]\n",
    "[cap.set_alpha(0.8) for cap in caps]\n",
    "ax.set_xlim([min_val, max_val])\n",
    "ax.set_ylim([min_val, max_val])\n",
    "ax.set_xlabel(\"True value\", fontsize=20)\n",
    "ax.set_ylabel(\"Predicted value\", fontsize=20)\n",
    "ax.grid(True)"
   ]
  },
  {
   "cell_type": "markdown",
   "metadata": {},
   "source": [
    "### Lengthscales\n",
    "As SAASBO places strong priors on the inverse lengthscales, we only expect parameters 19 and 44 to be identified as important by the model since the other parameters have no effect. We can confirm that this is the case below as the lengthscales of parameters 19 and 44 are close to 1 with all other lengthscales being larger than 1000.  "
   ]
  },
  {
   "cell_type": "code",
   "execution_count": 9,
   "metadata": {
    "execution": {
     "iopub.execute_input": "2022-12-29T22:25:21.451403Z",
     "iopub.status.busy": "2022-12-29T22:25:21.451061Z",
     "iopub.status.idle": "2022-12-29T22:25:21.457295Z",
     "shell.execute_reply": "2022-12-29T22:25:21.456619Z"
    }
   },
   "outputs": [
    {
     "name": "stdout",
     "output_type": "stream",
     "text": [
      "Parameter 19) Median lengthscale = 2.61e-01\n",
      "Parameter 44) Median lengthscale = 1.27e+00\n",
      "Parameter 22) Median lengthscale = 6.30e+03\n",
      "Parameter  3) Median lengthscale = 6.30e+03\n",
      "Parameter 16) Median lengthscale = 6.51e+03\n",
      "Parameter 45) Median lengthscale = 6.70e+03\n",
      "Parameter 12) Median lengthscale = 6.77e+03\n",
      "Parameter 37) Median lengthscale = 6.97e+03\n",
      "Parameter  4) Median lengthscale = 7.79e+03\n",
      "Parameter  2) Median lengthscale = 8.08e+03\n"
     ]
    }
   ],
   "source": [
    "median_lengthscales = model.model.model.models[0].covar_module.base_kernel.lengthscale.squeeze().median(axis=0).values\n",
    "for i in median_lengthscales.argsort()[:10]:\n",
    "    print(f\"Parameter {i:2}) Median lengthscale = {median_lengthscales[i]:.2e}\")"
   ]
  },
  {
   "cell_type": "code",
   "execution_count": null,
   "metadata": {},
   "outputs": [],
   "source": []
  }
 ],
 "metadata": {
  "kernelspec": {
   "display_name": "python3",
   "language": "python",
   "name": "python3"
  },
  "language_info": {
   "codemirror_mode": {
    "name": "ipython",
    "version": 3
   },
   "file_extension": ".py",
   "mimetype": "text/x-python",
   "name": "python",
   "nbconvert_exporter": "python",
   "pygments_lexer": "ipython3",
   "version": "3.8.15"
  }
 },
 "nbformat": 4,
 "nbformat_minor": 2
}
