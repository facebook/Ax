{
 "cells": [
  {
   "cell_type": "markdown",
   "id": "9b344e2a",
   "metadata": {
    "originalKey": "1f779465-f9cc-4b17-9b5a-5960cf602273",
    "papermill": {
     "duration": 0.003912,
     "end_time": "2024-12-13T05:37:25.912452",
     "exception": false,
     "start_time": "2024-12-13T05:37:25.908540",
     "status": "completed"
    },
    "tags": []
   },
   "source": [
    "# High-Dimensional Bayesian Optimization with SAASBO\n",
    "\n",
    "This tutorial shows how to use the Sparse Axis-Aligned Subspace Bayesian Optimization (SAASBO) method for high-dimensional Bayesian optimization [1]. SAASBO places strong priors on the inverse lengthscales to avoid overfitting in high-dimensional spaces. Specifically, SAASBO uses a hierarchical sparsity prior consisting of a global shrinkage parameter $\\tau \\sim \\mathcal{HC}(\\beta)$ and inverse lengthscales $\\rho_d \\sim \\mathcal{HC}(\\tau)$ for $d=1, ..., D$, where $\\mathcal{HC}$ is the half-Cauchy distribution. While half-Cauchy priors favor values near zero they also have heavy tails, which allows the inverse lengthscales of the most important parameters to escape zero. To do inference in the SAAS model we use Hamiltonian Monte Carlo (HMC) as we found that to outperform MAP inference.\n",
    "\n",
    "We find that SAASBO performs well on problems with hundreds of dimensions. As we rely on HMC and in particular the No-U-Turn-Sampler (NUTS) for inference, the overhead of SAASBO scales cubically with the number of datapoints. Depending on the problem, using more than $100$ evaluations may not be feasible as SAASBO is designed for problems with a limited evaluation budget.\n",
    "\n",
    "[1] D. Eriksson, M. Jankowiak. High-Dimensional Bayesian Optimization with Sparse Axis-Aligned Subspaces. Proceedings of the Thirty-Seventh Conference on Uncertainty in Artificial Intelligence, 2021."
   ]
  },
  {
   "cell_type": "code",
   "execution_count": 1,
   "id": "fe45cde7",
   "metadata": {
    "execution": {
     "iopub.execute_input": "2024-12-13T05:37:25.919239Z",
     "iopub.status.busy": "2024-12-13T05:37:25.918746Z",
     "iopub.status.idle": "2024-12-13T05:37:28.688689Z",
     "shell.execute_reply": "2024-12-13T05:37:28.688023Z"
    },
    "originalKey": "36a4c036-4075-4b15-87b2-a399c318f7b6",
    "papermill": {
     "duration": 2.775072,
     "end_time": "2024-12-13T05:37:28.690214",
     "exception": false,
     "start_time": "2024-12-13T05:37:25.915142",
     "status": "completed"
    },
    "tags": []
   },
   "outputs": [],
   "source": [
    "import os\n",
    "\n",
    "import matplotlib\n",
    "import matplotlib.pyplot as plt\n",
    "import numpy as np\n",
    "import torch\n",
    "\n",
    "from ax import Data, Experiment, ParameterType, RangeParameter, SearchSpace\n",
    "from ax.core.metric import Metric\n",
    "from ax.core.objective import Objective\n",
    "from ax.core.optimization_config import OptimizationConfig\n",
    "from ax.metrics.branin import BraninMetric\n",
    "from ax.modelbridge.cross_validation import cross_validate\n",
    "from ax.modelbridge.registry import Models\n",
    "from ax.models.torch.botorch_modular.surrogate import Surrogate\n",
    "from ax.runners.synthetic import SyntheticRunner\n",
    "from botorch.models.fully_bayesian import SaasFullyBayesianSingleTaskGP"
   ]
  },
  {
   "cell_type": "code",
   "execution_count": 2,
   "id": "ba02dabc",
   "metadata": {
    "execution": {
     "iopub.execute_input": "2024-12-13T05:37:28.697040Z",
     "iopub.status.busy": "2024-12-13T05:37:28.696577Z",
     "iopub.status.idle": "2024-12-13T05:37:28.700173Z",
     "shell.execute_reply": "2024-12-13T05:37:28.699481Z"
    },
    "papermill": {
     "duration": 0.008361,
     "end_time": "2024-12-13T05:37:28.701510",
     "exception": false,
     "start_time": "2024-12-13T05:37:28.693149",
     "status": "completed"
    },
    "tags": []
   },
   "outputs": [],
   "source": [
    "SMOKE_TEST = os.environ.get(\"SMOKE_TEST\")"
   ]
  },
  {
   "cell_type": "code",
   "execution_count": 3,
   "id": "6d2c8c10",
   "metadata": {
    "execution": {
     "iopub.execute_input": "2024-12-13T05:37:28.707828Z",
     "iopub.status.busy": "2024-12-13T05:37:28.707444Z",
     "iopub.status.idle": "2024-12-13T05:37:28.712258Z",
     "shell.execute_reply": "2024-12-13T05:37:28.711643Z"
    },
    "originalKey": "08bf2c1e-5909-4bde-8829-0fb0d0a29a25",
    "papermill": {
     "duration": 0.0094,
     "end_time": "2024-12-13T05:37:28.713506",
     "exception": false,
     "start_time": "2024-12-13T05:37:28.704106",
     "status": "completed"
    },
    "tags": []
   },
   "outputs": [],
   "source": [
    "torch.manual_seed(12345)  # To always get the same Sobol points\n",
    "tkwargs = {\n",
    "    \"dtype\": torch.double,\n",
    "    \"device\": torch.device(\"cuda\" if torch.cuda.is_available() else \"cpu\"),\n",
    "}"
   ]
  },
  {
   "cell_type": "markdown",
   "id": "ce1202df",
   "metadata": {
    "originalKey": "2f9bd4f6-87d6-42d9-b575-f92cf94de7b0",
    "papermill": {
     "duration": 0.002538,
     "end_time": "2024-12-13T05:37:28.718667",
     "exception": false,
     "start_time": "2024-12-13T05:37:28.716129",
     "status": "completed"
    },
    "tags": []
   },
   "source": [
    "## Setup search space and metric\n",
    "In this simple experiment we use the Branin function embedded in a 30-dimensional space. Additional resources:\n",
    "- To set up a custom metric for your problem, refer to the dedicated section of the Developer API tutorial: https://ax.dev/tutorials/gpei_hartmann_developer.html#8.-Defining-custom-metrics.\n",
    "- To avoid needing to setup up custom metrics by Ax Service API: https://ax.dev/tutorials/gpei_hartmann_service.html."
   ]
  },
  {
   "cell_type": "code",
   "execution_count": 4,
   "id": "ab007d2e",
   "metadata": {
    "execution": {
     "iopub.execute_input": "2024-12-13T05:37:28.725532Z",
     "iopub.status.busy": "2024-12-13T05:37:28.724986Z",
     "iopub.status.idle": "2024-12-13T05:37:28.730281Z",
     "shell.execute_reply": "2024-12-13T05:37:28.729699Z"
    },
    "originalKey": "7697c80d-ab0c-4884-b4c7-c75d24a07e1a",
    "papermill": {
     "duration": 0.010209,
     "end_time": "2024-12-13T05:37:28.731533",
     "exception": false,
     "start_time": "2024-12-13T05:37:28.721324",
     "status": "completed"
    },
    "tags": []
   },
   "outputs": [],
   "source": [
    "search_space = SearchSpace(\n",
    "    parameters=[\n",
    "        RangeParameter(\n",
    "            name=f\"x{i}\", parameter_type=ParameterType.FLOAT, lower=-5.0, upper=10.0\n",
    "        )\n",
    "        for i in range(25)\n",
    "    ]\n",
    "    + [\n",
    "        RangeParameter(\n",
    "            name=f\"x{i + 25}\",\n",
    "            parameter_type=ParameterType.FLOAT,\n",
    "            lower=0.0,\n",
    "            upper=15.0,\n",
    "        )\n",
    "        for i in range(25)\n",
    "    ]\n",
    ")\n",
    "\n",
    "optimization_config = OptimizationConfig(\n",
    "    objective=Objective(\n",
    "        metric=BraninMetric(\n",
    "            name=\"objective\",\n",
    "            param_names=[\"x19\", \"x34\"],\n",
    "             # Set noise_sd=None if you want to learn the noise, set to 0.0 for no noise\n",
    "            noise_sd=1e-4, \n",
    "        ),\n",
    "        minimize=True,\n",
    "    )\n",
    ")"
   ]
  },
  {
   "cell_type": "markdown",
   "id": "da8cae8d",
   "metadata": {
    "originalKey": "379571df-a141-48f7-84de-f75bc6e8e760",
    "papermill": {
     "duration": 0.002696,
     "end_time": "2024-12-13T05:37:28.736937",
     "exception": false,
     "start_time": "2024-12-13T05:37:28.734241",
     "status": "completed"
    },
    "tags": []
   },
   "source": [
    "## Run benchmark"
   ]
  },
  {
   "cell_type": "code",
   "execution_count": 5,
   "id": "e3fd769f",
   "metadata": {
    "execution": {
     "iopub.execute_input": "2024-12-13T05:37:28.743284Z",
     "iopub.status.busy": "2024-12-13T05:37:28.742850Z",
     "iopub.status.idle": "2024-12-13T05:37:28.746917Z",
     "shell.execute_reply": "2024-12-13T05:37:28.746352Z"
    },
    "papermill": {
     "duration": 0.008722,
     "end_time": "2024-12-13T05:37:28.748225",
     "exception": false,
     "start_time": "2024-12-13T05:37:28.739503",
     "status": "completed"
    },
    "tags": []
   },
   "outputs": [
    {
     "name": "stdout",
     "output_type": "stream",
     "text": [
      "Doing 40 evaluations\n"
     ]
    }
   ],
   "source": [
    "N_INIT = 10\n",
    "BATCH_SIZE = 3\n",
    "N_BATCHES = 1 if SMOKE_TEST else 10\n",
    "\n",
    "print(f\"Doing {N_INIT + N_BATCHES * BATCH_SIZE} evaluations\")"
   ]
  },
  {
   "cell_type": "code",
   "execution_count": 6,
   "id": "edbf7f6e",
   "metadata": {
    "execution": {
     "iopub.execute_input": "2024-12-13T05:37:28.754883Z",
     "iopub.status.busy": "2024-12-13T05:37:28.754454Z",
     "iopub.status.idle": "2024-12-13T05:37:28.757858Z",
     "shell.execute_reply": "2024-12-13T05:37:28.757223Z"
    },
    "papermill": {
     "duration": 0.00816,
     "end_time": "2024-12-13T05:37:28.759132",
     "exception": false,
     "start_time": "2024-12-13T05:37:28.750972",
     "status": "completed"
    },
    "tags": []
   },
   "outputs": [],
   "source": [
    "# Experiment\n",
    "experiment = Experiment(\n",
    "    name=\"saasbo_experiment\",\n",
    "    search_space=search_space,\n",
    "    optimization_config=optimization_config,\n",
    "    runner=SyntheticRunner(),\n",
    ")"
   ]
  },
  {
   "cell_type": "code",
   "execution_count": 7,
   "id": "217a2100",
   "metadata": {
    "execution": {
     "iopub.execute_input": "2024-12-13T05:37:28.765998Z",
     "iopub.status.busy": "2024-12-13T05:37:28.765570Z",
     "iopub.status.idle": "2024-12-13T05:37:28.797132Z",
     "shell.execute_reply": "2024-12-13T05:37:28.796524Z"
    },
    "papermill": {
     "duration": 0.036752,
     "end_time": "2024-12-13T05:37:28.798675",
     "exception": false,
     "start_time": "2024-12-13T05:37:28.761923",
     "status": "completed"
    },
    "tags": []
   },
   "outputs": [],
   "source": [
    "# Initial Sobol points\n",
    "sobol = Models.SOBOL(search_space=experiment.search_space)\n",
    "for _ in range(N_INIT):\n",
    "    experiment.new_trial(sobol.gen(1)).run()"
   ]
  },
  {
   "cell_type": "code",
   "execution_count": 8,
   "id": "803c4566",
   "metadata": {
    "execution": {
     "iopub.execute_input": "2024-12-13T05:37:28.806064Z",
     "iopub.status.busy": "2024-12-13T05:37:28.805517Z",
     "iopub.status.idle": "2024-12-13T05:58:21.941102Z",
     "shell.execute_reply": "2024-12-13T05:58:21.940439Z"
    },
    "originalKey": "bdfeea50-c4e6-4ff1-91ae-c8f6c3160d7c",
    "papermill": {
     "duration": 1253.143247,
     "end_time": "2024-12-13T05:58:21.945151",
     "exception": false,
     "start_time": "2024-12-13T05:37:28.801904",
     "status": "completed"
    },
    "tags": []
   },
   "outputs": [
    {
     "name": "stdout",
     "output_type": "stream",
     "text": [
      "Iteration: 0, Best in iteration 20.184, Best so far: 3.963\n"
     ]
    },
    {
     "name": "stdout",
     "output_type": "stream",
     "text": [
      "Iteration: 1, Best in iteration 17.679, Best so far: 3.963\n"
     ]
    },
    {
     "name": "stdout",
     "output_type": "stream",
     "text": [
      "Iteration: 2, Best in iteration 8.389, Best so far: 3.963\n"
     ]
    },
    {
     "name": "stdout",
     "output_type": "stream",
     "text": [
      "Iteration: 3, Best in iteration 2.170, Best so far: 2.170\n"
     ]
    },
    {
     "name": "stdout",
     "output_type": "stream",
     "text": [
      "Iteration: 4, Best in iteration 8.560, Best so far: 2.170\n"
     ]
    },
    {
     "name": "stdout",
     "output_type": "stream",
     "text": [
      "Iteration: 5, Best in iteration 10.961, Best so far: 2.170\n"
     ]
    },
    {
     "name": "stdout",
     "output_type": "stream",
     "text": [
      "Iteration: 6, Best in iteration 2.127, Best so far: 2.127\n"
     ]
    },
    {
     "name": "stdout",
     "output_type": "stream",
     "text": [
      "Iteration: 7, Best in iteration 0.419, Best so far: 0.419\n"
     ]
    },
    {
     "name": "stdout",
     "output_type": "stream",
     "text": [
      "Iteration: 8, Best in iteration 0.418, Best so far: 0.418\n"
     ]
    },
    {
     "name": "stdout",
     "output_type": "stream",
     "text": [
      "Iteration: 9, Best in iteration 0.431, Best so far: 0.418\n",
      "CPU times: user 41min 26s, sys: 19.1 s, total: 41min 45s\n",
      "Wall time: 20min 53s\n"
     ]
    }
   ],
   "source": [
    "%%time\n",
    "# Run SAASBO\n",
    "data = experiment.fetch_data()\n",
    "for i in range(N_BATCHES):\n",
    "    model = Models.SAASBO(experiment=experiment, data=data)\n",
    "    generator_run = model.gen(BATCH_SIZE)\n",
    "    trial = experiment.new_batch_trial(generator_run=generator_run)\n",
    "    trial.run()\n",
    "    data = Data.from_multiple_data([data, trial.fetch_data()])\n",
    "\n",
    "    new_value = trial.fetch_data().df[\"mean\"].min()\n",
    "    print(\n",
    "        f\"Iteration: {i}, Best in iteration {new_value:.3f}, Best so far: {data.df['mean'].min():.3f}\"\n",
    "    )"
   ]
  },
  {
   "cell_type": "markdown",
   "id": "0abaeb67",
   "metadata": {
    "papermill": {
     "duration": 0.003271,
     "end_time": "2024-12-13T05:58:21.951798",
     "exception": false,
     "start_time": "2024-12-13T05:58:21.948527",
     "status": "completed"
    },
    "tags": []
   },
   "source": [
    "## Plot results\n",
    "SAASBO is able to find a solution close to the global optimal value of 0.398"
   ]
  },
  {
   "cell_type": "code",
   "execution_count": 9,
   "id": "d9efe763",
   "metadata": {
    "execution": {
     "iopub.execute_input": "2024-12-13T05:58:21.959290Z",
     "iopub.status.busy": "2024-12-13T05:58:21.958995Z",
     "iopub.status.idle": "2024-12-13T05:58:22.137657Z",
     "shell.execute_reply": "2024-12-13T05:58:22.137041Z"
    },
    "originalKey": "5a9b9706-2653-4320-96f3-4bc9fe88bceb",
    "papermill": {
     "duration": 0.183945,
     "end_time": "2024-12-13T05:58:22.138931",
     "exception": false,
     "start_time": "2024-12-13T05:58:21.954986",
     "status": "completed"
    },
    "tags": []
   },
   "outputs": [
    {
     "data": {
      "image/png": "[encoded data removed]",
      "text/plain": [
       "<Figure size 800x600 with 1 Axes>"
      ]
     },
     "metadata": {},
     "output_type": "display_data"
    }
   ],
   "source": [
    "%matplotlib inline\n",
    "matplotlib.rcParams.update({\"font.size\": 16})\n",
    "\n",
    "\n",
    "fig, ax = plt.subplots(figsize=(8, 6))\n",
    "res_saasbo = data.df[\"mean\"]\n",
    "ax.plot(np.minimum.accumulate(res_saasbo), color=\"b\", label=\"SAASBO\")\n",
    "ax.plot([0, len(res_saasbo)], [0.398, 0.398], \"--\", c=\"g\", lw=3, label=\"Optimal value\")\n",
    "ax.grid(True)\n",
    "ax.set_title(\"Branin, D=50\", fontsize=20)\n",
    "ax.set_xlabel(\"Number of evaluations\", fontsize=20)\n",
    "ax.set_xlim([0, len(res_saasbo)])\n",
    "ax.set_ylabel(\"Best value found\", fontsize=20)\n",
    "ax.set_ylim([0, 8])\n",
    "ax.legend(fontsize=18)\n",
    "plt.show()"
   ]
  },
  {
   "cell_type": "markdown",
   "id": "ee9c4a78",
   "metadata": {
    "papermill": {
     "duration": 0.003833,
     "end_time": "2024-12-13T05:58:22.147053",
     "exception": false,
     "start_time": "2024-12-13T05:58:22.143220",
     "status": "completed"
    },
    "tags": []
   },
   "source": [
    "## SAAS model fit"
   ]
  },
  {
   "cell_type": "markdown",
   "id": "9857a0c7",
   "metadata": {
    "papermill": {
     "duration": 0.003695,
     "end_time": "2024-12-13T05:58:22.154526",
     "exception": false,
     "start_time": "2024-12-13T05:58:22.150831",
     "status": "completed"
    },
    "tags": []
   },
   "source": [
    "We can also instantiate a SAAS model via `Models.BOTORCH_MODULAR` by specifying a `SaasFullyBayesianSingleTaskGP` as the `botorch_model_class`. This also gives us the option to change several Pyro-specific parameters such as `num_samples` and `warmup_steps`."
   ]
  },
  {
   "cell_type": "code",
   "execution_count": 10,
   "id": "54aa8da7",
   "metadata": {
    "execution": {
     "iopub.execute_input": "2024-12-13T05:58:22.163198Z",
     "iopub.status.busy": "2024-12-13T05:58:22.162780Z",
     "iopub.status.idle": "2024-12-13T05:59:50.119285Z",
     "shell.execute_reply": "2024-12-13T05:59:50.118631Z"
    },
    "papermill": {
     "duration": 87.96282,
     "end_time": "2024-12-13T05:59:50.121045",
     "exception": false,
     "start_time": "2024-12-13T05:58:22.158225",
     "status": "completed"
    },
    "tags": []
   },
   "outputs": [
    {
     "name": "stderr",
     "output_type": "stream",
     "text": [
      "/tmp/ipykernel_2978/3305458689.py:4: DeprecationWarning: botorch_model_class is deprecated and will be removed in a future version. Please specify botorch_model_class via `surrogate_spec.model_configs`.\n",
      "  surrogate=Surrogate(\n",
      "/tmp/ipykernel_2978/3305458689.py:4: DeprecationWarning: mll_options is deprecated and will be removed in a future version. Please specify mll_options via `surrogate_spec.model_configs`.\n",
      "  surrogate=Surrogate(\n"
     ]
    }
   ],
   "source": [
    "model = Models.BOTORCH_MODULAR(\n",
    "    experiment=experiment,\n",
    "    data=data,\n",
    "    surrogate=Surrogate(\n",
    "        botorch_model_class=SaasFullyBayesianSingleTaskGP,\n",
    "        mll_options={\n",
    "            \"num_samples\": 256,  # Increasing this may result in better model fits\n",
    "            \"warmup_steps\": 512,  # Increasing this may result in better model fits\n",
    "        },\n",
    "    )\n",
    ")"
   ]
  },
  {
   "cell_type": "markdown",
   "id": "e937c000",
   "metadata": {
    "papermill": {
     "duration": 0.004045,
     "end_time": "2024-12-13T05:59:50.129632",
     "exception": false,
     "start_time": "2024-12-13T05:59:50.125587",
     "status": "completed"
    },
    "tags": []
   },
   "source": [
    "### Cross-validation plot \n",
    "We have tools for cross-validation in Ax, but plotly doesn't render on Github so we make a simple plot using Matplotlib here. To use the built-in cross-validation functionality, you can do something like this:\n",
    "\n",
    "```\n",
    "from ax.modelbridge.cross_validation import cross_validate, compute_diagnostics\n",
    "from ax.plot.diagnostic import interact_cross_validation\n",
    "from ax.utils.notebook.plotting import render, init_notebook_plotting\n",
    "\n",
    "\n",
    "cv = cross_validate(model)\n",
    "diagnostics = compute_diagnostics(cv)\n",
    "init_notebook_plotting()\n",
    "plotconfig = interact_cross_validation(cv)\n",
    "render(plotconfig)\n",
    "```"
   ]
  },
  {
   "cell_type": "code",
   "execution_count": 11,
   "id": "d280cec5",
   "metadata": {
    "execution": {
     "iopub.execute_input": "2024-12-13T05:59:50.139133Z",
     "iopub.status.busy": "2024-12-13T05:59:50.138485Z",
     "iopub.status.idle": "2024-12-13T05:59:50.749022Z",
     "shell.execute_reply": "2024-12-13T05:59:50.748344Z"
    },
    "papermill": {
     "duration": 0.616887,
     "end_time": "2024-12-13T05:59:50.750454",
     "exception": false,
     "start_time": "2024-12-13T05:59:50.133567",
     "status": "completed"
    },
    "tags": []
   },
   "outputs": [
    {
     "data": {
      "image/png": "[encoded data removed]",
      "text/plain": [
       "<Figure size 600x600 with 1 Axes>"
      ]
     },
     "metadata": {},
     "output_type": "display_data"
    }
   ],
   "source": [
    "# Cross-validate model\n",
    "cv = cross_validate(model)\n",
    "y_true = np.stack([cv_.observed.data.means for cv_ in cv]).ravel()\n",
    "y_saas_mean = np.stack([cv_.predicted.means for cv_ in cv]).ravel()\n",
    "y_saas_std = np.stack(\n",
    "    [np.sqrt(np.diag(cv_.predicted.covariance)) for cv_ in cv]\n",
    ").ravel()\n",
    "\n",
    "# Cross-validation plot\n",
    "fig, ax = plt.subplots(1, 1, figsize=(6, 6))\n",
    "min_val, max_val = -5, 120\n",
    "ax.plot([min_val, max_val], [min_val, max_val], \"b--\", lw=2)\n",
    "markers, caps, bars = ax.errorbar(\n",
    "    y_true,\n",
    "    y_saas_mean,\n",
    "    yerr=1.96 * y_saas_std,\n",
    "    fmt=\".\",\n",
    "    capsize=4,\n",
    "    elinewidth=2.0,\n",
    "    ms=14,\n",
    "    c=\"k\",\n",
    "    ecolor=\"gray\",\n",
    ")\n",
    "[bar.set_alpha(0.8) for bar in bars]\n",
    "[cap.set_alpha(0.8) for cap in caps]\n",
    "ax.set_xlim([min_val, max_val])\n",
    "ax.set_ylim([min_val, max_val])\n",
    "ax.set_xlabel(\"True value\", fontsize=20)\n",
    "ax.set_ylabel(\"Predicted value\", fontsize=20)\n",
    "ax.grid(True)"
   ]
  },
  {
   "cell_type": "markdown",
   "id": "931feca3",
   "metadata": {
    "papermill": {
     "duration": 0.004485,
     "end_time": "2024-12-13T05:59:50.759651",
     "exception": false,
     "start_time": "2024-12-13T05:59:50.755166",
     "status": "completed"
    },
    "tags": []
   },
   "source": [
    "### Lengthscales\n",
    "As SAASBO places strong priors on the inverse lengthscales, we only expect parameters 19 and 44 to be identified as important by the model since the other parameters have no effect. We can confirm that this is the case below as the lengthscales of parameters 19 and 44 are close to 1 with all other lengthscales being larger than 1000.  "
   ]
  },
  {
   "cell_type": "code",
   "execution_count": 12,
   "id": "efe45742",
   "metadata": {
    "execution": {
     "iopub.execute_input": "2024-12-13T05:59:50.769394Z",
     "iopub.status.busy": "2024-12-13T05:59:50.768892Z",
     "iopub.status.idle": "2024-12-13T05:59:50.774049Z",
     "shell.execute_reply": "2024-12-13T05:59:50.773525Z"
    },
    "papermill": {
     "duration": 0.011469,
     "end_time": "2024-12-13T05:59:50.775342",
     "exception": false,
     "start_time": "2024-12-13T05:59:50.763873",
     "status": "completed"
    },
    "tags": []
   },
   "outputs": [
    {
     "name": "stdout",
     "output_type": "stream",
     "text": [
      "Parameter 19) Median lengthscale = 6.55e-01\n",
      "Parameter 34) Median lengthscale = 1.87e+00\n",
      "Parameter 31) Median lengthscale = 1.87e+03\n",
      "Parameter 38) Median lengthscale = 1.99e+03\n",
      "Parameter 46) Median lengthscale = 2.01e+03\n",
      "Parameter 36) Median lengthscale = 2.01e+03\n",
      "Parameter 39) Median lengthscale = 2.07e+03\n",
      "Parameter 45) Median lengthscale = 2.10e+03\n",
      "Parameter 20) Median lengthscale = 2.46e+03\n",
      "Parameter  5) Median lengthscale = 2.48e+03\n"
     ]
    }
   ],
   "source": [
    "median_lengthscales = (\n",
    "    model.model.surrogate.model\n",
    "    .covar_module.base_kernel.lengthscale.squeeze()\n",
    "    .median(axis=0)\n",
    "    .values\n",
    ")\n",
    "for i in median_lengthscales.argsort()[:10]:\n",
    "    print(f\"Parameter {i:2}) Median lengthscale = {median_lengthscales[i]:.2e}\")"
   ]
  },
  {
   "cell_type": "code",
   "execution_count": null,
   "id": "fcbf4e70",
   "metadata": {
    "papermill": {
     "duration": 0.00426,
     "end_time": "2024-12-13T05:59:50.783988",
     "exception": false,
     "start_time": "2024-12-13T05:59:50.779728",
     "status": "completed"
    },
    "tags": []
   },
   "outputs": [],
   "source": []
  }
 ],
 "metadata": {
  "kernelspec": {
   "display_name": "Python 3 (ipykernel)",
   "language": "python",
   "name": "python3"
  },
  "language_info": {
   "codemirror_mode": {
    "name": "ipython",
    "version": 3
   },
   "file_extension": ".py",
   "mimetype": "text/x-python",
   "name": "python",
   "nbconvert_exporter": "python",
   "pygments_lexer": "ipython3",
   "version": "3.10.15"
  },
  "papermill": {
   "default_parameters": {},
   "duration": 1348.279596,
   "end_time": "2024-12-13T05:59:53.279586",
   "environment_variables": {},
   "exception": null,
   "input_path": "/tmp/tmp.anfv3mSZwh/Ax-main/tutorials/saasbo.ipynb",
   "output_path": "/tmp/tmp.anfv3mSZwh/Ax-main/tutorials/saasbo.ipynb",
   "parameters": {},
   "start_time": "2024-12-13T05:37:24.999990",
   "version": "2.6.0"
  }
 },
 "nbformat": 4,
 "nbformat_minor": 5
}
