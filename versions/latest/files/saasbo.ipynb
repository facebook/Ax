{
 "cells": [
  {
   "cell_type": "markdown",
   "id": "b5e75ab0",
   "metadata": {
    "originalKey": "1f779465-f9cc-4b17-9b5a-5960cf602273",
    "papermill": {
     "duration": 0.003087,
     "end_time": "2025-01-31T05:36:43.513174",
     "exception": false,
     "start_time": "2025-01-31T05:36:43.510087",
     "status": "completed"
    },
    "tags": []
   },
   "source": [
    "# High-Dimensional Bayesian Optimization with SAASBO\n",
    "\n",
    "This tutorial shows how to use the Sparse Axis-Aligned Subspace Bayesian Optimization (SAASBO) method for high-dimensional Bayesian optimization [1]. SAASBO places strong priors on the inverse lengthscales to avoid overfitting in high-dimensional spaces. Specifically, SAASBO uses a hierarchical sparsity prior consisting of a global shrinkage parameter $\\tau \\sim \\mathcal{HC}(\\beta)$ and inverse lengthscales $\\rho_d \\sim \\mathcal{HC}(\\tau)$ for $d=1, ..., D$, where $\\mathcal{HC}$ is the half-Cauchy distribution. While half-Cauchy priors favor values near zero they also have heavy tails, which allows the inverse lengthscales of the most important parameters to escape zero. To do inference in the SAAS model we use Hamiltonian Monte Carlo (HMC) as we found that to outperform MAP inference.\n",
    "\n",
    "We find that SAASBO performs well on problems with hundreds of dimensions. As we rely on HMC and in particular the No-U-Turn-Sampler (NUTS) for inference, the overhead of SAASBO scales cubically with the number of datapoints. Depending on the problem, using more than $100$ evaluations may not be feasible as SAASBO is designed for problems with a limited evaluation budget.\n",
    "\n",
    "[1] D. Eriksson, M. Jankowiak. High-Dimensional Bayesian Optimization with Sparse Axis-Aligned Subspaces. Proceedings of the Thirty-Seventh Conference on Uncertainty in Artificial Intelligence, 2021."
   ]
  },
  {
   "cell_type": "code",
   "execution_count": 1,
   "id": "8030df90",
   "metadata": {
    "execution": {
     "iopub.execute_input": "2025-01-31T05:36:43.519469Z",
     "iopub.status.busy": "2025-01-31T05:36:43.519092Z",
     "iopub.status.idle": "2025-01-31T05:36:46.249118Z",
     "shell.execute_reply": "2025-01-31T05:36:46.248458Z"
    },
    "originalKey": "36a4c036-4075-4b15-87b2-a399c318f7b6",
    "papermill": {
     "duration": 2.734911,
     "end_time": "2025-01-31T05:36:46.250733",
     "exception": false,
     "start_time": "2025-01-31T05:36:43.515822",
     "status": "completed"
    },
    "tags": []
   },
   "outputs": [],
   "source": [
    "import os\n",
    "\n",
    "import matplotlib\n",
    "import matplotlib.pyplot as plt\n",
    "import numpy as np\n",
    "import torch\n",
    "\n",
    "from ax import Data, Experiment, ParameterType, RangeParameter, SearchSpace\n",
    "from ax.core.metric import Metric\n",
    "from ax.core.objective import Objective\n",
    "from ax.core.optimization_config import OptimizationConfig\n",
    "from ax.metrics.branin import BraninMetric\n",
    "from ax.modelbridge.cross_validation import cross_validate\n",
    "from ax.modelbridge.registry import Models\n",
    "from ax.models.torch.botorch_modular.surrogate import Surrogate\n",
    "from ax.runners.synthetic import SyntheticRunner\n",
    "from botorch.models.fully_bayesian import SaasFullyBayesianSingleTaskGP"
   ]
  },
  {
   "cell_type": "code",
   "execution_count": 2,
   "id": "67021c29",
   "metadata": {
    "execution": {
     "iopub.execute_input": "2025-01-31T05:36:46.257297Z",
     "iopub.status.busy": "2025-01-31T05:36:46.256817Z",
     "iopub.status.idle": "2025-01-31T05:36:46.259928Z",
     "shell.execute_reply": "2025-01-31T05:36:46.259357Z"
    },
    "papermill": {
     "duration": 0.00762,
     "end_time": "2025-01-31T05:36:46.261209",
     "exception": false,
     "start_time": "2025-01-31T05:36:46.253589",
     "status": "completed"
    },
    "tags": []
   },
   "outputs": [],
   "source": [
    "SMOKE_TEST = os.environ.get(\"SMOKE_TEST\")"
   ]
  },
  {
   "cell_type": "code",
   "execution_count": 3,
   "id": "ce7ec182",
   "metadata": {
    "execution": {
     "iopub.execute_input": "2025-01-31T05:36:46.267406Z",
     "iopub.status.busy": "2025-01-31T05:36:46.267027Z",
     "iopub.status.idle": "2025-01-31T05:36:46.271351Z",
     "shell.execute_reply": "2025-01-31T05:36:46.270858Z"
    },
    "originalKey": "08bf2c1e-5909-4bde-8829-0fb0d0a29a25",
    "papermill": {
     "duration": 0.008714,
     "end_time": "2025-01-31T05:36:46.272583",
     "exception": false,
     "start_time": "2025-01-31T05:36:46.263869",
     "status": "completed"
    },
    "tags": []
   },
   "outputs": [],
   "source": [
    "torch.manual_seed(12345)  # To always get the same Sobol points\n",
    "tkwargs = {\n",
    "    \"dtype\": torch.double,\n",
    "    \"device\": torch.device(\"cuda\" if torch.cuda.is_available() else \"cpu\"),\n",
    "}"
   ]
  },
  {
   "cell_type": "markdown",
   "id": "e083bcf3",
   "metadata": {
    "originalKey": "2f9bd4f6-87d6-42d9-b575-f92cf94de7b0",
    "papermill": {
     "duration": 0.002585,
     "end_time": "2025-01-31T05:36:46.277731",
     "exception": false,
     "start_time": "2025-01-31T05:36:46.275146",
     "status": "completed"
    },
    "tags": []
   },
   "source": [
    "## Setup search space and metric\n",
    "In this simple experiment we use the Branin function embedded in a 30-dimensional space. Additional resources:\n",
    "- To set up a custom metric for your problem, refer to the dedicated section of the Developer API tutorial: https://ax.dev/tutorials/gpei_hartmann_developer.html#8.-Defining-custom-metrics.\n",
    "- To avoid needing to setup up custom metrics by Ax Service API: https://ax.dev/tutorials/gpei_hartmann_service.html."
   ]
  },
  {
   "cell_type": "code",
   "execution_count": 4,
   "id": "3ddadea1",
   "metadata": {
    "execution": {
     "iopub.execute_input": "2025-01-31T05:36:46.283946Z",
     "iopub.status.busy": "2025-01-31T05:36:46.283503Z",
     "iopub.status.idle": "2025-01-31T05:36:46.288230Z",
     "shell.execute_reply": "2025-01-31T05:36:46.287689Z"
    },
    "originalKey": "7697c80d-ab0c-4884-b4c7-c75d24a07e1a",
    "papermill": {
     "duration": 0.009233,
     "end_time": "2025-01-31T05:36:46.289512",
     "exception": false,
     "start_time": "2025-01-31T05:36:46.280279",
     "status": "completed"
    },
    "tags": []
   },
   "outputs": [],
   "source": [
    "search_space = SearchSpace(\n",
    "    parameters=[\n",
    "        RangeParameter(\n",
    "            name=f\"x{i}\", parameter_type=ParameterType.FLOAT, lower=-5.0, upper=10.0\n",
    "        )\n",
    "        for i in range(25)\n",
    "    ]\n",
    "    + [\n",
    "        RangeParameter(\n",
    "            name=f\"x{i + 25}\",\n",
    "            parameter_type=ParameterType.FLOAT,\n",
    "            lower=0.0,\n",
    "            upper=15.0,\n",
    "        )\n",
    "        for i in range(25)\n",
    "    ]\n",
    ")\n",
    "\n",
    "optimization_config = OptimizationConfig(\n",
    "    objective=Objective(\n",
    "        metric=BraninMetric(\n",
    "            name=\"objective\",\n",
    "            param_names=[\"x19\", \"x34\"],\n",
    "             # Set noise_sd=None if you want to learn the noise, set to 0.0 for no noise\n",
    "            noise_sd=1e-4, \n",
    "        ),\n",
    "        minimize=True,\n",
    "    )\n",
    ")"
   ]
  },
  {
   "cell_type": "markdown",
   "id": "6cc2366a",
   "metadata": {
    "originalKey": "379571df-a141-48f7-84de-f75bc6e8e760",
    "papermill": {
     "duration": 0.002567,
     "end_time": "2025-01-31T05:36:46.294748",
     "exception": false,
     "start_time": "2025-01-31T05:36:46.292181",
     "status": "completed"
    },
    "tags": []
   },
   "source": [
    "## Run benchmark"
   ]
  },
  {
   "cell_type": "code",
   "execution_count": 5,
   "id": "b6d62c46",
   "metadata": {
    "execution": {
     "iopub.execute_input": "2025-01-31T05:36:46.300935Z",
     "iopub.status.busy": "2025-01-31T05:36:46.300567Z",
     "iopub.status.idle": "2025-01-31T05:36:46.304452Z",
     "shell.execute_reply": "2025-01-31T05:36:46.303892Z"
    },
    "papermill": {
     "duration": 0.008393,
     "end_time": "2025-01-31T05:36:46.305739",
     "exception": false,
     "start_time": "2025-01-31T05:36:46.297346",
     "status": "completed"
    },
    "tags": []
   },
   "outputs": [
    {
     "name": "stdout",
     "output_type": "stream",
     "text": [
      "Doing 40 evaluations\n"
     ]
    }
   ],
   "source": [
    "N_INIT = 10\n",
    "BATCH_SIZE = 3\n",
    "N_BATCHES = 1 if SMOKE_TEST else 10\n",
    "\n",
    "print(f\"Doing {N_INIT + N_BATCHES * BATCH_SIZE} evaluations\")"
   ]
  },
  {
   "cell_type": "code",
   "execution_count": 6,
   "id": "463f4684",
   "metadata": {
    "execution": {
     "iopub.execute_input": "2025-01-31T05:36:46.312268Z",
     "iopub.status.busy": "2025-01-31T05:36:46.311929Z",
     "iopub.status.idle": "2025-01-31T05:36:46.315084Z",
     "shell.execute_reply": "2025-01-31T05:36:46.314541Z"
    },
    "papermill": {
     "duration": 0.007755,
     "end_time": "2025-01-31T05:36:46.316382",
     "exception": false,
     "start_time": "2025-01-31T05:36:46.308627",
     "status": "completed"
    },
    "tags": []
   },
   "outputs": [],
   "source": [
    "# Experiment\n",
    "experiment = Experiment(\n",
    "    name=\"saasbo_experiment\",\n",
    "    search_space=search_space,\n",
    "    optimization_config=optimization_config,\n",
    "    runner=SyntheticRunner(),\n",
    ")"
   ]
  },
  {
   "cell_type": "code",
   "execution_count": 7,
   "id": "6fe4fb32",
   "metadata": {
    "execution": {
     "iopub.execute_input": "2025-01-31T05:36:46.322961Z",
     "iopub.status.busy": "2025-01-31T05:36:46.322574Z",
     "iopub.status.idle": "2025-01-31T05:36:46.353477Z",
     "shell.execute_reply": "2025-01-31T05:36:46.352829Z"
    },
    "papermill": {
     "duration": 0.035691,
     "end_time": "2025-01-31T05:36:46.354912",
     "exception": false,
     "start_time": "2025-01-31T05:36:46.319221",
     "status": "completed"
    },
    "tags": []
   },
   "outputs": [],
   "source": [
    "# Initial Sobol points\n",
    "sobol = Models.SOBOL(search_space=experiment.search_space)\n",
    "for _ in range(N_INIT):\n",
    "    experiment.new_trial(sobol.gen(1)).run()"
   ]
  },
  {
   "cell_type": "code",
   "execution_count": 8,
   "id": "7e7926e3",
   "metadata": {
    "execution": {
     "iopub.execute_input": "2025-01-31T05:36:46.361745Z",
     "iopub.status.busy": "2025-01-31T05:36:46.361203Z",
     "iopub.status.idle": "2025-01-31T06:00:49.918062Z",
     "shell.execute_reply": "2025-01-31T06:00:49.917345Z"
    },
    "originalKey": "bdfeea50-c4e6-4ff1-91ae-c8f6c3160d7c",
    "papermill": {
     "duration": 1443.565154,
     "end_time": "2025-01-31T06:00:49.922918",
     "exception": false,
     "start_time": "2025-01-31T05:36:46.357764",
     "status": "completed"
    },
    "tags": []
   },
   "outputs": [
    {
     "name": "stdout",
     "output_type": "stream",
     "text": [
      "Iteration: 0, Best in iteration 5.897, Best so far: 3.963\n"
     ]
    },
    {
     "name": "stdout",
     "output_type": "stream",
     "text": [
      "Iteration: 1, Best in iteration 7.881, Best so far: 3.963\n"
     ]
    },
    {
     "name": "stdout",
     "output_type": "stream",
     "text": [
      "Iteration: 2, Best in iteration 1.405, Best so far: 1.405\n"
     ]
    },
    {
     "name": "stdout",
     "output_type": "stream",
     "text": [
      "Iteration: 3, Best in iteration 17.508, Best so far: 1.405\n"
     ]
    },
    {
     "name": "stdout",
     "output_type": "stream",
     "text": [
      "Iteration: 4, Best in iteration 2.445, Best so far: 1.405\n"
     ]
    },
    {
     "name": "stdout",
     "output_type": "stream",
     "text": [
      "Iteration: 5, Best in iteration 2.001, Best so far: 1.405\n"
     ]
    },
    {
     "name": "stdout",
     "output_type": "stream",
     "text": [
      "Iteration: 6, Best in iteration 10.961, Best so far: 1.405\n"
     ]
    },
    {
     "name": "stdout",
     "output_type": "stream",
     "text": [
      "Iteration: 7, Best in iteration 1.225, Best so far: 1.225\n"
     ]
    },
    {
     "name": "stdout",
     "output_type": "stream",
     "text": [
      "Iteration: 8, Best in iteration 0.465, Best so far: 0.465\n"
     ]
    },
    {
     "name": "stdout",
     "output_type": "stream",
     "text": [
      "Iteration: 9, Best in iteration 0.406, Best so far: 0.406\n",
      "CPU times: user 47min 42s, sys: 24.1 s, total: 48min 6s\n",
      "Wall time: 24min 3s\n"
     ]
    }
   ],
   "source": [
    "%%time\n",
    "# Run SAASBO\n",
    "data = experiment.fetch_data()\n",
    "for i in range(N_BATCHES):\n",
    "    model = Models.SAASBO(experiment=experiment, data=data)\n",
    "    generator_run = model.gen(BATCH_SIZE)\n",
    "    trial = experiment.new_batch_trial(generator_run=generator_run)\n",
    "    trial.run()\n",
    "    data = Data.from_multiple_data([data, trial.fetch_data()])\n",
    "\n",
    "    new_value = trial.fetch_data().df[\"mean\"].min()\n",
    "    print(\n",
    "        f\"Iteration: {i}, Best in iteration {new_value:.3f}, Best so far: {data.df['mean'].min():.3f}\"\n",
    "    )"
   ]
  },
  {
   "cell_type": "markdown",
   "id": "cc584e16",
   "metadata": {
    "papermill": {
     "duration": 0.003317,
     "end_time": "2025-01-31T06:00:49.929581",
     "exception": false,
     "start_time": "2025-01-31T06:00:49.926264",
     "status": "completed"
    },
    "tags": []
   },
   "source": [
    "## Plot results\n",
    "SAASBO is able to find a solution close to the global optimal value of 0.398"
   ]
  },
  {
   "cell_type": "code",
   "execution_count": 9,
   "id": "bef4c760",
   "metadata": {
    "execution": {
     "iopub.execute_input": "2025-01-31T06:00:49.937332Z",
     "iopub.status.busy": "2025-01-31T06:00:49.936834Z",
     "iopub.status.idle": "2025-01-31T06:00:50.117064Z",
     "shell.execute_reply": "2025-01-31T06:00:50.116371Z"
    },
    "originalKey": "5a9b9706-2653-4320-96f3-4bc9fe88bceb",
    "papermill": {
     "duration": 0.185592,
     "end_time": "2025-01-31T06:00:50.118361",
     "exception": false,
     "start_time": "2025-01-31T06:00:49.932769",
     "status": "completed"
    },
    "tags": []
   },
   "outputs": [
    {
     "data": {
      "image/png": "[encoded data removed]",
      "text/plain": [
       "<Figure size 800x600 with 1 Axes>"
      ]
     },
     "metadata": {},
     "output_type": "display_data"
    }
   ],
   "source": [
    "%matplotlib inline\n",
    "matplotlib.rcParams.update({\"font.size\": 16})\n",
    "\n",
    "\n",
    "fig, ax = plt.subplots(figsize=(8, 6))\n",
    "res_saasbo = data.df[\"mean\"]\n",
    "ax.plot(np.minimum.accumulate(res_saasbo), color=\"b\", label=\"SAASBO\")\n",
    "ax.plot([0, len(res_saasbo)], [0.398, 0.398], \"--\", c=\"g\", lw=3, label=\"Optimal value\")\n",
    "ax.grid(True)\n",
    "ax.set_title(\"Branin, D=50\", fontsize=20)\n",
    "ax.set_xlabel(\"Number of evaluations\", fontsize=20)\n",
    "ax.set_xlim([0, len(res_saasbo)])\n",
    "ax.set_ylabel(\"Best value found\", fontsize=20)\n",
    "ax.set_ylim([0, 8])\n",
    "ax.legend(fontsize=18)\n",
    "plt.show()"
   ]
  },
  {
   "cell_type": "markdown",
   "id": "4d7deaff",
   "metadata": {
    "papermill": {
     "duration": 0.003763,
     "end_time": "2025-01-31T06:00:50.126235",
     "exception": false,
     "start_time": "2025-01-31T06:00:50.122472",
     "status": "completed"
    },
    "tags": []
   },
   "source": [
    "## SAAS model fit"
   ]
  },
  {
   "cell_type": "markdown",
   "id": "3b998d93",
   "metadata": {
    "papermill": {
     "duration": 0.003622,
     "end_time": "2025-01-31T06:00:50.133506",
     "exception": false,
     "start_time": "2025-01-31T06:00:50.129884",
     "status": "completed"
    },
    "tags": []
   },
   "source": [
    "We can also instantiate a SAAS model via `Models.BOTORCH_MODULAR` by specifying a `SaasFullyBayesianSingleTaskGP` as the `botorch_model_class`. This also gives us the option to change several Pyro-specific parameters such as `num_samples` and `warmup_steps`."
   ]
  },
  {
   "cell_type": "code",
   "execution_count": 10,
   "id": "1749345d",
   "metadata": {
    "execution": {
     "iopub.execute_input": "2025-01-31T06:00:50.142085Z",
     "iopub.status.busy": "2025-01-31T06:00:50.141679Z",
     "iopub.status.idle": "2025-01-31T06:02:20.455276Z",
     "shell.execute_reply": "2025-01-31T06:02:20.454672Z"
    },
    "papermill": {
     "duration": 90.319745,
     "end_time": "2025-01-31T06:02:20.456898",
     "exception": false,
     "start_time": "2025-01-31T06:00:50.137153",
     "status": "completed"
    },
    "tags": []
   },
   "outputs": [
    {
     "name": "stderr",
     "output_type": "stream",
     "text": [
      "/tmp/ipykernel_3235/3305458689.py:4: DeprecationWarning: botorch_model_class is deprecated and will be removed in a future version. Please specify botorch_model_class via `surrogate_spec.model_configs`.\n",
      "  surrogate=Surrogate(\n",
      "/tmp/ipykernel_3235/3305458689.py:4: DeprecationWarning: mll_options is deprecated and will be removed in a future version. Please specify mll_options via `surrogate_spec.model_configs`.\n",
      "  surrogate=Surrogate(\n"
     ]
    }
   ],
   "source": [
    "model = Models.BOTORCH_MODULAR(\n",
    "    experiment=experiment,\n",
    "    data=data,\n",
    "    surrogate=Surrogate(\n",
    "        botorch_model_class=SaasFullyBayesianSingleTaskGP,\n",
    "        mll_options={\n",
    "            \"num_samples\": 256,  # Increasing this may result in better model fits\n",
    "            \"warmup_steps\": 512,  # Increasing this may result in better model fits\n",
    "        },\n",
    "    )\n",
    ")"
   ]
  },
  {
   "cell_type": "markdown",
   "id": "d5b3c8a2",
   "metadata": {
    "papermill": {
     "duration": 0.003842,
     "end_time": "2025-01-31T06:02:20.464935",
     "exception": false,
     "start_time": "2025-01-31T06:02:20.461093",
     "status": "completed"
    },
    "tags": []
   },
   "source": [
    "### Cross-validation plot \n",
    "We have tools for cross-validation in Ax, but plotly doesn't render on Github so we make a simple plot using Matplotlib here. To use the built-in cross-validation functionality, you can do something like this:\n",
    "\n",
    "```\n",
    "from ax.modelbridge.cross_validation import cross_validate, compute_diagnostics\n",
    "from ax.plot.diagnostic import interact_cross_validation\n",
    "from ax.utils.notebook.plotting import render, init_notebook_plotting\n",
    "\n",
    "\n",
    "cv = cross_validate(model)\n",
    "diagnostics = compute_diagnostics(cv)\n",
    "init_notebook_plotting()\n",
    "plotconfig = interact_cross_validation(cv)\n",
    "render(plotconfig)\n",
    "```"
   ]
  },
  {
   "cell_type": "code",
   "execution_count": 11,
   "id": "030de48f",
   "metadata": {
    "execution": {
     "iopub.execute_input": "2025-01-31T06:02:20.473648Z",
     "iopub.status.busy": "2025-01-31T06:02:20.473234Z",
     "iopub.status.idle": "2025-01-31T06:02:21.079645Z",
     "shell.execute_reply": "2025-01-31T06:02:21.078988Z"
    },
    "papermill": {
     "duration": 0.612275,
     "end_time": "2025-01-31T06:02:21.080992",
     "exception": false,
     "start_time": "2025-01-31T06:02:20.468717",
     "status": "completed"
    },
    "tags": []
   },
   "outputs": [
    {
     "data": {
      "image/png": "[encoded data removed]",
      "text/plain": [
       "<Figure size 600x600 with 1 Axes>"
      ]
     },
     "metadata": {},
     "output_type": "display_data"
    }
   ],
   "source": [
    "# Cross-validate model\n",
    "cv = cross_validate(model)\n",
    "y_true = np.stack([cv_.observed.data.means for cv_ in cv]).ravel()\n",
    "y_saas_mean = np.stack([cv_.predicted.means for cv_ in cv]).ravel()\n",
    "y_saas_std = np.stack(\n",
    "    [np.sqrt(np.diag(cv_.predicted.covariance)) for cv_ in cv]\n",
    ").ravel()\n",
    "\n",
    "# Cross-validation plot\n",
    "fig, ax = plt.subplots(1, 1, figsize=(6, 6))\n",
    "min_val, max_val = -5, 120\n",
    "ax.plot([min_val, max_val], [min_val, max_val], \"b--\", lw=2)\n",
    "markers, caps, bars = ax.errorbar(\n",
    "    y_true,\n",
    "    y_saas_mean,\n",
    "    yerr=1.96 * y_saas_std,\n",
    "    fmt=\".\",\n",
    "    capsize=4,\n",
    "    elinewidth=2.0,\n",
    "    ms=14,\n",
    "    c=\"k\",\n",
    "    ecolor=\"gray\",\n",
    ")\n",
    "[bar.set_alpha(0.8) for bar in bars]\n",
    "[cap.set_alpha(0.8) for cap in caps]\n",
    "ax.set_xlim([min_val, max_val])\n",
    "ax.set_ylim([min_val, max_val])\n",
    "ax.set_xlabel(\"True value\", fontsize=20)\n",
    "ax.set_ylabel(\"Predicted value\", fontsize=20)\n",
    "ax.grid(True)"
   ]
  },
  {
   "cell_type": "markdown",
   "id": "ae9edd7d",
   "metadata": {
    "papermill": {
     "duration": 0.004132,
     "end_time": "2025-01-31T06:02:21.089831",
     "exception": false,
     "start_time": "2025-01-31T06:02:21.085699",
     "status": "completed"
    },
    "tags": []
   },
   "source": [
    "### Lengthscales\n",
    "As SAASBO places strong priors on the inverse lengthscales, we only expect parameters 19 and 44 to be identified as important by the model since the other parameters have no effect. We can confirm that this is the case below as the lengthscales of parameters 19 and 44 are close to 1 with all other lengthscales being larger than 1000.  "
   ]
  },
  {
   "cell_type": "code",
   "execution_count": 12,
   "id": "20cc1edc",
   "metadata": {
    "execution": {
     "iopub.execute_input": "2025-01-31T06:02:21.099339Z",
     "iopub.status.busy": "2025-01-31T06:02:21.098908Z",
     "iopub.status.idle": "2025-01-31T06:02:21.104052Z",
     "shell.execute_reply": "2025-01-31T06:02:21.103423Z"
    },
    "papermill": {
     "duration": 0.011349,
     "end_time": "2025-01-31T06:02:21.105311",
     "exception": false,
     "start_time": "2025-01-31T06:02:21.093962",
     "status": "completed"
    },
    "tags": []
   },
   "outputs": [
    {
     "name": "stdout",
     "output_type": "stream",
     "text": [
      "Parameter 19) Median lengthscale = 7.26e-01\n",
      "Parameter 34) Median lengthscale = 2.25e+00\n",
      "Parameter 18) Median lengthscale = 1.10e+03\n",
      "Parameter 46) Median lengthscale = 1.30e+03\n",
      "Parameter 20) Median lengthscale = 1.32e+03\n",
      "Parameter 22) Median lengthscale = 1.36e+03\n",
      "Parameter  5) Median lengthscale = 1.52e+03\n",
      "Parameter 28) Median lengthscale = 1.54e+03\n",
      "Parameter 13) Median lengthscale = 1.56e+03\n",
      "Parameter  3) Median lengthscale = 1.59e+03\n"
     ]
    }
   ],
   "source": [
    "median_lengthscales = (\n",
    "    model.model.surrogate.model\n",
    "    .covar_module.base_kernel.lengthscale.squeeze()\n",
    "    .median(axis=0)\n",
    "    .values\n",
    ")\n",
    "for i in median_lengthscales.argsort()[:10]:\n",
    "    print(f\"Parameter {i:2}) Median lengthscale = {median_lengthscales[i]:.2e}\")"
   ]
  },
  {
   "cell_type": "code",
   "execution_count": null,
   "id": "cf1d7f9e",
   "metadata": {
    "papermill": {
     "duration": 0.004259,
     "end_time": "2025-01-31T06:02:21.113843",
     "exception": false,
     "start_time": "2025-01-31T06:02:21.109584",
     "status": "completed"
    },
    "tags": []
   },
   "outputs": [],
   "source": []
  }
 ],
 "metadata": {
  "kernelspec": {
   "display_name": "Python 3 (ipykernel)",
   "language": "python",
   "name": "python3"
  },
  "language_info": {
   "codemirror_mode": {
    "name": "ipython",
    "version": 3
   },
   "file_extension": ".py",
   "mimetype": "text/x-python",
   "name": "python",
   "nbconvert_exporter": "python",
   "pygments_lexer": "ipython3",
   "version": "3.10.16"
  },
  "papermill": {
   "default_parameters": {},
   "duration": 1539.211942,
   "end_time": "2025-01-31T06:02:21.925062",
   "environment_variables": {},
   "exception": null,
   "input_path": "/tmp/tmp.8SPGnWMU26/Ax-main/tutorials/saasbo.ipynb",
   "output_path": "/tmp/tmp.8SPGnWMU26/Ax-main/tutorials/saasbo.ipynb",
   "parameters": {},
   "start_time": "2025-01-31T05:36:42.713120",
   "version": "2.6.0"
  }
 },
 "nbformat": 4,
 "nbformat_minor": 5
}
