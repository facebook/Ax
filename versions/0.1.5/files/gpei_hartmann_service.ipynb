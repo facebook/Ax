{
 "cells": [
  {
   "cell_type": "markdown",
   "metadata": {},
   "source": [
    "#  Service API Example on Hartmann6\n",
    "\n",
    "The Ax Service API is designed to allow the user to control scheduling of trials and data computation while having an easy to use interface with Ax.\n",
    "\n",
    "The user iteratively:\n",
    "- Queries Ax for candidates\n",
    "- Schedules / deploys them however they choose\n",
    "- Computes data and logs to Ax\n",
    "- Repeat"
   ]
  },
  {
   "cell_type": "code",
   "execution_count": 1,
   "metadata": {},
   "outputs": [
    {
     "data": {
      "text/html": [
       "<script type='text/javascript'>/*\n",
       " * Copyright (c) Facebook, Inc. and its affiliates. All Rights Reserved.\n",
       " */\n",
       "\n",
       "requirejs.config({\n",
       "  paths: {\n",
       "    plotly: ['https://cdn.plot.ly/plotly-latest.min'],\n",
       "  },\n",
       "});\n",
       "if (!window.Plotly) {\n",
       "  require(['plotly'], function(plotly) {\n",
       "    window.Plotly = plotly;\n",
       "  });\n",
       "}\n",
       "/*\n",
       " * Copyright (c) Facebook, Inc. and its affiliates. All Rights Reserved.\n",
       " */\n",
       "\n",
       "// helper functions used across multiple plots\n",
       "function rgb(rgb_array) {\n",
       "  return 'rgb(' + rgb_array.join() + ')';\n",
       "}\n",
       "\n",
       "function copy_and_reverse(arr) {\n",
       "  const copy = arr.slice();\n",
       "  copy.reverse();\n",
       "  return copy;\n",
       "}\n",
       "\n",
       "function axis_range(grid, is_log) {\n",
       "  return is_log\n",
       "    ? [Math.log10(Math.min(...grid)), Math.log10(Math.max(...grid))]\n",
       "    : [Math.min(...grid), Math.max(...grid)];\n",
       "}\n",
       "\n",
       "function relativize_data(f, sd, rel, arm_data, metric) {\n",
       "  // if relative, extract status quo & compute ratio\n",
       "  const f_final = rel === true ? [] : f;\n",
       "  const sd_final = rel === true ? [] : sd;\n",
       "\n",
       "  if (rel === true) {\n",
       "    const f_sq =\n",
       "      arm_data['in_sample'][arm_data['status_quo_name']]['y'][metric];\n",
       "    const sd_sq =\n",
       "      arm_data['in_sample'][arm_data['status_quo_name']]['se'][metric];\n",
       "\n",
       "    for (let i = 0; i < f.length; i++) {\n",
       "      res = relativize(f[i], sd[i], f_sq, sd_sq);\n",
       "      f_final.push(100 * res[0]);\n",
       "      sd_final.push(100 * res[1]);\n",
       "    }\n",
       "  }\n",
       "\n",
       "  return [f_final, sd_final];\n",
       "}\n",
       "\n",
       "function relativize(m_t, sem_t, m_c, sem_c) {\n",
       "  r_hat =\n",
       "    (m_t - m_c) / Math.abs(m_c) -\n",
       "    (Math.pow(sem_c, 2) * m_t) / Math.pow(Math.abs(m_c), 3);\n",
       "  variance =\n",
       "    (Math.pow(sem_t, 2) + Math.pow((m_t / m_c) * sem_c, 2)) / Math.pow(m_c, 2);\n",
       "  return [r_hat, Math.sqrt(variance)];\n",
       "}\n",
       "\n",
       "function slice_config_to_trace(\n",
       "  arm_data,\n",
       "  arm_name_to_parameters,\n",
       "  f,\n",
       "  fit_data,\n",
       "  grid,\n",
       "  metric,\n",
       "  param,\n",
       "  rel,\n",
       "  setx,\n",
       "  sd,\n",
       "  is_log,\n",
       "  visible,\n",
       ") {\n",
       "  // format data\n",
       "  const res = relativize_data(f, sd, rel, arm_data, metric);\n",
       "  const f_final = res[0];\n",
       "  const sd_final = res[1];\n",
       "\n",
       "  // get data for standard deviation fill plot\n",
       "  const sd_upper = [];\n",
       "  const sd_lower = [];\n",
       "  for (let i = 0; i < sd.length; i++) {\n",
       "    sd_upper.push(f_final[i] + 2 * sd_final[i]);\n",
       "    sd_lower.push(f_final[i] - 2 * sd_final[i]);\n",
       "  }\n",
       "  const grid_rev = copy_and_reverse(grid);\n",
       "  const sd_lower_rev = copy_and_reverse(sd_lower);\n",
       "  const sd_x = grid.concat(grid_rev);\n",
       "  const sd_y = sd_upper.concat(sd_lower_rev);\n",
       "\n",
       "  // get data for observed arms and error bars\n",
       "  const arm_x = [];\n",
       "  const arm_y = [];\n",
       "  const arm_sem = [];\n",
       "  fit_data.forEach(row => {\n",
       "    parameters = arm_name_to_parameters[row['arm_name']];\n",
       "    plot = true;\n",
       "    Object.keys(setx).forEach(p => {\n",
       "      if (p !== param && parameters[p] !== setx[p]) {\n",
       "        plot = false;\n",
       "      }\n",
       "    });\n",
       "    if (plot === true) {\n",
       "      arm_x.push(parameters[param]);\n",
       "      arm_y.push(row['mean']);\n",
       "      arm_sem.push(row['sem']);\n",
       "    }\n",
       "  });\n",
       "\n",
       "  const arm_res = relativize_data(arm_y, arm_sem, rel, arm_data, metric);\n",
       "  const arm_y_final = arm_res[0];\n",
       "  const arm_sem_final = arm_res[1].map(x => x * 2);\n",
       "\n",
       "  // create traces\n",
       "  const f_trace = {\n",
       "    x: grid,\n",
       "    y: f_final,\n",
       "    showlegend: false,\n",
       "    hoverinfo: 'x+y',\n",
       "    line: {\n",
       "      color: 'rgba(128, 177, 211, 1)',\n",
       "    },\n",
       "    visible: visible,\n",
       "  };\n",
       "\n",
       "  const arms_trace = {\n",
       "    x: arm_x,\n",
       "    y: arm_y_final,\n",
       "    mode: 'markers',\n",
       "    error_y: {\n",
       "      type: 'data',\n",
       "      array: arm_sem_final,\n",
       "      visible: true,\n",
       "      color: 'black',\n",
       "    },\n",
       "    line: {\n",
       "      color: 'black',\n",
       "    },\n",
       "    showlegend: false,\n",
       "    hoverinfo: 'x+y',\n",
       "    visible: visible,\n",
       "  };\n",
       "\n",
       "  const sd_trace = {\n",
       "    x: sd_x,\n",
       "    y: sd_y,\n",
       "    fill: 'toself',\n",
       "    fillcolor: 'rgba(128, 177, 211, 0.2)',\n",
       "    line: {\n",
       "      color: 'transparent',\n",
       "    },\n",
       "    showlegend: false,\n",
       "    hoverinfo: 'none',\n",
       "    visible: visible,\n",
       "  };\n",
       "\n",
       "  traces = [sd_trace, f_trace, arms_trace];\n",
       "\n",
       "  // iterate over out-of-sample arms\n",
       "  let i = 1;\n",
       "  Object.keys(arm_data['out_of_sample']).forEach(generator_run_name => {\n",
       "    const ax = [];\n",
       "    const ay = [];\n",
       "    const asem = [];\n",
       "    const atext = [];\n",
       "\n",
       "    Object.keys(arm_data['out_of_sample'][generator_run_name]).forEach(\n",
       "      arm_name => {\n",
       "        const parameters =\n",
       "          arm_data['out_of_sample'][generator_run_name][arm_name]['parameters'];\n",
       "        plot = true;\n",
       "        Object.keys(setx).forEach(p => {\n",
       "          if (p !== param && parameters[p] !== setx[p]) {\n",
       "            plot = false;\n",
       "          }\n",
       "        });\n",
       "        if (plot === true) {\n",
       "          ax.push(parameters[param]);\n",
       "          ay.push(\n",
       "            arm_data['out_of_sample'][generator_run_name][arm_name]['y_hat'][\n",
       "              metric\n",
       "            ],\n",
       "          );\n",
       "          asem.push(\n",
       "            arm_data['out_of_sample'][generator_run_name][arm_name]['se_hat'][\n",
       "              metric\n",
       "            ],\n",
       "          );\n",
       "          atext.push('<em>Candidate ' + arm_name + '</em>');\n",
       "        }\n",
       "      },\n",
       "    );\n",
       "\n",
       "    const out_of_sample_arm_res = relativize_data(\n",
       "      ay,\n",
       "      asem,\n",
       "      rel,\n",
       "      arm_data,\n",
       "      metric,\n",
       "    );\n",
       "    const ay_final = out_of_sample_arm_res[0];\n",
       "    const asem_final = out_of_sample_arm_res[1].map(x => x * 2);\n",
       "\n",
       "    traces.push({\n",
       "      hoverinfo: 'text',\n",
       "      legendgroup: generator_run_name,\n",
       "      marker: {color: 'black', symbol: i, opacity: 0.5},\n",
       "      mode: 'markers',\n",
       "      error_y: {\n",
       "        type: 'data',\n",
       "        array: asem_final,\n",
       "        visible: true,\n",
       "        color: 'black',\n",
       "      },\n",
       "      name: generator_run_name,\n",
       "      text: atext,\n",
       "      type: 'scatter',\n",
       "      xaxis: 'x',\n",
       "      x: ax,\n",
       "      yaxis: 'y',\n",
       "      y: ay_final,\n",
       "      visible: visible,\n",
       "    });\n",
       "\n",
       "    i += 1;\n",
       "  });\n",
       "  return traces;\n",
       "}\n",
       "</script>"
      ]
     },
     "metadata": {},
     "output_type": "display_data"
    },
    {
     "name": "stderr",
     "output_type": "stream",
     "text": [
      "[INFO 08-29 13:00:04] ipy_plotting: Injecting Plotly library into cell. Do not overwrite or delete cell.\n"
     ]
    }
   ],
   "source": [
    "import numpy as np\n",
    "\n",
    "from ax.plot.contour import plot_contour\n",
    "from ax.plot.trace import optimization_trace_single_method\n",
    "from ax.service.ax_client import AxClient\n",
    "from ax.metrics.branin import branin\n",
    "from ax.utils.measurement.synthetic_functions import hartmann6\n",
    "from ax.utils.notebook.plotting import render, init_notebook_plotting\n",
    "\n",
    "init_notebook_plotting()"
   ]
  },
  {
   "cell_type": "markdown",
   "metadata": {},
   "source": [
    "## 1. Initialize client\n",
    "\n",
    "Create a client object to interface with Ax APIs. By default this runs locally without storage."
   ]
  },
  {
   "cell_type": "code",
   "execution_count": 2,
   "metadata": {
    "collapsed": true
   },
   "outputs": [],
   "source": [
    "ax = AxClient()"
   ]
  },
  {
   "cell_type": "markdown",
   "metadata": {},
   "source": [
    "## 2. Set up experiment\n",
    "An experiment consists of a **search space** (parameters and parameter constraints) and **optimization configuration** (objective name, minimization setting, and outcome constraints). Note that:\n",
    "- Only `name`, `parameters`, and `objective_name` arguments are required.\n",
    "- Dictionaries in `parameters` have the following required keys: \"name\" - parameter name, \"type\" - parameter type (\"range\", \"choice\" or \"fixed\"), \"bounds\" for range parameters, \"values\" for choice parameters, and \"value\" for fixed parameters.\n",
    "- Dictionaries in `parameters` can optionally include \"value_type\" (\"int\", \"float\", \"bool\" or \"str\"), \"log_scale\" flag for range parameters, and \"is_ordered\" flag for choice parameters.\n",
    "- `parameter_constraints` should be a list of strings of form \"p1 >= p2\" or \"p1 + p2 <= some_bound\".\n",
    "- `outcome_constraints` should be a list of strings of form \"constrained_metric <= some_bound\"."
   ]
  },
  {
   "cell_type": "code",
   "execution_count": 3,
   "metadata": {},
   "outputs": [
    {
     "name": "stderr",
     "output_type": "stream",
     "text": [
      "[INFO 08-29 13:00:04] ax.service.utils.dispatch: Using Bayesian Optimization generation strategy: GenerationStrategy(name='Sobol+GPEI', steps=[Sobol for 6 arms, GPEI for subsequent arms], generated 0 arm(s) so far). Iterations after 6 will take longer to generate due to model-fitting.\n"
     ]
    }
   ],
   "source": [
    "ax.create_experiment(\n",
    "    name=\"hartmann_test_experiment\",\n",
    "    parameters=[\n",
    "        {\n",
    "            \"name\": \"x1\",\n",
    "            \"type\": \"range\",\n",
    "            \"bounds\": [0.0, 1.0],\n",
    "            \"value_type\": \"float\",  # Optional, defaults to inference from type of \"bounds\".\n",
    "            \"log_scale\": False,  # Optional, defaults to False.\n",
    "        },\n",
    "        {\n",
    "            \"name\": \"x2\",\n",
    "            \"type\": \"range\",\n",
    "            \"bounds\": [0.0, 1.0],\n",
    "        },\n",
    "        {\n",
    "            \"name\": \"x3\",\n",
    "            \"type\": \"range\",\n",
    "            \"bounds\": [0.0, 1.0],\n",
    "        },\n",
    "        {\n",
    "            \"name\": \"x4\",\n",
    "            \"type\": \"range\",\n",
    "            \"bounds\": [0.0, 1.0],\n",
    "        },\n",
    "        {\n",
    "            \"name\": \"x5\",\n",
    "            \"type\": \"range\",\n",
    "            \"bounds\": [0.0, 1.0],\n",
    "        },\n",
    "        {\n",
    "            \"name\": \"x6\",\n",
    "            \"type\": \"range\",\n",
    "            \"bounds\": [0.0, 1.0],\n",
    "        },\n",
    "    ],\n",
    "    objective_name=\"hartmann6\",\n",
    "    minimize=True,  # Optional, defaults to False.\n",
    "    parameter_constraints=[\"x1 + x2 <= 2.0\"],  # Optional.\n",
    "    outcome_constraints=[\"l2norm <= 1.25\"],  # Optional.\n",
    ")"
   ]
  },
  {
   "cell_type": "markdown",
   "metadata": {},
   "source": [
    "## 3. Define how to evaluate trials\n",
    "When using Ax a service, evaluation of parameterizations suggested by Ax is done either locally or, more commonly, using an external scheduler. Below is a dummy evaluation function that outputs data for two metrics \"hartmann6\" and \"l2norm\". Note that all returned metrics correspond to either the `objective_name` set on experiment creation or the metric names mentioned in `outcome_constraints`."
   ]
  },
  {
   "cell_type": "code",
   "execution_count": 4,
   "metadata": {
    "collapsed": true
   },
   "outputs": [],
   "source": [
    "def evaluate(parameters):\n",
    "    x = np.array([parameters.get(f\"x{i+1}\") for i in range(6)])\n",
    "    # In our case, standard error is 0, since we are computing a synthetic function.\n",
    "    return {\"hartmann6\": (hartmann6(x), 0.0), \"l2norm\": (np.sqrt((x ** 2).sum()), 0.0)}"
   ]
  },
  {
   "cell_type": "markdown",
   "metadata": {},
   "source": [
    "Result of the evaluation should generally be a mapping of the format: `{metric_name -> (mean, SEM)}`. If there is only one metric in the experiment – the objective – then evaluation function can return a single tuple of mean and SEM, in which case Ax will assume that evaluation corresponds to the objective. It can also return only the mean as a float, in which case Ax will treat SEM as unknown and use a model that can infer it. For more details on evaluation function, refer to the \"Trial Evaluation\" section in the docs."
   ]
  },
  {
   "cell_type": "markdown",
   "metadata": {},
   "source": [
    "## 4. Run optimization loop\n",
    "With the experiment set up, we can start the optimization loop.\n",
    "\n",
    "At each step, the user queries the client for a new trial then submits the evaluation of that trial back to the client.\n",
    "\n",
    "Note that Ax auto-selects an appropriate optimization algorithm based on the search space. For more advance use cases that require a specific optimization algorithm, pass a `generation_strategy` argument into the `AxClient` constructor. Note that when Bayesian Optimization is used, generating new trials may take a few minutes."
   ]
  },
  {
   "cell_type": "code",
   "execution_count": 5,
   "metadata": {},
   "outputs": [
    {
     "name": "stdout",
     "output_type": "stream",
     "text": [
      "Running trial 1/30...\n",
      "Running trial 2/30...\n",
      "Running trial 3/30...\n",
      "Running trial 4/30...\n",
      "Running trial 5/30...\n",
      "Running trial 6/30...\n"
     ]
    },
    {
     "name": "stdout",
     "output_type": "stream",
     "text": [
      "Running trial 7/30...\n",
      "Running trial 8/30...\n"
     ]
    },
    {
     "name": "stdout",
     "output_type": "stream",
     "text": [
      "Running trial 9/30...\n"
     ]
    },
    {
     "name": "stdout",
     "output_type": "stream",
     "text": [
      "Running trial 10/30...\n"
     ]
    },
    {
     "name": "stdout",
     "output_type": "stream",
     "text": [
      "Running trial 11/30...\n"
     ]
    },
    {
     "name": "stdout",
     "output_type": "stream",
     "text": [
      "Running trial 12/30...\n"
     ]
    },
    {
     "name": "stdout",
     "output_type": "stream",
     "text": [
      "Running trial 13/30...\n"
     ]
    },
    {
     "name": "stdout",
     "output_type": "stream",
     "text": [
      "Running trial 14/30...\n"
     ]
    },
    {
     "name": "stdout",
     "output_type": "stream",
     "text": [
      "Running trial 15/30...\n"
     ]
    },
    {
     "name": "stdout",
     "output_type": "stream",
     "text": [
      "Running trial 16/30...\n"
     ]
    },
    {
     "name": "stdout",
     "output_type": "stream",
     "text": [
      "Running trial 17/30...\n"
     ]
    },
    {
     "name": "stdout",
     "output_type": "stream",
     "text": [
      "Running trial 18/30...\n"
     ]
    },
    {
     "name": "stdout",
     "output_type": "stream",
     "text": [
      "Running trial 19/30...\n"
     ]
    },
    {
     "name": "stdout",
     "output_type": "stream",
     "text": [
      "Running trial 20/30...\n"
     ]
    },
    {
     "name": "stdout",
     "output_type": "stream",
     "text": [
      "Running trial 21/30...\n"
     ]
    },
    {
     "name": "stdout",
     "output_type": "stream",
     "text": [
      "Running trial 22/30...\n"
     ]
    },
    {
     "name": "stdout",
     "output_type": "stream",
     "text": [
      "Running trial 23/30...\n"
     ]
    },
    {
     "name": "stdout",
     "output_type": "stream",
     "text": [
      "Running trial 24/30...\n"
     ]
    },
    {
     "name": "stdout",
     "output_type": "stream",
     "text": [
      "Running trial 25/30...\n"
     ]
    },
    {
     "name": "stdout",
     "output_type": "stream",
     "text": [
      "Running trial 26/30...\n"
     ]
    },
    {
     "name": "stdout",
     "output_type": "stream",
     "text": [
      "Running trial 27/30...\n"
     ]
    },
    {
     "name": "stdout",
     "output_type": "stream",
     "text": [
      "Running trial 28/30...\n"
     ]
    },
    {
     "name": "stdout",
     "output_type": "stream",
     "text": [
      "Running trial 29/30...\n"
     ]
    },
    {
     "name": "stdout",
     "output_type": "stream",
     "text": [
      "Running trial 30/30...\n"
     ]
    }
   ],
   "source": [
    "for i in range(30):\n",
    "    print(f\"Running trial {i+1}/30...\")\n",
    "    parameters, trial_index = ax.get_next_trial()\n",
    "     # Local evaluation here can be replaced with deployment to external system.\n",
    "    ax.complete_trial(trial_index=trial_index, raw_data=evaluate(parameters))"
   ]
  },
  {
   "cell_type": "markdown",
   "metadata": {},
   "source": [
    "## 5. Retrieve best parameters\n",
    "\n",
    "Once it's complete, we can access the best parameters found, as well as the corresponding metric values."
   ]
  },
  {
   "cell_type": "code",
   "execution_count": 6,
   "metadata": {},
   "outputs": [
    {
     "data": {
      "text/plain": [
       "{'x1': 0.41169705380325305,\n",
       " 'x2': 0.8953323870029478,\n",
       " 'x3': 0.33053037379919475,\n",
       " 'x4': 0.5667668159515467,\n",
       " 'x5': 0.37275383692522,\n",
       " 'x6': 1.5474149616864724e-13}"
      ]
     },
     "execution_count": 6,
     "metadata": {},
     "output_type": "execute_result"
    }
   ],
   "source": [
    "best_parameters, values = ax.get_best_parameters()\n",
    "best_parameters"
   ]
  },
  {
   "cell_type": "code",
   "execution_count": 7,
   "metadata": {},
   "outputs": [
    {
     "data": {
      "text/plain": [
       "{'hartmann6': -3.065546295723029, 'l2norm': 1.2411824154369033}"
      ]
     },
     "execution_count": 7,
     "metadata": {},
     "output_type": "execute_result"
    }
   ],
   "source": [
    "means, covariances = values\n",
    "means"
   ]
  },
  {
   "cell_type": "markdown",
   "metadata": {},
   "source": [
    "For comparison, Hartmann6 minimum:"
   ]
  },
  {
   "cell_type": "code",
   "execution_count": 8,
   "metadata": {},
   "outputs": [
    {
     "data": {
      "text/plain": [
       "-3.32237"
      ]
     },
     "execution_count": 8,
     "metadata": {},
     "output_type": "execute_result"
    }
   ],
   "source": [
    "hartmann6.fmin"
   ]
  },
  {
   "cell_type": "markdown",
   "metadata": {},
   "source": [
    "## 6. Plot the response surface and optimization trace\n",
    "Here we arbitrarily select \"x1\" and \"x2\" as the two parameters to plot for both metrics, \"hartmann6\" and \"l2norm\"."
   ]
  },
  {
   "cell_type": "code",
   "execution_count": 9,
   "metadata": {},
   "outputs": [
    {
     "data": {
      "text/html": [
       "<div id=\"8f63771c2c964277ac65044d69e984e0\" style=\"width: 100%;\" class=\"plotly-graph-div\"></div><script type='text/javascript'>/*\n",
       " * Copyright (c) Facebook, Inc. and its affiliates. All Rights Reserved.\n",
       " */\n",
       "\n",
       "require(['plotly'], function(Plotly) {\n",
       "  window.PLOTLYENV = window.PLOTLYENV || {};\n",
       "  window.PLOTLYENV.BASE_URL = 'https://plot.ly';\n",
       "  /*\n",
       " * Copyright (c) Facebook, Inc. and its affiliates. All Rights Reserved.\n",
       " */\n",
       "\n",
       "Plotly.newPlot(\n",
       "  \"8f63771c2c964277ac65044d69e984e0\",\n",
       "  [{\"autocolorscale\": false, \"autocontour\": true, \"colorbar\": {\"tickfont\": {\"size\": 8}, \"ticksuffix\": \"\", \"x\": 0.45, \"y\": 0.5}, \"colorscale\": [[0.0, \"rgb(247,252,253)\"], [0.125, \"rgb(229,245,249)\"], [0.25, \"rgb(204,236,230)\"], [0.375, \"rgb(153,216,201)\"], [0.5, \"rgb(102,194,164)\"], [0.625, \"rgb(65,174,118)\"], [0.75, \"rgb(35,139,69)\"], [0.875, \"rgb(0,109,44)\"], [1.0, \"rgb(0,68,27)\"]], \"contours\": {\"coloring\": \"heatmap\"}, \"hoverinfo\": \"x+y+z\", \"ncontours\": 25, \"x\": [0.0, 0.02040816326530612, 0.04081632653061224, 0.061224489795918366, 0.08163265306122448, 0.1020408163265306, 0.12244897959183673, 0.14285714285714285, 0.16326530612244897, 0.18367346938775508, 0.2040816326530612, 0.22448979591836732, 0.24489795918367346, 0.26530612244897955, 0.2857142857142857, 0.3061224489795918, 0.32653061224489793, 0.3469387755102041, 0.36734693877551017, 0.3877551020408163, 0.4081632653061224, 0.42857142857142855, 0.44897959183673464, 0.4693877551020408, 0.4897959183673469, 0.5102040816326531, 0.5306122448979591, 0.5510204081632653, 0.5714285714285714, 0.5918367346938775, 0.6122448979591836, 0.6326530612244897, 0.6530612244897959, 0.673469387755102, 0.6938775510204082, 0.7142857142857142, 0.7346938775510203, 0.7551020408163265, 0.7755102040816326, 0.7959183673469387, 0.8163265306122448, 0.836734693877551, 0.8571428571428571, 0.8775510204081632, 0.8979591836734693, 0.9183673469387754, 0.9387755102040816, 0.9591836734693877, 0.9795918367346939, 1.0], \"xaxis\": \"x\", \"y\": [0.0, 0.02040816326530612, 0.04081632653061224, 0.061224489795918366, 0.08163265306122448, 0.1020408163265306, 0.12244897959183673, 0.14285714285714285, 0.16326530612244897, 0.18367346938775508, 0.2040816326530612, 0.22448979591836732, 0.24489795918367346, 0.26530612244897955, 0.2857142857142857, 0.3061224489795918, 0.32653061224489793, 0.3469387755102041, 0.36734693877551017, 0.3877551020408163, 0.4081632653061224, 0.42857142857142855, 0.44897959183673464, 0.4693877551020408, 0.4897959183673469, 0.5102040816326531, 0.5306122448979591, 0.5510204081632653, 0.5714285714285714, 0.5918367346938775, 0.6122448979591836, 0.6326530612244897, 0.6530612244897959, 0.673469387755102, 0.6938775510204082, 0.7142857142857142, 0.7346938775510203, 0.7551020408163265, 0.7755102040816326, 0.7959183673469387, 0.8163265306122448, 0.836734693877551, 0.8571428571428571, 0.8775510204081632, 0.8979591836734693, 0.9183673469387754, 0.9387755102040816, 0.9591836734693877, 0.9795918367346939, 1.0], \"yaxis\": \"y\", \"z\": [[-0.013039531755239198, -0.01894063241016175, -0.02734045554066955, -0.038267511247854324, -0.05168067243981622, -0.06746108700757802, -0.08540695740236837, -0.1052320395712465, -0.1265685275962074, -0.14897469735777658, -0.17194730695507698, -0.19493833683811257, -0.21737525350358222, -0.23868365242372258, -0.2583109221824207, -0.27574949515904, -0.2905583085487182, -0.3023812695694772, -0.3109617636157307, -0.3161525240367191, -0.3179204632291448, -0.3163463244351621, -0.3116192428326694, -0.3040265057413194, -0.2939389860001733, -0.28179290486903286, -0.26806877518841343, -0.2532685882596699, -0.2378925284437574, -0.22241669050093615, -0.20727336752908965, -0.19283538476696505, -0.17940560966151864, -0.16721217862484794, -0.15640925707012254, -0.14708247568737276, -0.13925773458828483, -0.13291191796995583, -0.1279841833175659, -0.12438677836338607, -0.12201468385601189, -0.12075369947143044, -0.12048684377559749, -0.12109911847273946, -0.12248080072678746, -0.12452948930946683, -0.12715115444940683, -0.13026043869346826, -0.1337804354266663, -0.13764213965107608], [-0.008656760786338813, -0.015148947470206231, -0.024303224592427064, -0.0361567333356152, -0.05067222149514339, -0.06772885259048, -0.08711607677797129, -0.10853153922573022, -0.13158380212242426, -0.15580033004352867, -0.18064076262727902, -0.20551502404399535, -0.229805360847265, -0.2528910247178444, -0.27417407644135694, -0.293104708452981, -0.309204561509981, -0.32208671654094845, -0.33147133000698825, -0.3371962021080692, -0.3392218820862174, -0.33763119855941315, -0.3326233460889185, -0.32450286648325166, -0.3136640484890447, -0.30057145081328374, -0.2857374482588988, -0.26969791870816784, -0.2529874217237611, -0.23611543004221147, -0.21954528857332978, -0.2036774915960231, -0.18883850565302907, -0.17527572404196623, -0.16315834221672842, -0.1525832033038681, -0.14358417696590653, -0.13614349075175225, -0.13020358734507953, -0.12567841197296814, -0.1224634144528205, -0.12044389250608467, -0.11950156753843189, -0.11951946611472786, -0.12038529203026838, -0.12199353201413521, -0.1242465579139671, -0.12705498153176742, -0.13033749393556815, -0.13402038587576293], [-0.00441236824412683, -0.011524367805237246, -0.021470431638188403, -0.03429757227758068, -0.04997342574101138, -0.06837582497726702, -0.08928563515326382, -0.1123839681594394, -0.1372546804142838, -0.16339269448954186, -0.19021820180096038, -0.21709625974235958, -0.2433607700338356, -0.2683413953987601, -0.29139170148724114, -0.3119167308240136, -0.3293983188516434, -0.34341671059714796, -0.35366737386793, -0.35997227319060177, -0.36228522147033526, -0.36069123567861083, -0.35540008016402524, -0.3467343934433966, -0.33511297876129076, -0.3210300171124736, -0.30503115466413955, -0.28768763759748905, -0.26956991113271656, -0.2512223286410973, -0.23314075119124777, -0.21575474426817243, -0.1994156979794297, -0.1843915027173355, -0.17086753988074133, -0.15895293810143007, -0.14869052493293466, -0.14006876746951202, -0.13303418582266713, -0.12750309787917358, -0.12337196956694552, -0.12052600890407383, -0.1188459163623492, -0.1182128877237889, -0.11851207472666903, -0.1196347627939407, -0.1214795405797362, -0.12395272533553392, -0.12696828018167294, -0.13044742114178742], [-0.0003229770586752334, -0.008083424679419915, -0.018858661363087448, -0.032706928011639436, -0.04960188293442669, -0.06942079298916748, -0.0919361904354592, -0.11681227519377257, -0.14360711562101902, -0.1717812962836871, -0.2007131120044361, -0.22971978275577376, -0.2580835568575235, -0.2850810765868623, -0.3100140760204264, -0.33223940143428, -0.3511964795562188, -0.366430659536379, -0.3776112510385392, -0.38454350348358735, -0.3871741661933892, -0.38559060557442826, -0.38001372631834485, -0.37078515936121226, -0.3583493612261117, -0.34323144292944163, -0.3260117361779944, -0.30729832651864797, -0.2876990353180484, -0.26779457863733236, -0.24811478638618256, -0.2291197029664469, -0.21118699417702258, -0.19460633780923087, -0.17958052544975445, -0.16623212344691662, -0.15461398683974115, -0.14472179386760842, -0.13650699799155763, -0.129889013632414, -0.12476590271403731, -0.12102321368718671, -0.11854090725876287, -0.117198487328104, -0.11687856168258492, -0.11746910671152522, -0.11886472152626548, -0.12096714222884541, -0.12368525574356748, -0.12693481151295782], [0.0035936935195908237, -0.004843629785652004, -0.016485320633914835, -0.03140232705156509, -0.049575592595637596, -0.07088270337989888, -0.09508820610191115, -0.12183906257678867, -0.15066646758312618, -0.18099480693481618, -0.2121579078834699, -0.2434220149294608, -0.2740142224266544, -0.303154527486694, -0.3300893236530893, -0.3541240794536563, -0.3746531208598174, -0.39118480046607684, -0.4033608025431664, -0.4109688178986739, -0.41394826330851686, -0.4123890847117254, -0.4065239667119652, -0.3967144882994734, -0.38343194199971875, -0.36723370037763947, -0.34873619760351937, -0.3285858141959499, -0.3074292110978689, -0.28588492009427835, -0.26451817252423226, -0.24382089783624283, -0.22419841230640492, -0.20596351864801177, -0.1893377096838651, -0.1744582195195168, -0.1613890794853332, -0.15013422274166244, -0.1406509513551355, -0.13286254378118567, -0.12666926538591028, -0.12195744807605746, -0.11860659455456024, -0.11649464679995414, -0.11550166103501058, -0.11551217688335047, -0.11641657540260342, -0.11811170234399593, -0.12050099845113982, -0.12349433478561567], [0.007318751076153207, -0.0018235520064424637, -0.014368708426351517, -0.030401978009704456, -0.04991298929114274, -0.07278066435114705, -0.09876201817619634, -0.12748651061380634, -0.15845738020665334, -0.19106088968839963, -0.2245837014210592, -0.25823777177498086, -0.291191340375647, -0.3226039347995022, -0.3516629241847462, -0.3776190854142424, -0.3998188707683974, -0.4177315064286159, -0.4309695998384455, -0.4393024895232486, -0.4426620619511368, -0.44114115278461996, -0.43498494393708065, -0.42457598439948885, -0.4104136332635818, -0.3930888813167628, -0.37325568363711936, -0.3516001521121437, -0.32880921767879934, -0.30554064439788653, -0.2823964696116752, -0.25990190509831, -0.23849130917177863, -0.21850198971721846, -0.200175494901061, -0.18366503056702999, -0.1690470276682272, -0.15633478458389072, -0.14549242022325015, -0.1364478816535728, -0.1291042664730062, -0.12334914049035262, -0.11906182631271145, -0.11611882171834753, -0.11439760588116887, -0.11377913285869523, -0.11414931489282765, -0.11539977632569953, -0.11742812142685333, -0.12013791308379806], [0.010832054053349527, 0.0009571045574585657, -0.012528088756948996, -0.02972483118918645, -0.05063298015571793, -0.07513395244898557, -0.10297780367366949, -0.13377630086997705, -0.16700365365023395, -0.20200601567630838, -0.23802005743163757, -0.2741999528919117, -0.3096511781066278, -0.3434687614223262, -0.37477718776087543, -0.4027691007571139, -0.42674023512619974, -0.44611854521578154, -0.4604861412234733, -0.4695932804429377, -0.473364205702834, -0.47189504357547674, -0.4654442769178643, -0.45441651899799196, -0.43934047767463325, -0.4208421454636395, -0.39961441791145524, -0.3763845529678156, -0.351881144490653, -0.32680256278725883, -0.301789020705286, -0.2774003935562517, -0.2541014831712831, -0.23225551914595255, -0.21212551572302263, -0.19388202146013822, -0.17761515708951325, -0.1633487547430461, -0.15105476299191478, -0.14066663122329603, -0.1320909323888666, -0.1252169183049363, -0.11992400116551027, -0.11608733705176921, -0.11358178306895916, -0.11228453734719235, -0.11207677081450318, -0.11284453483557466, -0.11447918860544548, -0.11687754153484975], [0.014112138842023558, 0.0034774232102363634, -0.01098376505183829, -0.029390641046012522, -0.05175498578419213, -0.07796202221614457, -0.10775555001748693, -0.14072953744367722, -0.17632811070485044, -0.21385526957034262, -0.2524947332323324, -0.2913392107891364, -0.32942729043906227, -0.3657852616720534, -0.39947069019180836, -0.42961452413885937, -0.45545887840163835, -0.47638829046551967, -0.49195300075149784, -0.5018835367817827, -0.5060964820698122, -0.5046917566029284, -0.49794204163312417, -0.4862751865822529, -0.47025058531423414, -0.45053064424068046, -0.4278486204219909, -0.40297430971950843, -0.376679321589411, -0.34970395957015177, -0.32272794055933307, -0.29634716148345075, -0.2710582711817371, -0.24725186510614217, -0.22521388140303844, -0.20513363892963032, -0.1871162942076905, -0.17119742887885425, -0.15735786818056652, -0.1455374174543691, -0.13564677483196208, -0.12757732602368343, -0.12120883013300077, -0.11641518631765546, -0.11306856398497955, -0.11104221357010147, -0.11021227162225089, -0.11045884642688986, -0.11166662778421244, -0.11372521382929612], [0.017136152603218102, 0.005715200317272018, -0.009757153941021723, -0.02942002991888293, -0.053298983275831935, -0.08128451768352751, -0.11311502468128687, -0.1483666655950222, -0.18645245654213305, -0.22663214370002338, -0.26803340117171115, -0.3096835964920297, -0.35055008380814445, -0.3895859610542761, -0.4257776675405349, -0.45819078298643634, -0.48601085740688144, -0.5085768853515846, -0.5254059313918362, -0.5362082414363435, -0.5408928345026109, -0.5395640370962448, -0.5325097264194029, -0.5201822416310417, -0.5031730575411199, -0.48218243701431107, -0.457985422158947, -0.431395715951294, -0.40322925494157713, -0.37426955338419154, -0.34523711530396195, -0.3167651874543651, -0.28938366216534694, -0.26351196135792065, -0.23946043910288206, -0.21743865471143065, -0.1975681880296094, -0.17989761949909688, -0.16441771996568244, -0.15107551402202613, -0.13978647347532336, -0.1304445557888667, -0.1229301081920755, -0.11711583802926939, -0.11287114036869572, -0.11006510562925254, -0.10856852420011798, -0.10825517526660722, -0.10900264235963908, -0.11069284556896486], [0.019879794968717945, 0.007646876886420184, -0.008870855966608415, -0.029834550963486084, -0.055285549811439516, -0.08512128444580247, -0.11907574403256871, -0.15670738676885798, -0.1973971307783775, -0.24035831936422092, -0.2846593524525862, -0.32925818006656327, -0.37304634889931476, -0.4148990983700501, -0.4537273679227055, -0.48852759872425944, -0.5184258072422533, -0.542713359420216, -0.5608729246170696, -0.5725940285893556, -0.5777783431665529, -0.5765353327795831, -0.5691691727205781, -0.5561580296723411, -0.5381269135998437, -0.5158154181033688, -0.4900417977735284, -0.46166501063918786, -0.43154659147953733, -0.40051449262965655, -0.36933123976137316, -0.3386687213702144, -0.3090914525807662, -0.2810491451778079, -0.25487807903118287, -0.23080954894580308, -0.20898296958472073, -0.1894611868545315, -0.17224599424235332, -0.15729249747423202, -0.14452158096688605, -0.1338301961988575, -0.12509950040248663, -0.11820105328156094, -0.11300136822925388, -0.10936514434545619, -0.10715749789435347, -0.10624548025820757, -0.10649912298861297, -0.10779219639319693], [0.022317272288928214, 0.009247479524319369, -0.008348720134198517, -0.0306567477030546, -0.05773590467967815, -0.08949238067553278, -0.12565694002733263, -0.1657705687767943, -0.20918115054954867, -0.25505343381549017, -0.3023931804256288, -0.35008464392502325, -0.396938759350007, -0.44174802773679434, -0.4833433583226502, -0.5206482040759058, -0.5527260788867824, -0.578818699428302, -0.5983732290595986, -0.6110581647046148, -0.6167681814023969, -0.6156187367596331, -0.6079315130146489, -0.5942119267981074, -0.5751200367981205, -0.5514362739747624, -0.5240235382478774, -0.4937873716326039, -0.46163614020196675, -0.4284434126555423, -0.39501492044163966, -0.362062443226822, -0.3301864697351078, -0.2998684516539398, -0.2714721027960314, -0.24525195235243635, -0.22136666480954714, -0.19989461732381897, -0.1808496960419097, -0.16419593668088228, -0.14986025742309206, -0.1377430052404618, -0.12772634727116094, -0.11968071824501081, -0.11346962289854412, -0.10895312100980625, -0.1059903137579179, -0.10444111716019266, -0.10416756046969855, -0.10503479194064935], [0.02442126863698757, 0.010490574817640042, -0.008215898618239237, -0.03191020701485359, -0.06067194713956292, -0.09441808498217696, -0.1328775230392345, -0.17557414959584872, -0.2218219430184889, -0.2707348311308444, -0.3212524412618478, -0.37218084651147243, -0.4222453339083355, -0.4701505779183136, -0.5146427841497708, -0.5545685109049807, -0.5889258280863713, -0.6169048754403522, -0.637916331433547, -0.6516075013584339, -0.6578665555107197, -0.6568159264812582, -0.6487961182431413, -0.6343413023568322, -0.6141481574119018, -0.5890394902486717, -0.559924285612271, -0.5277559821355704, -0.49349097544958676, -0.4580495820362068, -0.4222818718990249, -0.3869407166716795, -0.35266388856019026, -0.31996599753955257, -0.28923967543487805, -0.26076416477529984, -0.23471877566278287, -0.2111986615838679, -0.19023084839751192, -0.17178912579661243, -0.15580704109403953, -0.14218871274838074, -0.13081749374157559, -0.12156269512788276, -0.11428466811730242, -0.10883857141268938, -0.10507714094562526, -0.10285274529791, -0.10201896116819098, -0.10243184674981842], [0.026162938324934437, 0.011348241823004201, -0.008498887258723942, -0.033619601711289526, -0.06411628690468696, -0.09991889851125668, -0.14075603869033237, -0.18613503290287148, -0.23533516544432675, -0.28741729491004486, -0.3412512896466189, -0.39556035371707987, -0.44897885923718905, -0.500118366248248, -0.5476355792857971, -0.5902962272594102, -0.6270300555818286, -0.6569738240076879, -0.6795009036099785, -0.6942374060023442, -0.7010656361861993, -0.7001161092682189, -0.691749567397628, -0.676530519582366, -0.6551938891707184, -0.6286064274492394, -0.5977246506665516, -0.5635511929878643, -0.5270916466385587, -0.48931416311948117, -0.4511142317456125, -0.4132869618810432, -0.37650866475158595, -0.3413284753859065, -0.3081693792783411, -0.27733676561515175, -0.2490319424841938, -0.22336804333229487, -0.20038624148988737, -0.18007086794918004, -0.1623626610805582, -0.14716985719124676, -0.13437714573629078, -0.12385269483515748, -0.11545354182101497, -0.10902967236640637, -0.10442710211249495, -0.10149024042731858, -0.10006376630436664, -0.09999418922156988], [0.027511925221325173, 0.011791068000831073, -0.009225546765318837, -0.035810718145402154, -0.06809226335891383, -0.10601553809942343, -0.14931061608309681, -0.19746897309457934, -0.24973451064039676, -0.30511276047432845, -0.3624000868934051, -0.42023193517056834, -0.4771462704282524, -0.5316560644405306, -0.5823236245663972, -0.6278299226943551, -0.6670335993481392, -0.699016391061798, -0.7231137206396443, -0.7389306776424671, -0.7463444906761201, -0.745494985447889, -0.7367646520228194, -0.7207499885510049, -0.6982258352576919, -0.6701044828994426, -0.637391432462163, -0.6011398006727845, -0.5624055152334917, -0.5222056080142367, -0.48148201527141266, -0.44107316782561057, -0.4016951028562036, -0.3639327746220915, -0.328240884181378, -0.29495232854025244, -0.2642916979876906, -0.2363912471814973, -0.21130724918129729, -0.18903531550441444, -0.16952389692620384, -0.15268566077503887, -0.13840675757368381, -0.12655417410676129, -0.11698146097471396, -0.10953315271934994, -0.10404818952713679, -0.10036261522696854, -0.09831177638491817, -0.09773218975809095], [0.028436414652501796, 0.011788174577087585, -0.010425098790769471, -0.03851046348020115, -0.07262394886240964, -0.11272891665087181, -0.15855890431344455, -0.20959044714602904, -0.2650314953417392, -0.32383000399177386, -0.3847049786770318, -0.44619902242412335, -0.5067479862922175, -0.5647606137743142, -0.6186998530817271, -0.6671580416615184, -0.7089200804828789, -0.7430112383030515, -0.7687285557300884, -0.7856564555461347, -0.793668025615951, -0.7929137405410491, -0.7837994283526957, -0.7669552851796562, -0.74319777834485, -0.7134863539262103, -0.6788769551873491, -0.6404744569690585, -0.599386234899939, -0.5566792056723687, -0.5133427246965284, -0.47025955798041097, -0.4281865721119469, -0.3877457409552595, -0.34942474400925827, -0.31358524892782436, -0.2804763200318263, -0.25025039172218233, -0.2229797179640629, -0.19867187112755125, -0.17728348864385524, -0.15873194588795592, -0.14290495284946236, -0.1296682593743559, -0.1188717474090708, -0.11035422057785449, -0.1039471934182723, -0.09947794876759519, -0.0967720819807536, -0.09565569315219546], [0.02890322408567436, 0.011307277929868409, -0.012128090272059744, -0.04174684642411708, -0.07773613068597252, -0.12008010617867426, -0.16851799357140518, -0.22251251024310092, -0.2812352287123896, -0.3435743057563143, -0.4081674394715721, -0.4734591260599159, -0.5377771966866288, -0.5994203876050727, -0.6567473014708046, -0.7082578658826582, -0.752660805804044, -0.7889237184710732, -0.8163050598101848, -0.8343691305435557, -0.8429859515939784, -0.8423180785748505, -0.8327963297145123, -0.8150863491246527, -0.7900479674619689, -0.7586894148648493, -0.7221185344078747, -0.6814932214544708, -0.6379733851274909, -0.5926767893279524, -0.5466411212530586, -0.5007944166461886, -0.45593537626273983, -0.41272407948242584, -0.3716823240515811, -0.33320168809685047, -0.29755678670818786, -0.2649211908566198, -0.2353839310534489, -0.20896515206056732, -0.18563009933834418, -0.16530109483369504, -0.1478674805513982, -0.13319369895491895, -0.1211257761475808, -0.11149650811236733, -0.10412964382875245, -0.09884332613835678, -0.09545300193896544, -0.09377395622663287], [0.0288779390850884, 0.010314794132118443, -0.014366318701073189, -0.045548924374401834, -0.08345426523466304, -0.12809027816799023, -0.17920431651743418, -0.23624663169835514, -0.29835215796914705, -0.36434708473374167, -0.43278378079969004, -0.5020032089485789, -0.5702190996227032, -0.6356143000003387, -0.6964381076553194, -0.7510944283116756, -0.7982136322367347, -0.8367047270771453, -0.8657876354730767, -0.885007270385631, -0.8942317819166997, -0.8936373093534876, -0.8836813518434495, -0.8650667725851795, -0.838698512699679, -0.8056352175502687, -0.767038080774247, -0.7241192632046398, -0.6780922628295734, -0.6301266070592504, -0.5813091613947832, -0.5326140761162683, -0.4848827769627906, -0.4388144008970414, -0.39496585879486046, -0.35375963396598775, -0.3154968336430197, -0.28037300355612316, -0.2484946480052901, -0.21989501817948964, -0.19454833113177705, -0.172382053666863, -0.15328720729852274, -0.13712684452526047, -0.12374294720065926, -0.11296203493690582, -0.10459976696228668, -0.09846478919599777, -0.09436202996320064, -0.09209559161395697], [0.028325101145978415, 0.008775994180119762, -0.017172710328199337, -0.04994670906851084, -0.0898043973151521, -0.13678061508253458, -0.19063352496942665, -0.2508025072461886, -0.3163857879201353, -0.3861455015159734, -0.4585446206356386, -0.5318150133963037, -0.6040500867780096, -0.6733108606707326, -0.7377324573674887, -0.7956193836988098, -0.8455218008438932, -0.8862895411060667, -0.9171043179015197, -0.9374925730532222, -0.9473218798815064, -0.9467835036026936, -0.9363633239818964, -0.9168031913385096, -0.8890548971262431, -0.8542291223952057, -0.8135418457588065, -0.7682607135751781, -0.7196538311833992, -0.6689433524083206, -0.6172660922832374, -0.5656430587595559, -0.5149591644959912, -0.4659534047888443, -0.41921863474060883, -0.3752090737177143, -0.33425311002728053, -0.296568969427109, -0.26228121799803006, -0.23143666259956852, -0.20401879366750397, -0.17996037981061797, -0.15915414570181707, -0.14146166211957123, -0.1267206812542916, -0.11475119062523031, -0.10536045668008676, -0.09834729915233575, -0.09350579030590356, -0.09062851842420194], [0.02720845387655335, 0.006655217625796572, -0.020581142793291818, -0.05497102207959448, -0.09681303630963711, -0.1461721859811853, -0.20282033627499962, -0.2661878434453637, -0.3353363711656212, -0.4089620270741411, -0.48543431186109076, -0.5628703408586236, -0.6392368774954539, -0.7124671784474608, -0.7805774845683978, -0.8417698440932164, -0.8945127520647745, -0.9375966590023319, -0.9701656789640576, -0.9917288649795706, -1.0021545711958193, -1.0016507313802931, -0.9907332792124826, -0.970184789005476, -0.9410056140832939, -0.9043600650898801, -0.8615203111246111, -0.8138106683885716, -0.7625548208328562, -0.709028347448587, -0.6544186969464165, -0.5997943633316469, -0.5460843649568967, -0.4940681897838818, -0.4443752891335083, -0.39749227070674187, -0.35377542703131115, -0.3134662250684588, -0.2767077629273309, -0.24356076196038567, -0.2140182231350043, -0.1880183320544353, -0.16545551796900648, -0.1461897721880847, -0.13005443911613224, -0.11686273647588163, -0.10641326144549668, -0.09849471143094557, -0.0928900030918538, -0.08937992037162301], [0.025491253538747927, 0.00391615222163777, -0.024626203411306724, -0.060653290892843215, -0.10450698031397598, -0.15628577839204083, -0.21577834311784416, -0.2824081096455202, -0.35520056586244275, -0.4327839752852606, -0.513430328703053, -0.5951362844598085, -0.6757356035807514, -0.753027918571674, -0.8249061346547388, -0.8894671920701616, -0.94509693854829, -0.9905266610873451, -1.0248637751259166, -1.047601164911003, -1.0586093410609383, -1.0581144010757102, -1.0466639384786556, -1.0250829256921141, -0.9944219373979601, -0.9559004626447005, -0.9108482219334668, -0.8606473354903688, -0.8066779758883854, -0.7502698677969323, -0.6926616765151472, -0.6349698818230013, -0.5781680700941879, -0.5230766774469733, -0.4703622128177689, -0.4205441354295061, -0.37400709009474464, -0.33101619430375195, -0.2917334248233363, -0.2562336821281881, -0.22451964858081097, -0.19653500054391237, -0.17217585305449457, -0.15130051757331553, -0.13373776421874295, -0.1192938261745291, -0.10775838663448511, -0.09890976291336084, -0.09251945953987173, -0.08835621172779295], [0.023136649090214956, 0.0005221866743638781, -0.029342874430735355, -0.06702527598070684, -0.1129130786810082, -0.1671416778886896, -0.22951977998637285, -0.29946625287616313, -0.3759710584202016, -0.4575929982843048, -0.5425026117947328, -0.6285704169874259, -0.7134908504918247, -0.7949242232834866, -0.8706360044714792, -0.9386158902709757, -0.9971666580848701, -1.0449611155270047, -1.0810711652057525, -1.1049748386118825, -1.11654613887046, -1.1160307187182723, -1.1040093242208429, -1.08135090284816, -1.049157832109081, -1.0087062620612968, -0.9613847621049558, -0.9086343226185724, -0.8518924360272848, -0.7925435979006171, -0.73187815576441, -0.6710609319455263, -0.6111103747493526, -0.552888135524226, -0.49709804403394253, -0.4442926789442371, -0.39488530518286336, -0.3491649440446225, -0.307312670876454, -0.2694177339484889, -0.23549260129242366, -0.20548647351870297, -0.17929711491416245, -0.15678105762327577, -0.13776234693533618, -0.12204004453991146, -0.10939471173940496, -0.09959407136753118, -0.09239800707633283, -0.08756301124188637], [0.020108135508638103, -0.0035631574242236397, -0.03476613716929622, -0.0741187194054378, -0.12205792312632902, -0.17875938635270927, -0.24405523922125405, -0.3173623711993274, -0.3976361494238655, -0.48336454547245755, -0.5726128751697699, -0.6631199406518572, -0.7524346651790981, -0.838072610946689, -0.9176681798626942, -0.9891023132182875, -1.0505949366991922, -1.1007615621574856, -1.1386400303324968, -1.1636948747765088, -1.1758048173992834, -1.1752362901326883, -1.1626045214771332, -1.1388238774260113, -1.1050500140640847, -1.0626171353626581, -1.0129738718220918, -0.957621060780989, -0.8980542463032744, -0.8357132053155075, -0.7719402986103786, -0.7079488907277296, -0.6448024070344109, -0.5834037860851815, -0.5244942397004114, -0.4686595366407912, -0.4163416484447131, -0.3678535967856057, -0.3233956485608167, -0.2830714728901895, -0.24690336228534537, -0.21484603685188275, -0.18679885878506997, -0.1626164860873398, -0.1421181089552761, -0.1250954630938914, -0.11131982160641685, -0.10054814651771449, -0.09252854404953892, -0.08700512392857651], [0.016370082250459994, -0.008375710078915466, -0.04093048816361278, -0.0819649061954888, -0.1319674577881238, -0.19115726985934334, -0.25939332960813277, -0.3360933416807086, -0.4201793026536599, -0.510067289765595, -0.6037138824812812, -0.698720810112771, -0.7924855472825008, -0.8823738765659292, -0.9658861000752573, -1.0407936365007076, -1.1052345010581137, -1.15776861487559, -1.1974014356335694, -1.2235853182169678, -1.2362047376502605, -1.2355478916090328, -1.2222656065785007, -1.1973189401406719, -1.161918168123072, -1.1174568259352935, -1.0654447072883382, -1.0074433596395873, -0.9450069877282863, -0.8796310242805737, -0.8127100218523782, -0.7455059162450064, -0.6791270377297575, -0.6145174851388663, -0.552455711370778, -0.4935605505508872, -0.43830258869838, -0.38701879049223675, -0.33992858295049344, -0.2971500359356605, -0.25871524239335186, -0.22458440190529627, -0.19465841188606237, -0.16878996994595097, -0.14679330551001546, -0.12845271078200926, -0.1135300504764527, -0.10177141188857708, -0.09291302346995578, -0.08668653037978746], [0.0118883361459583, -0.013950051762213755, -0.04786936249826779, -0.0905941312631724, -0.1426664996100031, -0.20435212771356648, -0.2755402710924437, -0.35565240036792234, -0.44357865952883047, -0.53766252871175, -0.6357487054454806, -0.7352968475413407, -0.8335474490486561, -0.9277120263854122, -1.0151544890018878, -1.0935368294151426, -1.1609168899601885, -1.2158012327869094, -1.257164781014115, -1.28444890242153, -1.2975445749655918, -1.296762438015202, -1.2827897660628214, -1.256635374685405, -1.2195653365524293, -1.1730336529395287, -1.1186122452231555, -1.057924093439609, -0.9925825239068993, -0.9241388412484841, -0.8540397978391892, -0.7835957467996133, -0.7139596574277192, -0.6461164619886316, -0.580881514336405, -0.5189063992531382, -0.46069005265939367, -0.40659317682845175, -0.3568542082760823, -0.31160550886180793, -0.2708888891482235, -0.23466995684225322, -0.20285107453586826, -0.17528290592266238, -0.15177464284993647, -0.13210305780354825, -0.11602053726173667, -0.10326223625106623, -0.09355246493043112, -0.0866103830201701], [0.006630894846964885, -0.020318827832815245, -0.05561446242761914, -0.10003506714254762, -0.1541781623758538, -0.21835867565404388, -0.2924994206108804, -0.3760286737397849, -0.4678065248779153, -0.5661035737736934, -0.6686499853796217, -0.7727588782739789, -0.8755088205986374, -0.9739532915578276, -1.0653184061148349, -1.1471578099692543, -1.217451766627485, -1.274656220585278, -1.3177174965085037, -1.3460669295668177, -1.3596023662959185, -1.3586571804306269, -1.34395563093822, -1.3165551169557559, -1.2777784912881507, -1.2291411826735505, -1.1722780367299122, -1.1088740184310812, -1.0406018615745678, -0.9690687777095184, -0.8957735394277818, -0.8220745694426548, -0.7491690122922852, -0.678082108602639, -0.6096655799625504, -0.5446032656372629, -0.48342202365432707, -0.42650594916372186, -0.37411222599660476, -0.3263873170823599, -0.2833826145170084, -0.24506903632541532, -0.21135033741351616, -0.1820750911255582, -0.1570474080616644, -0.13603651020422158, -0.11878529019898032, -0.10501797322846085, -0.09444697361709209, -0.08677900851024845], [0.0005686431631544142, -0.027511983636684834, -0.06419499333261514, -0.11031403146235186, -0.16652318088025475, -0.23318893889297598, -0.31027072651289833, -0.3972066642117309, -0.4928288348172366, -0.5953351485966494, -0.7023392290504953, -0.8110039282554533, -0.9182417512815726, -1.020945280697989, -1.1162024848812495, -1.2014608355061056, -1.2746265063946642, -1.3341080291783893, -1.3788250455375188, -1.4081994515169696, -1.422135842256862, -1.420990168125911, -1.40552385370622, -1.3768434354489472, -1.336329305849624, -1.2855590779450738, -1.2262311174537486, -1.1600927251474633, -1.0888761254252428, -1.0142442682484607, -0.937747563194828, -0.8607919522224358, -0.7846180916049179, -0.7102908113047576, -0.638697483046303, -0.5705535341398917, -0.5064131655644211, -0.44668339248986666, -0.3916397820854527, -0.3414426334330469, -0.2961527376151081, -0.2557462044619605, -0.22012811054193637, -0.1891449040715858, -0.1625956080951796, -0.14024191265422736, -0.1218172587918056, -0.10703500740289029, -0.09559576511947032, -0.08719391531842913], [-0.006323859636723883, -0.035555930113247536, -0.07363681392111365, -0.12145415784997726, -0.17971913616999613, -0.2488515546465897, -0.32885011276499054, -0.41916569654244973, -0.518604623678997, -0.6252928263916422, -0.7367261828287234, -0.8499145399053673, -0.9616012746295924, -1.0685163481641173, -1.1676104429929133, -1.256228217497405, -1.3322061474173503, -1.3939089375253053, -1.4402313061783372, -1.4705858095973208, -1.484883090317501, -1.4835010117194214, -1.4672379573436716, -1.4372498557838784, -1.3949751445179934, -1.3420541384143652, -1.2802490829461788, -1.2113697309964817, -1.1372076497781705, -1.0594811339747023, -0.9797916290495383, -0.8995918366619429, -0.8201650622572456, -0.7426148188974018, -0.667863237560784, -0.5966565103784346, -0.5295754647859163, -0.4670494481580828, -0.40937195677555016, -0.35671679663014355, -0.30915393670382496, -0.2666645459272907, -0.22915495955593257, -0.19646949226660104, -0.1684021147495378, -0.14470705669107842, -0.12510841080169444, -0.10930880510844321, -0.09699719460022793, -0.08785580534542059], [-0.01406755801890025, -0.044472654926795974, -0.08396151319144685, -0.13347447971815352, -0.19377958842621723, -0.26535098908652066, -0.3482287990422641, -0.4418793371812595, -0.5450855138860297, -0.6559025469298317, -0.7717083435049541, -0.8893582803981186, -1.0054249229806915, -1.116475273207454, -1.219324965903434, -1.3112204641664968, -1.389933803971256, -1.4537897047533648, -1.5016594051488232, -1.5329455931719203, -1.5475635966165011, -1.5459119852494747, -1.5288254864585284, -1.497509353461142, -1.4534602876784242, -1.3983815462305327, -1.3340993395710259, -1.2624857200915958, -1.1853911911540473, -1.1045887530178762, -1.0217300559586155, -0.938313588516701, -0.8556642468558959, -0.7749231427529761, -0.6970461154567581, -0.6228091572626601, -0.5528188839692753, -0.4875262871351532, -0.42724226061607173, -0.3721537345756323, -0.3223396050835694, -0.2777859603871138, -0.238400344915648, -0.2040249625473849, -0.17444881235200982, -0.1494187916601748, -0.12864981197962644, -0.1118339680187781, -0.09864878880197359, -0.0887645884019681], [-0.022678064854573465, -0.054278799527635924, -0.0951854326663133, -0.1463889426939855, -0.20871313041540773, -0.2826866797489527, -0.3683925684100946, -0.46531480395111646, -0.5722152591081802, -0.6870802631484356, -0.8071706778032196, -0.9291875333444481, -1.0495326360978667, -1.1646113629025723, -1.271108081293504, -1.3661769678298803, -1.447531650946305, -1.5134607861131741, -1.5628130802114724, -1.594980076329486, -1.6098797129085307, -1.6079295043372062, -1.5899994907816997, -1.5573438392658405, -1.5115174126715345, -1.4542863318004635, -1.3875405418496376, -1.3132139378640268, -1.233215266497618, -1.149371330509548, -1.0633829142879743, -0.9767931057231374, -0.89096714301983, -0.8070824853600446, -0.7261274841430637, -0.6489068425756762, -0.5760520221364396, -0.508034886212908, -0.4451831313120047, -0.38769638718378985, -0.33566220588554896, -0.28907145563248693, -0.24783285994017246, -0.21178657053953875, -0.18071674496128654, -0.15436313564229143, -0.1324317062573861, -0.11460428764207231, -0.10054727935873453, -0.0899193983209341], [-0.03216483767549638, -0.06498472768258323, -0.10731865823190567, -0.16020536761250526, -0.2245223806371106, -0.3008521203365313, -0.3893209993672281, -0.4894323873325792, -0.599929374430026, -0.718731772391821, -0.8429856312921759, -0.969239677233483, -1.0937271424742934, -1.2126951061719815, -1.3227021547287192, -1.420817362683958, -1.5047025916581598, -1.5726142048856357, -1.6233786424075067, -1.656374187243464, -1.671518591412661, -1.6692460151949975, -1.6504603697063331, -1.6164639607855646, -1.5688693487915795, -1.5095050739182174, -1.4403242266027145, -1.3633217475399917, -1.2804636214385607, -1.193629270260777, -1.104567295210469, -1.0148639825612267, -0.9259234817334736, -0.8389581942462567, -0.7549876588231366, -0.6748440936468696, -0.5991827764340599, -0.5284956022494566, -0.463126426416816, -0.4032871239379303, -0.3490736212253014, -0.3004814352298326, -0.257420463854938, -0.21972890584351723, -0.18718626013120865, -0.1595253838184314, -0.13644359424112884, -0.11761279892910492, -0.10268863594680888, -0.09131860953141135], [-0.04253039493418287, -0.07659361539297516, -0.12036401094433824, -0.17492439112374636, -0.24120294007058352, -0.3198339088676274, -0.4109866815087828, -0.5141849043554443, -0.628154883782822, -0.7507527823943205, -0.8790135044355373, -1.0093377552755962, -1.1377949372624647, -1.2604795133607394, -1.3738316425848998, -1.474843679713846, -1.5611327155969545, -1.6309261620852749, -1.6830275980416431, -1.716799054975543, -1.732154623293237, -1.72954232454849, -1.7098981033495577, -1.6745712409896356, -1.625231122856225, -1.5637678464427252, -1.4921966523644843, -1.4125723538729704, -1.3269168315101312, -1.2371606491285212, -1.1450986566940047, -1.0523587284161318, -0.9603823222740216, -0.8704152381277693, -0.7835067660260867, -0.7005153550826168, -0.6221190012479813, -0.5488287400574822, -0.4810039075084097, -0.4188681519348024, -0.362525491696708, -0.31197597695626755, -0.2671307064627644, -0.22782606992385834, -0.1938371465829789, -0.16489021198578335, -0.14067430806920922, -0.1208518313795639, -0.10506809795413563, -0.0929598530360971], [-0.05376960273919118, -0.0891005952368571, -0.134316069785682, -0.19053841418619233, -0.2587423384086174, -0.3396107802609256, -0.43335443137148766, -0.5395171984999976, -0.6568102002027617, -0.7830292410800375, -0.9151032512150002, -1.0492917238088877, -1.1815079707776004, -1.3077022710596582, -1.4242057329186222, -1.5279434137272114, -1.6164946337488182, -1.6880604434502566, -1.7414199698006485, -1.7759151627307874, -1.791452405622584, -1.7884903931087437, -1.767994890094832, -1.7313605702206387, -1.680312307649319, -1.6168004199288653, -1.5429008490984297, -1.4607266964415737, -1.372354036567639, -1.2797627928155815, -1.1847922437797116, -1.0891100381630192, -0.9941931802968672, -0.9013192015919231, -0.8115656144682234, -0.7258157455946773, -0.6447691606880679, -0.5689551099827127, -0.4987477119923772, -0.4343819107273219, -0.3759695427421347, -0.3235150988279507, -0.2769309415500303, -0.23605184413406866, -0.20064876354210104, -0.17044177329656218, -0.14511208100458473, -0.12431305629274036, -0.10768020356379449, -0.09484003090950299], [-0.06586906294724937, -0.10249198962650596, -0.14916026117914316, -0.20703058956875875, -0.2771189940033554, -0.36015263914789564, -0.45638051499648846, -0.5653656817114431, -0.6858051260307808, -0.8154379185549967, -0.9510937089630368, -1.088900324395031, -1.2246261311181614, -1.3540888203429455, -1.4735219826686992, -1.5797935869849675, -1.6704517414733373, -1.7436726456527487, -1.7982083254271646, -1.8333761142713767, -1.8490702464834556, -1.8457566044721583, -1.8244282021377929, -1.7865230607058837, -1.7338196790491085, -1.668326720766719, -1.5921788780252908, -1.5075455102501905, -1.4165548047294843, -1.32123394858239, -1.2234645782324456, -1.1249521091799226, -1.0272071842071409, -0.931537293668224, -0.8390465688635764, -0.7506418098086188, -0.6670429705759604, -0.5887965715452691, -0.5162908091454641, -0.44977145082760517, -0.38935789502378604, -0.33505901012254835, -0.28678852671354815, -0.24437984584755568, -0.20760015998825243, -0.1761637867314565, -0.14974461051758992, -0.12798752913999323, -0.1105188154267358, -0.09695532866579759], [-0.07880663200721583, -0.11674466705716746, -0.1648720501432479, -0.22437387832932165, -0.2963012069487567, -0.38141959827074934, -0.48001186653924144, -0.5916578886792778, -0.7150409210813293, -0.8478471740237201, -0.9868152007748934, -1.1279535596372265, -1.2669005521725993, -1.399356423510757, -1.5214710128420936, -1.6300658368825978, -1.7226633976048524, -1.7974151889672443, -1.853042480719997, -1.888832991318369, -1.9046641979504748, -1.9010055065037146, -1.8788742584149503, -1.8397492621423428, -1.785460178318976, -1.7180715421618138, -1.6397742942185771, -1.5527915452397778, -1.4593011170138168, -1.3613750461243677, -1.260935009279718, -1.1597219974094144, -1.0592782530579594, -0.9609393643620103, -0.865834421537505, -0.7748922605936439, -0.6888520260634929, -0.608276559765893, -0.5335674374412985, -0.46498079327845154, -0.40264335653239103, -0.3465683454323927, -0.29667100792237866, -0.25278367126543855, -0.2146701826230497, -0.18203961632324583, -0.15455911406099299, -0.13186572642316285, -0.11357714242760619, -0.09930122511927264], [-0.09255109651358695, -0.13182555320883438, -0.18141626685833723, -0.24253020364298106, -0.31624619954126887, -0.4033610159610791, -0.5041852725695368, -0.6183119861228445, -0.7444103495183678, -0.8801177881989077, -1.0220913841039105, -1.166235679075745, -1.308077708693642, -1.4432192147026048, -1.5677422424436935, -1.678432463911954, -1.77279092079231, -1.8489430126907573, -1.9055747929031606, -1.9419392450180373, -1.957892581711246, -1.9539040025360537, -1.9310118975814032, -1.8907327223844959, -1.8349441634387451, -1.7657634904725459, -1.6854347954527082, -1.596231928652439, -1.500379457547855, -1.3999915328024684, -1.2970273131799972, -1.1932610018666958, -1.0902642870108248, -0.9893989217127619, -0.8918172557600459, -0.7984687069878298, -0.7101104109144247, -0.6273205909885092, -0.5505135205972819, -0.4799552682383219, -0.41577969479016275, -0.35800438044437966, -0.30654628779212345, -0.2612370241123858, -0.2218375719597856, -0.188052340691782, -0.15954237722467357, -0.13593757680604845, -0.11684775740874676, -0.10187249966308842], [-0.10706202624844252, -0.1476913251118308, -0.19874660120255294, -0.2614497310466499, -0.3368992181262407, -0.4259145210933728, -0.528826480355534, -0.6452361654633653, -0.7737976022841867, -0.9121037242563643, -1.0567411865620238, -1.2035285266829827, -1.3479041825162652, -1.4853941269315047, -1.61203051677249, -1.724573246969946, -1.8205041934702422, -1.897919768136541, -1.9554659047238814, -1.9923560254824475, -2.0084209418982866, -2.0041259443343122, -1.9805268117090546, -1.939173858310328, -1.881988917270653, -1.8111381369679522, -1.7289150296784133, -1.6376406451402297, -1.5395829869649122, -1.4368952636958723, -1.33157132495553, -1.2254160636884561, -1.120028359005375, -1.0167941403016039, -0.9168872936901875, -0.8212763622579115, -0.7307352843353232, -0.6458567451615952, -0.5670670601517634, -0.4946418310465437, -0.42872188812121603, -0.36932922880597663, -0.31638277722187436, -0.26971383008532457, -0.22908104655316652, -0.19418481301268398, -0.16468079445772088, -0.1401924867427593, -0.1203226110909601, -0.10466323720556514], [-0.12228981907490377, -0.16428831209911232, -0.21680529772995394, -0.2810703103453589, -0.35819272206842423, -0.44900502758051286, -0.5538492018165286, -0.6723278655242972, -0.8030780250035031, -0.9436527277241814, -1.090580707326099, -1.2396150923020737, -1.3861319055075767, -1.5256074457808826, -1.6540433134461154, -1.76818267426116, -1.8654885443194598, -1.9440242440067648, -2.00239074572901, -2.039757812475599, -2.0559273246273304, -2.051357047487983, -2.0271160739259204, -1.9847840785827782, -1.9263223609650995, -1.8539413292459637, -1.769979520759201, -1.6768010993861315, -1.5767137686814352, -1.4719064208493622, -1.3644045810250192, -1.2560411624282584, -1.1484398938683347, -1.0430088504901953, -0.9409417207947948, -0.8432247260922852, -0.7506474410808307, -0.6638161216719162, -0.5831685027275234, -0.5089893547334937, -0.44142635555563536, -0.38050602007879364, -0.3261495306978981, -0.2781883375568486, -0.23637937598670677, -0.20041971208997578, -0.16996040303444127, -0.14461936125332953, -0.12399304279480527, -0.10766683131013788], [-0.13817594513853892, -0.18155262261326022, -0.23552308543279077, -0.30131712823389134, -0.38004571519644104, -0.4725437851204447, -0.5791540409380879, -0.6994728415496448, -0.8321176743885411, -0.9746067930098485, -1.1234250710602145, -1.2742831449341656, -1.4225236021153043, -1.5636015618763242, -1.69350801010764, -1.808977079897863, -1.9074514791290151, -1.9869566979404754, -2.0460445534658467, -2.0838381707734652, -2.1001077450973535, -2.0953000135955304, -2.070492861198161, -2.0272900731291634, -1.9676868991140481, -1.8939325990704847, -1.808405658355056, -1.7135087153507698, -1.6115850096155828, -1.5048554299838615, -1.395373946970812, -1.2849986890569614, -1.175375818816833, -1.0679334961507254, -0.9638834776661654, -0.8642282344368692, -0.769771840419011, -0.6811332659504282, -0.5987610804607894, -0.5229488984014073, -0.4538511654822891, -0.39149905937532636, -0.33581636617304644, -0.286635205623742, -0.24371144378802234, -0.20673958570746764, -0.17536691139008398, -0.14920662088853653, -0.12784978890087384, -0.11087598636630669], [-0.15465339127571331, -0.19941051159536993, -0.2548193801060934, -0.32210264106587205, -0.40236332265344776, -0.4964275932808646, -0.604627481836642, -0.7265442268864765, -0.8607728714059317, -1.0048026749974315, -1.155090344568908, -1.3073288597159842, -1.456858058885491, -1.5991413156617358, -1.7301785309275761, -1.8467010748138954, -1.9461287845795991, -2.0264447448097798, -2.08614865202998, -2.124315419609598, -2.1406816638992385, -2.135679705055218, -2.1103912393014834, -2.066438155736435, -2.0058433003459752, -1.9308885854964672, -1.8439866840720613, -1.747573515847745, -1.644023269170852, -1.5355848372848715, -1.4243372006169897, -1.312160772273097, -1.2007216673600818, -1.091466047371295, -0.9856220093950235, -0.8842068701022585, -0.7880380994534221, -0.6977465642024353, -0.6137911233703318, -0.5364739513108683, -0.4659562236465029, -0.40227396979156804, -0.3453539709544138, -0.29502958109861166, -0.2510563019175718, -0.21312688786570577, -0.1808857233355632, -0.1539422162591919, -0.13188299027192674, -0.11428271985736638], [-0.17164730097945213, -0.21777899911255516, -0.2746028000685701, -0.3433268780090126, -0.4250367706452206, -0.5205384086877458, -0.630141225345208, -0.7534019099053549, -0.8888900845612202, -1.0340727431582888, -1.1853956773652796, -1.3385603232750019, -1.488934757775514, -1.632019233307969, -1.7638406499758363, -1.8811326815542149, -1.9812895717531696, -2.062248479217212, -2.122455723897728, -2.16093798164877, -2.17739725956112, -2.1722481824295943, -2.146570844907469, -2.1019985194292934, -2.0405744957390444, -1.9646063756532748, -1.8765345935478912, -1.7788226169756567, -1.6738705836919805, -1.5639511042069618, -1.4511645373536242, -1.3374105325305987, -1.2243726171579008, -1.1135128537162722, -1.0060739621426942, -0.9030867270441645, -0.8053809462857866, -0.7135986037596325, -0.6282083427019887, -0.549520652848588, -0.47770344147821286, -0.4127978191601419, -0.3547339954447356, -0.3033471664391778, -0.2583932188446014, -0.21956401184406982, -0.18650195995390884, -0.15881364175899404, -0.13608220007549465, -0.11787836597129764], [-0.1890758009071274, -0.23656674626173824, -0.2947720344198077, -0.3648782147720877, -0.44794396402090453, -0.5447436601591309, -0.6555523021882349, -0.7798927147076469, -0.9163066037437403, -1.0622465076384358, -1.2141657669611094, -1.36780072110784, -1.5185773988712012, -1.6620590489553648, -1.7943154003829744, -1.912086762110342, -2.012739962563356, -2.0941645848332886, -2.154754334301057, -2.1934891682762383, -2.2100362613909077, -2.2047893879892175, -2.1788212751343536, -2.1337692434144246, -2.0716891606493837, -1.99490665265435, -1.9058828646039099, -1.8071025651297026, -1.7009864489008997, -1.5898262750838965, -1.47573996259514, -1.3606432369046129, -1.246234441622897, -1.133989423195964, -1.0251638163651777, -0.9208005211888575, -0.8217406285853531, -0.7286364967141714, -0.6419660845030476, -0.5620479888079831, -0.4890568860125657, -0.4230392329308943, -0.3639291368585109, -0.3115642808694217, -0.26570172346129395, -0.2260333212387069, -0.19220048116542277, -0.16380795026776207, -0.14043639357855264, -0.12165358191166842], [-0.20685100123739186, -0.2556751876822356, -0.3152170921844928, -0.38663470411044365, -0.4709508461666264, -0.5688975942011736, -0.6807044285071595, -0.8058519237826598, -0.942852471381595, -1.0891530715543158, -1.2412336334602114, -1.3948909765852535, -1.5456359975183551, -1.6891172385444977, -1.8214604105413512, -1.9394166319827764, -2.040325320039666, -2.122029288701384, -2.18287251195294, -2.2217911694414703, -2.2384181028887467, -2.233123249331843, -2.206965983665705, -2.1615798797075603, -2.0990249365224107, -2.0216365331158883, -1.9318889166073234, -1.8322814410185757, -1.7252496008113796, -1.6130994712285844, -1.4979625357451818, -1.3817673277590057, -1.2662243550970276, -1.152821112244366, -1.042824446327334, -0.9372880408713826, -0.8370632733226419, -0.74281216467677, -0.6550215528517483, -0.5740179645737907, -0.4999829128125496, -0.4329684951199666, -0.3729132151536546, -0.31965791705126945, -0.27296164717539395, -0.2325171812019231, -0.19796590901020683, -0.16891177067226493, -0.14493398152663706, -0.12559835829820765], [-0.22488015317033594, -0.2749999095436957, -0.33582093727448137, -0.40846600325691385, -0.493913646348339, -0.5928438549771339, -0.705430916832447, -0.8311065034368279, -0.9683539454064564, -1.114624587846784, -1.266443602146668, -1.41969171116274, -1.5699875656135276, -1.7130827509586954, -1.8451694290423717, -1.9630140756809795, -2.0639311196057957, -2.145720126930606, -2.2066802492156348, -2.245708050699434, -2.262403176912054, -2.2571089893290233, -2.23086548916172, -2.1852944507097063, -2.1224511507267767, -2.0446719777192013, -1.954436207175072, -1.85425065628859, -1.7465595369363975, -1.6336781665515485, -1.517747431312551, -1.400705299310042, -1.2842717323881088, -1.169943712774303, -1.0589975961417668, -0.9524965303947444, -0.8513011937350001, -0.7560825827044264, -0.6673360022873229, -0.5853957558587249, -0.5104502833132003, -0.4425576392454862, -0.381661243373964, -0.3276057956060101, -0.2801531664547878, -0.23899799203991012, -0.20378265463017842, -0.17411132998007028, -0.14956282866443704, -0.12970203499822297], [-0.24306694145679253, -0.29443224686483593, -0.3564614787591073, -0.4302358638726731, -0.516681978772655, -0.6164192661544524, -0.7295591117103879, -0.8554799803044371, -0.9926383829268167, -1.1385005500961545, -1.2896543555117128, -1.4420845791112331, -1.5915357238548238, -1.733875499953377, -1.8653706180204235, -1.9828081956943797, -2.0834826914691593, -2.165156574818364, -2.2260908515233515, -2.2651476164682265, -2.28189502036018, -2.2766474646942245, -2.2504197280491205, -2.2048137078236656, -2.1418709060474974, -2.0639196684089987, -1.9734358802219398, -1.87292637460979, -1.7648377246206288, -1.6514892037468552, -1.5350267860117417, -1.4173943986715027, -1.300318685356729, -1.1853039237971672, -1.0736342635835276, -0.9663810009102445, -0.8644131400228796, -0.7684099806709505, -0.6788748990580288, -0.5961498375970394, -0.5204302678829942, -0.4517805309905123, -0.3901494943897029, -0.3353864195641034, -0.2872568478779711, -0.2454582271167549, -0.2096349507406592, -0.1793924816304675, -0.15431027880539805, -0.13395332360229806], [-0.2613128826207345, -0.3138610555360346, -0.37701384419249817, -0.4518050641983703, -0.5391025957624968, -0.6394585068852108, -0.7529159135134122, -0.8787984316960185, -1.0155399982380007, -1.1606324911658759, -1.3107418822960084, -1.461973152813114, -1.6102097533945448, -1.7514443037557292, -1.8820242691870832, -1.9987635729314301, -2.0989441059475333, -2.1802996480800294, -2.2410611332471073, -2.2800620710120123, -2.29684132364725, -2.291682412088841, -2.265569428331102, -2.2200765351998277, -2.157222437197465, -2.079318265336795, -1.9888278942459299, -1.888250500485284, -1.7800284520743443, -1.6664795167791637, -1.5497503057598692, -1.431787131783848, -1.3143204820691328, -1.1988596971358576, -1.0866949843548226, -0.9789044637538449, -0.8763644908287833, -0.7797620006107837, -0.6896080508378284, -0.606252091469062, -0.5298967356529891, -0.46061294401700414, -0.39835556566852626, -0.342979130455052, -0.29425369738557716, -0.2518804766759233, -0.21550689107556775, -0.18474074133528773, -0.1591631876226718, -0.1383403375570409], [-0.2795187911709671, -0.33317459560802853, -0.39735282530394533, -0.4730345903932278, -0.5610234703182712, -0.6617991722430855, -0.7753336741889202, -0.900896734573359, -1.0369056736632722, -1.180888500800539, -1.3296020986250419, -1.479283513369803, -1.6259635193830144, -1.7657648179170942, -1.8951204478635857, -2.0108781154882265, -2.1103164391378693, -2.1911506057949257, -2.2515905193130803, -2.2904474873966114, -2.3072337391417195, -2.3022005506905474, -2.276296439056119, -2.2310604289303653, -2.1684796677542604, -2.090838984390943, -2.0005815808937566, -1.9001911950744543, -1.7920992897732475, -1.6786165344765194, -1.5618856132466012, -1.4438515596302461, -1.326245797675708, -1.2105804493578076, -1.09815001126101, -0.9900380825307501, -0.8871273832192555, -0.7901118088596354, -0.699509704572028, -0.6156778923337975, -0.5388262318250839, -0.4690326299260168, -0.40625844323447446, -0.3503641672629849, -0.30112521495525124, -0.25824749874818553, -0.22138247788908139, -0.19014133142761747, -0.16410796402600414, -0.1428506307053139], [-0.29758626826904266, -0.35226244759336545, -0.41735536013967145, -0.4937888356013542, -0.5822978322051143, -0.6832866530184809, -0.7966557063519036, -0.9216242022568022, -1.0566000067811085, -1.1991569779717466, -1.346152883664133, -1.4939645834482622, -1.638774478729624, -1.7768377299775087, -1.9046768186903793, -2.0191808064293237, -2.1176355866126264, -2.1977488912749665, -2.2577191638377294, -2.2963421684841467, -2.313106541570814, -2.30823056413618, -2.2826230145741686, -2.2377810355595673, -2.1756519438784783, -2.0984854697365853, -2.008695609623431, -1.9087428978459622, -1.801041144544792, -1.6878882509568531, -1.571418324839165, -1.453571376074504, -1.33607679047072, -1.2204471351004313, -1.107979384844766, -0.9997612415858192, -0.8966807796647895, -0.7994381621522174, -0.708558612119463, -0.6244061736135076, -0.5471980427716363, -0.47701938285651435, -0.4138385654169454, -0.35752272890389425, -0.3078534553685024, -0.2645422777970061, -0.22724567812661878, -0.19557923427988322, -0.1691306206275005, -0.14747124467509787], [-0.31541916212030197, -0.37101737659415723, -0.4369029100846864, -0.5139385895961331, -0.6027878141438673, -0.70377835846114, -0.8167408165714015, -0.940848976382836, -1.0745090211966444, -1.215349202488654, -1.3603353102634181, -1.505988132489874, -1.6486427674097346, -1.7846872265018945, -1.9107366804131005, -2.023729412339618, -2.1209697273505395, -2.20016944551211, -2.2595252353646487, -2.2978240436821125, -2.3145342617602442, -2.309841053326558, -2.284610115945687, -2.2402907886005092, -2.17878296650001, -2.1022929719460697, -2.01319736237356, -1.9139258543021136, -1.8068679047942215, -1.6943029606503566, -1.5783518544888695, -1.4609457651843087, -1.343809001313127, -1.228452180311849, -1.1161728943236362, -1.0080615299860816, -0.9050104713778662, -0.8077254272253468, -0.7167380633868571, -0.6324194714393455, -0.5549942488218105, -0.4845550986835384, -0.4210778863994902, -0.3644370402714354, -0.3144210951433677, -0.27074809119404697, -0.23308048836935602, -0.2010392549005826, -0.17421683340450933, -0.1521887652192011], [-0.3329249484674537, -0.3893370619917128, -0.45588360466865707, -0.5333636331766574, -0.6223674576081816, -0.7231469796597269, -0.8354665446947669, -0.9584608844928956, -1.0905423112994501, -1.2294005674384119, -1.372113965441694, -1.5153483573087279, -1.6555902435805883, -1.7893595941089169, -1.9133671060355488, -2.0246081268927885, -2.120416500147188, -2.1985195255090457, -2.2571215415276935, -2.29500728538208, -2.311628465937263, -2.307137607154241, -2.2823548466897603, -2.238676731709682, -2.177948986488984, -2.1023268773699573, -2.014141749919829, -1.9157851714937593, -1.8096156916611859, -1.697888667959717, -1.582706951444907, -1.465989042636146, -1.349451079483312, -1.2345992774184569, -1.1227299300851685, -1.0149346417189977, -0.9121090183053431, -0.814963553918794, -0.7240358867234078, -0.6397039471665213, -0.5621997642387176, -0.49162382826247397, -0.42795993899781604, -0.37109042129443004, -0.32081150511294143, -0.27684858305611404, -0.23887100814173645, -0.20650609235809303, -0.17935201026347358, -0.15698938725846756], [-0.35001598365515985, -0.4071256226671893, -0.474194056991999, -0.5519548147779209, -0.6409249450261106, -0.7412826807118614, -0.852731054119876, -0.9743727845045985, -1.1046337000866089, -1.2412705609128691, -1.38147640097991, -1.5220609897085755, -1.659659352388894, -1.7909217846921666, -1.9126570529792688, -2.021925100194837, -2.1160999421666715, -2.1929351580108793, -2.25065167472935, -2.2880383488023934, -2.304533883050758, -2.3002591760050537, -2.2759871810148113, -2.2330576570696365, -2.1732563632456747, -2.0986806649200975, -2.011609526479127, -1.914389442734333, -1.809341746154421, -1.6986921932401167, -1.5845209873513943, -1.4687300923273556, -1.3530243428433275, -1.2389030478812328, -1.1276592314053646, -1.0203841944161964, -0.9179756270535138, -0.8211480022677826, -0.7304444164800515, -0.6462493877337787, -0.5688023635662567, -0.4982118237154688, -0.4344698955729668, -0.3774673578959775, -0.3270088275780645, -0.282827844447304, -0.24460152068280872, -0.21196441923829834, -0.18452136781693707, -0.16185898803944898]], \"zauto\": true, \"zmax\": 2.3145342617602442, \"zmin\": -2.3145342617602442, \"type\": \"contour\", \"uid\": \"bb30ecad-c9c8-4f73-91ee-177694146ee8\"}, {\"autocolorscale\": false, \"autocontour\": true, \"colorbar\": {\"tickfont\": {\"size\": 8}, \"ticksuffix\": \"\", \"x\": 1, \"y\": 0.5}, \"colorscale\": [[0.0, \"rgb(255,247,251)\"], [0.14285714285714285, \"rgb(236,231,242)\"], [0.2857142857142857, \"rgb(208,209,230)\"], [0.42857142857142855, \"rgb(166,189,219)\"], [0.5714285714285714, \"rgb(116,169,207)\"], [0.7142857142857143, \"rgb(54,144,192)\"], [0.8571428571428571, \"rgb(5,112,176)\"], [1.0, \"rgb(3,78,123)\"]], \"contours\": {\"coloring\": \"heatmap\"}, \"hoverinfo\": \"x+y+z\", \"ncontours\": 25, \"x\": [0.0, 0.02040816326530612, 0.04081632653061224, 0.061224489795918366, 0.08163265306122448, 0.1020408163265306, 0.12244897959183673, 0.14285714285714285, 0.16326530612244897, 0.18367346938775508, 0.2040816326530612, 0.22448979591836732, 0.24489795918367346, 0.26530612244897955, 0.2857142857142857, 0.3061224489795918, 0.32653061224489793, 0.3469387755102041, 0.36734693877551017, 0.3877551020408163, 0.4081632653061224, 0.42857142857142855, 0.44897959183673464, 0.4693877551020408, 0.4897959183673469, 0.5102040816326531, 0.5306122448979591, 0.5510204081632653, 0.5714285714285714, 0.5918367346938775, 0.6122448979591836, 0.6326530612244897, 0.6530612244897959, 0.673469387755102, 0.6938775510204082, 0.7142857142857142, 0.7346938775510203, 0.7551020408163265, 0.7755102040816326, 0.7959183673469387, 0.8163265306122448, 0.836734693877551, 0.8571428571428571, 0.8775510204081632, 0.8979591836734693, 0.9183673469387754, 0.9387755102040816, 0.9591836734693877, 0.9795918367346939, 1.0], \"xaxis\": \"x2\", \"y\": [0.0, 0.02040816326530612, 0.04081632653061224, 0.061224489795918366, 0.08163265306122448, 0.1020408163265306, 0.12244897959183673, 0.14285714285714285, 0.16326530612244897, 0.18367346938775508, 0.2040816326530612, 0.22448979591836732, 0.24489795918367346, 0.26530612244897955, 0.2857142857142857, 0.3061224489795918, 0.32653061224489793, 0.3469387755102041, 0.36734693877551017, 0.3877551020408163, 0.4081632653061224, 0.42857142857142855, 0.44897959183673464, 0.4693877551020408, 0.4897959183673469, 0.5102040816326531, 0.5306122448979591, 0.5510204081632653, 0.5714285714285714, 0.5918367346938775, 0.6122448979591836, 0.6326530612244897, 0.6530612244897959, 0.673469387755102, 0.6938775510204082, 0.7142857142857142, 0.7346938775510203, 0.7551020408163265, 0.7755102040816326, 0.7959183673469387, 0.8163265306122448, 0.836734693877551, 0.8571428571428571, 0.8775510204081632, 0.8979591836734693, 0.9183673469387754, 0.9387755102040816, 0.9591836734693877, 0.9795918367346939, 1.0], \"yaxis\": \"y2\", \"z\": [[0.5955337375399932, 0.588948730107302, 0.5826525354711068, 0.5767234022015845, 0.5712258145873159, 0.5662043335193235, 0.5616777841606914, 0.5576344873199781, 0.5540292532340603, 0.5507827571157968, 0.5477836972031488, 0.5448938339615941, 0.5419556844856442, 0.5388023654285716, 0.5352688909450584, 0.5312041584101049, 0.526482881114699, 0.5210168182122561, 0.5147647641968505, 0.5077408535403435, 0.5000207816928354, 0.49174552346864175, 0.48312203549375654, 0.47442026457098513, 0.46596557851096587, 0.45812557726119807, 0.4512903125391031, 0.4458455272431871, 0.4421399048701432, 0.44044951271538135, 0.4409450534313426, 0.4436689727960218, 0.4485285910480054, 0.4553078893493432, 0.4636956529102991, 0.473323578751547, 0.4838063956481002, 0.4947771662768106, 0.5059136140556434, 0.5169541365461225, 0.5277042443640827, 0.5380352776479669, 0.5478775967004696, 0.5572103326687692, 0.5660494745666039, 0.5744357116170463, 0.5824231087160066, 0.5900693814218917, 0.5974282503813793, 0.6045440896812034], [0.5899186331760127, 0.5829386753159794, 0.5762582067657075, 0.569962577808208, 0.5641234928169153, 0.5587923234409751, 0.5539936594709114, 0.5497198647050706, 0.5459274541009045, 0.5425360176189318, 0.5394301813694521, 0.536464756038169, 0.5334728475089302, 0.5302763761120404, 0.526698231666428, 0.5225752067660231, 0.5177708858671694, 0.5121877797890991, 0.5057781313338607, 0.49855293037337367, 0.4905887316626392, 0.48203184508248703, 0.47309935600645764, 0.4640762353283694, 0.4553075443628987, 0.44718452363487904, 0.4401233849479859, 0.4345362421785956, 0.4307951758740857, 0.4291929846104206, 0.4299070562683279, 0.4329744886306563, 0.4382854871481831, 0.44559779542356825, 0.4545691037356018, 0.46479978242612596, 0.4758768341505823, 0.4874116122477305, 0.49906710227124557, 0.5105737479864483, 0.5217349898451066, 0.5324247404752703, 0.5425792505309931, 0.5521856005812498, 0.5612686721198795, 0.5698780531019519, 0.5780759733076739, 0.5859270441647251, 0.5934902833205195, 0.6008136287124229], [0.584061241848647, 0.5766649159305657, 0.5695786466619165, 0.5628954360834851, 0.5566949053339671, 0.5510360530184186, 0.5459501128744658, 0.5414343529439856, 0.5374477425959392, 0.5339093368919356, 0.5306999772824366, 0.5276675231007467, 0.5246353934339215, 0.5214138127635738, 0.5178128950986326, 0.5136566033979786, 0.5087966671461444, 0.5031256789626943, 0.49658875677871356, 0.4891932943224754, 0.4810163891320469, 0.47220951043633314, 0.4629998376760192, 0.45368746534816445, 0.44463736140281207, 0.4362646866351959, 0.42901206824470256, 0.4233180732582791, 0.41957788989853423, 0.418100192444615, 0.4190675436308128, 0.4225096516750826, 0.42829739599297806, 0.4361603933234251, 0.4457240987522781, 0.4565573665408182, 0.4682201740520162, 0.48030351220767714, 0.4924573159109159, 0.5044058318891889, 0.5159520666680726, 0.5269739147806567, 0.5374146582593232, 0.5472701988005486, 0.5565749325144309, 0.5653877462286413, 0.5737792417824344, 0.5818209692833419, 0.589577150371639, 0.5970990873062794], [0.5779546456905476, 0.5701197302285531, 0.5626052460801281, 0.5555124060225031, 0.5489294753696208, 0.5429239522797302, 0.5375346747073664, 0.5327647747074902, 0.5285765300105739, 0.5248891073812817, 0.5215799274842409, 0.5184899466973143, 0.5154326453815985, 0.5122060560318493, 0.5086068579323252, 0.5044454510232613, 0.4995609815033855, 0.49383546174430826, 0.4872063288757495, 0.4796769511886583, 0.4713246720430999, 0.46230595069380864, 0.4528580060567811, 0.4432960935055359, 0.43400517720197995, 0.4254244121219949, 0.41802278910410173, 0.4122649931963672, 0.4085685176783238, 0.40725649975521144, 0.40851466064737835, 0.41236294374986104, 0.4186506330451503, 0.42707758152719516, 0.43723637676227795, 0.44866481017963855, 0.4608971782265313, 0.47350600006332094, 0.48613024197826415, 0.4984899522124996, 0.5103894514716611, 0.5217120409460785, 0.5324091265334452, 0.5424862171235895, 0.5519877425273749, 0.5609821814887199, 0.5695486124293951, 0.5777654737985549, 0.5857020173493624, 0.5934126428231666], [0.5715926427544671, 0.563296192176906, 0.5553302623897979, 0.5478048358091785, 0.5408175722677626, 0.5344453938491838, 0.5287357838945419, 0.523698801540955, 0.5193009996058499, 0.5154624095286507, 0.5120574808307561, 0.5089203721914352, 0.5058544008910979, 0.5026449163601174, 0.49907449774484336, 0.49493924194466454, 0.49006498556037104, 0.48432251367653767, 0.47764105419067243, 0.4700195556104291, 0.46153534359096393, 0.4523497175154325, 0.44270987048295873, 0.4329461949748696, 0.4234636050034402, 0.4147250854124827, 0.4072255738484553, 0.40145503682324246, 0.397851856464643, 0.3967515701680711, 0.3983404835407888, 0.40262608372474706, 0.40943382323661226, 0.41843254668080404, 0.42918199417302005, 0.44119010051683016, 0.45396752719159855, 0.46707076493886107, 0.4801302633974332, 0.4928640710061563, 0.5050796372742108, 0.516667068755954, 0.5275869050154887, 0.5378549362056271, 0.5475260225512765, 0.5566784072094609, 0.5653996383416717, 0.5737748943243054, 0.5818782003735914, 0.5897667200685781], [0.5649699347920334, 0.5561883863275799, 0.5477470629820361, 0.5397652644379146, 0.5323508078879471, 0.5255910082737832, 0.5195431143621518, 0.514225282561899, 0.509609428926205, 0.5056173199634441, 0.5021209800258646, 0.4989479400396981, 0.4958911616916271, 0.4927228267114211, 0.48921074235568296, 0.48513595667456255, 0.4803102754569457, 0.474592630690066, 0.46790354959491226, 0.46023721369238313, 0.4516707144699077, 0.44237007392586325, 0.43259239246362796, 0.4226831156014842, 0.41306691129221473, 0.40423015698918796, 0.3966928942094974, 0.39096894674245947, 0.3875154579529535, 0.3866775719820143, 0.3886390195722645, 0.393391874637469, 0.4007356781455029, 0.410307570017321, 0.421635254926324, 0.43419885777871964, 0.447488179755647, 0.4610466588734745, 0.47449900316114496, 0.4875636051764002, 0.5000528731851935, 0.5118650496455615, 0.5229707029469349, 0.5333964437422521, 0.5432078215461218, 0.5524928860870248, 0.5613475315854964, 0.5698634277104166, 0.5781190341807628, 0.5861738804550223], [0.5580823256419443, 0.5487916360887773, 0.5398503860025538, 0.5313877151079647, 0.5235223597978984, 0.516353030981388, 0.5099479371620573, 0.5043346117627211, 0.49949155226976233, 0.49534326017994096, 0.4917599890306466, 0.4885628856959263, 0.485534400399068, 0.4824330700675604, 0.47901125117169596, 0.4750341907724143, 0.4702989492221797, 0.4646520053925159, 0.4580047392461416, 0.45034627593967913, 0.4417533156164234, 0.43239652934394457, 0.42254286396624247, 0.4125526725353247, 0.4028700155224727, 0.3940039155485616, 0.3864981866147952, 0.38088841473172314, 0.3776475796221311, 0.37712685247131356, 0.37950365517309453, 0.38475151778226424, 0.3926422973494505, 0.40278144170473634, 0.414666341856264, 0.4277522496828677, 0.44151159621241154, 0.45547822180899583, 0.4692741232583543, 0.4826204615154642, 0.4953363956052061, 0.507329526727541, 0.5185812054353204, 0.5291292498205666, 0.5390500093579533, 0.5484412468315941, 0.5574069602610399, 0.5660449626701063, 0.5744377299684195, 0.5826466997543085], [0.5509269273071306, 0.5411027420883167, 0.53163661484259, 0.5226680071741854, 0.5143273185229728, 0.5067256788365249, 0.4999435170543616, 0.4940191333914375, 0.4889389633814971, 0.484631386226819, 0.48096566127584617, 0.47775687951288764, 0.4747768660857776, 0.4717700444246979, 0.46847263224101227, 0.4646333148252759, 0.4600336983845196, 0.4545072365999114, 0.4479557657643825, 0.44036313112546877, 0.4318055530339682, 0.4224583306841505, 0.4125982068832811, 0.40260023057247923, 0.39292730820554606, 0.3841100101978195, 0.37671404227519795, 0.37129391362621833, 0.36833465672237664, 0.36818908944383244, 0.37102407836808043, 0.37679144347768273, 0.3852340662548708, 0.39592657108523976, 0.40833874319903335, 0.4219047855545373, 0.4360839043767577, 0.45040419124109654, 0.4644881324661213, 0.4780620920084176, 0.49095368275449125, 0.5030809462671859, 0.5144366067762809, 0.5250699139112387, 0.5350679752450548, 0.5445380370803901, 0.5535918426559614, 0.5623329051981807, 0.5708472246107508, 0.5791976356314282], [0.5435023702633967, 0.5331202266025653, 0.5231040620536016, 0.5136040823718139, 0.5047630550016038, 0.49670555317533055, 0.48952554130676446, 0.4832735840184698, 0.4779455576825308, 0.4734750192686397, 0.469731149003698, 0.4665234074788706, 0.4636129302340989, 0.46072956771103607, 0.4575926986376049, 0.45393367268020546, 0.4495179356924864, 0.44416537098127407, 0.4377679266453441, 0.43030401438141447, 0.4218493601904363, 0.412583927024973, 0.4027942128374911, 0.39286967459921496, 0.3832913087226004, 0.3746097445081129, 0.3674100939594261, 0.3622621529372295, 0.3596583422997995, 0.3599479894190121, 0.3632827722549014, 0.3695897819112488, 0.3785822922961581, 0.3898059403475725, 0.40270661456345314, 0.4167021139857586, 0.4312431115525882, 0.4458560785809048, 0.46016726620536846, 0.4739106169868599, 0.4869237677650597, 0.49913611641262157, 0.5105521795510877, 0.5212326970112516, 0.5312753422821841, 0.5407964844524423, 0.5499151433486258, 0.5587400012035473, 0.5673600236718549, 0.575838886713664], [0.5358090140546938, 0.5248445792854155, 0.5142532573643908, 0.5041963398508821, 0.49482960311381247, 0.4862920649295526, 0.4786925772982982, 0.4720955688700302, 0.46650801245970724, 0.4618701160967648, 0.4580520533625458, 0.45485819299882424, 0.45203897405186544, 0.4493092246533522, 0.44637076758416355, 0.4429368230738482, 0.4387559661961956, 0.4336339865418272, 0.4274526484797128, 0.4201848452884186, 0.41190586734551204, 0.4028004311897478, 0.3931647511820379, 0.38340231131743513, 0.37401120281241557, 0.3655601918070673, 0.35865066283881075, 0.3538632423709827, 0.35169222815573886, 0.35247768002098695, 0.35635126141939616, 0.36321268079890023, 0.37274579450958845, 0.38447010680078336, 0.3978122578045983, 0.41217897476107385, 0.4270174817249623, 0.4418569033772097, 0.4563305064608396, 0.47018206610705443, 0.48326064676661545, 0.4955077396389062, 0.5069398987020263, 0.5176292528848713, 0.5276837077923483, 0.5372282731543845, 0.5463886767017558, 0.5552781603950439, 0.5639880412714693, 0.5725822455712211], [0.5278491538282293, 0.5162784987287395, 0.5050872334570399, 0.4944479732594972, 0.48453005068598065, 0.47548787595720216, 0.46744655411974545, 0.46048606878174514, 0.4546263023877768, 0.4498157777563451, 0.4459269140709516, 0.44275965921281935, 0.44005381751173445, 0.437508757128509, 0.4348080053891778, 0.4316458296770143, 0.4277532090885822, 0.4229213282149821, 0.41702151268555343, 0.4100211137935026, 0.40199511061680593, 0.3931331071880893, 0.3837409819168995, 0.374235747168658, 0.36513132053626807, 0.35701221193511234, 0.35049227276074674, 0.34615770686466096, 0.34449843430118265, 0.34583902947327394, 0.350286380243316, 0.35771075511732603, 0.36776772366802724, 0.379954502050768, 0.39368392428949184, 0.40835746913470294, 0.4234242025812027, 0.4384201774803113, 0.4529888087339328, 0.46688578551997995, 0.4799728168938282, 0.4922040442450342, 0.5036081391104197, 0.5142683720760794, 0.5243024200089514, 0.5338433438459907, 0.5430229236586631, 0.5519582860404778, 0.5607424404978687, 0.5694389486449523], [0.51962721819089, 0.507427123762789, 0.4956118021329287, 0.4843653017153101, 0.47387093071364084, 0.46429934894646024, 0.45579326169467504, 0.4484499726535125, 0.44230424650837935, 0.437314793399755, 0.43335773655703574, 0.4302294305521149, 0.4276591897981667, 0.42533049897720826, 0.42290782083891276, 0.4200656042709939, 0.41651647757390975, 0.4120365059591066, 0.40648634701972747, 0.3998278330851332, 0.39213580617226507, 0.3836049171484322, 0.3745506182933693, 0.36540280263065794, 0.3566896364836458, 0.34900848136142654, 0.3429811844885611, 0.33919355649373256, 0.33812432604393905, 0.3400762019696355, 0.34512690162085874, 0.3531160079296489, 0.3636729237867133, 0.3762772914323296, 0.39033415172041647, 0.40524580667744375, 0.4204684581320262, 0.4355492222479789, 0.45014459524317607, 0.46402405352452375, 0.47706297471079423, 0.48922853721992665, 0.5005614633007872, 0.5111557913162921, 0.5211384007457299, 0.5306497244903003, 0.539826868069906, 0.548790115725288, 0.5576334786775906, 0.5664195268184293], [0.5111499536821357, 0.4982982479217355, 0.48583581252260644, 0.47395808502718983, 0.46286260267802715, 0.45273699621093877, 0.4437428589464509, 0.4359966285112423, 0.4295500813042726, 0.42437421525729074, 0.4203505534696237, 0.41727287139146657, 0.4148602401465464, 0.41277985567382103, 0.4106763091791142, 0.4082033073037442, 0.40505432358092025, 0.4009897653575799, 0.39585939691677, 0.38961957879727316, 0.3823452161286088, 0.37423616433931983, 0.3656172898782551, 0.3569305338824279, 0.3487163919068903, 0.3415816759427234, 0.3361511406425492, 0.3330036621593403, 0.3325996689519402, 0.33521380273485873, 0.3408908938159869, 0.34943956962427325, 0.3604661349025847, 0.3734380334865346, 0.3877588150319025, 0.40283765895564705, 0.41814299861416, 0.4332368827327112, 0.4477915591687101, 0.46159193659091047, 0.4745278983086509, 0.48657989594371587, 0.4978005128019526, 0.5082940791255128, 0.5181960229242402, 0.5276533996090795, 0.5368078588942686, 0.5457820786227555, 0.5546703623550691, 0.5635336609509516], [0.5024265913237734, 0.4889025102350188, 0.47577138213839154, 0.46323981202503534, 0.4515196117712185, 0.4408159153149343, 0.43131038014499595, 0.42314040413587134, 0.4163770527352941, 0.41100595921554234, 0.4069160163664177, 0.40389965881055373, 0.4016660874024746, 0.3998658287071102, 0.3981227483008986, 0.39606880946211726, 0.3933774533434418, 0.38979283970535356, 0.38515358952198514, 0.37941063276228604, 0.37263913202371857, 0.3650442692938559, 0.3569600594293684, 0.34883943893461583, 0.34123294952022143, 0.3347529623545735, 0.3300215332434005, 0.3276037087218002, 0.32793454374148545, 0.3312549600190985, 0.33757414303495764, 0.3466705516233667, 0.3581312735410074, 0.37141731411017725, 0.38593701304568473, 0.40111220178018914, 0.416428261802619, 0.4314656749968132, 0.4459148048127922, 0.4595774037010608, 0.4723585267878625, 0.48425200981153615, 0.49532201257004144, 0.5056826058709333, 0.5154770503899196, 0.5248582247172668, 0.5339715044926512, 0.5429411750011129, 0.551861117252866, 0.560790047211486], [0.4934689912003023, 0.47925355556081134, 0.4654340909440644, 0.4522279494113243, 0.4398610116285522, 0.42855619673860174, 0.4185162257197984, 0.40990124562910124, 0.40280401798886245, 0.39722742389836335, 0.39307001224246174, 0.3901243856983377, 0.38809040611164125, 0.38660158413234375, 0.38526014829181654, 0.3836752171833361, 0.38149921871919695, 0.378459390850246, 0.37438290097261057, 0.36921524671279454, 0.3630319986575016, 0.35604371316086125, 0.34859314480030146, 0.3411429244550804, 0.3342509920033079, 0.3285309539832447, 0.32459620032404957, 0.3229909785314746, 0.3241183016572914, 0.32818062114528535, 0.33514988313828814, 0.34477619968365, 0.3566319162204171, 0.3701774306846446, 0.38483183108285546, 0.4000348649822099, 0.41529305356657265, 0.43020836955899655, 0.444491325284844, 0.4579617008526091, 0.4705402398324033, 0.482234175455902, 0.4931188929940119, 0.503317603438722, 0.5129806455851821, 0.52226589171461, 0.5313216048309952, 0.5402728836824219, 0.5492124787163598, 0.5581962774215766], [0.4842917619287303, 0.46936815817962085, 0.4548431283706156, 0.4409441373008806, 0.42791063388289313, 0.41598328572881854, 0.4053866204706075, 0.3963052191692169, 0.388856045183005, 0.383062119347587, 0.37883429842397304, 0.3759671898282724, 0.37415204670790864, 0.37300506464162336, 0.37210585523255674, 0.3710394642688669, 0.3694361875991183, 0.3670055435683773, 0.3635628338970553, 0.3590480366281899, 0.3535371953333223, 0.34724617566880683, 0.340525889293946, 0.33384709997707135, 0.32777216189110725, 0.32291126532931747, 0.31986302019330853, 0.3191441545157402, 0.32111974382971914, 0.3259502102415968, 0.33356992357509246, 0.34370337867762085, 0.3559129717717337, 0.36966408532495987, 0.38439192936475636, 0.39955874162477717, 0.41469574727363634, 0.4294289799300956, 0.44349079554183307, 0.4567199710717921, 0.46905332869154576, 0.48051144143798535, 0.49118052872401896, 0.5011923161815003, 0.5107034484223488, 0.5198759496827985, 0.5288601267029384, 0.5377811028859086, 0.5467298081375662, 0.555758739767528], [0.4749123532787787, 0.4592663034628066, 0.44402138353823406, 0.42941431677136915, 0.41569728566341113, 0.40312827715253496, 0.3919540182217838, 0.3823850174960665, 0.37456499628536427, 0.3685402944066066, 0.36423714830463616, 0.3614544042521206, 0.35987568758392424, 0.3590996448390446, 0.3586822101343072, 0.35818297100632934, 0.3572087948503678, 0.3554505149078495, 0.35271100713131764, 0.3489245117056073, 0.34416748294501154, 0.33866088432031377, 0.3327630100870633, 0.32695094734236635, 0.32178821258467016, 0.3178767549794141, 0.31579440254115854, 0.31602422862536533, 0.31888856877449623, 0.3245036290222271, 0.33276709163332746, 0.34338125670253783, 0.35590338866079985, 0.3698089360906479, 0.38455382428476337, 0.3996265484897331, 0.4145859188361079, 0.42908409493674865, 0.44287663727355764, 0.455822090216641, 0.46787363924171577, 0.479065090767329, 0.48949308829222987, 0.49929724114975865, 0.5086397272180406, 0.5176858839058829, 0.5265872260629033, 0.5354681292967979, 0.5444170405501744, 0.5534825451232313], [0.4653511221778462, 0.44897122428836395, 0.43299547010267153, 0.4176687745993367, 0.40325485432642066, 0.39002811874026644, 0.3782574275876856, 0.36818040830320586, 0.3599700750289206, 0.353699549746219, 0.3493139995724159, 0.34661922461530653, 0.3452925177423391, 0.3449148304029418, 0.3450172643387327, 0.34513237146388953, 0.34484207286201124, 0.3438173356112127, 0.34184785318259964, 0.3388617331714413, 0.33493561403791555, 0.33029517690370475, 0.325305135044571, 0.32044688598883186, 0.31628169951817764, 0.31339848513168794, 0.3123486837689334, 0.3135764757429043, 0.3173579778671584, 0.3237644145103495, 0.33265874418348657, 0.34372491734591953, 0.3565196329285685, 0.3705327718546496, 0.3852446690797212, 0.400172986162777, 0.41490630295587416, 0.4291244709870892, 0.44260729571995927, 0.4552336768226464, 0.4669733589234144, 0.47787324303628387, 0.4880399836312306, 0.49762045203353505, 0.506781599938575, 0.5156912540533317, 0.5245013202321468, 0.5333346792786328, 0.5422766679547358, 0.5513714837914124], [0.45563137492634914, 0.43850939166278, 0.4217956794289979, 0.40574209130239103, 0.3906222976354404, 0.3767256948882643, 0.36434262878995416, 0.35373859671490904, 0.3451183175910849, 0.338585421194266, 0.33410809614390036, 0.3315023900591579, 0.33044095062135287, 0.33048700367600653, 0.33114555361045866, 0.33192030881891504, 0.3323664577399433, 0.33213365521468946, 0.33099741086334244, 0.32887908737861127, 0.32585508925835854, 0.3221552618649558, 0.31814961481680004, 0.3143217215464296, 0.3112271917744, 0.3094373544289063, 0.3094723355536169, 0.31173332996428327, 0.31644819239993593, 0.32364373588820805, 0.33315099198708725, 0.34463954304959177, 0.35766961106448014, 0.3717490340638011, 0.38638531077260463, 0.4011273256354864, 0.41559494005849845, 0.4294967879753513, 0.4426376586403593, 0.4549172263354703, 0.46632191297993764, 0.47691155282498754, 0.48680240447378553, 0.4961479979476388, 0.5051193213931997, 0.5138858904079028, 0.52259921113107, 0.5313799548924505, 0.5403097619526881, 0.5494280166982678], [0.44577939165022584, 0.4279104628669448, 0.41045585954196856, 0.39367298115708765, 0.37784349789402105, 0.3632697607017111, 0.3502622467176473, 0.33911446850058213, 0.33006499928247607, 0.3232519157290232, 0.3186711152185112, 0.3161528765687817, 0.31536737286679895, 0.3158602210985553, 0.31710893447819904, 0.3185862974561435, 0.31981866315046065, 0.32043261535365136, 0.3201881905615933, 0.3189991449466519, 0.3169410280370058, 0.31424714171033, 0.3112915717246477, 0.3085579299955319, 0.3065929344952176, 0.305946292242583, 0.30710280917211585, 0.3104179044233017, 0.3160705457537497, 0.32404484245890347, 0.33414323557140196, 0.3460247915031465, 0.3592567060516193, 0.3733674094235908, 0.3878934025663376, 0.40241604961908056, 0.4165873829824741, 0.4301454706264624, 0.4429205447895428, 0.4548333167198313, 0.4658869319376864, 0.47615397764977957, 0.48575991947728575, 0.494864365366276, 0.5036416295231286, 0.5122621448665272, 0.5208762588500323, 0.5296017558254036, 0.5385160379502131, 0.5476533039646448], [0.435824442731243, 0.41720719545402063, 0.3990132228427052, 0.38150401762683117, 0.36496696098959913, 0.34971469502522035, 0.3360756412515942, 0.3243706749285343, 0.3148739255723774, 0.3077619802923215, 0.3030637719374725, 0.30062860527530405, 0.3001269365171149, 0.3010870717663921, 0.30295748778288417, 0.30517764852721246, 0.30724260804754283, 0.3087537665754928, 0.3094540774779588, 0.3092485632123766, 0.30821110463765566, 0.3065776449000355, 0.30472512222426196, 0.30313519686953794, 0.3023428487931847, 0.302872848200023, 0.3051717792066141, 0.3095478447228473, 0.31613178436055434, 0.32486757298642865, 0.3355326348005039, 0.3477790246688474, 0.3611836358652206, 0.37529725413300064, 0.3896863794384022, 0.4039653968867411, 0.4178188453795653, 0.4310144844696289, 0.44340819277797555, 0.45494183340207467, 0.4656352516420343, 0.4755735871721636, 0.48489112387389044, 0.49375298927241373, 0.5023361416781502, 0.5108111912816586, 0.5193266028683877, 0.5279966365175678, 0.5368939615770046, 0.5460472723551554], [0.4257988109514916, 0.4064353415388115, 0.38750809318248924, 0.36928124528692013, 0.3520453469720532, 0.33612004301513904, 0.3218485732975888, 0.30957751478232115, 0.2996175706923717, 0.2921878815936789, 0.2873563962700895, 0.28499717352163045, 0.2847844092523922, 0.28622961081228326, 0.2887504949946012, 0.2917504515568272, 0.2946903758750411, 0.29714399165452776, 0.29883522338884194, 0.2996589731198048, 0.2996864836913623, 0.29915549329760854, 0.2984446884243139, 0.29803210494646487, 0.29843872496336904, 0.30016197907363884, 0.30360852743316075, 0.3090392043412521, 0.31653823872021714, 0.3260125921228432, 0.3372182073220172, 0.34980312743161507, 0.36335591474613715, 0.37745066913289477, 0.39168414976191424, 0.4057036903866714, 0.4192261958406737, 0.4320490298040317, 0.44405368967646036, 0.45520316603573213, 0.46553390903693304, 0.47514338552605145, 0.48417431249881865, 0.4927967979929963, 0.5011897898356115, 0.5095233676359854, 0.5179434261562325, 0.5265601057883587, 0.535440896119887, 0.544608721433697], [0.4157378369520947, 0.3956335437745919, 0.3759836126429686, 0.35705369051085983, 0.3391348289004184, 0.3225498249916657, 0.3076526055579652, 0.2948125651009059, 0.284377022216628, 0.27661147334518466, 0.271629479872345, 0.2693366232113495, 0.26941510436317334, 0.2713603849856772, 0.27455749084313447, 0.27837059649649265, 0.2822231695030346, 0.28565838175118546, 0.2883788595676517, 0.2902677741637323, 0.2913926730362425, 0.29199231684249455, 0.2924462986182786, 0.29322784784346695, 0.2948424505424663, 0.2977588293936588, 0.3023432206050987, 0.30881007071204936, 0.3171995948289383, 0.3273851096465916, 0.3391043490392687, 0.3520037466296287, 0.36568477925624093, 0.37974511217560325, 0.39381140680370685, 0.40756336737903476, 0.42074972824049656, 0.43319707496314974, 0.44481229031970965, 0.45557933658893046, 0.4655511006526927, 0.47483712016451396, 0.483588157086156, 0.49197877524373146, 0.5001892821596374, 0.5083885506457966, 0.5167192553472415, 0.5252868642050084, 0.5341532877925719, 0.5433354664161718], [0.40568000868968207, 0.38484326165090604, 0.3644854400674469, 0.3448727983117513, 0.32629429253695674, 0.3090716009208061, 0.29356420307327324, 0.28016001132666773, 0.269241686043374, 0.2611243256334845, 0.2559741939854605, 0.2537362677874122, 0.2541059178594913, 0.25656356783013995, 0.2604593877620085, 0.26511480507501356, 0.26991220554370016, 0.27436098922595464, 0.2781399420320596, 0.28111874272602755, 0.28336019738884594, 0.28510351638351883, 0.2867287689325937, 0.2887038426394004, 0.2915181179316247, 0.2956113201384722, 0.30130987667365156, 0.308783737813261, 0.31803208530589105, 0.3288979381892326, 0.34110366895328653, 0.3542958710979235, 0.36808951743225893, 0.38210549431166596, 0.39599951214231555, 0.40948266622677243, 0.42233466540105286, 0.4344106890133059, 0.44564259108795923, 0.45603502655652745, 0.46565707573670156, 0.47463005318356116, 0.4831123675626803, 0.49128252255935756, 0.4993215771572352, 0.5073965517514022, 0.5156462882623467, 0.5241710724221836, 0.5330268836664162, 0.5422245138168198], [0.39566711695718254, 0.3741087632875774, 0.35306148629224754, 0.33279184177103366, 0.3135844121227063, 0.29575530122450383, 0.2796635129641197, 0.26570963220418115, 0.25430870394813104, 0.24582768845968414, 0.24049288063758503, 0.23829760261123595, 0.23895649988476653, 0.24193621246321145, 0.24654964767749385, 0.2520716123879921, 0.257839460445543, 0.26332535104841925, 0.2681815155099321, 0.2722623414594537, 0.2756249858928869, 0.2785088712568924, 0.28129465917054913, 0.28444512222310203, 0.28843387478451965, 0.293672395439998, 0.3004488709536117, 0.3088912978765587, 0.3189610082476451, 0.3304738355369336, 0.34313911454494367, 0.3566047463091348, 0.3704992003777775, 0.3844657581245682, 0.39818794272585334, 0.4114069554307541, 0.4239323767359308, 0.4356471514439135, 0.44650753439449664, 0.4565384796142712, 0.4658249414292508, 0.4744996742333258, 0.4827283184986004, 0.4906928054582341, 0.4985743559762527, 0.5065375221497159, 0.5147167384000084, 0.5232066418772585, 0.5320569751994614, 0.5412722641547917], [0.38574449751413314, 0.36347722226088036, 0.3417617436864989, 0.32086537255398867, 0.30106666731717185, 0.2826718668345372, 0.266032829108719, 0.2515554082543378, 0.23968203634734575, 0.23083225554699355, 0.22529951313590937, 0.22313531572769602, 0.22408057159719358, 0.2275896006636219, 0.23293543532657218, 0.23934219252714128, 0.2460981352638852, 0.25263463897016575, 0.258574656072316, 0.2637556029617719, 0.2682283625672151, 0.27223279208461426, 0.27615090638413065, 0.28044140631518144, 0.2855634101626304, 0.29190182250376934, 0.2997088949106469, 0.30907359697001213, 0.31992255659567104, 0.3320471473279218, 0.3451454244531206, 0.3588671679397582, 0.3728538576586234, 0.3867699698224835, 0.40032532197902576, 0.413289713891574, 0.42550130922395646, 0.43686983093150505, 0.4473752310242479, 0.4570622639056363, 0.4660313627593437, 0.47442633749538654, 0.48241962367321445, 0.4901960672912933, 0.4979364781055811, 0.5058023536138394, 0.5139231846878667, 0.5223875376694933, 0.5312386586489753, 0.5404747343462979], [0.375961374501791, 0.35299895913229673, 0.33063827763299636, 0.30914880395452016, 0.2888024024392519, 0.2698917856462051, 0.25275478913335353, 0.23779374885831092, 0.2254711670569569, 0.21625768063083453, 0.21052009742914307, 0.20837838166000291, 0.20960734895997507, 0.21365060024741186, 0.219738610789937, 0.22704084755703657, 0.23479264381313944, 0.24238124887825963, 0.2493978285671456, 0.2556614545601461, 0.2612165348585233, 0.26630413352995636, 0.2713090598705841, 0.2766877770784194, 0.2828870059146593, 0.2902674873925554, 0.2990483363377208, 0.309282557829948, 0.3208649951521823, 0.333564811832132, 0.3470699819205299, 0.3610322279104045, 0.37510516181812587, 0.3889729776923763, 0.4023700731351086, 0.415093186845541, 0.4270076442662562, 0.438048836196839, 0.4482195961982752, 0.4575838848284331, 0.4662571450839342, 0.4743938084871506, 0.48217264369716556, 0.48978089566576405, 0.4973984058680836, 0.5051830613716495, 0.5132589138957792, 0.5217080822893302, 0.5305671023519234, 0.5398277910705456], [0.36637130804368345, 0.3427278606920211, 0.319745451504043, 0.29769823786524685, 0.2768520681919062, 0.25748366772760106, 0.2399104101707293, 0.22452137573694111, 0.21178939526326618, 0.20223176844006863, 0.19629292450957728, 0.19417113283308673, 0.19568292135245707, 0.20026281231798498, 0.2070962901623384, 0.21529487070675127, 0.22403785197434326, 0.23266559901359468, 0.24073548227768607, 0.248047359896437, 0.2546394967574865, 0.26075550863584956, 0.2667850710930924, 0.27318491867594463, 0.28039212156736554, 0.2887461733118638, 0.2984360952528874, 0.30948191501400596, 0.321749255957333, 0.3349868128143866, 0.3488731591396292, 0.3630615982183908, 0.37721669671274244, 0.39104069801816194, 0.40429074145065647, 0.4167887503197891, 0.4284257010102717, 0.4391614492914968, 0.4490208015774529, 0.4580862444076263, 0.4664876906712592, 0.4743897094519172, 0.48197691366560363, 0.4894384275412672, 0.4969525836254676, 0.5046731353095127, 0.5127182427045632, 0.5211632481806415, 0.5300378100035931, 0.5393273854620775], [0.3570327298369125, 0.3327219935801426, 0.3091404499742368, 0.2865706581371032, 0.26527482177546036, 0.24551306293106934, 0.227577145128537, 0.21183296220749176, 0.1987516927206688, 0.18888920469858672, 0.1827684566599499, 0.18067401935049138, 0.18247121177317646, 0.18758706331755817, 0.19516050771101331, 0.2042433541534377, 0.2139572163348255, 0.22359388052907422, 0.2326757205006753, 0.2409831869017334, 0.24854930459876926, 0.25562208776962686, 0.26259863093240277, 0.26993891781077, 0.27807351889760534, 0.28732384524358906, 0.2978518830384264, 0.3096474329357516, 0.32254903887061814, 0.33628617428330426, 0.35052824481411504, 0.36492943740798567, 0.3791638835231995, 0.39295008966605227, 0.40606603347710174, 0.418357019771342, 0.4297381104376291, 0.44019235576891147, 0.4497655495121253, 0.45855794709714565, 0.46671332436060686, 0.47440585471675917, 0.4818254798228164, 0.4891626805229658, 0.49659375852714777, 0.5042678462439573, 0.5122968065482663, 0.5207489269715294, 0.5296468687244766, 0.5389697790191473], [0.3480095232660101, 0.32304440009494706, 0.2988841428605981, 0.275824607027645, 0.2541286836604809, 0.23404178165942674, 0.2158272255906307, 0.1998187066906525, 0.1864721214528506, 0.17636959188976076, 0.17010840228338533, 0.168063436121946, 0.17015376839331783, 0.17580044972432796, 0.1840962551365355, 0.19403436319727088, 0.2046794183867696, 0.2152745211276628, 0.22530693586443862, 0.2345382811203808, 0.24299774989593953, 0.2509399215488558, 0.2587720932472332, 0.2669606618970946, 0.27593296698581254, 0.2859954939118664, 0.29728607385434636, 0.30976668962652104, 0.32325050764903696, 0.3374485877709963, 0.3520210404311378, 0.36662199667318235, 0.3809336312564538, 0.3946888733139137, 0.4076846184739045, 0.4197877374797046, 0.4309357850096362, 0.4411336877905352, 0.45044717807127027, 0.4589934543310245, 0.4669294856862653, 0.47443846965904196, 0.48171513618384343, 0.48895079950559583, 0.496319230922488, 0.503964494966661, 0.5119918030170652, 0.5204621636258767, 0.5293911709151227, 0.5387517506673882], [0.3393715694350195, 0.31376402064141584, 0.2890422876973493, 0.2655214293134065, 0.24347144453967573, 0.22312801575986344, 0.20472663547819459, 0.18856210804710513, 0.17506083145753976, 0.16481442042165248, 0.15848318673358816, 0.15652948562435573, 0.15892709092612048, 0.16509270188031464, 0.17407691144493673, 0.18481980805946785, 0.1963331220172174, 0.20781322078678066, 0.2187134229195747, 0.22877783521503503, 0.23803354451055447, 0.2467438959069341, 0.2553290749311286, 0.26426491046252654, 0.27397859833589555, 0.2847646131758909, 0.29673918921379205, 0.3098385118628089, 0.3238516672298365, 0.3384717534621692, 0.35334919933168263, 0.36813699118534154, 0.38252376851372644, 0.3962550433394483, 0.40914473139021157, 0.4210794697940233, 0.43201770706020276, 0.4419848960589333, 0.4510656062453387, 0.45939309165009773, 0.4671367867070199, 0.4744882889052658, 0.4816465540198646, 0.4888032096628096, 0.49612902421406274, 0.5037625932091256, 0.5118021788169543, 0.5203013447463621, 0.5292685996607615, 0.5386707754872252], [0.33119513981739984, 0.3049566293594528, 0.2796869997197113, 0.25572710023822437, 0.23336246755279583, 0.21282754899898168, 0.19433510618322816, 0.17813829391326003, 0.16462069902002735, 0.15436246701032016, 0.14806661566090368, 0.1462699309918425, 0.14899559925144318, 0.1556582573453057, 0.16527597075093928, 0.1767474371812903, 0.18903967546841222, 0.201306635711938, 0.21297017352309758, 0.22375879680422753, 0.23369924172519319, 0.2430655016184937, 0.25229287326278593, 0.2618691503901295, 0.27222401025947596, 0.28364239864509033, 0.29622110110900923, 0.30987214397224383, 0.3243614990193483, 0.3393645045144606, 0.35452136976321114, 0.36948278992394457, 0.3839423025016725, 0.3976562115794854, 0.4104536101942516, 0.42223914077239005, 0.43299055641979706, 0.4427524653046118, 0.45162712874878486, 0.45976291313256346, 0.4673409362730628, 0.474560531236963, 0.48162429914864086, 0.4887236688593349, 0.4960259659596318, 0.5036639675755904, 0.5117287510046377, 0.5202663317703904, 0.5292781687335951, 0.5387251666775387], [0.3235629751871322, 0.29670560047176, 0.2708983218312574, 0.24651454061740002, 0.22386542154946756, 0.20319626833372037, 0.18470750552487175, 0.16861330716053144, 0.15524374744568897, 0.14514309045768778, 0.1390262862059629, 0.13747822181287211, 0.14055812089244332, 0.14768251906648514, 0.15785431791312546, 0.16994982136856995, 0.18290400706438814, 0.19583513634234062, 0.20813731520142434, 0.21952572709812285, 0.23002822471286716, 0.23993066780071154, 0.24968488374889966, 0.25979237261525007, 0.27068722176027893, 0.2826467622185771, 0.295750038174667, 0.30988622573358016, 0.32479892031113844, 0.34014577153566755, 0.3555561905988877, 0.37067746567720283, 0.38520654111986946, 0.3989088137904424, 0.41162679381472106, 0.42328142407033426, 0.43386819476785027, 0.4434494865460623, 0.45214406956437375, 0.4601144285336853, 0.46755253285443793, 0.4746647505696019, 0.4816567341776228, 0.4887192149313562, 0.4960156744334171, 0.5036727798285154, 0.5117742554060978, 0.5203585317891459, 0.5294201099946878, 0.5389141738340325], [0.31656385806146103, 0.2891022517492878, 0.26276560966233115, 0.23796616224498293, 0.21505179664034507, 0.19429401097343593, 0.17589687126247408, 0.16004474776177482, 0.14700764810748287, 0.13726720756575603, 0.13150873452896086, 0.1303241053610849, 0.1337867218274492, 0.1413219424172891, 0.15194343523251982, 0.16453111895526096, 0.17800462825838576, 0.1914555013955048, 0.20425491578879199, 0.2161071708090561, 0.2270421740075227, 0.23735795264867524, 0.24752322666913595, 0.2580539223414278, 0.2693896030553351, 0.2818012576895687, 0.29535147439348436, 0.30990764593556364, 0.32519162300375254, 0.34084343264136213, 0.3564811773126229, 0.3717477368299104, 0.38634210526210305, 0.40003720244475743, 0.4126873013188615, 0.42422801083818856, 0.43467102157840004, 0.44409509803968816, 0.45263430322099824, 0.4604641993420837, 0.4677867296058893, 0.4748145644747391, 0.48175580532624795, 0.48880000597439294, 0.4961064476271537, 0.5037954596400412, 0.5119433177221365, 0.5205809011114599, 0.5296959031403741, 0.5392380324923202], [0.3102914748979509, 0.2822454545107438, 0.2553883234641791, 0.23017618734999526, 0.2070047883206164, 0.18618948646888697, 0.16795907781160777, 0.15248405748184232, 0.13997285147170116, 0.13081662602784075, 0.1256200688869627, 0.12492793912216157, 0.1287997048193714, 0.13668030550829222, 0.14762692643537917, 0.16055369966651367, 0.1743844048979038, 0.18819480133344235, 0.20133905796282747, 0.2135131678159643, 0.22474944650158976, 0.23535738802287295, 0.24582178932771723, 0.25667257252219133, 0.26835489113555994, 0.28113400654801013, 0.2950569714861761, 0.30997032818821596, 0.32557483626743466, 0.34149308434262055, 0.35733152652585504, 0.37272782444273117, 0.3873818516073411, 0.40107264391192643, 0.41366470864334626, 0.4251067683422862, 0.4354252147010873, 0.444713806155806, 0.45312065314008776, 0.4608333111787673, 0.4680627772705739, 0.475027264180081, 0.4819367162869369, 0.4889790548222893, 0.49630905478633447, 0.5040405489881852, 0.5122423457432651, 0.5209378793949161, 0.5301082451727716, 0.539697962028965], [0.3048423902137221, 0.27624018114127935, 0.24887571950682336, 0.22325207478422932, 0.19982280555166682, 0.17896559257292968, 0.16095869565303397, 0.1459804746743619, 0.13418119187507743, 0.1258339041080867, 0.12140608256325279, 0.12133450773428568, 0.1256353925682921, 0.13378716636564342, 0.1449249649819354, 0.15802785035359185, 0.17204425398645148, 0.186046876083449, 0.19938008140661553, 0.21173447823010763, 0.22314473610392033, 0.23393022588109666, 0.24458985788090537, 0.2556659485897141, 0.26760838940703424, 0.280676700554242, 0.29490303462832684, 0.310113994775172, 0.3259900479314656, 0.34213675983993325, 0.3581488600860891, 0.3736582420555792, 0.38836472129522265, 0.4020522342953128, 0.41459413646627574, 0.42595080231689786, 0.43616186790316686, 0.44533469764394207, 0.4536301774765888, 0.46124673180786263, 0.4684034529828136, 0.4753233129027685, 0.48221749481247045, 0.4892718622877324, 0.49663643398845203, 0.5044184606991539, 0.5126793442405426, 0.5214352550673894, 0.5306609595893436, 0.5402961113223202], [0.3003130320397776, 0.2711947112623905, 0.24334490616666887, 0.21731422048997853, 0.19362151399894492, 0.17272393139471373, 0.1549750118432169, 0.1405862310494118, 0.12965695332212318, 0.12231640721838549, 0.11883919760482732, 0.1194965911014758, 0.12423714238723796, 0.1325867886986107, 0.14378722967115043, 0.15690798634012895, 0.1709417800324274, 0.18497255487501052, 0.1983436349798492, 0.21074388542817088, 0.2222102360752175, 0.2330697333504673, 0.24383244750947344, 0.2550503911562744, 0.26717642244753187, 0.2804637385706735, 0.29493002654012557, 0.3103829427133646, 0.3264837101131004, 0.34282161409090167, 0.358979924164447, 0.37458453160274363, 0.3893345269981548, 0.40301774628608644, 0.41551516176057807, 0.42679743581356117, 0.43691603823634717, 0.44599055603362, 0.454193354850898, 0.461732566597468, 0.4688343860818319, 0.4757257427699921, 0.4826184613214527, 0.48969595740807376, 0.49710330289252325, 0.504941157110549, 0.5132636573495736, 0.5220799657398215, 0.5313588479616561, 0.5410354539356829], [0.29679572342725136, 0.2672163638540437, 0.2389168336034879, 0.21249307502391346, 0.18853308338578748, 0.16758683929655033, 0.1501065104709105, 0.1363619160482816, 0.12641106922005627, 0.12021848213921231, 0.11782006188271679, 0.11927825653200394, 0.12445862321367525, 0.1329439170149101, 0.1440981918987122, 0.15709749199806344, 0.17099591258452182, 0.18490408279951434, 0.19817470401073334, 0.21049961710428744, 0.22191830726841255, 0.23276304247173174, 0.24355134938154635, 0.25484128577882154, 0.26708607951663627, 0.2805315299579646, 0.2951811674199245, 0.3108248537656458, 0.3271059459726238, 0.343598589244827, 0.3598752552241031, 0.37555595675485426, 0.39033868996507126, 0.4040144193115368, 0.41647066617620304, 0.4276871185341852, 0.437725717888984, 0.4467168972617049, 0.4548431852153287, 0.4623212265442904, 0.4693832956496473, 0.47625946438716615, 0.4831616126979992, 0.4902703567842379, 0.4977256934925055, 0.5056217583166404, 0.5140056464827023, 0.5228798402304027, 0.532207489181636, 0.5419196368821955], [0.2943739786806872, 0.26440587426384304, 0.23571007332370716, 0.2089230562950538, 0.18470135932287207, 0.16369500663295566, 0.146471598135973, 0.13338024456649003, 0.12444815167770454, 0.11946356864889783, 0.11819698295851046, 0.12048049204054813, 0.12609043994250174, 0.13466649351528256, 0.14569451571253306, 0.1584618339342773, 0.1720971124673398, 0.18575330217653252, 0.19880420499437507, 0.21095055913635344, 0.22223541892804655, 0.23299390421549582, 0.24374680959981224, 0.25505382073285704, 0.2673652352591868, 0.28091796666737134, 0.29570162814996714, 0.31148964721685934, 0.3279092666247555, 0.3445210697745454, 0.3608878229108554, 0.37662416483488753, 0.39142693950798635, 0.40508970685935614, 0.4175056365140202, 0.42866228316748717, 0.4386307480947872, 0.44755094287979824, 0.45561422467442236, 0.46304452780078637, 0.47007915847105153, 0.47695050715245246, 0.4838699384458209, 0.49101495893331887, 0.4985204253135252, 0.5064740927867997, 0.5149163148318666, 0.5238432915377009, 0.5332129940658602, 0.5429527891502776], [0.29311748340443305, 0.2628508641768868, 0.23383272259131205, 0.20673322571724212, 0.1822722539046732, 0.16119914459178394, 0.14420342868033834, 0.13172610287864991, 0.12377463311629756, 0.11996403129939068, 0.11979845509989116, 0.12288139710376639, 0.1288995769092132, 0.13753851168270634, 0.1483900667002175, 0.160847114115339, 0.17412129373664284, 0.18742231138282422, 0.2001572444879569, 0.2120426239718045, 0.22312691980944294, 0.2337460517688405, 0.24441965385209433, 0.25570406267749396, 0.2680427869031741, 0.28166203306403953, 0.29653770292552867, 0.31242837155516756, 0.3289473006345923, 0.3456435341107334, 0.3620716599875722, 0.377841830090575, 0.39264998993750094, 0.4062919979022713, 0.4186659358986381, 0.4297661688016366, 0.4396716963967351, 0.44853055307779666, 0.4565415770865267, 0.4639347457249221, 0.4709513301938778, 0.4778252124087903, 0.48476669017646135, 0.491949893152401, 0.4995045347776292, 0.5075122061252966, 0.5160068921903788, 0.5249789724681675, 0.5343817250986589, 0.5441392980029961], [0.2930773404826801, 0.2626191815028931, 0.23337335620304608, 0.2060356132793105, 0.18137986790623026, 0.16024549070609337, 0.14343782249499445, 0.1314912301374895, 0.12440521210905274, 0.12164276871827787, 0.12246812932560813, 0.12627726078484114, 0.13266873957283526, 0.1413532326520235, 0.15200204664566203, 0.16409996030181934, 0.1769448371383335, 0.18981486657820337, 0.20216185736388775, 0.213725445012417, 0.22456205636921162, 0.2350067682790024, 0.24557358553486702, 0.2568101744464149, 0.26914899939371195, 0.28280348990509024, 0.2977360271998032, 0.3136921202210056, 0.33027353397430287, 0.3470202091354471, 0.3634804913955338, 0.3792612943549318, 0.3940582138109807, 0.40766933343916917, 0.41999706840323014, 0.4310416356165809, 0.4408887226628128, 0.4496931458204845, 0.4576598692826816, 0.4650236503939401, 0.4720286462486485, 0.47890940510429103, 0.48587462873465476, 0.49309484541949666, 0.5006946811834186, 0.5087498461533921, 0.51728839595124, 0.526295407498711, 0.5357199927462226, 0.5454835625189874], [0.29428222839242296, 0.26375309925141877, 0.2343924546658363, 0.20691307497752257, 0.18213050342488402, 0.16095716804770785, 0.14429560871924538, 0.1327634922062349, 0.12636487572063887, 0.12444964950853472, 0.1260914852184355, 0.1305127992510578, 0.1372253987066967, 0.14593894863514992, 0.15637267184311798, 0.16808493898015706, 0.1804581348866688, 0.19284679231214535, 0.204757015446302, 0.21595852617484873, 0.2265185994257318, 0.23677019323049153, 0.2472173259374504, 0.25839354789041047, 0.27071581020454333, 0.2843825417953442, 0.2993427909735678, 0.3153309493234198, 0.3319400568369933, 0.34870373585772424, 0.3651663782865022, 0.38093322564804577, 0.3957003350585103, 0.40926814376338855, 0.42154296425273513, 0.43252999918724305, 0.44232046314539336, 0.45107463207525295, 0.459002240212725, 0.46634155377973047, 0.47333853210156934, 0.48022757237823793, 0.4872152757221078, 0.4944683860238146, 0.5021065516324709, 0.5101999441344505, 0.5187711855676507, 0.5278006157089579, 0.5372337408861454, 0.5469897348376105], [0.29673604042711094, 0.26626534662781454, 0.23691591972399895, 0.20940919217990603, 0.1845881088266076, 0.16341568905470427, 0.14686345695598252, 0.13561295628586126, 0.12968524022392394, 0.12836803548446066, 0.13060816158723215, 0.1354953298910569, 0.1424564304121323, 0.15117376957093168, 0.16138330197067008, 0.17269697953541968, 0.18457578064018007, 0.19645402417973515, 0.20789888499341364, 0.2187160643635133, 0.22898646957319166, 0.23903989584225208, 0.24936624229040003, 0.26047959775326557, 0.27277692270401566, 0.286439382322624, 0.3014028901756648, 0.3173927739802068, 0.3339963162737784, 0.3507438591248641, 0.3671783981131959, 0.38290532051257575, 0.3976221704370579, 0.4111320364709483, 0.42334481663716705, 0.4342699161753615, 0.44400296491651164, 0.4527083997909467, 0.46059937668658285, 0.4679164008388326, 0.4749061541808909, 0.48180207897971894, 0.4888081974147001, 0.4960873246262073, 0.5037542880596362, 0.5118741126479842, 0.5204645283512515, 0.5295017401487138, 0.53892823439466, 0.5486614600506611], [0.3004173538941167, 0.2701376589391251, 0.24093197952888146, 0.21352253713263214, 0.1887649133543583, 0.16764779027426602, 0.15117876089344895, 0.14007865268241193, 0.13439611451601974, 0.13341052671190382, 0.13600962022255333, 0.1411937245438836, 0.1483093265462533, 0.15698961136557127, 0.1669603774689655, 0.17786780872198218, 0.18924241453994414, 0.20059743420155476, 0.21156462305428114, 0.22198984526758306, 0.23196985457254402, 0.2418302967596623, 0.25204313271496015, 0.2630979710237957, 0.27536752048319935, 0.28901351474590076, 0.3039589642254306, 0.3199222266249565, 0.3364878807634553, 0.35318616106215966, 0.36956138795593757, 0.3852210810459492, 0.3998654520140897, 0.4133006686344733, 0.42544000385046093, 0.43629635524865384, 0.44596870454267434, 0.45462438036774216, 0.4624786290722631, 0.46977293713436247, 0.4767536429061379, 0.4836524492970126, 0.49067034878119764, 0.49796611806851976, 0.5056499591077787, 0.5137821802206067, 0.5223761941447845, 0.5314046987519861, 0.5408077617752827, 0.5505016256186648], [0.30528077025405653, 0.27532204283621553, 0.2463920322125025, 0.21920654387779737, 0.19461961643347284, 0.17362130662587408, 0.15722303159127446, 0.14615985308511822, 0.14051492733663704, 0.13960655262044894, 0.14232578045823435, 0.1476262645013112, 0.15478342793504696, 0.16336754642362297, 0.173074124475763, 0.18356658720375282, 0.1944340499773802, 0.20526412818245995, 0.21575335998369374, 0.2257898555530974, 0.23548747903268535, 0.2451666338733682, 0.2552779150681351, 0.2662819796765637, 0.27852347270918626, 0.29214277348912965, 0.30705028822716457, 0.3229594758662851, 0.3394552341620301, 0.3560708662381302, 0.3723547842110348, 0.3879187017177582, 0.40246676609873666, 0.4158087381869619, 0.42786113121749725, 0.43863968710854684, 0.44824572432681276, 0.4568482303461598, 0.46466323891730665, 0.47193198392110836, 0.4788994173670728, 0.48579474379439114, 0.49281550332758595, 0.5001163543520175, 0.5078030978466788, 0.5159317812900098, 0.5245120951112778, 0.533513870858519, 0.5428753648959976, 0.5525121305846321], [0.31125985851030263, 0.28174441966961433, 0.253215053243906, 0.22637466761491667, 0.20206305764749713, 0.18125050427254605, 0.1649249212238972, 0.15381385506601902, 0.14803719488762423, 0.14698633658075966, 0.14960590079602723, 0.1548423748177875, 0.1619151406862925, 0.17032728277388437, 0.1797317428756414, 0.18979568321672305, 0.2001553200469429, 0.21046537081885888, 0.22048437148152625, 0.23014253364114712, 0.23957090864454017, 0.24908334322659756, 0.25910610187786953, 0.2700671660871121, 0.2822799740051948, 0.2958620229343434, 0.3107115226821316, 0.3265390268070824, 0.3429326304178574, 0.35943175484443796, 0.3755915963034358, 0.39103010309466035, 0.40545664437203727, 0.41868512869716523, 0.4306352255286804, 0.44132492508522436, 0.4508569164843008, 0.4594006576599235, 0.4671717067662054, 0.4744098477390515, 0.4813576372496385, 0.4882410537705498, 0.49525379079891185, 0.5025463328064873, 0.5102203233052953, 0.5183280174568637, 0.5268759846794954, 0.5358318316038689, 0.5451326064701129, 0.5546936837491251], [0.3182712106377428, 0.2893099082152324, 0.2612944590595811, 0.23490919921764503, 0.21096908561895644, 0.19040810243964254, 0.17417048718477632, 0.16295981234556808, 0.15693048270089394, 0.15556587667872498, 0.15789889487084885, 0.16290279863876084, 0.16976072288098978, 0.1779134685577546, 0.18696702311902988, 0.1965829024016327, 0.2064334885354517, 0.21623166771644772, 0.2257927757115571, 0.23508687679767507, 0.2442610313880544, 0.25362094810932795, 0.26356612467506063, 0.2744890499243304, 0.2866696632465147, 0.30020157830403965, 0.3149713668525183, 0.3306885492463856, 0.34694705419748856, 0.3632952265114155, 0.37929755386341024, 0.39458014860878393, 0.40885884028436037, 0.42195223795027864, 0.43378311019445576, 0.44437114271286343, 0.45381948016696944, 0.4622969160485241, 0.4700173225190034, 0.47721788558882905, 0.4841378017381122, 0.4909991327394576, 0.4979913595485776, 0.5052607557485023, 0.5129050596300884, 0.5209732024152783, 0.5294692267015172, 0.5383591439955776, 0.547579383955325, 0.5570456384273809], [0.3262190277208793, 0.2979088454407035, 0.270506016879892, 0.24467154802504948, 0.22118740292693323, 0.20093981748029252, 0.18481659991225005, 0.1734864692690621, 0.16713286782242542, 0.16533631681333547, 0.16723712244094058, 0.17186183208344147, 0.17837959846940707, 0.18618121562883772, 0.19482830723382646, 0.20397164557488634, 0.21331031666450814, 0.22260581510640015, 0.2317233802557414, 0.24066890531799942, 0.2496031237821608, 0.2588217859903064, 0.26869576837226566, 0.2795802580880653, 0.29172037477317003, 0.3051854650560841, 0.31985120483370627, 0.33542780313013687, 0.3515173426638379, 0.3676795597206396, 0.38349046468802306, 0.3985860759084886, 0.4126898178316633, 0.42562551403007776, 0.4373189821584637, 0.44779108722518934, 0.4571445685743426, 0.4655464834375331, 0.47320787288230654, 0.48036223909538406, 0.4872445077338396, 0.49407217577773205, 0.5010301739963675, 0.5082605412069381, 0.515857361684399, 0.5238666986853941, 0.5322906423104627, 0.5410942155650129, 0.5502137961824924, 0.5595658695308682], [0.3349996961545823, 0.3074227195545727, 0.28071552859877275, 0.25551205761431683, 0.2325555991499415, 0.21267787259335774, 0.19670385673717883, 0.18526130564570506, 0.17855546985906087, 0.17625913722762343, 0.17762597579562472, 0.1817540369582892, 0.1878204192010045, 0.19518283006725923, 0.2033665356730062, 0.21201046418732084, 0.22083299157914155, 0.229634910651991, 0.23832351978455216, 0.24693521200405938, 0.25564113226829044, 0.26472510480859335, 0.2745281458848756, 0.2853673696550385, 0.2974527667180401, 0.31082969065265015, 0.325363865143947, 0.34076774476704336, 0.35665352677748674, 0.37259440854654297, 0.3881798141911889, 0.4030571660585998, 0.4169584708249834, 0.42971321332865925, 0.44125020226246253, 0.45159099856844886, 0.46083713409266014, 0.46915293089160587, 0.4767455314383415, 0.48384374233288424, 0.4906773714273088, 0.49745875044836074, 0.5043679505518865, 0.5115427600224008, 0.5190738504431947, 0.5270048496138334, 0.5353364380661231, 0.5440332232712742, 0.5530320664158556, 0.56225069662258], [0.3445059432638183, 0.3177294198891395, 0.2917854258378365, 0.26727813546803825, 0.24490875581039961, 0.22545153928160824, 0.20966695559052836, 0.1981392134037694, 0.19108772939358226, 0.1882667574528069, 0.18903975179925367, 0.1925865079880709, 0.1981112420486286, 0.2049572169204384, 0.21262482124517657, 0.22074334590080064, 0.22904530559042813, 0.23736237955593786, 0.24563582890772978, 0.2539264474440513, 0.2624119247134051, 0.27136217551186, 0.28108773983838536, 0.29186788056129226, 0.30387811957573596, 0.3171407299206651, 0.33151262600989273, 0.3467098978941419, 0.36235644454278987, 0.378040569048159, 0.3933666261044015, 0.4079946624706248, 0.42166607946630325, 0.43421638390068024, 0.4455773000808674, 0.45577063316699223, 0.46489596932983257, 0.4731139789673693, 0.48062692742028557, 0.4876579989704419, 0.49443110877769125, 0.5011528750692886, 0.5079982282736023, 0.5151006943161466, 0.5225477560420432, 0.5303810054089872, 0.5386002150237129, 0.5471701070557667, 0.5560285228617049, 0.5650948544202533]], \"type\": \"contour\", \"uid\": \"689b7de1-c728-4586-985d-482744c3ae7b\"}, {\"hoverinfo\": \"text\", \"legendgroup\": \"In-sample\", \"marker\": {\"color\": \"black\", \"opacity\": 0.5, \"symbol\": 1}, \"mode\": \"markers\", \"name\": \"In-sample\", \"text\": [\"0_0\", \"1_0\", \"2_0\", \"3_0\", \"4_0\", \"5_0\", \"6_0\", \"7_0\", \"8_0\", \"9_0\", \"10_0\", \"11_0\", \"12_0\", \"13_0\", \"14_0\", \"15_0\", \"16_0\", \"17_0\", \"18_0\", \"19_0\", \"20_0\", \"21_0\", \"22_0\", \"23_0\", \"24_0\", \"25_0\", \"26_0\", \"27_0\", \"28_0\"], \"x\": [0.6621204614639282, 0.8353138566017151, 0.2483164221048355, 0.11943572014570236, 0.9563883543014526, 0.533237874507904, 0.21646007597276634, 0.1911718743384756, 0.19146260333473922, 0.17284846742615909, 0.14970263401512487, 0.07434075611279359, 0.2241999449930835, 0.2581064049196131, 0.30312286629514174, 0.3511737757532764, 0.4113655176080752, 0.4193547251148097, 0.413188329067826, 0.4002998241001861, 0.4049060822281418, 0.41169705380325305, 0.39128130960256446, 0.43688035586496166, 0.9325695633888245, 0.4323077015578747, 0.8112748879939318, 0.621499577537179, 0.5554969739168882], \"xaxis\": \"x\", \"y\": [0.5472598075866699, 0.1450367271900177, 0.8398137092590332, 0.04023229330778122, 0.9749078154563904, 0.3151182234287262, 0.6925656178990209, 0.9044738319891872, 0.8993206685837755, 0.6610562930363899, 0.8151789631144584, 0.7928532178786396, 0.7547122153683172, 0.7737991011178612, 0.8039669986743461, 0.822300510806601, 0.8416409730606352, 0.7789590022240462, 0.8333247291458121, 0.9094643812009245, 0.8768756958868344, 0.8953323870029478, 0.8967953178285596, 0.8989997859943935, 0.4272148637101054, 0.845314584672451, 0.8806122401729226, 0.2301445621997118, 0.2955702533945441], \"yaxis\": \"y\", \"type\": \"scatter\", \"uid\": \"e9c0b1d0-042a-4bf2-91b1-a4053f20c78e\"}, {\"hoverinfo\": \"text\", \"legendgroup\": \"In-sample\", \"marker\": {\"color\": \"black\", \"opacity\": 0.5, \"symbol\": 1}, \"mode\": \"markers\", \"name\": \"In-sample\", \"showlegend\": false, \"text\": [\"0_0\", \"1_0\", \"2_0\", \"3_0\", \"4_0\", \"5_0\", \"6_0\", \"7_0\", \"8_0\", \"9_0\", \"10_0\", \"11_0\", \"12_0\", \"13_0\", \"14_0\", \"15_0\", \"16_0\", \"17_0\", \"18_0\", \"19_0\", \"20_0\", \"21_0\", \"22_0\", \"23_0\", \"24_0\", \"25_0\", \"26_0\", \"27_0\", \"28_0\"], \"x\": [0.6621204614639282, 0.8353138566017151, 0.2483164221048355, 0.11943572014570236, 0.9563883543014526, 0.533237874507904, 0.21646007597276634, 0.1911718743384756, 0.19146260333473922, 0.17284846742615909, 0.14970263401512487, 0.07434075611279359, 0.2241999449930835, 0.2581064049196131, 0.30312286629514174, 0.3511737757532764, 0.4113655176080752, 0.4193547251148097, 0.413188329067826, 0.4002998241001861, 0.4049060822281418, 0.41169705380325305, 0.39128130960256446, 0.43688035586496166, 0.9325695633888245, 0.4323077015578747, 0.8112748879939318, 0.621499577537179, 0.5554969739168882], \"xaxis\": \"x2\", \"y\": [0.5472598075866699, 0.1450367271900177, 0.8398137092590332, 0.04023229330778122, 0.9749078154563904, 0.3151182234287262, 0.6925656178990209, 0.9044738319891872, 0.8993206685837755, 0.6610562930363899, 0.8151789631144584, 0.7928532178786396, 0.7547122153683172, 0.7737991011178612, 0.8039669986743461, 0.822300510806601, 0.8416409730606352, 0.7789590022240462, 0.8333247291458121, 0.9094643812009245, 0.8768756958868344, 0.8953323870029478, 0.8967953178285596, 0.8989997859943935, 0.4272148637101054, 0.845314584672451, 0.8806122401729226, 0.2301445621997118, 0.2955702533945441], \"yaxis\": \"y2\", \"type\": \"scatter\", \"uid\": \"22e175ce-e499-43c6-b32a-949bad28294a\"}],\n",
       "  {\"annotations\": [{\"font\": {\"size\": 14}, \"showarrow\": false, \"text\": \"Mean\", \"x\": 0.25, \"xanchor\": \"center\", \"xref\": \"paper\", \"y\": 1, \"yanchor\": \"bottom\", \"yref\": \"paper\"}, {\"font\": {\"size\": 14}, \"showarrow\": false, \"text\": \"Standard Error\", \"x\": 0.8, \"xanchor\": \"center\", \"xref\": \"paper\", \"y\": 1, \"yanchor\": \"bottom\", \"yref\": \"paper\"}], \"autosize\": false, \"height\": 450, \"hovermode\": \"closest\", \"legend\": {\"orientation\": \"h\", \"x\": 0, \"y\": -0.25}, \"margin\": {\"b\": 100, \"l\": 35, \"pad\": 0, \"r\": 35, \"t\": 35}, \"width\": 950, \"xaxis\": {\"anchor\": \"y\", \"autorange\": false, \"domain\": [0.05, 0.45], \"exponentformat\": \"e\", \"range\": [0.0, 1.0], \"tickfont\": {\"size\": 11}, \"tickmode\": \"auto\", \"title\": {\"text\": \"x1\"}, \"type\": \"linear\"}, \"yaxis\": {\"anchor\": \"x\", \"autorange\": false, \"domain\": [0, 1], \"exponentformat\": \"e\", \"range\": [0.0, 1.0], \"tickfont\": {\"size\": 11}, \"tickmode\": \"auto\", \"title\": {\"text\": \"x2\"}, \"type\": \"linear\"}, \"xaxis2\": {\"anchor\": \"y2\", \"autorange\": false, \"domain\": [0.6, 1], \"exponentformat\": \"e\", \"range\": [0.0, 1.0], \"tickfont\": {\"size\": 11}, \"tickmode\": \"auto\", \"title\": {\"text\": \"x1\"}, \"type\": \"linear\"}, \"yaxis2\": {\"anchor\": \"x2\", \"autorange\": false, \"domain\": [0, 1], \"exponentformat\": \"e\", \"range\": [0.0, 1.0], \"tickfont\": {\"size\": 11}, \"tickmode\": \"auto\", \"type\": \"linear\"}},\n",
       "  {\"showLink\": false}\n",
       ");\n",
       "});</script>"
      ]
     },
     "metadata": {},
     "output_type": "display_data"
    }
   ],
   "source": [
    "render(\n",
    "    plot_contour(\n",
    "        model=ax.generation_strategy.model, param_x='x1', param_y='x2', metric_name='hartmann6'\n",
    "    )\n",
    ")"
   ]
  },
  {
   "cell_type": "markdown",
   "metadata": {},
   "source": [
    "We can also plot the optimization trace, showing the progression of finding the point with the optimal objective:"
   ]
  },
  {
   "cell_type": "code",
   "execution_count": 10,
   "metadata": {},
   "outputs": [
    {
     "data": {
      "text/html": [
       "<div id=\"4ee4c2b686a34f12be39417673e67f18\" style=\"width: 100%;\" class=\"plotly-graph-div\"></div><script type='text/javascript'>/*\n",
       " * Copyright (c) Facebook, Inc. and its affiliates. All Rights Reserved.\n",
       " */\n",
       "\n",
       "require(['plotly'], function(Plotly) {\n",
       "  window.PLOTLYENV = window.PLOTLYENV || {};\n",
       "  window.PLOTLYENV.BASE_URL = 'https://plot.ly';\n",
       "  /*\n",
       " * Copyright (c) Facebook, Inc. and its affiliates. All Rights Reserved.\n",
       " */\n",
       "\n",
       "Plotly.newPlot(\n",
       "  \"4ee4c2b686a34f12be39417673e67f18\",\n",
       "  [{\"hoverinfo\": \"none\", \"legendgroup\": \"\", \"line\": {\"width\": 0}, \"mode\": \"lines\", \"showlegend\": false, \"x\": [1, 2, 3, 4, 5, 6, 7, 8, 9, 10, 11, 12, 13, 14, 15, 16, 17, 18, 19, 20, 21, 22, 23, 24, 25, 26, 27, 28, 29, 30], \"y\": [-0.024705161841038808, -0.6846821418953587, -1.0648081378894974, -1.0648081378894974, -1.0648081378894974, -1.0648081378894974, -1.0648081378894974, -1.1540353123952227, -1.1540353123952227, -1.1540353123952227, -1.1540353123952227, -1.1540353123952227, -1.4678502553432888, -1.9049721698214468, -2.417036646109283, -2.755904486379182, -2.9188683651283895, -2.9188683651283895, -2.994830369095266, -3.0321757110657384, -3.0321757110657384, -3.0655473330847713, -3.0655473330847713, -3.0655473330847713, -3.0655473330847713, -3.0655473330847713, -3.0655473330847713, -3.0655473330847713, -3.0655473330847713, -3.136817523456694], \"type\": \"scatter\", \"uid\": \"a42dbcc7-0f62-4117-99cf-142cad948fad\"}, {\"fill\": \"tonexty\", \"fillcolor\": \"rgba(128,177,211,0.3)\", \"legendgroup\": \"mean\", \"line\": {\"color\": \"rgba(128,177,211,1)\"}, \"mode\": \"lines\", \"name\": \"mean\", \"x\": [1, 2, 3, 4, 5, 6, 7, 8, 9, 10, 11, 12, 13, 14, 15, 16, 17, 18, 19, 20, 21, 22, 23, 24, 25, 26, 27, 28, 29, 30], \"y\": [-0.024705161841038808, -0.6846821418953587, -1.0648081378894974, -1.0648081378894974, -1.0648081378894974, -1.0648081378894974, -1.0648081378894974, -1.1540353123952227, -1.1540353123952227, -1.1540353123952227, -1.1540353123952227, -1.1540353123952227, -1.4678502553432888, -1.9049721698214468, -2.417036646109283, -2.755904486379182, -2.9188683651283895, -2.9188683651283895, -2.994830369095266, -3.0321757110657384, -3.0321757110657384, -3.0655473330847713, -3.0655473330847713, -3.0655473330847713, -3.0655473330847713, -3.0655473330847713, -3.0655473330847713, -3.0655473330847713, -3.0655473330847713, -3.136817523456694], \"type\": \"scatter\", \"uid\": \"ff9f31af-f83b-446a-bc8a-cdd23adccf26\"}, {\"fill\": \"tonexty\", \"fillcolor\": \"rgba(128,177,211,0.3)\", \"hoverinfo\": \"none\", \"legendgroup\": \"\", \"line\": {\"width\": 0}, \"mode\": \"lines\", \"showlegend\": false, \"x\": [1, 2, 3, 4, 5, 6, 7, 8, 9, 10, 11, 12, 13, 14, 15, 16, 17, 18, 19, 20, 21, 22, 23, 24, 25, 26, 27, 28, 29, 30], \"y\": [-0.024705161841038808, -0.6846821418953587, -1.0648081378894974, -1.0648081378894974, -1.0648081378894974, -1.0648081378894974, -1.0648081378894974, -1.1540353123952227, -1.1540353123952227, -1.1540353123952227, -1.1540353123952227, -1.1540353123952227, -1.4678502553432888, -1.9049721698214468, -2.417036646109283, -2.755904486379182, -2.9188683651283895, -2.9188683651283895, -2.994830369095266, -3.0321757110657384, -3.0321757110657384, -3.0655473330847713, -3.0655473330847713, -3.0655473330847713, -3.0655473330847713, -3.0655473330847713, -3.0655473330847713, -3.0655473330847713, -3.0655473330847713, -3.136817523456694], \"type\": \"scatter\", \"uid\": \"c1911b2c-1051-47b0-a26c-4c501b308824\"}, {\"line\": {\"color\": \"rgba(253,180,98,1)\", \"dash\": \"dash\"}, \"mode\": \"lines\", \"name\": \"Optimum\", \"x\": [1, 30], \"y\": [-3.32237, -3.32237], \"type\": \"scatter\", \"uid\": \"8b67bb1f-7094-4701-bde2-eddf9d393183\"}],\n",
       "  {\"showlegend\": true, \"title\": {\"text\": \"Model performance vs. # of iterations\"}, \"xaxis\": {\"title\": {\"text\": \"Iteration\"}}, \"yaxis\": {\"title\": {\"text\": \"Hartmann6\"}}},\n",
       "  {\"showLink\": false}\n",
       ");\n",
       "});</script>"
      ]
     },
     "metadata": {},
     "output_type": "display_data"
    }
   ],
   "source": [
    "# `plot_single_method` expects a 2-d array of means, because it expects to average means from multiple \n",
    "# optimization runs, so we wrap out best objectives array in another array.\n",
    "best_objectives = np.array([[trial.objective_mean for trial in ax.experiment.trials.values()]])\n",
    "best_objective_plot = optimization_trace_single_method(\n",
    "    y=np.minimum.accumulate(best_objectives, axis=1),\n",
    "    optimum=hartmann6.fmin,\n",
    "    title=\"Model performance vs. # of iterations\",\n",
    "    ylabel=\"Hartmann6\",\n",
    ")\n",
    "render(best_objective_plot)"
   ]
  },
  {
   "cell_type": "markdown",
   "metadata": {},
   "source": [
    "# Special Cases"
   ]
  },
  {
   "cell_type": "markdown",
   "metadata": {},
   "source": [
    "**Evaluation failure**: should any optimization iterations fail during evaluation, `log_trial_failure` will ensure that the same trial is not proposed again."
   ]
  },
  {
   "cell_type": "code",
   "execution_count": 11,
   "metadata": {},
   "outputs": [],
   "source": [
    "_, trial_index = ax.get_next_trial()\n",
    "ax.log_trial_failure(trial_index=trial_index)"
   ]
  },
  {
   "cell_type": "markdown",
   "metadata": {},
   "source": [
    "**Adding custom trials**: should there be need to evaluate a specific parameterization, `attach_trial` will add it to the experiment."
   ]
  },
  {
   "cell_type": "code",
   "execution_count": 12,
   "metadata": {},
   "outputs": [
    {
     "data": {
      "text/plain": [
       "({'x1': 9.0, 'x2': 9.0, 'x3': 9.0, 'x4': 9.0, 'x5': 9.0, 'x6': 9.0}, 31)"
      ]
     },
     "execution_count": 12,
     "metadata": {},
     "output_type": "execute_result"
    }
   ],
   "source": [
    "ax.attach_trial(parameters={\"x1\": 9.0, \"x2\": 9.0, \"x3\": 9.0, \"x4\": 9.0, \"x5\": 9.0, \"x6\": 9.0})"
   ]
  },
  {
   "cell_type": "markdown",
   "metadata": {},
   "source": [
    "**Need to run many trials in parallel**: for optimal results and optimization efficiency, we strongly recommend sequential optimization (generating a few trials, then waiting for them to be completed with evaluation data). However, if your use case needs to dispatch many trials in parallel before they are updated with data and you are running into the *\"All trials for current model have been generated, but not enough data has been observed to fit next model\"* error, instantiate `AxClient` as `AxClient(enforce_sequential_optimization=False)`."
   ]
  }
 ],
 "metadata": {
  "kernelspec": {
   "display_name": "python3",
   "language": "python",
   "name": "python3"
  },
  "language_info": {
   "codemirror_mode": {
    "name": "ipython",
    "version": 3
   },
   "file_extension": ".py",
   "mimetype": "text/x-python",
   "name": "python",
   "nbconvert_exporter": "python",
   "pygments_lexer": "ipython3",
   "version": "3.7.3"
  }
 },
 "nbformat": 4,
 "nbformat_minor": 2
}
