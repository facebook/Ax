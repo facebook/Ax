{
 "cells": [
  {
   "cell_type": "markdown",
   "metadata": {
    "collapsed": true
   },
   "source": [
    "# Factorial design with empirical Bayes and Thompson Sampling"
   ]
  },
  {
   "cell_type": "markdown",
   "metadata": {},
   "source": [
    "<markdowncell>\n",
    "This tutorial illustrates how to run a factorial experiment. In such an experiment, each parameter (factor) can be assigned one of multiple discrete values (levels). A full-factorial experiment design explores all possible combinations of factors and levels.\n",
    "\n",
    "For instance, consider a banner with a title and an image. We are considering two different titles and three different images. A full-factorial experiment will compare all 2*3=6 possible combinations of title and image, to see which version of the banner performs the best.\n",
    "\n",
    "In this example, we first run an exploratory batch to collect data on all possible combinations. Then we use empirical Bayes to model the data and shrink noisy estimates toward the mean. Next, we use Thompson Sampling to suggest a set of arms (combinations of factors and levels) on which to collect more data. We repeat the process until we have identified the best performing combination(s)."
   ]
  },
  {
   "cell_type": "code",
   "execution_count": 1,
   "metadata": {
    "ExecuteTime": {
     "end_time": "2019-04-01T16:59:07.844357Z",
     "start_time": "2019-04-01T09:59:06.377921-07:00"
    },
    "collapsed": true
   },
   "outputs": [],
   "source": [
    "import numpy as np\n",
    "import pandas as pd\n",
    "import sklearn as skl\n",
    "from typing import Dict, Optional, Tuple, Union\n",
    "from ax import Arm, ChoiceParameter, Models, ParameterType, SearchSpace, SimpleExperiment\n",
    "from ax.plot.scatter import plot_fitted\n",
    "from ax.utils.notebook.plotting import render, init_notebook_plotting\n",
    "from ax.utils.stats.statstools import agresti_coull_sem"
   ]
  },
  {
   "cell_type": "code",
   "execution_count": 2,
   "metadata": {
    "ExecuteTime": {
     "end_time": "2019-04-01T16:59:07.852360Z",
     "start_time": "2019-04-01T09:59:07.846655-07:00"
    }
   },
   "outputs": [
    {
     "data": {
      "text/html": [
       "<script type='text/javascript'>/*\n",
       " * Copyright (c) Facebook, Inc. and its affiliates. All Rights Reserved.\n",
       " */\n",
       "\n",
       "requirejs.config({\n",
       "  paths: {\n",
       "    plotly: ['https://cdn.plot.ly/plotly-latest.min'],\n",
       "  },\n",
       "});\n",
       "if (!window.Plotly) {\n",
       "  require(['plotly'], function(plotly) {\n",
       "    window.Plotly = plotly;\n",
       "  });\n",
       "}\n",
       "/*\n",
       " * Copyright (c) Facebook, Inc. and its affiliates. All Rights Reserved.\n",
       " */\n",
       "\n",
       "// helper functions used across multiple plots\n",
       "function rgb(rgb_array) {\n",
       "  return 'rgb(' + rgb_array.join() + ')';\n",
       "}\n",
       "\n",
       "function copy_and_reverse(arr) {\n",
       "  const copy = arr.slice();\n",
       "  copy.reverse();\n",
       "  return copy;\n",
       "}\n",
       "\n",
       "function axis_range(grid, is_log) {\n",
       "  return is_log\n",
       "    ? [Math.log10(Math.min(...grid)), Math.log10(Math.max(...grid))]\n",
       "    : [Math.min(...grid), Math.max(...grid)];\n",
       "}\n",
       "\n",
       "function relativize_data(f, sd, rel, arm_data, metric) {\n",
       "  // if relative, extract status quo & compute ratio\n",
       "  const f_final = rel === true ? [] : f;\n",
       "  const sd_final = rel === true ? [] : sd;\n",
       "\n",
       "  if (rel === true) {\n",
       "    const f_sq =\n",
       "      arm_data['in_sample'][arm_data['status_quo_name']]['y'][metric];\n",
       "    const sd_sq =\n",
       "      arm_data['in_sample'][arm_data['status_quo_name']]['se'][metric];\n",
       "\n",
       "    for (let i = 0; i < f.length; i++) {\n",
       "      res = relativize(f[i], sd[i], f_sq, sd_sq);\n",
       "      f_final.push(100 * res[0]);\n",
       "      sd_final.push(100 * res[1]);\n",
       "    }\n",
       "  }\n",
       "\n",
       "  return [f_final, sd_final];\n",
       "}\n",
       "\n",
       "function relativize(m_t, sem_t, m_c, sem_c) {\n",
       "  r_hat =\n",
       "    (m_t - m_c) / Math.abs(m_c) -\n",
       "    (Math.pow(sem_c, 2) * m_t) / Math.pow(Math.abs(m_c), 3);\n",
       "  variance =\n",
       "    (Math.pow(sem_t, 2) + Math.pow((m_t / m_c) * sem_c, 2)) / Math.pow(m_c, 2);\n",
       "  return [r_hat, Math.sqrt(variance)];\n",
       "}\n",
       "\n",
       "function slice_config_to_trace(\n",
       "  arm_data,\n",
       "  arm_name_to_parameters,\n",
       "  f,\n",
       "  fit_data,\n",
       "  grid,\n",
       "  metric,\n",
       "  param,\n",
       "  rel,\n",
       "  setx,\n",
       "  sd,\n",
       "  is_log,\n",
       "  visible,\n",
       ") {\n",
       "  // format data\n",
       "  const res = relativize_data(f, sd, rel, arm_data, metric);\n",
       "  const f_final = res[0];\n",
       "  const sd_final = res[1];\n",
       "\n",
       "  // get data for standard deviation fill plot\n",
       "  const sd_upper = [];\n",
       "  const sd_lower = [];\n",
       "  for (let i = 0; i < sd.length; i++) {\n",
       "    sd_upper.push(f_final[i] + 2 * sd_final[i]);\n",
       "    sd_lower.push(f_final[i] - 2 * sd_final[i]);\n",
       "  }\n",
       "  const grid_rev = copy_and_reverse(grid);\n",
       "  const sd_lower_rev = copy_and_reverse(sd_lower);\n",
       "  const sd_x = grid.concat(grid_rev);\n",
       "  const sd_y = sd_upper.concat(sd_lower_rev);\n",
       "\n",
       "  // get data for observed arms and error bars\n",
       "  const arm_x = [];\n",
       "  const arm_y = [];\n",
       "  const arm_sem = [];\n",
       "  fit_data.forEach(row => {\n",
       "    parameters = arm_name_to_parameters[row['arm_name']];\n",
       "    plot = true;\n",
       "    Object.keys(setx).forEach(p => {\n",
       "      if (p !== param && parameters[p] !== setx[p]) {\n",
       "        plot = false;\n",
       "      }\n",
       "    });\n",
       "    if (plot === true) {\n",
       "      arm_x.push(parameters[param]);\n",
       "      arm_y.push(row['mean']);\n",
       "      arm_sem.push(row['sem']);\n",
       "    }\n",
       "  });\n",
       "\n",
       "  const arm_res = relativize_data(arm_y, arm_sem, rel, arm_data, metric);\n",
       "  const arm_y_final = arm_res[0];\n",
       "  const arm_sem_final = arm_res[1].map(x => x * 2);\n",
       "\n",
       "  // create traces\n",
       "  const f_trace = {\n",
       "    x: grid,\n",
       "    y: f_final,\n",
       "    showlegend: false,\n",
       "    hoverinfo: 'x+y',\n",
       "    line: {\n",
       "      color: 'rgba(128, 177, 211, 1)',\n",
       "    },\n",
       "    visible: visible,\n",
       "  };\n",
       "\n",
       "  const arms_trace = {\n",
       "    x: arm_x,\n",
       "    y: arm_y_final,\n",
       "    mode: 'markers',\n",
       "    error_y: {\n",
       "      type: 'data',\n",
       "      array: arm_sem_final,\n",
       "      visible: true,\n",
       "      color: 'black',\n",
       "    },\n",
       "    line: {\n",
       "      color: 'black',\n",
       "    },\n",
       "    showlegend: false,\n",
       "    hoverinfo: 'x+y',\n",
       "    visible: visible,\n",
       "  };\n",
       "\n",
       "  const sd_trace = {\n",
       "    x: sd_x,\n",
       "    y: sd_y,\n",
       "    fill: 'toself',\n",
       "    fillcolor: 'rgba(128, 177, 211, 0.2)',\n",
       "    line: {\n",
       "      color: 'transparent',\n",
       "    },\n",
       "    showlegend: false,\n",
       "    hoverinfo: 'none',\n",
       "    visible: visible,\n",
       "  };\n",
       "\n",
       "  traces = [sd_trace, f_trace, arms_trace];\n",
       "\n",
       "  // iterate over out-of-sample arms\n",
       "  let i = 1;\n",
       "  Object.keys(arm_data['out_of_sample']).forEach(generator_run_name => {\n",
       "    const ax = [];\n",
       "    const ay = [];\n",
       "    const asem = [];\n",
       "    const atext = [];\n",
       "\n",
       "    Object.keys(arm_data['out_of_sample'][generator_run_name]).forEach(\n",
       "      arm_name => {\n",
       "        const parameters =\n",
       "          arm_data['out_of_sample'][generator_run_name][arm_name]['parameters'];\n",
       "        plot = true;\n",
       "        Object.keys(setx).forEach(p => {\n",
       "          if (p !== param && parameters[p] !== setx[p]) {\n",
       "            plot = false;\n",
       "          }\n",
       "        });\n",
       "        if (plot === true) {\n",
       "          ax.push(parameters[param]);\n",
       "          ay.push(\n",
       "            arm_data['out_of_sample'][generator_run_name][arm_name]['y_hat'][\n",
       "              metric\n",
       "            ],\n",
       "          );\n",
       "          asem.push(\n",
       "            arm_data['out_of_sample'][generator_run_name][arm_name]['se_hat'][\n",
       "              metric\n",
       "            ],\n",
       "          );\n",
       "          atext.push('<em>Candidate ' + arm_name + '</em>');\n",
       "        }\n",
       "      },\n",
       "    );\n",
       "\n",
       "    const out_of_sample_arm_res = relativize_data(\n",
       "      ay,\n",
       "      asem,\n",
       "      rel,\n",
       "      arm_data,\n",
       "      metric,\n",
       "    );\n",
       "    const ay_final = out_of_sample_arm_res[0];\n",
       "    const asem_final = out_of_sample_arm_res[1].map(x => x * 2);\n",
       "\n",
       "    traces.push({\n",
       "      hoverinfo: 'text',\n",
       "      legendgroup: generator_run_name,\n",
       "      marker: {color: 'black', symbol: i, opacity: 0.5},\n",
       "      mode: 'markers',\n",
       "      error_y: {\n",
       "        type: 'data',\n",
       "        array: asem_final,\n",
       "        visible: true,\n",
       "        color: 'black',\n",
       "      },\n",
       "      name: generator_run_name,\n",
       "      text: atext,\n",
       "      type: 'scatter',\n",
       "      xaxis: 'x',\n",
       "      x: ax,\n",
       "      yaxis: 'y',\n",
       "      y: ay_final,\n",
       "      visible: visible,\n",
       "    });\n",
       "\n",
       "    i += 1;\n",
       "  });\n",
       "  return traces;\n",
       "}\n",
       "</script>"
      ]
     },
     "metadata": {},
     "output_type": "display_data"
    },
    {
     "name": "stderr",
     "output_type": "stream",
     "text": [
      "[INFO 08-29 13:21:29] ipy_plotting: Injecting Plotly library into cell. Do not overwrite or delete cell.\n"
     ]
    }
   ],
   "source": [
    "init_notebook_plotting()"
   ]
  },
  {
   "cell_type": "markdown",
   "metadata": {},
   "source": [
    "## 1. Define the search space"
   ]
  },
  {
   "cell_type": "markdown",
   "metadata": {},
   "source": [
    "<markdowncell>\n",
    "First, we define our search space. A factorial search space contains a ChoiceParameter for each factor, where the values of the parameter are its levels."
   ]
  },
  {
   "cell_type": "code",
   "execution_count": 3,
   "metadata": {
    "ExecuteTime": {
     "end_time": "2019-04-01T16:59:07.861686Z",
     "start_time": "2019-04-01T09:59:07.854353-07:00"
    },
    "collapsed": true
   },
   "outputs": [],
   "source": [
    "search_space = SearchSpace(\n",
    "    parameters=[\n",
    "        ChoiceParameter(\n",
    "            name=\"factor1\",\n",
    "            parameter_type=ParameterType.STRING,\n",
    "            values=[\"level11\", \"level12\", \"level13\"],\n",
    "        ),\n",
    "        ChoiceParameter(\n",
    "            name=\"factor2\",\n",
    "            parameter_type=ParameterType.STRING,\n",
    "            values=[\"level21\", \"level22\"],\n",
    "        ),\n",
    "        ChoiceParameter(\n",
    "            name=\"factor3\",\n",
    "            parameter_type=ParameterType.STRING,\n",
    "            values=[\"level31\", \"level32\", \"level33\", \"level34\"],\n",
    "        ),\n",
    "    ]\n",
    ")"
   ]
  },
  {
   "cell_type": "markdown",
   "metadata": {},
   "source": [
    "## 2. Define the evaluation function"
   ]
  },
  {
   "cell_type": "markdown",
   "metadata": {},
   "source": [
    "<markdowncell>\n",
    "Second, we define an evaluation function, which is responsible for computing\n",
    "the mean and standard error of a given arm.\n",
    "\n",
    "In this example, each possible parameter value is given a coefficient. The higher the level, the higher the coefficient, and the higher the coefficients, the greater the mean.\n",
    "\n",
    "The standard error of each arm is determined by the weight passed into the evaluation function, which represents the size of the population on which this arm was evaluated. The higher the weight, the greater the sample size, and thus the lower the standard error."
   ]
  },
  {
   "cell_type": "code",
   "execution_count": 4,
   "metadata": {
    "ExecuteTime": {
     "end_time": "2019-04-01T16:59:07.871141Z",
     "start_time": "2019-04-01T09:59:07.863475-07:00"
    },
    "collapsed": true
   },
   "outputs": [],
   "source": [
    "one_hot_encoder = skl.preprocessing.OneHotEncoder(\n",
    "    categories=[par.values for par in search_space.parameters.values()], \n",
    ")\n",
    "\n",
    "def factorial_evaluation_function(\n",
    "    # `parameterization` is a dict of parameter names to values of those parameters.\n",
    "    parameterization: Dict[str, Optional[Union[str, bool, float]]],\n",
    "    # `weight` is the weight of the parameterization, \n",
    "    # which is used to determine the variance of the estimate.\n",
    "    weight: Optional[float] = None,\n",
    ") -> Dict[str, Tuple[float, float]]:  # Mapping of metric names to tuple of mean and standard error.\n",
    "    batch_size = 10000\n",
    "    noise_level = 0.0\n",
    "    weight = weight if weight is not None else 1.0\n",
    "    coefficients = np.array([\n",
    "        0.1, 0.2, 0.3,\n",
    "        0.1, 0.2,\n",
    "        0.1, 0.2, 0.3, 0.4\n",
    "    ])\n",
    "    features = np.array(list(parameterization.values())).reshape(1, -1)\n",
    "    encoded_features = one_hot_encoder.fit_transform(features)\n",
    "    z = coefficients @ encoded_features.T + np.sqrt(noise_level) * np.random.randn()\n",
    "    p = np.exp(z) / (1 + np.exp(z))\n",
    "    plays = np.random.binomial(batch_size, weight)\n",
    "    successes = np.random.binomial(plays, p)\n",
    "    mean = float(successes) / plays\n",
    "    sem = agresti_coull_sem(successes, plays)\n",
    "    return {\n",
    "        \"success_metric\": (mean, sem)\n",
    "    }"
   ]
  },
  {
   "cell_type": "markdown",
   "metadata": {},
   "source": [
    "## 3. Define the experiment"
   ]
  },
  {
   "cell_type": "markdown",
   "metadata": {},
   "source": [
    "<markdowncell>\n",
    "We now set up our experiment and define the status quo arm, in which each parameter is assigned to the lowest level."
   ]
  },
  {
   "cell_type": "code",
   "execution_count": 5,
   "metadata": {
    "ExecuteTime": {
     "end_time": "2019-04-01T16:59:07.876425Z",
     "start_time": "2019-04-01T09:59:07.872766-07:00"
    },
    "collapsed": true
   },
   "outputs": [],
   "source": [
    "exp = SimpleExperiment(\n",
    "    name=\"my_factorial_closed_loop_experiment\",\n",
    "    search_space=search_space,\n",
    "    evaluation_function=factorial_evaluation_function,\n",
    "    objective_name=\"success_metric\",\n",
    ")\n",
    "exp.status_quo = Arm(\n",
    "    parameters={\"factor1\": \"level11\", \"factor2\": \"level21\", \"factor3\": \"level31\"}\n",
    ")"
   ]
  },
  {
   "cell_type": "markdown",
   "metadata": {},
   "source": [
    "## 4. Run an exploratory batch"
   ]
  },
  {
   "cell_type": "markdown",
   "metadata": {},
   "source": [
    "<markdowncell>\n",
    "We then generate an a set of arms that covers the full space of the factorial design, including the status quo. There are three parameters, with two, three, and four values, respectively, so there are 24 possible arms."
   ]
  },
  {
   "cell_type": "code",
   "execution_count": 6,
   "metadata": {},
   "outputs": [
    {
     "name": "stdout",
     "output_type": "stream",
     "text": [
      "24\n"
     ]
    }
   ],
   "source": [
    "factorial = Models.FACTORIAL(search_space=exp.search_space)\n",
    "factorial_run = factorial.gen(n=-1)  # Number of arms to generate is derived from the search space.\n",
    "print(len(factorial_run.arms))"
   ]
  },
  {
   "cell_type": "markdown",
   "metadata": {},
   "source": [
    "Now we create a trial including all of these arms, so that we can collect data and evaluate the performance of each."
   ]
  },
  {
   "cell_type": "code",
   "execution_count": 7,
   "metadata": {
    "collapsed": true
   },
   "outputs": [],
   "source": [
    "trial = (\n",
    "    exp.new_batch_trial()\n",
    "    .add_generator_run(factorial_run, multiplier=1)\n",
    ")"
   ]
  },
  {
   "cell_type": "markdown",
   "metadata": {},
   "source": [
    "By default, the weight of each arm in `factorial_run` will be 1. However, to optimize for power on the contrasts of `k` groups against the status quo, the status quo should be `sqrt(k)` larger than any of the treatment groups. Since we have 24 different arms in our search space, the status quo should be roughly five times larger.\n",
    "\n",
    "Because the status quo is already present in `factorial_run` with a weight of 1, we need to add an additional weight of 4."
   ]
  },
  {
   "cell_type": "code",
   "execution_count": 8,
   "metadata": {
    "ExecuteTime": {
     "end_time": "2019-04-01T16:59:07.906856Z",
     "start_time": "2019-04-01T09:59:07.878299-07:00"
    }
   },
   "outputs": [
    {
     "name": "stdout",
     "output_type": "stream",
     "text": [
      "5.0\n"
     ]
    }
   ],
   "source": [
    "trial.reweight_status_quo(4)\n",
    "print(trial.arm_weights[trial.status_quo])"
   ]
  },
  {
   "cell_type": "markdown",
   "metadata": {},
   "source": [
    "## 5. Iterate using Thompson Sampling"
   ]
  },
  {
   "cell_type": "markdown",
   "metadata": {},
   "source": [
    "<markdowncell>\n",
    "Next, we run multiple trials (iterations of the experiment) to hone in on the optimal arm(s). \n",
    "\n",
    "In each iteration, we first collect data about all arms in that trial by calling `exp.eval_trial()`. Then we run Thompson Sampling, which assigns a weight to each arm that is proportional to the probability of that arm being the best. Arms whose weight exceed `min_weight` are added to the next trial, so that we can gather more data on their performance."
   ]
  },
  {
   "cell_type": "code",
   "execution_count": 9,
   "metadata": {
    "ExecuteTime": {
     "end_time": "2019-04-01T16:59:08.480646Z",
     "start_time": "2019-04-01T09:59:07.908822-07:00"
    }
   },
   "outputs": [
    {
     "name": "stdout",
     "output_type": "stream",
     "text": [
      "Running iteration 1...\n",
      "Running iteration 2...\n",
      "Running iteration 3...\n",
      "Running iteration 4...\n"
     ]
    }
   ],
   "source": [
    "models = []\n",
    "for i in range(4):\n",
    "    print(\"Running iteration {}...\".format(i+1))\n",
    "    data = exp.eval_trial(trial)\n",
    "    thompson = Models.THOMPSON(\n",
    "        experiment=exp, data=data, min_weight=0.01\n",
    "    )\n",
    "    models.append(thompson)\n",
    "    thompson_run = thompson.gen(n=-1)\n",
    "    trial = exp.new_batch_trial().add_generator_run(thompson_run)"
   ]
  },
  {
   "cell_type": "markdown",
   "metadata": {},
   "source": [
    "## Plot 1: Predicted outcomes for each arm in initial trial"
   ]
  },
  {
   "cell_type": "markdown",
   "metadata": {},
   "source": [
    "<markdowncell>\n",
    "The plot below shows the mean and standard error for each arm in the first trial. We can see that the standard error for the status quo is the smallest, since this arm was assigned 5x weight."
   ]
  },
  {
   "cell_type": "code",
   "execution_count": 10,
   "metadata": {
    "ExecuteTime": {
     "end_time": "2019-04-01T16:59:08.534814Z",
     "start_time": "2019-04-01T09:59:08.482576-07:00"
    },
    "scrolled": false
   },
   "outputs": [
    {
     "data": {
      "text/html": [
       "<div id=\"29640b96d7464a84b3e9a70a8e5de13c\" style=\"width: 100%;\" class=\"plotly-graph-div\"></div><script type='text/javascript'>/*\n",
       " * Copyright (c) Facebook, Inc. and its affiliates. All Rights Reserved.\n",
       " */\n",
       "\n",
       "require(['plotly'], function(Plotly) {\n",
       "  window.PLOTLYENV = window.PLOTLYENV || {};\n",
       "  window.PLOTLYENV.BASE_URL = 'https://plot.ly';\n",
       "  /*\n",
       " * Copyright (c) Facebook, Inc. and its affiliates. All Rights Reserved.\n",
       " */\n",
       "\n",
       "Plotly.newPlot(\n",
       "  \"29640b96d7464a84b3e9a70a8e5de13c\",\n",
       "  [{\"error_y\": {\"array\": [0.05116815275586078, 0.05026513503957238, 0.048142206010830156, 0.04873346958048883, 0.05142612052177897, 0.048758244421111666, 0.047701351086419055, 0.05185842715954775, 0.05019784893839167, 0.04657722880249345, 0.04764154953541278, 0.04946700253742993, 0.04806206969123495, 0.04886680057880445, 0.047313685257262234, 0.046502933009181464, 0.05354697021777517, 0.05242346619792724, 0.050769765419289035, 0.0483463367136878, 0.05023951649347526, 0.05059412769423745, 0.04974337496649377, 0.022949587913487293], \"color\": \"rgba(128,177,211,0.4)\", \"type\": \"data\"}, \"hoverinfo\": \"text\", \"legendgroup\": \"In-sample\", \"marker\": {\"color\": \"rgba(128,177,211,1)\"}, \"mode\": \"markers\", \"name\": \"In-sample\", \"showlegend\": true, \"text\": [\"<b>Arm 0_0</b><br><br>success_metric: 0.574 [0.523, 0.625]<br><br><em>Parameterization:</em><br>factor1: level11<br>factor2: level21<br>factor3: level32\", \"<b>Arm 0_1</b><br><br>success_metric: 0.645 [0.594, 0.695]<br><br><em>Parameterization:</em><br>factor1: level11<br>factor2: level21<br>factor3: level33\", \"<b>Arm 0_10</b><br><br>success_metric: 0.658 [0.610, 0.706]<br><br><em>Parameterization:</em><br>factor1: level12<br>factor2: level21<br>factor3: level34\", \"<b>Arm 0_11</b><br><br>success_metric: 0.616 [0.567, 0.665]<br><br><em>Parameterization:</em><br>factor1: level12<br>factor2: level22<br>factor3: level31\", \"<b>Arm 0_12</b><br><br>success_metric: 0.633 [0.582, 0.685]<br><br><em>Parameterization:</em><br>factor1: level12<br>factor2: level22<br>factor3: level32\", \"<b>Arm 0_13</b><br><br>success_metric: 0.676 [0.627, 0.725]<br><br><em>Parameterization:</em><br>factor1: level12<br>factor2: level22<br>factor3: level33\", \"<b>Arm 0_14</b><br><br>success_metric: 0.736 [0.689, 0.784]<br><br><em>Parameterization:</em><br>factor1: level12<br>factor2: level22<br>factor3: level34\", \"<b>Arm 0_15</b><br><br>success_metric: 0.629 [0.577, 0.681]<br><br><em>Parameterization:</em><br>factor1: level13<br>factor2: level21<br>factor3: level31\", \"<b>Arm 0_16</b><br><br>success_metric: 0.637 [0.587, 0.688]<br><br><em>Parameterization:</em><br>factor1: level13<br>factor2: level21<br>factor3: level32\", \"<b>Arm 0_17</b><br><br>success_metric: 0.668 [0.621, 0.714]<br><br><em>Parameterization:</em><br>factor1: level13<br>factor2: level21<br>factor3: level33\", \"<b>Arm 0_18</b><br><br>success_metric: 0.654 [0.606, 0.701]<br><br><em>Parameterization:</em><br>factor1: level13<br>factor2: level21<br>factor3: level34\", \"<b>Arm 0_19</b><br><br>success_metric: 0.641 [0.591, 0.690]<br><br><em>Parameterization:</em><br>factor1: level13<br>factor2: level22<br>factor3: level31\", \"<b>Arm 0_2</b><br><br>success_metric: 0.644 [0.596, 0.692]<br><br><em>Parameterization:</em><br>factor1: level11<br>factor2: level21<br>factor3: level34\", \"<b>Arm 0_20</b><br><br>success_metric: 0.669 [0.621, 0.718]<br><br><em>Parameterization:</em><br>factor1: level13<br>factor2: level22<br>factor3: level32\", \"<b>Arm 0_21</b><br><br>success_metric: 0.703 [0.655, 0.750]<br><br><em>Parameterization:</em><br>factor1: level13<br>factor2: level22<br>factor3: level33\", \"<b>Arm 0_22</b><br><br>success_metric: 0.709 [0.663, 0.756]<br><br><em>Parameterization:</em><br>factor1: level13<br>factor2: level22<br>factor3: level34\", \"<b>Arm 0_3</b><br><br>success_metric: 0.578 [0.524, 0.632]<br><br><em>Parameterization:</em><br>factor1: level11<br>factor2: level22<br>factor3: level31\", \"<b>Arm 0_4</b><br><br>success_metric: 0.616 [0.564, 0.669]<br><br><em>Parameterization:</em><br>factor1: level11<br>factor2: level22<br>factor3: level32\", \"<b>Arm 0_5</b><br><br>success_metric: 0.652 [0.601, 0.703]<br><br><em>Parameterization:</em><br>factor1: level11<br>factor2: level22<br>factor3: level33\", \"<b>Arm 0_6</b><br><br>success_metric: 0.696 [0.648, 0.745]<br><br><em>Parameterization:</em><br>factor1: level11<br>factor2: level22<br>factor3: level34\", \"<b>Arm 0_7</b><br><br>success_metric: 0.518 [0.468, 0.569]<br><br><em>Parameterization:</em><br>factor1: level12<br>factor2: level21<br>factor3: level31\", \"<b>Arm 0_8</b><br><br>success_metric: 0.643 [0.593, 0.694]<br><br><em>Parameterization:</em><br>factor1: level12<br>factor2: level21<br>factor3: level32\", \"<b>Arm 0_9</b><br><br>success_metric: 0.636 [0.586, 0.686]<br><br><em>Parameterization:</em><br>factor1: level12<br>factor2: level21<br>factor3: level33\", \"<b>Arm status_quo</b><br><br>success_metric: 0.566 [0.543, 0.589]<br><br><em>Parameterization:</em><br>factor1: level11<br>factor2: level21<br>factor3: level31\"], \"visible\": true, \"x\": [\"0_0\", \"0_1\", \"0_10\", \"0_11\", \"0_12\", \"0_13\", \"0_14\", \"0_15\", \"0_16\", \"0_17\", \"0_18\", \"0_19\", \"0_2\", \"0_20\", \"0_21\", \"0_22\", \"0_3\", \"0_4\", \"0_5\", \"0_6\", \"0_7\", \"0_8\", \"0_9\", \"status_quo\"], \"y\": [0.5738161559888579, 0.6446991404011462, 0.6577540106951871, 0.6161879895561357, 0.6331360946745562, 0.676056338028169, 0.7363636363636363, 0.6287425149700598, 0.6373937677053825, 0.6675126903553299, 0.6536458333333334, 0.6408839779005525, 0.643979057591623, 0.6694677871148459, 0.7027777777777777, 0.7092391304347826, 0.5779816513761468, 0.6163141993957704, 0.6519174041297935, 0.6962750716332379, 0.5184210526315789, 0.6434782608695652, 0.6361111111111111, 0.5658482142857143], \"type\": \"scatter\", \"uid\": \"df2e2214-33ab-47ca-b5c2-ac01d36da1d0\"}],\n",
       "  {\"annotations\": [{\"showarrow\": false, \"text\": \"Sort By\", \"x\": 1.18, \"xref\": \"paper\", \"y\": 0.72, \"yanchor\": \"middle\", \"yref\": \"paper\"}], \"font\": {\"size\": 10}, \"hovermode\": \"closest\", \"title\": {\"text\": \"Predicted Outcomes\"}, \"updatemenus\": [{\"buttons\": [{\"args\": [{\"xaxis.categoryorder\": \"array\", \"xaxis.categoryarray\": [\"status_quo\", \"0_0\", \"0_1\", \"0_2\", \"0_3\", \"0_4\", \"0_5\", \"0_6\", \"0_7\", \"0_8\", \"0_9\", \"0_10\", \"0_11\", \"0_12\", \"0_13\", \"0_14\", \"0_15\", \"0_16\", \"0_17\", \"0_18\", \"0_19\", \"0_20\", \"0_21\", \"0_22\"]}], \"label\": \"Name\", \"method\": \"relayout\"}, {\"args\": [{\"xaxis.categoryorder\": \"array\", \"xaxis.categoryarray\": [\"0_7\", \"status_quo\", \"0_0\", \"0_3\", \"0_11\", \"0_4\", \"0_15\", \"0_12\", \"0_9\", \"0_16\", \"0_19\", \"0_8\", \"0_2\", \"0_1\", \"0_5\", \"0_18\", \"0_10\", \"0_17\", \"0_20\", \"0_13\", \"0_6\", \"0_21\", \"0_22\", \"0_14\"]}], \"label\": \"Effect Size\", \"method\": \"relayout\"}], \"x\": 1.25, \"xanchor\": \"left\", \"y\": 0.67, \"yanchor\": \"middle\"}], \"xaxis\": {\"categoryarray\": [\"status_quo\", \"0_0\", \"0_1\", \"0_2\", \"0_3\", \"0_4\", \"0_5\", \"0_6\", \"0_7\", \"0_8\", \"0_9\", \"0_10\", \"0_11\", \"0_12\", \"0_13\", \"0_14\", \"0_15\", \"0_16\", \"0_17\", \"0_18\", \"0_19\", \"0_20\", \"0_21\", \"0_22\"], \"categoryorder\": \"array\", \"tickangle\": 45}, \"yaxis\": {\"title\": {\"text\": \"success_metric\"}, \"zerolinecolor\": \"red\"}},\n",
       "  {\"showLink\": false}\n",
       ");\n",
       "});</script>"
      ]
     },
     "metadata": {},
     "output_type": "display_data"
    }
   ],
   "source": [
    "render(plot_fitted(models[0], metric=\"success_metric\", rel=False))"
   ]
  },
  {
   "cell_type": "markdown",
   "metadata": {},
   "source": [
    "## Plot 2: Predicted outcomes for arms in last trial"
   ]
  },
  {
   "cell_type": "markdown",
   "metadata": {},
   "source": [
    "The following plot below shows the mean and standard error for each arm that made it to the last trial (as well as the status quo, which appears throughout). "
   ]
  },
  {
   "cell_type": "code",
   "execution_count": 11,
   "metadata": {},
   "outputs": [
    {
     "data": {
      "text/html": [
       "<div id=\"e9f88a16f19842f48789732813629613\" style=\"width: 100%;\" class=\"plotly-graph-div\"></div><script type='text/javascript'>/*\n",
       " * Copyright (c) Facebook, Inc. and its affiliates. All Rights Reserved.\n",
       " */\n",
       "\n",
       "require(['plotly'], function(Plotly) {\n",
       "  window.PLOTLYENV = window.PLOTLYENV || {};\n",
       "  window.PLOTLYENV.BASE_URL = 'https://plot.ly';\n",
       "  /*\n",
       " * Copyright (c) Facebook, Inc. and its affiliates. All Rights Reserved.\n",
       " */\n",
       "\n",
       "Plotly.newPlot(\n",
       "  \"e9f88a16f19842f48789732813629613\",\n",
       "  [{\"error_y\": {\"array\": [0.04982843382286636, 0.01125317437309093, 0.016892821769305743], \"color\": \"rgba(128,177,211,0.4)\", \"type\": \"data\"}, \"hoverinfo\": \"text\", \"legendgroup\": \"In-sample\", \"marker\": {\"color\": \"rgba(128,177,211,1)\"}, \"mode\": \"markers\", \"name\": \"In-sample\", \"showlegend\": true, \"text\": [\"<b>Arm 0_13</b><br><br>success_metric: 0.694 [0.644, 0.744]<br><br><em>Parameterization:</em><br>factor1: level12<br>factor2: level22<br>factor3: level33\", \"<b>Arm 0_22</b><br><br>success_metric: 0.702 [0.691, 0.713]<br><br><em>Parameterization:</em><br>factor1: level13<br>factor2: level22<br>factor3: level34\", \"<b>Arm status_quo</b><br><br>success_metric: 0.583 [0.567, 0.600]<br><br><em>Parameterization:</em><br>factor1: level11<br>factor2: level21<br>factor3: level31\"], \"visible\": true, \"x\": [\"0_13\", \"0_22\", \"status_quo\"], \"y\": [0.693939393939394, 0.702063967228612, 0.5834352078239609], \"type\": \"scatter\", \"uid\": \"96af51e2-c6db-4407-89b6-fa22e34c5c38\"}],\n",
       "  {\"annotations\": [{\"showarrow\": false, \"text\": \"Sort By\", \"x\": 1.18, \"xref\": \"paper\", \"y\": 0.72, \"yanchor\": \"middle\", \"yref\": \"paper\"}], \"font\": {\"size\": 10}, \"hovermode\": \"closest\", \"title\": {\"text\": \"Predicted Outcomes\"}, \"updatemenus\": [{\"buttons\": [{\"args\": [{\"xaxis.categoryorder\": \"array\", \"xaxis.categoryarray\": [\"status_quo\", \"0_13\", \"0_22\"]}], \"label\": \"Name\", \"method\": \"relayout\"}, {\"args\": [{\"xaxis.categoryorder\": \"array\", \"xaxis.categoryarray\": [\"status_quo\", \"0_13\", \"0_22\"]}], \"label\": \"Effect Size\", \"method\": \"relayout\"}], \"x\": 1.25, \"xanchor\": \"left\", \"y\": 0.67, \"yanchor\": \"middle\"}], \"xaxis\": {\"categoryarray\": [\"status_quo\", \"0_13\", \"0_22\"], \"categoryorder\": \"array\", \"tickangle\": 45}, \"yaxis\": {\"title\": {\"text\": \"success_metric\"}, \"zerolinecolor\": \"red\"}},\n",
       "  {\"showLink\": false}\n",
       ");\n",
       "});</script>"
      ]
     },
     "metadata": {},
     "output_type": "display_data"
    }
   ],
   "source": [
    "render(plot_fitted(models[-1], metric=\"success_metric\", rel=False))"
   ]
  },
  {
   "cell_type": "markdown",
   "metadata": {},
   "source": [
    "<markdowncell>\n",
    "As expected given our evaluation function, arms with higher levels\n",
    "perform better and are given higher weight. Below we see the arms\n",
    "that made it to the final trial."
   ]
  },
  {
   "cell_type": "code",
   "execution_count": 12,
   "metadata": {
    "ExecuteTime": {
     "end_time": "2019-04-01T16:59:08.548754Z",
     "start_time": "2019-04-01T09:59:08.536758-07:00"
    }
   },
   "outputs": [
    {
     "name": "stdout",
     "output_type": "stream",
     "text": [
      "                    values    weight\n",
      "0  level13,level22,level34  0.416000\n",
      "1  level12,level22,level33  0.250667\n",
      "2  level11,level21,level31  0.333333\n"
     ]
    }
   ],
   "source": [
    "results = pd.DataFrame(\n",
    "    [\n",
    "        {\"values\": \",\".join(arm.parameters.values()), \"weight\": weight}\n",
    "        for arm, weight in trial.normalized_arm_weights().items()\n",
    "    ]\n",
    ")\n",
    "print(results)"
   ]
  },
  {
   "cell_type": "markdown",
   "metadata": {},
   "source": [
    "## Plot 3: Rollout Process"
   ]
  },
  {
   "cell_type": "markdown",
   "metadata": {},
   "source": [
    "We can also visualize the progression of the experience in the following rollout chart. Each bar represents a trial, and the width of the bands within a bar are proportional to the weight of the arms in that trial. \n",
    "\n",
    "In the first trial, all arms appear with equal weight, except for the status quo. By the last trial, we have narrowed our focus to only four arms, with arm 0_22 (the arm with the highest levels) having the greatest weight."
   ]
  },
  {
   "cell_type": "code",
   "execution_count": 13,
   "metadata": {
    "ExecuteTime": {
     "end_time": "2019-04-01T16:59:08.569844Z",
     "start_time": "2019-04-01T09:59:08.550440-07:00"
    }
   },
   "outputs": [
    {
     "data": {
      "text/html": [
       "<div id=\"3cb5d9cc81274a839d6c6de9f50c1f04\" style=\"width: 100%;\" class=\"plotly-graph-div\"></div><script type='text/javascript'>/*\n",
       " * Copyright (c) Facebook, Inc. and its affiliates. All Rights Reserved.\n",
       " */\n",
       "\n",
       "require(['plotly'], function(Plotly) {\n",
       "  window.PLOTLYENV = window.PLOTLYENV || {};\n",
       "  window.PLOTLYENV.BASE_URL = 'https://plot.ly';\n",
       "  /*\n",
       " * Copyright (c) Facebook, Inc. and its affiliates. All Rights Reserved.\n",
       " */\n",
       "\n",
       "Plotly.newPlot(\n",
       "  \"3cb5d9cc81274a839d6c6de9f50c1f04\",\n",
       "  [{\"hoverinfo\": \"name+text\", \"marker\": {\"color\": \"rgba(2,63,165,1)\"}, \"name\": \"status_quo\", \"text\": [\"17.86%\", \"16.67%\", \"33.33%\", \"33.33%\", \"33.33%\"], \"width\": 0.5, \"x\": [\"Round 0\", \"Round 1\", \"Round 2\", \"Round 3\", \"Round 4\"], \"y\": [17.857142857142858, 16.666666666666668, 33.33333333333333, 33.333333333333336, 33.333333333333336], \"type\": \"bar\", \"uid\": \"3b507fa1-4a5e-45b4-8bbc-a1a7a6eb2806\"}, {\"hoverinfo\": \"name+text\", \"marker\": {\"color\": \"rgba(125,135,185,1)\"}, \"name\": \"0_0\", \"text\": [\"3.57%\"], \"width\": 0.5, \"x\": [\"Round 0\"], \"y\": [3.5714285714285716], \"type\": \"bar\", \"uid\": \"5230bca7-3f9b-428c-b2b8-db0f3a24ff27\"}, {\"hoverinfo\": \"name+text\", \"marker\": {\"color\": \"rgba(190,193,212,1)\"}, \"name\": \"0_1\", \"text\": [\"3.57%\"], \"width\": 0.5, \"x\": [\"Round 0\"], \"y\": [3.5714285714285716], \"type\": \"bar\", \"uid\": \"e6c32013-0a96-4565-9bdc-9b0f130ccd4a\"}, {\"hoverinfo\": \"name+text\", \"marker\": {\"color\": \"rgba(214,188,192,1)\"}, \"name\": \"0_2\", \"text\": [\"3.57%\"], \"width\": 0.5, \"x\": [\"Round 0\"], \"y\": [3.5714285714285716], \"type\": \"bar\", \"uid\": \"aa9dadb7-1212-4fc2-b8ea-dd16b83ccefa\"}, {\"hoverinfo\": \"name+text\", \"marker\": {\"color\": \"rgba(187,119,132,1)\"}, \"name\": \"0_3\", \"text\": [\"3.57%\"], \"width\": 0.5, \"x\": [\"Round 0\"], \"y\": [3.5714285714285716], \"type\": \"bar\", \"uid\": \"3bfb274e-52b0-4078-bc36-e27ade53452c\"}, {\"hoverinfo\": \"name+text\", \"marker\": {\"color\": \"rgba(142,6,59,1)\"}, \"name\": \"0_4\", \"text\": [\"3.57%\"], \"width\": 0.5, \"x\": [\"Round 0\"], \"y\": [3.5714285714285716], \"type\": \"bar\", \"uid\": \"e9083a4c-99bc-4a40-8d00-12d8a4b538f5\"}, {\"hoverinfo\": \"name+text\", \"marker\": {\"color\": \"rgba(74,111,227,1)\"}, \"name\": \"0_5\", \"text\": [\"3.57%\"], \"width\": 0.5, \"x\": [\"Round 0\"], \"y\": [3.5714285714285716], \"type\": \"bar\", \"uid\": \"75ea3ce9-3aa7-4e3b-8d4f-d980d3dc773a\"}, {\"hoverinfo\": \"name+text\", \"marker\": {\"color\": \"rgba(133,149,225,1)\"}, \"name\": \"0_6\", \"text\": [\"3.57%\", \"5.99%\"], \"width\": 0.5, \"x\": [\"Round 0\", \"Round 1\"], \"y\": [3.5714285714285716, 5.991840897501276], \"type\": \"bar\", \"uid\": \"b8c6444e-0eb6-4b6b-b395-0c21c92ec9a8\"}, {\"hoverinfo\": \"name+text\", \"marker\": {\"color\": \"rgba(181,187,227,1)\"}, \"name\": \"0_7\", \"text\": [\"3.57%\"], \"width\": 0.5, \"x\": [\"Round 0\"], \"y\": [3.5714285714285716], \"type\": \"bar\", \"uid\": \"eb738644-b63e-4516-8806-f1ff413f699c\"}, {\"hoverinfo\": \"name+text\", \"marker\": {\"color\": \"rgba(230,175,185,1)\"}, \"name\": \"0_8\", \"text\": [\"3.57%\"], \"width\": 0.5, \"x\": [\"Round 0\"], \"y\": [3.5714285714285716], \"type\": \"bar\", \"uid\": \"6cd1b635-0a28-4478-84e9-f2cb71311a99\"}, {\"hoverinfo\": \"name+text\", \"marker\": {\"color\": \"rgba(224,123,145,1)\"}, \"name\": \"0_9\", \"text\": [\"3.57%\"], \"width\": 0.5, \"x\": [\"Round 0\"], \"y\": [3.5714285714285716], \"type\": \"bar\", \"uid\": \"4a284990-9985-47cd-af0f-2cd3d5601f64\"}, {\"hoverinfo\": \"name+text\", \"marker\": {\"color\": \"rgba(211,63,106,1)\"}, \"name\": \"0_10\", \"text\": [\"3.57%\"], \"width\": 0.5, \"x\": [\"Round 0\"], \"y\": [3.5714285714285716], \"type\": \"bar\", \"uid\": \"805b633f-d132-4c98-a601-5a2f8241817a\"}, {\"hoverinfo\": \"name+text\", \"marker\": {\"color\": \"rgba(17,198,56,1)\"}, \"name\": \"0_11\", \"text\": [\"3.57%\"], \"width\": 0.5, \"x\": [\"Round 0\"], \"y\": [3.5714285714285716], \"type\": \"bar\", \"uid\": \"76239a66-271b-4ed6-af0d-9ce8565ff254\"}, {\"hoverinfo\": \"name+text\", \"marker\": {\"color\": \"rgba(141,213,147,1)\"}, \"name\": \"0_12\", \"text\": [\"3.57%\"], \"width\": 0.5, \"x\": [\"Round 0\"], \"y\": [3.5714285714285716], \"type\": \"bar\", \"uid\": \"16c885b0-80b3-4ae7-80a4-8030ebf04799\"}, {\"hoverinfo\": \"name+text\", \"marker\": {\"color\": \"rgba(198,222,199,1)\"}, \"name\": \"0_13\", \"text\": [\"3.57%\", \"1.23%\", \"8.94%\", \"3.33%\", \"25.07%\"], \"width\": 0.5, \"x\": [\"Round 0\", \"Round 1\", \"Round 2\", \"Round 3\", \"Round 4\"], \"y\": [3.5714285714285716, 1.23236443991161, 8.944166921534645, 3.333333333333334, 25.06666666666667], \"type\": \"bar\", \"uid\": \"45bc7b05-152b-44c1-9ed9-4c867ce6b5bf\"}, {\"hoverinfo\": \"name+text\", \"marker\": {\"color\": \"rgba(234,211,198,1)\"}, \"name\": \"0_14\", \"text\": [\"3.57%\", \"54.44%\"], \"width\": 0.5, \"x\": [\"Round 0\", \"Round 1\"], \"y\": [3.5714285714285716, 54.436511983681804], \"type\": \"bar\", \"uid\": \"bfe20032-d6dd-46b2-bc23-24f71e7ce8e5\"}, {\"hoverinfo\": \"name+text\", \"marker\": {\"color\": \"rgba(240,185,141,1)\"}, \"name\": \"0_15\", \"text\": [\"3.57%\"], \"width\": 0.5, \"x\": [\"Round 0\"], \"y\": [3.5714285714285716], \"type\": \"bar\", \"uid\": \"36e5198c-a3f3-41cf-820c-e2593c11b4bb\"}, {\"hoverinfo\": \"name+text\", \"marker\": {\"color\": \"rgba(239,151,8,1)\"}, \"name\": \"0_16\", \"text\": [\"3.57%\"], \"width\": 0.5, \"x\": [\"Round 0\"], \"y\": [3.5714285714285716], \"type\": \"bar\", \"uid\": \"e411aef7-d4fd-471c-a4b2-dac143f11c82\"}, {\"hoverinfo\": \"name+text\", \"marker\": {\"color\": \"rgba(15,207,192,1)\"}, \"name\": \"0_17\", \"text\": [\"3.57%\"], \"width\": 0.5, \"x\": [\"Round 0\"], \"y\": [3.5714285714285716], \"type\": \"bar\", \"uid\": \"10d7d748-5d44-4fd3-be8a-28f7f7e74a95\"}, {\"hoverinfo\": \"name+text\", \"marker\": {\"color\": \"rgba(156,222,214,1)\"}, \"name\": \"0_18\", \"text\": [\"3.57%\"], \"width\": 0.5, \"x\": [\"Round 0\"], \"y\": [3.5714285714285716], \"type\": \"bar\", \"uid\": \"881803ca-b9d1-4599-a95e-63cc2823ad2a\"}, {\"hoverinfo\": \"name+text\", \"marker\": {\"color\": \"rgba(213,234,231,1)\"}, \"name\": \"0_19\", \"text\": [\"3.57%\"], \"width\": 0.5, \"x\": [\"Round 0\"], \"y\": [3.5714285714285716], \"type\": \"bar\", \"uid\": \"9a745639-ef77-40d8-9561-6b18970f8f42\"}, {\"hoverinfo\": \"name+text\", \"marker\": {\"color\": \"rgba(243,225,235,1)\"}, \"name\": \"0_20\", \"text\": [\"3.57%\"], \"width\": 0.5, \"x\": [\"Round 0\"], \"y\": [3.5714285714285716], \"type\": \"bar\", \"uid\": \"fe720834-d6f1-41fb-9e23-8abf717bf79c\"}, {\"hoverinfo\": \"name+text\", \"marker\": {\"color\": \"rgba(246,196,225,1)\"}, \"name\": \"0_21\", \"text\": [\"3.57%\", \"9.12%\"], \"width\": 0.5, \"x\": [\"Round 0\", \"Round 1\"], \"y\": [3.5714285714285716, 9.119496855345915], \"type\": \"bar\", \"uid\": \"97d1485b-11b5-42c4-a3d6-261fb7829043\"}, {\"hoverinfo\": \"name+text\", \"marker\": {\"color\": \"rgba(247,156,212,1)\"}, \"name\": \"0_22\", \"text\": [\"3.57%\", \"12.55%\", \"57.72%\", \"63.33%\", \"41.60%\"], \"width\": 0.5, \"x\": [\"Round 0\", \"Round 1\", \"Round 2\", \"Round 3\", \"Round 4\"], \"y\": [3.5714285714285716, 12.553119156892745, 57.72249974513202, 63.333333333333336, 41.6], \"type\": \"bar\", \"uid\": \"5b4411a4-9ed2-4090-96e5-c761f5119148\"}],\n",
       "  {\"barmode\": \"stack\", \"margin\": {\"r\": 40}, \"showlegend\": false, \"title\": {\"text\": \"Rollout Process<br>Bandit Weight Graph\"}, \"xaxis\": {\"categoryarray\": [\"Round 0\", \"Round 1\", \"Round 2\", \"Round 3\", \"Round 4\"], \"categoryorder\": \"array\", \"title\": {\"text\": \"Rounds\"}, \"zeroline\": false}, \"yaxis\": {\"showline\": false, \"title\": {\"text\": \"Percent\"}}},\n",
       "  {\"showLink\": false}\n",
       ");\n",
       "});</script>"
      ]
     },
     "metadata": {},
     "output_type": "display_data"
    }
   ],
   "source": [
    "from ax.plot.bandit_rollout import plot_bandit_rollout\n",
    "from ax.utils.notebook.plotting import render\n",
    "\n",
    "render(plot_bandit_rollout(exp))"
   ]
  },
  {
   "cell_type": "markdown",
   "metadata": {},
   "source": [
    "## Plot 4: Marginal Effects"
   ]
  },
  {
   "cell_type": "markdown",
   "metadata": {},
   "source": [
    "Finally, we can examine which parameter values had the greatest effect on the overall arm value. As we see in the diagram below, arms whose parameters were assigned the lower level values (such as `levell1`, `levell2`, `level31` and `level32`) performed worse than average, whereas arms with higher levels performed better than average."
   ]
  },
  {
   "cell_type": "code",
   "execution_count": 14,
   "metadata": {
    "ExecuteTime": {
     "end_time": "2019-04-01T17:03:56.645223Z",
     "start_time": "2019-04-01T10:03:56.563655-07:00"
    }
   },
   "outputs": [
    {
     "data": {
      "text/html": [
       "<div id=\"156be5438a65417eb741ef2e62a9339b\" style=\"width: 100%;\" class=\"plotly-graph-div\"></div><script type='text/javascript'>/*\n",
       " * Copyright (c) Facebook, Inc. and its affiliates. All Rights Reserved.\n",
       " */\n",
       "\n",
       "require(['plotly'], function(Plotly) {\n",
       "  window.PLOTLYENV = window.PLOTLYENV || {};\n",
       "  window.PLOTLYENV.BASE_URL = 'https://plot.ly';\n",
       "  /*\n",
       " * Copyright (c) Facebook, Inc. and its affiliates. All Rights Reserved.\n",
       " */\n",
       "\n",
       "Plotly.newPlot(\n",
       "  \"156be5438a65417eb741ef2e62a9339b\",\n",
       "  [{\"error_y\": {\"array\": [1.1826220441625777, 1.4058719810276041, 1.3798316975357816], \"type\": \"data\"}, \"name\": \"factor1\", \"x\": [\"level11\", \"level12\", \"level13\"], \"y\": [-4.557084452625962, 1.226832237388479, 5.021852482006574], \"type\": \"bar\", \"uid\": \"5e63e0ba-2b7a-4740-86ec-f9dafd3f863c\", \"xaxis\": \"x\", \"yaxis\": \"y\"}, {\"error_y\": {\"array\": [1.006565605131085, 1.1476990802033686], \"type\": \"data\"}, \"name\": \"factor2\", \"x\": [\"level21\", \"level22\"], \"y\": [-3.652134154545511, 4.748091339802234], \"type\": \"bar\", \"uid\": \"25fa2d4f-82a4-4de7-b9af-c9a75eeace9a\", \"xaxis\": \"x2\", \"yaxis\": \"y\"}, {\"error_y\": {\"array\": [1.2987912291100352, 1.6683998585324038, 1.6055636236320434, 1.5690397858448453], \"type\": \"data\"}, \"name\": \"factor3\", \"x\": [\"level31\", \"level32\", \"level33\", \"level34\"], \"y\": [-8.18759742441973, -0.5880403873087278, 4.8406354274030265, 7.846572278566], \"type\": \"bar\", \"uid\": \"8a0d65ed-4d59-402c-8b9c-42e3b68ade69\", \"xaxis\": \"x3\", \"yaxis\": \"y\"}],\n",
       "  {\"annotations\": [{\"font\": {\"size\": 16}, \"showarrow\": false, \"text\": \"factor1\", \"x\": 0.14444444444444446, \"xanchor\": \"center\", \"xref\": \"paper\", \"y\": 1.0, \"yanchor\": \"bottom\", \"yref\": \"paper\"}, {\"font\": {\"size\": 16}, \"showarrow\": false, \"text\": \"factor2\", \"x\": 0.5, \"xanchor\": \"center\", \"xref\": \"paper\", \"y\": 1.0, \"yanchor\": \"bottom\", \"yref\": \"paper\"}, {\"font\": {\"size\": 16}, \"showarrow\": false, \"text\": \"factor3\", \"x\": 0.8555555555555556, \"xanchor\": \"center\", \"xref\": \"paper\", \"y\": 1.0, \"yanchor\": \"bottom\", \"yref\": \"paper\"}], \"xaxis\": {\"anchor\": \"y\", \"domain\": [0.0, 0.2888888888888889]}, \"yaxis\": {\"hoverformat\": \".3f\", \"title\": {\"text\": \"% better than experiment average\"}}, \"xaxis2\": {\"anchor\": \"free\", \"domain\": [0.35555555555555557, 0.6444444444444445], \"position\": 0.0}, \"xaxis3\": {\"anchor\": \"free\", \"domain\": [0.7111111111111111, 1.0], \"position\": 0.0}, \"showlegend\": false, \"title\": {\"text\": \"Marginal Effects by Factor\"}},\n",
       "  {\"showLink\": false}\n",
       ");\n",
       "});</script>"
      ]
     },
     "metadata": {},
     "output_type": "display_data"
    }
   ],
   "source": [
    "from ax.plot.marginal_effects import plot_marginal_effects\n",
    "render(plot_marginal_effects(models[0], 'success_metric'))"
   ]
  }
 ],
 "metadata": {
  "kernelspec": {
   "display_name": "python3",
   "language": "python",
   "name": "python3"
  },
  "language_info": {
   "codemirror_mode": {
    "name": "ipython",
    "version": 3
   },
   "file_extension": ".py",
   "mimetype": "text/x-python",
   "name": "python",
   "nbconvert_exporter": "python",
   "pygments_lexer": "ipython3",
   "version": "3.7.3"
  }
 },
 "nbformat": 4,
 "nbformat_minor": 2
}
