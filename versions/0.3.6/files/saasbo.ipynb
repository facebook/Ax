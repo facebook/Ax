{
 "cells": [
  {
   "cell_type": "markdown",
   "id": "a4cf19db",
   "metadata": {
    "originalKey": "1f779465-f9cc-4b17-9b5a-5960cf602273",
    "papermill": {
     "duration": 0.003731,
     "end_time": "2023-12-09T18:54:35.092589",
     "exception": false,
     "start_time": "2023-12-09T18:54:35.088858",
     "status": "completed"
    },
    "tags": []
   },
   "source": [
    "# High-Dimensional Bayesian Optimization with SAASBO\n",
    "\n",
    "This tutorial shows how to use the Sparse Axis-Aligned Subspace Bayesian Optimization (SAASBO) method for high-dimensional Bayesian optimization [1]. SAASBO places strong priors on the inverse lengthscales to avoid overfitting in high-dimensional spaces. Specifically, SAASBO uses a hierarchical sparsity prior consisting of a global shrinkage parameter $\\tau \\sim \\mathcal{HC}(\\beta)$ and inverse lengthscales $\\rho_d \\sim \\mathcal{HC}(\\tau)$ for $d=1, ..., D$, where $\\mathcal{HC}$ is the half-Cauchy distribution. While half-Cauchy priors favor values near zero they also have heavy tails, which allows the inverse lengthscales of the most important parameters to escape zero. To do inference in the SAAS model we use Hamiltonian Monte Carlo (HMC) as we found that to outperform MAP inference.\n",
    "\n",
    "We find that SAASBO performs well on problems with hundreds of dimensions. As we rely on HMC and in particular the No-U-Turn-Sampler (NUTS) for inference, the overhead of SAASBO scales cubically with the number of datapoints. Depending on the problem, using more than $100$ evaluations may not be feasible as SAASBO is designed for problems with a limited evaluation budget.\n",
    "\n",
    "[1] D. Eriksson, M. Jankowiak. High-Dimensional Bayesian Optimization with Sparse Axis-Aligned Subspaces. Proceedings of the Thirty-Seventh Conference on Uncertainty in Artificial Intelligence, 2021."
   ]
  },
  {
   "cell_type": "code",
   "execution_count": 1,
   "id": "1830cb7e",
   "metadata": {
    "execution": {
     "iopub.execute_input": "2023-12-09T18:54:35.100341Z",
     "iopub.status.busy": "2023-12-09T18:54:35.099731Z",
     "iopub.status.idle": "2023-12-09T18:54:38.126141Z",
     "shell.execute_reply": "2023-12-09T18:54:38.125361Z"
    },
    "originalKey": "36a4c036-4075-4b15-87b2-a399c318f7b6",
    "papermill": {
     "duration": 3.032305,
     "end_time": "2023-12-09T18:54:38.128012",
     "exception": false,
     "start_time": "2023-12-09T18:54:35.095707",
     "status": "completed"
    },
    "tags": []
   },
   "outputs": [],
   "source": [
    "import os\n",
    "\n",
    "import matplotlib\n",
    "import matplotlib.pyplot as plt\n",
    "import numpy as np\n",
    "import torch\n",
    "\n",
    "from ax import Data, Experiment, ParameterType, RangeParameter, SearchSpace\n",
    "from ax.core.metric import Metric\n",
    "from ax.core.objective import Objective\n",
    "from ax.core.optimization_config import OptimizationConfig\n",
    "from ax.metrics.branin import BraninMetric\n",
    "from ax.modelbridge.cross_validation import cross_validate\n",
    "from ax.modelbridge.registry import Models\n",
    "from ax.models.torch.botorch_modular.surrogate import Surrogate\n",
    "from ax.runners.synthetic import SyntheticRunner\n",
    "from botorch.models.fully_bayesian import SaasFullyBayesianSingleTaskGP"
   ]
  },
  {
   "cell_type": "code",
   "execution_count": 2,
   "id": "c967c75b",
   "metadata": {
    "execution": {
     "iopub.execute_input": "2023-12-09T18:54:38.135164Z",
     "iopub.status.busy": "2023-12-09T18:54:38.134697Z",
     "iopub.status.idle": "2023-12-09T18:54:38.138354Z",
     "shell.execute_reply": "2023-12-09T18:54:38.137594Z"
    },
    "papermill": {
     "duration": 0.008632,
     "end_time": "2023-12-09T18:54:38.139697",
     "exception": false,
     "start_time": "2023-12-09T18:54:38.131065",
     "status": "completed"
    },
    "tags": []
   },
   "outputs": [],
   "source": [
    "SMOKE_TEST = os.environ.get(\"SMOKE_TEST\")"
   ]
  },
  {
   "cell_type": "code",
   "execution_count": 3,
   "id": "469c247e",
   "metadata": {
    "execution": {
     "iopub.execute_input": "2023-12-09T18:54:38.146447Z",
     "iopub.status.busy": "2023-12-09T18:54:38.146190Z",
     "iopub.status.idle": "2023-12-09T18:54:38.150534Z",
     "shell.execute_reply": "2023-12-09T18:54:38.150022Z"
    },
    "originalKey": "08bf2c1e-5909-4bde-8829-0fb0d0a29a25",
    "papermill": {
     "duration": 0.009328,
     "end_time": "2023-12-09T18:54:38.151808",
     "exception": false,
     "start_time": "2023-12-09T18:54:38.142480",
     "status": "completed"
    },
    "tags": []
   },
   "outputs": [],
   "source": [
    "torch.manual_seed(12345)  # To always get the same Sobol points\n",
    "tkwargs = {\n",
    "    \"dtype\": torch.double,\n",
    "    \"device\": torch.device(\"cuda\" if torch.cuda.is_available() else \"cpu\"),\n",
    "}"
   ]
  },
  {
   "cell_type": "markdown",
   "id": "7c894c0a",
   "metadata": {
    "originalKey": "2f9bd4f6-87d6-42d9-b575-f92cf94de7b0",
    "papermill": {
     "duration": 0.002633,
     "end_time": "2023-12-09T18:54:38.157154",
     "exception": false,
     "start_time": "2023-12-09T18:54:38.154521",
     "status": "completed"
    },
    "tags": []
   },
   "source": [
    "## Setup search space and metric\n",
    "In this simple experiment we use the Branin function embedded in a 30-dimensional space. Additional resources:\n",
    "- To set up a custom metric for your problem, refer to the dedicated section of the Developer API tutorial: https://ax.dev/tutorials/gpei_hartmann_developer.html#8.-Defining-custom-metrics.\n",
    "- To avoid needing to setup up custom metrics by Ax Service API: https://ax.dev/tutorials/gpei_hartmann_service.html."
   ]
  },
  {
   "cell_type": "code",
   "execution_count": 4,
   "id": "f0a4e7b1",
   "metadata": {
    "execution": {
     "iopub.execute_input": "2023-12-09T18:54:38.163686Z",
     "iopub.status.busy": "2023-12-09T18:54:38.163249Z",
     "iopub.status.idle": "2023-12-09T18:54:38.168533Z",
     "shell.execute_reply": "2023-12-09T18:54:38.167977Z"
    },
    "originalKey": "7697c80d-ab0c-4884-b4c7-c75d24a07e1a",
    "papermill": {
     "duration": 0.010133,
     "end_time": "2023-12-09T18:54:38.169942",
     "exception": false,
     "start_time": "2023-12-09T18:54:38.159809",
     "status": "completed"
    },
    "tags": []
   },
   "outputs": [],
   "source": [
    "search_space = SearchSpace(\n",
    "    parameters=[\n",
    "        RangeParameter(\n",
    "            name=f\"x{i}\", parameter_type=ParameterType.FLOAT, lower=-5.0, upper=10.0\n",
    "        )\n",
    "        for i in range(25)\n",
    "    ]\n",
    "    + [\n",
    "        RangeParameter(\n",
    "            name=f\"x{i + 25}\",\n",
    "            parameter_type=ParameterType.FLOAT,\n",
    "            lower=0.0,\n",
    "            upper=15.0,\n",
    "        )\n",
    "        for i in range(25)\n",
    "    ]\n",
    ")\n",
    "\n",
    "optimization_config = OptimizationConfig(\n",
    "    objective=Objective(\n",
    "        metric=BraninMetric(\n",
    "            name=\"objective\",\n",
    "            param_names=[\"x19\", \"x34\"],\n",
    "             # Set noise_sd=None if you want to learn the noise, set to 0.0 for no noise\n",
    "            noise_sd=1e-4, \n",
    "        ),\n",
    "        minimize=True,\n",
    "    )\n",
    ")"
   ]
  },
  {
   "cell_type": "markdown",
   "id": "bfdb9daa",
   "metadata": {
    "originalKey": "379571df-a141-48f7-84de-f75bc6e8e760",
    "papermill": {
     "duration": 0.00269,
     "end_time": "2023-12-09T18:54:38.175454",
     "exception": false,
     "start_time": "2023-12-09T18:54:38.172764",
     "status": "completed"
    },
    "tags": []
   },
   "source": [
    "## Run benchmark"
   ]
  },
  {
   "cell_type": "code",
   "execution_count": 5,
   "id": "6e4b2f25",
   "metadata": {
    "execution": {
     "iopub.execute_input": "2023-12-09T18:54:38.182075Z",
     "iopub.status.busy": "2023-12-09T18:54:38.181525Z",
     "iopub.status.idle": "2023-12-09T18:54:38.185646Z",
     "shell.execute_reply": "2023-12-09T18:54:38.185097Z"
    },
    "papermill": {
     "duration": 0.008913,
     "end_time": "2023-12-09T18:54:38.187067",
     "exception": false,
     "start_time": "2023-12-09T18:54:38.178154",
     "status": "completed"
    },
    "tags": []
   },
   "outputs": [
    {
     "name": "stdout",
     "output_type": "stream",
     "text": [
      "Doing 40 evaluations\n"
     ]
    }
   ],
   "source": [
    "N_INIT = 10\n",
    "BATCH_SIZE = 3\n",
    "N_BATCHES = 1 if SMOKE_TEST else 10\n",
    "\n",
    "print(f\"Doing {N_INIT + N_BATCHES * BATCH_SIZE} evaluations\")"
   ]
  },
  {
   "cell_type": "code",
   "execution_count": 6,
   "id": "e0469225",
   "metadata": {
    "execution": {
     "iopub.execute_input": "2023-12-09T18:54:38.193702Z",
     "iopub.status.busy": "2023-12-09T18:54:38.193286Z",
     "iopub.status.idle": "2023-12-09T18:54:38.196588Z",
     "shell.execute_reply": "2023-12-09T18:54:38.196015Z"
    },
    "papermill": {
     "duration": 0.008038,
     "end_time": "2023-12-09T18:54:38.197948",
     "exception": false,
     "start_time": "2023-12-09T18:54:38.189910",
     "status": "completed"
    },
    "tags": []
   },
   "outputs": [],
   "source": [
    "# Experiment\n",
    "experiment = Experiment(\n",
    "    name=\"saasbo_experiment\",\n",
    "    search_space=search_space,\n",
    "    optimization_config=optimization_config,\n",
    "    runner=SyntheticRunner(),\n",
    ")"
   ]
  },
  {
   "cell_type": "code",
   "execution_count": 7,
   "id": "c062e94b",
   "metadata": {
    "execution": {
     "iopub.execute_input": "2023-12-09T18:54:38.204986Z",
     "iopub.status.busy": "2023-12-09T18:54:38.204541Z",
     "iopub.status.idle": "2023-12-09T18:54:38.232233Z",
     "shell.execute_reply": "2023-12-09T18:54:38.231601Z"
    },
    "papermill": {
     "duration": 0.03319,
     "end_time": "2023-12-09T18:54:38.234078",
     "exception": false,
     "start_time": "2023-12-09T18:54:38.200888",
     "status": "completed"
    },
    "tags": []
   },
   "outputs": [],
   "source": [
    "# Initial Sobol points\n",
    "sobol = Models.SOBOL(search_space=experiment.search_space)\n",
    "for _ in range(N_INIT):\n",
    "    experiment.new_trial(sobol.gen(1)).run()"
   ]
  },
  {
   "cell_type": "code",
   "execution_count": 8,
   "id": "696749cb",
   "metadata": {
    "execution": {
     "iopub.execute_input": "2023-12-09T18:54:38.241703Z",
     "iopub.status.busy": "2023-12-09T18:54:38.241227Z",
     "iopub.status.idle": "2023-12-09T19:20:46.985101Z",
     "shell.execute_reply": "2023-12-09T19:20:46.984405Z"
    },
    "originalKey": "bdfeea50-c4e6-4ff1-91ae-c8f6c3160d7c",
    "papermill": {
     "duration": 1568.752327,
     "end_time": "2023-12-09T19:20:46.989643",
     "exception": false,
     "start_time": "2023-12-09T18:54:38.237316",
     "status": "completed"
    },
    "tags": []
   },
   "outputs": [
    {
     "name": "stdout",
     "output_type": "stream",
     "text": [
      "Iteration: 0, Best in iteration 11.128, Best so far: 3.963\n"
     ]
    },
    {
     "name": "stdout",
     "output_type": "stream",
     "text": [
      "Iteration: 1, Best in iteration 2.330, Best so far: 2.330\n"
     ]
    },
    {
     "name": "stdout",
     "output_type": "stream",
     "text": [
      "Iteration: 2, Best in iteration 12.282, Best so far: 2.330\n"
     ]
    },
    {
     "name": "stdout",
     "output_type": "stream",
     "text": [
      "Iteration: 3, Best in iteration 2.983, Best so far: 2.330\n"
     ]
    },
    {
     "name": "stdout",
     "output_type": "stream",
     "text": [
      "Iteration: 4, Best in iteration 10.961, Best so far: 2.330\n"
     ]
    },
    {
     "name": "stdout",
     "output_type": "stream",
     "text": [
      "Iteration: 5, Best in iteration 2.361, Best so far: 2.330\n"
     ]
    },
    {
     "name": "stdout",
     "output_type": "stream",
     "text": [
      "Iteration: 6, Best in iteration 0.908, Best so far: 0.908\n"
     ]
    },
    {
     "name": "stdout",
     "output_type": "stream",
     "text": [
      "Iteration: 7, Best in iteration 0.424, Best so far: 0.424\n"
     ]
    },
    {
     "name": "stdout",
     "output_type": "stream",
     "text": [
      "Iteration: 8, Best in iteration 0.427, Best so far: 0.424\n"
     ]
    },
    {
     "name": "stdout",
     "output_type": "stream",
     "text": [
      "Iteration: 9, Best in iteration 10.961, Best so far: 0.424\n",
      "CPU times: user 52min 2s, sys: 14.8 s, total: 52min 17s\n",
      "Wall time: 26min 8s\n"
     ]
    }
   ],
   "source": [
    "%%time\n",
    "# Run SAASBO\n",
    "data = experiment.fetch_data()\n",
    "for i in range(N_BATCHES):\n",
    "    model = Models.SAASBO(experiment=experiment, data=data)\n",
    "    generator_run = model.gen(BATCH_SIZE)\n",
    "    trial = experiment.new_batch_trial(generator_run=generator_run)\n",
    "    trial.run()\n",
    "    data = Data.from_multiple_data([data, trial.fetch_data()])\n",
    "\n",
    "    new_value = trial.fetch_data().df[\"mean\"].min()\n",
    "    print(\n",
    "        f\"Iteration: {i}, Best in iteration {new_value:.3f}, Best so far: {data.df['mean'].min():.3f}\"\n",
    "    )"
   ]
  },
  {
   "cell_type": "markdown",
   "id": "0e7bd944",
   "metadata": {
    "papermill": {
     "duration": 0.00342,
     "end_time": "2023-12-09T19:20:46.996634",
     "exception": false,
     "start_time": "2023-12-09T19:20:46.993214",
     "status": "completed"
    },
    "tags": []
   },
   "source": [
    "## Plot results\n",
    "SAASBO is able to find a solution close to the global optimal value of 0.398"
   ]
  },
  {
   "cell_type": "code",
   "execution_count": 9,
   "id": "d07c8aed",
   "metadata": {
    "execution": {
     "iopub.execute_input": "2023-12-09T19:20:47.004669Z",
     "iopub.status.busy": "2023-12-09T19:20:47.004198Z",
     "iopub.status.idle": "2023-12-09T19:20:47.207572Z",
     "shell.execute_reply": "2023-12-09T19:20:47.206822Z"
    },
    "originalKey": "5a9b9706-2653-4320-96f3-4bc9fe88bceb",
    "papermill": {
     "duration": 0.208945,
     "end_time": "2023-12-09T19:20:47.208943",
     "exception": false,
     "start_time": "2023-12-09T19:20:46.999998",
     "status": "completed"
    },
    "tags": []
   },
   "outputs": [
    {
     "data": {
      "image/png": "[encoded data removed]",
      "text/plain": [
       "<Figure size 800x600 with 1 Axes>"
      ]
     },
     "metadata": {},
     "output_type": "display_data"
    }
   ],
   "source": [
    "%matplotlib inline\n",
    "matplotlib.rcParams.update({\"font.size\": 16})\n",
    "\n",
    "\n",
    "fig, ax = plt.subplots(figsize=(8, 6))\n",
    "res_saasbo = data.df[\"mean\"]\n",
    "ax.plot(np.minimum.accumulate(res_saasbo), color=\"b\", label=\"SAASBO\")\n",
    "ax.plot([0, len(res_saasbo)], [0.398, 0.398], \"--\", c=\"g\", lw=3, label=\"Optimal value\")\n",
    "ax.grid(True)\n",
    "ax.set_title(\"Branin, D=50\", fontsize=20)\n",
    "ax.set_xlabel(\"Number of evaluations\", fontsize=20)\n",
    "ax.set_xlim([0, len(res_saasbo)])\n",
    "ax.set_ylabel(\"Best value found\", fontsize=20)\n",
    "ax.set_ylim([0, 8])\n",
    "ax.legend(fontsize=18)\n",
    "plt.show()"
   ]
  },
  {
   "cell_type": "markdown",
   "id": "102f70a3",
   "metadata": {
    "papermill": {
     "duration": 0.004003,
     "end_time": "2023-12-09T19:20:47.217230",
     "exception": false,
     "start_time": "2023-12-09T19:20:47.213227",
     "status": "completed"
    },
    "tags": []
   },
   "source": [
    "## SAAS model fit"
   ]
  },
  {
   "cell_type": "markdown",
   "id": "53a082a4",
   "metadata": {
    "papermill": {
     "duration": 0.003752,
     "end_time": "2023-12-09T19:20:47.224792",
     "exception": false,
     "start_time": "2023-12-09T19:20:47.221040",
     "status": "completed"
    },
    "tags": []
   },
   "source": [
    "We can also instantiate a SAAS model via `Models.BOTORCH_MODULAR` by specifying a `SaasFullyBayesianSingleTaskGP` as the `botorch_model_class`. This also gives us the option to change several Pyro-specific parameters such as `num_samples` and `warmup_steps`."
   ]
  },
  {
   "cell_type": "code",
   "execution_count": 10,
   "id": "4eac09b5",
   "metadata": {
    "execution": {
     "iopub.execute_input": "2023-12-09T19:20:47.233980Z",
     "iopub.status.busy": "2023-12-09T19:20:47.233473Z",
     "iopub.status.idle": "2023-12-09T19:22:17.241261Z",
     "shell.execute_reply": "2023-12-09T19:22:17.240600Z"
    },
    "papermill": {
     "duration": 90.014485,
     "end_time": "2023-12-09T19:22:17.243108",
     "exception": false,
     "start_time": "2023-12-09T19:20:47.228623",
     "status": "completed"
    },
    "tags": []
   },
   "outputs": [],
   "source": [
    "model = Models.BOTORCH_MODULAR(\n",
    "    experiment=experiment,\n",
    "    data=data,\n",
    "    surrogate=Surrogate(\n",
    "        botorch_model_class=SaasFullyBayesianSingleTaskGP,\n",
    "        mll_options={\n",
    "            \"num_samples\": 256,  # Increasing this may result in better model fits\n",
    "            \"warmup_steps\": 512,  # Increasing this may result in better model fits\n",
    "        },\n",
    "    )\n",
    ")"
   ]
  },
  {
   "cell_type": "markdown",
   "id": "324d7d84",
   "metadata": {
    "papermill": {
     "duration": 0.003969,
     "end_time": "2023-12-09T19:22:17.251517",
     "exception": false,
     "start_time": "2023-12-09T19:22:17.247548",
     "status": "completed"
    },
    "tags": []
   },
   "source": [
    "### Cross-validation plot \n",
    "We have tools for cross-validation in Ax, but plotly doesn't render on Github so we make a simple plot using Matplotlib here. To use the built-in cross-validation functionality, you can do something like this:\n",
    "\n",
    "```\n",
    "from ax.modelbridge.cross_validation import cross_validate, compute_diagnostics\n",
    "from ax.plot.diagnostic import interact_cross_validation\n",
    "from ax.utils.notebook.plotting import render, init_notebook_plotting\n",
    "\n",
    "\n",
    "cv = cross_validate(model)\n",
    "diagnostics = compute_diagnostics(cv)\n",
    "init_notebook_plotting()\n",
    "plotconfig = interact_cross_validation(cv)\n",
    "render(plotconfig)\n",
    "```"
   ]
  },
  {
   "cell_type": "code",
   "execution_count": 11,
   "id": "b33e2fee",
   "metadata": {
    "execution": {
     "iopub.execute_input": "2023-12-09T19:22:17.261028Z",
     "iopub.status.busy": "2023-12-09T19:22:17.260512Z",
     "iopub.status.idle": "2023-12-09T19:22:17.908366Z",
     "shell.execute_reply": "2023-12-09T19:22:17.907688Z"
    },
    "papermill": {
     "duration": 0.654298,
     "end_time": "2023-12-09T19:22:17.909829",
     "exception": false,
     "start_time": "2023-12-09T19:22:17.255531",
     "status": "completed"
    },
    "tags": []
   },
   "outputs": [
    {
     "data": {
      "image/png": "[encoded data removed]",
      "text/plain": [
       "<Figure size 600x600 with 1 Axes>"
      ]
     },
     "metadata": {},
     "output_type": "display_data"
    }
   ],
   "source": [
    "# Cross-validate model\n",
    "cv = cross_validate(model)\n",
    "y_true = np.stack([cv_.observed.data.means for cv_ in cv]).ravel()\n",
    "y_saas_mean = np.stack([cv_.predicted.means for cv_ in cv]).ravel()\n",
    "y_saas_std = np.stack(\n",
    "    [np.sqrt(np.diag(cv_.predicted.covariance)) for cv_ in cv]\n",
    ").ravel()\n",
    "\n",
    "# Cross-validation plot\n",
    "fig, ax = plt.subplots(1, 1, figsize=(6, 6))\n",
    "min_val, max_val = -5, 120\n",
    "ax.plot([min_val, max_val], [min_val, max_val], \"b--\", lw=2)\n",
    "markers, caps, bars = ax.errorbar(\n",
    "    y_true,\n",
    "    y_saas_mean,\n",
    "    yerr=1.96 * y_saas_std,\n",
    "    fmt=\".\",\n",
    "    capsize=4,\n",
    "    elinewidth=2.0,\n",
    "    ms=14,\n",
    "    c=\"k\",\n",
    "    ecolor=\"gray\",\n",
    ")\n",
    "[bar.set_alpha(0.8) for bar in bars]\n",
    "[cap.set_alpha(0.8) for cap in caps]\n",
    "ax.set_xlim([min_val, max_val])\n",
    "ax.set_ylim([min_val, max_val])\n",
    "ax.set_xlabel(\"True value\", fontsize=20)\n",
    "ax.set_ylabel(\"Predicted value\", fontsize=20)\n",
    "ax.grid(True)"
   ]
  },
  {
   "cell_type": "markdown",
   "id": "1eb80702",
   "metadata": {
    "papermill": {
     "duration": 0.004775,
     "end_time": "2023-12-09T19:22:17.919471",
     "exception": false,
     "start_time": "2023-12-09T19:22:17.914696",
     "status": "completed"
    },
    "tags": []
   },
   "source": [
    "### Lengthscales\n",
    "As SAASBO places strong priors on the inverse lengthscales, we only expect parameters 19 and 44 to be identified as important by the model since the other parameters have no effect. We can confirm that this is the case below as the lengthscales of parameters 19 and 44 are close to 1 with all other lengthscales being larger than 1000.  "
   ]
  },
  {
   "cell_type": "code",
   "execution_count": 12,
   "id": "02ee4f73",
   "metadata": {
    "execution": {
     "iopub.execute_input": "2023-12-09T19:22:17.930111Z",
     "iopub.status.busy": "2023-12-09T19:22:17.929547Z",
     "iopub.status.idle": "2023-12-09T19:22:17.934981Z",
     "shell.execute_reply": "2023-12-09T19:22:17.934401Z"
    },
    "papermill": {
     "duration": 0.012388,
     "end_time": "2023-12-09T19:22:17.936363",
     "exception": false,
     "start_time": "2023-12-09T19:22:17.923975",
     "status": "completed"
    },
    "tags": []
   },
   "outputs": [
    {
     "name": "stdout",
     "output_type": "stream",
     "text": [
      "Parameter 19) Median lengthscale = 7.09e-01\n",
      "Parameter 34) Median lengthscale = 2.22e+00\n",
      "Parameter 13) Median lengthscale = 1.36e+03\n",
      "Parameter 18) Median lengthscale = 1.72e+03\n",
      "Parameter 42) Median lengthscale = 1.76e+03\n",
      "Parameter 33) Median lengthscale = 1.81e+03\n",
      "Parameter  8) Median lengthscale = 1.83e+03\n",
      "Parameter  1) Median lengthscale = 1.84e+03\n",
      "Parameter  2) Median lengthscale = 1.90e+03\n",
      "Parameter  6) Median lengthscale = 1.95e+03\n"
     ]
    }
   ],
   "source": [
    "median_lengthscales = (\n",
    "    model.model.surrogate.model\n",
    "    .covar_module.base_kernel.lengthscale.squeeze()\n",
    "    .median(axis=0)\n",
    "    .values\n",
    ")\n",
    "for i in median_lengthscales.argsort()[:10]:\n",
    "    print(f\"Parameter {i:2}) Median lengthscale = {median_lengthscales[i]:.2e}\")"
   ]
  },
  {
   "cell_type": "code",
   "execution_count": null,
   "id": "98d8d3c8",
   "metadata": {
    "papermill": {
     "duration": 0.004462,
     "end_time": "2023-12-09T19:22:17.945689",
     "exception": false,
     "start_time": "2023-12-09T19:22:17.941227",
     "status": "completed"
    },
    "tags": []
   },
   "outputs": [],
   "source": []
  }
 ],
 "metadata": {
  "kernelspec": {
   "display_name": "Python 3 (ipykernel)",
   "language": "python",
   "name": "python3"
  },
  "language_info": {
   "codemirror_mode": {
    "name": "ipython",
    "version": 3
   },
   "file_extension": ".py",
   "mimetype": "text/x-python",
   "name": "python",
   "nbconvert_exporter": "python",
   "pygments_lexer": "ipython3",
   "version": "3.9.18"
  },
  "papermill": {
   "default_parameters": {},
   "duration": 1665.374142,
   "end_time": "2023-12-09T19:22:19.733670",
   "environment_variables": {},
   "exception": null,
   "input_path": "/tmp/tmp.bwZKabbZig/Ax-main/tutorials/saasbo.ipynb",
   "output_path": "/tmp/tmp.bwZKabbZig/Ax-main/tutorials/saasbo.ipynb",
   "parameters": {},
   "start_time": "2023-12-09T18:54:34.359528",
   "version": "2.5.0"
  }
 },
 "nbformat": 4,
 "nbformat_minor": 5
}
