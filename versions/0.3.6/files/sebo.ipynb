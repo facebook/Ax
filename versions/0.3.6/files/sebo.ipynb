{
 "cells": [
  {
   "cell_type": "markdown",
   "id": "32750560",
   "metadata": {
    "collapsed": true,
    "customInput": null,
    "jupyter": {
     "outputs_hidden": true
    },
    "originalKey": "d3a0136e-94fa-477c-a839-20e5b7f1cdd2",
    "papermill": {
     "duration": 0.004872,
     "end_time": "2023-12-09T19:47:42.902966",
     "exception": false,
     "start_time": "2023-12-09T19:47:42.898094",
     "status": "completed"
    },
    "showInput": false,
    "tags": []
   },
   "source": [
    "# Sparsity Exploration Bayesian Optimization (SEBO) Ax API \n",
    "\n",
    "This tutorial introduces the Sparsity Exploration Bayesian Optimization (SEBO) method and demonstrates how to utilize it using the Ax API. SEBO is designed to enhance Bayesian Optimization (BO) by taking the interpretability and simplicity of configurations into consideration. In essence, SEBO incorporates sparsity, modeled as the $L_0$ norm, as an additional objective in BO. By employing multi-objective optimization techniques such as Expected Hyper-Volume Improvement, SEBO enables the joint optimization of objectives while simultaneously incorporating feature-level sparsity. This allows users to efficiently explore different trade-offs between objectives and sparsity.\n",
    "\n",
    "\n",
    "For a more detailed understanding of the SEBO algorithm, please refer to the following publication:\n",
    "\n",
    "[1] [S. Liu, Q. Feng, D. Eriksson, B. Letham and E. Bakshy. Sparse Bayesian Optimization. International Conference on Artificial Intelligence and Statistics, 2023.](https://proceedings.mlr.press/v206/liu23b/liu23b.pdf)\n",
    "\n",
    "By following this tutorial, you will learn how to leverage the SEBO method through the Ax API, empowering you to effectively balance objectives and sparsity in your optimization tasks. Let's get started!"
   ]
  },
  {
   "cell_type": "code",
   "execution_count": 1,
   "id": "d764c4da",
   "metadata": {
    "customOutput": null,
    "execution": {
     "iopub.execute_input": "2023-12-09T19:47:42.912110Z",
     "iopub.status.busy": "2023-12-09T19:47:42.911500Z",
     "iopub.status.idle": "2023-12-09T19:47:46.270583Z",
     "shell.execute_reply": "2023-12-09T19:47:46.269822Z"
    },
    "executionStartTime": 1689117385062,
    "executionStopTime": 1689117389874,
    "jupyter": {
     "outputs_hidden": false
    },
    "originalKey": "cea96143-019a-41c1-a388-545f48992db9",
    "papermill": {
     "duration": 3.365793,
     "end_time": "2023-12-09T19:47:46.272640",
     "exception": false,
     "start_time": "2023-12-09T19:47:42.906847",
     "status": "completed"
    },
    "requestMsgId": "c2c22a5d-aee0-4a1e-98d9-b360aa1851ff",
    "showInput": true,
    "tags": []
   },
   "outputs": [],
   "source": [
    "import math\n",
    "import os\n",
    "import warnings\n",
    "\n",
    "import matplotlib\n",
    "import matplotlib.pyplot as plt\n",
    "\n",
    "import numpy as np\n",
    "import torch\n",
    "from ax import Data, Experiment, ParameterType, RangeParameter, SearchSpace\n",
    "from ax.core.objective import Objective\n",
    "from ax.core.optimization_config import OptimizationConfig\n",
    "from ax.metrics.noisy_function import NoisyFunctionMetric\n",
    "from ax.modelbridge.generation_strategy import GenerationStep, GenerationStrategy\n",
    "from ax.modelbridge.registry import Models\n",
    "from ax.models.torch.botorch_modular.sebo import SEBOAcquisition\n",
    "from ax.models.torch.botorch_modular.surrogate import Surrogate\n",
    "from ax.runners.synthetic import SyntheticRunner\n",
    "from ax.service.ax_client import AxClient, ObjectiveProperties\n",
    "from ax.utils.common.typeutils import checked_cast\n",
    "from botorch.acquisition.multi_objective import qNoisyExpectedHypervolumeImprovement\n",
    "from botorch.models import FixedNoiseGP, SaasFullyBayesianSingleTaskGP, SingleTaskGP"
   ]
  },
  {
   "cell_type": "code",
   "execution_count": 2,
   "id": "b3e40813",
   "metadata": {
    "execution": {
     "iopub.execute_input": "2023-12-09T19:47:46.282807Z",
     "iopub.status.busy": "2023-12-09T19:47:46.281855Z",
     "iopub.status.idle": "2023-12-09T19:47:46.293812Z",
     "shell.execute_reply": "2023-12-09T19:47:46.292922Z"
    },
    "papermill": {
     "duration": 0.018468,
     "end_time": "2023-12-09T19:47:46.295420",
     "exception": false,
     "start_time": "2023-12-09T19:47:46.276952",
     "status": "completed"
    },
    "tags": []
   },
   "outputs": [],
   "source": [
    "%matplotlib inline\n",
    "matplotlib.rcParams.update({\"font.size\": 16})\n",
    "\n",
    "warnings.filterwarnings('ignore')\n",
    "SMOKE_TEST = os.environ.get(\"SMOKE_TEST\")\n",
    "\n",
    "torch.manual_seed(12345)  # To always get the same Sobol points\n",
    "tkwargs = {\n",
    "    \"dtype\": torch.double,\n",
    "    \"device\": torch.device(\"cuda\" if torch.cuda.is_available() else \"cpu\"),\n",
    "}"
   ]
  },
  {
   "cell_type": "markdown",
   "id": "d617e150",
   "metadata": {
    "customInput": null,
    "originalKey": "7f07af01-ad58-4cfb-beca-f624310d278d",
    "papermill": {
     "duration": 0.003756,
     "end_time": "2023-12-09T19:47:46.303163",
     "exception": false,
     "start_time": "2023-12-09T19:47:46.299407",
     "status": "completed"
    },
    "showInput": false,
    "tags": []
   },
   "source": [
    "# Demo of using Developer API"
   ]
  },
  {
   "cell_type": "markdown",
   "id": "152d89d7",
   "metadata": {
    "customInput": null,
    "originalKey": "c8a27a2f-1120-4894-9302-48bfde402268",
    "papermill": {
     "duration": 0.003708,
     "end_time": "2023-12-09T19:47:46.310516",
     "exception": false,
     "start_time": "2023-12-09T19:47:46.306808",
     "status": "completed"
    },
    "showInput": false,
    "tags": []
   },
   "source": [
    "## Problem Setup \n",
    "\n",
    "In this simple experiment we use the Branin function embedded in a 10-dimensional space. Additional resources:\n",
    "- To set up a custom metric for your problem, refer to the dedicated section of the Developer API tutorial: https://ax.dev/tutorials/gpei_hartmann_developer.html#8.-Defining-custom-metrics.\n",
    "- To avoid needing to setup up custom metrics by Ax Service API: https://ax.dev/tutorials/gpei_hartmann_service.html."
   ]
  },
  {
   "cell_type": "code",
   "execution_count": 3,
   "id": "5b25a8ec",
   "metadata": {
    "customInput": null,
    "execution": {
     "iopub.execute_input": "2023-12-09T19:47:46.319126Z",
     "iopub.status.busy": "2023-12-09T19:47:46.318816Z",
     "iopub.status.idle": "2023-12-09T19:47:46.323722Z",
     "shell.execute_reply": "2023-12-09T19:47:46.323069Z"
    },
    "executionStartTime": 1689117390036,
    "executionStopTime": 1689117390038,
    "jupyter": {
     "outputs_hidden": false
    },
    "originalKey": "e91fc838-9f47-44f1-99ac-4477df208566",
    "papermill": {
     "duration": 0.011213,
     "end_time": "2023-12-09T19:47:46.325343",
     "exception": false,
     "start_time": "2023-12-09T19:47:46.314130",
     "status": "completed"
    },
    "requestMsgId": "1591e6b0-fa9b-4b9f-be72-683dccbe923a",
    "showInput": true,
    "tags": []
   },
   "outputs": [],
   "source": [
    "aug_dim = 8 \n",
    "\n",
    "# evaluation function \n",
    "def branin_augment(x_vec, augment_dim):\n",
    "    assert len(x_vec) == augment_dim\n",
    "    x1, x2 = (\n",
    "        15 * x_vec[0] - 5,\n",
    "        15 * x_vec[1],\n",
    "    )  # Only dimensions 0 and augment_dim-1 affect the value of the function\n",
    "    t1 = x2 - 5.1 / (4 * math.pi**2) * x1**2 + 5 / math.pi * x1 - 6\n",
    "    t2 = 10 * (1 - 1 / (8 * math.pi)) * np.cos(x1)\n",
    "    return t1**2 + t2 + 10"
   ]
  },
  {
   "cell_type": "code",
   "execution_count": 4,
   "id": "513f9021",
   "metadata": {
    "customInput": null,
    "customOutput": null,
    "execution": {
     "iopub.execute_input": "2023-12-09T19:47:46.334608Z",
     "iopub.status.busy": "2023-12-09T19:47:46.333979Z",
     "iopub.status.idle": "2023-12-09T19:47:46.338788Z",
     "shell.execute_reply": "2023-12-09T19:47:46.338114Z"
    },
    "executionStartTime": 1689117390518,
    "executionStopTime": 1689117390540,
    "jupyter": {
     "outputs_hidden": false
    },
    "originalKey": "850830c6-509f-4087-bce8-da0be4fd48ef",
    "papermill": {
     "duration": 0.010854,
     "end_time": "2023-12-09T19:47:46.340159",
     "exception": false,
     "start_time": "2023-12-09T19:47:46.329305",
     "status": "completed"
    },
    "requestMsgId": "56726053-205d-4d7e-b1b5-1a76324188ee",
    "showInput": true,
    "tags": []
   },
   "outputs": [],
   "source": [
    "class AugBraninMetric(NoisyFunctionMetric):\n",
    "    def f(self, x: np.ndarray) -> float:\n",
    "        return checked_cast(float, branin_augment(x_vec=x, augment_dim=aug_dim))\n",
    "\n",
    "\n",
    "# Create search space in Ax \n",
    "search_space = SearchSpace(\n",
    "    parameters=[\n",
    "        RangeParameter(\n",
    "            name=f\"x{i}\",\n",
    "            parameter_type=ParameterType.FLOAT, \n",
    "            lower=0.0, upper=1.0\n",
    "        )\n",
    "        for i in range(aug_dim)\n",
    "    ]\n",
    ")"
   ]
  },
  {
   "cell_type": "code",
   "execution_count": 5,
   "id": "45abfe51",
   "metadata": {
    "customInput": null,
    "execution": {
     "iopub.execute_input": "2023-12-09T19:47:46.349429Z",
     "iopub.status.busy": "2023-12-09T19:47:46.348947Z",
     "iopub.status.idle": "2023-12-09T19:47:46.354054Z",
     "shell.execute_reply": "2023-12-09T19:47:46.353351Z"
    },
    "executionStartTime": 1689117391899,
    "executionStopTime": 1689117391915,
    "jupyter": {
     "outputs_hidden": false
    },
    "originalKey": "d039b709-67c6-475a-96ce-290f869e0f88",
    "papermill": {
     "duration": 0.011329,
     "end_time": "2023-12-09T19:47:46.355510",
     "exception": false,
     "start_time": "2023-12-09T19:47:46.344181",
     "status": "completed"
    },
    "requestMsgId": "3e23ed64-7d10-430b-b790-91a0c7cf72fe",
    "showInput": true,
    "tags": []
   },
   "outputs": [],
   "source": [
    "# Create optimization goals \n",
    "optimization_config = OptimizationConfig(\n",
    "    objective=Objective(\n",
    "        metric=AugBraninMetric(\n",
    "            name=\"objective\",\n",
    "            param_names=[f\"x{i}\" for i in range(aug_dim)],\n",
    "            noise_sd=None,  # Set noise_sd=None if you want to learn the noise, otherwise it defaults to 1e-6\n",
    "        ),\n",
    "        minimize=True,\n",
    "    )\n",
    ")\n",
    "\n",
    "# Experiment\n",
    "experiment = Experiment(\n",
    "    name=\"sebo_experiment\",\n",
    "    search_space=search_space,\n",
    "    optimization_config=optimization_config,\n",
    "    runner=SyntheticRunner(),\n",
    ")\n",
    "\n",
    "# target sparse point to regularize towards to. Here we set target sparse value being zero for all the parameters. \n",
    "target_point = torch.tensor([0 for _ in range(aug_dim)], **tkwargs)"
   ]
  },
  {
   "cell_type": "markdown",
   "id": "c2222557",
   "metadata": {
    "customInput": null,
    "originalKey": "e57edb00-eafc-4d07-bdb9-e8cf073b4caa",
    "papermill": {
     "duration": 0.003671,
     "end_time": "2023-12-09T19:47:46.363224",
     "exception": false,
     "start_time": "2023-12-09T19:47:46.359553",
     "status": "completed"
    },
    "showInput": false,
    "tags": []
   },
   "source": [
    "## Run optimization loop"
   ]
  },
  {
   "cell_type": "code",
   "execution_count": 6,
   "id": "20e28578",
   "metadata": {
    "customInput": null,
    "customOutput": null,
    "execution": {
     "iopub.execute_input": "2023-12-09T19:47:46.372568Z",
     "iopub.status.busy": "2023-12-09T19:47:46.371877Z",
     "iopub.status.idle": "2023-12-09T19:47:46.377524Z",
     "shell.execute_reply": "2023-12-09T19:47:46.376798Z"
    },
    "executionStartTime": 1689117395051,
    "executionStopTime": 1689117395069,
    "jupyter": {
     "outputs_hidden": false
    },
    "originalKey": "c4848148-bff5-44a7-9ad5-41e78ccb413c",
    "papermill": {
     "duration": 0.012029,
     "end_time": "2023-12-09T19:47:46.378925",
     "exception": false,
     "start_time": "2023-12-09T19:47:46.366896",
     "status": "completed"
    },
    "requestMsgId": "8aa87d22-bf89-471f-be9f-7c31f7b8bd62",
    "showInput": true,
    "tags": []
   },
   "outputs": [
    {
     "name": "stdout",
     "output_type": "stream",
     "text": [
      "Doing 30 evaluations\n"
     ]
    }
   ],
   "source": [
    "N_INIT = 10\n",
    "\n",
    "if SMOKE_TEST:\n",
    "    N_BATCHES = 1\n",
    "    BATCH_SIZE = 1\n",
    "    SURROGATE_CLASS = None  # Auto-pick SingleTaskGP / FixedNoiseGP\n",
    "else:\n",
    "    N_BATCHES = 4\n",
    "    BATCH_SIZE = 5\n",
    "    SURROGATE_CLASS = SaasFullyBayesianSingleTaskGP\n",
    "\n",
    "print(f\"Doing {N_INIT + N_BATCHES * BATCH_SIZE} evaluations\")"
   ]
  },
  {
   "cell_type": "code",
   "execution_count": 7,
   "id": "3ae574e8",
   "metadata": {
    "customInput": null,
    "customOutput": null,
    "execution": {
     "iopub.execute_input": "2023-12-09T19:47:46.388460Z",
     "iopub.status.busy": "2023-12-09T19:47:46.387974Z",
     "iopub.status.idle": "2023-12-09T19:47:46.401280Z",
     "shell.execute_reply": "2023-12-09T19:47:46.400701Z"
    },
    "executionStartTime": 1689117396326,
    "executionStopTime": 1689117396376,
    "jupyter": {
     "outputs_hidden": false
    },
    "originalKey": "b260d85f-2797-44e3-840a-86587534b589",
    "papermill": {
     "duration": 0.019794,
     "end_time": "2023-12-09T19:47:46.402942",
     "exception": false,
     "start_time": "2023-12-09T19:47:46.383148",
     "status": "completed"
    },
    "requestMsgId": "2cc516e3-b16e-40ca-805f-dcd792c92fa6",
    "showInput": true,
    "tags": []
   },
   "outputs": [],
   "source": [
    "# Initial Sobol points\n",
    "sobol = Models.SOBOL(search_space=experiment.search_space)\n",
    "for _ in range(N_INIT):\n",
    "    experiment.new_trial(sobol.gen(1)).run()"
   ]
  },
  {
   "cell_type": "code",
   "execution_count": 8,
   "id": "bebca51c",
   "metadata": {
    "customInput": null,
    "customOutput": null,
    "execution": {
     "iopub.execute_input": "2023-12-09T19:47:46.412497Z",
     "iopub.status.busy": "2023-12-09T19:47:46.412028Z",
     "iopub.status.idle": "2023-12-09T19:58:25.602711Z",
     "shell.execute_reply": "2023-12-09T19:58:25.601939Z"
    },
    "executionStartTime": 1689117396900,
    "executionStopTime": 1689124188959,
    "jupyter": {
     "outputs_hidden": false
    },
    "originalKey": "7c198035-add2-4717-be27-4fb67c4d1782",
    "papermill": {
     "duration": 639.200851,
     "end_time": "2023-12-09T19:58:25.608020",
     "exception": false,
     "start_time": "2023-12-09T19:47:46.407169",
     "status": "completed"
    },
    "requestMsgId": "d844fa20-0adf-4ba3-ace5-7253ba678db2",
    "showInput": true,
    "tags": []
   },
   "outputs": [
    {
     "name": "stdout",
     "output_type": "stream",
     "text": [
      "Iteration: 0, Best so far: 2.494\n"
     ]
    },
    {
     "name": "stdout",
     "output_type": "stream",
     "text": [
      "Iteration: 1, Best so far: 2.494\n"
     ]
    },
    {
     "name": "stdout",
     "output_type": "stream",
     "text": [
      "Iteration: 2, Best so far: 2.099\n"
     ]
    },
    {
     "name": "stdout",
     "output_type": "stream",
     "text": [
      "Iteration: 3, Best so far: 1.944\n"
     ]
    }
   ],
   "source": [
    "data = experiment.fetch_data()\n",
    "\n",
    "for i in range(N_BATCHES):\n",
    "\n",
    "    model = Models.BOTORCH_MODULAR(\n",
    "        experiment=experiment, \n",
    "        data=data,\n",
    "        surrogate=Surrogate(botorch_model_class=SURROGATE_CLASS),  # can use SAASGP (i.e. SaasFullyBayesianSingleTaskGP) for high-dim cases\n",
    "        search_space=experiment.search_space,\n",
    "        botorch_acqf_class=qNoisyExpectedHypervolumeImprovement,\n",
    "        acquisition_class=SEBOAcquisition,\n",
    "        acquisition_options={\n",
    "            \"penalty\": \"L0_norm\", # it can be L0_norm or L1_norm. \n",
    "            \"target_point\": target_point, \n",
    "            \"sparsity_threshold\": aug_dim,\n",
    "        },\n",
    "        torch_device=tkwargs['device'],\n",
    "    )\n",
    "\n",
    "    generator_run = model.gen(BATCH_SIZE)\n",
    "    trial = experiment.new_batch_trial(generator_run=generator_run)\n",
    "    trial.run()\n",
    "\n",
    "    new_data = trial.fetch_data(metrics=list(experiment.metrics.values()))\n",
    "    data = Data.from_multiple_data([data, new_data])\n",
    "    print(f\"Iteration: {i}, Best so far: {data.df['mean'].min():.3f}\")"
   ]
  },
  {
   "cell_type": "markdown",
   "id": "0f9ef10a",
   "metadata": {
    "customInput": null,
    "originalKey": "7998635d-6750-4825-b93d-c7b61f74c3c5",
    "papermill": {
     "duration": 0.00414,
     "end_time": "2023-12-09T19:58:25.616429",
     "exception": false,
     "start_time": "2023-12-09T19:58:25.612289",
     "status": "completed"
    },
    "showInput": false,
    "tags": []
   },
   "source": [
    "## Plot sparisty vs objective \n",
    "\n",
    "Visualize the objective and sparsity trade-offs using SEBO. Each point represent designs along the Pareto frontier found by SEBO. The x-axis corresponds to the number of active parameters used, i.e.\n",
    "non-sparse parameters, and the y-axis corresponds the best identified objective values. Based on this, decision-makers balance both simplicity/interpretability of generated policies and optimization performance when deciding which configuration to use."
   ]
  },
  {
   "cell_type": "code",
   "execution_count": 9,
   "id": "be775807",
   "metadata": {
    "customInput": null,
    "customOutput": null,
    "execution": {
     "iopub.execute_input": "2023-12-09T19:58:25.625647Z",
     "iopub.status.busy": "2023-12-09T19:58:25.625241Z",
     "iopub.status.idle": "2023-12-09T19:58:25.630350Z",
     "shell.execute_reply": "2023-12-09T19:58:25.629772Z"
    },
    "executionStartTime": 1689124189044,
    "executionStopTime": 1689124189182,
    "jupyter": {
     "outputs_hidden": false
    },
    "originalKey": "416ccd12-51a1-4bfe-9e10-436cd88ec6be",
    "papermill": {
     "duration": 0.011246,
     "end_time": "2023-12-09T19:58:25.631650",
     "exception": false,
     "start_time": "2023-12-09T19:58:25.620404",
     "status": "completed"
    },
    "requestMsgId": "5143ae57-1d0d-4f9d-bc9d-9d151f3e9af0",
    "showInput": true,
    "tags": []
   },
   "outputs": [],
   "source": [
    "def nnz_exact(x, sparse_point):\n",
    "    return len(x) - (np.array(x) == np.array(sparse_point)).sum()\n",
    "\n",
    "    \n",
    "df = data.df\n",
    "df['L0_norm'] = df['arm_name'].apply(lambda d: nnz_exact(list(experiment.arms_by_name[d].parameters.values()), [0 for _ in range(aug_dim)]) )"
   ]
  },
  {
   "cell_type": "code",
   "execution_count": 10,
   "id": "fe808312",
   "metadata": {
    "customInput": null,
    "customOutput": null,
    "execution": {
     "iopub.execute_input": "2023-12-09T19:58:25.640695Z",
     "iopub.status.busy": "2023-12-09T19:58:25.640314Z",
     "iopub.status.idle": "2023-12-09T19:58:25.649262Z",
     "shell.execute_reply": "2023-12-09T19:58:25.648668Z"
    },
    "executionStartTime": 1689124189219,
    "executionStopTime": 1689124189321,
    "jupyter": {
     "outputs_hidden": false
    },
    "originalKey": "97b96822-7d7f-4a5d-8458-01ff890d2fde",
    "papermill": {
     "duration": 0.014884,
     "end_time": "2023-12-09T19:58:25.650575",
     "exception": false,
     "start_time": "2023-12-09T19:58:25.635691",
     "status": "completed"
    },
    "requestMsgId": "34abdf8d-6f0c-48a1-8700-8e2c3075a085",
    "showInput": true,
    "tags": []
   },
   "outputs": [
    {
     "data": {
      "text/plain": [
       "{1: 5.046020980573208,\n",
       " 2: 1.9435621195718795,\n",
       " 3: 1.9435621195718795,\n",
       " 4: 1.9435621195718795,\n",
       " 5: 1.9435621195718795,\n",
       " 6: 1.9435621195718795,\n",
       " 7: 1.9435621195718795,\n",
       " 8: 1.9435621195718795}"
      ]
     },
     "execution_count": 10,
     "metadata": {},
     "output_type": "execute_result"
    }
   ],
   "source": [
    "result_by_sparsity = {l: df[df.L0_norm <= l]['mean'].min() for l in range(1, aug_dim+1)}\n",
    "result_by_sparsity"
   ]
  },
  {
   "cell_type": "code",
   "execution_count": 11,
   "id": "f2056878",
   "metadata": {
    "customInput": null,
    "customOutput": null,
    "execution": {
     "iopub.execute_input": "2023-12-09T19:58:25.660126Z",
     "iopub.status.busy": "2023-12-09T19:58:25.659559Z",
     "iopub.status.idle": "2023-12-09T19:58:25.835133Z",
     "shell.execute_reply": "2023-12-09T19:58:25.834442Z"
    },
    "executionStartTime": 1689134836494,
    "executionStopTime": 1689134837813,
    "jupyter": {
     "outputs_hidden": false
    },
    "originalKey": "7193e2b0-e192-439a-b0d0-08a2029f64ca",
    "papermill": {
     "duration": 0.181725,
     "end_time": "2023-12-09T19:58:25.836528",
     "exception": false,
     "start_time": "2023-12-09T19:58:25.654803",
     "status": "completed"
    },
    "requestMsgId": "f095d820-55e0-4201-8e3a-77f17b2155f1",
    "showInput": true,
    "tags": []
   },
   "outputs": [
    {
     "data": {
      "image/png": "[encoded data removed]",
      "text/plain": [
       "<Figure size 800x600 with 1 Axes>"
      ]
     },
     "metadata": {},
     "output_type": "display_data"
    }
   ],
   "source": [
    "fig, ax = plt.subplots(figsize=(8, 6))\n",
    "ax.plot(list(result_by_sparsity.keys()), list(result_by_sparsity.values()), '.b-', label=\"sebo\", markersize=10)\n",
    "ax.grid(True)\n",
    "ax.set_title(f\"Branin, D={aug_dim}\", fontsize=20)\n",
    "ax.set_xlabel(\"Number of active parameters\", fontsize=20)\n",
    "ax.set_ylabel(\"Best value found\", fontsize=20)\n",
    "# ax.legend(fontsize=18)\n",
    "plt.show()"
   ]
  },
  {
   "cell_type": "markdown",
   "id": "165bab1a",
   "metadata": {
    "customInput": null,
    "originalKey": "1ba68dc9-d60b-4b39-8e58-ea9bdc06b44c",
    "papermill": {
     "duration": 0.005186,
     "end_time": "2023-12-09T19:58:25.847105",
     "exception": false,
     "start_time": "2023-12-09T19:58:25.841919",
     "status": "completed"
    },
    "showInput": false,
    "tags": []
   },
   "source": [
    "# Demo of Using GenerationStrategy and Service API \n",
    "\n",
    "Please check [Service API tutorial](https://ax.dev/tutorials/gpei_hartmann_service.html) for more detailed information. "
   ]
  },
  {
   "cell_type": "markdown",
   "id": "891b268c",
   "metadata": {
    "customInput": null,
    "originalKey": "45e5586c-55eb-4908-aa73-bca4ee883b56",
    "papermill": {
     "duration": 0.004498,
     "end_time": "2023-12-09T19:58:25.856278",
     "exception": false,
     "start_time": "2023-12-09T19:58:25.851780",
     "status": "completed"
    },
    "showInput": false,
    "tags": []
   },
   "source": [
    "## Create `GenerationStrategy`"
   ]
  },
  {
   "cell_type": "code",
   "execution_count": 12,
   "id": "632eeab5",
   "metadata": {
    "customInput": null,
    "execution": {
     "iopub.execute_input": "2023-12-09T19:58:25.867112Z",
     "iopub.status.busy": "2023-12-09T19:58:25.866362Z",
     "iopub.status.idle": "2023-12-09T19:58:25.871420Z",
     "shell.execute_reply": "2023-12-09T19:58:25.870903Z"
    },
    "executionStartTime": 1689124192972,
    "executionStopTime": 1689124192975,
    "jupyter": {
     "outputs_hidden": false
    },
    "originalKey": "7c0bfe37-8f1f-4999-8833-42ffb2569c04",
    "papermill": {
     "duration": 0.011996,
     "end_time": "2023-12-09T19:58:25.872785",
     "exception": false,
     "start_time": "2023-12-09T19:58:25.860789",
     "status": "completed"
    },
    "requestMsgId": "bbd9058a-709e-4262-abe1-720d37e8786f",
    "showInput": true,
    "tags": []
   },
   "outputs": [],
   "source": [
    "gs = GenerationStrategy(\n",
    "    name=\"SEBO_L0\",\n",
    "    steps=[\n",
    "        GenerationStep(  # Initialization step\n",
    "            model=Models.SOBOL,     \n",
    "            num_trials=N_INIT,\n",
    "        ),\n",
    "        GenerationStep(  # BayesOpt step\n",
    "            model=Models.BOTORCH_MODULAR,\n",
    "            # No limit on how many generator runs will be produced\n",
    "            num_trials=-1,\n",
    "            model_kwargs={  # Kwargs to pass to `BoTorchModel.__init__`\n",
    "                \"surrogate\": Surrogate(botorch_model_class=SURROGATE_CLASS),\n",
    "                \"acquisition_class\": SEBOAcquisition,\n",
    "                \"botorch_acqf_class\": qNoisyExpectedHypervolumeImprovement,\n",
    "                \"acquisition_options\": {\n",
    "                    \"penalty\": \"L0_norm\", # it can be L0_norm or L1_norm.\n",
    "                    \"target_point\": target_point, \n",
    "                    \"sparsity_threshold\": aug_dim,\n",
    "                },\n",
    "            },\n",
    "        )\n",
    "    ]\n",
    ")"
   ]
  },
  {
   "cell_type": "markdown",
   "id": "abcccce3",
   "metadata": {
    "customInput": null,
    "originalKey": "e4911bc6-32cb-42a5-908f-57f3f04e58e5",
    "papermill": {
     "duration": 0.00458,
     "end_time": "2023-12-09T19:58:25.882223",
     "exception": false,
     "start_time": "2023-12-09T19:58:25.877643",
     "status": "completed"
    },
    "showInput": false,
    "tags": []
   },
   "source": [
    "## Initialize client and set up experiment"
   ]
  },
  {
   "cell_type": "code",
   "execution_count": 13,
   "id": "5c7615fe",
   "metadata": {
    "customInput": null,
    "execution": {
     "iopub.execute_input": "2023-12-09T19:58:25.892322Z",
     "iopub.status.busy": "2023-12-09T19:58:25.892096Z",
     "iopub.status.idle": "2023-12-09T19:58:25.899469Z",
     "shell.execute_reply": "2023-12-09T19:58:25.898921Z"
    },
    "executionStartTime": 1689124192979,
    "executionStopTime": 1689124192984,
    "jupyter": {
     "outputs_hidden": false
    },
    "originalKey": "47938102-0613-4b37-acb2-9f1f5f3fe6b1",
    "papermill": {
     "duration": 0.014107,
     "end_time": "2023-12-09T19:58:25.900895",
     "exception": false,
     "start_time": "2023-12-09T19:58:25.886788",
     "status": "completed"
    },
    "requestMsgId": "38b4b17c-6aae-43b8-aa58-2df045f522fe",
    "showInput": true,
    "tags": []
   },
   "outputs": [
    {
     "name": "stderr",
     "output_type": "stream",
     "text": [
      "[INFO 12-09 19:58:25] ax.service.ax_client: Starting optimization with verbose logging. To disable logging, set the `verbose_logging` argument to `False`. Note that float values in the logs are rounded to 6 decimal points.\n"
     ]
    },
    {
     "name": "stderr",
     "output_type": "stream",
     "text": [
      "[INFO 12-09 19:58:25] ax.service.utils.instantiation: Created search space: SearchSpace(parameters=[RangeParameter(name='x0', parameter_type=FLOAT, range=[0.0, 1.0]), RangeParameter(name='x1', parameter_type=FLOAT, range=[0.0, 1.0]), RangeParameter(name='x2', parameter_type=FLOAT, range=[0.0, 1.0]), RangeParameter(name='x3', parameter_type=FLOAT, range=[0.0, 1.0]), RangeParameter(name='x4', parameter_type=FLOAT, range=[0.0, 1.0]), RangeParameter(name='x5', parameter_type=FLOAT, range=[0.0, 1.0]), RangeParameter(name='x6', parameter_type=FLOAT, range=[0.0, 1.0]), RangeParameter(name='x7', parameter_type=FLOAT, range=[0.0, 1.0])], parameter_constraints=[]).\n"
     ]
    }
   ],
   "source": [
    "ax_client = AxClient(generation_strategy=gs)\n",
    "\n",
    "experiment_parameters = [\n",
    "    {\n",
    "        \"name\": f\"x{i}\",\n",
    "        \"type\": \"range\",\n",
    "        \"bounds\": [0, 1],\n",
    "        \"value_type\": \"float\",\n",
    "        \"log_scale\": False,\n",
    "    }\n",
    "    for i in range(aug_dim)\n",
    "]\n",
    "\n",
    "objective_metrics = {\n",
    "    \"objective\": ObjectiveProperties(minimize=False, threshold=-10),\n",
    "}\n",
    "\n",
    "ax_client.create_experiment(\n",
    "    name=\"branin_augment_sebo_experiment\",\n",
    "    parameters=experiment_parameters,\n",
    "    objectives=objective_metrics,\n",
    ")"
   ]
  },
  {
   "cell_type": "markdown",
   "id": "85835324",
   "metadata": {
    "customInput": null,
    "originalKey": "6a7942e4-9727-43d9-8d8d-c327d38c2373",
    "papermill": {
     "duration": 0.004745,
     "end_time": "2023-12-09T19:58:25.910786",
     "exception": false,
     "start_time": "2023-12-09T19:58:25.906041",
     "status": "completed"
    },
    "showInput": false,
    "tags": []
   },
   "source": [
    "## Define evaluation function "
   ]
  },
  {
   "cell_type": "code",
   "execution_count": 14,
   "id": "170064e6",
   "metadata": {
    "customInput": null,
    "execution": {
     "iopub.execute_input": "2023-12-09T19:58:25.921376Z",
     "iopub.status.busy": "2023-12-09T19:58:25.920946Z",
     "iopub.status.idle": "2023-12-09T19:58:25.925425Z",
     "shell.execute_reply": "2023-12-09T19:58:25.924358Z"
    },
    "executionStartTime": 1689124192990,
    "executionStopTime": 1689124192992,
    "jupyter": {
     "outputs_hidden": false
    },
    "originalKey": "4e2994ff-36ac-4d48-a789-3d0398e1e856",
    "papermill": {
     "duration": 0.011338,
     "end_time": "2023-12-09T19:58:25.926800",
     "exception": false,
     "start_time": "2023-12-09T19:58:25.915462",
     "status": "completed"
    },
    "requestMsgId": "8f74a775-a8ce-462d-993c-5c9291c748b9",
    "showInput": true,
    "tags": []
   },
   "outputs": [],
   "source": [
    "def evaluation(parameters):\n",
    "    # put parameters into 1-D array\n",
    "    x = [parameters.get(param[\"name\"]) for param in experiment_parameters]\n",
    "    res = branin_augment(x_vec=x, augment_dim=aug_dim)\n",
    "    eval_res = {\n",
    "        # flip the sign to maximize\n",
    "        \"objective\": (res * -1, 0.0),\n",
    "    }\n",
    "    return eval_res"
   ]
  },
  {
   "cell_type": "markdown",
   "id": "02f81b02",
   "metadata": {
    "customInput": null,
    "originalKey": "4597531b-7ac8-4dd0-94c4-836672e0f4c4",
    "papermill": {
     "duration": 0.00468,
     "end_time": "2023-12-09T19:58:25.936309",
     "exception": false,
     "start_time": "2023-12-09T19:58:25.931629",
     "status": "completed"
    },
    "showInput": false,
    "tags": []
   },
   "source": [
    "## Run optimization loop\n",
    "\n",
    "Running only 1 BO trial for demonstration. "
   ]
  },
  {
   "cell_type": "code",
   "execution_count": 15,
   "id": "481276ef",
   "metadata": {
    "customInput": null,
    "execution": {
     "iopub.execute_input": "2023-12-09T19:58:25.947030Z",
     "iopub.status.busy": "2023-12-09T19:58:25.946768Z",
     "iopub.status.idle": "2023-12-09T19:58:57.952387Z",
     "shell.execute_reply": "2023-12-09T19:58:57.951757Z"
    },
    "executionStartTime": 1689124193044,
    "executionStopTime": 1689130398208,
    "jupyter": {
     "outputs_hidden": false
    },
    "originalKey": "bc7accb2-48a2-4c88-a932-7c79ec81075a",
    "papermill": {
     "duration": 32.0145,
     "end_time": "2023-12-09T19:58:57.955504",
     "exception": false,
     "start_time": "2023-12-09T19:58:25.941004",
     "status": "completed"
    },
    "requestMsgId": "f054e5b1-12eb-459b-a508-6944baf82dfb",
    "showInput": true,
    "tags": []
   },
   "outputs": [
    {
     "name": "stderr",
     "output_type": "stream",
     "text": [
      "[INFO 12-09 19:58:25] ax.service.ax_client: Generated new trial 0 with parameters {'x0': 0.961115, 'x1': 0.359036, 'x2': 0.715913, 'x3': 0.066879, 'x4': 0.497045, 'x5': 0.715001, 'x6': 0.14346, 'x7': 0.519402}.\n"
     ]
    },
    {
     "name": "stderr",
     "output_type": "stream",
     "text": [
      "[INFO 12-09 19:58:25] ax.service.ax_client: Completed trial 0 with data: {'objective': (-8.908916, 0.0)}.\n"
     ]
    },
    {
     "name": "stderr",
     "output_type": "stream",
     "text": [
      "[INFO 12-09 19:58:25] ax.service.ax_client: Generated new trial 1 with parameters {'x0': 0.689925, 'x1': 0.513996, 'x2': 0.439667, 'x3': 0.31206, 'x4': 0.028473, 'x5': 0.823995, 'x6': 0.895164, 'x7': 0.900829}.\n"
     ]
    },
    {
     "name": "stderr",
     "output_type": "stream",
     "text": [
      "[INFO 12-09 19:58:25] ax.service.ax_client: Completed trial 1 with data: {'objective': (-58.307847, 0.0)}.\n"
     ]
    },
    {
     "name": "stderr",
     "output_type": "stream",
     "text": [
      "[INFO 12-09 19:58:25] ax.service.ax_client: Generated new trial 2 with parameters {'x0': 0.397701, 'x1': 0.597751, 'x2': 0.027535, 'x3': 0.393116, 'x4': 0.193034, 'x5': 0.35297, 'x6': 0.042288, 'x7': 0.973383}.\n"
     ]
    },
    {
     "name": "stderr",
     "output_type": "stream",
     "text": [
      "[INFO 12-09 19:58:25] ax.service.ax_client: Completed trial 2 with data: {'objective': (-34.669833, 0.0)}.\n"
     ]
    },
    {
     "name": "stderr",
     "output_type": "stream",
     "text": [
      "[INFO 12-09 19:58:26] ax.service.ax_client: Generated new trial 3 with parameters {'x0': 0.388581, 'x1': 0.39158, 'x2': 0.965674, 'x3': 0.970921, 'x4': 0.611919, 'x5': 0.998323, 'x6': 0.470947, 'x7': 0.935215}.\n"
     ]
    },
    {
     "name": "stderr",
     "output_type": "stream",
     "text": [
      "[INFO 12-09 19:58:26] ax.service.ax_client: Completed trial 3 with data: {'objective': (-17.707991, 0.0)}.\n"
     ]
    },
    {
     "name": "stderr",
     "output_type": "stream",
     "text": [
      "[INFO 12-09 19:58:26] ax.service.ax_client: Generated new trial 4 with parameters {'x0': 0.660043, 'x1': 0.288258, 'x2': 0.735828, 'x3': 0.254394, 'x4': 0.812229, 'x5': 0.862091, 'x6': 0.581872, 'x7': 0.431561}.\n"
     ]
    },
    {
     "name": "stderr",
     "output_type": "stream",
     "text": [
      "[INFO 12-09 19:58:26] ax.service.ax_client: Completed trial 4 with data: {'objective': (-20.923147, 0.0)}.\n"
     ]
    },
    {
     "name": "stderr",
     "output_type": "stream",
     "text": [
      "[INFO 12-09 19:58:26] ax.service.ax_client: Generated new trial 5 with parameters {'x0': 0.893935, 'x1': 0.450645, 'x2': 0.587908, 'x3': 0.172661, 'x4': 0.746678, 'x5': 0.658944, 'x6': 0.516661, 'x7': 0.192223}.\n"
     ]
    },
    {
     "name": "stderr",
     "output_type": "stream",
     "text": [
      "[INFO 12-09 19:58:26] ax.service.ax_client: Completed trial 5 with data: {'objective': (-30.021985, 0.0)}.\n"
     ]
    },
    {
     "name": "stderr",
     "output_type": "stream",
     "text": [
      "[INFO 12-09 19:58:26] ax.service.ax_client: Generated new trial 6 with parameters {'x0': 0.46071, 'x1': 0.084512, 'x2': 0.20755, 'x3': 0.160705, 'x4': 0.894869, 'x5': 0.430115, 'x6': 0.412353, 'x7': 0.625937}.\n"
     ]
    },
    {
     "name": "stderr",
     "output_type": "stream",
     "text": [
      "[INFO 12-09 19:58:26] ax.service.ax_client: Completed trial 6 with data: {'objective': (-11.477858, 0.0)}.\n"
     ]
    },
    {
     "name": "stderr",
     "output_type": "stream",
     "text": [
      "[INFO 12-09 19:58:26] ax.service.ax_client: Generated new trial 7 with parameters {'x0': 0.529946, 'x1': 0.576053, 'x2': 0.359926, 'x3': 0.761431, 'x4': 0.873474, 'x5': 0.639062, 'x6': 0.511902, 'x7': 0.230026}.\n"
     ]
    },
    {
     "name": "stderr",
     "output_type": "stream",
     "text": [
      "[INFO 12-09 19:58:26] ax.service.ax_client: Completed trial 7 with data: {'objective': (-39.151167, 0.0)}.\n"
     ]
    },
    {
     "name": "stderr",
     "output_type": "stream",
     "text": [
      "[INFO 12-09 19:58:26] ax.service.ax_client: Generated new trial 8 with parameters {'x0': 0.683578, 'x1': 0.976058, 'x2': 0.546037, 'x3': 0.316109, 'x4': 0.786963, 'x5': 0.317712, 'x6': 0.164977, 'x7': 0.248993}.\n"
     ]
    },
    {
     "name": "stderr",
     "output_type": "stream",
     "text": [
      "[INFO 12-09 19:58:26] ax.service.ax_client: Completed trial 8 with data: {'objective': (-195.492494, 0.0)}.\n"
     ]
    },
    {
     "name": "stderr",
     "output_type": "stream",
     "text": [
      "[INFO 12-09 19:58:26] ax.service.ax_client: Generated new trial 9 with parameters {'x0': 0.727612, 'x1': 0.981815, 'x2': 0.122612, 'x3': 0.687571, 'x4': 0.530077, 'x5': 0.670499, 'x6': 0.228171, 'x7': 0.638589}.\n"
     ]
    },
    {
     "name": "stderr",
     "output_type": "stream",
     "text": [
      "[INFO 12-09 19:58:26] ax.service.ax_client: Completed trial 9 with data: {'objective': (-204.497724, 0.0)}.\n"
     ]
    },
    {
     "name": "stderr",
     "output_type": "stream",
     "text": [
      "[INFO 12-09 19:58:57] ax.service.ax_client: Generated new trial 10 with parameters {'x0': 0.0, 'x1': 0.271836, 'x2': 0.0, 'x3': 0.0, 'x4': 0.0, 'x5': 0.0, 'x6': 0.0, 'x7': 0.0}.\n"
     ]
    },
    {
     "name": "stderr",
     "output_type": "stream",
     "text": [
      "[INFO 12-09 19:58:57] ax.service.ax_client: Completed trial 10 with data: {'objective': (-184.591304, 0.0)}.\n"
     ]
    }
   ],
   "source": [
    "for _ in range(N_INIT + 1):    \n",
    "    parameters, trial_index = ax_client.get_next_trial()\n",
    "    res = evaluation(parameters)\n",
    "    ax_client.complete_trial(trial_index=trial_index, raw_data=res)"
   ]
  }
 ],
 "metadata": {
  "fileHeader": "",
  "kernelspec": {
   "display_name": "Python 3 (ipykernel)",
   "language": "python",
   "name": "python3"
  },
  "language_info": {
   "codemirror_mode": {
    "name": "ipython",
    "version": 3
   },
   "file_extension": ".py",
   "mimetype": "text/x-python",
   "name": "python",
   "nbconvert_exporter": "python",
   "pygments_lexer": "ipython3",
   "version": "3.9.18"
  },
  "papermill": {
   "default_parameters": {},
   "duration": 677.174922,
   "end_time": "2023-12-09T19:58:59.188082",
   "environment_variables": {},
   "exception": null,
   "input_path": "/tmp/tmp.bwZKabbZig/Ax-main/tutorials/sebo.ipynb",
   "output_path": "/tmp/tmp.bwZKabbZig/Ax-main/tutorials/sebo.ipynb",
   "parameters": {},
   "start_time": "2023-12-09T19:47:42.013160",
   "version": "2.5.0"
  }
 },
 "nbformat": 4,
 "nbformat_minor": 5
}
