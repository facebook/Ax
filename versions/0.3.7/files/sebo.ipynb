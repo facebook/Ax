{
 "cells": [
  {
   "cell_type": "markdown",
   "id": "63679be0",
   "metadata": {
    "collapsed": true,
    "customInput": null,
    "jupyter": {
     "outputs_hidden": true
    },
    "originalKey": "d3a0136e-94fa-477c-a839-20e5b7f1cdd2",
    "papermill": {
     "duration": 0.004207,
     "end_time": "2024-03-01T17:51:45.173449",
     "exception": false,
     "start_time": "2024-03-01T17:51:45.169242",
     "status": "completed"
    },
    "showInput": false,
    "tags": []
   },
   "source": [
    "# Sparsity Exploration Bayesian Optimization (SEBO) Ax API \n",
    "\n",
    "This tutorial introduces the Sparsity Exploration Bayesian Optimization (SEBO) method and demonstrates how to utilize it using the Ax API. SEBO is designed to enhance Bayesian Optimization (BO) by taking the interpretability and simplicity of configurations into consideration. In essence, SEBO incorporates sparsity, modeled as the $L_0$ norm, as an additional objective in BO. By employing multi-objective optimization techniques such as Expected Hyper-Volume Improvement, SEBO enables the joint optimization of objectives while simultaneously incorporating feature-level sparsity. This allows users to efficiently explore different trade-offs between objectives and sparsity.\n",
    "\n",
    "\n",
    "For a more detailed understanding of the SEBO algorithm, please refer to the following publication:\n",
    "\n",
    "[1] [S. Liu, Q. Feng, D. Eriksson, B. Letham and E. Bakshy. Sparse Bayesian Optimization. International Conference on Artificial Intelligence and Statistics, 2023.](https://proceedings.mlr.press/v206/liu23b/liu23b.pdf)\n",
    "\n",
    "By following this tutorial, you will learn how to leverage the SEBO method through the Ax API, empowering you to effectively balance objectives and sparsity in your optimization tasks. Let's get started!"
   ]
  },
  {
   "cell_type": "code",
   "execution_count": 1,
   "id": "6055d383",
   "metadata": {
    "customOutput": null,
    "execution": {
     "iopub.execute_input": "2024-03-01T17:51:45.182418Z",
     "iopub.status.busy": "2024-03-01T17:51:45.181849Z",
     "iopub.status.idle": "2024-03-01T17:51:48.736577Z",
     "shell.execute_reply": "2024-03-01T17:51:48.735883Z"
    },
    "executionStartTime": 1689117385062,
    "executionStopTime": 1689117389874,
    "jupyter": {
     "outputs_hidden": false
    },
    "originalKey": "cea96143-019a-41c1-a388-545f48992db9",
    "papermill": {
     "duration": 3.561111,
     "end_time": "2024-03-01T17:51:48.738344",
     "exception": false,
     "start_time": "2024-03-01T17:51:45.177233",
     "status": "completed"
    },
    "requestMsgId": "c2c22a5d-aee0-4a1e-98d9-b360aa1851ff",
    "showInput": true,
    "tags": []
   },
   "outputs": [],
   "source": [
    "import math\n",
    "import os\n",
    "import warnings\n",
    "\n",
    "import matplotlib\n",
    "import matplotlib.pyplot as plt\n",
    "\n",
    "import numpy as np\n",
    "import torch\n",
    "from ax import Data, Experiment, ParameterType, RangeParameter, SearchSpace\n",
    "from ax.core.objective import Objective\n",
    "from ax.core.optimization_config import OptimizationConfig\n",
    "from ax.metrics.noisy_function import NoisyFunctionMetric\n",
    "from ax.modelbridge.generation_strategy import GenerationStep, GenerationStrategy\n",
    "from ax.modelbridge.registry import Models\n",
    "from ax.models.torch.botorch_modular.sebo import SEBOAcquisition\n",
    "from ax.models.torch.botorch_modular.surrogate import Surrogate\n",
    "from ax.runners.synthetic import SyntheticRunner\n",
    "from ax.service.ax_client import AxClient, ObjectiveProperties\n",
    "from ax.utils.common.typeutils import checked_cast\n",
    "from botorch.acquisition.multi_objective import qNoisyExpectedHypervolumeImprovement\n",
    "from botorch.models import FixedNoiseGP, SaasFullyBayesianSingleTaskGP, SingleTaskGP"
   ]
  },
  {
   "cell_type": "code",
   "execution_count": 2,
   "id": "a51c6135",
   "metadata": {
    "execution": {
     "iopub.execute_input": "2024-03-01T17:51:48.747432Z",
     "iopub.status.busy": "2024-03-01T17:51:48.746839Z",
     "iopub.status.idle": "2024-03-01T17:51:48.758320Z",
     "shell.execute_reply": "2024-03-01T17:51:48.757797Z"
    },
    "papermill": {
     "duration": 0.017429,
     "end_time": "2024-03-01T17:51:48.759704",
     "exception": false,
     "start_time": "2024-03-01T17:51:48.742275",
     "status": "completed"
    },
    "tags": []
   },
   "outputs": [],
   "source": [
    "%matplotlib inline\n",
    "matplotlib.rcParams.update({\"font.size\": 16})\n",
    "\n",
    "warnings.filterwarnings('ignore')\n",
    "SMOKE_TEST = os.environ.get(\"SMOKE_TEST\")\n",
    "\n",
    "torch.manual_seed(12345)  # To always get the same Sobol points\n",
    "tkwargs = {\n",
    "    \"dtype\": torch.double,\n",
    "    \"device\": torch.device(\"cuda\" if torch.cuda.is_available() else \"cpu\"),\n",
    "}"
   ]
  },
  {
   "cell_type": "markdown",
   "id": "55bdda55",
   "metadata": {
    "customInput": null,
    "originalKey": "7f07af01-ad58-4cfb-beca-f624310d278d",
    "papermill": {
     "duration": 0.003479,
     "end_time": "2024-03-01T17:51:48.766793",
     "exception": false,
     "start_time": "2024-03-01T17:51:48.763314",
     "status": "completed"
    },
    "showInput": false,
    "tags": []
   },
   "source": [
    "# Demo of using Developer API"
   ]
  },
  {
   "cell_type": "markdown",
   "id": "39d9b56f",
   "metadata": {
    "customInput": null,
    "originalKey": "c8a27a2f-1120-4894-9302-48bfde402268",
    "papermill": {
     "duration": 0.003505,
     "end_time": "2024-03-01T17:51:48.773864",
     "exception": false,
     "start_time": "2024-03-01T17:51:48.770359",
     "status": "completed"
    },
    "showInput": false,
    "tags": []
   },
   "source": [
    "## Problem Setup \n",
    "\n",
    "In this simple experiment we use the Branin function embedded in a 10-dimensional space. Additional resources:\n",
    "- To set up a custom metric for your problem, refer to the dedicated section of the Developer API tutorial: https://ax.dev/tutorials/gpei_hartmann_developer.html#8.-Defining-custom-metrics.\n",
    "- To avoid needing to setup up custom metrics by Ax Service API: https://ax.dev/tutorials/gpei_hartmann_service.html."
   ]
  },
  {
   "cell_type": "code",
   "execution_count": 3,
   "id": "4dea0933",
   "metadata": {
    "customInput": null,
    "execution": {
     "iopub.execute_input": "2024-03-01T17:51:48.782163Z",
     "iopub.status.busy": "2024-03-01T17:51:48.781734Z",
     "iopub.status.idle": "2024-03-01T17:51:48.786049Z",
     "shell.execute_reply": "2024-03-01T17:51:48.785460Z"
    },
    "executionStartTime": 1689117390036,
    "executionStopTime": 1689117390038,
    "jupyter": {
     "outputs_hidden": false
    },
    "originalKey": "e91fc838-9f47-44f1-99ac-4477df208566",
    "papermill": {
     "duration": 0.009949,
     "end_time": "2024-03-01T17:51:48.787416",
     "exception": false,
     "start_time": "2024-03-01T17:51:48.777467",
     "status": "completed"
    },
    "requestMsgId": "1591e6b0-fa9b-4b9f-be72-683dccbe923a",
    "showInput": true,
    "tags": []
   },
   "outputs": [],
   "source": [
    "aug_dim = 8 \n",
    "\n",
    "# evaluation function \n",
    "def branin_augment(x_vec, augment_dim):\n",
    "    assert len(x_vec) == augment_dim\n",
    "    x1, x2 = (\n",
    "        15 * x_vec[0] - 5,\n",
    "        15 * x_vec[1],\n",
    "    )  # Only dimensions 0 and augment_dim-1 affect the value of the function\n",
    "    t1 = x2 - 5.1 / (4 * math.pi**2) * x1**2 + 5 / math.pi * x1 - 6\n",
    "    t2 = 10 * (1 - 1 / (8 * math.pi)) * np.cos(x1)\n",
    "    return t1**2 + t2 + 10"
   ]
  },
  {
   "cell_type": "code",
   "execution_count": 4,
   "id": "1e34a26f",
   "metadata": {
    "customInput": null,
    "customOutput": null,
    "execution": {
     "iopub.execute_input": "2024-03-01T17:51:48.795456Z",
     "iopub.status.busy": "2024-03-01T17:51:48.795225Z",
     "iopub.status.idle": "2024-03-01T17:51:48.799452Z",
     "shell.execute_reply": "2024-03-01T17:51:48.798862Z"
    },
    "executionStartTime": 1689117390518,
    "executionStopTime": 1689117390540,
    "jupyter": {
     "outputs_hidden": false
    },
    "originalKey": "850830c6-509f-4087-bce8-da0be4fd48ef",
    "papermill": {
     "duration": 0.009754,
     "end_time": "2024-03-01T17:51:48.800736",
     "exception": false,
     "start_time": "2024-03-01T17:51:48.790982",
     "status": "completed"
    },
    "requestMsgId": "56726053-205d-4d7e-b1b5-1a76324188ee",
    "showInput": true,
    "tags": []
   },
   "outputs": [],
   "source": [
    "class AugBraninMetric(NoisyFunctionMetric):\n",
    "    def f(self, x: np.ndarray) -> float:\n",
    "        return checked_cast(float, branin_augment(x_vec=x, augment_dim=aug_dim))\n",
    "\n",
    "\n",
    "# Create search space in Ax \n",
    "search_space = SearchSpace(\n",
    "    parameters=[\n",
    "        RangeParameter(\n",
    "            name=f\"x{i}\",\n",
    "            parameter_type=ParameterType.FLOAT, \n",
    "            lower=0.0, upper=1.0\n",
    "        )\n",
    "        for i in range(aug_dim)\n",
    "    ]\n",
    ")"
   ]
  },
  {
   "cell_type": "code",
   "execution_count": 5,
   "id": "ee296d1b",
   "metadata": {
    "customInput": null,
    "execution": {
     "iopub.execute_input": "2024-03-01T17:51:48.809019Z",
     "iopub.status.busy": "2024-03-01T17:51:48.808666Z",
     "iopub.status.idle": "2024-03-01T17:51:48.813194Z",
     "shell.execute_reply": "2024-03-01T17:51:48.812542Z"
    },
    "executionStartTime": 1689117391899,
    "executionStopTime": 1689117391915,
    "jupyter": {
     "outputs_hidden": false
    },
    "originalKey": "d039b709-67c6-475a-96ce-290f869e0f88",
    "papermill": {
     "duration": 0.010131,
     "end_time": "2024-03-01T17:51:48.814508",
     "exception": false,
     "start_time": "2024-03-01T17:51:48.804377",
     "status": "completed"
    },
    "requestMsgId": "3e23ed64-7d10-430b-b790-91a0c7cf72fe",
    "showInput": true,
    "tags": []
   },
   "outputs": [],
   "source": [
    "# Create optimization goals \n",
    "optimization_config = OptimizationConfig(\n",
    "    objective=Objective(\n",
    "        metric=AugBraninMetric(\n",
    "            name=\"objective\",\n",
    "            param_names=[f\"x{i}\" for i in range(aug_dim)],\n",
    "            noise_sd=None,  # Set noise_sd=None if you want to learn the noise, otherwise it defaults to 1e-6\n",
    "        ),\n",
    "        minimize=True,\n",
    "    )\n",
    ")\n",
    "\n",
    "# Experiment\n",
    "experiment = Experiment(\n",
    "    name=\"sebo_experiment\",\n",
    "    search_space=search_space,\n",
    "    optimization_config=optimization_config,\n",
    "    runner=SyntheticRunner(),\n",
    ")\n",
    "\n",
    "# target sparse point to regularize towards to. Here we set target sparse value being zero for all the parameters. \n",
    "target_point = torch.tensor([0 for _ in range(aug_dim)], **tkwargs)"
   ]
  },
  {
   "cell_type": "markdown",
   "id": "3dc93a7a",
   "metadata": {
    "customInput": null,
    "originalKey": "e57edb00-eafc-4d07-bdb9-e8cf073b4caa",
    "papermill": {
     "duration": 0.003602,
     "end_time": "2024-03-01T17:51:48.821776",
     "exception": false,
     "start_time": "2024-03-01T17:51:48.818174",
     "status": "completed"
    },
    "showInput": false,
    "tags": []
   },
   "source": [
    "## Run optimization loop"
   ]
  },
  {
   "cell_type": "code",
   "execution_count": 6,
   "id": "b1b4959b",
   "metadata": {
    "customInput": null,
    "customOutput": null,
    "execution": {
     "iopub.execute_input": "2024-03-01T17:51:48.830250Z",
     "iopub.status.busy": "2024-03-01T17:51:48.829725Z",
     "iopub.status.idle": "2024-03-01T17:51:48.834018Z",
     "shell.execute_reply": "2024-03-01T17:51:48.833369Z"
    },
    "executionStartTime": 1689117395051,
    "executionStopTime": 1689117395069,
    "jupyter": {
     "outputs_hidden": false
    },
    "originalKey": "c4848148-bff5-44a7-9ad5-41e78ccb413c",
    "papermill": {
     "duration": 0.009904,
     "end_time": "2024-03-01T17:51:48.835335",
     "exception": false,
     "start_time": "2024-03-01T17:51:48.825431",
     "status": "completed"
    },
    "requestMsgId": "8aa87d22-bf89-471f-be9f-7c31f7b8bd62",
    "showInput": true,
    "tags": []
   },
   "outputs": [
    {
     "name": "stdout",
     "output_type": "stream",
     "text": [
      "Doing 30 evaluations\n"
     ]
    }
   ],
   "source": [
    "N_INIT = 10\n",
    "\n",
    "if SMOKE_TEST:\n",
    "    N_BATCHES = 1\n",
    "    BATCH_SIZE = 1\n",
    "    SURROGATE_CLASS = None  # Auto-pick SingleTaskGP / FixedNoiseGP\n",
    "else:\n",
    "    N_BATCHES = 4\n",
    "    BATCH_SIZE = 5\n",
    "    SURROGATE_CLASS = SaasFullyBayesianSingleTaskGP\n",
    "\n",
    "print(f\"Doing {N_INIT + N_BATCHES * BATCH_SIZE} evaluations\")"
   ]
  },
  {
   "cell_type": "code",
   "execution_count": 7,
   "id": "9f0a1060",
   "metadata": {
    "customInput": null,
    "customOutput": null,
    "execution": {
     "iopub.execute_input": "2024-03-01T17:51:48.843811Z",
     "iopub.status.busy": "2024-03-01T17:51:48.843606Z",
     "iopub.status.idle": "2024-03-01T17:51:48.856662Z",
     "shell.execute_reply": "2024-03-01T17:51:48.856028Z"
    },
    "executionStartTime": 1689117396326,
    "executionStopTime": 1689117396376,
    "jupyter": {
     "outputs_hidden": false
    },
    "originalKey": "b260d85f-2797-44e3-840a-86587534b589",
    "papermill": {
     "duration": 0.018897,
     "end_time": "2024-03-01T17:51:48.858087",
     "exception": false,
     "start_time": "2024-03-01T17:51:48.839190",
     "status": "completed"
    },
    "requestMsgId": "2cc516e3-b16e-40ca-805f-dcd792c92fa6",
    "showInput": true,
    "tags": []
   },
   "outputs": [],
   "source": [
    "# Initial Sobol points\n",
    "sobol = Models.SOBOL(search_space=experiment.search_space)\n",
    "for _ in range(N_INIT):\n",
    "    experiment.new_trial(sobol.gen(1)).run()"
   ]
  },
  {
   "cell_type": "code",
   "execution_count": 8,
   "id": "0db83632",
   "metadata": {
    "customInput": null,
    "customOutput": null,
    "execution": {
     "iopub.execute_input": "2024-03-01T17:51:48.867131Z",
     "iopub.status.busy": "2024-03-01T17:51:48.866605Z",
     "iopub.status.idle": "2024-03-01T18:03:28.597325Z",
     "shell.execute_reply": "2024-03-01T18:03:28.596532Z"
    },
    "executionStartTime": 1689117396900,
    "executionStopTime": 1689124188959,
    "jupyter": {
     "outputs_hidden": false
    },
    "originalKey": "7c198035-add2-4717-be27-4fb67c4d1782",
    "papermill": {
     "duration": 699.740527,
     "end_time": "2024-03-01T18:03:28.602619",
     "exception": false,
     "start_time": "2024-03-01T17:51:48.862092",
     "status": "completed"
    },
    "requestMsgId": "d844fa20-0adf-4ba3-ace5-7253ba678db2",
    "showInput": true,
    "tags": []
   },
   "outputs": [
    {
     "name": "stdout",
     "output_type": "stream",
     "text": [
      "Iteration: 0, Best so far: 2.494\n"
     ]
    },
    {
     "name": "stdout",
     "output_type": "stream",
     "text": [
      "Iteration: 1, Best so far: 2.494\n"
     ]
    },
    {
     "name": "stdout",
     "output_type": "stream",
     "text": [
      "Iteration: 2, Best so far: 2.494\n"
     ]
    },
    {
     "name": "stdout",
     "output_type": "stream",
     "text": [
      "Iteration: 3, Best so far: 0.871\n"
     ]
    }
   ],
   "source": [
    "data = experiment.fetch_data()\n",
    "\n",
    "for i in range(N_BATCHES):\n",
    "\n",
    "    model = Models.BOTORCH_MODULAR(\n",
    "        experiment=experiment, \n",
    "        data=data,\n",
    "        surrogate=Surrogate(botorch_model_class=SURROGATE_CLASS),  # can use SAASGP (i.e. SaasFullyBayesianSingleTaskGP) for high-dim cases\n",
    "        search_space=experiment.search_space,\n",
    "        botorch_acqf_class=qNoisyExpectedHypervolumeImprovement,\n",
    "        acquisition_class=SEBOAcquisition,\n",
    "        acquisition_options={\n",
    "            \"penalty\": \"L0_norm\", # it can be L0_norm or L1_norm. \n",
    "            \"target_point\": target_point, \n",
    "            \"sparsity_threshold\": aug_dim,\n",
    "        },\n",
    "        torch_device=tkwargs['device'],\n",
    "    )\n",
    "\n",
    "    generator_run = model.gen(BATCH_SIZE)\n",
    "    trial = experiment.new_batch_trial(generator_run=generator_run)\n",
    "    trial.run()\n",
    "\n",
    "    new_data = trial.fetch_data(metrics=list(experiment.metrics.values()))\n",
    "    data = Data.from_multiple_data([data, new_data])\n",
    "    print(f\"Iteration: {i}, Best so far: {data.df['mean'].min():.3f}\")"
   ]
  },
  {
   "cell_type": "markdown",
   "id": "1ddf216a",
   "metadata": {
    "customInput": null,
    "originalKey": "7998635d-6750-4825-b93d-c7b61f74c3c5",
    "papermill": {
     "duration": 0.004018,
     "end_time": "2024-03-01T18:03:28.610799",
     "exception": false,
     "start_time": "2024-03-01T18:03:28.606781",
     "status": "completed"
    },
    "showInput": false,
    "tags": []
   },
   "source": [
    "## Plot sparisty vs objective \n",
    "\n",
    "Visualize the objective and sparsity trade-offs using SEBO. Each point represent designs along the Pareto frontier found by SEBO. The x-axis corresponds to the number of active parameters used, i.e.\n",
    "non-sparse parameters, and the y-axis corresponds the best identified objective values. Based on this, decision-makers balance both simplicity/interpretability of generated policies and optimization performance when deciding which configuration to use."
   ]
  },
  {
   "cell_type": "code",
   "execution_count": 9,
   "id": "8d73f2f6",
   "metadata": {
    "customInput": null,
    "customOutput": null,
    "execution": {
     "iopub.execute_input": "2024-03-01T18:03:28.620510Z",
     "iopub.status.busy": "2024-03-01T18:03:28.620256Z",
     "iopub.status.idle": "2024-03-01T18:03:28.625941Z",
     "shell.execute_reply": "2024-03-01T18:03:28.625409Z"
    },
    "executionStartTime": 1689124189044,
    "executionStopTime": 1689124189182,
    "jupyter": {
     "outputs_hidden": false
    },
    "originalKey": "416ccd12-51a1-4bfe-9e10-436cd88ec6be",
    "papermill": {
     "duration": 0.011922,
     "end_time": "2024-03-01T18:03:28.627322",
     "exception": false,
     "start_time": "2024-03-01T18:03:28.615400",
     "status": "completed"
    },
    "requestMsgId": "5143ae57-1d0d-4f9d-bc9d-9d151f3e9af0",
    "showInput": true,
    "tags": []
   },
   "outputs": [],
   "source": [
    "def nnz_exact(x, sparse_point):\n",
    "    return len(x) - (np.array(x) == np.array(sparse_point)).sum()\n",
    "\n",
    "    \n",
    "df = data.df\n",
    "df['L0_norm'] = df['arm_name'].apply(lambda d: nnz_exact(list(experiment.arms_by_name[d].parameters.values()), [0 for _ in range(aug_dim)]) )"
   ]
  },
  {
   "cell_type": "code",
   "execution_count": 10,
   "id": "ade3b85e",
   "metadata": {
    "customInput": null,
    "customOutput": null,
    "execution": {
     "iopub.execute_input": "2024-03-01T18:03:28.636271Z",
     "iopub.status.busy": "2024-03-01T18:03:28.636070Z",
     "iopub.status.idle": "2024-03-01T18:03:28.645964Z",
     "shell.execute_reply": "2024-03-01T18:03:28.645297Z"
    },
    "executionStartTime": 1689124189219,
    "executionStopTime": 1689124189321,
    "jupyter": {
     "outputs_hidden": false
    },
    "originalKey": "97b96822-7d7f-4a5d-8458-01ff890d2fde",
    "papermill": {
     "duration": 0.016,
     "end_time": "2024-03-01T18:03:28.647377",
     "exception": false,
     "start_time": "2024-03-01T18:03:28.631377",
     "status": "completed"
    },
    "requestMsgId": "34abdf8d-6f0c-48a1-8700-8e2c3075a085",
    "showInput": true,
    "tags": []
   },
   "outputs": [
    {
     "data": {
      "text/plain": [
       "{1: 8.503780756706488,\n",
       " 2: 0.8706911389255083,\n",
       " 3: 0.8706911389255083,\n",
       " 4: 0.8706911389255083,\n",
       " 5: 0.8706911389255083,\n",
       " 6: 0.8706911389255083,\n",
       " 7: 0.8706911389255083,\n",
       " 8: 0.8706911389255083}"
      ]
     },
     "execution_count": 10,
     "metadata": {},
     "output_type": "execute_result"
    }
   ],
   "source": [
    "result_by_sparsity = {l: df[df.L0_norm <= l]['mean'].min() for l in range(1, aug_dim+1)}\n",
    "result_by_sparsity"
   ]
  },
  {
   "cell_type": "code",
   "execution_count": 11,
   "id": "1aa4fbac",
   "metadata": {
    "customInput": null,
    "customOutput": null,
    "execution": {
     "iopub.execute_input": "2024-03-01T18:03:28.656679Z",
     "iopub.status.busy": "2024-03-01T18:03:28.656312Z",
     "iopub.status.idle": "2024-03-01T18:03:28.833125Z",
     "shell.execute_reply": "2024-03-01T18:03:28.832427Z"
    },
    "executionStartTime": 1689134836494,
    "executionStopTime": 1689134837813,
    "jupyter": {
     "outputs_hidden": false
    },
    "originalKey": "7193e2b0-e192-439a-b0d0-08a2029f64ca",
    "papermill": {
     "duration": 0.182937,
     "end_time": "2024-03-01T18:03:28.834490",
     "exception": false,
     "start_time": "2024-03-01T18:03:28.651553",
     "status": "completed"
    },
    "requestMsgId": "f095d820-55e0-4201-8e3a-77f17b2155f1",
    "showInput": true,
    "tags": []
   },
   "outputs": [
    {
     "data": {
      "image/png": "[encoded data removed]",
      "text/plain": [
       "<Figure size 800x600 with 1 Axes>"
      ]
     },
     "metadata": {},
     "output_type": "display_data"
    }
   ],
   "source": [
    "fig, ax = plt.subplots(figsize=(8, 6))\n",
    "ax.plot(list(result_by_sparsity.keys()), list(result_by_sparsity.values()), '.b-', label=\"sebo\", markersize=10)\n",
    "ax.grid(True)\n",
    "ax.set_title(f\"Branin, D={aug_dim}\", fontsize=20)\n",
    "ax.set_xlabel(\"Number of active parameters\", fontsize=20)\n",
    "ax.set_ylabel(\"Best value found\", fontsize=20)\n",
    "# ax.legend(fontsize=18)\n",
    "plt.show()"
   ]
  },
  {
   "cell_type": "markdown",
   "id": "0be880c0",
   "metadata": {
    "customInput": null,
    "originalKey": "1ba68dc9-d60b-4b39-8e58-ea9bdc06b44c",
    "papermill": {
     "duration": 0.004543,
     "end_time": "2024-03-01T18:03:28.844117",
     "exception": false,
     "start_time": "2024-03-01T18:03:28.839574",
     "status": "completed"
    },
    "showInput": false,
    "tags": []
   },
   "source": [
    "# Demo of Using GenerationStrategy and Service API \n",
    "\n",
    "Please check [Service API tutorial](https://ax.dev/tutorials/gpei_hartmann_service.html) for more detailed information. "
   ]
  },
  {
   "cell_type": "markdown",
   "id": "86441f26",
   "metadata": {
    "customInput": null,
    "originalKey": "45e5586c-55eb-4908-aa73-bca4ee883b56",
    "papermill": {
     "duration": 0.004521,
     "end_time": "2024-03-01T18:03:28.853172",
     "exception": false,
     "start_time": "2024-03-01T18:03:28.848651",
     "status": "completed"
    },
    "showInput": false,
    "tags": []
   },
   "source": [
    "## Create `GenerationStrategy`"
   ]
  },
  {
   "cell_type": "code",
   "execution_count": 12,
   "id": "f8d4052b",
   "metadata": {
    "customInput": null,
    "execution": {
     "iopub.execute_input": "2024-03-01T18:03:28.863658Z",
     "iopub.status.busy": "2024-03-01T18:03:28.863132Z",
     "iopub.status.idle": "2024-03-01T18:03:28.867988Z",
     "shell.execute_reply": "2024-03-01T18:03:28.867427Z"
    },
    "executionStartTime": 1689124192972,
    "executionStopTime": 1689124192975,
    "jupyter": {
     "outputs_hidden": false
    },
    "originalKey": "7c0bfe37-8f1f-4999-8833-42ffb2569c04",
    "papermill": {
     "duration": 0.011605,
     "end_time": "2024-03-01T18:03:28.869327",
     "exception": false,
     "start_time": "2024-03-01T18:03:28.857722",
     "status": "completed"
    },
    "requestMsgId": "bbd9058a-709e-4262-abe1-720d37e8786f",
    "showInput": true,
    "tags": []
   },
   "outputs": [],
   "source": [
    "gs = GenerationStrategy(\n",
    "    name=\"SEBO_L0\",\n",
    "    steps=[\n",
    "        GenerationStep(  # Initialization step\n",
    "            model=Models.SOBOL,     \n",
    "            num_trials=N_INIT,\n",
    "        ),\n",
    "        GenerationStep(  # BayesOpt step\n",
    "            model=Models.BOTORCH_MODULAR,\n",
    "            # No limit on how many generator runs will be produced\n",
    "            num_trials=-1,\n",
    "            model_kwargs={  # Kwargs to pass to `BoTorchModel.__init__`\n",
    "                \"surrogate\": Surrogate(botorch_model_class=SURROGATE_CLASS),\n",
    "                \"acquisition_class\": SEBOAcquisition,\n",
    "                \"botorch_acqf_class\": qNoisyExpectedHypervolumeImprovement,\n",
    "                \"acquisition_options\": {\n",
    "                    \"penalty\": \"L0_norm\", # it can be L0_norm or L1_norm.\n",
    "                    \"target_point\": target_point, \n",
    "                    \"sparsity_threshold\": aug_dim,\n",
    "                },\n",
    "            },\n",
    "        )\n",
    "    ]\n",
    ")"
   ]
  },
  {
   "cell_type": "markdown",
   "id": "87539235",
   "metadata": {
    "customInput": null,
    "originalKey": "e4911bc6-32cb-42a5-908f-57f3f04e58e5",
    "papermill": {
     "duration": 0.004548,
     "end_time": "2024-03-01T18:03:28.878530",
     "exception": false,
     "start_time": "2024-03-01T18:03:28.873982",
     "status": "completed"
    },
    "showInput": false,
    "tags": []
   },
   "source": [
    "## Initialize client and set up experiment"
   ]
  },
  {
   "cell_type": "code",
   "execution_count": 13,
   "id": "bad7fc9b",
   "metadata": {
    "customInput": null,
    "execution": {
     "iopub.execute_input": "2024-03-01T18:03:28.889266Z",
     "iopub.status.busy": "2024-03-01T18:03:28.888814Z",
     "iopub.status.idle": "2024-03-01T18:03:28.895849Z",
     "shell.execute_reply": "2024-03-01T18:03:28.895209Z"
    },
    "executionStartTime": 1689124192979,
    "executionStopTime": 1689124192984,
    "jupyter": {
     "outputs_hidden": false
    },
    "originalKey": "47938102-0613-4b37-acb2-9f1f5f3fe6b1",
    "papermill": {
     "duration": 0.014134,
     "end_time": "2024-03-01T18:03:28.897260",
     "exception": false,
     "start_time": "2024-03-01T18:03:28.883126",
     "status": "completed"
    },
    "requestMsgId": "38b4b17c-6aae-43b8-aa58-2df045f522fe",
    "showInput": true,
    "tags": []
   },
   "outputs": [
    {
     "name": "stderr",
     "output_type": "stream",
     "text": [
      "[INFO 03-01 18:03:28] ax.service.ax_client: Starting optimization with verbose logging. To disable logging, set the `verbose_logging` argument to `False`. Note that float values in the logs are rounded to 6 decimal points.\n"
     ]
    },
    {
     "name": "stderr",
     "output_type": "stream",
     "text": [
      "[INFO 03-01 18:03:28] ax.service.utils.instantiation: Created search space: SearchSpace(parameters=[RangeParameter(name='x0', parameter_type=FLOAT, range=[0.0, 1.0]), RangeParameter(name='x1', parameter_type=FLOAT, range=[0.0, 1.0]), RangeParameter(name='x2', parameter_type=FLOAT, range=[0.0, 1.0]), RangeParameter(name='x3', parameter_type=FLOAT, range=[0.0, 1.0]), RangeParameter(name='x4', parameter_type=FLOAT, range=[0.0, 1.0]), RangeParameter(name='x5', parameter_type=FLOAT, range=[0.0, 1.0]), RangeParameter(name='x6', parameter_type=FLOAT, range=[0.0, 1.0]), RangeParameter(name='x7', parameter_type=FLOAT, range=[0.0, 1.0])], parameter_constraints=[]).\n"
     ]
    }
   ],
   "source": [
    "ax_client = AxClient(generation_strategy=gs)\n",
    "\n",
    "experiment_parameters = [\n",
    "    {\n",
    "        \"name\": f\"x{i}\",\n",
    "        \"type\": \"range\",\n",
    "        \"bounds\": [0, 1],\n",
    "        \"value_type\": \"float\",\n",
    "        \"log_scale\": False,\n",
    "    }\n",
    "    for i in range(aug_dim)\n",
    "]\n",
    "\n",
    "objective_metrics = {\n",
    "    \"objective\": ObjectiveProperties(minimize=False, threshold=-10),\n",
    "}\n",
    "\n",
    "ax_client.create_experiment(\n",
    "    name=\"branin_augment_sebo_experiment\",\n",
    "    parameters=experiment_parameters,\n",
    "    objectives=objective_metrics,\n",
    ")"
   ]
  },
  {
   "cell_type": "markdown",
   "id": "a9a6f8d7",
   "metadata": {
    "customInput": null,
    "originalKey": "6a7942e4-9727-43d9-8d8d-c327d38c2373",
    "papermill": {
     "duration": 0.005292,
     "end_time": "2024-03-01T18:03:28.907872",
     "exception": false,
     "start_time": "2024-03-01T18:03:28.902580",
     "status": "completed"
    },
    "showInput": false,
    "tags": []
   },
   "source": [
    "## Define evaluation function "
   ]
  },
  {
   "cell_type": "code",
   "execution_count": 14,
   "id": "64470fe4",
   "metadata": {
    "customInput": null,
    "execution": {
     "iopub.execute_input": "2024-03-01T18:03:28.919964Z",
     "iopub.status.busy": "2024-03-01T18:03:28.919272Z",
     "iopub.status.idle": "2024-03-01T18:03:28.924312Z",
     "shell.execute_reply": "2024-03-01T18:03:28.923686Z"
    },
    "executionStartTime": 1689124192990,
    "executionStopTime": 1689124192992,
    "jupyter": {
     "outputs_hidden": false
    },
    "originalKey": "4e2994ff-36ac-4d48-a789-3d0398e1e856",
    "papermill": {
     "duration": 0.012668,
     "end_time": "2024-03-01T18:03:28.925719",
     "exception": false,
     "start_time": "2024-03-01T18:03:28.913051",
     "status": "completed"
    },
    "requestMsgId": "8f74a775-a8ce-462d-993c-5c9291c748b9",
    "showInput": true,
    "tags": []
   },
   "outputs": [],
   "source": [
    "def evaluation(parameters):\n",
    "    # put parameters into 1-D array\n",
    "    x = [parameters.get(param[\"name\"]) for param in experiment_parameters]\n",
    "    res = branin_augment(x_vec=x, augment_dim=aug_dim)\n",
    "    eval_res = {\n",
    "        # flip the sign to maximize\n",
    "        \"objective\": (res * -1, 0.0),\n",
    "    }\n",
    "    return eval_res"
   ]
  },
  {
   "cell_type": "markdown",
   "id": "973d424f",
   "metadata": {
    "customInput": null,
    "originalKey": "4597531b-7ac8-4dd0-94c4-836672e0f4c4",
    "papermill": {
     "duration": 0.005025,
     "end_time": "2024-03-01T18:03:28.936222",
     "exception": false,
     "start_time": "2024-03-01T18:03:28.931197",
     "status": "completed"
    },
    "showInput": false,
    "tags": []
   },
   "source": [
    "## Run optimization loop\n",
    "\n",
    "Running only 1 BO trial for demonstration. "
   ]
  },
  {
   "cell_type": "code",
   "execution_count": 15,
   "id": "aed8e01b",
   "metadata": {
    "customInput": null,
    "execution": {
     "iopub.execute_input": "2024-03-01T18:03:28.949068Z",
     "iopub.status.busy": "2024-03-01T18:03:28.948153Z",
     "iopub.status.idle": "2024-03-01T18:04:09.392864Z",
     "shell.execute_reply": "2024-03-01T18:04:09.392157Z"
    },
    "executionStartTime": 1689124193044,
    "executionStopTime": 1689130398208,
    "jupyter": {
     "outputs_hidden": false
    },
    "originalKey": "bc7accb2-48a2-4c88-a932-7c79ec81075a",
    "papermill": {
     "duration": 40.452566,
     "end_time": "2024-03-01T18:04:09.394289",
     "exception": false,
     "start_time": "2024-03-01T18:03:28.941723",
     "status": "completed"
    },
    "requestMsgId": "f054e5b1-12eb-459b-a508-6944baf82dfb",
    "showInput": true,
    "tags": []
   },
   "outputs": [
    {
     "name": "stderr",
     "output_type": "stream",
     "text": [
      "[INFO 03-01 18:03:28] ax.service.ax_client: Generated new trial 0 with parameters {'x0': 0.738758, 'x1': 0.539208, 'x2': 0.626311, 'x3': 0.076504, 'x4': 0.694362, 'x5': 0.207933, 'x6': 0.886729, 'x7': 0.509031} using model Sobol.\n"
     ]
    },
    {
     "name": "stderr",
     "output_type": "stream",
     "text": [
      "[INFO 03-01 18:03:28] ax.service.ax_client: Completed trial 0 with data: {'objective': (-68.257218, 0.0)}.\n"
     ]
    },
    {
     "name": "stderr",
     "output_type": "stream",
     "text": [
      "[INFO 03-01 18:03:28] ax.service.ax_client: Generated new trial 1 with parameters {'x0': 0.172878, 'x1': 0.861623, 'x2': 0.739456, 'x3': 0.803363, 'x4': 0.206643, 'x5': 0.953231, 'x6': 0.976895, 'x7': 0.569004} using model Sobol.\n"
     ]
    },
    {
     "name": "stderr",
     "output_type": "stream",
     "text": [
      "[INFO 03-01 18:03:28] ax.service.ax_client: Completed trial 1 with data: {'objective': (-8.37637, 0.0)}.\n"
     ]
    },
    {
     "name": "stderr",
     "output_type": "stream",
     "text": [
      "[INFO 03-01 18:03:28] ax.service.ax_client: Generated new trial 2 with parameters {'x0': 0.606665, 'x1': 0.867831, 'x2': 0.004057, 'x3': 0.914758, 'x4': 0.04059, 'x5': 0.96057, 'x6': 0.605857, 'x7': 0.732094} using model Sobol.\n"
     ]
    },
    {
     "name": "stderr",
     "output_type": "stream",
     "text": [
      "[INFO 03-01 18:03:29] ax.service.ax_client: Completed trial 2 with data: {'objective': (-133.78475, 0.0)}.\n"
     ]
    },
    {
     "name": "stderr",
     "output_type": "stream",
     "text": [
      "[INFO 03-01 18:03:29] ax.service.ax_client: Generated new trial 3 with parameters {'x0': 0.112491, 'x1': 0.531862, 'x2': 0.818565, 'x3': 0.091565, 'x4': 0.109501, 'x5': 0.572176, 'x6': 0.022545, 'x7': 0.629595} using model Sobol.\n"
     ]
    },
    {
     "name": "stderr",
     "output_type": "stream",
     "text": [
      "[INFO 03-01 18:03:29] ax.service.ax_client: Completed trial 3 with data: {'objective': (-22.74014, 0.0)}.\n"
     ]
    },
    {
     "name": "stderr",
     "output_type": "stream",
     "text": [
      "[INFO 03-01 18:03:29] ax.service.ax_client: Generated new trial 4 with parameters {'x0': 0.602356, 'x1': 0.427558, 'x2': 0.226326, 'x3': 0.929336, 'x4': 0.563839, 'x5': 0.584583, 'x6': 0.49879, 'x7': 0.284519} using model Sobol.\n"
     ]
    },
    {
     "name": "stderr",
     "output_type": "stream",
     "text": [
      "[INFO 03-01 18:03:29] ax.service.ax_client: Completed trial 4 with data: {'objective': (-26.37775, 0.0)}.\n"
     ]
    },
    {
     "name": "stderr",
     "output_type": "stream",
     "text": [
      "[INFO 03-01 18:03:29] ax.service.ax_client: Generated new trial 5 with parameters {'x0': 0.298446, 'x1': 0.431572, 'x2': 0.524446, 'x3': 0.588019, 'x4': 0.024298, 'x5': 0.491183, 'x6': 0.976458, 'x7': 0.611275} using model Sobol.\n"
     ]
    },
    {
     "name": "stderr",
     "output_type": "stream",
     "text": [
      "[INFO 03-01 18:03:29] ax.service.ax_client: Completed trial 5 with data: {'objective': (-18.472815, 0.0)}.\n"
     ]
    },
    {
     "name": "stderr",
     "output_type": "stream",
     "text": [
      "[INFO 03-01 18:03:29] ax.service.ax_client: Generated new trial 6 with parameters {'x0': 0.127445, 'x1': 0.764058, 'x2': 0.668584, 'x3': 0.196857, 'x4': 0.10878, 'x5': 0.881771, 'x6': 0.267296, 'x7': 0.994262} using model Sobol.\n"
     ]
    },
    {
     "name": "stderr",
     "output_type": "stream",
     "text": [
      "[INFO 03-01 18:03:29] ax.service.ax_client: Completed trial 6 with data: {'objective': (-0.882766, 0.0)}.\n"
     ]
    },
    {
     "name": "stderr",
     "output_type": "stream",
     "text": [
      "[INFO 03-01 18:03:29] ax.service.ax_client: Generated new trial 7 with parameters {'x0': 0.305235, 'x1': 0.820533, 'x2': 0.967813, 'x3': 0.335424, 'x4': 0.205945, 'x5': 0.028158, 'x6': 0.866001, 'x7': 0.184461} using model Sobol.\n"
     ]
    },
    {
     "name": "stderr",
     "output_type": "stream",
     "text": [
      "[INFO 03-01 18:03:29] ax.service.ax_client: Completed trial 7 with data: {'objective': (-50.281433, 0.0)}.\n"
     ]
    },
    {
     "name": "stderr",
     "output_type": "stream",
     "text": [
      "[INFO 03-01 18:03:29] ax.service.ax_client: Generated new trial 8 with parameters {'x0': 0.686892, 'x1': 0.088472, 'x2': 0.99791, 'x3': 0.076737, 'x4': 0.709675, 'x5': 0.413876, 'x6': 0.158822, 'x7': 0.145785} using model Sobol.\n"
     ]
    },
    {
     "name": "stderr",
     "output_type": "stream",
     "text": [
      "[INFO 03-01 18:03:29] ax.service.ax_client: Completed trial 8 with data: {'objective': (-15.368222, 0.0)}.\n"
     ]
    },
    {
     "name": "stderr",
     "output_type": "stream",
     "text": [
      "[INFO 03-01 18:03:29] ax.service.ax_client: Generated new trial 9 with parameters {'x0': 0.525232, 'x1': 0.583492, 'x2': 0.217153, 'x3': 0.815379, 'x4': 0.710595, 'x5': 0.138824, 'x6': 0.851631, 'x7': 0.822524} using model Sobol.\n"
     ]
    },
    {
     "name": "stderr",
     "output_type": "stream",
     "text": [
      "[INFO 03-01 18:03:29] ax.service.ax_client: Completed trial 9 with data: {'objective': (-39.956652, 0.0)}.\n"
     ]
    },
    {
     "name": "stderr",
     "output_type": "stream",
     "text": [
      "[INFO 03-01 18:04:09] ax.service.ax_client: Generated new trial 10 with parameters {'x0': 0.0, 'x1': 0.0, 'x2': 0.440127, 'x3': 1.0, 'x4': 1.0, 'x5': 0.0, 'x6': 0.0, 'x7': 0.0} using model BoTorch.\n"
     ]
    },
    {
     "name": "stderr",
     "output_type": "stream",
     "text": [
      "[INFO 03-01 18:04:09] ax.service.ax_client: Completed trial 10 with data: {'objective': (-308.129096, 0.0)}.\n"
     ]
    }
   ],
   "source": [
    "for _ in range(N_INIT + 1):    \n",
    "    parameters, trial_index = ax_client.get_next_trial()\n",
    "    res = evaluation(parameters)\n",
    "    ax_client.complete_trial(trial_index=trial_index, raw_data=res)"
   ]
  }
 ],
 "metadata": {
  "fileHeader": "",
  "kernelspec": {
   "display_name": "Python 3 (ipykernel)",
   "language": "python",
   "name": "python3"
  },
  "language_info": {
   "codemirror_mode": {
    "name": "ipython",
    "version": 3
   },
   "file_extension": ".py",
   "mimetype": "text/x-python",
   "name": "python",
   "nbconvert_exporter": "python",
   "pygments_lexer": "ipython3",
   "version": "3.9.18"
  },
  "papermill": {
   "default_parameters": {},
   "duration": 746.053606,
   "end_time": "2024-03-01T18:04:10.408982",
   "environment_variables": {},
   "exception": null,
   "input_path": "/tmp/tmp.KbiES6I0qN/Ax-main/tutorials/sebo.ipynb",
   "output_path": "/tmp/tmp.KbiES6I0qN/Ax-main/tutorials/sebo.ipynb",
   "parameters": {},
   "start_time": "2024-03-01T17:51:44.355376",
   "version": "2.5.0"
  }
 },
 "nbformat": 4,
 "nbformat_minor": 5
}
