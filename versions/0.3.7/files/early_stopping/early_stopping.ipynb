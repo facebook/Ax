{
 "cells": [
  {
   "attachments": {},
   "cell_type": "markdown",
   "id": "12fe3797",
   "metadata": {
    "papermill": {
     "duration": 0.005803,
     "end_time": "2024-03-01T18:04:12.422506",
     "exception": false,
     "start_time": "2024-03-01T18:04:12.416703",
     "status": "completed"
    },
    "tags": []
   },
   "source": [
    "## Trial-level early stopping in Ax\n",
    "\n",
    "This tutorial illustrates how to add a trial-level early stopping strategy to an Ax hyper-parameter optimization (HPO) loop. The goal of trial-level early stopping is to monitor the results of expensive evaluations and terminate those that are unlikely to produce promising results, freeing up resources to explore more configurations.\n",
    "\n",
    "Most of this tutorial is adapted from the [PyTorch Ax Multiobjective NAS Tutorial](https://pytorch.org/tutorials/intermediate/ax_multiobjective_nas_tutorial.html). The training job is different from the original in that we do not optimize `batch_size` or `epochs`. This was done for illustrative purposes, as each validation curve now has the same number of points. The companion training file `mnist_train_nas.py` has also been altered to log to Tensorboard during training.\n",
    "\n",
    "NOTE: Although the original NAS tutorial is for a multi-objective problem, this tutorial focuses on a single objective (validation accuracy) problem. Early stopping currently does not support \\\"true\\\" multi-objective stopping, although one can use [logical compositions of early stopping strategies](https://github.com/facebook/Ax/blob/main/ax/early_stopping/strategies/logical.py) to target multiple objectives separately. Early stopping for the multi-objective case is currently a work in progress."
   ]
  },
  {
   "cell_type": "code",
   "execution_count": 1,
   "id": "cb953f30",
   "metadata": {
    "execution": {
     "iopub.execute_input": "2024-03-01T18:04:12.432719Z",
     "iopub.status.busy": "2024-03-01T18:04:12.432169Z",
     "iopub.status.idle": "2024-03-01T18:04:16.202149Z",
     "shell.execute_reply": "2024-03-01T18:04:16.201459Z"
    },
    "papermill": {
     "duration": 3.777096,
     "end_time": "2024-03-01T18:04:16.204038",
     "exception": false,
     "start_time": "2024-03-01T18:04:12.426942",
     "status": "completed"
    },
    "tags": []
   },
   "outputs": [],
   "source": [
    "import os\n",
    "import tempfile\n",
    "\n",
    "from pathlib import Path\n",
    "\n",
    "import torchx\n",
    "\n",
    "from ax.core import Experiment, Objective, ParameterType, RangeParameter, SearchSpace\n",
    "from ax.core.optimization_config import OptimizationConfig\n",
    "\n",
    "from ax.early_stopping.strategies import PercentileEarlyStoppingStrategy\n",
    "from ax.metrics.tensorboard import TensorboardCurveMetric\n",
    "\n",
    "from ax.modelbridge.dispatch_utils import choose_generation_strategy\n",
    "\n",
    "from ax.runners.torchx import TorchXRunner\n",
    "\n",
    "from ax.service.scheduler import Scheduler, SchedulerOptions\n",
    "from ax.service.utils.report_utils import exp_to_df\n",
    "\n",
    "from torchx import specs\n",
    "from torchx.components import utils\n",
    "\n",
    "from matplotlib import pyplot as plt\n",
    "\n",
    "%matplotlib inline"
   ]
  },
  {
   "cell_type": "code",
   "execution_count": 2,
   "id": "8a7bd328",
   "metadata": {
    "execution": {
     "iopub.execute_input": "2024-03-01T18:04:16.214676Z",
     "iopub.status.busy": "2024-03-01T18:04:16.213834Z",
     "iopub.status.idle": "2024-03-01T18:04:16.217472Z",
     "shell.execute_reply": "2024-03-01T18:04:16.216946Z"
    },
    "papermill": {
     "duration": 0.010262,
     "end_time": "2024-03-01T18:04:16.218888",
     "exception": false,
     "start_time": "2024-03-01T18:04:16.208626",
     "status": "completed"
    },
    "tags": []
   },
   "outputs": [],
   "source": [
    "SMOKE_TEST = os.environ.get(\"SMOKE_TEST\")"
   ]
  },
  {
   "attachments": {},
   "cell_type": "markdown",
   "id": "fe2cf6fe",
   "metadata": {
    "papermill": {
     "duration": 0.004241,
     "end_time": "2024-03-01T18:04:16.227341",
     "exception": false,
     "start_time": "2024-03-01T18:04:16.223100",
     "status": "completed"
    },
    "tags": []
   },
   "source": [
    "## Defining the TorchX App\n",
    "\n",
    "Our goal is to optimize the PyTorch Lightning training job defined in\n",
    "[mnist_train_nas.py](https://github.com/pytorch/tutorials/tree/master/intermediate_source/mnist_train_nas.py)_.\n",
    "To do this using TorchX, we write a helper function that takes in\n",
    "the values of the architcture and hyperparameters of the training\n",
    "job and creates a [TorchX AppDef](https://pytorch.org/torchx/latest/basics.html)_\n",
    "with the appropriate settings.\n",
    "\n"
   ]
  },
  {
   "cell_type": "code",
   "execution_count": 3,
   "id": "2e21d309",
   "metadata": {
    "execution": {
     "iopub.execute_input": "2024-03-01T18:04:16.237098Z",
     "iopub.status.busy": "2024-03-01T18:04:16.236473Z",
     "iopub.status.idle": "2024-03-01T18:04:16.240084Z",
     "shell.execute_reply": "2024-03-01T18:04:16.239546Z"
    },
    "papermill": {
     "duration": 0.010038,
     "end_time": "2024-03-01T18:04:16.241456",
     "exception": false,
     "start_time": "2024-03-01T18:04:16.231418",
     "status": "completed"
    },
    "tags": []
   },
   "outputs": [],
   "source": [
    "if SMOKE_TEST:\n",
    "    epochs = 3\n",
    "else:\n",
    "    epochs = 10"
   ]
  },
  {
   "cell_type": "code",
   "execution_count": 4,
   "id": "b423923c",
   "metadata": {
    "execution": {
     "iopub.execute_input": "2024-03-01T18:04:16.250835Z",
     "iopub.status.busy": "2024-03-01T18:04:16.250446Z",
     "iopub.status.idle": "2024-03-01T18:04:16.255570Z",
     "shell.execute_reply": "2024-03-01T18:04:16.254999Z"
    },
    "papermill": {
     "duration": 0.011274,
     "end_time": "2024-03-01T18:04:16.256887",
     "exception": false,
     "start_time": "2024-03-01T18:04:16.245613",
     "status": "completed"
    },
    "tags": []
   },
   "outputs": [],
   "source": [
    "def trainer(\n",
    "    log_path: str,\n",
    "    hidden_size_1: int,\n",
    "    hidden_size_2: int,\n",
    "    learning_rate: float,\n",
    "    dropout: float,\n",
    "    trial_idx: int = -1,\n",
    ") -> specs.AppDef:\n",
    "\n",
    "    # define the log path so we can pass it to the TorchX AppDef\n",
    "    if trial_idx >= 0:\n",
    "        log_path = Path(log_path).joinpath(str(trial_idx)).absolute().as_posix()\n",
    "\n",
    "    batch_size = 32\n",
    "\n",
    "    return utils.python(\n",
    "        # command line args to the training script\n",
    "        \"--log_path\",\n",
    "        log_path,\n",
    "        \"--hidden_size_1\",\n",
    "        str(hidden_size_1),\n",
    "        \"--hidden_size_2\",\n",
    "        str(hidden_size_2),\n",
    "        \"--learning_rate\",\n",
    "        str(learning_rate),\n",
    "        \"--epochs\",\n",
    "        str(epochs),\n",
    "        \"--dropout\",\n",
    "        str(dropout),\n",
    "        \"--batch_size\",\n",
    "        str(batch_size),\n",
    "        # other config options\n",
    "        name=\"trainer\",\n",
    "        script=\"tutorials/early_stopping/mnist_train_nas.py\",\n",
    "        image=torchx.version.TORCHX_IMAGE,\n",
    "    )"
   ]
  },
  {
   "attachments": {},
   "cell_type": "markdown",
   "id": "65f7011d",
   "metadata": {
    "papermill": {
     "duration": 0.00429,
     "end_time": "2024-03-01T18:04:16.265460",
     "exception": false,
     "start_time": "2024-03-01T18:04:16.261170",
     "status": "completed"
    },
    "tags": []
   },
   "source": [
    "## Setting up the Runner\n",
    "\n",
    "Ax’s [Runner](https://ax.dev/api/core.html#ax.core.runner.Runner)\n",
    "abstraction allows writing interfaces to various backends.\n",
    "Ax already comes with Runner for TorchX, so we just need to\n",
    "configure it. For the purpose of this tutorial, we run jobs locally\n",
    "in a fully asynchronous fashion. In order to launch them on a cluster, you can instead specify a\n",
    "different TorchX scheduler and adjust the configuration appropriately.\n",
    "For example, if you have a Kubernetes cluster, you just need to change the\n",
    "scheduler from ``local_cwd`` to ``kubernetes``.\n",
    "\n",
    "The training job launched by this runner will log partial results to Tensorboard, which will then be monitored by the early stopping strategy. We will show how this is done using an Ax \n",
    "[TensorboardCurveMetric](https://ax.dev/api/metrics.html#module-ax.metrics.tensorboard) below."
   ]
  },
  {
   "cell_type": "code",
   "execution_count": 5,
   "id": "998e5835",
   "metadata": {
    "execution": {
     "iopub.execute_input": "2024-03-01T18:04:16.276298Z",
     "iopub.status.busy": "2024-03-01T18:04:16.275633Z",
     "iopub.status.idle": "2024-03-01T18:04:16.293165Z",
     "shell.execute_reply": "2024-03-01T18:04:16.292542Z"
    },
    "papermill": {
     "duration": 0.023946,
     "end_time": "2024-03-01T18:04:16.294685",
     "exception": false,
     "start_time": "2024-03-01T18:04:16.270739",
     "status": "completed"
    },
    "tags": []
   },
   "outputs": [],
   "source": [
    "# Make a temporary dir to log our results into\n",
    "log_dir = tempfile.mkdtemp()\n",
    "\n",
    "ax_runner = TorchXRunner(\n",
    "    tracker_base=\"/tmp/\",\n",
    "    component=trainer,\n",
    "    # NOTE: To launch this job on a cluster instead of locally you can\n",
    "    # specify a different scheduler and adjust args appropriately.\n",
    "    scheduler=\"local_cwd\",\n",
    "    component_const_params={\"log_path\": log_dir},\n",
    "    cfg={},\n",
    ")"
   ]
  },
  {
   "attachments": {},
   "cell_type": "markdown",
   "id": "2fec7495",
   "metadata": {
    "papermill": {
     "duration": 0.004189,
     "end_time": "2024-03-01T18:04:16.303167",
     "exception": false,
     "start_time": "2024-03-01T18:04:16.298978",
     "status": "completed"
    },
    "tags": []
   },
   "source": [
    "## Setting up the SearchSpace\n",
    "\n",
    "First, we define our search space. Ax supports both range parameters\n",
    "of type integer and float as well as choice parameters which can have\n",
    "non-numerical types such as strings.\n",
    "We will tune the hidden sizes, learning rate, and dropout parameters."
   ]
  },
  {
   "cell_type": "code",
   "execution_count": 6,
   "id": "cf6f869f",
   "metadata": {
    "execution": {
     "iopub.execute_input": "2024-03-01T18:04:16.312563Z",
     "iopub.status.busy": "2024-03-01T18:04:16.312163Z",
     "iopub.status.idle": "2024-03-01T18:04:16.317024Z",
     "shell.execute_reply": "2024-03-01T18:04:16.316401Z"
    },
    "papermill": {
     "duration": 0.01098,
     "end_time": "2024-03-01T18:04:16.318312",
     "exception": false,
     "start_time": "2024-03-01T18:04:16.307332",
     "status": "completed"
    },
    "tags": []
   },
   "outputs": [],
   "source": [
    "parameters = [\n",
    "    # NOTE: In a real-world setting, hidden_size_1 and hidden_size_2\n",
    "    # should probably be powers of 2, but in our simple example this\n",
    "    # would mean that num_params can't take on that many values, which\n",
    "    # in turn makes the Pareto frontier look pretty weird.\n",
    "    RangeParameter(\n",
    "        name=\"hidden_size_1\",\n",
    "        lower=16,\n",
    "        upper=128,\n",
    "        parameter_type=ParameterType.INT,\n",
    "        log_scale=True,\n",
    "    ),\n",
    "    RangeParameter(\n",
    "        name=\"hidden_size_2\",\n",
    "        lower=16,\n",
    "        upper=128,\n",
    "        parameter_type=ParameterType.INT,\n",
    "        log_scale=True,\n",
    "    ),\n",
    "    RangeParameter(\n",
    "        name=\"learning_rate\",\n",
    "        lower=1e-4,\n",
    "        upper=1e-2,\n",
    "        parameter_type=ParameterType.FLOAT,\n",
    "        log_scale=True,\n",
    "    ),\n",
    "    RangeParameter(\n",
    "        name=\"dropout\",\n",
    "        lower=0.0,\n",
    "        upper=0.5,\n",
    "        parameter_type=ParameterType.FLOAT,\n",
    "    ),\n",
    "]\n",
    "\n",
    "search_space = SearchSpace(\n",
    "    parameters=parameters,\n",
    "    # NOTE: In practice, it may make sense to add a constraint\n",
    "    # hidden_size_2 <= hidden_size_1\n",
    "    parameter_constraints=[],\n",
    ")"
   ]
  },
  {
   "attachments": {},
   "cell_type": "markdown",
   "id": "a8005e80",
   "metadata": {
    "papermill": {
     "duration": 0.004191,
     "end_time": "2024-03-01T18:04:16.326941",
     "exception": false,
     "start_time": "2024-03-01T18:04:16.322750",
     "status": "completed"
    },
    "tags": []
   },
   "source": [
    "## Setting up Metrics\n",
    "\n",
    "Ax has the concept of a Metric that defines properties of outcomes and how observations are obtained for these outcomes. This allows e.g. encodig how data is fetched from some distributed execution backend and post-processed before being passed as input to Ax.\n",
    "\n",
    "We will optimize the validation accuracy, which is a `TensorboardCurveMetric` that points to the logging directory assigned above. Note that we have set `is_available_while_running`, allowing for the metric to be queried as the trial progresses. This is critical for the early stopping strategy to monitor partial results."
   ]
  },
  {
   "cell_type": "code",
   "execution_count": 7,
   "id": "0775a96e",
   "metadata": {
    "execution": {
     "iopub.execute_input": "2024-03-01T18:04:16.336718Z",
     "iopub.status.busy": "2024-03-01T18:04:16.336207Z",
     "iopub.status.idle": "2024-03-01T18:04:16.340500Z",
     "shell.execute_reply": "2024-03-01T18:04:16.339845Z"
    },
    "papermill": {
     "duration": 0.010631,
     "end_time": "2024-03-01T18:04:16.341823",
     "exception": false,
     "start_time": "2024-03-01T18:04:16.331192",
     "status": "completed"
    },
    "tags": []
   },
   "outputs": [],
   "source": [
    "class MyTensorboardMetric(TensorboardCurveMetric):\n",
    "\n",
    "    # NOTE: We need to tell the new Tensorboard metric how to get the id /\n",
    "    # file handle for the tensorboard logs from a trial. In this case\n",
    "    # our convention is to just save a separate file per trial in\n",
    "    # the pre-specified log dir.\n",
    "    @classmethod\n",
    "    def get_ids_from_trials(cls, trials):\n",
    "        return {\n",
    "            trial.index: Path(log_dir).joinpath(str(trial.index)).as_posix()\n",
    "            for trial in trials\n",
    "        }\n",
    "\n",
    "    # This indicates whether the metric is queryable while the trial is\n",
    "    # still running. This is required for early stopping to monitor the\n",
    "    # progress of the running trial.ArithmeticError\n",
    "    @classmethod\n",
    "    def is_available_while_running(cls):\n",
    "        return True"
   ]
  },
  {
   "cell_type": "code",
   "execution_count": 8,
   "id": "a5c5a7d0",
   "metadata": {
    "execution": {
     "iopub.execute_input": "2024-03-01T18:04:16.351477Z",
     "iopub.status.busy": "2024-03-01T18:04:16.351044Z",
     "iopub.status.idle": "2024-03-01T18:04:16.354062Z",
     "shell.execute_reply": "2024-03-01T18:04:16.353500Z"
    },
    "papermill": {
     "duration": 0.009353,
     "end_time": "2024-03-01T18:04:16.355456",
     "exception": false,
     "start_time": "2024-03-01T18:04:16.346103",
     "status": "completed"
    },
    "tags": []
   },
   "outputs": [],
   "source": [
    "val_acc = MyTensorboardMetric(\n",
    "    name=\"val_acc\",\n",
    "    curve_name=\"val_acc\",\n",
    "    lower_is_better=False,\n",
    ")"
   ]
  },
  {
   "attachments": {},
   "cell_type": "markdown",
   "id": "d4f3ba5d",
   "metadata": {
    "papermill": {
     "duration": 0.004214,
     "end_time": "2024-03-01T18:04:16.364177",
     "exception": false,
     "start_time": "2024-03-01T18:04:16.359963",
     "status": "completed"
    },
    "tags": []
   },
   "source": [
    "## Setting up the OptimizationConfig\n",
    "\n",
    "The `OptimizationConfig` specifies the objective for Ax to optimize."
   ]
  },
  {
   "cell_type": "code",
   "execution_count": 9,
   "id": "ada66cf3",
   "metadata": {
    "execution": {
     "iopub.execute_input": "2024-03-01T18:04:16.373716Z",
     "iopub.status.busy": "2024-03-01T18:04:16.373342Z",
     "iopub.status.idle": "2024-03-01T18:04:16.376584Z",
     "shell.execute_reply": "2024-03-01T18:04:16.375944Z"
    },
    "papermill": {
     "duration": 0.009517,
     "end_time": "2024-03-01T18:04:16.377955",
     "exception": false,
     "start_time": "2024-03-01T18:04:16.368438",
     "status": "completed"
    },
    "tags": []
   },
   "outputs": [],
   "source": [
    "opt_config = OptimizationConfig(\n",
    "    objective=Objective(\n",
    "        metric=val_acc,\n",
    "        minimize=False,\n",
    "    )\n",
    ")"
   ]
  },
  {
   "attachments": {},
   "cell_type": "markdown",
   "id": "57aa9cf7",
   "metadata": {
    "papermill": {
     "duration": 0.004218,
     "end_time": "2024-03-01T18:04:16.386503",
     "exception": false,
     "start_time": "2024-03-01T18:04:16.382285",
     "status": "completed"
    },
    "tags": []
   },
   "source": [
    "## Defining an Early Stopping Strategy\n",
    "\n",
    "A `PercentileEarlyStoppingStrategy` is a simple method that stops a trial if its performance falls below a certain percentile of other trials at the same step (e.g., when `percentile_threshold` is 50, at a given point in time, if a trial ranks in the bottom 50% of trials, it is stopped). \n",
    "- We make use of `normalize_progressions` which normalizes the progression column (e.g. timestamp, epochs, training data used) to be in [0, 1]. This is useful because one doesn't need to know the maximum progression values of the curve (which might be, e.g., the total number of data points in the training dataset).\n",
    "- The `min_progression` parameter specifies that trials should only be considered for stopping if the latest progression value is greater than this threshold.\n",
    "- The `min_curves` parameter specifies the minimum number of completed curves (i.e., fully completed training jobs) before early stopping will be considered. This should be larger than zero if `normalize_progression` is used. In general, we want a few completed curves to have a baseline for comparison.\n",
    "\n",
    "Note that `PercentileEarlyStoppingStrategy` does not make use of learning curve modeling or prediction. More sophisticated model-based methods will be available in future versions of Ax."
   ]
  },
  {
   "cell_type": "code",
   "execution_count": 10,
   "id": "949e8ab5",
   "metadata": {
    "execution": {
     "iopub.execute_input": "2024-03-01T18:04:16.396290Z",
     "iopub.status.busy": "2024-03-01T18:04:16.395849Z",
     "iopub.status.idle": "2024-03-01T18:04:16.399464Z",
     "shell.execute_reply": "2024-03-01T18:04:16.398889Z"
    },
    "papermill": {
     "duration": 0.009893,
     "end_time": "2024-03-01T18:04:16.400756",
     "exception": false,
     "start_time": "2024-03-01T18:04:16.390863",
     "status": "completed"
    },
    "tags": []
   },
   "outputs": [],
   "source": [
    "percentile_early_stopping_strategy = PercentileEarlyStoppingStrategy(\n",
    "    # stop if in bottom 70% of runs at the same progression\n",
    "    percentile_threshold=70,\n",
    "    # the trial must have passed `min_progression` steps before early stopping is initiated\n",
    "    # note that we are using `normalize_progressions`, so this is on a scale of [0, 1]\n",
    "    min_progression=0.3,\n",
    "    # there must be `min_curves` completed trials and `min_curves` trials reporting data in\n",
    "    # order for early stopping to be applicable\n",
    "    min_curves=5,\n",
    "    # specify, e.g., [0, 1] if the first two trials should never be stopped\n",
    "    trial_indices_to_ignore=None,\n",
    "    # check for new data every 10 seconds\n",
    "    seconds_between_polls=10,\n",
    "    normalize_progressions=True,\n",
    ")"
   ]
  },
  {
   "attachments": {},
   "cell_type": "markdown",
   "id": "2665ca93",
   "metadata": {
    "papermill": {
     "duration": 0.004361,
     "end_time": "2024-03-01T18:04:16.409504",
     "exception": false,
     "start_time": "2024-03-01T18:04:16.405143",
     "status": "completed"
    },
    "tags": []
   },
   "source": [
    "## Creating the Ax Experiment\n",
    "\n",
    "In Ax, the Experiment object is the object that stores all the information about the problem setup."
   ]
  },
  {
   "cell_type": "code",
   "execution_count": 11,
   "id": "12849b31",
   "metadata": {
    "execution": {
     "iopub.execute_input": "2024-03-01T18:04:16.419663Z",
     "iopub.status.busy": "2024-03-01T18:04:16.419102Z",
     "iopub.status.idle": "2024-03-01T18:04:16.422650Z",
     "shell.execute_reply": "2024-03-01T18:04:16.422102Z"
    },
    "papermill": {
     "duration": 0.010204,
     "end_time": "2024-03-01T18:04:16.424041",
     "exception": false,
     "start_time": "2024-03-01T18:04:16.413837",
     "status": "completed"
    },
    "tags": []
   },
   "outputs": [],
   "source": [
    "experiment = Experiment(\n",
    "    name=\"torchx_mnist\",\n",
    "    search_space=search_space,\n",
    "    optimization_config=opt_config,\n",
    "    runner=ax_runner,\n",
    ")"
   ]
  },
  {
   "attachments": {},
   "cell_type": "markdown",
   "id": "49a4ed0e",
   "metadata": {
    "papermill": {
     "duration": 0.00437,
     "end_time": "2024-03-01T18:04:16.433119",
     "exception": false,
     "start_time": "2024-03-01T18:04:16.428749",
     "status": "completed"
    },
    "tags": []
   },
   "source": [
    "## Choosing the GenerationStrategy\n",
    "\n",
    "A [GenerationStrategy](https://ax.dev/api/modelbridge.html#ax.modelbridge.generation_strategy.GenerationStrategy)\n",
    "is the abstract representation of how we would like to perform the\n",
    "optimization. While this can be customized (if you’d like to do so, see\n",
    "[this tutorial](https://ax.dev/tutorials/generation_strategy.html)),\n",
    "in most cases Ax can automatically determine an appropriate strategy\n",
    "based on the search space, optimization config, and the total number\n",
    "of trials we want to run.\n",
    "\n",
    "Typically, Ax chooses to evaluate a number of random configurations\n",
    "before starting a model-based Bayesian Optimization strategy.\n",
    "\n",
    "We remark that in Ax, generation strategies and early stopping strategies are separate, a design decision motivated by ease-of-use. However, we should acknowledge that jointly considering generation and stopping using a single strategy would likely be the \"proper\" formulation."
   ]
  },
  {
   "cell_type": "code",
   "execution_count": 12,
   "id": "e38d0237",
   "metadata": {
    "execution": {
     "iopub.execute_input": "2024-03-01T18:04:16.443252Z",
     "iopub.status.busy": "2024-03-01T18:04:16.442750Z",
     "iopub.status.idle": "2024-03-01T18:04:16.450765Z",
     "shell.execute_reply": "2024-03-01T18:04:16.450121Z"
    },
    "papermill": {
     "duration": 0.014759,
     "end_time": "2024-03-01T18:04:16.452257",
     "exception": false,
     "start_time": "2024-03-01T18:04:16.437498",
     "status": "completed"
    },
    "tags": []
   },
   "outputs": [
    {
     "name": "stderr",
     "output_type": "stream",
     "text": [
      "[INFO 03-01 18:04:16] ax.modelbridge.dispatch_utils: Using Models.BOTORCH_MODULAR since there is at least one ordered parameter and there are no unordered categorical parameters.\n"
     ]
    },
    {
     "name": "stderr",
     "output_type": "stream",
     "text": [
      "[INFO 03-01 18:04:16] ax.modelbridge.dispatch_utils: Calculating the number of remaining initialization trials based on num_initialization_trials=None max_initialization_trials=None num_tunable_parameters=4 num_trials=15 use_batch_trials=False\n"
     ]
    },
    {
     "name": "stderr",
     "output_type": "stream",
     "text": [
      "[INFO 03-01 18:04:16] ax.modelbridge.dispatch_utils: calculated num_initialization_trials=5\n"
     ]
    },
    {
     "name": "stderr",
     "output_type": "stream",
     "text": [
      "[INFO 03-01 18:04:16] ax.modelbridge.dispatch_utils: num_completed_initialization_trials=0 num_remaining_initialization_trials=5\n"
     ]
    },
    {
     "name": "stderr",
     "output_type": "stream",
     "text": [
      "[INFO 03-01 18:04:16] ax.modelbridge.dispatch_utils: `verbose`, `disable_progbar`, and `jit_compile` are not yet supported when using `choose_generation_strategy` with ModularBoTorchModel, dropping these arguments.\n"
     ]
    },
    {
     "name": "stderr",
     "output_type": "stream",
     "text": [
      "[INFO 03-01 18:04:16] ax.modelbridge.dispatch_utils: Using Bayesian Optimization generation strategy: GenerationStrategy(name='Sobol+BoTorch', steps=[Sobol for 5 trials, BoTorch for subsequent trials]). Iterations after 5 will take longer to generate due to model-fitting.\n"
     ]
    }
   ],
   "source": [
    "if SMOKE_TEST:\n",
    "    total_trials = 6\n",
    "else:\n",
    "    total_trials = 15  # total evaluation budget\n",
    "\n",
    "gs = choose_generation_strategy(\n",
    "    search_space=experiment.search_space,\n",
    "    optimization_config=experiment.optimization_config,\n",
    "    num_trials=total_trials,\n",
    ")"
   ]
  },
  {
   "attachments": {},
   "cell_type": "markdown",
   "id": "78d86fea",
   "metadata": {
    "papermill": {
     "duration": 0.004585,
     "end_time": "2024-03-01T18:04:16.461766",
     "exception": false,
     "start_time": "2024-03-01T18:04:16.457181",
     "status": "completed"
    },
    "tags": []
   },
   "source": [
    "## Configuring the Scheduler\n",
    "\n",
    "The `Scheduler` acts as the loop control for the optimization.\n",
    "It communicates with the backend to launch trials, check their status, retrieve (partial) results, and importantly for this tutorial, calls the early stopping strategy. If the early stopping strategy suggests a trial to be the stopped, the `Scheduler` communicates with the backend to terminate the trial.\n",
    "\n",
    "The ``Scheduler`` requires the ``Experiment`` and the ``GenerationStrategy``.\n",
    "A set of options can be passed in via ``SchedulerOptions``. Here, we\n",
    "configure the number of total evaluations as well as ``max_pending_trials``,\n",
    "the maximum number of trials that should run concurrently. In our\n",
    "local setting, this is the number of training jobs running as individual\n",
    "processes, while in a remote execution setting, this would be the number\n",
    "of machines you want to use in parallel.\n"
   ]
  },
  {
   "cell_type": "code",
   "execution_count": 13,
   "id": "499fb9b5",
   "metadata": {
    "execution": {
     "iopub.execute_input": "2024-03-01T18:04:16.472466Z",
     "iopub.status.busy": "2024-03-01T18:04:16.471986Z",
     "iopub.status.idle": "2024-03-01T18:04:16.476396Z",
     "shell.execute_reply": "2024-03-01T18:04:16.475732Z"
    },
    "papermill": {
     "duration": 0.011369,
     "end_time": "2024-03-01T18:04:16.477787",
     "exception": false,
     "start_time": "2024-03-01T18:04:16.466418",
     "status": "completed"
    },
    "tags": []
   },
   "outputs": [
    {
     "name": "stderr",
     "output_type": "stream",
     "text": [
      "[INFO 03-01 18:04:16] Scheduler: `Scheduler` requires experiment to have immutable search space and optimization config. Setting property immutable_search_space_and_opt_config to `True` on experiment.\n"
     ]
    }
   ],
   "source": [
    "scheduler = Scheduler(\n",
    "    experiment=experiment,\n",
    "    generation_strategy=gs,\n",
    "    options=SchedulerOptions(\n",
    "        total_trials=total_trials,\n",
    "        max_pending_trials=5,\n",
    "        early_stopping_strategy=percentile_early_stopping_strategy,\n",
    "    ),\n",
    ")"
   ]
  },
  {
   "cell_type": "code",
   "execution_count": 14,
   "id": "78257ebb",
   "metadata": {
    "execution": {
     "iopub.execute_input": "2024-03-01T18:04:16.488827Z",
     "iopub.status.busy": "2024-03-01T18:04:16.488350Z",
     "iopub.status.idle": "2024-03-01T18:35:45.359831Z",
     "shell.execute_reply": "2024-03-01T18:35:45.359092Z"
    },
    "papermill": {
     "duration": 1888.878549,
     "end_time": "2024-03-01T18:35:45.361236",
     "exception": false,
     "start_time": "2024-03-01T18:04:16.482687",
     "status": "completed"
    },
    "tags": []
   },
   "outputs": [
    {
     "name": "stderr",
     "output_type": "stream",
     "text": [
      "[INFO 03-01 18:04:16] Scheduler: Fetching data for newly completed trials: [].\n"
     ]
    },
    {
     "name": "stderr",
     "output_type": "stream",
     "text": [
      "[INFO 03-01 18:04:16] ax.early_stopping.strategies.base: PercentileEarlyStoppingStrategy received empty data. Not stopping any trials.\n"
     ]
    },
    {
     "name": "stderr",
     "output_type": "stream",
     "text": [
      "[INFO 03-01 18:04:16] Scheduler: Running trials [0]...\n"
     ]
    },
    {
     "name": "stderr",
     "output_type": "stream",
     "text": [
      "[INFO 03-01 18:04:17] Scheduler: Running trials [1]...\n"
     ]
    },
    {
     "name": "stderr",
     "output_type": "stream",
     "text": [
      "[INFO 03-01 18:04:18] Scheduler: Running trials [2]...\n"
     ]
    },
    {
     "name": "stderr",
     "output_type": "stream",
     "text": [
      "[INFO 03-01 18:04:19] Scheduler: Running trials [3]...\n"
     ]
    },
    {
     "name": "stderr",
     "output_type": "stream",
     "text": [
      "[INFO 03-01 18:04:20] Scheduler: Running trials [4]...\n"
     ]
    },
    {
     "name": "stderr",
     "output_type": "stream",
     "text": [
      "[WARNING 03-01 18:04:21] Scheduler: Both `init_seconds_between_polls` and `early_stopping_strategy supplied. `init_seconds_between_polls=1` will be overrridden by `early_stopping_strategy.seconds_between_polls=10` and polling will take place at a constant rate.\n"
     ]
    },
    {
     "name": "stderr",
     "output_type": "stream",
     "text": [
      "[INFO 03-01 18:04:21] Scheduler: Fetching data for newly completed trials: [].\n"
     ]
    },
    {
     "name": "stderr",
     "output_type": "stream",
     "text": [
      "[INFO 03-01 18:04:21] Scheduler: Fetching data for trials: 0 - 4 because some metrics on experiment are available while trials are running.\n"
     ]
    },
    {
     "name": "stderr",
     "output_type": "stream",
     "text": [
      "[INFO 03-01 18:04:21] ax.metrics.curve: val_acc not yet present in curves from /tmp/tmp3o86bad6/0. Returning without this metric.\n"
     ]
    },
    {
     "name": "stderr",
     "output_type": "stream",
     "text": [
      "[INFO 03-01 18:04:21] ax.metrics.curve: val_acc not yet present in curves from /tmp/tmp3o86bad6/1. Returning without this metric.\n"
     ]
    },
    {
     "name": "stderr",
     "output_type": "stream",
     "text": [
      "[INFO 03-01 18:04:21] ax.metrics.curve: val_acc not yet present in curves from /tmp/tmp3o86bad6/2. Returning without this metric.\n"
     ]
    },
    {
     "name": "stderr",
     "output_type": "stream",
     "text": [
      "[INFO 03-01 18:04:21] ax.metrics.curve: val_acc not yet present in curves from /tmp/tmp3o86bad6/3. Returning without this metric.\n"
     ]
    },
    {
     "name": "stderr",
     "output_type": "stream",
     "text": [
      "[INFO 03-01 18:04:21] ax.metrics.curve: val_acc not yet present in curves from /tmp/tmp3o86bad6/4. Returning without this metric.\n"
     ]
    },
    {
     "name": "stderr",
     "output_type": "stream",
     "text": [
      "[INFO 03-01 18:04:21] ax.core.metric: MetricFetchE INFO: Initialized MetricFetchE(message=\"DataFrame from curve series is empty\")\n"
     ]
    },
    {
     "name": "stderr",
     "output_type": "stream",
     "text": [
      "[INFO 03-01 18:04:21] ax.core.metric: MetricFetchE INFO: Initialized MetricFetchE(message=\"DataFrame from curve series is empty\")\n"
     ]
    },
    {
     "name": "stderr",
     "output_type": "stream",
     "text": [
      "[INFO 03-01 18:04:21] ax.core.metric: MetricFetchE INFO: Initialized MetricFetchE(message=\"DataFrame from curve series is empty\")\n"
     ]
    },
    {
     "name": "stderr",
     "output_type": "stream",
     "text": [
      "[INFO 03-01 18:04:21] ax.core.metric: MetricFetchE INFO: Initialized MetricFetchE(message=\"DataFrame from curve series is empty\")\n"
     ]
    },
    {
     "name": "stderr",
     "output_type": "stream",
     "text": [
      "[INFO 03-01 18:04:21] ax.core.metric: MetricFetchE INFO: Initialized MetricFetchE(message=\"DataFrame from curve series is empty\")\n"
     ]
    },
    {
     "name": "stderr",
     "output_type": "stream",
     "text": [
      "[ERROR 03-01 18:04:21] ax.core.experiment: Discovered Metric fetching Err while attaching data MetricFetchE(message=\"DataFrame from curve series is empty\"). Ignoring for now -- will retry query on next call to fetch.\n"
     ]
    },
    {
     "name": "stderr",
     "output_type": "stream",
     "text": [
      "[ERROR 03-01 18:04:21] ax.core.experiment: Discovered Metric fetching Err while attaching data MetricFetchE(message=\"DataFrame from curve series is empty\"). Ignoring for now -- will retry query on next call to fetch.\n"
     ]
    },
    {
     "name": "stderr",
     "output_type": "stream",
     "text": [
      "[ERROR 03-01 18:04:21] ax.core.experiment: Discovered Metric fetching Err while attaching data MetricFetchE(message=\"DataFrame from curve series is empty\"). Ignoring for now -- will retry query on next call to fetch.\n"
     ]
    },
    {
     "name": "stderr",
     "output_type": "stream",
     "text": [
      "[ERROR 03-01 18:04:21] ax.core.experiment: Discovered Metric fetching Err while attaching data MetricFetchE(message=\"DataFrame from curve series is empty\"). Ignoring for now -- will retry query on next call to fetch.\n"
     ]
    },
    {
     "name": "stderr",
     "output_type": "stream",
     "text": [
      "[ERROR 03-01 18:04:21] ax.core.experiment: Discovered Metric fetching Err while attaching data MetricFetchE(message=\"DataFrame from curve series is empty\"). Ignoring for now -- will retry query on next call to fetch.\n"
     ]
    },
    {
     "name": "stderr",
     "output_type": "stream",
     "text": [
      "[WARNING 03-01 18:04:21] Scheduler: Failed to fetch val_acc for trial 0, found MetricFetchE(message=\"DataFrame from curve series is empty\").\n"
     ]
    },
    {
     "name": "stderr",
     "output_type": "stream",
     "text": [
      "[INFO 03-01 18:04:21] Scheduler: MetricFetchE INFO: Because val_acc is available_while_running and trial 0 is still RUNNING continuing the experiment and retrying on next poll...\n"
     ]
    },
    {
     "name": "stderr",
     "output_type": "stream",
     "text": [
      "[WARNING 03-01 18:04:21] Scheduler: Failed to fetch val_acc for trial 1, found MetricFetchE(message=\"DataFrame from curve series is empty\").\n"
     ]
    },
    {
     "name": "stderr",
     "output_type": "stream",
     "text": [
      "[INFO 03-01 18:04:21] Scheduler: MetricFetchE INFO: Because val_acc is available_while_running and trial 1 is still RUNNING continuing the experiment and retrying on next poll...\n"
     ]
    },
    {
     "name": "stderr",
     "output_type": "stream",
     "text": [
      "[WARNING 03-01 18:04:21] Scheduler: Failed to fetch val_acc for trial 2, found MetricFetchE(message=\"DataFrame from curve series is empty\").\n"
     ]
    },
    {
     "name": "stderr",
     "output_type": "stream",
     "text": [
      "[INFO 03-01 18:04:21] Scheduler: MetricFetchE INFO: Because val_acc is available_while_running and trial 2 is still RUNNING continuing the experiment and retrying on next poll...\n"
     ]
    },
    {
     "name": "stderr",
     "output_type": "stream",
     "text": [
      "[WARNING 03-01 18:04:21] Scheduler: Failed to fetch val_acc for trial 3, found MetricFetchE(message=\"DataFrame from curve series is empty\").\n"
     ]
    },
    {
     "name": "stderr",
     "output_type": "stream",
     "text": [
      "[INFO 03-01 18:04:21] Scheduler: MetricFetchE INFO: Because val_acc is available_while_running and trial 3 is still RUNNING continuing the experiment and retrying on next poll...\n"
     ]
    },
    {
     "name": "stderr",
     "output_type": "stream",
     "text": [
      "[WARNING 03-01 18:04:21] Scheduler: Failed to fetch val_acc for trial 4, found MetricFetchE(message=\"DataFrame from curve series is empty\").\n"
     ]
    },
    {
     "name": "stderr",
     "output_type": "stream",
     "text": [
      "[INFO 03-01 18:04:21] Scheduler: MetricFetchE INFO: Because val_acc is available_while_running and trial 4 is still RUNNING continuing the experiment and retrying on next poll...\n"
     ]
    },
    {
     "name": "stderr",
     "output_type": "stream",
     "text": [
      "[INFO 03-01 18:04:21] ax.early_stopping.strategies.base: PercentileEarlyStoppingStrategy received empty data. Not stopping any trials.\n"
     ]
    },
    {
     "name": "stderr",
     "output_type": "stream",
     "text": [
      "[INFO 03-01 18:04:21] Scheduler: Waiting for completed trials (for 10 sec, currently running trials: 5).\n"
     ]
    },
    {
     "name": "stderr",
     "output_type": "stream",
     "text": [
      "[INFO 03-01 18:04:31] Scheduler: Fetching data for newly completed trials: [].\n"
     ]
    },
    {
     "name": "stderr",
     "output_type": "stream",
     "text": [
      "[INFO 03-01 18:04:31] Scheduler: Fetching data for trials: 0 - 4 because some metrics on experiment are available while trials are running.\n"
     ]
    },
    {
     "name": "stderr",
     "output_type": "stream",
     "text": [
      "[INFO 03-01 18:04:32] ax.metrics.curve: val_acc not yet present in curves from /tmp/tmp3o86bad6/0. Returning without this metric.\n"
     ]
    },
    {
     "name": "stderr",
     "output_type": "stream",
     "text": [
      "[INFO 03-01 18:04:32] ax.metrics.curve: val_acc not yet present in curves from /tmp/tmp3o86bad6/1. Returning without this metric.\n"
     ]
    },
    {
     "name": "stderr",
     "output_type": "stream",
     "text": [
      "[INFO 03-01 18:04:32] ax.metrics.curve: val_acc not yet present in curves from /tmp/tmp3o86bad6/2. Returning without this metric.\n"
     ]
    },
    {
     "name": "stderr",
     "output_type": "stream",
     "text": [
      "[INFO 03-01 18:04:32] ax.metrics.curve: val_acc not yet present in curves from /tmp/tmp3o86bad6/3. Returning without this metric.\n"
     ]
    },
    {
     "name": "stderr",
     "output_type": "stream",
     "text": [
      "[INFO 03-01 18:04:32] ax.metrics.curve: val_acc not yet present in curves from /tmp/tmp3o86bad6/4. Returning without this metric.\n"
     ]
    },
    {
     "name": "stderr",
     "output_type": "stream",
     "text": [
      "[INFO 03-01 18:04:32] ax.core.metric: MetricFetchE INFO: Initialized MetricFetchE(message=\"DataFrame from curve series is empty\")\n"
     ]
    },
    {
     "name": "stderr",
     "output_type": "stream",
     "text": [
      "[INFO 03-01 18:04:32] ax.core.metric: MetricFetchE INFO: Initialized MetricFetchE(message=\"DataFrame from curve series is empty\")\n"
     ]
    },
    {
     "name": "stderr",
     "output_type": "stream",
     "text": [
      "[INFO 03-01 18:04:32] ax.core.metric: MetricFetchE INFO: Initialized MetricFetchE(message=\"DataFrame from curve series is empty\")\n"
     ]
    },
    {
     "name": "stderr",
     "output_type": "stream",
     "text": [
      "[INFO 03-01 18:04:32] ax.core.metric: MetricFetchE INFO: Initialized MetricFetchE(message=\"DataFrame from curve series is empty\")\n"
     ]
    },
    {
     "name": "stderr",
     "output_type": "stream",
     "text": [
      "[INFO 03-01 18:04:32] ax.core.metric: MetricFetchE INFO: Initialized MetricFetchE(message=\"DataFrame from curve series is empty\")\n"
     ]
    },
    {
     "name": "stderr",
     "output_type": "stream",
     "text": [
      "[ERROR 03-01 18:04:32] ax.core.experiment: Discovered Metric fetching Err while attaching data MetricFetchE(message=\"DataFrame from curve series is empty\"). Ignoring for now -- will retry query on next call to fetch.\n"
     ]
    },
    {
     "name": "stderr",
     "output_type": "stream",
     "text": [
      "[ERROR 03-01 18:04:32] ax.core.experiment: Discovered Metric fetching Err while attaching data MetricFetchE(message=\"DataFrame from curve series is empty\"). Ignoring for now -- will retry query on next call to fetch.\n"
     ]
    },
    {
     "name": "stderr",
     "output_type": "stream",
     "text": [
      "[ERROR 03-01 18:04:32] ax.core.experiment: Discovered Metric fetching Err while attaching data MetricFetchE(message=\"DataFrame from curve series is empty\"). Ignoring for now -- will retry query on next call to fetch.\n"
     ]
    },
    {
     "name": "stderr",
     "output_type": "stream",
     "text": [
      "[ERROR 03-01 18:04:32] ax.core.experiment: Discovered Metric fetching Err while attaching data MetricFetchE(message=\"DataFrame from curve series is empty\"). Ignoring for now -- will retry query on next call to fetch.\n"
     ]
    },
    {
     "name": "stderr",
     "output_type": "stream",
     "text": [
      "[ERROR 03-01 18:04:32] ax.core.experiment: Discovered Metric fetching Err while attaching data MetricFetchE(message=\"DataFrame from curve series is empty\"). Ignoring for now -- will retry query on next call to fetch.\n"
     ]
    },
    {
     "name": "stderr",
     "output_type": "stream",
     "text": [
      "[WARNING 03-01 18:04:32] Scheduler: Failed to fetch val_acc for trial 0, found MetricFetchE(message=\"DataFrame from curve series is empty\").\n"
     ]
    },
    {
     "name": "stderr",
     "output_type": "stream",
     "text": [
      "[INFO 03-01 18:04:32] Scheduler: MetricFetchE INFO: Because val_acc is available_while_running and trial 0 is still RUNNING continuing the experiment and retrying on next poll...\n"
     ]
    },
    {
     "name": "stderr",
     "output_type": "stream",
     "text": [
      "[WARNING 03-01 18:04:32] Scheduler: Failed to fetch val_acc for trial 1, found MetricFetchE(message=\"DataFrame from curve series is empty\").\n"
     ]
    },
    {
     "name": "stderr",
     "output_type": "stream",
     "text": [
      "[INFO 03-01 18:04:32] Scheduler: MetricFetchE INFO: Because val_acc is available_while_running and trial 1 is still RUNNING continuing the experiment and retrying on next poll...\n"
     ]
    },
    {
     "name": "stderr",
     "output_type": "stream",
     "text": [
      "[WARNING 03-01 18:04:32] Scheduler: Failed to fetch val_acc for trial 2, found MetricFetchE(message=\"DataFrame from curve series is empty\").\n"
     ]
    },
    {
     "name": "stderr",
     "output_type": "stream",
     "text": [
      "[INFO 03-01 18:04:32] Scheduler: MetricFetchE INFO: Because val_acc is available_while_running and trial 2 is still RUNNING continuing the experiment and retrying on next poll...\n"
     ]
    },
    {
     "name": "stderr",
     "output_type": "stream",
     "text": [
      "[WARNING 03-01 18:04:32] Scheduler: Failed to fetch val_acc for trial 3, found MetricFetchE(message=\"DataFrame from curve series is empty\").\n"
     ]
    },
    {
     "name": "stderr",
     "output_type": "stream",
     "text": [
      "[INFO 03-01 18:04:32] Scheduler: MetricFetchE INFO: Because val_acc is available_while_running and trial 3 is still RUNNING continuing the experiment and retrying on next poll...\n"
     ]
    },
    {
     "name": "stderr",
     "output_type": "stream",
     "text": [
      "[WARNING 03-01 18:04:32] Scheduler: Failed to fetch val_acc for trial 4, found MetricFetchE(message=\"DataFrame from curve series is empty\").\n"
     ]
    },
    {
     "name": "stderr",
     "output_type": "stream",
     "text": [
      "[INFO 03-01 18:04:32] Scheduler: MetricFetchE INFO: Because val_acc is available_while_running and trial 4 is still RUNNING continuing the experiment and retrying on next poll...\n"
     ]
    },
    {
     "name": "stderr",
     "output_type": "stream",
     "text": [
      "[INFO 03-01 18:04:32] ax.early_stopping.strategies.base: PercentileEarlyStoppingStrategy received empty data. Not stopping any trials.\n"
     ]
    },
    {
     "name": "stderr",
     "output_type": "stream",
     "text": [
      "[INFO 03-01 18:04:32] Scheduler: Waiting for completed trials (for 10 sec, currently running trials: 5).\n"
     ]
    },
    {
     "name": "stderr",
     "output_type": "stream",
     "text": [
      "[INFO 03-01 18:04:42] Scheduler: Fetching data for newly completed trials: [].\n"
     ]
    },
    {
     "name": "stderr",
     "output_type": "stream",
     "text": [
      "[INFO 03-01 18:04:42] Scheduler: Fetching data for trials: 0 - 4 because some metrics on experiment are available while trials are running.\n"
     ]
    },
    {
     "name": "stderr",
     "output_type": "stream",
     "text": [
      "[INFO 03-01 18:04:42] ax.metrics.curve: val_acc not yet present in curves from /tmp/tmp3o86bad6/0. Returning without this metric.\n"
     ]
    },
    {
     "name": "stderr",
     "output_type": "stream",
     "text": [
      "[INFO 03-01 18:04:42] ax.metrics.curve: val_acc not yet present in curves from /tmp/tmp3o86bad6/1. Returning without this metric.\n"
     ]
    },
    {
     "name": "stderr",
     "output_type": "stream",
     "text": [
      "[INFO 03-01 18:04:42] ax.metrics.curve: val_acc not yet present in curves from /tmp/tmp3o86bad6/2. Returning without this metric.\n"
     ]
    },
    {
     "name": "stderr",
     "output_type": "stream",
     "text": [
      "[INFO 03-01 18:04:42] ax.metrics.curve: val_acc not yet present in curves from /tmp/tmp3o86bad6/3. Returning without this metric.\n"
     ]
    },
    {
     "name": "stderr",
     "output_type": "stream",
     "text": [
      "[INFO 03-01 18:04:42] ax.metrics.curve: val_acc not yet present in curves from /tmp/tmp3o86bad6/4. Returning without this metric.\n"
     ]
    },
    {
     "name": "stderr",
     "output_type": "stream",
     "text": [
      "[INFO 03-01 18:04:42] ax.core.metric: MetricFetchE INFO: Initialized MetricFetchE(message=\"DataFrame from curve series is empty\")\n"
     ]
    },
    {
     "name": "stderr",
     "output_type": "stream",
     "text": [
      "[INFO 03-01 18:04:42] ax.core.metric: MetricFetchE INFO: Initialized MetricFetchE(message=\"DataFrame from curve series is empty\")\n"
     ]
    },
    {
     "name": "stderr",
     "output_type": "stream",
     "text": [
      "[INFO 03-01 18:04:42] ax.core.metric: MetricFetchE INFO: Initialized MetricFetchE(message=\"DataFrame from curve series is empty\")\n"
     ]
    },
    {
     "name": "stderr",
     "output_type": "stream",
     "text": [
      "[INFO 03-01 18:04:42] ax.core.metric: MetricFetchE INFO: Initialized MetricFetchE(message=\"DataFrame from curve series is empty\")\n"
     ]
    },
    {
     "name": "stderr",
     "output_type": "stream",
     "text": [
      "[INFO 03-01 18:04:42] ax.core.metric: MetricFetchE INFO: Initialized MetricFetchE(message=\"DataFrame from curve series is empty\")\n"
     ]
    },
    {
     "name": "stderr",
     "output_type": "stream",
     "text": [
      "[ERROR 03-01 18:04:42] ax.core.experiment: Discovered Metric fetching Err while attaching data MetricFetchE(message=\"DataFrame from curve series is empty\"). Ignoring for now -- will retry query on next call to fetch.\n"
     ]
    },
    {
     "name": "stderr",
     "output_type": "stream",
     "text": [
      "[ERROR 03-01 18:04:42] ax.core.experiment: Discovered Metric fetching Err while attaching data MetricFetchE(message=\"DataFrame from curve series is empty\"). Ignoring for now -- will retry query on next call to fetch.\n"
     ]
    },
    {
     "name": "stderr",
     "output_type": "stream",
     "text": [
      "[ERROR 03-01 18:04:42] ax.core.experiment: Discovered Metric fetching Err while attaching data MetricFetchE(message=\"DataFrame from curve series is empty\"). Ignoring for now -- will retry query on next call to fetch.\n"
     ]
    },
    {
     "name": "stderr",
     "output_type": "stream",
     "text": [
      "[ERROR 03-01 18:04:42] ax.core.experiment: Discovered Metric fetching Err while attaching data MetricFetchE(message=\"DataFrame from curve series is empty\"). Ignoring for now -- will retry query on next call to fetch.\n"
     ]
    },
    {
     "name": "stderr",
     "output_type": "stream",
     "text": [
      "[ERROR 03-01 18:04:42] ax.core.experiment: Discovered Metric fetching Err while attaching data MetricFetchE(message=\"DataFrame from curve series is empty\"). Ignoring for now -- will retry query on next call to fetch.\n"
     ]
    },
    {
     "name": "stderr",
     "output_type": "stream",
     "text": [
      "[WARNING 03-01 18:04:42] Scheduler: Failed to fetch val_acc for trial 0, found MetricFetchE(message=\"DataFrame from curve series is empty\").\n"
     ]
    },
    {
     "name": "stderr",
     "output_type": "stream",
     "text": [
      "[INFO 03-01 18:04:42] Scheduler: MetricFetchE INFO: Because val_acc is available_while_running and trial 0 is still RUNNING continuing the experiment and retrying on next poll...\n"
     ]
    },
    {
     "name": "stderr",
     "output_type": "stream",
     "text": [
      "[WARNING 03-01 18:04:42] Scheduler: Failed to fetch val_acc for trial 1, found MetricFetchE(message=\"DataFrame from curve series is empty\").\n"
     ]
    },
    {
     "name": "stderr",
     "output_type": "stream",
     "text": [
      "[INFO 03-01 18:04:42] Scheduler: MetricFetchE INFO: Because val_acc is available_while_running and trial 1 is still RUNNING continuing the experiment and retrying on next poll...\n"
     ]
    },
    {
     "name": "stderr",
     "output_type": "stream",
     "text": [
      "[WARNING 03-01 18:04:42] Scheduler: Failed to fetch val_acc for trial 2, found MetricFetchE(message=\"DataFrame from curve series is empty\").\n"
     ]
    },
    {
     "name": "stderr",
     "output_type": "stream",
     "text": [
      "[INFO 03-01 18:04:42] Scheduler: MetricFetchE INFO: Because val_acc is available_while_running and trial 2 is still RUNNING continuing the experiment and retrying on next poll...\n"
     ]
    },
    {
     "name": "stderr",
     "output_type": "stream",
     "text": [
      "[WARNING 03-01 18:04:42] Scheduler: Failed to fetch val_acc for trial 3, found MetricFetchE(message=\"DataFrame from curve series is empty\").\n"
     ]
    },
    {
     "name": "stderr",
     "output_type": "stream",
     "text": [
      "[INFO 03-01 18:04:42] Scheduler: MetricFetchE INFO: Because val_acc is available_while_running and trial 3 is still RUNNING continuing the experiment and retrying on next poll...\n"
     ]
    },
    {
     "name": "stderr",
     "output_type": "stream",
     "text": [
      "[WARNING 03-01 18:04:42] Scheduler: Failed to fetch val_acc for trial 4, found MetricFetchE(message=\"DataFrame from curve series is empty\").\n"
     ]
    },
    {
     "name": "stderr",
     "output_type": "stream",
     "text": [
      "[INFO 03-01 18:04:42] Scheduler: MetricFetchE INFO: Because val_acc is available_while_running and trial 4 is still RUNNING continuing the experiment and retrying on next poll...\n"
     ]
    },
    {
     "name": "stderr",
     "output_type": "stream",
     "text": [
      "[INFO 03-01 18:04:42] ax.early_stopping.strategies.base: PercentileEarlyStoppingStrategy received empty data. Not stopping any trials.\n"
     ]
    },
    {
     "name": "stderr",
     "output_type": "stream",
     "text": [
      "[INFO 03-01 18:04:42] Scheduler: Waiting for completed trials (for 10 sec, currently running trials: 5).\n"
     ]
    },
    {
     "name": "stderr",
     "output_type": "stream",
     "text": [
      "[INFO 03-01 18:04:52] Scheduler: Fetching data for newly completed trials: [].\n"
     ]
    },
    {
     "name": "stderr",
     "output_type": "stream",
     "text": [
      "[INFO 03-01 18:04:52] Scheduler: Fetching data for trials: 0 - 4 because some metrics on experiment are available while trials are running.\n"
     ]
    },
    {
     "name": "stderr",
     "output_type": "stream",
     "text": [
      "[INFO 03-01 18:04:52] ax.metrics.curve: val_acc not yet present in curves from /tmp/tmp3o86bad6/0. Returning without this metric.\n"
     ]
    },
    {
     "name": "stderr",
     "output_type": "stream",
     "text": [
      "[INFO 03-01 18:04:52] ax.metrics.curve: val_acc not yet present in curves from /tmp/tmp3o86bad6/1. Returning without this metric.\n"
     ]
    },
    {
     "name": "stderr",
     "output_type": "stream",
     "text": [
      "[INFO 03-01 18:04:52] ax.metrics.curve: val_acc not yet present in curves from /tmp/tmp3o86bad6/2. Returning without this metric.\n"
     ]
    },
    {
     "name": "stderr",
     "output_type": "stream",
     "text": [
      "[INFO 03-01 18:04:52] ax.metrics.curve: val_acc not yet present in curves from /tmp/tmp3o86bad6/3. Returning without this metric.\n"
     ]
    },
    {
     "name": "stderr",
     "output_type": "stream",
     "text": [
      "[INFO 03-01 18:04:52] ax.metrics.curve: val_acc not yet present in curves from /tmp/tmp3o86bad6/4. Returning without this metric.\n"
     ]
    },
    {
     "name": "stderr",
     "output_type": "stream",
     "text": [
      "[INFO 03-01 18:04:52] ax.core.metric: MetricFetchE INFO: Initialized MetricFetchE(message=\"DataFrame from curve series is empty\")\n"
     ]
    },
    {
     "name": "stderr",
     "output_type": "stream",
     "text": [
      "[INFO 03-01 18:04:52] ax.core.metric: MetricFetchE INFO: Initialized MetricFetchE(message=\"DataFrame from curve series is empty\")\n"
     ]
    },
    {
     "name": "stderr",
     "output_type": "stream",
     "text": [
      "[INFO 03-01 18:04:52] ax.core.metric: MetricFetchE INFO: Initialized MetricFetchE(message=\"DataFrame from curve series is empty\")\n"
     ]
    },
    {
     "name": "stderr",
     "output_type": "stream",
     "text": [
      "[INFO 03-01 18:04:52] ax.core.metric: MetricFetchE INFO: Initialized MetricFetchE(message=\"DataFrame from curve series is empty\")\n"
     ]
    },
    {
     "name": "stderr",
     "output_type": "stream",
     "text": [
      "[INFO 03-01 18:04:52] ax.core.metric: MetricFetchE INFO: Initialized MetricFetchE(message=\"DataFrame from curve series is empty\")\n"
     ]
    },
    {
     "name": "stderr",
     "output_type": "stream",
     "text": [
      "[ERROR 03-01 18:04:52] ax.core.experiment: Discovered Metric fetching Err while attaching data MetricFetchE(message=\"DataFrame from curve series is empty\"). Ignoring for now -- will retry query on next call to fetch.\n"
     ]
    },
    {
     "name": "stderr",
     "output_type": "stream",
     "text": [
      "[ERROR 03-01 18:04:52] ax.core.experiment: Discovered Metric fetching Err while attaching data MetricFetchE(message=\"DataFrame from curve series is empty\"). Ignoring for now -- will retry query on next call to fetch.\n"
     ]
    },
    {
     "name": "stderr",
     "output_type": "stream",
     "text": [
      "[ERROR 03-01 18:04:52] ax.core.experiment: Discovered Metric fetching Err while attaching data MetricFetchE(message=\"DataFrame from curve series is empty\"). Ignoring for now -- will retry query on next call to fetch.\n"
     ]
    },
    {
     "name": "stderr",
     "output_type": "stream",
     "text": [
      "[ERROR 03-01 18:04:52] ax.core.experiment: Discovered Metric fetching Err while attaching data MetricFetchE(message=\"DataFrame from curve series is empty\"). Ignoring for now -- will retry query on next call to fetch.\n"
     ]
    },
    {
     "name": "stderr",
     "output_type": "stream",
     "text": [
      "[ERROR 03-01 18:04:52] ax.core.experiment: Discovered Metric fetching Err while attaching data MetricFetchE(message=\"DataFrame from curve series is empty\"). Ignoring for now -- will retry query on next call to fetch.\n"
     ]
    },
    {
     "name": "stderr",
     "output_type": "stream",
     "text": [
      "[WARNING 03-01 18:04:52] Scheduler: Failed to fetch val_acc for trial 0, found MetricFetchE(message=\"DataFrame from curve series is empty\").\n"
     ]
    },
    {
     "name": "stderr",
     "output_type": "stream",
     "text": [
      "[INFO 03-01 18:04:52] Scheduler: MetricFetchE INFO: Because val_acc is available_while_running and trial 0 is still RUNNING continuing the experiment and retrying on next poll...\n"
     ]
    },
    {
     "name": "stderr",
     "output_type": "stream",
     "text": [
      "[WARNING 03-01 18:04:52] Scheduler: Failed to fetch val_acc for trial 1, found MetricFetchE(message=\"DataFrame from curve series is empty\").\n"
     ]
    },
    {
     "name": "stderr",
     "output_type": "stream",
     "text": [
      "[INFO 03-01 18:04:52] Scheduler: MetricFetchE INFO: Because val_acc is available_while_running and trial 1 is still RUNNING continuing the experiment and retrying on next poll...\n"
     ]
    },
    {
     "name": "stderr",
     "output_type": "stream",
     "text": [
      "[WARNING 03-01 18:04:52] Scheduler: Failed to fetch val_acc for trial 2, found MetricFetchE(message=\"DataFrame from curve series is empty\").\n"
     ]
    },
    {
     "name": "stderr",
     "output_type": "stream",
     "text": [
      "[INFO 03-01 18:04:52] Scheduler: MetricFetchE INFO: Because val_acc is available_while_running and trial 2 is still RUNNING continuing the experiment and retrying on next poll...\n"
     ]
    },
    {
     "name": "stderr",
     "output_type": "stream",
     "text": [
      "[WARNING 03-01 18:04:52] Scheduler: Failed to fetch val_acc for trial 3, found MetricFetchE(message=\"DataFrame from curve series is empty\").\n"
     ]
    },
    {
     "name": "stderr",
     "output_type": "stream",
     "text": [
      "[INFO 03-01 18:04:52] Scheduler: MetricFetchE INFO: Because val_acc is available_while_running and trial 3 is still RUNNING continuing the experiment and retrying on next poll...\n"
     ]
    },
    {
     "name": "stderr",
     "output_type": "stream",
     "text": [
      "[WARNING 03-01 18:04:52] Scheduler: Failed to fetch val_acc for trial 4, found MetricFetchE(message=\"DataFrame from curve series is empty\").\n"
     ]
    },
    {
     "name": "stderr",
     "output_type": "stream",
     "text": [
      "[INFO 03-01 18:04:52] Scheduler: MetricFetchE INFO: Because val_acc is available_while_running and trial 4 is still RUNNING continuing the experiment and retrying on next poll...\n"
     ]
    },
    {
     "name": "stderr",
     "output_type": "stream",
     "text": [
      "[INFO 03-01 18:04:52] ax.early_stopping.strategies.base: PercentileEarlyStoppingStrategy received empty data. Not stopping any trials.\n"
     ]
    },
    {
     "name": "stderr",
     "output_type": "stream",
     "text": [
      "[INFO 03-01 18:04:52] Scheduler: Waiting for completed trials (for 10 sec, currently running trials: 5).\n"
     ]
    },
    {
     "name": "stderr",
     "output_type": "stream",
     "text": [
      "[INFO 03-01 18:05:02] Scheduler: Fetching data for newly completed trials: [].\n"
     ]
    },
    {
     "name": "stderr",
     "output_type": "stream",
     "text": [
      "[INFO 03-01 18:05:02] Scheduler: Fetching data for trials: 0 - 4 because some metrics on experiment are available while trials are running.\n"
     ]
    },
    {
     "name": "stderr",
     "output_type": "stream",
     "text": [
      "[INFO 03-01 18:05:02] ax.metrics.curve: val_acc not yet present in curves from /tmp/tmp3o86bad6/0. Returning without this metric.\n"
     ]
    },
    {
     "name": "stderr",
     "output_type": "stream",
     "text": [
      "[INFO 03-01 18:05:02] ax.metrics.curve: val_acc not yet present in curves from /tmp/tmp3o86bad6/1. Returning without this metric.\n"
     ]
    },
    {
     "name": "stderr",
     "output_type": "stream",
     "text": [
      "[INFO 03-01 18:05:02] ax.metrics.curve: val_acc not yet present in curves from /tmp/tmp3o86bad6/2. Returning without this metric.\n"
     ]
    },
    {
     "name": "stderr",
     "output_type": "stream",
     "text": [
      "[INFO 03-01 18:05:02] ax.metrics.curve: val_acc not yet present in curves from /tmp/tmp3o86bad6/3. Returning without this metric.\n"
     ]
    },
    {
     "name": "stderr",
     "output_type": "stream",
     "text": [
      "[INFO 03-01 18:05:02] ax.metrics.curve: val_acc not yet present in curves from /tmp/tmp3o86bad6/4. Returning without this metric.\n"
     ]
    },
    {
     "name": "stderr",
     "output_type": "stream",
     "text": [
      "[INFO 03-01 18:05:02] ax.core.metric: MetricFetchE INFO: Initialized MetricFetchE(message=\"DataFrame from curve series is empty\")\n"
     ]
    },
    {
     "name": "stderr",
     "output_type": "stream",
     "text": [
      "[INFO 03-01 18:05:02] ax.core.metric: MetricFetchE INFO: Initialized MetricFetchE(message=\"DataFrame from curve series is empty\")\n"
     ]
    },
    {
     "name": "stderr",
     "output_type": "stream",
     "text": [
      "[INFO 03-01 18:05:02] ax.core.metric: MetricFetchE INFO: Initialized MetricFetchE(message=\"DataFrame from curve series is empty\")\n"
     ]
    },
    {
     "name": "stderr",
     "output_type": "stream",
     "text": [
      "[INFO 03-01 18:05:02] ax.core.metric: MetricFetchE INFO: Initialized MetricFetchE(message=\"DataFrame from curve series is empty\")\n"
     ]
    },
    {
     "name": "stderr",
     "output_type": "stream",
     "text": [
      "[INFO 03-01 18:05:02] ax.core.metric: MetricFetchE INFO: Initialized MetricFetchE(message=\"DataFrame from curve series is empty\")\n"
     ]
    },
    {
     "name": "stderr",
     "output_type": "stream",
     "text": [
      "[ERROR 03-01 18:05:02] ax.core.experiment: Discovered Metric fetching Err while attaching data MetricFetchE(message=\"DataFrame from curve series is empty\"). Ignoring for now -- will retry query on next call to fetch.\n"
     ]
    },
    {
     "name": "stderr",
     "output_type": "stream",
     "text": [
      "[ERROR 03-01 18:05:02] ax.core.experiment: Discovered Metric fetching Err while attaching data MetricFetchE(message=\"DataFrame from curve series is empty\"). Ignoring for now -- will retry query on next call to fetch.\n"
     ]
    },
    {
     "name": "stderr",
     "output_type": "stream",
     "text": [
      "[ERROR 03-01 18:05:02] ax.core.experiment: Discovered Metric fetching Err while attaching data MetricFetchE(message=\"DataFrame from curve series is empty\"). Ignoring for now -- will retry query on next call to fetch.\n"
     ]
    },
    {
     "name": "stderr",
     "output_type": "stream",
     "text": [
      "[ERROR 03-01 18:05:02] ax.core.experiment: Discovered Metric fetching Err while attaching data MetricFetchE(message=\"DataFrame from curve series is empty\"). Ignoring for now -- will retry query on next call to fetch.\n"
     ]
    },
    {
     "name": "stderr",
     "output_type": "stream",
     "text": [
      "[ERROR 03-01 18:05:02] ax.core.experiment: Discovered Metric fetching Err while attaching data MetricFetchE(message=\"DataFrame from curve series is empty\"). Ignoring for now -- will retry query on next call to fetch.\n"
     ]
    },
    {
     "name": "stderr",
     "output_type": "stream",
     "text": [
      "[WARNING 03-01 18:05:02] Scheduler: Failed to fetch val_acc for trial 0, found MetricFetchE(message=\"DataFrame from curve series is empty\").\n"
     ]
    },
    {
     "name": "stderr",
     "output_type": "stream",
     "text": [
      "[INFO 03-01 18:05:02] Scheduler: MetricFetchE INFO: Because val_acc is available_while_running and trial 0 is still RUNNING continuing the experiment and retrying on next poll...\n"
     ]
    },
    {
     "name": "stderr",
     "output_type": "stream",
     "text": [
      "[WARNING 03-01 18:05:02] Scheduler: Failed to fetch val_acc for trial 1, found MetricFetchE(message=\"DataFrame from curve series is empty\").\n"
     ]
    },
    {
     "name": "stderr",
     "output_type": "stream",
     "text": [
      "[INFO 03-01 18:05:02] Scheduler: MetricFetchE INFO: Because val_acc is available_while_running and trial 1 is still RUNNING continuing the experiment and retrying on next poll...\n"
     ]
    },
    {
     "name": "stderr",
     "output_type": "stream",
     "text": [
      "[WARNING 03-01 18:05:02] Scheduler: Failed to fetch val_acc for trial 2, found MetricFetchE(message=\"DataFrame from curve series is empty\").\n"
     ]
    },
    {
     "name": "stderr",
     "output_type": "stream",
     "text": [
      "[INFO 03-01 18:05:02] Scheduler: MetricFetchE INFO: Because val_acc is available_while_running and trial 2 is still RUNNING continuing the experiment and retrying on next poll...\n"
     ]
    },
    {
     "name": "stderr",
     "output_type": "stream",
     "text": [
      "[WARNING 03-01 18:05:02] Scheduler: Failed to fetch val_acc for trial 3, found MetricFetchE(message=\"DataFrame from curve series is empty\").\n"
     ]
    },
    {
     "name": "stderr",
     "output_type": "stream",
     "text": [
      "[INFO 03-01 18:05:02] Scheduler: MetricFetchE INFO: Because val_acc is available_while_running and trial 3 is still RUNNING continuing the experiment and retrying on next poll...\n"
     ]
    },
    {
     "name": "stderr",
     "output_type": "stream",
     "text": [
      "[WARNING 03-01 18:05:02] Scheduler: Failed to fetch val_acc for trial 4, found MetricFetchE(message=\"DataFrame from curve series is empty\").\n"
     ]
    },
    {
     "name": "stderr",
     "output_type": "stream",
     "text": [
      "[INFO 03-01 18:05:02] Scheduler: MetricFetchE INFO: Because val_acc is available_while_running and trial 4 is still RUNNING continuing the experiment and retrying on next poll...\n"
     ]
    },
    {
     "name": "stderr",
     "output_type": "stream",
     "text": [
      "[INFO 03-01 18:05:02] ax.early_stopping.strategies.base: PercentileEarlyStoppingStrategy received empty data. Not stopping any trials.\n"
     ]
    },
    {
     "name": "stderr",
     "output_type": "stream",
     "text": [
      "[INFO 03-01 18:05:02] Scheduler: Waiting for completed trials (for 10 sec, currently running trials: 5).\n"
     ]
    },
    {
     "name": "stderr",
     "output_type": "stream",
     "text": [
      "[INFO 03-01 18:05:12] Scheduler: Fetching data for newly completed trials: [].\n"
     ]
    },
    {
     "name": "stderr",
     "output_type": "stream",
     "text": [
      "[INFO 03-01 18:05:12] Scheduler: Fetching data for trials: 0 - 4 because some metrics on experiment are available while trials are running.\n"
     ]
    },
    {
     "name": "stderr",
     "output_type": "stream",
     "text": [
      "[INFO 03-01 18:05:12] ax.metrics.curve: val_acc not yet present in curves from /tmp/tmp3o86bad6/0. Returning without this metric.\n"
     ]
    },
    {
     "name": "stderr",
     "output_type": "stream",
     "text": [
      "[INFO 03-01 18:05:12] ax.metrics.curve: val_acc not yet present in curves from /tmp/tmp3o86bad6/1. Returning without this metric.\n"
     ]
    },
    {
     "name": "stderr",
     "output_type": "stream",
     "text": [
      "[INFO 03-01 18:05:12] ax.metrics.curve: val_acc not yet present in curves from /tmp/tmp3o86bad6/2. Returning without this metric.\n"
     ]
    },
    {
     "name": "stderr",
     "output_type": "stream",
     "text": [
      "[INFO 03-01 18:05:12] ax.metrics.curve: val_acc not yet present in curves from /tmp/tmp3o86bad6/3. Returning without this metric.\n"
     ]
    },
    {
     "name": "stderr",
     "output_type": "stream",
     "text": [
      "[INFO 03-01 18:05:12] ax.metrics.curve: val_acc not yet present in curves from /tmp/tmp3o86bad6/4. Returning without this metric.\n"
     ]
    },
    {
     "name": "stderr",
     "output_type": "stream",
     "text": [
      "[INFO 03-01 18:05:12] ax.core.metric: MetricFetchE INFO: Initialized MetricFetchE(message=\"DataFrame from curve series is empty\")\n"
     ]
    },
    {
     "name": "stderr",
     "output_type": "stream",
     "text": [
      "[INFO 03-01 18:05:12] ax.core.metric: MetricFetchE INFO: Initialized MetricFetchE(message=\"DataFrame from curve series is empty\")\n"
     ]
    },
    {
     "name": "stderr",
     "output_type": "stream",
     "text": [
      "[INFO 03-01 18:05:12] ax.core.metric: MetricFetchE INFO: Initialized MetricFetchE(message=\"DataFrame from curve series is empty\")\n"
     ]
    },
    {
     "name": "stderr",
     "output_type": "stream",
     "text": [
      "[INFO 03-01 18:05:12] ax.core.metric: MetricFetchE INFO: Initialized MetricFetchE(message=\"DataFrame from curve series is empty\")\n"
     ]
    },
    {
     "name": "stderr",
     "output_type": "stream",
     "text": [
      "[INFO 03-01 18:05:12] ax.core.metric: MetricFetchE INFO: Initialized MetricFetchE(message=\"DataFrame from curve series is empty\")\n"
     ]
    },
    {
     "name": "stderr",
     "output_type": "stream",
     "text": [
      "[ERROR 03-01 18:05:12] ax.core.experiment: Discovered Metric fetching Err while attaching data MetricFetchE(message=\"DataFrame from curve series is empty\"). Ignoring for now -- will retry query on next call to fetch.\n"
     ]
    },
    {
     "name": "stderr",
     "output_type": "stream",
     "text": [
      "[ERROR 03-01 18:05:12] ax.core.experiment: Discovered Metric fetching Err while attaching data MetricFetchE(message=\"DataFrame from curve series is empty\"). Ignoring for now -- will retry query on next call to fetch.\n"
     ]
    },
    {
     "name": "stderr",
     "output_type": "stream",
     "text": [
      "[ERROR 03-01 18:05:12] ax.core.experiment: Discovered Metric fetching Err while attaching data MetricFetchE(message=\"DataFrame from curve series is empty\"). Ignoring for now -- will retry query on next call to fetch.\n"
     ]
    },
    {
     "name": "stderr",
     "output_type": "stream",
     "text": [
      "[ERROR 03-01 18:05:12] ax.core.experiment: Discovered Metric fetching Err while attaching data MetricFetchE(message=\"DataFrame from curve series is empty\"). Ignoring for now -- will retry query on next call to fetch.\n"
     ]
    },
    {
     "name": "stderr",
     "output_type": "stream",
     "text": [
      "[ERROR 03-01 18:05:12] ax.core.experiment: Discovered Metric fetching Err while attaching data MetricFetchE(message=\"DataFrame from curve series is empty\"). Ignoring for now -- will retry query on next call to fetch.\n"
     ]
    },
    {
     "name": "stderr",
     "output_type": "stream",
     "text": [
      "[WARNING 03-01 18:05:12] Scheduler: Failed to fetch val_acc for trial 0, found MetricFetchE(message=\"DataFrame from curve series is empty\").\n"
     ]
    },
    {
     "name": "stderr",
     "output_type": "stream",
     "text": [
      "[INFO 03-01 18:05:12] Scheduler: MetricFetchE INFO: Because val_acc is available_while_running and trial 0 is still RUNNING continuing the experiment and retrying on next poll...\n"
     ]
    },
    {
     "name": "stderr",
     "output_type": "stream",
     "text": [
      "[WARNING 03-01 18:05:12] Scheduler: Failed to fetch val_acc for trial 1, found MetricFetchE(message=\"DataFrame from curve series is empty\").\n"
     ]
    },
    {
     "name": "stderr",
     "output_type": "stream",
     "text": [
      "[INFO 03-01 18:05:12] Scheduler: MetricFetchE INFO: Because val_acc is available_while_running and trial 1 is still RUNNING continuing the experiment and retrying on next poll...\n"
     ]
    },
    {
     "name": "stderr",
     "output_type": "stream",
     "text": [
      "[WARNING 03-01 18:05:12] Scheduler: Failed to fetch val_acc for trial 2, found MetricFetchE(message=\"DataFrame from curve series is empty\").\n"
     ]
    },
    {
     "name": "stderr",
     "output_type": "stream",
     "text": [
      "[INFO 03-01 18:05:12] Scheduler: MetricFetchE INFO: Because val_acc is available_while_running and trial 2 is still RUNNING continuing the experiment and retrying on next poll...\n"
     ]
    },
    {
     "name": "stderr",
     "output_type": "stream",
     "text": [
      "[WARNING 03-01 18:05:12] Scheduler: Failed to fetch val_acc for trial 3, found MetricFetchE(message=\"DataFrame from curve series is empty\").\n"
     ]
    },
    {
     "name": "stderr",
     "output_type": "stream",
     "text": [
      "[INFO 03-01 18:05:12] Scheduler: MetricFetchE INFO: Because val_acc is available_while_running and trial 3 is still RUNNING continuing the experiment and retrying on next poll...\n"
     ]
    },
    {
     "name": "stderr",
     "output_type": "stream",
     "text": [
      "[WARNING 03-01 18:05:12] Scheduler: Failed to fetch val_acc for trial 4, found MetricFetchE(message=\"DataFrame from curve series is empty\").\n"
     ]
    },
    {
     "name": "stderr",
     "output_type": "stream",
     "text": [
      "[INFO 03-01 18:05:12] Scheduler: MetricFetchE INFO: Because val_acc is available_while_running and trial 4 is still RUNNING continuing the experiment and retrying on next poll...\n"
     ]
    },
    {
     "name": "stderr",
     "output_type": "stream",
     "text": [
      "[INFO 03-01 18:05:12] ax.early_stopping.strategies.base: PercentileEarlyStoppingStrategy received empty data. Not stopping any trials.\n"
     ]
    },
    {
     "name": "stderr",
     "output_type": "stream",
     "text": [
      "[INFO 03-01 18:05:12] Scheduler: Waiting for completed trials (for 10 sec, currently running trials: 5).\n"
     ]
    },
    {
     "name": "stderr",
     "output_type": "stream",
     "text": [
      "[INFO 03-01 18:05:22] Scheduler: Fetching data for newly completed trials: [].\n"
     ]
    },
    {
     "name": "stderr",
     "output_type": "stream",
     "text": [
      "[INFO 03-01 18:05:22] Scheduler: Fetching data for trials: 0 - 4 because some metrics on experiment are available while trials are running.\n"
     ]
    },
    {
     "name": "stderr",
     "output_type": "stream",
     "text": [
      "[INFO 03-01 18:05:22] ax.metrics.curve: val_acc not yet present in curves from /tmp/tmp3o86bad6/0. Returning without this metric.\n"
     ]
    },
    {
     "name": "stderr",
     "output_type": "stream",
     "text": [
      "[INFO 03-01 18:05:22] ax.metrics.curve: val_acc not yet present in curves from /tmp/tmp3o86bad6/1. Returning without this metric.\n"
     ]
    },
    {
     "name": "stderr",
     "output_type": "stream",
     "text": [
      "[INFO 03-01 18:05:22] ax.metrics.curve: val_acc not yet present in curves from /tmp/tmp3o86bad6/2. Returning without this metric.\n"
     ]
    },
    {
     "name": "stderr",
     "output_type": "stream",
     "text": [
      "[INFO 03-01 18:05:22] ax.metrics.curve: val_acc not yet present in curves from /tmp/tmp3o86bad6/3. Returning without this metric.\n"
     ]
    },
    {
     "name": "stderr",
     "output_type": "stream",
     "text": [
      "[INFO 03-01 18:05:22] ax.metrics.curve: val_acc not yet present in curves from /tmp/tmp3o86bad6/4. Returning without this metric.\n"
     ]
    },
    {
     "name": "stderr",
     "output_type": "stream",
     "text": [
      "[INFO 03-01 18:05:22] ax.core.metric: MetricFetchE INFO: Initialized MetricFetchE(message=\"DataFrame from curve series is empty\")\n"
     ]
    },
    {
     "name": "stderr",
     "output_type": "stream",
     "text": [
      "[INFO 03-01 18:05:22] ax.core.metric: MetricFetchE INFO: Initialized MetricFetchE(message=\"DataFrame from curve series is empty\")\n"
     ]
    },
    {
     "name": "stderr",
     "output_type": "stream",
     "text": [
      "[INFO 03-01 18:05:22] ax.core.metric: MetricFetchE INFO: Initialized MetricFetchE(message=\"DataFrame from curve series is empty\")\n"
     ]
    },
    {
     "name": "stderr",
     "output_type": "stream",
     "text": [
      "[INFO 03-01 18:05:22] ax.core.metric: MetricFetchE INFO: Initialized MetricFetchE(message=\"DataFrame from curve series is empty\")\n"
     ]
    },
    {
     "name": "stderr",
     "output_type": "stream",
     "text": [
      "[INFO 03-01 18:05:22] ax.core.metric: MetricFetchE INFO: Initialized MetricFetchE(message=\"DataFrame from curve series is empty\")\n"
     ]
    },
    {
     "name": "stderr",
     "output_type": "stream",
     "text": [
      "[ERROR 03-01 18:05:22] ax.core.experiment: Discovered Metric fetching Err while attaching data MetricFetchE(message=\"DataFrame from curve series is empty\"). Ignoring for now -- will retry query on next call to fetch.\n"
     ]
    },
    {
     "name": "stderr",
     "output_type": "stream",
     "text": [
      "[ERROR 03-01 18:05:22] ax.core.experiment: Discovered Metric fetching Err while attaching data MetricFetchE(message=\"DataFrame from curve series is empty\"). Ignoring for now -- will retry query on next call to fetch.\n"
     ]
    },
    {
     "name": "stderr",
     "output_type": "stream",
     "text": [
      "[ERROR 03-01 18:05:22] ax.core.experiment: Discovered Metric fetching Err while attaching data MetricFetchE(message=\"DataFrame from curve series is empty\"). Ignoring for now -- will retry query on next call to fetch.\n"
     ]
    },
    {
     "name": "stderr",
     "output_type": "stream",
     "text": [
      "[ERROR 03-01 18:05:22] ax.core.experiment: Discovered Metric fetching Err while attaching data MetricFetchE(message=\"DataFrame from curve series is empty\"). Ignoring for now -- will retry query on next call to fetch.\n"
     ]
    },
    {
     "name": "stderr",
     "output_type": "stream",
     "text": [
      "[ERROR 03-01 18:05:22] ax.core.experiment: Discovered Metric fetching Err while attaching data MetricFetchE(message=\"DataFrame from curve series is empty\"). Ignoring for now -- will retry query on next call to fetch.\n"
     ]
    },
    {
     "name": "stderr",
     "output_type": "stream",
     "text": [
      "[WARNING 03-01 18:05:22] Scheduler: Failed to fetch val_acc for trial 0, found MetricFetchE(message=\"DataFrame from curve series is empty\").\n"
     ]
    },
    {
     "name": "stderr",
     "output_type": "stream",
     "text": [
      "[INFO 03-01 18:05:22] Scheduler: MetricFetchE INFO: Because val_acc is available_while_running and trial 0 is still RUNNING continuing the experiment and retrying on next poll...\n"
     ]
    },
    {
     "name": "stderr",
     "output_type": "stream",
     "text": [
      "[WARNING 03-01 18:05:22] Scheduler: Failed to fetch val_acc for trial 1, found MetricFetchE(message=\"DataFrame from curve series is empty\").\n"
     ]
    },
    {
     "name": "stderr",
     "output_type": "stream",
     "text": [
      "[INFO 03-01 18:05:22] Scheduler: MetricFetchE INFO: Because val_acc is available_while_running and trial 1 is still RUNNING continuing the experiment and retrying on next poll...\n"
     ]
    },
    {
     "name": "stderr",
     "output_type": "stream",
     "text": [
      "[WARNING 03-01 18:05:22] Scheduler: Failed to fetch val_acc for trial 2, found MetricFetchE(message=\"DataFrame from curve series is empty\").\n"
     ]
    },
    {
     "name": "stderr",
     "output_type": "stream",
     "text": [
      "[INFO 03-01 18:05:22] Scheduler: MetricFetchE INFO: Because val_acc is available_while_running and trial 2 is still RUNNING continuing the experiment and retrying on next poll...\n"
     ]
    },
    {
     "name": "stderr",
     "output_type": "stream",
     "text": [
      "[WARNING 03-01 18:05:22] Scheduler: Failed to fetch val_acc for trial 3, found MetricFetchE(message=\"DataFrame from curve series is empty\").\n"
     ]
    },
    {
     "name": "stderr",
     "output_type": "stream",
     "text": [
      "[INFO 03-01 18:05:22] Scheduler: MetricFetchE INFO: Because val_acc is available_while_running and trial 3 is still RUNNING continuing the experiment and retrying on next poll...\n"
     ]
    },
    {
     "name": "stderr",
     "output_type": "stream",
     "text": [
      "[WARNING 03-01 18:05:22] Scheduler: Failed to fetch val_acc for trial 4, found MetricFetchE(message=\"DataFrame from curve series is empty\").\n"
     ]
    },
    {
     "name": "stderr",
     "output_type": "stream",
     "text": [
      "[INFO 03-01 18:05:22] Scheduler: MetricFetchE INFO: Because val_acc is available_while_running and trial 4 is still RUNNING continuing the experiment and retrying on next poll...\n"
     ]
    },
    {
     "name": "stderr",
     "output_type": "stream",
     "text": [
      "[INFO 03-01 18:05:22] ax.early_stopping.strategies.base: PercentileEarlyStoppingStrategy received empty data. Not stopping any trials.\n"
     ]
    },
    {
     "name": "stderr",
     "output_type": "stream",
     "text": [
      "[INFO 03-01 18:05:22] Scheduler: Waiting for completed trials (for 10 sec, currently running trials: 5).\n"
     ]
    },
    {
     "name": "stderr",
     "output_type": "stream",
     "text": [
      "[INFO 03-01 18:05:32] Scheduler: Fetching data for newly completed trials: [].\n"
     ]
    },
    {
     "name": "stderr",
     "output_type": "stream",
     "text": [
      "[INFO 03-01 18:05:32] Scheduler: Fetching data for trials: 0 - 4 because some metrics on experiment are available while trials are running.\n"
     ]
    },
    {
     "name": "stderr",
     "output_type": "stream",
     "text": [
      "[INFO 03-01 18:05:32] ax.metrics.curve: val_acc not yet present in curves from /tmp/tmp3o86bad6/0. Returning without this metric.\n"
     ]
    },
    {
     "name": "stderr",
     "output_type": "stream",
     "text": [
      "[INFO 03-01 18:05:32] ax.metrics.curve: val_acc not yet present in curves from /tmp/tmp3o86bad6/1. Returning without this metric.\n"
     ]
    },
    {
     "name": "stderr",
     "output_type": "stream",
     "text": [
      "[INFO 03-01 18:05:32] ax.metrics.curve: val_acc not yet present in curves from /tmp/tmp3o86bad6/2. Returning without this metric.\n"
     ]
    },
    {
     "name": "stderr",
     "output_type": "stream",
     "text": [
      "[INFO 03-01 18:05:32] ax.metrics.curve: val_acc not yet present in curves from /tmp/tmp3o86bad6/3. Returning without this metric.\n"
     ]
    },
    {
     "name": "stderr",
     "output_type": "stream",
     "text": [
      "[INFO 03-01 18:05:32] ax.metrics.curve: val_acc not yet present in curves from /tmp/tmp3o86bad6/4. Returning without this metric.\n"
     ]
    },
    {
     "name": "stderr",
     "output_type": "stream",
     "text": [
      "[INFO 03-01 18:05:32] ax.core.metric: MetricFetchE INFO: Initialized MetricFetchE(message=\"DataFrame from curve series is empty\")\n"
     ]
    },
    {
     "name": "stderr",
     "output_type": "stream",
     "text": [
      "[INFO 03-01 18:05:32] ax.core.metric: MetricFetchE INFO: Initialized MetricFetchE(message=\"DataFrame from curve series is empty\")\n"
     ]
    },
    {
     "name": "stderr",
     "output_type": "stream",
     "text": [
      "[INFO 03-01 18:05:32] ax.core.metric: MetricFetchE INFO: Initialized MetricFetchE(message=\"DataFrame from curve series is empty\")\n"
     ]
    },
    {
     "name": "stderr",
     "output_type": "stream",
     "text": [
      "[INFO 03-01 18:05:32] ax.core.metric: MetricFetchE INFO: Initialized MetricFetchE(message=\"DataFrame from curve series is empty\")\n"
     ]
    },
    {
     "name": "stderr",
     "output_type": "stream",
     "text": [
      "[INFO 03-01 18:05:32] ax.core.metric: MetricFetchE INFO: Initialized MetricFetchE(message=\"DataFrame from curve series is empty\")\n"
     ]
    },
    {
     "name": "stderr",
     "output_type": "stream",
     "text": [
      "[ERROR 03-01 18:05:32] ax.core.experiment: Discovered Metric fetching Err while attaching data MetricFetchE(message=\"DataFrame from curve series is empty\"). Ignoring for now -- will retry query on next call to fetch.\n"
     ]
    },
    {
     "name": "stderr",
     "output_type": "stream",
     "text": [
      "[ERROR 03-01 18:05:32] ax.core.experiment: Discovered Metric fetching Err while attaching data MetricFetchE(message=\"DataFrame from curve series is empty\"). Ignoring for now -- will retry query on next call to fetch.\n"
     ]
    },
    {
     "name": "stderr",
     "output_type": "stream",
     "text": [
      "[ERROR 03-01 18:05:32] ax.core.experiment: Discovered Metric fetching Err while attaching data MetricFetchE(message=\"DataFrame from curve series is empty\"). Ignoring for now -- will retry query on next call to fetch.\n"
     ]
    },
    {
     "name": "stderr",
     "output_type": "stream",
     "text": [
      "[ERROR 03-01 18:05:32] ax.core.experiment: Discovered Metric fetching Err while attaching data MetricFetchE(message=\"DataFrame from curve series is empty\"). Ignoring for now -- will retry query on next call to fetch.\n"
     ]
    },
    {
     "name": "stderr",
     "output_type": "stream",
     "text": [
      "[ERROR 03-01 18:05:32] ax.core.experiment: Discovered Metric fetching Err while attaching data MetricFetchE(message=\"DataFrame from curve series is empty\"). Ignoring for now -- will retry query on next call to fetch.\n"
     ]
    },
    {
     "name": "stderr",
     "output_type": "stream",
     "text": [
      "[WARNING 03-01 18:05:32] Scheduler: Failed to fetch val_acc for trial 0, found MetricFetchE(message=\"DataFrame from curve series is empty\").\n"
     ]
    },
    {
     "name": "stderr",
     "output_type": "stream",
     "text": [
      "[INFO 03-01 18:05:32] Scheduler: MetricFetchE INFO: Because val_acc is available_while_running and trial 0 is still RUNNING continuing the experiment and retrying on next poll...\n"
     ]
    },
    {
     "name": "stderr",
     "output_type": "stream",
     "text": [
      "[WARNING 03-01 18:05:32] Scheduler: Failed to fetch val_acc for trial 1, found MetricFetchE(message=\"DataFrame from curve series is empty\").\n"
     ]
    },
    {
     "name": "stderr",
     "output_type": "stream",
     "text": [
      "[INFO 03-01 18:05:32] Scheduler: MetricFetchE INFO: Because val_acc is available_while_running and trial 1 is still RUNNING continuing the experiment and retrying on next poll...\n"
     ]
    },
    {
     "name": "stderr",
     "output_type": "stream",
     "text": [
      "[WARNING 03-01 18:05:32] Scheduler: Failed to fetch val_acc for trial 2, found MetricFetchE(message=\"DataFrame from curve series is empty\").\n"
     ]
    },
    {
     "name": "stderr",
     "output_type": "stream",
     "text": [
      "[INFO 03-01 18:05:32] Scheduler: MetricFetchE INFO: Because val_acc is available_while_running and trial 2 is still RUNNING continuing the experiment and retrying on next poll...\n"
     ]
    },
    {
     "name": "stderr",
     "output_type": "stream",
     "text": [
      "[WARNING 03-01 18:05:32] Scheduler: Failed to fetch val_acc for trial 3, found MetricFetchE(message=\"DataFrame from curve series is empty\").\n"
     ]
    },
    {
     "name": "stderr",
     "output_type": "stream",
     "text": [
      "[INFO 03-01 18:05:32] Scheduler: MetricFetchE INFO: Because val_acc is available_while_running and trial 3 is still RUNNING continuing the experiment and retrying on next poll...\n"
     ]
    },
    {
     "name": "stderr",
     "output_type": "stream",
     "text": [
      "[WARNING 03-01 18:05:32] Scheduler: Failed to fetch val_acc for trial 4, found MetricFetchE(message=\"DataFrame from curve series is empty\").\n"
     ]
    },
    {
     "name": "stderr",
     "output_type": "stream",
     "text": [
      "[INFO 03-01 18:05:32] Scheduler: MetricFetchE INFO: Because val_acc is available_while_running and trial 4 is still RUNNING continuing the experiment and retrying on next poll...\n"
     ]
    },
    {
     "name": "stderr",
     "output_type": "stream",
     "text": [
      "[INFO 03-01 18:05:32] ax.early_stopping.strategies.base: PercentileEarlyStoppingStrategy received empty data. Not stopping any trials.\n"
     ]
    },
    {
     "name": "stderr",
     "output_type": "stream",
     "text": [
      "[INFO 03-01 18:05:32] Scheduler: Waiting for completed trials (for 10 sec, currently running trials: 5).\n"
     ]
    },
    {
     "name": "stderr",
     "output_type": "stream",
     "text": [
      "[INFO 03-01 18:05:42] Scheduler: Fetching data for newly completed trials: [].\n"
     ]
    },
    {
     "name": "stderr",
     "output_type": "stream",
     "text": [
      "[INFO 03-01 18:05:42] Scheduler: Fetching data for trials: 0 - 4 because some metrics on experiment are available while trials are running.\n"
     ]
    },
    {
     "name": "stderr",
     "output_type": "stream",
     "text": [
      "[INFO 03-01 18:05:43] ax.metrics.curve: val_acc not yet present in curves from /tmp/tmp3o86bad6/0. Returning without this metric.\n"
     ]
    },
    {
     "name": "stderr",
     "output_type": "stream",
     "text": [
      "[INFO 03-01 18:05:43] ax.metrics.curve: val_acc not yet present in curves from /tmp/tmp3o86bad6/1. Returning without this metric.\n"
     ]
    },
    {
     "name": "stderr",
     "output_type": "stream",
     "text": [
      "[INFO 03-01 18:05:43] ax.metrics.curve: val_acc not yet present in curves from /tmp/tmp3o86bad6/2. Returning without this metric.\n"
     ]
    },
    {
     "name": "stderr",
     "output_type": "stream",
     "text": [
      "[INFO 03-01 18:05:43] ax.metrics.curve: val_acc not yet present in curves from /tmp/tmp3o86bad6/3. Returning without this metric.\n"
     ]
    },
    {
     "name": "stderr",
     "output_type": "stream",
     "text": [
      "[INFO 03-01 18:05:43] ax.metrics.curve: val_acc not yet present in curves from /tmp/tmp3o86bad6/4. Returning without this metric.\n"
     ]
    },
    {
     "name": "stderr",
     "output_type": "stream",
     "text": [
      "[INFO 03-01 18:05:43] ax.core.metric: MetricFetchE INFO: Initialized MetricFetchE(message=\"DataFrame from curve series is empty\")\n"
     ]
    },
    {
     "name": "stderr",
     "output_type": "stream",
     "text": [
      "[INFO 03-01 18:05:43] ax.core.metric: MetricFetchE INFO: Initialized MetricFetchE(message=\"DataFrame from curve series is empty\")\n"
     ]
    },
    {
     "name": "stderr",
     "output_type": "stream",
     "text": [
      "[INFO 03-01 18:05:43] ax.core.metric: MetricFetchE INFO: Initialized MetricFetchE(message=\"DataFrame from curve series is empty\")\n"
     ]
    },
    {
     "name": "stderr",
     "output_type": "stream",
     "text": [
      "[INFO 03-01 18:05:43] ax.core.metric: MetricFetchE INFO: Initialized MetricFetchE(message=\"DataFrame from curve series is empty\")\n"
     ]
    },
    {
     "name": "stderr",
     "output_type": "stream",
     "text": [
      "[INFO 03-01 18:05:43] ax.core.metric: MetricFetchE INFO: Initialized MetricFetchE(message=\"DataFrame from curve series is empty\")\n"
     ]
    },
    {
     "name": "stderr",
     "output_type": "stream",
     "text": [
      "[ERROR 03-01 18:05:43] ax.core.experiment: Discovered Metric fetching Err while attaching data MetricFetchE(message=\"DataFrame from curve series is empty\"). Ignoring for now -- will retry query on next call to fetch.\n"
     ]
    },
    {
     "name": "stderr",
     "output_type": "stream",
     "text": [
      "[ERROR 03-01 18:05:43] ax.core.experiment: Discovered Metric fetching Err while attaching data MetricFetchE(message=\"DataFrame from curve series is empty\"). Ignoring for now -- will retry query on next call to fetch.\n"
     ]
    },
    {
     "name": "stderr",
     "output_type": "stream",
     "text": [
      "[ERROR 03-01 18:05:43] ax.core.experiment: Discovered Metric fetching Err while attaching data MetricFetchE(message=\"DataFrame from curve series is empty\"). Ignoring for now -- will retry query on next call to fetch.\n"
     ]
    },
    {
     "name": "stderr",
     "output_type": "stream",
     "text": [
      "[ERROR 03-01 18:05:43] ax.core.experiment: Discovered Metric fetching Err while attaching data MetricFetchE(message=\"DataFrame from curve series is empty\"). Ignoring for now -- will retry query on next call to fetch.\n"
     ]
    },
    {
     "name": "stderr",
     "output_type": "stream",
     "text": [
      "[ERROR 03-01 18:05:43] ax.core.experiment: Discovered Metric fetching Err while attaching data MetricFetchE(message=\"DataFrame from curve series is empty\"). Ignoring for now -- will retry query on next call to fetch.\n"
     ]
    },
    {
     "name": "stderr",
     "output_type": "stream",
     "text": [
      "[WARNING 03-01 18:05:43] Scheduler: Failed to fetch val_acc for trial 0, found MetricFetchE(message=\"DataFrame from curve series is empty\").\n"
     ]
    },
    {
     "name": "stderr",
     "output_type": "stream",
     "text": [
      "[INFO 03-01 18:05:43] Scheduler: MetricFetchE INFO: Because val_acc is available_while_running and trial 0 is still RUNNING continuing the experiment and retrying on next poll...\n"
     ]
    },
    {
     "name": "stderr",
     "output_type": "stream",
     "text": [
      "[WARNING 03-01 18:05:43] Scheduler: Failed to fetch val_acc for trial 1, found MetricFetchE(message=\"DataFrame from curve series is empty\").\n"
     ]
    },
    {
     "name": "stderr",
     "output_type": "stream",
     "text": [
      "[INFO 03-01 18:05:43] Scheduler: MetricFetchE INFO: Because val_acc is available_while_running and trial 1 is still RUNNING continuing the experiment and retrying on next poll...\n"
     ]
    },
    {
     "name": "stderr",
     "output_type": "stream",
     "text": [
      "[WARNING 03-01 18:05:43] Scheduler: Failed to fetch val_acc for trial 2, found MetricFetchE(message=\"DataFrame from curve series is empty\").\n"
     ]
    },
    {
     "name": "stderr",
     "output_type": "stream",
     "text": [
      "[INFO 03-01 18:05:43] Scheduler: MetricFetchE INFO: Because val_acc is available_while_running and trial 2 is still RUNNING continuing the experiment and retrying on next poll...\n"
     ]
    },
    {
     "name": "stderr",
     "output_type": "stream",
     "text": [
      "[WARNING 03-01 18:05:43] Scheduler: Failed to fetch val_acc for trial 3, found MetricFetchE(message=\"DataFrame from curve series is empty\").\n"
     ]
    },
    {
     "name": "stderr",
     "output_type": "stream",
     "text": [
      "[INFO 03-01 18:05:43] Scheduler: MetricFetchE INFO: Because val_acc is available_while_running and trial 3 is still RUNNING continuing the experiment and retrying on next poll...\n"
     ]
    },
    {
     "name": "stderr",
     "output_type": "stream",
     "text": [
      "[WARNING 03-01 18:05:43] Scheduler: Failed to fetch val_acc for trial 4, found MetricFetchE(message=\"DataFrame from curve series is empty\").\n"
     ]
    },
    {
     "name": "stderr",
     "output_type": "stream",
     "text": [
      "[INFO 03-01 18:05:43] Scheduler: MetricFetchE INFO: Because val_acc is available_while_running and trial 4 is still RUNNING continuing the experiment and retrying on next poll...\n"
     ]
    },
    {
     "name": "stderr",
     "output_type": "stream",
     "text": [
      "[INFO 03-01 18:05:43] ax.early_stopping.strategies.base: PercentileEarlyStoppingStrategy received empty data. Not stopping any trials.\n"
     ]
    },
    {
     "name": "stderr",
     "output_type": "stream",
     "text": [
      "[INFO 03-01 18:05:43] Scheduler: Waiting for completed trials (for 10 sec, currently running trials: 5).\n"
     ]
    },
    {
     "name": "stderr",
     "output_type": "stream",
     "text": [
      "[INFO 03-01 18:05:53] Scheduler: Fetching data for newly completed trials: [].\n"
     ]
    },
    {
     "name": "stderr",
     "output_type": "stream",
     "text": [
      "[INFO 03-01 18:05:53] Scheduler: Fetching data for trials: 0 - 4 because some metrics on experiment are available while trials are running.\n"
     ]
    },
    {
     "name": "stderr",
     "output_type": "stream",
     "text": [
      "[INFO 03-01 18:05:53] ax.metrics.curve: val_acc not yet present in curves from /tmp/tmp3o86bad6/0. Returning without this metric.\n"
     ]
    },
    {
     "name": "stderr",
     "output_type": "stream",
     "text": [
      "[INFO 03-01 18:05:53] ax.metrics.curve: val_acc not yet present in curves from /tmp/tmp3o86bad6/1. Returning without this metric.\n"
     ]
    },
    {
     "name": "stderr",
     "output_type": "stream",
     "text": [
      "[INFO 03-01 18:05:53] ax.metrics.curve: val_acc not yet present in curves from /tmp/tmp3o86bad6/2. Returning without this metric.\n"
     ]
    },
    {
     "name": "stderr",
     "output_type": "stream",
     "text": [
      "[INFO 03-01 18:05:53] ax.metrics.curve: val_acc not yet present in curves from /tmp/tmp3o86bad6/3. Returning without this metric.\n"
     ]
    },
    {
     "name": "stderr",
     "output_type": "stream",
     "text": [
      "[INFO 03-01 18:05:53] ax.metrics.curve: val_acc not yet present in curves from /tmp/tmp3o86bad6/4. Returning without this metric.\n"
     ]
    },
    {
     "name": "stderr",
     "output_type": "stream",
     "text": [
      "[INFO 03-01 18:05:53] ax.core.metric: MetricFetchE INFO: Initialized MetricFetchE(message=\"DataFrame from curve series is empty\")\n"
     ]
    },
    {
     "name": "stderr",
     "output_type": "stream",
     "text": [
      "[INFO 03-01 18:05:53] ax.core.metric: MetricFetchE INFO: Initialized MetricFetchE(message=\"DataFrame from curve series is empty\")\n"
     ]
    },
    {
     "name": "stderr",
     "output_type": "stream",
     "text": [
      "[INFO 03-01 18:05:53] ax.core.metric: MetricFetchE INFO: Initialized MetricFetchE(message=\"DataFrame from curve series is empty\")\n"
     ]
    },
    {
     "name": "stderr",
     "output_type": "stream",
     "text": [
      "[INFO 03-01 18:05:53] ax.core.metric: MetricFetchE INFO: Initialized MetricFetchE(message=\"DataFrame from curve series is empty\")\n"
     ]
    },
    {
     "name": "stderr",
     "output_type": "stream",
     "text": [
      "[INFO 03-01 18:05:53] ax.core.metric: MetricFetchE INFO: Initialized MetricFetchE(message=\"DataFrame from curve series is empty\")\n"
     ]
    },
    {
     "name": "stderr",
     "output_type": "stream",
     "text": [
      "[ERROR 03-01 18:05:53] ax.core.experiment: Discovered Metric fetching Err while attaching data MetricFetchE(message=\"DataFrame from curve series is empty\"). Ignoring for now -- will retry query on next call to fetch.\n"
     ]
    },
    {
     "name": "stderr",
     "output_type": "stream",
     "text": [
      "[ERROR 03-01 18:05:53] ax.core.experiment: Discovered Metric fetching Err while attaching data MetricFetchE(message=\"DataFrame from curve series is empty\"). Ignoring for now -- will retry query on next call to fetch.\n"
     ]
    },
    {
     "name": "stderr",
     "output_type": "stream",
     "text": [
      "[ERROR 03-01 18:05:53] ax.core.experiment: Discovered Metric fetching Err while attaching data MetricFetchE(message=\"DataFrame from curve series is empty\"). Ignoring for now -- will retry query on next call to fetch.\n"
     ]
    },
    {
     "name": "stderr",
     "output_type": "stream",
     "text": [
      "[ERROR 03-01 18:05:53] ax.core.experiment: Discovered Metric fetching Err while attaching data MetricFetchE(message=\"DataFrame from curve series is empty\"). Ignoring for now -- will retry query on next call to fetch.\n"
     ]
    },
    {
     "name": "stderr",
     "output_type": "stream",
     "text": [
      "[ERROR 03-01 18:05:53] ax.core.experiment: Discovered Metric fetching Err while attaching data MetricFetchE(message=\"DataFrame from curve series is empty\"). Ignoring for now -- will retry query on next call to fetch.\n"
     ]
    },
    {
     "name": "stderr",
     "output_type": "stream",
     "text": [
      "[WARNING 03-01 18:05:53] Scheduler: Failed to fetch val_acc for trial 0, found MetricFetchE(message=\"DataFrame from curve series is empty\").\n"
     ]
    },
    {
     "name": "stderr",
     "output_type": "stream",
     "text": [
      "[INFO 03-01 18:05:53] Scheduler: MetricFetchE INFO: Because val_acc is available_while_running and trial 0 is still RUNNING continuing the experiment and retrying on next poll...\n"
     ]
    },
    {
     "name": "stderr",
     "output_type": "stream",
     "text": [
      "[WARNING 03-01 18:05:53] Scheduler: Failed to fetch val_acc for trial 1, found MetricFetchE(message=\"DataFrame from curve series is empty\").\n"
     ]
    },
    {
     "name": "stderr",
     "output_type": "stream",
     "text": [
      "[INFO 03-01 18:05:53] Scheduler: MetricFetchE INFO: Because val_acc is available_while_running and trial 1 is still RUNNING continuing the experiment and retrying on next poll...\n"
     ]
    },
    {
     "name": "stderr",
     "output_type": "stream",
     "text": [
      "[WARNING 03-01 18:05:53] Scheduler: Failed to fetch val_acc for trial 2, found MetricFetchE(message=\"DataFrame from curve series is empty\").\n"
     ]
    },
    {
     "name": "stderr",
     "output_type": "stream",
     "text": [
      "[INFO 03-01 18:05:53] Scheduler: MetricFetchE INFO: Because val_acc is available_while_running and trial 2 is still RUNNING continuing the experiment and retrying on next poll...\n"
     ]
    },
    {
     "name": "stderr",
     "output_type": "stream",
     "text": [
      "[WARNING 03-01 18:05:53] Scheduler: Failed to fetch val_acc for trial 3, found MetricFetchE(message=\"DataFrame from curve series is empty\").\n"
     ]
    },
    {
     "name": "stderr",
     "output_type": "stream",
     "text": [
      "[INFO 03-01 18:05:53] Scheduler: MetricFetchE INFO: Because val_acc is available_while_running and trial 3 is still RUNNING continuing the experiment and retrying on next poll...\n"
     ]
    },
    {
     "name": "stderr",
     "output_type": "stream",
     "text": [
      "[WARNING 03-01 18:05:53] Scheduler: Failed to fetch val_acc for trial 4, found MetricFetchE(message=\"DataFrame from curve series is empty\").\n"
     ]
    },
    {
     "name": "stderr",
     "output_type": "stream",
     "text": [
      "[INFO 03-01 18:05:53] Scheduler: MetricFetchE INFO: Because val_acc is available_while_running and trial 4 is still RUNNING continuing the experiment and retrying on next poll...\n"
     ]
    },
    {
     "name": "stderr",
     "output_type": "stream",
     "text": [
      "[INFO 03-01 18:05:53] ax.early_stopping.strategies.base: PercentileEarlyStoppingStrategy received empty data. Not stopping any trials.\n"
     ]
    },
    {
     "name": "stderr",
     "output_type": "stream",
     "text": [
      "[INFO 03-01 18:05:53] Scheduler: Waiting for completed trials (for 10 sec, currently running trials: 5).\n"
     ]
    },
    {
     "name": "stderr",
     "output_type": "stream",
     "text": [
      "[INFO 03-01 18:06:03] Scheduler: Fetching data for newly completed trials: [].\n"
     ]
    },
    {
     "name": "stderr",
     "output_type": "stream",
     "text": [
      "[INFO 03-01 18:06:03] Scheduler: Fetching data for trials: 0 - 4 because some metrics on experiment are available while trials are running.\n"
     ]
    },
    {
     "name": "stderr",
     "output_type": "stream",
     "text": [
      "[INFO 03-01 18:06:03] ax.metrics.curve: val_acc not yet present in curves from /tmp/tmp3o86bad6/0. Returning without this metric.\n"
     ]
    },
    {
     "name": "stderr",
     "output_type": "stream",
     "text": [
      "[INFO 03-01 18:06:03] ax.metrics.curve: val_acc not yet present in curves from /tmp/tmp3o86bad6/2. Returning without this metric.\n"
     ]
    },
    {
     "name": "stderr",
     "output_type": "stream",
     "text": [
      "[INFO 03-01 18:06:03] ax.metrics.curve: val_acc not yet present in curves from /tmp/tmp3o86bad6/3. Returning without this metric.\n"
     ]
    },
    {
     "name": "stderr",
     "output_type": "stream",
     "text": [
      "[INFO 03-01 18:06:03] ax.metrics.curve: val_acc not yet present in curves from /tmp/tmp3o86bad6/4. Returning without this metric.\n"
     ]
    },
    {
     "name": "stderr",
     "output_type": "stream",
     "text": [
      "/tmp/tmp.KbiES6I0qN/Ax-main/ax/core/map_data.py:188: FutureWarning: The behavior of DataFrame concatenation with empty or all-NA entries is deprecated. In a future version, this will no longer exclude empty or all-NA columns when determining the result dtypes. To retain the old behavior, exclude the relevant entries before the concat operation.\n",
      "  df = pd.concat(\n"
     ]
    },
    {
     "name": "stderr",
     "output_type": "stream",
     "text": [
      "/tmp/tmp.KbiES6I0qN/Ax-main/ax/core/map_data.py:188: FutureWarning: The behavior of DataFrame concatenation with empty or all-NA entries is deprecated. In a future version, this will no longer exclude empty or all-NA columns when determining the result dtypes. To retain the old behavior, exclude the relevant entries before the concat operation.\n",
      "  df = pd.concat(\n",
      "[INFO 03-01 18:06:03] ax.early_stopping.strategies.base: The number of completed trials (0) is less than the minimum number of curves needed for early stopping (5). Not early stopping.\n"
     ]
    },
    {
     "name": "stderr",
     "output_type": "stream",
     "text": [
      "[INFO 03-01 18:06:03] Scheduler: Waiting for completed trials (for 10 sec, currently running trials: 5).\n"
     ]
    },
    {
     "name": "stderr",
     "output_type": "stream",
     "text": [
      "[INFO 03-01 18:06:13] Scheduler: Fetching data for newly completed trials: [].\n"
     ]
    },
    {
     "name": "stderr",
     "output_type": "stream",
     "text": [
      "[INFO 03-01 18:06:13] Scheduler: Fetching data for trials: 0 - 4 because some metrics on experiment are available while trials are running.\n"
     ]
    },
    {
     "name": "stderr",
     "output_type": "stream",
     "text": [
      "[INFO 03-01 18:06:13] ax.metrics.curve: val_acc not yet present in curves from /tmp/tmp3o86bad6/0. Returning without this metric.\n"
     ]
    },
    {
     "name": "stderr",
     "output_type": "stream",
     "text": [
      "[INFO 03-01 18:06:13] ax.metrics.curve: val_acc not yet present in curves from /tmp/tmp3o86bad6/2. Returning without this metric.\n"
     ]
    },
    {
     "name": "stderr",
     "output_type": "stream",
     "text": [
      "[INFO 03-01 18:06:13] ax.metrics.curve: val_acc not yet present in curves from /tmp/tmp3o86bad6/3. Returning without this metric.\n"
     ]
    },
    {
     "name": "stderr",
     "output_type": "stream",
     "text": [
      "[INFO 03-01 18:06:13] ax.metrics.curve: val_acc not yet present in curves from /tmp/tmp3o86bad6/4. Returning without this metric.\n"
     ]
    },
    {
     "name": "stderr",
     "output_type": "stream",
     "text": [
      "/tmp/tmp.KbiES6I0qN/Ax-main/ax/core/map_data.py:188: FutureWarning: The behavior of DataFrame concatenation with empty or all-NA entries is deprecated. In a future version, this will no longer exclude empty or all-NA columns when determining the result dtypes. To retain the old behavior, exclude the relevant entries before the concat operation.\n",
      "  df = pd.concat(\n",
      "/tmp/tmp.KbiES6I0qN/Ax-main/ax/core/map_data.py:188: FutureWarning: The behavior of DataFrame concatenation with empty or all-NA entries is deprecated. In a future version, this will no longer exclude empty or all-NA columns when determining the result dtypes. To retain the old behavior, exclude the relevant entries before the concat operation.\n",
      "  df = pd.concat(\n",
      "[INFO 03-01 18:06:13] ax.early_stopping.strategies.base: The number of completed trials (0) is less than the minimum number of curves needed for early stopping (5). Not early stopping.\n"
     ]
    },
    {
     "name": "stderr",
     "output_type": "stream",
     "text": [
      "[INFO 03-01 18:06:13] Scheduler: Waiting for completed trials (for 10 sec, currently running trials: 5).\n"
     ]
    },
    {
     "name": "stderr",
     "output_type": "stream",
     "text": [
      "[INFO 03-01 18:06:23] Scheduler: Fetching data for newly completed trials: [].\n"
     ]
    },
    {
     "name": "stderr",
     "output_type": "stream",
     "text": [
      "[INFO 03-01 18:06:23] Scheduler: Fetching data for trials: 0 - 4 because some metrics on experiment are available while trials are running.\n"
     ]
    },
    {
     "name": "stderr",
     "output_type": "stream",
     "text": [
      "[INFO 03-01 18:06:23] ax.metrics.curve: val_acc not yet present in curves from /tmp/tmp3o86bad6/0. Returning without this metric.\n"
     ]
    },
    {
     "name": "stderr",
     "output_type": "stream",
     "text": [
      "[INFO 03-01 18:06:23] ax.metrics.curve: val_acc not yet present in curves from /tmp/tmp3o86bad6/4. Returning without this metric.\n"
     ]
    },
    {
     "name": "stderr",
     "output_type": "stream",
     "text": [
      "/tmp/tmp.KbiES6I0qN/Ax-main/ax/core/map_data.py:188: FutureWarning: The behavior of DataFrame concatenation with empty or all-NA entries is deprecated. In a future version, this will no longer exclude empty or all-NA columns when determining the result dtypes. To retain the old behavior, exclude the relevant entries before the concat operation.\n",
      "  df = pd.concat(\n"
     ]
    },
    {
     "name": "stderr",
     "output_type": "stream",
     "text": [
      "/tmp/tmp.KbiES6I0qN/Ax-main/ax/core/map_data.py:188: FutureWarning: The behavior of DataFrame concatenation with empty or all-NA entries is deprecated. In a future version, this will no longer exclude empty or all-NA columns when determining the result dtypes. To retain the old behavior, exclude the relevant entries before the concat operation.\n",
      "  df = pd.concat(\n",
      "[INFO 03-01 18:06:23] ax.early_stopping.strategies.base: The number of completed trials (0) is less than the minimum number of curves needed for early stopping (5). Not early stopping.\n"
     ]
    },
    {
     "name": "stderr",
     "output_type": "stream",
     "text": [
      "[INFO 03-01 18:06:23] Scheduler: Waiting for completed trials (for 10 sec, currently running trials: 5).\n"
     ]
    },
    {
     "name": "stderr",
     "output_type": "stream",
     "text": [
      "[INFO 03-01 18:06:33] Scheduler: Fetching data for newly completed trials: [].\n"
     ]
    },
    {
     "name": "stderr",
     "output_type": "stream",
     "text": [
      "[INFO 03-01 18:06:33] Scheduler: Fetching data for trials: 0 - 4 because some metrics on experiment are available while trials are running.\n"
     ]
    },
    {
     "name": "stderr",
     "output_type": "stream",
     "text": [
      "[INFO 03-01 18:06:34] ax.metrics.curve: val_acc not yet present in curves from /tmp/tmp3o86bad6/4. Returning without this metric.\n"
     ]
    },
    {
     "name": "stderr",
     "output_type": "stream",
     "text": [
      "/tmp/tmp.KbiES6I0qN/Ax-main/ax/core/map_data.py:188: FutureWarning: The behavior of DataFrame concatenation with empty or all-NA entries is deprecated. In a future version, this will no longer exclude empty or all-NA columns when determining the result dtypes. To retain the old behavior, exclude the relevant entries before the concat operation.\n",
      "  df = pd.concat(\n"
     ]
    },
    {
     "name": "stderr",
     "output_type": "stream",
     "text": [
      "/tmp/tmp.KbiES6I0qN/Ax-main/ax/core/map_data.py:188: FutureWarning: The behavior of DataFrame concatenation with empty or all-NA entries is deprecated. In a future version, this will no longer exclude empty or all-NA columns when determining the result dtypes. To retain the old behavior, exclude the relevant entries before the concat operation.\n",
      "  df = pd.concat(\n",
      "[INFO 03-01 18:06:34] ax.early_stopping.strategies.base: The number of completed trials (0) is less than the minimum number of curves needed for early stopping (5). Not early stopping.\n"
     ]
    },
    {
     "name": "stderr",
     "output_type": "stream",
     "text": [
      "[INFO 03-01 18:06:34] Scheduler: Waiting for completed trials (for 10 sec, currently running trials: 5).\n"
     ]
    },
    {
     "name": "stderr",
     "output_type": "stream",
     "text": [
      "[INFO 03-01 18:06:44] Scheduler: Fetching data for newly completed trials: [].\n"
     ]
    },
    {
     "name": "stderr",
     "output_type": "stream",
     "text": [
      "[INFO 03-01 18:06:44] Scheduler: Fetching data for trials: 0 - 4 because some metrics on experiment are available while trials are running.\n"
     ]
    },
    {
     "name": "stderr",
     "output_type": "stream",
     "text": [
      "/tmp/tmp.KbiES6I0qN/Ax-main/ax/core/map_data.py:188: FutureWarning: The behavior of DataFrame concatenation with empty or all-NA entries is deprecated. In a future version, this will no longer exclude empty or all-NA columns when determining the result dtypes. To retain the old behavior, exclude the relevant entries before the concat operation.\n",
      "  df = pd.concat(\n"
     ]
    },
    {
     "name": "stderr",
     "output_type": "stream",
     "text": [
      "/tmp/tmp.KbiES6I0qN/Ax-main/ax/core/map_data.py:188: FutureWarning: The behavior of DataFrame concatenation with empty or all-NA entries is deprecated. In a future version, this will no longer exclude empty or all-NA columns when determining the result dtypes. To retain the old behavior, exclude the relevant entries before the concat operation.\n",
      "  df = pd.concat(\n",
      "[INFO 03-01 18:06:44] ax.early_stopping.strategies.base: The number of completed trials (0) is less than the minimum number of curves needed for early stopping (5). Not early stopping.\n"
     ]
    },
    {
     "name": "stderr",
     "output_type": "stream",
     "text": [
      "[INFO 03-01 18:06:44] Scheduler: Waiting for completed trials (for 10 sec, currently running trials: 5).\n"
     ]
    },
    {
     "name": "stderr",
     "output_type": "stream",
     "text": [
      "[INFO 03-01 18:06:54] Scheduler: Fetching data for newly completed trials: [].\n"
     ]
    },
    {
     "name": "stderr",
     "output_type": "stream",
     "text": [
      "[INFO 03-01 18:06:54] Scheduler: Fetching data for trials: 0 - 4 because some metrics on experiment are available while trials are running.\n"
     ]
    },
    {
     "name": "stderr",
     "output_type": "stream",
     "text": [
      "/tmp/tmp.KbiES6I0qN/Ax-main/ax/core/map_data.py:188: FutureWarning: The behavior of DataFrame concatenation with empty or all-NA entries is deprecated. In a future version, this will no longer exclude empty or all-NA columns when determining the result dtypes. To retain the old behavior, exclude the relevant entries before the concat operation.\n",
      "  df = pd.concat(\n"
     ]
    },
    {
     "name": "stderr",
     "output_type": "stream",
     "text": [
      "/tmp/tmp.KbiES6I0qN/Ax-main/ax/core/map_data.py:188: FutureWarning: The behavior of DataFrame concatenation with empty or all-NA entries is deprecated. In a future version, this will no longer exclude empty or all-NA columns when determining the result dtypes. To retain the old behavior, exclude the relevant entries before the concat operation.\n",
      "  df = pd.concat(\n",
      "[INFO 03-01 18:06:54] ax.early_stopping.strategies.base: The number of completed trials (0) is less than the minimum number of curves needed for early stopping (5). Not early stopping.\n"
     ]
    },
    {
     "name": "stderr",
     "output_type": "stream",
     "text": [
      "[INFO 03-01 18:06:54] Scheduler: Waiting for completed trials (for 10 sec, currently running trials: 5).\n"
     ]
    },
    {
     "name": "stderr",
     "output_type": "stream",
     "text": [
      "[INFO 03-01 18:07:04] Scheduler: Fetching data for newly completed trials: [].\n"
     ]
    },
    {
     "name": "stderr",
     "output_type": "stream",
     "text": [
      "[INFO 03-01 18:07:04] Scheduler: Fetching data for trials: 0 - 4 because some metrics on experiment are available while trials are running.\n"
     ]
    },
    {
     "name": "stderr",
     "output_type": "stream",
     "text": [
      "/tmp/tmp.KbiES6I0qN/Ax-main/ax/core/map_data.py:188: FutureWarning: The behavior of DataFrame concatenation with empty or all-NA entries is deprecated. In a future version, this will no longer exclude empty or all-NA columns when determining the result dtypes. To retain the old behavior, exclude the relevant entries before the concat operation.\n",
      "  df = pd.concat(\n"
     ]
    },
    {
     "name": "stderr",
     "output_type": "stream",
     "text": [
      "/tmp/tmp.KbiES6I0qN/Ax-main/ax/core/map_data.py:188: FutureWarning: The behavior of DataFrame concatenation with empty or all-NA entries is deprecated. In a future version, this will no longer exclude empty or all-NA columns when determining the result dtypes. To retain the old behavior, exclude the relevant entries before the concat operation.\n",
      "  df = pd.concat(\n",
      "[INFO 03-01 18:07:05] ax.early_stopping.strategies.base: The number of completed trials (0) is less than the minimum number of curves needed for early stopping (5). Not early stopping.\n"
     ]
    },
    {
     "name": "stderr",
     "output_type": "stream",
     "text": [
      "[INFO 03-01 18:07:05] Scheduler: Waiting for completed trials (for 10 sec, currently running trials: 5).\n"
     ]
    },
    {
     "name": "stderr",
     "output_type": "stream",
     "text": [
      "[INFO 03-01 18:07:15] Scheduler: Fetching data for newly completed trials: [].\n"
     ]
    },
    {
     "name": "stderr",
     "output_type": "stream",
     "text": [
      "[INFO 03-01 18:07:15] Scheduler: Fetching data for trials: 0 - 4 because some metrics on experiment are available while trials are running.\n"
     ]
    },
    {
     "name": "stderr",
     "output_type": "stream",
     "text": [
      "/tmp/tmp.KbiES6I0qN/Ax-main/ax/core/map_data.py:188: FutureWarning: The behavior of DataFrame concatenation with empty or all-NA entries is deprecated. In a future version, this will no longer exclude empty or all-NA columns when determining the result dtypes. To retain the old behavior, exclude the relevant entries before the concat operation.\n",
      "  df = pd.concat(\n",
      "/tmp/tmp.KbiES6I0qN/Ax-main/ax/core/map_data.py:188: FutureWarning: The behavior of DataFrame concatenation with empty or all-NA entries is deprecated. In a future version, this will no longer exclude empty or all-NA columns when determining the result dtypes. To retain the old behavior, exclude the relevant entries before the concat operation.\n",
      "  df = pd.concat(\n",
      "[INFO 03-01 18:07:15] ax.early_stopping.strategies.base: The number of completed trials (0) is less than the minimum number of curves needed for early stopping (5). Not early stopping.\n"
     ]
    },
    {
     "name": "stderr",
     "output_type": "stream",
     "text": [
      "[INFO 03-01 18:07:15] Scheduler: Waiting for completed trials (for 10 sec, currently running trials: 5).\n"
     ]
    },
    {
     "name": "stderr",
     "output_type": "stream",
     "text": [
      "[INFO 03-01 18:07:25] Scheduler: Fetching data for newly completed trials: [].\n"
     ]
    },
    {
     "name": "stderr",
     "output_type": "stream",
     "text": [
      "[INFO 03-01 18:07:25] Scheduler: Fetching data for trials: 0 - 4 because some metrics on experiment are available while trials are running.\n"
     ]
    },
    {
     "name": "stderr",
     "output_type": "stream",
     "text": [
      "/tmp/tmp.KbiES6I0qN/Ax-main/ax/core/map_data.py:188: FutureWarning: The behavior of DataFrame concatenation with empty or all-NA entries is deprecated. In a future version, this will no longer exclude empty or all-NA columns when determining the result dtypes. To retain the old behavior, exclude the relevant entries before the concat operation.\n",
      "  df = pd.concat(\n"
     ]
    },
    {
     "name": "stderr",
     "output_type": "stream",
     "text": [
      "/tmp/tmp.KbiES6I0qN/Ax-main/ax/core/map_data.py:188: FutureWarning: The behavior of DataFrame concatenation with empty or all-NA entries is deprecated. In a future version, this will no longer exclude empty or all-NA columns when determining the result dtypes. To retain the old behavior, exclude the relevant entries before the concat operation.\n",
      "  df = pd.concat(\n",
      "[INFO 03-01 18:07:25] ax.early_stopping.strategies.base: The number of completed trials (0) is less than the minimum number of curves needed for early stopping (5). Not early stopping.\n"
     ]
    },
    {
     "name": "stderr",
     "output_type": "stream",
     "text": [
      "[INFO 03-01 18:07:25] Scheduler: Waiting for completed trials (for 10 sec, currently running trials: 5).\n"
     ]
    },
    {
     "name": "stderr",
     "output_type": "stream",
     "text": [
      "[INFO 03-01 18:07:35] Scheduler: Fetching data for newly completed trials: [].\n"
     ]
    },
    {
     "name": "stderr",
     "output_type": "stream",
     "text": [
      "[INFO 03-01 18:07:35] Scheduler: Fetching data for trials: 0 - 4 because some metrics on experiment are available while trials are running.\n"
     ]
    },
    {
     "name": "stderr",
     "output_type": "stream",
     "text": [
      "/tmp/tmp.KbiES6I0qN/Ax-main/ax/core/map_data.py:188: FutureWarning: The behavior of DataFrame concatenation with empty or all-NA entries is deprecated. In a future version, this will no longer exclude empty or all-NA columns when determining the result dtypes. To retain the old behavior, exclude the relevant entries before the concat operation.\n",
      "  df = pd.concat(\n"
     ]
    },
    {
     "name": "stderr",
     "output_type": "stream",
     "text": [
      "/tmp/tmp.KbiES6I0qN/Ax-main/ax/core/map_data.py:188: FutureWarning: The behavior of DataFrame concatenation with empty or all-NA entries is deprecated. In a future version, this will no longer exclude empty or all-NA columns when determining the result dtypes. To retain the old behavior, exclude the relevant entries before the concat operation.\n",
      "  df = pd.concat(\n",
      "[INFO 03-01 18:07:36] ax.early_stopping.strategies.base: The number of completed trials (0) is less than the minimum number of curves needed for early stopping (5). Not early stopping.\n"
     ]
    },
    {
     "name": "stderr",
     "output_type": "stream",
     "text": [
      "[INFO 03-01 18:07:36] Scheduler: Waiting for completed trials (for 10 sec, currently running trials: 5).\n"
     ]
    },
    {
     "name": "stderr",
     "output_type": "stream",
     "text": [
      "[INFO 03-01 18:07:46] Scheduler: Fetching data for newly completed trials: [].\n"
     ]
    },
    {
     "name": "stderr",
     "output_type": "stream",
     "text": [
      "[INFO 03-01 18:07:46] Scheduler: Fetching data for trials: 0 - 4 because some metrics on experiment are available while trials are running.\n"
     ]
    },
    {
     "name": "stderr",
     "output_type": "stream",
     "text": [
      "/tmp/tmp.KbiES6I0qN/Ax-main/ax/core/map_data.py:188: FutureWarning: The behavior of DataFrame concatenation with empty or all-NA entries is deprecated. In a future version, this will no longer exclude empty or all-NA columns when determining the result dtypes. To retain the old behavior, exclude the relevant entries before the concat operation.\n",
      "  df = pd.concat(\n"
     ]
    },
    {
     "name": "stderr",
     "output_type": "stream",
     "text": [
      "/tmp/tmp.KbiES6I0qN/Ax-main/ax/core/map_data.py:188: FutureWarning: The behavior of DataFrame concatenation with empty or all-NA entries is deprecated. In a future version, this will no longer exclude empty or all-NA columns when determining the result dtypes. To retain the old behavior, exclude the relevant entries before the concat operation.\n",
      "  df = pd.concat(\n",
      "[INFO 03-01 18:07:46] ax.early_stopping.strategies.base: The number of completed trials (0) is less than the minimum number of curves needed for early stopping (5). Not early stopping.\n"
     ]
    },
    {
     "name": "stderr",
     "output_type": "stream",
     "text": [
      "[INFO 03-01 18:07:46] Scheduler: Waiting for completed trials (for 10 sec, currently running trials: 5).\n"
     ]
    },
    {
     "name": "stderr",
     "output_type": "stream",
     "text": [
      "[INFO 03-01 18:07:56] Scheduler: Fetching data for newly completed trials: [].\n"
     ]
    },
    {
     "name": "stderr",
     "output_type": "stream",
     "text": [
      "[INFO 03-01 18:07:56] Scheduler: Fetching data for trials: 0 - 4 because some metrics on experiment are available while trials are running.\n"
     ]
    },
    {
     "name": "stderr",
     "output_type": "stream",
     "text": [
      "/tmp/tmp.KbiES6I0qN/Ax-main/ax/core/map_data.py:188: FutureWarning: The behavior of DataFrame concatenation with empty or all-NA entries is deprecated. In a future version, this will no longer exclude empty or all-NA columns when determining the result dtypes. To retain the old behavior, exclude the relevant entries before the concat operation.\n",
      "  df = pd.concat(\n",
      "/tmp/tmp.KbiES6I0qN/Ax-main/ax/core/map_data.py:188: FutureWarning: The behavior of DataFrame concatenation with empty or all-NA entries is deprecated. In a future version, this will no longer exclude empty or all-NA columns when determining the result dtypes. To retain the old behavior, exclude the relevant entries before the concat operation.\n",
      "  df = pd.concat(\n",
      "[INFO 03-01 18:07:56] ax.early_stopping.strategies.base: The number of completed trials (0) is less than the minimum number of curves needed for early stopping (5). Not early stopping.\n"
     ]
    },
    {
     "name": "stderr",
     "output_type": "stream",
     "text": [
      "[INFO 03-01 18:07:56] Scheduler: Waiting for completed trials (for 10 sec, currently running trials: 5).\n"
     ]
    },
    {
     "name": "stderr",
     "output_type": "stream",
     "text": [
      "[INFO 03-01 18:08:06] Scheduler: Fetching data for newly completed trials: [].\n"
     ]
    },
    {
     "name": "stderr",
     "output_type": "stream",
     "text": [
      "[INFO 03-01 18:08:06] Scheduler: Fetching data for trials: 0 - 4 because some metrics on experiment are available while trials are running.\n"
     ]
    },
    {
     "name": "stderr",
     "output_type": "stream",
     "text": [
      "/tmp/tmp.KbiES6I0qN/Ax-main/ax/core/map_data.py:188: FutureWarning: The behavior of DataFrame concatenation with empty or all-NA entries is deprecated. In a future version, this will no longer exclude empty or all-NA columns when determining the result dtypes. To retain the old behavior, exclude the relevant entries before the concat operation.\n",
      "  df = pd.concat(\n"
     ]
    },
    {
     "name": "stderr",
     "output_type": "stream",
     "text": [
      "/tmp/tmp.KbiES6I0qN/Ax-main/ax/core/map_data.py:188: FutureWarning: The behavior of DataFrame concatenation with empty or all-NA entries is deprecated. In a future version, this will no longer exclude empty or all-NA columns when determining the result dtypes. To retain the old behavior, exclude the relevant entries before the concat operation.\n",
      "  df = pd.concat(\n",
      "[INFO 03-01 18:08:07] ax.early_stopping.strategies.base: The number of completed trials (0) is less than the minimum number of curves needed for early stopping (5). Not early stopping.\n"
     ]
    },
    {
     "name": "stderr",
     "output_type": "stream",
     "text": [
      "[INFO 03-01 18:08:07] Scheduler: Waiting for completed trials (for 10 sec, currently running trials: 5).\n"
     ]
    },
    {
     "name": "stderr",
     "output_type": "stream",
     "text": [
      "[INFO 03-01 18:08:17] Scheduler: Fetching data for newly completed trials: [].\n"
     ]
    },
    {
     "name": "stderr",
     "output_type": "stream",
     "text": [
      "[INFO 03-01 18:08:17] Scheduler: Fetching data for trials: 0 - 4 because some metrics on experiment are available while trials are running.\n"
     ]
    },
    {
     "name": "stderr",
     "output_type": "stream",
     "text": [
      "/tmp/tmp.KbiES6I0qN/Ax-main/ax/core/map_data.py:188: FutureWarning: The behavior of DataFrame concatenation with empty or all-NA entries is deprecated. In a future version, this will no longer exclude empty or all-NA columns when determining the result dtypes. To retain the old behavior, exclude the relevant entries before the concat operation.\n",
      "  df = pd.concat(\n"
     ]
    },
    {
     "name": "stderr",
     "output_type": "stream",
     "text": [
      "/tmp/tmp.KbiES6I0qN/Ax-main/ax/core/map_data.py:188: FutureWarning: The behavior of DataFrame concatenation with empty or all-NA entries is deprecated. In a future version, this will no longer exclude empty or all-NA columns when determining the result dtypes. To retain the old behavior, exclude the relevant entries before the concat operation.\n",
      "  df = pd.concat(\n",
      "[INFO 03-01 18:08:17] ax.early_stopping.strategies.base: The number of completed trials (0) is less than the minimum number of curves needed for early stopping (5). Not early stopping.\n"
     ]
    },
    {
     "name": "stderr",
     "output_type": "stream",
     "text": [
      "[INFO 03-01 18:08:17] Scheduler: Waiting for completed trials (for 10 sec, currently running trials: 5).\n"
     ]
    },
    {
     "name": "stderr",
     "output_type": "stream",
     "text": [
      "[INFO 03-01 18:08:27] Scheduler: Fetching data for newly completed trials: [].\n"
     ]
    },
    {
     "name": "stderr",
     "output_type": "stream",
     "text": [
      "[INFO 03-01 18:08:27] Scheduler: Fetching data for trials: 0 - 4 because some metrics on experiment are available while trials are running.\n"
     ]
    },
    {
     "name": "stderr",
     "output_type": "stream",
     "text": [
      "/tmp/tmp.KbiES6I0qN/Ax-main/ax/core/map_data.py:188: FutureWarning: The behavior of DataFrame concatenation with empty or all-NA entries is deprecated. In a future version, this will no longer exclude empty or all-NA columns when determining the result dtypes. To retain the old behavior, exclude the relevant entries before the concat operation.\n",
      "  df = pd.concat(\n"
     ]
    },
    {
     "name": "stderr",
     "output_type": "stream",
     "text": [
      "/tmp/tmp.KbiES6I0qN/Ax-main/ax/core/map_data.py:188: FutureWarning: The behavior of DataFrame concatenation with empty or all-NA entries is deprecated. In a future version, this will no longer exclude empty or all-NA columns when determining the result dtypes. To retain the old behavior, exclude the relevant entries before the concat operation.\n",
      "  df = pd.concat(\n",
      "[INFO 03-01 18:08:27] ax.early_stopping.strategies.base: The number of completed trials (0) is less than the minimum number of curves needed for early stopping (5). Not early stopping.\n"
     ]
    },
    {
     "name": "stderr",
     "output_type": "stream",
     "text": [
      "[INFO 03-01 18:08:27] Scheduler: Waiting for completed trials (for 10 sec, currently running trials: 5).\n"
     ]
    },
    {
     "name": "stderr",
     "output_type": "stream",
     "text": [
      "[INFO 03-01 18:08:37] Scheduler: Fetching data for newly completed trials: [].\n"
     ]
    },
    {
     "name": "stderr",
     "output_type": "stream",
     "text": [
      "[INFO 03-01 18:08:37] Scheduler: Fetching data for trials: 0 - 4 because some metrics on experiment are available while trials are running.\n"
     ]
    },
    {
     "name": "stderr",
     "output_type": "stream",
     "text": [
      "/tmp/tmp.KbiES6I0qN/Ax-main/ax/core/map_data.py:188: FutureWarning: The behavior of DataFrame concatenation with empty or all-NA entries is deprecated. In a future version, this will no longer exclude empty or all-NA columns when determining the result dtypes. To retain the old behavior, exclude the relevant entries before the concat operation.\n",
      "  df = pd.concat(\n"
     ]
    },
    {
     "name": "stderr",
     "output_type": "stream",
     "text": [
      "/tmp/tmp.KbiES6I0qN/Ax-main/ax/core/map_data.py:188: FutureWarning: The behavior of DataFrame concatenation with empty or all-NA entries is deprecated. In a future version, this will no longer exclude empty or all-NA columns when determining the result dtypes. To retain the old behavior, exclude the relevant entries before the concat operation.\n",
      "  df = pd.concat(\n",
      "[INFO 03-01 18:08:38] ax.early_stopping.strategies.base: The number of completed trials (0) is less than the minimum number of curves needed for early stopping (5). Not early stopping.\n"
     ]
    },
    {
     "name": "stderr",
     "output_type": "stream",
     "text": [
      "[INFO 03-01 18:08:38] Scheduler: Waiting for completed trials (for 10 sec, currently running trials: 5).\n"
     ]
    },
    {
     "name": "stderr",
     "output_type": "stream",
     "text": [
      "[INFO 03-01 18:08:48] Scheduler: Fetching data for newly completed trials: [].\n"
     ]
    },
    {
     "name": "stderr",
     "output_type": "stream",
     "text": [
      "[INFO 03-01 18:08:48] Scheduler: Fetching data for trials: 0 - 4 because some metrics on experiment are available while trials are running.\n"
     ]
    },
    {
     "name": "stderr",
     "output_type": "stream",
     "text": [
      "/tmp/tmp.KbiES6I0qN/Ax-main/ax/core/map_data.py:188: FutureWarning: The behavior of DataFrame concatenation with empty or all-NA entries is deprecated. In a future version, this will no longer exclude empty or all-NA columns when determining the result dtypes. To retain the old behavior, exclude the relevant entries before the concat operation.\n",
      "  df = pd.concat(\n"
     ]
    },
    {
     "name": "stderr",
     "output_type": "stream",
     "text": [
      "/tmp/tmp.KbiES6I0qN/Ax-main/ax/core/map_data.py:188: FutureWarning: The behavior of DataFrame concatenation with empty or all-NA entries is deprecated. In a future version, this will no longer exclude empty or all-NA columns when determining the result dtypes. To retain the old behavior, exclude the relevant entries before the concat operation.\n",
      "  df = pd.concat(\n",
      "[INFO 03-01 18:08:48] ax.early_stopping.strategies.base: The number of completed trials (0) is less than the minimum number of curves needed for early stopping (5). Not early stopping.\n"
     ]
    },
    {
     "name": "stderr",
     "output_type": "stream",
     "text": [
      "[INFO 03-01 18:08:48] Scheduler: Waiting for completed trials (for 10 sec, currently running trials: 5).\n"
     ]
    },
    {
     "name": "stderr",
     "output_type": "stream",
     "text": [
      "[INFO 03-01 18:08:58] Scheduler: Fetching data for newly completed trials: [].\n"
     ]
    },
    {
     "name": "stderr",
     "output_type": "stream",
     "text": [
      "[INFO 03-01 18:08:58] Scheduler: Fetching data for trials: 0 - 4 because some metrics on experiment are available while trials are running.\n"
     ]
    },
    {
     "name": "stderr",
     "output_type": "stream",
     "text": [
      "/tmp/tmp.KbiES6I0qN/Ax-main/ax/core/map_data.py:188: FutureWarning: The behavior of DataFrame concatenation with empty or all-NA entries is deprecated. In a future version, this will no longer exclude empty or all-NA columns when determining the result dtypes. To retain the old behavior, exclude the relevant entries before the concat operation.\n",
      "  df = pd.concat(\n"
     ]
    },
    {
     "name": "stderr",
     "output_type": "stream",
     "text": [
      "/tmp/tmp.KbiES6I0qN/Ax-main/ax/core/map_data.py:188: FutureWarning: The behavior of DataFrame concatenation with empty or all-NA entries is deprecated. In a future version, this will no longer exclude empty or all-NA columns when determining the result dtypes. To retain the old behavior, exclude the relevant entries before the concat operation.\n",
      "  df = pd.concat(\n",
      "[INFO 03-01 18:08:58] ax.early_stopping.strategies.base: The number of completed trials (0) is less than the minimum number of curves needed for early stopping (5). Not early stopping.\n"
     ]
    },
    {
     "name": "stderr",
     "output_type": "stream",
     "text": [
      "[INFO 03-01 18:08:58] Scheduler: Waiting for completed trials (for 10 sec, currently running trials: 5).\n"
     ]
    },
    {
     "name": "stderr",
     "output_type": "stream",
     "text": [
      "[INFO 03-01 18:09:08] Scheduler: Fetching data for newly completed trials: [].\n"
     ]
    },
    {
     "name": "stderr",
     "output_type": "stream",
     "text": [
      "[INFO 03-01 18:09:08] Scheduler: Fetching data for trials: 0 - 4 because some metrics on experiment are available while trials are running.\n"
     ]
    },
    {
     "name": "stderr",
     "output_type": "stream",
     "text": [
      "/tmp/tmp.KbiES6I0qN/Ax-main/ax/core/map_data.py:188: FutureWarning: The behavior of DataFrame concatenation with empty or all-NA entries is deprecated. In a future version, this will no longer exclude empty or all-NA columns when determining the result dtypes. To retain the old behavior, exclude the relevant entries before the concat operation.\n",
      "  df = pd.concat(\n"
     ]
    },
    {
     "name": "stderr",
     "output_type": "stream",
     "text": [
      "/tmp/tmp.KbiES6I0qN/Ax-main/ax/core/map_data.py:188: FutureWarning: The behavior of DataFrame concatenation with empty or all-NA entries is deprecated. In a future version, this will no longer exclude empty or all-NA columns when determining the result dtypes. To retain the old behavior, exclude the relevant entries before the concat operation.\n",
      "  df = pd.concat(\n",
      "[INFO 03-01 18:09:09] ax.early_stopping.strategies.base: The number of completed trials (0) is less than the minimum number of curves needed for early stopping (5). Not early stopping.\n"
     ]
    },
    {
     "name": "stderr",
     "output_type": "stream",
     "text": [
      "[INFO 03-01 18:09:09] Scheduler: Waiting for completed trials (for 10 sec, currently running trials: 5).\n"
     ]
    },
    {
     "name": "stderr",
     "output_type": "stream",
     "text": [
      "[INFO 03-01 18:09:19] Scheduler: Fetching data for newly completed trials: [].\n"
     ]
    },
    {
     "name": "stderr",
     "output_type": "stream",
     "text": [
      "[INFO 03-01 18:09:19] Scheduler: Fetching data for trials: 0 - 4 because some metrics on experiment are available while trials are running.\n"
     ]
    },
    {
     "name": "stderr",
     "output_type": "stream",
     "text": [
      "/tmp/tmp.KbiES6I0qN/Ax-main/ax/core/map_data.py:188: FutureWarning: The behavior of DataFrame concatenation with empty or all-NA entries is deprecated. In a future version, this will no longer exclude empty or all-NA columns when determining the result dtypes. To retain the old behavior, exclude the relevant entries before the concat operation.\n",
      "  df = pd.concat(\n"
     ]
    },
    {
     "name": "stderr",
     "output_type": "stream",
     "text": [
      "/tmp/tmp.KbiES6I0qN/Ax-main/ax/core/map_data.py:188: FutureWarning: The behavior of DataFrame concatenation with empty or all-NA entries is deprecated. In a future version, this will no longer exclude empty or all-NA columns when determining the result dtypes. To retain the old behavior, exclude the relevant entries before the concat operation.\n",
      "  df = pd.concat(\n",
      "[INFO 03-01 18:09:19] ax.early_stopping.strategies.base: The number of completed trials (0) is less than the minimum number of curves needed for early stopping (5). Not early stopping.\n"
     ]
    },
    {
     "name": "stderr",
     "output_type": "stream",
     "text": [
      "[INFO 03-01 18:09:19] Scheduler: Waiting for completed trials (for 10 sec, currently running trials: 5).\n"
     ]
    },
    {
     "name": "stderr",
     "output_type": "stream",
     "text": [
      "[INFO 03-01 18:09:29] Scheduler: Fetching data for newly completed trials: [].\n"
     ]
    },
    {
     "name": "stderr",
     "output_type": "stream",
     "text": [
      "[INFO 03-01 18:09:29] Scheduler: Fetching data for trials: 0 - 4 because some metrics on experiment are available while trials are running.\n"
     ]
    },
    {
     "name": "stderr",
     "output_type": "stream",
     "text": [
      "/tmp/tmp.KbiES6I0qN/Ax-main/ax/core/map_data.py:188: FutureWarning: The behavior of DataFrame concatenation with empty or all-NA entries is deprecated. In a future version, this will no longer exclude empty or all-NA columns when determining the result dtypes. To retain the old behavior, exclude the relevant entries before the concat operation.\n",
      "  df = pd.concat(\n"
     ]
    },
    {
     "name": "stderr",
     "output_type": "stream",
     "text": [
      "/tmp/tmp.KbiES6I0qN/Ax-main/ax/core/map_data.py:188: FutureWarning: The behavior of DataFrame concatenation with empty or all-NA entries is deprecated. In a future version, this will no longer exclude empty or all-NA columns when determining the result dtypes. To retain the old behavior, exclude the relevant entries before the concat operation.\n",
      "  df = pd.concat(\n",
      "[INFO 03-01 18:09:29] ax.early_stopping.strategies.base: The number of completed trials (0) is less than the minimum number of curves needed for early stopping (5). Not early stopping.\n"
     ]
    },
    {
     "name": "stderr",
     "output_type": "stream",
     "text": [
      "[INFO 03-01 18:09:29] Scheduler: Waiting for completed trials (for 10 sec, currently running trials: 5).\n"
     ]
    },
    {
     "name": "stderr",
     "output_type": "stream",
     "text": [
      "[INFO 03-01 18:09:39] Scheduler: Fetching data for newly completed trials: [].\n"
     ]
    },
    {
     "name": "stderr",
     "output_type": "stream",
     "text": [
      "[INFO 03-01 18:09:39] Scheduler: Fetching data for trials: 0 - 4 because some metrics on experiment are available while trials are running.\n"
     ]
    },
    {
     "name": "stderr",
     "output_type": "stream",
     "text": [
      "/tmp/tmp.KbiES6I0qN/Ax-main/ax/core/map_data.py:188: FutureWarning: The behavior of DataFrame concatenation with empty or all-NA entries is deprecated. In a future version, this will no longer exclude empty or all-NA columns when determining the result dtypes. To retain the old behavior, exclude the relevant entries before the concat operation.\n",
      "  df = pd.concat(\n"
     ]
    },
    {
     "name": "stderr",
     "output_type": "stream",
     "text": [
      "/tmp/tmp.KbiES6I0qN/Ax-main/ax/core/map_data.py:188: FutureWarning: The behavior of DataFrame concatenation with empty or all-NA entries is deprecated. In a future version, this will no longer exclude empty or all-NA columns when determining the result dtypes. To retain the old behavior, exclude the relevant entries before the concat operation.\n",
      "  df = pd.concat(\n",
      "[INFO 03-01 18:09:39] ax.early_stopping.strategies.base: The number of completed trials (0) is less than the minimum number of curves needed for early stopping (5). Not early stopping.\n"
     ]
    },
    {
     "name": "stderr",
     "output_type": "stream",
     "text": [
      "[INFO 03-01 18:09:39] Scheduler: Waiting for completed trials (for 10 sec, currently running trials: 5).\n"
     ]
    },
    {
     "name": "stderr",
     "output_type": "stream",
     "text": [
      "[INFO 03-01 18:09:49] Scheduler: Fetching data for newly completed trials: [].\n"
     ]
    },
    {
     "name": "stderr",
     "output_type": "stream",
     "text": [
      "[INFO 03-01 18:09:49] Scheduler: Fetching data for trials: 0 - 4 because some metrics on experiment are available while trials are running.\n"
     ]
    },
    {
     "name": "stderr",
     "output_type": "stream",
     "text": [
      "/tmp/tmp.KbiES6I0qN/Ax-main/ax/core/map_data.py:188: FutureWarning: The behavior of DataFrame concatenation with empty or all-NA entries is deprecated. In a future version, this will no longer exclude empty or all-NA columns when determining the result dtypes. To retain the old behavior, exclude the relevant entries before the concat operation.\n",
      "  df = pd.concat(\n"
     ]
    },
    {
     "name": "stderr",
     "output_type": "stream",
     "text": [
      "/tmp/tmp.KbiES6I0qN/Ax-main/ax/core/map_data.py:188: FutureWarning: The behavior of DataFrame concatenation with empty or all-NA entries is deprecated. In a future version, this will no longer exclude empty or all-NA columns when determining the result dtypes. To retain the old behavior, exclude the relevant entries before the concat operation.\n",
      "  df = pd.concat(\n",
      "[INFO 03-01 18:09:50] ax.early_stopping.strategies.base: The number of completed trials (0) is less than the minimum number of curves needed for early stopping (5). Not early stopping.\n"
     ]
    },
    {
     "name": "stderr",
     "output_type": "stream",
     "text": [
      "[INFO 03-01 18:09:50] Scheduler: Waiting for completed trials (for 10 sec, currently running trials: 5).\n"
     ]
    },
    {
     "name": "stderr",
     "output_type": "stream",
     "text": [
      "[INFO 03-01 18:10:00] Scheduler: Fetching data for newly completed trials: [].\n"
     ]
    },
    {
     "name": "stderr",
     "output_type": "stream",
     "text": [
      "[INFO 03-01 18:10:00] Scheduler: Fetching data for trials: 0 - 4 because some metrics on experiment are available while trials are running.\n"
     ]
    },
    {
     "name": "stderr",
     "output_type": "stream",
     "text": [
      "/tmp/tmp.KbiES6I0qN/Ax-main/ax/core/map_data.py:188: FutureWarning: The behavior of DataFrame concatenation with empty or all-NA entries is deprecated. In a future version, this will no longer exclude empty or all-NA columns when determining the result dtypes. To retain the old behavior, exclude the relevant entries before the concat operation.\n",
      "  df = pd.concat(\n"
     ]
    },
    {
     "name": "stderr",
     "output_type": "stream",
     "text": [
      "/tmp/tmp.KbiES6I0qN/Ax-main/ax/core/map_data.py:188: FutureWarning: The behavior of DataFrame concatenation with empty or all-NA entries is deprecated. In a future version, this will no longer exclude empty or all-NA columns when determining the result dtypes. To retain the old behavior, exclude the relevant entries before the concat operation.\n",
      "  df = pd.concat(\n",
      "[INFO 03-01 18:10:00] ax.early_stopping.strategies.base: The number of completed trials (0) is less than the minimum number of curves needed for early stopping (5). Not early stopping.\n"
     ]
    },
    {
     "name": "stderr",
     "output_type": "stream",
     "text": [
      "[INFO 03-01 18:10:00] Scheduler: Waiting for completed trials (for 10 sec, currently running trials: 5).\n"
     ]
    },
    {
     "name": "stderr",
     "output_type": "stream",
     "text": [
      "[INFO 03-01 18:10:10] Scheduler: Fetching data for newly completed trials: [].\n"
     ]
    },
    {
     "name": "stderr",
     "output_type": "stream",
     "text": [
      "[INFO 03-01 18:10:10] Scheduler: Fetching data for trials: 0 - 4 because some metrics on experiment are available while trials are running.\n"
     ]
    },
    {
     "name": "stderr",
     "output_type": "stream",
     "text": [
      "/tmp/tmp.KbiES6I0qN/Ax-main/ax/core/map_data.py:188: FutureWarning: The behavior of DataFrame concatenation with empty or all-NA entries is deprecated. In a future version, this will no longer exclude empty or all-NA columns when determining the result dtypes. To retain the old behavior, exclude the relevant entries before the concat operation.\n",
      "  df = pd.concat(\n"
     ]
    },
    {
     "name": "stderr",
     "output_type": "stream",
     "text": [
      "/tmp/tmp.KbiES6I0qN/Ax-main/ax/core/map_data.py:188: FutureWarning: The behavior of DataFrame concatenation with empty or all-NA entries is deprecated. In a future version, this will no longer exclude empty or all-NA columns when determining the result dtypes. To retain the old behavior, exclude the relevant entries before the concat operation.\n",
      "  df = pd.concat(\n",
      "[INFO 03-01 18:10:10] ax.early_stopping.strategies.base: The number of completed trials (0) is less than the minimum number of curves needed for early stopping (5). Not early stopping.\n"
     ]
    },
    {
     "name": "stderr",
     "output_type": "stream",
     "text": [
      "[INFO 03-01 18:10:10] Scheduler: Waiting for completed trials (for 10 sec, currently running trials: 5).\n"
     ]
    },
    {
     "name": "stderr",
     "output_type": "stream",
     "text": [
      "[INFO 03-01 18:10:20] Scheduler: Fetching data for newly completed trials: [].\n"
     ]
    },
    {
     "name": "stderr",
     "output_type": "stream",
     "text": [
      "[INFO 03-01 18:10:20] Scheduler: Fetching data for trials: 0 - 4 because some metrics on experiment are available while trials are running.\n"
     ]
    },
    {
     "name": "stderr",
     "output_type": "stream",
     "text": [
      "/tmp/tmp.KbiES6I0qN/Ax-main/ax/core/map_data.py:188: FutureWarning: The behavior of DataFrame concatenation with empty or all-NA entries is deprecated. In a future version, this will no longer exclude empty or all-NA columns when determining the result dtypes. To retain the old behavior, exclude the relevant entries before the concat operation.\n",
      "  df = pd.concat(\n"
     ]
    },
    {
     "name": "stderr",
     "output_type": "stream",
     "text": [
      "/tmp/tmp.KbiES6I0qN/Ax-main/ax/core/map_data.py:188: FutureWarning: The behavior of DataFrame concatenation with empty or all-NA entries is deprecated. In a future version, this will no longer exclude empty or all-NA columns when determining the result dtypes. To retain the old behavior, exclude the relevant entries before the concat operation.\n",
      "  df = pd.concat(\n",
      "[INFO 03-01 18:10:21] ax.early_stopping.strategies.base: The number of completed trials (0) is less than the minimum number of curves needed for early stopping (5). Not early stopping.\n"
     ]
    },
    {
     "name": "stderr",
     "output_type": "stream",
     "text": [
      "[INFO 03-01 18:10:21] Scheduler: Waiting for completed trials (for 10 sec, currently running trials: 5).\n"
     ]
    },
    {
     "name": "stderr",
     "output_type": "stream",
     "text": [
      "[INFO 03-01 18:10:31] Scheduler: Fetching data for newly completed trials: [].\n"
     ]
    },
    {
     "name": "stderr",
     "output_type": "stream",
     "text": [
      "[INFO 03-01 18:10:31] Scheduler: Fetching data for trials: 0 - 4 because some metrics on experiment are available while trials are running.\n"
     ]
    },
    {
     "name": "stderr",
     "output_type": "stream",
     "text": [
      "/tmp/tmp.KbiES6I0qN/Ax-main/ax/core/map_data.py:188: FutureWarning: The behavior of DataFrame concatenation with empty or all-NA entries is deprecated. In a future version, this will no longer exclude empty or all-NA columns when determining the result dtypes. To retain the old behavior, exclude the relevant entries before the concat operation.\n",
      "  df = pd.concat(\n",
      "/tmp/tmp.KbiES6I0qN/Ax-main/ax/core/map_data.py:188: FutureWarning: The behavior of DataFrame concatenation with empty or all-NA entries is deprecated. In a future version, this will no longer exclude empty or all-NA columns when determining the result dtypes. To retain the old behavior, exclude the relevant entries before the concat operation.\n",
      "  df = pd.concat(\n",
      "[INFO 03-01 18:10:31] ax.early_stopping.strategies.base: The number of completed trials (0) is less than the minimum number of curves needed for early stopping (5). Not early stopping.\n"
     ]
    },
    {
     "name": "stderr",
     "output_type": "stream",
     "text": [
      "[INFO 03-01 18:10:31] Scheduler: Waiting for completed trials (for 10 sec, currently running trials: 5).\n"
     ]
    },
    {
     "name": "stderr",
     "output_type": "stream",
     "text": [
      "[INFO 03-01 18:10:41] Scheduler: Fetching data for newly completed trials: [].\n"
     ]
    },
    {
     "name": "stderr",
     "output_type": "stream",
     "text": [
      "[INFO 03-01 18:10:41] Scheduler: Fetching data for trials: 0 - 4 because some metrics on experiment are available while trials are running.\n"
     ]
    },
    {
     "name": "stderr",
     "output_type": "stream",
     "text": [
      "/tmp/tmp.KbiES6I0qN/Ax-main/ax/core/map_data.py:188: FutureWarning: The behavior of DataFrame concatenation with empty or all-NA entries is deprecated. In a future version, this will no longer exclude empty or all-NA columns when determining the result dtypes. To retain the old behavior, exclude the relevant entries before the concat operation.\n",
      "  df = pd.concat(\n"
     ]
    },
    {
     "name": "stderr",
     "output_type": "stream",
     "text": [
      "/tmp/tmp.KbiES6I0qN/Ax-main/ax/core/map_data.py:188: FutureWarning: The behavior of DataFrame concatenation with empty or all-NA entries is deprecated. In a future version, this will no longer exclude empty or all-NA columns when determining the result dtypes. To retain the old behavior, exclude the relevant entries before the concat operation.\n",
      "  df = pd.concat(\n",
      "[INFO 03-01 18:10:41] ax.early_stopping.strategies.base: The number of completed trials (0) is less than the minimum number of curves needed for early stopping (5). Not early stopping.\n"
     ]
    },
    {
     "name": "stderr",
     "output_type": "stream",
     "text": [
      "[INFO 03-01 18:10:41] Scheduler: Waiting for completed trials (for 10 sec, currently running trials: 5).\n"
     ]
    },
    {
     "name": "stderr",
     "output_type": "stream",
     "text": [
      "[INFO 03-01 18:10:51] Scheduler: Fetching data for newly completed trials: [].\n"
     ]
    },
    {
     "name": "stderr",
     "output_type": "stream",
     "text": [
      "[INFO 03-01 18:10:51] Scheduler: Fetching data for trials: 0 - 4 because some metrics on experiment are available while trials are running.\n"
     ]
    },
    {
     "name": "stderr",
     "output_type": "stream",
     "text": [
      "/tmp/tmp.KbiES6I0qN/Ax-main/ax/core/map_data.py:188: FutureWarning: The behavior of DataFrame concatenation with empty or all-NA entries is deprecated. In a future version, this will no longer exclude empty or all-NA columns when determining the result dtypes. To retain the old behavior, exclude the relevant entries before the concat operation.\n",
      "  df = pd.concat(\n"
     ]
    },
    {
     "name": "stderr",
     "output_type": "stream",
     "text": [
      "/tmp/tmp.KbiES6I0qN/Ax-main/ax/core/map_data.py:188: FutureWarning: The behavior of DataFrame concatenation with empty or all-NA entries is deprecated. In a future version, this will no longer exclude empty or all-NA columns when determining the result dtypes. To retain the old behavior, exclude the relevant entries before the concat operation.\n",
      "  df = pd.concat(\n",
      "[INFO 03-01 18:10:52] ax.early_stopping.strategies.base: The number of completed trials (0) is less than the minimum number of curves needed for early stopping (5). Not early stopping.\n"
     ]
    },
    {
     "name": "stderr",
     "output_type": "stream",
     "text": [
      "[INFO 03-01 18:10:52] Scheduler: Waiting for completed trials (for 10 sec, currently running trials: 5).\n"
     ]
    },
    {
     "name": "stderr",
     "output_type": "stream",
     "text": [
      "[INFO 03-01 18:11:02] Scheduler: Fetching data for newly completed trials: [].\n"
     ]
    },
    {
     "name": "stderr",
     "output_type": "stream",
     "text": [
      "[INFO 03-01 18:11:02] Scheduler: Fetching data for trials: 0 - 4 because some metrics on experiment are available while trials are running.\n"
     ]
    },
    {
     "name": "stderr",
     "output_type": "stream",
     "text": [
      "/tmp/tmp.KbiES6I0qN/Ax-main/ax/core/map_data.py:188: FutureWarning: The behavior of DataFrame concatenation with empty or all-NA entries is deprecated. In a future version, this will no longer exclude empty or all-NA columns when determining the result dtypes. To retain the old behavior, exclude the relevant entries before the concat operation.\n",
      "  df = pd.concat(\n"
     ]
    },
    {
     "name": "stderr",
     "output_type": "stream",
     "text": [
      "/tmp/tmp.KbiES6I0qN/Ax-main/ax/core/map_data.py:188: FutureWarning: The behavior of DataFrame concatenation with empty or all-NA entries is deprecated. In a future version, this will no longer exclude empty or all-NA columns when determining the result dtypes. To retain the old behavior, exclude the relevant entries before the concat operation.\n",
      "  df = pd.concat(\n",
      "[INFO 03-01 18:11:02] ax.early_stopping.strategies.base: The number of completed trials (0) is less than the minimum number of curves needed for early stopping (5). Not early stopping.\n"
     ]
    },
    {
     "name": "stderr",
     "output_type": "stream",
     "text": [
      "[INFO 03-01 18:11:02] Scheduler: Waiting for completed trials (for 10 sec, currently running trials: 5).\n"
     ]
    },
    {
     "name": "stderr",
     "output_type": "stream",
     "text": [
      "[INFO 03-01 18:11:12] Scheduler: Fetching data for newly completed trials: [].\n"
     ]
    },
    {
     "name": "stderr",
     "output_type": "stream",
     "text": [
      "[INFO 03-01 18:11:12] Scheduler: Fetching data for trials: 0 - 4 because some metrics on experiment are available while trials are running.\n"
     ]
    },
    {
     "name": "stderr",
     "output_type": "stream",
     "text": [
      "/tmp/tmp.KbiES6I0qN/Ax-main/ax/core/map_data.py:188: FutureWarning: The behavior of DataFrame concatenation with empty or all-NA entries is deprecated. In a future version, this will no longer exclude empty or all-NA columns when determining the result dtypes. To retain the old behavior, exclude the relevant entries before the concat operation.\n",
      "  df = pd.concat(\n"
     ]
    },
    {
     "name": "stderr",
     "output_type": "stream",
     "text": [
      "/tmp/tmp.KbiES6I0qN/Ax-main/ax/core/map_data.py:188: FutureWarning: The behavior of DataFrame concatenation with empty or all-NA entries is deprecated. In a future version, this will no longer exclude empty or all-NA columns when determining the result dtypes. To retain the old behavior, exclude the relevant entries before the concat operation.\n",
      "  df = pd.concat(\n",
      "[INFO 03-01 18:11:12] ax.early_stopping.strategies.base: The number of completed trials (0) is less than the minimum number of curves needed for early stopping (5). Not early stopping.\n"
     ]
    },
    {
     "name": "stderr",
     "output_type": "stream",
     "text": [
      "[INFO 03-01 18:11:12] Scheduler: Waiting for completed trials (for 10 sec, currently running trials: 5).\n"
     ]
    },
    {
     "name": "stderr",
     "output_type": "stream",
     "text": [
      "[INFO 03-01 18:11:22] Scheduler: Fetching data for newly completed trials: [].\n"
     ]
    },
    {
     "name": "stderr",
     "output_type": "stream",
     "text": [
      "[INFO 03-01 18:11:22] Scheduler: Fetching data for trials: 0 - 4 because some metrics on experiment are available while trials are running.\n"
     ]
    },
    {
     "name": "stderr",
     "output_type": "stream",
     "text": [
      "/tmp/tmp.KbiES6I0qN/Ax-main/ax/core/map_data.py:188: FutureWarning: The behavior of DataFrame concatenation with empty or all-NA entries is deprecated. In a future version, this will no longer exclude empty or all-NA columns when determining the result dtypes. To retain the old behavior, exclude the relevant entries before the concat operation.\n",
      "  df = pd.concat(\n"
     ]
    },
    {
     "name": "stderr",
     "output_type": "stream",
     "text": [
      "/tmp/tmp.KbiES6I0qN/Ax-main/ax/core/map_data.py:188: FutureWarning: The behavior of DataFrame concatenation with empty or all-NA entries is deprecated. In a future version, this will no longer exclude empty or all-NA columns when determining the result dtypes. To retain the old behavior, exclude the relevant entries before the concat operation.\n",
      "  df = pd.concat(\n",
      "[INFO 03-01 18:11:23] ax.early_stopping.strategies.base: The number of completed trials (0) is less than the minimum number of curves needed for early stopping (5). Not early stopping.\n"
     ]
    },
    {
     "name": "stderr",
     "output_type": "stream",
     "text": [
      "[INFO 03-01 18:11:23] Scheduler: Waiting for completed trials (for 10 sec, currently running trials: 5).\n"
     ]
    },
    {
     "name": "stderr",
     "output_type": "stream",
     "text": [
      "[INFO 03-01 18:11:33] Scheduler: Fetching data for newly completed trials: [].\n"
     ]
    },
    {
     "name": "stderr",
     "output_type": "stream",
     "text": [
      "[INFO 03-01 18:11:33] Scheduler: Fetching data for trials: 0 - 4 because some metrics on experiment are available while trials are running.\n"
     ]
    },
    {
     "name": "stderr",
     "output_type": "stream",
     "text": [
      "/tmp/tmp.KbiES6I0qN/Ax-main/ax/core/map_data.py:188: FutureWarning: The behavior of DataFrame concatenation with empty or all-NA entries is deprecated. In a future version, this will no longer exclude empty or all-NA columns when determining the result dtypes. To retain the old behavior, exclude the relevant entries before the concat operation.\n",
      "  df = pd.concat(\n",
      "/tmp/tmp.KbiES6I0qN/Ax-main/ax/core/map_data.py:188: FutureWarning: The behavior of DataFrame concatenation with empty or all-NA entries is deprecated. In a future version, this will no longer exclude empty or all-NA columns when determining the result dtypes. To retain the old behavior, exclude the relevant entries before the concat operation.\n",
      "  df = pd.concat(\n"
     ]
    },
    {
     "name": "stderr",
     "output_type": "stream",
     "text": [
      "[INFO 03-01 18:11:33] ax.early_stopping.strategies.base: The number of completed trials (0) is less than the minimum number of curves needed for early stopping (5). Not early stopping.\n"
     ]
    },
    {
     "name": "stderr",
     "output_type": "stream",
     "text": [
      "[INFO 03-01 18:11:33] Scheduler: Waiting for completed trials (for 10 sec, currently running trials: 5).\n"
     ]
    },
    {
     "name": "stderr",
     "output_type": "stream",
     "text": [
      "[INFO 03-01 18:11:43] Scheduler: Fetching data for newly completed trials: [].\n"
     ]
    },
    {
     "name": "stderr",
     "output_type": "stream",
     "text": [
      "[INFO 03-01 18:11:43] Scheduler: Fetching data for trials: 0 - 4 because some metrics on experiment are available while trials are running.\n"
     ]
    },
    {
     "name": "stderr",
     "output_type": "stream",
     "text": [
      "/tmp/tmp.KbiES6I0qN/Ax-main/ax/core/map_data.py:188: FutureWarning: The behavior of DataFrame concatenation with empty or all-NA entries is deprecated. In a future version, this will no longer exclude empty or all-NA columns when determining the result dtypes. To retain the old behavior, exclude the relevant entries before the concat operation.\n",
      "  df = pd.concat(\n"
     ]
    },
    {
     "name": "stderr",
     "output_type": "stream",
     "text": [
      "/tmp/tmp.KbiES6I0qN/Ax-main/ax/core/map_data.py:188: FutureWarning: The behavior of DataFrame concatenation with empty or all-NA entries is deprecated. In a future version, this will no longer exclude empty or all-NA columns when determining the result dtypes. To retain the old behavior, exclude the relevant entries before the concat operation.\n",
      "  df = pd.concat(\n",
      "[INFO 03-01 18:11:43] ax.early_stopping.strategies.base: The number of completed trials (0) is less than the minimum number of curves needed for early stopping (5). Not early stopping.\n"
     ]
    },
    {
     "name": "stderr",
     "output_type": "stream",
     "text": [
      "[INFO 03-01 18:11:43] Scheduler: Waiting for completed trials (for 10 sec, currently running trials: 5).\n"
     ]
    },
    {
     "name": "stderr",
     "output_type": "stream",
     "text": [
      "[INFO 03-01 18:11:53] Scheduler: Fetching data for newly completed trials: [].\n"
     ]
    },
    {
     "name": "stderr",
     "output_type": "stream",
     "text": [
      "[INFO 03-01 18:11:53] Scheduler: Fetching data for trials: 0 - 4 because some metrics on experiment are available while trials are running.\n"
     ]
    },
    {
     "name": "stderr",
     "output_type": "stream",
     "text": [
      "/tmp/tmp.KbiES6I0qN/Ax-main/ax/core/map_data.py:188: FutureWarning: The behavior of DataFrame concatenation with empty or all-NA entries is deprecated. In a future version, this will no longer exclude empty or all-NA columns when determining the result dtypes. To retain the old behavior, exclude the relevant entries before the concat operation.\n",
      "  df = pd.concat(\n"
     ]
    },
    {
     "name": "stderr",
     "output_type": "stream",
     "text": [
      "/tmp/tmp.KbiES6I0qN/Ax-main/ax/core/map_data.py:188: FutureWarning: The behavior of DataFrame concatenation with empty or all-NA entries is deprecated. In a future version, this will no longer exclude empty or all-NA columns when determining the result dtypes. To retain the old behavior, exclude the relevant entries before the concat operation.\n",
      "  df = pd.concat(\n",
      "[INFO 03-01 18:11:54] ax.early_stopping.strategies.base: The number of completed trials (0) is less than the minimum number of curves needed for early stopping (5). Not early stopping.\n"
     ]
    },
    {
     "name": "stderr",
     "output_type": "stream",
     "text": [
      "[INFO 03-01 18:11:54] Scheduler: Waiting for completed trials (for 10 sec, currently running trials: 5).\n"
     ]
    },
    {
     "name": "stderr",
     "output_type": "stream",
     "text": [
      "[INFO 03-01 18:12:04] Scheduler: Fetching data for newly completed trials: [].\n"
     ]
    },
    {
     "name": "stderr",
     "output_type": "stream",
     "text": [
      "[INFO 03-01 18:12:04] Scheduler: Fetching data for trials: 0 - 4 because some metrics on experiment are available while trials are running.\n"
     ]
    },
    {
     "name": "stderr",
     "output_type": "stream",
     "text": [
      "/tmp/tmp.KbiES6I0qN/Ax-main/ax/core/map_data.py:188: FutureWarning: The behavior of DataFrame concatenation with empty or all-NA entries is deprecated. In a future version, this will no longer exclude empty or all-NA columns when determining the result dtypes. To retain the old behavior, exclude the relevant entries before the concat operation.\n",
      "  df = pd.concat(\n",
      "/tmp/tmp.KbiES6I0qN/Ax-main/ax/core/map_data.py:188: FutureWarning: The behavior of DataFrame concatenation with empty or all-NA entries is deprecated. In a future version, this will no longer exclude empty or all-NA columns when determining the result dtypes. To retain the old behavior, exclude the relevant entries before the concat operation.\n",
      "  df = pd.concat(\n",
      "[INFO 03-01 18:12:04] ax.early_stopping.strategies.base: The number of completed trials (0) is less than the minimum number of curves needed for early stopping (5). Not early stopping.\n"
     ]
    },
    {
     "name": "stderr",
     "output_type": "stream",
     "text": [
      "[INFO 03-01 18:12:04] Scheduler: Waiting for completed trials (for 10 sec, currently running trials: 5).\n"
     ]
    },
    {
     "name": "stderr",
     "output_type": "stream",
     "text": [
      "[INFO 03-01 18:12:14] Scheduler: Fetching data for newly completed trials: [].\n"
     ]
    },
    {
     "name": "stderr",
     "output_type": "stream",
     "text": [
      "[INFO 03-01 18:12:14] Scheduler: Fetching data for trials: 0 - 4 because some metrics on experiment are available while trials are running.\n"
     ]
    },
    {
     "name": "stderr",
     "output_type": "stream",
     "text": [
      "/tmp/tmp.KbiES6I0qN/Ax-main/ax/core/map_data.py:188: FutureWarning: The behavior of DataFrame concatenation with empty or all-NA entries is deprecated. In a future version, this will no longer exclude empty or all-NA columns when determining the result dtypes. To retain the old behavior, exclude the relevant entries before the concat operation.\n",
      "  df = pd.concat(\n"
     ]
    },
    {
     "name": "stderr",
     "output_type": "stream",
     "text": [
      "/tmp/tmp.KbiES6I0qN/Ax-main/ax/core/map_data.py:188: FutureWarning: The behavior of DataFrame concatenation with empty or all-NA entries is deprecated. In a future version, this will no longer exclude empty or all-NA columns when determining the result dtypes. To retain the old behavior, exclude the relevant entries before the concat operation.\n",
      "  df = pd.concat(\n",
      "[INFO 03-01 18:12:14] ax.early_stopping.strategies.base: The number of completed trials (0) is less than the minimum number of curves needed for early stopping (5). Not early stopping.\n"
     ]
    },
    {
     "name": "stderr",
     "output_type": "stream",
     "text": [
      "[INFO 03-01 18:12:14] Scheduler: Waiting for completed trials (for 10 sec, currently running trials: 5).\n"
     ]
    },
    {
     "name": "stderr",
     "output_type": "stream",
     "text": [
      "[INFO 03-01 18:12:24] Scheduler: Fetching data for newly completed trials: [].\n"
     ]
    },
    {
     "name": "stderr",
     "output_type": "stream",
     "text": [
      "[INFO 03-01 18:12:24] Scheduler: Fetching data for trials: 0 - 4 because some metrics on experiment are available while trials are running.\n"
     ]
    },
    {
     "name": "stderr",
     "output_type": "stream",
     "text": [
      "/tmp/tmp.KbiES6I0qN/Ax-main/ax/core/map_data.py:188: FutureWarning: The behavior of DataFrame concatenation with empty or all-NA entries is deprecated. In a future version, this will no longer exclude empty or all-NA columns when determining the result dtypes. To retain the old behavior, exclude the relevant entries before the concat operation.\n",
      "  df = pd.concat(\n"
     ]
    },
    {
     "name": "stderr",
     "output_type": "stream",
     "text": [
      "/tmp/tmp.KbiES6I0qN/Ax-main/ax/core/map_data.py:188: FutureWarning: The behavior of DataFrame concatenation with empty or all-NA entries is deprecated. In a future version, this will no longer exclude empty or all-NA columns when determining the result dtypes. To retain the old behavior, exclude the relevant entries before the concat operation.\n",
      "  df = pd.concat(\n",
      "[INFO 03-01 18:12:24] ax.early_stopping.strategies.base: The number of completed trials (0) is less than the minimum number of curves needed for early stopping (5). Not early stopping.\n"
     ]
    },
    {
     "name": "stderr",
     "output_type": "stream",
     "text": [
      "[INFO 03-01 18:12:24] Scheduler: Waiting for completed trials (for 10 sec, currently running trials: 5).\n"
     ]
    },
    {
     "name": "stderr",
     "output_type": "stream",
     "text": [
      "[INFO 03-01 18:12:35] Scheduler: Fetching data for newly completed trials: [].\n"
     ]
    },
    {
     "name": "stderr",
     "output_type": "stream",
     "text": [
      "[INFO 03-01 18:12:35] Scheduler: Fetching data for trials: 0 - 4 because some metrics on experiment are available while trials are running.\n"
     ]
    },
    {
     "name": "stderr",
     "output_type": "stream",
     "text": [
      "/tmp/tmp.KbiES6I0qN/Ax-main/ax/core/map_data.py:188: FutureWarning: The behavior of DataFrame concatenation with empty or all-NA entries is deprecated. In a future version, this will no longer exclude empty or all-NA columns when determining the result dtypes. To retain the old behavior, exclude the relevant entries before the concat operation.\n",
      "  df = pd.concat(\n"
     ]
    },
    {
     "name": "stderr",
     "output_type": "stream",
     "text": [
      "/tmp/tmp.KbiES6I0qN/Ax-main/ax/core/map_data.py:188: FutureWarning: The behavior of DataFrame concatenation with empty or all-NA entries is deprecated. In a future version, this will no longer exclude empty or all-NA columns when determining the result dtypes. To retain the old behavior, exclude the relevant entries before the concat operation.\n",
      "  df = pd.concat(\n",
      "[INFO 03-01 18:12:35] ax.early_stopping.strategies.base: The number of completed trials (0) is less than the minimum number of curves needed for early stopping (5). Not early stopping.\n"
     ]
    },
    {
     "name": "stderr",
     "output_type": "stream",
     "text": [
      "[INFO 03-01 18:12:35] Scheduler: Waiting for completed trials (for 10 sec, currently running trials: 5).\n"
     ]
    },
    {
     "name": "stderr",
     "output_type": "stream",
     "text": [
      "[INFO 03-01 18:12:45] Scheduler: Fetching data for newly completed trials: [].\n"
     ]
    },
    {
     "name": "stderr",
     "output_type": "stream",
     "text": [
      "[INFO 03-01 18:12:45] Scheduler: Fetching data for trials: 0 - 4 because some metrics on experiment are available while trials are running.\n"
     ]
    },
    {
     "name": "stderr",
     "output_type": "stream",
     "text": [
      "/tmp/tmp.KbiES6I0qN/Ax-main/ax/core/map_data.py:188: FutureWarning: The behavior of DataFrame concatenation with empty or all-NA entries is deprecated. In a future version, this will no longer exclude empty or all-NA columns when determining the result dtypes. To retain the old behavior, exclude the relevant entries before the concat operation.\n",
      "  df = pd.concat(\n"
     ]
    },
    {
     "name": "stderr",
     "output_type": "stream",
     "text": [
      "/tmp/tmp.KbiES6I0qN/Ax-main/ax/core/map_data.py:188: FutureWarning: The behavior of DataFrame concatenation with empty or all-NA entries is deprecated. In a future version, this will no longer exclude empty or all-NA columns when determining the result dtypes. To retain the old behavior, exclude the relevant entries before the concat operation.\n",
      "  df = pd.concat(\n",
      "[INFO 03-01 18:12:45] ax.early_stopping.strategies.base: The number of completed trials (0) is less than the minimum number of curves needed for early stopping (5). Not early stopping.\n"
     ]
    },
    {
     "name": "stderr",
     "output_type": "stream",
     "text": [
      "[INFO 03-01 18:12:45] Scheduler: Waiting for completed trials (for 10 sec, currently running trials: 5).\n"
     ]
    },
    {
     "name": "stderr",
     "output_type": "stream",
     "text": [
      "[INFO 03-01 18:12:55] Scheduler: Fetching data for newly completed trials: [].\n"
     ]
    },
    {
     "name": "stderr",
     "output_type": "stream",
     "text": [
      "[INFO 03-01 18:12:55] Scheduler: Fetching data for trials: 0 - 4 because some metrics on experiment are available while trials are running.\n"
     ]
    },
    {
     "name": "stderr",
     "output_type": "stream",
     "text": [
      "/tmp/tmp.KbiES6I0qN/Ax-main/ax/core/map_data.py:188: FutureWarning: The behavior of DataFrame concatenation with empty or all-NA entries is deprecated. In a future version, this will no longer exclude empty or all-NA columns when determining the result dtypes. To retain the old behavior, exclude the relevant entries before the concat operation.\n",
      "  df = pd.concat(\n"
     ]
    },
    {
     "name": "stderr",
     "output_type": "stream",
     "text": [
      "/tmp/tmp.KbiES6I0qN/Ax-main/ax/core/map_data.py:188: FutureWarning: The behavior of DataFrame concatenation with empty or all-NA entries is deprecated. In a future version, this will no longer exclude empty or all-NA columns when determining the result dtypes. To retain the old behavior, exclude the relevant entries before the concat operation.\n",
      "  df = pd.concat(\n",
      "[INFO 03-01 18:12:55] ax.early_stopping.strategies.base: The number of completed trials (0) is less than the minimum number of curves needed for early stopping (5). Not early stopping.\n"
     ]
    },
    {
     "name": "stderr",
     "output_type": "stream",
     "text": [
      "[INFO 03-01 18:12:55] Scheduler: Waiting for completed trials (for 10 sec, currently running trials: 5).\n"
     ]
    },
    {
     "name": "stderr",
     "output_type": "stream",
     "text": [
      "[INFO 03-01 18:13:05] Scheduler: Fetching data for newly completed trials: [].\n"
     ]
    },
    {
     "name": "stderr",
     "output_type": "stream",
     "text": [
      "[INFO 03-01 18:13:05] Scheduler: Fetching data for trials: 0 - 4 because some metrics on experiment are available while trials are running.\n"
     ]
    },
    {
     "name": "stderr",
     "output_type": "stream",
     "text": [
      "/tmp/tmp.KbiES6I0qN/Ax-main/ax/core/map_data.py:188: FutureWarning: The behavior of DataFrame concatenation with empty or all-NA entries is deprecated. In a future version, this will no longer exclude empty or all-NA columns when determining the result dtypes. To retain the old behavior, exclude the relevant entries before the concat operation.\n",
      "  df = pd.concat(\n"
     ]
    },
    {
     "name": "stderr",
     "output_type": "stream",
     "text": [
      "/tmp/tmp.KbiES6I0qN/Ax-main/ax/core/map_data.py:188: FutureWarning: The behavior of DataFrame concatenation with empty or all-NA entries is deprecated. In a future version, this will no longer exclude empty or all-NA columns when determining the result dtypes. To retain the old behavior, exclude the relevant entries before the concat operation.\n",
      "  df = pd.concat(\n",
      "[INFO 03-01 18:13:06] ax.early_stopping.strategies.base: The number of completed trials (0) is less than the minimum number of curves needed for early stopping (5). Not early stopping.\n"
     ]
    },
    {
     "name": "stderr",
     "output_type": "stream",
     "text": [
      "[INFO 03-01 18:13:06] Scheduler: Waiting for completed trials (for 10 sec, currently running trials: 5).\n"
     ]
    },
    {
     "name": "stderr",
     "output_type": "stream",
     "text": [
      "[INFO 03-01 18:13:16] Scheduler: Fetching data for newly completed trials: [].\n"
     ]
    },
    {
     "name": "stderr",
     "output_type": "stream",
     "text": [
      "[INFO 03-01 18:13:16] Scheduler: Fetching data for trials: 0 - 4 because some metrics on experiment are available while trials are running.\n"
     ]
    },
    {
     "name": "stderr",
     "output_type": "stream",
     "text": [
      "/tmp/tmp.KbiES6I0qN/Ax-main/ax/core/map_data.py:188: FutureWarning: The behavior of DataFrame concatenation with empty or all-NA entries is deprecated. In a future version, this will no longer exclude empty or all-NA columns when determining the result dtypes. To retain the old behavior, exclude the relevant entries before the concat operation.\n",
      "  df = pd.concat(\n"
     ]
    },
    {
     "name": "stderr",
     "output_type": "stream",
     "text": [
      "/tmp/tmp.KbiES6I0qN/Ax-main/ax/core/map_data.py:188: FutureWarning: The behavior of DataFrame concatenation with empty or all-NA entries is deprecated. In a future version, this will no longer exclude empty or all-NA columns when determining the result dtypes. To retain the old behavior, exclude the relevant entries before the concat operation.\n",
      "  df = pd.concat(\n",
      "[INFO 03-01 18:13:16] ax.early_stopping.strategies.base: The number of completed trials (0) is less than the minimum number of curves needed for early stopping (5). Not early stopping.\n"
     ]
    },
    {
     "name": "stderr",
     "output_type": "stream",
     "text": [
      "[INFO 03-01 18:13:16] Scheduler: Waiting for completed trials (for 10 sec, currently running trials: 5).\n"
     ]
    },
    {
     "name": "stderr",
     "output_type": "stream",
     "text": [
      "[INFO 03-01 18:13:26] Scheduler: Fetching data for newly completed trials: [].\n"
     ]
    },
    {
     "name": "stderr",
     "output_type": "stream",
     "text": [
      "[INFO 03-01 18:13:26] Scheduler: Fetching data for trials: 0 - 4 because some metrics on experiment are available while trials are running.\n"
     ]
    },
    {
     "name": "stderr",
     "output_type": "stream",
     "text": [
      "/tmp/tmp.KbiES6I0qN/Ax-main/ax/core/map_data.py:188: FutureWarning: The behavior of DataFrame concatenation with empty or all-NA entries is deprecated. In a future version, this will no longer exclude empty or all-NA columns when determining the result dtypes. To retain the old behavior, exclude the relevant entries before the concat operation.\n",
      "  df = pd.concat(\n"
     ]
    },
    {
     "name": "stderr",
     "output_type": "stream",
     "text": [
      "/tmp/tmp.KbiES6I0qN/Ax-main/ax/core/map_data.py:188: FutureWarning: The behavior of DataFrame concatenation with empty or all-NA entries is deprecated. In a future version, this will no longer exclude empty or all-NA columns when determining the result dtypes. To retain the old behavior, exclude the relevant entries before the concat operation.\n",
      "  df = pd.concat(\n",
      "[INFO 03-01 18:13:26] ax.early_stopping.strategies.base: The number of completed trials (0) is less than the minimum number of curves needed for early stopping (5). Not early stopping.\n"
     ]
    },
    {
     "name": "stderr",
     "output_type": "stream",
     "text": [
      "[INFO 03-01 18:13:26] Scheduler: Waiting for completed trials (for 10 sec, currently running trials: 5).\n"
     ]
    },
    {
     "name": "stderr",
     "output_type": "stream",
     "text": [
      "[INFO 03-01 18:13:36] Scheduler: Fetching data for newly completed trials: [].\n"
     ]
    },
    {
     "name": "stderr",
     "output_type": "stream",
     "text": [
      "[INFO 03-01 18:13:36] Scheduler: Fetching data for trials: 0 - 4 because some metrics on experiment are available while trials are running.\n"
     ]
    },
    {
     "name": "stderr",
     "output_type": "stream",
     "text": [
      "/tmp/tmp.KbiES6I0qN/Ax-main/ax/core/map_data.py:188: FutureWarning: The behavior of DataFrame concatenation with empty or all-NA entries is deprecated. In a future version, this will no longer exclude empty or all-NA columns when determining the result dtypes. To retain the old behavior, exclude the relevant entries before the concat operation.\n",
      "  df = pd.concat(\n"
     ]
    },
    {
     "name": "stderr",
     "output_type": "stream",
     "text": [
      "/tmp/tmp.KbiES6I0qN/Ax-main/ax/core/map_data.py:188: FutureWarning: The behavior of DataFrame concatenation with empty or all-NA entries is deprecated. In a future version, this will no longer exclude empty or all-NA columns when determining the result dtypes. To retain the old behavior, exclude the relevant entries before the concat operation.\n",
      "  df = pd.concat(\n",
      "[INFO 03-01 18:13:37] ax.early_stopping.strategies.base: The number of completed trials (0) is less than the minimum number of curves needed for early stopping (5). Not early stopping.\n"
     ]
    },
    {
     "name": "stderr",
     "output_type": "stream",
     "text": [
      "[INFO 03-01 18:13:37] Scheduler: Waiting for completed trials (for 10 sec, currently running trials: 5).\n"
     ]
    },
    {
     "name": "stderr",
     "output_type": "stream",
     "text": [
      "[INFO 03-01 18:13:47] Scheduler: Fetching data for newly completed trials: [].\n"
     ]
    },
    {
     "name": "stderr",
     "output_type": "stream",
     "text": [
      "[INFO 03-01 18:13:47] Scheduler: Fetching data for trials: 0 - 4 because some metrics on experiment are available while trials are running.\n"
     ]
    },
    {
     "name": "stderr",
     "output_type": "stream",
     "text": [
      "/tmp/tmp.KbiES6I0qN/Ax-main/ax/core/map_data.py:188: FutureWarning: The behavior of DataFrame concatenation with empty or all-NA entries is deprecated. In a future version, this will no longer exclude empty or all-NA columns when determining the result dtypes. To retain the old behavior, exclude the relevant entries before the concat operation.\n",
      "  df = pd.concat(\n"
     ]
    },
    {
     "name": "stderr",
     "output_type": "stream",
     "text": [
      "/tmp/tmp.KbiES6I0qN/Ax-main/ax/core/map_data.py:188: FutureWarning: The behavior of DataFrame concatenation with empty or all-NA entries is deprecated. In a future version, this will no longer exclude empty or all-NA columns when determining the result dtypes. To retain the old behavior, exclude the relevant entries before the concat operation.\n",
      "  df = pd.concat(\n",
      "[INFO 03-01 18:13:47] ax.early_stopping.strategies.base: The number of completed trials (0) is less than the minimum number of curves needed for early stopping (5). Not early stopping.\n"
     ]
    },
    {
     "name": "stderr",
     "output_type": "stream",
     "text": [
      "[INFO 03-01 18:13:47] Scheduler: Waiting for completed trials (for 10 sec, currently running trials: 5).\n"
     ]
    },
    {
     "name": "stderr",
     "output_type": "stream",
     "text": [
      "[INFO 03-01 18:13:57] Scheduler: Fetching data for newly completed trials: [].\n"
     ]
    },
    {
     "name": "stderr",
     "output_type": "stream",
     "text": [
      "[INFO 03-01 18:13:57] Scheduler: Fetching data for trials: 0 - 4 because some metrics on experiment are available while trials are running.\n"
     ]
    },
    {
     "name": "stderr",
     "output_type": "stream",
     "text": [
      "/tmp/tmp.KbiES6I0qN/Ax-main/ax/core/map_data.py:188: FutureWarning: The behavior of DataFrame concatenation with empty or all-NA entries is deprecated. In a future version, this will no longer exclude empty or all-NA columns when determining the result dtypes. To retain the old behavior, exclude the relevant entries before the concat operation.\n",
      "  df = pd.concat(\n"
     ]
    },
    {
     "name": "stderr",
     "output_type": "stream",
     "text": [
      "/tmp/tmp.KbiES6I0qN/Ax-main/ax/core/map_data.py:188: FutureWarning: The behavior of DataFrame concatenation with empty or all-NA entries is deprecated. In a future version, this will no longer exclude empty or all-NA columns when determining the result dtypes. To retain the old behavior, exclude the relevant entries before the concat operation.\n",
      "  df = pd.concat(\n",
      "[INFO 03-01 18:13:57] ax.early_stopping.strategies.base: The number of completed trials (0) is less than the minimum number of curves needed for early stopping (5). Not early stopping.\n"
     ]
    },
    {
     "name": "stderr",
     "output_type": "stream",
     "text": [
      "[INFO 03-01 18:13:57] Scheduler: Waiting for completed trials (for 10 sec, currently running trials: 5).\n"
     ]
    },
    {
     "name": "stderr",
     "output_type": "stream",
     "text": [
      "[INFO 03-01 18:14:07] Scheduler: Fetching data for newly completed trials: [].\n"
     ]
    },
    {
     "name": "stderr",
     "output_type": "stream",
     "text": [
      "[INFO 03-01 18:14:07] Scheduler: Fetching data for trials: 0 - 4 because some metrics on experiment are available while trials are running.\n"
     ]
    },
    {
     "name": "stderr",
     "output_type": "stream",
     "text": [
      "/tmp/tmp.KbiES6I0qN/Ax-main/ax/core/map_data.py:188: FutureWarning: The behavior of DataFrame concatenation with empty or all-NA entries is deprecated. In a future version, this will no longer exclude empty or all-NA columns when determining the result dtypes. To retain the old behavior, exclude the relevant entries before the concat operation.\n",
      "  df = pd.concat(\n",
      "/tmp/tmp.KbiES6I0qN/Ax-main/ax/core/map_data.py:188: FutureWarning: The behavior of DataFrame concatenation with empty or all-NA entries is deprecated. In a future version, this will no longer exclude empty or all-NA columns when determining the result dtypes. To retain the old behavior, exclude the relevant entries before the concat operation.\n",
      "  df = pd.concat(\n",
      "[INFO 03-01 18:14:08] ax.early_stopping.strategies.base: The number of completed trials (0) is less than the minimum number of curves needed for early stopping (5). Not early stopping.\n"
     ]
    },
    {
     "name": "stderr",
     "output_type": "stream",
     "text": [
      "[INFO 03-01 18:14:08] Scheduler: Waiting for completed trials (for 10 sec, currently running trials: 5).\n"
     ]
    },
    {
     "name": "stderr",
     "output_type": "stream",
     "text": [
      "[INFO 03-01 18:14:18] Scheduler: Fetching data for newly completed trials: [].\n"
     ]
    },
    {
     "name": "stderr",
     "output_type": "stream",
     "text": [
      "[INFO 03-01 18:14:18] Scheduler: Fetching data for trials: 0 - 4 because some metrics on experiment are available while trials are running.\n"
     ]
    },
    {
     "name": "stderr",
     "output_type": "stream",
     "text": [
      "/tmp/tmp.KbiES6I0qN/Ax-main/ax/core/map_data.py:188: FutureWarning: The behavior of DataFrame concatenation with empty or all-NA entries is deprecated. In a future version, this will no longer exclude empty or all-NA columns when determining the result dtypes. To retain the old behavior, exclude the relevant entries before the concat operation.\n",
      "  df = pd.concat(\n",
      "/tmp/tmp.KbiES6I0qN/Ax-main/ax/core/map_data.py:188: FutureWarning: The behavior of DataFrame concatenation with empty or all-NA entries is deprecated. In a future version, this will no longer exclude empty or all-NA columns when determining the result dtypes. To retain the old behavior, exclude the relevant entries before the concat operation.\n",
      "  df = pd.concat(\n",
      "[INFO 03-01 18:14:18] ax.early_stopping.strategies.base: The number of completed trials (0) is less than the minimum number of curves needed for early stopping (5). Not early stopping.\n"
     ]
    },
    {
     "name": "stderr",
     "output_type": "stream",
     "text": [
      "[INFO 03-01 18:14:18] Scheduler: Waiting for completed trials (for 10 sec, currently running trials: 5).\n"
     ]
    },
    {
     "name": "stderr",
     "output_type": "stream",
     "text": [
      "[INFO 03-01 18:14:28] Scheduler: Fetching data for newly completed trials: [].\n"
     ]
    },
    {
     "name": "stderr",
     "output_type": "stream",
     "text": [
      "[INFO 03-01 18:14:28] Scheduler: Fetching data for trials: 0 - 4 because some metrics on experiment are available while trials are running.\n"
     ]
    },
    {
     "name": "stderr",
     "output_type": "stream",
     "text": [
      "/tmp/tmp.KbiES6I0qN/Ax-main/ax/core/map_data.py:188: FutureWarning: The behavior of DataFrame concatenation with empty or all-NA entries is deprecated. In a future version, this will no longer exclude empty or all-NA columns when determining the result dtypes. To retain the old behavior, exclude the relevant entries before the concat operation.\n",
      "  df = pd.concat(\n",
      "/tmp/tmp.KbiES6I0qN/Ax-main/ax/core/map_data.py:188: FutureWarning: The behavior of DataFrame concatenation with empty or all-NA entries is deprecated. In a future version, this will no longer exclude empty or all-NA columns when determining the result dtypes. To retain the old behavior, exclude the relevant entries before the concat operation.\n",
      "  df = pd.concat(\n",
      "[INFO 03-01 18:14:28] ax.early_stopping.strategies.base: The number of completed trials (0) is less than the minimum number of curves needed for early stopping (5). Not early stopping.\n"
     ]
    },
    {
     "name": "stderr",
     "output_type": "stream",
     "text": [
      "[INFO 03-01 18:14:28] Scheduler: Waiting for completed trials (for 10 sec, currently running trials: 5).\n"
     ]
    },
    {
     "name": "stderr",
     "output_type": "stream",
     "text": [
      "[INFO 03-01 18:14:38] Scheduler: Fetching data for newly completed trials: [].\n"
     ]
    },
    {
     "name": "stderr",
     "output_type": "stream",
     "text": [
      "[INFO 03-01 18:14:38] Scheduler: Fetching data for trials: 0 - 4 because some metrics on experiment are available while trials are running.\n"
     ]
    },
    {
     "name": "stderr",
     "output_type": "stream",
     "text": [
      "/tmp/tmp.KbiES6I0qN/Ax-main/ax/core/map_data.py:188: FutureWarning: The behavior of DataFrame concatenation with empty or all-NA entries is deprecated. In a future version, this will no longer exclude empty or all-NA columns when determining the result dtypes. To retain the old behavior, exclude the relevant entries before the concat operation.\n",
      "  df = pd.concat(\n"
     ]
    },
    {
     "name": "stderr",
     "output_type": "stream",
     "text": [
      "/tmp/tmp.KbiES6I0qN/Ax-main/ax/core/map_data.py:188: FutureWarning: The behavior of DataFrame concatenation with empty or all-NA entries is deprecated. In a future version, this will no longer exclude empty or all-NA columns when determining the result dtypes. To retain the old behavior, exclude the relevant entries before the concat operation.\n",
      "  df = pd.concat(\n",
      "[INFO 03-01 18:14:39] ax.early_stopping.strategies.base: The number of completed trials (0) is less than the minimum number of curves needed for early stopping (5). Not early stopping.\n"
     ]
    },
    {
     "name": "stderr",
     "output_type": "stream",
     "text": [
      "[INFO 03-01 18:14:39] Scheduler: Waiting for completed trials (for 10 sec, currently running trials: 5).\n"
     ]
    },
    {
     "name": "stderr",
     "output_type": "stream",
     "text": [
      "[INFO 03-01 18:14:49] Scheduler: Fetching data for newly completed trials: [].\n"
     ]
    },
    {
     "name": "stderr",
     "output_type": "stream",
     "text": [
      "[INFO 03-01 18:14:49] Scheduler: Fetching data for trials: 0 - 4 because some metrics on experiment are available while trials are running.\n"
     ]
    },
    {
     "name": "stderr",
     "output_type": "stream",
     "text": [
      "/tmp/tmp.KbiES6I0qN/Ax-main/ax/core/map_data.py:188: FutureWarning: The behavior of DataFrame concatenation with empty or all-NA entries is deprecated. In a future version, this will no longer exclude empty or all-NA columns when determining the result dtypes. To retain the old behavior, exclude the relevant entries before the concat operation.\n",
      "  df = pd.concat(\n"
     ]
    },
    {
     "name": "stderr",
     "output_type": "stream",
     "text": [
      "/tmp/tmp.KbiES6I0qN/Ax-main/ax/core/map_data.py:188: FutureWarning: The behavior of DataFrame concatenation with empty or all-NA entries is deprecated. In a future version, this will no longer exclude empty or all-NA columns when determining the result dtypes. To retain the old behavior, exclude the relevant entries before the concat operation.\n",
      "  df = pd.concat(\n",
      "[INFO 03-01 18:14:49] ax.early_stopping.strategies.base: The number of completed trials (0) is less than the minimum number of curves needed for early stopping (5). Not early stopping.\n"
     ]
    },
    {
     "name": "stderr",
     "output_type": "stream",
     "text": [
      "[INFO 03-01 18:14:49] Scheduler: Waiting for completed trials (for 10 sec, currently running trials: 5).\n"
     ]
    },
    {
     "name": "stderr",
     "output_type": "stream",
     "text": [
      "[INFO 03-01 18:14:59] Scheduler: Fetching data for newly completed trials: [].\n"
     ]
    },
    {
     "name": "stderr",
     "output_type": "stream",
     "text": [
      "[INFO 03-01 18:14:59] Scheduler: Fetching data for trials: 0 - 4 because some metrics on experiment are available while trials are running.\n"
     ]
    },
    {
     "name": "stderr",
     "output_type": "stream",
     "text": [
      "/tmp/tmp.KbiES6I0qN/Ax-main/ax/core/map_data.py:188: FutureWarning: The behavior of DataFrame concatenation with empty or all-NA entries is deprecated. In a future version, this will no longer exclude empty or all-NA columns when determining the result dtypes. To retain the old behavior, exclude the relevant entries before the concat operation.\n",
      "  df = pd.concat(\n"
     ]
    },
    {
     "name": "stderr",
     "output_type": "stream",
     "text": [
      "/tmp/tmp.KbiES6I0qN/Ax-main/ax/core/map_data.py:188: FutureWarning: The behavior of DataFrame concatenation with empty or all-NA entries is deprecated. In a future version, this will no longer exclude empty or all-NA columns when determining the result dtypes. To retain the old behavior, exclude the relevant entries before the concat operation.\n",
      "  df = pd.concat(\n",
      "[INFO 03-01 18:14:59] ax.early_stopping.strategies.base: The number of completed trials (0) is less than the minimum number of curves needed for early stopping (5). Not early stopping.\n"
     ]
    },
    {
     "name": "stderr",
     "output_type": "stream",
     "text": [
      "[INFO 03-01 18:14:59] Scheduler: Waiting for completed trials (for 10 sec, currently running trials: 5).\n"
     ]
    },
    {
     "name": "stderr",
     "output_type": "stream",
     "text": [
      "[INFO 03-01 18:15:09] Scheduler: Fetching data for newly completed trials: [].\n"
     ]
    },
    {
     "name": "stderr",
     "output_type": "stream",
     "text": [
      "[INFO 03-01 18:15:09] Scheduler: Fetching data for trials: 0 - 4 because some metrics on experiment are available while trials are running.\n"
     ]
    },
    {
     "name": "stderr",
     "output_type": "stream",
     "text": [
      "/tmp/tmp.KbiES6I0qN/Ax-main/ax/core/map_data.py:188: FutureWarning: The behavior of DataFrame concatenation with empty or all-NA entries is deprecated. In a future version, this will no longer exclude empty or all-NA columns when determining the result dtypes. To retain the old behavior, exclude the relevant entries before the concat operation.\n",
      "  df = pd.concat(\n"
     ]
    },
    {
     "name": "stderr",
     "output_type": "stream",
     "text": [
      "/tmp/tmp.KbiES6I0qN/Ax-main/ax/core/map_data.py:188: FutureWarning: The behavior of DataFrame concatenation with empty or all-NA entries is deprecated. In a future version, this will no longer exclude empty or all-NA columns when determining the result dtypes. To retain the old behavior, exclude the relevant entries before the concat operation.\n",
      "  df = pd.concat(\n",
      "[INFO 03-01 18:15:10] ax.early_stopping.strategies.base: The number of completed trials (0) is less than the minimum number of curves needed for early stopping (5). Not early stopping.\n"
     ]
    },
    {
     "name": "stderr",
     "output_type": "stream",
     "text": [
      "[INFO 03-01 18:15:10] Scheduler: Waiting for completed trials (for 10 sec, currently running trials: 5).\n"
     ]
    },
    {
     "name": "stderr",
     "output_type": "stream",
     "text": [
      "[INFO 03-01 18:15:20] Scheduler: Fetching data for newly completed trials: [].\n"
     ]
    },
    {
     "name": "stderr",
     "output_type": "stream",
     "text": [
      "[INFO 03-01 18:15:20] Scheduler: Fetching data for trials: 0 - 4 because some metrics on experiment are available while trials are running.\n"
     ]
    },
    {
     "name": "stderr",
     "output_type": "stream",
     "text": [
      "/tmp/tmp.KbiES6I0qN/Ax-main/ax/core/map_data.py:188: FutureWarning: The behavior of DataFrame concatenation with empty or all-NA entries is deprecated. In a future version, this will no longer exclude empty or all-NA columns when determining the result dtypes. To retain the old behavior, exclude the relevant entries before the concat operation.\n",
      "  df = pd.concat(\n"
     ]
    },
    {
     "name": "stderr",
     "output_type": "stream",
     "text": [
      "/tmp/tmp.KbiES6I0qN/Ax-main/ax/core/map_data.py:188: FutureWarning: The behavior of DataFrame concatenation with empty or all-NA entries is deprecated. In a future version, this will no longer exclude empty or all-NA columns when determining the result dtypes. To retain the old behavior, exclude the relevant entries before the concat operation.\n",
      "  df = pd.concat(\n",
      "[INFO 03-01 18:15:20] ax.early_stopping.strategies.base: The number of completed trials (0) is less than the minimum number of curves needed for early stopping (5). Not early stopping.\n"
     ]
    },
    {
     "name": "stderr",
     "output_type": "stream",
     "text": [
      "[INFO 03-01 18:15:20] Scheduler: Waiting for completed trials (for 10 sec, currently running trials: 5).\n"
     ]
    },
    {
     "name": "stderr",
     "output_type": "stream",
     "text": [
      "[INFO 03-01 18:15:30] Scheduler: Fetching data for newly completed trials: [].\n"
     ]
    },
    {
     "name": "stderr",
     "output_type": "stream",
     "text": [
      "[INFO 03-01 18:15:30] Scheduler: Fetching data for trials: 0 - 4 because some metrics on experiment are available while trials are running.\n"
     ]
    },
    {
     "name": "stderr",
     "output_type": "stream",
     "text": [
      "/tmp/tmp.KbiES6I0qN/Ax-main/ax/core/map_data.py:188: FutureWarning: The behavior of DataFrame concatenation with empty or all-NA entries is deprecated. In a future version, this will no longer exclude empty or all-NA columns when determining the result dtypes. To retain the old behavior, exclude the relevant entries before the concat operation.\n",
      "  df = pd.concat(\n"
     ]
    },
    {
     "name": "stderr",
     "output_type": "stream",
     "text": [
      "/tmp/tmp.KbiES6I0qN/Ax-main/ax/core/map_data.py:188: FutureWarning: The behavior of DataFrame concatenation with empty or all-NA entries is deprecated. In a future version, this will no longer exclude empty or all-NA columns when determining the result dtypes. To retain the old behavior, exclude the relevant entries before the concat operation.\n",
      "  df = pd.concat(\n",
      "[INFO 03-01 18:15:30] ax.early_stopping.strategies.base: The number of completed trials (0) is less than the minimum number of curves needed for early stopping (5). Not early stopping.\n"
     ]
    },
    {
     "name": "stderr",
     "output_type": "stream",
     "text": [
      "[INFO 03-01 18:15:30] Scheduler: Waiting for completed trials (for 10 sec, currently running trials: 5).\n"
     ]
    },
    {
     "name": "stderr",
     "output_type": "stream",
     "text": [
      "[INFO 03-01 18:15:40] Scheduler: Fetching data for newly completed trials: [].\n"
     ]
    },
    {
     "name": "stderr",
     "output_type": "stream",
     "text": [
      "[INFO 03-01 18:15:40] Scheduler: Fetching data for trials: 0 - 4 because some metrics on experiment are available while trials are running.\n"
     ]
    },
    {
     "name": "stderr",
     "output_type": "stream",
     "text": [
      "/tmp/tmp.KbiES6I0qN/Ax-main/ax/core/map_data.py:188: FutureWarning: The behavior of DataFrame concatenation with empty or all-NA entries is deprecated. In a future version, this will no longer exclude empty or all-NA columns when determining the result dtypes. To retain the old behavior, exclude the relevant entries before the concat operation.\n",
      "  df = pd.concat(\n"
     ]
    },
    {
     "name": "stderr",
     "output_type": "stream",
     "text": [
      "/tmp/tmp.KbiES6I0qN/Ax-main/ax/core/map_data.py:188: FutureWarning: The behavior of DataFrame concatenation with empty or all-NA entries is deprecated. In a future version, this will no longer exclude empty or all-NA columns when determining the result dtypes. To retain the old behavior, exclude the relevant entries before the concat operation.\n",
      "  df = pd.concat(\n",
      "[INFO 03-01 18:15:40] ax.early_stopping.strategies.base: The number of completed trials (0) is less than the minimum number of curves needed for early stopping (5). Not early stopping.\n"
     ]
    },
    {
     "name": "stderr",
     "output_type": "stream",
     "text": [
      "[INFO 03-01 18:15:41] Scheduler: Waiting for completed trials (for 10 sec, currently running trials: 5).\n"
     ]
    },
    {
     "name": "stderr",
     "output_type": "stream",
     "text": [
      "[INFO 03-01 18:15:51] Scheduler: Fetching data for newly completed trials: [].\n"
     ]
    },
    {
     "name": "stderr",
     "output_type": "stream",
     "text": [
      "[INFO 03-01 18:15:51] Scheduler: Fetching data for trials: 0 - 4 because some metrics on experiment are available while trials are running.\n"
     ]
    },
    {
     "name": "stderr",
     "output_type": "stream",
     "text": [
      "/tmp/tmp.KbiES6I0qN/Ax-main/ax/core/map_data.py:188: FutureWarning: The behavior of DataFrame concatenation with empty or all-NA entries is deprecated. In a future version, this will no longer exclude empty or all-NA columns when determining the result dtypes. To retain the old behavior, exclude the relevant entries before the concat operation.\n",
      "  df = pd.concat(\n",
      "/tmp/tmp.KbiES6I0qN/Ax-main/ax/core/map_data.py:188: FutureWarning: The behavior of DataFrame concatenation with empty or all-NA entries is deprecated. In a future version, this will no longer exclude empty or all-NA columns when determining the result dtypes. To retain the old behavior, exclude the relevant entries before the concat operation.\n",
      "  df = pd.concat(\n",
      "[INFO 03-01 18:15:51] ax.early_stopping.strategies.base: The number of completed trials (0) is less than the minimum number of curves needed for early stopping (5). Not early stopping.\n"
     ]
    },
    {
     "name": "stderr",
     "output_type": "stream",
     "text": [
      "[INFO 03-01 18:15:51] Scheduler: Waiting for completed trials (for 10 sec, currently running trials: 5).\n"
     ]
    },
    {
     "name": "stderr",
     "output_type": "stream",
     "text": [
      "[INFO 03-01 18:16:01] Scheduler: Fetching data for newly completed trials: [].\n"
     ]
    },
    {
     "name": "stderr",
     "output_type": "stream",
     "text": [
      "[INFO 03-01 18:16:01] Scheduler: Fetching data for trials: 0 - 4 because some metrics on experiment are available while trials are running.\n"
     ]
    },
    {
     "name": "stderr",
     "output_type": "stream",
     "text": [
      "/tmp/tmp.KbiES6I0qN/Ax-main/ax/core/map_data.py:188: FutureWarning: The behavior of DataFrame concatenation with empty or all-NA entries is deprecated. In a future version, this will no longer exclude empty or all-NA columns when determining the result dtypes. To retain the old behavior, exclude the relevant entries before the concat operation.\n",
      "  df = pd.concat(\n",
      "/tmp/tmp.KbiES6I0qN/Ax-main/ax/core/map_data.py:188: FutureWarning: The behavior of DataFrame concatenation with empty or all-NA entries is deprecated. In a future version, this will no longer exclude empty or all-NA columns when determining the result dtypes. To retain the old behavior, exclude the relevant entries before the concat operation.\n",
      "  df = pd.concat(\n"
     ]
    },
    {
     "name": "stderr",
     "output_type": "stream",
     "text": [
      "[INFO 03-01 18:16:01] ax.early_stopping.strategies.base: The number of completed trials (0) is less than the minimum number of curves needed for early stopping (5). Not early stopping.\n"
     ]
    },
    {
     "name": "stderr",
     "output_type": "stream",
     "text": [
      "[INFO 03-01 18:16:01] Scheduler: Waiting for completed trials (for 10 sec, currently running trials: 5).\n"
     ]
    },
    {
     "name": "stderr",
     "output_type": "stream",
     "text": [
      "[INFO 03-01 18:16:11] Scheduler: Fetching data for newly completed trials: [].\n"
     ]
    },
    {
     "name": "stderr",
     "output_type": "stream",
     "text": [
      "[INFO 03-01 18:16:11] Scheduler: Fetching data for trials: 0 - 4 because some metrics on experiment are available while trials are running.\n"
     ]
    },
    {
     "name": "stderr",
     "output_type": "stream",
     "text": [
      "/tmp/tmp.KbiES6I0qN/Ax-main/ax/core/map_data.py:188: FutureWarning: The behavior of DataFrame concatenation with empty or all-NA entries is deprecated. In a future version, this will no longer exclude empty or all-NA columns when determining the result dtypes. To retain the old behavior, exclude the relevant entries before the concat operation.\n",
      "  df = pd.concat(\n",
      "/tmp/tmp.KbiES6I0qN/Ax-main/ax/core/map_data.py:188: FutureWarning: The behavior of DataFrame concatenation with empty or all-NA entries is deprecated. In a future version, this will no longer exclude empty or all-NA columns when determining the result dtypes. To retain the old behavior, exclude the relevant entries before the concat operation.\n",
      "  df = pd.concat(\n",
      "[INFO 03-01 18:16:11] ax.early_stopping.strategies.base: The number of completed trials (0) is less than the minimum number of curves needed for early stopping (5). Not early stopping.\n"
     ]
    },
    {
     "name": "stderr",
     "output_type": "stream",
     "text": [
      "[INFO 03-01 18:16:11] Scheduler: Waiting for completed trials (for 10 sec, currently running trials: 5).\n"
     ]
    },
    {
     "name": "stderr",
     "output_type": "stream",
     "text": [
      "[INFO 03-01 18:16:21] Scheduler: Fetching data for newly completed trials: [].\n"
     ]
    },
    {
     "name": "stderr",
     "output_type": "stream",
     "text": [
      "[INFO 03-01 18:16:21] Scheduler: Fetching data for trials: 0 - 4 because some metrics on experiment are available while trials are running.\n"
     ]
    },
    {
     "name": "stderr",
     "output_type": "stream",
     "text": [
      "/tmp/tmp.KbiES6I0qN/Ax-main/ax/core/map_data.py:188: FutureWarning: The behavior of DataFrame concatenation with empty or all-NA entries is deprecated. In a future version, this will no longer exclude empty or all-NA columns when determining the result dtypes. To retain the old behavior, exclude the relevant entries before the concat operation.\n",
      "  df = pd.concat(\n"
     ]
    },
    {
     "name": "stderr",
     "output_type": "stream",
     "text": [
      "/tmp/tmp.KbiES6I0qN/Ax-main/ax/core/map_data.py:188: FutureWarning: The behavior of DataFrame concatenation with empty or all-NA entries is deprecated. In a future version, this will no longer exclude empty or all-NA columns when determining the result dtypes. To retain the old behavior, exclude the relevant entries before the concat operation.\n",
      "  df = pd.concat(\n",
      "[INFO 03-01 18:16:22] ax.early_stopping.strategies.base: The number of completed trials (0) is less than the minimum number of curves needed for early stopping (5). Not early stopping.\n"
     ]
    },
    {
     "name": "stderr",
     "output_type": "stream",
     "text": [
      "[INFO 03-01 18:16:22] Scheduler: Waiting for completed trials (for 10 sec, currently running trials: 5).\n"
     ]
    },
    {
     "name": "stderr",
     "output_type": "stream",
     "text": [
      "[INFO 03-01 18:16:32] Scheduler: Fetching data for newly completed trials: [].\n"
     ]
    },
    {
     "name": "stderr",
     "output_type": "stream",
     "text": [
      "[INFO 03-01 18:16:32] Scheduler: Fetching data for trials: 0 - 4 because some metrics on experiment are available while trials are running.\n"
     ]
    },
    {
     "name": "stderr",
     "output_type": "stream",
     "text": [
      "/tmp/tmp.KbiES6I0qN/Ax-main/ax/core/map_data.py:188: FutureWarning: The behavior of DataFrame concatenation with empty or all-NA entries is deprecated. In a future version, this will no longer exclude empty or all-NA columns when determining the result dtypes. To retain the old behavior, exclude the relevant entries before the concat operation.\n",
      "  df = pd.concat(\n"
     ]
    },
    {
     "name": "stderr",
     "output_type": "stream",
     "text": [
      "/tmp/tmp.KbiES6I0qN/Ax-main/ax/core/map_data.py:188: FutureWarning: The behavior of DataFrame concatenation with empty or all-NA entries is deprecated. In a future version, this will no longer exclude empty or all-NA columns when determining the result dtypes. To retain the old behavior, exclude the relevant entries before the concat operation.\n",
      "  df = pd.concat(\n",
      "[INFO 03-01 18:16:32] ax.early_stopping.strategies.base: The number of completed trials (0) is less than the minimum number of curves needed for early stopping (5). Not early stopping.\n"
     ]
    },
    {
     "name": "stderr",
     "output_type": "stream",
     "text": [
      "[INFO 03-01 18:16:32] Scheduler: Waiting for completed trials (for 10 sec, currently running trials: 5).\n"
     ]
    },
    {
     "name": "stderr",
     "output_type": "stream",
     "text": [
      "[INFO 03-01 18:16:42] Scheduler: Fetching data for newly completed trials: [].\n"
     ]
    },
    {
     "name": "stderr",
     "output_type": "stream",
     "text": [
      "[INFO 03-01 18:16:42] Scheduler: Fetching data for trials: 0 - 4 because some metrics on experiment are available while trials are running.\n"
     ]
    },
    {
     "name": "stderr",
     "output_type": "stream",
     "text": [
      "/tmp/tmp.KbiES6I0qN/Ax-main/ax/core/map_data.py:188: FutureWarning: The behavior of DataFrame concatenation with empty or all-NA entries is deprecated. In a future version, this will no longer exclude empty or all-NA columns when determining the result dtypes. To retain the old behavior, exclude the relevant entries before the concat operation.\n",
      "  df = pd.concat(\n"
     ]
    },
    {
     "name": "stderr",
     "output_type": "stream",
     "text": [
      "/tmp/tmp.KbiES6I0qN/Ax-main/ax/core/map_data.py:188: FutureWarning: The behavior of DataFrame concatenation with empty or all-NA entries is deprecated. In a future version, this will no longer exclude empty or all-NA columns when determining the result dtypes. To retain the old behavior, exclude the relevant entries before the concat operation.\n",
      "  df = pd.concat(\n",
      "[INFO 03-01 18:16:42] ax.early_stopping.strategies.base: The number of completed trials (0) is less than the minimum number of curves needed for early stopping (5). Not early stopping.\n"
     ]
    },
    {
     "name": "stderr",
     "output_type": "stream",
     "text": [
      "[INFO 03-01 18:16:42] Scheduler: Waiting for completed trials (for 10 sec, currently running trials: 5).\n"
     ]
    },
    {
     "name": "stderr",
     "output_type": "stream",
     "text": [
      "[INFO 03-01 18:16:52] Scheduler: Fetching data for newly completed trials: [].\n"
     ]
    },
    {
     "name": "stderr",
     "output_type": "stream",
     "text": [
      "[INFO 03-01 18:16:52] Scheduler: Fetching data for trials: 0 - 4 because some metrics on experiment are available while trials are running.\n"
     ]
    },
    {
     "name": "stderr",
     "output_type": "stream",
     "text": [
      "/tmp/tmp.KbiES6I0qN/Ax-main/ax/core/map_data.py:188: FutureWarning: The behavior of DataFrame concatenation with empty or all-NA entries is deprecated. In a future version, this will no longer exclude empty or all-NA columns when determining the result dtypes. To retain the old behavior, exclude the relevant entries before the concat operation.\n",
      "  df = pd.concat(\n"
     ]
    },
    {
     "name": "stderr",
     "output_type": "stream",
     "text": [
      "/tmp/tmp.KbiES6I0qN/Ax-main/ax/core/map_data.py:188: FutureWarning: The behavior of DataFrame concatenation with empty or all-NA entries is deprecated. In a future version, this will no longer exclude empty or all-NA columns when determining the result dtypes. To retain the old behavior, exclude the relevant entries before the concat operation.\n",
      "  df = pd.concat(\n",
      "[INFO 03-01 18:16:53] ax.early_stopping.strategies.base: The number of completed trials (0) is less than the minimum number of curves needed for early stopping (5). Not early stopping.\n"
     ]
    },
    {
     "name": "stderr",
     "output_type": "stream",
     "text": [
      "[INFO 03-01 18:16:53] Scheduler: Waiting for completed trials (for 10 sec, currently running trials: 5).\n"
     ]
    },
    {
     "name": "stderr",
     "output_type": "stream",
     "text": [
      "[INFO 03-01 18:17:03] Scheduler: Fetching data for newly completed trials: [].\n"
     ]
    },
    {
     "name": "stderr",
     "output_type": "stream",
     "text": [
      "[INFO 03-01 18:17:03] Scheduler: Fetching data for trials: 0 - 4 because some metrics on experiment are available while trials are running.\n"
     ]
    },
    {
     "name": "stderr",
     "output_type": "stream",
     "text": [
      "/tmp/tmp.KbiES6I0qN/Ax-main/ax/core/map_data.py:188: FutureWarning: The behavior of DataFrame concatenation with empty or all-NA entries is deprecated. In a future version, this will no longer exclude empty or all-NA columns when determining the result dtypes. To retain the old behavior, exclude the relevant entries before the concat operation.\n",
      "  df = pd.concat(\n"
     ]
    },
    {
     "name": "stderr",
     "output_type": "stream",
     "text": [
      "/tmp/tmp.KbiES6I0qN/Ax-main/ax/core/map_data.py:188: FutureWarning: The behavior of DataFrame concatenation with empty or all-NA entries is deprecated. In a future version, this will no longer exclude empty or all-NA columns when determining the result dtypes. To retain the old behavior, exclude the relevant entries before the concat operation.\n",
      "  df = pd.concat(\n",
      "[INFO 03-01 18:17:03] ax.early_stopping.strategies.base: The number of completed trials (0) is less than the minimum number of curves needed for early stopping (5). Not early stopping.\n"
     ]
    },
    {
     "name": "stderr",
     "output_type": "stream",
     "text": [
      "[INFO 03-01 18:17:03] Scheduler: Waiting for completed trials (for 10 sec, currently running trials: 5).\n"
     ]
    },
    {
     "name": "stderr",
     "output_type": "stream",
     "text": [
      "[INFO 03-01 18:17:13] Scheduler: Fetching data for newly completed trials: [].\n"
     ]
    },
    {
     "name": "stderr",
     "output_type": "stream",
     "text": [
      "[INFO 03-01 18:17:13] Scheduler: Fetching data for trials: 0 - 4 because some metrics on experiment are available while trials are running.\n"
     ]
    },
    {
     "name": "stderr",
     "output_type": "stream",
     "text": [
      "/tmp/tmp.KbiES6I0qN/Ax-main/ax/core/map_data.py:188: FutureWarning: The behavior of DataFrame concatenation with empty or all-NA entries is deprecated. In a future version, this will no longer exclude empty or all-NA columns when determining the result dtypes. To retain the old behavior, exclude the relevant entries before the concat operation.\n",
      "  df = pd.concat(\n"
     ]
    },
    {
     "name": "stderr",
     "output_type": "stream",
     "text": [
      "/tmp/tmp.KbiES6I0qN/Ax-main/ax/core/map_data.py:188: FutureWarning: The behavior of DataFrame concatenation with empty or all-NA entries is deprecated. In a future version, this will no longer exclude empty or all-NA columns when determining the result dtypes. To retain the old behavior, exclude the relevant entries before the concat operation.\n",
      "  df = pd.concat(\n",
      "[INFO 03-01 18:17:13] ax.early_stopping.strategies.base: The number of completed trials (0) is less than the minimum number of curves needed for early stopping (5). Not early stopping.\n"
     ]
    },
    {
     "name": "stderr",
     "output_type": "stream",
     "text": [
      "[INFO 03-01 18:17:13] Scheduler: Waiting for completed trials (for 10 sec, currently running trials: 5).\n"
     ]
    },
    {
     "name": "stderr",
     "output_type": "stream",
     "text": [
      "[INFO 03-01 18:17:23] Scheduler: Fetching data for newly completed trials: [].\n"
     ]
    },
    {
     "name": "stderr",
     "output_type": "stream",
     "text": [
      "[INFO 03-01 18:17:23] Scheduler: Fetching data for trials: 0 - 4 because some metrics on experiment are available while trials are running.\n"
     ]
    },
    {
     "name": "stderr",
     "output_type": "stream",
     "text": [
      "/tmp/tmp.KbiES6I0qN/Ax-main/ax/core/map_data.py:188: FutureWarning: The behavior of DataFrame concatenation with empty or all-NA entries is deprecated. In a future version, this will no longer exclude empty or all-NA columns when determining the result dtypes. To retain the old behavior, exclude the relevant entries before the concat operation.\n",
      "  df = pd.concat(\n",
      "/tmp/tmp.KbiES6I0qN/Ax-main/ax/core/map_data.py:188: FutureWarning: The behavior of DataFrame concatenation with empty or all-NA entries is deprecated. In a future version, this will no longer exclude empty or all-NA columns when determining the result dtypes. To retain the old behavior, exclude the relevant entries before the concat operation.\n",
      "  df = pd.concat(\n",
      "[INFO 03-01 18:17:24] ax.early_stopping.strategies.base: The number of completed trials (0) is less than the minimum number of curves needed for early stopping (5). Not early stopping.\n"
     ]
    },
    {
     "name": "stderr",
     "output_type": "stream",
     "text": [
      "[INFO 03-01 18:17:24] Scheduler: Waiting for completed trials (for 10 sec, currently running trials: 5).\n"
     ]
    },
    {
     "name": "stderr",
     "output_type": "stream",
     "text": [
      "[INFO 03-01 18:17:34] Scheduler: Fetching data for newly completed trials: [].\n"
     ]
    },
    {
     "name": "stderr",
     "output_type": "stream",
     "text": [
      "[INFO 03-01 18:17:34] Scheduler: Fetching data for trials: 0 - 4 because some metrics on experiment are available while trials are running.\n"
     ]
    },
    {
     "name": "stderr",
     "output_type": "stream",
     "text": [
      "/tmp/tmp.KbiES6I0qN/Ax-main/ax/core/map_data.py:188: FutureWarning: The behavior of DataFrame concatenation with empty or all-NA entries is deprecated. In a future version, this will no longer exclude empty or all-NA columns when determining the result dtypes. To retain the old behavior, exclude the relevant entries before the concat operation.\n",
      "  df = pd.concat(\n"
     ]
    },
    {
     "name": "stderr",
     "output_type": "stream",
     "text": [
      "/tmp/tmp.KbiES6I0qN/Ax-main/ax/core/map_data.py:188: FutureWarning: The behavior of DataFrame concatenation with empty or all-NA entries is deprecated. In a future version, this will no longer exclude empty or all-NA columns when determining the result dtypes. To retain the old behavior, exclude the relevant entries before the concat operation.\n",
      "  df = pd.concat(\n",
      "[INFO 03-01 18:17:34] ax.early_stopping.strategies.base: The number of completed trials (0) is less than the minimum number of curves needed for early stopping (5). Not early stopping.\n"
     ]
    },
    {
     "name": "stderr",
     "output_type": "stream",
     "text": [
      "[INFO 03-01 18:17:34] Scheduler: Waiting for completed trials (for 10 sec, currently running trials: 5).\n"
     ]
    },
    {
     "name": "stderr",
     "output_type": "stream",
     "text": [
      "[INFO 03-01 18:17:44] Scheduler: Fetching data for newly completed trials: [].\n"
     ]
    },
    {
     "name": "stderr",
     "output_type": "stream",
     "text": [
      "[INFO 03-01 18:17:44] Scheduler: Fetching data for trials: 0 - 4 because some metrics on experiment are available while trials are running.\n"
     ]
    },
    {
     "name": "stderr",
     "output_type": "stream",
     "text": [
      "/tmp/tmp.KbiES6I0qN/Ax-main/ax/core/map_data.py:188: FutureWarning: The behavior of DataFrame concatenation with empty or all-NA entries is deprecated. In a future version, this will no longer exclude empty or all-NA columns when determining the result dtypes. To retain the old behavior, exclude the relevant entries before the concat operation.\n",
      "  df = pd.concat(\n",
      "/tmp/tmp.KbiES6I0qN/Ax-main/ax/core/map_data.py:188: FutureWarning: The behavior of DataFrame concatenation with empty or all-NA entries is deprecated. In a future version, this will no longer exclude empty or all-NA columns when determining the result dtypes. To retain the old behavior, exclude the relevant entries before the concat operation.\n",
      "  df = pd.concat(\n",
      "[INFO 03-01 18:17:44] ax.early_stopping.strategies.base: The number of completed trials (0) is less than the minimum number of curves needed for early stopping (5). Not early stopping.\n"
     ]
    },
    {
     "name": "stderr",
     "output_type": "stream",
     "text": [
      "[INFO 03-01 18:17:44] Scheduler: Waiting for completed trials (for 10 sec, currently running trials: 5).\n"
     ]
    },
    {
     "name": "stderr",
     "output_type": "stream",
     "text": [
      "[INFO 03-01 18:17:54] Scheduler: Fetching data for newly completed trials: [].\n"
     ]
    },
    {
     "name": "stderr",
     "output_type": "stream",
     "text": [
      "[INFO 03-01 18:17:54] Scheduler: Fetching data for trials: 0 - 4 because some metrics on experiment are available while trials are running.\n"
     ]
    },
    {
     "name": "stderr",
     "output_type": "stream",
     "text": [
      "/tmp/tmp.KbiES6I0qN/Ax-main/ax/core/map_data.py:188: FutureWarning: The behavior of DataFrame concatenation with empty or all-NA entries is deprecated. In a future version, this will no longer exclude empty or all-NA columns when determining the result dtypes. To retain the old behavior, exclude the relevant entries before the concat operation.\n",
      "  df = pd.concat(\n",
      "/tmp/tmp.KbiES6I0qN/Ax-main/ax/core/map_data.py:188: FutureWarning: The behavior of DataFrame concatenation with empty or all-NA entries is deprecated. In a future version, this will no longer exclude empty or all-NA columns when determining the result dtypes. To retain the old behavior, exclude the relevant entries before the concat operation.\n",
      "  df = pd.concat(\n",
      "[INFO 03-01 18:17:55] ax.early_stopping.strategies.base: The number of completed trials (0) is less than the minimum number of curves needed for early stopping (5). Not early stopping.\n"
     ]
    },
    {
     "name": "stderr",
     "output_type": "stream",
     "text": [
      "[INFO 03-01 18:17:55] Scheduler: Waiting for completed trials (for 10 sec, currently running trials: 5).\n"
     ]
    },
    {
     "name": "stderr",
     "output_type": "stream",
     "text": [
      "[INFO 03-01 18:18:05] Scheduler: Fetching data for newly completed trials: [].\n"
     ]
    },
    {
     "name": "stderr",
     "output_type": "stream",
     "text": [
      "[INFO 03-01 18:18:05] Scheduler: Fetching data for trials: 0 - 4 because some metrics on experiment are available while trials are running.\n"
     ]
    },
    {
     "name": "stderr",
     "output_type": "stream",
     "text": [
      "/tmp/tmp.KbiES6I0qN/Ax-main/ax/core/map_data.py:188: FutureWarning: The behavior of DataFrame concatenation with empty or all-NA entries is deprecated. In a future version, this will no longer exclude empty or all-NA columns when determining the result dtypes. To retain the old behavior, exclude the relevant entries before the concat operation.\n",
      "  df = pd.concat(\n"
     ]
    },
    {
     "name": "stderr",
     "output_type": "stream",
     "text": [
      "/tmp/tmp.KbiES6I0qN/Ax-main/ax/core/map_data.py:188: FutureWarning: The behavior of DataFrame concatenation with empty or all-NA entries is deprecated. In a future version, this will no longer exclude empty or all-NA columns when determining the result dtypes. To retain the old behavior, exclude the relevant entries before the concat operation.\n",
      "  df = pd.concat(\n",
      "[INFO 03-01 18:18:05] ax.early_stopping.strategies.base: The number of completed trials (0) is less than the minimum number of curves needed for early stopping (5). Not early stopping.\n"
     ]
    },
    {
     "name": "stderr",
     "output_type": "stream",
     "text": [
      "[INFO 03-01 18:18:05] Scheduler: Waiting for completed trials (for 10 sec, currently running trials: 5).\n"
     ]
    },
    {
     "name": "stderr",
     "output_type": "stream",
     "text": [
      "[INFO 03-01 18:18:15] Scheduler: Fetching data for newly completed trials: [].\n"
     ]
    },
    {
     "name": "stderr",
     "output_type": "stream",
     "text": [
      "[INFO 03-01 18:18:15] Scheduler: Fetching data for trials: 0 - 4 because some metrics on experiment are available while trials are running.\n"
     ]
    },
    {
     "name": "stderr",
     "output_type": "stream",
     "text": [
      "/tmp/tmp.KbiES6I0qN/Ax-main/ax/core/map_data.py:188: FutureWarning: The behavior of DataFrame concatenation with empty or all-NA entries is deprecated. In a future version, this will no longer exclude empty or all-NA columns when determining the result dtypes. To retain the old behavior, exclude the relevant entries before the concat operation.\n",
      "  df = pd.concat(\n"
     ]
    },
    {
     "name": "stderr",
     "output_type": "stream",
     "text": [
      "/tmp/tmp.KbiES6I0qN/Ax-main/ax/core/map_data.py:188: FutureWarning: The behavior of DataFrame concatenation with empty or all-NA entries is deprecated. In a future version, this will no longer exclude empty or all-NA columns when determining the result dtypes. To retain the old behavior, exclude the relevant entries before the concat operation.\n",
      "  df = pd.concat(\n",
      "[INFO 03-01 18:18:15] ax.early_stopping.strategies.base: The number of completed trials (0) is less than the minimum number of curves needed for early stopping (5). Not early stopping.\n"
     ]
    },
    {
     "name": "stderr",
     "output_type": "stream",
     "text": [
      "[INFO 03-01 18:18:15] Scheduler: Waiting for completed trials (for 10 sec, currently running trials: 5).\n"
     ]
    },
    {
     "name": "stderr",
     "output_type": "stream",
     "text": [
      "[INFO 03-01 18:18:25] Scheduler: Fetching data for newly completed trials: [].\n"
     ]
    },
    {
     "name": "stderr",
     "output_type": "stream",
     "text": [
      "[INFO 03-01 18:18:25] Scheduler: Fetching data for trials: 0 - 4 because some metrics on experiment are available while trials are running.\n"
     ]
    },
    {
     "name": "stderr",
     "output_type": "stream",
     "text": [
      "/tmp/tmp.KbiES6I0qN/Ax-main/ax/core/map_data.py:188: FutureWarning: The behavior of DataFrame concatenation with empty or all-NA entries is deprecated. In a future version, this will no longer exclude empty or all-NA columns when determining the result dtypes. To retain the old behavior, exclude the relevant entries before the concat operation.\n",
      "  df = pd.concat(\n"
     ]
    },
    {
     "name": "stderr",
     "output_type": "stream",
     "text": [
      "/tmp/tmp.KbiES6I0qN/Ax-main/ax/core/map_data.py:188: FutureWarning: The behavior of DataFrame concatenation with empty or all-NA entries is deprecated. In a future version, this will no longer exclude empty or all-NA columns when determining the result dtypes. To retain the old behavior, exclude the relevant entries before the concat operation.\n",
      "  df = pd.concat(\n",
      "[INFO 03-01 18:18:26] ax.early_stopping.strategies.base: The number of completed trials (0) is less than the minimum number of curves needed for early stopping (5). Not early stopping.\n"
     ]
    },
    {
     "name": "stderr",
     "output_type": "stream",
     "text": [
      "[INFO 03-01 18:18:26] Scheduler: Waiting for completed trials (for 10 sec, currently running trials: 5).\n"
     ]
    },
    {
     "name": "stderr",
     "output_type": "stream",
     "text": [
      "[INFO 03-01 18:18:36] Scheduler: Fetching data for newly completed trials: [].\n"
     ]
    },
    {
     "name": "stderr",
     "output_type": "stream",
     "text": [
      "[INFO 03-01 18:18:36] Scheduler: Fetching data for trials: 0 - 4 because some metrics on experiment are available while trials are running.\n"
     ]
    },
    {
     "name": "stderr",
     "output_type": "stream",
     "text": [
      "/tmp/tmp.KbiES6I0qN/Ax-main/ax/core/map_data.py:188: FutureWarning: The behavior of DataFrame concatenation with empty or all-NA entries is deprecated. In a future version, this will no longer exclude empty or all-NA columns when determining the result dtypes. To retain the old behavior, exclude the relevant entries before the concat operation.\n",
      "  df = pd.concat(\n"
     ]
    },
    {
     "name": "stderr",
     "output_type": "stream",
     "text": [
      "/tmp/tmp.KbiES6I0qN/Ax-main/ax/core/map_data.py:188: FutureWarning: The behavior of DataFrame concatenation with empty or all-NA entries is deprecated. In a future version, this will no longer exclude empty or all-NA columns when determining the result dtypes. To retain the old behavior, exclude the relevant entries before the concat operation.\n",
      "  df = pd.concat(\n",
      "[INFO 03-01 18:18:36] ax.early_stopping.strategies.base: The number of completed trials (0) is less than the minimum number of curves needed for early stopping (5). Not early stopping.\n"
     ]
    },
    {
     "name": "stderr",
     "output_type": "stream",
     "text": [
      "[INFO 03-01 18:18:36] Scheduler: Waiting for completed trials (for 10 sec, currently running trials: 5).\n"
     ]
    },
    {
     "name": "stderr",
     "output_type": "stream",
     "text": [
      "[INFO 03-01 18:18:46] Scheduler: Fetching data for newly completed trials: [].\n"
     ]
    },
    {
     "name": "stderr",
     "output_type": "stream",
     "text": [
      "[INFO 03-01 18:18:46] Scheduler: Fetching data for trials: 0 - 4 because some metrics on experiment are available while trials are running.\n"
     ]
    },
    {
     "name": "stderr",
     "output_type": "stream",
     "text": [
      "/tmp/tmp.KbiES6I0qN/Ax-main/ax/core/map_data.py:188: FutureWarning: The behavior of DataFrame concatenation with empty or all-NA entries is deprecated. In a future version, this will no longer exclude empty or all-NA columns when determining the result dtypes. To retain the old behavior, exclude the relevant entries before the concat operation.\n",
      "  df = pd.concat(\n"
     ]
    },
    {
     "name": "stderr",
     "output_type": "stream",
     "text": [
      "/tmp/tmp.KbiES6I0qN/Ax-main/ax/core/map_data.py:188: FutureWarning: The behavior of DataFrame concatenation with empty or all-NA entries is deprecated. In a future version, this will no longer exclude empty or all-NA columns when determining the result dtypes. To retain the old behavior, exclude the relevant entries before the concat operation.\n",
      "  df = pd.concat(\n",
      "[INFO 03-01 18:18:46] ax.early_stopping.strategies.base: The number of completed trials (0) is less than the minimum number of curves needed for early stopping (5). Not early stopping.\n"
     ]
    },
    {
     "name": "stderr",
     "output_type": "stream",
     "text": [
      "[INFO 03-01 18:18:46] Scheduler: Waiting for completed trials (for 10 sec, currently running trials: 5).\n"
     ]
    },
    {
     "name": "stderr",
     "output_type": "stream",
     "text": [
      "[INFO 03-01 18:18:56] Scheduler: Fetching data for newly completed trials: [].\n"
     ]
    },
    {
     "name": "stderr",
     "output_type": "stream",
     "text": [
      "[INFO 03-01 18:18:56] Scheduler: Fetching data for trials: 0 - 4 because some metrics on experiment are available while trials are running.\n"
     ]
    },
    {
     "name": "stderr",
     "output_type": "stream",
     "text": [
      "/tmp/tmp.KbiES6I0qN/Ax-main/ax/core/map_data.py:188: FutureWarning: The behavior of DataFrame concatenation with empty or all-NA entries is deprecated. In a future version, this will no longer exclude empty or all-NA columns when determining the result dtypes. To retain the old behavior, exclude the relevant entries before the concat operation.\n",
      "  df = pd.concat(\n"
     ]
    },
    {
     "name": "stderr",
     "output_type": "stream",
     "text": [
      "/tmp/tmp.KbiES6I0qN/Ax-main/ax/core/map_data.py:188: FutureWarning: The behavior of DataFrame concatenation with empty or all-NA entries is deprecated. In a future version, this will no longer exclude empty or all-NA columns when determining the result dtypes. To retain the old behavior, exclude the relevant entries before the concat operation.\n",
      "  df = pd.concat(\n",
      "[INFO 03-01 18:18:57] ax.early_stopping.strategies.base: The number of completed trials (0) is less than the minimum number of curves needed for early stopping (5). Not early stopping.\n"
     ]
    },
    {
     "name": "stderr",
     "output_type": "stream",
     "text": [
      "[INFO 03-01 18:18:57] Scheduler: Waiting for completed trials (for 10 sec, currently running trials: 5).\n"
     ]
    },
    {
     "name": "stderr",
     "output_type": "stream",
     "text": [
      "[INFO 03-01 18:19:07] Scheduler: Fetching data for newly completed trials: [].\n"
     ]
    },
    {
     "name": "stderr",
     "output_type": "stream",
     "text": [
      "[INFO 03-01 18:19:07] Scheduler: Fetching data for trials: 0 - 4 because some metrics on experiment are available while trials are running.\n"
     ]
    },
    {
     "name": "stderr",
     "output_type": "stream",
     "text": [
      "/tmp/tmp.KbiES6I0qN/Ax-main/ax/core/map_data.py:188: FutureWarning: The behavior of DataFrame concatenation with empty or all-NA entries is deprecated. In a future version, this will no longer exclude empty or all-NA columns when determining the result dtypes. To retain the old behavior, exclude the relevant entries before the concat operation.\n",
      "  df = pd.concat(\n"
     ]
    },
    {
     "name": "stderr",
     "output_type": "stream",
     "text": [
      "/tmp/tmp.KbiES6I0qN/Ax-main/ax/core/map_data.py:188: FutureWarning: The behavior of DataFrame concatenation with empty or all-NA entries is deprecated. In a future version, this will no longer exclude empty or all-NA columns when determining the result dtypes. To retain the old behavior, exclude the relevant entries before the concat operation.\n",
      "  df = pd.concat(\n",
      "[INFO 03-01 18:19:07] ax.early_stopping.strategies.base: The number of completed trials (0) is less than the minimum number of curves needed for early stopping (5). Not early stopping.\n"
     ]
    },
    {
     "name": "stderr",
     "output_type": "stream",
     "text": [
      "[INFO 03-01 18:19:07] Scheduler: Waiting for completed trials (for 10 sec, currently running trials: 5).\n"
     ]
    },
    {
     "name": "stderr",
     "output_type": "stream",
     "text": [
      "[INFO 03-01 18:19:17] Scheduler: Fetching data for newly completed trials: [].\n"
     ]
    },
    {
     "name": "stderr",
     "output_type": "stream",
     "text": [
      "[INFO 03-01 18:19:17] Scheduler: Fetching data for trials: 0 - 4 because some metrics on experiment are available while trials are running.\n"
     ]
    },
    {
     "name": "stderr",
     "output_type": "stream",
     "text": [
      "/tmp/tmp.KbiES6I0qN/Ax-main/ax/core/map_data.py:188: FutureWarning: The behavior of DataFrame concatenation with empty or all-NA entries is deprecated. In a future version, this will no longer exclude empty or all-NA columns when determining the result dtypes. To retain the old behavior, exclude the relevant entries before the concat operation.\n",
      "  df = pd.concat(\n"
     ]
    },
    {
     "name": "stderr",
     "output_type": "stream",
     "text": [
      "/tmp/tmp.KbiES6I0qN/Ax-main/ax/core/map_data.py:188: FutureWarning: The behavior of DataFrame concatenation with empty or all-NA entries is deprecated. In a future version, this will no longer exclude empty or all-NA columns when determining the result dtypes. To retain the old behavior, exclude the relevant entries before the concat operation.\n",
      "  df = pd.concat(\n",
      "[INFO 03-01 18:19:17] ax.early_stopping.strategies.base: The number of completed trials (0) is less than the minimum number of curves needed for early stopping (5). Not early stopping.\n"
     ]
    },
    {
     "name": "stderr",
     "output_type": "stream",
     "text": [
      "[INFO 03-01 18:19:17] Scheduler: Waiting for completed trials (for 10 sec, currently running trials: 5).\n"
     ]
    },
    {
     "name": "stderr",
     "output_type": "stream",
     "text": [
      "[INFO 03-01 18:19:27] Scheduler: Fetching data for newly completed trials: [].\n"
     ]
    },
    {
     "name": "stderr",
     "output_type": "stream",
     "text": [
      "[INFO 03-01 18:19:27] Scheduler: Fetching data for trials: 0 - 4 because some metrics on experiment are available while trials are running.\n"
     ]
    },
    {
     "name": "stderr",
     "output_type": "stream",
     "text": [
      "/tmp/tmp.KbiES6I0qN/Ax-main/ax/core/map_data.py:188: FutureWarning: The behavior of DataFrame concatenation with empty or all-NA entries is deprecated. In a future version, this will no longer exclude empty or all-NA columns when determining the result dtypes. To retain the old behavior, exclude the relevant entries before the concat operation.\n",
      "  df = pd.concat(\n",
      "/tmp/tmp.KbiES6I0qN/Ax-main/ax/core/map_data.py:188: FutureWarning: The behavior of DataFrame concatenation with empty or all-NA entries is deprecated. In a future version, this will no longer exclude empty or all-NA columns when determining the result dtypes. To retain the old behavior, exclude the relevant entries before the concat operation.\n",
      "  df = pd.concat(\n",
      "[INFO 03-01 18:19:28] ax.early_stopping.strategies.base: The number of completed trials (0) is less than the minimum number of curves needed for early stopping (5). Not early stopping.\n"
     ]
    },
    {
     "name": "stderr",
     "output_type": "stream",
     "text": [
      "[INFO 03-01 18:19:28] Scheduler: Waiting for completed trials (for 10 sec, currently running trials: 5).\n"
     ]
    },
    {
     "name": "stderr",
     "output_type": "stream",
     "text": [
      "[INFO 03-01 18:19:38] Scheduler: Fetching data for newly completed trials: [].\n"
     ]
    },
    {
     "name": "stderr",
     "output_type": "stream",
     "text": [
      "[INFO 03-01 18:19:38] Scheduler: Fetching data for trials: 0 - 4 because some metrics on experiment are available while trials are running.\n"
     ]
    },
    {
     "name": "stderr",
     "output_type": "stream",
     "text": [
      "/tmp/tmp.KbiES6I0qN/Ax-main/ax/core/map_data.py:188: FutureWarning: The behavior of DataFrame concatenation with empty or all-NA entries is deprecated. In a future version, this will no longer exclude empty or all-NA columns when determining the result dtypes. To retain the old behavior, exclude the relevant entries before the concat operation.\n",
      "  df = pd.concat(\n"
     ]
    },
    {
     "name": "stderr",
     "output_type": "stream",
     "text": [
      "/tmp/tmp.KbiES6I0qN/Ax-main/ax/core/map_data.py:188: FutureWarning: The behavior of DataFrame concatenation with empty or all-NA entries is deprecated. In a future version, this will no longer exclude empty or all-NA columns when determining the result dtypes. To retain the old behavior, exclude the relevant entries before the concat operation.\n",
      "  df = pd.concat(\n",
      "[INFO 03-01 18:19:38] ax.early_stopping.strategies.base: The number of completed trials (0) is less than the minimum number of curves needed for early stopping (5). Not early stopping.\n"
     ]
    },
    {
     "name": "stderr",
     "output_type": "stream",
     "text": [
      "[INFO 03-01 18:19:38] Scheduler: Waiting for completed trials (for 10 sec, currently running trials: 5).\n"
     ]
    },
    {
     "name": "stderr",
     "output_type": "stream",
     "text": [
      "[INFO 03-01 18:19:48] Scheduler: Fetching data for newly completed trials: [].\n"
     ]
    },
    {
     "name": "stderr",
     "output_type": "stream",
     "text": [
      "[INFO 03-01 18:19:48] Scheduler: Fetching data for trials: 0 - 4 because some metrics on experiment are available while trials are running.\n"
     ]
    },
    {
     "name": "stderr",
     "output_type": "stream",
     "text": [
      "/tmp/tmp.KbiES6I0qN/Ax-main/ax/core/map_data.py:188: FutureWarning: The behavior of DataFrame concatenation with empty or all-NA entries is deprecated. In a future version, this will no longer exclude empty or all-NA columns when determining the result dtypes. To retain the old behavior, exclude the relevant entries before the concat operation.\n",
      "  df = pd.concat(\n"
     ]
    },
    {
     "name": "stderr",
     "output_type": "stream",
     "text": [
      "/tmp/tmp.KbiES6I0qN/Ax-main/ax/core/map_data.py:188: FutureWarning: The behavior of DataFrame concatenation with empty or all-NA entries is deprecated. In a future version, this will no longer exclude empty or all-NA columns when determining the result dtypes. To retain the old behavior, exclude the relevant entries before the concat operation.\n",
      "  df = pd.concat(\n",
      "[INFO 03-01 18:19:48] ax.early_stopping.strategies.base: The number of completed trials (0) is less than the minimum number of curves needed for early stopping (5). Not early stopping.\n"
     ]
    },
    {
     "name": "stderr",
     "output_type": "stream",
     "text": [
      "[INFO 03-01 18:19:48] Scheduler: Waiting for completed trials (for 10 sec, currently running trials: 5).\n"
     ]
    },
    {
     "name": "stderr",
     "output_type": "stream",
     "text": [
      "[INFO 03-01 18:19:58] Scheduler: Fetching data for newly completed trials: [].\n"
     ]
    },
    {
     "name": "stderr",
     "output_type": "stream",
     "text": [
      "[INFO 03-01 18:19:58] Scheduler: Fetching data for trials: 0 - 4 because some metrics on experiment are available while trials are running.\n"
     ]
    },
    {
     "name": "stderr",
     "output_type": "stream",
     "text": [
      "/tmp/tmp.KbiES6I0qN/Ax-main/ax/core/map_data.py:188: FutureWarning: The behavior of DataFrame concatenation with empty or all-NA entries is deprecated. In a future version, this will no longer exclude empty or all-NA columns when determining the result dtypes. To retain the old behavior, exclude the relevant entries before the concat operation.\n",
      "  df = pd.concat(\n"
     ]
    },
    {
     "name": "stderr",
     "output_type": "stream",
     "text": [
      "/tmp/tmp.KbiES6I0qN/Ax-main/ax/core/map_data.py:188: FutureWarning: The behavior of DataFrame concatenation with empty or all-NA entries is deprecated. In a future version, this will no longer exclude empty or all-NA columns when determining the result dtypes. To retain the old behavior, exclude the relevant entries before the concat operation.\n",
      "  df = pd.concat(\n",
      "[INFO 03-01 18:19:59] ax.early_stopping.strategies.base: The number of completed trials (0) is less than the minimum number of curves needed for early stopping (5). Not early stopping.\n"
     ]
    },
    {
     "name": "stderr",
     "output_type": "stream",
     "text": [
      "[WARNING 03-01 18:19:59] Scheduler: Both `init_seconds_between_polls` and `early_stopping_strategy supplied. `init_seconds_between_polls=1` will be overrridden by `early_stopping_strategy.seconds_between_polls=10` and polling will take place at a constant rate.\n"
     ]
    },
    {
     "name": "stderr",
     "output_type": "stream",
     "text": [
      "[INFO 03-01 18:19:59] Scheduler: Fetching data for newly completed trials: [].\n"
     ]
    },
    {
     "name": "stderr",
     "output_type": "stream",
     "text": [
      "[INFO 03-01 18:19:59] Scheduler: Fetching data for trials: 0 - 4 because some metrics on experiment are available while trials are running.\n"
     ]
    },
    {
     "name": "stderr",
     "output_type": "stream",
     "text": [
      "/tmp/tmp.KbiES6I0qN/Ax-main/ax/core/map_data.py:188: FutureWarning: The behavior of DataFrame concatenation with empty or all-NA entries is deprecated. In a future version, this will no longer exclude empty or all-NA columns when determining the result dtypes. To retain the old behavior, exclude the relevant entries before the concat operation.\n",
      "  df = pd.concat(\n",
      "/tmp/tmp.KbiES6I0qN/Ax-main/ax/core/map_data.py:188: FutureWarning: The behavior of DataFrame concatenation with empty or all-NA entries is deprecated. In a future version, this will no longer exclude empty or all-NA columns when determining the result dtypes. To retain the old behavior, exclude the relevant entries before the concat operation.\n",
      "  df = pd.concat(\n",
      "[INFO 03-01 18:19:59] ax.early_stopping.strategies.base: The number of completed trials (0) is less than the minimum number of curves needed for early stopping (5). Not early stopping.\n"
     ]
    },
    {
     "name": "stderr",
     "output_type": "stream",
     "text": [
      "[INFO 03-01 18:19:59] Scheduler: Waiting for completed trials (for 10 sec, currently running trials: 5).\n"
     ]
    },
    {
     "name": "stderr",
     "output_type": "stream",
     "text": [
      "[INFO 03-01 18:20:09] Scheduler: Fetching data for newly completed trials: [].\n"
     ]
    },
    {
     "name": "stderr",
     "output_type": "stream",
     "text": [
      "[INFO 03-01 18:20:09] Scheduler: Fetching data for trials: 0 - 4 because some metrics on experiment are available while trials are running.\n"
     ]
    },
    {
     "name": "stderr",
     "output_type": "stream",
     "text": [
      "/tmp/tmp.KbiES6I0qN/Ax-main/ax/core/map_data.py:188: FutureWarning: The behavior of DataFrame concatenation with empty or all-NA entries is deprecated. In a future version, this will no longer exclude empty or all-NA columns when determining the result dtypes. To retain the old behavior, exclude the relevant entries before the concat operation.\n",
      "  df = pd.concat(\n"
     ]
    },
    {
     "name": "stderr",
     "output_type": "stream",
     "text": [
      "/tmp/tmp.KbiES6I0qN/Ax-main/ax/core/map_data.py:188: FutureWarning: The behavior of DataFrame concatenation with empty or all-NA entries is deprecated. In a future version, this will no longer exclude empty or all-NA columns when determining the result dtypes. To retain the old behavior, exclude the relevant entries before the concat operation.\n",
      "  df = pd.concat(\n",
      "[INFO 03-01 18:20:09] ax.early_stopping.strategies.base: The number of completed trials (0) is less than the minimum number of curves needed for early stopping (5). Not early stopping.\n"
     ]
    },
    {
     "name": "stderr",
     "output_type": "stream",
     "text": [
      "[INFO 03-01 18:20:09] Scheduler: Waiting for completed trials (for 10 sec, currently running trials: 5).\n"
     ]
    },
    {
     "name": "stderr",
     "output_type": "stream",
     "text": [
      "[INFO 03-01 18:20:19] Scheduler: Fetching data for newly completed trials: [].\n"
     ]
    },
    {
     "name": "stderr",
     "output_type": "stream",
     "text": [
      "[INFO 03-01 18:20:19] Scheduler: Fetching data for trials: 0 - 4 because some metrics on experiment are available while trials are running.\n"
     ]
    },
    {
     "name": "stderr",
     "output_type": "stream",
     "text": [
      "/tmp/tmp.KbiES6I0qN/Ax-main/ax/core/map_data.py:188: FutureWarning: The behavior of DataFrame concatenation with empty or all-NA entries is deprecated. In a future version, this will no longer exclude empty or all-NA columns when determining the result dtypes. To retain the old behavior, exclude the relevant entries before the concat operation.\n",
      "  df = pd.concat(\n",
      "/tmp/tmp.KbiES6I0qN/Ax-main/ax/core/map_data.py:188: FutureWarning: The behavior of DataFrame concatenation with empty or all-NA entries is deprecated. In a future version, this will no longer exclude empty or all-NA columns when determining the result dtypes. To retain the old behavior, exclude the relevant entries before the concat operation.\n",
      "  df = pd.concat(\n",
      "[INFO 03-01 18:20:20] ax.early_stopping.strategies.base: The number of completed trials (0) is less than the minimum number of curves needed for early stopping (5). Not early stopping.\n"
     ]
    },
    {
     "name": "stderr",
     "output_type": "stream",
     "text": [
      "[INFO 03-01 18:20:20] Scheduler: Waiting for completed trials (for 10 sec, currently running trials: 5).\n"
     ]
    },
    {
     "name": "stderr",
     "output_type": "stream",
     "text": [
      "[INFO 03-01 18:20:30] Scheduler: Fetching data for newly completed trials: [].\n"
     ]
    },
    {
     "name": "stderr",
     "output_type": "stream",
     "text": [
      "[INFO 03-01 18:20:30] Scheduler: Fetching data for trials: 0 - 4 because some metrics on experiment are available while trials are running.\n"
     ]
    },
    {
     "name": "stderr",
     "output_type": "stream",
     "text": [
      "/tmp/tmp.KbiES6I0qN/Ax-main/ax/core/map_data.py:188: FutureWarning: The behavior of DataFrame concatenation with empty or all-NA entries is deprecated. In a future version, this will no longer exclude empty or all-NA columns when determining the result dtypes. To retain the old behavior, exclude the relevant entries before the concat operation.\n",
      "  df = pd.concat(\n"
     ]
    },
    {
     "name": "stderr",
     "output_type": "stream",
     "text": [
      "/tmp/tmp.KbiES6I0qN/Ax-main/ax/core/map_data.py:188: FutureWarning: The behavior of DataFrame concatenation with empty or all-NA entries is deprecated. In a future version, this will no longer exclude empty or all-NA columns when determining the result dtypes. To retain the old behavior, exclude the relevant entries before the concat operation.\n",
      "  df = pd.concat(\n",
      "[INFO 03-01 18:20:30] ax.early_stopping.strategies.base: The number of completed trials (0) is less than the minimum number of curves needed for early stopping (5). Not early stopping.\n"
     ]
    },
    {
     "name": "stderr",
     "output_type": "stream",
     "text": [
      "[INFO 03-01 18:20:30] Scheduler: Waiting for completed trials (for 10 sec, currently running trials: 5).\n"
     ]
    },
    {
     "name": "stderr",
     "output_type": "stream",
     "text": [
      "[INFO 03-01 18:20:40] Scheduler: Fetching data for newly completed trials: [].\n"
     ]
    },
    {
     "name": "stderr",
     "output_type": "stream",
     "text": [
      "[INFO 03-01 18:20:40] Scheduler: Fetching data for trials: 0 - 4 because some metrics on experiment are available while trials are running.\n"
     ]
    },
    {
     "name": "stderr",
     "output_type": "stream",
     "text": [
      "/tmp/tmp.KbiES6I0qN/Ax-main/ax/core/map_data.py:188: FutureWarning: The behavior of DataFrame concatenation with empty or all-NA entries is deprecated. In a future version, this will no longer exclude empty or all-NA columns when determining the result dtypes. To retain the old behavior, exclude the relevant entries before the concat operation.\n",
      "  df = pd.concat(\n"
     ]
    },
    {
     "name": "stderr",
     "output_type": "stream",
     "text": [
      "/tmp/tmp.KbiES6I0qN/Ax-main/ax/core/map_data.py:188: FutureWarning: The behavior of DataFrame concatenation with empty or all-NA entries is deprecated. In a future version, this will no longer exclude empty or all-NA columns when determining the result dtypes. To retain the old behavior, exclude the relevant entries before the concat operation.\n",
      "  df = pd.concat(\n",
      "[INFO 03-01 18:20:40] ax.early_stopping.strategies.base: The number of completed trials (0) is less than the minimum number of curves needed for early stopping (5). Not early stopping.\n"
     ]
    },
    {
     "name": "stderr",
     "output_type": "stream",
     "text": [
      "[INFO 03-01 18:20:40] Scheduler: Waiting for completed trials (for 10 sec, currently running trials: 5).\n"
     ]
    },
    {
     "name": "stderr",
     "output_type": "stream",
     "text": [
      "[INFO 03-01 18:20:50] Scheduler: Fetching data for newly completed trials: [].\n"
     ]
    },
    {
     "name": "stderr",
     "output_type": "stream",
     "text": [
      "[INFO 03-01 18:20:50] Scheduler: Fetching data for trials: 0 - 4 because some metrics on experiment are available while trials are running.\n"
     ]
    },
    {
     "name": "stderr",
     "output_type": "stream",
     "text": [
      "/tmp/tmp.KbiES6I0qN/Ax-main/ax/core/map_data.py:188: FutureWarning: The behavior of DataFrame concatenation with empty or all-NA entries is deprecated. In a future version, this will no longer exclude empty or all-NA columns when determining the result dtypes. To retain the old behavior, exclude the relevant entries before the concat operation.\n",
      "  df = pd.concat(\n"
     ]
    },
    {
     "name": "stderr",
     "output_type": "stream",
     "text": [
      "/tmp/tmp.KbiES6I0qN/Ax-main/ax/core/map_data.py:188: FutureWarning: The behavior of DataFrame concatenation with empty or all-NA entries is deprecated. In a future version, this will no longer exclude empty or all-NA columns when determining the result dtypes. To retain the old behavior, exclude the relevant entries before the concat operation.\n",
      "  df = pd.concat(\n",
      "[INFO 03-01 18:20:51] ax.early_stopping.strategies.base: The number of completed trials (0) is less than the minimum number of curves needed for early stopping (5). Not early stopping.\n"
     ]
    },
    {
     "name": "stderr",
     "output_type": "stream",
     "text": [
      "[INFO 03-01 18:20:51] Scheduler: Waiting for completed trials (for 10 sec, currently running trials: 5).\n"
     ]
    },
    {
     "name": "stderr",
     "output_type": "stream",
     "text": [
      "[INFO 03-01 18:21:01] Scheduler: Fetching data for newly completed trials: [].\n"
     ]
    },
    {
     "name": "stderr",
     "output_type": "stream",
     "text": [
      "[INFO 03-01 18:21:01] Scheduler: Fetching data for trials: 0 - 4 because some metrics on experiment are available while trials are running.\n"
     ]
    },
    {
     "name": "stderr",
     "output_type": "stream",
     "text": [
      "/tmp/tmp.KbiES6I0qN/Ax-main/ax/core/map_data.py:188: FutureWarning: The behavior of DataFrame concatenation with empty or all-NA entries is deprecated. In a future version, this will no longer exclude empty or all-NA columns when determining the result dtypes. To retain the old behavior, exclude the relevant entries before the concat operation.\n",
      "  df = pd.concat(\n"
     ]
    },
    {
     "name": "stderr",
     "output_type": "stream",
     "text": [
      "/tmp/tmp.KbiES6I0qN/Ax-main/ax/core/map_data.py:188: FutureWarning: The behavior of DataFrame concatenation with empty or all-NA entries is deprecated. In a future version, this will no longer exclude empty or all-NA columns when determining the result dtypes. To retain the old behavior, exclude the relevant entries before the concat operation.\n",
      "  df = pd.concat(\n",
      "[INFO 03-01 18:21:01] ax.early_stopping.strategies.base: The number of completed trials (0) is less than the minimum number of curves needed for early stopping (5). Not early stopping.\n"
     ]
    },
    {
     "name": "stderr",
     "output_type": "stream",
     "text": [
      "[INFO 03-01 18:21:01] Scheduler: Waiting for completed trials (for 10 sec, currently running trials: 5).\n"
     ]
    },
    {
     "name": "stderr",
     "output_type": "stream",
     "text": [
      "[INFO 03-01 18:21:11] Scheduler: Fetching data for newly completed trials: [].\n"
     ]
    },
    {
     "name": "stderr",
     "output_type": "stream",
     "text": [
      "[INFO 03-01 18:21:11] Scheduler: Fetching data for trials: 0 - 4 because some metrics on experiment are available while trials are running.\n"
     ]
    },
    {
     "name": "stderr",
     "output_type": "stream",
     "text": [
      "/tmp/tmp.KbiES6I0qN/Ax-main/ax/core/map_data.py:188: FutureWarning: The behavior of DataFrame concatenation with empty or all-NA entries is deprecated. In a future version, this will no longer exclude empty or all-NA columns when determining the result dtypes. To retain the old behavior, exclude the relevant entries before the concat operation.\n",
      "  df = pd.concat(\n"
     ]
    },
    {
     "name": "stderr",
     "output_type": "stream",
     "text": [
      "/tmp/tmp.KbiES6I0qN/Ax-main/ax/core/map_data.py:188: FutureWarning: The behavior of DataFrame concatenation with empty or all-NA entries is deprecated. In a future version, this will no longer exclude empty or all-NA columns when determining the result dtypes. To retain the old behavior, exclude the relevant entries before the concat operation.\n",
      "  df = pd.concat(\n",
      "[INFO 03-01 18:21:11] ax.early_stopping.strategies.base: The number of completed trials (0) is less than the minimum number of curves needed for early stopping (5). Not early stopping.\n"
     ]
    },
    {
     "name": "stderr",
     "output_type": "stream",
     "text": [
      "[INFO 03-01 18:21:11] Scheduler: Waiting for completed trials (for 10 sec, currently running trials: 5).\n"
     ]
    },
    {
     "name": "stderr",
     "output_type": "stream",
     "text": [
      "[INFO 03-01 18:21:21] Scheduler: Fetching data for newly completed trials: [].\n"
     ]
    },
    {
     "name": "stderr",
     "output_type": "stream",
     "text": [
      "[INFO 03-01 18:21:21] Scheduler: Fetching data for trials: 0 - 4 because some metrics on experiment are available while trials are running.\n"
     ]
    },
    {
     "name": "stderr",
     "output_type": "stream",
     "text": [
      "/tmp/tmp.KbiES6I0qN/Ax-main/ax/core/map_data.py:188: FutureWarning: The behavior of DataFrame concatenation with empty or all-NA entries is deprecated. In a future version, this will no longer exclude empty or all-NA columns when determining the result dtypes. To retain the old behavior, exclude the relevant entries before the concat operation.\n",
      "  df = pd.concat(\n"
     ]
    },
    {
     "name": "stderr",
     "output_type": "stream",
     "text": [
      "/tmp/tmp.KbiES6I0qN/Ax-main/ax/core/map_data.py:188: FutureWarning: The behavior of DataFrame concatenation with empty or all-NA entries is deprecated. In a future version, this will no longer exclude empty or all-NA columns when determining the result dtypes. To retain the old behavior, exclude the relevant entries before the concat operation.\n",
      "  df = pd.concat(\n",
      "[INFO 03-01 18:21:22] ax.early_stopping.strategies.base: The number of completed trials (0) is less than the minimum number of curves needed for early stopping (5). Not early stopping.\n"
     ]
    },
    {
     "name": "stderr",
     "output_type": "stream",
     "text": [
      "[INFO 03-01 18:21:22] Scheduler: Waiting for completed trials (for 10 sec, currently running trials: 5).\n"
     ]
    },
    {
     "name": "stderr",
     "output_type": "stream",
     "text": [
      "[INFO 03-01 18:21:32] Scheduler: Fetching data for newly completed trials: [].\n"
     ]
    },
    {
     "name": "stderr",
     "output_type": "stream",
     "text": [
      "[INFO 03-01 18:21:32] Scheduler: Fetching data for trials: 0 - 4 because some metrics on experiment are available while trials are running.\n"
     ]
    },
    {
     "name": "stderr",
     "output_type": "stream",
     "text": [
      "/tmp/tmp.KbiES6I0qN/Ax-main/ax/core/map_data.py:188: FutureWarning: The behavior of DataFrame concatenation with empty or all-NA entries is deprecated. In a future version, this will no longer exclude empty or all-NA columns when determining the result dtypes. To retain the old behavior, exclude the relevant entries before the concat operation.\n",
      "  df = pd.concat(\n"
     ]
    },
    {
     "name": "stderr",
     "output_type": "stream",
     "text": [
      "/tmp/tmp.KbiES6I0qN/Ax-main/ax/core/map_data.py:188: FutureWarning: The behavior of DataFrame concatenation with empty or all-NA entries is deprecated. In a future version, this will no longer exclude empty or all-NA columns when determining the result dtypes. To retain the old behavior, exclude the relevant entries before the concat operation.\n",
      "  df = pd.concat(\n",
      "[INFO 03-01 18:21:32] ax.early_stopping.strategies.base: The number of completed trials (0) is less than the minimum number of curves needed for early stopping (5). Not early stopping.\n"
     ]
    },
    {
     "name": "stderr",
     "output_type": "stream",
     "text": [
      "[INFO 03-01 18:21:32] Scheduler: Waiting for completed trials (for 10 sec, currently running trials: 5).\n"
     ]
    },
    {
     "name": "stderr",
     "output_type": "stream",
     "text": [
      "[INFO 03-01 18:21:42] Scheduler: Fetching data for newly completed trials: [].\n"
     ]
    },
    {
     "name": "stderr",
     "output_type": "stream",
     "text": [
      "[INFO 03-01 18:21:42] Scheduler: Fetching data for trials: 0 - 4 because some metrics on experiment are available while trials are running.\n"
     ]
    },
    {
     "name": "stderr",
     "output_type": "stream",
     "text": [
      "/tmp/tmp.KbiES6I0qN/Ax-main/ax/core/map_data.py:188: FutureWarning: The behavior of DataFrame concatenation with empty or all-NA entries is deprecated. In a future version, this will no longer exclude empty or all-NA columns when determining the result dtypes. To retain the old behavior, exclude the relevant entries before the concat operation.\n",
      "  df = pd.concat(\n"
     ]
    },
    {
     "name": "stderr",
     "output_type": "stream",
     "text": [
      "/tmp/tmp.KbiES6I0qN/Ax-main/ax/core/map_data.py:188: FutureWarning: The behavior of DataFrame concatenation with empty or all-NA entries is deprecated. In a future version, this will no longer exclude empty or all-NA columns when determining the result dtypes. To retain the old behavior, exclude the relevant entries before the concat operation.\n",
      "  df = pd.concat(\n",
      "[INFO 03-01 18:21:42] ax.early_stopping.strategies.base: The number of completed trials (0) is less than the minimum number of curves needed for early stopping (5). Not early stopping.\n"
     ]
    },
    {
     "name": "stderr",
     "output_type": "stream",
     "text": [
      "[INFO 03-01 18:21:42] Scheduler: Waiting for completed trials (for 10 sec, currently running trials: 5).\n"
     ]
    },
    {
     "name": "stderr",
     "output_type": "stream",
     "text": [
      "[INFO 03-01 18:21:52] Scheduler: Fetching data for newly completed trials: [].\n"
     ]
    },
    {
     "name": "stderr",
     "output_type": "stream",
     "text": [
      "[INFO 03-01 18:21:52] Scheduler: Fetching data for trials: 0 - 4 because some metrics on experiment are available while trials are running.\n"
     ]
    },
    {
     "name": "stderr",
     "output_type": "stream",
     "text": [
      "/tmp/tmp.KbiES6I0qN/Ax-main/ax/core/map_data.py:188: FutureWarning: The behavior of DataFrame concatenation with empty or all-NA entries is deprecated. In a future version, this will no longer exclude empty or all-NA columns when determining the result dtypes. To retain the old behavior, exclude the relevant entries before the concat operation.\n",
      "  df = pd.concat(\n"
     ]
    },
    {
     "name": "stderr",
     "output_type": "stream",
     "text": [
      "/tmp/tmp.KbiES6I0qN/Ax-main/ax/core/map_data.py:188: FutureWarning: The behavior of DataFrame concatenation with empty or all-NA entries is deprecated. In a future version, this will no longer exclude empty or all-NA columns when determining the result dtypes. To retain the old behavior, exclude the relevant entries before the concat operation.\n",
      "  df = pd.concat(\n",
      "[INFO 03-01 18:21:53] ax.early_stopping.strategies.base: The number of completed trials (0) is less than the minimum number of curves needed for early stopping (5). Not early stopping.\n"
     ]
    },
    {
     "name": "stderr",
     "output_type": "stream",
     "text": [
      "[INFO 03-01 18:21:53] Scheduler: Waiting for completed trials (for 10 sec, currently running trials: 5).\n"
     ]
    },
    {
     "name": "stderr",
     "output_type": "stream",
     "text": [
      "[INFO 03-01 18:22:03] Scheduler: Fetching data for newly completed trials: [].\n"
     ]
    },
    {
     "name": "stderr",
     "output_type": "stream",
     "text": [
      "[INFO 03-01 18:22:03] Scheduler: Fetching data for trials: 0 - 4 because some metrics on experiment are available while trials are running.\n"
     ]
    },
    {
     "name": "stderr",
     "output_type": "stream",
     "text": [
      "/tmp/tmp.KbiES6I0qN/Ax-main/ax/core/map_data.py:188: FutureWarning: The behavior of DataFrame concatenation with empty or all-NA entries is deprecated. In a future version, this will no longer exclude empty or all-NA columns when determining the result dtypes. To retain the old behavior, exclude the relevant entries before the concat operation.\n",
      "  df = pd.concat(\n"
     ]
    },
    {
     "name": "stderr",
     "output_type": "stream",
     "text": [
      "/tmp/tmp.KbiES6I0qN/Ax-main/ax/core/map_data.py:188: FutureWarning: The behavior of DataFrame concatenation with empty or all-NA entries is deprecated. In a future version, this will no longer exclude empty or all-NA columns when determining the result dtypes. To retain the old behavior, exclude the relevant entries before the concat operation.\n",
      "  df = pd.concat(\n",
      "[INFO 03-01 18:22:03] ax.early_stopping.strategies.base: The number of completed trials (0) is less than the minimum number of curves needed for early stopping (5). Not early stopping.\n"
     ]
    },
    {
     "name": "stderr",
     "output_type": "stream",
     "text": [
      "[INFO 03-01 18:22:03] Scheduler: Waiting for completed trials (for 10 sec, currently running trials: 5).\n"
     ]
    },
    {
     "name": "stderr",
     "output_type": "stream",
     "text": [
      "[INFO 03-01 18:22:13] Scheduler: Fetching data for newly completed trials: [].\n"
     ]
    },
    {
     "name": "stderr",
     "output_type": "stream",
     "text": [
      "[INFO 03-01 18:22:13] Scheduler: Fetching data for trials: 0 - 4 because some metrics on experiment are available while trials are running.\n"
     ]
    },
    {
     "name": "stderr",
     "output_type": "stream",
     "text": [
      "/tmp/tmp.KbiES6I0qN/Ax-main/ax/core/map_data.py:188: FutureWarning: The behavior of DataFrame concatenation with empty or all-NA entries is deprecated. In a future version, this will no longer exclude empty or all-NA columns when determining the result dtypes. To retain the old behavior, exclude the relevant entries before the concat operation.\n",
      "  df = pd.concat(\n",
      "/tmp/tmp.KbiES6I0qN/Ax-main/ax/core/map_data.py:188: FutureWarning: The behavior of DataFrame concatenation with empty or all-NA entries is deprecated. In a future version, this will no longer exclude empty or all-NA columns when determining the result dtypes. To retain the old behavior, exclude the relevant entries before the concat operation.\n",
      "  df = pd.concat(\n",
      "[INFO 03-01 18:22:13] ax.early_stopping.strategies.base: The number of completed trials (0) is less than the minimum number of curves needed for early stopping (5). Not early stopping.\n"
     ]
    },
    {
     "name": "stderr",
     "output_type": "stream",
     "text": [
      "[INFO 03-01 18:22:13] Scheduler: Waiting for completed trials (for 10 sec, currently running trials: 5).\n"
     ]
    },
    {
     "name": "stderr",
     "output_type": "stream",
     "text": [
      "[INFO 03-01 18:22:23] Scheduler: Fetching data for newly completed trials: [].\n"
     ]
    },
    {
     "name": "stderr",
     "output_type": "stream",
     "text": [
      "[INFO 03-01 18:22:23] Scheduler: Fetching data for trials: 0 - 4 because some metrics on experiment are available while trials are running.\n"
     ]
    },
    {
     "name": "stderr",
     "output_type": "stream",
     "text": [
      "/tmp/tmp.KbiES6I0qN/Ax-main/ax/core/map_data.py:188: FutureWarning: The behavior of DataFrame concatenation with empty or all-NA entries is deprecated. In a future version, this will no longer exclude empty or all-NA columns when determining the result dtypes. To retain the old behavior, exclude the relevant entries before the concat operation.\n",
      "  df = pd.concat(\n"
     ]
    },
    {
     "name": "stderr",
     "output_type": "stream",
     "text": [
      "/tmp/tmp.KbiES6I0qN/Ax-main/ax/core/map_data.py:188: FutureWarning: The behavior of DataFrame concatenation with empty or all-NA entries is deprecated. In a future version, this will no longer exclude empty or all-NA columns when determining the result dtypes. To retain the old behavior, exclude the relevant entries before the concat operation.\n",
      "  df = pd.concat(\n",
      "[INFO 03-01 18:22:24] ax.early_stopping.strategies.base: The number of completed trials (0) is less than the minimum number of curves needed for early stopping (5). Not early stopping.\n"
     ]
    },
    {
     "name": "stderr",
     "output_type": "stream",
     "text": [
      "[INFO 03-01 18:22:24] Scheduler: Waiting for completed trials (for 10 sec, currently running trials: 5).\n"
     ]
    },
    {
     "name": "stderr",
     "output_type": "stream",
     "text": [
      "[INFO 03-01 18:22:34] Scheduler: Fetching data for newly completed trials: [].\n"
     ]
    },
    {
     "name": "stderr",
     "output_type": "stream",
     "text": [
      "[INFO 03-01 18:22:34] Scheduler: Fetching data for trials: 0 - 4 because some metrics on experiment are available while trials are running.\n"
     ]
    },
    {
     "name": "stderr",
     "output_type": "stream",
     "text": [
      "/tmp/tmp.KbiES6I0qN/Ax-main/ax/core/map_data.py:188: FutureWarning: The behavior of DataFrame concatenation with empty or all-NA entries is deprecated. In a future version, this will no longer exclude empty or all-NA columns when determining the result dtypes. To retain the old behavior, exclude the relevant entries before the concat operation.\n",
      "  df = pd.concat(\n"
     ]
    },
    {
     "name": "stderr",
     "output_type": "stream",
     "text": [
      "/tmp/tmp.KbiES6I0qN/Ax-main/ax/core/map_data.py:188: FutureWarning: The behavior of DataFrame concatenation with empty or all-NA entries is deprecated. In a future version, this will no longer exclude empty or all-NA columns when determining the result dtypes. To retain the old behavior, exclude the relevant entries before the concat operation.\n",
      "  df = pd.concat(\n",
      "[INFO 03-01 18:22:34] ax.early_stopping.strategies.base: The number of completed trials (0) is less than the minimum number of curves needed for early stopping (5). Not early stopping.\n"
     ]
    },
    {
     "name": "stderr",
     "output_type": "stream",
     "text": [
      "[INFO 03-01 18:22:34] Scheduler: Waiting for completed trials (for 10 sec, currently running trials: 5).\n"
     ]
    },
    {
     "name": "stderr",
     "output_type": "stream",
     "text": [
      "[INFO 03-01 18:22:44] Scheduler: Fetching data for newly completed trials: [].\n"
     ]
    },
    {
     "name": "stderr",
     "output_type": "stream",
     "text": [
      "[INFO 03-01 18:22:44] Scheduler: Fetching data for trials: 0 - 4 because some metrics on experiment are available while trials are running.\n"
     ]
    },
    {
     "name": "stderr",
     "output_type": "stream",
     "text": [
      "/tmp/tmp.KbiES6I0qN/Ax-main/ax/core/map_data.py:188: FutureWarning: The behavior of DataFrame concatenation with empty or all-NA entries is deprecated. In a future version, this will no longer exclude empty or all-NA columns when determining the result dtypes. To retain the old behavior, exclude the relevant entries before the concat operation.\n",
      "  df = pd.concat(\n"
     ]
    },
    {
     "name": "stderr",
     "output_type": "stream",
     "text": [
      "/tmp/tmp.KbiES6I0qN/Ax-main/ax/core/map_data.py:188: FutureWarning: The behavior of DataFrame concatenation with empty or all-NA entries is deprecated. In a future version, this will no longer exclude empty or all-NA columns when determining the result dtypes. To retain the old behavior, exclude the relevant entries before the concat operation.\n",
      "  df = pd.concat(\n",
      "[INFO 03-01 18:22:44] ax.early_stopping.strategies.base: The number of completed trials (0) is less than the minimum number of curves needed for early stopping (5). Not early stopping.\n"
     ]
    },
    {
     "name": "stderr",
     "output_type": "stream",
     "text": [
      "[INFO 03-01 18:22:44] Scheduler: Waiting for completed trials (for 10 sec, currently running trials: 5).\n"
     ]
    },
    {
     "name": "stderr",
     "output_type": "stream",
     "text": [
      "[INFO 03-01 18:22:54] Scheduler: Fetching data for newly completed trials: [].\n"
     ]
    },
    {
     "name": "stderr",
     "output_type": "stream",
     "text": [
      "[INFO 03-01 18:22:54] Scheduler: Fetching data for trials: 0 - 4 because some metrics on experiment are available while trials are running.\n"
     ]
    },
    {
     "name": "stderr",
     "output_type": "stream",
     "text": [
      "/tmp/tmp.KbiES6I0qN/Ax-main/ax/core/map_data.py:188: FutureWarning: The behavior of DataFrame concatenation with empty or all-NA entries is deprecated. In a future version, this will no longer exclude empty or all-NA columns when determining the result dtypes. To retain the old behavior, exclude the relevant entries before the concat operation.\n",
      "  df = pd.concat(\n"
     ]
    },
    {
     "name": "stderr",
     "output_type": "stream",
     "text": [
      "/tmp/tmp.KbiES6I0qN/Ax-main/ax/core/map_data.py:188: FutureWarning: The behavior of DataFrame concatenation with empty or all-NA entries is deprecated. In a future version, this will no longer exclude empty or all-NA columns when determining the result dtypes. To retain the old behavior, exclude the relevant entries before the concat operation.\n",
      "  df = pd.concat(\n",
      "[INFO 03-01 18:22:54] ax.early_stopping.strategies.base: The number of completed trials (0) is less than the minimum number of curves needed for early stopping (5). Not early stopping.\n"
     ]
    },
    {
     "name": "stderr",
     "output_type": "stream",
     "text": [
      "[INFO 03-01 18:22:54] Scheduler: Waiting for completed trials (for 10 sec, currently running trials: 5).\n"
     ]
    },
    {
     "name": "stderr",
     "output_type": "stream",
     "text": [
      "[INFO 03-01 18:23:04] Scheduler: Fetching data for newly completed trials: [].\n"
     ]
    },
    {
     "name": "stderr",
     "output_type": "stream",
     "text": [
      "[INFO 03-01 18:23:04] Scheduler: Fetching data for trials: 0 - 4 because some metrics on experiment are available while trials are running.\n"
     ]
    },
    {
     "name": "stderr",
     "output_type": "stream",
     "text": [
      "/tmp/tmp.KbiES6I0qN/Ax-main/ax/core/map_data.py:188: FutureWarning: The behavior of DataFrame concatenation with empty or all-NA entries is deprecated. In a future version, this will no longer exclude empty or all-NA columns when determining the result dtypes. To retain the old behavior, exclude the relevant entries before the concat operation.\n",
      "  df = pd.concat(\n",
      "/tmp/tmp.KbiES6I0qN/Ax-main/ax/core/map_data.py:188: FutureWarning: The behavior of DataFrame concatenation with empty or all-NA entries is deprecated. In a future version, this will no longer exclude empty or all-NA columns when determining the result dtypes. To retain the old behavior, exclude the relevant entries before the concat operation.\n",
      "  df = pd.concat(\n",
      "[INFO 03-01 18:23:05] ax.early_stopping.strategies.base: The number of completed trials (0) is less than the minimum number of curves needed for early stopping (5). Not early stopping.\n"
     ]
    },
    {
     "name": "stderr",
     "output_type": "stream",
     "text": [
      "[INFO 03-01 18:23:05] Scheduler: Waiting for completed trials (for 10 sec, currently running trials: 5).\n"
     ]
    },
    {
     "name": "stderr",
     "output_type": "stream",
     "text": [
      "[INFO 03-01 18:23:15] Scheduler: Fetching data for newly completed trials: [].\n"
     ]
    },
    {
     "name": "stderr",
     "output_type": "stream",
     "text": [
      "[INFO 03-01 18:23:15] Scheduler: Fetching data for trials: 0 - 4 because some metrics on experiment are available while trials are running.\n"
     ]
    },
    {
     "name": "stderr",
     "output_type": "stream",
     "text": [
      "/tmp/tmp.KbiES6I0qN/Ax-main/ax/core/map_data.py:188: FutureWarning: The behavior of DataFrame concatenation with empty or all-NA entries is deprecated. In a future version, this will no longer exclude empty or all-NA columns when determining the result dtypes. To retain the old behavior, exclude the relevant entries before the concat operation.\n",
      "  df = pd.concat(\n"
     ]
    },
    {
     "name": "stderr",
     "output_type": "stream",
     "text": [
      "/tmp/tmp.KbiES6I0qN/Ax-main/ax/core/map_data.py:188: FutureWarning: The behavior of DataFrame concatenation with empty or all-NA entries is deprecated. In a future version, this will no longer exclude empty or all-NA columns when determining the result dtypes. To retain the old behavior, exclude the relevant entries before the concat operation.\n",
      "  df = pd.concat(\n",
      "[INFO 03-01 18:23:15] ax.early_stopping.strategies.base: The number of completed trials (0) is less than the minimum number of curves needed for early stopping (5). Not early stopping.\n"
     ]
    },
    {
     "name": "stderr",
     "output_type": "stream",
     "text": [
      "[INFO 03-01 18:23:15] Scheduler: Waiting for completed trials (for 10 sec, currently running trials: 5).\n"
     ]
    },
    {
     "name": "stderr",
     "output_type": "stream",
     "text": [
      "[INFO 03-01 18:23:25] Scheduler: Fetching data for newly completed trials: [1].\n"
     ]
    },
    {
     "name": "stderr",
     "output_type": "stream",
     "text": [
      "[INFO 03-01 18:23:25] Scheduler: Fetching data for trials: [0, 2, 3, 4] because some metrics on experiment are available while trials are running.\n"
     ]
    },
    {
     "name": "stderr",
     "output_type": "stream",
     "text": [
      "[INFO 03-01 18:23:25] Scheduler: Retrieved COMPLETED trials: [1].\n"
     ]
    },
    {
     "name": "stderr",
     "output_type": "stream",
     "text": [
      "/tmp/tmp.KbiES6I0qN/Ax-main/ax/core/map_data.py:188: FutureWarning: The behavior of DataFrame concatenation with empty or all-NA entries is deprecated. In a future version, this will no longer exclude empty or all-NA columns when determining the result dtypes. To retain the old behavior, exclude the relevant entries before the concat operation.\n",
      "  df = pd.concat(\n",
      "/tmp/tmp.KbiES6I0qN/Ax-main/ax/core/map_data.py:188: FutureWarning: The behavior of DataFrame concatenation with empty or all-NA entries is deprecated. In a future version, this will no longer exclude empty or all-NA columns when determining the result dtypes. To retain the old behavior, exclude the relevant entries before the concat operation.\n",
      "  df = pd.concat(\n",
      "[INFO 03-01 18:23:25] ax.early_stopping.strategies.base: The number of completed trials (1) is less than the minimum number of curves needed for early stopping (5). Not early stopping.\n"
     ]
    },
    {
     "name": "stderr",
     "output_type": "stream",
     "text": [
      "[WARNING 03-01 18:23:25] Scheduler: Both `init_seconds_between_polls` and `early_stopping_strategy supplied. `init_seconds_between_polls=1` will be overrridden by `early_stopping_strategy.seconds_between_polls=10` and polling will take place at a constant rate.\n"
     ]
    },
    {
     "name": "stderr",
     "output_type": "stream",
     "text": [
      "[INFO 03-01 18:23:25] Scheduler: Fetching data for newly completed trials: [].\n"
     ]
    },
    {
     "name": "stderr",
     "output_type": "stream",
     "text": [
      "[INFO 03-01 18:23:25] Scheduler: Fetching data for trials: [0, 2, 3, 4] because some metrics on experiment are available while trials are running.\n"
     ]
    },
    {
     "name": "stderr",
     "output_type": "stream",
     "text": [
      "/tmp/tmp.KbiES6I0qN/Ax-main/ax/core/map_data.py:188: FutureWarning: The behavior of DataFrame concatenation with empty or all-NA entries is deprecated. In a future version, this will no longer exclude empty or all-NA columns when determining the result dtypes. To retain the old behavior, exclude the relevant entries before the concat operation.\n",
      "  df = pd.concat(\n",
      "/tmp/tmp.KbiES6I0qN/Ax-main/ax/core/map_data.py:188: FutureWarning: The behavior of DataFrame concatenation with empty or all-NA entries is deprecated. In a future version, this will no longer exclude empty or all-NA columns when determining the result dtypes. To retain the old behavior, exclude the relevant entries before the concat operation.\n",
      "  df = pd.concat(\n"
     ]
    },
    {
     "name": "stderr",
     "output_type": "stream",
     "text": [
      "[INFO 03-01 18:23:26] ax.early_stopping.strategies.base: The number of completed trials (1) is less than the minimum number of curves needed for early stopping (5). Not early stopping.\n"
     ]
    },
    {
     "name": "stderr",
     "output_type": "stream",
     "text": [
      "[INFO 03-01 18:23:26] Scheduler: Waiting for completed trials (for 10 sec, currently running trials: 4).\n"
     ]
    },
    {
     "name": "stderr",
     "output_type": "stream",
     "text": [
      "[INFO 03-01 18:23:36] Scheduler: Fetching data for newly completed trials: [].\n"
     ]
    },
    {
     "name": "stderr",
     "output_type": "stream",
     "text": [
      "[INFO 03-01 18:23:36] Scheduler: Fetching data for trials: [0, 2, 3, 4] because some metrics on experiment are available while trials are running.\n"
     ]
    },
    {
     "name": "stderr",
     "output_type": "stream",
     "text": [
      "/tmp/tmp.KbiES6I0qN/Ax-main/ax/core/map_data.py:188: FutureWarning: The behavior of DataFrame concatenation with empty or all-NA entries is deprecated. In a future version, this will no longer exclude empty or all-NA columns when determining the result dtypes. To retain the old behavior, exclude the relevant entries before the concat operation.\n",
      "  df = pd.concat(\n"
     ]
    },
    {
     "name": "stderr",
     "output_type": "stream",
     "text": [
      "/tmp/tmp.KbiES6I0qN/Ax-main/ax/core/map_data.py:188: FutureWarning: The behavior of DataFrame concatenation with empty or all-NA entries is deprecated. In a future version, this will no longer exclude empty or all-NA columns when determining the result dtypes. To retain the old behavior, exclude the relevant entries before the concat operation.\n",
      "  df = pd.concat(\n",
      "[INFO 03-01 18:23:36] ax.early_stopping.strategies.base: The number of completed trials (1) is less than the minimum number of curves needed for early stopping (5). Not early stopping.\n"
     ]
    },
    {
     "name": "stderr",
     "output_type": "stream",
     "text": [
      "[INFO 03-01 18:23:36] Scheduler: Waiting for completed trials (for 10 sec, currently running trials: 4).\n"
     ]
    },
    {
     "name": "stderr",
     "output_type": "stream",
     "text": [
      "[INFO 03-01 18:23:46] Scheduler: Fetching data for newly completed trials: [].\n"
     ]
    },
    {
     "name": "stderr",
     "output_type": "stream",
     "text": [
      "[INFO 03-01 18:23:46] Scheduler: Fetching data for trials: [0, 2, 3, 4] because some metrics on experiment are available while trials are running.\n"
     ]
    },
    {
     "name": "stderr",
     "output_type": "stream",
     "text": [
      "/tmp/tmp.KbiES6I0qN/Ax-main/ax/core/map_data.py:188: FutureWarning: The behavior of DataFrame concatenation with empty or all-NA entries is deprecated. In a future version, this will no longer exclude empty or all-NA columns when determining the result dtypes. To retain the old behavior, exclude the relevant entries before the concat operation.\n",
      "  df = pd.concat(\n"
     ]
    },
    {
     "name": "stderr",
     "output_type": "stream",
     "text": [
      "/tmp/tmp.KbiES6I0qN/Ax-main/ax/core/map_data.py:188: FutureWarning: The behavior of DataFrame concatenation with empty or all-NA entries is deprecated. In a future version, this will no longer exclude empty or all-NA columns when determining the result dtypes. To retain the old behavior, exclude the relevant entries before the concat operation.\n",
      "  df = pd.concat(\n",
      "[INFO 03-01 18:23:46] ax.early_stopping.strategies.base: The number of completed trials (1) is less than the minimum number of curves needed for early stopping (5). Not early stopping.\n"
     ]
    },
    {
     "name": "stderr",
     "output_type": "stream",
     "text": [
      "[INFO 03-01 18:23:46] Scheduler: Waiting for completed trials (for 10 sec, currently running trials: 4).\n"
     ]
    },
    {
     "name": "stderr",
     "output_type": "stream",
     "text": [
      "[INFO 03-01 18:23:56] Scheduler: Fetching data for newly completed trials: [].\n"
     ]
    },
    {
     "name": "stderr",
     "output_type": "stream",
     "text": [
      "[INFO 03-01 18:23:56] Scheduler: Fetching data for trials: [0, 2, 3, 4] because some metrics on experiment are available while trials are running.\n"
     ]
    },
    {
     "name": "stderr",
     "output_type": "stream",
     "text": [
      "/tmp/tmp.KbiES6I0qN/Ax-main/ax/core/map_data.py:188: FutureWarning: The behavior of DataFrame concatenation with empty or all-NA entries is deprecated. In a future version, this will no longer exclude empty or all-NA columns when determining the result dtypes. To retain the old behavior, exclude the relevant entries before the concat operation.\n",
      "  df = pd.concat(\n",
      "/tmp/tmp.KbiES6I0qN/Ax-main/ax/core/map_data.py:188: FutureWarning: The behavior of DataFrame concatenation with empty or all-NA entries is deprecated. In a future version, this will no longer exclude empty or all-NA columns when determining the result dtypes. To retain the old behavior, exclude the relevant entries before the concat operation.\n",
      "  df = pd.concat(\n"
     ]
    },
    {
     "name": "stderr",
     "output_type": "stream",
     "text": [
      "[INFO 03-01 18:23:56] ax.early_stopping.strategies.base: The number of completed trials (1) is less than the minimum number of curves needed for early stopping (5). Not early stopping.\n"
     ]
    },
    {
     "name": "stderr",
     "output_type": "stream",
     "text": [
      "[INFO 03-01 18:23:56] Scheduler: Waiting for completed trials (for 10 sec, currently running trials: 4).\n"
     ]
    },
    {
     "name": "stderr",
     "output_type": "stream",
     "text": [
      "[INFO 03-01 18:24:06] Scheduler: Fetching data for newly completed trials: [].\n"
     ]
    },
    {
     "name": "stderr",
     "output_type": "stream",
     "text": [
      "[INFO 03-01 18:24:06] Scheduler: Fetching data for trials: [0, 2, 3, 4] because some metrics on experiment are available while trials are running.\n"
     ]
    },
    {
     "name": "stderr",
     "output_type": "stream",
     "text": [
      "/tmp/tmp.KbiES6I0qN/Ax-main/ax/core/map_data.py:188: FutureWarning: The behavior of DataFrame concatenation with empty or all-NA entries is deprecated. In a future version, this will no longer exclude empty or all-NA columns when determining the result dtypes. To retain the old behavior, exclude the relevant entries before the concat operation.\n",
      "  df = pd.concat(\n",
      "/tmp/tmp.KbiES6I0qN/Ax-main/ax/core/map_data.py:188: FutureWarning: The behavior of DataFrame concatenation with empty or all-NA entries is deprecated. In a future version, this will no longer exclude empty or all-NA columns when determining the result dtypes. To retain the old behavior, exclude the relevant entries before the concat operation.\n",
      "  df = pd.concat(\n",
      "[INFO 03-01 18:24:07] ax.early_stopping.strategies.base: The number of completed trials (1) is less than the minimum number of curves needed for early stopping (5). Not early stopping.\n"
     ]
    },
    {
     "name": "stderr",
     "output_type": "stream",
     "text": [
      "[INFO 03-01 18:24:07] Scheduler: Waiting for completed trials (for 10 sec, currently running trials: 4).\n"
     ]
    },
    {
     "name": "stderr",
     "output_type": "stream",
     "text": [
      "[INFO 03-01 18:24:17] Scheduler: Fetching data for newly completed trials: [].\n"
     ]
    },
    {
     "name": "stderr",
     "output_type": "stream",
     "text": [
      "[INFO 03-01 18:24:17] Scheduler: Fetching data for trials: [0, 2, 3, 4] because some metrics on experiment are available while trials are running.\n"
     ]
    },
    {
     "name": "stderr",
     "output_type": "stream",
     "text": [
      "/tmp/tmp.KbiES6I0qN/Ax-main/ax/core/map_data.py:188: FutureWarning: The behavior of DataFrame concatenation with empty or all-NA entries is deprecated. In a future version, this will no longer exclude empty or all-NA columns when determining the result dtypes. To retain the old behavior, exclude the relevant entries before the concat operation.\n",
      "  df = pd.concat(\n",
      "/tmp/tmp.KbiES6I0qN/Ax-main/ax/core/map_data.py:188: FutureWarning: The behavior of DataFrame concatenation with empty or all-NA entries is deprecated. In a future version, this will no longer exclude empty or all-NA columns when determining the result dtypes. To retain the old behavior, exclude the relevant entries before the concat operation.\n",
      "  df = pd.concat(\n"
     ]
    },
    {
     "name": "stderr",
     "output_type": "stream",
     "text": [
      "[INFO 03-01 18:24:17] ax.early_stopping.strategies.base: The number of completed trials (1) is less than the minimum number of curves needed for early stopping (5). Not early stopping.\n"
     ]
    },
    {
     "name": "stderr",
     "output_type": "stream",
     "text": [
      "[INFO 03-01 18:24:17] Scheduler: Waiting for completed trials (for 10 sec, currently running trials: 4).\n"
     ]
    },
    {
     "name": "stderr",
     "output_type": "stream",
     "text": [
      "[INFO 03-01 18:24:27] Scheduler: Fetching data for newly completed trials: [4].\n"
     ]
    },
    {
     "name": "stderr",
     "output_type": "stream",
     "text": [
      "[INFO 03-01 18:24:27] Scheduler: Fetching data for trials: [0, 2, 3] because some metrics on experiment are available while trials are running.\n"
     ]
    },
    {
     "name": "stderr",
     "output_type": "stream",
     "text": [
      "[INFO 03-01 18:24:27] Scheduler: Retrieved COMPLETED trials: [4].\n"
     ]
    },
    {
     "name": "stderr",
     "output_type": "stream",
     "text": [
      "/tmp/tmp.KbiES6I0qN/Ax-main/ax/core/map_data.py:188: FutureWarning: The behavior of DataFrame concatenation with empty or all-NA entries is deprecated. In a future version, this will no longer exclude empty or all-NA columns when determining the result dtypes. To retain the old behavior, exclude the relevant entries before the concat operation.\n",
      "  df = pd.concat(\n",
      "/tmp/tmp.KbiES6I0qN/Ax-main/ax/core/map_data.py:188: FutureWarning: The behavior of DataFrame concatenation with empty or all-NA entries is deprecated. In a future version, this will no longer exclude empty or all-NA columns when determining the result dtypes. To retain the old behavior, exclude the relevant entries before the concat operation.\n",
      "  df = pd.concat(\n",
      "[INFO 03-01 18:24:27] ax.early_stopping.strategies.base: The number of completed trials (2) is less than the minimum number of curves needed for early stopping (5). Not early stopping.\n"
     ]
    },
    {
     "name": "stderr",
     "output_type": "stream",
     "text": [
      "[WARNING 03-01 18:24:27] Scheduler: Both `init_seconds_between_polls` and `early_stopping_strategy supplied. `init_seconds_between_polls=1` will be overrridden by `early_stopping_strategy.seconds_between_polls=10` and polling will take place at a constant rate.\n"
     ]
    },
    {
     "name": "stderr",
     "output_type": "stream",
     "text": [
      "[INFO 03-01 18:24:27] Scheduler: Fetching data for newly completed trials: [].\n"
     ]
    },
    {
     "name": "stderr",
     "output_type": "stream",
     "text": [
      "[INFO 03-01 18:24:27] Scheduler: Fetching data for trials: [0, 2, 3] because some metrics on experiment are available while trials are running.\n"
     ]
    },
    {
     "name": "stderr",
     "output_type": "stream",
     "text": [
      "/tmp/tmp.KbiES6I0qN/Ax-main/ax/core/map_data.py:188: FutureWarning: The behavior of DataFrame concatenation with empty or all-NA entries is deprecated. In a future version, this will no longer exclude empty or all-NA columns when determining the result dtypes. To retain the old behavior, exclude the relevant entries before the concat operation.\n",
      "  df = pd.concat(\n",
      "/tmp/tmp.KbiES6I0qN/Ax-main/ax/core/map_data.py:188: FutureWarning: The behavior of DataFrame concatenation with empty or all-NA entries is deprecated. In a future version, this will no longer exclude empty or all-NA columns when determining the result dtypes. To retain the old behavior, exclude the relevant entries before the concat operation.\n",
      "  df = pd.concat(\n",
      "[INFO 03-01 18:24:27] ax.early_stopping.strategies.base: The number of completed trials (2) is less than the minimum number of curves needed for early stopping (5). Not early stopping.\n"
     ]
    },
    {
     "name": "stderr",
     "output_type": "stream",
     "text": [
      "[INFO 03-01 18:24:27] Scheduler: Waiting for completed trials (for 10 sec, currently running trials: 3).\n"
     ]
    },
    {
     "name": "stderr",
     "output_type": "stream",
     "text": [
      "[INFO 03-01 18:24:37] Scheduler: Fetching data for newly completed trials: [0, 2, 3].\n"
     ]
    },
    {
     "name": "stderr",
     "output_type": "stream",
     "text": [
      "[INFO 03-01 18:24:37] Scheduler: Retrieved COMPLETED trials: [0, 2, 3].\n"
     ]
    },
    {
     "name": "stderr",
     "output_type": "stream",
     "text": [
      "/tmp/tmp.KbiES6I0qN/Ax-main/ax/core/map_data.py:188: FutureWarning: The behavior of DataFrame concatenation with empty or all-NA entries is deprecated. In a future version, this will no longer exclude empty or all-NA columns when determining the result dtypes. To retain the old behavior, exclude the relevant entries before the concat operation.\n",
      "  df = pd.concat(\n",
      "/tmp/tmp.KbiES6I0qN/Ax-main/ax/core/map_data.py:188: FutureWarning: The behavior of DataFrame concatenation with empty or all-NA entries is deprecated. In a future version, this will no longer exclude empty or all-NA columns when determining the result dtypes. To retain the old behavior, exclude the relevant entries before the concat operation.\n",
      "  df = pd.concat(\n",
      "[INFO 03-01 18:24:37] ax.early_stopping.strategies.base: Last progression of any candidate for trial stopping is 0.\n"
     ]
    },
    {
     "name": "stderr",
     "output_type": "stream",
     "text": [
      "[INFO 03-01 18:24:37] ax.early_stopping.strategies.base: No trials have reached 0.3. Not stopping any trials.\n"
     ]
    },
    {
     "name": "stderr",
     "output_type": "stream",
     "text": [
      "/tmp/tmp.KbiES6I0qN/Ax-main/ax/core/map_data.py:188: FutureWarning: The behavior of DataFrame concatenation with empty or all-NA entries is deprecated. In a future version, this will no longer exclude empty or all-NA columns when determining the result dtypes. To retain the old behavior, exclude the relevant entries before the concat operation.\n",
      "  df = pd.concat(\n"
     ]
    },
    {
     "name": "stderr",
     "output_type": "stream",
     "text": [
      "[INFO 03-01 18:24:38] Scheduler: Running trials [5]...\n"
     ]
    },
    {
     "name": "stderr",
     "output_type": "stream",
     "text": [
      "/tmp/tmp.KbiES6I0qN/Ax-main/ax/core/map_data.py:188: FutureWarning: The behavior of DataFrame concatenation with empty or all-NA entries is deprecated. In a future version, this will no longer exclude empty or all-NA columns when determining the result dtypes. To retain the old behavior, exclude the relevant entries before the concat operation.\n",
      "  df = pd.concat(\n",
      "[INFO 03-01 18:24:39] ax.modelbridge.torch: The observations are identical to the last set of observations used to fit the model. Skipping model fitting.\n"
     ]
    },
    {
     "name": "stderr",
     "output_type": "stream",
     "text": [
      "[INFO 03-01 18:24:40] Scheduler: Running trials [6]...\n"
     ]
    },
    {
     "name": "stderr",
     "output_type": "stream",
     "text": [
      "/tmp/tmp.KbiES6I0qN/Ax-main/ax/core/map_data.py:188: FutureWarning: The behavior of DataFrame concatenation with empty or all-NA entries is deprecated. In a future version, this will no longer exclude empty or all-NA columns when determining the result dtypes. To retain the old behavior, exclude the relevant entries before the concat operation.\n",
      "  df = pd.concat(\n",
      "[INFO 03-01 18:24:41] ax.modelbridge.torch: The observations are identical to the last set of observations used to fit the model. Skipping model fitting.\n"
     ]
    },
    {
     "name": "stderr",
     "output_type": "stream",
     "text": [
      "[INFO 03-01 18:24:44] Scheduler: Running trials [7]...\n"
     ]
    },
    {
     "name": "stderr",
     "output_type": "stream",
     "text": [
      "/tmp/tmp.KbiES6I0qN/Ax-main/ax/core/map_data.py:188: FutureWarning: The behavior of DataFrame concatenation with empty or all-NA entries is deprecated. In a future version, this will no longer exclude empty or all-NA columns when determining the result dtypes. To retain the old behavior, exclude the relevant entries before the concat operation.\n",
      "  df = pd.concat(\n",
      "[INFO 03-01 18:24:45] ax.modelbridge.torch: The observations are identical to the last set of observations used to fit the model. Skipping model fitting.\n"
     ]
    },
    {
     "name": "stderr",
     "output_type": "stream",
     "text": [
      "[INFO 03-01 18:24:45] Scheduler: Generated all trials that can be generated currently. Max parallelism currently reached.\n"
     ]
    },
    {
     "name": "stderr",
     "output_type": "stream",
     "text": [
      "[WARNING 03-01 18:24:45] Scheduler: Both `init_seconds_between_polls` and `early_stopping_strategy supplied. `init_seconds_between_polls=1` will be overrridden by `early_stopping_strategy.seconds_between_polls=10` and polling will take place at a constant rate.\n"
     ]
    },
    {
     "name": "stderr",
     "output_type": "stream",
     "text": [
      "[INFO 03-01 18:24:45] Scheduler: Fetching data for newly completed trials: [].\n"
     ]
    },
    {
     "name": "stderr",
     "output_type": "stream",
     "text": [
      "[INFO 03-01 18:24:45] Scheduler: Fetching data for trials: 5 - 7 because some metrics on experiment are available while trials are running.\n"
     ]
    },
    {
     "name": "stderr",
     "output_type": "stream",
     "text": [
      "[INFO 03-01 18:24:45] ax.metrics.curve: val_acc not yet present in curves from /tmp/tmp3o86bad6/5. Returning without this metric.\n"
     ]
    },
    {
     "name": "stderr",
     "output_type": "stream",
     "text": [
      "[INFO 03-01 18:24:45] ax.metrics.curve: val_acc not yet present in curves from /tmp/tmp3o86bad6/6. Returning without this metric.\n"
     ]
    },
    {
     "name": "stderr",
     "output_type": "stream",
     "text": [
      "[INFO 03-01 18:24:45] ax.metrics.curve: val_acc not yet present in curves from /tmp/tmp3o86bad6/7. Returning without this metric.\n"
     ]
    },
    {
     "name": "stderr",
     "output_type": "stream",
     "text": [
      "[INFO 03-01 18:24:45] ax.core.metric: MetricFetchE INFO: Initialized MetricFetchE(message=\"DataFrame from curve series is empty\")\n"
     ]
    },
    {
     "name": "stderr",
     "output_type": "stream",
     "text": [
      "[INFO 03-01 18:24:45] ax.core.metric: MetricFetchE INFO: Initialized MetricFetchE(message=\"DataFrame from curve series is empty\")\n"
     ]
    },
    {
     "name": "stderr",
     "output_type": "stream",
     "text": [
      "[INFO 03-01 18:24:45] ax.core.metric: MetricFetchE INFO: Initialized MetricFetchE(message=\"DataFrame from curve series is empty\")\n"
     ]
    },
    {
     "name": "stderr",
     "output_type": "stream",
     "text": [
      "[ERROR 03-01 18:24:45] ax.core.experiment: Discovered Metric fetching Err while attaching data MetricFetchE(message=\"DataFrame from curve series is empty\"). Ignoring for now -- will retry query on next call to fetch.\n"
     ]
    },
    {
     "name": "stderr",
     "output_type": "stream",
     "text": [
      "[ERROR 03-01 18:24:45] ax.core.experiment: Discovered Metric fetching Err while attaching data MetricFetchE(message=\"DataFrame from curve series is empty\"). Ignoring for now -- will retry query on next call to fetch.\n"
     ]
    },
    {
     "name": "stderr",
     "output_type": "stream",
     "text": [
      "[ERROR 03-01 18:24:45] ax.core.experiment: Discovered Metric fetching Err while attaching data MetricFetchE(message=\"DataFrame from curve series is empty\"). Ignoring for now -- will retry query on next call to fetch.\n"
     ]
    },
    {
     "name": "stderr",
     "output_type": "stream",
     "text": [
      "[WARNING 03-01 18:24:45] Scheduler: Failed to fetch val_acc for trial 5, found MetricFetchE(message=\"DataFrame from curve series is empty\").\n"
     ]
    },
    {
     "name": "stderr",
     "output_type": "stream",
     "text": [
      "[INFO 03-01 18:24:45] Scheduler: MetricFetchE INFO: Because val_acc is available_while_running and trial 5 is still RUNNING continuing the experiment and retrying on next poll...\n"
     ]
    },
    {
     "name": "stderr",
     "output_type": "stream",
     "text": [
      "[WARNING 03-01 18:24:45] Scheduler: Failed to fetch val_acc for trial 6, found MetricFetchE(message=\"DataFrame from curve series is empty\").\n"
     ]
    },
    {
     "name": "stderr",
     "output_type": "stream",
     "text": [
      "[INFO 03-01 18:24:45] Scheduler: MetricFetchE INFO: Because val_acc is available_while_running and trial 6 is still RUNNING continuing the experiment and retrying on next poll...\n"
     ]
    },
    {
     "name": "stderr",
     "output_type": "stream",
     "text": [
      "[WARNING 03-01 18:24:45] Scheduler: Failed to fetch val_acc for trial 7, found MetricFetchE(message=\"DataFrame from curve series is empty\").\n"
     ]
    },
    {
     "name": "stderr",
     "output_type": "stream",
     "text": [
      "[INFO 03-01 18:24:45] Scheduler: MetricFetchE INFO: Because val_acc is available_while_running and trial 7 is still RUNNING continuing the experiment and retrying on next poll...\n"
     ]
    },
    {
     "name": "stderr",
     "output_type": "stream",
     "text": [
      "/tmp/tmp.KbiES6I0qN/Ax-main/ax/core/map_data.py:188: FutureWarning: The behavior of DataFrame concatenation with empty or all-NA entries is deprecated. In a future version, this will no longer exclude empty or all-NA columns when determining the result dtypes. To retain the old behavior, exclude the relevant entries before the concat operation.\n",
      "  df = pd.concat(\n",
      "[INFO 03-01 18:24:45] ax.early_stopping.strategies.base: Last progression of any candidate for trial stopping is 0.\n"
     ]
    },
    {
     "name": "stderr",
     "output_type": "stream",
     "text": [
      "[INFO 03-01 18:24:45] ax.early_stopping.strategies.base: No trials have reached 0.3. Not stopping any trials.\n"
     ]
    },
    {
     "name": "stderr",
     "output_type": "stream",
     "text": [
      "[INFO 03-01 18:24:45] Scheduler: Waiting for completed trials (for 10 sec, currently running trials: 3).\n"
     ]
    },
    {
     "name": "stderr",
     "output_type": "stream",
     "text": [
      "[INFO 03-01 18:24:55] Scheduler: Fetching data for newly completed trials: [].\n"
     ]
    },
    {
     "name": "stderr",
     "output_type": "stream",
     "text": [
      "[INFO 03-01 18:24:55] Scheduler: Fetching data for trials: 5 - 7 because some metrics on experiment are available while trials are running.\n"
     ]
    },
    {
     "name": "stderr",
     "output_type": "stream",
     "text": [
      "[INFO 03-01 18:24:55] ax.metrics.curve: val_acc not yet present in curves from /tmp/tmp3o86bad6/5. Returning without this metric.\n"
     ]
    },
    {
     "name": "stderr",
     "output_type": "stream",
     "text": [
      "[INFO 03-01 18:24:55] ax.metrics.curve: val_acc not yet present in curves from /tmp/tmp3o86bad6/6. Returning without this metric.\n"
     ]
    },
    {
     "name": "stderr",
     "output_type": "stream",
     "text": [
      "[INFO 03-01 18:24:55] ax.metrics.curve: val_acc not yet present in curves from /tmp/tmp3o86bad6/7. Returning without this metric.\n"
     ]
    },
    {
     "name": "stderr",
     "output_type": "stream",
     "text": [
      "[INFO 03-01 18:24:55] ax.core.metric: MetricFetchE INFO: Initialized MetricFetchE(message=\"DataFrame from curve series is empty\")\n"
     ]
    },
    {
     "name": "stderr",
     "output_type": "stream",
     "text": [
      "[INFO 03-01 18:24:55] ax.core.metric: MetricFetchE INFO: Initialized MetricFetchE(message=\"DataFrame from curve series is empty\")\n"
     ]
    },
    {
     "name": "stderr",
     "output_type": "stream",
     "text": [
      "[INFO 03-01 18:24:55] ax.core.metric: MetricFetchE INFO: Initialized MetricFetchE(message=\"DataFrame from curve series is empty\")\n"
     ]
    },
    {
     "name": "stderr",
     "output_type": "stream",
     "text": [
      "[ERROR 03-01 18:24:55] ax.core.experiment: Discovered Metric fetching Err while attaching data MetricFetchE(message=\"DataFrame from curve series is empty\"). Ignoring for now -- will retry query on next call to fetch.\n"
     ]
    },
    {
     "name": "stderr",
     "output_type": "stream",
     "text": [
      "[ERROR 03-01 18:24:55] ax.core.experiment: Discovered Metric fetching Err while attaching data MetricFetchE(message=\"DataFrame from curve series is empty\"). Ignoring for now -- will retry query on next call to fetch.\n"
     ]
    },
    {
     "name": "stderr",
     "output_type": "stream",
     "text": [
      "[ERROR 03-01 18:24:55] ax.core.experiment: Discovered Metric fetching Err while attaching data MetricFetchE(message=\"DataFrame from curve series is empty\"). Ignoring for now -- will retry query on next call to fetch.\n"
     ]
    },
    {
     "name": "stderr",
     "output_type": "stream",
     "text": [
      "[WARNING 03-01 18:24:55] Scheduler: Failed to fetch val_acc for trial 5, found MetricFetchE(message=\"DataFrame from curve series is empty\").\n"
     ]
    },
    {
     "name": "stderr",
     "output_type": "stream",
     "text": [
      "[INFO 03-01 18:24:55] Scheduler: MetricFetchE INFO: Because val_acc is available_while_running and trial 5 is still RUNNING continuing the experiment and retrying on next poll...\n"
     ]
    },
    {
     "name": "stderr",
     "output_type": "stream",
     "text": [
      "[WARNING 03-01 18:24:55] Scheduler: Failed to fetch val_acc for trial 6, found MetricFetchE(message=\"DataFrame from curve series is empty\").\n"
     ]
    },
    {
     "name": "stderr",
     "output_type": "stream",
     "text": [
      "[INFO 03-01 18:24:55] Scheduler: MetricFetchE INFO: Because val_acc is available_while_running and trial 6 is still RUNNING continuing the experiment and retrying on next poll...\n"
     ]
    },
    {
     "name": "stderr",
     "output_type": "stream",
     "text": [
      "[WARNING 03-01 18:24:55] Scheduler: Failed to fetch val_acc for trial 7, found MetricFetchE(message=\"DataFrame from curve series is empty\").\n"
     ]
    },
    {
     "name": "stderr",
     "output_type": "stream",
     "text": [
      "[INFO 03-01 18:24:55] Scheduler: MetricFetchE INFO: Because val_acc is available_while_running and trial 7 is still RUNNING continuing the experiment and retrying on next poll...\n"
     ]
    },
    {
     "name": "stderr",
     "output_type": "stream",
     "text": [
      "/tmp/tmp.KbiES6I0qN/Ax-main/ax/core/map_data.py:188: FutureWarning: The behavior of DataFrame concatenation with empty or all-NA entries is deprecated. In a future version, this will no longer exclude empty or all-NA columns when determining the result dtypes. To retain the old behavior, exclude the relevant entries before the concat operation.\n",
      "  df = pd.concat(\n",
      "[INFO 03-01 18:24:55] ax.early_stopping.strategies.base: Last progression of any candidate for trial stopping is 0.\n"
     ]
    },
    {
     "name": "stderr",
     "output_type": "stream",
     "text": [
      "[INFO 03-01 18:24:55] ax.early_stopping.strategies.base: No trials have reached 0.3. Not stopping any trials.\n"
     ]
    },
    {
     "name": "stderr",
     "output_type": "stream",
     "text": [
      "[INFO 03-01 18:24:55] Scheduler: Waiting for completed trials (for 10 sec, currently running trials: 3).\n"
     ]
    },
    {
     "name": "stderr",
     "output_type": "stream",
     "text": [
      "[INFO 03-01 18:25:05] Scheduler: Fetching data for newly completed trials: [].\n"
     ]
    },
    {
     "name": "stderr",
     "output_type": "stream",
     "text": [
      "[INFO 03-01 18:25:05] Scheduler: Fetching data for trials: 5 - 7 because some metrics on experiment are available while trials are running.\n"
     ]
    },
    {
     "name": "stderr",
     "output_type": "stream",
     "text": [
      "[INFO 03-01 18:25:05] ax.metrics.curve: val_acc not yet present in curves from /tmp/tmp3o86bad6/5. Returning without this metric.\n"
     ]
    },
    {
     "name": "stderr",
     "output_type": "stream",
     "text": [
      "[INFO 03-01 18:25:05] ax.metrics.curve: val_acc not yet present in curves from /tmp/tmp3o86bad6/6. Returning without this metric.\n"
     ]
    },
    {
     "name": "stderr",
     "output_type": "stream",
     "text": [
      "[INFO 03-01 18:25:05] ax.metrics.curve: val_acc not yet present in curves from /tmp/tmp3o86bad6/7. Returning without this metric.\n"
     ]
    },
    {
     "name": "stderr",
     "output_type": "stream",
     "text": [
      "[INFO 03-01 18:25:05] ax.core.metric: MetricFetchE INFO: Initialized MetricFetchE(message=\"DataFrame from curve series is empty\")\n"
     ]
    },
    {
     "name": "stderr",
     "output_type": "stream",
     "text": [
      "[INFO 03-01 18:25:05] ax.core.metric: MetricFetchE INFO: Initialized MetricFetchE(message=\"DataFrame from curve series is empty\")\n"
     ]
    },
    {
     "name": "stderr",
     "output_type": "stream",
     "text": [
      "[INFO 03-01 18:25:05] ax.core.metric: MetricFetchE INFO: Initialized MetricFetchE(message=\"DataFrame from curve series is empty\")\n"
     ]
    },
    {
     "name": "stderr",
     "output_type": "stream",
     "text": [
      "[ERROR 03-01 18:25:05] ax.core.experiment: Discovered Metric fetching Err while attaching data MetricFetchE(message=\"DataFrame from curve series is empty\"). Ignoring for now -- will retry query on next call to fetch.\n"
     ]
    },
    {
     "name": "stderr",
     "output_type": "stream",
     "text": [
      "[ERROR 03-01 18:25:05] ax.core.experiment: Discovered Metric fetching Err while attaching data MetricFetchE(message=\"DataFrame from curve series is empty\"). Ignoring for now -- will retry query on next call to fetch.\n"
     ]
    },
    {
     "name": "stderr",
     "output_type": "stream",
     "text": [
      "[ERROR 03-01 18:25:05] ax.core.experiment: Discovered Metric fetching Err while attaching data MetricFetchE(message=\"DataFrame from curve series is empty\"). Ignoring for now -- will retry query on next call to fetch.\n"
     ]
    },
    {
     "name": "stderr",
     "output_type": "stream",
     "text": [
      "[WARNING 03-01 18:25:05] Scheduler: Failed to fetch val_acc for trial 5, found MetricFetchE(message=\"DataFrame from curve series is empty\").\n"
     ]
    },
    {
     "name": "stderr",
     "output_type": "stream",
     "text": [
      "[INFO 03-01 18:25:05] Scheduler: MetricFetchE INFO: Because val_acc is available_while_running and trial 5 is still RUNNING continuing the experiment and retrying on next poll...\n"
     ]
    },
    {
     "name": "stderr",
     "output_type": "stream",
     "text": [
      "[WARNING 03-01 18:25:05] Scheduler: Failed to fetch val_acc for trial 6, found MetricFetchE(message=\"DataFrame from curve series is empty\").\n"
     ]
    },
    {
     "name": "stderr",
     "output_type": "stream",
     "text": [
      "[INFO 03-01 18:25:06] Scheduler: MetricFetchE INFO: Because val_acc is available_while_running and trial 6 is still RUNNING continuing the experiment and retrying on next poll...\n"
     ]
    },
    {
     "name": "stderr",
     "output_type": "stream",
     "text": [
      "[WARNING 03-01 18:25:06] Scheduler: Failed to fetch val_acc for trial 7, found MetricFetchE(message=\"DataFrame from curve series is empty\").\n"
     ]
    },
    {
     "name": "stderr",
     "output_type": "stream",
     "text": [
      "[INFO 03-01 18:25:06] Scheduler: MetricFetchE INFO: Because val_acc is available_while_running and trial 7 is still RUNNING continuing the experiment and retrying on next poll...\n"
     ]
    },
    {
     "name": "stderr",
     "output_type": "stream",
     "text": [
      "/tmp/tmp.KbiES6I0qN/Ax-main/ax/core/map_data.py:188: FutureWarning: The behavior of DataFrame concatenation with empty or all-NA entries is deprecated. In a future version, this will no longer exclude empty or all-NA columns when determining the result dtypes. To retain the old behavior, exclude the relevant entries before the concat operation.\n",
      "  df = pd.concat(\n",
      "[INFO 03-01 18:25:06] ax.early_stopping.strategies.base: Last progression of any candidate for trial stopping is 0.\n"
     ]
    },
    {
     "name": "stderr",
     "output_type": "stream",
     "text": [
      "[INFO 03-01 18:25:06] ax.early_stopping.strategies.base: No trials have reached 0.3. Not stopping any trials.\n"
     ]
    },
    {
     "name": "stderr",
     "output_type": "stream",
     "text": [
      "[INFO 03-01 18:25:06] Scheduler: Waiting for completed trials (for 10 sec, currently running trials: 3).\n"
     ]
    },
    {
     "name": "stderr",
     "output_type": "stream",
     "text": [
      "[INFO 03-01 18:25:16] Scheduler: Fetching data for newly completed trials: [].\n"
     ]
    },
    {
     "name": "stderr",
     "output_type": "stream",
     "text": [
      "[INFO 03-01 18:25:16] Scheduler: Fetching data for trials: 5 - 7 because some metrics on experiment are available while trials are running.\n"
     ]
    },
    {
     "name": "stderr",
     "output_type": "stream",
     "text": [
      "[INFO 03-01 18:25:16] ax.metrics.curve: val_acc not yet present in curves from /tmp/tmp3o86bad6/5. Returning without this metric.\n"
     ]
    },
    {
     "name": "stderr",
     "output_type": "stream",
     "text": [
      "[INFO 03-01 18:25:16] ax.metrics.curve: val_acc not yet present in curves from /tmp/tmp3o86bad6/6. Returning without this metric.\n"
     ]
    },
    {
     "name": "stderr",
     "output_type": "stream",
     "text": [
      "[INFO 03-01 18:25:16] ax.metrics.curve: val_acc not yet present in curves from /tmp/tmp3o86bad6/7. Returning without this metric.\n"
     ]
    },
    {
     "name": "stderr",
     "output_type": "stream",
     "text": [
      "[INFO 03-01 18:25:16] ax.core.metric: MetricFetchE INFO: Initialized MetricFetchE(message=\"DataFrame from curve series is empty\")\n"
     ]
    },
    {
     "name": "stderr",
     "output_type": "stream",
     "text": [
      "[INFO 03-01 18:25:16] ax.core.metric: MetricFetchE INFO: Initialized MetricFetchE(message=\"DataFrame from curve series is empty\")\n"
     ]
    },
    {
     "name": "stderr",
     "output_type": "stream",
     "text": [
      "[INFO 03-01 18:25:16] ax.core.metric: MetricFetchE INFO: Initialized MetricFetchE(message=\"DataFrame from curve series is empty\")\n"
     ]
    },
    {
     "name": "stderr",
     "output_type": "stream",
     "text": [
      "[ERROR 03-01 18:25:16] ax.core.experiment: Discovered Metric fetching Err while attaching data MetricFetchE(message=\"DataFrame from curve series is empty\"). Ignoring for now -- will retry query on next call to fetch.\n"
     ]
    },
    {
     "name": "stderr",
     "output_type": "stream",
     "text": [
      "[ERROR 03-01 18:25:16] ax.core.experiment: Discovered Metric fetching Err while attaching data MetricFetchE(message=\"DataFrame from curve series is empty\"). Ignoring for now -- will retry query on next call to fetch.\n"
     ]
    },
    {
     "name": "stderr",
     "output_type": "stream",
     "text": [
      "[ERROR 03-01 18:25:16] ax.core.experiment: Discovered Metric fetching Err while attaching data MetricFetchE(message=\"DataFrame from curve series is empty\"). Ignoring for now -- will retry query on next call to fetch.\n"
     ]
    },
    {
     "name": "stderr",
     "output_type": "stream",
     "text": [
      "[WARNING 03-01 18:25:16] Scheduler: Failed to fetch val_acc for trial 5, found MetricFetchE(message=\"DataFrame from curve series is empty\").\n"
     ]
    },
    {
     "name": "stderr",
     "output_type": "stream",
     "text": [
      "[INFO 03-01 18:25:16] Scheduler: MetricFetchE INFO: Because val_acc is available_while_running and trial 5 is still RUNNING continuing the experiment and retrying on next poll...\n"
     ]
    },
    {
     "name": "stderr",
     "output_type": "stream",
     "text": [
      "[WARNING 03-01 18:25:16] Scheduler: Failed to fetch val_acc for trial 6, found MetricFetchE(message=\"DataFrame from curve series is empty\").\n"
     ]
    },
    {
     "name": "stderr",
     "output_type": "stream",
     "text": [
      "[INFO 03-01 18:25:16] Scheduler: MetricFetchE INFO: Because val_acc is available_while_running and trial 6 is still RUNNING continuing the experiment and retrying on next poll...\n"
     ]
    },
    {
     "name": "stderr",
     "output_type": "stream",
     "text": [
      "[WARNING 03-01 18:25:16] Scheduler: Failed to fetch val_acc for trial 7, found MetricFetchE(message=\"DataFrame from curve series is empty\").\n"
     ]
    },
    {
     "name": "stderr",
     "output_type": "stream",
     "text": [
      "[INFO 03-01 18:25:16] Scheduler: MetricFetchE INFO: Because val_acc is available_while_running and trial 7 is still RUNNING continuing the experiment and retrying on next poll...\n"
     ]
    },
    {
     "name": "stderr",
     "output_type": "stream",
     "text": [
      "/tmp/tmp.KbiES6I0qN/Ax-main/ax/core/map_data.py:188: FutureWarning: The behavior of DataFrame concatenation with empty or all-NA entries is deprecated. In a future version, this will no longer exclude empty or all-NA columns when determining the result dtypes. To retain the old behavior, exclude the relevant entries before the concat operation.\n",
      "  df = pd.concat(\n",
      "[INFO 03-01 18:25:16] ax.early_stopping.strategies.base: Last progression of any candidate for trial stopping is 0.\n"
     ]
    },
    {
     "name": "stderr",
     "output_type": "stream",
     "text": [
      "[INFO 03-01 18:25:16] ax.early_stopping.strategies.base: No trials have reached 0.3. Not stopping any trials.\n"
     ]
    },
    {
     "name": "stderr",
     "output_type": "stream",
     "text": [
      "[INFO 03-01 18:25:16] Scheduler: Waiting for completed trials (for 10 sec, currently running trials: 3).\n"
     ]
    },
    {
     "name": "stderr",
     "output_type": "stream",
     "text": [
      "[INFO 03-01 18:25:26] Scheduler: Fetching data for newly completed trials: [].\n"
     ]
    },
    {
     "name": "stderr",
     "output_type": "stream",
     "text": [
      "[INFO 03-01 18:25:26] Scheduler: Fetching data for trials: 5 - 7 because some metrics on experiment are available while trials are running.\n"
     ]
    },
    {
     "name": "stderr",
     "output_type": "stream",
     "text": [
      "[INFO 03-01 18:25:26] ax.metrics.curve: val_acc not yet present in curves from /tmp/tmp3o86bad6/5. Returning without this metric.\n"
     ]
    },
    {
     "name": "stderr",
     "output_type": "stream",
     "text": [
      "[INFO 03-01 18:25:26] ax.metrics.curve: val_acc not yet present in curves from /tmp/tmp3o86bad6/6. Returning without this metric.\n"
     ]
    },
    {
     "name": "stderr",
     "output_type": "stream",
     "text": [
      "[INFO 03-01 18:25:26] ax.metrics.curve: val_acc not yet present in curves from /tmp/tmp3o86bad6/7. Returning without this metric.\n"
     ]
    },
    {
     "name": "stderr",
     "output_type": "stream",
     "text": [
      "[INFO 03-01 18:25:26] ax.core.metric: MetricFetchE INFO: Initialized MetricFetchE(message=\"DataFrame from curve series is empty\")\n"
     ]
    },
    {
     "name": "stderr",
     "output_type": "stream",
     "text": [
      "[INFO 03-01 18:25:26] ax.core.metric: MetricFetchE INFO: Initialized MetricFetchE(message=\"DataFrame from curve series is empty\")\n"
     ]
    },
    {
     "name": "stderr",
     "output_type": "stream",
     "text": [
      "[INFO 03-01 18:25:26] ax.core.metric: MetricFetchE INFO: Initialized MetricFetchE(message=\"DataFrame from curve series is empty\")\n"
     ]
    },
    {
     "name": "stderr",
     "output_type": "stream",
     "text": [
      "[ERROR 03-01 18:25:26] ax.core.experiment: Discovered Metric fetching Err while attaching data MetricFetchE(message=\"DataFrame from curve series is empty\"). Ignoring for now -- will retry query on next call to fetch.\n"
     ]
    },
    {
     "name": "stderr",
     "output_type": "stream",
     "text": [
      "[ERROR 03-01 18:25:26] ax.core.experiment: Discovered Metric fetching Err while attaching data MetricFetchE(message=\"DataFrame from curve series is empty\"). Ignoring for now -- will retry query on next call to fetch.\n"
     ]
    },
    {
     "name": "stderr",
     "output_type": "stream",
     "text": [
      "[ERROR 03-01 18:25:26] ax.core.experiment: Discovered Metric fetching Err while attaching data MetricFetchE(message=\"DataFrame from curve series is empty\"). Ignoring for now -- will retry query on next call to fetch.\n"
     ]
    },
    {
     "name": "stderr",
     "output_type": "stream",
     "text": [
      "[WARNING 03-01 18:25:26] Scheduler: Failed to fetch val_acc for trial 5, found MetricFetchE(message=\"DataFrame from curve series is empty\").\n"
     ]
    },
    {
     "name": "stderr",
     "output_type": "stream",
     "text": [
      "[INFO 03-01 18:25:26] Scheduler: MetricFetchE INFO: Because val_acc is available_while_running and trial 5 is still RUNNING continuing the experiment and retrying on next poll...\n"
     ]
    },
    {
     "name": "stderr",
     "output_type": "stream",
     "text": [
      "[WARNING 03-01 18:25:26] Scheduler: Failed to fetch val_acc for trial 6, found MetricFetchE(message=\"DataFrame from curve series is empty\").\n"
     ]
    },
    {
     "name": "stderr",
     "output_type": "stream",
     "text": [
      "[INFO 03-01 18:25:26] Scheduler: MetricFetchE INFO: Because val_acc is available_while_running and trial 6 is still RUNNING continuing the experiment and retrying on next poll...\n"
     ]
    },
    {
     "name": "stderr",
     "output_type": "stream",
     "text": [
      "[WARNING 03-01 18:25:26] Scheduler: Failed to fetch val_acc for trial 7, found MetricFetchE(message=\"DataFrame from curve series is empty\").\n"
     ]
    },
    {
     "name": "stderr",
     "output_type": "stream",
     "text": [
      "[INFO 03-01 18:25:26] Scheduler: MetricFetchE INFO: Because val_acc is available_while_running and trial 7 is still RUNNING continuing the experiment and retrying on next poll...\n"
     ]
    },
    {
     "name": "stderr",
     "output_type": "stream",
     "text": [
      "/tmp/tmp.KbiES6I0qN/Ax-main/ax/core/map_data.py:188: FutureWarning: The behavior of DataFrame concatenation with empty or all-NA entries is deprecated. In a future version, this will no longer exclude empty or all-NA columns when determining the result dtypes. To retain the old behavior, exclude the relevant entries before the concat operation.\n",
      "  df = pd.concat(\n",
      "[INFO 03-01 18:25:26] ax.early_stopping.strategies.base: Last progression of any candidate for trial stopping is 0.\n"
     ]
    },
    {
     "name": "stderr",
     "output_type": "stream",
     "text": [
      "[INFO 03-01 18:25:26] ax.early_stopping.strategies.base: No trials have reached 0.3. Not stopping any trials.\n"
     ]
    },
    {
     "name": "stderr",
     "output_type": "stream",
     "text": [
      "[INFO 03-01 18:25:26] Scheduler: Waiting for completed trials (for 10 sec, currently running trials: 3).\n"
     ]
    },
    {
     "name": "stderr",
     "output_type": "stream",
     "text": [
      "[INFO 03-01 18:25:36] Scheduler: Fetching data for newly completed trials: [].\n"
     ]
    },
    {
     "name": "stderr",
     "output_type": "stream",
     "text": [
      "[INFO 03-01 18:25:36] Scheduler: Fetching data for trials: 5 - 7 because some metrics on experiment are available while trials are running.\n"
     ]
    },
    {
     "name": "stderr",
     "output_type": "stream",
     "text": [
      "/tmp/tmp.KbiES6I0qN/Ax-main/ax/core/map_data.py:188: FutureWarning: The behavior of DataFrame concatenation with empty or all-NA entries is deprecated. In a future version, this will no longer exclude empty or all-NA columns when determining the result dtypes. To retain the old behavior, exclude the relevant entries before the concat operation.\n",
      "  df = pd.concat(\n",
      "/tmp/tmp.KbiES6I0qN/Ax-main/ax/core/map_data.py:188: FutureWarning: The behavior of DataFrame concatenation with empty or all-NA entries is deprecated. In a future version, this will no longer exclude empty or all-NA columns when determining the result dtypes. To retain the old behavior, exclude the relevant entries before the concat operation.\n",
      "  df = pd.concat(\n",
      "[INFO 03-01 18:25:36] ax.early_stopping.strategies.base: Last progression of any candidate for trial stopping is 0.09994666666666667.\n"
     ]
    },
    {
     "name": "stderr",
     "output_type": "stream",
     "text": [
      "[INFO 03-01 18:25:36] ax.early_stopping.strategies.base: No trials have reached 0.3. Not stopping any trials.\n"
     ]
    },
    {
     "name": "stderr",
     "output_type": "stream",
     "text": [
      "[INFO 03-01 18:25:36] Scheduler: Waiting for completed trials (for 10 sec, currently running trials: 3).\n"
     ]
    },
    {
     "name": "stderr",
     "output_type": "stream",
     "text": [
      "[INFO 03-01 18:25:46] Scheduler: Fetching data for newly completed trials: [].\n"
     ]
    },
    {
     "name": "stderr",
     "output_type": "stream",
     "text": [
      "[INFO 03-01 18:25:46] Scheduler: Fetching data for trials: 5 - 7 because some metrics on experiment are available while trials are running.\n"
     ]
    },
    {
     "name": "stderr",
     "output_type": "stream",
     "text": [
      "/tmp/tmp.KbiES6I0qN/Ax-main/ax/core/map_data.py:188: FutureWarning: The behavior of DataFrame concatenation with empty or all-NA entries is deprecated. In a future version, this will no longer exclude empty or all-NA columns when determining the result dtypes. To retain the old behavior, exclude the relevant entries before the concat operation.\n",
      "  df = pd.concat(\n",
      "/tmp/tmp.KbiES6I0qN/Ax-main/ax/core/map_data.py:188: FutureWarning: The behavior of DataFrame concatenation with empty or all-NA entries is deprecated. In a future version, this will no longer exclude empty or all-NA columns when determining the result dtypes. To retain the old behavior, exclude the relevant entries before the concat operation.\n",
      "  df = pd.concat(\n",
      "[INFO 03-01 18:25:46] ax.early_stopping.strategies.base: Last progression of any candidate for trial stopping is 0.09994666666666667.\n"
     ]
    },
    {
     "name": "stderr",
     "output_type": "stream",
     "text": [
      "[INFO 03-01 18:25:46] ax.early_stopping.strategies.base: No trials have reached 0.3. Not stopping any trials.\n"
     ]
    },
    {
     "name": "stderr",
     "output_type": "stream",
     "text": [
      "[INFO 03-01 18:25:46] Scheduler: Waiting for completed trials (for 10 sec, currently running trials: 3).\n"
     ]
    },
    {
     "name": "stderr",
     "output_type": "stream",
     "text": [
      "[INFO 03-01 18:25:56] Scheduler: Fetching data for newly completed trials: [].\n"
     ]
    },
    {
     "name": "stderr",
     "output_type": "stream",
     "text": [
      "[INFO 03-01 18:25:56] Scheduler: Fetching data for trials: 5 - 7 because some metrics on experiment are available while trials are running.\n"
     ]
    },
    {
     "name": "stderr",
     "output_type": "stream",
     "text": [
      "/tmp/tmp.KbiES6I0qN/Ax-main/ax/core/map_data.py:188: FutureWarning: The behavior of DataFrame concatenation with empty or all-NA entries is deprecated. In a future version, this will no longer exclude empty or all-NA columns when determining the result dtypes. To retain the old behavior, exclude the relevant entries before the concat operation.\n",
      "  df = pd.concat(\n",
      "/tmp/tmp.KbiES6I0qN/Ax-main/ax/core/map_data.py:188: FutureWarning: The behavior of DataFrame concatenation with empty or all-NA entries is deprecated. In a future version, this will no longer exclude empty or all-NA columns when determining the result dtypes. To retain the old behavior, exclude the relevant entries before the concat operation.\n",
      "  df = pd.concat(\n",
      "[INFO 03-01 18:25:56] ax.early_stopping.strategies.base: Last progression of any candidate for trial stopping is 0.09994666666666667.\n"
     ]
    },
    {
     "name": "stderr",
     "output_type": "stream",
     "text": [
      "[INFO 03-01 18:25:56] ax.early_stopping.strategies.base: No trials have reached 0.3. Not stopping any trials.\n"
     ]
    },
    {
     "name": "stderr",
     "output_type": "stream",
     "text": [
      "[INFO 03-01 18:25:56] Scheduler: Waiting for completed trials (for 10 sec, currently running trials: 3).\n"
     ]
    },
    {
     "name": "stderr",
     "output_type": "stream",
     "text": [
      "[INFO 03-01 18:26:06] Scheduler: Fetching data for newly completed trials: [].\n"
     ]
    },
    {
     "name": "stderr",
     "output_type": "stream",
     "text": [
      "[INFO 03-01 18:26:06] Scheduler: Fetching data for trials: 5 - 7 because some metrics on experiment are available while trials are running.\n"
     ]
    },
    {
     "name": "stderr",
     "output_type": "stream",
     "text": [
      "/tmp/tmp.KbiES6I0qN/Ax-main/ax/core/map_data.py:188: FutureWarning: The behavior of DataFrame concatenation with empty or all-NA entries is deprecated. In a future version, this will no longer exclude empty or all-NA columns when determining the result dtypes. To retain the old behavior, exclude the relevant entries before the concat operation.\n",
      "  df = pd.concat(\n",
      "/tmp/tmp.KbiES6I0qN/Ax-main/ax/core/map_data.py:188: FutureWarning: The behavior of DataFrame concatenation with empty or all-NA entries is deprecated. In a future version, this will no longer exclude empty or all-NA columns when determining the result dtypes. To retain the old behavior, exclude the relevant entries before the concat operation.\n",
      "  df = pd.concat(\n",
      "[INFO 03-01 18:26:06] ax.early_stopping.strategies.base: Last progression of any candidate for trial stopping is 0.09994666666666667.\n"
     ]
    },
    {
     "name": "stderr",
     "output_type": "stream",
     "text": [
      "[INFO 03-01 18:26:06] ax.early_stopping.strategies.base: No trials have reached 0.3. Not stopping any trials.\n"
     ]
    },
    {
     "name": "stderr",
     "output_type": "stream",
     "text": [
      "[INFO 03-01 18:26:06] Scheduler: Waiting for completed trials (for 10 sec, currently running trials: 3).\n"
     ]
    },
    {
     "name": "stderr",
     "output_type": "stream",
     "text": [
      "[INFO 03-01 18:26:16] Scheduler: Fetching data for newly completed trials: [].\n"
     ]
    },
    {
     "name": "stderr",
     "output_type": "stream",
     "text": [
      "[INFO 03-01 18:26:16] Scheduler: Fetching data for trials: 5 - 7 because some metrics on experiment are available while trials are running.\n"
     ]
    },
    {
     "name": "stderr",
     "output_type": "stream",
     "text": [
      "/tmp/tmp.KbiES6I0qN/Ax-main/ax/core/map_data.py:188: FutureWarning: The behavior of DataFrame concatenation with empty or all-NA entries is deprecated. In a future version, this will no longer exclude empty or all-NA columns when determining the result dtypes. To retain the old behavior, exclude the relevant entries before the concat operation.\n",
      "  df = pd.concat(\n",
      "/tmp/tmp.KbiES6I0qN/Ax-main/ax/core/map_data.py:188: FutureWarning: The behavior of DataFrame concatenation with empty or all-NA entries is deprecated. In a future version, this will no longer exclude empty or all-NA columns when determining the result dtypes. To retain the old behavior, exclude the relevant entries before the concat operation.\n",
      "  df = pd.concat(\n",
      "[INFO 03-01 18:26:16] ax.early_stopping.strategies.base: Last progression of any candidate for trial stopping is 0.19994666666666666.\n"
     ]
    },
    {
     "name": "stderr",
     "output_type": "stream",
     "text": [
      "[INFO 03-01 18:26:16] ax.early_stopping.strategies.base: No trials have reached 0.3. Not stopping any trials.\n"
     ]
    },
    {
     "name": "stderr",
     "output_type": "stream",
     "text": [
      "[INFO 03-01 18:26:16] Scheduler: Waiting for completed trials (for 10 sec, currently running trials: 3).\n"
     ]
    },
    {
     "name": "stderr",
     "output_type": "stream",
     "text": [
      "[INFO 03-01 18:26:26] Scheduler: Fetching data for newly completed trials: [].\n"
     ]
    },
    {
     "name": "stderr",
     "output_type": "stream",
     "text": [
      "[INFO 03-01 18:26:26] Scheduler: Fetching data for trials: 5 - 7 because some metrics on experiment are available while trials are running.\n"
     ]
    },
    {
     "name": "stderr",
     "output_type": "stream",
     "text": [
      "/tmp/tmp.KbiES6I0qN/Ax-main/ax/core/map_data.py:188: FutureWarning: The behavior of DataFrame concatenation with empty or all-NA entries is deprecated. In a future version, this will no longer exclude empty or all-NA columns when determining the result dtypes. To retain the old behavior, exclude the relevant entries before the concat operation.\n",
      "  df = pd.concat(\n",
      "/tmp/tmp.KbiES6I0qN/Ax-main/ax/core/map_data.py:188: FutureWarning: The behavior of DataFrame concatenation with empty or all-NA entries is deprecated. In a future version, this will no longer exclude empty or all-NA columns when determining the result dtypes. To retain the old behavior, exclude the relevant entries before the concat operation.\n",
      "  df = pd.concat(\n",
      "[INFO 03-01 18:26:26] ax.early_stopping.strategies.base: Last progression of any candidate for trial stopping is 0.19994666666666666.\n"
     ]
    },
    {
     "name": "stderr",
     "output_type": "stream",
     "text": [
      "[INFO 03-01 18:26:26] ax.early_stopping.strategies.base: No trials have reached 0.3. Not stopping any trials.\n"
     ]
    },
    {
     "name": "stderr",
     "output_type": "stream",
     "text": [
      "[INFO 03-01 18:26:26] Scheduler: Waiting for completed trials (for 10 sec, currently running trials: 3).\n"
     ]
    },
    {
     "name": "stderr",
     "output_type": "stream",
     "text": [
      "[INFO 03-01 18:26:36] Scheduler: Fetching data for newly completed trials: [].\n"
     ]
    },
    {
     "name": "stderr",
     "output_type": "stream",
     "text": [
      "[INFO 03-01 18:26:36] Scheduler: Fetching data for trials: 5 - 7 because some metrics on experiment are available while trials are running.\n"
     ]
    },
    {
     "name": "stderr",
     "output_type": "stream",
     "text": [
      "/tmp/tmp.KbiES6I0qN/Ax-main/ax/core/map_data.py:188: FutureWarning: The behavior of DataFrame concatenation with empty or all-NA entries is deprecated. In a future version, this will no longer exclude empty or all-NA columns when determining the result dtypes. To retain the old behavior, exclude the relevant entries before the concat operation.\n",
      "  df = pd.concat(\n",
      "/tmp/tmp.KbiES6I0qN/Ax-main/ax/core/map_data.py:188: FutureWarning: The behavior of DataFrame concatenation with empty or all-NA entries is deprecated. In a future version, this will no longer exclude empty or all-NA columns when determining the result dtypes. To retain the old behavior, exclude the relevant entries before the concat operation.\n",
      "  df = pd.concat(\n",
      "[INFO 03-01 18:26:37] ax.early_stopping.strategies.base: Last progression of any candidate for trial stopping is 0.19994666666666666.\n"
     ]
    },
    {
     "name": "stderr",
     "output_type": "stream",
     "text": [
      "[INFO 03-01 18:26:37] ax.early_stopping.strategies.base: No trials have reached 0.3. Not stopping any trials.\n"
     ]
    },
    {
     "name": "stderr",
     "output_type": "stream",
     "text": [
      "[INFO 03-01 18:26:37] Scheduler: Waiting for completed trials (for 10 sec, currently running trials: 3).\n"
     ]
    },
    {
     "name": "stderr",
     "output_type": "stream",
     "text": [
      "[INFO 03-01 18:26:47] Scheduler: Fetching data for newly completed trials: [].\n"
     ]
    },
    {
     "name": "stderr",
     "output_type": "stream",
     "text": [
      "[INFO 03-01 18:26:47] Scheduler: Fetching data for trials: 5 - 7 because some metrics on experiment are available while trials are running.\n"
     ]
    },
    {
     "name": "stderr",
     "output_type": "stream",
     "text": [
      "/tmp/tmp.KbiES6I0qN/Ax-main/ax/core/map_data.py:188: FutureWarning: The behavior of DataFrame concatenation with empty or all-NA entries is deprecated. In a future version, this will no longer exclude empty or all-NA columns when determining the result dtypes. To retain the old behavior, exclude the relevant entries before the concat operation.\n",
      "  df = pd.concat(\n",
      "/tmp/tmp.KbiES6I0qN/Ax-main/ax/core/map_data.py:188: FutureWarning: The behavior of DataFrame concatenation with empty or all-NA entries is deprecated. In a future version, this will no longer exclude empty or all-NA columns when determining the result dtypes. To retain the old behavior, exclude the relevant entries before the concat operation.\n",
      "  df = pd.concat(\n",
      "[INFO 03-01 18:26:47] ax.early_stopping.strategies.base: Last progression of any candidate for trial stopping is 0.19994666666666666.\n"
     ]
    },
    {
     "name": "stderr",
     "output_type": "stream",
     "text": [
      "[INFO 03-01 18:26:47] ax.early_stopping.strategies.base: No trials have reached 0.3. Not stopping any trials.\n"
     ]
    },
    {
     "name": "stderr",
     "output_type": "stream",
     "text": [
      "[INFO 03-01 18:26:47] Scheduler: Waiting for completed trials (for 10 sec, currently running trials: 3).\n"
     ]
    },
    {
     "name": "stderr",
     "output_type": "stream",
     "text": [
      "[INFO 03-01 18:26:57] Scheduler: Fetching data for newly completed trials: [].\n"
     ]
    },
    {
     "name": "stderr",
     "output_type": "stream",
     "text": [
      "[INFO 03-01 18:26:57] Scheduler: Fetching data for trials: 5 - 7 because some metrics on experiment are available while trials are running.\n"
     ]
    },
    {
     "name": "stderr",
     "output_type": "stream",
     "text": [
      "/tmp/tmp.KbiES6I0qN/Ax-main/ax/core/map_data.py:188: FutureWarning: The behavior of DataFrame concatenation with empty or all-NA entries is deprecated. In a future version, this will no longer exclude empty or all-NA columns when determining the result dtypes. To retain the old behavior, exclude the relevant entries before the concat operation.\n",
      "  df = pd.concat(\n",
      "/tmp/tmp.KbiES6I0qN/Ax-main/ax/core/map_data.py:188: FutureWarning: The behavior of DataFrame concatenation with empty or all-NA entries is deprecated. In a future version, this will no longer exclude empty or all-NA columns when determining the result dtypes. To retain the old behavior, exclude the relevant entries before the concat operation.\n",
      "  df = pd.concat(\n",
      "[INFO 03-01 18:26:57] ax.early_stopping.strategies.base: Last progression of any candidate for trial stopping is 0.19994666666666666.\n"
     ]
    },
    {
     "name": "stderr",
     "output_type": "stream",
     "text": [
      "[INFO 03-01 18:26:57] ax.early_stopping.strategies.base: No trials have reached 0.3. Not stopping any trials.\n"
     ]
    },
    {
     "name": "stderr",
     "output_type": "stream",
     "text": [
      "[INFO 03-01 18:26:57] Scheduler: Waiting for completed trials (for 10 sec, currently running trials: 3).\n"
     ]
    },
    {
     "name": "stderr",
     "output_type": "stream",
     "text": [
      "[INFO 03-01 18:27:07] Scheduler: Fetching data for newly completed trials: [].\n"
     ]
    },
    {
     "name": "stderr",
     "output_type": "stream",
     "text": [
      "[INFO 03-01 18:27:07] Scheduler: Fetching data for trials: 5 - 7 because some metrics on experiment are available while trials are running.\n"
     ]
    },
    {
     "name": "stderr",
     "output_type": "stream",
     "text": [
      "/tmp/tmp.KbiES6I0qN/Ax-main/ax/core/map_data.py:188: FutureWarning: The behavior of DataFrame concatenation with empty or all-NA entries is deprecated. In a future version, this will no longer exclude empty or all-NA columns when determining the result dtypes. To retain the old behavior, exclude the relevant entries before the concat operation.\n",
      "  df = pd.concat(\n",
      "/tmp/tmp.KbiES6I0qN/Ax-main/ax/core/map_data.py:188: FutureWarning: The behavior of DataFrame concatenation with empty or all-NA entries is deprecated. In a future version, this will no longer exclude empty or all-NA columns when determining the result dtypes. To retain the old behavior, exclude the relevant entries before the concat operation.\n",
      "  df = pd.concat(\n",
      "[INFO 03-01 18:27:07] ax.early_stopping.strategies.base: Last progression of any candidate for trial stopping is 0.29994666666666664.\n"
     ]
    },
    {
     "name": "stderr",
     "output_type": "stream",
     "text": [
      "[INFO 03-01 18:27:07] ax.early_stopping.strategies.base: No trials have reached 0.3. Not stopping any trials.\n"
     ]
    },
    {
     "name": "stderr",
     "output_type": "stream",
     "text": [
      "[INFO 03-01 18:27:07] Scheduler: Waiting for completed trials (for 10 sec, currently running trials: 3).\n"
     ]
    },
    {
     "name": "stderr",
     "output_type": "stream",
     "text": [
      "[INFO 03-01 18:27:17] Scheduler: Fetching data for newly completed trials: [].\n"
     ]
    },
    {
     "name": "stderr",
     "output_type": "stream",
     "text": [
      "[INFO 03-01 18:27:17] Scheduler: Fetching data for trials: 5 - 7 because some metrics on experiment are available while trials are running.\n"
     ]
    },
    {
     "name": "stderr",
     "output_type": "stream",
     "text": [
      "/tmp/tmp.KbiES6I0qN/Ax-main/ax/core/map_data.py:188: FutureWarning: The behavior of DataFrame concatenation with empty or all-NA entries is deprecated. In a future version, this will no longer exclude empty or all-NA columns when determining the result dtypes. To retain the old behavior, exclude the relevant entries before the concat operation.\n",
      "  df = pd.concat(\n",
      "/tmp/tmp.KbiES6I0qN/Ax-main/ax/core/map_data.py:188: FutureWarning: The behavior of DataFrame concatenation with empty or all-NA entries is deprecated. In a future version, this will no longer exclude empty or all-NA columns when determining the result dtypes. To retain the old behavior, exclude the relevant entries before the concat operation.\n",
      "  df = pd.concat(\n",
      "[INFO 03-01 18:27:17] ax.early_stopping.strategies.base: Last progression of any candidate for trial stopping is 0.29994666666666664.\n"
     ]
    },
    {
     "name": "stderr",
     "output_type": "stream",
     "text": [
      "[INFO 03-01 18:27:17] ax.early_stopping.strategies.base: No trials have reached 0.3. Not stopping any trials.\n"
     ]
    },
    {
     "name": "stderr",
     "output_type": "stream",
     "text": [
      "[INFO 03-01 18:27:17] Scheduler: Waiting for completed trials (for 10 sec, currently running trials: 3).\n"
     ]
    },
    {
     "name": "stderr",
     "output_type": "stream",
     "text": [
      "[INFO 03-01 18:27:27] Scheduler: Fetching data for newly completed trials: [].\n"
     ]
    },
    {
     "name": "stderr",
     "output_type": "stream",
     "text": [
      "[INFO 03-01 18:27:27] Scheduler: Fetching data for trials: 5 - 7 because some metrics on experiment are available while trials are running.\n"
     ]
    },
    {
     "name": "stderr",
     "output_type": "stream",
     "text": [
      "/tmp/tmp.KbiES6I0qN/Ax-main/ax/core/map_data.py:188: FutureWarning: The behavior of DataFrame concatenation with empty or all-NA entries is deprecated. In a future version, this will no longer exclude empty or all-NA columns when determining the result dtypes. To retain the old behavior, exclude the relevant entries before the concat operation.\n",
      "  df = pd.concat(\n",
      "/tmp/tmp.KbiES6I0qN/Ax-main/ax/core/map_data.py:188: FutureWarning: The behavior of DataFrame concatenation with empty or all-NA entries is deprecated. In a future version, this will no longer exclude empty or all-NA columns when determining the result dtypes. To retain the old behavior, exclude the relevant entries before the concat operation.\n",
      "  df = pd.concat(\n",
      "[INFO 03-01 18:27:27] ax.early_stopping.strategies.base: Last progression of any candidate for trial stopping is 0.29994666666666664.\n"
     ]
    },
    {
     "name": "stderr",
     "output_type": "stream",
     "text": [
      "[INFO 03-01 18:27:27] ax.early_stopping.strategies.base: No trials have reached 0.3. Not stopping any trials.\n"
     ]
    },
    {
     "name": "stderr",
     "output_type": "stream",
     "text": [
      "[INFO 03-01 18:27:27] Scheduler: Waiting for completed trials (for 10 sec, currently running trials: 3).\n"
     ]
    },
    {
     "name": "stderr",
     "output_type": "stream",
     "text": [
      "[INFO 03-01 18:27:37] Scheduler: Fetching data for newly completed trials: [].\n"
     ]
    },
    {
     "name": "stderr",
     "output_type": "stream",
     "text": [
      "[INFO 03-01 18:27:37] Scheduler: Fetching data for trials: 5 - 7 because some metrics on experiment are available while trials are running.\n"
     ]
    },
    {
     "name": "stderr",
     "output_type": "stream",
     "text": [
      "/tmp/tmp.KbiES6I0qN/Ax-main/ax/core/map_data.py:188: FutureWarning: The behavior of DataFrame concatenation with empty or all-NA entries is deprecated. In a future version, this will no longer exclude empty or all-NA columns when determining the result dtypes. To retain the old behavior, exclude the relevant entries before the concat operation.\n",
      "  df = pd.concat(\n",
      "/tmp/tmp.KbiES6I0qN/Ax-main/ax/core/map_data.py:188: FutureWarning: The behavior of DataFrame concatenation with empty or all-NA entries is deprecated. In a future version, this will no longer exclude empty or all-NA columns when determining the result dtypes. To retain the old behavior, exclude the relevant entries before the concat operation.\n",
      "  df = pd.concat(\n"
     ]
    },
    {
     "name": "stderr",
     "output_type": "stream",
     "text": [
      "[INFO 03-01 18:27:38] ax.early_stopping.strategies.base: Last progression of any candidate for trial stopping is 0.29994666666666664.\n"
     ]
    },
    {
     "name": "stderr",
     "output_type": "stream",
     "text": [
      "[INFO 03-01 18:27:38] ax.early_stopping.strategies.base: No trials have reached 0.3. Not stopping any trials.\n"
     ]
    },
    {
     "name": "stderr",
     "output_type": "stream",
     "text": [
      "[INFO 03-01 18:27:38] Scheduler: Waiting for completed trials (for 10 sec, currently running trials: 3).\n"
     ]
    },
    {
     "name": "stderr",
     "output_type": "stream",
     "text": [
      "[INFO 03-01 18:27:48] Scheduler: Fetching data for newly completed trials: [].\n"
     ]
    },
    {
     "name": "stderr",
     "output_type": "stream",
     "text": [
      "[INFO 03-01 18:27:48] Scheduler: Fetching data for trials: 5 - 7 because some metrics on experiment are available while trials are running.\n"
     ]
    },
    {
     "name": "stderr",
     "output_type": "stream",
     "text": [
      "/tmp/tmp.KbiES6I0qN/Ax-main/ax/core/map_data.py:188: FutureWarning: The behavior of DataFrame concatenation with empty or all-NA entries is deprecated. In a future version, this will no longer exclude empty or all-NA columns when determining the result dtypes. To retain the old behavior, exclude the relevant entries before the concat operation.\n",
      "  df = pd.concat(\n",
      "/tmp/tmp.KbiES6I0qN/Ax-main/ax/core/map_data.py:188: FutureWarning: The behavior of DataFrame concatenation with empty or all-NA entries is deprecated. In a future version, this will no longer exclude empty or all-NA columns when determining the result dtypes. To retain the old behavior, exclude the relevant entries before the concat operation.\n",
      "  df = pd.concat(\n",
      "[INFO 03-01 18:27:48] ax.early_stopping.strategies.base: Last progression of any candidate for trial stopping is 0.3999466666666667.\n"
     ]
    },
    {
     "name": "stderr",
     "output_type": "stream",
     "text": [
      "[INFO 03-01 18:27:48] ax.early_stopping.strategies.percentile: Considering trial 5 for early stopping.\n"
     ]
    },
    {
     "name": "stderr",
     "output_type": "stream",
     "text": [
      "[INFO 03-01 18:27:48] ax.early_stopping.strategies.base: Last progression of Trial 5 is 0.3999466666666667.\n"
     ]
    },
    {
     "name": "stderr",
     "output_type": "stream",
     "text": [
      "[INFO 03-01 18:27:48] ax.early_stopping.strategies.percentile: Early stopping objective at last progression is:\n",
      "0    0.968049\n",
      "1    0.886844\n",
      "2    0.940627\n",
      "3    0.966532\n",
      "4    0.946419\n",
      "5    0.968146\n",
      "6    0.946698\n",
      "7    0.966843\n",
      "Name: 0.3999466666666667, dtype: float64.\n"
     ]
    },
    {
     "name": "stderr",
     "output_type": "stream",
     "text": [
      "[INFO 03-01 18:27:48] ax.early_stopping.strategies.percentile: Early stopping decision for 5: False. Reason: Trial objective value 0.9681462049484253 is better than 70.0-th percentile (0.9668116688728332) across comparable trials.\n"
     ]
    },
    {
     "name": "stderr",
     "output_type": "stream",
     "text": [
      "[INFO 03-01 18:27:48] ax.early_stopping.strategies.percentile: Considering trial 6 for early stopping.\n"
     ]
    },
    {
     "name": "stderr",
     "output_type": "stream",
     "text": [
      "[INFO 03-01 18:27:48] ax.early_stopping.strategies.base: Last progression of Trial 6 is 0.3999466666666667.\n"
     ]
    },
    {
     "name": "stderr",
     "output_type": "stream",
     "text": [
      "[INFO 03-01 18:27:48] ax.early_stopping.strategies.percentile: Early stopping objective at last progression is:\n",
      "0    0.968049\n",
      "1    0.886844\n",
      "2    0.940627\n",
      "3    0.966532\n",
      "4    0.946419\n",
      "5    0.968146\n",
      "6    0.946698\n",
      "7    0.966843\n",
      "Name: 0.3999466666666667, dtype: float64.\n"
     ]
    },
    {
     "name": "stderr",
     "output_type": "stream",
     "text": [
      "[INFO 03-01 18:27:48] ax.early_stopping.strategies.percentile: Early stopping decision for 6: True. Reason: Trial objective value 0.9466980695724487 is worse than 70.0-th percentile (0.9668116688728332) across comparable trials.\n"
     ]
    },
    {
     "name": "stderr",
     "output_type": "stream",
     "text": [
      "[INFO 03-01 18:27:48] ax.early_stopping.strategies.percentile: Considering trial 7 for early stopping.\n"
     ]
    },
    {
     "name": "stderr",
     "output_type": "stream",
     "text": [
      "[INFO 03-01 18:27:48] ax.early_stopping.strategies.base: Last progression of Trial 7 is 0.3999466666666667.\n"
     ]
    },
    {
     "name": "stderr",
     "output_type": "stream",
     "text": [
      "[INFO 03-01 18:27:48] ax.early_stopping.strategies.percentile: Early stopping objective at last progression is:\n",
      "0    0.968049\n",
      "1    0.886844\n",
      "2    0.940627\n",
      "3    0.966532\n",
      "4    0.946419\n",
      "5    0.968146\n",
      "6    0.946698\n",
      "7    0.966843\n",
      "Name: 0.3999466666666667, dtype: float64.\n"
     ]
    },
    {
     "name": "stderr",
     "output_type": "stream",
     "text": [
      "[INFO 03-01 18:27:48] ax.early_stopping.strategies.percentile: Early stopping decision for 7: False. Reason: Trial objective value 0.966842770576477 is better than 70.0-th percentile (0.9668116688728332) across comparable trials.\n"
     ]
    },
    {
     "name": "stderr",
     "output_type": "stream",
     "text": [
      "/tmp/tmp.KbiES6I0qN/Ax-main/ax/core/map_data.py:188: FutureWarning: The behavior of DataFrame concatenation with empty or all-NA entries is deprecated. In a future version, this will no longer exclude empty or all-NA columns when determining the result dtypes. To retain the old behavior, exclude the relevant entries before the concat operation.\n",
      "  df = pd.concat(\n"
     ]
    },
    {
     "name": "stderr",
     "output_type": "stream",
     "text": [
      "[WARNING 03-01 18:27:49] ax.models.torch.botorch_modular.acquisition: Encountered Xs pending for some Surrogates but observed for others. Considering these points to be pending.\n"
     ]
    },
    {
     "name": "stderr",
     "output_type": "stream",
     "text": [
      "[INFO 03-01 18:27:54] Scheduler: Running trials [8]...\n"
     ]
    },
    {
     "name": "stderr",
     "output_type": "stream",
     "text": [
      "/tmp/tmp.KbiES6I0qN/Ax-main/ax/core/map_data.py:188: FutureWarning: The behavior of DataFrame concatenation with empty or all-NA entries is deprecated. In a future version, this will no longer exclude empty or all-NA columns when determining the result dtypes. To retain the old behavior, exclude the relevant entries before the concat operation.\n",
      "  df = pd.concat(\n",
      "[INFO 03-01 18:27:54] ax.modelbridge.torch: The observations are identical to the last set of observations used to fit the model. Skipping model fitting.\n"
     ]
    },
    {
     "name": "stderr",
     "output_type": "stream",
     "text": [
      "[INFO 03-01 18:27:54] Scheduler: Generated all trials that can be generated currently. Max parallelism currently reached.\n"
     ]
    },
    {
     "name": "stderr",
     "output_type": "stream",
     "text": [
      "[WARNING 03-01 18:27:54] Scheduler: Both `init_seconds_between_polls` and `early_stopping_strategy supplied. `init_seconds_between_polls=1` will be overrridden by `early_stopping_strategy.seconds_between_polls=10` and polling will take place at a constant rate.\n"
     ]
    },
    {
     "name": "stderr",
     "output_type": "stream",
     "text": [
      "[INFO 03-01 18:27:54] Scheduler: Fetching data for newly completed trials: [].\n"
     ]
    },
    {
     "name": "stderr",
     "output_type": "stream",
     "text": [
      "[INFO 03-01 18:27:54] Scheduler: Fetching data for trials: [5, 7, 8] because some metrics on experiment are available while trials are running.\n"
     ]
    },
    {
     "name": "stderr",
     "output_type": "stream",
     "text": [
      "[INFO 03-01 18:27:54] ax.metrics.curve: val_acc not yet present in curves from /tmp/tmp3o86bad6/8. Returning without this metric.\n"
     ]
    },
    {
     "name": "stderr",
     "output_type": "stream",
     "text": [
      "/tmp/tmp.KbiES6I0qN/Ax-main/ax/core/map_data.py:188: FutureWarning: The behavior of DataFrame concatenation with empty or all-NA entries is deprecated. In a future version, this will no longer exclude empty or all-NA columns when determining the result dtypes. To retain the old behavior, exclude the relevant entries before the concat operation.\n",
      "  df = pd.concat(\n",
      "/tmp/tmp.KbiES6I0qN/Ax-main/ax/core/map_data.py:188: FutureWarning: The behavior of DataFrame concatenation with empty or all-NA entries is deprecated. In a future version, this will no longer exclude empty or all-NA columns when determining the result dtypes. To retain the old behavior, exclude the relevant entries before the concat operation.\n",
      "  df = pd.concat(\n"
     ]
    },
    {
     "name": "stderr",
     "output_type": "stream",
     "text": [
      "[INFO 03-01 18:27:54] ax.early_stopping.strategies.base: Last progression of any candidate for trial stopping is 0.3999466666666667.\n"
     ]
    },
    {
     "name": "stderr",
     "output_type": "stream",
     "text": [
      "[INFO 03-01 18:27:54] ax.early_stopping.strategies.percentile: Considering trial 5 for early stopping.\n"
     ]
    },
    {
     "name": "stderr",
     "output_type": "stream",
     "text": [
      "[INFO 03-01 18:27:54] ax.early_stopping.strategies.base: Last progression of Trial 5 is 0.3999466666666667.\n"
     ]
    },
    {
     "name": "stderr",
     "output_type": "stream",
     "text": [
      "[INFO 03-01 18:27:54] ax.early_stopping.strategies.percentile: Early stopping objective at last progression is:\n",
      "0    0.968049\n",
      "1    0.886844\n",
      "2    0.940627\n",
      "3    0.966532\n",
      "4    0.946419\n",
      "5    0.968146\n",
      "6    0.946698\n",
      "7    0.966843\n",
      "Name: 0.3999466666666667, dtype: float64.\n"
     ]
    },
    {
     "name": "stderr",
     "output_type": "stream",
     "text": [
      "[INFO 03-01 18:27:54] ax.early_stopping.strategies.percentile: Early stopping decision for 5: False. Reason: Trial objective value 0.9681462049484253 is better than 70.0-th percentile (0.9668116688728332) across comparable trials.\n"
     ]
    },
    {
     "name": "stderr",
     "output_type": "stream",
     "text": [
      "[INFO 03-01 18:27:54] ax.early_stopping.strategies.percentile: Considering trial 7 for early stopping.\n"
     ]
    },
    {
     "name": "stderr",
     "output_type": "stream",
     "text": [
      "[INFO 03-01 18:27:54] ax.early_stopping.strategies.base: Last progression of Trial 7 is 0.3999466666666667.\n"
     ]
    },
    {
     "name": "stderr",
     "output_type": "stream",
     "text": [
      "[INFO 03-01 18:27:54] ax.early_stopping.strategies.percentile: Early stopping objective at last progression is:\n",
      "0    0.968049\n",
      "1    0.886844\n",
      "2    0.940627\n",
      "3    0.966532\n",
      "4    0.946419\n",
      "5    0.968146\n",
      "6    0.946698\n",
      "7    0.966843\n",
      "Name: 0.3999466666666667, dtype: float64.\n"
     ]
    },
    {
     "name": "stderr",
     "output_type": "stream",
     "text": [
      "[INFO 03-01 18:27:54] ax.early_stopping.strategies.percentile: Early stopping decision for 7: False. Reason: Trial objective value 0.966842770576477 is better than 70.0-th percentile (0.9668116688728332) across comparable trials.\n"
     ]
    },
    {
     "name": "stderr",
     "output_type": "stream",
     "text": [
      "[INFO 03-01 18:27:54] ax.early_stopping.strategies.percentile: Considering trial 8 for early stopping.\n"
     ]
    },
    {
     "name": "stderr",
     "output_type": "stream",
     "text": [
      "[INFO 03-01 18:27:54] ax.early_stopping.strategies.base: There is not yet any data associated with trial 8 and metric val_acc. Not early stopping this trial.\n"
     ]
    },
    {
     "name": "stderr",
     "output_type": "stream",
     "text": [
      "[INFO 03-01 18:27:54] Scheduler: Waiting for completed trials (for 10 sec, currently running trials: 3).\n"
     ]
    },
    {
     "name": "stderr",
     "output_type": "stream",
     "text": [
      "[INFO 03-01 18:28:04] Scheduler: Fetching data for newly completed trials: [].\n"
     ]
    },
    {
     "name": "stderr",
     "output_type": "stream",
     "text": [
      "[INFO 03-01 18:28:04] Scheduler: Fetching data for trials: [5, 7, 8] because some metrics on experiment are available while trials are running.\n"
     ]
    },
    {
     "name": "stderr",
     "output_type": "stream",
     "text": [
      "[INFO 03-01 18:28:04] ax.metrics.curve: val_acc not yet present in curves from /tmp/tmp3o86bad6/8. Returning without this metric.\n"
     ]
    },
    {
     "name": "stderr",
     "output_type": "stream",
     "text": [
      "/tmp/tmp.KbiES6I0qN/Ax-main/ax/core/map_data.py:188: FutureWarning: The behavior of DataFrame concatenation with empty or all-NA entries is deprecated. In a future version, this will no longer exclude empty or all-NA columns when determining the result dtypes. To retain the old behavior, exclude the relevant entries before the concat operation.\n",
      "  df = pd.concat(\n",
      "/tmp/tmp.KbiES6I0qN/Ax-main/ax/core/map_data.py:188: FutureWarning: The behavior of DataFrame concatenation with empty or all-NA entries is deprecated. In a future version, this will no longer exclude empty or all-NA columns when determining the result dtypes. To retain the old behavior, exclude the relevant entries before the concat operation.\n",
      "  df = pd.concat(\n",
      "[INFO 03-01 18:28:04] ax.early_stopping.strategies.base: Last progression of any candidate for trial stopping is 0.3999466666666667.\n"
     ]
    },
    {
     "name": "stderr",
     "output_type": "stream",
     "text": [
      "[INFO 03-01 18:28:04] ax.early_stopping.strategies.percentile: Considering trial 5 for early stopping.\n"
     ]
    },
    {
     "name": "stderr",
     "output_type": "stream",
     "text": [
      "[INFO 03-01 18:28:04] ax.early_stopping.strategies.base: Last progression of Trial 5 is 0.3999466666666667.\n"
     ]
    },
    {
     "name": "stderr",
     "output_type": "stream",
     "text": [
      "[INFO 03-01 18:28:04] ax.early_stopping.strategies.percentile: Early stopping objective at last progression is:\n",
      "0    0.968049\n",
      "1    0.886844\n",
      "2    0.940627\n",
      "3    0.966532\n",
      "4    0.946419\n",
      "5    0.968146\n",
      "6    0.946698\n",
      "7    0.966843\n",
      "Name: 0.3999466666666667, dtype: float64.\n"
     ]
    },
    {
     "name": "stderr",
     "output_type": "stream",
     "text": [
      "[INFO 03-01 18:28:04] ax.early_stopping.strategies.percentile: Early stopping decision for 5: False. Reason: Trial objective value 0.9681462049484253 is better than 70.0-th percentile (0.9668116688728332) across comparable trials.\n"
     ]
    },
    {
     "name": "stderr",
     "output_type": "stream",
     "text": [
      "[INFO 03-01 18:28:04] ax.early_stopping.strategies.percentile: Considering trial 7 for early stopping.\n"
     ]
    },
    {
     "name": "stderr",
     "output_type": "stream",
     "text": [
      "[INFO 03-01 18:28:04] ax.early_stopping.strategies.base: Last progression of Trial 7 is 0.3999466666666667.\n"
     ]
    },
    {
     "name": "stderr",
     "output_type": "stream",
     "text": [
      "[INFO 03-01 18:28:04] ax.early_stopping.strategies.percentile: Early stopping objective at last progression is:\n",
      "0    0.968049\n",
      "1    0.886844\n",
      "2    0.940627\n",
      "3    0.966532\n",
      "4    0.946419\n",
      "5    0.968146\n",
      "6    0.946698\n",
      "7    0.966843\n",
      "Name: 0.3999466666666667, dtype: float64.\n"
     ]
    },
    {
     "name": "stderr",
     "output_type": "stream",
     "text": [
      "[INFO 03-01 18:28:04] ax.early_stopping.strategies.percentile: Early stopping decision for 7: False. Reason: Trial objective value 0.966842770576477 is better than 70.0-th percentile (0.9668116688728332) across comparable trials.\n"
     ]
    },
    {
     "name": "stderr",
     "output_type": "stream",
     "text": [
      "[INFO 03-01 18:28:04] ax.early_stopping.strategies.percentile: Considering trial 8 for early stopping.\n"
     ]
    },
    {
     "name": "stderr",
     "output_type": "stream",
     "text": [
      "[INFO 03-01 18:28:04] ax.early_stopping.strategies.base: There is not yet any data associated with trial 8 and metric val_acc. Not early stopping this trial.\n"
     ]
    },
    {
     "name": "stderr",
     "output_type": "stream",
     "text": [
      "[INFO 03-01 18:28:04] Scheduler: Waiting for completed trials (for 10 sec, currently running trials: 3).\n"
     ]
    },
    {
     "name": "stderr",
     "output_type": "stream",
     "text": [
      "[INFO 03-01 18:28:14] Scheduler: Fetching data for newly completed trials: [].\n"
     ]
    },
    {
     "name": "stderr",
     "output_type": "stream",
     "text": [
      "[INFO 03-01 18:28:14] Scheduler: Fetching data for trials: [5, 7, 8] because some metrics on experiment are available while trials are running.\n"
     ]
    },
    {
     "name": "stderr",
     "output_type": "stream",
     "text": [
      "[INFO 03-01 18:28:14] ax.metrics.curve: val_acc not yet present in curves from /tmp/tmp3o86bad6/8. Returning without this metric.\n"
     ]
    },
    {
     "name": "stderr",
     "output_type": "stream",
     "text": [
      "/tmp/tmp.KbiES6I0qN/Ax-main/ax/core/map_data.py:188: FutureWarning: The behavior of DataFrame concatenation with empty or all-NA entries is deprecated. In a future version, this will no longer exclude empty or all-NA columns when determining the result dtypes. To retain the old behavior, exclude the relevant entries before the concat operation.\n",
      "  df = pd.concat(\n",
      "/tmp/tmp.KbiES6I0qN/Ax-main/ax/core/map_data.py:188: FutureWarning: The behavior of DataFrame concatenation with empty or all-NA entries is deprecated. In a future version, this will no longer exclude empty or all-NA columns when determining the result dtypes. To retain the old behavior, exclude the relevant entries before the concat operation.\n",
      "  df = pd.concat(\n",
      "[INFO 03-01 18:28:14] ax.early_stopping.strategies.base: Last progression of any candidate for trial stopping is 0.3999466666666667.\n"
     ]
    },
    {
     "name": "stderr",
     "output_type": "stream",
     "text": [
      "[INFO 03-01 18:28:15] ax.early_stopping.strategies.percentile: Considering trial 5 for early stopping.\n"
     ]
    },
    {
     "name": "stderr",
     "output_type": "stream",
     "text": [
      "[INFO 03-01 18:28:15] ax.early_stopping.strategies.base: Last progression of Trial 5 is 0.3999466666666667.\n"
     ]
    },
    {
     "name": "stderr",
     "output_type": "stream",
     "text": [
      "[INFO 03-01 18:28:15] ax.early_stopping.strategies.percentile: Early stopping objective at last progression is:\n",
      "0    0.968049\n",
      "1    0.886844\n",
      "2    0.940627\n",
      "3    0.966532\n",
      "4    0.946419\n",
      "5    0.968146\n",
      "6    0.946698\n",
      "7    0.966843\n",
      "Name: 0.3999466666666667, dtype: float64.\n"
     ]
    },
    {
     "name": "stderr",
     "output_type": "stream",
     "text": [
      "[INFO 03-01 18:28:15] ax.early_stopping.strategies.percentile: Early stopping decision for 5: False. Reason: Trial objective value 0.9681462049484253 is better than 70.0-th percentile (0.9668116688728332) across comparable trials.\n"
     ]
    },
    {
     "name": "stderr",
     "output_type": "stream",
     "text": [
      "[INFO 03-01 18:28:15] ax.early_stopping.strategies.percentile: Considering trial 7 for early stopping.\n"
     ]
    },
    {
     "name": "stderr",
     "output_type": "stream",
     "text": [
      "[INFO 03-01 18:28:15] ax.early_stopping.strategies.base: Last progression of Trial 7 is 0.3999466666666667.\n"
     ]
    },
    {
     "name": "stderr",
     "output_type": "stream",
     "text": [
      "[INFO 03-01 18:28:15] ax.early_stopping.strategies.percentile: Early stopping objective at last progression is:\n",
      "0    0.968049\n",
      "1    0.886844\n",
      "2    0.940627\n",
      "3    0.966532\n",
      "4    0.946419\n",
      "5    0.968146\n",
      "6    0.946698\n",
      "7    0.966843\n",
      "Name: 0.3999466666666667, dtype: float64.\n"
     ]
    },
    {
     "name": "stderr",
     "output_type": "stream",
     "text": [
      "[INFO 03-01 18:28:15] ax.early_stopping.strategies.percentile: Early stopping decision for 7: False. Reason: Trial objective value 0.966842770576477 is better than 70.0-th percentile (0.9668116688728332) across comparable trials.\n"
     ]
    },
    {
     "name": "stderr",
     "output_type": "stream",
     "text": [
      "[INFO 03-01 18:28:15] ax.early_stopping.strategies.percentile: Considering trial 8 for early stopping.\n"
     ]
    },
    {
     "name": "stderr",
     "output_type": "stream",
     "text": [
      "[INFO 03-01 18:28:15] ax.early_stopping.strategies.base: There is not yet any data associated with trial 8 and metric val_acc. Not early stopping this trial.\n"
     ]
    },
    {
     "name": "stderr",
     "output_type": "stream",
     "text": [
      "[INFO 03-01 18:28:15] Scheduler: Waiting for completed trials (for 10 sec, currently running trials: 3).\n"
     ]
    },
    {
     "name": "stderr",
     "output_type": "stream",
     "text": [
      "[INFO 03-01 18:28:25] Scheduler: Fetching data for newly completed trials: [].\n"
     ]
    },
    {
     "name": "stderr",
     "output_type": "stream",
     "text": [
      "[INFO 03-01 18:28:25] Scheduler: Fetching data for trials: [5, 7, 8] because some metrics on experiment are available while trials are running.\n"
     ]
    },
    {
     "name": "stderr",
     "output_type": "stream",
     "text": [
      "[INFO 03-01 18:28:25] ax.metrics.curve: val_acc not yet present in curves from /tmp/tmp3o86bad6/8. Returning without this metric.\n"
     ]
    },
    {
     "name": "stderr",
     "output_type": "stream",
     "text": [
      "/tmp/tmp.KbiES6I0qN/Ax-main/ax/core/map_data.py:188: FutureWarning: The behavior of DataFrame concatenation with empty or all-NA entries is deprecated. In a future version, this will no longer exclude empty or all-NA columns when determining the result dtypes. To retain the old behavior, exclude the relevant entries before the concat operation.\n",
      "  df = pd.concat(\n",
      "/tmp/tmp.KbiES6I0qN/Ax-main/ax/core/map_data.py:188: FutureWarning: The behavior of DataFrame concatenation with empty or all-NA entries is deprecated. In a future version, this will no longer exclude empty or all-NA columns when determining the result dtypes. To retain the old behavior, exclude the relevant entries before the concat operation.\n",
      "  df = pd.concat(\n",
      "[INFO 03-01 18:28:25] ax.early_stopping.strategies.base: Last progression of any candidate for trial stopping is 0.49994666666666665.\n"
     ]
    },
    {
     "name": "stderr",
     "output_type": "stream",
     "text": [
      "[INFO 03-01 18:28:25] ax.early_stopping.strategies.percentile: Considering trial 5 for early stopping.\n"
     ]
    },
    {
     "name": "stderr",
     "output_type": "stream",
     "text": [
      "[INFO 03-01 18:28:25] ax.early_stopping.strategies.base: Last progression of Trial 5 is 0.49994666666666665.\n"
     ]
    },
    {
     "name": "stderr",
     "output_type": "stream",
     "text": [
      "[INFO 03-01 18:28:25] ax.early_stopping.strategies.percentile: Early stopping objective at last progression is:\n",
      "0    0.970439\n",
      "1    0.889782\n",
      "2    0.953380\n",
      "3    0.961892\n",
      "4    0.946025\n",
      "5    0.972063\n",
      "7    0.959552\n",
      "Name: 0.49994666666666665, dtype: float64.\n"
     ]
    },
    {
     "name": "stderr",
     "output_type": "stream",
     "text": [
      "[INFO 03-01 18:28:25] ax.early_stopping.strategies.percentile: Early stopping decision for 5: False. Reason: Trial objective value 0.9720627069473267 is better than 70.0-th percentile (0.9636016845703125) across comparable trials.\n"
     ]
    },
    {
     "name": "stderr",
     "output_type": "stream",
     "text": [
      "[INFO 03-01 18:28:25] ax.early_stopping.strategies.percentile: Considering trial 7 for early stopping.\n"
     ]
    },
    {
     "name": "stderr",
     "output_type": "stream",
     "text": [
      "[INFO 03-01 18:28:25] ax.early_stopping.strategies.base: Last progression of Trial 7 is 0.49994666666666665.\n"
     ]
    },
    {
     "name": "stderr",
     "output_type": "stream",
     "text": [
      "[INFO 03-01 18:28:25] ax.early_stopping.strategies.percentile: Early stopping objective at last progression is:\n",
      "0    0.970439\n",
      "1    0.889782\n",
      "2    0.953380\n",
      "3    0.961892\n",
      "4    0.946025\n",
      "5    0.972063\n",
      "7    0.959552\n",
      "Name: 0.49994666666666665, dtype: float64.\n"
     ]
    },
    {
     "name": "stderr",
     "output_type": "stream",
     "text": [
      "[INFO 03-01 18:28:25] ax.early_stopping.strategies.percentile: Early stopping decision for 7: True. Reason: Trial objective value 0.9595524668693542 is worse than 70.0-th percentile (0.9636016845703125) across comparable trials.\n"
     ]
    },
    {
     "name": "stderr",
     "output_type": "stream",
     "text": [
      "[INFO 03-01 18:28:25] ax.early_stopping.strategies.percentile: Considering trial 8 for early stopping.\n"
     ]
    },
    {
     "name": "stderr",
     "output_type": "stream",
     "text": [
      "[INFO 03-01 18:28:25] ax.early_stopping.strategies.base: There is not yet any data associated with trial 8 and metric val_acc. Not early stopping this trial.\n"
     ]
    },
    {
     "name": "stderr",
     "output_type": "stream",
     "text": [
      "/tmp/tmp.KbiES6I0qN/Ax-main/ax/core/map_data.py:188: FutureWarning: The behavior of DataFrame concatenation with empty or all-NA entries is deprecated. In a future version, this will no longer exclude empty or all-NA columns when determining the result dtypes. To retain the old behavior, exclude the relevant entries before the concat operation.\n",
      "  df = pd.concat(\n"
     ]
    },
    {
     "name": "stderr",
     "output_type": "stream",
     "text": [
      "[WARNING 03-01 18:28:26] ax.models.torch.botorch_modular.acquisition: Encountered Xs pending for some Surrogates but observed for others. Considering these points to be pending.\n"
     ]
    },
    {
     "name": "stderr",
     "output_type": "stream",
     "text": [
      "[INFO 03-01 18:28:31] Scheduler: Running trials [9]...\n"
     ]
    },
    {
     "name": "stderr",
     "output_type": "stream",
     "text": [
      "/tmp/tmp.KbiES6I0qN/Ax-main/ax/core/map_data.py:188: FutureWarning: The behavior of DataFrame concatenation with empty or all-NA entries is deprecated. In a future version, this will no longer exclude empty or all-NA columns when determining the result dtypes. To retain the old behavior, exclude the relevant entries before the concat operation.\n",
      "  df = pd.concat(\n",
      "[INFO 03-01 18:28:32] ax.modelbridge.torch: The observations are identical to the last set of observations used to fit the model. Skipping model fitting.\n"
     ]
    },
    {
     "name": "stderr",
     "output_type": "stream",
     "text": [
      "[INFO 03-01 18:28:32] Scheduler: Generated all trials that can be generated currently. Max parallelism currently reached.\n"
     ]
    },
    {
     "name": "stderr",
     "output_type": "stream",
     "text": [
      "[WARNING 03-01 18:28:32] Scheduler: Both `init_seconds_between_polls` and `early_stopping_strategy supplied. `init_seconds_between_polls=1` will be overrridden by `early_stopping_strategy.seconds_between_polls=10` and polling will take place at a constant rate.\n"
     ]
    },
    {
     "name": "stderr",
     "output_type": "stream",
     "text": [
      "[INFO 03-01 18:28:32] Scheduler: Fetching data for newly completed trials: [].\n"
     ]
    },
    {
     "name": "stderr",
     "output_type": "stream",
     "text": [
      "[INFO 03-01 18:28:32] Scheduler: Fetching data for trials: [5, 8, 9] because some metrics on experiment are available while trials are running.\n"
     ]
    },
    {
     "name": "stderr",
     "output_type": "stream",
     "text": [
      "[INFO 03-01 18:28:32] ax.metrics.curve: val_acc not yet present in curves from /tmp/tmp3o86bad6/8. Returning without this metric.\n"
     ]
    },
    {
     "name": "stderr",
     "output_type": "stream",
     "text": [
      "[INFO 03-01 18:28:32] ax.metrics.curve: val_acc not yet present in curves from /tmp/tmp3o86bad6/9. Returning without this metric.\n"
     ]
    },
    {
     "name": "stderr",
     "output_type": "stream",
     "text": [
      "/tmp/tmp.KbiES6I0qN/Ax-main/ax/core/map_data.py:188: FutureWarning: The behavior of DataFrame concatenation with empty or all-NA entries is deprecated. In a future version, this will no longer exclude empty or all-NA columns when determining the result dtypes. To retain the old behavior, exclude the relevant entries before the concat operation.\n",
      "  df = pd.concat(\n",
      "/tmp/tmp.KbiES6I0qN/Ax-main/ax/core/map_data.py:188: FutureWarning: The behavior of DataFrame concatenation with empty or all-NA entries is deprecated. In a future version, this will no longer exclude empty or all-NA columns when determining the result dtypes. To retain the old behavior, exclude the relevant entries before the concat operation.\n",
      "  df = pd.concat(\n",
      "[INFO 03-01 18:28:32] ax.early_stopping.strategies.base: Last progression of any candidate for trial stopping is 0.49994666666666665.\n"
     ]
    },
    {
     "name": "stderr",
     "output_type": "stream",
     "text": [
      "[INFO 03-01 18:28:32] ax.early_stopping.strategies.percentile: Considering trial 5 for early stopping.\n"
     ]
    },
    {
     "name": "stderr",
     "output_type": "stream",
     "text": [
      "[INFO 03-01 18:28:32] ax.early_stopping.strategies.base: Last progression of Trial 5 is 0.49994666666666665.\n"
     ]
    },
    {
     "name": "stderr",
     "output_type": "stream",
     "text": [
      "[INFO 03-01 18:28:32] ax.early_stopping.strategies.percentile: Early stopping objective at last progression is:\n",
      "0    0.970439\n",
      "1    0.889782\n",
      "2    0.953380\n",
      "3    0.961892\n",
      "4    0.946025\n",
      "5    0.972063\n",
      "7    0.959552\n",
      "Name: 0.49994666666666665, dtype: float64.\n"
     ]
    },
    {
     "name": "stderr",
     "output_type": "stream",
     "text": [
      "[INFO 03-01 18:28:32] ax.early_stopping.strategies.percentile: Early stopping decision for 5: False. Reason: Trial objective value 0.9720627069473267 is better than 70.0-th percentile (0.9636016845703125) across comparable trials.\n"
     ]
    },
    {
     "name": "stderr",
     "output_type": "stream",
     "text": [
      "[INFO 03-01 18:28:32] ax.early_stopping.strategies.percentile: Considering trial 8 for early stopping.\n"
     ]
    },
    {
     "name": "stderr",
     "output_type": "stream",
     "text": [
      "[INFO 03-01 18:28:32] ax.early_stopping.strategies.base: There is not yet any data associated with trial 8 and metric val_acc. Not early stopping this trial.\n"
     ]
    },
    {
     "name": "stderr",
     "output_type": "stream",
     "text": [
      "[INFO 03-01 18:28:32] ax.early_stopping.strategies.percentile: Considering trial 9 for early stopping.\n"
     ]
    },
    {
     "name": "stderr",
     "output_type": "stream",
     "text": [
      "[INFO 03-01 18:28:32] ax.early_stopping.strategies.base: There is not yet any data associated with trial 9 and metric val_acc. Not early stopping this trial.\n"
     ]
    },
    {
     "name": "stderr",
     "output_type": "stream",
     "text": [
      "[INFO 03-01 18:28:32] Scheduler: Waiting for completed trials (for 10 sec, currently running trials: 3).\n"
     ]
    },
    {
     "name": "stderr",
     "output_type": "stream",
     "text": [
      "[INFO 03-01 18:28:42] Scheduler: Fetching data for newly completed trials: [].\n"
     ]
    },
    {
     "name": "stderr",
     "output_type": "stream",
     "text": [
      "[INFO 03-01 18:28:42] Scheduler: Fetching data for trials: [5, 8, 9] because some metrics on experiment are available while trials are running.\n"
     ]
    },
    {
     "name": "stderr",
     "output_type": "stream",
     "text": [
      "[INFO 03-01 18:28:42] ax.metrics.curve: val_acc not yet present in curves from /tmp/tmp3o86bad6/8. Returning without this metric.\n"
     ]
    },
    {
     "name": "stderr",
     "output_type": "stream",
     "text": [
      "[INFO 03-01 18:28:42] ax.metrics.curve: val_acc not yet present in curves from /tmp/tmp3o86bad6/9. Returning without this metric.\n"
     ]
    },
    {
     "name": "stderr",
     "output_type": "stream",
     "text": [
      "/tmp/tmp.KbiES6I0qN/Ax-main/ax/core/map_data.py:188: FutureWarning: The behavior of DataFrame concatenation with empty or all-NA entries is deprecated. In a future version, this will no longer exclude empty or all-NA columns when determining the result dtypes. To retain the old behavior, exclude the relevant entries before the concat operation.\n",
      "  df = pd.concat(\n",
      "/tmp/tmp.KbiES6I0qN/Ax-main/ax/core/map_data.py:188: FutureWarning: The behavior of DataFrame concatenation with empty or all-NA entries is deprecated. In a future version, this will no longer exclude empty or all-NA columns when determining the result dtypes. To retain the old behavior, exclude the relevant entries before the concat operation.\n",
      "  df = pd.concat(\n",
      "[INFO 03-01 18:28:42] ax.early_stopping.strategies.base: Last progression of any candidate for trial stopping is 0.49994666666666665.\n"
     ]
    },
    {
     "name": "stderr",
     "output_type": "stream",
     "text": [
      "[INFO 03-01 18:28:42] ax.early_stopping.strategies.percentile: Considering trial 5 for early stopping.\n"
     ]
    },
    {
     "name": "stderr",
     "output_type": "stream",
     "text": [
      "[INFO 03-01 18:28:42] ax.early_stopping.strategies.base: Last progression of Trial 5 is 0.49994666666666665.\n"
     ]
    },
    {
     "name": "stderr",
     "output_type": "stream",
     "text": [
      "[INFO 03-01 18:28:42] ax.early_stopping.strategies.percentile: Early stopping objective at last progression is:\n",
      "0    0.970439\n",
      "1    0.889782\n",
      "2    0.953380\n",
      "3    0.961892\n",
      "4    0.946025\n",
      "5    0.972063\n",
      "7    0.959552\n",
      "Name: 0.49994666666666665, dtype: float64.\n"
     ]
    },
    {
     "name": "stderr",
     "output_type": "stream",
     "text": [
      "[INFO 03-01 18:28:42] ax.early_stopping.strategies.percentile: Early stopping decision for 5: False. Reason: Trial objective value 0.9720627069473267 is better than 70.0-th percentile (0.9636016845703125) across comparable trials.\n"
     ]
    },
    {
     "name": "stderr",
     "output_type": "stream",
     "text": [
      "[INFO 03-01 18:28:42] ax.early_stopping.strategies.percentile: Considering trial 8 for early stopping.\n"
     ]
    },
    {
     "name": "stderr",
     "output_type": "stream",
     "text": [
      "[INFO 03-01 18:28:42] ax.early_stopping.strategies.base: There is not yet any data associated with trial 8 and metric val_acc. Not early stopping this trial.\n"
     ]
    },
    {
     "name": "stderr",
     "output_type": "stream",
     "text": [
      "[INFO 03-01 18:28:42] ax.early_stopping.strategies.percentile: Considering trial 9 for early stopping.\n"
     ]
    },
    {
     "name": "stderr",
     "output_type": "stream",
     "text": [
      "[INFO 03-01 18:28:42] ax.early_stopping.strategies.base: There is not yet any data associated with trial 9 and metric val_acc. Not early stopping this trial.\n"
     ]
    },
    {
     "name": "stderr",
     "output_type": "stream",
     "text": [
      "[INFO 03-01 18:28:42] Scheduler: Waiting for completed trials (for 10 sec, currently running trials: 3).\n"
     ]
    },
    {
     "name": "stderr",
     "output_type": "stream",
     "text": [
      "[INFO 03-01 18:28:52] Scheduler: Fetching data for newly completed trials: [].\n"
     ]
    },
    {
     "name": "stderr",
     "output_type": "stream",
     "text": [
      "[INFO 03-01 18:28:53] Scheduler: Fetching data for trials: [5, 8, 9] because some metrics on experiment are available while trials are running.\n"
     ]
    },
    {
     "name": "stderr",
     "output_type": "stream",
     "text": [
      "[INFO 03-01 18:28:53] ax.metrics.curve: val_acc not yet present in curves from /tmp/tmp3o86bad6/9. Returning without this metric.\n"
     ]
    },
    {
     "name": "stderr",
     "output_type": "stream",
     "text": [
      "/tmp/tmp.KbiES6I0qN/Ax-main/ax/core/map_data.py:188: FutureWarning: The behavior of DataFrame concatenation with empty or all-NA entries is deprecated. In a future version, this will no longer exclude empty or all-NA columns when determining the result dtypes. To retain the old behavior, exclude the relevant entries before the concat operation.\n",
      "  df = pd.concat(\n",
      "/tmp/tmp.KbiES6I0qN/Ax-main/ax/core/map_data.py:188: FutureWarning: The behavior of DataFrame concatenation with empty or all-NA entries is deprecated. In a future version, this will no longer exclude empty or all-NA columns when determining the result dtypes. To retain the old behavior, exclude the relevant entries before the concat operation.\n",
      "  df = pd.concat(\n",
      "[INFO 03-01 18:28:53] ax.early_stopping.strategies.base: Last progression of any candidate for trial stopping is 0.49994666666666665.\n"
     ]
    },
    {
     "name": "stderr",
     "output_type": "stream",
     "text": [
      "[INFO 03-01 18:28:53] ax.early_stopping.utils: Got exception `x and y arrays must have at least 2 entries` during interpolation. Using uninterpolated values instead.\n"
     ]
    },
    {
     "name": "stderr",
     "output_type": "stream",
     "text": [
      "[INFO 03-01 18:28:53] ax.early_stopping.strategies.percentile: Considering trial 5 for early stopping.\n"
     ]
    },
    {
     "name": "stderr",
     "output_type": "stream",
     "text": [
      "[INFO 03-01 18:28:53] ax.early_stopping.strategies.base: Last progression of Trial 5 is 0.49994666666666665.\n"
     ]
    },
    {
     "name": "stderr",
     "output_type": "stream",
     "text": [
      "[INFO 03-01 18:28:53] ax.early_stopping.strategies.percentile: Early stopping objective at last progression is:\n",
      "0    0.970439\n",
      "1    0.889782\n",
      "2    0.953380\n",
      "3    0.961892\n",
      "4    0.946025\n",
      "5    0.972063\n",
      "7    0.959552\n",
      "Name: 0.49994666666666665, dtype: float64.\n"
     ]
    },
    {
     "name": "stderr",
     "output_type": "stream",
     "text": [
      "[INFO 03-01 18:28:53] ax.early_stopping.strategies.percentile: Early stopping decision for 5: False. Reason: Trial objective value 0.9720627069473267 is better than 70.0-th percentile (0.9636016845703125) across comparable trials.\n"
     ]
    },
    {
     "name": "stderr",
     "output_type": "stream",
     "text": [
      "[INFO 03-01 18:28:53] ax.early_stopping.strategies.percentile: Considering trial 8 for early stopping.\n"
     ]
    },
    {
     "name": "stderr",
     "output_type": "stream",
     "text": [
      "[INFO 03-01 18:28:53] ax.early_stopping.strategies.base: Last progression of Trial 8 is 0.09994666666666667.\n"
     ]
    },
    {
     "name": "stderr",
     "output_type": "stream",
     "text": [
      "[INFO 03-01 18:28:53] ax.early_stopping.strategies.base: Trial 8's most recent progression (0.09994666666666667) that is available for metric val_acc falls out of the min/max_progression range (0.3, None). Not early stopping this trial.\n"
     ]
    },
    {
     "name": "stderr",
     "output_type": "stream",
     "text": [
      "[INFO 03-01 18:28:53] ax.early_stopping.strategies.percentile: Considering trial 9 for early stopping.\n"
     ]
    },
    {
     "name": "stderr",
     "output_type": "stream",
     "text": [
      "[INFO 03-01 18:28:53] ax.early_stopping.strategies.base: There is not yet any data associated with trial 9 and metric val_acc. Not early stopping this trial.\n"
     ]
    },
    {
     "name": "stderr",
     "output_type": "stream",
     "text": [
      "[INFO 03-01 18:28:53] Scheduler: Waiting for completed trials (for 10 sec, currently running trials: 3).\n"
     ]
    },
    {
     "name": "stderr",
     "output_type": "stream",
     "text": [
      "[INFO 03-01 18:29:03] Scheduler: Fetching data for newly completed trials: [].\n"
     ]
    },
    {
     "name": "stderr",
     "output_type": "stream",
     "text": [
      "[INFO 03-01 18:29:03] Scheduler: Fetching data for trials: [5, 8, 9] because some metrics on experiment are available while trials are running.\n"
     ]
    },
    {
     "name": "stderr",
     "output_type": "stream",
     "text": [
      "[INFO 03-01 18:29:03] ax.metrics.curve: val_acc not yet present in curves from /tmp/tmp3o86bad6/9. Returning without this metric.\n"
     ]
    },
    {
     "name": "stderr",
     "output_type": "stream",
     "text": [
      "/tmp/tmp.KbiES6I0qN/Ax-main/ax/core/map_data.py:188: FutureWarning: The behavior of DataFrame concatenation with empty or all-NA entries is deprecated. In a future version, this will no longer exclude empty or all-NA columns when determining the result dtypes. To retain the old behavior, exclude the relevant entries before the concat operation.\n",
      "  df = pd.concat(\n",
      "/tmp/tmp.KbiES6I0qN/Ax-main/ax/core/map_data.py:188: FutureWarning: The behavior of DataFrame concatenation with empty or all-NA entries is deprecated. In a future version, this will no longer exclude empty or all-NA columns when determining the result dtypes. To retain the old behavior, exclude the relevant entries before the concat operation.\n",
      "  df = pd.concat(\n",
      "[INFO 03-01 18:29:03] ax.early_stopping.strategies.base: Last progression of any candidate for trial stopping is 0.5999466666666666.\n"
     ]
    },
    {
     "name": "stderr",
     "output_type": "stream",
     "text": [
      "[INFO 03-01 18:29:03] ax.early_stopping.utils: Got exception `x and y arrays must have at least 2 entries` during interpolation. Using uninterpolated values instead.\n"
     ]
    },
    {
     "name": "stderr",
     "output_type": "stream",
     "text": [
      "[INFO 03-01 18:29:03] ax.early_stopping.strategies.percentile: Considering trial 5 for early stopping.\n"
     ]
    },
    {
     "name": "stderr",
     "output_type": "stream",
     "text": [
      "[INFO 03-01 18:29:03] ax.early_stopping.strategies.base: Last progression of Trial 5 is 0.5999466666666666.\n"
     ]
    },
    {
     "name": "stderr",
     "output_type": "stream",
     "text": [
      "[INFO 03-01 18:29:03] ax.early_stopping.strategies.percentile: Early stopping objective at last progression is:\n",
      "0    0.971392\n",
      "1    0.882816\n",
      "2    0.954960\n",
      "3    0.964900\n",
      "4    0.944120\n",
      "5    0.959000\n",
      "Name: 0.5999466666666666, dtype: float64.\n"
     ]
    },
    {
     "name": "stderr",
     "output_type": "stream",
     "text": [
      "[INFO 03-01 18:29:03] ax.early_stopping.strategies.percentile: Early stopping decision for 5: True. Reason: Trial objective value 0.9589998126029968 is worse than 70.0-th percentile (0.9619500041007996) across comparable trials.\n"
     ]
    },
    {
     "name": "stderr",
     "output_type": "stream",
     "text": [
      "[INFO 03-01 18:29:03] ax.early_stopping.strategies.percentile: Considering trial 8 for early stopping.\n"
     ]
    },
    {
     "name": "stderr",
     "output_type": "stream",
     "text": [
      "[INFO 03-01 18:29:03] ax.early_stopping.strategies.base: Last progression of Trial 8 is 0.09994666666666667.\n"
     ]
    },
    {
     "name": "stderr",
     "output_type": "stream",
     "text": [
      "[INFO 03-01 18:29:03] ax.early_stopping.strategies.base: Trial 8's most recent progression (0.09994666666666667) that is available for metric val_acc falls out of the min/max_progression range (0.3, None). Not early stopping this trial.\n"
     ]
    },
    {
     "name": "stderr",
     "output_type": "stream",
     "text": [
      "[INFO 03-01 18:29:03] ax.early_stopping.strategies.percentile: Considering trial 9 for early stopping.\n"
     ]
    },
    {
     "name": "stderr",
     "output_type": "stream",
     "text": [
      "[INFO 03-01 18:29:03] ax.early_stopping.strategies.base: There is not yet any data associated with trial 9 and metric val_acc. Not early stopping this trial.\n"
     ]
    },
    {
     "name": "stderr",
     "output_type": "stream",
     "text": [
      "/tmp/tmp.KbiES6I0qN/Ax-main/ax/core/map_data.py:188: FutureWarning: The behavior of DataFrame concatenation with empty or all-NA entries is deprecated. In a future version, this will no longer exclude empty or all-NA columns when determining the result dtypes. To retain the old behavior, exclude the relevant entries before the concat operation.\n",
      "  df = pd.concat(\n"
     ]
    },
    {
     "name": "stderr",
     "output_type": "stream",
     "text": [
      "[WARNING 03-01 18:29:04] ax.models.torch.botorch_modular.acquisition: Encountered Xs pending for some Surrogates but observed for others. Considering these points to be pending.\n"
     ]
    },
    {
     "name": "stderr",
     "output_type": "stream",
     "text": [
      "[INFO 03-01 18:29:07] Scheduler: Running trials [10]...\n"
     ]
    },
    {
     "name": "stderr",
     "output_type": "stream",
     "text": [
      "/tmp/tmp.KbiES6I0qN/Ax-main/ax/core/map_data.py:188: FutureWarning: The behavior of DataFrame concatenation with empty or all-NA entries is deprecated. In a future version, this will no longer exclude empty or all-NA columns when determining the result dtypes. To retain the old behavior, exclude the relevant entries before the concat operation.\n",
      "  df = pd.concat(\n",
      "[INFO 03-01 18:29:08] ax.modelbridge.torch: The observations are identical to the last set of observations used to fit the model. Skipping model fitting.\n"
     ]
    },
    {
     "name": "stderr",
     "output_type": "stream",
     "text": [
      "[INFO 03-01 18:29:08] Scheduler: Generated all trials that can be generated currently. Max parallelism currently reached.\n"
     ]
    },
    {
     "name": "stderr",
     "output_type": "stream",
     "text": [
      "[WARNING 03-01 18:29:08] Scheduler: Both `init_seconds_between_polls` and `early_stopping_strategy supplied. `init_seconds_between_polls=1` will be overrridden by `early_stopping_strategy.seconds_between_polls=10` and polling will take place at a constant rate.\n"
     ]
    },
    {
     "name": "stderr",
     "output_type": "stream",
     "text": [
      "[INFO 03-01 18:29:08] Scheduler: Fetching data for newly completed trials: [].\n"
     ]
    },
    {
     "name": "stderr",
     "output_type": "stream",
     "text": [
      "[INFO 03-01 18:29:08] Scheduler: Fetching data for trials: 8 - 10 because some metrics on experiment are available while trials are running.\n"
     ]
    },
    {
     "name": "stderr",
     "output_type": "stream",
     "text": [
      "[INFO 03-01 18:29:08] ax.metrics.curve: val_acc not yet present in curves from /tmp/tmp3o86bad6/9. Returning without this metric.\n"
     ]
    },
    {
     "name": "stderr",
     "output_type": "stream",
     "text": [
      "[INFO 03-01 18:29:08] ax.metrics.curve: val_acc not yet present in curves from /tmp/tmp3o86bad6/10. Returning without this metric.\n"
     ]
    },
    {
     "name": "stderr",
     "output_type": "stream",
     "text": [
      "/tmp/tmp.KbiES6I0qN/Ax-main/ax/core/map_data.py:188: FutureWarning: The behavior of DataFrame concatenation with empty or all-NA entries is deprecated. In a future version, this will no longer exclude empty or all-NA columns when determining the result dtypes. To retain the old behavior, exclude the relevant entries before the concat operation.\n",
      "  df = pd.concat(\n",
      "/tmp/tmp.KbiES6I0qN/Ax-main/ax/core/map_data.py:188: FutureWarning: The behavior of DataFrame concatenation with empty or all-NA entries is deprecated. In a future version, this will no longer exclude empty or all-NA columns when determining the result dtypes. To retain the old behavior, exclude the relevant entries before the concat operation.\n",
      "  df = pd.concat(\n",
      "[INFO 03-01 18:29:08] ax.early_stopping.strategies.base: Last progression of any candidate for trial stopping is 0.09994666666666667.\n"
     ]
    },
    {
     "name": "stderr",
     "output_type": "stream",
     "text": [
      "[INFO 03-01 18:29:08] ax.early_stopping.strategies.base: No trials have reached 0.3. Not stopping any trials.\n"
     ]
    },
    {
     "name": "stderr",
     "output_type": "stream",
     "text": [
      "[INFO 03-01 18:29:08] Scheduler: Waiting for completed trials (for 10 sec, currently running trials: 3).\n"
     ]
    },
    {
     "name": "stderr",
     "output_type": "stream",
     "text": [
      "[INFO 03-01 18:29:18] Scheduler: Fetching data for newly completed trials: [].\n"
     ]
    },
    {
     "name": "stderr",
     "output_type": "stream",
     "text": [
      "[INFO 03-01 18:29:18] Scheduler: Fetching data for trials: 8 - 10 because some metrics on experiment are available while trials are running.\n"
     ]
    },
    {
     "name": "stderr",
     "output_type": "stream",
     "text": [
      "[INFO 03-01 18:29:18] ax.metrics.curve: val_acc not yet present in curves from /tmp/tmp3o86bad6/10. Returning without this metric.\n"
     ]
    },
    {
     "name": "stderr",
     "output_type": "stream",
     "text": [
      "/tmp/tmp.KbiES6I0qN/Ax-main/ax/core/map_data.py:188: FutureWarning: The behavior of DataFrame concatenation with empty or all-NA entries is deprecated. In a future version, this will no longer exclude empty or all-NA columns when determining the result dtypes. To retain the old behavior, exclude the relevant entries before the concat operation.\n",
      "  df = pd.concat(\n",
      "/tmp/tmp.KbiES6I0qN/Ax-main/ax/core/map_data.py:188: FutureWarning: The behavior of DataFrame concatenation with empty or all-NA entries is deprecated. In a future version, this will no longer exclude empty or all-NA columns when determining the result dtypes. To retain the old behavior, exclude the relevant entries before the concat operation.\n",
      "  df = pd.concat(\n",
      "[INFO 03-01 18:29:18] ax.early_stopping.strategies.base: Last progression of any candidate for trial stopping is 0.09994666666666667.\n"
     ]
    },
    {
     "name": "stderr",
     "output_type": "stream",
     "text": [
      "[INFO 03-01 18:29:18] ax.early_stopping.strategies.base: No trials have reached 0.3. Not stopping any trials.\n"
     ]
    },
    {
     "name": "stderr",
     "output_type": "stream",
     "text": [
      "[INFO 03-01 18:29:18] Scheduler: Waiting for completed trials (for 10 sec, currently running trials: 3).\n"
     ]
    },
    {
     "name": "stderr",
     "output_type": "stream",
     "text": [
      "[INFO 03-01 18:29:28] Scheduler: Fetching data for newly completed trials: [].\n"
     ]
    },
    {
     "name": "stderr",
     "output_type": "stream",
     "text": [
      "[INFO 03-01 18:29:28] Scheduler: Fetching data for trials: 8 - 10 because some metrics on experiment are available while trials are running.\n"
     ]
    },
    {
     "name": "stderr",
     "output_type": "stream",
     "text": [
      "[INFO 03-01 18:29:28] ax.metrics.curve: val_acc not yet present in curves from /tmp/tmp3o86bad6/10. Returning without this metric.\n"
     ]
    },
    {
     "name": "stderr",
     "output_type": "stream",
     "text": [
      "/tmp/tmp.KbiES6I0qN/Ax-main/ax/core/map_data.py:188: FutureWarning: The behavior of DataFrame concatenation with empty or all-NA entries is deprecated. In a future version, this will no longer exclude empty or all-NA columns when determining the result dtypes. To retain the old behavior, exclude the relevant entries before the concat operation.\n",
      "  df = pd.concat(\n",
      "/tmp/tmp.KbiES6I0qN/Ax-main/ax/core/map_data.py:188: FutureWarning: The behavior of DataFrame concatenation with empty or all-NA entries is deprecated. In a future version, this will no longer exclude empty or all-NA columns when determining the result dtypes. To retain the old behavior, exclude the relevant entries before the concat operation.\n",
      "  df = pd.concat(\n",
      "[INFO 03-01 18:29:28] ax.early_stopping.strategies.base: Last progression of any candidate for trial stopping is 0.09994666666666667.\n"
     ]
    },
    {
     "name": "stderr",
     "output_type": "stream",
     "text": [
      "[INFO 03-01 18:29:28] ax.early_stopping.strategies.base: No trials have reached 0.3. Not stopping any trials.\n"
     ]
    },
    {
     "name": "stderr",
     "output_type": "stream",
     "text": [
      "[INFO 03-01 18:29:28] Scheduler: Waiting for completed trials (for 10 sec, currently running trials: 3).\n"
     ]
    },
    {
     "name": "stderr",
     "output_type": "stream",
     "text": [
      "[INFO 03-01 18:29:38] Scheduler: Fetching data for newly completed trials: [].\n"
     ]
    },
    {
     "name": "stderr",
     "output_type": "stream",
     "text": [
      "[INFO 03-01 18:29:38] Scheduler: Fetching data for trials: 8 - 10 because some metrics on experiment are available while trials are running.\n"
     ]
    },
    {
     "name": "stderr",
     "output_type": "stream",
     "text": [
      "[INFO 03-01 18:29:38] ax.metrics.curve: val_acc not yet present in curves from /tmp/tmp3o86bad6/10. Returning without this metric.\n"
     ]
    },
    {
     "name": "stderr",
     "output_type": "stream",
     "text": [
      "/tmp/tmp.KbiES6I0qN/Ax-main/ax/core/map_data.py:188: FutureWarning: The behavior of DataFrame concatenation with empty or all-NA entries is deprecated. In a future version, this will no longer exclude empty or all-NA columns when determining the result dtypes. To retain the old behavior, exclude the relevant entries before the concat operation.\n",
      "  df = pd.concat(\n",
      "/tmp/tmp.KbiES6I0qN/Ax-main/ax/core/map_data.py:188: FutureWarning: The behavior of DataFrame concatenation with empty or all-NA entries is deprecated. In a future version, this will no longer exclude empty or all-NA columns when determining the result dtypes. To retain the old behavior, exclude the relevant entries before the concat operation.\n",
      "  df = pd.concat(\n",
      "[INFO 03-01 18:29:39] ax.early_stopping.strategies.base: Last progression of any candidate for trial stopping is 0.19994666666666666.\n"
     ]
    },
    {
     "name": "stderr",
     "output_type": "stream",
     "text": [
      "[INFO 03-01 18:29:39] ax.early_stopping.strategies.base: No trials have reached 0.3. Not stopping any trials.\n"
     ]
    },
    {
     "name": "stderr",
     "output_type": "stream",
     "text": [
      "[INFO 03-01 18:29:39] Scheduler: Waiting for completed trials (for 10 sec, currently running trials: 3).\n"
     ]
    },
    {
     "name": "stderr",
     "output_type": "stream",
     "text": [
      "[INFO 03-01 18:29:49] Scheduler: Fetching data for newly completed trials: [].\n"
     ]
    },
    {
     "name": "stderr",
     "output_type": "stream",
     "text": [
      "[INFO 03-01 18:29:49] Scheduler: Fetching data for trials: 8 - 10 because some metrics on experiment are available while trials are running.\n"
     ]
    },
    {
     "name": "stderr",
     "output_type": "stream",
     "text": [
      "[INFO 03-01 18:29:49] ax.metrics.curve: val_acc not yet present in curves from /tmp/tmp3o86bad6/10. Returning without this metric.\n"
     ]
    },
    {
     "name": "stderr",
     "output_type": "stream",
     "text": [
      "/tmp/tmp.KbiES6I0qN/Ax-main/ax/core/map_data.py:188: FutureWarning: The behavior of DataFrame concatenation with empty or all-NA entries is deprecated. In a future version, this will no longer exclude empty or all-NA columns when determining the result dtypes. To retain the old behavior, exclude the relevant entries before the concat operation.\n",
      "  df = pd.concat(\n",
      "/tmp/tmp.KbiES6I0qN/Ax-main/ax/core/map_data.py:188: FutureWarning: The behavior of DataFrame concatenation with empty or all-NA entries is deprecated. In a future version, this will no longer exclude empty or all-NA columns when determining the result dtypes. To retain the old behavior, exclude the relevant entries before the concat operation.\n",
      "  df = pd.concat(\n",
      "[INFO 03-01 18:29:49] ax.early_stopping.strategies.base: Last progression of any candidate for trial stopping is 0.19994666666666666.\n"
     ]
    },
    {
     "name": "stderr",
     "output_type": "stream",
     "text": [
      "[INFO 03-01 18:29:49] ax.early_stopping.strategies.base: No trials have reached 0.3. Not stopping any trials.\n"
     ]
    },
    {
     "name": "stderr",
     "output_type": "stream",
     "text": [
      "[INFO 03-01 18:29:49] Scheduler: Waiting for completed trials (for 10 sec, currently running trials: 3).\n"
     ]
    },
    {
     "name": "stderr",
     "output_type": "stream",
     "text": [
      "[INFO 03-01 18:29:59] Scheduler: Fetching data for newly completed trials: [].\n"
     ]
    },
    {
     "name": "stderr",
     "output_type": "stream",
     "text": [
      "[INFO 03-01 18:29:59] Scheduler: Fetching data for trials: 8 - 10 because some metrics on experiment are available while trials are running.\n"
     ]
    },
    {
     "name": "stderr",
     "output_type": "stream",
     "text": [
      "/tmp/tmp.KbiES6I0qN/Ax-main/ax/core/map_data.py:188: FutureWarning: The behavior of DataFrame concatenation with empty or all-NA entries is deprecated. In a future version, this will no longer exclude empty or all-NA columns when determining the result dtypes. To retain the old behavior, exclude the relevant entries before the concat operation.\n",
      "  df = pd.concat(\n",
      "/tmp/tmp.KbiES6I0qN/Ax-main/ax/core/map_data.py:188: FutureWarning: The behavior of DataFrame concatenation with empty or all-NA entries is deprecated. In a future version, this will no longer exclude empty or all-NA columns when determining the result dtypes. To retain the old behavior, exclude the relevant entries before the concat operation.\n",
      "  df = pd.concat(\n",
      "[INFO 03-01 18:29:59] ax.early_stopping.strategies.base: Last progression of any candidate for trial stopping is 0.19994666666666666.\n"
     ]
    },
    {
     "name": "stderr",
     "output_type": "stream",
     "text": [
      "[INFO 03-01 18:29:59] ax.early_stopping.strategies.base: No trials have reached 0.3. Not stopping any trials.\n"
     ]
    },
    {
     "name": "stderr",
     "output_type": "stream",
     "text": [
      "[INFO 03-01 18:29:59] Scheduler: Waiting for completed trials (for 10 sec, currently running trials: 3).\n"
     ]
    },
    {
     "name": "stderr",
     "output_type": "stream",
     "text": [
      "[INFO 03-01 18:30:09] Scheduler: Fetching data for newly completed trials: [].\n"
     ]
    },
    {
     "name": "stderr",
     "output_type": "stream",
     "text": [
      "[INFO 03-01 18:30:09] Scheduler: Fetching data for trials: 8 - 10 because some metrics on experiment are available while trials are running.\n"
     ]
    },
    {
     "name": "stderr",
     "output_type": "stream",
     "text": [
      "/tmp/tmp.KbiES6I0qN/Ax-main/ax/core/map_data.py:188: FutureWarning: The behavior of DataFrame concatenation with empty or all-NA entries is deprecated. In a future version, this will no longer exclude empty or all-NA columns when determining the result dtypes. To retain the old behavior, exclude the relevant entries before the concat operation.\n",
      "  df = pd.concat(\n",
      "/tmp/tmp.KbiES6I0qN/Ax-main/ax/core/map_data.py:188: FutureWarning: The behavior of DataFrame concatenation with empty or all-NA entries is deprecated. In a future version, this will no longer exclude empty or all-NA columns when determining the result dtypes. To retain the old behavior, exclude the relevant entries before the concat operation.\n",
      "  df = pd.concat(\n",
      "[INFO 03-01 18:30:09] ax.early_stopping.strategies.base: Last progression of any candidate for trial stopping is 0.19994666666666666.\n"
     ]
    },
    {
     "name": "stderr",
     "output_type": "stream",
     "text": [
      "[INFO 03-01 18:30:09] ax.early_stopping.strategies.base: No trials have reached 0.3. Not stopping any trials.\n"
     ]
    },
    {
     "name": "stderr",
     "output_type": "stream",
     "text": [
      "[INFO 03-01 18:30:09] Scheduler: Waiting for completed trials (for 10 sec, currently running trials: 3).\n"
     ]
    },
    {
     "name": "stderr",
     "output_type": "stream",
     "text": [
      "[INFO 03-01 18:30:19] Scheduler: Fetching data for newly completed trials: [].\n"
     ]
    },
    {
     "name": "stderr",
     "output_type": "stream",
     "text": [
      "[INFO 03-01 18:30:19] Scheduler: Fetching data for trials: 8 - 10 because some metrics on experiment are available while trials are running.\n"
     ]
    },
    {
     "name": "stderr",
     "output_type": "stream",
     "text": [
      "/tmp/tmp.KbiES6I0qN/Ax-main/ax/core/map_data.py:188: FutureWarning: The behavior of DataFrame concatenation with empty or all-NA entries is deprecated. In a future version, this will no longer exclude empty or all-NA columns when determining the result dtypes. To retain the old behavior, exclude the relevant entries before the concat operation.\n",
      "  df = pd.concat(\n",
      "/tmp/tmp.KbiES6I0qN/Ax-main/ax/core/map_data.py:188: FutureWarning: The behavior of DataFrame concatenation with empty or all-NA entries is deprecated. In a future version, this will no longer exclude empty or all-NA columns when determining the result dtypes. To retain the old behavior, exclude the relevant entries before the concat operation.\n",
      "  df = pd.concat(\n",
      "[INFO 03-01 18:30:19] ax.early_stopping.strategies.base: Last progression of any candidate for trial stopping is 0.19994666666666666.\n"
     ]
    },
    {
     "name": "stderr",
     "output_type": "stream",
     "text": [
      "[INFO 03-01 18:30:19] ax.early_stopping.strategies.base: No trials have reached 0.3. Not stopping any trials.\n"
     ]
    },
    {
     "name": "stderr",
     "output_type": "stream",
     "text": [
      "[INFO 03-01 18:30:19] Scheduler: Waiting for completed trials (for 10 sec, currently running trials: 3).\n"
     ]
    },
    {
     "name": "stderr",
     "output_type": "stream",
     "text": [
      "[INFO 03-01 18:30:29] Scheduler: Fetching data for newly completed trials: [].\n"
     ]
    },
    {
     "name": "stderr",
     "output_type": "stream",
     "text": [
      "[INFO 03-01 18:30:29] Scheduler: Fetching data for trials: 8 - 10 because some metrics on experiment are available while trials are running.\n"
     ]
    },
    {
     "name": "stderr",
     "output_type": "stream",
     "text": [
      "/tmp/tmp.KbiES6I0qN/Ax-main/ax/core/map_data.py:188: FutureWarning: The behavior of DataFrame concatenation with empty or all-NA entries is deprecated. In a future version, this will no longer exclude empty or all-NA columns when determining the result dtypes. To retain the old behavior, exclude the relevant entries before the concat operation.\n",
      "  df = pd.concat(\n",
      "/tmp/tmp.KbiES6I0qN/Ax-main/ax/core/map_data.py:188: FutureWarning: The behavior of DataFrame concatenation with empty or all-NA entries is deprecated. In a future version, this will no longer exclude empty or all-NA columns when determining the result dtypes. To retain the old behavior, exclude the relevant entries before the concat operation.\n",
      "  df = pd.concat(\n",
      "[INFO 03-01 18:30:29] ax.early_stopping.strategies.base: Last progression of any candidate for trial stopping is 0.19994666666666666.\n"
     ]
    },
    {
     "name": "stderr",
     "output_type": "stream",
     "text": [
      "[INFO 03-01 18:30:29] ax.early_stopping.strategies.base: No trials have reached 0.3. Not stopping any trials.\n"
     ]
    },
    {
     "name": "stderr",
     "output_type": "stream",
     "text": [
      "[INFO 03-01 18:30:29] Scheduler: Waiting for completed trials (for 10 sec, currently running trials: 3).\n"
     ]
    },
    {
     "name": "stderr",
     "output_type": "stream",
     "text": [
      "[INFO 03-01 18:30:39] Scheduler: Fetching data for newly completed trials: [].\n"
     ]
    },
    {
     "name": "stderr",
     "output_type": "stream",
     "text": [
      "[INFO 03-01 18:30:39] Scheduler: Fetching data for trials: 8 - 10 because some metrics on experiment are available while trials are running.\n"
     ]
    },
    {
     "name": "stderr",
     "output_type": "stream",
     "text": [
      "/tmp/tmp.KbiES6I0qN/Ax-main/ax/core/map_data.py:188: FutureWarning: The behavior of DataFrame concatenation with empty or all-NA entries is deprecated. In a future version, this will no longer exclude empty or all-NA columns when determining the result dtypes. To retain the old behavior, exclude the relevant entries before the concat operation.\n",
      "  df = pd.concat(\n",
      "/tmp/tmp.KbiES6I0qN/Ax-main/ax/core/map_data.py:188: FutureWarning: The behavior of DataFrame concatenation with empty or all-NA entries is deprecated. In a future version, this will no longer exclude empty or all-NA columns when determining the result dtypes. To retain the old behavior, exclude the relevant entries before the concat operation.\n",
      "  df = pd.concat(\n",
      "[INFO 03-01 18:30:39] ax.early_stopping.strategies.base: Last progression of any candidate for trial stopping is 0.29994666666666664.\n"
     ]
    },
    {
     "name": "stderr",
     "output_type": "stream",
     "text": [
      "[INFO 03-01 18:30:39] ax.early_stopping.strategies.base: No trials have reached 0.3. Not stopping any trials.\n"
     ]
    },
    {
     "name": "stderr",
     "output_type": "stream",
     "text": [
      "[INFO 03-01 18:30:39] Scheduler: Waiting for completed trials (for 10 sec, currently running trials: 3).\n"
     ]
    },
    {
     "name": "stderr",
     "output_type": "stream",
     "text": [
      "[INFO 03-01 18:30:49] Scheduler: Fetching data for newly completed trials: [].\n"
     ]
    },
    {
     "name": "stderr",
     "output_type": "stream",
     "text": [
      "[INFO 03-01 18:30:49] Scheduler: Fetching data for trials: 8 - 10 because some metrics on experiment are available while trials are running.\n"
     ]
    },
    {
     "name": "stderr",
     "output_type": "stream",
     "text": [
      "/tmp/tmp.KbiES6I0qN/Ax-main/ax/core/map_data.py:188: FutureWarning: The behavior of DataFrame concatenation with empty or all-NA entries is deprecated. In a future version, this will no longer exclude empty or all-NA columns when determining the result dtypes. To retain the old behavior, exclude the relevant entries before the concat operation.\n",
      "  df = pd.concat(\n",
      "/tmp/tmp.KbiES6I0qN/Ax-main/ax/core/map_data.py:188: FutureWarning: The behavior of DataFrame concatenation with empty or all-NA entries is deprecated. In a future version, this will no longer exclude empty or all-NA columns when determining the result dtypes. To retain the old behavior, exclude the relevant entries before the concat operation.\n",
      "  df = pd.concat(\n",
      "[INFO 03-01 18:30:50] ax.early_stopping.strategies.base: Last progression of any candidate for trial stopping is 0.29994666666666664.\n"
     ]
    },
    {
     "name": "stderr",
     "output_type": "stream",
     "text": [
      "[INFO 03-01 18:30:50] ax.early_stopping.strategies.base: No trials have reached 0.3. Not stopping any trials.\n"
     ]
    },
    {
     "name": "stderr",
     "output_type": "stream",
     "text": [
      "[INFO 03-01 18:30:50] Scheduler: Waiting for completed trials (for 10 sec, currently running trials: 3).\n"
     ]
    },
    {
     "name": "stderr",
     "output_type": "stream",
     "text": [
      "[INFO 03-01 18:31:00] Scheduler: Fetching data for newly completed trials: [].\n"
     ]
    },
    {
     "name": "stderr",
     "output_type": "stream",
     "text": [
      "[INFO 03-01 18:31:00] Scheduler: Fetching data for trials: 8 - 10 because some metrics on experiment are available while trials are running.\n"
     ]
    },
    {
     "name": "stderr",
     "output_type": "stream",
     "text": [
      "/tmp/tmp.KbiES6I0qN/Ax-main/ax/core/map_data.py:188: FutureWarning: The behavior of DataFrame concatenation with empty or all-NA entries is deprecated. In a future version, this will no longer exclude empty or all-NA columns when determining the result dtypes. To retain the old behavior, exclude the relevant entries before the concat operation.\n",
      "  df = pd.concat(\n",
      "/tmp/tmp.KbiES6I0qN/Ax-main/ax/core/map_data.py:188: FutureWarning: The behavior of DataFrame concatenation with empty or all-NA entries is deprecated. In a future version, this will no longer exclude empty or all-NA columns when determining the result dtypes. To retain the old behavior, exclude the relevant entries before the concat operation.\n",
      "  df = pd.concat(\n",
      "[INFO 03-01 18:31:00] ax.early_stopping.strategies.base: Last progression of any candidate for trial stopping is 0.29994666666666664.\n"
     ]
    },
    {
     "name": "stderr",
     "output_type": "stream",
     "text": [
      "[INFO 03-01 18:31:00] ax.early_stopping.strategies.base: No trials have reached 0.3. Not stopping any trials.\n"
     ]
    },
    {
     "name": "stderr",
     "output_type": "stream",
     "text": [
      "[INFO 03-01 18:31:00] Scheduler: Waiting for completed trials (for 10 sec, currently running trials: 3).\n"
     ]
    },
    {
     "name": "stderr",
     "output_type": "stream",
     "text": [
      "[INFO 03-01 18:31:10] Scheduler: Fetching data for newly completed trials: [].\n"
     ]
    },
    {
     "name": "stderr",
     "output_type": "stream",
     "text": [
      "[INFO 03-01 18:31:10] Scheduler: Fetching data for trials: 8 - 10 because some metrics on experiment are available while trials are running.\n"
     ]
    },
    {
     "name": "stderr",
     "output_type": "stream",
     "text": [
      "/tmp/tmp.KbiES6I0qN/Ax-main/ax/core/map_data.py:188: FutureWarning: The behavior of DataFrame concatenation with empty or all-NA entries is deprecated. In a future version, this will no longer exclude empty or all-NA columns when determining the result dtypes. To retain the old behavior, exclude the relevant entries before the concat operation.\n",
      "  df = pd.concat(\n",
      "/tmp/tmp.KbiES6I0qN/Ax-main/ax/core/map_data.py:188: FutureWarning: The behavior of DataFrame concatenation with empty or all-NA entries is deprecated. In a future version, this will no longer exclude empty or all-NA columns when determining the result dtypes. To retain the old behavior, exclude the relevant entries before the concat operation.\n",
      "  df = pd.concat(\n",
      "[INFO 03-01 18:31:10] ax.early_stopping.strategies.base: Last progression of any candidate for trial stopping is 0.29994666666666664.\n"
     ]
    },
    {
     "name": "stderr",
     "output_type": "stream",
     "text": [
      "[INFO 03-01 18:31:10] ax.early_stopping.strategies.base: No trials have reached 0.3. Not stopping any trials.\n"
     ]
    },
    {
     "name": "stderr",
     "output_type": "stream",
     "text": [
      "[INFO 03-01 18:31:10] Scheduler: Waiting for completed trials (for 10 sec, currently running trials: 3).\n"
     ]
    },
    {
     "name": "stderr",
     "output_type": "stream",
     "text": [
      "[INFO 03-01 18:31:20] Scheduler: Fetching data for newly completed trials: [].\n"
     ]
    },
    {
     "name": "stderr",
     "output_type": "stream",
     "text": [
      "[INFO 03-01 18:31:20] Scheduler: Fetching data for trials: 8 - 10 because some metrics on experiment are available while trials are running.\n"
     ]
    },
    {
     "name": "stderr",
     "output_type": "stream",
     "text": [
      "/tmp/tmp.KbiES6I0qN/Ax-main/ax/core/map_data.py:188: FutureWarning: The behavior of DataFrame concatenation with empty or all-NA entries is deprecated. In a future version, this will no longer exclude empty or all-NA columns when determining the result dtypes. To retain the old behavior, exclude the relevant entries before the concat operation.\n",
      "  df = pd.concat(\n",
      "/tmp/tmp.KbiES6I0qN/Ax-main/ax/core/map_data.py:188: FutureWarning: The behavior of DataFrame concatenation with empty or all-NA entries is deprecated. In a future version, this will no longer exclude empty or all-NA columns when determining the result dtypes. To retain the old behavior, exclude the relevant entries before the concat operation.\n",
      "  df = pd.concat(\n",
      "[INFO 03-01 18:31:20] ax.early_stopping.strategies.base: Last progression of any candidate for trial stopping is 0.3999466666666667.\n"
     ]
    },
    {
     "name": "stderr",
     "output_type": "stream",
     "text": [
      "[INFO 03-01 18:31:20] ax.early_stopping.strategies.percentile: Considering trial 8 for early stopping.\n"
     ]
    },
    {
     "name": "stderr",
     "output_type": "stream",
     "text": [
      "[INFO 03-01 18:31:20] ax.early_stopping.strategies.base: Last progression of Trial 8 is 0.3999466666666667.\n"
     ]
    },
    {
     "name": "stderr",
     "output_type": "stream",
     "text": [
      "[INFO 03-01 18:31:20] ax.early_stopping.strategies.percentile: Early stopping objective at last progression is:\n",
      "0    0.968049\n",
      "1    0.886844\n",
      "2    0.940627\n",
      "3    0.966532\n",
      "4    0.946419\n",
      "5    0.968146\n",
      "6    0.946698\n",
      "7    0.966843\n",
      "8    0.962369\n",
      "9    0.960863\n",
      "Name: 0.3999466666666667, dtype: float64.\n"
     ]
    },
    {
     "name": "stderr",
     "output_type": "stream",
     "text": [
      "[INFO 03-01 18:31:20] ax.early_stopping.strategies.percentile: Early stopping decision for 8: True. Reason: Trial objective value 0.9623690247535706 is worse than 70.0-th percentile (0.9666250586509705) across comparable trials.\n"
     ]
    },
    {
     "name": "stderr",
     "output_type": "stream",
     "text": [
      "[INFO 03-01 18:31:20] ax.early_stopping.strategies.percentile: Considering trial 9 for early stopping.\n"
     ]
    },
    {
     "name": "stderr",
     "output_type": "stream",
     "text": [
      "[INFO 03-01 18:31:20] ax.early_stopping.strategies.base: Last progression of Trial 9 is 0.3999466666666667.\n"
     ]
    },
    {
     "name": "stderr",
     "output_type": "stream",
     "text": [
      "[INFO 03-01 18:31:20] ax.early_stopping.strategies.percentile: Early stopping objective at last progression is:\n",
      "0    0.968049\n",
      "1    0.886844\n",
      "2    0.940627\n",
      "3    0.966532\n",
      "4    0.946419\n",
      "5    0.968146\n",
      "6    0.946698\n",
      "7    0.966843\n",
      "8    0.962369\n",
      "9    0.960863\n",
      "Name: 0.3999466666666667, dtype: float64.\n"
     ]
    },
    {
     "name": "stderr",
     "output_type": "stream",
     "text": [
      "[INFO 03-01 18:31:20] ax.early_stopping.strategies.percentile: Early stopping decision for 9: True. Reason: Trial objective value 0.9608628153800964 is worse than 70.0-th percentile (0.9666250586509705) across comparable trials.\n"
     ]
    },
    {
     "name": "stderr",
     "output_type": "stream",
     "text": [
      "[INFO 03-01 18:31:20] ax.early_stopping.strategies.percentile: Considering trial 10 for early stopping.\n"
     ]
    },
    {
     "name": "stderr",
     "output_type": "stream",
     "text": [
      "[INFO 03-01 18:31:20] ax.early_stopping.strategies.base: Last progression of Trial 10 is 0.19994666666666666.\n"
     ]
    },
    {
     "name": "stderr",
     "output_type": "stream",
     "text": [
      "[INFO 03-01 18:31:20] ax.early_stopping.strategies.base: Trial 10's most recent progression (0.19994666666666666) that is available for metric val_acc falls out of the min/max_progression range (0.3, None). Not early stopping this trial.\n"
     ]
    },
    {
     "name": "stderr",
     "output_type": "stream",
     "text": [
      "/tmp/tmp.KbiES6I0qN/Ax-main/ax/core/map_data.py:188: FutureWarning: The behavior of DataFrame concatenation with empty or all-NA entries is deprecated. In a future version, this will no longer exclude empty or all-NA columns when determining the result dtypes. To retain the old behavior, exclude the relevant entries before the concat operation.\n",
      "  df = pd.concat(\n",
      "[WARNING 03-01 18:31:22] ax.models.torch.botorch_modular.acquisition: Encountered Xs pending for some Surrogates but observed for others. Considering these points to be pending.\n"
     ]
    },
    {
     "name": "stderr",
     "output_type": "stream",
     "text": [
      "[INFO 03-01 18:31:23] Scheduler: Running trials [11]...\n"
     ]
    },
    {
     "name": "stderr",
     "output_type": "stream",
     "text": [
      "/tmp/tmp.KbiES6I0qN/Ax-main/ax/core/map_data.py:188: FutureWarning: The behavior of DataFrame concatenation with empty or all-NA entries is deprecated. In a future version, this will no longer exclude empty or all-NA columns when determining the result dtypes. To retain the old behavior, exclude the relevant entries before the concat operation.\n",
      "  df = pd.concat(\n",
      "[INFO 03-01 18:31:24] ax.modelbridge.torch: The observations are identical to the last set of observations used to fit the model. Skipping model fitting.\n"
     ]
    },
    {
     "name": "stderr",
     "output_type": "stream",
     "text": [
      "[WARNING 03-01 18:31:24] ax.models.torch.botorch_modular.acquisition: Encountered Xs pending for some Surrogates but observed for others. Considering these points to be pending.\n"
     ]
    },
    {
     "name": "stderr",
     "output_type": "stream",
     "text": [
      "[INFO 03-01 18:31:28] Scheduler: Running trials [12]...\n"
     ]
    },
    {
     "name": "stderr",
     "output_type": "stream",
     "text": [
      "/tmp/tmp.KbiES6I0qN/Ax-main/ax/core/map_data.py:188: FutureWarning: The behavior of DataFrame concatenation with empty or all-NA entries is deprecated. In a future version, this will no longer exclude empty or all-NA columns when determining the result dtypes. To retain the old behavior, exclude the relevant entries before the concat operation.\n",
      "  df = pd.concat(\n",
      "[INFO 03-01 18:31:29] ax.modelbridge.torch: The observations are identical to the last set of observations used to fit the model. Skipping model fitting.\n"
     ]
    },
    {
     "name": "stderr",
     "output_type": "stream",
     "text": [
      "[INFO 03-01 18:31:29] Scheduler: Generated all trials that can be generated currently. Max parallelism currently reached.\n"
     ]
    },
    {
     "name": "stderr",
     "output_type": "stream",
     "text": [
      "[WARNING 03-01 18:31:29] Scheduler: Both `init_seconds_between_polls` and `early_stopping_strategy supplied. `init_seconds_between_polls=1` will be overrridden by `early_stopping_strategy.seconds_between_polls=10` and polling will take place at a constant rate.\n"
     ]
    },
    {
     "name": "stderr",
     "output_type": "stream",
     "text": [
      "[INFO 03-01 18:31:29] Scheduler: Fetching data for newly completed trials: [].\n"
     ]
    },
    {
     "name": "stderr",
     "output_type": "stream",
     "text": [
      "[INFO 03-01 18:31:29] Scheduler: Fetching data for trials: 10 - 12 because some metrics on experiment are available while trials are running.\n"
     ]
    },
    {
     "name": "stderr",
     "output_type": "stream",
     "text": [
      "[INFO 03-01 18:31:29] ax.metrics.curve: val_acc not yet present in curves from /tmp/tmp3o86bad6/11. Returning without this metric.\n"
     ]
    },
    {
     "name": "stderr",
     "output_type": "stream",
     "text": [
      "[INFO 03-01 18:31:29] ax.metrics.curve: val_acc not yet present in curves from /tmp/tmp3o86bad6/12. Returning without this metric.\n"
     ]
    },
    {
     "name": "stderr",
     "output_type": "stream",
     "text": [
      "/tmp/tmp.KbiES6I0qN/Ax-main/ax/core/map_data.py:188: FutureWarning: The behavior of DataFrame concatenation with empty or all-NA entries is deprecated. In a future version, this will no longer exclude empty or all-NA columns when determining the result dtypes. To retain the old behavior, exclude the relevant entries before the concat operation.\n",
      "  df = pd.concat(\n",
      "/tmp/tmp.KbiES6I0qN/Ax-main/ax/core/map_data.py:188: FutureWarning: The behavior of DataFrame concatenation with empty or all-NA entries is deprecated. In a future version, this will no longer exclude empty or all-NA columns when determining the result dtypes. To retain the old behavior, exclude the relevant entries before the concat operation.\n",
      "  df = pd.concat(\n",
      "[INFO 03-01 18:31:29] ax.early_stopping.strategies.base: Last progression of any candidate for trial stopping is 0.29994666666666664.\n"
     ]
    },
    {
     "name": "stderr",
     "output_type": "stream",
     "text": [
      "[INFO 03-01 18:31:29] ax.early_stopping.strategies.base: No trials have reached 0.3. Not stopping any trials.\n"
     ]
    },
    {
     "name": "stderr",
     "output_type": "stream",
     "text": [
      "[INFO 03-01 18:31:29] Scheduler: Waiting for completed trials (for 10 sec, currently running trials: 3).\n"
     ]
    },
    {
     "name": "stderr",
     "output_type": "stream",
     "text": [
      "[INFO 03-01 18:31:39] Scheduler: Fetching data for newly completed trials: [].\n"
     ]
    },
    {
     "name": "stderr",
     "output_type": "stream",
     "text": [
      "[INFO 03-01 18:31:39] Scheduler: Fetching data for trials: 10 - 12 because some metrics on experiment are available while trials are running.\n"
     ]
    },
    {
     "name": "stderr",
     "output_type": "stream",
     "text": [
      "[INFO 03-01 18:31:39] ax.metrics.curve: val_acc not yet present in curves from /tmp/tmp3o86bad6/11. Returning without this metric.\n"
     ]
    },
    {
     "name": "stderr",
     "output_type": "stream",
     "text": [
      "[INFO 03-01 18:31:39] ax.metrics.curve: val_acc not yet present in curves from /tmp/tmp3o86bad6/12. Returning without this metric.\n"
     ]
    },
    {
     "name": "stderr",
     "output_type": "stream",
     "text": [
      "/tmp/tmp.KbiES6I0qN/Ax-main/ax/core/map_data.py:188: FutureWarning: The behavior of DataFrame concatenation with empty or all-NA entries is deprecated. In a future version, this will no longer exclude empty or all-NA columns when determining the result dtypes. To retain the old behavior, exclude the relevant entries before the concat operation.\n",
      "  df = pd.concat(\n",
      "/tmp/tmp.KbiES6I0qN/Ax-main/ax/core/map_data.py:188: FutureWarning: The behavior of DataFrame concatenation with empty or all-NA entries is deprecated. In a future version, this will no longer exclude empty or all-NA columns when determining the result dtypes. To retain the old behavior, exclude the relevant entries before the concat operation.\n",
      "  df = pd.concat(\n",
      "[INFO 03-01 18:31:39] ax.early_stopping.strategies.base: Last progression of any candidate for trial stopping is 0.29994666666666664.\n"
     ]
    },
    {
     "name": "stderr",
     "output_type": "stream",
     "text": [
      "[INFO 03-01 18:31:39] ax.early_stopping.strategies.base: No trials have reached 0.3. Not stopping any trials.\n"
     ]
    },
    {
     "name": "stderr",
     "output_type": "stream",
     "text": [
      "[INFO 03-01 18:31:39] Scheduler: Waiting for completed trials (for 10 sec, currently running trials: 3).\n"
     ]
    },
    {
     "name": "stderr",
     "output_type": "stream",
     "text": [
      "[INFO 03-01 18:31:49] Scheduler: Fetching data for newly completed trials: [].\n"
     ]
    },
    {
     "name": "stderr",
     "output_type": "stream",
     "text": [
      "[INFO 03-01 18:31:49] Scheduler: Fetching data for trials: 10 - 12 because some metrics on experiment are available while trials are running.\n"
     ]
    },
    {
     "name": "stderr",
     "output_type": "stream",
     "text": [
      "[INFO 03-01 18:31:49] ax.metrics.curve: val_acc not yet present in curves from /tmp/tmp3o86bad6/11. Returning without this metric.\n"
     ]
    },
    {
     "name": "stderr",
     "output_type": "stream",
     "text": [
      "[INFO 03-01 18:31:49] ax.metrics.curve: val_acc not yet present in curves from /tmp/tmp3o86bad6/12. Returning without this metric.\n"
     ]
    },
    {
     "name": "stderr",
     "output_type": "stream",
     "text": [
      "/tmp/tmp.KbiES6I0qN/Ax-main/ax/core/map_data.py:188: FutureWarning: The behavior of DataFrame concatenation with empty or all-NA entries is deprecated. In a future version, this will no longer exclude empty or all-NA columns when determining the result dtypes. To retain the old behavior, exclude the relevant entries before the concat operation.\n",
      "  df = pd.concat(\n",
      "/tmp/tmp.KbiES6I0qN/Ax-main/ax/core/map_data.py:188: FutureWarning: The behavior of DataFrame concatenation with empty or all-NA entries is deprecated. In a future version, this will no longer exclude empty or all-NA columns when determining the result dtypes. To retain the old behavior, exclude the relevant entries before the concat operation.\n",
      "  df = pd.concat(\n",
      "[INFO 03-01 18:31:49] ax.early_stopping.strategies.base: Last progression of any candidate for trial stopping is 0.29994666666666664.\n"
     ]
    },
    {
     "name": "stderr",
     "output_type": "stream",
     "text": [
      "[INFO 03-01 18:31:49] ax.early_stopping.strategies.base: No trials have reached 0.3. Not stopping any trials.\n"
     ]
    },
    {
     "name": "stderr",
     "output_type": "stream",
     "text": [
      "[INFO 03-01 18:31:49] Scheduler: Waiting for completed trials (for 10 sec, currently running trials: 3).\n"
     ]
    },
    {
     "name": "stderr",
     "output_type": "stream",
     "text": [
      "[INFO 03-01 18:31:59] Scheduler: Fetching data for newly completed trials: [].\n"
     ]
    },
    {
     "name": "stderr",
     "output_type": "stream",
     "text": [
      "[INFO 03-01 18:31:59] Scheduler: Fetching data for trials: 10 - 12 because some metrics on experiment are available while trials are running.\n"
     ]
    },
    {
     "name": "stderr",
     "output_type": "stream",
     "text": [
      "[INFO 03-01 18:31:59] ax.metrics.curve: val_acc not yet present in curves from /tmp/tmp3o86bad6/11. Returning without this metric.\n"
     ]
    },
    {
     "name": "stderr",
     "output_type": "stream",
     "text": [
      "[INFO 03-01 18:31:59] ax.metrics.curve: val_acc not yet present in curves from /tmp/tmp3o86bad6/12. Returning without this metric.\n"
     ]
    },
    {
     "name": "stderr",
     "output_type": "stream",
     "text": [
      "/tmp/tmp.KbiES6I0qN/Ax-main/ax/core/map_data.py:188: FutureWarning: The behavior of DataFrame concatenation with empty or all-NA entries is deprecated. In a future version, this will no longer exclude empty or all-NA columns when determining the result dtypes. To retain the old behavior, exclude the relevant entries before the concat operation.\n",
      "  df = pd.concat(\n",
      "/tmp/tmp.KbiES6I0qN/Ax-main/ax/core/map_data.py:188: FutureWarning: The behavior of DataFrame concatenation with empty or all-NA entries is deprecated. In a future version, this will no longer exclude empty or all-NA columns when determining the result dtypes. To retain the old behavior, exclude the relevant entries before the concat operation.\n",
      "  df = pd.concat(\n",
      "[INFO 03-01 18:31:59] ax.early_stopping.strategies.base: Last progression of any candidate for trial stopping is 0.29994666666666664.\n"
     ]
    },
    {
     "name": "stderr",
     "output_type": "stream",
     "text": [
      "[INFO 03-01 18:31:59] ax.early_stopping.strategies.base: No trials have reached 0.3. Not stopping any trials.\n"
     ]
    },
    {
     "name": "stderr",
     "output_type": "stream",
     "text": [
      "[INFO 03-01 18:31:59] Scheduler: Waiting for completed trials (for 10 sec, currently running trials: 3).\n"
     ]
    },
    {
     "name": "stderr",
     "output_type": "stream",
     "text": [
      "[INFO 03-01 18:32:09] Scheduler: Fetching data for newly completed trials: [].\n"
     ]
    },
    {
     "name": "stderr",
     "output_type": "stream",
     "text": [
      "[INFO 03-01 18:32:09] Scheduler: Fetching data for trials: 10 - 12 because some metrics on experiment are available while trials are running.\n"
     ]
    },
    {
     "name": "stderr",
     "output_type": "stream",
     "text": [
      "[INFO 03-01 18:32:09] ax.metrics.curve: val_acc not yet present in curves from /tmp/tmp3o86bad6/11. Returning without this metric.\n"
     ]
    },
    {
     "name": "stderr",
     "output_type": "stream",
     "text": [
      "[INFO 03-01 18:32:09] ax.metrics.curve: val_acc not yet present in curves from /tmp/tmp3o86bad6/12. Returning without this metric.\n"
     ]
    },
    {
     "name": "stderr",
     "output_type": "stream",
     "text": [
      "/tmp/tmp.KbiES6I0qN/Ax-main/ax/core/map_data.py:188: FutureWarning: The behavior of DataFrame concatenation with empty or all-NA entries is deprecated. In a future version, this will no longer exclude empty or all-NA columns when determining the result dtypes. To retain the old behavior, exclude the relevant entries before the concat operation.\n",
      "  df = pd.concat(\n",
      "/tmp/tmp.KbiES6I0qN/Ax-main/ax/core/map_data.py:188: FutureWarning: The behavior of DataFrame concatenation with empty or all-NA entries is deprecated. In a future version, this will no longer exclude empty or all-NA columns when determining the result dtypes. To retain the old behavior, exclude the relevant entries before the concat operation.\n",
      "  df = pd.concat(\n",
      "[INFO 03-01 18:32:09] ax.early_stopping.strategies.base: Last progression of any candidate for trial stopping is 0.3999466666666667.\n"
     ]
    },
    {
     "name": "stderr",
     "output_type": "stream",
     "text": [
      "[INFO 03-01 18:32:09] ax.early_stopping.strategies.percentile: Considering trial 10 for early stopping.\n"
     ]
    },
    {
     "name": "stderr",
     "output_type": "stream",
     "text": [
      "[INFO 03-01 18:32:09] ax.early_stopping.strategies.base: Last progression of Trial 10 is 0.3999466666666667.\n"
     ]
    },
    {
     "name": "stderr",
     "output_type": "stream",
     "text": [
      "[INFO 03-01 18:32:09] ax.early_stopping.strategies.percentile: Early stopping objective at last progression is:\n",
      "0     0.968049\n",
      "1     0.886844\n",
      "2     0.940627\n",
      "3     0.966532\n",
      "4     0.946419\n",
      "5     0.968146\n",
      "6     0.946698\n",
      "7     0.966843\n",
      "8     0.962369\n",
      "9     0.960863\n",
      "10    0.965990\n",
      "Name: 0.3999466666666667, dtype: float64.\n"
     ]
    },
    {
     "name": "stderr",
     "output_type": "stream",
     "text": [
      "[INFO 03-01 18:32:09] ax.early_stopping.strategies.percentile: Early stopping decision for 10: True. Reason: Trial objective value 0.9659903049468994 is worse than 70.0-th percentile (0.9665317535400391) across comparable trials.\n"
     ]
    },
    {
     "name": "stderr",
     "output_type": "stream",
     "text": [
      "[INFO 03-01 18:32:09] ax.early_stopping.strategies.percentile: Considering trial 11 for early stopping.\n"
     ]
    },
    {
     "name": "stderr",
     "output_type": "stream",
     "text": [
      "[INFO 03-01 18:32:09] ax.early_stopping.strategies.base: There is not yet any data associated with trial 11 and metric val_acc. Not early stopping this trial.\n"
     ]
    },
    {
     "name": "stderr",
     "output_type": "stream",
     "text": [
      "[INFO 03-01 18:32:09] ax.early_stopping.strategies.percentile: Considering trial 12 for early stopping.\n"
     ]
    },
    {
     "name": "stderr",
     "output_type": "stream",
     "text": [
      "[INFO 03-01 18:32:09] ax.early_stopping.strategies.base: There is not yet any data associated with trial 12 and metric val_acc. Not early stopping this trial.\n"
     ]
    },
    {
     "name": "stderr",
     "output_type": "stream",
     "text": [
      "/tmp/tmp.KbiES6I0qN/Ax-main/ax/core/map_data.py:188: FutureWarning: The behavior of DataFrame concatenation with empty or all-NA entries is deprecated. In a future version, this will no longer exclude empty or all-NA columns when determining the result dtypes. To retain the old behavior, exclude the relevant entries before the concat operation.\n",
      "  df = pd.concat(\n"
     ]
    },
    {
     "name": "stderr",
     "output_type": "stream",
     "text": [
      "[INFO 03-01 18:32:13] Scheduler: Running trials [13]...\n"
     ]
    },
    {
     "name": "stderr",
     "output_type": "stream",
     "text": [
      "/tmp/tmp.KbiES6I0qN/Ax-main/ax/core/map_data.py:188: FutureWarning: The behavior of DataFrame concatenation with empty or all-NA entries is deprecated. In a future version, this will no longer exclude empty or all-NA columns when determining the result dtypes. To retain the old behavior, exclude the relevant entries before the concat operation.\n",
      "  df = pd.concat(\n",
      "[INFO 03-01 18:32:14] ax.modelbridge.torch: The observations are identical to the last set of observations used to fit the model. Skipping model fitting.\n"
     ]
    },
    {
     "name": "stderr",
     "output_type": "stream",
     "text": [
      "[INFO 03-01 18:32:14] Scheduler: Generated all trials that can be generated currently. Max parallelism currently reached.\n"
     ]
    },
    {
     "name": "stderr",
     "output_type": "stream",
     "text": [
      "[WARNING 03-01 18:32:14] Scheduler: Both `init_seconds_between_polls` and `early_stopping_strategy supplied. `init_seconds_between_polls=1` will be overrridden by `early_stopping_strategy.seconds_between_polls=10` and polling will take place at a constant rate.\n"
     ]
    },
    {
     "name": "stderr",
     "output_type": "stream",
     "text": [
      "[INFO 03-01 18:32:14] Scheduler: Fetching data for newly completed trials: [].\n"
     ]
    },
    {
     "name": "stderr",
     "output_type": "stream",
     "text": [
      "[INFO 03-01 18:32:14] Scheduler: Fetching data for trials: 11 - 13 because some metrics on experiment are available while trials are running.\n"
     ]
    },
    {
     "name": "stderr",
     "output_type": "stream",
     "text": [
      "[INFO 03-01 18:32:14] ax.metrics.curve: val_acc not yet present in curves from /tmp/tmp3o86bad6/13. Returning without this metric.\n"
     ]
    },
    {
     "name": "stderr",
     "output_type": "stream",
     "text": [
      "/tmp/tmp.KbiES6I0qN/Ax-main/ax/core/map_data.py:188: FutureWarning: The behavior of DataFrame concatenation with empty or all-NA entries is deprecated. In a future version, this will no longer exclude empty or all-NA columns when determining the result dtypes. To retain the old behavior, exclude the relevant entries before the concat operation.\n",
      "  df = pd.concat(\n",
      "/tmp/tmp.KbiES6I0qN/Ax-main/ax/core/map_data.py:188: FutureWarning: The behavior of DataFrame concatenation with empty or all-NA entries is deprecated. In a future version, this will no longer exclude empty or all-NA columns when determining the result dtypes. To retain the old behavior, exclude the relevant entries before the concat operation.\n",
      "  df = pd.concat(\n",
      "[INFO 03-01 18:32:14] ax.early_stopping.strategies.base: Last progression of any candidate for trial stopping is 0.09994666666666667.\n"
     ]
    },
    {
     "name": "stderr",
     "output_type": "stream",
     "text": [
      "[INFO 03-01 18:32:14] ax.early_stopping.strategies.base: No trials have reached 0.3. Not stopping any trials.\n"
     ]
    },
    {
     "name": "stderr",
     "output_type": "stream",
     "text": [
      "[INFO 03-01 18:32:14] Scheduler: Waiting for completed trials (for 10 sec, currently running trials: 3).\n"
     ]
    },
    {
     "name": "stderr",
     "output_type": "stream",
     "text": [
      "[INFO 03-01 18:32:24] Scheduler: Fetching data for newly completed trials: [].\n"
     ]
    },
    {
     "name": "stderr",
     "output_type": "stream",
     "text": [
      "[INFO 03-01 18:32:24] Scheduler: Fetching data for trials: 11 - 13 because some metrics on experiment are available while trials are running.\n"
     ]
    },
    {
     "name": "stderr",
     "output_type": "stream",
     "text": [
      "[INFO 03-01 18:32:24] ax.metrics.curve: val_acc not yet present in curves from /tmp/tmp3o86bad6/13. Returning without this metric.\n"
     ]
    },
    {
     "name": "stderr",
     "output_type": "stream",
     "text": [
      "/tmp/tmp.KbiES6I0qN/Ax-main/ax/core/map_data.py:188: FutureWarning: The behavior of DataFrame concatenation with empty or all-NA entries is deprecated. In a future version, this will no longer exclude empty or all-NA columns when determining the result dtypes. To retain the old behavior, exclude the relevant entries before the concat operation.\n",
      "  df = pd.concat(\n",
      "/tmp/tmp.KbiES6I0qN/Ax-main/ax/core/map_data.py:188: FutureWarning: The behavior of DataFrame concatenation with empty or all-NA entries is deprecated. In a future version, this will no longer exclude empty or all-NA columns when determining the result dtypes. To retain the old behavior, exclude the relevant entries before the concat operation.\n",
      "  df = pd.concat(\n",
      "[INFO 03-01 18:32:24] ax.early_stopping.strategies.base: Last progression of any candidate for trial stopping is 0.09994666666666667.\n"
     ]
    },
    {
     "name": "stderr",
     "output_type": "stream",
     "text": [
      "[INFO 03-01 18:32:24] ax.early_stopping.strategies.base: No trials have reached 0.3. Not stopping any trials.\n"
     ]
    },
    {
     "name": "stderr",
     "output_type": "stream",
     "text": [
      "[INFO 03-01 18:32:24] Scheduler: Waiting for completed trials (for 10 sec, currently running trials: 3).\n"
     ]
    },
    {
     "name": "stderr",
     "output_type": "stream",
     "text": [
      "[INFO 03-01 18:32:34] Scheduler: Fetching data for newly completed trials: [].\n"
     ]
    },
    {
     "name": "stderr",
     "output_type": "stream",
     "text": [
      "[INFO 03-01 18:32:34] Scheduler: Fetching data for trials: 11 - 13 because some metrics on experiment are available while trials are running.\n"
     ]
    },
    {
     "name": "stderr",
     "output_type": "stream",
     "text": [
      "[INFO 03-01 18:32:34] ax.metrics.curve: val_acc not yet present in curves from /tmp/tmp3o86bad6/13. Returning without this metric.\n"
     ]
    },
    {
     "name": "stderr",
     "output_type": "stream",
     "text": [
      "/tmp/tmp.KbiES6I0qN/Ax-main/ax/core/map_data.py:188: FutureWarning: The behavior of DataFrame concatenation with empty or all-NA entries is deprecated. In a future version, this will no longer exclude empty or all-NA columns when determining the result dtypes. To retain the old behavior, exclude the relevant entries before the concat operation.\n",
      "  df = pd.concat(\n",
      "/tmp/tmp.KbiES6I0qN/Ax-main/ax/core/map_data.py:188: FutureWarning: The behavior of DataFrame concatenation with empty or all-NA entries is deprecated. In a future version, this will no longer exclude empty or all-NA columns when determining the result dtypes. To retain the old behavior, exclude the relevant entries before the concat operation.\n",
      "  df = pd.concat(\n",
      "[INFO 03-01 18:32:34] ax.early_stopping.strategies.base: Last progression of any candidate for trial stopping is 0.09994666666666667.\n"
     ]
    },
    {
     "name": "stderr",
     "output_type": "stream",
     "text": [
      "[INFO 03-01 18:32:34] ax.early_stopping.strategies.base: No trials have reached 0.3. Not stopping any trials.\n"
     ]
    },
    {
     "name": "stderr",
     "output_type": "stream",
     "text": [
      "[INFO 03-01 18:32:34] Scheduler: Waiting for completed trials (for 10 sec, currently running trials: 3).\n"
     ]
    },
    {
     "name": "stderr",
     "output_type": "stream",
     "text": [
      "[INFO 03-01 18:32:44] Scheduler: Fetching data for newly completed trials: [].\n"
     ]
    },
    {
     "name": "stderr",
     "output_type": "stream",
     "text": [
      "[INFO 03-01 18:32:44] Scheduler: Fetching data for trials: 11 - 13 because some metrics on experiment are available while trials are running.\n"
     ]
    },
    {
     "name": "stderr",
     "output_type": "stream",
     "text": [
      "[INFO 03-01 18:32:44] ax.metrics.curve: val_acc not yet present in curves from /tmp/tmp3o86bad6/13. Returning without this metric.\n"
     ]
    },
    {
     "name": "stderr",
     "output_type": "stream",
     "text": [
      "/tmp/tmp.KbiES6I0qN/Ax-main/ax/core/map_data.py:188: FutureWarning: The behavior of DataFrame concatenation with empty or all-NA entries is deprecated. In a future version, this will no longer exclude empty or all-NA columns when determining the result dtypes. To retain the old behavior, exclude the relevant entries before the concat operation.\n",
      "  df = pd.concat(\n",
      "/tmp/tmp.KbiES6I0qN/Ax-main/ax/core/map_data.py:188: FutureWarning: The behavior of DataFrame concatenation with empty or all-NA entries is deprecated. In a future version, this will no longer exclude empty or all-NA columns when determining the result dtypes. To retain the old behavior, exclude the relevant entries before the concat operation.\n",
      "  df = pd.concat(\n",
      "[INFO 03-01 18:32:44] ax.early_stopping.strategies.base: Last progression of any candidate for trial stopping is 0.09994666666666667.\n"
     ]
    },
    {
     "name": "stderr",
     "output_type": "stream",
     "text": [
      "[INFO 03-01 18:32:44] ax.early_stopping.strategies.base: No trials have reached 0.3. Not stopping any trials.\n"
     ]
    },
    {
     "name": "stderr",
     "output_type": "stream",
     "text": [
      "[INFO 03-01 18:32:44] Scheduler: Waiting for completed trials (for 10 sec, currently running trials: 3).\n"
     ]
    },
    {
     "name": "stderr",
     "output_type": "stream",
     "text": [
      "[INFO 03-01 18:32:55] Scheduler: Fetching data for newly completed trials: [].\n"
     ]
    },
    {
     "name": "stderr",
     "output_type": "stream",
     "text": [
      "[INFO 03-01 18:32:55] Scheduler: Fetching data for trials: 11 - 13 because some metrics on experiment are available while trials are running.\n"
     ]
    },
    {
     "name": "stderr",
     "output_type": "stream",
     "text": [
      "[INFO 03-01 18:32:55] ax.metrics.curve: val_acc not yet present in curves from /tmp/tmp3o86bad6/13. Returning without this metric.\n"
     ]
    },
    {
     "name": "stderr",
     "output_type": "stream",
     "text": [
      "/tmp/tmp.KbiES6I0qN/Ax-main/ax/core/map_data.py:188: FutureWarning: The behavior of DataFrame concatenation with empty or all-NA entries is deprecated. In a future version, this will no longer exclude empty or all-NA columns when determining the result dtypes. To retain the old behavior, exclude the relevant entries before the concat operation.\n",
      "  df = pd.concat(\n",
      "/tmp/tmp.KbiES6I0qN/Ax-main/ax/core/map_data.py:188: FutureWarning: The behavior of DataFrame concatenation with empty or all-NA entries is deprecated. In a future version, this will no longer exclude empty or all-NA columns when determining the result dtypes. To retain the old behavior, exclude the relevant entries before the concat operation.\n",
      "  df = pd.concat(\n",
      "[INFO 03-01 18:32:55] ax.early_stopping.strategies.base: Last progression of any candidate for trial stopping is 0.19994666666666666.\n"
     ]
    },
    {
     "name": "stderr",
     "output_type": "stream",
     "text": [
      "[INFO 03-01 18:32:55] ax.early_stopping.strategies.base: No trials have reached 0.3. Not stopping any trials.\n"
     ]
    },
    {
     "name": "stderr",
     "output_type": "stream",
     "text": [
      "[INFO 03-01 18:32:55] Scheduler: Waiting for completed trials (for 10 sec, currently running trials: 3).\n"
     ]
    },
    {
     "name": "stderr",
     "output_type": "stream",
     "text": [
      "[INFO 03-01 18:33:05] Scheduler: Fetching data for newly completed trials: [].\n"
     ]
    },
    {
     "name": "stderr",
     "output_type": "stream",
     "text": [
      "[INFO 03-01 18:33:05] Scheduler: Fetching data for trials: 11 - 13 because some metrics on experiment are available while trials are running.\n"
     ]
    },
    {
     "name": "stderr",
     "output_type": "stream",
     "text": [
      "[INFO 03-01 18:33:05] ax.metrics.curve: val_acc not yet present in curves from /tmp/tmp3o86bad6/13. Returning without this metric.\n"
     ]
    },
    {
     "name": "stderr",
     "output_type": "stream",
     "text": [
      "/tmp/tmp.KbiES6I0qN/Ax-main/ax/core/map_data.py:188: FutureWarning: The behavior of DataFrame concatenation with empty or all-NA entries is deprecated. In a future version, this will no longer exclude empty or all-NA columns when determining the result dtypes. To retain the old behavior, exclude the relevant entries before the concat operation.\n",
      "  df = pd.concat(\n",
      "/tmp/tmp.KbiES6I0qN/Ax-main/ax/core/map_data.py:188: FutureWarning: The behavior of DataFrame concatenation with empty or all-NA entries is deprecated. In a future version, this will no longer exclude empty or all-NA columns when determining the result dtypes. To retain the old behavior, exclude the relevant entries before the concat operation.\n",
      "  df = pd.concat(\n",
      "[INFO 03-01 18:33:05] ax.early_stopping.strategies.base: Last progression of any candidate for trial stopping is 0.19994666666666666.\n"
     ]
    },
    {
     "name": "stderr",
     "output_type": "stream",
     "text": [
      "[INFO 03-01 18:33:05] ax.early_stopping.strategies.base: No trials have reached 0.3. Not stopping any trials.\n"
     ]
    },
    {
     "name": "stderr",
     "output_type": "stream",
     "text": [
      "[INFO 03-01 18:33:05] Scheduler: Waiting for completed trials (for 10 sec, currently running trials: 3).\n"
     ]
    },
    {
     "name": "stderr",
     "output_type": "stream",
     "text": [
      "[INFO 03-01 18:33:15] Scheduler: Fetching data for newly completed trials: [].\n"
     ]
    },
    {
     "name": "stderr",
     "output_type": "stream",
     "text": [
      "[INFO 03-01 18:33:15] Scheduler: Fetching data for trials: 11 - 13 because some metrics on experiment are available while trials are running.\n"
     ]
    },
    {
     "name": "stderr",
     "output_type": "stream",
     "text": [
      "/tmp/tmp.KbiES6I0qN/Ax-main/ax/core/map_data.py:188: FutureWarning: The behavior of DataFrame concatenation with empty or all-NA entries is deprecated. In a future version, this will no longer exclude empty or all-NA columns when determining the result dtypes. To retain the old behavior, exclude the relevant entries before the concat operation.\n",
      "  df = pd.concat(\n",
      "/tmp/tmp.KbiES6I0qN/Ax-main/ax/core/map_data.py:188: FutureWarning: The behavior of DataFrame concatenation with empty or all-NA entries is deprecated. In a future version, this will no longer exclude empty or all-NA columns when determining the result dtypes. To retain the old behavior, exclude the relevant entries before the concat operation.\n",
      "  df = pd.concat(\n",
      "[INFO 03-01 18:33:15] ax.early_stopping.strategies.base: Last progression of any candidate for trial stopping is 0.19994666666666666.\n"
     ]
    },
    {
     "name": "stderr",
     "output_type": "stream",
     "text": [
      "[INFO 03-01 18:33:15] ax.early_stopping.strategies.base: No trials have reached 0.3. Not stopping any trials.\n"
     ]
    },
    {
     "name": "stderr",
     "output_type": "stream",
     "text": [
      "[INFO 03-01 18:33:15] Scheduler: Waiting for completed trials (for 10 sec, currently running trials: 3).\n"
     ]
    },
    {
     "name": "stderr",
     "output_type": "stream",
     "text": [
      "[INFO 03-01 18:33:25] Scheduler: Fetching data for newly completed trials: [].\n"
     ]
    },
    {
     "name": "stderr",
     "output_type": "stream",
     "text": [
      "[INFO 03-01 18:33:25] Scheduler: Fetching data for trials: 11 - 13 because some metrics on experiment are available while trials are running.\n"
     ]
    },
    {
     "name": "stderr",
     "output_type": "stream",
     "text": [
      "/tmp/tmp.KbiES6I0qN/Ax-main/ax/core/map_data.py:188: FutureWarning: The behavior of DataFrame concatenation with empty or all-NA entries is deprecated. In a future version, this will no longer exclude empty or all-NA columns when determining the result dtypes. To retain the old behavior, exclude the relevant entries before the concat operation.\n",
      "  df = pd.concat(\n",
      "/tmp/tmp.KbiES6I0qN/Ax-main/ax/core/map_data.py:188: FutureWarning: The behavior of DataFrame concatenation with empty or all-NA entries is deprecated. In a future version, this will no longer exclude empty or all-NA columns when determining the result dtypes. To retain the old behavior, exclude the relevant entries before the concat operation.\n",
      "  df = pd.concat(\n",
      "[INFO 03-01 18:33:25] ax.early_stopping.strategies.base: Last progression of any candidate for trial stopping is 0.19994666666666666.\n"
     ]
    },
    {
     "name": "stderr",
     "output_type": "stream",
     "text": [
      "[INFO 03-01 18:33:25] ax.early_stopping.strategies.base: No trials have reached 0.3. Not stopping any trials.\n"
     ]
    },
    {
     "name": "stderr",
     "output_type": "stream",
     "text": [
      "[INFO 03-01 18:33:25] Scheduler: Waiting for completed trials (for 10 sec, currently running trials: 3).\n"
     ]
    },
    {
     "name": "stderr",
     "output_type": "stream",
     "text": [
      "[INFO 03-01 18:33:35] Scheduler: Fetching data for newly completed trials: [].\n"
     ]
    },
    {
     "name": "stderr",
     "output_type": "stream",
     "text": [
      "[INFO 03-01 18:33:35] Scheduler: Fetching data for trials: 11 - 13 because some metrics on experiment are available while trials are running.\n"
     ]
    },
    {
     "name": "stderr",
     "output_type": "stream",
     "text": [
      "/tmp/tmp.KbiES6I0qN/Ax-main/ax/core/map_data.py:188: FutureWarning: The behavior of DataFrame concatenation with empty or all-NA entries is deprecated. In a future version, this will no longer exclude empty or all-NA columns when determining the result dtypes. To retain the old behavior, exclude the relevant entries before the concat operation.\n",
      "  df = pd.concat(\n",
      "/tmp/tmp.KbiES6I0qN/Ax-main/ax/core/map_data.py:188: FutureWarning: The behavior of DataFrame concatenation with empty or all-NA entries is deprecated. In a future version, this will no longer exclude empty or all-NA columns when determining the result dtypes. To retain the old behavior, exclude the relevant entries before the concat operation.\n",
      "  df = pd.concat(\n",
      "[INFO 03-01 18:33:35] ax.early_stopping.strategies.base: Last progression of any candidate for trial stopping is 0.29994666666666664.\n"
     ]
    },
    {
     "name": "stderr",
     "output_type": "stream",
     "text": [
      "[INFO 03-01 18:33:35] ax.early_stopping.strategies.base: No trials have reached 0.3. Not stopping any trials.\n"
     ]
    },
    {
     "name": "stderr",
     "output_type": "stream",
     "text": [
      "[INFO 03-01 18:33:35] Scheduler: Waiting for completed trials (for 10 sec, currently running trials: 3).\n"
     ]
    },
    {
     "name": "stderr",
     "output_type": "stream",
     "text": [
      "[INFO 03-01 18:33:45] Scheduler: Fetching data for newly completed trials: [].\n"
     ]
    },
    {
     "name": "stderr",
     "output_type": "stream",
     "text": [
      "[INFO 03-01 18:33:45] Scheduler: Fetching data for trials: 11 - 13 because some metrics on experiment are available while trials are running.\n"
     ]
    },
    {
     "name": "stderr",
     "output_type": "stream",
     "text": [
      "/tmp/tmp.KbiES6I0qN/Ax-main/ax/core/map_data.py:188: FutureWarning: The behavior of DataFrame concatenation with empty or all-NA entries is deprecated. In a future version, this will no longer exclude empty or all-NA columns when determining the result dtypes. To retain the old behavior, exclude the relevant entries before the concat operation.\n",
      "  df = pd.concat(\n",
      "/tmp/tmp.KbiES6I0qN/Ax-main/ax/core/map_data.py:188: FutureWarning: The behavior of DataFrame concatenation with empty or all-NA entries is deprecated. In a future version, this will no longer exclude empty or all-NA columns when determining the result dtypes. To retain the old behavior, exclude the relevant entries before the concat operation.\n",
      "  df = pd.concat(\n",
      "[INFO 03-01 18:33:45] ax.early_stopping.strategies.base: Last progression of any candidate for trial stopping is 0.29994666666666664.\n"
     ]
    },
    {
     "name": "stderr",
     "output_type": "stream",
     "text": [
      "[INFO 03-01 18:33:45] ax.early_stopping.strategies.base: No trials have reached 0.3. Not stopping any trials.\n"
     ]
    },
    {
     "name": "stderr",
     "output_type": "stream",
     "text": [
      "[INFO 03-01 18:33:45] Scheduler: Waiting for completed trials (for 10 sec, currently running trials: 3).\n"
     ]
    },
    {
     "name": "stderr",
     "output_type": "stream",
     "text": [
      "[INFO 03-01 18:33:55] Scheduler: Fetching data for newly completed trials: [].\n"
     ]
    },
    {
     "name": "stderr",
     "output_type": "stream",
     "text": [
      "[INFO 03-01 18:33:55] Scheduler: Fetching data for trials: 11 - 13 because some metrics on experiment are available while trials are running.\n"
     ]
    },
    {
     "name": "stderr",
     "output_type": "stream",
     "text": [
      "/tmp/tmp.KbiES6I0qN/Ax-main/ax/core/map_data.py:188: FutureWarning: The behavior of DataFrame concatenation with empty or all-NA entries is deprecated. In a future version, this will no longer exclude empty or all-NA columns when determining the result dtypes. To retain the old behavior, exclude the relevant entries before the concat operation.\n",
      "  df = pd.concat(\n",
      "/tmp/tmp.KbiES6I0qN/Ax-main/ax/core/map_data.py:188: FutureWarning: The behavior of DataFrame concatenation with empty or all-NA entries is deprecated. In a future version, this will no longer exclude empty or all-NA columns when determining the result dtypes. To retain the old behavior, exclude the relevant entries before the concat operation.\n",
      "  df = pd.concat(\n",
      "[INFO 03-01 18:33:55] ax.early_stopping.strategies.base: Last progression of any candidate for trial stopping is 0.29994666666666664.\n"
     ]
    },
    {
     "name": "stderr",
     "output_type": "stream",
     "text": [
      "[INFO 03-01 18:33:55] ax.early_stopping.strategies.base: No trials have reached 0.3. Not stopping any trials.\n"
     ]
    },
    {
     "name": "stderr",
     "output_type": "stream",
     "text": [
      "[INFO 03-01 18:33:55] Scheduler: Waiting for completed trials (for 10 sec, currently running trials: 3).\n"
     ]
    },
    {
     "name": "stderr",
     "output_type": "stream",
     "text": [
      "[INFO 03-01 18:34:05] Scheduler: Fetching data for newly completed trials: [].\n"
     ]
    },
    {
     "name": "stderr",
     "output_type": "stream",
     "text": [
      "[INFO 03-01 18:34:05] Scheduler: Fetching data for trials: 11 - 13 because some metrics on experiment are available while trials are running.\n"
     ]
    },
    {
     "name": "stderr",
     "output_type": "stream",
     "text": [
      "/tmp/tmp.KbiES6I0qN/Ax-main/ax/core/map_data.py:188: FutureWarning: The behavior of DataFrame concatenation with empty or all-NA entries is deprecated. In a future version, this will no longer exclude empty or all-NA columns when determining the result dtypes. To retain the old behavior, exclude the relevant entries before the concat operation.\n",
      "  df = pd.concat(\n",
      "/tmp/tmp.KbiES6I0qN/Ax-main/ax/core/map_data.py:188: FutureWarning: The behavior of DataFrame concatenation with empty or all-NA entries is deprecated. In a future version, this will no longer exclude empty or all-NA columns when determining the result dtypes. To retain the old behavior, exclude the relevant entries before the concat operation.\n",
      "  df = pd.concat(\n",
      "[INFO 03-01 18:34:06] ax.early_stopping.strategies.base: Last progression of any candidate for trial stopping is 0.29994666666666664.\n"
     ]
    },
    {
     "name": "stderr",
     "output_type": "stream",
     "text": [
      "[INFO 03-01 18:34:06] ax.early_stopping.strategies.base: No trials have reached 0.3. Not stopping any trials.\n"
     ]
    },
    {
     "name": "stderr",
     "output_type": "stream",
     "text": [
      "[INFO 03-01 18:34:06] Scheduler: Waiting for completed trials (for 10 sec, currently running trials: 3).\n"
     ]
    },
    {
     "name": "stderr",
     "output_type": "stream",
     "text": [
      "[INFO 03-01 18:34:16] Scheduler: Fetching data for newly completed trials: [].\n"
     ]
    },
    {
     "name": "stderr",
     "output_type": "stream",
     "text": [
      "[INFO 03-01 18:34:16] Scheduler: Fetching data for trials: 11 - 13 because some metrics on experiment are available while trials are running.\n"
     ]
    },
    {
     "name": "stderr",
     "output_type": "stream",
     "text": [
      "/tmp/tmp.KbiES6I0qN/Ax-main/ax/core/map_data.py:188: FutureWarning: The behavior of DataFrame concatenation with empty or all-NA entries is deprecated. In a future version, this will no longer exclude empty or all-NA columns when determining the result dtypes. To retain the old behavior, exclude the relevant entries before the concat operation.\n",
      "  df = pd.concat(\n",
      "/tmp/tmp.KbiES6I0qN/Ax-main/ax/core/map_data.py:188: FutureWarning: The behavior of DataFrame concatenation with empty or all-NA entries is deprecated. In a future version, this will no longer exclude empty or all-NA columns when determining the result dtypes. To retain the old behavior, exclude the relevant entries before the concat operation.\n",
      "  df = pd.concat(\n",
      "[INFO 03-01 18:34:16] ax.early_stopping.strategies.base: Last progression of any candidate for trial stopping is 0.3999466666666667.\n"
     ]
    },
    {
     "name": "stderr",
     "output_type": "stream",
     "text": [
      "[INFO 03-01 18:34:16] ax.early_stopping.strategies.percentile: Considering trial 11 for early stopping.\n"
     ]
    },
    {
     "name": "stderr",
     "output_type": "stream",
     "text": [
      "[INFO 03-01 18:34:16] ax.early_stopping.strategies.base: Last progression of Trial 11 is 0.3999466666666667.\n"
     ]
    },
    {
     "name": "stderr",
     "output_type": "stream",
     "text": [
      "[INFO 03-01 18:34:16] ax.early_stopping.strategies.percentile: Early stopping objective at last progression is:\n",
      "0     0.968049\n",
      "1     0.886844\n",
      "2     0.940627\n",
      "3     0.966532\n",
      "4     0.946419\n",
      "5     0.968146\n",
      "6     0.946698\n",
      "7     0.966843\n",
      "8     0.962369\n",
      "9     0.960863\n",
      "10    0.965990\n",
      "11    0.961767\n",
      "Name: 0.3999466666666667, dtype: float64.\n"
     ]
    },
    {
     "name": "stderr",
     "output_type": "stream",
     "text": [
      "[INFO 03-01 18:34:16] ax.early_stopping.strategies.percentile: Early stopping decision for 11: True. Reason: Trial objective value 0.96176677942276 is worse than 70.0-th percentile (0.9663693189620972) across comparable trials.\n"
     ]
    },
    {
     "name": "stderr",
     "output_type": "stream",
     "text": [
      "[INFO 03-01 18:34:16] ax.early_stopping.strategies.percentile: Considering trial 12 for early stopping.\n"
     ]
    },
    {
     "name": "stderr",
     "output_type": "stream",
     "text": [
      "[INFO 03-01 18:34:16] ax.early_stopping.strategies.base: Last progression of Trial 12 is 0.29994666666666664.\n"
     ]
    },
    {
     "name": "stderr",
     "output_type": "stream",
     "text": [
      "[INFO 03-01 18:34:16] ax.early_stopping.strategies.base: Trial 12's most recent progression (0.29994666666666664) that is available for metric val_acc falls out of the min/max_progression range (0.3, None). Not early stopping this trial.\n"
     ]
    },
    {
     "name": "stderr",
     "output_type": "stream",
     "text": [
      "[INFO 03-01 18:34:16] ax.early_stopping.strategies.percentile: Considering trial 13 for early stopping.\n"
     ]
    },
    {
     "name": "stderr",
     "output_type": "stream",
     "text": [
      "[INFO 03-01 18:34:16] ax.early_stopping.strategies.base: Last progression of Trial 13 is 0.19994666666666666.\n"
     ]
    },
    {
     "name": "stderr",
     "output_type": "stream",
     "text": [
      "[INFO 03-01 18:34:16] ax.early_stopping.strategies.base: Trial 13's most recent progression (0.19994666666666666) that is available for metric val_acc falls out of the min/max_progression range (0.3, None). Not early stopping this trial.\n"
     ]
    },
    {
     "name": "stderr",
     "output_type": "stream",
     "text": [
      "/tmp/tmp.KbiES6I0qN/Ax-main/ax/core/map_data.py:188: FutureWarning: The behavior of DataFrame concatenation with empty or all-NA entries is deprecated. In a future version, this will no longer exclude empty or all-NA columns when determining the result dtypes. To retain the old behavior, exclude the relevant entries before the concat operation.\n",
      "  df = pd.concat(\n"
     ]
    },
    {
     "name": "stderr",
     "output_type": "stream",
     "text": [
      "[WARNING 03-01 18:34:17] ax.models.torch.botorch_modular.acquisition: Encountered Xs pending for some Surrogates but observed for others. Considering these points to be pending.\n"
     ]
    },
    {
     "name": "stderr",
     "output_type": "stream",
     "text": [
      "[INFO 03-01 18:34:22] Scheduler: Running trials [14]...\n"
     ]
    },
    {
     "name": "stderr",
     "output_type": "stream",
     "text": [
      "[WARNING 03-01 18:34:22] Scheduler: Both `init_seconds_between_polls` and `early_stopping_strategy supplied. `init_seconds_between_polls=1` will be overrridden by `early_stopping_strategy.seconds_between_polls=10` and polling will take place at a constant rate.\n"
     ]
    },
    {
     "name": "stderr",
     "output_type": "stream",
     "text": [
      "[INFO 03-01 18:34:22] Scheduler: Fetching data for newly completed trials: [].\n"
     ]
    },
    {
     "name": "stderr",
     "output_type": "stream",
     "text": [
      "[INFO 03-01 18:34:22] Scheduler: Fetching data for trials: 12 - 14 because some metrics on experiment are available while trials are running.\n"
     ]
    },
    {
     "name": "stderr",
     "output_type": "stream",
     "text": [
      "[INFO 03-01 18:34:22] ax.metrics.curve: val_acc not yet present in curves from /tmp/tmp3o86bad6/14. Returning without this metric.\n"
     ]
    },
    {
     "name": "stderr",
     "output_type": "stream",
     "text": [
      "/tmp/tmp.KbiES6I0qN/Ax-main/ax/core/map_data.py:188: FutureWarning: The behavior of DataFrame concatenation with empty or all-NA entries is deprecated. In a future version, this will no longer exclude empty or all-NA columns when determining the result dtypes. To retain the old behavior, exclude the relevant entries before the concat operation.\n",
      "  df = pd.concat(\n",
      "/tmp/tmp.KbiES6I0qN/Ax-main/ax/core/map_data.py:188: FutureWarning: The behavior of DataFrame concatenation with empty or all-NA entries is deprecated. In a future version, this will no longer exclude empty or all-NA columns when determining the result dtypes. To retain the old behavior, exclude the relevant entries before the concat operation.\n",
      "  df = pd.concat(\n",
      "[INFO 03-01 18:34:22] ax.early_stopping.strategies.base: Last progression of any candidate for trial stopping is 0.29994666666666664.\n"
     ]
    },
    {
     "name": "stderr",
     "output_type": "stream",
     "text": [
      "[INFO 03-01 18:34:22] ax.early_stopping.strategies.base: No trials have reached 0.3. Not stopping any trials.\n"
     ]
    },
    {
     "name": "stderr",
     "output_type": "stream",
     "text": [
      "[INFO 03-01 18:34:22] Scheduler: Waiting for completed trials (for 10 sec, currently running trials: 3).\n"
     ]
    },
    {
     "name": "stderr",
     "output_type": "stream",
     "text": [
      "[INFO 03-01 18:34:32] Scheduler: Fetching data for newly completed trials: [].\n"
     ]
    },
    {
     "name": "stderr",
     "output_type": "stream",
     "text": [
      "[INFO 03-01 18:34:32] Scheduler: Fetching data for trials: 12 - 14 because some metrics on experiment are available while trials are running.\n"
     ]
    },
    {
     "name": "stderr",
     "output_type": "stream",
     "text": [
      "[INFO 03-01 18:34:32] ax.metrics.curve: val_acc not yet present in curves from /tmp/tmp3o86bad6/14. Returning without this metric.\n"
     ]
    },
    {
     "name": "stderr",
     "output_type": "stream",
     "text": [
      "/tmp/tmp.KbiES6I0qN/Ax-main/ax/core/map_data.py:188: FutureWarning: The behavior of DataFrame concatenation with empty or all-NA entries is deprecated. In a future version, this will no longer exclude empty or all-NA columns when determining the result dtypes. To retain the old behavior, exclude the relevant entries before the concat operation.\n",
      "  df = pd.concat(\n",
      "/tmp/tmp.KbiES6I0qN/Ax-main/ax/core/map_data.py:188: FutureWarning: The behavior of DataFrame concatenation with empty or all-NA entries is deprecated. In a future version, this will no longer exclude empty or all-NA columns when determining the result dtypes. To retain the old behavior, exclude the relevant entries before the concat operation.\n",
      "  df = pd.concat(\n",
      "[INFO 03-01 18:34:32] ax.early_stopping.strategies.base: Last progression of any candidate for trial stopping is 0.3999466666666667.\n"
     ]
    },
    {
     "name": "stderr",
     "output_type": "stream",
     "text": [
      "[INFO 03-01 18:34:32] ax.early_stopping.strategies.percentile: Considering trial 12 for early stopping.\n"
     ]
    },
    {
     "name": "stderr",
     "output_type": "stream",
     "text": [
      "[INFO 03-01 18:34:32] ax.early_stopping.strategies.base: Last progression of Trial 12 is 0.3999466666666667.\n"
     ]
    },
    {
     "name": "stderr",
     "output_type": "stream",
     "text": [
      "[INFO 03-01 18:34:32] ax.early_stopping.strategies.percentile: Early stopping objective at last progression is:\n",
      "0     0.968049\n",
      "1     0.886844\n",
      "2     0.940627\n",
      "3     0.966532\n",
      "4     0.946419\n",
      "5     0.968146\n",
      "6     0.946698\n",
      "7     0.966843\n",
      "8     0.962369\n",
      "9     0.960863\n",
      "10    0.965990\n",
      "11    0.961767\n",
      "12    0.963500\n",
      "Name: 0.3999466666666667, dtype: float64.\n"
     ]
    },
    {
     "name": "stderr",
     "output_type": "stream",
     "text": [
      "[INFO 03-01 18:34:32] ax.early_stopping.strategies.percentile: Early stopping decision for 12: True. Reason: Trial objective value 0.9635002017021179 is worse than 70.0-th percentile (0.9662068843841553) across comparable trials.\n"
     ]
    },
    {
     "name": "stderr",
     "output_type": "stream",
     "text": [
      "[INFO 03-01 18:34:32] ax.early_stopping.strategies.percentile: Considering trial 13 for early stopping.\n"
     ]
    },
    {
     "name": "stderr",
     "output_type": "stream",
     "text": [
      "[INFO 03-01 18:34:32] ax.early_stopping.strategies.base: Last progression of Trial 13 is 0.29994666666666664.\n"
     ]
    },
    {
     "name": "stderr",
     "output_type": "stream",
     "text": [
      "[INFO 03-01 18:34:32] ax.early_stopping.strategies.base: Trial 13's most recent progression (0.29994666666666664) that is available for metric val_acc falls out of the min/max_progression range (0.3, None). Not early stopping this trial.\n"
     ]
    },
    {
     "name": "stderr",
     "output_type": "stream",
     "text": [
      "[INFO 03-01 18:34:32] ax.early_stopping.strategies.percentile: Considering trial 14 for early stopping.\n"
     ]
    },
    {
     "name": "stderr",
     "output_type": "stream",
     "text": [
      "[INFO 03-01 18:34:32] ax.early_stopping.strategies.base: There is not yet any data associated with trial 14 and metric val_acc. Not early stopping this trial.\n"
     ]
    },
    {
     "name": "stderr",
     "output_type": "stream",
     "text": [
      "[INFO 03-01 18:34:33] Scheduler: Done submitting trials, waiting for remaining 2 running trials...\n"
     ]
    },
    {
     "name": "stderr",
     "output_type": "stream",
     "text": [
      "[WARNING 03-01 18:34:33] Scheduler: Both `init_seconds_between_polls` and `early_stopping_strategy supplied. `init_seconds_between_polls=1` will be overrridden by `early_stopping_strategy.seconds_between_polls=10` and polling will take place at a constant rate.\n"
     ]
    },
    {
     "name": "stderr",
     "output_type": "stream",
     "text": [
      "[INFO 03-01 18:34:33] Scheduler: Fetching data for newly completed trials: [].\n"
     ]
    },
    {
     "name": "stderr",
     "output_type": "stream",
     "text": [
      "[INFO 03-01 18:34:33] Scheduler: Fetching data for trials: 13 - 14 because some metrics on experiment are available while trials are running.\n"
     ]
    },
    {
     "name": "stderr",
     "output_type": "stream",
     "text": [
      "[INFO 03-01 18:34:33] ax.metrics.curve: val_acc not yet present in curves from /tmp/tmp3o86bad6/14. Returning without this metric.\n"
     ]
    },
    {
     "name": "stderr",
     "output_type": "stream",
     "text": [
      "/tmp/tmp.KbiES6I0qN/Ax-main/ax/core/map_data.py:188: FutureWarning: The behavior of DataFrame concatenation with empty or all-NA entries is deprecated. In a future version, this will no longer exclude empty or all-NA columns when determining the result dtypes. To retain the old behavior, exclude the relevant entries before the concat operation.\n",
      "  df = pd.concat(\n",
      "/tmp/tmp.KbiES6I0qN/Ax-main/ax/core/map_data.py:188: FutureWarning: The behavior of DataFrame concatenation with empty or all-NA entries is deprecated. In a future version, this will no longer exclude empty or all-NA columns when determining the result dtypes. To retain the old behavior, exclude the relevant entries before the concat operation.\n",
      "  df = pd.concat(\n",
      "[INFO 03-01 18:34:33] ax.early_stopping.strategies.base: Last progression of any candidate for trial stopping is 0.29994666666666664.\n"
     ]
    },
    {
     "name": "stderr",
     "output_type": "stream",
     "text": [
      "[INFO 03-01 18:34:33] ax.early_stopping.strategies.base: No trials have reached 0.3. Not stopping any trials.\n"
     ]
    },
    {
     "name": "stderr",
     "output_type": "stream",
     "text": [
      "[INFO 03-01 18:34:33] Scheduler: Waiting for completed trials (for 10 sec, currently running trials: 2).\n"
     ]
    },
    {
     "name": "stderr",
     "output_type": "stream",
     "text": [
      "[INFO 03-01 18:34:43] Scheduler: Fetching data for newly completed trials: [].\n"
     ]
    },
    {
     "name": "stderr",
     "output_type": "stream",
     "text": [
      "[INFO 03-01 18:34:43] Scheduler: Fetching data for trials: 13 - 14 because some metrics on experiment are available while trials are running.\n"
     ]
    },
    {
     "name": "stderr",
     "output_type": "stream",
     "text": [
      "[INFO 03-01 18:34:43] ax.metrics.curve: val_acc not yet present in curves from /tmp/tmp3o86bad6/14. Returning without this metric.\n"
     ]
    },
    {
     "name": "stderr",
     "output_type": "stream",
     "text": [
      "/tmp/tmp.KbiES6I0qN/Ax-main/ax/core/map_data.py:188: FutureWarning: The behavior of DataFrame concatenation with empty or all-NA entries is deprecated. In a future version, this will no longer exclude empty or all-NA columns when determining the result dtypes. To retain the old behavior, exclude the relevant entries before the concat operation.\n",
      "  df = pd.concat(\n",
      "/tmp/tmp.KbiES6I0qN/Ax-main/ax/core/map_data.py:188: FutureWarning: The behavior of DataFrame concatenation with empty or all-NA entries is deprecated. In a future version, this will no longer exclude empty or all-NA columns when determining the result dtypes. To retain the old behavior, exclude the relevant entries before the concat operation.\n",
      "  df = pd.concat(\n",
      "[INFO 03-01 18:34:43] ax.early_stopping.strategies.base: Last progression of any candidate for trial stopping is 0.29994666666666664.\n"
     ]
    },
    {
     "name": "stderr",
     "output_type": "stream",
     "text": [
      "[INFO 03-01 18:34:43] ax.early_stopping.strategies.base: No trials have reached 0.3. Not stopping any trials.\n"
     ]
    },
    {
     "name": "stderr",
     "output_type": "stream",
     "text": [
      "[INFO 03-01 18:34:43] Scheduler: Waiting for completed trials (for 10 sec, currently running trials: 2).\n"
     ]
    },
    {
     "name": "stderr",
     "output_type": "stream",
     "text": [
      "[INFO 03-01 18:34:53] Scheduler: Fetching data for newly completed trials: [].\n"
     ]
    },
    {
     "name": "stderr",
     "output_type": "stream",
     "text": [
      "[INFO 03-01 18:34:53] Scheduler: Fetching data for trials: 13 - 14 because some metrics on experiment are available while trials are running.\n"
     ]
    },
    {
     "name": "stderr",
     "output_type": "stream",
     "text": [
      "/tmp/tmp.KbiES6I0qN/Ax-main/ax/core/map_data.py:188: FutureWarning: The behavior of DataFrame concatenation with empty or all-NA entries is deprecated. In a future version, this will no longer exclude empty or all-NA columns when determining the result dtypes. To retain the old behavior, exclude the relevant entries before the concat operation.\n",
      "  df = pd.concat(\n",
      "/tmp/tmp.KbiES6I0qN/Ax-main/ax/core/map_data.py:188: FutureWarning: The behavior of DataFrame concatenation with empty or all-NA entries is deprecated. In a future version, this will no longer exclude empty or all-NA columns when determining the result dtypes. To retain the old behavior, exclude the relevant entries before the concat operation.\n",
      "  df = pd.concat(\n",
      "[INFO 03-01 18:34:53] ax.early_stopping.strategies.base: Last progression of any candidate for trial stopping is 0.3999466666666667.\n"
     ]
    },
    {
     "name": "stderr",
     "output_type": "stream",
     "text": [
      "[INFO 03-01 18:34:53] ax.early_stopping.utils: Got exception `x and y arrays must have at least 2 entries` during interpolation. Using uninterpolated values instead.\n"
     ]
    },
    {
     "name": "stderr",
     "output_type": "stream",
     "text": [
      "[INFO 03-01 18:34:53] ax.early_stopping.strategies.percentile: Considering trial 13 for early stopping.\n"
     ]
    },
    {
     "name": "stderr",
     "output_type": "stream",
     "text": [
      "[INFO 03-01 18:34:53] ax.early_stopping.strategies.base: Last progression of Trial 13 is 0.3999466666666667.\n"
     ]
    },
    {
     "name": "stderr",
     "output_type": "stream",
     "text": [
      "[INFO 03-01 18:34:53] ax.early_stopping.strategies.percentile: Early stopping objective at last progression is:\n",
      "0     0.968049\n",
      "1     0.886844\n",
      "2     0.940627\n",
      "3     0.966532\n",
      "4     0.946419\n",
      "5     0.968146\n",
      "6     0.946698\n",
      "7     0.966843\n",
      "8     0.962369\n",
      "9     0.960863\n",
      "10    0.965990\n",
      "11    0.961767\n",
      "12    0.963500\n",
      "13    0.962738\n",
      "Name: 0.3999466666666667, dtype: float64.\n"
     ]
    },
    {
     "name": "stderr",
     "output_type": "stream",
     "text": [
      "[INFO 03-01 18:34:53] ax.early_stopping.strategies.percentile: Early stopping decision for 13: True. Reason: Trial objective value 0.962737500667572 is worse than 70.0-th percentile (0.9660444498062134) across comparable trials.\n"
     ]
    },
    {
     "name": "stderr",
     "output_type": "stream",
     "text": [
      "[INFO 03-01 18:34:53] ax.early_stopping.strategies.percentile: Considering trial 14 for early stopping.\n"
     ]
    },
    {
     "name": "stderr",
     "output_type": "stream",
     "text": [
      "[INFO 03-01 18:34:53] ax.early_stopping.strategies.base: Last progression of Trial 14 is 0.09994666666666667.\n"
     ]
    },
    {
     "name": "stderr",
     "output_type": "stream",
     "text": [
      "[INFO 03-01 18:34:53] ax.early_stopping.strategies.base: Trial 14's most recent progression (0.09994666666666667) that is available for metric val_acc falls out of the min/max_progression range (0.3, None). Not early stopping this trial.\n"
     ]
    },
    {
     "name": "stderr",
     "output_type": "stream",
     "text": [
      "[WARNING 03-01 18:34:54] Scheduler: Both `init_seconds_between_polls` and `early_stopping_strategy supplied. `init_seconds_between_polls=1` will be overrridden by `early_stopping_strategy.seconds_between_polls=10` and polling will take place at a constant rate.\n"
     ]
    },
    {
     "name": "stderr",
     "output_type": "stream",
     "text": [
      "[INFO 03-01 18:34:54] Scheduler: Fetching data for newly completed trials: [].\n"
     ]
    },
    {
     "name": "stderr",
     "output_type": "stream",
     "text": [
      "[INFO 03-01 18:34:54] Scheduler: Fetching data for trials: [14] because some metrics on experiment are available while trials are running.\n"
     ]
    },
    {
     "name": "stderr",
     "output_type": "stream",
     "text": [
      "/tmp/tmp.KbiES6I0qN/Ax-main/ax/core/map_data.py:188: FutureWarning: The behavior of DataFrame concatenation with empty or all-NA entries is deprecated. In a future version, this will no longer exclude empty or all-NA columns when determining the result dtypes. To retain the old behavior, exclude the relevant entries before the concat operation.\n",
      "  df = pd.concat(\n",
      "/tmp/tmp.KbiES6I0qN/Ax-main/ax/core/map_data.py:188: FutureWarning: The behavior of DataFrame concatenation with empty or all-NA entries is deprecated. In a future version, this will no longer exclude empty or all-NA columns when determining the result dtypes. To retain the old behavior, exclude the relevant entries before the concat operation.\n",
      "  df = pd.concat(\n",
      "[INFO 03-01 18:34:54] ax.early_stopping.strategies.base: Last progression of any candidate for trial stopping is 0.09994666666666667.\n"
     ]
    },
    {
     "name": "stderr",
     "output_type": "stream",
     "text": [
      "[INFO 03-01 18:34:54] ax.early_stopping.strategies.base: No trials have reached 0.3. Not stopping any trials.\n"
     ]
    },
    {
     "name": "stderr",
     "output_type": "stream",
     "text": [
      "[INFO 03-01 18:34:54] Scheduler: Waiting for completed trials (for 10 sec, currently running trials: 1).\n"
     ]
    },
    {
     "name": "stderr",
     "output_type": "stream",
     "text": [
      "[INFO 03-01 18:35:04] Scheduler: Fetching data for newly completed trials: [].\n"
     ]
    },
    {
     "name": "stderr",
     "output_type": "stream",
     "text": [
      "[INFO 03-01 18:35:04] Scheduler: Fetching data for trials: [14] because some metrics on experiment are available while trials are running.\n"
     ]
    },
    {
     "name": "stderr",
     "output_type": "stream",
     "text": [
      "/tmp/tmp.KbiES6I0qN/Ax-main/ax/core/map_data.py:188: FutureWarning: The behavior of DataFrame concatenation with empty or all-NA entries is deprecated. In a future version, this will no longer exclude empty or all-NA columns when determining the result dtypes. To retain the old behavior, exclude the relevant entries before the concat operation.\n",
      "  df = pd.concat(\n",
      "/tmp/tmp.KbiES6I0qN/Ax-main/ax/core/map_data.py:188: FutureWarning: The behavior of DataFrame concatenation with empty or all-NA entries is deprecated. In a future version, this will no longer exclude empty or all-NA columns when determining the result dtypes. To retain the old behavior, exclude the relevant entries before the concat operation.\n",
      "  df = pd.concat(\n",
      "[INFO 03-01 18:35:04] ax.early_stopping.strategies.base: Last progression of any candidate for trial stopping is 0.09994666666666667.\n"
     ]
    },
    {
     "name": "stderr",
     "output_type": "stream",
     "text": [
      "[INFO 03-01 18:35:04] ax.early_stopping.strategies.base: No trials have reached 0.3. Not stopping any trials.\n"
     ]
    },
    {
     "name": "stderr",
     "output_type": "stream",
     "text": [
      "[INFO 03-01 18:35:04] Scheduler: Waiting for completed trials (for 10 sec, currently running trials: 1).\n"
     ]
    },
    {
     "name": "stderr",
     "output_type": "stream",
     "text": [
      "[INFO 03-01 18:35:14] Scheduler: Fetching data for newly completed trials: [].\n"
     ]
    },
    {
     "name": "stderr",
     "output_type": "stream",
     "text": [
      "[INFO 03-01 18:35:14] Scheduler: Fetching data for trials: [14] because some metrics on experiment are available while trials are running.\n"
     ]
    },
    {
     "name": "stderr",
     "output_type": "stream",
     "text": [
      "/tmp/tmp.KbiES6I0qN/Ax-main/ax/core/map_data.py:188: FutureWarning: The behavior of DataFrame concatenation with empty or all-NA entries is deprecated. In a future version, this will no longer exclude empty or all-NA columns when determining the result dtypes. To retain the old behavior, exclude the relevant entries before the concat operation.\n",
      "  df = pd.concat(\n",
      "/tmp/tmp.KbiES6I0qN/Ax-main/ax/core/map_data.py:188: FutureWarning: The behavior of DataFrame concatenation with empty or all-NA entries is deprecated. In a future version, this will no longer exclude empty or all-NA columns when determining the result dtypes. To retain the old behavior, exclude the relevant entries before the concat operation.\n",
      "  df = pd.concat(\n",
      "[INFO 03-01 18:35:14] ax.early_stopping.strategies.base: Last progression of any candidate for trial stopping is 0.19994666666666666.\n"
     ]
    },
    {
     "name": "stderr",
     "output_type": "stream",
     "text": [
      "[INFO 03-01 18:35:14] ax.early_stopping.strategies.base: No trials have reached 0.3. Not stopping any trials.\n"
     ]
    },
    {
     "name": "stderr",
     "output_type": "stream",
     "text": [
      "[INFO 03-01 18:35:14] Scheduler: Waiting for completed trials (for 10 sec, currently running trials: 1).\n"
     ]
    },
    {
     "name": "stderr",
     "output_type": "stream",
     "text": [
      "[INFO 03-01 18:35:24] Scheduler: Fetching data for newly completed trials: [].\n"
     ]
    },
    {
     "name": "stderr",
     "output_type": "stream",
     "text": [
      "[INFO 03-01 18:35:24] Scheduler: Fetching data for trials: [14] because some metrics on experiment are available while trials are running.\n"
     ]
    },
    {
     "name": "stderr",
     "output_type": "stream",
     "text": [
      "/tmp/tmp.KbiES6I0qN/Ax-main/ax/core/map_data.py:188: FutureWarning: The behavior of DataFrame concatenation with empty or all-NA entries is deprecated. In a future version, this will no longer exclude empty or all-NA columns when determining the result dtypes. To retain the old behavior, exclude the relevant entries before the concat operation.\n",
      "  df = pd.concat(\n",
      "/tmp/tmp.KbiES6I0qN/Ax-main/ax/core/map_data.py:188: FutureWarning: The behavior of DataFrame concatenation with empty or all-NA entries is deprecated. In a future version, this will no longer exclude empty or all-NA columns when determining the result dtypes. To retain the old behavior, exclude the relevant entries before the concat operation.\n",
      "  df = pd.concat(\n",
      "[INFO 03-01 18:35:24] ax.early_stopping.strategies.base: Last progression of any candidate for trial stopping is 0.29994666666666664.\n"
     ]
    },
    {
     "name": "stderr",
     "output_type": "stream",
     "text": [
      "[INFO 03-01 18:35:24] ax.early_stopping.strategies.base: No trials have reached 0.3. Not stopping any trials.\n"
     ]
    },
    {
     "name": "stderr",
     "output_type": "stream",
     "text": [
      "[INFO 03-01 18:35:24] Scheduler: Waiting for completed trials (for 10 sec, currently running trials: 1).\n"
     ]
    },
    {
     "name": "stderr",
     "output_type": "stream",
     "text": [
      "[INFO 03-01 18:35:34] Scheduler: Fetching data for newly completed trials: [].\n"
     ]
    },
    {
     "name": "stderr",
     "output_type": "stream",
     "text": [
      "[INFO 03-01 18:35:34] Scheduler: Fetching data for trials: [14] because some metrics on experiment are available while trials are running.\n"
     ]
    },
    {
     "name": "stderr",
     "output_type": "stream",
     "text": [
      "/tmp/tmp.KbiES6I0qN/Ax-main/ax/core/map_data.py:188: FutureWarning: The behavior of DataFrame concatenation with empty or all-NA entries is deprecated. In a future version, this will no longer exclude empty or all-NA columns when determining the result dtypes. To retain the old behavior, exclude the relevant entries before the concat operation.\n",
      "  df = pd.concat(\n",
      "/tmp/tmp.KbiES6I0qN/Ax-main/ax/core/map_data.py:188: FutureWarning: The behavior of DataFrame concatenation with empty or all-NA entries is deprecated. In a future version, this will no longer exclude empty or all-NA columns when determining the result dtypes. To retain the old behavior, exclude the relevant entries before the concat operation.\n",
      "  df = pd.concat(\n",
      "[INFO 03-01 18:35:34] ax.early_stopping.strategies.base: Last progression of any candidate for trial stopping is 0.29994666666666664.\n"
     ]
    },
    {
     "name": "stderr",
     "output_type": "stream",
     "text": [
      "[INFO 03-01 18:35:34] ax.early_stopping.strategies.base: No trials have reached 0.3. Not stopping any trials.\n"
     ]
    },
    {
     "name": "stderr",
     "output_type": "stream",
     "text": [
      "[INFO 03-01 18:35:34] Scheduler: Waiting for completed trials (for 10 sec, currently running trials: 1).\n"
     ]
    },
    {
     "name": "stderr",
     "output_type": "stream",
     "text": [
      "[INFO 03-01 18:35:44] Scheduler: Fetching data for newly completed trials: [].\n"
     ]
    },
    {
     "name": "stderr",
     "output_type": "stream",
     "text": [
      "[INFO 03-01 18:35:44] Scheduler: Fetching data for trials: [14] because some metrics on experiment are available while trials are running.\n"
     ]
    },
    {
     "name": "stderr",
     "output_type": "stream",
     "text": [
      "/tmp/tmp.KbiES6I0qN/Ax-main/ax/core/map_data.py:188: FutureWarning: The behavior of DataFrame concatenation with empty or all-NA entries is deprecated. In a future version, this will no longer exclude empty or all-NA columns when determining the result dtypes. To retain the old behavior, exclude the relevant entries before the concat operation.\n",
      "  df = pd.concat(\n",
      "/tmp/tmp.KbiES6I0qN/Ax-main/ax/core/map_data.py:188: FutureWarning: The behavior of DataFrame concatenation with empty or all-NA entries is deprecated. In a future version, this will no longer exclude empty or all-NA columns when determining the result dtypes. To retain the old behavior, exclude the relevant entries before the concat operation.\n",
      "  df = pd.concat(\n",
      "[INFO 03-01 18:35:44] ax.early_stopping.strategies.base: Last progression of any candidate for trial stopping is 0.3999466666666667.\n"
     ]
    },
    {
     "name": "stderr",
     "output_type": "stream",
     "text": [
      "[INFO 03-01 18:35:44] ax.early_stopping.strategies.percentile: Considering trial 14 for early stopping.\n"
     ]
    },
    {
     "name": "stderr",
     "output_type": "stream",
     "text": [
      "[INFO 03-01 18:35:44] ax.early_stopping.strategies.base: Last progression of Trial 14 is 0.3999466666666667.\n"
     ]
    },
    {
     "name": "stderr",
     "output_type": "stream",
     "text": [
      "[INFO 03-01 18:35:44] ax.early_stopping.strategies.percentile: Early stopping objective at last progression is:\n",
      "0     0.968049\n",
      "1     0.886844\n",
      "2     0.940627\n",
      "3     0.966532\n",
      "4     0.946419\n",
      "5     0.968146\n",
      "6     0.946698\n",
      "7     0.966843\n",
      "8     0.962369\n",
      "9     0.960863\n",
      "10    0.965990\n",
      "11    0.961767\n",
      "12    0.963500\n",
      "13    0.962738\n",
      "14    0.963592\n",
      "Name: 0.3999466666666667, dtype: float64.\n"
     ]
    },
    {
     "name": "stderr",
     "output_type": "stream",
     "text": [
      "[INFO 03-01 18:35:44] ax.early_stopping.strategies.percentile: Early stopping decision for 14: True. Reason: Trial objective value 0.963591992855072 is worse than 70.0-th percentile (0.9655106425285339) across comparable trials.\n"
     ]
    },
    {
     "name": "stderr",
     "output_type": "stream",
     "text": [
      "[WARNING 03-01 18:35:45] Scheduler: Both `init_seconds_between_polls` and `early_stopping_strategy supplied. `init_seconds_between_polls=1` will be overrridden by `early_stopping_strategy.seconds_between_polls=10` and polling will take place at a constant rate.\n"
     ]
    },
    {
     "name": "stdout",
     "output_type": "stream",
     "text": [
      "CPU times: user 1min 1s, sys: 1.68 s, total: 1min 3s\n",
      "Wall time: 31min 28s\n"
     ]
    },
    {
     "data": {
      "text/plain": [
       "OptimizationResult()"
      ]
     },
     "execution_count": 14,
     "metadata": {},
     "output_type": "execute_result"
    }
   ],
   "source": [
    "%%time\n",
    "scheduler.run_all_trials()"
   ]
  },
  {
   "attachments": {},
   "cell_type": "markdown",
   "id": "8c5afbe8",
   "metadata": {
    "papermill": {
     "duration": 0.066957,
     "end_time": "2024-03-01T18:35:45.497172",
     "exception": false,
     "start_time": "2024-03-01T18:35:45.430215",
     "status": "completed"
    },
    "tags": []
   },
   "source": [
    "## Results\n",
    "\n",
    "First, we examine the data stored on the experiment. This shows that each trial is associated with an entire learning curve, represented by the column \"steps\"."
   ]
  },
  {
   "cell_type": "code",
   "execution_count": 15,
   "id": "764365f0",
   "metadata": {
    "execution": {
     "iopub.execute_input": "2024-03-01T18:35:45.675039Z",
     "iopub.status.busy": "2024-03-01T18:35:45.674687Z",
     "iopub.status.idle": "2024-03-01T18:35:45.692674Z",
     "shell.execute_reply": "2024-03-01T18:35:45.692021Z"
    },
    "papermill": {
     "duration": 0.128656,
     "end_time": "2024-03-01T18:35:45.694034",
     "exception": false,
     "start_time": "2024-03-01T18:35:45.565378",
     "status": "completed"
    },
    "tags": []
   },
   "outputs": [
    {
     "name": "stderr",
     "output_type": "stream",
     "text": [
      "/tmp/tmp.KbiES6I0qN/Ax-main/ax/core/map_data.py:188: FutureWarning: The behavior of DataFrame concatenation with empty or all-NA entries is deprecated. In a future version, this will no longer exclude empty or all-NA columns when determining the result dtypes. To retain the old behavior, exclude the relevant entries before the concat operation.\n",
      "  df = pd.concat(\n"
     ]
    },
    {
     "data": {
      "text/html": [
       "<div>\n",
       "<style scoped>\n",
       "    .dataframe tbody tr th:only-of-type {\n",
       "        vertical-align: middle;\n",
       "    }\n",
       "\n",
       "    .dataframe tbody tr th {\n",
       "        vertical-align: top;\n",
       "    }\n",
       "\n",
       "    .dataframe thead th {\n",
       "        text-align: right;\n",
       "    }\n",
       "</style>\n",
       "<table border=\"1\" class=\"dataframe\">\n",
       "  <thead>\n",
       "    <tr style=\"text-align: right;\">\n",
       "      <th></th>\n",
       "      <th>arm_name</th>\n",
       "      <th>metric_name</th>\n",
       "      <th>mean</th>\n",
       "      <th>sem</th>\n",
       "      <th>trial_index</th>\n",
       "      <th>steps</th>\n",
       "    </tr>\n",
       "  </thead>\n",
       "  <tbody>\n",
       "    <tr>\n",
       "      <th>0</th>\n",
       "      <td>0_0</td>\n",
       "      <td>val_acc</td>\n",
       "      <td>0.937576</td>\n",
       "      <td>NaN</td>\n",
       "      <td>0</td>\n",
       "      <td>1874.0</td>\n",
       "    </tr>\n",
       "    <tr>\n",
       "      <th>1</th>\n",
       "      <td>0_0</td>\n",
       "      <td>val_acc</td>\n",
       "      <td>0.954682</td>\n",
       "      <td>NaN</td>\n",
       "      <td>0</td>\n",
       "      <td>3749.0</td>\n",
       "    </tr>\n",
       "    <tr>\n",
       "      <th>2</th>\n",
       "      <td>0_0</td>\n",
       "      <td>val_acc</td>\n",
       "      <td>0.963626</td>\n",
       "      <td>NaN</td>\n",
       "      <td>0</td>\n",
       "      <td>5624.0</td>\n",
       "    </tr>\n",
       "    <tr>\n",
       "      <th>3</th>\n",
       "      <td>0_0</td>\n",
       "      <td>val_acc</td>\n",
       "      <td>0.968049</td>\n",
       "      <td>NaN</td>\n",
       "      <td>0</td>\n",
       "      <td>7499.0</td>\n",
       "    </tr>\n",
       "    <tr>\n",
       "      <th>4</th>\n",
       "      <td>0_0</td>\n",
       "      <td>val_acc</td>\n",
       "      <td>0.970439</td>\n",
       "      <td>NaN</td>\n",
       "      <td>0</td>\n",
       "      <td>9374.0</td>\n",
       "    </tr>\n",
       "    <tr>\n",
       "      <th>5</th>\n",
       "      <td>0_0</td>\n",
       "      <td>val_acc</td>\n",
       "      <td>0.971392</td>\n",
       "      <td>NaN</td>\n",
       "      <td>0</td>\n",
       "      <td>11249.0</td>\n",
       "    </tr>\n",
       "    <tr>\n",
       "      <th>6</th>\n",
       "      <td>0_0</td>\n",
       "      <td>val_acc</td>\n",
       "      <td>0.972696</td>\n",
       "      <td>NaN</td>\n",
       "      <td>0</td>\n",
       "      <td>13124.0</td>\n",
       "    </tr>\n",
       "    <tr>\n",
       "      <th>7</th>\n",
       "      <td>0_0</td>\n",
       "      <td>val_acc</td>\n",
       "      <td>0.973414</td>\n",
       "      <td>NaN</td>\n",
       "      <td>0</td>\n",
       "      <td>14999.0</td>\n",
       "    </tr>\n",
       "    <tr>\n",
       "      <th>8</th>\n",
       "      <td>0_0</td>\n",
       "      <td>val_acc</td>\n",
       "      <td>0.974881</td>\n",
       "      <td>NaN</td>\n",
       "      <td>0</td>\n",
       "      <td>16874.0</td>\n",
       "    </tr>\n",
       "    <tr>\n",
       "      <th>9</th>\n",
       "      <td>0_0</td>\n",
       "      <td>val_acc</td>\n",
       "      <td>0.976351</td>\n",
       "      <td>NaN</td>\n",
       "      <td>0</td>\n",
       "      <td>18749.0</td>\n",
       "    </tr>\n",
       "  </tbody>\n",
       "</table>\n",
       "</div>"
      ],
      "text/plain": [
       "  arm_name metric_name      mean  sem  trial_index    steps\n",
       "0      0_0     val_acc  0.937576  NaN            0   1874.0\n",
       "1      0_0     val_acc  0.954682  NaN            0   3749.0\n",
       "2      0_0     val_acc  0.963626  NaN            0   5624.0\n",
       "3      0_0     val_acc  0.968049  NaN            0   7499.0\n",
       "4      0_0     val_acc  0.970439  NaN            0   9374.0\n",
       "5      0_0     val_acc  0.971392  NaN            0  11249.0\n",
       "6      0_0     val_acc  0.972696  NaN            0  13124.0\n",
       "7      0_0     val_acc  0.973414  NaN            0  14999.0\n",
       "8      0_0     val_acc  0.974881  NaN            0  16874.0\n",
       "9      0_0     val_acc  0.976351  NaN            0  18749.0"
      ]
     },
     "execution_count": 15,
     "metadata": {},
     "output_type": "execute_result"
    }
   ],
   "source": [
    "experiment.lookup_data().map_df.head(n=10)"
   ]
  },
  {
   "attachments": {},
   "cell_type": "markdown",
   "id": "0033ed2e",
   "metadata": {
    "papermill": {
     "duration": 0.070197,
     "end_time": "2024-03-01T18:35:45.834064",
     "exception": false,
     "start_time": "2024-03-01T18:35:45.763867",
     "status": "completed"
    },
    "tags": []
   },
   "source": [
    "Below is a summary of the experiment, showing that a portion of trials have been early stopped."
   ]
  },
  {
   "cell_type": "code",
   "execution_count": 16,
   "id": "00f2b35f",
   "metadata": {
    "execution": {
     "iopub.execute_input": "2024-03-01T18:35:45.982789Z",
     "iopub.status.busy": "2024-03-01T18:35:45.982154Z",
     "iopub.status.idle": "2024-03-01T18:35:46.014549Z",
     "shell.execute_reply": "2024-03-01T18:35:46.013858Z"
    },
    "papermill": {
     "duration": 0.109023,
     "end_time": "2024-03-01T18:35:46.015934",
     "exception": false,
     "start_time": "2024-03-01T18:35:45.906911",
     "status": "completed"
    },
    "tags": []
   },
   "outputs": [
    {
     "name": "stderr",
     "output_type": "stream",
     "text": [
      "/tmp/tmp.KbiES6I0qN/Ax-main/ax/core/map_data.py:188: FutureWarning: The behavior of DataFrame concatenation with empty or all-NA entries is deprecated. In a future version, this will no longer exclude empty or all-NA columns when determining the result dtypes. To retain the old behavior, exclude the relevant entries before the concat operation.\n",
      "  df = pd.concat(\n",
      "[WARNING 03-01 18:35:45] ax.service.utils.report_utils: Column reason missing for all trials. Not appending column.\n"
     ]
    },
    {
     "data": {
      "text/html": [
       "<div>\n",
       "<style scoped>\n",
       "    .dataframe tbody tr th:only-of-type {\n",
       "        vertical-align: middle;\n",
       "    }\n",
       "\n",
       "    .dataframe tbody tr th {\n",
       "        vertical-align: top;\n",
       "    }\n",
       "\n",
       "    .dataframe thead th {\n",
       "        text-align: right;\n",
       "    }\n",
       "</style>\n",
       "<table border=\"1\" class=\"dataframe\">\n",
       "  <thead>\n",
       "    <tr style=\"text-align: right;\">\n",
       "      <th></th>\n",
       "      <th>trial_index</th>\n",
       "      <th>arm_name</th>\n",
       "      <th>trial_status</th>\n",
       "      <th>generation_method</th>\n",
       "      <th>val_acc</th>\n",
       "      <th>hidden_size_1</th>\n",
       "      <th>hidden_size_2</th>\n",
       "      <th>learning_rate</th>\n",
       "      <th>dropout</th>\n",
       "    </tr>\n",
       "  </thead>\n",
       "  <tbody>\n",
       "    <tr>\n",
       "      <th>0</th>\n",
       "      <td>0</td>\n",
       "      <td>0_0</td>\n",
       "      <td>COMPLETED</td>\n",
       "      <td>Sobol</td>\n",
       "      <td>0.976351</td>\n",
       "      <td>112</td>\n",
       "      <td>27</td>\n",
       "      <td>0.000426</td>\n",
       "      <td>0.052168</td>\n",
       "    </tr>\n",
       "    <tr>\n",
       "      <th>1</th>\n",
       "      <td>1</td>\n",
       "      <td>1_0</td>\n",
       "      <td>COMPLETED</td>\n",
       "      <td>Sobol</td>\n",
       "      <td>0.897018</td>\n",
       "      <td>23</td>\n",
       "      <td>16</td>\n",
       "      <td>0.001847</td>\n",
       "      <td>0.448658</td>\n",
       "    </tr>\n",
       "    <tr>\n",
       "      <th>2</th>\n",
       "      <td>2</td>\n",
       "      <td>2_0</td>\n",
       "      <td>COMPLETED</td>\n",
       "      <td>Sobol</td>\n",
       "      <td>0.965397</td>\n",
       "      <td>74</td>\n",
       "      <td>113</td>\n",
       "      <td>0.002271</td>\n",
       "      <td>0.170683</td>\n",
       "    </tr>\n",
       "    <tr>\n",
       "      <th>3</th>\n",
       "      <td>3</td>\n",
       "      <td>3_0</td>\n",
       "      <td>COMPLETED</td>\n",
       "      <td>Sobol</td>\n",
       "      <td>0.972456</td>\n",
       "      <td>73</td>\n",
       "      <td>64</td>\n",
       "      <td>0.000546</td>\n",
       "      <td>0.175394</td>\n",
       "    </tr>\n",
       "    <tr>\n",
       "      <th>4</th>\n",
       "      <td>4</td>\n",
       "      <td>4_0</td>\n",
       "      <td>COMPLETED</td>\n",
       "      <td>Sobol</td>\n",
       "      <td>0.947862</td>\n",
       "      <td>23</td>\n",
       "      <td>99</td>\n",
       "      <td>0.001622</td>\n",
       "      <td>0.126724</td>\n",
       "    </tr>\n",
       "    <tr>\n",
       "      <th>5</th>\n",
       "      <td>5</td>\n",
       "      <td>5_0</td>\n",
       "      <td>EARLY_STOPPED</td>\n",
       "      <td>BoTorch</td>\n",
       "      <td>0.959000</td>\n",
       "      <td>119</td>\n",
       "      <td>53</td>\n",
       "      <td>0.000802</td>\n",
       "      <td>0.070037</td>\n",
       "    </tr>\n",
       "    <tr>\n",
       "      <th>6</th>\n",
       "      <td>6</td>\n",
       "      <td>6_0</td>\n",
       "      <td>EARLY_STOPPED</td>\n",
       "      <td>BoTorch</td>\n",
       "      <td>0.946698</td>\n",
       "      <td>81</td>\n",
       "      <td>33</td>\n",
       "      <td>0.000145</td>\n",
       "      <td>0.113841</td>\n",
       "    </tr>\n",
       "    <tr>\n",
       "      <th>7</th>\n",
       "      <td>7</td>\n",
       "      <td>7_0</td>\n",
       "      <td>EARLY_STOPPED</td>\n",
       "      <td>BoTorch</td>\n",
       "      <td>0.959552</td>\n",
       "      <td>81</td>\n",
       "      <td>26</td>\n",
       "      <td>0.001602</td>\n",
       "      <td>0.086228</td>\n",
       "    </tr>\n",
       "    <tr>\n",
       "      <th>8</th>\n",
       "      <td>8</td>\n",
       "      <td>8_0</td>\n",
       "      <td>EARLY_STOPPED</td>\n",
       "      <td>BoTorch</td>\n",
       "      <td>0.962369</td>\n",
       "      <td>128</td>\n",
       "      <td>27</td>\n",
       "      <td>0.000758</td>\n",
       "      <td>0.145119</td>\n",
       "    </tr>\n",
       "    <tr>\n",
       "      <th>9</th>\n",
       "      <td>9</td>\n",
       "      <td>9_0</td>\n",
       "      <td>EARLY_STOPPED</td>\n",
       "      <td>BoTorch</td>\n",
       "      <td>0.960863</td>\n",
       "      <td>82</td>\n",
       "      <td>44</td>\n",
       "      <td>0.000581</td>\n",
       "      <td>0.000000</td>\n",
       "    </tr>\n",
       "    <tr>\n",
       "      <th>10</th>\n",
       "      <td>10</td>\n",
       "      <td>10_0</td>\n",
       "      <td>EARLY_STOPPED</td>\n",
       "      <td>BoTorch</td>\n",
       "      <td>0.965990</td>\n",
       "      <td>110</td>\n",
       "      <td>18</td>\n",
       "      <td>0.000512</td>\n",
       "      <td>0.000000</td>\n",
       "    </tr>\n",
       "    <tr>\n",
       "      <th>11</th>\n",
       "      <td>11</td>\n",
       "      <td>11_0</td>\n",
       "      <td>EARLY_STOPPED</td>\n",
       "      <td>BoTorch</td>\n",
       "      <td>0.961767</td>\n",
       "      <td>87</td>\n",
       "      <td>70</td>\n",
       "      <td>0.001064</td>\n",
       "      <td>0.258528</td>\n",
       "    </tr>\n",
       "    <tr>\n",
       "      <th>12</th>\n",
       "      <td>12</td>\n",
       "      <td>12_0</td>\n",
       "      <td>EARLY_STOPPED</td>\n",
       "      <td>BoTorch</td>\n",
       "      <td>0.963500</td>\n",
       "      <td>69</td>\n",
       "      <td>116</td>\n",
       "      <td>0.000589</td>\n",
       "      <td>0.129714</td>\n",
       "    </tr>\n",
       "    <tr>\n",
       "      <th>13</th>\n",
       "      <td>13</td>\n",
       "      <td>13_0</td>\n",
       "      <td>EARLY_STOPPED</td>\n",
       "      <td>BoTorch</td>\n",
       "      <td>0.962738</td>\n",
       "      <td>78</td>\n",
       "      <td>31</td>\n",
       "      <td>0.000551</td>\n",
       "      <td>0.134143</td>\n",
       "    </tr>\n",
       "    <tr>\n",
       "      <th>14</th>\n",
       "      <td>14</td>\n",
       "      <td>14_0</td>\n",
       "      <td>EARLY_STOPPED</td>\n",
       "      <td>BoTorch</td>\n",
       "      <td>0.963592</td>\n",
       "      <td>128</td>\n",
       "      <td>27</td>\n",
       "      <td>0.000536</td>\n",
       "      <td>0.000000</td>\n",
       "    </tr>\n",
       "  </tbody>\n",
       "</table>\n",
       "</div>"
      ],
      "text/plain": [
       "    trial_index arm_name   trial_status generation_method   val_acc  \\\n",
       "0             0      0_0      COMPLETED             Sobol  0.976351   \n",
       "1             1      1_0      COMPLETED             Sobol  0.897018   \n",
       "2             2      2_0      COMPLETED             Sobol  0.965397   \n",
       "3             3      3_0      COMPLETED             Sobol  0.972456   \n",
       "4             4      4_0      COMPLETED             Sobol  0.947862   \n",
       "5             5      5_0  EARLY_STOPPED           BoTorch  0.959000   \n",
       "6             6      6_0  EARLY_STOPPED           BoTorch  0.946698   \n",
       "7             7      7_0  EARLY_STOPPED           BoTorch  0.959552   \n",
       "8             8      8_0  EARLY_STOPPED           BoTorch  0.962369   \n",
       "9             9      9_0  EARLY_STOPPED           BoTorch  0.960863   \n",
       "10           10     10_0  EARLY_STOPPED           BoTorch  0.965990   \n",
       "11           11     11_0  EARLY_STOPPED           BoTorch  0.961767   \n",
       "12           12     12_0  EARLY_STOPPED           BoTorch  0.963500   \n",
       "13           13     13_0  EARLY_STOPPED           BoTorch  0.962738   \n",
       "14           14     14_0  EARLY_STOPPED           BoTorch  0.963592   \n",
       "\n",
       "    hidden_size_1  hidden_size_2  learning_rate   dropout  \n",
       "0             112             27       0.000426  0.052168  \n",
       "1              23             16       0.001847  0.448658  \n",
       "2              74            113       0.002271  0.170683  \n",
       "3              73             64       0.000546  0.175394  \n",
       "4              23             99       0.001622  0.126724  \n",
       "5             119             53       0.000802  0.070037  \n",
       "6              81             33       0.000145  0.113841  \n",
       "7              81             26       0.001602  0.086228  \n",
       "8             128             27       0.000758  0.145119  \n",
       "9              82             44       0.000581  0.000000  \n",
       "10            110             18       0.000512  0.000000  \n",
       "11             87             70       0.001064  0.258528  \n",
       "12             69            116       0.000589  0.129714  \n",
       "13             78             31       0.000551  0.134143  \n",
       "14            128             27       0.000536  0.000000  "
      ]
     },
     "execution_count": 16,
     "metadata": {},
     "output_type": "execute_result"
    }
   ],
   "source": [
    "exp_to_df(experiment)"
   ]
  },
  {
   "attachments": {},
   "cell_type": "markdown",
   "id": "f8909cf2",
   "metadata": {
    "papermill": {
     "duration": 0.071749,
     "end_time": "2024-03-01T18:35:46.160679",
     "exception": false,
     "start_time": "2024-03-01T18:35:46.088930",
     "status": "completed"
    },
    "tags": []
   },
   "source": [
    "We can give a very rough estimate of the amount of computational savings due to early stopping, by looking at the total number of steps used when early stopping is used versus the number of steps used if we ran all trials to completion. Note to do a true comparison, one should run full HPO loops with and without early stopping (as early stopping will influence the model and future points selected by the generation strategy). "
   ]
  },
  {
   "cell_type": "code",
   "execution_count": 17,
   "id": "5abb3ce8",
   "metadata": {
    "execution": {
     "iopub.execute_input": "2024-03-01T18:35:46.301940Z",
     "iopub.status.busy": "2024-03-01T18:35:46.301469Z",
     "iopub.status.idle": "2024-03-01T18:35:46.314705Z",
     "shell.execute_reply": "2024-03-01T18:35:46.314060Z"
    },
    "papermill": {
     "duration": 0.084731,
     "end_time": "2024-03-01T18:35:46.316112",
     "exception": false,
     "start_time": "2024-03-01T18:35:46.231381",
     "status": "completed"
    },
    "tags": []
   },
   "outputs": [
    {
     "name": "stdout",
     "output_type": "stream",
     "text": [
      "A rough estimate of the computational savings is 38.00355555555556%.\n"
     ]
    },
    {
     "name": "stderr",
     "output_type": "stream",
     "text": [
      "/tmp/tmp.KbiES6I0qN/Ax-main/ax/core/map_data.py:188: FutureWarning: The behavior of DataFrame concatenation with empty or all-NA entries is deprecated. In a future version, this will no longer exclude empty or all-NA columns when determining the result dtypes. To retain the old behavior, exclude the relevant entries before the concat operation.\n",
      "  df = pd.concat(\n"
     ]
    }
   ],
   "source": [
    "map_df = experiment.lookup_data().map_df\n",
    "trial_to_max_steps = map_df.groupby(\"trial_index\")[\"steps\"].max()\n",
    "completed_trial_steps = trial_to_max_steps.iloc[0]\n",
    "savings = 1.0 - trial_to_max_steps.sum() / (\n",
    "    completed_trial_steps * len(trial_to_max_steps)\n",
    ")\n",
    "# TODO format nicer\n",
    "print(f\"A rough estimate of the computational savings is {100 * savings}%.\")"
   ]
  },
  {
   "attachments": {},
   "cell_type": "markdown",
   "id": "37df6964",
   "metadata": {
    "papermill": {
     "duration": 0.068841,
     "end_time": "2024-03-01T18:35:46.454630",
     "exception": false,
     "start_time": "2024-03-01T18:35:46.385789",
     "status": "completed"
    },
    "tags": []
   },
   "source": [
    "## Visualizations\n",
    "\n",
    "Finally, we show a visualization of learning curves versus actual elapsed wall time. This helps to illustrate that stopped trials make room for additional trials to be run."
   ]
  },
  {
   "cell_type": "code",
   "execution_count": 18,
   "id": "c88cb8d0",
   "metadata": {
    "execution": {
     "iopub.execute_input": "2024-03-01T18:35:46.593891Z",
     "iopub.status.busy": "2024-03-01T18:35:46.593383Z",
     "iopub.status.idle": "2024-03-01T18:35:46.601924Z",
     "shell.execute_reply": "2024-03-01T18:35:46.601353Z"
    },
    "papermill": {
     "duration": 0.079868,
     "end_time": "2024-03-01T18:35:46.603305",
     "exception": false,
     "start_time": "2024-03-01T18:35:46.523437",
     "status": "completed"
    },
    "tags": []
   },
   "outputs": [],
   "source": [
    "# helper function for getting trial start times\n",
    "def time_started(row):\n",
    "    trial_index = row[\"trial_index\"]\n",
    "    return experiment.trials[trial_index].time_run_started\n",
    "\n",
    "\n",
    "# helper function for getting trial completion times\n",
    "def time_completed(row):\n",
    "    trial_index = row[\"trial_index\"]\n",
    "    return experiment.trials[trial_index].time_completed\n",
    "\n",
    "\n",
    "# helper function for getting relevant data from experiment\n",
    "# with early stopping into useful dfs\n",
    "def early_stopping_exp_to_df(experiment):\n",
    "    trials_df = exp_to_df(experiment)\n",
    "    curve_df = experiment.lookup_data().map_df\n",
    "    training_row_df = (\n",
    "        curve_df.groupby(\"trial_index\").max().reset_index()[[\"trial_index\", \"steps\"]]\n",
    "    )\n",
    "    trials_df = trials_df.merge(training_row_df, on=\"trial_index\")\n",
    "    trials_df[\"time_started\"] = trials_df.apply(func=time_started, axis=1)\n",
    "    trials_df[\"time_completed\"] = trials_df.apply(func=time_completed, axis=1)\n",
    "    start_time = trials_df[\"time_started\"].min()\n",
    "    trials_df[\"time_started_rel\"] = (\n",
    "        trials_df[\"time_started\"] - start_time\n",
    "    ).dt.total_seconds()\n",
    "    trials_df[\"time_completed_rel\"] = (\n",
    "        trials_df[\"time_completed\"] - start_time\n",
    "    ).dt.total_seconds()\n",
    "    return trials_df, curve_df\n",
    "\n",
    "\n",
    "def plot_curves_by_wall_time(trials_df, curve_df):\n",
    "    trials = set(curve_df[\"trial_index\"])\n",
    "    fig, ax = plt.subplots(1, 1, figsize=(10, 6))\n",
    "    ax.set(xlabel=\"seconds since start\", ylabel=\"validation accuracy\")\n",
    "    for trial_index in trials:\n",
    "        this_trial_df = curve_df[curve_df[\"trial_index\"] == trial_index]\n",
    "        start_time_rel = trials_df[\"time_started_rel\"].iloc[trial_index]\n",
    "        completed_time_rel = trials_df[\"time_completed_rel\"].iloc[trial_index]\n",
    "        total_steps = trials_df.loc[trial_index, \"steps\"]\n",
    "        smoothed_curve = this_trial_df[\"mean\"].rolling(window=3).mean()\n",
    "        x = (\n",
    "            start_time_rel\n",
    "            + (completed_time_rel - start_time_rel)\n",
    "            / total_steps\n",
    "            * this_trial_df[\"steps\"]\n",
    "        )\n",
    "        ax.plot(\n",
    "            x,\n",
    "            smoothed_curve,\n",
    "            label=f\"trial #{trial_index}\" if trial_index % 2 == 1 else None,\n",
    "        )\n",
    "    ax.legend()"
   ]
  },
  {
   "cell_type": "code",
   "execution_count": 19,
   "id": "d7f52fed",
   "metadata": {
    "execution": {
     "iopub.execute_input": "2024-03-01T18:35:46.743082Z",
     "iopub.status.busy": "2024-03-01T18:35:46.742568Z",
     "iopub.status.idle": "2024-03-01T18:35:47.042956Z",
     "shell.execute_reply": "2024-03-01T18:35:47.042243Z"
    },
    "papermill": {
     "duration": 0.371377,
     "end_time": "2024-03-01T18:35:47.044343",
     "exception": false,
     "start_time": "2024-03-01T18:35:46.672966",
     "status": "completed"
    },
    "tags": []
   },
   "outputs": [
    {
     "name": "stderr",
     "output_type": "stream",
     "text": [
      "/tmp/tmp.KbiES6I0qN/Ax-main/ax/core/map_data.py:188: FutureWarning: The behavior of DataFrame concatenation with empty or all-NA entries is deprecated. In a future version, this will no longer exclude empty or all-NA columns when determining the result dtypes. To retain the old behavior, exclude the relevant entries before the concat operation.\n",
      "  df = pd.concat(\n",
      "[WARNING 03-01 18:35:46] ax.service.utils.report_utils: Column reason missing for all trials. Not appending column.\n"
     ]
    },
    {
     "name": "stderr",
     "output_type": "stream",
     "text": [
      "/tmp/tmp.KbiES6I0qN/Ax-main/ax/core/map_data.py:188: FutureWarning: The behavior of DataFrame concatenation with empty or all-NA entries is deprecated. In a future version, this will no longer exclude empty or all-NA columns when determining the result dtypes. To retain the old behavior, exclude the relevant entries before the concat operation.\n",
      "  df = pd.concat(\n"
     ]
    },
    {
     "data": {
      "image/png": "[encoded data removed]",
      "text/plain": [
       "<Figure size 1000x600 with 1 Axes>"
      ]
     },
     "metadata": {},
     "output_type": "display_data"
    }
   ],
   "source": [
    "# wrap in try/except in case of flaky I/O issues\n",
    "try:\n",
    "    trials_df, curve_df = early_stopping_exp_to_df(experiment)\n",
    "    plot_curves_by_wall_time(trials_df, curve_df)\n",
    "except Exception as e:\n",
    "    print(f\"Encountered exception while plotting results: {e}\")"
   ]
  },
  {
   "cell_type": "code",
   "execution_count": null,
   "id": "193e2fc7",
   "metadata": {
    "papermill": {
     "duration": 0.076521,
     "end_time": "2024-03-01T18:35:47.193174",
     "exception": false,
     "start_time": "2024-03-01T18:35:47.116653",
     "status": "completed"
    },
    "tags": []
   },
   "outputs": [],
   "source": []
  }
 ],
 "metadata": {
  "kernelspec": {
   "display_name": "Python 3 (ipykernel)",
   "language": "python",
   "name": "python3"
  },
  "language_info": {
   "codemirror_mode": {
    "name": "ipython",
    "version": 3
   },
   "file_extension": ".py",
   "mimetype": "text/x-python",
   "name": "python",
   "nbconvert_exporter": "python",
   "pygments_lexer": "ipython3",
   "version": "3.9.18"
  },
  "papermill": {
   "default_parameters": {},
   "duration": 1897.65941,
   "end_time": "2024-03-01T18:35:49.223549",
   "environment_variables": {},
   "exception": null,
   "input_path": "/tmp/tmp.KbiES6I0qN/Ax-main/tutorials/early_stopping/early_stopping.ipynb",
   "output_path": "/tmp/tmp.KbiES6I0qN/Ax-main/tutorials/early_stopping/early_stopping.ipynb",
   "parameters": {},
   "start_time": "2024-03-01T18:04:11.564139",
   "version": "2.5.0"
  }
 },
 "nbformat": 4,
 "nbformat_minor": 5
}
