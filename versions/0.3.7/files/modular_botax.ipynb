{
 "cells": [
  {
   "cell_type": "code",
   "execution_count": 1,
   "id": "about-preview",
   "metadata": {
    "execution": {
     "iopub.execute_input": "2024-03-01T16:39:45.238338Z",
     "iopub.status.busy": "2024-03-01T16:39:45.238052Z",
     "iopub.status.idle": "2024-03-01T16:39:48.316386Z",
     "shell.execute_reply": "2024-03-01T16:39:48.315682Z"
    },
    "originalKey": "cca773d8-5e94-4b5a-ae54-22295be8936a",
    "papermill": {
     "duration": 3.087621,
     "end_time": "2024-03-01T16:39:48.318136",
     "exception": false,
     "start_time": "2024-03-01T16:39:45.230515",
     "status": "completed"
    },
    "tags": []
   },
   "outputs": [],
   "source": [
    "from typing import Any, Dict, Optional, Tuple, Type\n",
    "\n",
    "from ax.modelbridge.registry import Cont_X_trans, Models, Y_trans\n",
    "\n",
    "# Ax data tranformation layer\n",
    "from ax.modelbridge.torch import TorchModelBridge\n",
    "from ax.models.torch.botorch_modular.acquisition import Acquisition\n",
    "\n",
    "# Ax wrappers for BoTorch components\n",
    "from ax.models.torch.botorch_modular.model import BoTorchModel\n",
    "from ax.models.torch.botorch_modular.surrogate import Surrogate\n",
    "\n",
    "# Experiment examination utilities\n",
    "from ax.service.utils.report_utils import exp_to_df\n",
    "\n",
    "# Test Ax objects\n",
    "from ax.utils.testing.core_stubs import (\n",
    "    get_branin_data,\n",
    "    get_branin_data_multi_objective,\n",
    "    get_branin_experiment,\n",
    "    get_branin_experiment_with_multi_objective,\n",
    ")\n",
    "from botorch.acquisition.monte_carlo import (\n",
    "    qExpectedImprovement,\n",
    "    qNoisyExpectedImprovement,\n",
    ")\n",
    "from botorch.models.gp_regression import FixedNoiseGP\n",
    "\n",
    "# BoTorch components\n",
    "from botorch.models.model import Model\n",
    "from gpytorch.mlls.exact_marginal_log_likelihood import ExactMarginalLogLikelihood"
   ]
  },
  {
   "cell_type": "markdown",
   "id": "northern-affairs",
   "metadata": {
    "originalKey": "58ea5ebf-ff3a-40b4-8be3-1b85c99d1c4a",
    "papermill": {
     "duration": 0.005436,
     "end_time": "2024-03-01T16:39:48.329513",
     "exception": false,
     "start_time": "2024-03-01T16:39:48.324077",
     "status": "completed"
    },
    "tags": []
   },
   "source": [
    "# Setup and Usage of BoTorch Models in Ax\n",
    "\n",
    "Ax provides a set of flexible wrapper abstractions to mix-and-match BoTorch components like `Model` and `AcquisitionFunction` and combine them into a single `Model` object in Ax. The wrapper abstractions: `Surrogate`, `Acquisition`, and `BoTorchModel` – are located in `ax/models/torch/botorch_modular` directory and aim to encapsulate boilerplate code that interfaces between Ax and BoTorch. This functionality is in beta-release and still evolving.\n",
    "\n",
    "This tutorial walks through setting up a custom combination of BoTorch components in Ax in following steps:\n",
    "\n",
    "1. **Quick-start example of `BoTorchModel` use**\n",
    "1. **`BoTorchModel` = `Surrogate` + `Acquisition` (overview)**\n",
    "   1. Example with minimal options that uses the defaults\n",
    "   2. Example showing all possible options\n",
    "   3. Surrogate and Acquisition Q&A\n",
    "2. **I know which Botorch Model and AcquisitionFunction I'd like to combine in Ax. How do set this up?**\n",
    "   1. Making a `Surrogate` from BoTorch `Model`\n",
    "   2. Using an arbitrary BoTorch `AcquisitionFunction` in Ax\n",
    "3. **Using `Models.BOTORCH_MODULAR`** (convenience wrapper that enables storage and resumability)\n",
    "4. **Utilizing `BoTorchModel` in generation strategies** (abstraction that allows to chain models together and use them in Ax Service API etc.)\n",
    "   1. Specifying `pending_observations` to avoid the model re-suggesting points that are part of `RUNNING` or `ABANDONED` trials.\n",
    "5. **Customizing a `Surrogate` or `Acquisition`** (for cases where existing subcomponent classes are not sufficient)"
   ]
  },
  {
   "cell_type": "markdown",
   "id": "pending-support",
   "metadata": {
    "originalKey": "c06d1b5c-067d-4618-977e-c8269a98bd0a",
    "papermill": {
     "duration": 0.006851,
     "end_time": "2024-03-01T16:39:48.341721",
     "exception": false,
     "start_time": "2024-03-01T16:39:48.334870",
     "status": "completed"
    },
    "tags": []
   },
   "source": [
    "## 1. Quick-start example\n",
    "\n",
    "Here we set up a `BoTorchModel` with `FixedNoiseGP` with `qNoisyExpectedImprovement`, one of the most popular combinations in Ax:"
   ]
  },
  {
   "cell_type": "code",
   "execution_count": 2,
   "id": "parental-sending",
   "metadata": {
    "execution": {
     "iopub.execute_input": "2024-03-01T16:39:48.353888Z",
     "iopub.status.busy": "2024-03-01T16:39:48.353383Z",
     "iopub.status.idle": "2024-03-01T16:39:48.365063Z",
     "shell.execute_reply": "2024-03-01T16:39:48.364484Z"
    },
    "originalKey": "72934cf2-4ecf-483a-93bd-4df88b19a7b8",
    "papermill": {
     "duration": 0.019482,
     "end_time": "2024-03-01T16:39:48.366535",
     "exception": false,
     "start_time": "2024-03-01T16:39:48.347053",
     "status": "completed"
    },
    "tags": []
   },
   "outputs": [
    {
     "name": "stderr",
     "output_type": "stream",
     "text": [
      "/tmp/tmp.KbiES6I0qN/Ax-main/ax/core/objective.py:53: UserWarning: Attempting to maximize metric branin with property `lower_is_better=True`.\n",
      "  warnings.warn(\n",
      "[INFO 03-01 16:39:48] ax.core.experiment: The is_test flag has been set to True. This flag is meant purely for development and integration testing purposes. If you are running a live experiment, please set this flag to False\n"
     ]
    }
   ],
   "source": [
    "experiment = get_branin_experiment(with_trial=True)\n",
    "data = get_branin_data(trials=[experiment.trials[0]])"
   ]
  },
  {
   "cell_type": "code",
   "execution_count": 3,
   "id": "rough-somerset",
   "metadata": {
    "execution": {
     "iopub.execute_input": "2024-03-01T16:39:48.379173Z",
     "iopub.status.busy": "2024-03-01T16:39:48.378733Z",
     "iopub.status.idle": "2024-03-01T16:39:48.418906Z",
     "shell.execute_reply": "2024-03-01T16:39:48.418205Z"
    },
    "originalKey": "e571212c-7872-4ebc-b646-8dad8d4266fd",
    "papermill": {
     "duration": 0.047956,
     "end_time": "2024-03-01T16:39:48.420346",
     "exception": false,
     "start_time": "2024-03-01T16:39:48.372390",
     "status": "completed"
    },
    "tags": []
   },
   "outputs": [
    {
     "name": "stderr",
     "output_type": "stream",
     "text": [
      "[INFO 03-01 16:39:48] ax.modelbridge.transforms.standardize_y: Outcome branin is constant, within tolerance.\n"
     ]
    },
    {
     "name": "stderr",
     "output_type": "stream",
     "text": [
      "/opt/hostedtoolcache/Python/3.9.18/x64/lib/python3.9/site-packages/botorch/models/utils/assorted.py:194: UserWarning: std(): degrees of freedom is <= 0. Correction should be strictly less than the reduction factor (input numel divided by output numel). (Triggered internally at ../aten/src/ATen/native/ReduceOps.cpp:1760.)\n",
      "  Ymean, Ystd = torch.mean(Y, dim=-2), torch.std(Y, dim=-2)\n"
     ]
    }
   ],
   "source": [
    "# `Models` automatically selects a model + model bridge combination.\n",
    "# For `BOTORCH_MODULAR`, it will select `BoTorchModel` and `TorchModelBridge`.\n",
    "model_bridge_with_GPEI = Models.BOTORCH_MODULAR(\n",
    "    experiment=experiment,\n",
    "    data=data,\n",
    "    surrogate=Surrogate(FixedNoiseGP),  # Optional, will use default if unspecified\n",
    "    botorch_acqf_class=qNoisyExpectedImprovement,  # Optional, will use default if unspecified\n",
    ")"
   ]
  },
  {
   "cell_type": "markdown",
   "id": "hairy-wiring",
   "metadata": {
    "originalKey": "fba91372-7aa6-456d-a22b-78ab30c26cd8",
    "papermill": {
     "duration": 0.005686,
     "end_time": "2024-03-01T16:39:48.432161",
     "exception": false,
     "start_time": "2024-03-01T16:39:48.426475",
     "status": "completed"
    },
    "tags": []
   },
   "source": [
    "Now we can use this model to generate candidates (`gen`), predict outcome at a point (`predict`), or evaluate acquisition function value at a given point (`evaluate_acquisition_function`)."
   ]
  },
  {
   "cell_type": "code",
   "execution_count": 4,
   "id": "consecutive-summary",
   "metadata": {
    "execution": {
     "iopub.execute_input": "2024-03-01T16:39:48.444711Z",
     "iopub.status.busy": "2024-03-01T16:39:48.444249Z",
     "iopub.status.idle": "2024-03-01T16:39:48.663528Z",
     "shell.execute_reply": "2024-03-01T16:39:48.662805Z"
    },
    "originalKey": "59582fc6-8089-4320-864e-d98ee271d4f7",
    "papermill": {
     "duration": 0.227117,
     "end_time": "2024-03-01T16:39:48.664867",
     "exception": false,
     "start_time": "2024-03-01T16:39:48.437750",
     "status": "completed"
    },
    "tags": []
   },
   "outputs": [
    {
     "name": "stderr",
     "output_type": "stream",
     "text": [
      "/tmp/tmp.KbiES6I0qN/Ax-main/ax/core/objective.py:53: UserWarning: Attempting to maximize metric branin with property `lower_is_better=True`.\n",
      "  warnings.warn(\n"
     ]
    },
    {
     "data": {
      "text/plain": [
       "Arm(parameters={'x1': -5.0, 'x2': 0.0})"
      ]
     },
     "execution_count": 4,
     "metadata": {},
     "output_type": "execute_result"
    }
   ],
   "source": [
    "generator_run = model_bridge_with_GPEI.gen(n=1)\n",
    "generator_run.arms[0]"
   ]
  },
  {
   "cell_type": "markdown",
   "id": "diverse-richards",
   "metadata": {
    "originalKey": "8cfe0fa9-8cce-4718-ba43-e8a63744d626",
    "papermill": {
     "duration": 0.005766,
     "end_time": "2024-03-01T16:39:48.676889",
     "exception": false,
     "start_time": "2024-03-01T16:39:48.671123",
     "status": "completed"
    },
    "tags": []
   },
   "source": [
    "-----\n",
    "Before you read the rest of this tutorial:\n",
    "\n",
    "- Note that the concept of ‘model’ is Ax is somewhat a misnomer; we use ['model'](https://ax.dev/docs/glossary.html#model) to refer to an optimization setup capable of producing candidate points for optimization (and often capable of being fit to data, with exception for quasi-random generators). See [Models documentation page](https://ax.dev/docs/models.html) for more information.\n",
    "- Learn about `ModelBridge` in Ax, as users should rarely be interacting with a `Model` object directly (more about ModelBridge, a data transformation layer in Ax, [here](https://ax.dev/docs/models.html#deeper-dive-organization-of-the-modeling-stack))."
   ]
  },
  {
   "cell_type": "markdown",
   "id": "grand-committee",
   "metadata": {
    "originalKey": "7037fd14-bcfe-44f9-b915-c23915d2bda9",
    "papermill": {
     "duration": 0.00581,
     "end_time": "2024-03-01T16:39:48.688559",
     "exception": false,
     "start_time": "2024-03-01T16:39:48.682749",
     "status": "completed"
    },
    "tags": []
   },
   "source": [
    "## 2. BoTorchModel = Surrogate + Acquisition\n",
    "\n",
    "A `BoTorchModel` in Ax consists of two main subcomponents: a surrogate model and an acquisition function. A surrogate model is represented as an instance of Ax’s `Surrogate` class, which is a wrapper around BoTorch's `Model` class. The acquisition function is represented as an instance of Ax’s `Acquisition` class, a wrapper around BoTorch's `AcquisitionFunction` class."
   ]
  },
  {
   "cell_type": "markdown",
   "id": "thousand-blanket",
   "metadata": {
    "originalKey": "08b12c6c-14da-4342-95bd-f607a131ce9d",
    "papermill": {
     "duration": 0.005697,
     "end_time": "2024-03-01T16:39:48.699963",
     "exception": false,
     "start_time": "2024-03-01T16:39:48.694266",
     "status": "completed"
    },
    "tags": []
   },
   "source": [
    "### 2A. Example that uses defaults and requires no options\n",
    "\n",
    "BoTorchModel does not always require surrogate and acquisition specification. If instantiated without one or both components specified, defaults are selected based on properties of experiment and data (see Appendix 2 for auto-selection logic)."
   ]
  },
  {
   "cell_type": "code",
   "execution_count": 5,
   "id": "changing-xerox",
   "metadata": {
    "execution": {
     "iopub.execute_input": "2024-03-01T16:39:48.712682Z",
     "iopub.status.busy": "2024-03-01T16:39:48.712229Z",
     "iopub.status.idle": "2024-03-01T16:39:48.715975Z",
     "shell.execute_reply": "2024-03-01T16:39:48.715337Z"
    },
    "originalKey": "b1bca702-07b2-4818-b2b9-2107268c383c",
    "papermill": {
     "duration": 0.011651,
     "end_time": "2024-03-01T16:39:48.717271",
     "exception": false,
     "start_time": "2024-03-01T16:39:48.705620",
     "status": "completed"
    },
    "tags": []
   },
   "outputs": [],
   "source": [
    "# The surrogate is not specified, so it will be auto-selected\n",
    "# during `model.fit`.\n",
    "GPEI_model = BoTorchModel(botorch_acqf_class=qExpectedImprovement)\n",
    "\n",
    "# The acquisition class is not specified, so it will be\n",
    "# auto-selected during `model.gen` or `model.evaluate_acquisition`\n",
    "GPEI_model = BoTorchModel(surrogate=Surrogate(FixedNoiseGP))\n",
    "\n",
    "# Both the surrogate and acquisition class will be auto-selected.\n",
    "GPEI_model = BoTorchModel()"
   ]
  },
  {
   "cell_type": "markdown",
   "id": "lovely-mechanics",
   "metadata": {
    "originalKey": "5cec0f06-ae2c-47d3-bd95-441c45762e38",
    "papermill": {
     "duration": 0.005736,
     "end_time": "2024-03-01T16:39:48.728868",
     "exception": false,
     "start_time": "2024-03-01T16:39:48.723132",
     "status": "completed"
    },
    "tags": []
   },
   "source": [
    "### 2B. Example with all the options\n",
    "Below are the full set of configurable settings of a `BoTorchModel` with their descriptions:"
   ]
  },
  {
   "cell_type": "code",
   "execution_count": 6,
   "id": "twenty-greek",
   "metadata": {
    "execution": {
     "iopub.execute_input": "2024-03-01T16:39:48.741610Z",
     "iopub.status.busy": "2024-03-01T16:39:48.741193Z",
     "iopub.status.idle": "2024-03-01T16:39:48.745310Z",
     "shell.execute_reply": "2024-03-01T16:39:48.744668Z"
    },
    "originalKey": "25b13c48-edb0-4b3f-ba34-4f4a4176162a",
    "papermill": {
     "duration": 0.012004,
     "end_time": "2024-03-01T16:39:48.746594",
     "exception": false,
     "start_time": "2024-03-01T16:39:48.734590",
     "status": "completed"
    },
    "tags": []
   },
   "outputs": [],
   "source": [
    "model = BoTorchModel(\n",
    "    # Optional `Surrogate` specification to use instead of default\n",
    "    surrogate=Surrogate(\n",
    "        # BoTorch `Model` type\n",
    "        botorch_model_class=FixedNoiseGP,\n",
    "        # Optional, MLL class with which to optimize model parameters\n",
    "        mll_class=ExactMarginalLogLikelihood,\n",
    "        # Optional, dictionary of keyword arguments to underlying\n",
    "        # BoTorch `Model` constructor\n",
    "        model_options={},\n",
    "    ),\n",
    "    # Optional BoTorch `AcquisitionFunction` to use instead of default\n",
    "    botorch_acqf_class=qExpectedImprovement,\n",
    "    # Optional dict of keyword arguments, passed to the input\n",
    "    # constructor for the given BoTorch `AcquisitionFunction`\n",
    "    acquisition_options={},\n",
    "    # Optional Ax `Acquisition` subclass (if the given BoTorch\n",
    "    # `AcquisitionFunction` requires one, which is rare)\n",
    "    acquisition_class=None,\n",
    "    # Less common model settings shown with default values, refer\n",
    "    # to `BoTorchModel` documentation for detail\n",
    "    refit_on_update=True,\n",
    "    refit_on_cv=False,\n",
    "    warm_start_refit=True,\n",
    ")"
   ]
  },
  {
   "cell_type": "markdown",
   "id": "fourth-material",
   "metadata": {
    "originalKey": "db0feafe-8af9-40a3-9f67-72c7d1fd808e",
    "papermill": {
     "duration": 0.005851,
     "end_time": "2024-03-01T16:39:48.758298",
     "exception": false,
     "start_time": "2024-03-01T16:39:48.752447",
     "status": "completed"
    },
    "tags": []
   },
   "source": [
    "## 2C. `Surrogate` and `Acquisition` Q&A\n",
    "\n",
    "**Why is the `surrogate` argument expected to be an instance, but `botorch_acqf_class` –– a class?** Because a BoTorch `AcquisitionFunction` object (and therefore its Ax wrapper, `Acquisition`) is ephemeral: it is constructed, immediately used, and destroyed during `BoTorchModel.gen`, so there is no reason to keep around an `Acquisition` instance. A `Surrogate`, on another hand, is kept in memory as long as its parent `BoTorchModel` is.\n",
    "\n",
    "**How to know when to use specify acquisition_class (and thereby a non-default Acquisition type) instead of just passing in botorch_acqf_class?** In short, custom `Acquisition` subclasses are needed when a given `AcquisitionFunction` in BoTorch needs some non-standard subcomponents or inputs (e.g. a custom BoTorch `MCAcquisitionObjective`). <TODO>\n",
    "\n",
    "**Please post any other questions you have to our dedicated issue on Github: https://github.com/facebook/Ax/issues/363.** This functionality is in beta-release and your feedback will be of great help to us!"
   ]
  },
  {
   "cell_type": "markdown",
   "id": "violent-course",
   "metadata": {
    "originalKey": "86018ee5-f7b8-41ae-8e2d-460fe5f0c15b",
    "papermill": {
     "duration": 0.005859,
     "end_time": "2024-03-01T16:39:48.770043",
     "exception": false,
     "start_time": "2024-03-01T16:39:48.764184",
     "status": "completed"
    },
    "tags": []
   },
   "source": [
    "## 3. I know which Botorch `Model` and `AcquisitionFunction` I'd like to combine in Ax. How do set this up?"
   ]
  },
  {
   "cell_type": "markdown",
   "id": "unlike-football",
   "metadata": {
    "code_folding": [],
    "hidden_ranges": [],
    "originalKey": "b29a846d-d7bc-4143-8318-10170c9b4298",
    "papermill": {
     "duration": 0.005781,
     "end_time": "2024-03-01T16:39:48.781659",
     "exception": false,
     "start_time": "2024-03-01T16:39:48.775878",
     "status": "completed"
    },
    "showInput": false,
    "tags": []
   },
   "source": [
    "### 3a. Making a `Surrogate` from BoTorch `Model`:\n",
    "Most models should work with base `Surrogate` in Ax, except for BoTorch `ModelListGP`. `ModelListGP` is a special case because its purpose is to combine multiple sub-models into a single `Model` in BoTorch. It is most commonly used for multi-objective and constrained optimization. Whether or not `ModelListGP` is used is determined automatically based on the `Model` class and the data being used via the `ax.models.torch.botorch_modular.utils.use_model_list` function.\n",
    "\n",
    "If your `Model` is not a `ModelListGP`, the steps to set it up as a `Surrogate` are:\n",
    "1. Implement a [`construct_inputs` class method](https://github.com/pytorch/botorch/blob/main/botorch/models/model.py#L143). The purpose of this method is to produce arguments to a particular model from a standardized set of inputs passed to BoTorch `Model`-s from [`Surrogate.construct`](https://github.com/facebook/Ax/blob/main/ax/models/torch/botorch_modular/surrogate.py#L148) in Ax. It should accept training data in form of a `SupervisedDataset` container and optionally other keyword arguments and produce a dictionary of arguments to `__init__` of the `Model`. See [`SingleTaskMultiFidelityGP.construct_inputs`](https://github.com/pytorch/botorch/blob/5b3172f3daa22f6ea2f6f4d1d0a378a9518dcd8d/botorch/models/gp_regression_fidelity.py#L131) for an example.\n",
    "2. Pass any additional needed keyword arguments for the `Model` constructor (that cannot be constructed from the training data and other arguments to `construct_inputs`) via `model_options` argument to `Surrogate`."
   ]
  },
  {
   "cell_type": "code",
   "execution_count": 7,
   "id": "dynamic-university",
   "metadata": {
    "code_folding": [],
    "execution": {
     "iopub.execute_input": "2024-03-01T16:39:48.794745Z",
     "iopub.status.busy": "2024-03-01T16:39:48.794491Z",
     "iopub.status.idle": "2024-03-01T16:39:48.799596Z",
     "shell.execute_reply": "2024-03-01T16:39:48.798946Z"
    },
    "hidden_ranges": [],
    "originalKey": "6c2ea955-c7a4-42ff-a4d7-f787113d4d53",
    "papermill": {
     "duration": 0.013344,
     "end_time": "2024-03-01T16:39:48.800956",
     "exception": false,
     "start_time": "2024-03-01T16:39:48.787612",
     "status": "completed"
    },
    "tags": []
   },
   "outputs": [],
   "source": [
    "from botorch.models.model import Model\n",
    "from botorch.utils.datasets import SupervisedDataset\n",
    "\n",
    "\n",
    "class MyModelClass(Model):\n",
    "\n",
    "    ...  # Implementation of `MyModelClass`\n",
    "\n",
    "    @classmethod\n",
    "    def construct_inputs(\n",
    "        cls, training_data: SupervisedDataset, **kwargs\n",
    "    ) -> Dict[str, Any]:\n",
    "        fidelity_features = kwargs.get(\"fidelity_features\")\n",
    "        if fidelity_features is None:\n",
    "            raise ValueError(f\"Fidelity features required for {cls.__name__}.\")\n",
    "\n",
    "        return {\n",
    "            **super().construct_inputs(training_data=training_data, **kwargs),\n",
    "            \"fidelity_features\": fidelity_features,\n",
    "        }\n",
    "\n",
    "\n",
    "surrogate = Surrogate(\n",
    "    botorch_model_class=MyModelClass,  # Must implement `construct_inputs`\n",
    "    # Optional dict of additional keyword arguments to `MyModelClass`\n",
    "    model_options={},\n",
    ")"
   ]
  },
  {
   "cell_type": "markdown",
   "id": "otherwise-context",
   "metadata": {
    "originalKey": "b9072296-956d-4add-b1f6-e7e0415ba65c",
    "papermill": {
     "duration": 0.005823,
     "end_time": "2024-03-01T16:39:48.812685",
     "exception": false,
     "start_time": "2024-03-01T16:39:48.806862",
     "status": "completed"
    },
    "tags": []
   },
   "source": [
    "NOTE: if you run into a case where base `Surrogate` does not work with your BoTorch `Model`, please let us know in this Github issue: https://github.com/facebook/Ax/issues/363, so we can find the right solution and augment this tutorial."
   ]
  },
  {
   "cell_type": "markdown",
   "id": "northern-invite",
   "metadata": {
    "originalKey": "335cabdf-2bf6-48e8-ba0c-1404a8ef47f9",
    "papermill": {
     "duration": 0.005799,
     "end_time": "2024-03-01T16:39:48.824273",
     "exception": false,
     "start_time": "2024-03-01T16:39:48.818474",
     "status": "completed"
    },
    "tags": []
   },
   "source": [
    "### 3B. Using an arbitrary BoTorch `AcquisitionFunction` in Ax"
   ]
  },
  {
   "cell_type": "markdown",
   "id": "surrounded-denial",
   "metadata": {
    "code_folding": [],
    "hidden_ranges": [],
    "originalKey": "e3f0c788-2131-4116-9518-4ae7daeb991f",
    "papermill": {
     "duration": 0.005767,
     "end_time": "2024-03-01T16:39:48.835761",
     "exception": false,
     "start_time": "2024-03-01T16:39:48.829994",
     "status": "completed"
    },
    "showInput": false,
    "tags": []
   },
   "source": [
    "Steps to set up any `AcquisitionFunction` in Ax are:\n",
    "1. Define an input constructor function. The purpose of this method is to produce arguments to a acquisition function from a standardized set of inputs passed to BoTorch `AcquisitionFunction`-s from `Acquisition.__init__` in Ax. For example, see [`construct_inputs_qEHVI`](https://github.com/pytorch/botorch/blob/main/botorch/acquisition/input_constructors.py#L477), which creates a fairly complex set of arguments needed by `qExpectedHypervolumeImprovement` –– a popular multi-objective optimization acquisition function offered in Ax and BoTorch. For more examples, see this collection in BoTorch: [botorch/acquisition/input_constructors.py](https://github.com/pytorch/botorch/blob/main/botorch/acquisition/input_constructors.py) \n",
    "   1. Note that the new input constructor needs to be decorated with `@acqf_input_constructor(AcquisitionFunctionClass)` to register it.\n",
    "2. (Optional) If a given `AcquisitionFunction` requires specific options passed to the BoTorch `optimize_acqf`, it's possible to add default optimizer options for a given `AcquisitionFunction` to avoid always manually passing them via `acquisition_options`.\n",
    "3. Specify the BoTorch `AcquisitionFunction` class as `botorch_acqf_class` to `BoTorchModel`\n",
    "4. (Optional) Pass any additional keyword arguments to acquisition function constructor or to the optimizer function via `acquisition_options` argument to `BoTorchModel`."
   ]
  },
  {
   "cell_type": "code",
   "execution_count": 8,
   "id": "interested-search",
   "metadata": {
    "code_folding": [],
    "execution": {
     "iopub.execute_input": "2024-03-01T16:39:48.848748Z",
     "iopub.status.busy": "2024-03-01T16:39:48.848283Z",
     "iopub.status.idle": "2024-03-01T16:39:48.856450Z",
     "shell.execute_reply": "2024-03-01T16:39:48.855855Z"
    },
    "hidden_ranges": [],
    "originalKey": "6967ce3e-929b-4d9a-8cd1-72bf94f0be3a",
    "papermill": {
     "duration": 0.016237,
     "end_time": "2024-03-01T16:39:48.857775",
     "exception": false,
     "start_time": "2024-03-01T16:39:48.841538",
     "status": "completed"
    },
    "tags": []
   },
   "outputs": [
    {
     "data": {
      "text/plain": [
       "BoTorchModel"
      ]
     },
     "execution_count": 8,
     "metadata": {},
     "output_type": "execute_result"
    }
   ],
   "source": [
    "from ax.models.torch.botorch_modular.optimizer_argparse import optimizer_argparse\n",
    "from botorch.acquisition.acquisition import AcquisitionFunction\n",
    "from botorch.acquisition.input_constructors import MaybeDict, acqf_input_constructor\n",
    "from botorch.utils.datasets import SupervisedDataset\n",
    "from torch import Tensor\n",
    "\n",
    "\n",
    "class MyAcquisitionFunctionClass(AcquisitionFunction):\n",
    "    ...  # Actual contents of the acquisition function class.\n",
    "\n",
    "\n",
    "# 1. Add input constructor\n",
    "@acqf_input_constructor(MyAcquisitionFunctionClass)\n",
    "def construct_inputs_my_acqf(\n",
    "    model: Model,\n",
    "    training_data: MaybeDict[SupervisedDataset],\n",
    "    objective_thresholds: Tensor,\n",
    "    **kwargs: Any,\n",
    ") -> Dict[str, Any]:\n",
    "    pass\n",
    "\n",
    "\n",
    "# 2. Register default optimizer options\n",
    "@optimizer_argparse.register(MyAcquisitionFunctionClass)\n",
    "def _argparse_my_acqf(\n",
    "    acqf: MyAcquisitionFunctionClass, sequential: bool = True\n",
    ") -> dict:\n",
    "    return {\n",
    "        \"sequential\": sequential\n",
    "    }  # default to sequentially optimizing batches of queries\n",
    "\n",
    "\n",
    "# 3-4. Specifying `botorch_acqf_class` and `acquisition_options`\n",
    "BoTorchModel(\n",
    "    botorch_acqf_class=MyAcquisitionFunctionClass,\n",
    "    acquisition_options={\n",
    "        \"alpha\": 10**-6,\n",
    "        # The sub-dict by the key \"optimizer_options\" can be passed\n",
    "        # to propagate options to `optimize_acqf`, used in\n",
    "        # `Acquisition.optimize`, to add/override the default\n",
    "        # optimizer options registered above.\n",
    "        \"optimizer_options\": {\"sequential\": False},\n",
    "    },\n",
    ")"
   ]
  },
  {
   "cell_type": "markdown",
   "id": "metallic-imaging",
   "metadata": {
    "originalKey": "29256ab1-f214-4604-a423-4c7b4b36baa0",
    "papermill": {
     "duration": 0.005883,
     "end_time": "2024-03-01T16:39:48.869754",
     "exception": false,
     "start_time": "2024-03-01T16:39:48.863871",
     "status": "completed"
    },
    "tags": []
   },
   "source": [
    "See section 2A for combining the resulting `Surrogate` instance and `Acquisition` type into a `BoTorchModel`. You can also leverage `Models.BOTORCH_MODULAR` for ease of use; more on it in section 4 below or in section 1 quick-start example."
   ]
  },
  {
   "cell_type": "markdown",
   "id": "descending-australian",
   "metadata": {
    "originalKey": "1d15082f-1df7-4cdb-958b-300483eb7808",
    "papermill": {
     "duration": 0.005937,
     "end_time": "2024-03-01T16:39:48.881646",
     "exception": false,
     "start_time": "2024-03-01T16:39:48.875709",
     "status": "completed"
    },
    "tags": []
   },
   "source": [
    "## 4. Using `Models.BOTORCH_MODULAR` \n",
    "\n",
    "To simplify the instantiation of an Ax ModelBridge and its undelying Model, Ax provides a [`Models` registry enum](https://github.com/facebook/Ax/blob/main/ax/modelbridge/registry.py#L355). When calling entries of that enum (e.g. `Models.BOTORCH_MODULAR(experiment, data)`), the inputs are automatically distributed between a `Model` and a `ModelBridge` for a given setup. A call to a `Model` enum member yields a model bridge with an underlying model, ready for use to generate candidates.\n",
    "\n",
    "Here we use `Models.BOTORCH_MODULAR` to set up a model with all-default subcomponents:"
   ]
  },
  {
   "cell_type": "code",
   "execution_count": 9,
   "id": "attached-border",
   "metadata": {
    "execution": {
     "iopub.execute_input": "2024-03-01T16:39:48.895072Z",
     "iopub.status.busy": "2024-03-01T16:39:48.894592Z",
     "iopub.status.idle": "2024-03-01T16:39:49.196374Z",
     "shell.execute_reply": "2024-03-01T16:39:49.195622Z"
    },
    "originalKey": "385b2f30-fd86-4d88-8784-f238ea8a6abb",
    "papermill": {
     "duration": 0.310106,
     "end_time": "2024-03-01T16:39:49.197803",
     "exception": false,
     "start_time": "2024-03-01T16:39:48.887697",
     "status": "completed"
    },
    "tags": []
   },
   "outputs": [
    {
     "name": "stderr",
     "output_type": "stream",
     "text": [
      "[INFO 03-01 16:39:48] ax.modelbridge.transforms.standardize_y: Outcome branin is constant, within tolerance.\n"
     ]
    },
    {
     "name": "stderr",
     "output_type": "stream",
     "text": [
      "/opt/hostedtoolcache/Python/3.9.18/x64/lib/python3.9/site-packages/botorch/models/utils/assorted.py:194: UserWarning: std(): degrees of freedom is <= 0. Correction should be strictly less than the reduction factor (input numel divided by output numel). (Triggered internally at ../aten/src/ATen/native/ReduceOps.cpp:1760.)\n",
      "  Ymean, Ystd = torch.mean(Y, dim=-2), torch.std(Y, dim=-2)\n",
      "/tmp/tmp.KbiES6I0qN/Ax-main/ax/core/objective.py:53: UserWarning: Attempting to maximize metric branin with property `lower_is_better=True`.\n",
      "  warnings.warn(\n"
     ]
    },
    {
     "data": {
      "text/plain": [
       "GeneratorRun(1 arms, total weight 1.0)"
      ]
     },
     "execution_count": 9,
     "metadata": {},
     "output_type": "execute_result"
    }
   ],
   "source": [
    "model_bridge_with_GPEI = Models.BOTORCH_MODULAR(\n",
    "    experiment=experiment,\n",
    "    data=data,\n",
    ")\n",
    "model_bridge_with_GPEI.gen(1)"
   ]
  },
  {
   "cell_type": "code",
   "execution_count": 10,
   "id": "powerful-gamma",
   "metadata": {
    "execution": {
     "iopub.execute_input": "2024-03-01T16:39:49.212860Z",
     "iopub.status.busy": "2024-03-01T16:39:49.212220Z",
     "iopub.status.idle": "2024-03-01T16:39:49.217682Z",
     "shell.execute_reply": "2024-03-01T16:39:49.217164Z"
    },
    "originalKey": "89930a31-e058-434b-b587-181931e247b6",
    "papermill": {
     "duration": 0.014451,
     "end_time": "2024-03-01T16:39:49.219099",
     "exception": false,
     "start_time": "2024-03-01T16:39:49.204648",
     "status": "completed"
    },
    "tags": []
   },
   "outputs": [
    {
     "data": {
      "text/plain": [
       "botorch.acquisition.logei.qLogNoisyExpectedImprovement"
      ]
     },
     "execution_count": 10,
     "metadata": {},
     "output_type": "execute_result"
    }
   ],
   "source": [
    "model_bridge_with_GPEI.model.botorch_acqf_class"
   ]
  },
  {
   "cell_type": "code",
   "execution_count": 11,
   "id": "improved-replication",
   "metadata": {
    "execution": {
     "iopub.execute_input": "2024-03-01T16:39:49.233995Z",
     "iopub.status.busy": "2024-03-01T16:39:49.233406Z",
     "iopub.status.idle": "2024-03-01T16:39:49.236862Z",
     "shell.execute_reply": "2024-03-01T16:39:49.236196Z"
    },
    "originalKey": "f9a9cb14-20c3-4e1d-93a3-6a35c281ae01",
    "papermill": {
     "duration": 0.012261,
     "end_time": "2024-03-01T16:39:49.238235",
     "exception": false,
     "start_time": "2024-03-01T16:39:49.225974",
     "status": "completed"
    },
    "tags": []
   },
   "outputs": [],
   "source": [
    "model_bridge_with_GPEI.model.surrogate.botorch_model_class"
   ]
  },
  {
   "cell_type": "markdown",
   "id": "connected-sheet",
   "metadata": {
    "originalKey": "8b6a9ddc-d2d2-4cd5-a6a8-820113f78262",
    "papermill": {
     "duration": 0.006325,
     "end_time": "2024-03-01T16:39:49.251054",
     "exception": false,
     "start_time": "2024-03-01T16:39:49.244729",
     "status": "completed"
    },
    "tags": []
   },
   "source": [
    "We can use the same `Models.BOTORCH_MODULAR` to set up a model for multi-objective optimization:"
   ]
  },
  {
   "cell_type": "code",
   "execution_count": 12,
   "id": "documentary-jurisdiction",
   "metadata": {
    "execution": {
     "iopub.execute_input": "2024-03-01T16:39:49.264895Z",
     "iopub.status.busy": "2024-03-01T16:39:49.264451Z",
     "iopub.status.idle": "2024-03-01T16:39:49.862627Z",
     "shell.execute_reply": "2024-03-01T16:39:49.861901Z"
    },
    "originalKey": "8001de33-d9d9-4888-a5d1-7a59ebeccfd5",
    "papermill": {
     "duration": 0.606946,
     "end_time": "2024-03-01T16:39:49.864288",
     "exception": false,
     "start_time": "2024-03-01T16:39:49.257342",
     "status": "completed"
    },
    "tags": []
   },
   "outputs": [
    {
     "name": "stderr",
     "output_type": "stream",
     "text": [
      "[INFO 03-01 16:39:49] ax.core.experiment: The is_test flag has been set to True. This flag is meant purely for development and integration testing purposes. If you are running a live experiment, please set this flag to False\n"
     ]
    },
    {
     "name": "stderr",
     "output_type": "stream",
     "text": [
      "[INFO 03-01 16:39:49] ax.modelbridge.transforms.standardize_y: Outcome branin_a is constant, within tolerance.\n"
     ]
    },
    {
     "name": "stderr",
     "output_type": "stream",
     "text": [
      "[INFO 03-01 16:39:49] ax.modelbridge.transforms.standardize_y: Outcome branin_b is constant, within tolerance.\n"
     ]
    },
    {
     "name": "stderr",
     "output_type": "stream",
     "text": [
      "/opt/hostedtoolcache/Python/3.9.18/x64/lib/python3.9/site-packages/botorch/models/utils/assorted.py:194: UserWarning: std(): degrees of freedom is <= 0. Correction should be strictly less than the reduction factor (input numel divided by output numel). (Triggered internally at ../aten/src/ATen/native/ReduceOps.cpp:1760.)\n",
      "  Ymean, Ystd = torch.mean(Y, dim=-2), torch.std(Y, dim=-2)\n"
     ]
    },
    {
     "data": {
      "text/plain": [
       "GeneratorRun(1 arms, total weight 1.0)"
      ]
     },
     "execution_count": 12,
     "metadata": {},
     "output_type": "execute_result"
    }
   ],
   "source": [
    "model_bridge_with_EHVI = Models.BOTORCH_MODULAR(\n",
    "    experiment=get_branin_experiment_with_multi_objective(\n",
    "        has_objective_thresholds=True, with_batch=True\n",
    "    ),\n",
    "    data=get_branin_data_multi_objective(),\n",
    ")\n",
    "model_bridge_with_EHVI.gen(1)"
   ]
  },
  {
   "cell_type": "code",
   "execution_count": 13,
   "id": "changed-maintenance",
   "metadata": {
    "execution": {
     "iopub.execute_input": "2024-03-01T16:39:49.879340Z",
     "iopub.status.busy": "2024-03-01T16:39:49.879088Z",
     "iopub.status.idle": "2024-03-01T16:39:49.883615Z",
     "shell.execute_reply": "2024-03-01T16:39:49.882925Z"
    },
    "originalKey": "dcfdbecc-4a9a-49ac-ad55-0bc04b2ec566",
    "papermill": {
     "duration": 0.013528,
     "end_time": "2024-03-01T16:39:49.885087",
     "exception": false,
     "start_time": "2024-03-01T16:39:49.871559",
     "status": "completed"
    },
    "tags": []
   },
   "outputs": [
    {
     "data": {
      "text/plain": [
       "botorch.acquisition.multi_objective.logei.qLogNoisyExpectedHypervolumeImprovement"
      ]
     },
     "execution_count": 13,
     "metadata": {},
     "output_type": "execute_result"
    }
   ],
   "source": [
    "model_bridge_with_EHVI.model.botorch_acqf_class"
   ]
  },
  {
   "cell_type": "code",
   "execution_count": 14,
   "id": "operating-shelf",
   "metadata": {
    "execution": {
     "iopub.execute_input": "2024-03-01T16:39:49.900145Z",
     "iopub.status.busy": "2024-03-01T16:39:49.899723Z",
     "iopub.status.idle": "2024-03-01T16:39:49.903357Z",
     "shell.execute_reply": "2024-03-01T16:39:49.902613Z"
    },
    "originalKey": "16727a51-337d-4715-bf51-9cb6637a950f",
    "papermill": {
     "duration": 0.012623,
     "end_time": "2024-03-01T16:39:49.904711",
     "exception": false,
     "start_time": "2024-03-01T16:39:49.892088",
     "status": "completed"
    },
    "tags": []
   },
   "outputs": [],
   "source": [
    "model_bridge_with_EHVI.model.surrogate.botorch_model_class"
   ]
  },
  {
   "cell_type": "markdown",
   "id": "fatal-butterfly",
   "metadata": {
    "originalKey": "5c64eecc-5ce5-4907-bbcc-5b3cbf4358ae",
    "papermill": {
     "duration": 0.007743,
     "end_time": "2024-03-01T16:39:49.920276",
     "exception": false,
     "start_time": "2024-03-01T16:39:49.912533",
     "status": "completed"
    },
    "tags": []
   },
   "source": [
    "Furthermore, the quick-start example at the top of this tutorial shows how to specify surrogate and acquisition subcomponents to `Models.BOTORCH_MODULAR`. "
   ]
  },
  {
   "cell_type": "markdown",
   "id": "hearing-interface",
   "metadata": {
    "originalKey": "a0163432-f0ca-4582-ad84-16c77c99f20b",
    "papermill": {
     "duration": 0.007606,
     "end_time": "2024-03-01T16:39:49.935693",
     "exception": false,
     "start_time": "2024-03-01T16:39:49.928087",
     "status": "completed"
    },
    "tags": []
   },
   "source": [
    "## 5. Utilizing `BoTorchModel` in generation strategies\n",
    "\n",
    "Generation strategy is a key concept in Ax, enabling use of Service API (a.k.a. `AxClient`) and many other higher-level abstractions. A `GenerationStrategy` allows to chain multiple models in Ax and thereby automate candidate generation. Refer to the \"Generation Strategy\" tutorial for more detail in generation strategies.\n",
    "\n",
    "An example generation stategy with the modular `BoTorchModel` would look like this:"
   ]
  },
  {
   "cell_type": "code",
   "execution_count": 15,
   "id": "received-registration",
   "metadata": {
    "execution": {
     "iopub.execute_input": "2024-03-01T16:39:49.953081Z",
     "iopub.status.busy": "2024-03-01T16:39:49.952516Z",
     "iopub.status.idle": "2024-03-01T16:39:49.958039Z",
     "shell.execute_reply": "2024-03-01T16:39:49.957227Z"
    },
    "originalKey": "f7eabbcf-607c-4bed-9a0e-6ac6e8b04350",
    "papermill": {
     "duration": 0.016144,
     "end_time": "2024-03-01T16:39:49.959602",
     "exception": false,
     "start_time": "2024-03-01T16:39:49.943458",
     "status": "completed"
    },
    "tags": []
   },
   "outputs": [],
   "source": [
    "from ax.modelbridge.generation_strategy import GenerationStep, GenerationStrategy\n",
    "from botorch.acquisition import UpperConfidenceBound\n",
    "from ax.modelbridge.modelbridge_utils import get_pending_observation_features\n",
    "\n",
    "gs = GenerationStrategy(\n",
    "    steps=[\n",
    "        GenerationStep(  # Initialization step\n",
    "            # Which model to use for this step\n",
    "            model=Models.SOBOL,\n",
    "            # How many generator runs (each of which is then made a trial)\n",
    "            # to produce with this step\n",
    "            num_trials=5,\n",
    "            # How many trials generated from this step must be `COMPLETED`\n",
    "            # before the next one\n",
    "            min_trials_observed=5,\n",
    "        ),\n",
    "        GenerationStep(  # BayesOpt step\n",
    "            model=Models.BOTORCH_MODULAR,\n",
    "            # No limit on how many generator runs will be produced\n",
    "            num_trials=-1,\n",
    "            model_kwargs={  # Kwargs to pass to `BoTorchModel.__init__`\n",
    "                \"surrogate\": Surrogate(FixedNoiseGP),\n",
    "                \"botorch_acqf_class\": qNoisyExpectedImprovement,\n",
    "            },\n",
    "        ),\n",
    "    ]\n",
    ")"
   ]
  },
  {
   "cell_type": "markdown",
   "id": "logical-windsor",
   "metadata": {
    "originalKey": "212c4543-220e-4605-8f72-5f86cf52f722",
    "papermill": {
     "duration": 0.007988,
     "end_time": "2024-03-01T16:39:49.975744",
     "exception": false,
     "start_time": "2024-03-01T16:39:49.967756",
     "status": "completed"
    },
    "tags": []
   },
   "source": [
    "Set up an experiment and generate 10 trials in it, adding synthetic data to experiment after each one:"
   ]
  },
  {
   "cell_type": "code",
   "execution_count": 16,
   "id": "viral-cheese",
   "metadata": {
    "execution": {
     "iopub.execute_input": "2024-03-01T16:39:49.992688Z",
     "iopub.status.busy": "2024-03-01T16:39:49.992153Z",
     "iopub.status.idle": "2024-03-01T16:39:49.998837Z",
     "shell.execute_reply": "2024-03-01T16:39:49.998121Z"
    },
    "originalKey": "30cfcdd7-721d-4f89-b851-7a94140dfad6",
    "papermill": {
     "duration": 0.016964,
     "end_time": "2024-03-01T16:39:50.000462",
     "exception": false,
     "start_time": "2024-03-01T16:39:49.983498",
     "status": "completed"
    },
    "tags": []
   },
   "outputs": [
    {
     "name": "stderr",
     "output_type": "stream",
     "text": [
      "[INFO 03-01 16:39:49] ax.core.experiment: The is_test flag has been set to True. This flag is meant purely for development and integration testing purposes. If you are running a live experiment, please set this flag to False\n"
     ]
    },
    {
     "data": {
      "text/plain": [
       "SearchSpace(parameters=[RangeParameter(name='x1', parameter_type=FLOAT, range=[-5.0, 10.0]), RangeParameter(name='x2', parameter_type=FLOAT, range=[0.0, 15.0])], parameter_constraints=[])"
      ]
     },
     "execution_count": 16,
     "metadata": {},
     "output_type": "execute_result"
    }
   ],
   "source": [
    "experiment = get_branin_experiment(minimize=True)\n",
    "\n",
    "assert len(experiment.trials) == 0\n",
    "experiment.search_space"
   ]
  },
  {
   "cell_type": "markdown",
   "id": "incident-newspaper",
   "metadata": {
    "originalKey": "2807d7ce-8a6b-423c-b5f5-32edba09c78e",
    "papermill": {
     "duration": 0.007595,
     "end_time": "2024-03-01T16:39:50.016397",
     "exception": false,
     "start_time": "2024-03-01T16:39:50.008802",
     "status": "completed"
    },
    "tags": []
   },
   "source": [
    "## 5a. Specifying `pending_observations`\n",
    "Note that it's important to **specify pending observations** to the call to `gen` to avoid getting the same points re-suggested. Without `pending_observations` argument, Ax models are not aware of points that should be excluded from generation. Points are considered \"pending\" when they belong to `STAGED`, `RUNNING`, or `ABANDONED` trials (with the latter included so model does not re-suggest points that are considered \"bad\" and should not be re-suggested).\n",
    "\n",
    "If the call to `get_pending_observation_features` becomes slow in your setup (since it performs data-fetching etc.), you can opt for `get_pending_observation_features_based_on_trial_status` (also from `ax.modelbridge.modelbridge_utils`), but note the limitations of that utility (detailed in its docstring)."
   ]
  },
  {
   "cell_type": "code",
   "execution_count": 17,
   "id": "casual-spread",
   "metadata": {
    "execution": {
     "iopub.execute_input": "2024-03-01T16:39:50.033812Z",
     "iopub.status.busy": "2024-03-01T16:39:50.033109Z",
     "iopub.status.idle": "2024-03-01T16:39:52.556112Z",
     "shell.execute_reply": "2024-03-01T16:39:52.555402Z"
    },
    "originalKey": "58aafd65-a366-4b66-a1b1-31b207037a2e",
    "papermill": {
     "duration": 2.533446,
     "end_time": "2024-03-01T16:39:52.557508",
     "exception": false,
     "start_time": "2024-03-01T16:39:50.024062",
     "status": "completed"
    },
    "tags": []
   },
   "outputs": [
    {
     "name": "stdout",
     "output_type": "stream",
     "text": [
      "Completed trial #0, suggested by Sobol.\n",
      "Completed trial #1, suggested by Sobol.\n",
      "Completed trial #2, suggested by Sobol.\n",
      "Completed trial #3, suggested by Sobol.\n",
      "Completed trial #4, suggested by Sobol.\n"
     ]
    },
    {
     "name": "stdout",
     "output_type": "stream",
     "text": [
      "Completed trial #5, suggested by BoTorch.\n"
     ]
    },
    {
     "name": "stdout",
     "output_type": "stream",
     "text": [
      "Completed trial #6, suggested by BoTorch.\n"
     ]
    },
    {
     "name": "stdout",
     "output_type": "stream",
     "text": [
      "Completed trial #7, suggested by BoTorch.\n"
     ]
    },
    {
     "name": "stdout",
     "output_type": "stream",
     "text": [
      "Completed trial #8, suggested by BoTorch.\n"
     ]
    },
    {
     "name": "stdout",
     "output_type": "stream",
     "text": [
      "Completed trial #9, suggested by BoTorch.\n"
     ]
    }
   ],
   "source": [
    "for _ in range(10):\n",
    "    # Produce a new generator run and attach it to experiment as a trial\n",
    "    generator_run = gs.gen(\n",
    "        experiment=experiment,\n",
    "        n=1,\n",
    "        pending_observations=get_pending_observation_features(experiment=experiment),\n",
    "    )\n",
    "    trial = experiment.new_trial(generator_run)\n",
    "\n",
    "    # Mark the trial as 'RUNNING' so we can mark it 'COMPLETED' later\n",
    "    trial.mark_running(no_runner_required=True)\n",
    "\n",
    "    # Attach data for the new trial and mark it 'COMPLETED'\n",
    "    experiment.attach_data(get_branin_data(trials=[trial]))\n",
    "    trial.mark_completed()\n",
    "\n",
    "    print(f\"Completed trial #{trial.index}, suggested by {generator_run._model_key}.\")"
   ]
  },
  {
   "cell_type": "markdown",
   "id": "circular-vermont",
   "metadata": {
    "originalKey": "9d3b86bf-b691-4315-8b8f-60504b37818c",
    "papermill": {
     "duration": 0.007266,
     "end_time": "2024-03-01T16:39:52.572668",
     "exception": false,
     "start_time": "2024-03-01T16:39:52.565402",
     "status": "completed"
    },
    "tags": []
   },
   "source": [
    "Now we examine the experiment and observe the trials that were added to it and produced by the generation strategy:"
   ]
  },
  {
   "cell_type": "code",
   "execution_count": 18,
   "id": "significant-particular",
   "metadata": {
    "execution": {
     "iopub.execute_input": "2024-03-01T16:39:52.588410Z",
     "iopub.status.busy": "2024-03-01T16:39:52.587923Z",
     "iopub.status.idle": "2024-03-01T16:39:52.613704Z",
     "shell.execute_reply": "2024-03-01T16:39:52.613160Z"
    },
    "originalKey": "ca12913d-e3fd-4617-a247-e3432665bac1",
    "papermill": {
     "duration": 0.03512,
     "end_time": "2024-03-01T16:39:52.615044",
     "exception": false,
     "start_time": "2024-03-01T16:39:52.579924",
     "status": "completed"
    },
    "tags": []
   },
   "outputs": [
    {
     "name": "stderr",
     "output_type": "stream",
     "text": [
      "[WARNING 03-01 16:39:52] ax.service.utils.report_utils: Column reason missing for all trials. Not appending column.\n"
     ]
    },
    {
     "data": {
      "text/html": [
       "<div>\n",
       "<style scoped>\n",
       "    .dataframe tbody tr th:only-of-type {\n",
       "        vertical-align: middle;\n",
       "    }\n",
       "\n",
       "    .dataframe tbody tr th {\n",
       "        vertical-align: top;\n",
       "    }\n",
       "\n",
       "    .dataframe thead th {\n",
       "        text-align: right;\n",
       "    }\n",
       "</style>\n",
       "<table border=\"1\" class=\"dataframe\">\n",
       "  <thead>\n",
       "    <tr style=\"text-align: right;\">\n",
       "      <th></th>\n",
       "      <th>trial_index</th>\n",
       "      <th>arm_name</th>\n",
       "      <th>trial_status</th>\n",
       "      <th>generation_method</th>\n",
       "      <th>branin</th>\n",
       "      <th>x1</th>\n",
       "      <th>x2</th>\n",
       "    </tr>\n",
       "  </thead>\n",
       "  <tbody>\n",
       "    <tr>\n",
       "      <th>0</th>\n",
       "      <td>0</td>\n",
       "      <td>0_0</td>\n",
       "      <td>COMPLETED</td>\n",
       "      <td>Sobol</td>\n",
       "      <td>139.685645</td>\n",
       "      <td>4.309045</td>\n",
       "      <td>13.092871</td>\n",
       "    </tr>\n",
       "    <tr>\n",
       "      <th>1</th>\n",
       "      <td>1</td>\n",
       "      <td>1_0</td>\n",
       "      <td>COMPLETED</td>\n",
       "      <td>Sobol</td>\n",
       "      <td>62.981525</td>\n",
       "      <td>-2.358768</td>\n",
       "      <td>2.740536</td>\n",
       "    </tr>\n",
       "    <tr>\n",
       "      <th>2</th>\n",
       "      <td>2</td>\n",
       "      <td>2_0</td>\n",
       "      <td>COMPLETED</td>\n",
       "      <td>Sobol</td>\n",
       "      <td>137.306089</td>\n",
       "      <td>9.202208</td>\n",
       "      <td>13.984309</td>\n",
       "    </tr>\n",
       "    <tr>\n",
       "      <th>3</th>\n",
       "      <td>3</td>\n",
       "      <td>3_0</td>\n",
       "      <td>COMPLETED</td>\n",
       "      <td>Sobol</td>\n",
       "      <td>24.124202</td>\n",
       "      <td>-4.412913</td>\n",
       "      <td>11.421193</td>\n",
       "    </tr>\n",
       "    <tr>\n",
       "      <th>4</th>\n",
       "      <td>4</td>\n",
       "      <td>4_0</td>\n",
       "      <td>COMPLETED</td>\n",
       "      <td>Sobol</td>\n",
       "      <td>96.826736</td>\n",
       "      <td>4.784772</td>\n",
       "      <td>10.623104</td>\n",
       "    </tr>\n",
       "    <tr>\n",
       "      <th>5</th>\n",
       "      <td>5</td>\n",
       "      <td>5_0</td>\n",
       "      <td>COMPLETED</td>\n",
       "      <td>BoTorch</td>\n",
       "      <td>85.998888</td>\n",
       "      <td>-5.000000</td>\n",
       "      <td>8.627270</td>\n",
       "    </tr>\n",
       "    <tr>\n",
       "      <th>6</th>\n",
       "      <td>6</td>\n",
       "      <td>6_0</td>\n",
       "      <td>COMPLETED</td>\n",
       "      <td>BoTorch</td>\n",
       "      <td>30.084788</td>\n",
       "      <td>-5.000000</td>\n",
       "      <td>13.020703</td>\n",
       "    </tr>\n",
       "    <tr>\n",
       "      <th>7</th>\n",
       "      <td>7</td>\n",
       "      <td>7_0</td>\n",
       "      <td>COMPLETED</td>\n",
       "      <td>BoTorch</td>\n",
       "      <td>0.417723</td>\n",
       "      <td>-3.086450</td>\n",
       "      <td>12.070480</td>\n",
       "    </tr>\n",
       "    <tr>\n",
       "      <th>8</th>\n",
       "      <td>8</td>\n",
       "      <td>8_0</td>\n",
       "      <td>COMPLETED</td>\n",
       "      <td>BoTorch</td>\n",
       "      <td>16.631110</td>\n",
       "      <td>-1.515936</td>\n",
       "      <td>11.180310</td>\n",
       "    </tr>\n",
       "    <tr>\n",
       "      <th>9</th>\n",
       "      <td>9</td>\n",
       "      <td>9_0</td>\n",
       "      <td>COMPLETED</td>\n",
       "      <td>BoTorch</td>\n",
       "      <td>10.560656</td>\n",
       "      <td>-2.383928</td>\n",
       "      <td>13.273494</td>\n",
       "    </tr>\n",
       "  </tbody>\n",
       "</table>\n",
       "</div>"
      ],
      "text/plain": [
       "   trial_index arm_name trial_status generation_method      branin        x1  \\\n",
       "0            0      0_0    COMPLETED             Sobol  139.685645  4.309045   \n",
       "1            1      1_0    COMPLETED             Sobol   62.981525 -2.358768   \n",
       "2            2      2_0    COMPLETED             Sobol  137.306089  9.202208   \n",
       "3            3      3_0    COMPLETED             Sobol   24.124202 -4.412913   \n",
       "4            4      4_0    COMPLETED             Sobol   96.826736  4.784772   \n",
       "5            5      5_0    COMPLETED           BoTorch   85.998888 -5.000000   \n",
       "6            6      6_0    COMPLETED           BoTorch   30.084788 -5.000000   \n",
       "7            7      7_0    COMPLETED           BoTorch    0.417723 -3.086450   \n",
       "8            8      8_0    COMPLETED           BoTorch   16.631110 -1.515936   \n",
       "9            9      9_0    COMPLETED           BoTorch   10.560656 -2.383928   \n",
       "\n",
       "          x2  \n",
       "0  13.092871  \n",
       "1   2.740536  \n",
       "2  13.984309  \n",
       "3  11.421193  \n",
       "4  10.623104  \n",
       "5   8.627270  \n",
       "6  13.020703  \n",
       "7  12.070480  \n",
       "8  11.180310  \n",
       "9  13.273494  "
      ]
     },
     "execution_count": 18,
     "metadata": {},
     "output_type": "execute_result"
    }
   ],
   "source": [
    "exp_to_df(experiment)"
   ]
  },
  {
   "cell_type": "markdown",
   "id": "obvious-transparency",
   "metadata": {
    "originalKey": "c25da720-6d3d-4f16-b878-24f2d2755783",
    "papermill": {
     "duration": 0.00744,
     "end_time": "2024-03-01T16:39:52.630468",
     "exception": false,
     "start_time": "2024-03-01T16:39:52.623028",
     "status": "completed"
    },
    "tags": []
   },
   "source": [
    "## 6. Customizing a `Surrogate` or `Acquisition`\n",
    "\n",
    "We expect the base `Surrogate` and `Acquisition` classes to work with most BoTorch components, but there could be a case where you would need to subclass one of aforementioned abstractions to handle a given BoTorch component. If you run into a case like this, feel free to open an issue on our [Github issues page](https://github.com/facebook/Ax/issues) –– it would be very useful for us to know \n",
    "\n",
    "One such example would be a need for a custom `MCAcquisitionObjective` or posterior transform. To subclass `Acquisition` accordingly, one would override the `get_botorch_objective_and_transform` method:"
   ]
  },
  {
   "cell_type": "code",
   "execution_count": 19,
   "id": "organizational-balance",
   "metadata": {
    "execution": {
     "iopub.execute_input": "2024-03-01T16:39:52.646877Z",
     "iopub.status.busy": "2024-03-01T16:39:52.646467Z",
     "iopub.status.idle": "2024-03-01T16:39:52.651339Z",
     "shell.execute_reply": "2024-03-01T16:39:52.650769Z"
    },
    "originalKey": "e7f8e413-f01e-4f9d-82c1-4912097637af",
    "papermill": {
     "duration": 0.014475,
     "end_time": "2024-03-01T16:39:52.652652",
     "exception": false,
     "start_time": "2024-03-01T16:39:52.638177",
     "status": "completed"
    },
    "tags": []
   },
   "outputs": [],
   "source": [
    "from botorch.acquisition.objective import MCAcquisitionObjective, PosteriorTransform\n",
    "from botorch.acquisition.risk_measures import RiskMeasureMCObjective\n",
    "\n",
    "class CustomObjectiveAcquisition(Acquisition):\n",
    "    def get_botorch_objective_and_transform(\n",
    "        self,\n",
    "        botorch_acqf_class: Type[AcquisitionFunction],\n",
    "        model: Model,\n",
    "        objective_weights: Tensor,\n",
    "        objective_thresholds: Optional[Tensor] = None,\n",
    "        outcome_constraints: Optional[Tuple[Tensor, Tensor]] = None,\n",
    "        X_observed: Optional[Tensor] = None,\n",
    "        risk_measure: Optional[RiskMeasureMCObjective] = None,\n",
    "    ) -> Tuple[Optional[MCAcquisitionObjective], Optional[PosteriorTransform]]:\n",
    "        ...  # Produce the desired `MCAcquisitionObjective` and `PosteriorTransform` instead of the default"
   ]
  },
  {
   "cell_type": "markdown",
   "id": "theoretical-horizon",
   "metadata": {
    "originalKey": "7299f0fc-e19e-4383-99de-ef7a9a987fe9",
    "papermill": {
     "duration": 0.007408,
     "end_time": "2024-03-01T16:39:52.667833",
     "exception": false,
     "start_time": "2024-03-01T16:39:52.660425",
     "status": "completed"
    },
    "tags": []
   },
   "source": [
    "Then to use the new subclass in `BoTorchModel`, just specify `acquisition_class` argument along with `botorch_acqf_class` (to `BoTorchModel` directly or to `Models.BOTORCH_MODULAR`, which just passes the relevant arguments to `BoTorchModel` under the hood, as discussed in section 4):"
   ]
  },
  {
   "cell_type": "code",
   "execution_count": 20,
   "id": "approximate-rolling",
   "metadata": {
    "execution": {
     "iopub.execute_input": "2024-03-01T16:39:52.684275Z",
     "iopub.status.busy": "2024-03-01T16:39:52.683675Z",
     "iopub.status.idle": "2024-03-01T16:39:52.722762Z",
     "shell.execute_reply": "2024-03-01T16:39:52.722093Z"
    },
    "originalKey": "07fe169a-78de-437e-9857-7c99cc48eedc",
    "papermill": {
     "duration": 0.04877,
     "end_time": "2024-03-01T16:39:52.724127",
     "exception": false,
     "start_time": "2024-03-01T16:39:52.675357",
     "status": "completed"
    },
    "tags": []
   },
   "outputs": [
    {
     "name": "stderr",
     "output_type": "stream",
     "text": [
      "[INFO 03-01 16:39:52] ax.modelbridge.transforms.standardize_y: Outcome branin is constant, within tolerance.\n"
     ]
    },
    {
     "name": "stderr",
     "output_type": "stream",
     "text": [
      "/opt/hostedtoolcache/Python/3.9.18/x64/lib/python3.9/site-packages/botorch/models/utils/assorted.py:194: UserWarning: std(): degrees of freedom is <= 0. Correction should be strictly less than the reduction factor (input numel divided by output numel). (Triggered internally at ../aten/src/ATen/native/ReduceOps.cpp:1760.)\n",
      "  Ymean, Ystd = torch.mean(Y, dim=-2), torch.std(Y, dim=-2)\n"
     ]
    },
    {
     "data": {
      "text/plain": [
       "TorchModelBridge(model=BoTorchModel)"
      ]
     },
     "execution_count": 20,
     "metadata": {},
     "output_type": "execute_result"
    }
   ],
   "source": [
    "Models.BOTORCH_MODULAR(\n",
    "    experiment=experiment,\n",
    "    data=data,\n",
    "    acquisition_class=CustomObjectiveAcquisition,\n",
    "    botorch_acqf_class=MyAcquisitionFunctionClass,\n",
    ")"
   ]
  },
  {
   "cell_type": "markdown",
   "id": "representative-implement",
   "metadata": {
    "originalKey": "608d5f0d-4528-4aa6-869d-db38fcbfb256",
    "papermill": {
     "duration": 0.007694,
     "end_time": "2024-03-01T16:39:52.740104",
     "exception": false,
     "start_time": "2024-03-01T16:39:52.732410",
     "status": "completed"
    },
    "tags": []
   },
   "source": [
    "To use a custom `Surrogate` subclass, pass the `surrogate` argument of that type:\n",
    "```\n",
    "Models.BOTORCH_MODULAR(\n",
    "    experiment=experiment, \n",
    "    data=data,\n",
    "    surrogate=CustomSurrogate(botorch_model_class=MyModelClass),\n",
    ")\n",
    "```"
   ]
  },
  {
   "cell_type": "markdown",
   "id": "framed-intermediate",
   "metadata": {
    "originalKey": "64f1289e-73c7-4cc5-96ee-5091286a8361",
    "papermill": {
     "duration": 0.007669,
     "end_time": "2024-03-01T16:39:52.755568",
     "exception": false,
     "start_time": "2024-03-01T16:39:52.747899",
     "status": "completed"
    },
    "tags": []
   },
   "source": [
    "------"
   ]
  },
  {
   "cell_type": "markdown",
   "id": "metropolitan-feedback",
   "metadata": {
    "originalKey": "d1e37569-dd0d-4561-b890-2f0097a345e0",
    "papermill": {
     "duration": 0.007639,
     "end_time": "2024-03-01T16:39:52.770875",
     "exception": false,
     "start_time": "2024-03-01T16:39:52.763236",
     "status": "completed"
    },
    "tags": []
   },
   "source": [
    "## Appendix 1: Methods available on `BoTorchModel`\n",
    "\n",
    "Note that usually all these methods are used through `ModelBridge` –– a convertion and transformation layer that adapts Ax abstractions to inputs required by the given model.\n",
    "\n",
    "**Core methods on `BoTorchModel`:**\n",
    "* `fit` selects a surrogate if needed and fits the surrogate model to data via `Surrogate.fit`,\n",
    "* `predict` estimates metric values at a given point via `Surrogate.predict`,\n",
    "* `gen` instantiates an acquisition function via `Acquisition.__init__` and optimizes it to generate candidates.\n",
    "\n",
    "**Other methods on `BoTorchModel`:**\n",
    "* `update` updates surrogate model with training data and optionally reoptimizes model parameters via `Surrogate.update`,\n",
    "* `cross_validate` re-fits the surrogate model to subset of training data and makes predictions for test data,\n",
    "* `evaluate_acquisition_function` instantiates an acquisition function and evaluates it for a given point.\n",
    "------\n"
   ]
  },
  {
   "cell_type": "markdown",
   "id": "possible-transsexual",
   "metadata": {
    "originalKey": "b02f928c-57d9-4b2a-b4fe-c6d28d368b12",
    "papermill": {
     "duration": 0.007568,
     "end_time": "2024-03-01T16:39:52.786092",
     "exception": false,
     "start_time": "2024-03-01T16:39:52.778524",
     "status": "completed"
    },
    "tags": []
   },
   "source": [
    "## Appendix 2: Default surrogate models and acquisition functions\n",
    "\n",
    "By default, the chosen surrogate model will be:\n",
    "* if fidelity parameters are present in search space: `FixedNoiseMultiFidelityGP` (if [SEM](https://ax.dev/docs/glossary.html#sem)s are known on observations) and `SingleTaskMultiFidelityGP` (if variance unknown and needs to be inferred),\n",
    "* if task parameters are present: a set of `FixedNoiseMultiTaskGP` (if known variance) or `MultiTaskGP` (if unknown variance), wrapped in a `ModelListGP` and each modeling one task,\n",
    "* `FixedNoiseGP` (known variance) and `SingleTaskGP` (unknown variance) otherwise.\n",
    "\n",
    "The chosen acquisition function will be:\n",
    "* for multi-objective settings: `qExpectedHypervolumeImprovement`,\n",
    "* `qExpectedImprovement` (known variance) and `qNoisyExpectedImprovement` (unknown variance) otherwise.\n",
    "----"
   ]
  },
  {
   "cell_type": "markdown",
   "id": "continuous-strain",
   "metadata": {
    "originalKey": "76ae9852-9d21-43d6-bf75-bb087a474dd6",
    "papermill": {
     "duration": 0.007638,
     "end_time": "2024-03-01T16:39:52.801356",
     "exception": false,
     "start_time": "2024-03-01T16:39:52.793718",
     "status": "completed"
    },
    "tags": []
   },
   "source": [
    "## Appendix 3: Handling storage errors that arise from objects that don't have serialization logic in A\n",
    "\n",
    "Attempting to store a generator run produced via `Models.BOTORCH_MODULAR` instance that included options without serization logic with will produce an error like: `\"Object <SomeAcquisitionOption object> passed to 'object_to_json' (of type <class SomeAcquisitionOption'>) is not registered with a corresponding encoder in ENCODER_REGISTRY.\"`"
   ]
  },
  {
   "cell_type": "markdown",
   "id": "broadband-voice",
   "metadata": {
    "originalKey": "6487b68e-b808-4372-b6ba-ab02ce4826bc",
    "papermill": {
     "duration": 0.007632,
     "end_time": "2024-03-01T16:39:52.816661",
     "exception": false,
     "start_time": "2024-03-01T16:39:52.809029",
     "status": "completed"
    },
    "tags": []
   },
   "source": [
    "The two options for handling this error are:\n",
    "1. disabling storage of `BoTorchModel`'s options by passing `no_model_options_storage=True` to `Models.BOTORCH_MODULAR(...)` call –– this will prevent model options from being stored on the generator run, so a generator run can be saved but cannot be used to restore the model that produced it,\n",
    "2. specifying serialization logic for a given object that needs to occur among the `Model` or `AcquisitionFunction` options. Tutorial for this is in the works, but in the meantime you can [post an issue on the Ax GitHub](https://github.com/facebook/Ax/issues) to get help with this."
   ]
  }
 ],
 "metadata": {
  "kernelspec": {
   "display_name": "Python 3 (ipykernel)",
   "language": "python",
   "name": "python3"
  },
  "language_info": {
   "codemirror_mode": {
    "name": "ipython",
    "version": 3
   },
   "file_extension": ".py",
   "mimetype": "text/x-python",
   "name": "python",
   "nbconvert_exporter": "python",
   "pygments_lexer": "ipython3",
   "version": "3.9.18"
  },
  "papermill": {
   "default_parameters": {},
   "duration": 10.021816,
   "end_time": "2024-03-01T16:39:54.406777",
   "environment_variables": {},
   "exception": null,
   "input_path": "/tmp/tmp.KbiES6I0qN/Ax-main/tutorials/modular_botax.ipynb",
   "output_path": "/tmp/tmp.KbiES6I0qN/Ax-main/tutorials/modular_botax.ipynb",
   "parameters": {},
   "start_time": "2024-03-01T16:39:44.384961",
   "version": "2.5.0"
  }
 },
 "nbformat": 4,
 "nbformat_minor": 5
}
