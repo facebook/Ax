{
 "cells": [
  {
   "cell_type": "markdown",
   "metadata": {},
   "source": [
    "# Multi-task Bayesian Optimization\n",
    "\n",
    "This tutorial uses synthetic functions to illustrate Bayesian optimization using a multi-task Gaussian Process in Ax. A typical use case is optimizing an expensive-to-evaluate (online) system with supporting (offline) simulations of that system.\n",
    "\n",
    "Bayesian optimization with a multi-task kernel (Multi-task Bayesian optimization) is described by Swersky et al.  (2013). Letham and Bakshy (2019) describe using multi-task Bayesian optimization to tune a ranking system with a mix of online and offline (simulator) experiments.\n",
    "\n",
    "This tutorial produces the results of Online Appendix 2 from [that paper](https://arxiv.org/pdf/1904.01049.pdf).\n",
    "\n",
    "The synthetic problem used here is to maximize the Hartmann 6 function, a classic optimization test problem in 6 dimensions, subject to a constraint on the 2-norm of $x$. Both the objective and the constraint are treated as unknown and are modeled with separate GPs. Both objective and constraint are noisy.\n",
    "\n",
    "Throughout the optimization we can make nosiy observations directly of the objective and constraint (an online observation), and we can make noisy observations of a biased version of the objective and constraint (offline observations). Bias is simulated by passing the function values through a piecewise linear function. Offline observations are much less time-consuming than online observations, so we wish to use them to improve our ability to optimize the online objective."
   ]
  },
  {
   "cell_type": "code",
   "execution_count": 9,
   "metadata": {},
   "outputs": [
    {
     "data": {
      "text/html": [
       "<script type='text/javascript'>requirejs.config({\n",
       "  paths: {\n",
       "    plotly: ['https://cdn.plot.ly/plotly-latest.min'],\n",
       "  },\n",
       "});\n",
       "if (!window.Plotly) {\n",
       "  require(['plotly'], function(plotly) {\n",
       "    window.Plotly = plotly;\n",
       "  });\n",
       "}\n",
       "// helper functions used across multiple plots\n",
       "function rgb(rgb_array) {\n",
       "  return 'rgb(' + rgb_array.join() + ')';\n",
       "}\n",
       "\n",
       "function copy_and_reverse(arr) {\n",
       "  const copy = arr.slice();\n",
       "  copy.reverse();\n",
       "  return copy;\n",
       "}\n",
       "\n",
       "function axis_range(grid, is_log) {\n",
       "  return is_log ?\n",
       "    [Math.log10(Math.min(...grid)), Math.log10(Math.max(...grid))]:\n",
       "    [Math.min(...grid), Math.max(...grid)];\n",
       "}\n",
       "\n",
       "function relativize_data(f, sd, rel, arm_data, metric) {\n",
       "  // if relative, extract status quo & compute ratio\n",
       "  const f_final = rel === true ? [] : f;\n",
       "  const sd_final = rel === true ? []: sd;\n",
       "\n",
       "  if (rel === true) {\n",
       "    const f_sq = (\n",
       "      arm_data['in_sample'][arm_data['status_quo_name']]['y'][metric]\n",
       "    );\n",
       "    const sd_sq = (\n",
       "      arm_data['in_sample'][arm_data['status_quo_name']]['se'][metric]\n",
       "    );\n",
       "\n",
       "    for (let i = 0; i < f.length; i++) {\n",
       "      res = relativize(f[i], sd[i], f_sq, sd_sq);\n",
       "      f_final.push(100 * res[0]);\n",
       "      sd_final.push(100 * res[1]);\n",
       "    }\n",
       "  }\n",
       "\n",
       "  return [f_final, sd_final];\n",
       "}\n",
       "\n",
       "function relativize(m_t, sem_t, m_c, sem_c) {\n",
       "  r_hat = (\n",
       "    (m_t - m_c) / Math.abs(m_c) -\n",
       "    Math.pow(sem_c, 2) * m_t / Math.pow(Math.abs(m_c), 3)\n",
       "  );\n",
       "  variance = (\n",
       "    (Math.pow(sem_t, 2) + Math.pow((m_t / m_c * sem_c), 2)) /\n",
       "    Math.pow(m_c, 2)\n",
       "   )\n",
       "   return [r_hat, Math.sqrt(variance)];\n",
       "}\n",
       "</script>"
      ]
     },
     "metadata": {},
     "output_type": "display_data"
    },
    {
     "name": "stderr",
     "output_type": "stream",
     "text": [
      "[INFO 04-24 11:03:26] ipy_plotting: Injecting Plotly library into cell. Do not overwrite or delete cell.\n"
     ]
    }
   ],
   "source": [
    "from copy import deepcopy\n",
    "from matplotlib import pyplot as plt\n",
    "import numpy as np\n",
    "import pandas as pd\n",
    "from scipy.stats import norm\n",
    "import time\n",
    "\n",
    "from ax.core.data import Data\n",
    "from ax.core.observation import ObservationFeatures, observations_from_data\n",
    "from ax.core.optimization_config import OptimizationConfig\n",
    "from ax.core.search_space import SearchSpace\n",
    "from ax.core.objective import Objective\n",
    "from ax.runners.synthetic import SyntheticRunner\n",
    "from ax.modelbridge.random import RandomModelBridge\n",
    "from ax.core.outcome_constraint import OutcomeConstraint\n",
    "from ax.core.types import ComparisonOp\n",
    "from ax.core.parameter import RangeParameter, ParameterType\n",
    "from ax.core.multi_type_experiment import MultiTypeExperiment\n",
    "from ax.metrics.hartmann6 import Hartmann6Metric\n",
    "from ax.metrics.l2norm import L2NormMetric\n",
    "from ax.modelbridge.factory import get_sobol, get_GPEI, get_MTGP\n",
    "from ax.core.generator_run import GeneratorRun\n",
    "from ax.plot.diagnostic import interact_batch_comparison\n",
    "from ax.utils.notebook.plotting import init_notebook_plotting, render\n",
    "\n",
    "init_notebook_plotting()"
   ]
  },
  {
   "cell_type": "markdown",
   "metadata": {},
   "source": [
    "## 1. Define Metric classes\n",
    "For this example, the online system is optimizing a Hartmann6 function subject to a 2-norm constraint. The Metric objects for these are directly imported above. We create analagous offline versions of these two metrics which are identical but have a transform applied (a piecewise linear function). We construct Metric objects for each of them."
   ]
  },
  {
   "cell_type": "code",
   "execution_count": 2,
   "metadata": {
    "collapsed": true
   },
   "outputs": [],
   "source": [
    "# Create metrics with artificial offline bias, for both objective and constraint\n",
    "# by passing the true values through a piecewise linear function.\n",
    "\n",
    "class OfflineHartmann6Metric(Hartmann6Metric):\n",
    "    def f(self, x: np.ndarray) -> float:\n",
    "        raw_res = super().f(x)\n",
    "        m = -0.35\n",
    "        if raw_res < m:\n",
    "            return (1.5* (raw_res - m)) + m\n",
    "        else:\n",
    "            return (6.0 * (raw_res - m)) + m\n",
    "\n",
    "class OfflineL2NormMetric(L2NormMetric):\n",
    "    def f(self, x: np.ndarray) -> float:\n",
    "        raw_res = super().f(x)\n",
    "        m = 1.25\n",
    "        if raw_res < m:\n",
    "            return (0.8 * (raw_res - m)) + m\n",
    "        else:\n",
    "            return (4 * (raw_res - m)) + m"
   ]
  },
  {
   "cell_type": "markdown",
   "metadata": {},
   "source": [
    "## 2. Create experiment\n",
    "\n",
    "A MultiTypeExperiment is used for managing online and offline trials together. It is constructed in several steps:\n",
    "\n",
    "1. <b> Create the search space</b> - This is done in the usual way.\n",
    "2. <b>Specify optimization config</b> - Also done in the usual way.\n",
    "3. <b>Initialize Experiment</b> - In addition to the search_space and optimization_config, specify that \"online\" is the default trial_type. This is the main trial type for which we're optimizing. Optimization metrics are defined to be for this type and new trials assume this trial type by default.\n",
    "4. <b>Establish offline trial_type</b> - Register the \"offline\" trial type and specify how to deploy trials of this type.\n",
    "5. <b>Add offline metrics</b> - Create the offline metrics and add them to the experiment. When adding the metrics, we need to specify the trial type (\"offline\") and online metric name it is associated with so the model can link them.\n",
    "\n",
    "Finally, because this is a synthetic benchmark problem where the true function values are known, we will also register metrics with the true (noiseless) function values for plotting below."
   ]
  },
  {
   "cell_type": "code",
   "execution_count": 3,
   "metadata": {
    "collapsed": true
   },
   "outputs": [],
   "source": [
    "def get_experiment(include_true_metric=True):\n",
    "    noise_sd = 0.1  # Observations will have this much Normal noise added to them\n",
    "    \n",
    "    # 1. Create simple search space for [0,1]^d, d=6\n",
    "    param_names = [f\"x{i}\" for i in range(6)]\n",
    "    parameters=[\n",
    "        RangeParameter(\n",
    "            name=param_names[i], parameter_type=ParameterType.FLOAT, lower=0.0, upper=1.0\n",
    "        )\n",
    "        for i in range(6)\n",
    "    ]\n",
    "    search_space=SearchSpace(parameters=parameters)\n",
    "    \n",
    "    # 2. Specify optimization config\n",
    "    online_objective = Hartmann6Metric(\"objective\", param_names=param_names, noise_sd=noise_sd)\n",
    "    online_constraint = L2NormMetric(\"constraint\", param_names=param_names, noise_sd=noise_sd)\n",
    "    opt_config = OptimizationConfig(\n",
    "        objective=Objective(online_objective, minimize=True),\n",
    "        outcome_constraints=[OutcomeConstraint(online_constraint, op=ComparisonOp.LEQ, bound=1.25, relative=False)]\n",
    "    )\n",
    "    \n",
    "    # 3. Init experiment\n",
    "    exp = MultiTypeExperiment(\n",
    "        name=\"mt_exp\",\n",
    "        search_space=search_space,\n",
    "        default_trial_type=\"online\",\n",
    "        default_runner=SyntheticRunner(),\n",
    "        optimization_config=opt_config,\n",
    "    )\n",
    "    \n",
    "    # 4. Establish offline trial_type, and how those trials are deployed\n",
    "    exp.add_trial_type(\"offline\", SyntheticRunner())\n",
    "    \n",
    "    # 5. Add offline metrics that provide biased estimates of the online metrics\n",
    "    offline_objective = OfflineHartmann6Metric(\"offline_objective\", param_names=param_names, noise_sd=noise_sd)\n",
    "    offline_constraint = OfflineL2NormMetric(\"offline_constraint\", param_names=param_names, noise_sd=noise_sd)\n",
    "    # Associate each offline metric with corresponding online metric\n",
    "    exp.add_tracking_metric(metric=offline_objective, trial_type=\"offline\", canonical_name=\"objective\")\n",
    "    exp.add_tracking_metric(metric=offline_constraint, trial_type=\"offline\", canonical_name=\"constraint\")\n",
    "    \n",
    "    # Add a noiseless equivalent for each metric, for tracking the true value of each observation\n",
    "    # for the purposes of benchmarking.\n",
    "    if include_true_metric:\n",
    "        exp.add_tracking_metric(Hartmann6Metric(\"objective_noiseless\", param_names=param_names, noise_sd=0.0), \"online\")\n",
    "        exp.add_tracking_metric(L2NormMetric(\"constraint_noiseless\", param_names=param_names, noise_sd=0.0), \"online\")\n",
    "    return exp"
   ]
  },
  {
   "cell_type": "markdown",
   "metadata": {},
   "source": [
    "## 3. Vizualize the simulator bias\n",
    "\n",
    "These figures compare the online measurements to the offline measurements on a random set of points, for both the objective metric and the constraint metric. You can see the offline measurements are biased but highly correlated. This produces Fig. S3 from the paper."
   ]
  },
  {
   "cell_type": "code",
   "execution_count": 4,
   "metadata": {},
   "outputs": [
    {
     "data": {
      "text/html": [
       "<div id=\"f9df7d4e940e42e18247806b2e3f0c57\" style=\"width: 100%;\" class=\"plotly-graph-div\"></div><script type='text/javascript'>require(['plotly'], function(Plotly) {\n",
       "  window.PLOTLYENV = window.PLOTLYENV || {};\n",
       "  window.PLOTLYENV.BASE_URL = 'https://plot.ly';\n",
       "  Plotly.newPlot(\n",
       "  \"f9df7d4e940e42e18247806b2e3f0c57\",\n",
       "  [{\"type\": \"scatter\", \"x\": [0.6560029310338202, 4.233051695085368], \"y\": [0.6560029310338202, 4.233051695085368], \"line\": {\"color\": \"black\", \"width\": 2, \"dash\": \"dot\"}, \"mode\": \"lines\", \"hoverinfo\": \"none\", \"visible\": true, \"showlegend\": false}, {\"type\": \"scatter\", \"x\": [1.2309251787292599, 1.7275391689364143, 2.245369001664637, 2.051808268991068, 2.3550557855995784, 1.685856329048327, 1.1325792191358584, 1.18203461230942, 3.6814806571118353, 1.0975493667088412, 1.4767333948646975, 1.1520842730581318, 1.9103611677256804, 3.0303777568276717, 2.2890148694884638, 1.8735505388137663, 1.886277612488006, 1.8793829753929856, 1.2011857568807247, 2.4798848672809046, 1.33884775525157, 2.4229918861372868, 3.3194000000635184, 2.2548474502248346, 0.85258393763308, 1.3465177386290492, 1.081696928139251, 2.4729664354647474, 2.174698376954517, 1.018901976555511, 3.1761824808620553, 2.951659074045494, 1.3062105553238985, 1.0432429899322455, 2.2369543274301606, 1.6244106574277803, 2.7321619880688828, 2.274573856591591, 1.1060213596856818, 4.037051695085368, 0.9253372694258702, 1.7046092417292655, 3.185539154177885, 1.906479426266911, 2.391983011805664, 1.0258418704276508, 2.391018557172471, 1.0610287459614953, 2.3022820635178833, 2.4651993265299286], \"y\": [1.160270800566867, 1.354843073096854, 1.6358239070678982, 1.2872115350017344, 1.499324160157345, 1.5386133480191422, 1.1156870169601323, 1.1791997753058774, 1.7645176603433037, 1.1067622756140287, 1.3095751131890072, 1.261620519779761, 1.5310365911562451, 1.8170070420735904, 1.507457430230781, 1.3464541987417704, 1.3630596453429196, 1.481907303650589, 1.216036578719551, 1.5693521620233202, 1.3347805396241832, 1.4556148909155406, 1.5629619223789164, 1.5038900987711217, 0.9918058146685664, 1.459077561978889, 0.9531264760377758, 1.552498407966476, 1.4546105333844983, 0.9327407259299346, 1.8672701821137931, 1.707716470786331, 1.2005946257127609, 0.8977655071180384, 1.6343087283517168, 1.4756421839441634, 1.6094315279279416, 1.5705063590214206, 1.2034895245200021, 1.9642367708909645, 0.8520029310338202, 1.3949492014552578, 1.6703383754419063, 1.4692761382239374, 1.3919178483698866, 1.1800107973280185, 1.695425939380364, 1.1677957968274313, 1.3832940032810581, 1.5736428870853043], \"marker\": {\"color\": \"rgba(128,177,211,1)\"}, \"mode\": \"markers\", \"name\": \"In-sample\", \"text\": [\"<b>Arm 0_0</b><br><br>Batch 1: 1.231 [1.035, 1.427]<br>Batch 0: 1.16 [0.964, 1.356]<br><br><em>Parameterization:</em><br>x0: 0.5<br>x1: 0.5<br>x2: 0.5<br>x3: 0.5<br>x4: 0.5<br>x5: 0.5\", \"<b>Arm 0_1</b><br><br>Batch 1: 1.728 [1.532, 1.924]<br>Batch 0: 1.355 [1.159, 1.551]<br><br><em>Parameterization:</em><br>x0: 0.75<br>x1: 0.25<br>x2: 0.75<br>x3: 0.25<br>x4: 0.75<br>x5: 0.25\", \"<b>Arm 0_10</b><br><br>Batch 1: 2.245 [2.049, 2.441]<br>Batch 0: 1.636 [1.440, 1.832]<br><br><em>Parameterization:</em><br>x0: 0.4375<br>x1: 0.5625<br>x2: 0.0625<br>x3: 0.4375<br>x4: 0.8125<br>x5: 0.9375\", \"<b>Arm 0_11</b><br><br>Batch 1: 2.052 [1.856, 2.248]<br>Batch 0: 1.287 [1.091, 1.483]<br><br><em>Parameterization:</em><br>x0: 0.3125<br>x1: 0.1875<br>x2: 0.9375<br>x3: 0.5625<br>x4: 0.4375<br>x5: 0.8125\", \"<b>Arm 0_12</b><br><br>Batch 1: 2.355 [2.159, 2.551]<br>Batch 0: 1.499 [1.303, 1.695]<br><br><em>Parameterization:</em><br>x0: 0.8125<br>x1: 0.6875<br>x2: 0.4375<br>x3: 0.0625<br>x4: 0.9375<br>x5: 0.3125\", \"<b>Arm 0_13</b><br><br>Batch 1: 1.686 [1.490, 1.882]<br>Batch 0: 1.539 [1.343, 1.735]<br><br><em>Parameterization:</em><br>x0: 0.5625<br>x1: 0.4375<br>x2: 0.1875<br>x3: 0.8125<br>x4: 0.6875<br>x5: 0.5625\", \"<b>Arm 0_14</b><br><br>Batch 1: 1.133 [0.937, 1.329]<br>Batch 0: 1.116 [0.920, 1.312]<br><br><em>Parameterization:</em><br>x0: 0.0625<br>x1: 0.9375<br>x2: 0.6875<br>x3: 0.3125<br>x4: 0.1875<br>x5: 0.0625\", \"<b>Arm 0_15</b><br><br>Batch 1: 1.182 [0.986, 1.378]<br>Batch 0: 1.179 [0.983, 1.375]<br><br><em>Parameterization:</em><br>x0: 0.09375<br>x1: 0.46875<br>x2: 0.84375<br>x3: 0.40625<br>x4: 0.28125<br>x5: 0.34375\", \"<b>Arm 0_16</b><br><br>Batch 1: 3.681 [3.485, 3.877]<br>Batch 0: 1.765 [1.569, 1.961]<br><br><em>Parameterization:</em><br>x0: 0.59375<br>x1: 0.96875<br>x2: 0.34375<br>x3: 0.90625<br>x4: 0.78125<br>x5: 0.84375\", \"<b>Arm 0_17</b><br><br>Batch 1: 1.098 [0.902, 1.294]<br>Batch 0: 1.107 [0.911, 1.303]<br><br><em>Parameterization:</em><br>x0: 0.84375<br>x1: 0.21875<br>x2: 0.09375<br>x3: 0.15625<br>x4: 0.53125<br>x5: 0.09375\", \"<b>Arm 0_18</b><br><br>Batch 1: 1.477 [1.281, 1.673]<br>Batch 0: 1.31 [1.114, 1.506]<br><br><em>Parameterization:</em><br>x0: 0.34375<br>x1: 0.71875<br>x2: 0.59375<br>x3: 0.65625<br>x4: 0.03125<br>x5: 0.59375\", \"<b>Arm 0_19</b><br><br>Batch 1: 1.152 [0.956, 1.348]<br>Batch 0: 1.262 [1.066, 1.458]<br><br><em>Parameterization:</em><br>x0: 0.46875<br>x1: 0.09375<br>x2: 0.46875<br>x3: 0.28125<br>x4: 0.65625<br>x5: 0.71875\", \"<b>Arm 0_2</b><br><br>Batch 1: 1.91 [1.714, 2.106]<br>Batch 0: 1.531 [1.335, 1.727]<br><br><em>Parameterization:</em><br>x0: 0.25<br>x1: 0.75<br>x2: 0.25<br>x3: 0.75<br>x4: 0.25<br>x5: 0.75\", \"<b>Arm 0_20</b><br><br>Batch 1: 3.03 [2.834, 3.226]<br>Batch 0: 1.817 [1.621, 2.013]<br><br><em>Parameterization:</em><br>x0: 0.96875<br>x1: 0.59375<br>x2: 0.96875<br>x3: 0.78125<br>x4: 0.15625<br>x5: 0.21875\", \"<b>Arm 0_21</b><br><br>Batch 1: 2.289 [2.093, 2.485]<br>Batch 0: 1.507 [1.311, 1.703]<br><br><em>Parameterization:</em><br>x0: 0.71875<br>x1: 0.34375<br>x2: 0.71875<br>x3: 0.03125<br>x4: 0.40625<br>x5: 0.96875\", \"<b>Arm 0_22</b><br><br>Batch 1: 1.874 [1.678, 2.070]<br>Batch 0: 1.346 [1.150, 1.542]<br><br><em>Parameterization:</em><br>x0: 0.21875<br>x1: 0.84375<br>x2: 0.21875<br>x3: 0.53125<br>x4: 0.90625<br>x5: 0.46875\", \"<b>Arm 0_23</b><br><br>Batch 1: 1.886 [1.690, 2.082]<br>Batch 0: 1.363 [1.167, 1.559]<br><br><em>Parameterization:</em><br>x0: 0.15625<br>x1: 0.15625<br>x2: 0.53125<br>x3: 0.84375<br>x4: 0.84375<br>x5: 0.40625\", \"<b>Arm 0_24</b><br><br>Batch 1: 1.879 [1.683, 2.075]<br>Batch 0: 1.482 [1.286, 1.678]<br><br><em>Parameterization:</em><br>x0: 0.65625<br>x1: 0.65625<br>x2: 0.03125<br>x3: 0.34375<br>x4: 0.34375<br>x5: 0.90625\", \"<b>Arm 0_25</b><br><br>Batch 1: 1.201 [1.005, 1.397]<br>Batch 0: 1.216 [1.020, 1.412]<br><br><em>Parameterization:</em><br>x0: 0.90625<br>x1: 0.40625<br>x2: 0.28125<br>x3: 0.59375<br>x4: 0.09375<br>x5: 0.15625\", \"<b>Arm 0_26</b><br><br>Batch 1: 2.48 [2.284, 2.676]<br>Batch 0: 1.569 [1.373, 1.765]<br><br><em>Parameterization:</em><br>x0: 0.40625<br>x1: 0.90625<br>x2: 0.78125<br>x3: 0.09375<br>x4: 0.59375<br>x5: 0.65625\", \"<b>Arm 0_27</b><br><br>Batch 1: 1.339 [1.143, 1.535]<br>Batch 0: 1.335 [1.139, 1.531]<br><br><em>Parameterization:</em><br>x0: 0.28125<br>x1: 0.28125<br>x2: 0.15625<br>x3: 0.96875<br>x4: 0.21875<br>x5: 0.53125\", \"<b>Arm 0_28</b><br><br>Batch 1: 2.423 [2.227, 2.619]<br>Batch 0: 1.456 [1.260, 1.652]<br><br><em>Parameterization:</em><br>x0: 0.78125<br>x1: 0.78125<br>x2: 0.65625<br>x3: 0.46875<br>x4: 0.71875<br>x5: 0.03125\", \"<b>Arm 0_29</b><br><br>Batch 1: 3.319 [3.123, 3.515]<br>Batch 0: 1.563 [1.367, 1.759]<br><br><em>Parameterization:</em><br>x0: 0.53125<br>x1: 0.03125<br>x2: 0.90625<br>x3: 0.71875<br>x4: 0.96875<br>x5: 0.78125\", \"<b>Arm 0_3</b><br><br>Batch 1: 2.255 [2.059, 2.451]<br>Batch 0: 1.504 [1.308, 1.700]<br><br><em>Parameterization:</em><br>x0: 0.375<br>x1: 0.375<br>x2: 0.625<br>x3: 0.125<br>x4: 0.875<br>x5: 0.875\", \"<b>Arm 0_30</b><br><br>Batch 1: 0.853 [0.657, 1.049]<br>Batch 0: 0.992 [0.796, 1.188]<br><br><em>Parameterization:</em><br>x0: 0.03125<br>x1: 0.53125<br>x2: 0.40625<br>x3: 0.21875<br>x4: 0.46875<br>x5: 0.28125\", \"<b>Arm 0_31</b><br><br>Batch 1: 1.347 [1.151, 1.543]<br>Batch 0: 1.459 [1.263, 1.655]<br><br><em>Parameterization:</em><br>x0: 0.046875<br>x1: 0.265625<br>x2: 0.609375<br>x3: 0.578125<br>x4: 0.703125<br>x5: 0.640625\", \"<b>Arm 0_32</b><br><br>Batch 1: 1.082 [0.886, 1.278]<br>Batch 0: 0.953 [0.757, 1.149]<br><br><em>Parameterization:</em><br>x0: 0.546875<br>x1: 0.765625<br>x2: 0.109375<br>x3: 0.078125<br>x4: 0.203125<br>x5: 0.140625\", \"<b>Arm 0_33</b><br><br>Batch 1: 2.473 [2.277, 2.669]<br>Batch 0: 1.552 [1.356, 1.748]<br><br><em>Parameterization:</em><br>x0: 0.796875<br>x1: 0.015625<br>x2: 0.359375<br>x3: 0.828125<br>x4: 0.453125<br>x5: 0.890625\", \"<b>Arm 0_34</b><br><br>Batch 1: 2.175 [1.979, 2.371]<br>Batch 0: 1.455 [1.259, 1.651]<br><br><em>Parameterization:</em><br>x0: 0.296875<br>x1: 0.515625<br>x2: 0.859375<br>x3: 0.328125<br>x4: 0.953125<br>x5: 0.390625\", \"<b>Arm 0_35</b><br><br>Batch 1: 1.019 [0.823, 1.215]<br>Batch 0: 0.933 [0.737, 1.129]<br><br><em>Parameterization:</em><br>x0: 0.421875<br>x1: 0.140625<br>x2: 0.234375<br>x3: 0.703125<br>x4: 0.328125<br>x5: 0.265625\", \"<b>Arm 0_36</b><br><br>Batch 1: 3.176 [2.980, 3.372]<br>Batch 0: 1.867 [1.671, 2.063]<br><br><em>Parameterization:</em><br>x0: 0.921875<br>x1: 0.640625<br>x2: 0.734375<br>x3: 0.203125<br>x4: 0.828125<br>x5: 0.765625\", \"<b>Arm 0_37</b><br><br>Batch 1: 2.952 [2.756, 3.148]<br>Batch 0: 1.708 [1.512, 1.904]<br><br><em>Parameterization:</em><br>x0: 0.671875<br>x1: 0.390625<br>x2: 0.984375<br>x3: 0.953125<br>x4: 0.578125<br>x5: 0.015625\", \"<b>Arm 0_38</b><br><br>Batch 1: 1.306 [1.110, 1.502]<br>Batch 0: 1.201 [1.005, 1.397]<br><br><em>Parameterization:</em><br>x0: 0.171875<br>x1: 0.890625<br>x2: 0.484375<br>x3: 0.453125<br>x4: 0.078125<br>x5: 0.515625\", \"<b>Arm 0_39</b><br><br>Batch 1: 1.043 [0.847, 1.239]<br>Batch 0: 0.898 [0.702, 1.094]<br><br><em>Parameterization:</em><br>x0: 0.234375<br>x1: 0.078125<br>x2: 0.796875<br>x3: 0.140625<br>x4: 0.140625<br>x5: 0.578125\", \"<b>Arm 0_4</b><br><br>Batch 1: 2.237 [2.041, 2.433]<br>Batch 0: 1.634 [1.438, 1.830]<br><br><em>Parameterization:</em><br>x0: 0.875<br>x1: 0.875<br>x2: 0.125<br>x3: 0.625<br>x4: 0.375<br>x5: 0.375\", \"<b>Arm 0_40</b><br><br>Batch 1: 1.624 [1.428, 1.820]<br>Batch 0: 1.476 [1.280, 1.672]<br><br><em>Parameterization:</em><br>x0: 0.734375<br>x1: 0.578125<br>x2: 0.296875<br>x3: 0.640625<br>x4: 0.640625<br>x5: 0.078125\", \"<b>Arm 0_41</b><br><br>Batch 1: 2.732 [2.536, 2.928]<br>Batch 0: 1.609 [1.413, 1.805]<br><br><em>Parameterization:</em><br>x0: 0.984375<br>x1: 0.328125<br>x2: 0.046875<br>x3: 0.390625<br>x4: 0.890625<br>x5: 0.828125\", \"<b>Arm 0_42</b><br><br>Batch 1: 2.275 [2.079, 2.471]<br>Batch 0: 1.571 [1.375, 1.767]<br><br><em>Parameterization:</em><br>x0: 0.484375<br>x1: 0.828125<br>x2: 0.546875<br>x3: 0.890625<br>x4: 0.390625<br>x5: 0.328125\", \"<b>Arm 0_43</b><br><br>Batch 1: 1.106 [0.910, 1.302]<br>Batch 0: 1.203 [1.007, 1.399]<br><br><em>Parameterization:</em><br>x0: 0.359375<br>x1: 0.453125<br>x2: 0.421875<br>x3: 0.015625<br>x4: 0.765625<br>x5: 0.453125\", \"<b>Arm 0_44</b><br><br>Batch 1: 4.037 [3.841, 4.233]<br>Batch 0: 1.964 [1.768, 2.160]<br><br><em>Parameterization:</em><br>x0: 0.859375<br>x1: 0.953125<br>x2: 0.921875<br>x3: 0.515625<br>x4: 0.265625<br>x5: 0.953125\", \"<b>Arm 0_45</b><br><br>Batch 1: 0.925 [0.729, 1.121]<br>Batch 0: 0.852 [0.656, 1.048]<br><br><em>Parameterization:</em><br>x0: 0.609375<br>x1: 0.203125<br>x2: 0.671875<br>x3: 0.265625<br>x4: 0.015625<br>x5: 0.203125\", \"<b>Arm 0_46</b><br><br>Batch 1: 1.705 [1.509, 1.901]<br>Batch 0: 1.395 [1.199, 1.591]<br><br><em>Parameterization:</em><br>x0: 0.109375<br>x1: 0.703125<br>x2: 0.171875<br>x3: 0.765625<br>x4: 0.515625<br>x5: 0.703125\", \"<b>Arm 0_47</b><br><br>Batch 1: 3.186 [2.990, 3.382]<br>Batch 0: 1.67 [1.474, 1.866]<br><br><em>Parameterization:</em><br>x0: 0.078125<br>x1: 0.234375<br>x2: 0.265625<br>x3: 0.984375<br>x4: 0.984375<br>x5: 0.984375\", \"<b>Arm 0_48</b><br><br>Batch 1: 1.906 [1.710, 2.102]<br>Batch 0: 1.469 [1.273, 1.665]<br><br><em>Parameterization:</em><br>x0: 0.578125<br>x1: 0.734375<br>x2: 0.765625<br>x3: 0.484375<br>x4: 0.484375<br>x5: 0.484375\", \"<b>Arm 0_49</b><br><br>Batch 1: 2.392 [2.196, 2.588]<br>Batch 0: 1.392 [1.196, 1.588]<br><br><em>Parameterization:</em><br>x0: 0.828125<br>x1: 0.484375<br>x2: 0.515625<br>x3: 0.734375<br>x4: 0.234375<br>x5: 0.734375\", \"<b>Arm 0_5</b><br><br>Batch 1: 1.026 [0.830, 1.222]<br>Batch 0: 1.18 [0.984, 1.376]<br><br><em>Parameterization:</em><br>x0: 0.625<br>x1: 0.125<br>x2: 0.375<br>x3: 0.375<br>x4: 0.125<br>x5: 0.625\", \"<b>Arm 0_6</b><br><br>Batch 1: 2.391 [2.195, 2.587]<br>Batch 0: 1.695 [1.499, 1.891]<br><br><em>Parameterization:</em><br>x0: 0.125<br>x1: 0.625<br>x2: 0.875<br>x3: 0.875<br>x4: 0.625<br>x5: 0.125\", \"<b>Arm 0_7</b><br><br>Batch 1: 1.061 [0.865, 1.257]<br>Batch 0: 1.168 [0.972, 1.364]<br><br><em>Parameterization:</em><br>x0: 0.1875<br>x1: 0.3125<br>x2: 0.3125<br>x3: 0.6875<br>x4: 0.5625<br>x5: 0.1875\", \"<b>Arm 0_8</b><br><br>Batch 1: 2.302 [2.106, 2.498]<br>Batch 0: 1.383 [1.187, 1.579]<br><br><em>Parameterization:</em><br>x0: 0.6875<br>x1: 0.8125<br>x2: 0.8125<br>x3: 0.1875<br>x4: 0.0625<br>x5: 0.6875\", \"<b>Arm 0_9</b><br><br>Batch 1: 2.465 [2.269, 2.661]<br>Batch 0: 1.574 [1.378, 1.770]<br><br><em>Parameterization:</em><br>x0: 0.9375<br>x1: 0.0625<br>x2: 0.5625<br>x3: 0.9375<br>x4: 0.3125<br>x5: 0.4375\"], \"hoverinfo\": \"text\", \"error_x\": {\"type\": \"data\", \"array\": [0.196, 0.196, 0.196, 0.196, 0.196, 0.196, 0.196, 0.196, 0.196, 0.196, 0.196, 0.196, 0.196, 0.196, 0.196, 0.196, 0.196, 0.196, 0.196, 0.196, 0.196, 0.196, 0.196, 0.196, 0.196, 0.196, 0.196, 0.196, 0.196, 0.196, 0.196, 0.196, 0.196, 0.196, 0.196, 0.196, 0.196, 0.196, 0.196, 0.196, 0.196, 0.196, 0.196, 0.196, 0.196, 0.196, 0.196, 0.196, 0.196, 0.196], \"color\": \"rgba(128,177,211,0.4)\"}, \"error_y\": {\"type\": \"data\", \"array\": [0.196, 0.196, 0.196, 0.196, 0.196, 0.196, 0.196, 0.196, 0.196, 0.196, 0.196, 0.196, 0.196, 0.196, 0.196, 0.196, 0.196, 0.196, 0.196, 0.196, 0.196, 0.196, 0.196, 0.196, 0.196, 0.196, 0.196, 0.196, 0.196, 0.196, 0.196, 0.196, 0.196, 0.196, 0.196, 0.196, 0.196, 0.196, 0.196, 0.196, 0.196, 0.196, 0.196, 0.196, 0.196, 0.196, 0.196, 0.196, 0.196, 0.196], \"color\": \"rgba(128,177,211,0.4)\"}, \"visible\": true, \"showlegend\": true}, {\"type\": \"scatter\", \"x\": [-1.8720713087039615, 2.025291329808119], \"y\": [-1.8720713087039615, 2.025291329808119], \"line\": {\"color\": \"black\", \"width\": 2, \"dash\": \"dot\"}, \"mode\": \"lines\", \"hoverinfo\": \"none\", \"visible\": false, \"showlegend\": false}, {\"type\": \"scatter\", \"x\": [-0.632181663004513, 1.5847313611071947, 1.5820200616773512, -0.6894863542950571, 1.769843897115104, 1.6700472304190366, 0.2774937267928332, -0.6209788294700309, 1.751153407250204, 1.6273530358578383, 0.8943043080463228, -0.591701259653501, 1.1475553535341654, 1.7405441704048839, -0.7136299908357344, 1.013302293409638, 1.2163120686378714, -0.3988366939444514, 1.6737261437314843, 1.0816935872197433, 1.6063856708895063, 0.3605143680050072, 1.6870837427575769, 0.3557863826853763, -0.39918411375320945, -0.09059730758952911, 0.6030665238668944, 1.6733050709767405, 1.0141960155573009, 0.8455315753888353, 1.6713825566068046, 1.6197512818015016, 0.6236607604492574, -1.6760713087039616, 1.6272419624765742, 0.4914819069133747, 1.6165471002351735, -0.121947356259061, -0.03946243442366622, 1.3539336805335733, 0.9907383743621367, 1.4580840351461017, 1.8252936689499084, 0.4156944190242325, 0.840524815975316, -1.3910305399743814, 0.7394460683945685, 1.1507669785750165, 0.6695844030432667, 1.8292913298081193], \"y\": [-0.5410938019657865, -0.1420680080651615, 0.1796117949260913, -0.7697688161950498, 0.11113293554683815, 0.0036036693990142456, -0.14653333570155383, -0.7094493213668902, 0.004344547493297396, -0.15366131241337855, -0.20186689064204386, -0.727370965005745, -0.0816954539415093, -0.09055402283165073, -0.5163784154259841, -0.09213074922074757, -0.023682351121679573, -0.40378963890918135, 0.09067506031519632, -0.09212964238131721, 0.08757949453693409, -0.08742836282697425, -0.0022993818727581527, -0.22394773442082094, -0.4755199330306672, -0.35205833430188754, -0.10173760291128457, 0.11898737492300625, -0.31078951410874933, -0.2684152826487417, -0.15763206783029515, 0.05147110253946839, -0.3832158732315518, -1.2010836790205615, -0.21474062612737618, -0.19431522305685978, 0.01815845198527646, -0.4456758081827662, -0.2814769015831732, -0.03855000363555356, -0.09293750416531209, -0.003713052047736122, -0.07667935596878424, -0.1067430890947397, -0.12956510163629117, -0.9753021167106272, -0.34577501029944446, -0.1607425793742757, -0.06006443430736148, -0.10001841031328279], \"marker\": {\"color\": \"rgba(128,177,211,1)\"}, \"mode\": \"markers\", \"name\": \"In-sample\", \"text\": [\"<b>Arm 0_0</b><br><br>Batch 1: -0.632 [-0.828, -0.436]<br>Batch 0: -0.541 [-0.737, -0.345]<br><br><em>Parameterization:</em><br>x0: 0.5<br>x1: 0.5<br>x2: 0.5<br>x3: 0.5<br>x4: 0.5<br>x5: 0.5\", \"<b>Arm 0_1</b><br><br>Batch 1: 1.585 [1.389, 1.781]<br>Batch 0: -0.142 [-0.338, 0.054]<br><br><em>Parameterization:</em><br>x0: 0.75<br>x1: 0.25<br>x2: 0.75<br>x3: 0.25<br>x4: 0.75<br>x5: 0.25\", \"<b>Arm 0_10</b><br><br>Batch 1: 1.582 [1.386, 1.778]<br>Batch 0: 0.18 [-0.016, 0.376]<br><br><em>Parameterization:</em><br>x0: 0.4375<br>x1: 0.5625<br>x2: 0.0625<br>x3: 0.4375<br>x4: 0.8125<br>x5: 0.9375\", \"<b>Arm 0_11</b><br><br>Batch 1: -0.689 [-0.885, -0.493]<br>Batch 0: -0.77 [-0.966, -0.574]<br><br><em>Parameterization:</em><br>x0: 0.3125<br>x1: 0.1875<br>x2: 0.9375<br>x3: 0.5625<br>x4: 0.4375<br>x5: 0.8125\", \"<b>Arm 0_12</b><br><br>Batch 1: 1.77 [1.574, 1.966]<br>Batch 0: 0.111 [-0.085, 0.307]<br><br><em>Parameterization:</em><br>x0: 0.8125<br>x1: 0.6875<br>x2: 0.4375<br>x3: 0.0625<br>x4: 0.9375<br>x5: 0.3125\", \"<b>Arm 0_13</b><br><br>Batch 1: 1.67 [1.474, 1.866]<br>Batch 0: 0.004 [-0.192, 0.200]<br><br><em>Parameterization:</em><br>x0: 0.5625<br>x1: 0.4375<br>x2: 0.1875<br>x3: 0.8125<br>x4: 0.6875<br>x5: 0.5625\", \"<b>Arm 0_14</b><br><br>Batch 1: 0.277 [0.081, 0.473]<br>Batch 0: -0.147 [-0.343, 0.049]<br><br><em>Parameterization:</em><br>x0: 0.0625<br>x1: 0.9375<br>x2: 0.6875<br>x3: 0.3125<br>x4: 0.1875<br>x5: 0.0625\", \"<b>Arm 0_15</b><br><br>Batch 1: -0.621 [-0.817, -0.425]<br>Batch 0: -0.709 [-0.905, -0.513]<br><br><em>Parameterization:</em><br>x0: 0.09375<br>x1: 0.46875<br>x2: 0.84375<br>x3: 0.40625<br>x4: 0.28125<br>x5: 0.34375\", \"<b>Arm 0_16</b><br><br>Batch 1: 1.751 [1.555, 1.947]<br>Batch 0: 0.004 [-0.192, 0.200]<br><br><em>Parameterization:</em><br>x0: 0.59375<br>x1: 0.96875<br>x2: 0.34375<br>x3: 0.90625<br>x4: 0.78125<br>x5: 0.84375\", \"<b>Arm 0_17</b><br><br>Batch 1: 1.627 [1.431, 1.823]<br>Batch 0: -0.154 [-0.350, 0.042]<br><br><em>Parameterization:</em><br>x0: 0.84375<br>x1: 0.21875<br>x2: 0.09375<br>x3: 0.15625<br>x4: 0.53125<br>x5: 0.09375\", \"<b>Arm 0_18</b><br><br>Batch 1: 0.894 [0.698, 1.090]<br>Batch 0: -0.202 [-0.398, -0.006]<br><br><em>Parameterization:</em><br>x0: 0.34375<br>x1: 0.71875<br>x2: 0.59375<br>x3: 0.65625<br>x4: 0.03125<br>x5: 0.59375\", \"<b>Arm 0_19</b><br><br>Batch 1: -0.592 [-0.788, -0.396]<br>Batch 0: -0.727 [-0.923, -0.531]<br><br><em>Parameterization:</em><br>x0: 0.46875<br>x1: 0.09375<br>x2: 0.46875<br>x3: 0.28125<br>x4: 0.65625<br>x5: 0.71875\", \"<b>Arm 0_2</b><br><br>Batch 1: 1.148 [0.952, 1.344]<br>Batch 0: -0.082 [-0.278, 0.114]<br><br><em>Parameterization:</em><br>x0: 0.25<br>x1: 0.75<br>x2: 0.25<br>x3: 0.75<br>x4: 0.25<br>x5: 0.75\", \"<b>Arm 0_20</b><br><br>Batch 1: 1.741 [1.545, 1.937]<br>Batch 0: -0.091 [-0.287, 0.105]<br><br><em>Parameterization:</em><br>x0: 0.96875<br>x1: 0.59375<br>x2: 0.96875<br>x3: 0.78125<br>x4: 0.15625<br>x5: 0.21875\", \"<b>Arm 0_21</b><br><br>Batch 1: -0.714 [-0.910, -0.518]<br>Batch 0: -0.516 [-0.712, -0.320]<br><br><em>Parameterization:</em><br>x0: 0.71875<br>x1: 0.34375<br>x2: 0.71875<br>x3: 0.03125<br>x4: 0.40625<br>x5: 0.96875\", \"<b>Arm 0_22</b><br><br>Batch 1: 1.013 [0.817, 1.209]<br>Batch 0: -0.092 [-0.288, 0.104]<br><br><em>Parameterization:</em><br>x0: 0.21875<br>x1: 0.84375<br>x2: 0.21875<br>x3: 0.53125<br>x4: 0.90625<br>x5: 0.46875\", \"<b>Arm 0_23</b><br><br>Batch 1: 1.216 [1.020, 1.412]<br>Batch 0: -0.024 [-0.220, 0.172]<br><br><em>Parameterization:</em><br>x0: 0.15625<br>x1: 0.15625<br>x2: 0.53125<br>x3: 0.84375<br>x4: 0.84375<br>x5: 0.40625\", \"<b>Arm 0_24</b><br><br>Batch 1: -0.399 [-0.595, -0.203]<br>Batch 0: -0.404 [-0.600, -0.208]<br><br><em>Parameterization:</em><br>x0: 0.65625<br>x1: 0.65625<br>x2: 0.03125<br>x3: 0.34375<br>x4: 0.34375<br>x5: 0.90625\", \"<b>Arm 0_25</b><br><br>Batch 1: 1.674 [1.478, 1.870]<br>Batch 0: 0.091 [-0.105, 0.287]<br><br><em>Parameterization:</em><br>x0: 0.90625<br>x1: 0.40625<br>x2: 0.28125<br>x3: 0.59375<br>x4: 0.09375<br>x5: 0.15625\", \"<b>Arm 0_26</b><br><br>Batch 1: 1.082 [0.886, 1.278]<br>Batch 0: -0.092 [-0.288, 0.104]<br><br><em>Parameterization:</em><br>x0: 0.40625<br>x1: 0.90625<br>x2: 0.78125<br>x3: 0.09375<br>x4: 0.59375<br>x5: 0.65625\", \"<b>Arm 0_27</b><br><br>Batch 1: 1.606 [1.410, 1.802]<br>Batch 0: 0.088 [-0.108, 0.284]<br><br><em>Parameterization:</em><br>x0: 0.28125<br>x1: 0.28125<br>x2: 0.15625<br>x3: 0.96875<br>x4: 0.21875<br>x5: 0.53125\", \"<b>Arm 0_28</b><br><br>Batch 1: 0.361 [0.165, 0.557]<br>Batch 0: -0.087 [-0.283, 0.109]<br><br><em>Parameterization:</em><br>x0: 0.78125<br>x1: 0.78125<br>x2: 0.65625<br>x3: 0.46875<br>x4: 0.71875<br>x5: 0.03125\", \"<b>Arm 0_29</b><br><br>Batch 1: 1.687 [1.491, 1.883]<br>Batch 0: -0.002 [-0.198, 0.194]<br><br><em>Parameterization:</em><br>x0: 0.53125<br>x1: 0.03125<br>x2: 0.90625<br>x3: 0.71875<br>x4: 0.96875<br>x5: 0.78125\", \"<b>Arm 0_3</b><br><br>Batch 1: 0.356 [0.160, 0.552]<br>Batch 0: -0.224 [-0.420, -0.028]<br><br><em>Parameterization:</em><br>x0: 0.375<br>x1: 0.375<br>x2: 0.625<br>x3: 0.125<br>x4: 0.875<br>x5: 0.875\", \"<b>Arm 0_30</b><br><br>Batch 1: -0.399 [-0.595, -0.203]<br>Batch 0: -0.476 [-0.672, -0.280]<br><br><em>Parameterization:</em><br>x0: 0.03125<br>x1: 0.53125<br>x2: 0.40625<br>x3: 0.21875<br>x4: 0.46875<br>x5: 0.28125\", \"<b>Arm 0_31</b><br><br>Batch 1: -0.091 [-0.287, 0.105]<br>Batch 0: -0.352 [-0.548, -0.156]<br><br><em>Parameterization:</em><br>x0: 0.046875<br>x1: 0.265625<br>x2: 0.609375<br>x3: 0.578125<br>x4: 0.703125<br>x5: 0.640625\", \"<b>Arm 0_32</b><br><br>Batch 1: 0.603 [0.407, 0.799]<br>Batch 0: -0.102 [-0.298, 0.094]<br><br><em>Parameterization:</em><br>x0: 0.546875<br>x1: 0.765625<br>x2: 0.109375<br>x3: 0.078125<br>x4: 0.203125<br>x5: 0.140625\", \"<b>Arm 0_33</b><br><br>Batch 1: 1.673 [1.477, 1.869]<br>Batch 0: 0.119 [-0.077, 0.315]<br><br><em>Parameterization:</em><br>x0: 0.796875<br>x1: 0.015625<br>x2: 0.359375<br>x3: 0.828125<br>x4: 0.453125<br>x5: 0.890625\", \"<b>Arm 0_34</b><br><br>Batch 1: 1.014 [0.818, 1.210]<br>Batch 0: -0.311 [-0.507, -0.115]<br><br><em>Parameterization:</em><br>x0: 0.296875<br>x1: 0.515625<br>x2: 0.859375<br>x3: 0.328125<br>x4: 0.953125<br>x5: 0.390625\", \"<b>Arm 0_35</b><br><br>Batch 1: 0.846 [0.650, 1.042]<br>Batch 0: -0.268 [-0.464, -0.072]<br><br><em>Parameterization:</em><br>x0: 0.421875<br>x1: 0.140625<br>x2: 0.234375<br>x3: 0.703125<br>x4: 0.328125<br>x5: 0.265625\", \"<b>Arm 0_36</b><br><br>Batch 1: 1.671 [1.475, 1.867]<br>Batch 0: -0.158 [-0.354, 0.038]<br><br><em>Parameterization:</em><br>x0: 0.921875<br>x1: 0.640625<br>x2: 0.734375<br>x3: 0.203125<br>x4: 0.828125<br>x5: 0.765625\", \"<b>Arm 0_37</b><br><br>Batch 1: 1.62 [1.424, 1.816]<br>Batch 0: 0.051 [-0.145, 0.247]<br><br><em>Parameterization:</em><br>x0: 0.671875<br>x1: 0.390625<br>x2: 0.984375<br>x3: 0.953125<br>x4: 0.578125<br>x5: 0.015625\", \"<b>Arm 0_38</b><br><br>Batch 1: 0.624 [0.428, 0.820]<br>Batch 0: -0.383 [-0.579, -0.187]<br><br><em>Parameterization:</em><br>x0: 0.171875<br>x1: 0.890625<br>x2: 0.484375<br>x3: 0.453125<br>x4: 0.078125<br>x5: 0.515625\", \"<b>Arm 0_39</b><br><br>Batch 1: -1.676 [-1.872, -1.480]<br>Batch 0: -1.201 [-1.397, -1.005]<br><br><em>Parameterization:</em><br>x0: 0.234375<br>x1: 0.078125<br>x2: 0.796875<br>x3: 0.140625<br>x4: 0.140625<br>x5: 0.578125\", \"<b>Arm 0_4</b><br><br>Batch 1: 1.627 [1.431, 1.823]<br>Batch 0: -0.215 [-0.411, -0.019]<br><br><em>Parameterization:</em><br>x0: 0.875<br>x1: 0.875<br>x2: 0.125<br>x3: 0.625<br>x4: 0.375<br>x5: 0.375\", \"<b>Arm 0_40</b><br><br>Batch 1: 0.491 [0.295, 0.687]<br>Batch 0: -0.194 [-0.390, 0.002]<br><br><em>Parameterization:</em><br>x0: 0.734375<br>x1: 0.578125<br>x2: 0.296875<br>x3: 0.640625<br>x4: 0.640625<br>x5: 0.078125\", \"<b>Arm 0_41</b><br><br>Batch 1: 1.617 [1.421, 1.813]<br>Batch 0: 0.018 [-0.178, 0.214]<br><br><em>Parameterization:</em><br>x0: 0.984375<br>x1: 0.328125<br>x2: 0.046875<br>x3: 0.390625<br>x4: 0.890625<br>x5: 0.828125\", \"<b>Arm 0_42</b><br><br>Batch 1: -0.122 [-0.318, 0.074]<br>Batch 0: -0.446 [-0.642, -0.250]<br><br><em>Parameterization:</em><br>x0: 0.484375<br>x1: 0.828125<br>x2: 0.546875<br>x3: 0.890625<br>x4: 0.390625<br>x5: 0.328125\", \"<b>Arm 0_43</b><br><br>Batch 1: -0.039 [-0.235, 0.157]<br>Batch 0: -0.281 [-0.477, -0.085]<br><br><em>Parameterization:</em><br>x0: 0.359375<br>x1: 0.453125<br>x2: 0.421875<br>x3: 0.015625<br>x4: 0.765625<br>x5: 0.453125\", \"<b>Arm 0_44</b><br><br>Batch 1: 1.354 [1.158, 1.550]<br>Batch 0: -0.039 [-0.235, 0.157]<br><br><em>Parameterization:</em><br>x0: 0.859375<br>x1: 0.953125<br>x2: 0.921875<br>x3: 0.515625<br>x4: 0.265625<br>x5: 0.953125\", \"<b>Arm 0_45</b><br><br>Batch 1: 0.991 [0.795, 1.187]<br>Batch 0: -0.093 [-0.289, 0.103]<br><br><em>Parameterization:</em><br>x0: 0.609375<br>x1: 0.203125<br>x2: 0.671875<br>x3: 0.265625<br>x4: 0.015625<br>x5: 0.203125\", \"<b>Arm 0_46</b><br><br>Batch 1: 1.458 [1.262, 1.654]<br>Batch 0: -0.004 [-0.200, 0.192]<br><br><em>Parameterization:</em><br>x0: 0.109375<br>x1: 0.703125<br>x2: 0.171875<br>x3: 0.765625<br>x4: 0.515625<br>x5: 0.703125\", \"<b>Arm 0_47</b><br><br>Batch 1: 1.825 [1.629, 2.021]<br>Batch 0: -0.077 [-0.273, 0.119]<br><br><em>Parameterization:</em><br>x0: 0.078125<br>x1: 0.234375<br>x2: 0.265625<br>x3: 0.984375<br>x4: 0.984375<br>x5: 0.984375\", \"<b>Arm 0_48</b><br><br>Batch 1: 0.416 [0.220, 0.612]<br>Batch 0: -0.107 [-0.303, 0.089]<br><br><em>Parameterization:</em><br>x0: 0.578125<br>x1: 0.734375<br>x2: 0.765625<br>x3: 0.484375<br>x4: 0.484375<br>x5: 0.484375\", \"<b>Arm 0_49</b><br><br>Batch 1: 0.841 [0.645, 1.037]<br>Batch 0: -0.13 [-0.326, 0.066]<br><br><em>Parameterization:</em><br>x0: 0.828125<br>x1: 0.484375<br>x2: 0.515625<br>x3: 0.734375<br>x4: 0.234375<br>x5: 0.734375\", \"<b>Arm 0_5</b><br><br>Batch 1: -1.391 [-1.587, -1.195]<br>Batch 0: -0.975 [-1.171, -0.779]<br><br><em>Parameterization:</em><br>x0: 0.625<br>x1: 0.125<br>x2: 0.375<br>x3: 0.375<br>x4: 0.125<br>x5: 0.625\", \"<b>Arm 0_6</b><br><br>Batch 1: 0.739 [0.543, 0.935]<br>Batch 0: -0.346 [-0.542, -0.150]<br><br><em>Parameterization:</em><br>x0: 0.125<br>x1: 0.625<br>x2: 0.875<br>x3: 0.875<br>x4: 0.625<br>x5: 0.125\", \"<b>Arm 0_7</b><br><br>Batch 1: 1.151 [0.955, 1.347]<br>Batch 0: -0.161 [-0.357, 0.035]<br><br><em>Parameterization:</em><br>x0: 0.1875<br>x1: 0.3125<br>x2: 0.3125<br>x3: 0.6875<br>x4: 0.5625<br>x5: 0.1875\", \"<b>Arm 0_8</b><br><br>Batch 1: 0.67 [0.474, 0.866]<br>Batch 0: -0.06 [-0.256, 0.136]<br><br><em>Parameterization:</em><br>x0: 0.6875<br>x1: 0.8125<br>x2: 0.8125<br>x3: 0.1875<br>x4: 0.0625<br>x5: 0.6875\", \"<b>Arm 0_9</b><br><br>Batch 1: 1.829 [1.633, 2.025]<br>Batch 0: -0.1 [-0.296, 0.096]<br><br><em>Parameterization:</em><br>x0: 0.9375<br>x1: 0.0625<br>x2: 0.5625<br>x3: 0.9375<br>x4: 0.3125<br>x5: 0.4375\"], \"hoverinfo\": \"text\", \"error_x\": {\"type\": \"data\", \"array\": [0.196, 0.196, 0.196, 0.196, 0.196, 0.196, 0.196, 0.196, 0.196, 0.196, 0.196, 0.196, 0.196, 0.196, 0.196, 0.196, 0.196, 0.196, 0.196, 0.196, 0.196, 0.196, 0.196, 0.196, 0.196, 0.196, 0.196, 0.196, 0.196, 0.196, 0.196, 0.196, 0.196, 0.196, 0.196, 0.196, 0.196, 0.196, 0.196, 0.196, 0.196, 0.196, 0.196, 0.196, 0.196, 0.196, 0.196, 0.196, 0.196, 0.196], \"color\": \"rgba(128,177,211,0.4)\"}, \"error_y\": {\"type\": \"data\", \"array\": [0.196, 0.196, 0.196, 0.196, 0.196, 0.196, 0.196, 0.196, 0.196, 0.196, 0.196, 0.196, 0.196, 0.196, 0.196, 0.196, 0.196, 0.196, 0.196, 0.196, 0.196, 0.196, 0.196, 0.196, 0.196, 0.196, 0.196, 0.196, 0.196, 0.196, 0.196, 0.196, 0.196, 0.196, 0.196, 0.196, 0.196, 0.196, 0.196, 0.196, 0.196, 0.196, 0.196, 0.196, 0.196, 0.196, 0.196, 0.196, 0.196, 0.196], \"color\": \"rgba(128,177,211,0.4)\"}, \"visible\": false, \"showlegend\": true}],\n",
       "  {\"annotations\": [{\"showarrow\": false, \"text\": \"Show CI\", \"x\": 1.125, \"xanchor\": \"left\", \"xref\": \"paper\", \"y\": 0.9, \"yanchor\": \"middle\", \"yref\": \"paper\"}], \"xaxis\": {\"title\": \"Batch 1\", \"zeroline\": false, \"mirror\": true, \"linecolor\": \"black\", \"linewidth\": 0.5}, \"yaxis\": {\"title\": \"Batch 0\", \"zeroline\": false, \"mirror\": true, \"linecolor\": \"black\", \"linewidth\": 0.5}, \"showlegend\": false, \"hovermode\": \"closest\", \"updatemenus\": [{\"x\": 0, \"y\": 1.125, \"yanchor\": \"top\", \"xanchor\": \"left\", \"buttons\": [{\"args\": [\"visible\", [true, true, false, false]], \"label\": \"constraint\", \"method\": \"restyle\"}, {\"args\": [\"visible\", [false, false, true, true]], \"label\": \"objective\", \"method\": \"restyle\"}]}, {\"buttons\": [{\"args\": [{\"error_x.width\": 4, \"error_x.thickness\": 2, \"error_y.width\": 4, \"error_y.thickness\": 2}], \"label\": \"Yes\", \"method\": \"restyle\"}, {\"args\": [{\"error_x.width\": 0, \"error_x.thickness\": 0, \"error_y.width\": 0, \"error_y.thickness\": 0}], \"label\": \"No\", \"method\": \"restyle\"}], \"x\": 1.125, \"xanchor\": \"left\", \"y\": 0.8, \"yanchor\": \"middle\"}], \"width\": 530, \"height\": 500, \"title\": \"Repeated arms across trials\"},\n",
       "  {\"showLink\": false}\n",
       ");\n",
       "});</script>"
      ]
     },
     "metadata": {},
     "output_type": "display_data"
    }
   ],
   "source": [
    "# Generate 50 points from a Sobol sequence\n",
    "exp = get_experiment(include_true_metric=False)\n",
    "s = get_sobol(exp.search_space, scramble=False)\n",
    "gr = s.gen(50)\n",
    "# Deploy them both online and offline\n",
    "exp.new_batch_trial(trial_type=\"online\", generator_run=gr).run()\n",
    "exp.new_batch_trial(trial_type=\"offline\", generator_run=gr).run()\n",
    "# Fetch data\n",
    "data = exp.fetch_data()\n",
    "observations = observations_from_data(exp, data)\n",
    "# Plot the arms in batch 0 (online) vs. batch 1 (offline)\n",
    "render(interact_batch_comparison(observations, exp, 1, 0))"
   ]
  },
  {
   "cell_type": "markdown",
   "metadata": {},
   "source": [
    "## 4. The Bayesian optimization loop\n",
    "\n",
    "Here we construct a Bayesian optimization loop that interleaves online and offline batches. The loop defined here is described in Algorithm 1 of the paper. We compare multi-task Bayesian optimization to regular Bayesian optimization using only online observations.\n",
    "\n",
    "Here we measure performance over 3 repetitions of the loop. Each one takes 1-2 hours so the whole benchmark run will take several hours to complete."
   ]
  },
  {
   "cell_type": "code",
   "execution_count": 5,
   "metadata": {
    "collapsed": true
   },
   "outputs": [],
   "source": [
    "# Settings for the optimization benchmark.\n",
    "\n",
    "# This should be changed to 50 to reproduce the results from the paper.\n",
    "n_reps = 3  # Number of repeated experiments, each with independent observation noise\n",
    "\n",
    "n_init_online = 5  # Size of the quasirandom initialization run online\n",
    "n_init_offline = 20  # Size of the quasirandom initialization run offline\n",
    "n_opt_online = 5  # Batch size for BO selected points to be run online\n",
    "n_opt_offline = 20  # Batch size for BO selected to be run offline\n",
    "n_batches = 3  # Number of optimized BO batches"
   ]
  },
  {
   "cell_type": "markdown",
   "metadata": {},
   "source": [
    "#### 4a. Optimization with online observations only\n",
    "For the online-only case, we run `n_init_online` sobol points followed by `n_batches` batches of `n_opt_online` points selected by the GP. This is a normal Bayesian optimization loop."
   ]
  },
  {
   "cell_type": "code",
   "execution_count": null,
   "metadata": {
    "collapsed": true
   },
   "outputs": [],
   "source": [
    "# This function runs a Bayesian optimization loop, making online observations only.\n",
    "def run_online_only_bo():\n",
    "    t1 = time.time()\n",
    "    ### Do BO with online only\n",
    "    ## Quasi-random initialization\n",
    "    exp_online = get_experiment()\n",
    "    m = get_sobol(exp_online.search_space, scramble=False)\n",
    "    gr = m.gen(n=n_init_online)\n",
    "    exp_online.new_batch_trial(trial_type=\"online\", generator_run=gr).run()\n",
    "    ## Do BO\n",
    "    for b in range(n_batches):\n",
    "        print('Online-only batch', b, time.time() - t1)\n",
    "        # Fit the GP\n",
    "        m = get_GPEI(\n",
    "            experiment=exp_online,\n",
    "            data=exp_online.fetch_data(),\n",
    "            search_space=exp_online.search_space,\n",
    "        )\n",
    "        # Generate the new batch\n",
    "        gr = m.gen(\n",
    "            n=n_opt_online,\n",
    "            search_space=exp_online.search_space,\n",
    "            optimization_config=exp_online.optimization_config,\n",
    "        )\n",
    "        exp_online.new_batch_trial(trial_type=\"online\", generator_run=gr).run()\n",
    "    ## Extract true objective and constraint at each iteration\n",
    "    df = exp_online.fetch_data().df\n",
    "    obj = df[df['metric_name'] == 'objective_noiseless']['mean'].values\n",
    "    con = df[df['metric_name'] == 'constraint_noiseless']['mean'].values\n",
    "    return obj, con"
   ]
  },
  {
   "cell_type": "markdown",
   "metadata": {},
   "source": [
    "#### 4b. Multi-task Bayesian optimization\n",
    "Here we incorporate offline observations to accelerate the optimization, while using the same total number of online observations as in the loop above. The strategy here is that outlined in Algorithm 1 of the paper.\n",
    "\n",
    "1. <b> Initialization</b> - Run `n_init_online` Sobol points online, and `n_init_offline` Sobol points offline.\n",
    "2. <b> Fit model </b> - Fit an MTGP to both online and offline observations.\n",
    "3. <b> Generate candidates </b> - Generate `n_opt_offline` candidates using NEI.\n",
    "4. <b> Launch offline batch </b> - Run the `n_opt_offline` candidates offline and observe their offline metrics.\n",
    "5. <b> Update model </b> - Update the MTGP with the new offline observations.\n",
    "6. <b> Select points for online batch </b> - Select the best (maximum utility) `n_opt_online` of the NEI candidates, after incorporating their offline observations, and run them online.\n",
    "7. <b> Update model and repeat </b> - Update the model with the online observations, and repeat from step 3 for the next batch."
   ]
  },
  {
   "cell_type": "code",
   "execution_count": 13,
   "metadata": {
    "collapsed": true
   },
   "outputs": [],
   "source": [
    "# Online batches are constructed by selecting the maximum utility points from the offline\n",
    "# batch, after updating the model with the offline results. This function selects the max utility points according\n",
    "# to the MTGP predictions.\n",
    "def max_utility_from_GP(n, m, experiment, search_space, gr):\n",
    "    obsf = []\n",
    "    for arm in gr.arms:\n",
    "        params = deepcopy(arm.parameters)\n",
    "        params['trial_type'] = 'online'\n",
    "        obsf.append(ObservationFeatures(parameters=params))\n",
    "    # Make predictions\n",
    "    f, cov = m.predict(obsf)\n",
    "    # Compute expected utility\n",
    "    mu_c = np.array(f['constraint'])\n",
    "    sigma_c = np.sqrt(cov['constraint']['constraint'])\n",
    "    pfeas = norm.cdf((1.25 - mu_c) / sigma_c)\n",
    "    u = -np.array(f['objective']) * pfeas\n",
    "    best_arm_indx = np.flip(np.argsort(u))[:n]\n",
    "    gr_new = GeneratorRun(\n",
    "        arms = [\n",
    "            gr.arms[i] for i in best_arm_indx\n",
    "        ],\n",
    "        weights = [1.] * n,\n",
    "    )\n",
    "    return gr_new\n",
    "\n",
    "# This function runs a multi-task Bayesian optimization loop, as outlined in Algorithm 1 and above.\n",
    "def run_mtbo():\n",
    "    t1 = time.time()\n",
    "    online_trials = []\n",
    "    ## 1. Quasi-random initialization, online and offline\n",
    "    exp_multitask = get_experiment()\n",
    "    # Online points\n",
    "    m = get_sobol(exp_multitask.search_space, scramble=False)\n",
    "    gr = m.gen(\n",
    "        n=n_init_online,\n",
    "    )\n",
    "    tr = exp_multitask.new_batch_trial(trial_type=\"online\", generator_run=gr)\n",
    "    tr.run()\n",
    "    online_trials.append(tr.index)\n",
    "    # Offline points\n",
    "    m = get_sobol(exp_multitask.search_space, scramble=False)\n",
    "    gr = m.gen(\n",
    "        n=n_init_offline,\n",
    "    )\n",
    "    exp_multitask.new_batch_trial(trial_type=\"offline\", generator_run=gr).run()\n",
    "    ## Do BO\n",
    "    for b in range(n_batches):\n",
    "        print('Multi-task batch', b, time.time() - t1)\n",
    "        # (2 / 7). Fit the MTGP\n",
    "        m = get_MTGP(\n",
    "            experiment=exp_multitask,\n",
    "            data=exp_multitask.fetch_data(),\n",
    "            search_space=exp_multitask.search_space,\n",
    "        )\n",
    "\n",
    "        # 3. Finding the best points for the online task\n",
    "        gr = m.gen(\n",
    "            n=n_opt_offline,\n",
    "            optimization_config=exp_multitask.optimization_config,\n",
    "            fixed_features=ObservationFeatures(parameters={'trial_type': 'online'}),\n",
    "        )\n",
    "\n",
    "        # 4. But launch them offline\n",
    "        exp_multitask.new_batch_trial(trial_type=\"offline\", generator_run=gr).run()\n",
    "        \n",
    "        # 5. Update the model\n",
    "        m = get_MTGP(\n",
    "            experiment=exp_multitask,\n",
    "            data=exp_multitask.fetch_data(),\n",
    "            search_space=exp_multitask.search_space,\n",
    "        )\n",
    "        \n",
    "        # 6. Select max-utility points from the offline batch to generate an online batch\n",
    "        gr = max_utility_from_GP(\n",
    "            n=n_opt_online,\n",
    "            m=m,\n",
    "            experiment=exp_multitask,\n",
    "            search_space=exp_multitask.search_space,\n",
    "            gr=gr,\n",
    "        )\n",
    "        tr = exp_multitask.new_batch_trial(trial_type=\"online\", generator_run=gr)\n",
    "        tr.run()\n",
    "        online_trials.append(tr.index)\n",
    "    # Extract true objective at each online iteration for creating benchmark plot\n",
    "    obj = np.array([])\n",
    "    con = np.array([])\n",
    "    for tr in online_trials:\n",
    "        df_t = exp_multitask.trials[tr].fetch_data().df\n",
    "        df_tobj = df_t[df_t['metric_name'] == 'objective_noiseless']\n",
    "        obj = np.hstack((obj, df_tobj['mean'].values))\n",
    "        df_tcon = df_t[df_t['metric_name'] == 'constraint_noiseless']\n",
    "        con = np.hstack((con, df_tcon['mean'].values))\n",
    "    return obj, con"
   ]
  },
  {
   "cell_type": "markdown",
   "metadata": {},
   "source": [
    "#### 4c. Run both loops\n",
    "Run both Bayesian optimization loops and aggregate results."
   ]
  },
  {
   "cell_type": "code",
   "execution_count": null,
   "metadata": {},
   "outputs": [],
   "source": [
    "runners = {\n",
    "    'GP, online only': run_online_only_bo,\n",
    "    'MTGP, Algorithm 1': run_mtbo,\n",
    "}\n",
    "iteration_objectives = {k: [] for k in runners}\n",
    "iteration_constraints = {k: [] for k in runners}\n",
    "for rep in range(n_reps):\n",
    "    print('Running rep', rep)\n",
    "    for k, r in runners.items():\n",
    "        obj, con = r()\n",
    "        iteration_objectives[k].append(obj)\n",
    "        iteration_constraints[k].append(con)\n",
    "\n",
    "for k, v in iteration_objectives.items():\n",
    "    iteration_objectives[k] = np.array(v)\n",
    "    iteration_constraints[k] = np.array(iteration_constraints[k])"
   ]
  },
  {
   "cell_type": "markdown",
   "metadata": {},
   "source": [
    "## 5. Plot results\n",
    "\n",
    "We plot the cumulative best point found by each online iteration of the optimization for each of the methods. We see that despite the bias in the offline observations, incorporating them into the optimziation with the multi-task model allows the optimization to converge to the optimal point much faster. With n_reps=50, this generates Fig. S4 of the paper."
   ]
  },
  {
   "cell_type": "code",
   "execution_count": 23,
   "metadata": {},
   "outputs": [
    {
     "data": {
      "image/png": "[encoded data removed]",
      "text/plain": [
       "<Figure size 864x432 with 1 Axes>"
      ]
     },
     "metadata": {
      "bento_obj_id": "140622871869424"
     },
     "output_type": "display_data"
    }
   ],
   "source": [
    "means = {}\n",
    "sems = {}\n",
    "for m, obj in iteration_objectives.items():\n",
    "    x = obj.copy()\n",
    "    z = iteration_constraints[m].copy()\n",
    "    x[z > 1.25] = np.Inf  # The value of infeasible points\n",
    "    best_obj = np.array([np.minimum.accumulate(obj_i) for obj_i in x])\n",
    "    means[m] = best_obj.mean(axis=0)\n",
    "    sems[m] = best_obj.std(axis=0) / np.sqrt(best_obj.shape[0])\n",
    "\n",
    "fig = plt.figure(figsize=(12, 6))\n",
    "ax = fig.add_subplot(111)\n",
    "x = np.arange(1, len(means['GP, online only']) + 1)\n",
    "colors = ['firebrick', 'steelblue']\n",
    "methods = ['GP, online only', 'MTGP, Algorithm 1']\n",
    "for i, m in enumerate(methods):\n",
    "    ax.plot(x, means[m], ls='-', c=colors[i])\n",
    "    ax.fill_between(x, means[m] - 2 * sems[m], means[m] + 2 * sems[m], color=colors[i], alpha=0.3)\n",
    "ax.legend(methods)\n",
    "ax.axhline(y=-3.32237, c='k', ls='--')  # Actual optimum for this problem\n",
    "ax.set_xlabel('Online iteration')\n",
    "ax.set_ylabel('Best-feasible objective value')\n",
    "ax.set_title('Bayesian optimization performance');"
   ]
  },
  {
   "cell_type": "markdown",
   "metadata": {
    "collapsed": true
   },
   "source": [
    "#### References\n",
    "Benjamin Letham and Eytan Bakshy. Bayesian optimization for policy search via online-offline experimentation. _arXiv preprint arXiv:1603.09326_, 2019.\n",
    "\n",
    "Kevin Swersky, Jasper Snoek, and Ryan P Adams.  Multi-task Bayesian optimization.  In _Advances in Neural Information Processing Systems_ 26, NIPS, pages 2004–2012, 2013."
   ]
  }
 ],
 "metadata": {
  "kernelspec": {
   "display_name": "python3",
   "language": "python",
   "name": "python3"
  }
 },
 "nbformat": 4,
 "nbformat_minor": 2
}
