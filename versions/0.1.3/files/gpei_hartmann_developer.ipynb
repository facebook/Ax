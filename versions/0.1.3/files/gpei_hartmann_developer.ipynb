{
  "cells": [
    {
      "cell_type": "markdown",
      "metadata": {},
      "source": [
        "# Developer API Example on Hartmann6\n",
        "\n",
        "The Developer API is suitable when the user wants maximal customization of the optimization loop. This tutorial demonstrates optimization of a Hartmann6 function using the `SimpleExperiment` construct, which we use for synchronous experiments, where trials can be evaluated right away.\n",
        "\n",
        "For more details on the different Ax constructs, see the \"Building Blocks of Ax\" tutorial."
      ]
    },
    {
      "cell_type": "code",
      "execution_count": 2,
      "metadata": {},
      "outputs": [
        {
          "data": {
            "text/html": [
              "<script type='text/javascript'>/*\n",
              " * Copyright (c) Facebook, Inc. and its affiliates. All Rights Reserved.\n",
              " */\n",
              "\n",
              "requirejs.config({\n",
              "  paths: {\n",
              "    plotly: ['https://cdn.plot.ly/plotly-latest.min'],\n",
              "  },\n",
              "});\n",
              "if (!window.Plotly) {\n",
              "  require(['plotly'], function(plotly) {\n",
              "    window.Plotly = plotly;\n",
              "  });\n",
              "}\n",
              "/*\n",
              " * Copyright (c) Facebook, Inc. and its affiliates. All Rights Reserved.\n",
              " */\n",
              "\n",
              "// helper functions used across multiple plots\n",
              "function rgb(rgb_array) {\n",
              "  return 'rgb(' + rgb_array.join() + ')';\n",
              "}\n",
              "\n",
              "function copy_and_reverse(arr) {\n",
              "  const copy = arr.slice();\n",
              "  copy.reverse();\n",
              "  return copy;\n",
              "}\n",
              "\n",
              "function axis_range(grid, is_log) {\n",
              "  return is_log ?\n",
              "    [Math.log10(Math.min(...grid)), Math.log10(Math.max(...grid))]:\n",
              "    [Math.min(...grid), Math.max(...grid)];\n",
              "}\n",
              "\n",
              "function relativize_data(f, sd, rel, arm_data, metric) {\n",
              "  // if relative, extract status quo & compute ratio\n",
              "  const f_final = rel === true ? [] : f;\n",
              "  const sd_final = rel === true ? []: sd;\n",
              "\n",
              "  if (rel === true) {\n",
              "    const f_sq = (\n",
              "      arm_data['in_sample'][arm_data['status_quo_name']]['y'][metric]\n",
              "    );\n",
              "    const sd_sq = (\n",
              "      arm_data['in_sample'][arm_data['status_quo_name']]['se'][metric]\n",
              "    );\n",
              "\n",
              "    for (let i = 0; i < f.length; i++) {\n",
              "      res = relativize(f[i], sd[i], f_sq, sd_sq);\n",
              "      f_final.push(100 * res[0]);\n",
              "      sd_final.push(100 * res[1]);\n",
              "    }\n",
              "  }\n",
              "\n",
              "  return [f_final, sd_final];\n",
              "}\n",
              "\n",
              "function relativize(m_t, sem_t, m_c, sem_c) {\n",
              "  r_hat = (\n",
              "    (m_t - m_c) / Math.abs(m_c) -\n",
              "    Math.pow(sem_c, 2) * m_t / Math.pow(Math.abs(m_c), 3)\n",
              "  );\n",
              "  variance = (\n",
              "    (Math.pow(sem_t, 2) + Math.pow((m_t / m_c * sem_c), 2)) /\n",
              "    Math.pow(m_c, 2)\n",
              "   )\n",
              "   return [r_hat, Math.sqrt(variance)];\n",
              "}\n",
              "</script>"
            ]
          },
          "metadata": {},
          "output_type": "display_data"
        },
        {
          "name": "stderr",
          "output_type": "stream",
          "text": [
            "[INFO 06-24 14:21:40] ipy_plotting: Injecting Plotly library into cell. Do not overwrite or delete cell.\n"
          ]
        }
      ],
      "source": [
        "import numpy as np\n",
        "from ax import (\n",
        "    ComparisonOp,\n",
        "    ParameterType, \n",
        "    RangeParameter,\n",
        "    SearchSpace, \n",
        "    SimpleExperiment, \n",
        "    OutcomeConstraint, \n",
        ")\n",
        "from ax.metrics.l2norm import L2NormMetric\n",
        "from ax.modelbridge.registry import Models\n",
        "from ax.plot.contour import plot_contour\n",
        "from ax.plot.trace import optimization_trace_single_method\n",
        "from ax.utils.measurement.synthetic_functions import hartmann6\n",
        "from ax.utils.notebook.plotting import render, init_notebook_plotting\n",
        "\n",
        "init_notebook_plotting()"
      ]
    },
    {
      "cell_type": "markdown",
      "metadata": {},
      "source": [
        "## 1. Define evaluation function\n",
        "\n",
        "First, we define an evaluation function that is able to compute all the metrics needed for this experiment. This function needs to accept a set of parameter values and can also accept a weight. It should produce a dictionary of metric names to tuples of mean and standard error for those metrics. Note that when using `Experiment` (instead of `SimpleExperiment`), it's possible to deploy trials and fetch their evaluation results asynchronously; more on that in the \"Building Blocks of Ax\" tutorial."
      ]
    },
    {
      "cell_type": "code",
      "execution_count": 3,
      "metadata": {
        "collapsed": true
      },
      "outputs": [],
      "source": [
        "def hartmann_evaluation_function(\n",
        "    parameterization, # Mapping of parameter names to values of those parameters.\n",
        "    weight=None, # Optional weight argument.\n",
        "):\n",
        "    x = np.array([parameterization.get(f\"x{i}\") for i in range(6)])\n",
        "    # In our case, standard error is 0, since we are computing a synthetic function.\n",
        "    return {\"hartmann6\": (hartmann6(x), 0.0), \"l2norm\": (np.sqrt((x ** 2).sum()), 0.0)}"
      ]
    },
    {
      "cell_type": "markdown",
      "metadata": {},
      "source": [
        "If there is only one metric in the experiment – the objective – then evaluation function can return a single tuple of mean and SEM, in which case Ax will assume that evaluation corresponds to the objective. It can also return only the mean as a float, in which case Ax will assume that SEM is 0.0. For more details on evaluation function, refer to the \"Trial Evaluation\" section in the docs."
      ]
    },
    {
      "cell_type": "markdown",
      "metadata": {},
      "source": [
        "## 2. Create Search Space\n",
        "\n",
        "Second, we define a search space, which defines the type and allowed range for the parameters."
      ]
    },
    {
      "cell_type": "code",
      "execution_count": 4,
      "metadata": {
        "collapsed": true
      },
      "outputs": [],
      "source": [
        "hartmann_search_space = SearchSpace(\n",
        "    parameters=[\n",
        "        RangeParameter(\n",
        "            name=f\"x{i}\", parameter_type=ParameterType.FLOAT, lower=0.0, upper=1.0\n",
        "        )\n",
        "        for i in range(6)\n",
        "    ]\n",
        ")"
      ]
    },
    {
      "cell_type": "markdown",
      "metadata": {},
      "source": [
        "## 3. Create Experiment\n",
        "\n",
        "Third, we make a `SimpleExperiment`. In addition to the search space and evaluation function, here we define the `objective_name` and `outcome_constraints`.\n",
        "\n",
        "When doing the optimization, we will find points that minimize the objective while obeying the constraints (which in this case means `l2norm < 1.25`)."
      ]
    },
    {
      "cell_type": "code",
      "execution_count": 5,
      "metadata": {
        "collapsed": true
      },
      "outputs": [],
      "source": [
        "exp = SimpleExperiment(\n",
        "    name=\"test_branin\",\n",
        "    search_space=hartmann_search_space,\n",
        "    evaluation_function=hartmann_evaluation_function,\n",
        "    objective_name=\"hartmann6\",\n",
        "    minimize=True,\n",
        "    outcome_constraints=[\n",
        "        OutcomeConstraint(\n",
        "            metric=L2NormMetric(\n",
        "                name=\"l2norm\", param_names=[f\"x{i}\" for i in range(6)], noise_sd=0.2\n",
        "            ),\n",
        "            op=ComparisonOp.LEQ,\n",
        "            bound=1.25,\n",
        "            relative=False,\n",
        "        )\n",
        "    ],\n",
        ")"
      ]
    },
    {
      "cell_type": "markdown",
      "metadata": {},
      "source": [
        "## 4. Perform Optimization\n",
        "\n",
        "Run the optimization using the settings defined on the experiment. We will create 5 random sobol points for exploration followed by 15 points generated using the GPEI optimizer."
      ]
    },
    {
      "cell_type": "code",
      "execution_count": null,
      "metadata": {},
      "outputs": [
        {
          "name": "stdout",
          "output_type": "stream",
          "text": [
            "Running Sobol initialization trials...\n",
            "Running GP+EI optimization trial 1/15...\n",
            "Running GP+EI optimization trial 2/15...\n",
            "Running GP+EI optimization trial 3/15...\n",
            "Running GP+EI optimization trial 4/15...\n",
            "Running GP+EI optimization trial 5/15...\n",
            "Running GP+EI optimization trial 6/15...\n",
            "Running GP+EI optimization trial 7/15...\n",
            "Running GP+EI optimization trial 8/15...\n",
            "Running GP+EI optimization trial 9/15...\n",
            "Running GP+EI optimization trial 10/15...\n",
            "Running GP+EI optimization trial 11/15...\n",
            "Running GP+EI optimization trial 12/15...\n",
            "Running GP+EI optimization trial 13/15...\n",
            "Running GP+EI optimization trial 14/15...\n",
            "Running GP+EI optimization trial 15/15...\n"
          ]
        }
      ],
      "source": [
        "print(f\"Running Sobol initialization trials...\")\n",
        "sobol = Models.SOBOL(exp.search_space)\n",
        "for i in range(5):\n",
        "    exp.new_trial(generator_run=sobol.gen(1))\n",
        "    \n",
        "for i in range(25):\n",
        "    print(f\"Running GP+EI optimization trial {i+1}/15...\")\n",
        "    # Reinitialize GP+EI model at each step with updated data.\n",
        "    gpei = Models.BOTORCH(experiment=exp, data=exp.eval())\n",
        "    batch = exp.new_trial(generator_run=gpei.gen(1))\n",
        "    \n",
        "print(\"Done!\")"
      ]
    },
    {
      "cell_type": "markdown",
      "metadata": {},
      "source": [
        "## 5. Inspect trials' data\n",
        "\n",
        "Now we can inspect the `SimpleExperiment`'s data by calling `eval()`, which retrieves evaluation data for all batches of the experiment.\n",
        "\n",
        "We can also use the `eval_trial` function to get evaluation data for a specific trial in the experiment, like so:"
      ]
    },
    {
      "cell_type": "code",
      "execution_count": null,
      "metadata": {},
      "outputs": [],
      "source": [
        "trial_data = exp.eval_trial(exp.trials[1])\n",
        "trial_data.df"
      ]
    },
    {
      "cell_type": "markdown",
      "metadata": {},
      "source": [
        "## 6. Plot results\n",
        "Now we can plot the results of our optimization:"
      ]
    },
    {
      "cell_type": "code",
      "execution_count": null,
      "metadata": {},
      "outputs": [],
      "source": [
        "# `plot_single_method` expects a 2-d array of means, because it expects to average means from multiple \n",
        "# optimization runs, so we wrap out best objectives array in another array.\n",
        "objective_means = np.array([[trial.objective_mean for trial in exp.trials.values()]])\n",
        "best_objective_plot = optimization_trace_single_method(\n",
        "        y=np.minimum.accumulate(objective_means, axis=1),\n",
        "        optimum=-3.32237,  # Known minimum objective for Hartmann6 function.\n",
        ")\n",
        "render(best_objective_plot)"
      ]
    }
  ],
  "metadata": {
    "kernelspec": {
      "display_name": "python3",
      "language": "python",
      "name": "python3"
    }
  },
  "nbformat": 4,
  "nbformat_minor": 2
}
