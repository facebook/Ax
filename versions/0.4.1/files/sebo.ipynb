{
 "cells": [
  {
   "cell_type": "markdown",
   "id": "49789267",
   "metadata": {
    "collapsed": true,
    "customInput": null,
    "jupyter": {
     "outputs_hidden": true
    },
    "originalKey": "d3a0136e-94fa-477c-a839-20e5b7f1cdd2",
    "papermill": {
     "duration": 0.003985,
     "end_time": "2024-07-23T20:55:25.014295",
     "exception": false,
     "start_time": "2024-07-23T20:55:25.010310",
     "status": "completed"
    },
    "showInput": false,
    "tags": []
   },
   "source": [
    "# Sparsity Exploration Bayesian Optimization (SEBO) Ax API \n",
    "\n",
    "This tutorial introduces the Sparsity Exploration Bayesian Optimization (SEBO) method and demonstrates how to utilize it using the Ax API. SEBO is designed to enhance Bayesian Optimization (BO) by taking the interpretability and simplicity of configurations into consideration. In essence, SEBO incorporates sparsity, modeled as the $L_0$ norm, as an additional objective in BO. By employing multi-objective optimization techniques such as Expected Hyper-Volume Improvement, SEBO enables the joint optimization of objectives while simultaneously incorporating feature-level sparsity. This allows users to efficiently explore different trade-offs between objectives and sparsity.\n",
    "\n",
    "\n",
    "For a more detailed understanding of the SEBO algorithm, please refer to the following publication:\n",
    "\n",
    "[1] [S. Liu, Q. Feng, D. Eriksson, B. Letham and E. Bakshy. Sparse Bayesian Optimization. International Conference on Artificial Intelligence and Statistics, 2023.](https://proceedings.mlr.press/v206/liu23b/liu23b.pdf)\n",
    "\n",
    "By following this tutorial, you will learn how to leverage the SEBO method through the Ax API, empowering you to effectively balance objectives and sparsity in your optimization tasks. Let's get started!"
   ]
  },
  {
   "cell_type": "code",
   "execution_count": 1,
   "id": "5bbbda3d",
   "metadata": {
    "customOutput": null,
    "execution": {
     "iopub.execute_input": "2024-07-23T20:55:25.022772Z",
     "iopub.status.busy": "2024-07-23T20:55:25.022497Z",
     "iopub.status.idle": "2024-07-23T20:55:28.738048Z",
     "shell.execute_reply": "2024-07-23T20:55:28.737313Z"
    },
    "executionStartTime": 1689117385062,
    "executionStopTime": 1689117389874,
    "jupyter": {
     "outputs_hidden": false
    },
    "originalKey": "cea96143-019a-41c1-a388-545f48992db9",
    "papermill": {
     "duration": 3.721746,
     "end_time": "2024-07-23T20:55:28.739672",
     "exception": false,
     "start_time": "2024-07-23T20:55:25.017926",
     "status": "completed"
    },
    "requestMsgId": "c2c22a5d-aee0-4a1e-98d9-b360aa1851ff",
    "showInput": true,
    "tags": []
   },
   "outputs": [],
   "source": [
    "import math\n",
    "import os\n",
    "import warnings\n",
    "\n",
    "import matplotlib\n",
    "import matplotlib.pyplot as plt\n",
    "\n",
    "import numpy as np\n",
    "import torch\n",
    "from ax import Data, Experiment, ParameterType, RangeParameter, SearchSpace\n",
    "from ax.core.objective import Objective\n",
    "from ax.core.optimization_config import OptimizationConfig\n",
    "from ax.metrics.noisy_function import NoisyFunctionMetric\n",
    "from ax.modelbridge.generation_strategy import GenerationStep, GenerationStrategy\n",
    "from ax.modelbridge.registry import Models\n",
    "from ax.models.torch.botorch_modular.sebo import SEBOAcquisition\n",
    "from ax.models.torch.botorch_modular.surrogate import Surrogate\n",
    "from ax.runners.synthetic import SyntheticRunner\n",
    "from ax.service.ax_client import AxClient, ObjectiveProperties\n",
    "from ax.utils.common.typeutils import checked_cast\n",
    "from botorch.acquisition.multi_objective import qNoisyExpectedHypervolumeImprovement\n",
    "from botorch.models import FixedNoiseGP, SaasFullyBayesianSingleTaskGP, SingleTaskGP"
   ]
  },
  {
   "cell_type": "code",
   "execution_count": 2,
   "id": "08840e53",
   "metadata": {
    "execution": {
     "iopub.execute_input": "2024-07-23T20:55:28.748453Z",
     "iopub.status.busy": "2024-07-23T20:55:28.747834Z",
     "iopub.status.idle": "2024-07-23T20:55:28.759774Z",
     "shell.execute_reply": "2024-07-23T20:55:28.759122Z"
    },
    "papermill": {
     "duration": 0.017679,
     "end_time": "2024-07-23T20:55:28.761193",
     "exception": false,
     "start_time": "2024-07-23T20:55:28.743514",
     "status": "completed"
    },
    "tags": []
   },
   "outputs": [],
   "source": [
    "%matplotlib inline\n",
    "matplotlib.rcParams.update({\"font.size\": 16})\n",
    "\n",
    "warnings.filterwarnings('ignore')\n",
    "SMOKE_TEST = os.environ.get(\"SMOKE_TEST\")\n",
    "\n",
    "torch.manual_seed(12345)  # To always get the same Sobol points\n",
    "tkwargs = {\n",
    "    \"dtype\": torch.double,\n",
    "    \"device\": torch.device(\"cuda\" if torch.cuda.is_available() else \"cpu\"),\n",
    "}"
   ]
  },
  {
   "cell_type": "markdown",
   "id": "2d3f841e",
   "metadata": {
    "customInput": null,
    "originalKey": "7f07af01-ad58-4cfb-beca-f624310d278d",
    "papermill": {
     "duration": 0.003389,
     "end_time": "2024-07-23T20:55:28.768220",
     "exception": false,
     "start_time": "2024-07-23T20:55:28.764831",
     "status": "completed"
    },
    "showInput": false,
    "tags": []
   },
   "source": [
    "# Demo of using Developer API"
   ]
  },
  {
   "cell_type": "markdown",
   "id": "6e7aa8ad",
   "metadata": {
    "customInput": null,
    "originalKey": "c8a27a2f-1120-4894-9302-48bfde402268",
    "papermill": {
     "duration": 0.003372,
     "end_time": "2024-07-23T20:55:28.775061",
     "exception": false,
     "start_time": "2024-07-23T20:55:28.771689",
     "status": "completed"
    },
    "showInput": false,
    "tags": []
   },
   "source": [
    "## Problem Setup \n",
    "\n",
    "In this simple experiment we use the Branin function embedded in a 10-dimensional space. Additional resources:\n",
    "- To set up a custom metric for your problem, refer to the dedicated section of the Developer API tutorial: https://ax.dev/tutorials/gpei_hartmann_developer.html#8.-Defining-custom-metrics.\n",
    "- To avoid needing to setup up custom metrics by Ax Service API: https://ax.dev/tutorials/gpei_hartmann_service.html."
   ]
  },
  {
   "cell_type": "code",
   "execution_count": 3,
   "id": "77d6da7e",
   "metadata": {
    "customInput": null,
    "execution": {
     "iopub.execute_input": "2024-07-23T20:55:28.783164Z",
     "iopub.status.busy": "2024-07-23T20:55:28.782711Z",
     "iopub.status.idle": "2024-07-23T20:55:28.787151Z",
     "shell.execute_reply": "2024-07-23T20:55:28.786474Z"
    },
    "executionStartTime": 1689117390036,
    "executionStopTime": 1689117390038,
    "jupyter": {
     "outputs_hidden": false
    },
    "originalKey": "e91fc838-9f47-44f1-99ac-4477df208566",
    "papermill": {
     "duration": 0.009993,
     "end_time": "2024-07-23T20:55:28.788500",
     "exception": false,
     "start_time": "2024-07-23T20:55:28.778507",
     "status": "completed"
    },
    "requestMsgId": "1591e6b0-fa9b-4b9f-be72-683dccbe923a",
    "showInput": true,
    "tags": []
   },
   "outputs": [],
   "source": [
    "aug_dim = 8 \n",
    "\n",
    "# evaluation function \n",
    "def branin_augment(x_vec, augment_dim):\n",
    "    assert len(x_vec) == augment_dim\n",
    "    x1, x2 = (\n",
    "        15 * x_vec[0] - 5,\n",
    "        15 * x_vec[1],\n",
    "    )  # Only dimensions 0 and augment_dim-1 affect the value of the function\n",
    "    t1 = x2 - 5.1 / (4 * math.pi**2) * x1**2 + 5 / math.pi * x1 - 6\n",
    "    t2 = 10 * (1 - 1 / (8 * math.pi)) * np.cos(x1)\n",
    "    return t1**2 + t2 + 10"
   ]
  },
  {
   "cell_type": "code",
   "execution_count": 4,
   "id": "305bc715",
   "metadata": {
    "customInput": null,
    "customOutput": null,
    "execution": {
     "iopub.execute_input": "2024-07-23T20:55:28.796548Z",
     "iopub.status.busy": "2024-07-23T20:55:28.796132Z",
     "iopub.status.idle": "2024-07-23T20:55:28.800330Z",
     "shell.execute_reply": "2024-07-23T20:55:28.799788Z"
    },
    "executionStartTime": 1689117390518,
    "executionStopTime": 1689117390540,
    "jupyter": {
     "outputs_hidden": false
    },
    "originalKey": "850830c6-509f-4087-bce8-da0be4fd48ef",
    "papermill": {
     "duration": 0.009538,
     "end_time": "2024-07-23T20:55:28.801590",
     "exception": false,
     "start_time": "2024-07-23T20:55:28.792052",
     "status": "completed"
    },
    "requestMsgId": "56726053-205d-4d7e-b1b5-1a76324188ee",
    "showInput": true,
    "tags": []
   },
   "outputs": [],
   "source": [
    "class AugBraninMetric(NoisyFunctionMetric):\n",
    "    def f(self, x: np.ndarray) -> float:\n",
    "        return checked_cast(float, branin_augment(x_vec=x, augment_dim=aug_dim))\n",
    "\n",
    "\n",
    "# Create search space in Ax \n",
    "search_space = SearchSpace(\n",
    "    parameters=[\n",
    "        RangeParameter(\n",
    "            name=f\"x{i}\",\n",
    "            parameter_type=ParameterType.FLOAT, \n",
    "            lower=0.0, upper=1.0\n",
    "        )\n",
    "        for i in range(aug_dim)\n",
    "    ]\n",
    ")"
   ]
  },
  {
   "cell_type": "code",
   "execution_count": 5,
   "id": "371a24a9",
   "metadata": {
    "customInput": null,
    "execution": {
     "iopub.execute_input": "2024-07-23T20:55:28.809745Z",
     "iopub.status.busy": "2024-07-23T20:55:28.809362Z",
     "iopub.status.idle": "2024-07-23T20:55:28.813711Z",
     "shell.execute_reply": "2024-07-23T20:55:28.813162Z"
    },
    "executionStartTime": 1689117391899,
    "executionStopTime": 1689117391915,
    "jupyter": {
     "outputs_hidden": false
    },
    "originalKey": "d039b709-67c6-475a-96ce-290f869e0f88",
    "papermill": {
     "duration": 0.009737,
     "end_time": "2024-07-23T20:55:28.814889",
     "exception": false,
     "start_time": "2024-07-23T20:55:28.805152",
     "status": "completed"
    },
    "requestMsgId": "3e23ed64-7d10-430b-b790-91a0c7cf72fe",
    "showInput": true,
    "tags": []
   },
   "outputs": [],
   "source": [
    "# Create optimization goals \n",
    "optimization_config = OptimizationConfig(\n",
    "    objective=Objective(\n",
    "        metric=AugBraninMetric(\n",
    "            name=\"objective\",\n",
    "            param_names=[f\"x{i}\" for i in range(aug_dim)],\n",
    "            noise_sd=None,  # Set noise_sd=None if you want to learn the noise, otherwise it defaults to 1e-6\n",
    "        ),\n",
    "        minimize=True,\n",
    "    )\n",
    ")\n",
    "\n",
    "# Experiment\n",
    "experiment = Experiment(\n",
    "    name=\"sebo_experiment\",\n",
    "    search_space=search_space,\n",
    "    optimization_config=optimization_config,\n",
    "    runner=SyntheticRunner(),\n",
    ")\n",
    "\n",
    "# target sparse point to regularize towards to. Here we set target sparse value being zero for all the parameters. \n",
    "target_point = torch.tensor([0 for _ in range(aug_dim)], **tkwargs)"
   ]
  },
  {
   "cell_type": "markdown",
   "id": "8f6257e7",
   "metadata": {
    "customInput": null,
    "originalKey": "e57edb00-eafc-4d07-bdb9-e8cf073b4caa",
    "papermill": {
     "duration": 0.003473,
     "end_time": "2024-07-23T20:55:28.822023",
     "exception": false,
     "start_time": "2024-07-23T20:55:28.818550",
     "status": "completed"
    },
    "showInput": false,
    "tags": []
   },
   "source": [
    "## Run optimization loop"
   ]
  },
  {
   "cell_type": "code",
   "execution_count": 6,
   "id": "75aa509e",
   "metadata": {
    "customInput": null,
    "customOutput": null,
    "execution": {
     "iopub.execute_input": "2024-07-23T20:55:28.830174Z",
     "iopub.status.busy": "2024-07-23T20:55:28.829762Z",
     "iopub.status.idle": "2024-07-23T20:55:28.833683Z",
     "shell.execute_reply": "2024-07-23T20:55:28.833003Z"
    },
    "executionStartTime": 1689117395051,
    "executionStopTime": 1689117395069,
    "jupyter": {
     "outputs_hidden": false
    },
    "originalKey": "c4848148-bff5-44a7-9ad5-41e78ccb413c",
    "papermill": {
     "duration": 0.009358,
     "end_time": "2024-07-23T20:55:28.834887",
     "exception": false,
     "start_time": "2024-07-23T20:55:28.825529",
     "status": "completed"
    },
    "requestMsgId": "8aa87d22-bf89-471f-be9f-7c31f7b8bd62",
    "showInput": true,
    "tags": []
   },
   "outputs": [
    {
     "name": "stdout",
     "output_type": "stream",
     "text": [
      "Doing 30 evaluations\n"
     ]
    }
   ],
   "source": [
    "N_INIT = 10\n",
    "\n",
    "if SMOKE_TEST:\n",
    "    N_BATCHES = 1\n",
    "    BATCH_SIZE = 1\n",
    "    SURROGATE_CLASS = None  # Auto-pick SingleTaskGP / FixedNoiseGP\n",
    "else:\n",
    "    N_BATCHES = 4\n",
    "    BATCH_SIZE = 5\n",
    "    SURROGATE_CLASS = SaasFullyBayesianSingleTaskGP\n",
    "\n",
    "print(f\"Doing {N_INIT + N_BATCHES * BATCH_SIZE} evaluations\")"
   ]
  },
  {
   "cell_type": "code",
   "execution_count": 7,
   "id": "0b4c5ee5",
   "metadata": {
    "customInput": null,
    "customOutput": null,
    "execution": {
     "iopub.execute_input": "2024-07-23T20:55:28.843113Z",
     "iopub.status.busy": "2024-07-23T20:55:28.842908Z",
     "iopub.status.idle": "2024-07-23T20:55:28.856638Z",
     "shell.execute_reply": "2024-07-23T20:55:28.855979Z"
    },
    "executionStartTime": 1689117396326,
    "executionStopTime": 1689117396376,
    "jupyter": {
     "outputs_hidden": false
    },
    "originalKey": "b260d85f-2797-44e3-840a-86587534b589",
    "papermill": {
     "duration": 0.019491,
     "end_time": "2024-07-23T20:55:28.858059",
     "exception": false,
     "start_time": "2024-07-23T20:55:28.838568",
     "status": "completed"
    },
    "requestMsgId": "2cc516e3-b16e-40ca-805f-dcd792c92fa6",
    "showInput": true,
    "tags": []
   },
   "outputs": [],
   "source": [
    "# Initial Sobol points\n",
    "sobol = Models.SOBOL(search_space=experiment.search_space)\n",
    "for _ in range(N_INIT):\n",
    "    experiment.new_trial(sobol.gen(1)).run()"
   ]
  },
  {
   "cell_type": "code",
   "execution_count": 8,
   "id": "70927976",
   "metadata": {
    "customInput": null,
    "customOutput": null,
    "execution": {
     "iopub.execute_input": "2024-07-23T20:55:28.866818Z",
     "iopub.status.busy": "2024-07-23T20:55:28.866430Z",
     "iopub.status.idle": "2024-07-23T21:07:25.543845Z",
     "shell.execute_reply": "2024-07-23T21:07:25.543136Z"
    },
    "executionStartTime": 1689117396900,
    "executionStopTime": 1689124188959,
    "jupyter": {
     "outputs_hidden": false
    },
    "originalKey": "7c198035-add2-4717-be27-4fb67c4d1782",
    "papermill": {
     "duration": 716.686383,
     "end_time": "2024-07-23T21:07:25.548364",
     "exception": false,
     "start_time": "2024-07-23T20:55:28.861981",
     "status": "completed"
    },
    "requestMsgId": "d844fa20-0adf-4ba3-ace5-7253ba678db2",
    "showInput": true,
    "tags": []
   },
   "outputs": [
    {
     "name": "stdout",
     "output_type": "stream",
     "text": [
      "Iteration: 0, Best so far: 2.494\n"
     ]
    },
    {
     "name": "stdout",
     "output_type": "stream",
     "text": [
      "Iteration: 1, Best so far: 2.494\n"
     ]
    },
    {
     "name": "stdout",
     "output_type": "stream",
     "text": [
      "Iteration: 2, Best so far: 2.494\n"
     ]
    },
    {
     "name": "stdout",
     "output_type": "stream",
     "text": [
      "Iteration: 3, Best so far: 0.517\n"
     ]
    }
   ],
   "source": [
    "data = experiment.fetch_data()\n",
    "\n",
    "for i in range(N_BATCHES):\n",
    "\n",
    "    model = Models.BOTORCH_MODULAR(\n",
    "        experiment=experiment, \n",
    "        data=data,\n",
    "        surrogate=Surrogate(botorch_model_class=SURROGATE_CLASS),  # can use SAASGP (i.e. SaasFullyBayesianSingleTaskGP) for high-dim cases\n",
    "        search_space=experiment.search_space,\n",
    "        botorch_acqf_class=qNoisyExpectedHypervolumeImprovement,\n",
    "        acquisition_class=SEBOAcquisition,\n",
    "        acquisition_options={\n",
    "            \"penalty\": \"L0_norm\", # it can be L0_norm or L1_norm. \n",
    "            \"target_point\": target_point, \n",
    "            \"sparsity_threshold\": aug_dim,\n",
    "        },\n",
    "        torch_device=tkwargs['device'],\n",
    "    )\n",
    "\n",
    "    generator_run = model.gen(BATCH_SIZE)\n",
    "    trial = experiment.new_batch_trial(generator_run=generator_run)\n",
    "    trial.run()\n",
    "\n",
    "    new_data = trial.fetch_data(metrics=list(experiment.metrics.values()))\n",
    "    data = Data.from_multiple_data([data, new_data])\n",
    "    print(f\"Iteration: {i}, Best so far: {data.df['mean'].min():.3f}\")"
   ]
  },
  {
   "cell_type": "markdown",
   "id": "b7bb5d13",
   "metadata": {
    "customInput": null,
    "originalKey": "7998635d-6750-4825-b93d-c7b61f74c3c5",
    "papermill": {
     "duration": 0.004049,
     "end_time": "2024-07-23T21:07:25.556506",
     "exception": false,
     "start_time": "2024-07-23T21:07:25.552457",
     "status": "completed"
    },
    "showInput": false,
    "tags": []
   },
   "source": [
    "## Plot sparisty vs objective \n",
    "\n",
    "Visualize the objective and sparsity trade-offs using SEBO. Each point represent designs along the Pareto frontier found by SEBO. The x-axis corresponds to the number of active parameters used, i.e.\n",
    "non-sparse parameters, and the y-axis corresponds the best identified objective values. Based on this, decision-makers balance both simplicity/interpretability of generated policies and optimization performance when deciding which configuration to use."
   ]
  },
  {
   "cell_type": "code",
   "execution_count": 9,
   "id": "5a9f298e",
   "metadata": {
    "customInput": null,
    "customOutput": null,
    "execution": {
     "iopub.execute_input": "2024-07-23T21:07:25.566472Z",
     "iopub.status.busy": "2024-07-23T21:07:25.565931Z",
     "iopub.status.idle": "2024-07-23T21:07:25.571362Z",
     "shell.execute_reply": "2024-07-23T21:07:25.570836Z"
    },
    "executionStartTime": 1689124189044,
    "executionStopTime": 1689124189182,
    "jupyter": {
     "outputs_hidden": false
    },
    "originalKey": "416ccd12-51a1-4bfe-9e10-436cd88ec6be",
    "papermill": {
     "duration": 0.011418,
     "end_time": "2024-07-23T21:07:25.572647",
     "exception": false,
     "start_time": "2024-07-23T21:07:25.561229",
     "status": "completed"
    },
    "requestMsgId": "5143ae57-1d0d-4f9d-bc9d-9d151f3e9af0",
    "showInput": true,
    "tags": []
   },
   "outputs": [],
   "source": [
    "def nnz_exact(x, sparse_point):\n",
    "    return len(x) - (np.array(x) == np.array(sparse_point)).sum()\n",
    "\n",
    "    \n",
    "df = data.df\n",
    "df['L0_norm'] = df['arm_name'].apply(lambda d: nnz_exact(list(experiment.arms_by_name[d].parameters.values()), [0 for _ in range(aug_dim)]) )"
   ]
  },
  {
   "cell_type": "code",
   "execution_count": 10,
   "id": "f26de242",
   "metadata": {
    "customInput": null,
    "customOutput": null,
    "execution": {
     "iopub.execute_input": "2024-07-23T21:07:25.581648Z",
     "iopub.status.busy": "2024-07-23T21:07:25.581136Z",
     "iopub.status.idle": "2024-07-23T21:07:25.590464Z",
     "shell.execute_reply": "2024-07-23T21:07:25.589954Z"
    },
    "executionStartTime": 1689124189219,
    "executionStopTime": 1689124189321,
    "jupyter": {
     "outputs_hidden": false
    },
    "originalKey": "97b96822-7d7f-4a5d-8458-01ff890d2fde",
    "papermill": {
     "duration": 0.015174,
     "end_time": "2024-07-23T21:07:25.591728",
     "exception": false,
     "start_time": "2024-07-23T21:07:25.576554",
     "status": "completed"
    },
    "requestMsgId": "34abdf8d-6f0c-48a1-8700-8e2c3075a085",
    "showInput": true,
    "tags": []
   },
   "outputs": [
    {
     "data": {
      "text/plain": [
       "{1: 6.021920790955665,\n",
       " 2: 1.1177832676296084,\n",
       " 3: 0.6616969067451883,\n",
       " 4: 0.6616969067451883,\n",
       " 5: 0.517395400342167,\n",
       " 6: 0.517395400342167,\n",
       " 7: 0.517395400342167,\n",
       " 8: 0.517395400342167}"
      ]
     },
     "execution_count": 10,
     "metadata": {},
     "output_type": "execute_result"
    }
   ],
   "source": [
    "result_by_sparsity = {l: df[df.L0_norm <= l]['mean'].min() for l in range(1, aug_dim+1)}\n",
    "result_by_sparsity"
   ]
  },
  {
   "cell_type": "code",
   "execution_count": 11,
   "id": "f75086ca",
   "metadata": {
    "customInput": null,
    "customOutput": null,
    "execution": {
     "iopub.execute_input": "2024-07-23T21:07:25.601031Z",
     "iopub.status.busy": "2024-07-23T21:07:25.600634Z",
     "iopub.status.idle": "2024-07-23T21:07:25.748231Z",
     "shell.execute_reply": "2024-07-23T21:07:25.747546Z"
    },
    "executionStartTime": 1689134836494,
    "executionStopTime": 1689134837813,
    "jupyter": {
     "outputs_hidden": false
    },
    "originalKey": "7193e2b0-e192-439a-b0d0-08a2029f64ca",
    "papermill": {
     "duration": 0.15386,
     "end_time": "2024-07-23T21:07:25.749732",
     "exception": false,
     "start_time": "2024-07-23T21:07:25.595872",
     "status": "completed"
    },
    "requestMsgId": "f095d820-55e0-4201-8e3a-77f17b2155f1",
    "showInput": true,
    "tags": []
   },
   "outputs": [
    {
     "data": {
      "image/png": "[encoded data removed]",
      "text/plain": [
       "<Figure size 800x600 with 1 Axes>"
      ]
     },
     "metadata": {},
     "output_type": "display_data"
    }
   ],
   "source": [
    "fig, ax = plt.subplots(figsize=(8, 6))\n",
    "ax.plot(list(result_by_sparsity.keys()), list(result_by_sparsity.values()), '.b-', label=\"sebo\", markersize=10)\n",
    "ax.grid(True)\n",
    "ax.set_title(f\"Branin, D={aug_dim}\", fontsize=20)\n",
    "ax.set_xlabel(\"Number of active parameters\", fontsize=20)\n",
    "ax.set_ylabel(\"Best value found\", fontsize=20)\n",
    "# ax.legend(fontsize=18)\n",
    "plt.show()"
   ]
  },
  {
   "cell_type": "markdown",
   "id": "c7a7e1b4",
   "metadata": {
    "customInput": null,
    "originalKey": "1ba68dc9-d60b-4b39-8e58-ea9bdc06b44c",
    "papermill": {
     "duration": 0.004579,
     "end_time": "2024-07-23T21:07:25.759351",
     "exception": false,
     "start_time": "2024-07-23T21:07:25.754772",
     "status": "completed"
    },
    "showInput": false,
    "tags": []
   },
   "source": [
    "# Demo of Using GenerationStrategy and Service API \n",
    "\n",
    "Please check [Service API tutorial](https://ax.dev/tutorials/gpei_hartmann_service.html) for more detailed information. "
   ]
  },
  {
   "cell_type": "markdown",
   "id": "7cd8ffb2",
   "metadata": {
    "customInput": null,
    "originalKey": "45e5586c-55eb-4908-aa73-bca4ee883b56",
    "papermill": {
     "duration": 0.004383,
     "end_time": "2024-07-23T21:07:25.768314",
     "exception": false,
     "start_time": "2024-07-23T21:07:25.763931",
     "status": "completed"
    },
    "showInput": false,
    "tags": []
   },
   "source": [
    "## Create `GenerationStrategy`"
   ]
  },
  {
   "cell_type": "code",
   "execution_count": 12,
   "id": "f39b5423",
   "metadata": {
    "customInput": null,
    "execution": {
     "iopub.execute_input": "2024-07-23T21:07:25.778579Z",
     "iopub.status.busy": "2024-07-23T21:07:25.778005Z",
     "iopub.status.idle": "2024-07-23T21:07:25.782548Z",
     "shell.execute_reply": "2024-07-23T21:07:25.781904Z"
    },
    "executionStartTime": 1689124192972,
    "executionStopTime": 1689124192975,
    "jupyter": {
     "outputs_hidden": false
    },
    "originalKey": "7c0bfe37-8f1f-4999-8833-42ffb2569c04",
    "papermill": {
     "duration": 0.01115,
     "end_time": "2024-07-23T21:07:25.783899",
     "exception": false,
     "start_time": "2024-07-23T21:07:25.772749",
     "status": "completed"
    },
    "requestMsgId": "bbd9058a-709e-4262-abe1-720d37e8786f",
    "showInput": true,
    "tags": []
   },
   "outputs": [],
   "source": [
    "gs = GenerationStrategy(\n",
    "    name=\"SEBO_L0\",\n",
    "    steps=[\n",
    "        GenerationStep(  # Initialization step\n",
    "            model=Models.SOBOL,     \n",
    "            num_trials=N_INIT,\n",
    "        ),\n",
    "        GenerationStep(  # BayesOpt step\n",
    "            model=Models.BOTORCH_MODULAR,\n",
    "            # No limit on how many generator runs will be produced\n",
    "            num_trials=-1,\n",
    "            model_kwargs={  # Kwargs to pass to `BoTorchModel.__init__`\n",
    "                \"surrogate\": Surrogate(botorch_model_class=SURROGATE_CLASS),\n",
    "                \"acquisition_class\": SEBOAcquisition,\n",
    "                \"botorch_acqf_class\": qNoisyExpectedHypervolumeImprovement,\n",
    "                \"acquisition_options\": {\n",
    "                    \"penalty\": \"L0_norm\", # it can be L0_norm or L1_norm.\n",
    "                    \"target_point\": target_point, \n",
    "                    \"sparsity_threshold\": aug_dim,\n",
    "                },\n",
    "            },\n",
    "        )\n",
    "    ]\n",
    ")"
   ]
  },
  {
   "cell_type": "markdown",
   "id": "a90937a6",
   "metadata": {
    "customInput": null,
    "originalKey": "e4911bc6-32cb-42a5-908f-57f3f04e58e5",
    "papermill": {
     "duration": 0.004447,
     "end_time": "2024-07-23T21:07:25.792962",
     "exception": false,
     "start_time": "2024-07-23T21:07:25.788515",
     "status": "completed"
    },
    "showInput": false,
    "tags": []
   },
   "source": [
    "## Initialize client and set up experiment"
   ]
  },
  {
   "cell_type": "code",
   "execution_count": 13,
   "id": "de0856bd",
   "metadata": {
    "customInput": null,
    "execution": {
     "iopub.execute_input": "2024-07-23T21:07:25.803260Z",
     "iopub.status.busy": "2024-07-23T21:07:25.802692Z",
     "iopub.status.idle": "2024-07-23T21:07:25.810179Z",
     "shell.execute_reply": "2024-07-23T21:07:25.809649Z"
    },
    "executionStartTime": 1689124192979,
    "executionStopTime": 1689124192984,
    "jupyter": {
     "outputs_hidden": false
    },
    "originalKey": "47938102-0613-4b37-acb2-9f1f5f3fe6b1",
    "papermill": {
     "duration": 0.014051,
     "end_time": "2024-07-23T21:07:25.811469",
     "exception": false,
     "start_time": "2024-07-23T21:07:25.797418",
     "status": "completed"
    },
    "requestMsgId": "38b4b17c-6aae-43b8-aa58-2df045f522fe",
    "showInput": true,
    "tags": []
   },
   "outputs": [
    {
     "name": "stderr",
     "output_type": "stream",
     "text": [
      "[INFO 07-23 21:07:25] ax.service.ax_client: Starting optimization with verbose logging. To disable logging, set the `verbose_logging` argument to `False`. Note that float values in the logs are rounded to 6 decimal points.\n"
     ]
    },
    {
     "name": "stderr",
     "output_type": "stream",
     "text": [
      "[INFO 07-23 21:07:25] ax.service.utils.instantiation: Created search space: SearchSpace(parameters=[RangeParameter(name='x0', parameter_type=FLOAT, range=[0.0, 1.0]), RangeParameter(name='x1', parameter_type=FLOAT, range=[0.0, 1.0]), RangeParameter(name='x2', parameter_type=FLOAT, range=[0.0, 1.0]), RangeParameter(name='x3', parameter_type=FLOAT, range=[0.0, 1.0]), RangeParameter(name='x4', parameter_type=FLOAT, range=[0.0, 1.0]), RangeParameter(name='x5', parameter_type=FLOAT, range=[0.0, 1.0]), RangeParameter(name='x6', parameter_type=FLOAT, range=[0.0, 1.0]), RangeParameter(name='x7', parameter_type=FLOAT, range=[0.0, 1.0])], parameter_constraints=[]).\n"
     ]
    }
   ],
   "source": [
    "ax_client = AxClient(generation_strategy=gs)\n",
    "\n",
    "experiment_parameters = [\n",
    "    {\n",
    "        \"name\": f\"x{i}\",\n",
    "        \"type\": \"range\",\n",
    "        \"bounds\": [0, 1],\n",
    "        \"value_type\": \"float\",\n",
    "        \"log_scale\": False,\n",
    "    }\n",
    "    for i in range(aug_dim)\n",
    "]\n",
    "\n",
    "objective_metrics = {\n",
    "    \"objective\": ObjectiveProperties(minimize=False, threshold=-10),\n",
    "}\n",
    "\n",
    "ax_client.create_experiment(\n",
    "    name=\"branin_augment_sebo_experiment\",\n",
    "    parameters=experiment_parameters,\n",
    "    objectives=objective_metrics,\n",
    ")"
   ]
  },
  {
   "cell_type": "markdown",
   "id": "4db25245",
   "metadata": {
    "customInput": null,
    "originalKey": "6a7942e4-9727-43d9-8d8d-c327d38c2373",
    "papermill": {
     "duration": 0.004905,
     "end_time": "2024-07-23T21:07:25.821518",
     "exception": false,
     "start_time": "2024-07-23T21:07:25.816613",
     "status": "completed"
    },
    "showInput": false,
    "tags": []
   },
   "source": [
    "## Define evaluation function "
   ]
  },
  {
   "cell_type": "code",
   "execution_count": 14,
   "id": "fdfc5d30",
   "metadata": {
    "customInput": null,
    "execution": {
     "iopub.execute_input": "2024-07-23T21:07:25.832691Z",
     "iopub.status.busy": "2024-07-23T21:07:25.832063Z",
     "iopub.status.idle": "2024-07-23T21:07:25.836114Z",
     "shell.execute_reply": "2024-07-23T21:07:25.835473Z"
    },
    "executionStartTime": 1689124192990,
    "executionStopTime": 1689124192992,
    "jupyter": {
     "outputs_hidden": false
    },
    "originalKey": "4e2994ff-36ac-4d48-a789-3d0398e1e856",
    "papermill": {
     "duration": 0.011184,
     "end_time": "2024-07-23T21:07:25.837455",
     "exception": false,
     "start_time": "2024-07-23T21:07:25.826271",
     "status": "completed"
    },
    "requestMsgId": "8f74a775-a8ce-462d-993c-5c9291c748b9",
    "showInput": true,
    "tags": []
   },
   "outputs": [],
   "source": [
    "def evaluation(parameters):\n",
    "    # put parameters into 1-D array\n",
    "    x = [parameters.get(param[\"name\"]) for param in experiment_parameters]\n",
    "    res = branin_augment(x_vec=x, augment_dim=aug_dim)\n",
    "    eval_res = {\n",
    "        # flip the sign to maximize\n",
    "        \"objective\": (res * -1, 0.0),\n",
    "    }\n",
    "    return eval_res"
   ]
  },
  {
   "cell_type": "markdown",
   "id": "c6a824e4",
   "metadata": {
    "customInput": null,
    "originalKey": "4597531b-7ac8-4dd0-94c4-836672e0f4c4",
    "papermill": {
     "duration": 0.004611,
     "end_time": "2024-07-23T21:07:25.847054",
     "exception": false,
     "start_time": "2024-07-23T21:07:25.842443",
     "status": "completed"
    },
    "showInput": false,
    "tags": []
   },
   "source": [
    "## Run optimization loop\n",
    "\n",
    "Running only 1 BO trial for demonstration. "
   ]
  },
  {
   "cell_type": "code",
   "execution_count": 15,
   "id": "0cb91520",
   "metadata": {
    "customInput": null,
    "execution": {
     "iopub.execute_input": "2024-07-23T21:07:25.857630Z",
     "iopub.status.busy": "2024-07-23T21:07:25.857100Z",
     "iopub.status.idle": "2024-07-23T21:08:03.613700Z",
     "shell.execute_reply": "2024-07-23T21:08:03.612984Z"
    },
    "executionStartTime": 1689124193044,
    "executionStopTime": 1689130398208,
    "jupyter": {
     "outputs_hidden": false
    },
    "originalKey": "bc7accb2-48a2-4c88-a932-7c79ec81075a",
    "papermill": {
     "duration": 37.763276,
     "end_time": "2024-07-23T21:08:03.614976",
     "exception": false,
     "start_time": "2024-07-23T21:07:25.851700",
     "status": "completed"
    },
    "requestMsgId": "f054e5b1-12eb-459b-a508-6944baf82dfb",
    "showInput": true,
    "tags": []
   },
   "outputs": [
    {
     "name": "stderr",
     "output_type": "stream",
     "text": [
      "[INFO 07-23 21:07:25] ax.service.ax_client: Generated new trial 0 with parameters {'x0': 0.989431, 'x1': 0.378686, 'x2': 0.096062, 'x3': 0.41972, 'x4': 0.623237, 'x5': 0.54694, 'x6': 0.79096, 'x7': 0.954076} using model Sobol.\n"
     ]
    },
    {
     "name": "stderr",
     "output_type": "stream",
     "text": [
      "[INFO 07-23 21:07:25] ax.service.ax_client: Completed trial 0 with data: {'objective': (-9.236209, 0.0)}.\n"
     ]
    },
    {
     "name": "stderr",
     "output_type": "stream",
     "text": [
      "[INFO 07-23 21:07:25] ax.service.ax_client: Generated new trial 1 with parameters {'x0': 0.88689, 'x1': 0.426997, 'x2': 0.934352, 'x3': 0.138285, 'x4': 0.715693, 'x5': 0.103804, 'x6': 0.185012, 'x7': 0.80756} using model Sobol.\n"
     ]
    },
    {
     "name": "stderr",
     "output_type": "stream",
     "text": [
      "[INFO 07-23 21:07:25] ax.service.ax_client: Completed trial 1 with data: {'objective': (-28.045468, 0.0)}.\n"
     ]
    },
    {
     "name": "stderr",
     "output_type": "stream",
     "text": [
      "[INFO 07-23 21:07:25] ax.service.ax_client: Generated new trial 2 with parameters {'x0': 0.977055, 'x1': 0.32062, 'x2': 0.207312, 'x3': 0.910674, 'x4': 0.173865, 'x5': 0.353647, 'x6': 0.182452, 'x7': 0.970655} using model Sobol.\n"
     ]
    },
    {
     "name": "stderr",
     "output_type": "stream",
     "text": [
      "[INFO 07-23 21:07:25] ax.service.ax_client: Completed trial 2 with data: {'objective': (-5.200616, 0.0)}.\n"
     ]
    },
    {
     "name": "stderr",
     "output_type": "stream",
     "text": [
      "[INFO 07-23 21:07:25] ax.service.ax_client: Generated new trial 3 with parameters {'x0': 0.016531, 'x1': 0.994625, 'x2': 0.552433, 'x3': 0.376898, 'x4': 0.928731, 'x5': 0.874915, 'x6': 0.820962, 'x7': 0.346572} using model Sobol.\n"
     ]
    },
    {
     "name": "stderr",
     "output_type": "stream",
     "text": [
      "[INFO 07-23 21:07:25] ax.service.ax_client: Completed trial 3 with data: {'objective': (-12.81715, 0.0)}.\n"
     ]
    },
    {
     "name": "stderr",
     "output_type": "stream",
     "text": [
      "[INFO 07-23 21:07:25] ax.service.ax_client: Generated new trial 4 with parameters {'x0': 0.308873, 'x1': 0.643066, 'x2': 0.813798, 'x3': 0.4117, 'x4': 0.83239, 'x5': 0.833905, 'x6': 0.312641, 'x7': 0.140687} using model Sobol.\n"
     ]
    },
    {
     "name": "stderr",
     "output_type": "stream",
     "text": [
      "[INFO 07-23 21:07:25] ax.service.ax_client: Completed trial 4 with data: {'objective': (-28.232979, 0.0)}.\n"
     ]
    },
    {
     "name": "stderr",
     "output_type": "stream",
     "text": [
      "[INFO 07-23 21:07:25] ax.service.ax_client: Generated new trial 5 with parameters {'x0': 0.740385, 'x1': 0.866181, 'x2': 0.681454, 'x3': 0.799276, 'x4': 0.333096, 'x5': 0.101531, 'x6': 0.479241, 'x7': 0.398969} using model Sobol.\n"
     ]
    },
    {
     "name": "stderr",
     "output_type": "stream",
     "text": [
      "[INFO 07-23 21:07:25] ax.service.ax_client: Completed trial 5 with data: {'objective': (-160.925701, 0.0)}.\n"
     ]
    },
    {
     "name": "stderr",
     "output_type": "stream",
     "text": [
      "[INFO 07-23 21:07:25] ax.service.ax_client: Generated new trial 6 with parameters {'x0': 0.172832, 'x1': 0.763247, 'x2': 0.342744, 'x3': 0.082505, 'x4': 0.33297, 'x5': 0.392325, 'x6': 0.148088, 'x7': 0.820303} using model Sobol.\n"
     ]
    },
    {
     "name": "stderr",
     "output_type": "stream",
     "text": [
      "[INFO 07-23 21:07:25] ax.service.ax_client: Completed trial 6 with data: {'objective': (-3.624685, 0.0)}.\n"
     ]
    },
    {
     "name": "stderr",
     "output_type": "stream",
     "text": [
      "[INFO 07-23 21:07:25] ax.service.ax_client: Generated new trial 7 with parameters {'x0': 0.819971, 'x1': 0.137276, 'x2': 0.305299, 'x3': 0.97505, 'x4': 0.445353, 'x5': 0.385026, 'x6': 0.515473, 'x7': 0.859504} using model Sobol.\n"
     ]
    },
    {
     "name": "stderr",
     "output_type": "stream",
     "text": [
      "[INFO 07-23 21:07:26] ax.service.ax_client: Completed trial 7 with data: {'objective': (-15.684391, 0.0)}.\n"
     ]
    },
    {
     "name": "stderr",
     "output_type": "stream",
     "text": [
      "[INFO 07-23 21:07:26] ax.service.ax_client: Generated new trial 8 with parameters {'x0': 0.197961, 'x1': 0.852583, 'x2': 0.605028, 'x3': 0.963488, 'x4': 0.226905, 'x5': 0.918577, 'x6': 0.384619, 'x7': 0.924423} using model Sobol.\n"
     ]
    },
    {
     "name": "stderr",
     "output_type": "stream",
     "text": [
      "[INFO 07-23 21:07:26] ax.service.ax_client: Completed trial 8 with data: {'objective': (-14.885272, 0.0)}.\n"
     ]
    },
    {
     "name": "stderr",
     "output_type": "stream",
     "text": [
      "[INFO 07-23 21:07:26] ax.service.ax_client: Generated new trial 9 with parameters {'x0': 0.838259, 'x1': 0.103941, 'x2': 0.289776, 'x3': 0.223114, 'x4': 0.394795, 'x5': 0.823368, 'x6': 0.252791, 'x7': 0.643448} using model Sobol.\n"
     ]
    },
    {
     "name": "stderr",
     "output_type": "stream",
     "text": [
      "[INFO 07-23 21:07:26] ax.service.ax_client: Completed trial 9 with data: {'objective': (-12.695571, 0.0)}.\n"
     ]
    },
    {
     "name": "stderr",
     "output_type": "stream",
     "text": [
      "[INFO 07-23 21:08:03] ax.service.ax_client: Generated new trial 10 with parameters {'x0': 0.0, 'x1': 0.0, 'x2': 0.0, 'x3': 0.0, 'x4': 0.0, 'x5': 0.0, 'x6': 0.0, 'x7': 1.0} using model BoTorch.\n"
     ]
    },
    {
     "name": "stderr",
     "output_type": "stream",
     "text": [
      "[INFO 07-23 21:08:03] ax.service.ax_client: Completed trial 10 with data: {'objective': (-308.129096, 0.0)}.\n"
     ]
    }
   ],
   "source": [
    "for _ in range(N_INIT + 1):    \n",
    "    parameters, trial_index = ax_client.get_next_trial()\n",
    "    res = evaluation(parameters)\n",
    "    ax_client.complete_trial(trial_index=trial_index, raw_data=res)"
   ]
  }
 ],
 "metadata": {
  "fileHeader": "",
  "kernelspec": {
   "display_name": "Python 3 (ipykernel)",
   "language": "python",
   "name": "python3"
  },
  "language_info": {
   "codemirror_mode": {
    "name": "ipython",
    "version": 3
   },
   "file_extension": ".py",
   "mimetype": "text/x-python",
   "name": "python",
   "nbconvert_exporter": "python",
   "pygments_lexer": "ipython3",
   "version": "3.10.14"
  },
  "papermill": {
   "default_parameters": {},
   "duration": 762.171807,
   "end_time": "2024-07-23T21:08:06.495106",
   "environment_variables": {},
   "exception": null,
   "input_path": "/tmp/tmp.DL1QmpHQMI/Ax-main/tutorials/sebo.ipynb",
   "output_path": "/tmp/tmp.DL1QmpHQMI/Ax-main/tutorials/sebo.ipynb",
   "parameters": {},
   "start_time": "2024-07-23T20:55:24.323299",
   "version": "2.6.0"
  }
 },
 "nbformat": 4,
 "nbformat_minor": 5
}
