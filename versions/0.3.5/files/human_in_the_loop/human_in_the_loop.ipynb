{
 "cells": [
  {
   "cell_type": "markdown",
   "metadata": {
    "collapsed": true,
    "jupyter": {
     "outputs_hidden": true
    }
   },
   "source": [
    "# Using Ax for Human-in-the-loop Experimentation¶"
   ]
  },
  {
   "cell_type": "markdown",
   "metadata": {},
   "source": [
    "While Ax can be used in as a fully automated service, generating and deploying candidates Ax can be also used in a trial-by-trial fashion, allowing for human oversight. \n",
    "\n",
    "Typically, human intervention in Ax is necessary when there are clear tradeoffs between multiple metrics of interest. Condensing multiple outcomes of interest into a single scalar quantity can be really challenging. Instead, it can be useful to specify an objective and constraints, and tweak these based on the information from the experiment. \n",
    "\n",
    "To facilitate this, Ax provides the following key features:\n",
    "\n",
    "1. Constrained optimization\n",
    "2. Interfaces for easily modifying optimization goals\n",
    "3. Utilities for visualizing and deploying new trials composed of multiple optimizations. \n",
    "\n",
    "\n",
    "In this tutorial, we'll demonstrate how Ax enables users to explore these tradeoffs. With an understanding of the tradeoffs present in our data, we'll then make use of the constrained optimization utilities to generate candidates from multiple different optimization objectives, and create a conglomerate batch, with all of these candidates in together in one trial. "
   ]
  },
  {
   "cell_type": "markdown",
   "metadata": {},
   "source": [
    "## Experiment Setup\n",
    "\n",
    "For this tutorial, we will assume our experiment has already been created."
   ]
  },
  {
   "cell_type": "code",
   "execution_count": null,
   "metadata": {},
   "outputs": [],
   "source": [
    "import inspect\n",
    "import os\n",
    "\n",
    "from ax import (\n",
    "    Data,\n",
    "    Metric,\n",
    "    OptimizationConfig,\n",
    "    Objective,\n",
    "    OutcomeConstraint,\n",
    "    ComparisonOp,\n",
    "    json_load,\n",
    ")\n",
    "from ax.modelbridge.cross_validation import cross_validate\n",
    "from ax.modelbridge.factory import get_GPEI\n",
    "from ax.plot.diagnostic import tile_cross_validation\n",
    "from ax.plot.scatter import plot_multiple_metrics, tile_fitted\n",
    "from ax.utils.notebook.plotting import render, init_notebook_plotting\n",
    "\n",
    "import pandas as pd\n",
    "\n",
    "init_notebook_plotting()"
   ]
  },
  {
   "cell_type": "markdown",
   "metadata": {},
   "source": [
    "NOTE: The path below assumes the tutorial is being run from the root directory of the Ax package. This is needed since the jupyter notebooks may change active directory during runtime, making it tricky to find the file in a consistent way."
   ]
  },
  {
   "cell_type": "code",
   "execution_count": null,
   "metadata": {},
   "outputs": [],
   "source": [
    "curr_dir = os.path.join(os.getcwd(), \"tutorials\", \"human_in_the_loop\")\n",
    "experiment = json_load.load_experiment(os.path.join(curr_dir, \"hitl_exp.json\"))"
   ]
  },
  {
   "cell_type": "markdown",
   "metadata": {},
   "source": [
    "### Initial Sobol Trial"
   ]
  },
  {
   "cell_type": "markdown",
   "metadata": {},
   "source": [
    "Bayesian Optimization experiments almost always begin with a set of random points. In this experiment, these points were chosen via a Sobol sequence, accessible via the `ModelBridge` factory.\n",
    "\n",
    "A collection of points run and analyzed together form a `BatchTrial`. A `Trial` object provides metadata pertaining to the deployment of these points, including details such as when they were deployed, and the current status of their experiment. \n",
    "\n",
    "Here, we see an initial experiment has finished running (COMPLETED status)."
   ]
  },
  {
   "cell_type": "code",
   "execution_count": null,
   "metadata": {},
   "outputs": [],
   "source": [
    "experiment.trials[0]"
   ]
  },
  {
   "cell_type": "code",
   "execution_count": null,
   "metadata": {},
   "outputs": [],
   "source": [
    "experiment.trials[0].time_created"
   ]
  },
  {
   "cell_type": "code",
   "execution_count": null,
   "metadata": {},
   "outputs": [],
   "source": [
    "# Number of arms in first experiment, including status_quo\n",
    "len(experiment.trials[0].arms)"
   ]
  },
  {
   "cell_type": "code",
   "execution_count": null,
   "metadata": {
    "scrolled": true
   },
   "outputs": [],
   "source": [
    "# Sample arm configuration\n",
    "experiment.trials[0].arms[0]"
   ]
  },
  {
   "cell_type": "markdown",
   "metadata": {},
   "source": [
    "## Experiment Analysis\n",
    "\n",
    "**Optimization Config**\n",
    "\n",
    "An important construct for analyzing an experiment is an OptimizationConfig. An OptimizationConfig contains an objective, and outcome constraints. Experiment's can have a default OptimizationConfig, but models can also take an OptimizationConfig as input independent of the default.\n",
    "\n",
    "**Objective:** A metric to optimize, along with a direction to optimize (default: maximize)\n",
    "\n",
    "**Outcome Constraint:** A metric to constrain, along with a constraint direction (<= or >=), as well as a bound. \n",
    "\n",
    "Let's start with a simple OptimizationConfig. By default, our objective metric will be maximized, but can be minimized by setting the `minimize` flag. Our outcome constraint will, by default, be evaluated as a relative percentage change. This percentage change is computed relative to the experiment's status quo arm. "
   ]
  },
  {
   "cell_type": "code",
   "execution_count": null,
   "metadata": {},
   "outputs": [],
   "source": [
    "experiment.status_quo"
   ]
  },
  {
   "cell_type": "code",
   "execution_count": null,
   "metadata": {},
   "outputs": [],
   "source": [
    "objective_metric = Metric(name=\"metric_1\")\n",
    "constraint_metric = Metric(name=\"metric_2\")\n",
    "\n",
    "experiment.optimization_config = OptimizationConfig(\n",
    "    objective=Objective(objective_metric),\n",
    "    outcome_constraints=[\n",
    "        OutcomeConstraint(metric=constraint_metric, op=ComparisonOp.LEQ, bound=5),\n",
    "    ],\n",
    ")"
   ]
  },
  {
   "cell_type": "markdown",
   "metadata": {},
   "source": [
    "**Data**\n",
    "\n",
    "Another critical piece of analysis is data itself! Ax data follows a standard format, shown below. This format is imposed upon the underlying data structure, which is a Pandas DataFrame. \n",
    "\n",
    "A key set of fields are required for all data, for use with Ax models. \n",
    "\n",
    "It's a good idea to double check our data before fitting models -- let's make sure all of our expected metrics and arms are present."
   ]
  },
  {
   "cell_type": "code",
   "execution_count": null,
   "metadata": {},
   "outputs": [],
   "source": [
    "data = Data(pd.read_json(os.path.join(curr_dir, \"hitl_data.json\")))\n",
    "data.df.head()"
   ]
  },
  {
   "cell_type": "code",
   "execution_count": null,
   "metadata": {},
   "outputs": [],
   "source": [
    "data.df[\"arm_name\"].unique()"
   ]
  },
  {
   "cell_type": "code",
   "execution_count": null,
   "metadata": {},
   "outputs": [],
   "source": [
    "data.df[\"metric_name\"].unique()"
   ]
  },
  {
   "cell_type": "markdown",
   "metadata": {},
   "source": [
    "**Search Space** \n",
    "\n",
    "The final component necessary for human-in-the-loop optimization is a SearchSpace. A SearchSpace defines the feasible region for our parameters, as well as their types.\n",
    "\n",
    "Here, we have both parameters and a set of constraints on those parameters. \n",
    "\n",
    "Without a SearchSpace, our models are unable to generate new candidates. By default, the models will read the search space off of the experiment, when they are told to generate candidates. SearchSpaces can also be specified by the user at this time. Sometimes, the first round of an experiment is too restrictive--perhaps the experimenter was too cautious when defining their initial ranges for exploration! In this case, it can be useful to generate candidates from new, expanded search spaces, beyond that specified in the experiment.  "
   ]
  },
  {
   "cell_type": "code",
   "execution_count": null,
   "metadata": {},
   "outputs": [],
   "source": [
    "experiment.search_space.parameters"
   ]
  },
  {
   "cell_type": "code",
   "execution_count": null,
   "metadata": {},
   "outputs": [],
   "source": [
    "experiment.search_space.parameter_constraints"
   ]
  },
  {
   "cell_type": "markdown",
   "metadata": {},
   "source": [
    "### Model Fit\n",
    "\n",
    "Fitting BoTorch's GPEI will allow us to predict new candidates based on our first Sobol batch. \n",
    "Here, we make use of the default settings for GP-EI defined in the ModelBridge factory. "
   ]
  },
  {
   "cell_type": "code",
   "execution_count": null,
   "metadata": {},
   "outputs": [],
   "source": [
    "gp = get_GPEI(\n",
    "    experiment=experiment,\n",
    "    data=data,\n",
    ")"
   ]
  },
  {
   "cell_type": "markdown",
   "metadata": {},
   "source": [
    "We can validate the model fits using cross validation, shown below for each metric of interest. Here, our model fits leave something to be desired--the tail ends of each metric are hard to model. In this situation, there are three potential actions to take: \n",
    "\n",
    "1. Increase the amount of traffic in this experiment, to reduce the measurement noise.\n",
    "2. Increase the number of points run in the random batch, to assist the GP in covering the space.\n",
    "3. Reduce the number of parameters tuned at one time. \n",
    "\n",
    "However, away from the tail effects, the fits do show a strong correlations, so we will proceed with candidate generation. "
   ]
  },
  {
   "cell_type": "code",
   "execution_count": null,
   "metadata": {},
   "outputs": [],
   "source": [
    "cv_result = cross_validate(gp)\n",
    "render(tile_cross_validation(cv_result))"
   ]
  },
  {
   "cell_type": "markdown",
   "metadata": {},
   "source": [
    "The parameters from the initial batch have a wide range of effects on the metrics of interest, as shown from the outcomes from our fitted GP model. "
   ]
  },
  {
   "cell_type": "code",
   "execution_count": null,
   "metadata": {},
   "outputs": [],
   "source": [
    "render(tile_fitted(gp, rel=True))"
   ]
  },
  {
   "cell_type": "code",
   "execution_count": null,
   "metadata": {},
   "outputs": [],
   "source": [
    "METRIC_X_AXIS = \"metric_1\"\n",
    "METRIC_Y_AXIS = \"metric_2\"\n",
    "\n",
    "render(\n",
    "    plot_multiple_metrics(\n",
    "        gp,\n",
    "        metric_x=METRIC_X_AXIS,\n",
    "        metric_y=METRIC_Y_AXIS,\n",
    "    )\n",
    ")"
   ]
  },
  {
   "cell_type": "markdown",
   "metadata": {},
   "source": [
    "### Candidate Generation\n",
    "\n",
    "With our fitted GPEI model, we can optimize EI (Expected Improvement) based on any optimization config.\n",
    "We can start with our initial optimization config, and aim to simply maximize the playback smoothness, without worrying about the constraint on quality. "
   ]
  },
  {
   "cell_type": "code",
   "execution_count": null,
   "metadata": {},
   "outputs": [],
   "source": [
    "unconstrained = gp.gen(\n",
    "    n=3,\n",
    "    optimization_config=OptimizationConfig(\n",
    "        objective=Objective(objective_metric),\n",
    "    ),\n",
    ")"
   ]
  },
  {
   "cell_type": "markdown",
   "metadata": {},
   "source": [
    "Let's plot the tradeoffs again, but with our new arms. "
   ]
  },
  {
   "cell_type": "code",
   "execution_count": null,
   "metadata": {},
   "outputs": [],
   "source": [
    "render(\n",
    "    plot_multiple_metrics(\n",
    "        gp,\n",
    "        metric_x=METRIC_X_AXIS,\n",
    "        metric_y=METRIC_Y_AXIS,\n",
    "        generator_runs_dict={\n",
    "            \"unconstrained\": unconstrained,\n",
    "        },\n",
    "    )\n",
    ")"
   ]
  },
  {
   "cell_type": "markdown",
   "metadata": {},
   "source": [
    "### Change Objectives"
   ]
  },
  {
   "cell_type": "markdown",
   "metadata": {},
   "source": [
    "With our unconstrained optimization, we generate some candidates which are pretty promising with respect to our objective! However, there is a clear regression in our constraint metric, above our initial 5% desired constraint. Let's add that constraint back in.  "
   ]
  },
  {
   "cell_type": "code",
   "execution_count": null,
   "metadata": {},
   "outputs": [],
   "source": [
    "constraint_5 = OutcomeConstraint(metric=constraint_metric, op=ComparisonOp.LEQ, bound=5)\n",
    "constraint_5_results = gp.gen(\n",
    "    n=3,\n",
    "    optimization_config=OptimizationConfig(\n",
    "        objective=Objective(objective_metric), outcome_constraints=[constraint_5]\n",
    "    ),\n",
    ")"
   ]
  },
  {
   "cell_type": "markdown",
   "metadata": {},
   "source": [
    "This yields a *GeneratorRun*, which contains points according to our specified optimization config, along with metadata about how the points were generated. Let's plot the tradeoffs in these new points. "
   ]
  },
  {
   "cell_type": "code",
   "execution_count": null,
   "metadata": {},
   "outputs": [],
   "source": [
    "from ax.plot.scatter import plot_multiple_metrics\n",
    "\n",
    "render(\n",
    "    plot_multiple_metrics(\n",
    "        gp,\n",
    "        metric_x=METRIC_X_AXIS,\n",
    "        metric_y=METRIC_Y_AXIS,\n",
    "        generator_runs_dict={\"constraint_5\": constraint_5_results},\n",
    "    )\n",
    ")"
   ]
  },
  {
   "cell_type": "markdown",
   "metadata": {},
   "source": [
    "It is important to note that the treatment of constraints in GP EI is probabilistic. The acquisition function weights our objective by the probability that each constraint is feasible. Thus, we may allow points with a very small probability of violating the constraint to be generated, as long as the chance of the points increasing our objective is high enough. \n",
    "\n",
    "You can see above that the point estimate for each point is significantly below a 5% increase in the constraint metric, but that there is uncertainty in our prediction, and the tail probabilities do include probabilities of small regressions beyond 5%. "
   ]
  },
  {
   "cell_type": "code",
   "execution_count": null,
   "metadata": {},
   "outputs": [],
   "source": [
    "constraint_1 = OutcomeConstraint(metric=constraint_metric, op=ComparisonOp.LEQ, bound=1)\n",
    "constraint_1_results = gp.gen(\n",
    "    n=3,\n",
    "    optimization_config=OptimizationConfig(\n",
    "        objective=Objective(objective_metric),\n",
    "        outcome_constraints=[constraint_1],\n",
    "    ),\n",
    ")"
   ]
  },
  {
   "cell_type": "code",
   "execution_count": null,
   "metadata": {
    "scrolled": true
   },
   "outputs": [],
   "source": [
    "render(\n",
    "    plot_multiple_metrics(\n",
    "        gp,\n",
    "        metric_x=METRIC_X_AXIS,\n",
    "        metric_y=METRIC_Y_AXIS,\n",
    "        generator_runs_dict={\n",
    "            \"constraint_1\": constraint_1_results,\n",
    "        },\n",
    "    )\n",
    ")"
   ]
  },
  {
   "cell_type": "markdown",
   "metadata": {},
   "source": [
    "Finally, let's view all three sets of candidates together. "
   ]
  },
  {
   "cell_type": "code",
   "execution_count": null,
   "metadata": {},
   "outputs": [],
   "source": [
    "render(\n",
    "    plot_multiple_metrics(\n",
    "        gp,\n",
    "        metric_x=METRIC_X_AXIS,\n",
    "        metric_y=METRIC_Y_AXIS,\n",
    "        generator_runs_dict={\n",
    "            \"unconstrained\": unconstrained,\n",
    "            \"loose_constraint\": constraint_5_results,\n",
    "            \"tight_constraint\": constraint_1_results,\n",
    "        },\n",
    "    )\n",
    ")"
   ]
  },
  {
   "cell_type": "markdown",
   "metadata": {},
   "source": [
    "## Creating a New Trial\n",
    "\n",
    "Having done the analysis and candidate generation for three different optimization configs, we can easily create a new `BatchTrial` which combines the candidates from these three different optimizations. Each set of candidates looks promising -- the point estimates are higher along both metric values than in the previous batch. However, there is still a good bit of uncertainty in our predictions. It is hard to choose between the different constraint settings without reducing this noise, so we choose to run a new trial with all three constraint settings. However, we're generally convinced that the tight constraint is too conservative. We'd still like to reduce our uncertainty in that region, but we'll only take one arm from that set."
   ]
  },
  {
   "cell_type": "code",
   "execution_count": null,
   "metadata": {},
   "outputs": [],
   "source": [
    "# We can add entire generator runs, when constructing a new trial.\n",
    "trial = (\n",
    "    experiment.new_batch_trial()\n",
    "    .add_generator_run(unconstrained)\n",
    "    .add_generator_run(constraint_5_results)\n",
    ")\n",
    "\n",
    "# Or, we can hand-pick arms.\n",
    "trial.add_arm(constraint_1_results.arms[0])"
   ]
  },
  {
   "cell_type": "markdown",
   "metadata": {},
   "source": [
    "The arms are combined into a single trial, along with the `status_quo` arm. Their generator can be accessed from the trial as well. "
   ]
  },
  {
   "cell_type": "code",
   "execution_count": null,
   "metadata": {},
   "outputs": [],
   "source": [
    "experiment.trials[1].arms"
   ]
  },
  {
   "cell_type": "markdown",
   "metadata": {},
   "source": [
    "The original `GeneratorRuns` can be accessed from within the trial as well. This is useful for later analyses, allowing introspection of the `OptimizationConfig` used for generation (as well as other information, e.g. `SearchSpace` used for generation)."
   ]
  },
  {
   "cell_type": "code",
   "execution_count": null,
   "metadata": {},
   "outputs": [],
   "source": [
    "experiment.trials[1]._generator_run_structs"
   ]
  },
  {
   "cell_type": "markdown",
   "metadata": {},
   "source": [
    "Here, we can see the unconstrained set-up used for our first set of candidates.  "
   ]
  },
  {
   "cell_type": "code",
   "execution_count": null,
   "metadata": {},
   "outputs": [],
   "source": [
    "experiment.trials[1]._generator_run_structs[0].generator_run.optimization_config"
   ]
  }
 ],
 "metadata": {
  "kernelspec": {
   "display_name": "Python 3 (ipykernel)",
   "language": "python",
   "name": "python3"
  },
  "language_info": {
   "codemirror_mode": {
    "name": "ipython",
    "version": 3
   },
   "file_extension": ".py",
   "mimetype": "text/x-python",
   "name": "python",
   "nbconvert_exporter": "python",
   "pygments_lexer": "ipython3",
   "version": "3.9.17"
  }
 },
 "nbformat": 4,
 "nbformat_minor": 4
}
