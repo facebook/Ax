{
 "cells": [
  {
   "cell_type": "markdown",
   "metadata": {
    "code_folding": [],
    "hidden_ranges": [],
    "originalKey": "08064d6a-453e-44d7-85dc-896d40b6303a",
    "showInput": true
   },
   "source": [
    "# Developer API Example on Hartmann6\n",
    "\n",
    "The Developer API is suitable when the user wants maximal customization of the optimization loop. This tutorial demonstrates optimization of a Hartmann6 function using the `Experiment` construct. In this example, trials will be evaluated synchronously."
   ]
  },
  {
   "cell_type": "code",
   "execution_count": null,
   "metadata": {
    "code_folding": [],
    "executionStartTime": 1646323252842,
    "executionStopTime": 1646323256492,
    "hidden_ranges": [],
    "originalKey": "7b98b243-30da-468b-82c7-7e22dbce6b57",
    "requestMsgId": "7b98b243-30da-468b-82c7-7e22dbce6b57"
   },
   "outputs": [],
   "source": [
    "from ax import (\n",
    "    ChoiceParameter,\n",
    "    ComparisonOp,\n",
    "    Experiment,\n",
    "    FixedParameter,\n",
    "    Metric,\n",
    "    Objective,\n",
    "    OptimizationConfig,\n",
    "    OrderConstraint,\n",
    "    OutcomeConstraint,\n",
    "    ParameterType,\n",
    "    RangeParameter,\n",
    "    SearchSpace,\n",
    "    SumConstraint,\n",
    ")\n",
    "from ax.modelbridge.registry import Models\n",
    "from ax.utils.notebook.plotting import init_notebook_plotting, render\n",
    "\n",
    "init_notebook_plotting()"
   ]
  },
  {
   "cell_type": "markdown",
   "metadata": {
    "code_folding": [],
    "hidden_ranges": [],
    "originalKey": "f522bb04-8372-4647-8c90-cffb8a664be3",
    "showInput": true
   },
   "source": [
    "## 1. Create Search Space\n",
    "\n",
    "First, we define a search space, which defines the type and allowed range for the parameters."
   ]
  },
  {
   "cell_type": "code",
   "execution_count": null,
   "metadata": {
    "executionStartTime": 1646323256533,
    "executionStopTime": 1646323256546,
    "originalKey": "9b782d53-f9e2-4b13-a8ba-b7941aba802e",
    "requestMsgId": "9b782d53-f9e2-4b13-a8ba-b7941aba802e"
   },
   "outputs": [],
   "source": [
    "from ax.metrics.l2norm import L2NormMetric\n",
    "from ax.metrics.hartmann6 import Hartmann6Metric\n",
    "\n",
    "\n",
    "hartmann_search_space = SearchSpace(\n",
    "    parameters=[\n",
    "        RangeParameter(\n",
    "            name=f\"x{i}\", parameter_type=ParameterType.FLOAT, lower=0.0, upper=1.0\n",
    "        )\n",
    "        for i in range(6)\n",
    "    ]\n",
    ")"
   ]
  },
  {
   "cell_type": "markdown",
   "metadata": {
    "customInput": null,
    "originalKey": "9e0c312c-e290-4e7b-bf9c-45bd5c360c25",
    "showInput": false
   },
   "source": [
    "Note that there are two other parameter classes, FixedParameter and ChoiceParameter. Although we won't use these in this example, you can create them as follows.\n",
    "\n"
   ]
  },
  {
   "cell_type": "code",
   "execution_count": null,
   "metadata": {
    "code_folding": [],
    "customInput": null,
    "executionStartTime": 1646323256562,
    "executionStopTime": 1646323256584,
    "hidden_ranges": [],
    "originalKey": "e29cbb8f-9045-4d9c-8a57-aeff1cd91da6",
    "requestMsgId": "e29cbb8f-9045-4d9c-8a57-aeff1cd91da6",
    "showInput": true
   },
   "outputs": [],
   "source": [
    "choice_param = ChoiceParameter(\n",
    "    name=\"choice\", values=[\"foo\", \"bar\"], parameter_type=ParameterType.STRING\n",
    ")\n",
    "fixed_param = FixedParameter(\n",
    "    name=\"fixed\", value=[True], parameter_type=ParameterType.BOOL\n",
    ")"
   ]
  },
  {
   "cell_type": "markdown",
   "metadata": {
    "customInput": null,
    "originalKey": "75b46af0-9739-46a6-9b95-21c8e2e9e22a",
    "showInput": false
   },
   "source": [
    "Sum constraints enforce that the sum of a set of parameters is greater or less than some bound, and order constraints enforce that one parameter is smaller than the other. We won't use these either, but see two examples below.\n",
    "\n"
   ]
  },
  {
   "cell_type": "code",
   "execution_count": null,
   "metadata": {
    "code_folding": [],
    "customInput": null,
    "executionStartTime": 1646323256616,
    "executionStopTime": 1646323256621,
    "hidden_ranges": [],
    "originalKey": "b782e8cf-c11c-4f4e-a416-2577a56b4100",
    "requestMsgId": "b782e8cf-c11c-4f4e-a416-2577a56b4100",
    "showInput": true
   },
   "outputs": [],
   "source": [
    "sum_constraint = SumConstraint(\n",
    "    parameters=[\n",
    "        hartmann_search_space.parameters[\"x0\"],\n",
    "        hartmann_search_space.parameters[\"x1\"],\n",
    "    ],\n",
    "    is_upper_bound=True,\n",
    "    bound=5.0,\n",
    ")\n",
    "\n",
    "order_constraint = OrderConstraint(\n",
    "    lower_parameter=hartmann_search_space.parameters[\"x0\"],\n",
    "    upper_parameter=hartmann_search_space.parameters[\"x1\"],\n",
    ")"
   ]
  },
  {
   "cell_type": "markdown",
   "metadata": {
    "code_folding": [],
    "hidden_ranges": [],
    "originalKey": "7bf887e2-2b02-4237-ba5e-6fa8beaa85fb",
    "showInput": false
   },
   "source": [
    "## 2. Create Optimization Config\n",
    "\n",
    "Second, we define the `optimization_config` with an `objective` and `outcome_constraints`.\n",
    "\n",
    "When doing the optimization, we will find points that minimize the objective while obeying the constraints (which in this case means `l2norm < 1.25`).\n",
    "\n",
    "Note: we are using `Hartmann6Metric` and `L2NormMetric` here, which have built in evaluation functions for testing.  For creating your own cutom metrics, see [8. Defining custom metrics](#8.-Defining-custom-metrics)."
   ]
  },
  {
   "cell_type": "code",
   "execution_count": null,
   "metadata": {
    "code_folding": [],
    "executionStartTime": 1646323256629,
    "executionStopTime": 1646323256633,
    "hidden_ranges": [],
    "originalKey": "d0e2b580-bfb5-4a73-8db1-34a3c43c3ef2",
    "requestMsgId": "d0e2b580-bfb5-4a73-8db1-34a3c43c3ef2"
   },
   "outputs": [],
   "source": [
    "param_names = [f\"x{i}\" for i in range(6)]\n",
    "optimization_config = OptimizationConfig(\n",
    "    objective=Objective(\n",
    "        metric=Hartmann6Metric(name=\"hartmann6\", param_names=param_names),\n",
    "        minimize=True,\n",
    "    ),\n",
    "    outcome_constraints=[\n",
    "        OutcomeConstraint(\n",
    "            metric=L2NormMetric(name=\"l2norm\", param_names=param_names, noise_sd=0.2),\n",
    "            op=ComparisonOp.LEQ,\n",
    "            bound=1.25,\n",
    "            relative=False,\n",
    "        )\n",
    "    ],\n",
    ")"
   ]
  },
  {
   "cell_type": "markdown",
   "metadata": {
    "code_folding": [],
    "customInput": null,
    "hidden_ranges": [],
    "originalKey": "ed80a5e4-4786-4961-979e-22a295bfa7f0",
    "showInput": false
   },
   "source": [
    "## 3. Define a Runner\n",
    "Before an experiment can collect data, it must have a Runner attached. A runner handles the deployment of trials. A trial must be \"run\" before it can be evaluated.\n",
    "\n",
    "Here, we have a dummy runner that does nothing. In practice, a runner might be in charge of pushing an experiment to production.\n",
    "\n",
    "The only method that needs to be defined for runner subclasses is run, which performs any necessary deployment logic, and returns a dictionary of resulting metadata.  This metadata can later be accessed through the trial's `run_metadata` property."
   ]
  },
  {
   "cell_type": "code",
   "execution_count": null,
   "metadata": {
    "code_folding": [],
    "customInput": null,
    "executionStartTime": 1646323256641,
    "executionStopTime": 1646323256645,
    "hidden_ranges": [],
    "originalKey": "c9862804-4c0c-4691-be2c-5cb0eb778460",
    "requestMsgId": "c9862804-4c0c-4691-be2c-5cb0eb778460",
    "showInput": true
   },
   "outputs": [],
   "source": [
    "from ax import Runner\n",
    "\n",
    "\n",
    "class MyRunner(Runner):\n",
    "    def run(self, trial):\n",
    "        trial_metadata = {\"name\": str(trial.index)}\n",
    "        return trial_metadata"
   ]
  },
  {
   "cell_type": "markdown",
   "metadata": {
    "code_folding": [],
    "customInput": null,
    "hidden_ranges": [],
    "originalKey": "131ab2a9-e2c7-4752-99a3-547c7dbe42ec",
    "showInput": false
   },
   "source": [
    "## 4. Create Experiment\n",
    "Next, we make an `Experiment` with our search space, runner, and optimization config."
   ]
  },
  {
   "cell_type": "code",
   "execution_count": null,
   "metadata": {
    "code_folding": [],
    "customInput": null,
    "executionStartTime": 1646323256653,
    "executionStopTime": 1646323256658,
    "hidden_ranges": [],
    "originalKey": "18ce7d69-d556-48f5-9945-c75bedb362bb",
    "requestMsgId": "18ce7d69-d556-48f5-9945-c75bedb362bb",
    "showInput": true
   },
   "outputs": [],
   "source": [
    "exp = Experiment(\n",
    "    name=\"test_hartmann\",\n",
    "    search_space=hartmann_search_space,\n",
    "    optimization_config=optimization_config,\n",
    "    runner=MyRunner(),\n",
    ")"
   ]
  },
  {
   "cell_type": "markdown",
   "metadata": {
    "code_folding": [],
    "hidden_ranges": [],
    "originalKey": "8a04eba9-97f2-45f7-8b10-7216fe9c0101",
    "showInput": true
   },
   "source": [
    "## 5. Perform Optimization\n",
    "\n",
    "Run the optimization using the settings defined on the experiment. We will create 5 random sobol points for exploration followed by 15 points generated using the GPEI optimizer.\n",
    "\n",
    "Instead of a member of the `Models` enum to produce generator runs, users can leverage a `GenerationStrategy`. See the [Generation Strategy Tutorial](https://ax.dev/tutorials/generation_strategy.html) for more info."
   ]
  },
  {
   "cell_type": "code",
   "execution_count": null,
   "metadata": {
    "code_folding": [],
    "executionStartTime": 1646323256665,
    "executionStopTime": 1646323714923,
    "hidden_ranges": [],
    "originalKey": "b48e26da-57e7-4b81-baf0-122a71f0bb72",
    "requestMsgId": "b48e26da-57e7-4b81-baf0-122a71f0bb72"
   },
   "outputs": [],
   "source": [
    "from ax.modelbridge.registry import Models\n",
    "\n",
    "NUM_SOBOL_TRIALS = 5\n",
    "NUM_BOTORCH_TRIALS = 15\n",
    "\n",
    "print(f\"Running Sobol initialization trials...\")\n",
    "sobol = Models.SOBOL(search_space=exp.search_space)\n",
    "\n",
    "for i in range(NUM_SOBOL_TRIALS):\n",
    "    # Produce a GeneratorRun from the model, which contains proposed arm(s) and other metadata\n",
    "    generator_run = sobol.gen(n=1)\n",
    "    # Add generator run to a trial to make it part of the experiment and evaluate arm(s) in it\n",
    "    trial = exp.new_trial(generator_run=generator_run)\n",
    "    # Start trial run to evaluate arm(s) in the trial\n",
    "    trial.run()\n",
    "    # Mark trial as completed to record when a trial run is completed\n",
    "    # and enable fetching of data for metrics on the experiment\n",
    "    # (by default, trials must be completed before metrics can fetch their data,\n",
    "    # unless a metric is explicitly configured otherwise)\n",
    "    trial.mark_completed()\n",
    "\n",
    "for i in range(NUM_BOTORCH_TRIALS):\n",
    "    print(\n",
    "        f\"Running BO trial {i + NUM_SOBOL_TRIALS + 1}/{NUM_SOBOL_TRIALS + NUM_BOTORCH_TRIALS}...\"\n",
    "    )\n",
    "    # Reinitialize GP+EI model at each step with updated data.\n",
    "    gpei = Models.BOTORCH_MODULAR(experiment=exp, data=exp.fetch_data())\n",
    "    generator_run = gpei.gen(n=1)\n",
    "    trial = exp.new_trial(generator_run=generator_run)\n",
    "    trial.run()\n",
    "    trial.mark_completed()\n",
    "\n",
    "print(\"Done!\")"
   ]
  },
  {
   "cell_type": "markdown",
   "metadata": {
    "code_folding": [],
    "hidden_ranges": [],
    "originalKey": "f503e648-e3f2-419f-a60e-5bfcbc6775bd",
    "showInput": true
   },
   "source": [
    "## 6. Inspect trials' data\n",
    "\n",
    "Now we can inspect the `Experiment`'s data by calling `fetch_data()`, which retrieves evaluation data for all trials of the experiment.\n",
    "\n",
    "To fetch trial data, we need to run it and mark it completed. For most metrics in Ax, data is only available once the status of the trial is `COMPLETED`, since in real-worlds scenarios, metrics can typically only be fetched after the trial finished running.\n",
    "\n",
    "NOTE: Metrics classes may implement the `is_available_while_running` method. When this method returns `True`, data is available when trials are either `RUNNING` or `COMPLETED`. This can be used to obtain intermediate results from A/B test trials and other online experiments, or when metric values are available immediately, like in the case of synthetic problem metrics.\n",
    "\n",
    "We can also use the `fetch_trials_data` function to get evaluation data for a specific trials in the experiment, like so:"
   ]
  },
  {
   "cell_type": "code",
   "execution_count": null,
   "metadata": {
    "code_folding": [],
    "executionStartTime": 1646323714950,
    "executionStopTime": 1646323715210,
    "hidden_ranges": [],
    "originalKey": "65113ac3-956a-4fcc-abf7-a9d45f8ecb72",
    "requestMsgId": "65113ac3-956a-4fcc-abf7-a9d45f8ecb72"
   },
   "outputs": [],
   "source": [
    "trial_data = exp.fetch_trials_data([NUM_SOBOL_TRIALS + NUM_BOTORCH_TRIALS - 1])\n",
    "trial_data.df"
   ]
  },
  {
   "cell_type": "markdown",
   "metadata": {
    "code_folding": [],
    "customInput": null,
    "hidden_ranges": [],
    "originalKey": "74fa0cc5-075c-4b34-98b9-cbf74ad5bb26",
    "showInput": true
   },
   "source": [
    "The below call to `exp.fetch_data()` also attaches data to the last trial, which because of the way we looped through Botorch trials in [5. Perform Optimization](5.-Perform-Optimization), would otherwise not have data attached.  This is necessary to get `objective_means` in [7. Plot results](7.-Plot-results)."
   ]
  },
  {
   "cell_type": "code",
   "execution_count": null,
   "metadata": {
    "code_folding": [],
    "customInput": null,
    "executionStartTime": 1646323715232,
    "executionStopTime": 1646323715950,
    "hidden_ranges": [],
    "originalKey": "88fb1408-0965-48f9-a211-140ea57f46a6",
    "requestMsgId": "88fb1408-0965-48f9-a211-140ea57f46a6",
    "showInput": true
   },
   "outputs": [],
   "source": [
    "exp.fetch_data().df"
   ]
  },
  {
   "cell_type": "markdown",
   "metadata": {
    "code_folding": [],
    "hidden_ranges": [],
    "originalKey": "940865f9-af61-4668-aea0-b19ed5c5497d",
    "showInput": false
   },
   "source": [
    "## 7. Plot results\n",
    "Now we can plot the results of our optimization:"
   ]
  },
  {
   "cell_type": "code",
   "execution_count": null,
   "metadata": {
    "code_folding": [],
    "executionStartTime": 1646323715983,
    "executionStopTime": 1646323716634,
    "hidden_ranges": [],
    "originalKey": "5a4d2c4d-756a-492a-8938-d080a499b66c",
    "requestMsgId": "5a4d2c4d-756a-492a-8938-d080a499b66c"
   },
   "outputs": [],
   "source": [
    "import numpy as np\n",
    "from ax.plot.trace import optimization_trace_single_method\n",
    "\n",
    "# `plot_single_method` expects a 2-d array of means, because it expects to average means from multiple\n",
    "# optimization runs, so we wrap out best objectives array in another array.\n",
    "objective_means = np.array([[trial.objective_mean for trial in exp.trials.values()]])\n",
    "best_objective_plot = optimization_trace_single_method(\n",
    "    y=np.minimum.accumulate(objective_means, axis=1),\n",
    "    optimum=-3.32237,  # Known minimum objective for Hartmann6 function.\n",
    ")\n",
    "render(best_objective_plot)"
   ]
  },
  {
   "cell_type": "markdown",
   "metadata": {
    "code_folding": [],
    "customInput": null,
    "hidden_ranges": [],
    "originalKey": "934db3fd-1dce-421b-8228-820025f3821a",
    "showInput": true
   },
   "source": [
    "## 8. Defining custom metrics\n",
    "In order to perform an optimization, we also need to define an optimization config for the experiment. An optimization config is composed of an objective metric to be minimized or maximized in the experiment, and optionally a set of outcome constraints that place restrictions on how other metrics can be moved by the experiment.\n",
    "\n",
    "In order to define an objective or outcome constraint, we first need to subclass Metric. Metrics are used to evaluate trials, which are individual steps of the experiment sequence. Each trial contains one or more arms for which we will collect data at the same time.\n",
    "\n",
    "Our custom metric(s) will determine how, given a trial, to compute the mean and SEM of each of the trial's arms.\n",
    "\n",
    "The only method that needs to be defined for most metric subclasses is `fetch_trial_data`, which defines how a single trial is evaluated, and returns a pandas dataframe.\n",
    " \n",
    "The `is_available_while_running` method is optional and returns a boolean, specifying whether the trial data can be fetched before the trial is complete.  See [6. Inspect trials' data](6.-Inspect-trials'-data) for more details."
   ]
  },
  {
   "cell_type": "code",
   "execution_count": null,
   "metadata": {
    "code_folding": [],
    "customInput": null,
    "executionStartTime": 1646323716638,
    "executionStopTime": 1646323716697,
    "hidden_ranges": [],
    "originalKey": "7ec75ae4-1d7f-4ff4-8d9d-b77fdf28ccfe",
    "requestMsgId": "7ec75ae4-1d7f-4ff4-8d9d-b77fdf28ccfe",
    "showInput": true
   },
   "outputs": [],
   "source": [
    "from ax import Data\n",
    "import pandas as pd\n",
    "\n",
    "\n",
    "class BoothMetric(Metric):\n",
    "    def fetch_trial_data(self, trial):\n",
    "        records = []\n",
    "        for arm_name, arm in trial.arms_by_name.items():\n",
    "            params = arm.parameters\n",
    "            records.append(\n",
    "                {\n",
    "                    \"arm_name\": arm_name,\n",
    "                    \"metric_name\": self.name,\n",
    "                    \"trial_index\": trial.index,\n",
    "                    # in practice, the mean and sem will be looked up based on trial metadata\n",
    "                    # but for this tutorial we will calculate them\n",
    "                    \"mean\": (params[\"x1\"] + 2 * params[\"x2\"] - 7) ** 2\n",
    "                    + (2 * params[\"x1\"] + params[\"x2\"] - 5) ** 2,\n",
    "                    \"sem\": 0.0,\n",
    "                }\n",
    "            )\n",
    "        return Data(df=pd.DataFrame.from_records(records))\n",
    "\n",
    "    def is_available_while_running(self) -> bool:\n",
    "        return True"
   ]
  },
  {
   "cell_type": "markdown",
   "metadata": {
    "code_folding": [],
    "customInput": null,
    "hidden_ranges": [],
    "originalKey": "92fcddf9-9d86-45cd-b9fb-a0a7acdb267d",
    "showInput": false
   },
   "source": [
    "## 9. Save to JSON or SQL\n",
    "At any point, we can also save our experiment to a JSON file. To ensure that our custom metrics and runner are saved properly, we first need to register them."
   ]
  },
  {
   "cell_type": "code",
   "execution_count": null,
   "metadata": {
    "code_folding": [],
    "customInput": null,
    "executionStartTime": 1646324682655,
    "executionStopTime": 1646324682796,
    "hidden_ranges": [],
    "originalKey": "f57e11d7-cc68-4323-a0cd-ff6f464dcd97",
    "requestMsgId": "f57e11d7-cc68-4323-a0cd-ff6f464dcd97",
    "showInput": true
   },
   "outputs": [],
   "source": [
    "from ax.storage.registry_bundle import RegistryBundle\n",
    "\n",
    "bundle = RegistryBundle(\n",
    "    metric_clss={BoothMetric: None, L2NormMetric: None, Hartmann6Metric: None},\n",
    "    runner_clss={MyRunner: None},\n",
    ")\n",
    "\n",
    "from ax.storage.json_store.load import load_experiment\n",
    "from ax.storage.json_store.save import save_experiment\n",
    "\n",
    "save_experiment(exp, \"experiment.json\", encoder_registry=bundle.encoder_registry)"
   ]
  },
  {
   "cell_type": "code",
   "execution_count": null,
   "metadata": {
    "code_folding": [],
    "customInput": null,
    "executionStartTime": 1646324718153,
    "executionStopTime": 1646324720104,
    "hidden_ranges": [],
    "originalKey": "e19ec7fb-f266-417e-ad17-5662a53a9ae3",
    "requestMsgId": "e19ec7fb-f266-417e-ad17-5662a53a9ae3",
    "showInput": true
   },
   "outputs": [],
   "source": [
    "loaded_experiment = load_experiment(\n",
    "    \"experiment.json\", decoder_registry=bundle.decoder_registry\n",
    ")"
   ]
  },
  {
   "cell_type": "markdown",
   "metadata": {
    "customInput": null,
    "originalKey": "dc1f6800-437e-45de-85d3-276ae5f8ca99",
    "showInput": false
   },
   "source": [
    "To save our experiment to SQL, we must first specify a connection to a database and create all necessary tables.\n",
    "\n"
   ]
  },
  {
   "cell_type": "code",
   "execution_count": null,
   "metadata": {
    "code_folding": [],
    "customInput": null,
    "executionStartTime": 1646324834810,
    "executionStopTime": 1646324835293,
    "hidden_ranges": [],
    "originalKey": "a0376ade-9a26-430b-b08b-0b93e890539c",
    "requestMsgId": "a0376ade-9a26-430b-b08b-0b93e890539c",
    "showInput": true
   },
   "outputs": [],
   "source": [
    "from ax.storage.sqa_store.db import (\n",
    "    init_engine_and_session_factory,\n",
    "    get_engine,\n",
    "    create_all_tables,\n",
    ")\n",
    "from ax.storage.sqa_store.load import load_experiment\n",
    "from ax.storage.sqa_store.save import save_experiment\n",
    "\n",
    "init_engine_and_session_factory(url=\"sqlite:///foo3.db\")\n",
    "\n",
    "engine = get_engine()\n",
    "create_all_tables(engine)"
   ]
  },
  {
   "cell_type": "code",
   "execution_count": null,
   "metadata": {
    "code_folding": [],
    "customInput": null,
    "executionStartTime": 1646324891053,
    "executionStopTime": 1646324897271,
    "hidden_ranges": [],
    "originalKey": "82f58ead-8f0d-44cf-9fa8-dd67f7c8c8df",
    "requestMsgId": "82f58ead-8f0d-44cf-9fa8-dd67f7c8c8df",
    "showInput": true
   },
   "outputs": [],
   "source": [
    "from ax.storage.sqa_store.sqa_config import SQAConfig\n",
    "\n",
    "exp.name = \"new\"\n",
    "\n",
    "sqa_config = SQAConfig(\n",
    "    json_encoder_registry=bundle.encoder_registry,\n",
    "    json_decoder_registry=bundle.decoder_registry,\n",
    "    metric_registry=bundle.metric_registry,\n",
    "    runner_registry=bundle.runner_registry,\n",
    ")\n",
    "\n",
    "save_experiment(exp, config=sqa_config)"
   ]
  },
  {
   "cell_type": "code",
   "execution_count": null,
   "metadata": {
    "code_folding": [],
    "customInput": null,
    "executionStartTime": 1646324904964,
    "executionStopTime": 1646324906901,
    "hidden_ranges": [],
    "originalKey": "ed1be69c-da92-4a1d-a5e8-e76bba42f0ba",
    "requestMsgId": "ed1be69c-da92-4a1d-a5e8-e76bba42f0ba",
    "showInput": true
   },
   "outputs": [],
   "source": [
    "load_experiment(exp.name, config=sqa_config)"
   ]
  },
  {
   "cell_type": "code",
   "execution_count": null,
   "metadata": {
    "customInput": null,
    "originalKey": "d144e372-c212-4454-b507-564c825c1fc5",
    "showInput": true
   },
   "outputs": [],
   "source": []
  }
 ],
 "metadata": {
  "kernelspec": {
   "display_name": "Python 3 (ipykernel)",
   "language": "python",
   "name": "python3"
  },
  "language_info": {
   "codemirror_mode": {
    "name": "ipython",
    "version": 3
   },
   "file_extension": ".py",
   "mimetype": "text/x-python",
   "name": "python",
   "nbconvert_exporter": "python",
   "pygments_lexer": "ipython3",
   "version": "3.11.5"
  }
 },
 "nbformat": 4,
 "nbformat_minor": 2
}
