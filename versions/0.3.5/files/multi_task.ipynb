{
 "cells": [
  {
   "cell_type": "markdown",
   "metadata": {
    "code_folding": [],
    "hidden_ranges": [],
    "originalKey": "bbfd01ea-97cb-4830-ab6d-60236151a3cd",
    "showInput": false
   },
   "source": [
    "# Multi-task Bayesian Optimization\n",
    "\n",
    "This tutorial uses synthetic functions to illustrate Bayesian optimization using a multi-task Gaussian Process in Ax. A typical use case is optimizing an expensive-to-evaluate (online) system with supporting (offline) simulations of that system.\n",
    "\n",
    "Bayesian optimization with a multi-task kernel (Multi-task Bayesian optimization) is described by Swersky et al.  (2013). Letham and Bakshy (2019) describe using multi-task Bayesian optimization to tune a ranking system with a mix of online and offline (simulator) experiments.\n",
    "\n",
    "This tutorial produces the results of Online Appendix 2 from [that paper](https://arxiv.org/pdf/1904.01049.pdf).\n",
    "\n",
    "The synthetic problem used here is to maximize the Hartmann 6 function, a classic optimization test problem in 6 dimensions. The objective is treated as unknown and are modeled with separate GPs. The objective is noisy.\n",
    "\n",
    "Throughout the optimization we can make nosiy observations directly of the objective (an online observation), and we can make noisy observations of a biased version of the objective (offline observations). Bias is simulated by passing the function values through a piecewise linear function. Offline observations are much less time-consuming than online observations, so we wish to use them to improve our ability to optimize the online objective."
   ]
  },
  {
   "cell_type": "code",
   "execution_count": null,
   "metadata": {
    "code_folding": [],
    "hidden_ranges": [],
    "originalKey": "3ce827be-d20b-48d3-a6ff-291bd442c748",
    "vscode": {
     "languageId": "python"
    }
   },
   "outputs": [],
   "source": [
    "import os\n",
    "import time\n",
    "\n",
    "from copy import deepcopy\n",
    "from typing import Optional\n",
    "\n",
    "import numpy as np\n",
    "\n",
    "import torch\n",
    "\n",
    "from ax.core.data import Data\n",
    "from ax.core.experiment import Experiment\n",
    "from ax.core.generator_run import GeneratorRun\n",
    "from ax.core.multi_type_experiment import MultiTypeExperiment\n",
    "from ax.core.objective import Objective\n",
    "from ax.core.observation import ObservationFeatures, observations_from_data\n",
    "from ax.core.optimization_config import OptimizationConfig\n",
    "from ax.core.parameter import ParameterType, RangeParameter\n",
    "from ax.core.search_space import SearchSpace\n",
    "from ax.metrics.hartmann6 import Hartmann6Metric\n",
    "from ax.modelbridge.factory import get_sobol\n",
    "from ax.modelbridge.registry import Models, MT_MTGP_trans, ST_MTGP_trans\n",
    "from ax.modelbridge.torch import TorchModelBridge\n",
    "from ax.modelbridge.transforms.convert_metric_names import tconfig_from_mt_experiment\n",
    "from ax.plot.diagnostic import interact_batch_comparison\n",
    "from ax.runners.synthetic import SyntheticRunner\n",
    "from ax.utils.common.typeutils import checked_cast\n",
    "from ax.utils.notebook.plotting import init_notebook_plotting, render\n",
    "\n",
    "init_notebook_plotting()"
   ]
  },
  {
   "cell_type": "code",
   "execution_count": null,
   "metadata": {
    "vscode": {
     "languageId": "python"
    }
   },
   "outputs": [],
   "source": [
    "SMOKE_TEST = os.environ.get(\"SMOKE_TEST\")"
   ]
  },
  {
   "cell_type": "markdown",
   "metadata": {
    "code_folding": [],
    "hidden_ranges": [],
    "originalKey": "76100312-e604-46ed-a123-9b0296ced6ff",
    "showInput": false
   },
   "source": [
    "## 1. Define Metric classes\n",
    "For this example, the online system is optimizing a Hartmann6 function. The Metric objects for these are directly imported above. We create analagous offline versions of this metrics which are identical but have a transform applied (a piecewise linear function). We construct Metric objects for each of them."
   ]
  },
  {
   "cell_type": "code",
   "execution_count": null,
   "metadata": {
    "code_folding": [],
    "hidden_ranges": [],
    "originalKey": "2315ca64-74e5-4084-829e-e8a482c653e5",
    "vscode": {
     "languageId": "python"
    }
   },
   "outputs": [],
   "source": [
    "# Create metric with artificial offline bias, for the objective\n",
    "# by passing the true values through a piecewise linear function.\n",
    "\n",
    "\n",
    "class OfflineHartmann6Metric(Hartmann6Metric):\n",
    "    def f(self, x: np.ndarray) -> float:\n",
    "        raw_res = super().f(x)\n",
    "        m = -0.35\n",
    "        if raw_res < m:\n",
    "            return (1.5 * (raw_res - m)) + m\n",
    "        else:\n",
    "            return (6.0 * (raw_res - m)) + m"
   ]
  },
  {
   "cell_type": "markdown",
   "metadata": {
    "originalKey": "b0e2089f-a7a3-4a8b-b8b3-ab6d75ca7f09",
    "showInput": false
   },
   "source": [
    "## 2. Create experiment\n",
    "\n",
    "A MultiTypeExperiment is used for managing online and offline trials together. It is constructed in several steps:\n",
    "\n",
    "1. <b> Create the search space</b> - This is done in the usual way.\n",
    "2. <b>Specify optimization config</b> - Also done in the usual way.\n",
    "3. <b>Initialize Experiment</b> - In addition to the search_space and optimization_config, specify that \"online\" is the default trial_type. This is the main trial type for which we're optimizing. Optimization metrics are defined to be for this type and new trials assume this trial type by default.\n",
    "4. <b>Establish offline trial_type</b> - Register the \"offline\" trial type and specify how to deploy trials of this type.\n",
    "5. <b>Add offline metrics</b> - Create the offline metrics and add them to the experiment. When adding the metrics, we need to specify the trial type (\"offline\") and online metric name it is associated with so the model can link them.\n",
    "\n",
    "Finally, because this is a synthetic benchmark problem where the true function values are known, we will also register metrics with the true (noiseless) function values for plotting below."
   ]
  },
  {
   "cell_type": "code",
   "execution_count": null,
   "metadata": {
    "code_folding": [],
    "hidden_ranges": [],
    "originalKey": "39504f84-793e-4dae-ae55-068f1b762706",
    "vscode": {
     "languageId": "python"
    }
   },
   "outputs": [],
   "source": [
    "def get_experiment(include_true_metric=True):\n",
    "    noise_sd = 0.1  # Observations will have this much Normal noise added to them\n",
    "\n",
    "    # 1. Create simple search space for [0,1]^d, d=6\n",
    "    param_names = [f\"x{i}\" for i in range(6)]\n",
    "    parameters = [\n",
    "        RangeParameter(\n",
    "            name=param_names[i],\n",
    "            parameter_type=ParameterType.FLOAT,\n",
    "            lower=0.0,\n",
    "            upper=1.0,\n",
    "        )\n",
    "        for i in range(6)\n",
    "    ]\n",
    "    search_space = SearchSpace(parameters=parameters)\n",
    "\n",
    "    # 2. Specify optimization config\n",
    "    online_objective = Hartmann6Metric(\n",
    "        \"objective\", param_names=param_names, noise_sd=noise_sd\n",
    "    )\n",
    "    opt_config = OptimizationConfig(\n",
    "        objective=Objective(online_objective, minimize=True)\n",
    "    )\n",
    "\n",
    "    # 3. Init experiment\n",
    "    exp = MultiTypeExperiment(\n",
    "        name=\"mt_exp\",\n",
    "        search_space=search_space,\n",
    "        default_trial_type=\"online\",\n",
    "        default_runner=SyntheticRunner(),\n",
    "        optimization_config=opt_config,\n",
    "    )\n",
    "\n",
    "    # 4. Establish offline trial_type, and how those trials are deployed\n",
    "    exp.add_trial_type(\"offline\", SyntheticRunner())\n",
    "\n",
    "    # 5. Add offline metrics that provide biased estimates of the online metrics\n",
    "    offline_objective = OfflineHartmann6Metric(\n",
    "        \"offline_objective\", param_names=param_names, noise_sd=noise_sd\n",
    "    )\n",
    "    # Associate each offline metric with corresponding online metric\n",
    "    exp.add_tracking_metric(\n",
    "        metric=offline_objective, trial_type=\"offline\", canonical_name=\"objective\"\n",
    "    )\n",
    "\n",
    "    return exp"
   ]
  },
  {
   "cell_type": "markdown",
   "metadata": {
    "code_folding": [],
    "hidden_ranges": [],
    "originalKey": "5a00218e-c27d-4d6f-bef0-3e562217533a",
    "showInput": false
   },
   "source": [
    "## 3. Vizualize the simulator bias\n",
    "\n",
    "These figures compare the online measurements to the offline measurements on a random set of points, for the objective metric. You can see the offline measurements are biased but highly correlated. This produces Fig. S3 from the paper."
   ]
  },
  {
   "cell_type": "code",
   "execution_count": null,
   "metadata": {
    "originalKey": "8260b668-91ef-404e-aa8c-4bf43f6a5660",
    "vscode": {
     "languageId": "python"
    }
   },
   "outputs": [],
   "source": [
    "# Generate 50 points from a Sobol sequence\n",
    "exp = get_experiment(include_true_metric=False)\n",
    "s = get_sobol(exp.search_space, scramble=False)\n",
    "gr = s.gen(50)\n",
    "# Deploy them both online and offline\n",
    "exp.new_batch_trial(trial_type=\"online\", generator_run=gr).run()\n",
    "exp.new_batch_trial(trial_type=\"offline\", generator_run=gr).run()\n",
    "# Fetch data\n",
    "data = exp.fetch_data()\n",
    "observations = observations_from_data(exp, data)\n",
    "# Plot the arms in batch 0 (online) vs. batch 1 (offline)\n",
    "render(interact_batch_comparison(observations, exp, 1, 0))"
   ]
  },
  {
   "cell_type": "markdown",
   "metadata": {
    "originalKey": "69cf9e8e-361e-4546-871f-6bb8641d1b97"
   },
   "source": [
    "## 4. The Bayesian optimization loop\n",
    "\n",
    "Here we construct a Bayesian optimization loop that interleaves online and offline batches. The loop defined here is described in Algorithm 1 of the paper. We compare multi-task Bayesian optimization to regular Bayesian optimization using only online observations.\n",
    "\n",
    "Here we measure performance over 3 repetitions of the loop. Each one takes 1-2 hours so the whole benchmark run will take several hours to complete."
   ]
  },
  {
   "cell_type": "code",
   "execution_count": null,
   "metadata": {
    "originalKey": "3d124563-8a1f-411e-9822-972568ce1970",
    "vscode": {
     "languageId": "python"
    }
   },
   "outputs": [],
   "source": [
    "# Settings for the optimization benchmark.\n",
    "\n",
    "# Number of repeated experiments, each with independent observation noise.\n",
    "# This should be changed to 50 to reproduce the results from the paper.\n",
    "if SMOKE_TEST:\n",
    "    n_batches = 1\n",
    "    n_init_online = 2\n",
    "    n_init_offline = 2\n",
    "    n_opt_online = 2\n",
    "    n_opt_offline = 2\n",
    "else:\n",
    "    n_batches = 3  # Number of optimized BO batches\n",
    "    n_init_online = 5  # Size of the quasirandom initialization run online\n",
    "    n_init_offline = 20  # Size of the quasirandom initialization run offline\n",
    "    n_opt_online = 5  # Batch size for BO selected points to be run online\n",
    "    n_opt_offline = 20  # Batch size for BO selected to be run offline"
   ]
  },
  {
   "cell_type": "markdown",
   "metadata": {
    "originalKey": "5447b3e7-b245-4fab-ad4a-165d7c63e09c"
   },
   "source": [
    "#### 4a. Optimization with online observations only\n",
    "For the online-only case, we run `n_init_online` sobol points followed by `n_batches` batches of `n_opt_online` points selected by the GP. This is a normal Bayesian optimization loop."
   ]
  },
  {
   "cell_type": "code",
   "execution_count": null,
   "metadata": {
    "code_folding": [],
    "hidden_ranges": [],
    "originalKey": "040354c2-4313-46db-b40d-8adc8da6fafb",
    "vscode": {
     "languageId": "python"
    }
   },
   "outputs": [],
   "source": [
    "# This function runs a Bayesian optimization loop, making online observations only.\n",
    "def run_online_only_bo():\n",
    "    t1 = time.time()\n",
    "    ### Do BO with online only\n",
    "    ## Quasi-random initialization\n",
    "    exp_online = get_experiment()\n",
    "    m = get_sobol(exp_online.search_space, scramble=False)\n",
    "    gr = m.gen(n=n_init_online)\n",
    "    exp_online.new_batch_trial(trial_type=\"online\", generator_run=gr).run()\n",
    "    ## Do BO\n",
    "    for b in range(n_batches):\n",
    "        print(\"Online-only batch\", b, time.time() - t1)\n",
    "        # Fit the GP\n",
    "        m = Models.BOTORCH_MODULAR(\n",
    "            experiment=exp_online,\n",
    "            data=exp_online.fetch_data(),\n",
    "            search_space=exp_online.search_space,\n",
    "        )\n",
    "        # Generate the new batch\n",
    "        gr = m.gen(\n",
    "            n=n_opt_online,\n",
    "            search_space=exp_online.search_space,\n",
    "            optimization_config=exp_online.optimization_config,\n",
    "        )\n",
    "        exp_online.new_batch_trial(trial_type=\"online\", generator_run=gr).run()"
   ]
  },
  {
   "cell_type": "markdown",
   "metadata": {
    "originalKey": "c1837efe-9f41-4eb8-a415-309392724141"
   },
   "source": [
    "#### 4b. Multi-task Bayesian optimization\n",
    "Here we incorporate offline observations to accelerate the optimization, while using the same total number of online observations as in the loop above. The strategy here is that outlined in Algorithm 1 of the paper.\n",
    "\n",
    "1. <b> Initialization</b> - Run `n_init_online` Sobol points online, and `n_init_offline` Sobol points offline.\n",
    "2. <b> Fit model </b> - Fit an MTGP to both online and offline observations.\n",
    "3. <b> Generate candidates </b> - Generate `n_opt_offline` candidates using NEI.\n",
    "4. <b> Launch offline batch </b> - Run the `n_opt_offline` candidates offline and observe their offline metrics.\n",
    "5. <b> Update model </b> - Update the MTGP with the new offline observations.\n",
    "6. <b> Select points for online batch </b> - Select the best (maximum utility) `n_opt_online` of the NEI candidates, after incorporating their offline observations, and run them online.\n",
    "7. <b> Update model and repeat </b> - Update the model with the online observations, and repeat from step 3 for the next batch."
   ]
  },
  {
   "cell_type": "code",
   "execution_count": null,
   "metadata": {
    "vscode": {
     "languageId": "python"
    }
   },
   "outputs": [],
   "source": [
    "def get_MTGP(\n",
    "    experiment: Experiment,\n",
    "    data: Data,\n",
    "    search_space: Optional[SearchSpace] = None,\n",
    "    trial_index: Optional[int] = None,\n",
    "    device: torch.device = torch.device(\"cpu\"),\n",
    "    dtype: torch.dtype = torch.double,\n",
    ") -> TorchModelBridge:\n",
    "    \"\"\"Instantiates a Multi-task Gaussian Process (MTGP) model that generates\n",
    "    points with EI.\n",
    "\n",
    "    If the input experiment is a MultiTypeExperiment then a\n",
    "    Multi-type Multi-task GP model will be instantiated.\n",
    "    Otherwise, the model will be a Single-type Multi-task GP.\n",
    "    \"\"\"\n",
    "\n",
    "    if isinstance(experiment, MultiTypeExperiment):\n",
    "        trial_index_to_type = {\n",
    "            t.index: t.trial_type for t in experiment.trials.values()\n",
    "        }\n",
    "        transforms = MT_MTGP_trans\n",
    "        transform_configs = {\n",
    "            \"TrialAsTask\": {\"trial_level_map\": {\"trial_type\": trial_index_to_type}},\n",
    "            \"ConvertMetricNames\": tconfig_from_mt_experiment(experiment),\n",
    "        }\n",
    "    else:\n",
    "        # Set transforms for a Single-type MTGP model.\n",
    "        transforms = ST_MTGP_trans\n",
    "        transform_configs = None\n",
    "\n",
    "    # Choose the status quo features for the experiment from the selected trial.\n",
    "    # If trial_index is None, we will look for a status quo from the last\n",
    "    # experiment trial to use as a status quo for the experiment.\n",
    "    if trial_index is None:\n",
    "        trial_index = len(experiment.trials) - 1\n",
    "    elif trial_index >= len(experiment.trials):\n",
    "        raise ValueError(\"trial_index is bigger than the number of experiment trials\")\n",
    "\n",
    "    status_quo = experiment.trials[trial_index].status_quo\n",
    "    if status_quo is None:\n",
    "        status_quo_features = None\n",
    "    else:\n",
    "        status_quo_features = ObservationFeatures(\n",
    "            parameters=status_quo.parameters,\n",
    "            trial_index=trial_index,  # pyre-ignore[6]\n",
    "        )\n",
    "\n",
    "    \n",
    "    return checked_cast(\n",
    "        TorchModelBridge,\n",
    "        Models.ST_MTGP(\n",
    "            experiment=experiment,\n",
    "            search_space=search_space or experiment.search_space,\n",
    "            data=data,\n",
    "            transforms=transforms,\n",
    "            transform_configs=transform_configs,\n",
    "            torch_dtype=dtype,\n",
    "            torch_device=device,\n",
    "            status_quo_features=status_quo_features,\n",
    "        ),\n",
    "    )"
   ]
  },
  {
   "cell_type": "code",
   "execution_count": null,
   "metadata": {
    "code_folding": [],
    "hidden_ranges": [],
    "originalKey": "37735b0e-e488-4927-a3da-a7d32d9f1ae0",
    "vscode": {
     "languageId": "python"
    }
   },
   "outputs": [],
   "source": [
    "# Online batches are constructed by selecting the maximum utility points from the offline\n",
    "# batch, after updating the model with the offline results. This function selects the max utility points according\n",
    "# to the MTGP predictions.\n",
    "def max_utility_from_GP(n, m, experiment, search_space, gr):\n",
    "    obsf = []\n",
    "    for arm in gr.arms:\n",
    "        params = deepcopy(arm.parameters)\n",
    "        params[\"trial_type\"] = \"online\"\n",
    "        obsf.append(ObservationFeatures(parameters=params))\n",
    "    # Make predictions\n",
    "    f, cov = m.predict(obsf)\n",
    "    # Compute expected utility\n",
    "    u = -np.array(f[\"objective\"])\n",
    "    best_arm_indx = np.flip(np.argsort(u))[:n]\n",
    "    gr_new = GeneratorRun(\n",
    "        arms=[gr.arms[i] for i in best_arm_indx],\n",
    "        weights=[1.0] * n,\n",
    "    )\n",
    "    return gr_new\n",
    "\n",
    "\n",
    "# This function runs a multi-task Bayesian optimization loop, as outlined in Algorithm 1 and above.\n",
    "def run_mtbo():\n",
    "    t1 = time.time()\n",
    "    online_trials = []\n",
    "    ## 1. Quasi-random initialization, online and offline\n",
    "    exp_multitask = get_experiment()\n",
    "    # Online points\n",
    "    m = get_sobol(exp_multitask.search_space, scramble=False)\n",
    "    gr = m.gen(\n",
    "        n=n_init_online,\n",
    "    )\n",
    "    tr = exp_multitask.new_batch_trial(trial_type=\"online\", generator_run=gr)\n",
    "    tr.run()\n",
    "    online_trials.append(tr.index)\n",
    "    # Offline points\n",
    "    m = get_sobol(exp_multitask.search_space, scramble=False)\n",
    "    gr = m.gen(\n",
    "        n=n_init_offline,\n",
    "    )\n",
    "    exp_multitask.new_batch_trial(trial_type=\"offline\", generator_run=gr).run()\n",
    "    ## Do BO\n",
    "    for b in range(n_batches):\n",
    "        print(\"Multi-task batch\", b, time.time() - t1)\n",
    "        # (2 / 7). Fit the MTGP\n",
    "        m = get_MTGP(\n",
    "            experiment=exp_multitask,\n",
    "            data=exp_multitask.fetch_data(),\n",
    "            search_space=exp_multitask.search_space,\n",
    "        )\n",
    "\n",
    "        # 3. Finding the best points for the online task\n",
    "        gr = m.gen(\n",
    "            n=n_opt_offline,\n",
    "            optimization_config=exp_multitask.optimization_config,\n",
    "            fixed_features=ObservationFeatures(\n",
    "                parameters={}, trial_index=online_trials[-1]\n",
    "            ),\n",
    "        )\n",
    "\n",
    "        # 4. But launch them offline\n",
    "        exp_multitask.new_batch_trial(trial_type=\"offline\", generator_run=gr).run()\n",
    "\n",
    "        # 5. Update the model\n",
    "        m = get_MTGP(\n",
    "            experiment=exp_multitask,\n",
    "            data=exp_multitask.fetch_data(),\n",
    "            search_space=exp_multitask.search_space,\n",
    "        )\n",
    "\n",
    "        # 6. Select max-utility points from the offline batch to generate an online batch\n",
    "        gr = max_utility_from_GP(\n",
    "            n=n_opt_online,\n",
    "            m=m,\n",
    "            experiment=exp_multitask,\n",
    "            search_space=exp_multitask.search_space,\n",
    "            gr=gr,\n",
    "        )\n",
    "        tr = exp_multitask.new_batch_trial(trial_type=\"online\", generator_run=gr)\n",
    "        tr.run()\n",
    "        online_trials.append(tr.index)"
   ]
  },
  {
   "cell_type": "markdown",
   "metadata": {
    "originalKey": "6708d9ee-34be-4d85-91cc-ed2af5dd8026"
   },
   "source": [
    "#### 4c. Run both loops\n",
    "Run both Bayesian optimization loops and aggregate results."
   ]
  },
  {
   "cell_type": "code",
   "execution_count": null,
   "metadata": {
    "code_folding": [],
    "hidden_ranges": [],
    "originalKey": "f94a7537-61a6-4200-8e56-01de41aff6c9",
    "vscode": {
     "languageId": "python"
    }
   },
   "outputs": [],
   "source": [
    "runners = {\n",
    "    \"GP, online only\": run_online_only_bo,\n",
    "    \"MTGP\": run_mtbo,\n",
    "}\n",
    "for k, r in runners.items():\n",
    "    r()"
   ]
  },
  {
   "cell_type": "markdown",
   "metadata": {
    "originalKey": "1de5ae27-c925-4599-9425-332765a03416"
   },
   "source": [
    "#### References\n",
    "Benjamin Letham and Eytan Bakshy. Bayesian optimization for policy search via online-offline experimentation. _arXiv preprint arXiv:1603.09326_, 2019.\n",
    "\n",
    "Kevin Swersky, Jasper Snoek, and Ryan P Adams.  Multi-task Bayesian optimization.  In _Advances in Neural Information Processing Systems_ 26, NIPS, pages 2004–2012, 2013."
   ]
  }
 ],
 "metadata": {
  "kernelspec": {
   "display_name": "Python 3 (ipykernel)",
   "language": "python",
   "name": "python3"
  },
  "language_info": {
   "codemirror_mode": {
    "name": "ipython",
    "version": 3
   },
   "file_extension": ".py",
   "mimetype": "text/x-python",
   "name": "python",
   "nbconvert_exporter": "python",
   "pygments_lexer": "ipython3",
   "version": "3.11.5"
  }
 },
 "nbformat": 4,
 "nbformat_minor": 4
}
