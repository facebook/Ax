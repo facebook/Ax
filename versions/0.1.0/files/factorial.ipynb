{
  "cells": [
    {
      "cell_type": "markdown",
      "metadata": {
        "collapsed": true
      },
      "source": [
        "# Factorial design with empirical Bayes and Thompson Sampling"
      ]
    },
    {
      "cell_type": "markdown",
      "metadata": {},
      "source": [
        "<markdowncell>\n",
        "This tutorial illustrates how to run a factorial experiment. In such an experiment, each parameter (factor) can be assigned one of multiple discrete values (levels). A full-factorial experiment design explores all possible combinations of factors and levels.\n",
        "\n",
        "For instance, consider a banner with a title and an image. We are considering two different titles and three different images. A full-factorial experiment will compare all 2*3=6 possible combinations of title and image, to see which version of the banner performs the best.\n",
        "\n",
        "In this example, we first run an exploratory batch to collect data on all possible combinations. Then we use empirical Bayes to model the data and shrink noisy estimates toward the mean. Next, we use Thompson Sampling to suggest a set of arms (combinations of factors and levels) on which to collect more data. We repeat the process until we have identified the best performing combination(s)."
      ]
    },
    {
      "cell_type": "code",
      "execution_count": 102,
      "metadata": {
        "ExecuteTime": {
          "end_time": "2019-04-01T16:59:07.844357Z",
          "start_time": "2019-04-01T09:59:06.377921-07:00"
        },
        "collapsed": true
      },
      "outputs": [],
      "source": [
        "import numpy as np\n",
        "import pandas as pd\n",
        "import sklearn as skl\n",
        "from typing import Dict, Optional, Tuple, Union\n",
        "from ax import (\n",
        "    ChoiceParameter,\n",
        "    Arm,\n",
        "    ParameterType,\n",
        "    SearchSpace,\n",
        "    SimpleExperiment,\n",
        "    modelbridge,\n",
        ")\n",
        "from ax.plot.scatter import plot_fitted\n",
        "from ax.utils.notebook.plotting import render, init_notebook_plotting\n",
        "from ax.utils.stats.statstools import agresti_coull_sem"
      ]
    },
    {
      "cell_type": "code",
      "execution_count": 103,
      "metadata": {
        "ExecuteTime": {
          "end_time": "2019-04-01T16:59:07.852360Z",
          "start_time": "2019-04-01T09:59:07.846655-07:00"
        }
      },
      "outputs": [
        {
          "data": {
            "text/html": [
              "<script type='text/javascript'>requirejs.config({\n",
              "  paths: {\n",
              "    plotly: ['https://cdn.plot.ly/plotly-latest.min'],\n",
              "  },\n",
              "});\n",
              "if (!window.Plotly) {\n",
              "  require(['plotly'], function(plotly) {\n",
              "    window.Plotly = plotly;\n",
              "  });\n",
              "}\n",
              "// helper functions used across multiple plots\n",
              "function rgb(rgb_array) {\n",
              "  return 'rgb(' + rgb_array.join() + ')';\n",
              "}\n",
              "\n",
              "function copy_and_reverse(arr) {\n",
              "  const copy = arr.slice();\n",
              "  copy.reverse();\n",
              "  return copy;\n",
              "}\n",
              "\n",
              "function axis_range(grid, is_log) {\n",
              "  return is_log ?\n",
              "    [Math.log10(Math.min(...grid)), Math.log10(Math.max(...grid))]:\n",
              "    [Math.min(...grid), Math.max(...grid)];\n",
              "}\n",
              "\n",
              "function relativize_data(f, sd, rel, arm_data, metric) {\n",
              "  // if relative, extract status quo & compute ratio\n",
              "  const f_final = rel === true ? [] : f;\n",
              "  const sd_final = rel === true ? []: sd;\n",
              "\n",
              "  if (rel === true) {\n",
              "    const f_sq = (\n",
              "      arm_data['in_sample'][arm_data['status_quo_name']]['y'][metric]\n",
              "    );\n",
              "    const sd_sq = (\n",
              "      arm_data['in_sample'][arm_data['status_quo_name']]['se'][metric]\n",
              "    );\n",
              "\n",
              "    for (let i = 0; i < f.length; i++) {\n",
              "      res = relativize(f[i], sd[i], f_sq, sd_sq);\n",
              "      f_final.push(100 * res[0]);\n",
              "      sd_final.push(100 * res[1]);\n",
              "    }\n",
              "  }\n",
              "\n",
              "  return [f_final, sd_final];\n",
              "}\n",
              "\n",
              "function relativize(m_t, sem_t, m_c, sem_c) {\n",
              "  r_hat = (\n",
              "    (m_t - m_c) / Math.abs(m_c) -\n",
              "    Math.pow(sem_c, 2) * m_t / Math.pow(Math.abs(m_c), 3)\n",
              "  );\n",
              "  variance = (\n",
              "    (Math.pow(sem_t, 2) + Math.pow((m_t / m_c * sem_c), 2)) /\n",
              "    Math.pow(m_c, 2)\n",
              "   )\n",
              "   return [r_hat, Math.sqrt(variance)];\n",
              "}\n",
              "</script>"
            ]
          },
          "metadata": {},
          "output_type": "display_data"
        },
        {
          "name": "stderr",
          "output_type": "stream",
          "text": [
            "[INFO 04-24 08:33:16] ipy_plotting: Injecting Plotly library into cell. Do not overwrite or delete cell.\n"
          ]
        }
      ],
      "source": [
        "init_notebook_plotting()"
      ]
    },
    {
      "cell_type": "markdown",
      "metadata": {},
      "source": [
        "## 1. Define the search space"
      ]
    },
    {
      "cell_type": "markdown",
      "metadata": {},
      "source": [
        "<markdowncell>\n",
        "First, we define our search space. A factorial search space contains a ChoiceParameter for each factor, where the values of the parameter are its levels."
      ]
    },
    {
      "cell_type": "code",
      "execution_count": 104,
      "metadata": {
        "ExecuteTime": {
          "end_time": "2019-04-01T16:59:07.861686Z",
          "start_time": "2019-04-01T09:59:07.854353-07:00"
        },
        "collapsed": true
      },
      "outputs": [],
      "source": [
        "search_space = SearchSpace(\n",
        "    parameters=[\n",
        "        ChoiceParameter(\n",
        "            name=\"factor1\",\n",
        "            parameter_type=ParameterType.STRING,\n",
        "            values=[\"level11\", \"level12\", \"level13\"],\n",
        "        ),\n",
        "        ChoiceParameter(\n",
        "            name=\"factor2\",\n",
        "            parameter_type=ParameterType.STRING,\n",
        "            values=[\"level21\", \"level22\"],\n",
        "        ),\n",
        "        ChoiceParameter(\n",
        "            name=\"factor3\",\n",
        "            parameter_type=ParameterType.STRING,\n",
        "            values=[\"level31\", \"level32\", \"level33\", \"level34\"],\n",
        "        ),\n",
        "    ]\n",
        ")"
      ]
    },
    {
      "cell_type": "markdown",
      "metadata": {},
      "source": [
        "## 2. Define the evaluation function"
      ]
    },
    {
      "cell_type": "markdown",
      "metadata": {},
      "source": [
        "<markdowncell>\n",
        "Second, we define an evaluation function, which is responsible for computing\n",
        "the mean and standard error of a given arm.\n",
        "\n",
        "In this example, each possible parameter value is given a coefficient. The higher the level, the higher the coefficient, and the higher the coefficients, the greater the mean.\n",
        "\n",
        "The standard error of each arm is determined by the weight passed into the evaluation function, which represents the size of the population on which this arm was evaluated. The higher the weight, the greater the sample size, and thus the lower the standard error."
      ]
    },
    {
      "cell_type": "code",
      "execution_count": 105,
      "metadata": {
        "ExecuteTime": {
          "end_time": "2019-04-01T16:59:07.871141Z",
          "start_time": "2019-04-01T09:59:07.863475-07:00"
        },
        "collapsed": true
      },
      "outputs": [],
      "source": [
        "one_hot_encoder = skl.preprocessing.OneHotEncoder(\n",
        "    categories=[par.values for par in search_space.parameters.values()], \n",
        ")\n",
        "\n",
        "def factorial_evaluation_function(\n",
        "    # `parameterization` is a dict of parameter names to values of those parameters.\n",
        "    parameterization: Dict[str, Optional[Union[str, bool, float]]],\n",
        "    # `weight` is the weight of the parameterization, which is used to determine the variance of the estimate\n",
        "    weight: Optional[float] = None,\n",
        ") -> Dict[str, Tuple[float, float]]:  # dict of metric names to tuple of mean and standard error.\n",
        "    batch_size = 10000\n",
        "    noise_level = 0.0\n",
        "    weight = weight if weight is not None else 1.0\n",
        "    coefficients = np.array([\n",
        "        0.1, 0.2, 0.3,\n",
        "        0.1, 0.2,\n",
        "        0.1, 0.2, 0.3, 0.4\n",
        "    ])\n",
        "    features = np.array(list(parameterization.values())).reshape(1, -1)\n",
        "    encoded_features = one_hot_encoder.fit_transform(features)\n",
        "    z = coefficients @ encoded_features.T + np.sqrt(noise_level) * np.random.randn()\n",
        "    p = np.exp(z) / (1 + np.exp(z))\n",
        "    plays = np.random.binomial(batch_size, weight)\n",
        "    successes = np.random.binomial(plays, p)\n",
        "    mean = float(successes) / plays\n",
        "    sem = agresti_coull_sem(successes, plays)\n",
        "    return {\n",
        "        \"success_metric\": (mean, sem)\n",
        "    }"
      ]
    },
    {
      "cell_type": "markdown",
      "metadata": {},
      "source": [
        "## 3. Define the experiment"
      ]
    },
    {
      "cell_type": "markdown",
      "metadata": {},
      "source": [
        "<markdowncell>\n",
        "We now set up our experiment and define the status quo arm, in which each parameter is assigned to the lowest level."
      ]
    },
    {
      "cell_type": "code",
      "execution_count": 106,
      "metadata": {
        "ExecuteTime": {
          "end_time": "2019-04-01T16:59:07.876425Z",
          "start_time": "2019-04-01T09:59:07.872766-07:00"
        },
        "collapsed": true
      },
      "outputs": [],
      "source": [
        "exp = SimpleExperiment(\n",
        "    name=\"my_factorial_closed_loop_experiment\",\n",
        "    search_space=search_space,\n",
        "    evaluation_function=factorial_evaluation_function,\n",
        "    objective_name=\"success_metric\",\n",
        ")\n",
        "exp.status_quo = Arm(\n",
        "    parameters={\"factor1\": \"level11\", \"factor2\": \"level21\", \"factor3\": \"level31\"}\n",
        ")"
      ]
    },
    {
      "cell_type": "markdown",
      "metadata": {},
      "source": [
        "## 4. Run an exploratory batch"
      ]
    },
    {
      "cell_type": "markdown",
      "metadata": {},
      "source": [
        "<markdowncell>\n",
        "We then generate an a set of arms that covers the full space of the factorial design, including the status quo. There are three parameters, with two, three, and four values, respectively, so there are 24 possible arms."
      ]
    },
    {
      "cell_type": "code",
      "execution_count": 107,
      "metadata": {},
      "outputs": [
        {
          "name": "stdout",
          "output_type": "stream",
          "text": [
            "24\n"
          ]
        }
      ],
      "source": [
        "factorial = modelbridge.get_factorial(search_space=exp.search_space)\n",
        "factorial_run = factorial.gen(n=-1)\n",
        "print(len(factorial_run.arms))"
      ]
    },
    {
      "cell_type": "markdown",
      "metadata": {},
      "source": [
        "Now we create a trial including all of these arms, so that we can collect data and evaluate the performance of each."
      ]
    },
    {
      "cell_type": "code",
      "execution_count": 108,
      "metadata": {
        "collapsed": true
      },
      "outputs": [],
      "source": [
        "trial = (\n",
        "    exp.new_batch_trial()\n",
        "    .add_generator_run(factorial_run, multiplier=1)\n",
        ")"
      ]
    },
    {
      "cell_type": "markdown",
      "metadata": {},
      "source": [
        "By default, the weight of each arm in `factorial_run` will be 1. However, to optimize for power on the contrasts of `k` groups against the status quo, the status quo should be `sqrt(k)` larger than any of the treatment groups. Since we have 24 different arms in our search space, the status quo should be roughly five times larger.\n",
        "\n",
        "Because the status quo is already present in `factorial_run` with a weight of 1, we need to add an additional weight of 4."
      ]
    },
    {
      "cell_type": "code",
      "execution_count": 109,
      "metadata": {
        "ExecuteTime": {
          "end_time": "2019-04-01T16:59:07.906856Z",
          "start_time": "2019-04-01T09:59:07.878299-07:00"
        }
      },
      "outputs": [
        {
          "name": "stdout",
          "output_type": "stream",
          "text": [
            "5.0\n"
          ]
        }
      ],
      "source": [
        "trial.reweight_status_quo(4)\n",
        "print(trial.arm_weights[trial.status_quo])"
      ]
    },
    {
      "cell_type": "markdown",
      "metadata": {},
      "source": [
        "## 5. Iterate using Thompson Sampling"
      ]
    },
    {
      "cell_type": "markdown",
      "metadata": {},
      "source": [
        "<markdowncell>\n",
        "Next, we run multiple trials (iterations of the experiment) to hone in on the optimal arm(s). \n",
        "\n",
        "In each iteration, we first collect data about all arms in that trial by calling `exp.eval_trial()`. Then we run Thompson Sampling, which assigns a weight to each arm that is proportional to the probability of that arm being the best. Arms whose weight exceed `min_weight` are added to the next trial, so that we can gather more data on their performance."
      ]
    },
    {
      "cell_type": "code",
      "execution_count": 110,
      "metadata": {
        "ExecuteTime": {
          "end_time": "2019-04-01T16:59:08.480646Z",
          "start_time": "2019-04-01T09:59:07.908822-07:00"
        }
      },
      "outputs": [
        {
          "name": "stdout",
          "output_type": "stream",
          "text": [
            "Running iteration 0...\n",
            "Running iteration 1...\n",
            "Running iteration 2...\n",
            "Running iteration 3...\n"
          ]
        }
      ],
      "source": [
        "models = []\n",
        "for i in range(4):\n",
        "    print(\"Running iteration {}...\".format(i))\n",
        "    data = exp.eval_trial(trial)\n",
        "    thompson = modelbridge.get_thompson(\n",
        "        experiment=exp, data=data, min_weight=0.01\n",
        "    )\n",
        "    models.append(thompson)\n",
        "    thompson_run = thompson.gen(n=-1)\n",
        "    trial = exp.new_batch_trial().add_generator_run(thompson_run)"
      ]
    },
    {
      "cell_type": "markdown",
      "metadata": {},
      "source": [
        "## Plot 1: Predicted outcomes for each arm in initial trial"
      ]
    },
    {
      "cell_type": "markdown",
      "metadata": {},
      "source": [
        "<markdowncell>\n",
        "The plot below shows the mean and standard error for each arm in the first trial. We can see that the standard error for the status quo is the smallest, since this arm was assigned 5x weight."
      ]
    },
    {
      "cell_type": "code",
      "execution_count": 111,
      "metadata": {
        "ExecuteTime": {
          "end_time": "2019-04-01T16:59:08.534814Z",
          "start_time": "2019-04-01T09:59:08.482576-07:00"
        },
        "scrolled": false
      },
      "outputs": [
        {
          "data": {
            "text/html": [
              "<div id=\"22813e2de4164b0797d32baa56b091d2\" style=\"width: 100%;\" class=\"plotly-graph-div\"></div><script type='text/javascript'>require(['plotly'], function(Plotly) {\n",
              "  window.PLOTLYENV = window.PLOTLYENV || {};\n",
              "  window.PLOTLYENV.BASE_URL = 'https://plot.ly';\n",
              "  Plotly.newPlot(\n",
              "  \"22813e2de4164b0797d32baa56b091d2\",\n",
              "  [{\"type\": \"scatter\", \"x\": [\"0_0\", \"0_1\", \"0_10\", \"0_11\", \"0_12\", \"0_13\", \"0_14\", \"0_15\", \"0_16\", \"0_17\", \"0_18\", \"0_19\", \"0_2\", \"0_20\", \"0_21\", \"0_22\", \"0_3\", \"0_4\", \"0_5\", \"0_6\", \"0_7\", \"0_8\", \"0_9\", \"status_quo\"], \"y\": [0.649616368286445, 0.6142433234421365, 0.6346666666666667, 0.6428571428571429, 0.6441176470588236, 0.6627565982404692, 0.6631299734748011, 0.6005025125628141, 0.6374622356495468, 0.6462395543175488, 0.6826196473551638, 0.6457142857142857, 0.6317280453257791, 0.6465256797583081, 0.699468085106383, 0.6882716049382716, 0.583554376657825, 0.6090651558073654, 0.6501457725947521, 0.6908602150537635, 0.6211180124223602, 0.6075, 0.6137566137566137, 0.562396006655574], \"marker\": {\"color\": \"rgba(128,177,211,1)\"}, \"mode\": \"markers\", \"name\": \"In-sample\", \"text\": [\"<b>Arm 0_0</b><br><br>success_metric: 0.65 [0.602, 0.697]<br><br><em>Parameterization:</em><br>factor1: level11<br>factor2: level21<br>factor3: level32\", \"<b>Arm 0_1</b><br><br>success_metric: 0.614 [0.562, 0.666]<br><br><em>Parameterization:</em><br>factor1: level11<br>factor2: level21<br>factor3: level33\", \"<b>Arm 0_10</b><br><br>success_metric: 0.635 [0.586, 0.683]<br><br><em>Parameterization:</em><br>factor1: level12<br>factor2: level21<br>factor3: level34\", \"<b>Arm 0_11</b><br><br>success_metric: 0.643 [0.595, 0.691]<br><br><em>Parameterization:</em><br>factor1: level12<br>factor2: level22<br>factor3: level31\", \"<b>Arm 0_12</b><br><br>success_metric: 0.644 [0.593, 0.695]<br><br><em>Parameterization:</em><br>factor1: level12<br>factor2: level22<br>factor3: level32\", \"<b>Arm 0_13</b><br><br>success_metric: 0.663 [0.613, 0.713]<br><br><em>Parameterization:</em><br>factor1: level12<br>factor2: level22<br>factor3: level33\", \"<b>Arm 0_14</b><br><br>success_metric: 0.663 [0.615, 0.711]<br><br><em>Parameterization:</em><br>factor1: level12<br>factor2: level22<br>factor3: level34\", \"<b>Arm 0_15</b><br><br>success_metric: 0.601 [0.552, 0.649]<br><br><em>Parameterization:</em><br>factor1: level13<br>factor2: level21<br>factor3: level31\", \"<b>Arm 0_16</b><br><br>success_metric: 0.637 [0.586, 0.689]<br><br><em>Parameterization:</em><br>factor1: level13<br>factor2: level21<br>factor3: level32\", \"<b>Arm 0_17</b><br><br>success_metric: 0.646 [0.597, 0.696]<br><br><em>Parameterization:</em><br>factor1: level13<br>factor2: level21<br>factor3: level33\", \"<b>Arm 0_18</b><br><br>success_metric: 0.683 [0.637, 0.728]<br><br><em>Parameterization:</em><br>factor1: level13<br>factor2: level21<br>factor3: level34\", \"<b>Arm 0_19</b><br><br>success_metric: 0.646 [0.596, 0.696]<br><br><em>Parameterization:</em><br>factor1: level13<br>factor2: level22<br>factor3: level31\", \"<b>Arm 0_2</b><br><br>success_metric: 0.632 [0.581, 0.682]<br><br><em>Parameterization:</em><br>factor1: level11<br>factor2: level21<br>factor3: level34\", \"<b>Arm 0_20</b><br><br>success_metric: 0.647 [0.595, 0.698]<br><br><em>Parameterization:</em><br>factor1: level13<br>factor2: level22<br>factor3: level32\", \"<b>Arm 0_21</b><br><br>success_metric: 0.699 [0.653, 0.746]<br><br><em>Parameterization:</em><br>factor1: level13<br>factor2: level22<br>factor3: level33\", \"<b>Arm 0_22</b><br><br>success_metric: 0.688 [0.638, 0.739]<br><br><em>Parameterization:</em><br>factor1: level13<br>factor2: level22<br>factor3: level34\", \"<b>Arm 0_3</b><br><br>success_metric: 0.584 [0.534, 0.633]<br><br><em>Parameterization:</em><br>factor1: level11<br>factor2: level22<br>factor3: level31\", \"<b>Arm 0_4</b><br><br>success_metric: 0.609 [0.558, 0.660]<br><br><em>Parameterization:</em><br>factor1: level11<br>factor2: level22<br>factor3: level32\", \"<b>Arm 0_5</b><br><br>success_metric: 0.65 [0.600, 0.701]<br><br><em>Parameterization:</em><br>factor1: level11<br>factor2: level22<br>factor3: level33\", \"<b>Arm 0_6</b><br><br>success_metric: 0.691 [0.644, 0.738]<br><br><em>Parameterization:</em><br>factor1: level11<br>factor2: level22<br>factor3: level34\", \"<b>Arm 0_7</b><br><br>success_metric: 0.621 [0.568, 0.674]<br><br><em>Parameterization:</em><br>factor1: level12<br>factor2: level21<br>factor3: level31\", \"<b>Arm 0_8</b><br><br>success_metric: 0.608 [0.560, 0.655]<br><br><em>Parameterization:</em><br>factor1: level12<br>factor2: level21<br>factor3: level32\", \"<b>Arm 0_9</b><br><br>success_metric: 0.614 [0.565, 0.663]<br><br><em>Parameterization:</em><br>factor1: level12<br>factor2: level21<br>factor3: level33\", \"<b>Arm status_quo</b><br><br>success_metric: 0.562 [0.539, 0.585]<br><br><em>Parameterization:</em><br>factor1: level11<br>factor2: level21<br>factor3: level31\"], \"hoverinfo\": \"text\", \"error_y\": {\"type\": \"data\", \"array\": [0.047336700140663795, 0.05200520954080703, 0.04877690596348523, 0.04834929371296725, 0.050945621281369466, 0.050248157441072146, 0.04777003353018242, 0.04814042738140143, 0.051840237732993885, 0.049511377100288835, 0.045856695295996515, 0.05016161184112091, 0.050359188968678095, 0.051558185379683215, 0.04643553027939531, 0.05053817954161775, 0.049777773812547166, 0.050932428866662736, 0.050530164367270744, 0.04704782699489906, 0.053027000625284516, 0.047876932254415715, 0.04911177095414486, 0.02289998253700532], \"color\": \"rgba(128,177,211,0.4)\"}, \"visible\": true, \"legendgroup\": \"In-sample\", \"showlegend\": true}],\n",
              "  {\"title\": \"Predicted Outcomes\", \"hovermode\": \"closest\", \"updatemenus\": [{\"x\": 1.25, \"y\": 0.67, \"buttons\": [{\"args\": [{\"xaxis.categoryorder\": \"array\", \"xaxis.categoryarray\": [\"status_quo\", \"0_0\", \"0_1\", \"0_2\", \"0_3\", \"0_4\", \"0_5\", \"0_6\", \"0_7\", \"0_8\", \"0_9\", \"0_10\", \"0_11\", \"0_12\", \"0_13\", \"0_14\", \"0_15\", \"0_16\", \"0_17\", \"0_18\", \"0_19\", \"0_20\", \"0_21\", \"0_22\"]}], \"label\": \"Name\", \"method\": \"relayout\"}, {\"args\": [{\"xaxis.categoryorder\": \"array\", \"xaxis.categoryarray\": [\"status_quo\", \"0_3\", \"0_15\", \"0_8\", \"0_4\", \"0_9\", \"0_1\", \"0_7\", \"0_2\", \"0_10\", \"0_16\", \"0_11\", \"0_12\", \"0_19\", \"0_17\", \"0_20\", \"0_0\", \"0_5\", \"0_13\", \"0_14\", \"0_18\", \"0_22\", \"0_6\", \"0_21\"]}], \"label\": \"Effect Size\", \"method\": \"relayout\"}], \"yanchor\": \"middle\", \"xanchor\": \"left\"}], \"yaxis\": {\"zerolinecolor\": \"red\", \"title\": \"success_metric\"}, \"xaxis\": {\"tickangle\": 45, \"categoryorder\": \"array\", \"categoryarray\": [\"status_quo\", \"0_0\", \"0_1\", \"0_2\", \"0_3\", \"0_4\", \"0_5\", \"0_6\", \"0_7\", \"0_8\", \"0_9\", \"0_10\", \"0_11\", \"0_12\", \"0_13\", \"0_14\", \"0_15\", \"0_16\", \"0_17\", \"0_18\", \"0_19\", \"0_20\", \"0_21\", \"0_22\"]}, \"annotations\": [{\"x\": 1.18, \"y\": 0.72, \"xref\": \"paper\", \"yref\": \"paper\", \"text\": \"Sort By\", \"showarrow\": false, \"yanchor\": \"middle\"}], \"font\": {\"size\": 10}},\n",
              "  {\"showLink\": false}\n",
              ");\n",
              "});</script>"
            ]
          },
          "metadata": {},
          "output_type": "display_data"
        }
      ],
      "source": [
        "render(plot_fitted(models[0], metric=\"success_metric\", rel=False))"
      ]
    },
    {
      "cell_type": "markdown",
      "metadata": {},
      "source": [
        "## Plot 2: Predicted outcomes for arms in last trial"
      ]
    },
    {
      "cell_type": "markdown",
      "metadata": {},
      "source": [
        "The following plot below shows the mean and standard error for each arm that made it to the last trial (as well as the status quo, which appears throughout). "
      ]
    },
    {
      "cell_type": "code",
      "execution_count": 112,
      "metadata": {},
      "outputs": [
        {
          "data": {
            "text/html": [
              "<div id=\"5b0d3b0bc4a34a688664cd98822b1852\" style=\"width: 100%;\" class=\"plotly-graph-div\"></div><script type='text/javascript'>require(['plotly'], function(Plotly) {\n",
              "  window.PLOTLYENV = window.PLOTLYENV || {};\n",
              "  window.PLOTLYENV.BASE_URL = 'https://plot.ly';\n",
              "  Plotly.newPlot(\n",
              "  \"5b0d3b0bc4a34a688664cd98822b1852\",\n",
              "  [{\"type\": \"scatter\", \"x\": [\"0_13\", \"0_18\", \"0_21\", \"0_22\", \"status_quo\"], \"y\": [0.6736401673640168, 0.7230769230769231, 0.6888888888888889, 0.7210922262468654, 0.5867269984917044], \"marker\": {\"color\": \"rgba(128,177,211,1)\"}, \"mode\": \"markers\", \"name\": \"In-sample\", \"text\": [\"<b>Arm 0_13</b><br><br>success_metric: 0.674 [0.614, 0.733]<br><br><em>Parameterization:</em><br>factor1: level12<br>factor2: level22<br>factor3: level33\", \"<b>Arm 0_18</b><br><br>success_metric: 0.723 [0.668, 0.778]<br><br><em>Parameterization:</em><br>factor1: level13<br>factor2: level21<br>factor3: level34\", \"<b>Arm 0_21</b><br><br>success_metric: 0.689 [0.674, 0.704]<br><br><em>Parameterization:</em><br>factor1: level13<br>factor2: level22<br>factor3: level33\", \"<b>Arm 0_22</b><br><br>success_metric: 0.721 [0.706, 0.736]<br><br><em>Parameterization:</em><br>factor1: level13<br>factor2: level22<br>factor3: level34\", \"<b>Arm status_quo</b><br><br>success_metric: 0.587 [0.565, 0.608]<br><br><em>Parameterization:</em><br>factor1: level11<br>factor2: level21<br>factor3: level31\"], \"hoverinfo\": \"text\", \"error_y\": {\"type\": \"data\", \"array\": [0.05957851071960341, 0.054595661301599416, 0.014673988617594487, 0.01467616120752833, 0.021642241680292388], \"color\": \"rgba(128,177,211,0.4)\"}, \"visible\": true, \"legendgroup\": \"In-sample\", \"showlegend\": true}],\n",
              "  {\"title\": \"Predicted Outcomes\", \"hovermode\": \"closest\", \"updatemenus\": [{\"x\": 1.25, \"y\": 0.67, \"buttons\": [{\"args\": [{\"xaxis.categoryorder\": \"array\", \"xaxis.categoryarray\": [\"status_quo\", \"0_13\", \"0_18\", \"0_21\", \"0_22\"]}], \"label\": \"Name\", \"method\": \"relayout\"}, {\"args\": [{\"xaxis.categoryorder\": \"array\", \"xaxis.categoryarray\": [\"status_quo\", \"0_13\", \"0_21\", \"0_22\", \"0_18\"]}], \"label\": \"Effect Size\", \"method\": \"relayout\"}], \"yanchor\": \"middle\", \"xanchor\": \"left\"}], \"yaxis\": {\"zerolinecolor\": \"red\", \"title\": \"success_metric\"}, \"xaxis\": {\"tickangle\": 45, \"categoryorder\": \"array\", \"categoryarray\": [\"status_quo\", \"0_13\", \"0_18\", \"0_21\", \"0_22\"]}, \"annotations\": [{\"x\": 1.18, \"y\": 0.72, \"xref\": \"paper\", \"yref\": \"paper\", \"text\": \"Sort By\", \"showarrow\": false, \"yanchor\": \"middle\"}], \"font\": {\"size\": 10}},\n",
              "  {\"showLink\": false}\n",
              ");\n",
              "});</script>"
            ]
          },
          "metadata": {},
          "output_type": "display_data"
        }
      ],
      "source": [
        "render(plot_fitted(models[-1], metric=\"success_metric\", rel=False))"
      ]
    },
    {
      "cell_type": "markdown",
      "metadata": {},
      "source": [
        "<markdowncell>\n",
        "As expected given our evaluation function, arms with higher levels\n",
        "perform better and are given higher weight. Below we see the arms\n",
        "that made it to the final trial."
      ]
    },
    {
      "cell_type": "code",
      "execution_count": 113,
      "metadata": {
        "ExecuteTime": {
          "end_time": "2019-04-01T16:59:08.548754Z",
          "start_time": "2019-04-01T09:59:08.536758-07:00"
        }
      },
      "outputs": [
        {
          "name": "stdout",
          "output_type": "stream",
          "text": [
            "                    values    weight\n",
            "0  level13,level21,level34  0.388241\n",
            "1  level13,level22,level34  0.334525\n",
            "2  level12,level22,level33  0.027233\n",
            "3  level11,level21,level31  0.250000\n"
          ]
        }
      ],
      "source": [
        "results = pd.DataFrame(\n",
        "    [\n",
        "        {\"values\": \",\".join(arm.parameters.values()), \"weight\": weight}\n",
        "        for arm, weight in trial.normalized_arm_weights().items()\n",
        "    ]\n",
        ")\n",
        "print(results)"
      ]
    },
    {
      "cell_type": "markdown",
      "metadata": {},
      "source": [
        "## Plot 3: Rollout Process"
      ]
    },
    {
      "cell_type": "markdown",
      "metadata": {},
      "source": [
        "We can also visualize the progression of the experience in the following rollout chart. Each bar represents a trial, and the width of the bands within a bar are proportional to the weight of the arms in that trial. \n",
        "\n",
        "In the first trial, all arms appear with equal weight, except for the status quo. By the last trial, we have narrowed our focus to only four arms, with arm 0_22 (the arm with the highest levels) having the greatest weight."
      ]
    },
    {
      "cell_type": "code",
      "execution_count": 114,
      "metadata": {
        "ExecuteTime": {
          "end_time": "2019-04-01T16:59:08.569844Z",
          "start_time": "2019-04-01T09:59:08.550440-07:00"
        }
      },
      "outputs": [
        {
          "data": {
            "text/html": [
              "<div id=\"cb645c4611d2408faafe81e52cfef8d7\" style=\"width: 100%;\" class=\"plotly-graph-div\"></div><script type='text/javascript'>require(['plotly'], function(Plotly) {\n",
              "  window.PLOTLYENV = window.PLOTLYENV || {};\n",
              "  window.PLOTLYENV.BASE_URL = 'https://plot.ly';\n",
              "  const data = [{\"index\": 0, \"name\": \"status_quo\", \"x\": [\"Round 0\", \"Round 1\", \"Round 2\", \"Round 3\", \"Round 4\"], \"y\": [17.857142857142858, 12.5, 16.666666666666668, 20.0, 25.0], \"text\": [\"17.86%\", \"12.50%\", \"16.67%\", \"20.00%\", \"25.00%\"]}, {\"index\": 1, \"name\": \"0_0\", \"x\": [\"Round 0\"], \"y\": [3.5714285714285716], \"text\": [\"3.57%\"]}, {\"index\": 2, \"name\": \"0_1\", \"x\": [\"Round 0\"], \"y\": [3.5714285714285716], \"text\": [\"3.57%\"]}, {\"index\": 3, \"name\": \"0_2\", \"x\": [\"Round 0\"], \"y\": [3.5714285714285716], \"text\": [\"3.57%\"]}, {\"index\": 4, \"name\": \"0_3\", \"x\": [\"Round 0\"], \"y\": [3.5714285714285716], \"text\": [\"3.57%\"]}, {\"index\": 5, \"name\": \"0_4\", \"x\": [\"Round 0\"], \"y\": [3.5714285714285716], \"text\": [\"3.57%\"]}, {\"index\": 6, \"name\": \"0_5\", \"x\": [\"Round 0\", \"Round 1\", \"Round 2\"], \"y\": [3.5714285714285716, 1.1922995669166578, 5.743964252367616], \"text\": [\"3.57%\", \"1.19%\", \"5.74%\"]}, {\"index\": 7, \"name\": \"0_6\", \"x\": [\"Round 0\", \"Round 1\"], \"y\": [3.5714285714285716, 20.10272525615295], \"text\": [\"3.57%\", \"20.10%\"]}, {\"index\": 8, \"name\": \"0_7\", \"x\": [\"Round 0\"], \"y\": [3.5714285714285716], \"text\": [\"3.57%\"]}, {\"index\": 9, \"name\": \"0_8\", \"x\": [\"Round 0\"], \"y\": [3.5714285714285716], \"text\": [\"3.57%\"]}, {\"index\": 10, \"name\": \"0_9\", \"x\": [\"Round 0\"], \"y\": [3.5714285714285716], \"text\": [\"3.57%\"]}, {\"index\": 11, \"name\": \"0_10\", \"x\": [\"Round 0\"], \"y\": [3.5714285714285716], \"text\": [\"3.57%\"]}, {\"index\": 12, \"name\": \"0_11\", \"x\": [\"Round 0\"], \"y\": [3.5714285714285716], \"text\": [\"3.57%\"]}, {\"index\": 13, \"name\": \"0_12\", \"x\": [\"Round 0\"], \"y\": [3.5714285714285716], \"text\": [\"3.57%\"]}, {\"index\": 14, \"name\": \"0_13\", \"x\": [\"Round 0\", \"Round 1\", \"Round 2\", \"Round 3\", \"Round 4\"], \"y\": [3.5714285714285716, 3.207193408682793, 7.027811124449781, 2.7056233740244147, 2.7233169950985294], \"text\": [\"3.57%\", \"3.21%\", \"7.03%\", \"2.71%\", \"2.72%\"]}, {\"index\": 15, \"name\": \"0_14\", \"x\": [\"Round 0\", \"Round 1\"], \"y\": [3.5714285714285716, 2.8837012781240094], \"text\": [\"3.57%\", \"2.88%\"]}, {\"index\": 16, \"name\": \"0_15\", \"x\": [\"Round 0\"], \"y\": [3.5714285714285716], \"text\": [\"3.57%\"]}, {\"index\": 17, \"name\": \"0_16\", \"x\": [\"Round 0\"], \"y\": [3.5714285714285716], \"text\": [\"3.57%\"]}, {\"index\": 18, \"name\": \"0_17\", \"x\": [\"Round 0\"], \"y\": [3.5714285714285716], \"text\": [\"3.57%\"]}, {\"index\": 19, \"name\": \"0_18\", \"x\": [\"Round 0\", \"Round 1\", \"Round 2\", \"Round 3\", \"Round 4\"], \"y\": [3.5714285714285716, 11.266768775747334, 19.441109777244236, 2.753652191314789, 38.824147244173254], \"text\": [\"3.57%\", \"11.27%\", \"19.44%\", \"2.75%\", \"38.82%\"]}, {\"index\": 20, \"name\": \"0_19\", \"x\": [\"Round 0\"], \"y\": [3.5714285714285716], \"text\": [\"3.57%\"]}, {\"index\": 21, \"name\": \"0_20\", \"x\": [\"Round 0\"], \"y\": [3.5714285714285716], \"text\": [\"3.57%\"]}, {\"index\": 22, \"name\": \"0_21\", \"x\": [\"Round 0\", \"Round 1\", \"Round 2\", \"Round 3\"], \"y\": [3.5714285714285716, 31.11994295975494, 0.8503401360544219, 38.815289173504105], \"text\": [\"3.57%\", \"31.12%\", \"0.85%\", \"38.82%\"]}, {\"index\": 23, \"name\": \"0_22\", \"x\": [\"Round 0\", \"Round 1\", \"Round 2\", \"Round 3\", \"Round 4\"], \"y\": [3.5714285714285716, 17.727368754621317, 50.2701080432173, 35.7254352611567, 33.45253576072822], \"text\": [\"3.57%\", \"17.73%\", \"50.27%\", \"35.73%\", \"33.45%\"]}];\n",
              "const categories = [\"Round 0\", \"Round 1\", \"Round 2\", \"Round 3\", \"Round 4\"];\n",
              "const colors = [\"rgba(2,63,165,1)\", \"rgba(125,135,185,1)\", \"rgba(190,193,212,1)\", \"rgba(214,188,192,1)\", \"rgba(187,119,132,1)\", \"rgba(142,6,59,1)\", \"rgba(74,111,227,1)\", \"rgba(133,149,225,1)\", \"rgba(181,187,227,1)\", \"rgba(230,175,185,1)\", \"rgba(224,123,145,1)\", \"rgba(211,63,106,1)\", \"rgba(17,198,56,1)\", \"rgba(141,213,147,1)\", \"rgba(198,222,199,1)\", \"rgba(234,211,198,1)\", \"rgba(240,185,141,1)\", \"rgba(239,151,8,1)\", \"rgba(15,207,192,1)\", \"rgba(156,222,214,1)\", \"rgba(213,234,231,1)\", \"rgba(243,225,235,1)\", \"rgba(246,196,225,1)\", \"rgba(247,156,212,1)\"];\n",
              "\n",
              "layout = {\n",
              "    title: \"Rollout Process<br>Bandit Weight Graph\",\n",
              "    xaxis: {\n",
              "      title: \"Rounds\",\n",
              "      zeroline: false,\n",
              "      categoryorder: \"array\",\n",
              "      categoryarray: categories\n",
              "    },\n",
              "    yaxis: {\n",
              "      title: \"Percent\",\n",
              "      showline: false\n",
              "    },\n",
              "    barmode: \"stack\",\n",
              "    showlegend: false,\n",
              "    margin: {\n",
              "      r: 40\n",
              "    }\n",
              "}\n",
              "\n",
              "bandit_config = {\n",
              "    type: \"bar\",\n",
              "    hoverinfo: \"name+text\",\n",
              "    width: 0.5\n",
              "}\n",
              "\n",
              "bandits = [];\n",
              "data.map(d => {\n",
              "  bandits.push({\n",
              "    ...bandit_config,\n",
              "    ...d,\n",
              "    marker: {\n",
              "      color: colors[d.index % colors.length]\n",
              "    }\n",
              "  })\n",
              "});\n",
              "\n",
              "Plotly.newPlot(\"cb645c4611d2408faafe81e52cfef8d7\", bandits, layout, {showLink: false});\n",
              "});</script>"
            ]
          },
          "metadata": {},
          "output_type": "display_data"
        }
      ],
      "source": [
        "from ax.plot.bandit_rollout import plot_bandit_rollout\n",
        "from ax.utils.notebook.plotting import render\n",
        "\n",
        "render(plot_bandit_rollout(exp))"
      ]
    },
    {
      "cell_type": "markdown",
      "metadata": {},
      "source": [
        "## Plot 4: Marginal Effects"
      ]
    },
    {
      "cell_type": "markdown",
      "metadata": {},
      "source": [
        "Finally, we can examine which parameter values had the greatest effect on the overall arm value. As we see in the diagram below, arms whose parameters were assigned the lower level values (such as `levell1`, `levell2`, `level31` and `level32`) performed worse than average, whereas arms with higher levels performed better than average."
      ]
    },
    {
      "cell_type": "code",
      "execution_count": 115,
      "metadata": {
        "ExecuteTime": {
          "end_time": "2019-04-01T17:03:56.645223Z",
          "start_time": "2019-04-01T10:03:56.563655-07:00"
        }
      },
      "outputs": [
        {
          "data": {
            "text/html": [
              "<div id=\"3d30e0d98498449093dd1649239ed3ff\" style=\"width: 100%;\" class=\"plotly-graph-div\"></div><script type='text/javascript'>require(['plotly'], function(Plotly) {\n",
              "  window.PLOTLYENV = window.PLOTLYENV || {};\n",
              "  window.PLOTLYENV.BASE_URL = 'https://plot.ly';\n",
              "  Plotly.newPlot(\n",
              "  \"3d30e0d98498449093dd1649239ed3ff\",\n",
              "  [{\"type\": \"bar\", \"x\": [\"level11\", \"level12\", \"level13\"], \"y\": [-3.808736877589343, 1.0998128175207422, 4.369594359844274], \"error_y\": {\"type\": \"data\", \"array\": [1.1762177061722978, 1.416682866771819, 1.4077170349487353]}, \"name\": \"factor1\", \"xaxis\": \"x1\", \"yaxis\": \"y1\"}, {\"type\": \"bar\", \"x\": [\"level21\", \"level22\"], \"y\": [-2.902003051258524, 3.8020321935593717], \"error_y\": {\"type\": \"data\", \"array\": [1.010832542117102, 1.1570119771897904]}, \"name\": \"factor2\", \"xaxis\": \"x2\", \"yaxis\": \"y1\"}, {\"type\": \"bar\", \"x\": [\"level31\", \"level32\", \"level33\", \"level34\"], \"y\": [-6.052118841176419, 0.4468332340075569, 3.161277449601332, 5.810539272994009], \"error_y\": {\"type\": \"data\", \"array\": [1.2942628858219891, 1.6541335756698714, 1.6398069831636397, 1.5984996597225531]}, \"name\": \"factor3\", \"xaxis\": \"x3\", \"yaxis\": \"y1\"}],\n",
              "  {\"xaxis1\": {\"domain\": [0.0, 0.2888888888888889], \"anchor\": \"y1\"}, \"yaxis1\": {\"domain\": [0.0, 1.0], \"anchor\": \"x1\"}, \"xaxis2\": {\"domain\": [0.35555555555555557, 0.6444444444444445], \"anchor\": \"free\", \"position\": 0.0}, \"xaxis3\": {\"domain\": [0.7111111111111111, 1.0], \"anchor\": \"free\", \"position\": 0.0}, \"annotations\": [{\"y\": 1.0, \"xref\": \"paper\", \"x\": 0.14444444444444443, \"yref\": \"paper\", \"text\": \"factor1\", \"showarrow\": false, \"font\": {\"size\": 16}, \"xanchor\": \"center\", \"yanchor\": \"bottom\"}, {\"y\": 1.0, \"xref\": \"paper\", \"x\": 0.49999999999999994, \"yref\": \"paper\", \"text\": \"factor2\", \"showarrow\": false, \"font\": {\"size\": 16}, \"xanchor\": \"center\", \"yanchor\": \"bottom\"}, {\"y\": 1.0, \"xref\": \"paper\", \"x\": 0.8555555555555554, \"yref\": \"paper\", \"text\": \"factor3\", \"showarrow\": false, \"font\": {\"size\": 16}, \"xanchor\": \"center\", \"yanchor\": \"bottom\"}], \"showlegend\": false, \"title\": \"Marginal Effects by Factor\", \"yaxis\": {\"title\": \"% better than experiment average\", \"hoverformat\": \".3f\"}},\n",
              "  {\"showLink\": false}\n",
              ");\n",
              "});</script>"
            ]
          },
          "metadata": {},
          "output_type": "display_data"
        }
      ],
      "source": [
        "from ax.plot.marginal_effects import plot_marginal_effects\n",
        "render(plot_marginal_effects(models[0], 'success_metric'))"
      ]
    }
  ],
  "metadata": {
    "kernelspec": {
      "display_name": "python3",
      "language": "python",
      "name": "python3"
    }
  },
  "nbformat": 4,
  "nbformat_minor": 2
}
